{
 "cells": [
  {
   "cell_type": "markdown",
   "metadata": {
    "toc": true
   },
   "source": [
    "<h1>Table of Contents<span class=\"tocSkip\"></span></h1>\n",
    "<div class=\"toc\"><ul class=\"toc-item\"><li><span><a href=\"#Python-Setup\" data-toc-modified-id=\"Python-Setup-1\"><span class=\"toc-item-num\">1&nbsp;&nbsp;</span>Python Setup</a></span><ul class=\"toc-item\"><li><span><a href=\"#Change-the-width-of-the-page\" data-toc-modified-id=\"Change-the-width-of-the-page-1.1\"><span class=\"toc-item-num\">1.1&nbsp;&nbsp;</span>Change the width of the page</a></span></li><li><span><a href=\"#Import-packages\" data-toc-modified-id=\"Import-packages-1.2\"><span class=\"toc-item-num\">1.2&nbsp;&nbsp;</span>Import packages</a></span></li></ul></li><li><span><a href=\"#Colours\" data-toc-modified-id=\"Colours-2\"><span class=\"toc-item-num\">2&nbsp;&nbsp;</span>Colours</a></span><ul class=\"toc-item\"><li><span><a href=\"#Colour-line-graph\" data-toc-modified-id=\"Colour-line-graph-2.1\"><span class=\"toc-item-num\">2.1&nbsp;&nbsp;</span>Colour line graph</a></span></li></ul></li><li><span><a href=\"#Totals-and-Markers-for-Studies\" data-toc-modified-id=\"Totals-and-Markers-for-Studies-3\"><span class=\"toc-item-num\">3&nbsp;&nbsp;</span>Totals and Markers for Studies</a></span></li><li><span><a href=\"#Mutation-rates\" data-toc-modified-id=\"Mutation-rates-4\"><span class=\"toc-item-num\">4&nbsp;&nbsp;</span>Mutation rates</a></span></li><li><span><a href=\"#Font-sizes\" data-toc-modified-id=\"Font-sizes-5\"><span class=\"toc-item-num\">5&nbsp;&nbsp;</span>Font sizes</a></span></li><li><span><a href=\"#Theory-curve-equations\" data-toc-modified-id=\"Theory-curve-equations-6\"><span class=\"toc-item-num\">6&nbsp;&nbsp;</span>Theory curve equations</a></span></li><li><span><a href=\"#VAF-data\" data-toc-modified-id=\"VAF-data-7\"><span class=\"toc-item-num\">7&nbsp;&nbsp;</span>VAF data</a></span><ul class=\"toc-item\"><li><span><a href=\"#Jaiswal-2014\" data-toc-modified-id=\"Jaiswal-2014-7.1\"><span class=\"toc-item-num\">7.1&nbsp;&nbsp;</span>Jaiswal 2014</a></span></li><li><span><a href=\"#Genovese-2014\" data-toc-modified-id=\"Genovese-2014-7.2\"><span class=\"toc-item-num\">7.2&nbsp;&nbsp;</span>Genovese 2014</a></span></li><li><span><a href=\"#Zink-WGS-2017\" data-toc-modified-id=\"Zink-WGS-2017-7.3\"><span class=\"toc-item-num\">7.3&nbsp;&nbsp;</span>Zink WGS 2017</a></span></li><li><span><a href=\"#Acuna-Hidalgo-2017\" data-toc-modified-id=\"Acuna-Hidalgo-2017-7.4\"><span class=\"toc-item-num\">7.4&nbsp;&nbsp;</span>Acuna-Hidalgo 2017</a></span></li><li><span><a href=\"#Coombs-2017\" data-toc-modified-id=\"Coombs-2017-7.5\"><span class=\"toc-item-num\">7.5&nbsp;&nbsp;</span>Coombs 2017</a></span></li><li><span><a href=\"#McKerrel-2015\" data-toc-modified-id=\"McKerrel-2015-7.6\"><span class=\"toc-item-num\">7.6&nbsp;&nbsp;</span>McKerrel 2015</a></span></li><li><span><a href=\"#Young-2016\" data-toc-modified-id=\"Young-2016-7.7\"><span class=\"toc-item-num\">7.7&nbsp;&nbsp;</span>Young 2016</a></span></li><li><span><a href=\"#Young-2019\" data-toc-modified-id=\"Young-2019-7.8\"><span class=\"toc-item-num\">7.8&nbsp;&nbsp;</span>Young 2019</a></span></li><li><span><a href=\"#Desai-2018\" data-toc-modified-id=\"Desai-2018-7.9\"><span class=\"toc-item-num\">7.9&nbsp;&nbsp;</span>Desai 2018</a></span></li></ul></li><li><span><a href=\"#Trimming-the-data\" data-toc-modified-id=\"Trimming-the-data-8\"><span class=\"toc-item-num\">8&nbsp;&nbsp;</span>Trimming the data</a></span><ul class=\"toc-item\"><li><span><a href=\"#All-variants-trimmed\" data-toc-modified-id=\"All-variants-trimmed-8.1\"><span class=\"toc-item-num\">8.1&nbsp;&nbsp;</span>All variants trimmed</a></span></li><li><span><a href=\"#DNMT3A-R882H-trimmed-data\" data-toc-modified-id=\"DNMT3A-R882H-trimmed-data-8.2\"><span class=\"toc-item-num\">8.2&nbsp;&nbsp;</span>DNMT3A R882H trimmed data</a></span></li><li><span><a href=\"#Trimmed-data-for-DNMT3A-missense-and-nonsense-variants-(not-including-R882H)\" data-toc-modified-id=\"Trimmed-data-for-DNMT3A-missense-and-nonsense-variants-(not-including-R882H)-8.3\"><span class=\"toc-item-num\">8.3&nbsp;&nbsp;</span>Trimmed data for DNMT3A missense and nonsense variants (not including R882H)</a></span></li><li><span><a href=\"#Trimmed-data-for-synonymous-variants-(in-all-genes)\" data-toc-modified-id=\"Trimmed-data-for-synonymous-variants-(in-all-genes)-8.4\"><span class=\"toc-item-num\">8.4&nbsp;&nbsp;</span>Trimmed data for synonymous variants (in all genes)</a></span></li></ul></li><li><span><a href=\"#Plotting-the-histograms\" data-toc-modified-id=\"Plotting-the-histograms-9\"><span class=\"toc-item-num\">9&nbsp;&nbsp;</span>Plotting the histograms</a></span><ul class=\"toc-item\"><li><span><a href=\"#Functions-for-plotting-histograms\" data-toc-modified-id=\"Functions-for-plotting-histograms-9.1\"><span class=\"toc-item-num\">9.1&nbsp;&nbsp;</span>Functions for plotting histograms</a></span></li><li><span><a href=\"#Generate-lists-of-normalised-VAFs-&amp;-normalised-densities-for-maximum-likelihood-estimations\" data-toc-modified-id=\"Generate-lists-of-normalised-VAFs-&amp;-normalised-densities-for-maximum-likelihood-estimations-9.2\"><span class=\"toc-item-num\">9.2&nbsp;&nbsp;</span>Generate lists of normalised VAFs &amp; normalised densities for maximum likelihood estimations</a></span></li><li><span><a href=\"#Maxmimum-Likelihood-Estimations\" data-toc-modified-id=\"Maxmimum-Likelihood-Estimations-9.3\"><span class=\"toc-item-num\">9.3&nbsp;&nbsp;</span>Maxmimum Likelihood Estimations</a></span><ul class=\"toc-item\"><li><span><a href=\"#DNMT3A-R882H\" data-toc-modified-id=\"DNMT3A-R882H-9.3.1\"><span class=\"toc-item-num\">9.3.1&nbsp;&nbsp;</span>DNMT3A R882H</a></span></li><li><span><a href=\"#DNMT3A-nonsynonymous-variants\" data-toc-modified-id=\"DNMT3A-nonsynonymous-variants-9.3.2\"><span class=\"toc-item-num\">9.3.2&nbsp;&nbsp;</span>DNMT3A nonsynonymous variants</a></span></li><li><span><a href=\"#Synonymous-variants-(in-any-gene)\" data-toc-modified-id=\"Synonymous-variants-(in-any-gene)-9.3.3\"><span class=\"toc-item-num\">9.3.3&nbsp;&nbsp;</span>Synonymous variants (in any gene)</a></span><ul class=\"toc-item\"><li><span><a href=\"#Including-all-synonymous-variants-in-the-MLE\" data-toc-modified-id=\"Including-all-synonymous-variants-in-the-MLE-9.3.3.1\"><span class=\"toc-item-num\">9.3.3.1&nbsp;&nbsp;</span>Including all synonymous variants in the MLE</a></span></li><li><span><a href=\"#Including-only-synonymous-variants-with-VAF-&lt;0.25%-in-the-MLE\" data-toc-modified-id=\"Including-only-synonymous-variants-with-VAF-<0.25%-in-the-MLE-9.3.3.2\"><span class=\"toc-item-num\">9.3.3.2&nbsp;&nbsp;</span>Including only synonymous variants with VAF &lt;0.25% in the MLE</a></span></li></ul></li><li><span><a href=\"#Hitchhiker-variants\" data-toc-modified-id=\"Hitchhiker-variants-9.3.4\"><span class=\"toc-item-num\">9.3.4&nbsp;&nbsp;</span>Hitchhiker variants</a></span></li></ul></li><li><span><a href=\"#Histograms\" data-toc-modified-id=\"Histograms-9.4\"><span class=\"toc-item-num\">9.4&nbsp;&nbsp;</span>Histograms</a></span><ul class=\"toc-item\"><li><span><a href=\"#DNMT3A-R882H\" data-toc-modified-id=\"DNMT3A-R882H-9.4.1\"><span class=\"toc-item-num\">9.4.1&nbsp;&nbsp;</span>DNMT3A R882H</a></span></li><li><span><a href=\"#DNMT3A-nonsynonymous-variants-(excluding-DNMT3A-R882H)\" data-toc-modified-id=\"DNMT3A-nonsynonymous-variants-(excluding-DNMT3A-R882H)-9.4.2\"><span class=\"toc-item-num\">9.4.2&nbsp;&nbsp;</span>DNMT3A nonsynonymous variants (excluding DNMT3A R882H)</a></span></li><li><span><a href=\"#Synonymous-variants-(in-any-gene)---MLE-using-all-the-data\" data-toc-modified-id=\"Synonymous-variants-(in-any-gene)---MLE-using-all-the-data-9.4.3\"><span class=\"toc-item-num\">9.4.3&nbsp;&nbsp;</span>Synonymous variants (in any gene) - MLE using all the data</a></span></li><li><span><a href=\"#Synonymous-variants-(in-any-gene)---MLE-including-only-variants-with-VAF-&lt;0.25%\" data-toc-modified-id=\"Synonymous-variants-(in-any-gene)---MLE-including-only-variants-with-VAF-<0.25%-9.4.4\"><span class=\"toc-item-num\">9.4.4&nbsp;&nbsp;</span>Synonymous variants (in any gene) - MLE including only variants with VAF &lt;0.25%</a></span></li><li><span><a href=\"#Hitchhiker-variants\" data-toc-modified-id=\"Hitchhiker-variants-9.4.5\"><span class=\"toc-item-num\">9.4.5&nbsp;&nbsp;</span>Hitchhiker variants</a></span><ul class=\"toc-item\"><li><span><a href=\"#other-parameter-combinations-on-the-red-line-in-the-MLE-heatmap-plot\" data-toc-modified-id=\"other-parameter-combinations-on-the-red-line-in-the-MLE-heatmap-plot-9.4.5.1\"><span class=\"toc-item-num\">9.4.5.1&nbsp;&nbsp;</span>other parameter combinations on the red line in the MLE heatmap plot</a></span></li></ul></li><li><span><a href=\"#DNMT3A-R882H,-DNMT3A-nonsynonymous,-all-synonymous-variants-(Figure-1e)\" data-toc-modified-id=\"DNMT3A-R882H,-DNMT3A-nonsynonymous,-all-synonymous-variants-(Figure-1e)-9.4.6\"><span class=\"toc-item-num\">9.4.6&nbsp;&nbsp;</span>DNMT3A R882H, DNMT3A nonsynonymous, all synonymous variants (Figure 1e)</a></span></li></ul></li></ul></li></ul></div>"
   ]
  },
  {
   "cell_type": "markdown",
   "metadata": {},
   "source": [
    "# Python Setup"
   ]
  },
  {
   "cell_type": "markdown",
   "metadata": {},
   "source": [
    "## Change the width of the page"
   ]
  },
  {
   "cell_type": "code",
   "execution_count": 1,
   "metadata": {},
   "outputs": [
    {
     "data": {
      "text/html": [
       "<style>.container { width:80% !important; }</style>"
      ],
      "text/plain": [
       "<IPython.core.display.HTML object>"
      ]
     },
     "metadata": {},
     "output_type": "display_data"
    }
   ],
   "source": [
    "from IPython.core.display import display, HTML\n",
    "display(HTML(\"<style>.container { width:80% !important; }</style>\"))"
   ]
  },
  {
   "cell_type": "markdown",
   "metadata": {},
   "source": [
    "## Import packages"
   ]
  },
  {
   "cell_type": "code",
   "execution_count": 2,
   "metadata": {
    "code_folding": []
   },
   "outputs": [],
   "source": [
    "# imported packages\n",
    "import random\n",
    "import numpy as np\n",
    "import matplotlib\n",
    "import matplotlib.pyplot as plt\n",
    "import math\n",
    "import matplotlib.ticker as plticker\n",
    "from matplotlib.ticker import LinearLocator, FormatStrFormatter\n",
    "from matplotlib.patches import Polygon\n",
    "from matplotlib.patches import Patch\n",
    "from matplotlib.lines import Line2D\n",
    "from matplotlib import cm\n",
    "import scipy.special\n",
    "import scipy.integrate as it\n",
    "from scipy import integrate\n",
    "from scipy.interpolate import interp1d\n",
    "from scipy.stats import kde\n",
    "import copy\n",
    "import glob, os\n",
    "import re\n",
    "from sklearn import datasets, linear_model\n",
    "import pandas as pd\n",
    "from decimal import *\n",
    "from operator import itemgetter    \n",
    "from collections import OrderedDict\n",
    "import timeit"
   ]
  },
  {
   "cell_type": "markdown",
   "metadata": {},
   "source": [
    "# Colours"
   ]
  },
  {
   "cell_type": "code",
   "execution_count": 3,
   "metadata": {
    "code_folding": []
   },
   "outputs": [],
   "source": [
    "# Lists of colors for plots\n",
    "c0 = (0.76, 0.76, 0.76)\n",
    "c1 = (1.00, 0.18, 0.33);\n",
    "c2 = (1.00, 0.23, 0.19);\n",
    "c3 = (1.00, 0.58, 0.00);\n",
    "c4 = (1.00, 0.80, 0.00);\n",
    "c5 = (0.30, 0.85, 0.39);\n",
    "c6 = (0.35, 0.78, 0.98);\n",
    "c7 = (0.20, 0.67, 0.86);\n",
    "c8 = (0.00, 0.48, 1.00);\n",
    "c9 = (0.35, 0.34, 0.84);\n",
    "c10 = (0.00, 0.31, 0.57);\n",
    "c11 = (0.12, 0.29, 0.69);\n",
    "c12 = (0.17, 0.17, 0.42);\n",
    "c13 = (1.00, 1.00, 1.00);\n",
    "c14 = (0.77, 0.04, 0.00);"
   ]
  },
  {
   "cell_type": "code",
   "execution_count": 4,
   "metadata": {
    "code_folding": [
     0
    ]
   },
   "outputs": [],
   "source": [
    "#define the colors from colorbrewer2\n",
    "orange1 = '#feedde'\n",
    "orange2 = '#fdbe85'\n",
    "orange3 = '#fd8d3c'\n",
    "orange4 = '#e6550d'\n",
    "orange5 = '#a63603'\n",
    "blue1 = '#eff3ff'\n",
    "blue2 = '#bdd7e7'\n",
    "blue3 = '#6baed6'\n",
    "blue4 = '#3182bd'\n",
    "blue5 = '#08519c'\n",
    "green1 = '#edf8e9'\n",
    "green2 = '#bae4b3'\n",
    "green3 = '#74c476'\n",
    "green4 = '#31a354'\n",
    "green5 = '#006d2c'\n",
    "grey1 = '#f7f7f7'\n",
    "grey2 = '#cccccc'\n",
    "grey3 = '#969696'\n",
    "grey4 = '#636363'\n",
    "grey5 = '#252525'\n",
    "purple1 = '#f2f0f7'\n",
    "purple2 = '#cbc9e2'\n",
    "purple3 = '#9e9ac8'\n",
    "purple4 = '#756bb1'\n",
    "purple5 = '#54278f'\n",
    "red1 = '#fee5d9'\n",
    "red2 = '#fcae91'\n",
    "red3 = '#fb6a4a'\n",
    "red4 = '#de2d26'\n",
    "red5 = '#a50f15'\n",
    "# yellow = '#ffffd4'"
   ]
  },
  {
   "cell_type": "code",
   "execution_count": 5,
   "metadata": {},
   "outputs": [],
   "source": [
    "#Colors\n",
    "DNMT3A_color = 'dodgerblue'\n",
    "R882_color = c1\n",
    "neutralcolor = c3"
   ]
  },
  {
   "cell_type": "markdown",
   "metadata": {},
   "source": [
    "## Colour line graph"
   ]
  },
  {
   "cell_type": "code",
   "execution_count": 6,
   "metadata": {
    "code_folding": [
     0
    ]
   },
   "outputs": [
    {
     "data": {
      "image/png": "[encoded data removed]",
      "text/plain": [
       "<Figure size 720x360 with 1 Axes>"
      ]
     },
     "metadata": {
      "needs_background": "light"
     },
     "output_type": "display_data"
    }
   ],
   "source": [
    "#Colour graph\n",
    "import matplotlib.pyplot as plt\n",
    "plt.close('all')\n",
    "f, (col) = plt.subplots(1, 1, sharey=True, figsize=(10, 5))\n",
    "col.set_xlim(1, 5)\n",
    "col.set_ylim(-0.5,15)\n",
    "col.set_title('Colours')\n",
    "\n",
    "x_major_ticks = [1, 5]\n",
    "x_major_tick_labels = [\"\", \"\"]\n",
    "col.set_xticks(x_major_ticks)\n",
    "col.set_xticklabels(x_major_tick_labels)\n",
    "\n",
    "y_major_ticks = [0, 1, 2, 3, 4, 5, 6, 7, 8, 9, 10, 11, 12, 13, 14]\n",
    "y_major_tick_labels = [\"c0\", \"c1\", \"c2\", \"c3\", \"c4\", \"c5\", \"c6\", \"c7\", \"c8\", \"c9\", \"c10\", \"c11\", \"c12\", \"c13\", \"c14\"]\n",
    "col.set_yticks(y_major_ticks)\n",
    "col.set_yticklabels(y_major_tick_labels)\n",
    " \n",
    "# c0 points\n",
    "x0 = [1,5]\n",
    "y0 = [0,0]\n",
    "# plotting the c1 points \n",
    "plt.plot(x0, y0, label = \"c0\", color=c0)\n",
    " \n",
    "# c1 points\n",
    "x1 = [1,5]\n",
    "y1 = [1,1]\n",
    "# plotting the c1 points \n",
    "plt.plot(x1, y1, label = \"c1\", color=c1)\n",
    "\n",
    "# c2 points\n",
    "x2 = [1,5]\n",
    "y2 = [2,2]\n",
    "# plotting the c2 points \n",
    "plt.plot(x2, y2, label = \"c2\", color=c2)\n",
    "\n",
    "# c3 points\n",
    "x3 = [1,5]\n",
    "y3 = [3,3]\n",
    "# plotting the c3 points \n",
    "plt.plot(x3, y3, label = \"c3\", color=c3)\n",
    "\n",
    "# c4 points\n",
    "x4 = [1,5]\n",
    "y4 = [4, 4]\n",
    "# plotting the c4 points \n",
    "plt.plot(x4, y4, label = \"c4\", color=c4)\n",
    "\n",
    "# c5 points\n",
    "x5 = [1,5]\n",
    "y5 = [5, 5]\n",
    "# plotting the c5 points \n",
    "plt.plot(x5, y5, label = \"c5\", color=c5)\n",
    "\n",
    "# c6 points\n",
    "x6 = [1,5]\n",
    "y6 = [6, 6]\n",
    "# plotting the c6 points \n",
    "plt.plot(x6, y6, label = \"c6\", color=c6)\n",
    "\n",
    "# c7 points\n",
    "x7 = [1,5]\n",
    "y7 = [7, 7]\n",
    "# plotting the c7 points \n",
    "plt.plot(x7, y7, label = \"c7\", color=c7)\n",
    "\n",
    "# c8 points\n",
    "x8 = [1,5]\n",
    "y8 = [8, 8]\n",
    "# plotting the c8 points \n",
    "plt.plot(x8, y8, label = \"c8\", color=c8)\n",
    "\n",
    "# c9 points\n",
    "x9 = [1,5]\n",
    "y9 = [9, 9]\n",
    "# plotting the c9 points \n",
    "plt.plot(x9, y9, label = \"c9\", color=c9)\n",
    "\n",
    "# c10 points\n",
    "x10 = [1,5]\n",
    "y10 = [10, 10]\n",
    "# plotting the c4 points \n",
    "plt.plot(x10, y10, label = \"c10\", color=c10)\n",
    "\n",
    "# c11 points\n",
    "x11 = [1,5]\n",
    "y11 = [11, 11]\n",
    "# plotting the c11 points \n",
    "plt.plot(x11, y11, label = \"c11\", color=c11)\n",
    "\n",
    "# c12 points\n",
    "x12 = [1,5]\n",
    "y12 = [12, 12]\n",
    "# plotting the c12 points \n",
    "plt.plot(x12, y12, label = \"c12\", color=c12)\n",
    "\n",
    "# c13 points\n",
    "x13 = [1,5]\n",
    "y13 = [13, 13]\n",
    "# plotting the c13 points \n",
    "plt.plot(x13, y13, label = \"c13\", color=c13)\n",
    "\n",
    "# c14 points\n",
    "x14 = [1,5]\n",
    "y14 = [14, 14]\n",
    "# plotting the c14 points \n",
    "plt.plot(x14, y14, label = \"c14\", color=c14)\n",
    "\n",
    "# # show a legend on the plot\n",
    "# plt.legend()\n",
    " \n",
    "# function to show the plot\n",
    "plt.show()"
   ]
  },
  {
   "cell_type": "markdown",
   "metadata": {},
   "source": [
    "# Totals and Markers for Studies"
   ]
  },
  {
   "cell_type": "code",
   "execution_count": 7,
   "metadata": {},
   "outputs": [],
   "source": [
    "#Number of individuals in each study\n",
    "Jaiswaltotal = 17182\n",
    "Genovesetotal = 12380\n",
    "McKerreltotal = 4219\n",
    "Youngtotal = 20\n",
    "Young2019totalcontrols = 69 #controls only\n",
    "ZinkWGStotal = 11262\n",
    "Acunatotal = 2006\n",
    "Coombstotal = 1591 #chemotherapy and radiotherapy naive individuals\n",
    "Desaitotal = 181 #controls only"
   ]
  },
  {
   "cell_type": "code",
   "execution_count": 8,
   "metadata": {},
   "outputs": [],
   "source": [
    "#Markers used to represent each study\n",
    "Jaiswalmarker = 'o' #circle\n",
    "Genovesemarker = 'd' #narrow diamond\n",
    "Mckerrelmarker = 'D' #square diamond\n",
    "Zinkmarker = '^' #triangle (with peak at top)\n",
    "Acunamarker = 'P' #plus sign\n",
    "Coombsmarker = 'v' #triangle (with peak at the bottom)\n",
    "Youngmarker = 'p' #pentagon\n",
    "Desaimarker = '*' #star"
   ]
  },
  {
   "cell_type": "code",
   "execution_count": 9,
   "metadata": {},
   "outputs": [],
   "source": [
    "#Colors\n",
    "DNMT3A_color = 'dodgerblue'\n",
    "R882_color = c1\n",
    "neutralcolor = c3"
   ]
  },
  {
   "cell_type": "markdown",
   "metadata": {},
   "source": [
    "# Mutation rates"
   ]
  },
  {
   "cell_type": "code",
   "execution_count": 10,
   "metadata": {},
   "outputs": [],
   "source": [
    "# DNMT3A R882H mutation rate\n",
    "R882H_mu = 1.88229e-08"
   ]
  },
  {
   "cell_type": "code",
   "execution_count": 11,
   "metadata": {
    "code_folding": []
   },
   "outputs": [],
   "source": [
    "# DNMT3A missense and nonsense variants mutation rates\n",
    "Jaiswal_DNMT3A_mu =8.94E-07\n",
    "Genovese_DNMT3A_mu = 6.13E-06\n",
    "Acuna_DNMT3A_mu = 8.19E-07\n",
    "Zink_DNMT3A_mu = 1.60E-06\n",
    "Coombs_DNMT3A_mu = 8.47E-06\n",
    "McKerrel_DNMT3A_mu = 3.63E-08\n",
    "Young_DNMT3A_mu = 8.47E-06\n",
    "Desai_DNMT3A_mu = 8.47E-06"
   ]
  },
  {
   "cell_type": "code",
   "execution_count": 12,
   "metadata": {
    "code_folding": []
   },
   "outputs": [],
   "source": [
    "# Synonymous variants mutation rates\n",
    "Young_synonymous_mu = 8.50E-05\n",
    "Acuna_synonymous_mu = 2.73E-06"
   ]
  },
  {
   "cell_type": "markdown",
   "metadata": {},
   "source": [
    "# Font sizes"
   ]
  },
  {
   "cell_type": "code",
   "execution_count": 13,
   "metadata": {},
   "outputs": [],
   "source": [
    "axisfont=13\n",
    "titlefont=20\n",
    "subtitlefont = 15\n",
    "axislabelfont=15\n",
    "legendfont = 11\n",
    "tpfont = 12"
   ]
  },
  {
   "cell_type": "markdown",
   "metadata": {},
   "source": [
    "# Theory curve equations"
   ]
  },
  {
   "cell_type": "markdown",
   "metadata": {
    "code_folding": []
   },
   "source": [
    "**linear scale:**\n",
    "<br>\n",
    "``y_theory = [binwidth*(theta/(f*(1-(2*f)))*np.exp(-(f)/(phi*(1-(2*f))))) for f in x_theory]``\n",
    "<br>\n",
    "<br>\n",
    "**log scale:**\n",
    "<br>\n",
    "``y_theory = [binwidth*(theta)/(1-(2*(np.exp(l)))))*np.exp(-(np.exp(l))/(phi*(1-(2*(np.exp(l)))))) for l in x_theory]``"
   ]
  },
  {
   "cell_type": "markdown",
   "metadata": {},
   "source": [
    "where ``phi = (e^st)-1)/(2NS)``"
   ]
  },
  {
   "cell_type": "markdown",
   "metadata": {
    "collapsed": true
   },
   "source": [
    "# VAF data"
   ]
  },
  {
   "cell_type": "markdown",
   "metadata": {},
   "source": [
    "## Jaiswal 2014"
   ]
  },
  {
   "cell_type": "code",
   "execution_count": 14,
   "metadata": {
    "code_folding": [
     0
    ]
   },
   "outputs": [],
   "source": [
    "# DNMT3A nonsynonymous variants - create a dictionary of all the DNMT3A missense and nonsense variants (with row_count as key)\n",
    "import csv\n",
    "filename=\"Data files/Jaiswal_2014_SNVs.csv\" #CSV file containing only the SNVs reported in Jaiswal 2014\n",
    "\n",
    "with open(filename, 'r') as csvfile:\n",
    "    read_reader = csv.reader(csvfile) #csv.reader returns a reader object which will iterate over lines in the csvfile\n",
    "    row_count=0\n",
    "    Jaiswal_DNMT3A_missense_nonsense={} #dictionary of DNMTA missense and nonsense results\n",
    "    Jaiswal_all_missense_nonsense={}\n",
    "\n",
    "    for row in read_reader:\n",
    "        if row_count>0: #ignore the header of the CSV file\n",
    "            Jaiswal_all_missense_nonsense[row_count]=(row[13], row[0], row[7], row[10]) #ID, GENE, VARIANT, VAF\n",
    "            if row[0]=='DNMT3A': #only look at the DNMT3A results\n",
    "                VAF = row[10] #VAF\n",
    "                ID = row[13] #participant ID\n",
    "                mutation_type = row[6] #whether the variant is missense or nonsense or synonymous\n",
    "                AA = row[7] #AA change, e.g. V617F\n",
    "                if mutation_type == 'nonsense':\n",
    "                    Jaiswal_DNMT3A_missense_nonsense[row_count]=(ID, VAF, mutation_type, AA)\n",
    "                if mutation_type == 'missense':\n",
    "                    Jaiswal_DNMT3A_missense_nonsense[row_count]=(ID, VAF, mutation_type, AA)\n",
    "\n",
    "        row_count=row_count+1\n",
    "\n",
    "Jaiswal_DNMT3A_missense_nonsense_sorted = sorted(Jaiswal_DNMT3A_missense_nonsense.items(), key=lambda x: x[1][1], reverse=True)\n",
    "\n",
    "#R882 dictionaries\n",
    "Jaiswal_DNMT3A_R882H = {}\n",
    "\n",
    "for (k, v) in Jaiswal_DNMT3A_missense_nonsense.items():\n",
    "    AA = v[3]\n",
    "    if AA == \"p.R882H\":\n",
    "        Jaiswal_DNMT3A_R882H[k]=v\n",
    "        \n",
    "Jaiswal_DNMT3A_R882H = sorted(Jaiswal_DNMT3A_R882H.items(), key=lambda x: x[1][1], reverse=True)\n",
    "Jaiswal_DNMT3A_nonsyn_without_R882H = {k: v for k, v in Jaiswal_DNMT3A_missense_nonsense.items() if v[3] != \"p.R882H\"}"
   ]
  },
  {
   "cell_type": "markdown",
   "metadata": {},
   "source": [
    "## Genovese 2014"
   ]
  },
  {
   "cell_type": "code",
   "execution_count": 15,
   "metadata": {
    "code_folding": [
     0
    ]
   },
   "outputs": [],
   "source": [
    "# DNMT3A nonsynonymous variants - create a dictionary of all the DNMT3A missense and nonsense variants (with row_count as key)\n",
    "import csv\n",
    "filename=\"Data files/Genovese_2014_SNVs.csv\" #CSV file containing only the SNVs reported in Genovese 2014\n",
    "\n",
    "with open(filename, 'r') as csvfile:\n",
    "    read_reader = csv.reader(csvfile)  #csv.reader returns a reader object which will iterate over lines in the csvfile\n",
    "    row_count=0\n",
    "    Genovese_DNMT3A_missense_nonsense={} #dictionary of DNMTA missense and nonsense results\n",
    "    \n",
    "    for row in read_reader:\n",
    "        if row_count>0:  #ignore the header of the CSV file\n",
    "            if row[8]=='DNMT3A': #only look at the DNMT3A results\n",
    "                VAF = (float(row[6])/((float(row[5]))+(float(row[6]))))  # VAF = (alt count/(ref count + alt count))\n",
    "                mutation_type = row[10] #whether the variant is missense or nonsense or synonymous\n",
    "                AA = row[11] #AA change, e.g. V617F\n",
    "                if mutation_type == 'missense': \n",
    "                    Genovese_DNMT3A_missense_nonsense[row_count]=(row_count, VAF, mutation_type, AA)\n",
    "                if mutation_type == 'nonsense':\n",
    "                    Genovese_DNMT3A_missense_nonsense[row_count]=(row_count, VAF, mutation_type, AA)\n",
    "\n",
    "        row_count=row_count+1\n",
    "    \n",
    "Genovese_DNMT3A_missense_nonsense_sorted = sorted(Genovese_DNMT3A_missense_nonsense.items(), key=lambda x: x[1][1], reverse=True) #sort the results by VAF\n",
    "\n",
    "#R882 dictionaries\n",
    "Genovese_DNMT3A_R882H = {}\n",
    "\n",
    "for (k, v) in Genovese_DNMT3A_missense_nonsense.items():\n",
    "    AA = v[3]\n",
    "    if AA == \"p.R882H\":\n",
    "        Genovese_DNMT3A_R882H[k]=v\n",
    "        \n",
    "Genovese_DNMT3A_R882H = sorted(Genovese_DNMT3A_R882H.items(), key=lambda x: x[1][1], reverse=True)\n",
    "Genovese_DNMT3A_nonsyn_without_R882H = {k: v for k, v in Genovese_DNMT3A_missense_nonsense.items() if v[3] != \"p.R882H\"}"
   ]
  },
  {
   "cell_type": "markdown",
   "metadata": {},
   "source": [
    "## Zink WGS 2017"
   ]
  },
  {
   "cell_type": "code",
   "execution_count": 16,
   "metadata": {
    "code_folding": [
     0
    ]
   },
   "outputs": [],
   "source": [
    "# DNMT3A nonsynonymous variants - create a dictionary of all the DNMT3A missense and nonsense variants (with row_count as key)\n",
    "import csv\n",
    "filename=\"Data files/ZinkWGS_2017_SNVs.csv\" #CSV file containing only the SNVs reported by whole genome sequencing in Zink 2017\n",
    "\n",
    "with open(filename, 'r') as csvfile:\n",
    "    read_reader = csv.reader(csvfile)  #csv.reader returns a reader object which will iterate over lines in the csvfile\n",
    "    row_count=0\n",
    "    ZinkWGS_DNMT3A_missense_nonsense={} #dictionary of DNMTA missense and nonsense results\n",
    "    Zink_all_missense_nonsense={}\n",
    "    \n",
    "    for row in read_reader:\n",
    "        if row_count>0: #ignore the header of the CSV file\n",
    "            Zink_all_missense_nonsense[row_count]=(row[6], row[4], row[10], row[5]) #ID, GENE, VARIANT, VAF\n",
    "            if row[4]=='DNMT3A': #only look at the DNMT3A results\n",
    "                VAF = float(row[5])\n",
    "                ID = row[6] #participant ID\n",
    "                age = float(row[8])\n",
    "                AA = row[10] #AA change, e.g. V617F\n",
    "                mutation_type = row[9] #whether the variant is missense or nonsense or synonymous\n",
    "                if mutation_type == 'missense':\n",
    "                    ZinkWGS_DNMT3A_missense_nonsense[row_count]=(ID, VAF, age, AA, mutation_type)\n",
    "                if mutation_type == 'nonsense':\n",
    "                    ZinkWGS_DNMT3A_missense_nonsense[row_count]=(ID, VAF, age, AA, mutation_type)\n",
    "\n",
    "        row_count=row_count+1\n",
    "\n",
    "ZinkWGS_DNMT3A_missense_nonsense_sorted = sorted(ZinkWGS_DNMT3A_missense_nonsense.items(), key=lambda x: x[1][1], reverse=True) #sort the results by VAF\n",
    "\n",
    "#R882 dictionaries\n",
    "ZinkWGS_DNMT3A_R882H = {}\n",
    "\n",
    "for (k, v) in ZinkWGS_DNMT3A_missense_nonsense.items():\n",
    "    AA = v[3]\n",
    "    if AA == \"NP_072046.2:p.Arg882His,NP_715640.2:p.Arg693His,NP_783328.1:p.Arg882His\":\n",
    "        ZinkWGS_DNMT3A_R882H[k]=v\n",
    "        \n",
    "ZinkWGS_DNMT3A_R882H = sorted(ZinkWGS_DNMT3A_R882H.items(), key=lambda x: x[1][1], reverse=True)\n",
    "ZinkWGS_DNMT3A_nonsyn_without_R882H = {k: v for k, v in ZinkWGS_DNMT3A_missense_nonsense.items() if v[3] != \"NP_072046.2:p.Arg882His,NP_715640.2:p.Arg693His,NP_783328.1:p.Arg882His\"}"
   ]
  },
  {
   "cell_type": "markdown",
   "metadata": {},
   "source": [
    "## Acuna-Hidalgo 2017"
   ]
  },
  {
   "cell_type": "code",
   "execution_count": 17,
   "metadata": {
    "code_folding": [
     0
    ]
   },
   "outputs": [],
   "source": [
    "# DNMT3A nonsynonymous variants - create a dictionary of all the DNMT3A missense and nonsense variants (with row_count as key)\n",
    "filename=\"Data files/Acuna_Hidalgo_2017_SNVs.csv\" #CSV file containing only the SNVs reported in Acuna-Hidalgo 2017\n",
    "\n",
    "with open(filename, 'r') as csvfile:\n",
    "    read_reader = csv.reader(csvfile)  #csv.reader returns a reader object which will iterate over lines in the csvfile\n",
    "    row_count=0\n",
    "    Acuna_DNMT3A_missense_nonsense={} #dictionary of DNMTA missense and nonsense results\n",
    "    Acuna_all_missense_nonsense={}\n",
    "    \n",
    "    for row in read_reader:\n",
    "        if row_count>0: #ignore the header of the CSV file\n",
    "            Acuna_all_missense_nonsense[row_count]=(row[7], row[1], row[6], row[2]) #ID, GENE, VARIANT, VAF\n",
    "            if row[1]=='DNMT3A': #only look at the DNMT3A results\n",
    "                VAF = row[2]\n",
    "                ID = row[7] #participant ID\n",
    "                age = float(row[0])\n",
    "                mutation_type = row[8] #whether the variant is missense or nonsense or synonymous\n",
    "                AA = row[6] #AA change, e.g. V617F\n",
    "                if mutation_type == 'missense':\n",
    "                    Acuna_DNMT3A_missense_nonsense[row_count]=(ID, VAF, age, mutation_type, AA)\n",
    "                if mutation_type == 'nonsense':\n",
    "                    Acuna_DNMT3A_missense_nonsense[row_count]=(ID, VAF, age, mutation_type, AA)\n",
    "\n",
    "        row_count=row_count+1\n",
    "\n",
    "Acuna_DNMT3A_missense_nonsense_sorted = sorted(Acuna_DNMT3A_missense_nonsense.items(), key=lambda x: x[1][1], reverse=True) #sort the results by VAF\n",
    "\n",
    "#R882 dictionaries\n",
    "Acuna_DNMT3A_R882H = {}\n",
    "\n",
    "for (k, v) in Acuna_DNMT3A_missense_nonsense.items():\n",
    "    AA = v[4]\n",
    "    if AA == \"p.Arg882His\":\n",
    "        Acuna_DNMT3A_R882H[k]=v\n",
    "        \n",
    "Acuna_DNMT3A_R882H = sorted(Acuna_DNMT3A_R882H.items(), key=lambda x: x[1][1], reverse=True)\n",
    "Acuna_DNMT3A_nonsyn_without_R882H = {k: v for k, v in Acuna_DNMT3A_missense_nonsense.items() if v[4] != \"p.Arg882His\"}"
   ]
  },
  {
   "cell_type": "code",
   "execution_count": 18,
   "metadata": {
    "code_folding": [
     0
    ]
   },
   "outputs": [],
   "source": [
    "# All synonymous variants (in any gene)\n",
    "filename=\"Data files/Acuna_Hidalgo_2017_SNVs.csv\"\n",
    "with open(filename, 'r') as csvfile:\n",
    "    read_reader = csv.reader(csvfile)  #csv.reader returns a reader object which will iterate over lines in the csvfile\n",
    "    row_count=0\n",
    "    Acuna_synonymous_results={} \n",
    "    \n",
    "    for row in read_reader:\n",
    "        if row_count>0: #ignore the header of the CSV file\n",
    "            if row[8]=='synonymous': #only look at the synonymous variants (in any gene)\n",
    "#                 print(row)\n",
    "                VAF = row[2]\n",
    "                ID = row[7] #participant ID\n",
    "                age = float(row[0])\n",
    "                mutation_type = row[8] #synonymous\n",
    "                AA = row[6] #AA change, e.g. P9P\n",
    "                gene = row[1] #gene in which variant falls\n",
    "                Acuna_synonymous_results[row_count]=(ID, VAF, age, mutation_type, AA, gene)\n",
    "\n",
    "        row_count=row_count+1\n",
    "\n",
    "Acuna_synonymous = sorted(Acuna_synonymous_results.items(), key=lambda x: x[1][1], reverse=True)"
   ]
  },
  {
   "cell_type": "markdown",
   "metadata": {},
   "source": [
    "## Coombs 2017"
   ]
  },
  {
   "cell_type": "code",
   "execution_count": 19,
   "metadata": {
    "code_folding": [
     0
    ]
   },
   "outputs": [],
   "source": [
    "# DNMT3A - create a dictionary of all the DNMT3A missense and nonsense variants (with row_count as key)\n",
    "import csv\n",
    "filename=\"Data files/Coombs_2017_no_treatment_SNVs.csv\" #CSV file containing only DNMT3A SNVs reported in the chemotherapy and radiotherapy naive individuals in Coombs 2017\n",
    "\n",
    "with open(filename, 'r') as csvfile:\n",
    "    read_reader = csv.reader(csvfile)  #csv.reader returns a reader object which will iterate over lines in the csvfile\n",
    "    row_count=0\n",
    "    Coombs_DNMT3A_missense_nonsense={} #dictionary of DNMTA missense and nonsense results\n",
    "    Coombs_all_missense_nonsense = {}\n",
    "    \n",
    "    for row in read_reader:\n",
    "        if row_count>0: #ignore the header of the CSV file\n",
    "            Coombs_all_missense_nonsense[row_count]=(row[0], row[7], row[9], row[10]) #ID, GENE, VARIANT, VAF\n",
    "            if row[7]=='DNMT3A': #only look at the DNMT3A results\n",
    "                VAF = row[10]\n",
    "                ID = row[0] #participant ID\n",
    "                age = row[3]\n",
    "                AA = row[9] #AA change, e.g. V617F\n",
    "                mutation_type = row[12] #whether the variant is missense or nonsense or synonymous\n",
    "                if mutation_type == 'missense':\n",
    "                    Coombs_DNMT3A_missense_nonsense[row_count]=(ID, VAF, AA, age, mutation_type)\n",
    "                if mutation_type == 'nonsense':\n",
    "                    Coombs_DNMT3A_missense_nonsense[row_count]=(ID, VAF, AA, age, mutation_type)\n",
    "\n",
    "        row_count=row_count+1\n",
    "\n",
    "Coombs_DNMT3A_missense_nonsense_sorted = sorted(Coombs_DNMT3A_missense_nonsense.items(), key=lambda x: x[1][1], reverse=True) #sort the results by VAF\n",
    "\n",
    "#R882 dictionaries\n",
    "Coombs_DNMT3A_R882H = {}\n",
    "\n",
    "for (k, v) in Coombs_DNMT3A_missense_nonsense.items():\n",
    "    AA = v[2]\n",
    "    if AA == \"p.R882H\":\n",
    "        Coombs_DNMT3A_R882H[k]=v\n",
    "        \n",
    "Coombs_DNMT3A_R882H = sorted(Coombs_DNMT3A_R882H.items(), key=lambda x: x[1][1], reverse=True)\n",
    "Coombs_DNMT3A_nonsyn_without_R882H = {k: v for k, v in Coombs_DNMT3A_missense_nonsense.items() if v[2] != \"p.R882H\"}"
   ]
  },
  {
   "cell_type": "markdown",
   "metadata": {},
   "source": [
    "## McKerrel 2015"
   ]
  },
  {
   "cell_type": "code",
   "execution_count": 20,
   "metadata": {
    "code_folding": [
     0
    ]
   },
   "outputs": [],
   "source": [
    "# DNMT3A - create a dictionary of all the DNMT3A missense and nonsense variants (with row_count as key)\n",
    "import csv\n",
    "filename=\"Data files/McKerrel_2015_SNVs.csv\" #CSV file containing SNVs reported in McKerrel 2015\n",
    "with open(filename, 'r') as csvfile:\n",
    "    read_reader = csv.reader(csvfile)  #csv.reader returns a reader object which will iterate over lines in the csvfile\n",
    "    row_count=0\n",
    "    McKerrel_DNMT3A_results={} #dictionary of DNMTA missense and nonsense results\n",
    "    McKerrel_all_missense_nonsense={}\n",
    "    \n",
    "    for row in read_reader:\n",
    "        if row_count>0:\n",
    "            McKerrel_all_missense_nonsense[row_count]=(row[4], row[0], row[1], float(row[2])/100) #ID, GENE, VARIANT, VAF\n",
    "            if row[0]=='DNMT3A R882': #the only DNMT3A variants they looked for were at DNMT3A R882\n",
    "                VAF = (float(row[2])/100) #VAF is reported in % (unlike the other studies), so divide by 100\n",
    "                AA = row[1] #AA change, e.g. R882H\n",
    "                ID = row[4] #participant ID\n",
    "                age = float(row[3])\n",
    "                McKerrel_DNMT3A_results[row_count]=(ID, VAF, age, AA)\n",
    "\n",
    "        row_count=row_count+1\n",
    "    \n",
    "McKerrel_DNMT3A_sorted = sorted(McKerrel_DNMT3A_results.items(), key=lambda x: x[1][1], reverse=True) #sort the results by VAF\n",
    "\n",
    "#R882 dictionaries\n",
    "McKerrel_DNMT3A_R882H = {}\n",
    "\n",
    "for (k, v) in McKerrel_DNMT3A_results.items():\n",
    "#     print(v)\n",
    "    AA = v[3]\n",
    "    if AA == \"p.R882H\":\n",
    "        McKerrel_DNMT3A_R882H[k]=v\n",
    "        \n",
    "McKerrel_DNMT3A_R882H = sorted(McKerrel_DNMT3A_R882H.items(), key=lambda x: x[1][1], reverse=True)\n",
    "McKerrel_DNMT3A_nonsyn_without_R882H = {k: v for k, v in McKerrel_DNMT3A_results.items() if v[3] != \"p.R882H\"}"
   ]
  },
  {
   "cell_type": "markdown",
   "metadata": {},
   "source": [
    "## Young 2016"
   ]
  },
  {
   "cell_type": "code",
   "execution_count": 21,
   "metadata": {
    "code_folding": [
     0
    ]
   },
   "outputs": [],
   "source": [
    "# DNMT3A - create a dictionary of all the DNMT3A missense and nonsense variants (with row_count as key)\n",
    "import csv\n",
    "filename=\"Data files/Young_2016_SNVs.csv\" #CSV file containing SNVs reported in Young 2016\n",
    "with open(filename, 'r') as csvfile:\n",
    "    read_reader = csv.reader(csvfile)  #csv.reader returns a reader object which will iterate over lines in the csvfile\n",
    "    row_count=0\n",
    "    Young2016_DNMT3A_missense_nonsense={}\n",
    "    Young2016_all_missense_nonsense={}\n",
    "    \n",
    "    for row in read_reader:\n",
    "        if row_count>0:\n",
    "            if row[15]!='-': #only look at variants that were present in the individual's baseline samples\n",
    "                Young2016_all_missense_nonsense[row_count]=(row[0], row[6], row[7], float(row[15])) #ID, GENE, VARIANT, VAF\n",
    "                if row[6]=='DNMT3A': #only look at the DNMT3A results\n",
    "                    VAF = row[15] #In the csv file this is the average of the replicates at that time-point (VAFs that were '-' in original file were ignored)\n",
    "                    ID = row[0] #participant ID\n",
    "                    mutation_type = row[17] #whether the variant is missense or nonsense or synonymous\n",
    "                    age = row[13]\n",
    "                    AA = row[7] #AA change, e.g. R882H\n",
    "                    if mutation_type == 'missense':\n",
    "                        Young2016_DNMT3A_missense_nonsense[row_count]=(ID, VAF, mutation_type, AA, age)\n",
    "                    if mutation_type == 'nonsense':\n",
    "                        Young2016_DNMT3A_missense_nonsense[row_count]=(ID, VAF, mutation_type, AA, age)\n",
    "                        \n",
    "        row_count=row_count+1\n",
    "        \n",
    "Young2016_DNMT3A_missense_nonsense_sorted = sorted(Young2016_DNMT3A_missense_nonsense.items(), key=lambda x: x[1][1], reverse=True) #sort the results by VAF\n",
    "\n",
    "#R882 dictionaries\n",
    "Young2016_DNMT3A_R882H = {}\n",
    "\n",
    "for (k, v) in Young2016_DNMT3A_missense_nonsense.items():\n",
    "    AA = v[3]\n",
    "    if AA == 'p.R882H':\n",
    "        Young2016_DNMT3A_R882H[k]=v\n",
    "        \n",
    "Young2016_DNMT3A_R882 = sorted(Young2016_DNMT3A_R882H.items(), key=lambda x: x[1][0], reverse=True)\n",
    "Young2016_DNMT3A_nonsyn_without_R882H = {k: v for k, v in Young2016_DNMT3A_missense_nonsense.items() if v[3] != \"p.R882H\"}"
   ]
  },
  {
   "cell_type": "code",
   "execution_count": 22,
   "metadata": {
    "code_folding": [
     0
    ]
   },
   "outputs": [],
   "source": [
    "# All synonymous variants (in any gene)\n",
    "import csv\n",
    "filename=\"Data files/Young_2016_SNVs.csv\" #CSV file containing SNVs reported in Young 2016 and Young 2019 (only controls), but only includes 1 time-point (the earliest time-point at which a variant was detected in that individual)\n",
    "with open(filename, 'r') as csvfile:\n",
    "    read_reader = csv.reader(csvfile)  #csv.reader returns a reader object which will iterate over lines in the csvfile\n",
    "    row_count=0\n",
    "    Young2016_synonymous={}\n",
    "    \n",
    "    for row in read_reader:\n",
    "        if row[15]!='-': #only look at variants that were present in the individual's baseline samples\n",
    "            VAF = row[15] #In the csv file this is the average of the replicates at that time-point (VAFs that were '-' in original file were ignored)\n",
    "            ID = row[0] #participant ID\n",
    "            mutation_type = row[17] #whether the variant is missense or nonsense or synonymous\n",
    "            age = row[13]\n",
    "            AA = row[7] #AA change, e.g. P9P\n",
    "            if mutation_type == 'synonymous':\n",
    "                Young2016_synonymous[row_count]=(ID, VAF, mutation_type, AA, age)\n",
    "                        \n",
    "        row_count=row_count+1\n",
    "        \n",
    "Young2016_synonymous = sorted(Young2016_synonymous.items(), key=lambda x: x[1][1], reverse=True)"
   ]
  },
  {
   "cell_type": "markdown",
   "metadata": {},
   "source": [
    "## Young 2019"
   ]
  },
  {
   "cell_type": "code",
   "execution_count": 23,
   "metadata": {
    "code_folding": [
     0
    ]
   },
   "outputs": [],
   "source": [
    "# DNMT3A - create a dictionary of all the DNMT3A missense and nonsense variants (with row_count as key)\n",
    "import csv\n",
    "filename=\"Data files/Young_2019_SNVs.csv\" #CSV file containing SNVs reported in Young 2016 and Young 2019 (only controls), but only includes 1 time-point (the earliest time-point at which a variant was detected in that individual)\n",
    "with open(filename, 'r') as csvfile:\n",
    "    read_reader = csv.reader(csvfile)  #csv.reader returns a reader object which will iterate over lines in the csvfile\n",
    "    row_count=0\n",
    "    Young2019_DNMT3A_missense_nonsense={}\n",
    "    Young2019_all_missense_nonsense={}\n",
    "    \n",
    "    for row in read_reader:\n",
    "        if row_count>0:\n",
    "            if row[2]!='case': #only look at the controls\n",
    "                if row[7]!='-': #only look at variants that were present in the individual's baseline samples\n",
    "                    Young2019_all_missense_nonsense[row_count]=(row[0], row[3], row[5], float(row[7])) #ID, GENE, VARIANT, VAF\n",
    "                    if row[3]=='DNMT3A': #only look at the DNMT3A results\n",
    "                        VAF = row[7] #In the csv file this is the average of the replicates at that time-point (VAFs that were '-' in original file were ignored)\n",
    "                        ID = row[0] #participant ID\n",
    "                        mutation_type = row[4] #whether the variant is missense or nonsense or synonymous\n",
    "                        age = row[9]\n",
    "                        AA = row[5] #AA change, e.g. R882H\n",
    "                        if mutation_type == 'missense':\n",
    "                            Young2019_DNMT3A_missense_nonsense[row_count]=(ID, VAF, mutation_type, AA, age)\n",
    "                        if mutation_type == 'nonsense':\n",
    "                            Young2019_DNMT3A_missense_nonsense[row_count]=(ID, VAF, mutation_type, AA, age)\n",
    "                \n",
    "        row_count=row_count+1\n",
    "\n",
    "Young2019_DNMT3A_missense_nonsense_sorted = sorted(Young2019_DNMT3A_missense_nonsense.items(), key=lambda x: x[1][1], reverse=True) #sort the results by VAF\n",
    "\n",
    "#R882 dictionaries\n",
    "Young2019_DNMT3A_R882H = {}\n",
    "\n",
    "for (k, v) in Young2019_DNMT3A_missense_nonsense.items():\n",
    "    AA = v[3]\n",
    "    if AA == 'p.R882H':\n",
    "        Young2019_DNMT3A_R882H[k]=v\n",
    "        \n",
    "Young2019_DNMT3A_R882H = sorted(Young2019_DNMT3A_R882H.items(), key=lambda x: x[1][0], reverse=True)\n",
    "Young2019_DNMT3A_nonsyn_without_R882H = {k: v for k, v in Young2019_DNMT3A_missense_nonsense.items() if v[3] != \"p.R882H\"}"
   ]
  },
  {
   "cell_type": "code",
   "execution_count": 24,
   "metadata": {
    "code_folding": [
     0
    ]
   },
   "outputs": [],
   "source": [
    "# All synonymous variants (in any gene)\n",
    "import csv\n",
    "filename=\"Data files/Young_2019_SNVs.csv\" #CSV file containing SNVs reported in Young 2019 and Young 2019 (only controls), but only includes 1 time-point (the earliest time-point at which a variant was detected in that individual)\n",
    "with open(filename, 'r') as csvfile:\n",
    "    read_reader = csv.reader(csvfile)  #csv.reader returns a reader object which will iterate over lines in the csvfile\n",
    "    row_count=0\n",
    "    Young2019_synonymous={}\n",
    "    \n",
    "    for row in read_reader:\n",
    "        if row[2]!='case': #only look at the controls\n",
    "            if row[7]!='-': #only look at variants that were present in the individual's baseline samples\n",
    "                VAF = row[7] #In the csv file this is the average of the replicates at that time-point (VAFs that were '-' in original file were ignored)\n",
    "                ID = row[0] #participant ID\n",
    "                mutation_type = row[4] #whether the variant is missense or nonsense or synonymous\n",
    "                age = row[9]\n",
    "                AA = row[5] #AA change, e.g. P9P\n",
    "                if mutation_type == 'synonymous':\n",
    "                    Young2019_synonymous[row_count]=(ID, VAF, mutation_type, AA, age)\n",
    "\n",
    "        row_count=row_count+1\n",
    "        \n",
    "Young2019_synonymous = sorted(Young2019_synonymous.items(), key=lambda x: x[1][1], reverse=True)"
   ]
  },
  {
   "cell_type": "markdown",
   "metadata": {},
   "source": [
    "## Desai 2018"
   ]
  },
  {
   "cell_type": "code",
   "execution_count": 25,
   "metadata": {
    "code_folding": [
     0
    ]
   },
   "outputs": [],
   "source": [
    "# DNMT3A data - create a dictionary of all the DNMT3A missense and nonsense variants (with row_count as key)\n",
    "import csv\n",
    "filename=\"Data files/Desai_2018_SNVs.csv\"\n",
    "\n",
    "with open(filename, 'r') as csvfile:\n",
    "    read_reader = csv.reader(csvfile)  #csv.reader returns a reader object which will iterate over lines in the csvfile\n",
    "    row_count=0\n",
    "    Desai_DNMT3A_missense_nonsense={} #dictionary of DNMTA results (key = ID (row[]), value = VAF (row[]))\n",
    "    Desai_all_missense_nonsense={}\n",
    "    \n",
    "    for row in read_reader:\n",
    "        if row_count>0:\n",
    "            if row[15] =='Control':\n",
    "                Desai_all_missense_nonsense[row_count]=(row[0], row[1], row[13], float(row[23])) #ID, GENE, VARIANT, VAF\n",
    "                if row[1]=='DNMT3A':\n",
    "                    if row[17]=='0': #just look at the baseline results\n",
    "                        VAF = row[23] #In the csv file this is the average of the replicates at that time-point (VAFs that were '-' in original file were ignored)\n",
    "                        ID = row[0] #participant ID\n",
    "                        age = row[19]\n",
    "                        AA = row[13] #AA change, e.g. R882H\n",
    "                        mutation_type = row[5] #whether the variant is missense or nonsense or synonymous\n",
    "                        if mutation_type == 'missense':\n",
    "                            Desai_DNMT3A_missense_nonsense[row_count]=(ID, VAF, AA, age, mutation_type)\n",
    "                        if mutation_type == 'nonsense':\n",
    "                            Desai_DNMT3A_missense_nonsense[row_count]=(ID, VAF, AA, age, mutation_type)\n",
    "\n",
    "        row_count=row_count+1\n",
    "\n",
    "Desai_DNMT3A_missense_nonsense_sorted = sorted(Desai_DNMT3A_missense_nonsense.items(), key=lambda x: x[1][1], reverse=True) #sort the results by VAF\n",
    "\n",
    "#R882 dictionaries\n",
    "Desai_DNMT3A_R882H = {}\n",
    "\n",
    "for (k, v) in Desai_DNMT3A_missense_nonsense.items():\n",
    "    AA = v[2]\n",
    "    if AA == \"p.R882H\":\n",
    "        Desai_DNMT3A_R882H[k]=v\n",
    "        \n",
    "Desai_DNMT3A_R882H = sorted(Desai_DNMT3A_R882H.items(), key=lambda x: x[1][1], reverse=True)\n",
    "Desai_DNMT3A_nonsyn_without_R882H = {k: v for k, v in Desai_DNMT3A_missense_nonsense.items() if v[2] != \"p.Arg882His\"}"
   ]
  },
  {
   "cell_type": "markdown",
   "metadata": {},
   "source": [
    "# Trimming the data"
   ]
  },
  {
   "cell_type": "markdown",
   "metadata": {},
   "source": [
    "- See python notebook 'Trimming the data' for histograms of where data was trimmed."
   ]
  },
  {
   "cell_type": "code",
   "execution_count": 26,
   "metadata": {},
   "outputs": [],
   "source": [
    "Jaiswal_limit_log10 = -1.25457125\n",
    "Genovese_limit_log10 = -0.9231152\n",
    "ZinkWGS_limit_log10 = -0.62646791\n",
    "Acuna_limit_log10 = -2.81029625\n",
    "Coombs_limit_log10 = -1.72142011\n",
    "Young2016_limit_log10 = -3.00065193\n",
    "Young2019_limit_log10 = -3.14773145 \n",
    "Desai_limit_log10 = -1.77252871\n",
    "McKerrel_limit_log10 = -2.08092191\n",
    "\n",
    "Jaiswal_limit = 10**(Jaiswal_limit_log10)\n",
    "Genovese_limit = 10**(Genovese_limit_log10)\n",
    "ZinkWGS_limit = 10**(ZinkWGS_limit_log10)\n",
    "Acuna_limit = 10**(Acuna_limit_log10)\n",
    "Coombs_limit = 10**(Coombs_limit_log10)\n",
    "Young2016_limit = 10**(Young2016_limit_log10) \n",
    "Young2019_limit = 10**(Young2019_limit_log10) \n",
    "Desai_limit = 10**(Desai_limit_log10)\n",
    "McKerrel_limit = 10**(McKerrel_limit_log10)"
   ]
  },
  {
   "cell_type": "markdown",
   "metadata": {},
   "source": [
    "## All variants trimmed"
   ]
  },
  {
   "cell_type": "code",
   "execution_count": 27,
   "metadata": {},
   "outputs": [],
   "source": [
    "#Creating trimmed dictionaries and lists\n",
    "all_variants_trimmed_list = []\n",
    "\n",
    "for k, v in Jaiswal_all_missense_nonsense.items():\n",
    "    if float(VAF[3])>=Jaiswal_limit:\n",
    "        all_variants_trimmed_list.append(('Jaiswal', v[0], v[1], v[2], v[3]))\n",
    "\n",
    "for k, v in Zink_all_missense_nonsense.items():\n",
    "    if float(VAF[3])>=ZinkWGS_limit:\n",
    "        all_variants_trimmed_list.append(('Zink', v[0], v[1], v[2], v[3]))\n",
    "        \n",
    "for k, v in Acuna_all_missense_nonsense.items():\n",
    "    if float(VAF[3])>=Acuna_limit:\n",
    "        all_variants_trimmed_list.append(('Acuna', v[0], v[1], v[2], v[3]))\n",
    "        \n",
    "for k, v in Coombs_all_missense_nonsense.items():\n",
    "    if float(VAF[3])>=Coombs_limit:\n",
    "        all_variants_trimmed_list.append(('Coombs', v[0], v[1], v[2], v[3]))\n",
    "        \n",
    "for k, v in Young2016_all_missense_nonsense.items():\n",
    "    if float(VAF[3])>=Young2016_limit:\n",
    "        all_variants_trimmed_list.append(('Young2016', v[0], v[1], v[2], v[3]))\n",
    "        \n",
    "for k, v in Young2019_all_missense_nonsense.items():\n",
    "    if float(VAF[3])>=Young2019_limit:\n",
    "        all_variants_trimmed_list.append(('Young2019', v[0], v[1], v[2], v[3]))\n",
    "        \n",
    "for k, v in Desai_all_missense_nonsense.items():\n",
    "    if float(VAF[3])>=Desai_limit:\n",
    "        all_variants_trimmed_list.append(('Desai', v[0], v[1], v[2], v[3]))\n",
    "        \n",
    "for k, v in McKerrel_all_missense_nonsense.items():\n",
    "    if float(VAF[3])>=McKerrel_limit:\n",
    "        all_variants_trimmed_list.append(('McKerrel', v[0], v[1], v[2], v[3]))\n",
    "    \n",
    "all_variants_df = pd.DataFrame(all_variants_trimmed_list)\n",
    "csv_data = all_variants_df.to_csv('Data files/all_variants_trimmed_with_ID_June_2019.csv', index=False)"
   ]
  },
  {
   "cell_type": "code",
   "execution_count": 28,
   "metadata": {},
   "outputs": [
    {
     "data": {
      "text/html": [
       "<div>\n",
       "<style scoped>\n",
       "    .dataframe tbody tr th:only-of-type {\n",
       "        vertical-align: middle;\n",
       "    }\n",
       "\n",
       "    .dataframe tbody tr th {\n",
       "        vertical-align: top;\n",
       "    }\n",
       "\n",
       "    .dataframe thead th {\n",
       "        text-align: right;\n",
       "    }\n",
       "</style>\n",
       "<table border=\"1\" class=\"dataframe\">\n",
       "  <thead>\n",
       "    <tr style=\"text-align: right;\">\n",
       "      <th></th>\n",
       "      <th>0</th>\n",
       "      <th>1</th>\n",
       "      <th>2</th>\n",
       "      <th>3</th>\n",
       "      <th>4</th>\n",
       "    </tr>\n",
       "  </thead>\n",
       "  <tbody>\n",
       "    <tr>\n",
       "      <th>0</th>\n",
       "      <td>Jaiswal</td>\n",
       "      <td>id1519</td>\n",
       "      <td>DNMT3A</td>\n",
       "      <td>p.R882H</td>\n",
       "      <td>0.285714</td>\n",
       "    </tr>\n",
       "    <tr>\n",
       "      <th>1</th>\n",
       "      <td>Jaiswal</td>\n",
       "      <td>id9984</td>\n",
       "      <td>TET2</td>\n",
       "      <td>p.C1135Y</td>\n",
       "      <td>0.278689</td>\n",
       "    </tr>\n",
       "    <tr>\n",
       "      <th>2</th>\n",
       "      <td>Jaiswal</td>\n",
       "      <td>id4833</td>\n",
       "      <td>KRAS</td>\n",
       "      <td>p.G12C</td>\n",
       "      <td>0.125</td>\n",
       "    </tr>\n",
       "    <tr>\n",
       "      <th>3</th>\n",
       "      <td>Jaiswal</td>\n",
       "      <td>id16047</td>\n",
       "      <td>NRAS</td>\n",
       "      <td>p.G13D</td>\n",
       "      <td>0.065421</td>\n",
       "    </tr>\n",
       "    <tr>\n",
       "      <th>4</th>\n",
       "      <td>Jaiswal</td>\n",
       "      <td>id5915</td>\n",
       "      <td>NRAS</td>\n",
       "      <td>p.G13R</td>\n",
       "      <td>0.057971</td>\n",
       "    </tr>\n",
       "    <tr>\n",
       "      <th>5</th>\n",
       "      <td>Jaiswal</td>\n",
       "      <td>id15962</td>\n",
       "      <td>U2AF1</td>\n",
       "      <td>p.D14G</td>\n",
       "      <td>0.068966</td>\n",
       "    </tr>\n",
       "    <tr>\n",
       "      <th>6</th>\n",
       "      <td>Jaiswal</td>\n",
       "      <td>id1662</td>\n",
       "      <td>CNOT3</td>\n",
       "      <td>p.E20K</td>\n",
       "      <td>0.055556</td>\n",
       "    </tr>\n",
       "    <tr>\n",
       "      <th>7</th>\n",
       "      <td>Jaiswal</td>\n",
       "      <td>id11641</td>\n",
       "      <td>U2AF1</td>\n",
       "      <td>p.S34F</td>\n",
       "      <td>0.12963</td>\n",
       "    </tr>\n",
       "    <tr>\n",
       "      <th>8</th>\n",
       "      <td>Jaiswal</td>\n",
       "      <td>id4102</td>\n",
       "      <td>U2AF1</td>\n",
       "      <td>p.S34F</td>\n",
       "      <td>0.190476</td>\n",
       "    </tr>\n",
       "    <tr>\n",
       "      <th>9</th>\n",
       "      <td>Jaiswal</td>\n",
       "      <td>id9419</td>\n",
       "      <td>PIK3CA</td>\n",
       "      <td>p.R38H</td>\n",
       "      <td>0.39759</td>\n",
       "    </tr>\n",
       "    <tr>\n",
       "      <th>10</th>\n",
       "      <td>Jaiswal</td>\n",
       "      <td>id15776</td>\n",
       "      <td>SFRS2</td>\n",
       "      <td>p.Y44H</td>\n",
       "      <td>0.166667</td>\n",
       "    </tr>\n",
       "    <tr>\n",
       "      <th>11</th>\n",
       "      <td>Jaiswal</td>\n",
       "      <td>id11645</td>\n",
       "      <td>GNB1</td>\n",
       "      <td>p.K57E</td>\n",
       "      <td>0.214286</td>\n",
       "    </tr>\n",
       "    <tr>\n",
       "      <th>12</th>\n",
       "      <td>Jaiswal</td>\n",
       "      <td>id8807</td>\n",
       "      <td>GNB1</td>\n",
       "      <td>p.K57E</td>\n",
       "      <td>0.121212</td>\n",
       "    </tr>\n",
       "    <tr>\n",
       "      <th>13</th>\n",
       "      <td>Jaiswal</td>\n",
       "      <td>id11639</td>\n",
       "      <td>GNB1</td>\n",
       "      <td>p.K57E</td>\n",
       "      <td>0.285714</td>\n",
       "    </tr>\n",
       "    <tr>\n",
       "      <th>14</th>\n",
       "      <td>Jaiswal</td>\n",
       "      <td>id3437</td>\n",
       "      <td>GNB1</td>\n",
       "      <td>p.K57E</td>\n",
       "      <td>0.090909</td>\n",
       "    </tr>\n",
       "    <tr>\n",
       "      <th>15</th>\n",
       "      <td>Jaiswal</td>\n",
       "      <td>id3822</td>\n",
       "      <td>GNB1</td>\n",
       "      <td>p.K57E</td>\n",
       "      <td>0.16</td>\n",
       "    </tr>\n",
       "    <tr>\n",
       "      <th>16</th>\n",
       "      <td>Jaiswal</td>\n",
       "      <td>id8979</td>\n",
       "      <td>GNB1</td>\n",
       "      <td>p.K57E</td>\n",
       "      <td>0.088235</td>\n",
       "    </tr>\n",
       "    <tr>\n",
       "      <th>17</th>\n",
       "      <td>Jaiswal</td>\n",
       "      <td>id5020</td>\n",
       "      <td>GNB1</td>\n",
       "      <td>p.K57E</td>\n",
       "      <td>0.321429</td>\n",
       "    </tr>\n",
       "    <tr>\n",
       "      <th>18</th>\n",
       "      <td>Jaiswal</td>\n",
       "      <td>id4971</td>\n",
       "      <td>GNB1</td>\n",
       "      <td>p.K57E</td>\n",
       "      <td>0.065217</td>\n",
       "    </tr>\n",
       "    <tr>\n",
       "      <th>19</th>\n",
       "      <td>Jaiswal</td>\n",
       "      <td>id10936</td>\n",
       "      <td>GNB1</td>\n",
       "      <td>p.K57E</td>\n",
       "      <td>0.384615</td>\n",
       "    </tr>\n",
       "    <tr>\n",
       "      <th>20</th>\n",
       "      <td>Jaiswal</td>\n",
       "      <td>id8647</td>\n",
       "      <td>GNB1</td>\n",
       "      <td>p.K57E</td>\n",
       "      <td>0.4375</td>\n",
       "    </tr>\n",
       "    <tr>\n",
       "      <th>21</th>\n",
       "      <td>Jaiswal</td>\n",
       "      <td>id4772</td>\n",
       "      <td>GNB1</td>\n",
       "      <td>p.K57E</td>\n",
       "      <td>0.081633</td>\n",
       "    </tr>\n",
       "    <tr>\n",
       "      <th>22</th>\n",
       "      <td>Jaiswal</td>\n",
       "      <td>id15602</td>\n",
       "      <td>GNB1</td>\n",
       "      <td>p.K57E</td>\n",
       "      <td>0.068966</td>\n",
       "    </tr>\n",
       "    <tr>\n",
       "      <th>23</th>\n",
       "      <td>Jaiswal</td>\n",
       "      <td>id9339</td>\n",
       "      <td>GNB1</td>\n",
       "      <td>p.K57E</td>\n",
       "      <td>0.075</td>\n",
       "    </tr>\n",
       "    <tr>\n",
       "      <th>24</th>\n",
       "      <td>Jaiswal</td>\n",
       "      <td>id6556</td>\n",
       "      <td>GNB1</td>\n",
       "      <td>p.K57E</td>\n",
       "      <td>0.278689</td>\n",
       "    </tr>\n",
       "    <tr>\n",
       "      <th>25</th>\n",
       "      <td>Jaiswal</td>\n",
       "      <td>id12008</td>\n",
       "      <td>GNB1</td>\n",
       "      <td>p.K57E</td>\n",
       "      <td>0.208333</td>\n",
       "    </tr>\n",
       "    <tr>\n",
       "      <th>26</th>\n",
       "      <td>Jaiswal</td>\n",
       "      <td>id1659</td>\n",
       "      <td>GNB1</td>\n",
       "      <td>p.K57E</td>\n",
       "      <td>0.130435</td>\n",
       "    </tr>\n",
       "    <tr>\n",
       "      <th>27</th>\n",
       "      <td>Jaiswal</td>\n",
       "      <td>id4207</td>\n",
       "      <td>GNB1</td>\n",
       "      <td>p.K57E</td>\n",
       "      <td>0.104167</td>\n",
       "    </tr>\n",
       "    <tr>\n",
       "      <th>28</th>\n",
       "      <td>Jaiswal</td>\n",
       "      <td>id12470</td>\n",
       "      <td>GNB1</td>\n",
       "      <td>p.K57M</td>\n",
       "      <td>0.096154</td>\n",
       "    </tr>\n",
       "    <tr>\n",
       "      <th>29</th>\n",
       "      <td>Jaiswal</td>\n",
       "      <td>id4360</td>\n",
       "      <td>GNB1</td>\n",
       "      <td>p.K57M</td>\n",
       "      <td>0.083333</td>\n",
       "    </tr>\n",
       "    <tr>\n",
       "      <th>...</th>\n",
       "      <td>...</td>\n",
       "      <td>...</td>\n",
       "      <td>...</td>\n",
       "      <td>...</td>\n",
       "      <td>...</td>\n",
       "    </tr>\n",
       "    <tr>\n",
       "      <th>1805</th>\n",
       "      <td>McKerrel</td>\n",
       "      <td>83</td>\n",
       "      <td>SRSF2 P95</td>\n",
       "      <td>p.P95H</td>\n",
       "      <td>0.0084</td>\n",
       "    </tr>\n",
       "    <tr>\n",
       "      <th>1806</th>\n",
       "      <td>McKerrel</td>\n",
       "      <td>84</td>\n",
       "      <td>SRSF2 P95</td>\n",
       "      <td>p.P95L</td>\n",
       "      <td>0.0097</td>\n",
       "    </tr>\n",
       "    <tr>\n",
       "      <th>1807</th>\n",
       "      <td>McKerrel</td>\n",
       "      <td>85</td>\n",
       "      <td>SRSF2 P95</td>\n",
       "      <td>p.P95L</td>\n",
       "      <td>0.0085</td>\n",
       "    </tr>\n",
       "    <tr>\n",
       "      <th>1808</th>\n",
       "      <td>McKerrel</td>\n",
       "      <td>85</td>\n",
       "      <td>SRSF2 P95</td>\n",
       "      <td>p.P95H</td>\n",
       "      <td>0.0667</td>\n",
       "    </tr>\n",
       "    <tr>\n",
       "      <th>1809</th>\n",
       "      <td>McKerrel</td>\n",
       "      <td>86</td>\n",
       "      <td>SRSF2 P95</td>\n",
       "      <td>p.P95L</td>\n",
       "      <td>0.0096</td>\n",
       "    </tr>\n",
       "    <tr>\n",
       "      <th>1810</th>\n",
       "      <td>McKerrel</td>\n",
       "      <td>87</td>\n",
       "      <td>SRSF2 P95</td>\n",
       "      <td>p.P95H</td>\n",
       "      <td>0.064</td>\n",
       "    </tr>\n",
       "    <tr>\n",
       "      <th>1811</th>\n",
       "      <td>McKerrel</td>\n",
       "      <td>88</td>\n",
       "      <td>SRSF2 P95</td>\n",
       "      <td>p.P95L</td>\n",
       "      <td>0.0274</td>\n",
       "    </tr>\n",
       "    <tr>\n",
       "      <th>1812</th>\n",
       "      <td>McKerrel</td>\n",
       "      <td>89</td>\n",
       "      <td>SRSF2 P95</td>\n",
       "      <td>p.P95R</td>\n",
       "      <td>0.0752</td>\n",
       "    </tr>\n",
       "    <tr>\n",
       "      <th>1813</th>\n",
       "      <td>McKerrel</td>\n",
       "      <td>70</td>\n",
       "      <td>SRSF2 P95</td>\n",
       "      <td>p.P95L</td>\n",
       "      <td>0.0584</td>\n",
       "    </tr>\n",
       "    <tr>\n",
       "      <th>1814</th>\n",
       "      <td>McKerrel</td>\n",
       "      <td>70</td>\n",
       "      <td>SRSF2 P95</td>\n",
       "      <td>p.P95H</td>\n",
       "      <td>0.1048</td>\n",
       "    </tr>\n",
       "    <tr>\n",
       "      <th>1815</th>\n",
       "      <td>McKerrel</td>\n",
       "      <td>90</td>\n",
       "      <td>SRSF2 P95</td>\n",
       "      <td>p.P95R</td>\n",
       "      <td>0.0271</td>\n",
       "    </tr>\n",
       "    <tr>\n",
       "      <th>1816</th>\n",
       "      <td>McKerrel</td>\n",
       "      <td>91</td>\n",
       "      <td>SRSF2 P95</td>\n",
       "      <td>p.P95R</td>\n",
       "      <td>0.1705</td>\n",
       "    </tr>\n",
       "    <tr>\n",
       "      <th>1817</th>\n",
       "      <td>McKerrel</td>\n",
       "      <td>92</td>\n",
       "      <td>SF3B1 K700</td>\n",
       "      <td>p.K700E</td>\n",
       "      <td>0.0104</td>\n",
       "    </tr>\n",
       "    <tr>\n",
       "      <th>1818</th>\n",
       "      <td>McKerrel</td>\n",
       "      <td>93</td>\n",
       "      <td>SF3B1 K700</td>\n",
       "      <td>p.K700E</td>\n",
       "      <td>0.0663</td>\n",
       "    </tr>\n",
       "    <tr>\n",
       "      <th>1819</th>\n",
       "      <td>McKerrel</td>\n",
       "      <td>94</td>\n",
       "      <td>SF3B1 K700</td>\n",
       "      <td>p.K700E</td>\n",
       "      <td>0.0079</td>\n",
       "    </tr>\n",
       "    <tr>\n",
       "      <th>1820</th>\n",
       "      <td>McKerrel</td>\n",
       "      <td>95</td>\n",
       "      <td>SF3B1 K700</td>\n",
       "      <td>p.K700E</td>\n",
       "      <td>0.1259</td>\n",
       "    </tr>\n",
       "    <tr>\n",
       "      <th>1821</th>\n",
       "      <td>McKerrel</td>\n",
       "      <td>96</td>\n",
       "      <td>SF3B1 K700</td>\n",
       "      <td>p.K700E</td>\n",
       "      <td>0.0877</td>\n",
       "    </tr>\n",
       "    <tr>\n",
       "      <th>1822</th>\n",
       "      <td>McKerrel</td>\n",
       "      <td>97</td>\n",
       "      <td>SF3B1 K700</td>\n",
       "      <td>p.K700E</td>\n",
       "      <td>0.0102</td>\n",
       "    </tr>\n",
       "    <tr>\n",
       "      <th>1823</th>\n",
       "      <td>McKerrel</td>\n",
       "      <td>98</td>\n",
       "      <td>SF3B1 K700</td>\n",
       "      <td>p.K700E</td>\n",
       "      <td>0.0085</td>\n",
       "    </tr>\n",
       "    <tr>\n",
       "      <th>1824</th>\n",
       "      <td>McKerrel</td>\n",
       "      <td>99</td>\n",
       "      <td>SF3B1 K700</td>\n",
       "      <td>p.K700E</td>\n",
       "      <td>0.0137</td>\n",
       "    </tr>\n",
       "    <tr>\n",
       "      <th>1825</th>\n",
       "      <td>McKerrel</td>\n",
       "      <td>100</td>\n",
       "      <td>SF3B1 K666</td>\n",
       "      <td>p.K666N</td>\n",
       "      <td>0.0133</td>\n",
       "    </tr>\n",
       "    <tr>\n",
       "      <th>1826</th>\n",
       "      <td>McKerrel</td>\n",
       "      <td>101</td>\n",
       "      <td>SF3B1 K666</td>\n",
       "      <td>p.K666N</td>\n",
       "      <td>0.0501</td>\n",
       "    </tr>\n",
       "    <tr>\n",
       "      <th>1827</th>\n",
       "      <td>McKerrel</td>\n",
       "      <td>84</td>\n",
       "      <td>SF3B1 K666</td>\n",
       "      <td>p.K666N</td>\n",
       "      <td>0.1336</td>\n",
       "    </tr>\n",
       "    <tr>\n",
       "      <th>1828</th>\n",
       "      <td>McKerrel</td>\n",
       "      <td>60</td>\n",
       "      <td>SF3B1 K666</td>\n",
       "      <td>p.K666N</td>\n",
       "      <td>0.1543</td>\n",
       "    </tr>\n",
       "    <tr>\n",
       "      <th>1829</th>\n",
       "      <td>McKerrel</td>\n",
       "      <td>102</td>\n",
       "      <td>SF3B1 K666</td>\n",
       "      <td>p.K666N</td>\n",
       "      <td>0.046</td>\n",
       "    </tr>\n",
       "    <tr>\n",
       "      <th>1830</th>\n",
       "      <td>McKerrel</td>\n",
       "      <td>96</td>\n",
       "      <td>SF3B1 K666</td>\n",
       "      <td>p.K666E</td>\n",
       "      <td>0.0109</td>\n",
       "    </tr>\n",
       "    <tr>\n",
       "      <th>1831</th>\n",
       "      <td>McKerrel</td>\n",
       "      <td>103</td>\n",
       "      <td>SF3B1 K666</td>\n",
       "      <td>p.K666N</td>\n",
       "      <td>0.3511</td>\n",
       "    </tr>\n",
       "    <tr>\n",
       "      <th>1832</th>\n",
       "      <td>McKerrel</td>\n",
       "      <td>104</td>\n",
       "      <td>SF3B1 K666</td>\n",
       "      <td>p.K666N</td>\n",
       "      <td>0.197</td>\n",
       "    </tr>\n",
       "    <tr>\n",
       "      <th>1833</th>\n",
       "      <td>McKerrel</td>\n",
       "      <td>105</td>\n",
       "      <td>SF3B1 K666</td>\n",
       "      <td>p.K666N</td>\n",
       "      <td>0.1655</td>\n",
       "    </tr>\n",
       "    <tr>\n",
       "      <th>1834</th>\n",
       "      <td>McKerrel</td>\n",
       "      <td>106</td>\n",
       "      <td>SF3B1 K666</td>\n",
       "      <td>p.K666E</td>\n",
       "      <td>0.0334</td>\n",
       "    </tr>\n",
       "  </tbody>\n",
       "</table>\n",
       "<p>1835 rows × 5 columns</p>\n",
       "</div>"
      ],
      "text/plain": [
       "             0        1           2         3         4\n",
       "0      Jaiswal   id1519      DNMT3A   p.R882H  0.285714\n",
       "1      Jaiswal   id9984        TET2  p.C1135Y  0.278689\n",
       "2      Jaiswal   id4833        KRAS    p.G12C     0.125\n",
       "3      Jaiswal  id16047        NRAS    p.G13D  0.065421\n",
       "4      Jaiswal   id5915        NRAS    p.G13R  0.057971\n",
       "5      Jaiswal  id15962       U2AF1    p.D14G  0.068966\n",
       "6      Jaiswal   id1662       CNOT3    p.E20K  0.055556\n",
       "7      Jaiswal  id11641       U2AF1    p.S34F   0.12963\n",
       "8      Jaiswal   id4102       U2AF1    p.S34F  0.190476\n",
       "9      Jaiswal   id9419      PIK3CA    p.R38H   0.39759\n",
       "10     Jaiswal  id15776       SFRS2    p.Y44H  0.166667\n",
       "11     Jaiswal  id11645        GNB1    p.K57E  0.214286\n",
       "12     Jaiswal   id8807        GNB1    p.K57E  0.121212\n",
       "13     Jaiswal  id11639        GNB1    p.K57E  0.285714\n",
       "14     Jaiswal   id3437        GNB1    p.K57E  0.090909\n",
       "15     Jaiswal   id3822        GNB1    p.K57E      0.16\n",
       "16     Jaiswal   id8979        GNB1    p.K57E  0.088235\n",
       "17     Jaiswal   id5020        GNB1    p.K57E  0.321429\n",
       "18     Jaiswal   id4971        GNB1    p.K57E  0.065217\n",
       "19     Jaiswal  id10936        GNB1    p.K57E  0.384615\n",
       "20     Jaiswal   id8647        GNB1    p.K57E    0.4375\n",
       "21     Jaiswal   id4772        GNB1    p.K57E  0.081633\n",
       "22     Jaiswal  id15602        GNB1    p.K57E  0.068966\n",
       "23     Jaiswal   id9339        GNB1    p.K57E     0.075\n",
       "24     Jaiswal   id6556        GNB1    p.K57E  0.278689\n",
       "25     Jaiswal  id12008        GNB1    p.K57E  0.208333\n",
       "26     Jaiswal   id1659        GNB1    p.K57E  0.130435\n",
       "27     Jaiswal   id4207        GNB1    p.K57E  0.104167\n",
       "28     Jaiswal  id12470        GNB1    p.K57M  0.096154\n",
       "29     Jaiswal   id4360        GNB1    p.K57M  0.083333\n",
       "...        ...      ...         ...       ...       ...\n",
       "1805  McKerrel       83   SRSF2 P95    p.P95H    0.0084\n",
       "1806  McKerrel       84   SRSF2 P95    p.P95L    0.0097\n",
       "1807  McKerrel       85   SRSF2 P95    p.P95L    0.0085\n",
       "1808  McKerrel       85   SRSF2 P95    p.P95H    0.0667\n",
       "1809  McKerrel       86   SRSF2 P95    p.P95L    0.0096\n",
       "1810  McKerrel       87   SRSF2 P95    p.P95H     0.064\n",
       "1811  McKerrel       88   SRSF2 P95    p.P95L    0.0274\n",
       "1812  McKerrel       89   SRSF2 P95    p.P95R    0.0752\n",
       "1813  McKerrel       70   SRSF2 P95    p.P95L    0.0584\n",
       "1814  McKerrel       70   SRSF2 P95    p.P95H    0.1048\n",
       "1815  McKerrel       90   SRSF2 P95    p.P95R    0.0271\n",
       "1816  McKerrel       91   SRSF2 P95    p.P95R    0.1705\n",
       "1817  McKerrel       92  SF3B1 K700   p.K700E    0.0104\n",
       "1818  McKerrel       93  SF3B1 K700   p.K700E    0.0663\n",
       "1819  McKerrel       94  SF3B1 K700   p.K700E    0.0079\n",
       "1820  McKerrel       95  SF3B1 K700   p.K700E    0.1259\n",
       "1821  McKerrel       96  SF3B1 K700   p.K700E    0.0877\n",
       "1822  McKerrel       97  SF3B1 K700   p.K700E    0.0102\n",
       "1823  McKerrel       98  SF3B1 K700   p.K700E    0.0085\n",
       "1824  McKerrel       99  SF3B1 K700   p.K700E    0.0137\n",
       "1825  McKerrel      100  SF3B1 K666   p.K666N    0.0133\n",
       "1826  McKerrel      101  SF3B1 K666   p.K666N    0.0501\n",
       "1827  McKerrel       84  SF3B1 K666   p.K666N    0.1336\n",
       "1828  McKerrel       60  SF3B1 K666   p.K666N    0.1543\n",
       "1829  McKerrel      102  SF3B1 K666   p.K666N     0.046\n",
       "1830  McKerrel       96  SF3B1 K666   p.K666E    0.0109\n",
       "1831  McKerrel      103  SF3B1 K666   p.K666N    0.3511\n",
       "1832  McKerrel      104  SF3B1 K666   p.K666N     0.197\n",
       "1833  McKerrel      105  SF3B1 K666   p.K666N    0.1655\n",
       "1834  McKerrel      106  SF3B1 K666   p.K666E    0.0334\n",
       "\n",
       "[1835 rows x 5 columns]"
      ]
     },
     "execution_count": 28,
     "metadata": {},
     "output_type": "execute_result"
    }
   ],
   "source": [
    "all_variants_df"
   ]
  },
  {
   "cell_type": "markdown",
   "metadata": {},
   "source": [
    "## DNMT3A R882H trimmed data"
   ]
  },
  {
   "cell_type": "code",
   "execution_count": 29,
   "metadata": {
    "code_folding": [
     0
    ]
   },
   "outputs": [],
   "source": [
    "#Creating trimmed dictionaries and lists\n",
    "Jaiswal_DNMT3A_R882H_trimmed_list = []\n",
    "Genovese_DNMT3A_R882H_trimmed_list = []\n",
    "ZinkWGS_DNMT3A_R882H_trimmed_list = []\n",
    "Acuna_DNMT3A_R882H_trimmed_list = []\n",
    "Coombs_DNMT3A_R882H_trimmed_list = []\n",
    "Young2016_DNMT3A_R882H_trimmed_list = []\n",
    "Young2019_DNMT3A_R882H_trimmed_list = []\n",
    "Young2016_2019_DNMT3A_R882H_trimmed_list = []\n",
    "Desai_DNMT3A_R882H_trimmed_list = []\n",
    "McKerrel_DNMT3A_R882H_trimmed_list = []\n",
    "\n",
    "for (row_count,  VAF) in Jaiswal_DNMT3A_R882H:\n",
    "    if float(VAF[1])>=Jaiswal_limit:\n",
    "        Jaiswal_DNMT3A_R882H_trimmed_list.append(VAF[1])\n",
    "\n",
    "for (row_count, VAF) in Genovese_DNMT3A_R882H:\n",
    "    if float(VAF[1])>=Genovese_limit:\n",
    "        Genovese_DNMT3A_R882H_trimmed_list.append(VAF[1])\n",
    "\n",
    "for (row_count,  VAF) in ZinkWGS_DNMT3A_R882H: #WGS\n",
    "    if float(VAF[1])>=ZinkWGS_limit:\n",
    "        ZinkWGS_DNMT3A_R882H_trimmed_list.append(VAF[1])\n",
    "    \n",
    "for (row_count,  VAF) in Acuna_DNMT3A_R882H:\n",
    "    if float(VAF[1])>=Acuna_limit:\n",
    "        Acuna_DNMT3A_R882H_trimmed_list.append(VAF[1])\n",
    "    \n",
    "for (ID,  VAF) in Coombs_DNMT3A_R882H:\n",
    "    if float(VAF[1])>=Coombs_limit:\n",
    "        Coombs_DNMT3A_R882H_trimmed_list.append(VAF[1])\n",
    "    \n",
    "for (ID,  VAF) in McKerrel_DNMT3A_R882H:\n",
    "    McKerrel_DNMT3A_R882H_trimmed_list.append(VAF[1])\n",
    "    \n",
    "for (ID,  VAF) in Young2016_DNMT3A_R882H:\n",
    "    if float(VAF[1])>=Young2016_limit:\n",
    "        Young2016_DNMT3A_R882H_trimmed_list.append(VAF[1])\n",
    "\n",
    "for (ID,  VAF) in Young2019_DNMT3A_R882H:\n",
    "    if float(VAF[1])>=Young2019_limit:\n",
    "        Young2019_DNMT3A_R882H_trimmed_list.append(VAF[1])\n",
    "        \n",
    "for (ID,  VAF) in Desai_DNMT3A_R882H:\n",
    "    if float(VAF[1])>=Desai_limit:\n",
    "        Desai_DNMT3A_R882H_trimmed_list.append(VAF[1])\n",
    "\n",
    "#COMBINING YOUNG 2016 & 2019\n",
    "for (ID,  VAF) in Young2016_DNMT3A_R882H:\n",
    "    if float(VAF[1])>=Young2016_limit:\n",
    "        Young2016_2019_DNMT3A_R882H_trimmed_list.append(VAF[1])\n",
    "        a = a+1\n",
    "\n",
    "for (ID,  VAF) in Young2019_DNMT3A_R882H:\n",
    "    if float(VAF[1])>=Young2019_limit:\n",
    "        Young2016_2019_DNMT3A_R882H_trimmed_list.append(VAF[1])"
   ]
  },
  {
   "cell_type": "markdown",
   "metadata": {},
   "source": [
    "## Trimmed data for DNMT3A missense and nonsense variants (not including R882H)"
   ]
  },
  {
   "cell_type": "code",
   "execution_count": 30,
   "metadata": {
    "code_folding": [
     0
    ]
   },
   "outputs": [],
   "source": [
    "#Creating trimmed dictionaries and lists\n",
    "Jaiswal_DNMT3A_nonsyn_without_R882H_trimmed_list = []\n",
    "Genovese_DNMT3A_nonsyn_without_R882H_trimmed_list = []\n",
    "ZinkWGS_DNMT3A_nonsyn_without_R882H_trimmed_list = []\n",
    "Acuna_DNMT3A_nonsyn_without_R882H_trimmed_list = []\n",
    "Coombs_DNMT3A_nonsyn_without_R882H_trimmed_list = []\n",
    "Young2016_DNMT3A_nonsyn_without_R882H_trimmed_list = []\n",
    "Young2019_DNMT3A_nonsyn_without_R882H_trimmed_list = []\n",
    "Young2016_2019_DNMT3A_nonsyn_without_R882H_trimmed_list = []\n",
    "Desai_DNMT3A_nonsyn_without_R882H_trimmed_list = []\n",
    "McKerrel_DNMT3A_nonsyn_without_R882H_trimmed_list = []\n",
    "\n",
    "for (row_count,  VAF) in Jaiswal_DNMT3A_nonsyn_without_R882H.items():\n",
    "    if float(VAF[1])>=Jaiswal_limit:\n",
    "        Jaiswal_DNMT3A_nonsyn_without_R882H_trimmed_list.append(VAF[1])\n",
    "\n",
    "for (row_count, VAF) in Genovese_DNMT3A_nonsyn_without_R882H.items():\n",
    "    if float(VAF[1])>=Genovese_limit:\n",
    "        Genovese_DNMT3A_nonsyn_without_R882H_trimmed_list.append(VAF[1])\n",
    "\n",
    "for (row_count,  VAF) in ZinkWGS_DNMT3A_nonsyn_without_R882H.items(): #WGS\n",
    "    if float(VAF[1])>=ZinkWGS_limit:\n",
    "        ZinkWGS_DNMT3A_nonsyn_without_R882H_trimmed_list.append(VAF[1])\n",
    "    \n",
    "for (row_count,  VAF) in Acuna_DNMT3A_nonsyn_without_R882H.items():\n",
    "    if float(VAF[1])>=Acuna_limit:\n",
    "        Acuna_DNMT3A_nonsyn_without_R882H_trimmed_list.append(VAF[1])\n",
    "    \n",
    "for (ID,  VAF) in Coombs_DNMT3A_nonsyn_without_R882H.items():\n",
    "    if float(VAF[1])>=Coombs_limit:\n",
    "        Coombs_DNMT3A_nonsyn_without_R882H_trimmed_list.append(VAF[1])\n",
    "\n",
    "for (ID,  VAF) in Young2016_DNMT3A_nonsyn_without_R882H.items():\n",
    "    if float(VAF[1])>=Young2016_limit:\n",
    "        Young2016_DNMT3A_nonsyn_without_R882H_trimmed_list.append(VAF[1])\n",
    "\n",
    "for (ID,  VAF) in Young2019_DNMT3A_nonsyn_without_R882H.items():\n",
    "    if float(VAF[1])>=Young2019_limit:\n",
    "        Young2019_DNMT3A_nonsyn_without_R882H_trimmed_list.append(VAF[1])\n",
    "        \n",
    "for (ID,  VAF) in Desai_DNMT3A_nonsyn_without_R882H.items():\n",
    "    if float(VAF[1])>=Desai_limit:\n",
    "        Desai_DNMT3A_nonsyn_without_R882H_trimmed_list.append(VAF[1])\n",
    "\n",
    "#COMBINING YOUNG 2016 & 2019\n",
    "for (ID,  VAF) in Young2016_DNMT3A_nonsyn_without_R882H.items():\n",
    "    if float(VAF[1])>=Young2016_limit:\n",
    "        Young2016_2019_DNMT3A_nonsyn_without_R882H_trimmed_list.append(VAF[1])\n",
    "\n",
    "for (ID,  VAF) in Young2019_DNMT3A_nonsyn_without_R882H.items():\n",
    "    if float(VAF[1])>=Young2019_limit:\n",
    "        Young2016_2019_DNMT3A_nonsyn_without_R882H_trimmed_list.append(VAF[1])           "
   ]
  },
  {
   "cell_type": "markdown",
   "metadata": {},
   "source": [
    "## Trimmed data for synonymous variants (in all genes)"
   ]
  },
  {
   "cell_type": "code",
   "execution_count": 31,
   "metadata": {
    "code_folding": [
     0
    ]
   },
   "outputs": [],
   "source": [
    "#Creating trimmed dictionaries and lists\n",
    "Young2016_synonymous_trimmed_list = []\n",
    "Young2019_synonymous_trimmed_list = []\n",
    "Young2016_2019_synonymous_trimmed_list = []\n",
    "Acuna_synonymous_trimmed_list = []\n",
    "\n",
    "for (row_count,  VAF) in Acuna_synonymous:\n",
    "    if float(VAF[1])>=Acuna_limit:\n",
    "        Acuna_synonymous_trimmed_list.append(VAF[1])\n",
    "    \n",
    "for (ID,  VAF) in Young2016_synonymous:\n",
    "    if float(VAF[1])>=Young2016_limit:\n",
    "        Young2016_synonymous_trimmed_list.append(VAF[1])\n",
    "\n",
    "for (ID,  VAF) in Young2019_synonymous:\n",
    "    if float(VAF[1])>=Young2019_limit:\n",
    "        Young2019_synonymous_trimmed_list.append(VAF[1])\n",
    "\n",
    "# COMBINING YOUNG 2016 & 2019\n",
    "for (ID,  VAF) in Young2016_synonymous:\n",
    "    if float(VAF[1])>=Young2016_limit:\n",
    "        Young2016_2019_synonymous_trimmed_list.append(VAF[1])\n",
    "\n",
    "for (ID,  VAF) in Young2019_synonymous:\n",
    "    if float(VAF[1])>=Young2019_limit:\n",
    "        Young2016_2019_synonymous_trimmed_list.append(VAF[1])\n",
    "        "
   ]
  },
  {
   "cell_type": "markdown",
   "metadata": {},
   "source": [
    "# Plotting the histograms"
   ]
  },
  {
   "cell_type": "markdown",
   "metadata": {},
   "source": [
    "## Functions for plotting histograms"
   ]
  },
  {
   "cell_type": "code",
   "execution_count": 32,
   "metadata": {},
   "outputs": [],
   "source": [
    "binmethod = 'doane'\n",
    "young_synonymous_bins = 6"
   ]
  },
  {
   "cell_type": "code",
   "execution_count": 33,
   "metadata": {
    "code_folding": [
     0
    ]
   },
   "outputs": [],
   "source": [
    "def error_bars(hist, normed_value, widths):\n",
    "    \n",
    "    errors={}\n",
    "    n=0\n",
    "    for i in list(hist):\n",
    "        normalised_hist = i/(normed_value*widths)\n",
    "        log_hist = np.log(normalised_hist)\n",
    "        sqrt_hist = math.sqrt(i)\n",
    "        if sqrt_hist == 1:\n",
    "            upper_error = 1\n",
    "            lower_error = 0.9\n",
    "        if sqrt_hist !=1:\n",
    "            upper_error = sqrt_hist\n",
    "            lower_error = sqrt_hist\n",
    "        normalised_upper_error = upper_error/(normed_value*widths)\n",
    "        normalised_lower_error = lower_error/(normed_value*widths)\n",
    "        errors[n]=(normalised_hist[0], normalised_upper_error[0], normalised_lower_error[0])\n",
    "        n = n+1\n",
    "\n",
    "    errors_corrected ={}\n",
    "    for k, v in errors.items():\n",
    "        binheight = v[0]\n",
    "        log_binheight = np.log(v[0])\n",
    "        upper_error = v[1]\n",
    "        lower_error = v[2]\n",
    "        log_upper_error = (np.log(upper_error+binheight))-log_binheight\n",
    "        log_lower_error = log_binheight-(np.log(binheight-lower_error))\n",
    "        errors_corrected[k] = (log_binheight, log_upper_error, log_lower_error)\n",
    "\n",
    "    lower_err=[]\n",
    "    upper_err=[]\n",
    "    for k, v in errors_corrected.items():\n",
    "        lower_error = v[2]\n",
    "        upper_error = v[1]\n",
    "        lower_err.append(lower_error)\n",
    "        upper_err.append(upper_error)\n",
    "\n",
    "    err = [tuple(lower_err),tuple(upper_err)]\n",
    "    \n",
    "    return err"
   ]
  },
  {
   "cell_type": "code",
   "execution_count": 34,
   "metadata": {
    "code_folding": [
     0
    ]
   },
   "outputs": [],
   "source": [
    "def log_hist_data_for_plot(study_VAFs, study_total, study_mu, bin_size):\n",
    "    log_VAFs = []\n",
    "    for i in study_VAFs:\n",
    "        log_VAFs.append(np.log(float(i)))\n",
    "    normed_value = study_total*2*study_mu\n",
    "    hist, bins = np.histogram(log_VAFs, bins=bin_size, range=(min(log_VAFs),max(log_VAFs)))\n",
    "    widths = np.diff(bins)\n",
    "    bin_centres = (bins[:-1] + bins[1:])/2\n",
    "    hist = np.array(hist, dtype=float)\n",
    "    normalised_hist = hist/(normed_value*widths)\n",
    "    log_hist_for_plot = np.log(normalised_hist)\n",
    "    \n",
    "    errors = error_bars(hist, normed_value, widths)\n",
    "    \n",
    "    return bin_centres, log_hist_for_plot, errors"
   ]
  },
  {
   "cell_type": "code",
   "execution_count": 35,
   "metadata": {
    "code_folding": [
     0
    ]
   },
   "outputs": [],
   "source": [
    "def plot_log_hist_data_for_plot_solid(study_VAFs, study_total, study_mu, bin_size, study_name, marker_name, marker_size, color):\n",
    "    log_VAFs = []\n",
    "    for i in study_VAFs:\n",
    "        log_VAFs.append(np.log(float(i)))\n",
    "    normed_value = study_total*2*study_mu\n",
    "    hist, bins = np.histogram(log_VAFs, bins=bin_size, range=(min(log_VAFs),max(log_VAFs)))\n",
    "    widths = np.diff(bins)\n",
    "    bin_centres = (bins[:-1] + bins[1:])/2\n",
    "    hist = np.array(hist, dtype=float)\n",
    "    normalised_hist = hist/(normed_value*widths)\n",
    "    log_hist_for_plot = np.log(normalised_hist)\n",
    "    \n",
    "    errors = error_bars(hist, normed_value, widths)\n",
    "    \n",
    "    axisfont=14*scale\n",
    "    axislabelfont=15*scale\n",
    "    tpfont = 14*scale\n",
    "\n",
    "    m_size = 12*scale\n",
    "    m_width = 1.5*scale\n",
    "    c_size = 3*scale\n",
    "    c_thick = 1.5*scale\n",
    "    e_width = 1.5*scale\n",
    "\n",
    "    Jaiswalmarker = 'o'\n",
    "    Zinkmarker = '^'\n",
    "    Acunamarker = 'P'\n",
    "    Coombsmarker = 'v'\n",
    "    Youngmarker = 'p'\n",
    "    Mckerrelmarker = 'D'\n",
    "    Genovesemarker = 'd'\n",
    "    Desaimarker = '*'\n",
    "    Abelsonmarker = '>'\n",
    "    Liumarker = 's'\n",
    "\n",
    "    #Colors\n",
    "    DNMT3A_color = 'dodgerblue'\n",
    "    R882_color = c1\n",
    "    neutralcolor = c3\n",
    "    \n",
    "    #Plot\n",
    "    ax1.errorbar(bin_centres, log_hist_for_plot, yerr= errors, fmt = marker_name, ecolor = color, \\\n",
    "             elinewidth = e_width, capsize = c_size, capthick = c_thick, markersize = marker_size, markeredgewidth = m_width, \\\n",
    "             markeredgecolor = color, markerfacecolor = color, label = study_name, zorder=0)\n",
    "    \n",
    "    # Set axis limits\n",
    "    ax1.set_ylim(1, np.log(10**6))\n",
    "    ax1.set_xlim(-9, 0)\n",
    "    # ax1.set_xlim(-7.6, 0)\n",
    "\n",
    "    # Axis labels\n",
    "    ax1.set_xlabel('variant allele frequency (%)', fontsize = axislabelfont, labelpad = 6*scale, fontweight = 'medium')\n",
    "    ax1.set_ylabel('relative density of variants', fontsize = axislabelfont, labelpad = 6*scale, fontweight = 'medium')\n",
    "\n",
    "    x_major_ticks = [np.log(0.0001),np.log(0.0002),np.log(0.0003),np.log(0.0004),np.log(0.0005),np.log(0.0006),np.log(0.0007),np.log(0.0008), np.log(0.0009),\\\n",
    "                     np.log(0.001), np.log(0.002),np.log(0.003),np.log(0.004),np.log(0.005),np.log(0.006),np.log(0.007),np.log(0.008),np.log(0.009), \\\n",
    "                     np.log(0.01),np.log(0.02),np.log(0.03),np.log(0.04),np.log(0.05),np.log(0.06),np.log(0.07),np.log(0.08),np.log(0.09),\\\n",
    "                     np.log(0.1),np.log(0.2),np.log(0.3),np.log(0.4),np.log(0.5),np.log(0.6),np.log(0.7),np.log(0.8),np.log(0.9), np.log(1.0)]\n",
    "    x_major_tick_labels = [\"0.01\",\"\",\"\",\"\",\"\",\"\",\"\",\"\",\"\",\\\n",
    "                           \"0.1\",\"\",\"\",\"\",\"\",\"\",\"\",\"\",\"\",\\\n",
    "                           \"1\",\"\",\"\",\"\",\"\",\"\",\"\",\"\",\"\",\\\n",
    "                           \"10\",\"\",\"\",\"\",\"50\",\"\",\"\",\"\",\"\",\"\"]\n",
    "    ax1.set_xticks(x_major_ticks)\n",
    "    ax1.set_xticklabels(x_major_tick_labels, fontsize = axisfont)\n",
    "    ax1.xaxis.set_tick_params(width=scale, color = grey3, length = 6)\n",
    "\n",
    "    y_major_ticks = [np.log(1), np.log(2), np.log(3), \\\n",
    "                     np.log(4), np.log(5), np.log(6), \\\n",
    "                     np.log(7), np.log(8), np.log(9), \\\n",
    "                     np.log(10), np.log(20), np.log(30),\\\n",
    "                     np.log(40), np.log(50), np.log(60), \\\n",
    "                     np.log(70), np.log(80), np.log(90),\\\n",
    "                     np.log(100), np.log(200), np.log(300), \\\n",
    "                     np.log(400), np.log(500), np.log(600),\\\n",
    "                     np.log(700), np.log(800), np.log(900), \\\n",
    "                     np.log(1000), np.log(2000), np.log(3000),\\\n",
    "                    np.log(4000), np.log(5000), np.log(6000), \\\n",
    "                     np.log(7000), np.log(8000), np.log(9000),\\\n",
    "                    np.log(10000), np.log(20000), np.log(30000), \\\n",
    "                     np.log(40000), np.log(50000), np.log(60000),\\\n",
    "                    np.log(70000), np.log(80000), np.log(90000), \\\n",
    "                     np.log(100000), np.log(200000),np.log(300000),np.log(400000),np.log(500000),np.log(600000),\\\n",
    "                    np.log(700000),np.log(800000),np.log(900000),np.log(1000000)]\n",
    "    y_major_tick_labels = [\"\",\"\",\"\", \"\", \"\", \"\", \"\", \"\", \"\", \"$10^{1}$\",\"\", \"\", \"\", \"\", \"\", \"\", \"\", \"\", \\\n",
    "                           \"$10^{2}$\",\"\", \"\", \"\", \"\", \"\", \"\", \"\", \"\", \"$10^{3}$\",\"\", \"\", \"\", \"\", \"\", \"\", \"\", \"\", \\\n",
    "                           \"$10^{4}$\",\"\", \"\", \"\", \"\", \"\", \"\", \"\", \"\", \"$10^{5}$\",\"\", \"\", \"\", \"\", \"\", \"\", \"\", \"\", \"$10^{6}$\"]\n",
    "    ax1.set_yticks(y_major_ticks)\n",
    "    ax1.set_yticklabels(y_major_tick_labels, fontsize = axisfont)\n",
    "    ax1.yaxis.set_tick_params(width=scale, color = grey3, length = 6)\n",
    "\n",
    "    #Only show the required axis lines\n",
    "    ax1.spines['top'].set_visible(False)\n",
    "    ax1.spines['right'].set_visible(False)\n",
    "\n",
    "    for axis in ['bottom','left']:\n",
    "        ax1.spines[axis].set_linewidth(scale)\n",
    "\n",
    "    for axis in ['bottom','left']:\n",
    "        ax1.spines[axis].set_color(grey3)\n",
    "        \n",
    "    \n",
    "    #set panel legends\n",
    "    legend_marker_size = 8*scale\n",
    "    legend_elements = [Line2D([0], [0], marker = Jaiswalmarker, color = grey3, alpha = 0.4, markersize = legend_marker_size*1.1, \\\n",
    "                              lw=0, label='Jaiswal 2014'),\n",
    "                       Line2D([0], [0], marker = Genovesemarker, color=grey3, alpha=0.4, markersize = legend_marker_size*1.1, \\\n",
    "                              lw=0, label='Genovese 2014'),\n",
    "                       Line2D([0], [0], marker = Mckerrelmarker, color=grey3, alpha=0.4, markersize = legend_marker_size, \\\n",
    "                              lw=0, label='McKerrel 2015'),\n",
    "                       Line2D([0], [0], marker = Zinkmarker, color=grey3, alpha=0.4, markersize = legend_marker_size*1.2, \\\n",
    "                              lw=0, label='Zink 2017'),\n",
    "                      Line2D([0], [0], marker = Acunamarker, color=grey3, alpha=0.4, markersize = legend_marker_size*1.3, \\\n",
    "                              lw=0, label='Acuna-Hidalgo 2017'),\n",
    "                      Line2D([0], [0], marker = Coombsmarker, color=grey3, alpha=0.4, markersize = legend_marker_size*1.2, \\\n",
    "                              lw=0, label='Coombs 2017'),\n",
    "                      Line2D([0], [0], marker = Youngmarker, color=grey3, alpha=0.4, markersize = legend_marker_size*1.2, \\\n",
    "                              lw=0, label='Young 2016 & 2019'),\n",
    "                       Line2D([0], [0], marker = Desaimarker, color=grey3, alpha=0.4, markersize = legend_marker_size*1.5, \\\n",
    "                              lw=0, label='Desai 2018')]\n",
    "\n",
    "    ax1.legend(ncol=1, handles=legend_elements, loc='center', bbox_to_anchor=(0.12, 0.2), frameon=0, fontsize = 11*scale)\n",
    "    \n",
    "    return ax1"
   ]
  },
  {
   "cell_type": "code",
   "execution_count": 36,
   "metadata": {
    "code_folding": [
     0
    ]
   },
   "outputs": [],
   "source": [
    "def plot_log_hist_data_for_plot_solid_R882H(study_VAFs, study_total, study_mu, bin_size, study_name, marker_name, marker_size, color):\n",
    "    #with y axis that goes up to 10**7\n",
    "    log_VAFs = []\n",
    "    for i in study_VAFs:\n",
    "        log_VAFs.append(np.log(float(i)))\n",
    "    normed_value = study_total*2*study_mu\n",
    "    hist, bins = np.histogram(log_VAFs, bins=bin_size, range=(min(log_VAFs),max(log_VAFs)))\n",
    "    widths = np.diff(bins)\n",
    "    bin_centres = (bins[:-1] + bins[1:])/2\n",
    "    hist = np.array(hist, dtype=float)\n",
    "    normalised_hist = hist/(normed_value*widths)\n",
    "    log_hist_for_plot = np.log(normalised_hist)\n",
    "    \n",
    "    errors = error_bars(hist, normed_value, widths)\n",
    "    \n",
    "    axisfont=14*scale\n",
    "    axislabelfont=15*scale\n",
    "    tpfont = 14*scale\n",
    "\n",
    "    m_size = 12*scale\n",
    "    m_width = 1.5*scale\n",
    "    c_size = 3*scale\n",
    "    c_thick = 1.5*scale\n",
    "    e_width = 1.5*scale\n",
    "\n",
    "    Jaiswalmarker = 'o'\n",
    "    Zinkmarker = '^'\n",
    "    Acunamarker = 'P'\n",
    "    Coombsmarker = 'v'\n",
    "    Youngmarker = 'p'\n",
    "    Mckerrelmarker = 'D'\n",
    "    Genovesemarker = 'd'\n",
    "    Desaimarker = '*'\n",
    "    Abelsonmarker = '>'\n",
    "    Liumarker = 's'\n",
    "\n",
    "    #Colors\n",
    "    DNMT3A_color = 'dodgerblue'\n",
    "    R882_color = c1\n",
    "    neutralcolor = c3\n",
    "    \n",
    "    #Plot\n",
    "    ax1.errorbar(bin_centres, log_hist_for_plot, yerr= errors, fmt = marker_name, ecolor = color, \\\n",
    "             elinewidth = e_width, capsize = c_size, capthick = c_thick, markersize = marker_size, markeredgewidth = m_width, \\\n",
    "             markeredgecolor = color, markerfacecolor = color, label = study_name, zorder=0)\n",
    "    \n",
    "    # Set axis limits\n",
    "    ax1.set_ylim(1, np.log(10**7))\n",
    "    ax1.set_xlim(-9, 0)\n",
    "    # ax1.set_xlim(-7.6, 0)\n",
    "\n",
    "    # Axis labels\n",
    "    ax1.set_xlabel('variant allele frequency (%)', fontsize = axislabelfont, labelpad = 6*scale, fontweight = 'medium')\n",
    "    ax1.set_ylabel('relative density of variants', fontsize = axislabelfont, labelpad = 6*scale, fontweight = 'medium')\n",
    "\n",
    "    x_major_ticks = [np.log(0.0001),np.log(0.0002),np.log(0.0003),np.log(0.0004),np.log(0.0005),np.log(0.0006),np.log(0.0007),np.log(0.0008), np.log(0.0009),\\\n",
    "                     np.log(0.001), np.log(0.002),np.log(0.003),np.log(0.004),np.log(0.005),np.log(0.006),np.log(0.007),np.log(0.008),np.log(0.009), \\\n",
    "                     np.log(0.01),np.log(0.02),np.log(0.03),np.log(0.04),np.log(0.05),np.log(0.06),np.log(0.07),np.log(0.08),np.log(0.09),\\\n",
    "                     np.log(0.1),np.log(0.2),np.log(0.3),np.log(0.4),np.log(0.5),np.log(0.6),np.log(0.7),np.log(0.8),np.log(0.9), np.log(1.0)]\n",
    "    x_major_tick_labels = [\"0.01\",\"\",\"\",\"\",\"\",\"\",\"\",\"\",\"\",\\\n",
    "                           \"0.1\",\"\",\"\",\"\",\"\",\"\",\"\",\"\",\"\",\\\n",
    "                           \"1\",\"\",\"\",\"\",\"\",\"\",\"\",\"\",\"\",\\\n",
    "                           \"10\",\"\",\"\",\"\",\"50\",\"\",\"\",\"\",\"\",\"\"]\n",
    "    ax1.set_xticks(x_major_ticks)\n",
    "    ax1.set_xticklabels(x_major_tick_labels, fontsize = axisfont)\n",
    "    ax1.xaxis.set_tick_params(width=scale, color = grey3, length = 6)\n",
    "\n",
    "    y_major_ticks = [np.log(1), np.log(2), np.log(3), \\\n",
    "                     np.log(4), np.log(5), np.log(6), \\\n",
    "                     np.log(7), np.log(8), np.log(9), \\\n",
    "                     np.log(10), np.log(20), np.log(30),\\\n",
    "                     np.log(40), np.log(50), np.log(60), \\\n",
    "                     np.log(70), np.log(80), np.log(90),\\\n",
    "                     np.log(100), np.log(200), np.log(300), \\\n",
    "                     np.log(400), np.log(500), np.log(600),\\\n",
    "                     np.log(700), np.log(800), np.log(900), \\\n",
    "                     np.log(1000), np.log(2000), np.log(3000),\\\n",
    "                    np.log(4000), np.log(5000), np.log(6000), \\\n",
    "                     np.log(7000), np.log(8000), np.log(9000),\\\n",
    "                    np.log(10000), np.log(20000), np.log(30000), \\\n",
    "                     np.log(40000), np.log(50000), np.log(60000),\\\n",
    "                    np.log(70000), np.log(80000), np.log(90000), \\\n",
    "                     np.log(100000), np.log(200000),np.log(300000),np.log(400000),np.log(500000),np.log(600000),\\\n",
    "                    np.log(700000),np.log(800000),np.log(900000),np.log(1000000), np.log(2000000),np.log(3000000),\\\n",
    "                     np.log(4000000),np.log(5000000),np.log(6000000),\\\n",
    "                    np.log(7000000),np.log(8000000),np.log(9000000),np.log(10000000)]\n",
    "    y_major_tick_labels = [\"\",\"\",\"\", \"\", \"\", \"\", \"\", \"\", \"\", \"$10^{1}$\",\"\", \"\", \"\", \"\", \"\", \"\", \"\", \"\", \\\n",
    "                           \"$10^{2}$\",\"\", \"\", \"\", \"\", \"\", \"\", \"\", \"\", \"$10^{3}$\",\"\", \"\", \"\", \"\", \"\", \"\", \"\", \"\", \\\n",
    "                           \"$10^{4}$\",\"\", \"\", \"\", \"\", \"\", \"\", \"\", \"\", \"$10^{5}$\",\"\", \"\", \"\", \"\", \"\", \"\", \"\", \"\", \"$10^{6}$\",\\\n",
    "                          \"\", \"\", \"\", \"\", \"\", \"\", \"\", \"\", \"$10^{7}$\"]\n",
    "    ax1.set_yticks(y_major_ticks)\n",
    "    ax1.set_yticklabels(y_major_tick_labels, fontsize = axisfont)\n",
    "    ax1.yaxis.set_tick_params(width=scale, color = grey3, length = 6)\n",
    "\n",
    "    #Only show the required axis lines\n",
    "    ax1.spines['top'].set_visible(False)\n",
    "    ax1.spines['right'].set_visible(False)\n",
    "\n",
    "    for axis in ['bottom','left']:\n",
    "        ax1.spines[axis].set_linewidth(scale)\n",
    "\n",
    "    for axis in ['bottom','left']:\n",
    "        ax1.spines[axis].set_color(grey3)\n",
    "        \n",
    "    \n",
    "    #set panel legends\n",
    "    legend_marker_size = 8*scale\n",
    "    legend_elements = [Line2D([0], [0], marker = Jaiswalmarker, color = grey3, alpha = 0.4, markersize = legend_marker_size*1.1, \\\n",
    "                              lw=0, label='Jaiswal 2014'),\n",
    "                       Line2D([0], [0], marker = Genovesemarker, color=grey3, alpha=0.4, markersize = legend_marker_size*1.1, \\\n",
    "                              lw=0, label='Genovese 2014'),\n",
    "                       Line2D([0], [0], marker = Mckerrelmarker, color=grey3, alpha=0.4, markersize = legend_marker_size, \\\n",
    "                              lw=0, label='McKerrel 2015'),\n",
    "                       Line2D([0], [0], marker = Zinkmarker, color=grey3, alpha=0.4, markersize = legend_marker_size*1.2, \\\n",
    "                              lw=0, label='Zink 2017'),\n",
    "                      Line2D([0], [0], marker = Acunamarker, color=grey3, alpha=0.4, markersize = legend_marker_size*1.3, \\\n",
    "                              lw=0, label='Acuna-Hidalgo 2017'),\n",
    "                      Line2D([0], [0], marker = Coombsmarker, color=grey3, alpha=0.4, markersize = legend_marker_size*1.2, \\\n",
    "                              lw=0, label='Coombs 2017'),\n",
    "                      Line2D([0], [0], marker = Youngmarker, color=grey3, alpha=0.4, markersize = legend_marker_size*1.2, \\\n",
    "                              lw=0, label='Young 2016 & 2019'),\n",
    "                       Line2D([0], [0], marker = Desaimarker, color=grey3, alpha=0.4, markersize = legend_marker_size*1.5, \\\n",
    "                              lw=0, label='Desai 2018')]\n",
    "\n",
    "    ax1.legend(ncol=1, handles=legend_elements, loc='center', bbox_to_anchor=(0.12, 0.2), frameon=0, fontsize = 11*scale)\n",
    "    \n",
    "    return ax1"
   ]
  },
  {
   "cell_type": "code",
   "execution_count": 37,
   "metadata": {
    "code_folding": [
     0
    ]
   },
   "outputs": [],
   "source": [
    "def plot_log_hist_data_for_plot_solid_smaller(study_VAFs, study_total, study_mu, bin_size, study_name, marker_name, marker_size, color):\n",
    "    #for plotting graphs that will not span the full width of the page and so will need larger markers\n",
    "    log_VAFs = []\n",
    "    for i in study_VAFs:\n",
    "        log_VAFs.append(np.log(float(i)))\n",
    "    normed_value = study_total*2*study_mu\n",
    "    hist, bins = np.histogram(log_VAFs, bins=bin_size, range=(min(log_VAFs),max(log_VAFs)))\n",
    "    widths = np.diff(bins)\n",
    "    bin_centres = (bins[:-1] + bins[1:])/2\n",
    "    hist = np.array(hist, dtype=float)\n",
    "    normalised_hist = hist/(normed_value*widths)\n",
    "    log_hist_for_plot = np.log(normalised_hist)\n",
    "    \n",
    "    errors = error_bars(hist, normed_value, widths)\n",
    "    \n",
    "    axisfont=14*scale\n",
    "    axislabelfont=15*scale\n",
    "    tpfont = 14*scale\n",
    "\n",
    "    m_size = 18*scale\n",
    "    m_width = 1.5*scale\n",
    "    c_size = 3*scale\n",
    "    c_thick = 1.5*scale\n",
    "    e_width = 1.5*scale\n",
    "\n",
    "    Jaiswalmarker = 'o'\n",
    "    Zinkmarker = '^'\n",
    "    Acunamarker = 'P'\n",
    "    Coombsmarker = 'v'\n",
    "    Youngmarker = 'p'\n",
    "    Mckerrelmarker = 'D'\n",
    "    Genovesemarker = 'd'\n",
    "    Desaimarker = '*'\n",
    "    Abelsonmarker = '>'\n",
    "\n",
    "    #Colors\n",
    "    DNMT3A_color = 'dodgerblue'\n",
    "    R882_color = c1\n",
    "    neutralcolor = c3\n",
    "    \n",
    "    #Plot\n",
    "    ax1.errorbar(bin_centres, log_hist_for_plot, yerr= errors, fmt = marker_name, ecolor = color, \\\n",
    "             elinewidth = e_width, capsize = c_size, capthick = c_thick, markersize = marker_size, markeredgewidth = m_width, \\\n",
    "             markeredgecolor = color, markerfacecolor = color, label = study_name, zorder=0)\n",
    "    \n",
    "    # Set axis limits\n",
    "    ax1.set_ylim(1, 14)\n",
    "    ax1.set_xlim(-9, 0)\n",
    "    # ax1.set_xlim(-7.6, 0)\n",
    "\n",
    "    # Axis labels\n",
    "    ax1.set_xlabel('variant allele frequency (%)', fontsize = axislabelfont, labelpad = 6*scale, fontweight = 'medium')\n",
    "    ax1.set_ylabel('relative density of variants', fontsize = axislabelfont, labelpad = 6*scale, fontweight = 'medium')\n",
    "\n",
    "    x_major_ticks = [np.log(0.0001),np.log(0.0002),np.log(0.0003),np.log(0.0004),np.log(0.0005),np.log(0.0006),np.log(0.0007),np.log(0.0008), np.log(0.0009),\\\n",
    "                     np.log(0.001), np.log(0.002),np.log(0.003),np.log(0.004),np.log(0.005),np.log(0.006),np.log(0.007),np.log(0.008),np.log(0.009), \\\n",
    "                     np.log(0.01),np.log(0.02),np.log(0.03),np.log(0.04),np.log(0.05),np.log(0.06),np.log(0.07),np.log(0.08),np.log(0.09),\\\n",
    "                     np.log(0.1),np.log(0.2),np.log(0.3),np.log(0.4),np.log(0.5),np.log(0.6),np.log(0.7),np.log(0.8),np.log(0.9), np.log(1.0)]\n",
    "    x_major_tick_labels = [\"0.01\",\"\",\"\",\"\",\"\",\"\",\"\",\"\",\"\",\\\n",
    "                           \"0.1\",\"\",\"\",\"\",\"\",\"\",\"\",\"\",\"\",\\\n",
    "                           \"1\",\"\",\"\",\"\",\"\",\"\",\"\",\"\",\"\",\\\n",
    "                           \"10\",\"\",\"\",\"\",\"50\",\"\",\"\",\"\",\"\",\"\"]\n",
    "    ax1.set_xticks(x_major_ticks)\n",
    "    ax1.set_xticklabels(x_major_tick_labels, fontsize = axisfont)\n",
    "    ax1.xaxis.set_tick_params(width=scale, color = grey3, length = 6)\n",
    "\n",
    "    y_major_ticks = [np.log(1), np.log(2), np.log(3), \\\n",
    "                     np.log(4), np.log(5), np.log(6), \\\n",
    "                     np.log(7), np.log(8), np.log(9), \\\n",
    "                     np.log(10), np.log(20), np.log(30),\\\n",
    "                     np.log(40), np.log(50), np.log(60), \\\n",
    "                     np.log(70), np.log(80), np.log(90),\\\n",
    "                     np.log(100), np.log(200), np.log(300), \\\n",
    "                     np.log(400), np.log(500), np.log(600),\\\n",
    "                     np.log(700), np.log(800), np.log(900), \\\n",
    "                     np.log(1000), np.log(2000), np.log(3000),\\\n",
    "                    np.log(4000), np.log(5000), np.log(6000), \\\n",
    "                     np.log(7000), np.log(8000), np.log(9000),\\\n",
    "                    np.log(10000), np.log(20000), np.log(30000), \\\n",
    "                     np.log(40000), np.log(50000), np.log(60000),\\\n",
    "                    np.log(70000), np.log(80000), np.log(90000), \\\n",
    "                     np.log(100000), np.log(200000),np.log(300000),np.log(400000),np.log(500000),np.log(600000),\\\n",
    "                    np.log(700000),np.log(800000),np.log(900000),np.log(1000000)]\n",
    "    y_major_tick_labels = [\"\",\"\",\"\", \"\", \"\", \"\", \"\", \"\", \"\", \"$10^{1}$\",\"\", \"\", \"\", \"\", \"\", \"\", \"\", \"\", \\\n",
    "                           \"$10^{2}$\",\"\", \"\", \"\", \"\", \"\", \"\", \"\", \"\", \"$10^{3}$\",\"\", \"\", \"\", \"\", \"\", \"\", \"\", \"\", \\\n",
    "                           \"$10^{4}$\",\"\", \"\", \"\", \"\", \"\", \"\", \"\", \"\", \"$10^{5}$\",\"\", \"\", \"\", \"\", \"\", \"\", \"\", \"\", \"$10^{6}$\"]\n",
    "    ax1.set_yticks(y_major_ticks)\n",
    "    ax1.set_yticklabels(y_major_tick_labels, fontsize = axisfont)\n",
    "    ax1.yaxis.set_tick_params(width=scale, color = grey3, length = 6)\n",
    "\n",
    "    #Only show the required axis lines\n",
    "    ax1.spines['top'].set_visible(False)\n",
    "    ax1.spines['right'].set_visible(False)\n",
    "\n",
    "    for axis in ['bottom','left']:\n",
    "        ax1.spines[axis].set_linewidth(1.5)\n",
    "\n",
    "    for axis in ['bottom','left']:\n",
    "        ax1.spines[axis].set_color(grey3)\n",
    "        \n",
    "    \n",
    "#     #set panel legends\n",
    "#     legend_marker_size = 8*scale\n",
    "#     legend_elements = [Line2D([0], [0], marker = Jaiswalmarker, color = grey3, alpha = 0.4, markersize = legend_marker_size*1.1, \\\n",
    "#                               lw=0, label='Jaiswal 2014'),\n",
    "#                        Line2D([0], [0], marker = Genovesemarker, color=grey3, alpha=0.4, markersize = legend_marker_size*1.1, \\\n",
    "#                               lw=0, label='Genovese 2014'),\n",
    "#                        Line2D([0], [0], marker = Mckerrelmarker, color=grey3, alpha=0.4, markersize = legend_marker_size, \\\n",
    "#                               lw=0, label='McKerrel 2015'),\n",
    "#                        Line2D([0], [0], marker = Zinkmarker, color=grey3, alpha=0.4, markersize = legend_marker_size*1.2, \\\n",
    "#                               lw=0, label='Zink 2017'),\n",
    "#                       Line2D([0], [0], marker = Acunamarker, color=grey3, alpha=0.4, markersize = legend_marker_size*1.3, \\\n",
    "#                               lw=0, label='Acuna-Hidalgo 2017'),\n",
    "#                       Line2D([0], [0], marker = Coombsmarker, color=grey3, alpha=0.4, markersize = legend_marker_size*1.2, \\\n",
    "#                               lw=0, label='Coombs 2017'),\n",
    "#                       Line2D([0], [0], marker = Youngmarker, color=grey3, alpha=0.4, markersize = legend_marker_size*1.2, \\\n",
    "#                               lw=0, label='Young 2016 & 2019'),\n",
    "#                        Line2D([0], [0], marker = Desaimarker, color=grey3, alpha=0.4, markersize = legend_marker_size*1.5, \\\n",
    "#                               lw=0, label='Desai 2018'),]\n",
    "\n",
    "#     ax1.legend(ncol=1, handles=legend_elements, loc='center', bbox_to_anchor=(0.16, 0.2), frameon=0, fontsize = 16*scale)\n",
    "    \n",
    "    return ax1"
   ]
  },
  {
   "cell_type": "markdown",
   "metadata": {},
   "source": [
    "## Generate lists of normalised VAFs & normalised densities for maximum likelihood estimations"
   ]
  },
  {
   "cell_type": "code",
   "execution_count": 38,
   "metadata": {
    "code_folding": [
     0
    ]
   },
   "outputs": [],
   "source": [
    "def normalised_VAF_normalised_densities_list(trimmed_VAF_list, study_total, mu, binmethod):\n",
    "    y1 = []\n",
    "    for i in trimmed_VAF_list:\n",
    "        VAFs = float(i)\n",
    "        y = np.log(VAFs)\n",
    "        y1.append(y)\n",
    "        \n",
    "    normed_value = study_total*2*mu\n",
    "    hist, bins = np.histogram(y1, bins=binmethod, range=(min(y1),max(y1)))\n",
    "    widths = np.diff(bins)\n",
    "    bin_centres = (bins[:-1] + bins[1:])/2\n",
    "    hist = np.array(hist, dtype=float)\n",
    "    normalised_hist = hist/(normed_value*widths)\n",
    "    log_hist_for_plot = np.log(normalised_hist)\n",
    "\n",
    "    errors = error_bars(hist, normed_value, widths)\n",
    "    \n",
    "    VAF_densities=[]\n",
    "    lower_error = []\n",
    "    upper_error = []\n",
    "    for i in errors[0]:\n",
    "        lower_error.append(i)\n",
    "    for i in errors[1]:\n",
    "        upper_error.append(i)\n",
    "    VAF_densities_zip = zip(bin_centres, log_hist_for_plot, lower_error, upper_error)\n",
    "    for a, b, c, d in VAF_densities_zip:\n",
    "        VAF_densities.append((a, b, c, d))\n",
    "        \n",
    "    return VAF_densities    "
   ]
  },
  {
   "cell_type": "code",
   "execution_count": 39,
   "metadata": {
    "code_folding": []
   },
   "outputs": [
    {
     "name": "stderr",
     "output_type": "stream",
     "text": [
      "/anaconda3/lib/python3.7/site-packages/ipykernel_launcher.py:14: RuntimeWarning: divide by zero encountered in log\n",
      "  \n",
      "/anaconda3/lib/python3.7/site-packages/ipykernel_launcher.py:7: RuntimeWarning: divide by zero encountered in log\n",
      "  import sys\n",
      "/anaconda3/lib/python3.7/site-packages/ipykernel_launcher.py:23: RuntimeWarning: divide by zero encountered in log\n",
      "/anaconda3/lib/python3.7/site-packages/ipykernel_launcher.py:26: RuntimeWarning: divide by zero encountered in log\n",
      "/anaconda3/lib/python3.7/site-packages/ipykernel_launcher.py:26: RuntimeWarning: invalid value encountered in double_scalars\n",
      "/anaconda3/lib/python3.7/site-packages/ipykernel_launcher.py:27: RuntimeWarning: divide by zero encountered in log\n",
      "/anaconda3/lib/python3.7/site-packages/ipykernel_launcher.py:27: RuntimeWarning: invalid value encountered in double_scalars\n"
     ]
    }
   ],
   "source": [
    "#R882H\n",
    "Jaiswal_VAF_densities_R882H = normalised_VAF_normalised_densities_list(Jaiswal_DNMT3A_R882H_trimmed_list, Jaiswaltotal, R882H_mu, binmethod)\n",
    "Genovese_VAF_densities_R882H = normalised_VAF_normalised_densities_list(Genovese_DNMT3A_R882H_trimmed_list, Genovesetotal, R882H_mu, binmethod)\n",
    "Zink_VAF_densities_R882H = normalised_VAF_normalised_densities_list(ZinkWGS_DNMT3A_R882H_trimmed_list, ZinkWGStotal, R882H_mu, binmethod)\n",
    "Acuna_VAF_densities_R882H = normalised_VAF_normalised_densities_list(Acuna_DNMT3A_R882H_trimmed_list, Acunatotal, R882H_mu, binmethod)\n",
    "Coombs_VAF_densities_R882H = normalised_VAF_normalised_densities_list(Coombs_DNMT3A_R882H_trimmed_list, Coombstotal, R882H_mu, binmethod)\n",
    "Young_VAF_densities_R882H = normalised_VAF_normalised_densities_list(Young2016_2019_DNMT3A_R882H_trimmed_list, Youngtotal+Young2019totalcontrols, R882H_mu, binmethod)\n",
    "Desai_VAF_densities_R882H = normalised_VAF_normalised_densities_list(Desai_DNMT3A_R882H_trimmed_list, Desaitotal, R882H_mu, binmethod)\n",
    "McKerrel_VAF_densities_R882H = normalised_VAF_normalised_densities_list(McKerrel_DNMT3A_R882H_trimmed_list, McKerreltotal, R882H_mu, binmethod)"
   ]
  },
  {
   "cell_type": "code",
   "execution_count": 40,
   "metadata": {
    "code_folding": []
   },
   "outputs": [],
   "source": [
    "# R882H densities (normalised by 2 x mu)\n",
    "R882H_densities = Jaiswal_VAF_densities_R882H+Zink_VAF_densities_R882H+Acuna_VAF_densities_R882H+Coombs_VAF_densities_R882H+Young_VAF_densities_R882H+ \\\n",
    "McKerrel_VAF_densities_R882H+Genovese_VAF_densities_R882H+Desai_VAF_densities_R882H\n",
    "\n",
    "R882H_densities_without_inf = []    #remove the densities for the VAF bins for which there were no densities\n",
    "for i in R882H_densities:\n",
    "    if i[1] != -(float('inf')):\n",
    "        R882H_densities_without_inf.append(i)"
   ]
  },
  {
   "cell_type": "code",
   "execution_count": 41,
   "metadata": {
    "code_folding": []
   },
   "outputs": [
    {
     "name": "stderr",
     "output_type": "stream",
     "text": [
      "/anaconda3/lib/python3.7/site-packages/ipykernel_launcher.py:14: RuntimeWarning: divide by zero encountered in log\n",
      "  \n",
      "/anaconda3/lib/python3.7/site-packages/ipykernel_launcher.py:7: RuntimeWarning: divide by zero encountered in log\n",
      "  import sys\n",
      "/anaconda3/lib/python3.7/site-packages/ipykernel_launcher.py:23: RuntimeWarning: divide by zero encountered in log\n",
      "/anaconda3/lib/python3.7/site-packages/ipykernel_launcher.py:26: RuntimeWarning: divide by zero encountered in log\n",
      "/anaconda3/lib/python3.7/site-packages/ipykernel_launcher.py:26: RuntimeWarning: invalid value encountered in double_scalars\n",
      "/anaconda3/lib/python3.7/site-packages/ipykernel_launcher.py:27: RuntimeWarning: divide by zero encountered in log\n",
      "/anaconda3/lib/python3.7/site-packages/ipykernel_launcher.py:27: RuntimeWarning: invalid value encountered in double_scalars\n"
     ]
    }
   ],
   "source": [
    "#DNMT3A nonsynonymous\n",
    "Jaiswal_DNMT3A_nonsyn_VAF_densities = normalised_VAF_normalised_densities_list(Jaiswal_DNMT3A_nonsyn_without_R882H_trimmed_list, Jaiswaltotal, Jaiswal_DNMT3A_mu-R882H_mu, binmethod)\n",
    "Genovese_DNMT3A_nonsyn_VAF_densities = normalised_VAF_normalised_densities_list(Genovese_DNMT3A_nonsyn_without_R882H_trimmed_list, Genovesetotal, Genovese_DNMT3A_mu-R882H_mu, binmethod)\n",
    "Zink_DNMT3A_nonsyn_densities = normalised_VAF_normalised_densities_list(ZinkWGS_DNMT3A_nonsyn_without_R882H_trimmed_list, ZinkWGStotal, Zink_DNMT3A_mu-R882H_mu, binmethod)\n",
    "Acuna_DNMT3A_nonsyn_VAF_densities = normalised_VAF_normalised_densities_list(Acuna_DNMT3A_nonsyn_without_R882H_trimmed_list, Acunatotal, Acuna_DNMT3A_mu-R882H_mu, binmethod)\n",
    "Coombs_DNMT3A_nonsyn_VAF_densities = normalised_VAF_normalised_densities_list(Coombs_DNMT3A_nonsyn_without_R882H_trimmed_list, Coombstotal, Coombs_DNMT3A_mu-R882H_mu, binmethod)\n",
    "Young_DNMT3A_nonsyn_VAF_densities = normalised_VAF_normalised_densities_list(Young2016_2019_DNMT3A_nonsyn_without_R882H_trimmed_list, Youngtotal+Young2019totalcontrols, Young_DNMT3A_mu-R882H_mu, binmethod)\n",
    "Desai_DNMT3A_nonsyn_VAF_densities = normalised_VAF_normalised_densities_list(Desai_DNMT3A_nonsyn_without_R882H_trimmed_list, Desaitotal, Desai_DNMT3A_mu-R882H_mu, binmethod)"
   ]
  },
  {
   "cell_type": "code",
   "execution_count": 42,
   "metadata": {
    "code_folding": []
   },
   "outputs": [],
   "source": [
    "# Nonsynonymous densities (normalised by 2 x mu)\n",
    "DNMT3A_nonsyn_densities = Jaiswal_DNMT3A_nonsyn_VAF_densities + Genovese_DNMT3A_nonsyn_VAF_densities +Zink_DNMT3A_nonsyn_densities+Acuna_DNMT3A_nonsyn_VAF_densities+\\\n",
    "Coombs_DNMT3A_nonsyn_VAF_densities+Young_DNMT3A_nonsyn_VAF_densities+Desai_DNMT3A_nonsyn_VAF_densities\n",
    "\n",
    "DNMT3A_nonsyn_densities_without_inf = []    \n",
    "for i in DNMT3A_nonsyn_densities:\n",
    "    if i[1] != -(float('inf')):\n",
    "        DNMT3A_nonsyn_densities_without_inf.append(i)"
   ]
  },
  {
   "cell_type": "code",
   "execution_count": 43,
   "metadata": {
    "code_folding": []
   },
   "outputs": [
    {
     "name": "stderr",
     "output_type": "stream",
     "text": [
      "/anaconda3/lib/python3.7/site-packages/ipykernel_launcher.py:14: RuntimeWarning: divide by zero encountered in log\n",
      "  \n",
      "/anaconda3/lib/python3.7/site-packages/ipykernel_launcher.py:7: RuntimeWarning: divide by zero encountered in log\n",
      "  import sys\n",
      "/anaconda3/lib/python3.7/site-packages/ipykernel_launcher.py:23: RuntimeWarning: divide by zero encountered in log\n",
      "/anaconda3/lib/python3.7/site-packages/ipykernel_launcher.py:26: RuntimeWarning: divide by zero encountered in log\n",
      "/anaconda3/lib/python3.7/site-packages/ipykernel_launcher.py:26: RuntimeWarning: invalid value encountered in double_scalars\n",
      "/anaconda3/lib/python3.7/site-packages/ipykernel_launcher.py:27: RuntimeWarning: divide by zero encountered in log\n",
      "/anaconda3/lib/python3.7/site-packages/ipykernel_launcher.py:27: RuntimeWarning: invalid value encountered in double_scalars\n"
     ]
    }
   ],
   "source": [
    "#Synonymous variants\n",
    "Young_VAF_densities_neutral = normalised_VAF_normalised_densities_list(Young2016_2019_synonymous_trimmed_list, Youngtotal+Young2019totalcontrols, Young_synonymous_mu, young_synonymous_bins)\n",
    "Acuna_VAF_densities_neutral = normalised_VAF_normalised_densities_list(Acuna_synonymous_trimmed_list, Acunatotal, Acuna_synonymous_mu, binmethod)"
   ]
  },
  {
   "cell_type": "code",
   "execution_count": 44,
   "metadata": {
    "code_folding": []
   },
   "outputs": [],
   "source": [
    "# Synonymous densities (normalised by 2 x mu)\n",
    "Neutral_densities = Young_VAF_densities_neutral+Acuna_VAF_densities_neutral\n",
    "\n",
    "Neutral_densities_without_inf = []    #remove the densities for the VAF bins for which there were no densities\n",
    "for i in Neutral_densities:\n",
    "    if i[1] != -(float('inf')):\n",
    "        Neutral_densities_without_inf.append(i)"
   ]
  },
  {
   "cell_type": "markdown",
   "metadata": {},
   "source": [
    "## Maxmimum Likelihood Estimations"
   ]
  },
  {
   "cell_type": "code",
   "execution_count": 45,
   "metadata": {
    "code_folding": [
     0
    ]
   },
   "outputs": [],
   "source": [
    "def confidence_interval_95(x1, y1, z1, gene_color): #95% confidence interval for s\n",
    "    x1y1z1 = zip(x1, y1, z1)\n",
    "    \n",
    "    xyz_list=[]\n",
    "    for a, b, c in x1y1z1:\n",
    "        xyz_list.append([a, b, c])\n",
    "        \n",
    "    total_prob_array=np.array([0.0 for i in range(len(xyz_list[0][0]))])\n",
    "    for entry in xyz_list:\n",
    "        s_array=entry[0] #i.e. x1\n",
    "        prob_array=entry[2] #i.e.z1\n",
    "        total_prob_array=total_prob_array+prob_array\n",
    "\n",
    "    total_prob=sum(total_prob_array)\n",
    "    normalized_prob_array=total_prob_array/total_prob\n",
    "\n",
    "    cumulative_prob=0.0\n",
    "\n",
    "    s_95_range=[]\n",
    "    s_range_probs = []\n",
    "    s_cumulative_prob_95_range=[]\n",
    "    for s, p in zip(s_array, normalized_prob_array):\n",
    "        s_range_probs.append((s,p))\n",
    "        cumulative_prob=cumulative_prob+p\n",
    "#         print(cumulative_prob)\n",
    "        if 0.05<cumulative_prob<0.95:\n",
    "            s_95_range.append(s)\n",
    "            s_cumulative_prob_95_range.append((s, p, cumulative_prob))\n",
    "    \n",
    "    min_s=min(s_95_range)\n",
    "    max_s=max(s_95_range)\n",
    "    \n",
    "    print('95% confidence interval for s: lower s =', min_s)\n",
    "    print('95% confidence interval for s: upper s =', max_s)\n",
    "    \n",
    "    #plotting the most likely s\n",
    "    xmax, ymax = np.unravel_index(np.argmax(z1), z1.shape)\n",
    "    s_mle = x1[xmax, ymax]\n",
    "\n",
    "    #plot distribution\n",
    "    s_list = []\n",
    "    probs_list = []\n",
    "    for (s, probs) in s_range_probs:\n",
    "        s_list.append(s*100)\n",
    "        probs_list.append(probs)\n",
    "\n",
    "    ax1.plot(s_list, probs_list, color = gene_color, lw = 2)\n",
    "\n",
    "    #plot confidence interval\n",
    "    ax1.plot([min_s*100, min_s*100], [0, 1], linestyle = ':', color = grey4, lw = 2)\n",
    "    ax1.plot([max_s*100, max_s*100], [0, 1], linestyle = ':', color = grey4, lw = 2)\n",
    "    ax1.plot([s_mle*100, s_mle*100], [0, 1], linestyle = ':', color = gene_color, lw = 2)\n",
    "\n",
    "    # Set axis limits\n",
    "    mins = min(s_list)-0.5\n",
    "    maxs = max(s_list)+0.5\n",
    "    ax1.set_ylim(0, (max(probs_list)+0.0005))\n",
    "    ax1.set_xlim(mins, maxs)\n",
    "\n",
    "    # Axis labels\n",
    "    ax1.set_xlabel('s (%)', fontsize = axislabelfont, labelpad = 10, fontweight = 'medium')\n",
    "    ax1.set_ylabel('probability', fontsize = axislabelfont, labelpad = 10, fontweight = 'medium')\n",
    "\n",
    "    ax1.xaxis.set_tick_params(width=scale, color = grey3, length = 6, labelsize = 16, top = False, labeltop = False)\n",
    "    ax1.yaxis.set_tick_params(width=scale, color = grey3, length = 6, labelsize = 16)\n",
    "\n",
    "    #Only show the required axis lines\n",
    "    ax1.spines['top'].set_visible(False)\n",
    "    ax1.spines['right'].set_visible(False)\n",
    "\n",
    "    for axis in ['bottom','left']:\n",
    "        ax1.spines[axis].set_linewidth(1.5)\n",
    "\n",
    "    for axis in ['bottom','left']:\n",
    "        ax1.spines[axis].set_color(grey3)\n",
    "\n",
    "    return ax1, min_s, max_s"
   ]
  },
  {
   "cell_type": "code",
   "execution_count": 46,
   "metadata": {
    "code_folding": [
     0
    ]
   },
   "outputs": [],
   "source": [
    "def confidence_interval_95_mu(x1, y1, z1, gene_color): #95% confidence interval for muation rate increase\n",
    "    x1y1z1 = zip(x1, y1, z1)\n",
    "    \n",
    "    xyz_list=[]\n",
    "    for a, b, c in x1y1z1:\n",
    "        xyz_list.append([a, b, c])\n",
    "        \n",
    "    total_prob_array=np.array([0.0 for i in range(len(xyz_list[0][0]))])\n",
    "    for entry in xyz_list:\n",
    "        mu_array=entry[0] #i.e. x2\n",
    "        prob_array=entry[2] #i.e.z1\n",
    "        total_prob_array=total_prob_array+prob_array\n",
    "\n",
    "    total_prob=sum(total_prob_array)\n",
    "    normalized_prob_array=total_prob_array/total_prob\n",
    "\n",
    "    cumulative_prob=0.0\n",
    "\n",
    "    mu_95_range=[]\n",
    "    mu_range_probs = []\n",
    "    mu_cumulative_prob_95_range=[]\n",
    "    for mu, p in zip(mu_array, normalized_prob_array):\n",
    "        mu_range_probs.append((mu,p))\n",
    "        cumulative_prob=cumulative_prob+p\n",
    "#         print(cumulative_prob)\n",
    "        if 0.05<cumulative_prob<0.95:\n",
    "            mu_95_range.append(mu)\n",
    "            mu_cumulative_prob_95_range.append((mu, p, cumulative_prob))\n",
    "    \n",
    "#     print(s_cumulative_prob_95_range)\n",
    "            \n",
    "    min_mu=min(mu_95_range)\n",
    "    max_mu=max(mu_95_range)\n",
    "    \n",
    "    print('95% confidence interval for mu_ben: lower =', min_mu)\n",
    "    print('95% confidence interval for mu_ben: upper =', max_mu)\n",
    "    \n",
    "    #plotting the most likely mu_ben\n",
    "    xmax, ymax = np.unravel_index(np.argmax(z1), z1.shape)\n",
    "    mu_mle = x1[xmax, ymax]\n",
    "\n",
    "    #plot distribution\n",
    "    mu_list = []\n",
    "    probs_list = []\n",
    "    for (mu, probs) in mu_range_probs:\n",
    "        mu_list.append(mu)\n",
    "        probs_list.append(probs)\n",
    "\n",
    "    ax2.plot(mu_list, probs_list, color = gene_color, lw = 2)\n",
    "\n",
    "    #plot confidence interval\n",
    "    ax2.plot([min_mu, min_mu], [0, 1], linestyle = ':', color = grey4, lw = 2)\n",
    "    ax2.plot([max_mu, max_mu], [0, 1], linestyle = ':', color = grey4, lw = 2)\n",
    "    ax2.plot([mu_mle, mu_mle], [0, 1], linestyle = ':', color = gene_color, lw = 2)\n",
    "\n",
    "    # Set axis limits\n",
    "    ax2.set_ylim(0, (max(probs_list)+0.0005))\n",
    "\n",
    "    # Axis labels\n",
    "    ax2.set_xlabel('mu_ben', fontsize = axislabelfont, labelpad = 10, fontweight = 'medium')\n",
    "    ax2.set_ylabel('probability', fontsize = axislabelfont, labelpad = 10, fontweight = 'medium')\n",
    "\n",
    "    ax2.xaxis.set_tick_params(width=scale, color = grey3, length = 6, labelsize = 16, top = False, labeltop = False)\n",
    "    ax2.yaxis.set_tick_params(width=scale, color = grey3, length = 6, labelsize = 16)\n",
    "\n",
    "    #Only show the required axis lines\n",
    "    ax2.spines['top'].set_visible(False)\n",
    "    ax2.spines['right'].set_visible(False)\n",
    "\n",
    "    for axis in ['bottom','left']:\n",
    "        ax2.spines[axis].set_linewidth(1.5)\n",
    "\n",
    "    for axis in ['bottom','left']:\n",
    "        ax2.spines[axis].set_color(grey3)\n",
    "\n",
    "    return ax2, min_mu, max_mu"
   ]
  },
  {
   "cell_type": "markdown",
   "metadata": {},
   "source": [
    "### DNMT3A R882H"
   ]
  },
  {
   "cell_type": "markdown",
   "metadata": {},
   "source": [
    "- Calculate the most likely N$\\tau$, s and sigma for DNMT3A R882H variants from the data, given a range of ages (0-108 years)."
   ]
  },
  {
   "cell_type": "code",
   "execution_count": 65,
   "metadata": {
    "code_folding": [
     0
    ]
   },
   "outputs": [],
   "source": [
    "#MLE function for range of ages\n",
    "#l=ln(f)\n",
    "\n",
    "def logProbtheory_ages(l, params): #= predicted density (i.e. normalised by 2 x mu)\n",
    "    \"Natural log of the probability of observing a variant within a specific binwidth if able to sequence perfectly\"\n",
    "    total_density=0.0\n",
    "    N=params[0]\n",
    "    s=params[1]\n",
    "    sigma = params[2]\n",
    "    mean=55\n",
    "    dt=0.1\n",
    "\n",
    "    total_density=integrate.quad(lambda t: (N/(1-2*np.exp(l))*np.exp(-((np.exp(l))/(((np.exp(s*t)-1)/(2*N*s))*(1-2*np.exp(l))))))*\\\n",
    "                                 ((1/((2*np.pi*(sigma)**2)**0.5))*(np.exp(-(t-mean)**2/(2*(sigma**2))))), mean-2*sigma, mean+2*sigma)\n",
    "    return np.log(total_density[0])\n",
    "\n",
    "def logProbDataGivenModel_ages(params, data):\n",
    "    \"This returns the natural log likelihood of the entire data, in specified binwidths, for a given theta and phi\"\n",
    "    total_square_distance = 0\n",
    "    ages = np.linspace(0, 108, 109)\n",
    "    for age in ages:\n",
    "        for datapoint in data:\n",
    "            if np.exp(datapoint[0])<0.5:\n",
    "                logfreq = datapoint[0]\n",
    "                predicted_log_density = logProbtheory_ages(logfreq, params)\n",
    "                square_distance = ((datapoint[1] - predicted_log_density)**2)\n",
    "                total_square_distance = total_square_distance + square_distance\n",
    "    return total_square_distance   "
   ]
  },
  {
   "cell_type": "code",
   "execution_count": 81,
   "metadata": {},
   "outputs": [
    {
     "data": {
      "text/plain": [
       " final_simplex: (array([[9.40166610e+04, 1.47557939e-01, 1.14417164e+01],\n",
       "       [9.40166610e+04, 1.47557939e-01, 1.14417164e+01],\n",
       "       [9.40166611e+04, 1.47557939e-01, 1.14417164e+01],\n",
       "       [9.40166610e+04, 1.47557939e-01, 1.14417164e+01]]), array([2353.74394248, 2353.74394248, 2353.74394248, 2353.74394248]))\n",
       "           fun: 2353.74394248332\n",
       "       message: 'Optimization terminated successfully.'\n",
       "          nfev: 261\n",
       "           nit: 131\n",
       "        status: 0\n",
       "       success: True\n",
       "             x: array([9.40166610e+04, 1.47557939e-01, 1.14417164e+01])"
      ]
     },
     "execution_count": 81,
     "metadata": {},
     "output_type": "execute_result"
    }
   ],
   "source": [
    "ages = np.linspace(0, 108, 109) #age range for all the stuides together\n",
    "initial_guess=[50000, 0.13, 15] #initial guess for [N\\tau, s, sigma] (where sigma = standard deviation of ages)\n",
    "scipy.optimize.minimize(logProbDataGivenModel_ages, initial_guess, args=(R882H_densities_without_inf,), method='Nelder-Mead')   "
   ]
  },
  {
   "cell_type": "markdown",
   "metadata": {},
   "source": [
    "**N$\\tau$ = 9.40166610e+04**\n",
    "<br>\n",
    "**s (for DNMT3A R882H) = 1.47557939e-01**\n",
    "<br>\n",
    "**standard deviation of ages = 1.14417164e+01**"
   ]
  },
  {
   "cell_type": "markdown",
   "metadata": {},
   "source": [
    "### DNMT3A nonsynonymous variants"
   ]
  },
  {
   "cell_type": "markdown",
   "metadata": {},
   "source": [
    "- Use the N$\\tau$ and sigma inferred from the DNMT3A R882H variants to determine the distribution of s across DNMT3A nonsynonymous variants, using an exponential power distribution of s."
   ]
  },
  {
   "cell_type": "code",
   "execution_count": 66,
   "metadata": {
    "code_folding": [
     0
    ]
   },
   "outputs": [],
   "source": [
    "# MLE function for range of ages with EXPONENTIAL POWER DISTRIBUTION\n",
    "#l=ln(f)\n",
    "\n",
    "def logProbtheory_ages_nonsyn_exp_power(l, params): #= predicted density (i.e. normalised by 2 x mu)\n",
    "    \"Natural log of the probability of observing a variant within a specific binwidth if able to sequence perfectly\"\n",
    "    total_density=0.0\n",
    "\n",
    "    N = 9.39358404e+04\n",
    "    sigma = 1.14431010e+01\n",
    "    s_peak = 0.0\n",
    "    b = params[0]\n",
    "    d = params[1]\n",
    "    mean=55\n",
    "    dt=0.1\n",
    "\n",
    "    s_max=params[2]\n",
    "    \n",
    "    weight_s= lambda s: np.exp(-((abs(s-s_peak))/d)**b)\n",
    "    normalization=integrate.quad(weight_s, 0.0, s_max)\n",
    "    normalized_rho_s= lambda s: (1.0/normalization[0])*np.exp(-((abs(s-s_peak))/d)**b)\n",
    "    \n",
    "    rho=lambda t,s: (normalized_rho_s(s))*(N/(1-2*np.exp(l))*np.exp(-((np.exp(l))/(((np.exp(s*t)-1)/(2*N*s))*(1-2*np.exp(l))))))*((1/((2*np.pi*(sigma)**2)**0.5))*(np.exp(-(t-mean)**2/(2*(sigma**2)))))\n",
    "\n",
    "    total_density=integrate.dblquad(rho, 0.0, s_max, lambda s: mean-2*sigma, lambda s: mean+2*sigma)\n",
    "\n",
    "    return np.log(total_density[0])\n",
    "\n",
    "def logProbDataGivenModel_ages_nonsyn_exp_power(params, data): \n",
    "    \"This returns the natural log likelihood of the entire data, in specified binwidths, for a given theta and phi\"\n",
    "    total_square_distance = 0\n",
    "    for datapoint in data:\n",
    "        if np.exp(datapoint[0])<0.5:\n",
    "            logfreq = datapoint[0]\n",
    "            predicted_log_density = logProbtheory_ages_nonsyn_exp_power(logfreq, params)\n",
    "            square_distance = ((datapoint[1] - predicted_log_density)**2)\n",
    "            total_square_distance = total_square_distance + square_distance\n",
    "                \n",
    "    return total_square_distance   "
   ]
  },
  {
   "cell_type": "code",
   "execution_count": 49,
   "metadata": {
    "code_folding": []
   },
   "outputs": [
    {
     "data": {
      "text/plain": [
       " final_simplex: (array([[1.35567632, 0.0573614 , 0.18749274],\n",
       "       [1.35574397, 0.05736425, 0.18749601],\n",
       "       [1.35567603, 0.05736141, 0.18749346],\n",
       "       [1.35574185, 0.05736451, 0.18749387]]), array([31.78343623, 31.78343624, 31.78343624, 31.78343624]))\n",
       "           fun: 31.783436234489812\n",
       "       message: 'Optimization terminated successfully.'\n",
       "          nfev: 262\n",
       "           nit: 148\n",
       "        status: 0\n",
       "       success: True\n",
       "             x: array([1.35567632, 0.0573614 , 0.18749274])"
      ]
     },
     "execution_count": 49,
     "metadata": {},
     "output_type": "execute_result"
    }
   ],
   "source": [
    "ages = np.linspace(0, 108, 109) #age range for all the stuides together\n",
    "initial_guess=[0.8, 0.014, 0.25] #initial guess for [b, d, s_max]\n",
    "scipy.optimize.minimize(logProbDataGivenModel_ages_nonsyn_exp_power, initial_guess, \\\n",
    "                        args=(DNMT3A_nonsyn_densities_without_inf,), method='Nelder-Mead',\\\n",
    "                       options = {'maxiter': 10000, 'maxfev': 10000})   "
   ]
  },
  {
   "cell_type": "markdown",
   "metadata": {},
   "source": [
    "**b = 1.35567632**\n",
    "<br>\n",
    "**d = 0.0573614**\n",
    "<br>\n",
    "**s_max = 0.18749274**"
   ]
  },
  {
   "cell_type": "markdown",
   "metadata": {},
   "source": [
    "### Synonymous variants (in any gene)"
   ]
  },
  {
   "cell_type": "markdown",
   "metadata": {},
   "source": [
    "- Determine how much the predicted phi for the synonymous variants differs (by factor of 'c') from the phi predicted from the N$\\tau$ inferred from the DNMT3A R882H variants (phi = age/2N$\\tau$)."
   ]
  },
  {
   "cell_type": "markdown",
   "metadata": {},
   "source": [
    "#### Including all synonymous variants in the MLE"
   ]
  },
  {
   "cell_type": "code",
   "execution_count": 50,
   "metadata": {
    "code_folding": [
     0
    ]
   },
   "outputs": [],
   "source": [
    "#l=ln(f)\n",
    "\n",
    "def logProbtheory_ages_neutral_all(l, params): #= predicted density (i.e. normalised by 2 x mu)\n",
    "    \"Natural log of the probability of observing a variant within a specific binwidth if able to sequence perfectly\"\n",
    "    total_density=0.0\n",
    "    N = 9.40166610e+04     \n",
    "    c = params[0]\n",
    "    mean=45.5 # mean age\n",
    "    dt=0.1\n",
    "\n",
    "    # FOR UNIFORM DISTIRIBUTION OF AGES\n",
    "    total_density=integrate.quad(lambda t: (((N/(1-2*np.exp(l)))*np.exp(-((np.exp(l))/(((c*t)/(2*N))*(1-2*np.exp(l)))))))*(1/49), 20, 69)\n",
    "    \n",
    "    return np.log(total_density[0])        \n",
    "\n",
    "def logProbDataGivenModel_ages_neutral_all(params, data): \n",
    "    \"This returns the natural log likelihood of the entire data, in specified binwidths, for a given theta and phi\"\n",
    "    total_square_distance = 0\n",
    "    for datapoint in data:\n",
    "        logfreq = datapoint[0]\n",
    "        predicted_log_density = logProbtheory_ages_neutral_all(logfreq, params)\n",
    "        square_distance = ((datapoint[1] - predicted_log_density)**2)\n",
    "        total_square_distance = total_square_distance + square_distance\n",
    "\n",
    "    return total_square_distance   "
   ]
  },
  {
   "cell_type": "code",
   "execution_count": 51,
   "metadata": {
    "code_folding": [],
    "scrolled": false
   },
   "outputs": [
    {
     "data": {
      "text/plain": [
       " final_simplex: (array([[4.77460938],\n",
       "       [4.77451172]]), array([65.64786346, 65.64786351]))\n",
       "           fun: 65.64786345674166\n",
       "       message: 'Optimization terminated successfully.'\n",
       "          nfev: 44\n",
       "           nit: 22\n",
       "        status: 0\n",
       "       success: True\n",
       "             x: array([4.77460938])"
      ]
     },
     "execution_count": 51,
     "metadata": {},
     "output_type": "execute_result"
    }
   ],
   "source": [
    "initial_guess=[0.5]\n",
    "scipy.optimize.minimize(logProbDataGivenModel_ages_neutral_all, initial_guess, args=(Neutral_densities_without_inf,), method='Nelder-Mead')   "
   ]
  },
  {
   "cell_type": "markdown",
   "metadata": {},
   "source": [
    "**c = 4.77460938** (i.e. phi = 4.77x greater than predicted by simply phi = age/2N$\\tau$)"
   ]
  },
  {
   "cell_type": "code",
   "execution_count": 52,
   "metadata": {
    "code_folding": [
     0
    ]
   },
   "outputs": [
    {
     "name": "stdout",
     "output_type": "stream",
     "text": [
      "95% confidence interval for c: lower c = 4.348484848484849\n",
      "95% confidence interval for c: upper c = 5.318181818181818\n",
      "95% confidence interval for phi: lower phi = 0.10522393504597052\n",
      "95% confidence interval for phi: upper phi = 0.12868850592730194\n",
      "MLE phi = 0.11548968480655303\n"
     ]
    },
    {
     "data": {
      "image/png": "[encoded data removed]",
      "text/plain": [
       "<Figure size 504x504 with 1 Axes>"
      ]
     },
     "metadata": {
      "needs_background": "light"
     },
     "output_type": "display_data"
    }
   ],
   "source": [
    "#Synonymous variants (all) - CONFIDENCE INTERVALS\n",
    "plt.close('all')\n",
    "f, (ax1) = plt.subplots(1, 1, sharey=True, figsize=(7, 7))\n",
    "scale = 1\n",
    "\n",
    "c_list = np.linspace(3.5, 6.5, 100)\n",
    "logProbs = np.array([logProbDataGivenModel_ages_neutral_all([c], Neutral_densities_without_inf) for c in c_list])\n",
    "\n",
    "x1_list = c_list\n",
    "z1_list = np.exp(-logProbs)\n",
    "\n",
    "x1z1 = zip(x1_list, z1_list)\n",
    "\n",
    "xz_list=[]\n",
    "for a, b in x1z1:\n",
    "    xz_list.append([a, b])\n",
    "\n",
    "total_prob = 0\n",
    "c_list = []\n",
    "logProb_list = []\n",
    "for entry in xz_list:\n",
    "    c_list.append(entry[0]) #i.e. x1\n",
    "    prob = entry[1]\n",
    "    logProb_list.append(prob)\n",
    "\n",
    "total_probs=np.sum(logProb_list)\n",
    "normalized_prob_list=logProb_list/total_probs\n",
    "\n",
    "# print(np.sum(normalized_prob_list))\n",
    "\n",
    "cumulative_prob=0.0\n",
    "c_95_range=[]\n",
    "c_95CI_range = []\n",
    "c_range_probs = []\n",
    "c_cumulative_prob_95_range=[]\n",
    "\n",
    "for c, p in zip(c_list, normalized_prob_list):\n",
    "    c_range_probs.append((c,p))\n",
    "    cumulative_prob=cumulative_prob+p\n",
    "#         print(cumulative_prob)\n",
    "    if 0.05<cumulative_prob<0.95:\n",
    "        c_95_range.append(c)\n",
    "        c_95CI_range.append((c, p))\n",
    "        c_cumulative_prob_95_range.append((c, p, cumulative_prob))\n",
    "\n",
    "min_c=min(c_95_range)\n",
    "max_c=max(c_95_range)\n",
    "\n",
    "#CONVERT C'S INTO PHIS (i.e. phi = c*(t/2*N)) as percentages (i.e. multiply by 100)\n",
    "N = 9.40166610e+04\n",
    "t = 45.5\n",
    "min_phi = min_c*(t/(2*N))*100\n",
    "max_phi = max_c*(t/(2*N))*100\n",
    "\n",
    "#plotting the most likely s\n",
    "xmax = np.unravel_index(np.argmax(z1_list), z1_list.shape)\n",
    "c_mle = x1_list[xmax]\n",
    "phi_mle = c_mle*(t/(2*N))*100\n",
    "\n",
    "#plot distribution\n",
    "c_list = []\n",
    "phi_list = []\n",
    "probs_list = []\n",
    "for (c, probs) in c_range_probs:\n",
    "    phi = c*(t/(2*N))\n",
    "    c_list.append(c)\n",
    "    phi_list.append(phi*100)\n",
    "    probs_list.append(probs)\n",
    "    \n",
    "phi_listCI = []\n",
    "probs_listCI = []\n",
    "probs_95_list = []\n",
    "for (c, probs) in c_95CI_range:\n",
    "    phi_listCI.append((c*(t/(2*N)))*100)\n",
    "    probs_listCI.append(probs)\n",
    "\n",
    "ax1.plot(phi_list, probs_list, color = neutralcolor, lw = 2)\n",
    "ax1.fill_between(phi_listCI, probs_listCI, color = neutralcolor, alpha = 0.2)\n",
    "\n",
    "#plot confidence interval\n",
    "ax1.plot([min_phi, min_phi], [0, 1], linestyle = ':', color = 'sienna', lw = 2)\n",
    "ax1.plot([max_phi, max_phi], [0, 1], linestyle = ':', color = 'sienna', lw = 2)\n",
    "ax1.plot([phi_mle, phi_mle], [0, 1], linestyle = ':', color = neutralcolor, lw = 2)\n",
    "\n",
    "# Set axis limits\n",
    "# minphi = min(phi_list)-0.1\n",
    "# maxphi = max(phi_list)+0.1\n",
    "ax1.set_ylim(0, 0.05)\n",
    "# ax1.set_xlim(minphi, maxphi)\n",
    "\n",
    "# Axis labels\n",
    "ax1.set_xlabel('phi (%)', fontsize = axislabelfont, labelpad = 10, fontweight = 'medium')\n",
    "ax1.set_ylabel('probability', fontsize = axislabelfont, labelpad = 10, fontweight = 'medium')\n",
    "\n",
    "ax1.xaxis.set_tick_params(width=scale, color = grey3, length = 6, labelsize = 16, top = False, labeltop = False)\n",
    "ax1.yaxis.set_tick_params(width=scale, color = grey3, length = 6, labelsize = 16)\n",
    "\n",
    "#set labels\n",
    "ax1.set_title(\"Synonymous variants (all)\", y = 1.05, fontsize = titlefont, fontweight='bold')\n",
    "\n",
    "print('95% confidence interval for c: lower c =', min_c)\n",
    "print('95% confidence interval for c: upper c =', max_c)\n",
    "print('95% confidence interval for phi: lower phi =', min_phi)\n",
    "print('95% confidence interval for phi: upper phi =', max_phi)\n",
    "print('MLE phi =', phi_mle)\n",
    "\n",
    "#Only show the required axis lines\n",
    "# ax1.spines['top'].set_visible(False)\n",
    "# ax1.spines['right'].set_visible(False)\n",
    "\n",
    "for axis in ['bottom','left', 'top', 'right']:\n",
    "    ax1.spines[axis].set_linewidth(1.5)\n",
    "\n",
    "for axis in ['bottom','left', 'top', 'right']:\n",
    "    ax1.spines[axis].set_color(grey3)\n",
    "    \n",
    "plt.show()"
   ]
  },
  {
   "cell_type": "markdown",
   "metadata": {},
   "source": [
    "#### Including only synonymous variants with VAF <0.25% in the MLE"
   ]
  },
  {
   "cell_type": "code",
   "execution_count": 53,
   "metadata": {
    "code_folding": [
     0
    ]
   },
   "outputs": [],
   "source": [
    "#l=ln(f)\n",
    "\n",
    "def logProbtheory_ages_neutral(l, params): #= predicted density (i.e. normalised by 2 x mu)\n",
    "    \"Natural log of the probability of observing a variant within a specific binwidth if able to sequence perfectly\"\n",
    "    total_density=0.0\n",
    "    N = 9.40166610e+04   \n",
    "    c = params[0]\n",
    "    mean=45.5 # mean age\n",
    "    dt=0.1\n",
    "\n",
    "    # FOR UNIFORM DISTIRIBUTION OF AGES\n",
    "    total_density=integrate.quad(lambda t: (((N/(1-2*np.exp(l)))*np.exp(-((np.exp(l))/(((c*t)/(2*N))*(1-2*np.exp(l)))))))*(1/49), 20, 69)\n",
    "    \n",
    "    return np.log(total_density[0])        \n",
    "\n",
    "def logProbDataGivenModel_ages_neutral(params, data): \n",
    "    \"This returns the natural log likelihood of the entire data, in specified binwidths, for a given theta and phi\"\n",
    "    total_square_distance = 0\n",
    "    for datapoint in data:\n",
    "        if np.exp(datapoint[0])<0.0025:\n",
    "            logfreq = datapoint[0]\n",
    "            predicted_log_density = logProbtheory_ages_neutral(logfreq, params)\n",
    "            square_distance = ((datapoint[1] - predicted_log_density)**2)\n",
    "            total_square_distance = total_square_distance + square_distance\n",
    "\n",
    "    return total_square_distance   "
   ]
  },
  {
   "cell_type": "code",
   "execution_count": 54,
   "metadata": {
    "code_folding": [],
    "scrolled": false
   },
   "outputs": [
    {
     "data": {
      "text/plain": [
       " final_simplex: (array([[1.30527344],\n",
       "       [1.30517578]]), array([1.98333889, 1.98333914]))\n",
       "           fun: 1.9833388890015473\n",
       "       message: 'Optimization terminated successfully.'\n",
       "          nfev: 34\n",
       "           nit: 17\n",
       "        status: 0\n",
       "       success: True\n",
       "             x: array([1.30527344])"
      ]
     },
     "execution_count": 54,
     "metadata": {},
     "output_type": "execute_result"
    }
   ],
   "source": [
    "initial_guess=[0.5]\n",
    "scipy.optimize.minimize(logProbDataGivenModel_ages_neutral, initial_guess, args=(Neutral_densities_without_inf,), method='Nelder-Mead')   "
   ]
  },
  {
   "cell_type": "markdown",
   "metadata": {},
   "source": [
    "**c = 1.30527344** (i.e. phi = 1.31x greater than predicted by simply phi = age/2N$\\tau$)"
   ]
  },
  {
   "cell_type": "code",
   "execution_count": 55,
   "metadata": {
    "code_folding": [
     0
    ]
   },
   "outputs": [
    {
     "name": "stdout",
     "output_type": "stream",
     "text": [
      "95% confidence interval for c: lower c = 1.1636363636363636\n",
      "95% confidence interval for c: upper c = 1.5272727272727273\n",
      "95% confidence interval for phi: lower phi = 0.028157485057597686\n",
      "95% confidence interval for phi: upper phi = 0.03695669913809697\n",
      "MLE phi = 0.0316771706897974\n"
     ]
    },
    {
     "data": {
      "image/png": "[encoded data removed]",
      "text/plain": [
       "<Figure size 504x504 with 1 Axes>"
      ]
     },
     "metadata": {
      "needs_background": "light"
     },
     "output_type": "display_data"
    }
   ],
   "source": [
    "#Synonymous variants (<0.25% VAF) - CONFIDENCE INTERVALS\n",
    "plt.close('all')\n",
    "f, (ax1) = plt.subplots(1, 1, sharey=True, figsize=(7, 7))\n",
    "\n",
    "c_list = np.linspace(0.8, 2, 100)\n",
    "logProbs = np.array([logProbDataGivenModel_ages_neutral([c], Neutral_densities_without_inf) for c in c_list])\n",
    "\n",
    "x1_list = c_list\n",
    "z1_list = np.exp(-logProbs)\n",
    "\n",
    "x1z1 = zip(x1_list, z1_list)\n",
    "\n",
    "xz_list=[]\n",
    "for a, b in x1z1:\n",
    "    xz_list.append([a, b])\n",
    "\n",
    "total_prob = 0\n",
    "c_list = []\n",
    "logProb_list = []\n",
    "for entry in xz_list:\n",
    "    c_list.append(entry[0]) #i.e. x1\n",
    "    prob = entry[1]\n",
    "    logProb_list.append(prob)\n",
    "\n",
    "total_probs=np.sum(logProb_list)\n",
    "normalized_prob_list=logProb_list/total_probs\n",
    "\n",
    "cumulative_prob=0.0\n",
    "c_95_range=[]\n",
    "c_95CI_range = []\n",
    "c_range_probs = []\n",
    "c_cumulative_prob_95_range=[]\n",
    "\n",
    "for c, p in zip(c_list, normalized_prob_list):\n",
    "    c_range_probs.append((c,p))\n",
    "    cumulative_prob=cumulative_prob+p\n",
    "#         print(cumulative_prob)\n",
    "    if 0.05<cumulative_prob<0.95:\n",
    "        c_95_range.append(c)\n",
    "        c_95CI_range.append((c, p))\n",
    "        c_cumulative_prob_95_range.append((c, p, cumulative_prob))\n",
    "\n",
    "min_c=min(c_95_range)\n",
    "max_c=max(c_95_range)\n",
    "\n",
    "#CONVERT C'S INTO PHIS (i.e. phi = c*(t/2*N)) as percentages (i.e. multiply by 100)\n",
    "N = 9.40166610e+04\n",
    "t = 45.5\n",
    "min_phi = min_c*(t/(2*N))*100\n",
    "max_phi = max_c*(t/(2*N))*100\n",
    "\n",
    "#plotting the most likely s\n",
    "xmax = np.unravel_index(np.argmax(z1_list), z1_list.shape)\n",
    "c_mle = x1_list[xmax]\n",
    "phi_mle = c_mle*(t/(2*N))*100\n",
    "\n",
    "#plot distribution\n",
    "c_list = []\n",
    "phi_list = []\n",
    "probs_list = []\n",
    "for (c, probs) in c_range_probs:\n",
    "    phi = c*(t/(2*N))\n",
    "    c_list.append(c)\n",
    "    phi_list.append(phi*100)\n",
    "    probs_list.append(probs)\n",
    "    \n",
    "phi_listCI = []\n",
    "probs_listCI = []\n",
    "probs_95_list = []\n",
    "for (c, probs) in c_95CI_range:\n",
    "    phi_listCI.append((c*(t/(2*N)))*100)\n",
    "    probs_listCI.append(probs)\n",
    "\n",
    "ax1.plot(phi_list, probs_list, color = neutralcolor, lw = 2)\n",
    "ax1.fill_between(phi_listCI, probs_listCI, color = neutralcolor, alpha = 0.2)\n",
    "\n",
    "#plot confidence interval\n",
    "ax1.plot([min_phi, min_phi], [0, 1], linestyle = ':', color = 'sienna', lw = 2)\n",
    "ax1.plot([max_phi, max_phi], [0, 1], linestyle = ':', color = 'sienna', lw = 2)\n",
    "ax1.plot([phi_mle, phi_mle], [0, 1], linestyle = ':', color = neutralcolor, lw = 2)\n",
    "\n",
    "# Set axis limits\n",
    "# minphi = min(phi_list)-0.1\n",
    "# maxphi = max(phi_list)+0.1\n",
    "ax1.set_ylim(0, 0.05)\n",
    "ax1.set_xlim(0.02, 0.05)\n",
    "\n",
    "# Axis labels\n",
    "ax1.set_xlabel('phi (%)', fontsize = axislabelfont, labelpad = 10, fontweight = 'medium')\n",
    "ax1.set_ylabel('probability', fontsize = axislabelfont, labelpad = 10, fontweight = 'medium')\n",
    "\n",
    "ax1.xaxis.set_tick_params(width=scale, color = grey3, length = 6, labelsize = 16, top = False, labeltop = False)\n",
    "ax1.yaxis.set_tick_params(width=scale, color = grey3, length = 6, labelsize = 16)\n",
    "\n",
    "#set labels\n",
    "ax1.set_title(\"Synonymous variants (VAF <0.25%)\", y = 1.05, fontsize = titlefont, fontweight='bold')\n",
    "\n",
    "print('95% confidence interval for c: lower c =', min_c)\n",
    "print('95% confidence interval for c: upper c =', max_c)\n",
    "print('95% confidence interval for phi: lower phi =', min_phi)\n",
    "print('95% confidence interval for phi: upper phi =', max_phi)\n",
    "print('MLE phi =', phi_mle)\n",
    "\n",
    "#Only show the required axis lines\n",
    "# ax1.spines['top'].set_visible(False)\n",
    "# ax1.spines['right'].set_visible(False)\n",
    "\n",
    "for axis in ['bottom','left', 'top', 'right']:\n",
    "    ax1.spines[axis].set_linewidth(1.5)\n",
    "\n",
    "for axis in ['bottom','left', 'top', 'right']:\n",
    "    ax1.spines[axis].set_color(grey3)\n",
    "\n",
    "plt.show()"
   ]
  },
  {
   "cell_type": "markdown",
   "metadata": {},
   "source": [
    "### Hitchhiker variants"
   ]
  },
  {
   "cell_type": "code",
   "execution_count": 56,
   "metadata": {
    "code_folding": [
     0
    ]
   },
   "outputs": [],
   "source": [
    "#l=ln(f)\n",
    "\n",
    "def logProbtheory_ages_hitch(l, params): #= predicted density (i.e. normalised by 2 x mu)\n",
    "    \"Natural log of the probability of observing a variant within a specific binwidth if able to sequence perfectly\"\n",
    "    total_density=0.0\n",
    "    N = 9.40166610e+04\n",
    "    s = params[0] # s = s of the beneficial mutations\n",
    "    mu_ben = params[1] # mutation rate of the beneficial mutations\n",
    "    dt=0.1\n",
    "    tt=50\n",
    "    \n",
    "    # FOR UNIFORM DISTIRIBUTION OF AGES + taking in to account neutral+ben and ben+neutral\n",
    "    total_density=integrate.quad(lambda t: ((N*mu_ben/s)*(((np.exp(s*t))/(2*N*s*np.exp(l)))-1+(s*t)-np.log(((2*N*s*np.exp(l)))+1)))*(1/49), 20, 69)\n",
    "    \n",
    "    return np.log(total_density[0])        \n",
    "\n",
    "def logProbDataGivenModel_ages_hitch(params, data): #d = data (number of variants within a given bin), lamb (lambda) = expected number of variants in the bin from theory\n",
    "    \"This returns the natural log likelihood of the entire data, in specified binwidths, for a given theta and phi\"\n",
    "    total_square_distance = 0\n",
    "    for datapoint in data:\n",
    "        if np.exp(datapoint[0])>0.0025: #only look at data points with VAF >0.25%\n",
    "            logfreq = datapoint[0]\n",
    "            predicted_log_density = logProbtheory_ages_hitch(logfreq, params)\n",
    "            square_distance = ((datapoint[1] - predicted_log_density)**2)\n",
    "            total_square_distance = total_square_distance + square_distance\n",
    "\n",
    "    return total_square_distance   "
   ]
  },
  {
   "cell_type": "markdown",
   "metadata": {},
   "source": [
    "**USING NELDER-MEAD METHOD FOR MLE FAILS AS \"MAXIMUM NUMBER OF FUNCTION EVALUATIONS IS EXCEEDED\" (LIKELY DUE TO TOO MANY POSSIBLE COMBINATIONS OF VALUES - SO USE HEATMAP INSTEAD...**"
   ]
  },
  {
   "cell_type": "code",
   "execution_count": 57,
   "metadata": {
    "code_folding": [
     0
    ]
   },
   "outputs": [
    {
     "name": "stdout",
     "output_type": "stream",
     "text": [
      "uben (ax1) =  2.5142033481427965e-06\n",
      "s (ax1) = 0.19061965125701302\n",
      "\n",
      "mu_ben (ax2) =  4.905583706365045e-08\n",
      "s (ax2) = 0.25578660321639723\n"
     ]
    },
    {
     "data": {
      "image/png": "[encoded data removed]",
      "text/plain": [
       "<Figure size 1152x504 with 2 Axes>"
      ]
     },
     "metadata": {
      "needs_background": "light"
     },
     "output_type": "display_data"
    }
   ],
   "source": [
    "# Plotting the maximum likelihood estimates on a colormesh plot\n",
    "plt.close('all')\n",
    "f, (ax1, ax2) = plt.subplots(1, 2, sharey=True, sharex = True, figsize=(16, 7))\n",
    "gs = matplotlib.gridspec.GridSpec(1, 2, width_ratios=[1, 1], height_ratios=[1])\n",
    "ax1 = plt.subplot(gs[0])\n",
    "ax2 = plt.subplot(gs[1])\n",
    "gs.update(wspace=0.4)\n",
    "\n",
    "axisfont=17\n",
    "titlefont=20\n",
    "axislabelfont=21\n",
    "tpfont = 14\n",
    "m_size=8\n",
    "\n",
    "#VAFs\n",
    "s_list = np.logspace(np.log10(0.12), np.log10(0.40), 1000)\n",
    "mu_ben_list = np.logspace(np.log10(10**(-10)), np.log10(10**(-3)), 1000)\n",
    "logProbs_hitch = np.array([[logProbDataGivenModel_ages_hitch([s, mu_ben], Neutral_densities_without_inf) for s in s_list] for mu_ben in mu_ben_list])\n",
    "\n",
    "# Plot the density map using nearest-neighbor interpolation\n",
    "x1_hitch = s_list\n",
    "y1_hitch = mu_ben_list\n",
    "x1_hitch, y1_hitch = np.meshgrid(x1_hitch, y1_hitch)\n",
    "logProbs_hitch_s = (-logProbs_hitch)\n",
    "max_x, max_y = np.unravel_index(np.argmax(logProbs_hitch_s), logProbs_hitch_s.shape)\n",
    "z_max = logProbs_hitch_s[max_x, max_y]\n",
    "z1_hitch = np.exp(logProbs_hitch_s-(z_max))\n",
    "\n",
    "cmap = plt.cm.coolwarm #define colors\n",
    "\n",
    "ax1.pcolormesh(x1_hitch,y1_hitch,z1_hitch, cmap = cmap)\n",
    "\n",
    "#set labels\n",
    "ax1.set_title(\"Hitchhikers\", y = 1.05, fontsize = titlefont, fontweight='bold')\n",
    "ax1.set_xlabel('s (%)', fontsize = axislabelfont)\n",
    "ax1.set_ylabel('\\u03BC beneficials', fontsize = axislabelfont)\n",
    "\n",
    "ax1.set_yscale('log')\n",
    "\n",
    "# calculate best values for mu (max points in 3D space (x,y,z))\n",
    "xmax, ymax = np.unravel_index(np.argmax(z1_hitch), z1_hitch.shape)\n",
    "uben_max = y1_hitch[xmax, ymax]\n",
    "s_max = x1_hitch[xmax, ymax]\n",
    "\n",
    "ax1.scatter(s_max, uben_max, marker = '+', s = 1000, color = grey1, lw = 5)\n",
    "\n",
    "ax1.xaxis.set_tick_params(width=2, color = grey3, length = 6, labelsize = 16)\n",
    "ax1.yaxis.set_tick_params(width=scale, color = grey3, length = 6, labelsize = 16)\n",
    "\n",
    "print('uben (ax1) = ', uben_max)\n",
    "print('s (ax1) =', s_max)\n",
    "\n",
    "ax1.set_title('Hitchhikers', fontsize = 18)\n",
    "\n",
    "## Mu_ben vs S\n",
    "logProbs_hitch = np.array([[logProbDataGivenModel_ages_hitch([s, mu_ben], Neutral_densities_without_inf) for s in s_list] for mu_ben in mu_ben_list])\n",
    "\n",
    "# Plot the density map using nearest-neighbor interpolation\n",
    "x1_hitch_mu = mu_ben_list\n",
    "y1_hitch_mu = s_list\n",
    "x1_hitch_mu, y1_hitch_mu = np.meshgrid(x1_hitch_mu, y1_hitch_mu)\n",
    "logProbs_hitch_mu = (-logProbs_hitch)\n",
    "max_x_mu, max_y_mu = np.unravel_index(np.argmax(logProbs_hitch_mu), logProbs_hitch_mu.shape)\n",
    "z_max_mu = logProbs_hitch_mu[max_x_mu, max_y_mu]\n",
    "z1_hitch_mu = np.exp(logProbs_hitch_mu-(z_max_mu))\n",
    "\n",
    "cmap = plt.cm.coolwarm #define colors\n",
    "\n",
    "ax2.pcolormesh(x1_hitch_mu,y1_hitch_mu,z1_hitch_mu, cmap = cmap)\n",
    "\n",
    "#set labels\n",
    "ax2.set_xlabel('mu_ben', fontsize = axislabelfont)\n",
    "ax2.set_ylabel('s(%)', fontsize = axislabelfont)\n",
    "\n",
    "ax2.set_xscale('log')\n",
    "\n",
    "# calculate best values (max points in 3D space (x,y,z))\n",
    "xmax_mu, ymax_mu = np.unravel_index(np.argmax(z1_hitch_mu), z1_hitch_mu.shape)\n",
    "s_max = y1_hitch_mu[xmax_mu, ymax_mu]\n",
    "max_mu = x1_hitch_mu[xmax_mu, ymax_mu]\n",
    "z_max = z1_hitch_mu[xmax_mu, ymax_mu]\n",
    "\n",
    "ax2.xaxis.set_tick_params(width=2, color = grey3, length = 6, labelsize = 16)\n",
    "ax2.yaxis.set_tick_params(width=scale, color = grey3, length = 6, labelsize = 16)\n",
    "\n",
    "ax2.scatter(max_mu, s_max, marker = '+', s = 1000, color = grey1, lw = 5)\n",
    "\n",
    "print('')\n",
    "print('mu_ben (ax2) = ', max_mu)\n",
    "print('s (ax2) =', s_max)\n",
    "\n",
    "plt.show()"
   ]
  },
  {
   "cell_type": "markdown",
   "metadata": {},
   "source": [
    "- **mu_ben = 2.5142033481427965e-06**\n",
    "- **s = 0.19061965125701302**"
   ]
  },
  {
   "cell_type": "code",
   "execution_count": 58,
   "metadata": {},
   "outputs": [
    {
     "data": {
      "text/plain": [
       "0.5654581525276628"
      ]
     },
     "execution_count": 58,
     "metadata": {},
     "output_type": "execute_result"
    }
   ],
   "source": [
    "s = 0.19061965125701302\n",
    "mu_ben = 2.5142033481427965e-06\n",
    "logProbDataGivenModel_ages_hitch([s, mu_ben], Neutral_densities_without_inf)"
   ]
  },
  {
   "cell_type": "code",
   "execution_count": 59,
   "metadata": {},
   "outputs": [
    {
     "data": {
      "text/plain": [
       "0.5677946657115912"
      ]
     },
     "execution_count": 59,
     "metadata": {},
     "output_type": "execute_result"
    }
   ],
   "source": [
    "s = 0.3\n",
    "mu_ben = 5.23e-09\n",
    "logProbDataGivenModel_ages_hitch([s, mu_ben], Neutral_densities_without_inf)"
   ]
  },
  {
   "cell_type": "code",
   "execution_count": 60,
   "metadata": {},
   "outputs": [
    {
     "data": {
      "text/plain": [
       "0.57767354598728"
      ]
     },
     "execution_count": 60,
     "metadata": {},
     "output_type": "execute_result"
    }
   ],
   "source": [
    "s = 0.16\n",
    "mu_ben = 1.22e-05\n",
    "logProbDataGivenModel_ages_hitch([s, mu_ben], Neutral_densities_without_inf)"
   ]
  },
  {
   "cell_type": "code",
   "execution_count": 61,
   "metadata": {
    "code_folding": [
     0
    ]
   },
   "outputs": [],
   "source": [
    "def confidence_interval_95(x1, y1, z1, gene_color): #95% confidence interval for s\n",
    "    x1y1z1 = zip(x1, y1, z1)\n",
    "    \n",
    "    xyz_list=[]\n",
    "    for a, b, c in x1y1z1:\n",
    "        xyz_list.append([a, b, c])\n",
    "        \n",
    "    total_prob_array=np.array([0.0 for i in range(len(xyz_list[0][0]))])\n",
    "    for entry in xyz_list:\n",
    "        s_array=entry[0] #i.e. x1\n",
    "        prob_array=entry[2] #i.e.z1\n",
    "        total_prob_array=total_prob_array+prob_array\n",
    "\n",
    "    total_prob=sum(total_prob_array)\n",
    "    normalized_prob_array=total_prob_array/total_prob\n",
    "\n",
    "    cumulative_prob=0.0\n",
    "\n",
    "    s_95_range=[]\n",
    "    s_range_probs = []\n",
    "    s_cumulative_prob_95_range=[]\n",
    "    for s, p in zip(s_array, normalized_prob_array):\n",
    "        s_range_probs.append((s,p))\n",
    "        cumulative_prob=cumulative_prob+p\n",
    "#         print(cumulative_prob)\n",
    "        if 0.05<cumulative_prob<0.95:\n",
    "            s_95_range.append(s)\n",
    "            s_cumulative_prob_95_range.append((s, p, cumulative_prob))\n",
    "    \n",
    "    min_s=min(s_95_range)\n",
    "    max_s=max(s_95_range)\n",
    "    \n",
    "    print('95% confidence interval for s: lower s =', min_s)\n",
    "    print('95% confidence interval for s: upper s =', max_s)\n",
    "    \n",
    "    #plotting the most likely s\n",
    "    xmax, ymax = np.unravel_index(np.argmax(z1), z1.shape)\n",
    "    s_mle = x1[xmax, ymax]\n",
    "\n",
    "    #plot distribution\n",
    "    s_list = []\n",
    "    probs_list = []\n",
    "    for (s, probs) in s_range_probs:\n",
    "        s_list.append(s*100)\n",
    "        probs_list.append(probs)\n",
    "\n",
    "    ax1.plot(s_list, probs_list, color = gene_color, lw = 2)\n",
    "\n",
    "    #plot confidence interval\n",
    "    ax1.plot([min_s*100, min_s*100], [0, 1], linestyle = ':', color = grey4, lw = 2)\n",
    "    ax1.plot([max_s*100, max_s*100], [0, 1], linestyle = ':', color = grey4, lw = 2)\n",
    "    ax1.plot([s_mle*100, s_mle*100], [0, 1], linestyle = ':', color = gene_color, lw = 2)\n",
    "\n",
    "    # Set axis limits\n",
    "    mins = min(s_list)-0.5\n",
    "    maxs = max(s_list)+0.5\n",
    "    ax1.set_ylim(0, (max(probs_list)+0.0005))\n",
    "    ax1.set_xlim(mins, maxs)\n",
    "\n",
    "    # Axis labels\n",
    "    ax1.set_xlabel('s (%)', fontsize = axislabelfont, labelpad = 10, fontweight = 'medium')\n",
    "    ax1.set_ylabel('probability', fontsize = axislabelfont, labelpad = 10, fontweight = 'medium')\n",
    "\n",
    "    ax1.xaxis.set_tick_params(width=scale, color = grey3, length = 6, labelsize = 16, top = False, labeltop = False)\n",
    "    ax1.yaxis.set_tick_params(width=scale, color = grey3, length = 6, labelsize = 16)\n",
    "\n",
    "    #Only show the required axis lines\n",
    "    ax1.spines['top'].set_visible(False)\n",
    "    ax1.spines['right'].set_visible(False)\n",
    "\n",
    "    for axis in ['bottom','left']:\n",
    "        ax1.spines[axis].set_linewidth(1.5)\n",
    "\n",
    "    for axis in ['bottom','left']:\n",
    "        ax1.spines[axis].set_color(grey3)\n",
    "\n",
    "    return ax1, min_s, max_s"
   ]
  },
  {
   "cell_type": "code",
   "execution_count": 62,
   "metadata": {
    "code_folding": [
     0
    ]
   },
   "outputs": [],
   "source": [
    "def confidence_interval_95_mu(x1, y1, z1, gene_color): #95% confidence interval for muation rate increase\n",
    "    x1y1z1 = zip(x1, y1, z1)\n",
    "    \n",
    "    xyz_list=[]\n",
    "    for a, b, c in x1y1z1:\n",
    "        xyz_list.append([a, b, c])\n",
    "        \n",
    "    total_prob_array=np.array([0.0 for i in range(len(xyz_list[0][0]))])\n",
    "    for entry in xyz_list:\n",
    "        mu_array=entry[0] #i.e. x2\n",
    "        prob_array=entry[2] #i.e.z1\n",
    "        total_prob_array=total_prob_array+prob_array\n",
    "\n",
    "    total_prob=sum(total_prob_array)\n",
    "    normalized_prob_array=total_prob_array/total_prob\n",
    "\n",
    "    cumulative_prob=0.0\n",
    "\n",
    "    mu_95_range=[]\n",
    "    mu_range_probs = []\n",
    "    mu_cumulative_prob_95_range=[]\n",
    "    for mu, p in zip(mu_array, normalized_prob_array):\n",
    "        mu_range_probs.append((mu,p))\n",
    "        cumulative_prob=cumulative_prob+p\n",
    "#         print(cumulative_prob)\n",
    "        if 0.05<cumulative_prob<0.95:\n",
    "            mu_95_range.append(mu)\n",
    "            mu_cumulative_prob_95_range.append((mu, p, cumulative_prob))\n",
    "    \n",
    "#     print(s_cumulative_prob_95_range)\n",
    "            \n",
    "    min_mu=min(mu_95_range)\n",
    "    max_mu=max(mu_95_range)\n",
    "    \n",
    "    print('95% confidence interval for mu_ben: lower =', min_mu)\n",
    "    print('95% confidence interval for mu_ben: upper =', max_mu)\n",
    "    \n",
    "    #plotting the most likely mu_ben\n",
    "    xmax, ymax = np.unravel_index(np.argmax(z1), z1.shape)\n",
    "    mu_mle = x1[xmax, ymax]\n",
    "\n",
    "    #plot distribution\n",
    "    mu_list = []\n",
    "    probs_list = []\n",
    "    for (mu, probs) in mu_range_probs:\n",
    "        mu_list.append(mu)\n",
    "        probs_list.append(probs)\n",
    "\n",
    "    ax2.plot(mu_list, probs_list, color = gene_color, lw = 2)\n",
    "\n",
    "    #plot confidence interval\n",
    "    ax2.plot([min_mu, min_mu], [0, 1], linestyle = ':', color = grey4, lw = 2)\n",
    "    ax2.plot([max_mu, max_mu], [0, 1], linestyle = ':', color = grey4, lw = 2)\n",
    "    ax2.plot([mu_mle, mu_mle], [0, 1], linestyle = ':', color = gene_color, lw = 2)\n",
    "\n",
    "    # Set axis limits\n",
    "    ax2.set_ylim(0, (max(probs_list)+0.0005))\n",
    "\n",
    "    # Axis labels\n",
    "    ax2.set_xlabel('mu_ben', fontsize = axislabelfont, labelpad = 10, fontweight = 'medium')\n",
    "    ax2.set_ylabel('probability', fontsize = axislabelfont, labelpad = 10, fontweight = 'medium')\n",
    "\n",
    "    ax2.xaxis.set_tick_params(width=scale, color = grey3, length = 6, labelsize = 16, top = False, labeltop = False)\n",
    "    ax2.yaxis.set_tick_params(width=scale, color = grey3, length = 6, labelsize = 16)\n",
    "\n",
    "    #Only show the required axis lines\n",
    "    ax2.spines['top'].set_visible(False)\n",
    "    ax2.spines['right'].set_visible(False)\n",
    "\n",
    "    for axis in ['bottom','left']:\n",
    "        ax2.spines[axis].set_linewidth(1.5)\n",
    "\n",
    "    for axis in ['bottom','left']:\n",
    "        ax2.spines[axis].set_color(grey3)\n",
    "\n",
    "    return ax2, min_mu, max_mu"
   ]
  },
  {
   "cell_type": "code",
   "execution_count": 63,
   "metadata": {
    "code_folding": [
     0
    ]
   },
   "outputs": [
    {
     "name": "stdout",
     "output_type": "stream",
     "text": [
      "95% confidence interval for s: lower s = 0.13135191448270894\n",
      "95% confidence interval for s: upper s = 0.34655736733253767\n",
      "95% confidence interval for mu_ben: lower = 3.3537101520029287e-10\n",
      "95% confidence interval for mu_ben: upper = 0.00014661086840469828\n"
     ]
    },
    {
     "data": {
      "image/png": "[encoded data removed]",
      "text/plain": [
       "<Figure size 1152x432 with 2 Axes>"
      ]
     },
     "metadata": {
      "needs_background": "light"
     },
     "output_type": "display_data"
    }
   ],
   "source": [
    "#Plot the distributions\n",
    "plt.close('all')\n",
    "f, (ax1, ax2) = plt.subplots(1, 2, sharey=True, sharex = True, figsize=(16, 6))\n",
    "gs = matplotlib.gridspec.GridSpec(1, 2, width_ratios=[1, 1], height_ratios=[1])\n",
    "ax1 = plt.subplot(gs[0])\n",
    "ax2 = plt.subplot(gs[1])\n",
    "gs.update(wspace=0.4)\n",
    "\n",
    "ax1, min_s_hitchhikers, max_s_hitchhikers = confidence_interval_95(x1_hitch, y1_hitch, z1_hitch, neutralcolor)\n",
    "ax2, min_s_hitchhikers, max_s_hitchhikers = confidence_interval_95_mu(x1_hitch_mu, y1_hitch_mu, z1_hitch_mu, neutralcolor)\n",
    "\n",
    "ax2.set_xscale('log')\n",
    "\n",
    "plt.show()"
   ]
  },
  {
   "cell_type": "markdown",
   "metadata": {},
   "source": [
    "## Histograms"
   ]
  },
  {
   "cell_type": "markdown",
   "metadata": {},
   "source": [
    "### DNMT3A R882H"
   ]
  },
  {
   "cell_type": "code",
   "execution_count": 67,
   "metadata": {
    "code_folding": [
     0
    ],
    "scrolled": false
   },
   "outputs": [
    {
     "name": "stderr",
     "output_type": "stream",
     "text": [
      "/anaconda3/lib/python3.7/site-packages/ipykernel_launcher.py:12: RuntimeWarning: divide by zero encountered in log\n",
      "  if sys.path[0] == '':\n",
      "/anaconda3/lib/python3.7/site-packages/ipykernel_launcher.py:7: RuntimeWarning: divide by zero encountered in log\n",
      "  import sys\n",
      "/anaconda3/lib/python3.7/site-packages/ipykernel_launcher.py:23: RuntimeWarning: divide by zero encountered in log\n",
      "/anaconda3/lib/python3.7/site-packages/ipykernel_launcher.py:26: RuntimeWarning: divide by zero encountered in log\n",
      "/anaconda3/lib/python3.7/site-packages/ipykernel_launcher.py:26: RuntimeWarning: invalid value encountered in double_scalars\n",
      "/anaconda3/lib/python3.7/site-packages/ipykernel_launcher.py:27: RuntimeWarning: divide by zero encountered in log\n",
      "/anaconda3/lib/python3.7/site-packages/ipykernel_launcher.py:27: RuntimeWarning: invalid value encountered in double_scalars\n"
     ]
    },
    {
     "data": {
      "image/png": "[encoded data removed]",
      "text/plain": [
       "<Figure size 1036.8x691.2 with 1 Axes>"
      ]
     },
     "metadata": {
      "needs_background": "light"
     },
     "output_type": "display_data"
    }
   ],
   "source": [
    "#Plotting the histogram\n",
    "plt.close('all')\n",
    "scale = 1.2\n",
    "f, (ax1) = plt.subplots(1, 1, sharey=True, figsize=(12*scale, 8*scale))\n",
    "\n",
    "#marker sizes for studies\n",
    "m_size = 14\n",
    "Jaiswalmarkersize = m_size*1.1\n",
    "Genovesemarkersize = m_size*1.1\n",
    "Zinkmarkersize = m_size*1.2\n",
    "Acunamarkersize = m_size*1.3\n",
    "Coombsmarkersize = m_size*1.2\n",
    "Youngmarkersize = m_size*1.2\n",
    "Desaimarkersize = m_size*1.5\n",
    "McKerrelmarkersize = m_size*1\n",
    "Liumarkersize = m_size*1\n",
    "\n",
    "#DNMT3A R882H data\n",
    "plot_log_hist_data_for_plot_solid_R882H(Jaiswal_DNMT3A_R882H_trimmed_list, Jaiswaltotal, R882H_mu, binmethod, \\\n",
    "                            'Jaiswal 2014', Jaiswalmarker, Jaiswalmarkersize, R882_color)\n",
    "plot_log_hist_data_for_plot_solid_R882H(Genovese_DNMT3A_R882H_trimmed_list, Genovesetotal, R882H_mu, binmethod, \\\n",
    "                            'Genovese 2014', Genovesemarker, Genovesemarkersize, R882_color)\n",
    "plot_log_hist_data_for_plot_solid_R882H(ZinkWGS_DNMT3A_R882H_trimmed_list, ZinkWGStotal, R882H_mu, binmethod, \\\n",
    "                            'Zink 2015', Zinkmarker, Zinkmarkersize, R882_color)\n",
    "plot_log_hist_data_for_plot_solid_R882H(Acuna_DNMT3A_R882H_trimmed_list, Acunatotal, R882H_mu, binmethod, \\\n",
    "                            'Acuna-Hidalgo 2017', Acunamarker, Acunamarkersize, R882_color)\n",
    "plot_log_hist_data_for_plot_solid_R882H(Coombs_DNMT3A_R882H_trimmed_list, Coombstotal, R882H_mu, binmethod, \\\n",
    "                            'Coombs 2017', Coombsmarker, Coombsmarkersize, R882_color)\n",
    "plot_log_hist_data_for_plot_solid_R882H(Young2016_2019_DNMT3A_R882H_trimmed_list, Young2019totalcontrols+Youngtotal, R882H_mu, binmethod, \\\n",
    "                            'Young 2016 & 2019', Youngmarker, Youngmarkersize, R882_color)\n",
    "plot_log_hist_data_for_plot_solid_R882H(Desai_DNMT3A_R882H_trimmed_list, Desaitotal, R882H_mu, binmethod, \\\n",
    "                            'Desai 2018', Desaimarker, Desaimarkersize, R882_color)\n",
    "plot_log_hist_data_for_plot_solid_R882H(McKerrel_DNMT3A_R882H_trimmed_list, McKerreltotal, R882H_mu, binmethod, \\\n",
    "                            'McKerrel 2015', Mckerrelmarker, McKerrelmarkersize, R882_color)\n",
    "\n",
    "#DNMT3A R882H theory line with MLE values\n",
    "N = 9.40166610e+04 \n",
    "s = 1.47557939e-01 \n",
    "sigma = 1.14417164e+01\n",
    "\n",
    "x=np.linspace(-10, -0.7, 1000)\n",
    "y=[logProbtheory_ages(l, [N, s, sigma]) for l in x]\n",
    "\n",
    "ax1.plot(x, y, c = R882_color, lw = 5, alpha = 0.75)\n",
    "\n",
    "ax1.set_ylim(np.log(10**(0)), np.log(10**7))\n",
    "\n",
    "plt.show()"
   ]
  },
  {
   "cell_type": "markdown",
   "metadata": {},
   "source": [
    "### DNMT3A nonsynonymous variants (excluding DNMT3A R882H)"
   ]
  },
  {
   "cell_type": "code",
   "execution_count": 68,
   "metadata": {
    "code_folding": [
     0
    ],
    "scrolled": false
   },
   "outputs": [
    {
     "name": "stderr",
     "output_type": "stream",
     "text": [
      "/anaconda3/lib/python3.7/site-packages/ipykernel_launcher.py:12: RuntimeWarning: divide by zero encountered in log\n",
      "  if sys.path[0] == '':\n",
      "/anaconda3/lib/python3.7/site-packages/ipykernel_launcher.py:7: RuntimeWarning: divide by zero encountered in log\n",
      "  import sys\n",
      "/anaconda3/lib/python3.7/site-packages/ipykernel_launcher.py:23: RuntimeWarning: divide by zero encountered in log\n",
      "/anaconda3/lib/python3.7/site-packages/ipykernel_launcher.py:26: RuntimeWarning: divide by zero encountered in log\n",
      "/anaconda3/lib/python3.7/site-packages/ipykernel_launcher.py:26: RuntimeWarning: invalid value encountered in double_scalars\n",
      "/anaconda3/lib/python3.7/site-packages/ipykernel_launcher.py:27: RuntimeWarning: divide by zero encountered in log\n",
      "/anaconda3/lib/python3.7/site-packages/ipykernel_launcher.py:27: RuntimeWarning: invalid value encountered in double_scalars\n"
     ]
    },
    {
     "data": {
      "image/png": "[encoded data removed]",
      "text/plain": [
       "<Figure size 1036.8x691.2 with 1 Axes>"
      ]
     },
     "metadata": {
      "needs_background": "light"
     },
     "output_type": "display_data"
    }
   ],
   "source": [
    "#Plotting the histogram\n",
    "plt.close('all')\n",
    "scale = 1.2\n",
    "f, (ax1) = plt.subplots(1, 1, sharey=True, figsize=(12*scale, 8*scale))\n",
    "\n",
    "#marker sizes for studies\n",
    "m_size = 14\n",
    "Jaiswalmarkersize = m_size*1.1\n",
    "Genovesemarkersize = m_size*1.1\n",
    "Zinkmarkersize = m_size*1.2\n",
    "Acunamarkersize = m_size*1.3\n",
    "Coombsmarkersize = m_size*1.2\n",
    "Youngmarkersize = m_size*1.2\n",
    "Desaimarkersize = m_size*1.5\n",
    "McKerrelmarkersize = m_size*1\n",
    "Liumarkersize = m_size*1\n",
    "\n",
    "#DNMT3A nonsynonymous (excluding R882H) - McKerrel not inclued because pretty much R882C once R882H is excluded\n",
    "plot_log_hist_data_for_plot_solid_smaller(Jaiswal_DNMT3A_nonsyn_without_R882H_trimmed_list, Jaiswaltotal, Jaiswal_DNMT3A_mu-R882H_mu, binmethod, \\\n",
    "                            'Jaiswal 2014', Jaiswalmarker, Jaiswalmarkersize, DNMT3A_color)\n",
    "plot_log_hist_data_for_plot_solid_smaller(Genovese_DNMT3A_nonsyn_without_R882H_trimmed_list, Genovesetotal, Genovese_DNMT3A_mu-R882H_mu, binmethod, \\\n",
    "                            'Genovese 2014', Genovesemarker, Genovesemarkersize, DNMT3A_color)\n",
    "plot_log_hist_data_for_plot_solid_smaller(ZinkWGS_DNMT3A_nonsyn_without_R882H_trimmed_list, ZinkWGStotal, Zink_DNMT3A_mu-R882H_mu, binmethod, \\\n",
    "                            'Zink 2015', Zinkmarker, Zinkmarkersize, DNMT3A_color)\n",
    "plot_log_hist_data_for_plot_solid_smaller(Acuna_DNMT3A_nonsyn_without_R882H_trimmed_list, Acunatotal, Acuna_DNMT3A_mu-R882H_mu, binmethod, \\\n",
    "                            'Acuna-Hidalgo 2017', Acunamarker, Acunamarkersize, DNMT3A_color)\n",
    "plot_log_hist_data_for_plot_solid_smaller(Coombs_DNMT3A_nonsyn_without_R882H_trimmed_list, Coombstotal, Coombs_DNMT3A_mu-R882H_mu, binmethod, \\\n",
    "                            'Coombs 2017', Coombsmarker, Coombsmarkersize, DNMT3A_color)\n",
    "plot_log_hist_data_for_plot_solid_smaller(Young2016_2019_DNMT3A_nonsyn_without_R882H_trimmed_list, Young2019totalcontrols+Youngtotal, Young_DNMT3A_mu-R882H_mu, binmethod, \\\n",
    "                            'Young 2016 & 2019', Youngmarker, Youngmarkersize, DNMT3A_color)\n",
    "plot_log_hist_data_for_plot_solid_smaller(Desai_DNMT3A_nonsyn_without_R882H_trimmed_list, Desaitotal, Desai_DNMT3A_mu-R882H_mu, binmethod, \\\n",
    "                            'Desai 2018', Desaimarker, Desaimarkersize, DNMT3A_color)\n",
    "\n",
    "#DNMT3A nonsynonymous theory line with MLE values\n",
    "b = 1.35567632 \n",
    "d = 0.0573614 \n",
    "s_max = 0.18749274\n",
    "\n",
    "x1 = np.ndarray.tolist(np.linspace(-10, np.log(0.48), 100))\n",
    "x2 = np.ndarray.tolist(np.linspace(np.log(0.48), np.log(0.499999), 1000))\n",
    "x = x1+x2\n",
    "y=[logProbtheory_ages_nonsyn_exp_power(l, [b, d, s_max]) for l in x]\n",
    "\n",
    "ax1.plot(x, y, c = DNMT3A_color, lw = 5, alpha = 0.75)\n",
    "\n",
    "plt.show()"
   ]
  },
  {
   "cell_type": "markdown",
   "metadata": {},
   "source": [
    "### Synonymous variants (in any gene) - MLE using all the data"
   ]
  },
  {
   "cell_type": "code",
   "execution_count": 69,
   "metadata": {
    "code_folding": [
     0
    ],
    "scrolled": false
   },
   "outputs": [
    {
     "name": "stderr",
     "output_type": "stream",
     "text": [
      "/anaconda3/lib/python3.7/site-packages/ipykernel_launcher.py:12: RuntimeWarning: divide by zero encountered in log\n",
      "  if sys.path[0] == '':\n",
      "/anaconda3/lib/python3.7/site-packages/ipykernel_launcher.py:7: RuntimeWarning: divide by zero encountered in log\n",
      "  import sys\n",
      "/anaconda3/lib/python3.7/site-packages/ipykernel_launcher.py:23: RuntimeWarning: divide by zero encountered in log\n",
      "/anaconda3/lib/python3.7/site-packages/ipykernel_launcher.py:26: RuntimeWarning: divide by zero encountered in log\n",
      "/anaconda3/lib/python3.7/site-packages/ipykernel_launcher.py:26: RuntimeWarning: invalid value encountered in double_scalars\n",
      "/anaconda3/lib/python3.7/site-packages/ipykernel_launcher.py:27: RuntimeWarning: divide by zero encountered in log\n",
      "/anaconda3/lib/python3.7/site-packages/ipykernel_launcher.py:27: RuntimeWarning: invalid value encountered in double_scalars\n",
      "/anaconda3/lib/python3.7/site-packages/ipykernel_launcher.py:14: RuntimeWarning: divide by zero encountered in log\n",
      "  \n"
     ]
    },
    {
     "name": "stdout",
     "output_type": "stream",
     "text": [
      "predicted phi =  0.00024197838721373035\n",
      "actual phi =  0.001155352277347948\n"
     ]
    },
    {
     "data": {
      "image/png": "[encoded data removed]",
      "text/plain": [
       "<Figure size 1036.8x691.2 with 1 Axes>"
      ]
     },
     "metadata": {
      "needs_background": "light"
     },
     "output_type": "display_data"
    }
   ],
   "source": [
    "#Plotting the histogram\n",
    "plt.close('all')\n",
    "scale = 1.2\n",
    "f, (ax1) = plt.subplots(1, 1, sharey=True, figsize=(12*scale, 8*scale))\n",
    "\n",
    "#Synonymous variants (all genes)\n",
    "plot_log_hist_data_for_plot_solid_smaller(Acuna_synonymous_trimmed_list, Acunatotal, Acuna_synonymous_mu, binmethod, \\\n",
    "                            'Acuna-Hidalgo 2017', Acunamarker, Acunamarkersize, neutralcolor)\n",
    "plot_log_hist_data_for_plot_solid_smaller(Young2016_2019_synonymous_trimmed_list, Young2019totalcontrols+Youngtotal, Young_synonymous_mu, young_synonymous_bins, \\\n",
    "                            'Young 2016 & 2019', Youngmarker, Youngmarkersize, neutralcolor)\n",
    "\n",
    "#Synonymous variants theory line with MLE values\n",
    "c = 4.77460938 #including all synonymous variants\n",
    "\n",
    "x=np.linspace(-10, -0.7, 1000)\n",
    "y=[logProbtheory_ages_neutral(l, [c]) for l in x]\n",
    "\n",
    "ax1.plot(x, y, c = neutralcolor, lw = 5, alpha = 0.75, linestyle = '-.')\n",
    "\n",
    "# Phi prediction line for neutrals\n",
    "x_phis=[]\n",
    "y_phi = np.linspace(0, 10**6)\n",
    "for i in y_phi:\n",
    "    x_phi = np.log(45.5/(2*N))\n",
    "    x_phis.append(x_phi)\n",
    "ax1.plot(x_phis, y_phi, color = grey3, lw = 4, zorder = 0, alpha = 0.3)\n",
    "print('predicted phi = ', np.exp(x_phi))\n",
    "\n",
    "# Phi line from MLE\n",
    "x_phis=[]\n",
    "y_phi = np.linspace(0, 10**6)\n",
    "for i in y_phi:\n",
    "    x_phi = np.log(c*45.5/(2*N))\n",
    "    x_phis.append(x_phi)\n",
    "ax1.plot(x_phis, y_phi, linestyle = '-.', color = neutralcolor, lw = 4, zorder = 0, alpha = 0.5)\n",
    "print('actual phi = ', np.exp(x_phi))\n",
    "\n",
    "plt.show()"
   ]
  },
  {
   "cell_type": "markdown",
   "metadata": {},
   "source": [
    "### Synonymous variants (in any gene) - MLE including only variants with VAF <0.25%"
   ]
  },
  {
   "cell_type": "code",
   "execution_count": 70,
   "metadata": {
    "code_folding": [
     0
    ],
    "scrolled": false
   },
   "outputs": [
    {
     "name": "stderr",
     "output_type": "stream",
     "text": [
      "/anaconda3/lib/python3.7/site-packages/ipykernel_launcher.py:12: RuntimeWarning: divide by zero encountered in log\n",
      "  if sys.path[0] == '':\n",
      "/anaconda3/lib/python3.7/site-packages/ipykernel_launcher.py:7: RuntimeWarning: divide by zero encountered in log\n",
      "  import sys\n",
      "/anaconda3/lib/python3.7/site-packages/ipykernel_launcher.py:23: RuntimeWarning: divide by zero encountered in log\n",
      "/anaconda3/lib/python3.7/site-packages/ipykernel_launcher.py:26: RuntimeWarning: divide by zero encountered in log\n",
      "/anaconda3/lib/python3.7/site-packages/ipykernel_launcher.py:26: RuntimeWarning: invalid value encountered in double_scalars\n",
      "/anaconda3/lib/python3.7/site-packages/ipykernel_launcher.py:27: RuntimeWarning: divide by zero encountered in log\n",
      "/anaconda3/lib/python3.7/site-packages/ipykernel_launcher.py:27: RuntimeWarning: invalid value encountered in double_scalars\n",
      "/anaconda3/lib/python3.7/site-packages/ipykernel_launcher.py:14: RuntimeWarning: divide by zero encountered in log\n",
      "  \n"
     ]
    },
    {
     "name": "stdout",
     "output_type": "stream",
     "text": [
      "predicted phi =  0.00024197838721373035\n",
      "actual phi =  0.00031584796188411767\n"
     ]
    },
    {
     "data": {
      "image/png": "[encoded data removed]",
      "text/plain": [
       "<Figure size 1036.8x691.2 with 1 Axes>"
      ]
     },
     "metadata": {
      "needs_background": "light"
     },
     "output_type": "display_data"
    }
   ],
   "source": [
    "#Plotting the histogram\n",
    "plt.close('all')\n",
    "scale = 1.2\n",
    "f, (ax1) = plt.subplots(1, 1, sharey=True, figsize=(12*scale, 8*scale))\n",
    "\n",
    "#Neutral variants (all genes)\n",
    "plot_log_hist_data_for_plot_solid_smaller(Acuna_synonymous_trimmed_list, Acunatotal, Acuna_synonymous_mu, binmethod, \\\n",
    "                            'Acuna-Hidalgo 2017', Acunamarker, Acunamarkersize, neutralcolor)\n",
    "plot_log_hist_data_for_plot_solid_smaller(Young2016_2019_synonymous_trimmed_list, Young2019totalcontrols+Youngtotal, Young_synonymous_mu, young_synonymous_bins, \\\n",
    "                            'Young 2016 & 2019', Youngmarker, Youngmarkersize, neutralcolor)\n",
    "\n",
    "#Synonymous variants theory line with MLE values\n",
    "c = 1.30527344 #only including synonymous variants with VAF <0.25%\n",
    "x=np.linspace(-10, -0.7, 1000)\n",
    "y=[logProbtheory_ages_neutral(l, [c]) for l in x]\n",
    "ax1.plot(x, y, c = neutralcolor, lw = 5, alpha = 0.75, linestyle = ':')\n",
    "\n",
    "# Phi prediction line for neutrals\n",
    "x_phis=[]\n",
    "y_phi = np.linspace(0, 10**6)\n",
    "for i in y_phi:\n",
    "    x_phi = np.log(45.5/(2*N))\n",
    "    x_phis.append(x_phi)\n",
    "ax1.plot(x_phis, y_phi, color = grey3, lw = 4, zorder = 0, alpha = 0.3)\n",
    "print('predicted phi = ', np.exp(x_phi))\n",
    "\n",
    "# Phi line from MLE\n",
    "x_phis=[]\n",
    "y_phi = np.linspace(0, 10**6)\n",
    "for i in y_phi:\n",
    "    x_phi = np.log(c*45.5/(2*N))\n",
    "    x_phis.append(x_phi)\n",
    "ax1.plot(x_phis, y_phi, linestyle = ':', color = neutralcolor, lw = 4, zorder = 0)\n",
    "print('actual phi = ', np.exp(x_phi))\n",
    "\n",
    "plt.show()"
   ]
  },
  {
   "cell_type": "markdown",
   "metadata": {},
   "source": [
    "### Hitchhiker variants"
   ]
  },
  {
   "cell_type": "code",
   "execution_count": 71,
   "metadata": {
    "code_folding": [
     0
    ]
   },
   "outputs": [
    {
     "name": "stderr",
     "output_type": "stream",
     "text": [
      "/anaconda3/lib/python3.7/site-packages/ipykernel_launcher.py:12: RuntimeWarning: divide by zero encountered in log\n",
      "  if sys.path[0] == '':\n",
      "/anaconda3/lib/python3.7/site-packages/ipykernel_launcher.py:7: RuntimeWarning: divide by zero encountered in log\n",
      "  import sys\n",
      "/anaconda3/lib/python3.7/site-packages/ipykernel_launcher.py:23: RuntimeWarning: divide by zero encountered in log\n",
      "/anaconda3/lib/python3.7/site-packages/ipykernel_launcher.py:26: RuntimeWarning: divide by zero encountered in log\n",
      "/anaconda3/lib/python3.7/site-packages/ipykernel_launcher.py:26: RuntimeWarning: invalid value encountered in double_scalars\n",
      "/anaconda3/lib/python3.7/site-packages/ipykernel_launcher.py:27: RuntimeWarning: divide by zero encountered in log\n",
      "/anaconda3/lib/python3.7/site-packages/ipykernel_launcher.py:27: RuntimeWarning: invalid value encountered in double_scalars\n"
     ]
    },
    {
     "data": {
      "image/png": "[encoded data removed]",
      "text/plain": [
       "<Figure size 1036.8x691.2 with 1 Axes>"
      ]
     },
     "metadata": {
      "needs_background": "light"
     },
     "output_type": "display_data"
    }
   ],
   "source": [
    "#Plotting the histogram\n",
    "plt.close('all')\n",
    "scale = 1.2\n",
    "f, (ax1) = plt.subplots(1, 1, sharey=True, figsize=(12*scale, 8*scale))\n",
    "\n",
    "m_size = 14\n",
    "Jaiswalmarkersize = m_size*1.1\n",
    "Genovesemarkersize = m_size*1.1\n",
    "Zinkmarkersize = m_size*1.2\n",
    "Acunamarkersize = m_size*1.3\n",
    "Coombsmarkersize = m_size*1.2\n",
    "Youngmarkersize = m_size*1.2\n",
    "Desaimarkersize = m_size*1.5\n",
    "McKerrelmarkersize = m_size*1\n",
    "Liumarkersize = m_size*1\n",
    "\n",
    "#Synoymous variants (all genes)\n",
    "plot_log_hist_data_for_plot_solid_smaller(Acuna_synonymous_trimmed_list, Acunatotal, Acuna_synonymous_mu, binmethod, \\\n",
    "                            'Acuna-Hidalgo 2017', Acunamarker, Acunamarkersize, neutralcolor)\n",
    "plot_log_hist_data_for_plot_solid_smaller(Young2016_2019_synonymous_trimmed_list, Young2019totalcontrols+Youngtotal, Young_synonymous_mu, young_synonymous_bins, \\\n",
    "                            'Young 2016 & 2019', Youngmarker, Youngmarkersize, neutralcolor)\n",
    "\n",
    "#Hitchhiker theory line with MLE values (including only synonymous variants with VAF >0.25%)\n",
    "mu_ben = 2.5142033481427965e-06\n",
    "s = 0.19061965125701302\n",
    "\n",
    "x=np.linspace(-10, -0.7, 1000)\n",
    "y=[logProbtheory_ages_hitch(l, [s, mu_ben]) for l in x]\n",
    "ax1.plot(x, y, c = neutralcolor, lw = 4, alpha = 0.75, linestyle = '--')\n",
    "\n",
    "plt.show()"
   ]
  },
  {
   "cell_type": "markdown",
   "metadata": {},
   "source": [
    "#### other parameter combinations on the red line in the MLE heatmap plot"
   ]
  },
  {
   "cell_type": "code",
   "execution_count": 72,
   "metadata": {
    "code_folding": [
     0
    ]
   },
   "outputs": [
    {
     "name": "stderr",
     "output_type": "stream",
     "text": [
      "/anaconda3/lib/python3.7/site-packages/ipykernel_launcher.py:12: RuntimeWarning: divide by zero encountered in log\n",
      "  if sys.path[0] == '':\n",
      "/anaconda3/lib/python3.7/site-packages/ipykernel_launcher.py:7: RuntimeWarning: divide by zero encountered in log\n",
      "  import sys\n",
      "/anaconda3/lib/python3.7/site-packages/ipykernel_launcher.py:23: RuntimeWarning: divide by zero encountered in log\n",
      "/anaconda3/lib/python3.7/site-packages/ipykernel_launcher.py:26: RuntimeWarning: divide by zero encountered in log\n",
      "/anaconda3/lib/python3.7/site-packages/ipykernel_launcher.py:26: RuntimeWarning: invalid value encountered in double_scalars\n",
      "/anaconda3/lib/python3.7/site-packages/ipykernel_launcher.py:27: RuntimeWarning: divide by zero encountered in log\n",
      "/anaconda3/lib/python3.7/site-packages/ipykernel_launcher.py:27: RuntimeWarning: invalid value encountered in double_scalars\n"
     ]
    },
    {
     "data": {
      "image/png": "[encoded data removed]",
      "text/plain": [
       "<Figure size 1036.8x691.2 with 1 Axes>"
      ]
     },
     "metadata": {
      "needs_background": "light"
     },
     "output_type": "display_data"
    }
   ],
   "source": [
    "#Plotting the histogram\n",
    "plt.close('all')\n",
    "scale = 1.2\n",
    "f, (ax1) = plt.subplots(1, 1, sharey=True, figsize=(12*scale, 8*scale))\n",
    "\n",
    "m_size = 14\n",
    "Jaiswalmarkersize = m_size*1.1\n",
    "Genovesemarkersize = m_size*1.1\n",
    "Zinkmarkersize = m_size*1.2\n",
    "Acunamarkersize = m_size*1.3\n",
    "Coombsmarkersize = m_size*1.2\n",
    "Youngmarkersize = m_size*1.2\n",
    "Desaimarkersize = m_size*1.5\n",
    "McKerrelmarkersize = m_size*1\n",
    "Liumarkersize = m_size*1\n",
    "\n",
    "#Synoymous variants (all genes)\n",
    "plot_log_hist_data_for_plot_solid_smaller(Acuna_synonymous_trimmed_list, Acunatotal, Acuna_synonymous_mu, binmethod, \\\n",
    "                            'Acuna-Hidalgo 2017', Acunamarker, Acunamarkersize, neutralcolor)\n",
    "plot_log_hist_data_for_plot_solid_smaller(Young2016_2019_synonymous_trimmed_list, Young2019totalcontrols+Youngtotal, Young_synonymous_mu, young_synonymous_bins, \\\n",
    "                            'Young 2016 & 2019', Youngmarker, Youngmarkersize, neutralcolor)\n",
    "\n",
    "#Hitchhiker theory line with MLE values (including only synonymous variants with VAF >0.25%)\n",
    "mu_ben =  5.23e-09\n",
    "s = 0.30\n",
    "\n",
    "x=np.linspace(-10, -0.7, 1000)\n",
    "y=[logProbtheory_ages_hitch(l, [s, mu_ben]) for l in x]\n",
    "ax1.plot(x, y, c = neutralcolor, lw = 4, alpha = 0.75, linestyle = '--')\n",
    "\n",
    "plt.show()"
   ]
  },
  {
   "cell_type": "code",
   "execution_count": 73,
   "metadata": {
    "code_folding": [
     0
    ]
   },
   "outputs": [
    {
     "name": "stderr",
     "output_type": "stream",
     "text": [
      "/anaconda3/lib/python3.7/site-packages/ipykernel_launcher.py:12: RuntimeWarning: divide by zero encountered in log\n",
      "  if sys.path[0] == '':\n",
      "/anaconda3/lib/python3.7/site-packages/ipykernel_launcher.py:7: RuntimeWarning: divide by zero encountered in log\n",
      "  import sys\n",
      "/anaconda3/lib/python3.7/site-packages/ipykernel_launcher.py:23: RuntimeWarning: divide by zero encountered in log\n",
      "/anaconda3/lib/python3.7/site-packages/ipykernel_launcher.py:26: RuntimeWarning: divide by zero encountered in log\n",
      "/anaconda3/lib/python3.7/site-packages/ipykernel_launcher.py:26: RuntimeWarning: invalid value encountered in double_scalars\n",
      "/anaconda3/lib/python3.7/site-packages/ipykernel_launcher.py:27: RuntimeWarning: divide by zero encountered in log\n",
      "/anaconda3/lib/python3.7/site-packages/ipykernel_launcher.py:27: RuntimeWarning: invalid value encountered in double_scalars\n",
      "/anaconda3/lib/python3.7/site-packages/ipykernel_launcher.py:15: RuntimeWarning: invalid value encountered in log\n",
      "  from ipykernel import kernelapp as app\n"
     ]
    },
    {
     "data": {
      "image/png": "[encoded data removed]",
      "text/plain": [
       "<Figure size 1036.8x691.2 with 1 Axes>"
      ]
     },
     "metadata": {
      "needs_background": "light"
     },
     "output_type": "display_data"
    }
   ],
   "source": [
    "#Plotting the histogram\n",
    "plt.close('all')\n",
    "scale = 1.2\n",
    "f, (ax1) = plt.subplots(1, 1, sharey=True, figsize=(12*scale, 8*scale))\n",
    "\n",
    "m_size = 14\n",
    "Jaiswalmarkersize = m_size*1.1\n",
    "Genovesemarkersize = m_size*1.1\n",
    "Zinkmarkersize = m_size*1.2\n",
    "Acunamarkersize = m_size*1.3\n",
    "Coombsmarkersize = m_size*1.2\n",
    "Youngmarkersize = m_size*1.2\n",
    "Desaimarkersize = m_size*1.5\n",
    "McKerrelmarkersize = m_size*1\n",
    "Liumarkersize = m_size*1\n",
    "\n",
    "#Synoymous variants (all genes)\n",
    "plot_log_hist_data_for_plot_solid_smaller(Acuna_synonymous_trimmed_list, Acunatotal, Acuna_synonymous_mu, binmethod, \\\n",
    "                            'Acuna-Hidalgo 2017', Acunamarker, Acunamarkersize, neutralcolor)\n",
    "plot_log_hist_data_for_plot_solid_smaller(Young2016_2019_synonymous_trimmed_list, Young2019totalcontrols+Youngtotal, Young_synonymous_mu, young_synonymous_bins, \\\n",
    "                            'Young 2016 & 2019', Youngmarker, Youngmarkersize, neutralcolor)\n",
    "\n",
    "#Hitchhiker theory line with MLE values (including only synonymous variants with VAF >0.25%)\n",
    "mu_ben =  1.22e-05\n",
    "s = 0.16\n",
    "\n",
    "x=np.linspace(-10, -0.7, 1000)\n",
    "y=[logProbtheory_ages_hitch(l, [s, mu_ben]) for l in x]\n",
    "ax1.plot(x, y, c = neutralcolor, lw = 4, alpha = 0.75, linestyle = '--')\n",
    "\n",
    "plt.show()"
   ]
  },
  {
   "cell_type": "markdown",
   "metadata": {},
   "source": [
    "### DNMT3A R882H, DNMT3A nonsynonymous, all synonymous variants (Figure 1e)"
   ]
  },
  {
   "cell_type": "code",
   "execution_count": 74,
   "metadata": {
    "code_folding": [
     0
    ],
    "scrolled": false
   },
   "outputs": [
    {
     "name": "stderr",
     "output_type": "stream",
     "text": [
      "/anaconda3/lib/python3.7/site-packages/ipykernel_launcher.py:11: RuntimeWarning: divide by zero encountered in log\n",
      "  # This is added back by InteractiveShellApp.init_path()\n",
      "/anaconda3/lib/python3.7/site-packages/ipykernel_launcher.py:7: RuntimeWarning: divide by zero encountered in log\n",
      "  import sys\n",
      "/anaconda3/lib/python3.7/site-packages/ipykernel_launcher.py:23: RuntimeWarning: divide by zero encountered in log\n",
      "/anaconda3/lib/python3.7/site-packages/ipykernel_launcher.py:26: RuntimeWarning: divide by zero encountered in log\n",
      "/anaconda3/lib/python3.7/site-packages/ipykernel_launcher.py:26: RuntimeWarning: invalid value encountered in double_scalars\n",
      "/anaconda3/lib/python3.7/site-packages/ipykernel_launcher.py:27: RuntimeWarning: divide by zero encountered in log\n",
      "/anaconda3/lib/python3.7/site-packages/ipykernel_launcher.py:27: RuntimeWarning: invalid value encountered in double_scalars\n",
      "/anaconda3/lib/python3.7/site-packages/ipykernel_launcher.py:14: RuntimeWarning: divide by zero encountered in log\n",
      "  \n"
     ]
    },
    {
     "data": {
      "image/png": "[encoded data removed]",
      "text/plain": [
       "<Figure size 1404x756 with 1 Axes>"
      ]
     },
     "metadata": {
      "needs_background": "light"
     },
     "output_type": "display_data"
    }
   ],
   "source": [
    "#Plotting the histogram\n",
    "plt.close('all')\n",
    "scale = 1.5\n",
    "f, (ax1) = plt.subplots(1, 1, sharey=True, figsize=(13*scale, 7*scale))\n",
    "\n",
    "m_size = 14\n",
    "Jaiswalmarkersize = m_size*1.1\n",
    "Genovesemarkersize = m_size*1.1\n",
    "Zinkmarkersize = m_size*1.2\n",
    "Acunamarkersize = m_size*1.3\n",
    "Coombsmarkersize = m_size*1.2\n",
    "Youngmarkersize = m_size*1.2\n",
    "Desaimarkersize = m_size*1.5\n",
    "McKerrelmarkersize = m_size*1\n",
    "Liumarkersize = m_size*1\n",
    "\n",
    "N = 9.40166610e+04\n",
    "sd_ages = 1.14417164e+01\n",
    "mean_age = 55\n",
    "\n",
    "line_width = 6\n",
    "a = 0.75\n",
    "\n",
    "#DNMT3A R882H\n",
    "plot_log_hist_data_for_plot_solid(Jaiswal_DNMT3A_R882H_trimmed_list, Jaiswaltotal, R882H_mu, binmethod, \\\n",
    "                            'Jaiswal 2014', Jaiswalmarker, Jaiswalmarkersize, R882_color)\n",
    "plot_log_hist_data_for_plot_solid(Genovese_DNMT3A_R882H_trimmed_list, Genovesetotal, R882H_mu, binmethod, \\\n",
    "                            'Genovese 2014', Genovesemarker, Genovesemarkersize, R882_color)\n",
    "plot_log_hist_data_for_plot_solid(ZinkWGS_DNMT3A_R882H_trimmed_list, ZinkWGStotal, R882H_mu, binmethod, \\\n",
    "                            'Zink 2015', Zinkmarker, Zinkmarkersize, R882_color)\n",
    "plot_log_hist_data_for_plot_solid(Acuna_DNMT3A_R882H_trimmed_list, Acunatotal, R882H_mu, binmethod, \\\n",
    "                            'Acuna-Hidalgo 2017', Acunamarker, Acunamarkersize, R882_color)\n",
    "plot_log_hist_data_for_plot_solid(Coombs_DNMT3A_R882H_trimmed_list, Coombstotal, R882H_mu, binmethod, \\\n",
    "                            'Coombs 2017', Coombsmarker, Coombsmarkersize, R882_color)\n",
    "plot_log_hist_data_for_plot_solid(Young2016_2019_DNMT3A_R882H_trimmed_list, Young2019totalcontrols+Youngtotal, R882H_mu, binmethod, \\\n",
    "                            'Young 2016 & 2019', Youngmarker, Youngmarkersize, R882_color)\n",
    "plot_log_hist_data_for_plot_solid(Desai_DNMT3A_R882H_trimmed_list, Desaitotal, R882H_mu, binmethod, \\\n",
    "                            'Desai 2018', Desaimarker, Desaimarkersize, R882_color)\n",
    "plot_log_hist_data_for_plot_solid(McKerrel_DNMT3A_R882H_trimmed_list, McKerreltotal, R882H_mu, binmethod, \\\n",
    "                            'McKerrel 2015', Mckerrelmarker, McKerrelmarkersize, R882_color)\n",
    "\n",
    "#DNMT3A R882 theory line with MLE values\n",
    "s = 1.47557939e-01\n",
    "x=np.linspace(-10, -0.7, 1000)\n",
    "y=[logProbtheory_ages(l, [N, s, sd_ages]) for l in x]\n",
    "ax1.plot(x, y, c = R882_color, lw = line_width, alpha = a, zorder = 0)\n",
    "\n",
    "\n",
    "#DNMT3A nonsynonymous (excluding R882H) - McKerrel not inclued because pretty much R882C once R882H is excluded\n",
    "plot_log_hist_data_for_plot_solid(Jaiswal_DNMT3A_nonsyn_without_R882H_trimmed_list, Jaiswaltotal, \\\n",
    "                                  Jaiswal_DNMT3A_mu-R882H_mu, binmethod, \\\n",
    "                            'Jaiswal 2014', Jaiswalmarker, Jaiswalmarkersize, DNMT3A_color)\n",
    "plot_log_hist_data_for_plot_solid(Genovese_DNMT3A_nonsyn_without_R882H_trimmed_list, Genovesetotal, \\\n",
    "                                  Genovese_DNMT3A_mu-R882H_mu, binmethod, \\\n",
    "                            'Genovese 2014', Genovesemarker, Genovesemarkersize, DNMT3A_color)\n",
    "plot_log_hist_data_for_plot_solid(ZinkWGS_DNMT3A_nonsyn_without_R882H_trimmed_list, ZinkWGStotal, \\\n",
    "                                  Zink_DNMT3A_mu-R882H_mu, binmethod, \\\n",
    "                            'Zink 2015', Zinkmarker, Zinkmarkersize, DNMT3A_color)\n",
    "plot_log_hist_data_for_plot_solid(Acuna_DNMT3A_nonsyn_without_R882H_trimmed_list, Acunatotal, \\\n",
    "                                  Acuna_DNMT3A_mu-R882H_mu, binmethod, \\\n",
    "                            'Acuna-Hidalgo 2017', Acunamarker, Acunamarkersize, DNMT3A_color)\n",
    "plot_log_hist_data_for_plot_solid(Coombs_DNMT3A_nonsyn_without_R882H_trimmed_list, Coombstotal, \\\n",
    "                                  Coombs_DNMT3A_mu-R882H_mu, binmethod, \\\n",
    "                            'Coombs 2017', Coombsmarker, Coombsmarkersize, DNMT3A_color)\n",
    "plot_log_hist_data_for_plot_solid(Young2016_2019_DNMT3A_nonsyn_without_R882H_trimmed_list, Young2019totalcontrols+Youngtotal, \\\n",
    "                                  Young_DNMT3A_mu-R882H_mu, binmethod, \\\n",
    "                            'Young 2016 & 2019', Youngmarker, Youngmarkersize, DNMT3A_color)\n",
    "plot_log_hist_data_for_plot_solid(Desai_DNMT3A_nonsyn_without_R882H_trimmed_list, Desaitotal, \\\n",
    "                                  Desai_DNMT3A_mu-R882H_mu, binmethod, \\\n",
    "                            'Desai 2018', Desaimarker, Desaimarkersize, DNMT3A_color)\n",
    "\n",
    "#DNMT3A nonsynonymous (excluding R882H) theory line with MLE values\n",
    "s_min = 0.0001\n",
    "b = 1.35567632 \n",
    "d = 0.0573614 \n",
    "s_max = 0.18749274\n",
    "\n",
    "x1 = np.ndarray.tolist(np.linspace(-10, np.log(0.48), 100))\n",
    "x2 = np.ndarray.tolist(np.linspace(np.log(0.48), np.log(0.499999), 1000))\n",
    "x = x1+x2\n",
    "y=[logProbtheory_ages_nonsyn_exp_power(l, [b, d, s_max]) for l in x]\n",
    "ax1.plot(x, y, c = DNMT3A_color, lw = line_width, alpha = a)\n",
    "\n",
    "\n",
    "#SYNONYMOUS VARIANTS (all genes)\n",
    "plot_log_hist_data_for_plot_solid(Acuna_synonymous_trimmed_list, Acunatotal, Acuna_synonymous_mu, binmethod, \\\n",
    "                            'Acuna-Hidalgo 2017', Acunamarker, Acunamarkersize, neutralcolor)\n",
    "plot_log_hist_data_for_plot_solid(Young2016_2019_synonymous_trimmed_list, Young2019totalcontrols+Youngtotal, \\\n",
    "                                  Young_synonymous_mu, young_synonymous_bins, \\\n",
    "                            'Young 2016 & 2019', Youngmarker, Youngmarkersize, neutralcolor)\n",
    "\n",
    "# Synonymous variants theory line with MLE values\n",
    "c = 1.30527344\n",
    "x=np.linspace(-10, -0.7, 1000)\n",
    "y=[logProbtheory_ages_neutral(l, [c]) for l in x]\n",
    "ax1.plot(x, y, c = neutralcolor, lw = line_width, alpha = a, zorder = 3)\n",
    "\n",
    "# HITCHHIKER LINE\n",
    "mu_ben = 2.5142033481427965e-06\n",
    "s = 0.19061965125701302\n",
    "x=np.linspace(-6.45, -0.7, 1000)\n",
    "y=[logProbtheory_ages_hitch(l, [s, mu_ben]) for l in x]\n",
    "ax1.plot(x, y, c = neutralcolor, lw = 5, linestyle = '--', alpha = a, zorder = 3)\n",
    "\n",
    "ax1.set_ylim(np.log(10**(0)), np.log(2*10**6))\n",
    "\n",
    "plt.show()"
   ]
  }
 ],
 "metadata": {
  "kernelspec": {
   "display_name": "Python 3",
   "language": "python",
   "name": "python3"
  },
  "language_info": {
   "codemirror_mode": {
    "name": "ipython",
    "version": 3
   },
   "file_extension": ".py",
   "mimetype": "text/x-python",
   "name": "python",
   "nbconvert_exporter": "python",
   "pygments_lexer": "ipython3",
   "version": "3.7.0"
  },
  "toc": {
   "base_numbering": 1,
   "nav_menu": {},
   "number_sections": true,
   "sideBar": true,
   "skip_h1_title": false,
   "title_cell": "Table of Contents",
   "title_sidebar": "Contents",
   "toc_cell": true,
   "toc_position": {
    "height": "calc(100% - 180px)",
    "left": "10px",
    "top": "150px",
    "width": "317.3958435058594px"
   },
   "toc_section_display": true,
   "toc_window_display": true
  }
 },
 "nbformat": 4,
 "nbformat_minor": 2
}
