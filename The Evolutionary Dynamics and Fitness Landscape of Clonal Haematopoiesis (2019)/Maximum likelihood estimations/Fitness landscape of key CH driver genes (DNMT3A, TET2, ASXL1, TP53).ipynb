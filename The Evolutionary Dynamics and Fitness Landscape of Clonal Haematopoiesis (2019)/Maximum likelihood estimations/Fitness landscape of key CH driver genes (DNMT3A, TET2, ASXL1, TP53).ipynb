{
 "cells": [
  {
   "cell_type": "markdown",
   "metadata": {
    "toc": true
   },
   "source": [
    "<h1>Table of Contents<span class=\"tocSkip\"></span></h1>\n",
    "<div class=\"toc\"><ul class=\"toc-item\"><li><span><a href=\"#Python-Setup\" data-toc-modified-id=\"Python-Setup-1\"><span class=\"toc-item-num\">1&nbsp;&nbsp;</span>Python Setup</a></span><ul class=\"toc-item\"><li><span><a href=\"#Change-the-width-of-the-page\" data-toc-modified-id=\"Change-the-width-of-the-page-1.1\"><span class=\"toc-item-num\">1.1&nbsp;&nbsp;</span>Change the width of the page</a></span></li><li><span><a href=\"#Import-packages\" data-toc-modified-id=\"Import-packages-1.2\"><span class=\"toc-item-num\">1.2&nbsp;&nbsp;</span>Import packages</a></span></li></ul></li><li><span><a href=\"#Colours\" data-toc-modified-id=\"Colours-2\"><span class=\"toc-item-num\">2&nbsp;&nbsp;</span>Colours</a></span><ul class=\"toc-item\"><li><span><a href=\"#Colour-line-graph\" data-toc-modified-id=\"Colour-line-graph-2.1\"><span class=\"toc-item-num\">2.1&nbsp;&nbsp;</span>Colour line graph</a></span></li></ul></li><li><span><a href=\"#Totals-and-Markers-for-Studies\" data-toc-modified-id=\"Totals-and-Markers-for-Studies-3\"><span class=\"toc-item-num\">3&nbsp;&nbsp;</span>Totals and Markers for Studies</a></span></li><li><span><a href=\"#Fonts\" data-toc-modified-id=\"Fonts-4\"><span class=\"toc-item-num\">4&nbsp;&nbsp;</span>Fonts</a></span></li><li><span><a href=\"#Mutation-rates\" data-toc-modified-id=\"Mutation-rates-5\"><span class=\"toc-item-num\">5&nbsp;&nbsp;</span>Mutation rates</a></span></li><li><span><a href=\"#Theory-curve-equations\" data-toc-modified-id=\"Theory-curve-equations-6\"><span class=\"toc-item-num\">6&nbsp;&nbsp;</span>Theory curve equations</a></span></li><li><span><a href=\"#VAF-data\" data-toc-modified-id=\"VAF-data-7\"><span class=\"toc-item-num\">7&nbsp;&nbsp;</span>VAF data</a></span><ul class=\"toc-item\"><li><ul class=\"toc-item\"><li><span><a href=\"#Jaiswal-2014\" data-toc-modified-id=\"Jaiswal-2014-7.0.1\"><span class=\"toc-item-num\">7.0.1&nbsp;&nbsp;</span>Jaiswal 2014</a></span></li><li><span><a href=\"#Genovese-2014\" data-toc-modified-id=\"Genovese-2014-7.0.2\"><span class=\"toc-item-num\">7.0.2&nbsp;&nbsp;</span>Genovese 2014</a></span></li><li><span><a href=\"#Zink-WGS-2017\" data-toc-modified-id=\"Zink-WGS-2017-7.0.3\"><span class=\"toc-item-num\">7.0.3&nbsp;&nbsp;</span>Zink WGS 2017</a></span></li><li><span><a href=\"#Acuna-Hidalgo-2017\" data-toc-modified-id=\"Acuna-Hidalgo-2017-7.0.4\"><span class=\"toc-item-num\">7.0.4&nbsp;&nbsp;</span>Acuna-Hidalgo 2017</a></span></li><li><span><a href=\"#Coombs-2017\" data-toc-modified-id=\"Coombs-2017-7.0.5\"><span class=\"toc-item-num\">7.0.5&nbsp;&nbsp;</span>Coombs 2017</a></span></li><li><span><a href=\"#McKerrel-2015\" data-toc-modified-id=\"McKerrel-2015-7.0.6\"><span class=\"toc-item-num\">7.0.6&nbsp;&nbsp;</span>McKerrel 2015</a></span></li><li><span><a href=\"#Young-2016\" data-toc-modified-id=\"Young-2016-7.0.7\"><span class=\"toc-item-num\">7.0.7&nbsp;&nbsp;</span>Young 2016</a></span></li><li><span><a href=\"#Young-2019\" data-toc-modified-id=\"Young-2019-7.0.8\"><span class=\"toc-item-num\">7.0.8&nbsp;&nbsp;</span>Young 2019</a></span></li><li><span><a href=\"#Desai-2018\" data-toc-modified-id=\"Desai-2018-7.0.9\"><span class=\"toc-item-num\">7.0.9&nbsp;&nbsp;</span>Desai 2018</a></span></li></ul></li></ul></li><li><span><a href=\"#Trimming-the-data\" data-toc-modified-id=\"Trimming-the-data-8\"><span class=\"toc-item-num\">8&nbsp;&nbsp;</span>Trimming the data</a></span><ul class=\"toc-item\"><li><span><a href=\"#Trimmed-data-for-TET2-nonsynonymous-variants\" data-toc-modified-id=\"Trimmed-data-for-TET2-nonsynonymous-variants-8.1\"><span class=\"toc-item-num\">8.1&nbsp;&nbsp;</span>Trimmed data for TET2 nonsynonymous variants</a></span></li><li><span><a href=\"#Trimmed-data-for-ASXL1-nonsynonymous-variants\" data-toc-modified-id=\"Trimmed-data-for-ASXL1-nonsynonymous-variants-8.2\"><span class=\"toc-item-num\">8.2&nbsp;&nbsp;</span>Trimmed data for ASXL1 nonsynonymous variants</a></span></li><li><span><a href=\"#Trimmed-data-for-TP53-nonsynonymous-variants\" data-toc-modified-id=\"Trimmed-data-for-TP53-nonsynonymous-variants-8.3\"><span class=\"toc-item-num\">8.3&nbsp;&nbsp;</span>Trimmed data for TP53 nonsynonymous variants</a></span></li></ul></li><li><span><a href=\"#Maximum-Likelihood-Estimations-and-Plotting-the-histograms\" data-toc-modified-id=\"Maximum-Likelihood-Estimations-and-Plotting-the-histograms-9\"><span class=\"toc-item-num\">9&nbsp;&nbsp;</span>Maximum Likelihood Estimations and Plotting the histograms</a></span><ul class=\"toc-item\"><li><span><a href=\"#Functions-for-plotting-histograms\" data-toc-modified-id=\"Functions-for-plotting-histograms-9.1\"><span class=\"toc-item-num\">9.1&nbsp;&nbsp;</span>Functions for plotting histograms</a></span></li><li><span><a href=\"#Generate-lists-of-normalised-VAFs-&amp;-normalised-densities-for-maximum-likelihood-estimations\" data-toc-modified-id=\"Generate-lists-of-normalised-VAFs-&amp;-normalised-densities-for-maximum-likelihood-estimations-9.2\"><span class=\"toc-item-num\">9.2&nbsp;&nbsp;</span>Generate lists of normalised VAFs &amp; normalised densities for maximum likelihood estimations</a></span></li><li><span><a href=\"#Maxmimum-Likelihood-Estimations-for-distribution-of-s-in-TET2,-ASXL1-and-TP53\" data-toc-modified-id=\"Maxmimum-Likelihood-Estimations-for-distribution-of-s-in-TET2,-ASXL1-and-TP53-9.3\"><span class=\"toc-item-num\">9.3&nbsp;&nbsp;</span>Maxmimum Likelihood Estimations for distribution of s in TET2, ASXL1 and TP53</a></span><ul class=\"toc-item\"><li><span><a href=\"#TET2\" data-toc-modified-id=\"TET2-9.3.1\"><span class=\"toc-item-num\">9.3.1&nbsp;&nbsp;</span>TET2</a></span></li><li><span><a href=\"#ASXL1\" data-toc-modified-id=\"ASXL1-9.3.2\"><span class=\"toc-item-num\">9.3.2&nbsp;&nbsp;</span>ASXL1</a></span></li><li><span><a href=\"#TP53\" data-toc-modified-id=\"TP53-9.3.3\"><span class=\"toc-item-num\">9.3.3&nbsp;&nbsp;</span>TP53</a></span></li></ul></li><li><span><a href=\"#Histograms\" data-toc-modified-id=\"Histograms-9.4\"><span class=\"toc-item-num\">9.4&nbsp;&nbsp;</span>Histograms</a></span><ul class=\"toc-item\"><li><span><a href=\"#TET2\" data-toc-modified-id=\"TET2-9.4.1\"><span class=\"toc-item-num\">9.4.1&nbsp;&nbsp;</span>TET2</a></span></li><li><span><a href=\"#ASXL1\" data-toc-modified-id=\"ASXL1-9.4.2\"><span class=\"toc-item-num\">9.4.2&nbsp;&nbsp;</span>ASXL1</a></span></li><li><span><a href=\"#TP53\" data-toc-modified-id=\"TP53-9.4.3\"><span class=\"toc-item-num\">9.4.3&nbsp;&nbsp;</span>TP53</a></span></li></ul></li></ul></li><li><span><a href=\"#Interpreting-the-distribution-of-s\" data-toc-modified-id=\"Interpreting-the-distribution-of-s-10\"><span class=\"toc-item-num\">10&nbsp;&nbsp;</span>Interpreting the distribution of s</a></span><ul class=\"toc-item\"><li><ul class=\"toc-item\"><li><span><a href=\"#DNMT3A\" data-toc-modified-id=\"DNMT3A-10.0.1\"><span class=\"toc-item-num\">10.0.1&nbsp;&nbsp;</span>DNMT3A</a></span></li><li><span><a href=\"#TET2\" data-toc-modified-id=\"TET2-10.0.2\"><span class=\"toc-item-num\">10.0.2&nbsp;&nbsp;</span>TET2</a></span></li><li><span><a href=\"#ASXL1\" data-toc-modified-id=\"ASXL1-10.0.3\"><span class=\"toc-item-num\">10.0.3&nbsp;&nbsp;</span>ASXL1</a></span></li><li><span><a href=\"#TP53\" data-toc-modified-id=\"TP53-10.0.4\"><span class=\"toc-item-num\">10.0.4&nbsp;&nbsp;</span>TP53</a></span></li></ul></li><li><span><a href=\"#Comparing-the-distribution-of-s-in-DNMT3A,-TET2,-ASXL1,-TP53-(Figure-2b)\" data-toc-modified-id=\"Comparing-the-distribution-of-s-in-DNMT3A,-TET2,-ASXL1,-TP53-(Figure-2b)-10.1\"><span class=\"toc-item-num\">10.1&nbsp;&nbsp;</span>Comparing the distribution of s in DNMT3A, TET2, ASXL1, TP53 (Figure 2b)</a></span></li></ul></li></ul></div>"
   ]
  },
  {
   "cell_type": "markdown",
   "metadata": {},
   "source": [
    "# Python Setup"
   ]
  },
  {
   "cell_type": "markdown",
   "metadata": {},
   "source": [
    "## Change the width of the page"
   ]
  },
  {
   "cell_type": "code",
   "execution_count": 1,
   "metadata": {},
   "outputs": [
    {
     "data": {
      "text/html": [
       "<style>.container { width:80% !important; }</style>"
      ],
      "text/plain": [
       "<IPython.core.display.HTML object>"
      ]
     },
     "metadata": {},
     "output_type": "display_data"
    }
   ],
   "source": [
    "from IPython.core.display import display, HTML\n",
    "display(HTML(\"<style>.container { width:80% !important; }</style>\"))"
   ]
  },
  {
   "cell_type": "markdown",
   "metadata": {},
   "source": [
    "## Import packages"
   ]
  },
  {
   "cell_type": "code",
   "execution_count": 2,
   "metadata": {
    "code_folding": []
   },
   "outputs": [],
   "source": [
    "# imported packages\n",
    "import random\n",
    "import numpy as np\n",
    "import matplotlib\n",
    "import matplotlib.pyplot as plt\n",
    "import math\n",
    "import matplotlib.ticker as plticker\n",
    "from matplotlib.ticker import LinearLocator, FormatStrFormatter\n",
    "from matplotlib.patches import Polygon\n",
    "from matplotlib.patches import Patch\n",
    "from matplotlib.lines import Line2D\n",
    "from matplotlib import cm\n",
    "import scipy.special\n",
    "import scipy.integrate as it\n",
    "from scipy import integrate\n",
    "from scipy.interpolate import interp1d\n",
    "from scipy.stats import kde\n",
    "import copy\n",
    "import glob, os\n",
    "import re\n",
    "from sklearn import datasets, linear_model\n",
    "import pandas as pd\n",
    "from decimal import *\n",
    "from operator import itemgetter    \n",
    "from collections import OrderedDict\n",
    "import timeit"
   ]
  },
  {
   "cell_type": "markdown",
   "metadata": {},
   "source": [
    "# Colours"
   ]
  },
  {
   "cell_type": "code",
   "execution_count": 3,
   "metadata": {
    "code_folding": []
   },
   "outputs": [],
   "source": [
    "# Lists of colors for plots\n",
    "c0 = (0.76, 0.76, 0.76)\n",
    "c1 = (1.00, 0.18, 0.33);\n",
    "c2 = (1.00, 0.23, 0.19);\n",
    "c3 = (1.00, 0.58, 0.00);\n",
    "c4 = (1.00, 0.80, 0.00);\n",
    "c5 = (0.30, 0.85, 0.39);\n",
    "c6 = (0.35, 0.78, 0.98);\n",
    "c7 = (0.20, 0.67, 0.86);\n",
    "c8 = (0.00, 0.48, 1.00);\n",
    "c9 = (0.35, 0.34, 0.84);\n",
    "c10 = (0.00, 0.31, 0.57);\n",
    "c11 = (0.12, 0.29, 0.69);\n",
    "c12 = (0.17, 0.17, 0.42);\n",
    "c13 = (1.00, 1.00, 1.00);\n",
    "c14 = (0.77, 0.04, 0.00);"
   ]
  },
  {
   "cell_type": "code",
   "execution_count": 4,
   "metadata": {
    "code_folding": [
     0
    ]
   },
   "outputs": [],
   "source": [
    "#define the colors from colorbrewer2\n",
    "orange1 = '#feedde'\n",
    "orange2 = '#fdbe85'\n",
    "orange3 = '#fd8d3c'\n",
    "orange4 = '#e6550d'\n",
    "orange5 = '#a63603'\n",
    "blue1 = '#eff3ff'\n",
    "blue2 = '#bdd7e7'\n",
    "blue3 = '#6baed6'\n",
    "blue4 = '#3182bd'\n",
    "blue5 = '#08519c'\n",
    "green1 = '#edf8e9'\n",
    "green2 = '#bae4b3'\n",
    "green3 = '#74c476'\n",
    "green4 = '#31a354'\n",
    "green5 = '#006d2c'\n",
    "grey1 = '#f7f7f7'\n",
    "grey2 = '#cccccc'\n",
    "grey3 = '#969696'\n",
    "grey4 = '#636363'\n",
    "grey5 = '#252525'\n",
    "purple1 = '#f2f0f7'\n",
    "purple2 = '#cbc9e2'\n",
    "purple3 = '#9e9ac8'\n",
    "purple4 = '#756bb1'\n",
    "purple5 = '#54278f'\n",
    "red1 = '#fee5d9'\n",
    "red2 = '#fcae91'\n",
    "red3 = '#fb6a4a'\n",
    "red4 = '#de2d26'\n",
    "red5 = '#a50f15'\n",
    "# yellow = '#ffffd4'"
   ]
  },
  {
   "cell_type": "code",
   "execution_count": 5,
   "metadata": {},
   "outputs": [],
   "source": [
    "DNMT3A_color = 'dodgerblue'\n",
    "TET2_color = '#74c476'\n",
    "TP53_color = 'slategrey'\n",
    "ASXL1_color = '#df65b0'\n",
    "\n",
    "\n",
    "DNMT3A_color = 'dodgerblue'\n",
    "TP53_color = '#B0C4DE'\n",
    "TET2_color = '#B2DF8A'\n",
    "ASXL1_color = '#FAAFBC'"
   ]
  },
  {
   "cell_type": "markdown",
   "metadata": {},
   "source": [
    "## Colour line graph"
   ]
  },
  {
   "cell_type": "code",
   "execution_count": 6,
   "metadata": {
    "code_folding": [
     0
    ]
   },
   "outputs": [
    {
     "data": {
      "image/png": "[encoded data removed]",
      "text/plain": [
       "<Figure size 720x360 with 1 Axes>"
      ]
     },
     "metadata": {
      "needs_background": "light"
     },
     "output_type": "display_data"
    }
   ],
   "source": [
    "#Colour graph\n",
    "import matplotlib.pyplot as plt\n",
    "plt.close('all')\n",
    "f, (col) = plt.subplots(1, 1, sharey=True, figsize=(10, 5))\n",
    "col.set_xlim(1, 5)\n",
    "col.set_ylim(-0.5,15)\n",
    "col.set_title('Colours')\n",
    "\n",
    "x_major_ticks = [1, 5]\n",
    "x_major_tick_labels = [\"\", \"\"]\n",
    "col.set_xticks(x_major_ticks)\n",
    "col.set_xticklabels(x_major_tick_labels)\n",
    "\n",
    "y_major_ticks = [0, 1, 2, 3, 4, 5, 6, 7, 8, 9, 10, 11, 12, 13, 14]\n",
    "y_major_tick_labels = [\"c0\", \"c1\", \"c2\", \"c3\", \"c4\", \"c5\", \"c6\", \"c7\", \"c8\", \"c9\", \"c10\", \"c11\", \"c12\", \"c13\", \"c14\"]\n",
    "col.set_yticks(y_major_ticks)\n",
    "col.set_yticklabels(y_major_tick_labels)\n",
    " \n",
    "# c0 points\n",
    "x0 = [1,5]\n",
    "y0 = [0,0]\n",
    "# plotting the c1 points \n",
    "plt.plot(x0, y0, label = \"c0\", color=c0)\n",
    " \n",
    "# c1 points\n",
    "x1 = [1,5]\n",
    "y1 = [1,1]\n",
    "# plotting the c1 points \n",
    "plt.plot(x1, y1, label = \"c1\", color=c1)\n",
    "\n",
    "# c2 points\n",
    "x2 = [1,5]\n",
    "y2 = [2,2]\n",
    "# plotting the c2 points \n",
    "plt.plot(x2, y2, label = \"c2\", color=c2)\n",
    "\n",
    "# c3 points\n",
    "x3 = [1,5]\n",
    "y3 = [3,3]\n",
    "# plotting the c3 points \n",
    "plt.plot(x3, y3, label = \"c3\", color=c3)\n",
    "\n",
    "# c4 points\n",
    "x4 = [1,5]\n",
    "y4 = [4, 4]\n",
    "# plotting the c4 points \n",
    "plt.plot(x4, y4, label = \"c4\", color=c4)\n",
    "\n",
    "# c5 points\n",
    "x5 = [1,5]\n",
    "y5 = [5, 5]\n",
    "# plotting the c5 points \n",
    "plt.plot(x5, y5, label = \"c5\", color=c5)\n",
    "\n",
    "# c6 points\n",
    "x6 = [1,5]\n",
    "y6 = [6, 6]\n",
    "# plotting the c6 points \n",
    "plt.plot(x6, y6, label = \"c6\", color=c6)\n",
    "\n",
    "# c7 points\n",
    "x7 = [1,5]\n",
    "y7 = [7, 7]\n",
    "# plotting the c7 points \n",
    "plt.plot(x7, y7, label = \"c7\", color=c7)\n",
    "\n",
    "# c8 points\n",
    "x8 = [1,5]\n",
    "y8 = [8, 8]\n",
    "# plotting the c8 points \n",
    "plt.plot(x8, y8, label = \"c8\", color=c8)\n",
    "\n",
    "# c9 points\n",
    "x9 = [1,5]\n",
    "y9 = [9, 9]\n",
    "# plotting the c9 points \n",
    "plt.plot(x9, y9, label = \"c9\", color=c9)\n",
    "\n",
    "# c10 points\n",
    "x10 = [1,5]\n",
    "y10 = [10, 10]\n",
    "# plotting the c4 points \n",
    "plt.plot(x10, y10, label = \"c10\", color=c10)\n",
    "\n",
    "# c11 points\n",
    "x11 = [1,5]\n",
    "y11 = [11, 11]\n",
    "# plotting the c11 points \n",
    "plt.plot(x11, y11, label = \"c11\", color=c11)\n",
    "\n",
    "# c12 points\n",
    "x12 = [1,5]\n",
    "y12 = [12, 12]\n",
    "# plotting the c12 points \n",
    "plt.plot(x12, y12, label = \"c12\", color=c12)\n",
    "\n",
    "# c13 points\n",
    "x13 = [1,5]\n",
    "y13 = [13, 13]\n",
    "# plotting the c13 points \n",
    "plt.plot(x13, y13, label = \"c13\", color=c13)\n",
    "\n",
    "# c14 points\n",
    "x14 = [1,5]\n",
    "y14 = [14, 14]\n",
    "# plotting the c14 points \n",
    "plt.plot(x14, y14, label = \"c14\", color=c14)\n",
    "\n",
    "# # show a legend on the plot\n",
    "# plt.legend()\n",
    " \n",
    "# function to show the plot\n",
    "plt.show()"
   ]
  },
  {
   "cell_type": "markdown",
   "metadata": {},
   "source": [
    "# Totals and Markers for Studies"
   ]
  },
  {
   "cell_type": "code",
   "execution_count": 7,
   "metadata": {},
   "outputs": [],
   "source": [
    "#Number of individuals in each study\n",
    "Jaiswaltotal = 17182\n",
    "Genovesetotal = 12380\n",
    "McKerreltotal = 4219\n",
    "Youngtotal = 20\n",
    "Young2019totalcontrols = 69 #controls only\n",
    "ZinkWGStotal = 11262\n",
    "Acunatotal = 2006\n",
    "Coombstotal = 1591 #chemotherapy and radiotherapy naive individuals\n",
    "Desaitotal = 181 #controls only"
   ]
  },
  {
   "cell_type": "code",
   "execution_count": 8,
   "metadata": {},
   "outputs": [],
   "source": [
    "#Markers used to represent each study\n",
    "Jaiswalmarker = 'o' #circle\n",
    "Genovesemarker = 'd' #narrow diamond\n",
    "Mckerrelmarker = 'D' #square diamond\n",
    "Zinkmarker = '^' #triangle (with peak at top)\n",
    "Acunamarker = 'P' #plus sign\n",
    "Coombsmarker = 'v' #triangle (with peak at the bottom)\n",
    "Youngmarker = 'p' #pentagon\n",
    "Desaimarker = '*' #star"
   ]
  },
  {
   "cell_type": "code",
   "execution_count": 9,
   "metadata": {},
   "outputs": [],
   "source": [
    "DNMT3A_color = 'dodgerblue'\n",
    "TP53_color = 'slategrey'\n",
    "TET2_color = '#74c476'\n",
    "ASXL1_color = '#df65b0'"
   ]
  },
  {
   "cell_type": "markdown",
   "metadata": {},
   "source": [
    "# Fonts"
   ]
  },
  {
   "cell_type": "code",
   "execution_count": 10,
   "metadata": {},
   "outputs": [],
   "source": [
    "axisfont=13\n",
    "titlefont=20\n",
    "subtitlefont = 15\n",
    "axislabelfont=15\n",
    "legendfont = 11\n",
    "tpfont = 12"
   ]
  },
  {
   "cell_type": "markdown",
   "metadata": {},
   "source": [
    "# Mutation rates"
   ]
  },
  {
   "cell_type": "code",
   "execution_count": 11,
   "metadata": {
    "code_folding": []
   },
   "outputs": [],
   "source": [
    "# DNMT3A missense and nonsense variants mutation rates\n",
    "Jaiswal_DNMT3A_mu =8.94E-07\n",
    "Genovese_DNMT3A_mu = 6.13E-06\n",
    "Acuna_DNMT3A_mu = 8.19E-07\n",
    "Zink_DNMT3A_mu = 1.60E-06\n",
    "Coombs_DNMT3A_mu = 8.47E-06\n",
    "McKerrel_DNMT3A_mu = 3.63E-08\n",
    "Young_DNMT3A_mu = 8.47E-06\n",
    "Desai_DNMT3A_mu = 8.47E-06"
   ]
  },
  {
   "cell_type": "code",
   "execution_count": 12,
   "metadata": {},
   "outputs": [],
   "source": [
    "#ASXL1 nonsynonymous mutation rates\n",
    "Jaiswal_ASXL1_mu =6.25E-07\n",
    "Genovese_ASXL1_mu = 6.09E-07\n",
    "Acuna_ASXL1_mu = 1.78E-07\n",
    "Zink_ASXL1_mu = 1.14E-06\n",
    "Coombs_ASXL1_mu = 1.20E-05\n",
    "Young_ASXL1_mu = 7.10E-06\n",
    "Desai_ASXL1_mu = 1.19E-05"
   ]
  },
  {
   "cell_type": "code",
   "execution_count": 13,
   "metadata": {},
   "outputs": [],
   "source": [
    "# TET2 nonsynonymous mutation rates\n",
    "Jaiswal_TET2_mu =5.23E-07\n",
    "Genovese_TET2_mu = 5.57E-07\n",
    "Acuna_TET2_mu = 3.13E-07\n",
    "Zink_TET2_mu = 1.96E-06 #just one transcript\n",
    "Coombs_TET2_mu = 1.31E-05\n",
    "Young_TET2_mu = 1.30E-05\n",
    "Desai_TET2_mu = 1.30E-05"
   ]
  },
  {
   "cell_type": "code",
   "execution_count": 14,
   "metadata": {},
   "outputs": [],
   "source": [
    "# TP53 nonsynonymous mutation rates\n",
    "Jaiswal_TP53_mu = 7.87E-07\n",
    "Genovese_TP53_mu = 6.09E-07\n",
    "Acuna_TP53_mu = 9.27E-07 \n",
    "Zink_TP53_mu = 1.62E-06\n",
    "Coombs_TP53_mu = 3.43E-06\n",
    "Young_TP53_mu = 3.43E-06\n",
    "Desai_TP53_mu = 3.43E-06"
   ]
  },
  {
   "cell_type": "markdown",
   "metadata": {},
   "source": [
    "# Theory curve equations"
   ]
  },
  {
   "cell_type": "markdown",
   "metadata": {
    "code_folding": []
   },
   "source": [
    "**linear scale:**\n",
    "<br>\n",
    "``y_theory = [binwidth*(theta/(f*(1-(2*f)))*np.exp(-(f)/(phi*(1-(2*f))))) for f in x_theory]``\n",
    "<br>\n",
    "<br>\n",
    "**log scale:**\n",
    "<br>\n",
    "``y_theory = [binwidth*(theta)/(1-(2*(np.exp(l)))))*np.exp(-(np.exp(l))/(phi*(1-(2*(np.exp(l)))))) for l in x_theory]``"
   ]
  },
  {
   "cell_type": "markdown",
   "metadata": {},
   "source": [
    "where ``phi = (e^st)-1)/(2NS)``"
   ]
  },
  {
   "cell_type": "markdown",
   "metadata": {
    "collapsed": true
   },
   "source": [
    "# VAF data"
   ]
  },
  {
   "cell_type": "markdown",
   "metadata": {},
   "source": [
    "### Jaiswal 2014"
   ]
  },
  {
   "cell_type": "code",
   "execution_count": 15,
   "metadata": {
    "code_folding": [
     0
    ]
   },
   "outputs": [],
   "source": [
    "# DNMT3A nonsynonymous variants - create a dictionary of all the DNMT3A missense and nonsense variants (with row_count as key)\n",
    "import csv\n",
    "filename=\"Data files/Jaiswal_2014_SNVs.csv\" #CSV file containing only the SNVs reported in Jaiswal 2014\n",
    "\n",
    "with open(filename, 'r') as csvfile:\n",
    "    read_reader = csv.reader(csvfile) #csv.reader returns a reader object which will iterate over lines in the csvfile\n",
    "    row_count=0\n",
    "    Jaiswal_DNMT3A_missense_nonsense={} #dictionary of DNMTA missense and nonsense results\n",
    "\n",
    "    for row in read_reader:\n",
    "        if row_count>0: #ignore the header of the CSV file\n",
    "            if row[0]=='DNMT3A': #only look at the DNMT3A results\n",
    "                VAF = row[10] #VAF\n",
    "                ID = row[13] #participant ID\n",
    "                mutation_type = row[6] #whether the variant is missense or nonsense or synonymous\n",
    "                AA = row[7] #AA change, e.g. V617F\n",
    "                if mutation_type == 'nonsense':\n",
    "                    Jaiswal_DNMT3A_missense_nonsense[row_count]=(ID, VAF, mutation_type, AA)\n",
    "                if mutation_type == 'missense':\n",
    "                    Jaiswal_DNMT3A_missense_nonsense[row_count]=(ID, VAF, mutation_type, AA)\n",
    "\n",
    "        row_count=row_count+1\n",
    "\n",
    "#R882 dictionaries\n",
    "Jaiswal_DNMT3A_R882H = {}\n",
    "\n",
    "for (k, v) in Jaiswal_DNMT3A_missense_nonsense.items():\n",
    "    AA = v[3]\n",
    "    if AA == \"p.R882H\":\n",
    "        Jaiswal_DNMT3A_R882H[k]=v\n",
    "        \n",
    "Jaiswal_DNMT3A_R882H = sorted(Jaiswal_DNMT3A_R882H.items(), key=lambda x: x[1][1], reverse=True)\n",
    "Jaiswal_DNMT3A_nonsyn_without_R882H = {k: v for k, v in Jaiswal_DNMT3A_missense_nonsense.items() if v[3] != \"p.R882H\"}"
   ]
  },
  {
   "cell_type": "code",
   "execution_count": 16,
   "metadata": {
    "code_folding": [
     0
    ]
   },
   "outputs": [],
   "source": [
    "# ASXL1 nonsynonymous variants - create a dictionary of all the ASXL1 missense and nonsense variants (with row_count as key)\n",
    "import csv\n",
    "filename=\"Data files/Jaiswal_2014_SNVs.csv\" #CSV file containing only the SNVs reported in Jaiswal 2014\n",
    "\n",
    "with open(filename, 'r') as csvfile:\n",
    "    read_reader = csv.reader(csvfile) #csv.reader returns a reader object which will iterate over lines in the csvfile\n",
    "    row_count=0\n",
    "    Jaiswal_ASXL1_missense_nonsense={} #dictionary of ASXL1 missense and nonsense results\n",
    "\n",
    "    for row in read_reader:\n",
    "        if row_count>0: #ignore the header of the CSV file\n",
    "            if row[0]=='ASXL1': #only look at the ASXL1 results\n",
    "                VAF = row[10] #VAF\n",
    "                ID = row[13] #participant ID\n",
    "                mutation_type = row[6] #whether the variant is missense or nonsense or synonymous\n",
    "                AA = row[7] #AA change, e.g. V617F\n",
    "                if mutation_type == 'nonsense':\n",
    "                    Jaiswal_ASXL1_missense_nonsense[row_count]=(ID, VAF, mutation_type, AA)\n",
    "                if mutation_type == 'missense':\n",
    "                    Jaiswal_ASXL1_missense_nonsense[row_count]=(ID, VAF, mutation_type, AA)\n",
    "\n",
    "        row_count=row_count+1\n",
    "\n",
    "Jaiswal_ASXL1_nonsyn = sorted(Jaiswal_ASXL1_missense_nonsense.items(), key=lambda x: x[1][1], reverse=True)"
   ]
  },
  {
   "cell_type": "code",
   "execution_count": 17,
   "metadata": {
    "code_folding": [
     0
    ]
   },
   "outputs": [],
   "source": [
    "# TET2 nonsynonymous variants - create a dictionary of all the TET2 missense and nonsense variants (with row_count as key)\n",
    "import csv\n",
    "filename=\"Data files/Jaiswal_2014_SNVs.csv\" #CSV file containing only the SNVs reported in Jaiswal 2014\n",
    "\n",
    "with open(filename, 'r') as csvfile:\n",
    "    read_reader = csv.reader(csvfile) #csv.reader returns a reader object which will iterate over lines in the csvfile\n",
    "    row_count=0\n",
    "    Jaiswal_TET2_missense_nonsense={} #dictionary of TET2 missense and nonsense results\n",
    "\n",
    "    for row in read_reader:\n",
    "        if row_count>0: #ignore the header of the CSV file\n",
    "            if row[0]=='TET2': #only look at the TET2 results\n",
    "                VAF = row[10] #VAF\n",
    "                ID = row[13] #participant ID\n",
    "                mutation_type = row[6] #whether the variant is missense or nonsense or synonymous\n",
    "                AA = row[7] #AA change, e.g. V617F\n",
    "                if mutation_type == 'nonsense':\n",
    "                    Jaiswal_TET2_missense_nonsense[row_count]=(ID, VAF, mutation_type, AA)\n",
    "                if mutation_type == 'missense':\n",
    "                    Jaiswal_TET2_missense_nonsense[row_count]=(ID, VAF, mutation_type, AA)\n",
    "\n",
    "        row_count=row_count+1\n",
    "\n",
    "Jaiswal_TET2_nonsyn = sorted(Jaiswal_TET2_missense_nonsense.items(), key=lambda x: x[1][1], reverse=True)"
   ]
  },
  {
   "cell_type": "code",
   "execution_count": 18,
   "metadata": {
    "code_folding": [
     0
    ]
   },
   "outputs": [],
   "source": [
    "# TP53 nonsynonymous variants - create a dictionary of all the TP53 missense and nonsense variants (with row_count as key)\n",
    "import csv\n",
    "filename=\"Data files/Jaiswal_2014_SNVs.csv\" #CSV file containing only the SNVs reported in Jaiswal 2014\n",
    "\n",
    "with open(filename, 'r') as csvfile:\n",
    "    read_reader = csv.reader(csvfile) #csv.reader returns a reader object which will iterate over lines in the csvfile\n",
    "    row_count=0\n",
    "    Jaiswal_TP53_missense_nonsense={} #dictionary of TP53 missense and nonsense results\n",
    "\n",
    "    for row in read_reader:\n",
    "        if row_count>0: #ignore the header of the CSV file\n",
    "            if row[0]=='TP53': #only look at the TP53 results\n",
    "                VAF = row[10] #VAF\n",
    "                ID = row[13] #participant ID\n",
    "                mutation_type = row[6] #whether the variant is missense or nonsense or synonymous\n",
    "                AA = row[7] #AA change, e.g. V617F\n",
    "                if mutation_type == 'nonsense':\n",
    "                    Jaiswal_TP53_missense_nonsense[row_count]=(ID, VAF, mutation_type, AA)\n",
    "                if mutation_type == 'missense':\n",
    "                    Jaiswal_TP53_missense_nonsense[row_count]=(ID, VAF, mutation_type, AA)\n",
    "\n",
    "        row_count=row_count+1\n",
    "\n",
    "Jaiswal_TP53_nonsyn = sorted(Jaiswal_TP53_missense_nonsense.items(), key=lambda x: x[1][1], reverse=True)"
   ]
  },
  {
   "cell_type": "markdown",
   "metadata": {},
   "source": [
    "### Genovese 2014"
   ]
  },
  {
   "cell_type": "code",
   "execution_count": 19,
   "metadata": {
    "code_folding": [
     0
    ]
   },
   "outputs": [],
   "source": [
    "# DNMT3A nonsynonymous variants - create a dictionary of all the DNMT3A missense and nonsense variants (with row_count as key)\n",
    "import csv\n",
    "filename=\"Data files/Genovese_2014_SNVs.csv\" #CSV file containing only the SNVs reported in Genovese 2014\n",
    "\n",
    "with open(filename, 'r') as csvfile:\n",
    "    read_reader = csv.reader(csvfile)  #csv.reader returns a reader object which will iterate over lines in the csvfile\n",
    "    row_count=0\n",
    "    Genovese_DNMT3A_missense_nonsense={} #dictionary of DNMTA missense and nonsense results\n",
    "                   \n",
    "    for row in read_reader:\n",
    "        if row_count>0:  #ignore the header of the CSV file\n",
    "            if row[8]=='DNMT3A': #only look at the DNMT3A results\n",
    "                VAF = (float(row[6])/((float(row[5]))+(float(row[6]))))  # VAF = (alt count/(ref count + alt count))\n",
    "                mutation_type = row[10] #whether the variant is missense or nonsense or synonymous\n",
    "                AA = row[11] #AA change, e.g. V617F\n",
    "                if mutation_type == 'missense': \n",
    "                    Genovese_DNMT3A_missense_nonsense[row_count]=(row_count, VAF, mutation_type, AA)\n",
    "                if mutation_type == 'nonsense':\n",
    "                    Genovese_DNMT3A_missense_nonsense[row_count]=(row_count, VAF, mutation_type, AA)\n",
    "\n",
    "        row_count=row_count+1\n",
    "    \n",
    "Genovese_DNMT3A_missense_nonsense_sorted = sorted(Genovese_DNMT3A_missense_nonsense.items(), key=lambda x: x[1][1], reverse=True) #sort the results by VAF\n",
    "\n",
    "#R882 dictionaries\n",
    "Genovese_DNMT3A_R882H = {}\n",
    "\n",
    "for (k, v) in Genovese_DNMT3A_missense_nonsense.items():\n",
    "    AA = v[3]\n",
    "    if AA == \"p.R882H\":\n",
    "        Genovese_DNMT3A_R882H[k]=v\n",
    "        \n",
    "Genovese_DNMT3A_R882H = sorted(Genovese_DNMT3A_R882H.items(), key=lambda x: x[1][1], reverse=True)\n",
    "Genovese_DNMT3A_nonsyn_without_R882H = {k: v for k, v in Genovese_DNMT3A_missense_nonsense.items() if v[3] != \"p.R882H\"}"
   ]
  },
  {
   "cell_type": "code",
   "execution_count": 20,
   "metadata": {
    "code_folding": [
     0
    ]
   },
   "outputs": [],
   "source": [
    "# TET2 nonsynonymous variants - create a dictionary of all the TET2 missense and nonsense variants (with row_count as key)\n",
    "import csv\n",
    "filename=\"Data files/Genovese_2014_SNVs.csv\" #CSV file containing only the SNVs reported in Genovese 2014\n",
    "\n",
    "with open(filename, 'r') as csvfile:\n",
    "    read_reader = csv.reader(csvfile)  #csv.reader returns a reader object which will iterate over lines in the csvfile\n",
    "    row_count=0\n",
    "    Genovese_TET2_missense_nonsense={} #dictionary of TET2 missense and nonsense results\n",
    "    \n",
    "    for row in read_reader:\n",
    "        if row_count>0:  #ignore the header of the CSV file\n",
    "            if row[8]=='TET2': #only look at the TET2 results\n",
    "                VAF = (float(row[6])/((float(row[5]))+(float(row[6]))))  # VAF = (alt count/(ref count + alt count))\n",
    "                mutation_type = row[10] #whether the variant is missense or nonsense or synonymous\n",
    "                AA = row[11] #AA change, e.g. V617F\n",
    "                if mutation_type == 'missense': \n",
    "                    Genovese_TET2_missense_nonsense[row_count]=(row_count, VAF, mutation_type, AA)\n",
    "                if mutation_type == 'nonsense':\n",
    "                    Genovese_TET2_missense_nonsense[row_count]=(row_count, VAF, mutation_type, AA)\n",
    "\n",
    "        row_count=row_count+1\n",
    "    \n",
    "Genovese_TET2_nonsyn = sorted(Genovese_TET2_missense_nonsense.items(), key=lambda x: x[1][1], reverse=True) #sort the results by VAF"
   ]
  },
  {
   "cell_type": "code",
   "execution_count": 21,
   "metadata": {
    "code_folding": [
     0
    ]
   },
   "outputs": [],
   "source": [
    "# ASXL1 nonsynonymous variants - create a dictionary of all the ASXL1 missense and nonsense variants (with row_count as key)\n",
    "import csv\n",
    "filename=\"Data files/Genovese_2014_SNVs.csv\" #CSV file containing only the SNVs reported in Genovese 2014\n",
    "\n",
    "with open(filename, 'r') as csvfile:\n",
    "    read_reader = csv.reader(csvfile)  #csv.reader returns a reader object which will iterate over lines in the csvfile\n",
    "    row_count=0\n",
    "    Genovese_ASXL1_missense_nonsense={} #dictionary of ASXL1 missense and nonsense results\n",
    "    \n",
    "    for row in read_reader:\n",
    "        if row_count>0:  #ignore the header of the CSV file\n",
    "            if row[8]=='ASXL1': #only look at the ASXL1 results\n",
    "                VAF = (float(row[6])/((float(row[5]))+(float(row[6]))))  # VAF = (alt count/(ref count + alt count))\n",
    "                mutation_type = row[10] #whether the variant is missense or nonsense or synonymous\n",
    "                AA = row[11] #AA change, e.g. V617F\n",
    "                if mutation_type == 'missense': \n",
    "                    Genovese_ASXL1_missense_nonsense[row_count]=(row_count, VAF, mutation_type, AA)\n",
    "                if mutation_type == 'nonsense':\n",
    "                    Genovese_ASXL1_missense_nonsense[row_count]=(row_count, VAF, mutation_type, AA)\n",
    "\n",
    "        row_count=row_count+1\n",
    "    \n",
    "Genovese_ASXL1_nonsyn = sorted(Genovese_ASXL1_missense_nonsense.items(), key=lambda x: x[1][1], reverse=True) #sort the results by VAF"
   ]
  },
  {
   "cell_type": "code",
   "execution_count": 22,
   "metadata": {
    "code_folding": [
     0
    ]
   },
   "outputs": [],
   "source": [
    "# TP53 nonsynonymous variants - create a dictionary of all the TP53 missense and nonsense variants (with row_count as key)\n",
    "import csv\n",
    "filename=\"Data files/Genovese_2014_SNVs.csv\" #CSV file containing only the SNVs reported in Genovese 2014\n",
    "\n",
    "with open(filename, 'r') as csvfile:\n",
    "    read_reader = csv.reader(csvfile)  #csv.reader returns a reader object which will iterate over lines in the csvfile\n",
    "    row_count=0\n",
    "    Genovese_TP53_missense_nonsense={} #dictionary of TP53 missense and nonsense results\n",
    "    \n",
    "    for row in read_reader:\n",
    "        if row_count>0:  #ignore the header of the CSV file\n",
    "            if row[8]=='TP53': #only look at the TP53 results\n",
    "                VAF = (float(row[6])/((float(row[5]))+(float(row[6]))))  # VAF = (alt count/(ref count + alt count))\n",
    "                mutation_type = row[10] #whether the variant is missense or nonsense or synonymous\n",
    "                AA = row[11] #AA change, e.g. V617F\n",
    "                if mutation_type == 'missense': \n",
    "                    Genovese_TP53_missense_nonsense[row_count]=(row_count, VAF, mutation_type, AA)\n",
    "                if mutation_type == 'nonsense':\n",
    "                    Genovese_TP53_missense_nonsense[row_count]=(row_count, VAF, mutation_type, AA)\n",
    "\n",
    "        row_count=row_count+1\n",
    "    \n",
    "Genovese_TP53_nonsyn = sorted(Genovese_TP53_missense_nonsense.items(), key=lambda x: x[1][1], reverse=True) #sort the results by VAF"
   ]
  },
  {
   "cell_type": "markdown",
   "metadata": {},
   "source": [
    "### Zink WGS 2017"
   ]
  },
  {
   "cell_type": "code",
   "execution_count": 23,
   "metadata": {
    "code_folding": [
     0
    ]
   },
   "outputs": [],
   "source": [
    "# DNMT3A nonsynonymous variants - create a dictionary of all the DNMT3A missense and nonsense variants (with row_count as key)\n",
    "import csv\n",
    "filename=\"Data files/ZinkWGS_2017_SNVs.csv\" #CSV file containing only the SNVs reported by whole genome sequencing in Zink 2017\n",
    "\n",
    "with open(filename, 'r') as csvfile:\n",
    "    read_reader = csv.reader(csvfile)  #csv.reader returns a reader object which will iterate over lines in the csvfile\n",
    "    row_count=0\n",
    "    ZinkWGS_DNMT3A_missense_nonsense={} #dictionary of DNMTA missense and nonsense results\n",
    "    \n",
    "    for row in read_reader:\n",
    "        if row_count>0: #ignore the header of the CSV file\n",
    "            if row[4]=='DNMT3A': #only look at the DNMT3A results\n",
    "                VAF = float(row[5])\n",
    "                ID = row[6] #participant ID\n",
    "                age = float(row[8])\n",
    "                AA = row[10] #AA change, e.g. V617F\n",
    "                mutation_type = row[9] #whether the variant is missense or nonsense or synonymous\n",
    "                if mutation_type == 'missense':\n",
    "                    ZinkWGS_DNMT3A_missense_nonsense[row_count]=(ID, VAF, age, AA, mutation_type)\n",
    "                if mutation_type == 'nonsense':\n",
    "                    ZinkWGS_DNMT3A_missense_nonsense[row_count]=(ID, VAF, age, AA, mutation_type)\n",
    "\n",
    "        row_count=row_count+1\n",
    "\n",
    "ZinkWGS_DNMT3A_missense_nonsense_sorted = sorted(ZinkWGS_DNMT3A_missense_nonsense.items(), key=lambda x: x[1][1], reverse=True) #sort the results by VAF\n",
    "\n",
    "#R882 dictionaries\n",
    "ZinkWGS_DNMT3A_R882H = {}\n",
    "\n",
    "for (k, v) in ZinkWGS_DNMT3A_missense_nonsense.items():\n",
    "    AA = v[3]\n",
    "    if AA == \"NP_072046.2:p.Arg882His,NP_715640.2:p.Arg693His,NP_783328.1:p.Arg882His\":\n",
    "        ZinkWGS_DNMT3A_R882H[k]=v\n",
    "        \n",
    "ZinkWGS_DNMT3A_R882H = sorted(ZinkWGS_DNMT3A_R882H.items(), key=lambda x: x[1][1], reverse=True)\n",
    "ZinkWGS_DNMT3A_nonsyn_without_R882H = {k: v for k, v in ZinkWGS_DNMT3A_missense_nonsense.items() if v[3] != \"NP_072046.2:p.Arg882His,NP_715640.2:p.Arg693His,NP_783328.1:p.Arg882His\"}"
   ]
  },
  {
   "cell_type": "code",
   "execution_count": 24,
   "metadata": {
    "code_folding": [
     0
    ]
   },
   "outputs": [],
   "source": [
    "# TET2 nonsynonymous variants - create a dictionary of all the TET2 missense and nonsense variants (with row_count as key)\n",
    "import csv\n",
    "filename=\"Data files/ZinkWGS_2017_SNVs.csv\" #CSV file containing only the SNVs reported by whole genome sequencing in Zink 2017\n",
    "\n",
    "with open(filename, 'r') as csvfile:\n",
    "    read_reader = csv.reader(csvfile)  #csv.reader returns a reader object which will iterate over lines in the csvfile\n",
    "    row_count=0\n",
    "    ZinkWGS_TET2_missense_nonsense={} #dictionary of TET2 missense and nonsense results\n",
    "    \n",
    "    for row in read_reader:\n",
    "        if row_count>0: #ignore the header of the CSV file\n",
    "            if row[4]=='TET2': #only look at the TET2 results\n",
    "                VAF = float(row[5])\n",
    "                ID = row[6] #participant ID\n",
    "                age = float(row[8])\n",
    "                AA = row[10] #AA change, e.g. V617F\n",
    "                mutation_type = row[9] #whether the variant is missense or nonsense or synonymous\n",
    "                if mutation_type == 'missense':\n",
    "                    ZinkWGS_TET2_missense_nonsense[row_count]=(ID, VAF, age, AA, mutation_type)\n",
    "                if mutation_type == 'nonsense':\n",
    "                    ZinkWGS_TET2_missense_nonsense[row_count]=(ID, VAF, age, AA, mutation_type)\n",
    "\n",
    "        row_count=row_count+1\n",
    "\n",
    "ZinkWGS_TET2_nonsyn = sorted(ZinkWGS_TET2_missense_nonsense.items(), key=lambda x: x[1][1], reverse=True) #sort the results by VAF\\"
   ]
  },
  {
   "cell_type": "code",
   "execution_count": 25,
   "metadata": {
    "code_folding": [
     0
    ]
   },
   "outputs": [],
   "source": [
    "# ASXL1 nonsynonymous variants - create a dictionary of all the ASXL1 missense and nonsense variants (with row_count as key)\n",
    "import csv\n",
    "filename=\"Data files/ZinkWGS_2017_SNVs.csv\" #CSV file containing only the SNVs reported by whole genome sequencing in Zink 2017\n",
    "\n",
    "with open(filename, 'r') as csvfile:\n",
    "    read_reader = csv.reader(csvfile)  #csv.reader returns a reader object which will iterate over lines in the csvfile\n",
    "    row_count=0\n",
    "    ZinkWGS_ASXL1_missense_nonsense={} #dictionary of ASXL1 missense and nonsense results\n",
    "    \n",
    "    for row in read_reader:\n",
    "        if row_count>0: #ignore the header of the CSV file\n",
    "            if row[4]=='ASXL1': #only look at the ASXL1 results\n",
    "                VAF = float(row[5])\n",
    "                ID = row[6] #participant ID\n",
    "                age = float(row[8])\n",
    "                AA = row[10] #AA change, e.g. V617F\n",
    "                mutation_type = row[9] #whether the variant is missense or nonsense or synonymous\n",
    "                if mutation_type == 'missense':\n",
    "                    ZinkWGS_ASXL1_missense_nonsense[row_count]=(ID, VAF, age, AA, mutation_type)\n",
    "                if mutation_type == 'nonsense':\n",
    "                    ZinkWGS_ASXL1_missense_nonsense[row_count]=(ID, VAF, age, AA, mutation_type)\n",
    "\n",
    "        row_count=row_count+1\n",
    "\n",
    "ZinkWGS_ASXL1_nonsyn = sorted(ZinkWGS_ASXL1_missense_nonsense.items(), key=lambda x: x[1][1], reverse=True) #sort the results by VAF"
   ]
  },
  {
   "cell_type": "code",
   "execution_count": 26,
   "metadata": {
    "code_folding": [
     0
    ]
   },
   "outputs": [],
   "source": [
    "# TP53 nonsynonymous variants - create a dictionary of all the TP53 missense and nonsense variants (with row_count as key)\n",
    "import csv\n",
    "filename=\"Data files/ZinkWGS_2017_SNVs.csv\" #CSV file containing only the SNVs reported by whole genome sequencing in Zink 2017\n",
    "\n",
    "with open(filename, 'r') as csvfile:\n",
    "    read_reader = csv.reader(csvfile)  #csv.reader returns a reader object which will iterate over lines in the csvfile\n",
    "    row_count=0\n",
    "    ZinkWGS_TP53_missense_nonsense={} #dictionary of TP53 missense and nonsense results\n",
    "    \n",
    "    for row in read_reader:\n",
    "        if row_count>0: #ignore the header of the CSV file\n",
    "            if row[4]=='TP53': #only look at the TP53 results\n",
    "                VAF = float(row[5])\n",
    "                ID = row[6] #participant ID\n",
    "                age = float(row[8])\n",
    "                AA = row[10] #AA change, e.g. V617F\n",
    "                mutation_type = row[9] #whether the variant is missense or nonsense or synonymous\n",
    "                if mutation_type == 'missense':\n",
    "                    ZinkWGS_TP53_missense_nonsense[row_count]=(ID, VAF, age, AA, mutation_type)\n",
    "                if mutation_type == 'nonsense':\n",
    "                    ZinkWGS_TP53_missense_nonsense[row_count]=(ID, VAF, age, AA, mutation_type)\n",
    "\n",
    "        row_count=row_count+1\n",
    "\n",
    "ZinkWGS_TP53_nonsyn = sorted(ZinkWGS_TP53_missense_nonsense.items(), key=lambda x: x[1][1], reverse=True) #sort the results by VAF"
   ]
  },
  {
   "cell_type": "markdown",
   "metadata": {},
   "source": [
    "### Acuna-Hidalgo 2017"
   ]
  },
  {
   "cell_type": "code",
   "execution_count": 27,
   "metadata": {
    "code_folding": [
     0
    ]
   },
   "outputs": [],
   "source": [
    "# DNMT3A nonsynonymous variants - create a dictionary of all the DNMT3A missense and nonsense variants (with row_count as key)\n",
    "filename=\"Data files/Acuna_Hidalgo_2017_SNVs.csv\" #CSV file containing only the SNVs reported in Acuna-Hidalgo 2017\n",
    "\n",
    "with open(filename, 'r') as csvfile:\n",
    "    read_reader = csv.reader(csvfile)  #csv.reader returns a reader object which will iterate over lines in the csvfile\n",
    "    row_count=0\n",
    "    Acuna_DNMT3A_missense_nonsense={} #dictionary of DNMTA missense and nonsense results\n",
    "    \n",
    "    for row in read_reader:\n",
    "        if row_count>0: #ignore the header of the CSV file\n",
    "            if row[1]=='DNMT3A': #only look at the DNMT3A results\n",
    "                VAF = row[2]\n",
    "                ID = row[7] #participant ID\n",
    "                age = float(row[0])\n",
    "                mutation_type = row[8] #whether the variant is missense or nonsense or synonymous\n",
    "                AA = row[6] #AA change, e.g. V617F\n",
    "                if mutation_type == 'missense':\n",
    "                    Acuna_DNMT3A_missense_nonsense[row_count]=(ID, VAF, age, mutation_type, AA)\n",
    "                if mutation_type == 'nonsense':\n",
    "                    Acuna_DNMT3A_missense_nonsense[row_count]=(ID, VAF, age, mutation_type, AA)\n",
    "\n",
    "        row_count=row_count+1\n",
    "\n",
    "Acuna_DNMT3A_missense_nonsense_sorted = sorted(Acuna_DNMT3A_missense_nonsense.items(), key=lambda x: x[1][1], reverse=True) #sort the results by VAF\n",
    "\n",
    "#R882 dictionaries\n",
    "Acuna_DNMT3A_R882H = {}\n",
    "\n",
    "for (k, v) in Acuna_DNMT3A_missense_nonsense.items():\n",
    "    AA = v[4]\n",
    "    if AA == \"p.Arg882His\":\n",
    "        Acuna_DNMT3A_R882H[k]=v\n",
    "        \n",
    "Acuna_DNMT3A_R882H = sorted(Acuna_DNMT3A_R882H.items(), key=lambda x: x[1][1], reverse=True)\n",
    "Acuna_DNMT3A_nonsyn_without_R882H = {k: v for k, v in Acuna_DNMT3A_missense_nonsense.items() if v[4] != \"p.Arg882His\"}"
   ]
  },
  {
   "cell_type": "code",
   "execution_count": 28,
   "metadata": {
    "code_folding": [
     0
    ]
   },
   "outputs": [],
   "source": [
    "# TET2 nonsynonymous variants - create a dictionary of all the TET2 missense and nonsense variants (with row_count as key)\n",
    "filename=\"Data files/Acuna_Hidalgo_2017_SNVs.csv\" #CSV file containing only the SNVs reported in Acuna-Hidalgo 2017\n",
    "\n",
    "with open(filename, 'r') as csvfile:\n",
    "    read_reader = csv.reader(csvfile)  #csv.reader returns a reader object which will iterate over lines in the csvfile\n",
    "    row_count=0\n",
    "    Acuna_TET2_missense_nonsense={} #dictionary of TET2 missense and nonsense results\n",
    "    \n",
    "    for row in read_reader:\n",
    "        if row_count>0: #ignore the header of the CSV file\n",
    "            if row[1]=='TET2': #only look at the TET2 results\n",
    "                VAF = row[2]\n",
    "                ID = row[7] #participant ID\n",
    "                age = float(row[0])\n",
    "                mutation_type = row[8] #whether the variant is missense or nonsense or synonymous\n",
    "                AA = row[6] #AA change, e.g. V617F\n",
    "                if mutation_type == 'missense':\n",
    "                    Acuna_TET2_missense_nonsense[row_count]=(ID, VAF, age, mutation_type, AA)\n",
    "                if mutation_type == 'nonsense':\n",
    "                    Acuna_TET2_missense_nonsense[row_count]=(ID, VAF, age, mutation_type, AA)\n",
    "\n",
    "        row_count=row_count+1\n",
    "\n",
    "Acuna_TET2_nonsyn = sorted(Acuna_TET2_missense_nonsense.items(), key=lambda x: x[1][1], reverse=True) #sort the results by VAF"
   ]
  },
  {
   "cell_type": "code",
   "execution_count": 29,
   "metadata": {
    "code_folding": [
     0
    ]
   },
   "outputs": [],
   "source": [
    "# ASXL1 nonsynonymous variants - create a dictionary of all the ASXL1 missense and nonsense variants (with row_count as key)\n",
    "filename=\"Data files/Acuna_Hidalgo_2017_SNVs.csv\" #CSV file containing only the SNVs reported in Acuna-Hidalgo 2017\n",
    "\n",
    "with open(filename, 'r') as csvfile:\n",
    "    read_reader = csv.reader(csvfile)  #csv.reader returns a reader object which will iterate over lines in the csvfile\n",
    "    row_count=0\n",
    "    Acuna_ASXL1_missense_nonsense={} #dictionary of ASXL1 missense and nonsense results\n",
    "    \n",
    "    for row in read_reader:\n",
    "        if row_count>0: #ignore the header of the CSV file\n",
    "            if row[1]=='ASXL1': #only look at the ASXL1 results\n",
    "                VAF = row[2]\n",
    "                ID = row[7] #participant ID\n",
    "                age = float(row[0])\n",
    "                mutation_type = row[8] #whether the variant is missense or nonsense or synonymous\n",
    "                AA = row[6] #AA change, e.g. V617F\n",
    "                if mutation_type == 'missense':\n",
    "                    Acuna_ASXL1_missense_nonsense[row_count]=(ID, VAF, age, mutation_type, AA)\n",
    "                if mutation_type == 'nonsense':\n",
    "                    Acuna_ASXL1_missense_nonsense[row_count]=(ID, VAF, age, mutation_type, AA)\n",
    "\n",
    "        row_count=row_count+1\n",
    "\n",
    "Acuna_ASXL1_nonsyn = sorted(Acuna_ASXL1_missense_nonsense.items(), key=lambda x: x[1][1], reverse=True) #sort the results by VAF"
   ]
  },
  {
   "cell_type": "code",
   "execution_count": 30,
   "metadata": {
    "code_folding": [
     0
    ]
   },
   "outputs": [],
   "source": [
    "# TP53 nonsynonymous variants - create a dictionary of all the TP53 missense and nonsense variants (with row_count as key)\n",
    "filename=\"Data files/Acuna_Hidalgo_2017_SNVs.csv\" #CSV file containing only the SNVs reported in Acuna-Hidalgo 2017\n",
    "\n",
    "with open(filename, 'r') as csvfile:\n",
    "    read_reader = csv.reader(csvfile)  #csv.reader returns a reader object which will iterate over lines in the csvfile\n",
    "    row_count=0\n",
    "    Acuna_TP53_missense_nonsense={} #dictionary of TP53 missense and nonsense results\n",
    "    \n",
    "    for row in read_reader:\n",
    "        if row_count>0: #ignore the header of the CSV file\n",
    "            if row[1]=='TP53': #only look at the TP53 results\n",
    "                VAF = row[2]\n",
    "                ID = row[7] #participant ID\n",
    "                age = float(row[0])\n",
    "                mutation_type = row[8] #whether the variant is missense or nonsense or synonymous\n",
    "                AA = row[6] #AA change, e.g. V617F\n",
    "                if mutation_type == 'missense':\n",
    "                    Acuna_TP53_missense_nonsense[row_count]=(ID, VAF, age, mutation_type, AA)\n",
    "                if mutation_type == 'nonsense':\n",
    "                    Acuna_TP53_missense_nonsense[row_count]=(ID, VAF, age, mutation_type, AA)\n",
    "\n",
    "        row_count=row_count+1\n",
    "\n",
    "Acuna_TP53_nonsyn = sorted(Acuna_TP53_missense_nonsense.items(), key=lambda x: x[1][1], reverse=True) #sort the results by VAF"
   ]
  },
  {
   "cell_type": "markdown",
   "metadata": {},
   "source": [
    "### Coombs 2017"
   ]
  },
  {
   "cell_type": "code",
   "execution_count": 31,
   "metadata": {
    "code_folding": [
     0
    ]
   },
   "outputs": [],
   "source": [
    "# DNMT3A - create a dictionary of all the DNMT3A missense and nonsense variants (with row_count as key)\n",
    "import csv\n",
    "filename=\"Data files/Coombs_2017_no_treatment_SNVs.csv\" #CSV file containing only DNMT3A SNVs reported in the chemotherapy and radiotherapy naive individuals in Coombs 2017\n",
    "\n",
    "with open(filename, 'r') as csvfile:\n",
    "    read_reader = csv.reader(csvfile)  #csv.reader returns a reader object which will iterate over lines in the csvfile\n",
    "    row_count=0\n",
    "    Coombs_DNMT3A_missense_nonsense={} #dictionary of DNMTA missense and nonsense results\n",
    "\n",
    "    for row in read_reader:\n",
    "        if row_count>0: #ignore the header of the CSV file\n",
    "            if row[7]=='DNMT3A': #only look at the DNMT3A results\n",
    "                VAF = row[10]\n",
    "                ID = row[0] #participant ID\n",
    "                age = row[3]\n",
    "                AA = row[9] #AA change, e.g. V617F\n",
    "                mutation_type = row[12] #whether the variant is missense or nonsense or synonymous\n",
    "                if mutation_type == 'missense':\n",
    "                    Coombs_DNMT3A_missense_nonsense[row_count]=(ID, VAF, AA, age, mutation_type)\n",
    "                if mutation_type == 'nonsense':\n",
    "                    Coombs_DNMT3A_missense_nonsense[row_count]=(ID, VAF, AA, age, mutation_type)\n",
    "\n",
    "        row_count=row_count+1\n",
    "\n",
    "Coombs_DNMT3A_missense_nonsense_sorted = sorted(Coombs_DNMT3A_missense_nonsense.items(), key=lambda x: x[1][1], reverse=True) #sort the results by VAF\n",
    "\n",
    "#R882 dictionaries\n",
    "Coombs_DNMT3A_R882H = {}\n",
    "\n",
    "for (k, v) in Coombs_DNMT3A_missense_nonsense.items():\n",
    "    AA = v[2]\n",
    "    if AA == \"p.R882H\":\n",
    "        Coombs_DNMT3A_R882H[k]=v\n",
    "        \n",
    "Coombs_DNMT3A_R882H = sorted(Coombs_DNMT3A_R882H.items(), key=lambda x: x[1][1], reverse=True)\n",
    "Coombs_DNMT3A_nonsyn_without_R882H = {k: v for k, v in Coombs_DNMT3A_missense_nonsense.items() if v[2] != \"p.R882H\"}"
   ]
  },
  {
   "cell_type": "code",
   "execution_count": 32,
   "metadata": {
    "code_folding": [
     0
    ]
   },
   "outputs": [],
   "source": [
    "# TET2 - create a dictionary of all the TET2 missense and nonsense variants (with row_count as key)\n",
    "import csv\n",
    "filename=\"Data files/Coombs_2017_no_treatment_SNVs.csv\" #CSV file containing only TET2 SNVs reported in the chemotherapy and radiotherapy naive individuals in Coombs 2017\n",
    "\n",
    "with open(filename, 'r') as csvfile:\n",
    "    read_reader = csv.reader(csvfile)  #csv.reader returns a reader object which will iterate over lines in the csvfile\n",
    "    row_count=0\n",
    "    Coombs_TET2_missense_nonsense={} #dictionary of TET2 missense and nonsense results\n",
    "\n",
    "    for row in read_reader:\n",
    "        if row_count>0: #ignore the header of the CSV file\n",
    "            if row[7]=='TET2': #only look at the TET2 results\n",
    "                VAF = row[10]\n",
    "                ID = row[0] #participant ID\n",
    "                age = row[3]\n",
    "                AA = row[9] #AA change, e.g. V617F\n",
    "                mutation_type = row[12] #whether the variant is missense or nonsense or synonymous\n",
    "                if mutation_type == 'missense':\n",
    "                    Coombs_TET2_missense_nonsense[row_count]=(ID, VAF, AA, age, mutation_type)\n",
    "                if mutation_type == 'nonsense':\n",
    "                    Coombs_TET2_missense_nonsense[row_count]=(ID, VAF, AA, age, mutation_type)\n",
    "\n",
    "        row_count=row_count+1\n",
    "\n",
    "Coombs_TET2_nonsyn = sorted(Coombs_TET2_missense_nonsense.items(), key=lambda x: x[1][1], reverse=True) #sort the results by VAF"
   ]
  },
  {
   "cell_type": "code",
   "execution_count": 33,
   "metadata": {
    "code_folding": [
     0
    ]
   },
   "outputs": [],
   "source": [
    "# ASXL1 - create a dictionary of all the ASXL1 missense and nonsense variants (with row_count as key)\n",
    "import csv\n",
    "filename=\"Data files/Coombs_2017_no_treatment_SNVs.csv\" #CSV file containing only ASXL1 SNVs reported in the chemotherapy and radiotherapy naive individuals in Coombs 2017\n",
    "\n",
    "with open(filename, 'r') as csvfile:\n",
    "    read_reader = csv.reader(csvfile)  #csv.reader returns a reader object which will iterate over lines in the csvfile\n",
    "    row_count=0\n",
    "    Coombs_ASXL1_missense_nonsense={} #dictionary of ASXL1 missense and nonsense results\n",
    "\n",
    "    for row in read_reader:\n",
    "        if row_count>0: #ignore the header of the CSV file\n",
    "            if row[7]=='ASXL1': #only look at the ASXL1 results\n",
    "                VAF = row[10]\n",
    "                ID = row[0] #participant ID\n",
    "                age = row[3]\n",
    "                AA = row[9] #AA change, e.g. V617F\n",
    "                mutation_type = row[12] #whether the variant is missense or nonsense or synonymous\n",
    "                if mutation_type == 'missense':\n",
    "                    Coombs_ASXL1_missense_nonsense[row_count]=(ID, VAF, AA, age, mutation_type)\n",
    "                if mutation_type == 'nonsense':\n",
    "                    Coombs_ASXL1_missense_nonsense[row_count]=(ID, VAF, AA, age, mutation_type)\n",
    "\n",
    "        row_count=row_count+1\n",
    "\n",
    "Coombs_ASXL1_nonsyn = sorted(Coombs_ASXL1_missense_nonsense.items(), key=lambda x: x[1][1], reverse=True) #sort the results by VAF"
   ]
  },
  {
   "cell_type": "code",
   "execution_count": 34,
   "metadata": {
    "code_folding": [
     0
    ]
   },
   "outputs": [],
   "source": [
    "# TP53 - create a dictionary of all the TP53 missense and nonsense variants (with row_count as key)\n",
    "import csv\n",
    "filename=\"Data files/Coombs_2017_no_treatment_SNVs.csv\" #CSV file containing only TP53 SNVs reported in the chemotherapy and radiotherapy naive individuals in Coombs 2017\n",
    "\n",
    "with open(filename, 'r') as csvfile:\n",
    "    read_reader = csv.reader(csvfile)  #csv.reader returns a reader object which will iterate over lines in the csvfile\n",
    "    row_count=0\n",
    "    Coombs_TP53_missense_nonsense={} #dictionary of TP53 missense and nonsense results\n",
    "\n",
    "    for row in read_reader:\n",
    "        if row_count>0: #ignore the header of the CSV file\n",
    "            if row[7]=='TP53': #only look at the TP53 results\n",
    "                VAF = row[10]\n",
    "                ID = row[0] #participant ID\n",
    "                age = row[3]\n",
    "                AA = row[9] #AA change, e.g. V617F\n",
    "                mutation_type = row[12] #whether the variant is missense or nonsense or synonymous\n",
    "                if mutation_type == 'missense':\n",
    "                    Coombs_TP53_missense_nonsense[row_count]=(ID, VAF, AA, age, mutation_type)\n",
    "                if mutation_type == 'nonsense':\n",
    "                    Coombs_TP53_missense_nonsense[row_count]=(ID, VAF, AA, age, mutation_type)\n",
    "\n",
    "        row_count=row_count+1\n",
    "\n",
    "Coombs_TP53_nonsyn = sorted(Coombs_TP53_missense_nonsense.items(), key=lambda x: x[1][1], reverse=True) #sort the results by VAF"
   ]
  },
  {
   "cell_type": "markdown",
   "metadata": {},
   "source": [
    "### McKerrel 2015"
   ]
  },
  {
   "cell_type": "code",
   "execution_count": 35,
   "metadata": {
    "code_folding": [
     0
    ]
   },
   "outputs": [],
   "source": [
    "# DNMT3A - create a dictionary of all the DNMT3A missense and nonsense variants (with row_count as key)\n",
    "import csv\n",
    "filename=\"Data files/McKerrel_2015_SNVs.csv\" #CSV file containing SNVs reported in McKerrel 2015\n",
    "with open(filename, 'r') as csvfile:\n",
    "    read_reader = csv.reader(csvfile)  #csv.reader returns a reader object which will iterate over lines in the csvfile\n",
    "    row_count=0\n",
    "    McKerrel_DNMT3A_results={} #dictionary of DNMTA missense and nonsense results\n",
    "    \n",
    "    for row in read_reader:\n",
    "        if row_count>0:\n",
    "            if row[0]=='DNMT3A R882': #the only DNMT3A variants they looked for were at DNMT3A R882\n",
    "                VAF = (float(row[2])/100) #VAF is reported in % (unlike the other studies), so divide by 100\n",
    "                AA = row[1] #AA change, e.g. R882H\n",
    "                ID = row[4] #participant ID\n",
    "                age = float(row[3])\n",
    "                McKerrel_DNMT3A_results[row_count]=(ID, VAF, age, AA)\n",
    "\n",
    "        row_count=row_count+1\n",
    "    \n",
    "McKerrel_DNMT3A_sorted = sorted(McKerrel_DNMT3A_results.items(), key=lambda x: x[1][1], reverse=True) #sort the results by VAF\n",
    "\n",
    "#R882 dictionaries\n",
    "McKerrel_DNMT3A_R882H = {}\n",
    "\n",
    "for (k, v) in McKerrel_DNMT3A_results.items():\n",
    "#     print(v)\n",
    "    AA = v[3]\n",
    "    if AA == \"p.R882H\":\n",
    "        McKerrel_DNMT3A_R882H[k]=v\n",
    "        \n",
    "McKerrel_DNMT3A_R882H = sorted(McKerrel_DNMT3A_R882H.items(), key=lambda x: x[1][1], reverse=True)\n",
    "McKerrel_DNMT3A_nonsyn_without_R882H = {k: v for k, v in McKerrel_DNMT3A_results.items() if v[3] != \"p.R882H\"}"
   ]
  },
  {
   "cell_type": "markdown",
   "metadata": {},
   "source": [
    "### Young 2016"
   ]
  },
  {
   "cell_type": "code",
   "execution_count": 36,
   "metadata": {
    "code_folding": [
     0
    ]
   },
   "outputs": [],
   "source": [
    "# DNMT3A - create a dictionary of all the DNMT3A missense and nonsense variants (with row_count as key)\n",
    "import csv\n",
    "filename=\"Data files/Young_2016_SNVs.csv\" #CSV file containing SNVs reported in Young 2016 and Young 2019 (only controls), but only includes 1 time-point (the earliest time-point at which a variant was detected in that individual)\n",
    "with open(filename, 'r') as csvfile:\n",
    "    read_reader = csv.reader(csvfile)  #csv.reader returns a reader object which will iterate over lines in the csvfile\n",
    "    row_count=0\n",
    "    Young2016_DNMT3A_missense_nonsense={}\n",
    "    \n",
    "    for row in read_reader:\n",
    "        if row[15]!='-': #only look at variants that were present in the individual's baseline samples\n",
    "            if row[6]=='DNMT3A': #only look at the DNMT3A results\n",
    "                VAF = row[15] #In the csv file this is the average of the replicates at that time-point (VAFs that were '-' in original file were ignored)\n",
    "                ID = row[0] #participant ID\n",
    "                mutation_type = row[17] #whether the variant is missense or nonsense or synonymous\n",
    "                age = row[13]\n",
    "                AA = row[7] #AA change, e.g. R882H\n",
    "                if mutation_type == 'missense':\n",
    "                    Young2016_DNMT3A_missense_nonsense[row_count]=(ID, VAF, mutation_type, AA, age)\n",
    "                if mutation_type == 'nonsense':\n",
    "                    Young2016_DNMT3A_missense_nonsense[row_count]=(ID, VAF, mutation_type, AA, age)\n",
    "                        \n",
    "        row_count=row_count+1\n",
    "        \n",
    "Young2016_DNMT3A_missense_nonsense_sorted = sorted(Young2016_DNMT3A_missense_nonsense.items(), key=lambda x: x[1][1], reverse=True) #sort the results by VAF\n",
    "\n",
    "#R882 dictionaries\n",
    "Young2016_DNMT3A_R882H = {}\n",
    "\n",
    "for (k, v) in Young2016_DNMT3A_missense_nonsense.items():\n",
    "    AA = v[3]\n",
    "    if AA == 'p.R882H':\n",
    "        Young2016_DNMT3A_R882H[k]=v\n",
    "        \n",
    "Young2016_DNMT3A_R882 = sorted(Young2016_DNMT3A_R882H.items(), key=lambda x: x[1][0], reverse=True)\n",
    "Young2016_DNMT3A_nonsyn_without_R882H = {k: v for k, v in Young2016_DNMT3A_missense_nonsense.items() if v[3] != \"p.R882H\"}"
   ]
  },
  {
   "cell_type": "code",
   "execution_count": 37,
   "metadata": {
    "code_folding": [
     0
    ]
   },
   "outputs": [],
   "source": [
    "# TET2 - create a dictionary of all the TET2 missense and nonsense variants (with row_count as key)\n",
    "import csv\n",
    "filename=\"Data files/Young_2016_SNVs.csv\" #CSV file containing SNVs reported in Young 2016 and Young 2019 (only controls), but only includes 1 time-point (the earliest time-point at which a variant was detected in that individual)\n",
    "with open(filename, 'r') as csvfile:\n",
    "    read_reader = csv.reader(csvfile)  #csv.reader returns a reader object which will iterate over lines in the csvfile\n",
    "    row_count=0\n",
    "    Young2016_TET2_missense_nonsense={}\n",
    "    \n",
    "    for row in read_reader:\n",
    "        if row[15]!='-': #only look at variants that were present in the individual's baseline samples\n",
    "            if row[6]=='TET2': #only look at the TET2 results\n",
    "                VAF = row[15] #In the csv file this is the average of the replicates at that time-point (VAFs that were '-' in original file were ignored)\n",
    "                ID = row[0] #participant ID\n",
    "                mutation_type = row[17] #whether the variant is missense or nonsense or synonymous\n",
    "                age = row[15]\n",
    "                AA = row[7] #AA change, e.g. R882H\n",
    "                if mutation_type == 'missense':\n",
    "                    Young2016_TET2_missense_nonsense[row_count]=(ID, VAF, mutation_type, AA, age)\n",
    "                if mutation_type == 'nonsense':\n",
    "                    Young2016_TET2_missense_nonsense[row_count]=(ID, VAF, mutation_type, AA, age)\n",
    "                        \n",
    "        row_count=row_count+1\n",
    "        \n",
    "Young2016_TET2_nonsyn = sorted(Young2016_TET2_missense_nonsense.items(), key=lambda x: x[1][1], reverse=True) #sort the results by VAF"
   ]
  },
  {
   "cell_type": "code",
   "execution_count": 38,
   "metadata": {
    "code_folding": [
     0
    ]
   },
   "outputs": [],
   "source": [
    "# ASXL1 - create a dictionary of all the ASXL1 missense and nonsense variants (with row_count as key)\n",
    "import csv\n",
    "filename=\"Data files/Young_2016_SNVs.csv\" #CSV file containing SNVs reported in Young 2016 and Young 2019 (only controls), but only includes 1 time-point (the earliest time-point at which a variant was detected in that individual)\n",
    "with open(filename, 'r') as csvfile:\n",
    "    read_reader = csv.reader(csvfile)  #csv.reader returns a reader object which will iterate over lines in the csvfile\n",
    "    row_count=0\n",
    "    Young2016_ASXL1_missense_nonsense={}\n",
    "    \n",
    "    for row in read_reader:\n",
    "        if row[15]!='-': #only look at variants that were present in the individual's baseline samples\n",
    "            if row[6]=='ASXL1': #only look at the ASXL1 results\n",
    "                VAF = row[15] #In the csv file this is the average of the replicates at that time-point (VAFs that were '-' in original file were ignored)\n",
    "                ID = row[0] #participant ID\n",
    "                mutation_type = row[17] #whether the variant is missense or nonsense or synonymous\n",
    "                age = row[13]\n",
    "                AA = row[7] #AA change, e.g. R882H\n",
    "                if mutation_type == 'missense':\n",
    "                    Young2016_ASXL1_missense_nonsense[row_count]=(ID, VAF, mutation_type, AA, age)\n",
    "                if mutation_type == 'nonsense':\n",
    "                    Young2016_ASXL1_missense_nonsense[row_count]=(ID, VAF, mutation_type, AA, age)\n",
    "                        \n",
    "        row_count=row_count+1\n",
    "        \n",
    "Young2016_ASXL1_nonsyn = sorted(Young2016_ASXL1_missense_nonsense.items(), key=lambda x: x[1][1], reverse=True) #sort the results by VAF"
   ]
  },
  {
   "cell_type": "code",
   "execution_count": 39,
   "metadata": {
    "code_folding": [
     0
    ]
   },
   "outputs": [],
   "source": [
    "# TP53 - create a dictionary of all the TP53 missense and nonsense variants (with row_count as key)\n",
    "import csv\n",
    "filename=\"Data files/Young_2016_SNVs.csv\" #CSV file containing SNVs reported in Young 2016 and Young 2019 (only controls), but only includes 1 time-point (the earliest time-point at which a variant was detected in that individual)\n",
    "with open(filename, 'r') as csvfile:\n",
    "    read_reader = csv.reader(csvfile)  #csv.reader returns a reader object which will iterate over lines in the csvfile\n",
    "    row_count=0\n",
    "    Young2016_TP53_missense_nonsense={}\n",
    "    \n",
    "    for row in read_reader:\n",
    "        if row[15]!='-': #only look at variants that were present in the individual's baseline samples\n",
    "            if row[6]=='TP53': #only look at the TP53 results\n",
    "                VAF = row[15] #In the csv file this is the average of the replicates at that time-point (VAFs that were '-' in original file were ignored)\n",
    "                ID = row[0] #participant ID\n",
    "                mutation_type = row[17] #whether the variant is missense or nonsense or synonymous\n",
    "                age = row[13]\n",
    "                AA = row[7] #AA change, e.g. R882H\n",
    "                if mutation_type == 'missense':\n",
    "                    Young2016_TP53_missense_nonsense[row_count]=(ID, VAF, mutation_type, AA, age)\n",
    "                if mutation_type == 'nonsense':\n",
    "                    Young2016_TP53_missense_nonsense[row_count]=(ID, VAF, mutation_type, AA, age)\n",
    "                        \n",
    "        row_count=row_count+1\n",
    "        \n",
    "Young2016_TP53_nonsyn = sorted(Young2016_TP53_missense_nonsense.items(), key=lambda x: x[1][1], reverse=True) #sort the results by VAF"
   ]
  },
  {
   "cell_type": "markdown",
   "metadata": {},
   "source": [
    "### Young 2019"
   ]
  },
  {
   "cell_type": "code",
   "execution_count": 40,
   "metadata": {
    "code_folding": [
     0
    ]
   },
   "outputs": [],
   "source": [
    "# DNMT3A - create a dictionary of all the DNMT3A missense and nonsense variants (with row_count as key)\n",
    "import csv\n",
    "filename=\"Data files/Young_2019_SNVs.csv\" #CSV file containing SNVs reported in Young 2016 and Young 2019 (only controls), but only includes 1 time-point (the earliest time-point at which a variant was detected in that individual)\n",
    "with open(filename, 'r') as csvfile:\n",
    "    read_reader = csv.reader(csvfile)  #csv.reader returns a reader object which will iterate over lines in the csvfile\n",
    "    row_count=0\n",
    "    Young2019_DNMT3A_missense_nonsense={}\n",
    "    \n",
    "    for row in read_reader:\n",
    "        if row[2]!='case': #only look at the controls\n",
    "            if row[7]!='-': #only look at variants that were present in the individual's baseline samples\n",
    "                if row[3]=='DNMT3A': #only look at the DNMT3A results\n",
    "                    VAF = row[7] #In the csv file this is the average of the replicates at that time-point (VAFs that were '-' in original file were ignored)\n",
    "                    ID = row[0] #participant ID\n",
    "                    mutation_type = row[4] #whether the variant is missense or nonsense or synonymous\n",
    "                    age = row[9]\n",
    "                    AA = row[5] #AA change, e.g. R882H\n",
    "                    if mutation_type == 'missense':\n",
    "                        Young2019_DNMT3A_missense_nonsense[row_count]=(ID, VAF, mutation_type, AA, age)\n",
    "                    if mutation_type == 'nonsense':\n",
    "                        Young2019_DNMT3A_missense_nonsense[row_count]=(ID, VAF, mutation_type, AA, age)\n",
    "                \n",
    "        row_count=row_count+1\n",
    "\n",
    "Young2019_DNMT3A_missense_nonsense_sorted = sorted(Young2019_DNMT3A_missense_nonsense.items(), key=lambda x: x[1][1], reverse=True) #sort the results by VAF\n",
    "\n",
    "#R882 dictionaries\n",
    "Young2019_DNMT3A_R882H = {}\n",
    "\n",
    "for (k, v) in Young2019_DNMT3A_missense_nonsense.items():\n",
    "    AA = v[3]\n",
    "    if AA == 'p.R882H':\n",
    "        Young2019_DNMT3A_R882H[k]=v\n",
    "        \n",
    "Young2019_DNMT3A_R882H = sorted(Young2019_DNMT3A_R882H.items(), key=lambda x: x[1][0], reverse=True)\n",
    "Young2019_DNMT3A_nonsyn_without_R882H = {k: v for k, v in Young2019_DNMT3A_missense_nonsense.items() if v[3] != \"p.R882H\"}"
   ]
  },
  {
   "cell_type": "code",
   "execution_count": 41,
   "metadata": {
    "code_folding": [
     0
    ]
   },
   "outputs": [],
   "source": [
    "# TET2 - create a dictionary of all the TET2 missense and nonsense variants (with row_count as key)\n",
    "import csv\n",
    "filename=\"Data files/Young_2019_SNVs.csv\" #CSV file containing SNVs reported in Young 2016 and Young 2019 (only controls), but only includes 1 time-point (the earliest time-point at which a variant was detected in that individual)\n",
    "with open(filename, 'r') as csvfile:\n",
    "    read_reader = csv.reader(csvfile)  #csv.reader returns a reader object which will iterate over lines in the csvfile\n",
    "    row_count=0\n",
    "    Young2019_TET2_missense_nonsense={}\n",
    "    \n",
    "    for row in read_reader:\n",
    "        if row[2]!='case': #only look at the controls\n",
    "            if row[7]!='-': #only look at variants that were present in the individual's baseline samples\n",
    "                if row[3]=='TET2': #only look at the TET2 results\n",
    "                    VAF = row[7] #In the csv file this is the average of the replicates at that time-point (VAFs that were '-' in original file were ignored)\n",
    "                    ID = row[0] #participant ID\n",
    "                    mutation_type = row[4] #whether the variant is missense or nonsense or synonymous\n",
    "                    age = row[9]\n",
    "                    AA = row[5] #AA change, e.g. R882H\n",
    "                    if mutation_type == 'missense':\n",
    "                        Young2019_TET2_missense_nonsense[row_count]=(ID, VAF, mutation_type, AA, age)\n",
    "                    if mutation_type == 'nonsense':\n",
    "                        Young2019_TET2_missense_nonsense[row_count]=(ID, VAF, mutation_type, AA, age)\n",
    "                \n",
    "        row_count=row_count+1\n",
    "\n",
    "Young2019_TET2_nonsyn = sorted(Young2019_TET2_missense_nonsense.items(), key=lambda x: x[1][1], reverse=True) #sort the results by VAF"
   ]
  },
  {
   "cell_type": "code",
   "execution_count": 42,
   "metadata": {
    "code_folding": [
     0
    ]
   },
   "outputs": [],
   "source": [
    "# ASXL1 - create a dictionary of all the ASXL1 missense and nonsense variants (with row_count as key)\n",
    "import csv\n",
    "filename=\"Data files/Young_2019_SNVs.csv\" #CSV file containing SNVs reported in Young 2016 and Young 2019 (only controls), but only includes 1 time-point (the earliest time-point at which a variant was detected in that individual)\n",
    "with open(filename, 'r') as csvfile:\n",
    "    read_reader = csv.reader(csvfile)  #csv.reader returns a reader object which will iterate over lines in the csvfile\n",
    "    row_count=0\n",
    "    Young2019_ASXL1_missense_nonsense={}\n",
    "    \n",
    "    for row in read_reader:\n",
    "        if row[2]!='case': #only look at the controls\n",
    "            if row[7]!='-': #only look at variants that were present in the individual's baseline samples\n",
    "                if row[3]=='ASXL1': #only look at the ASXL1 results\n",
    "                    VAF = row[7] #In the csv file this is the average of the replicates at that time-point (VAFs that were '-' in original file were ignored)\n",
    "                    ID = row[0] #participant ID\n",
    "                    mutation_type = row[4] #whether the variant is missense or nonsense or synonymous\n",
    "                    age = row[9]\n",
    "                    AA = row[5] #AA change, e.g. R882H\n",
    "                    if mutation_type == 'missense':\n",
    "                        Young2019_ASXL1_missense_nonsense[row_count]=(ID, VAF, mutation_type, AA, age)\n",
    "                    if mutation_type == 'nonsense':\n",
    "                        Young2019_ASXL1_missense_nonsense[row_count]=(ID, VAF, mutation_type, AA, age)\n",
    "                \n",
    "        row_count=row_count+1\n",
    "\n",
    "Young2019_ASXL1_nonsyn = sorted(Young2019_ASXL1_missense_nonsense.items(), key=lambda x: x[1][1], reverse=True) #sort the results by VAF"
   ]
  },
  {
   "cell_type": "code",
   "execution_count": 43,
   "metadata": {
    "code_folding": [
     0
    ]
   },
   "outputs": [],
   "source": [
    "# TP53 - create a dictionary of all the TP53 missense and nonsense variants (with row_count as key)\n",
    "import csv\n",
    "filename=\"Data files/Young_2019_SNVs.csv\" #CSV file containing SNVs reported in Young 2016 and Young 2019 (only controls), but only includes 1 time-point (the earliest time-point at which a variant was detected in that individual)\n",
    "with open(filename, 'r') as csvfile:\n",
    "    read_reader = csv.reader(csvfile)  #csv.reader returns a reader object which will iterate over lines in the csvfile\n",
    "    row_count=0\n",
    "    Young2019_TP53_missense_nonsense={}\n",
    "    \n",
    "    for row in read_reader:\n",
    "        if row[2]!='case': #only look at the controls\n",
    "            if row[7]!='-': #only look at variants that were present in the individual's baseline samples\n",
    "                if row[3]=='TP53': #only look at the TP53 results\n",
    "                    VAF = row[7] #In the csv file this is the average of the replicates at that time-point (VAFs that were '-' in original file were ignored)\n",
    "                    ID = row[0] #participant ID\n",
    "                    mutation_type = row[4] #whether the variant is missense or nonsense or synonymous\n",
    "                    age = row[9]\n",
    "                    AA = row[5] #AA change, e.g. R882H\n",
    "                    if mutation_type == 'missense':\n",
    "                        Young2019_TP53_missense_nonsense[row_count]=(ID, VAF, mutation_type, AA, age)\n",
    "                    if mutation_type == 'nonsense':\n",
    "                        Young2019_TP53_missense_nonsense[row_count]=(ID, VAF, mutation_type, AA, age)\n",
    "                \n",
    "        row_count=row_count+1\n",
    "\n",
    "Young2019_TP53_nonsyn = sorted(Young2019_TP53_missense_nonsense.items(), key=lambda x: x[1][1], reverse=True) #sort the results by VAF"
   ]
  },
  {
   "cell_type": "markdown",
   "metadata": {},
   "source": [
    "### Desai 2018"
   ]
  },
  {
   "cell_type": "code",
   "execution_count": 44,
   "metadata": {
    "code_folding": [
     0
    ]
   },
   "outputs": [],
   "source": [
    "# DNMT3A data - create a dictionary of all the DNMT3A missense and nonsense variants (with row_count as key)\n",
    "import csv\n",
    "filename=\"Data files/Desai_2018_SNVs.csv\"\n",
    "\n",
    "with open(filename, 'r') as csvfile:\n",
    "    read_reader = csv.reader(csvfile)  #csv.reader returns a reader object which will iterate over lines in the csvfile\n",
    "    row_count=0\n",
    "    Desai_DNMT3A_missense_nonsense={} \n",
    "    \n",
    "    for row in read_reader:\n",
    "        if row_count>0:\n",
    "            if row[15] =='Control':\n",
    "                if row[1]=='DNMT3A':\n",
    "                    if row[17]=='0': #just look at the baseline results\n",
    "                        VAF = row[23] #In the csv file this is the average of the replicates at that time-point (VAFs that were '-' in original file were ignored)\n",
    "                        ID = row[0] #participant ID\n",
    "                        age = row[19]\n",
    "                        AA = row[13] #AA change, e.g. R882H\n",
    "                        mutation_type = row[5] #whether the variant is missense or nonsense or synonymous\n",
    "                        if mutation_type == 'missense':\n",
    "                            Desai_DNMT3A_missense_nonsense[row_count]=(ID, VAF, AA, age, mutation_type)\n",
    "                        if mutation_type == 'nonsense':\n",
    "                            Desai_DNMT3A_missense_nonsense[row_count]=(ID, VAF, AA, age, mutation_type)\n",
    "\n",
    "        row_count=row_count+1\n",
    "\n",
    "Desai_DNMT3A_missense_nonsense_sorted = sorted(Desai_DNMT3A_missense_nonsense.items(), key=lambda x: x[1][1], reverse=True) #sort the results by VAF\n",
    "\n",
    "#R882 dictionaries\n",
    "Desai_DNMT3A_R882H = {}\n",
    "\n",
    "for (k, v) in Desai_DNMT3A_missense_nonsense.items():\n",
    "    AA = v[2]\n",
    "    if AA == \"p.R882H\":\n",
    "        Desai_DNMT3A_R882H[k]=v\n",
    "        \n",
    "Desai_DNMT3A_R882H = sorted(Desai_DNMT3A_R882H.items(), key=lambda x: x[1][1], reverse=True)\n",
    "Desai_DNMT3A_nonsyn_without_R882H = {k: v for k, v in Desai_DNMT3A_missense_nonsense.items() if v[2] != \"p.Arg882His\"}"
   ]
  },
  {
   "cell_type": "code",
   "execution_count": 45,
   "metadata": {
    "code_folding": [
     0
    ]
   },
   "outputs": [],
   "source": [
    "# TET2 data - create a dictionary of all the TET2 missense and nonsense variants (with row_count as key)\n",
    "import csv\n",
    "filename=\"Data files/Desai_2018_SNVs.csv\"\n",
    "\n",
    "with open(filename, 'r') as csvfile:\n",
    "    read_reader = csv.reader(csvfile)  #csv.reader returns a reader object which will iterate over lines in the csvfile\n",
    "    row_count=0\n",
    "    Desai_TET2_missense_nonsense={} \n",
    "    \n",
    "    for row in read_reader:\n",
    "        if row_count>0:\n",
    "            if row[15] =='Control':\n",
    "                if row[1]=='TET2':\n",
    "                    if row[17]=='0': #just look at the baseline results\n",
    "                        VAF = row[23] #In the csv file this is the average of the replicates at that time-point (VAFs that were '-' in original file were ignored)\n",
    "                        ID = row[0] #participant ID\n",
    "                        age = row[19]\n",
    "                        AA = row[13] #AA change, e.g. R882H\n",
    "                        mutation_type = row[5] #whether the variant is missense or nonsense or synonymous\n",
    "                        if mutation_type == 'missense':\n",
    "                            Desai_TET2_missense_nonsense[row_count]=(ID, VAF, AA, age, mutation_type)\n",
    "                        if mutation_type == 'nonsense':\n",
    "                            Desai_TET2_missense_nonsense[row_count]=(ID, VAF, AA, age, mutation_type)\n",
    "\n",
    "        row_count=row_count+1\n",
    "\n",
    "Desai_TET2_nonsyn = sorted(Desai_TET2_missense_nonsense.items(), key=lambda x: x[1][1], reverse=True) #sort the results by VAF"
   ]
  },
  {
   "cell_type": "code",
   "execution_count": 46,
   "metadata": {
    "code_folding": [
     0
    ]
   },
   "outputs": [],
   "source": [
    "# ASXL1 data - create a dictionary of all the ASXL1 missense and nonsense variants (with row_count as key)\n",
    "import csv\n",
    "filename=\"Data files/Desai_2018_SNVs.csv\"\n",
    "\n",
    "with open(filename, 'r') as csvfile:\n",
    "    read_reader = csv.reader(csvfile)  #csv.reader returns a reader object which will iterate over lines in the csvfile\n",
    "    row_count=0\n",
    "    Desai_ASXL1_missense_nonsense={} \n",
    "    \n",
    "    for row in read_reader:\n",
    "        if row_count>0:\n",
    "            if row[15] =='Control':\n",
    "                if row[1]=='ASXL1':\n",
    "                    if row[17]=='0': #just look at the baseline results\n",
    "                        VAF = row[23] #In the csv file this is the average of the replicates at that time-point (VAFs that were '-' in original file were ignored)\n",
    "                        ID = row[0] #participant ID\n",
    "                        age = row[19]\n",
    "                        AA = row[13] #AA change, e.g. R882H\n",
    "                        mutation_type = row[5] #whether the variant is missense or nonsense or synonymous\n",
    "                        if mutation_type == 'missense':\n",
    "                            Desai_ASXL1_missense_nonsense[row_count]=(ID, VAF, AA, age, mutation_type)\n",
    "                        if mutation_type == 'nonsense':\n",
    "                            Desai_ASXL1_missense_nonsense[row_count]=(ID, VAF, AA, age, mutation_type)\n",
    "\n",
    "        row_count=row_count+1\n",
    "\n",
    "Desai_ASXL1_nonsyn = sorted(Desai_ASXL1_missense_nonsense.items(), key=lambda x: x[1][1], reverse=True) #sort the results by VAF"
   ]
  },
  {
   "cell_type": "code",
   "execution_count": 47,
   "metadata": {
    "code_folding": [
     0
    ]
   },
   "outputs": [],
   "source": [
    "# TP53 data - create a dictionary of all the TP53 missense and nonsense variants (with row_count as key)\n",
    "import csv\n",
    "filename=\"Data files/Desai_2018_SNVs.csv\"\n",
    "\n",
    "with open(filename, 'r') as csvfile:\n",
    "    read_reader = csv.reader(csvfile)  #csv.reader returns a reader object which will iterate over lines in the csvfile\n",
    "    row_count=0\n",
    "    Desai_TP53_missense_nonsense={} \n",
    "    \n",
    "    for row in read_reader:\n",
    "        if row_count>0:\n",
    "            if row[15] =='Control':\n",
    "                if row[1]=='TP53':\n",
    "                    if row[17]=='0': #just look at the baseline results\n",
    "                        VAF = row[23] #In the csv file this is the average of the replicates at that time-point (VAFs that were '-' in original file were ignored)\n",
    "                        ID = row[0] #participant ID\n",
    "                        age = row[19]\n",
    "                        AA = row[13] #AA change, e.g. R882H\n",
    "                        mutation_type = row[5] #whether the variant is missense or nonsense or synonymous\n",
    "                        if mutation_type == 'missense':\n",
    "                            Desai_TP53_missense_nonsense[row_count]=(ID, VAF, AA, age, mutation_type)\n",
    "                        if mutation_type == 'nonsense':\n",
    "                            Desai_TP53_missense_nonsense[row_count]=(ID, VAF, AA, age, mutation_type)\n",
    "\n",
    "        row_count=row_count+1\n",
    "\n",
    "Desai_TP53_nonsyn = sorted(Desai_TP53_missense_nonsense.items(), key=lambda x: x[1][1], reverse=True) #sort the results by VAF"
   ]
  },
  {
   "cell_type": "markdown",
   "metadata": {},
   "source": [
    "# Trimming the data"
   ]
  },
  {
   "cell_type": "markdown",
   "metadata": {},
   "source": [
    "- See python notebook 'Trimming the data' for histograms of where data was trimmed."
   ]
  },
  {
   "cell_type": "code",
   "execution_count": 48,
   "metadata": {},
   "outputs": [],
   "source": [
    "Jaiswal_limit_log10 = -1.25457125\n",
    "Genovese_limit_log10 = -0.9231152\n",
    "ZinkWGS_limit_log10 = -0.62646791\n",
    "Acuna_limit_log10 = -2.81029625\n",
    "Coombs_limit_log10 = -1.72142011\n",
    "Young2016_limit_log10 = -3.00065193\n",
    "Young2019_limit_log10 = -3.14773145 \n",
    "Desai_limit_log10 = -1.77252871\n",
    "McKerrel_limit_log10 = -2.08092191\n",
    "\n",
    "Jaiswal_limit = 10**(Jaiswal_limit_log10)\n",
    "Genovese_limit = 10**(Genovese_limit_log10)\n",
    "ZinkWGS_limit = 10**(ZinkWGS_limit_log10)\n",
    "Acuna_limit = 10**(Acuna_limit_log10)\n",
    "Coombs_limit = 10**(Coombs_limit_log10)\n",
    "Young2016_limit = 10**(Young2016_limit_log10) \n",
    "Young2019_limit = 10**(Young2019_limit_log10) \n",
    "Desai_limit = 10**(Desai_limit_log10)\n",
    "McKerrel_limit = 10**(McKerrel_limit_log10)"
   ]
  },
  {
   "cell_type": "markdown",
   "metadata": {},
   "source": [
    "## Trimmed data for TET2 nonsynonymous variants"
   ]
  },
  {
   "cell_type": "code",
   "execution_count": 49,
   "metadata": {
    "code_folding": []
   },
   "outputs": [],
   "source": [
    "#Creating trimmed lists\n",
    "Jaiswal_TET2_sorted_trimmed_list = []\n",
    "Genovese_TET2_sorted_trimmed_list = []\n",
    "ZinkWGS_TET2_sorted_trimmed_list = []\n",
    "Acuna_TET2_sorted_trimmed_list = []\n",
    "Coombs_TET2_sorted_trimmed_list = []\n",
    "Young2016_TET2_sorted_trimmed_list = []\n",
    "Young2019_TET2_sorted_trimmed_list = []\n",
    "Young2016_2019_TET2_sorted_trimmed_list = []\n",
    "Desai_TET2_sorted_trimmed_list = []\n",
    "\n",
    "for (row_count,  VAF) in Jaiswal_TET2_nonsyn:\n",
    "    if float(VAF[1])>Jaiswal_limit:\n",
    "        Jaiswal_TET2_sorted_trimmed_list.append(VAF[1])\n",
    "\n",
    "for (row_count, VAF) in Genovese_TET2_nonsyn:\n",
    "    if float(VAF[1])>Genovese_limit:\n",
    "        Genovese_TET2_sorted_trimmed_list.append(VAF[1])\n",
    "\n",
    "for (row_count,  VAF) in ZinkWGS_TET2_nonsyn: #WGS\n",
    "    if float(VAF[1])>ZinkWGS_limit:\n",
    "        ZinkWGS_TET2_sorted_trimmed_list.append(VAF[1])\n",
    "    \n",
    "for (row_count,  VAF) in Acuna_TET2_nonsyn:\n",
    "    if float(VAF[1])>Acuna_limit:\n",
    "        Acuna_TET2_sorted_trimmed_list.append(VAF[1])\n",
    "    \n",
    "for (ID,  VAF) in Coombs_TET2_nonsyn:\n",
    "    if float(VAF[1])>Coombs_limit:\n",
    "        Coombs_TET2_sorted_trimmed_list.append(VAF[1])\n",
    "        \n",
    "for (ID,  VAF) in Young2016_TET2_nonsyn:\n",
    "    if float(VAF[1])>Young2016_limit:\n",
    "        Young2016_TET2_sorted_trimmed_list.append(VAF[1])\n",
    "\n",
    "for (ID,  VAF) in Young2019_TET2_nonsyn:\n",
    "    if float(VAF[1])>Young2019_limit:\n",
    "        Young2019_TET2_sorted_trimmed_list.append(VAF[1])\n",
    "        \n",
    "for (ID,  VAF) in Desai_TET2_nonsyn:\n",
    "    if float(VAF[1])>Desai_limit:\n",
    "        Desai_TET2_sorted_trimmed_list.append(VAF[1])\n",
    "\n",
    "        \n",
    "#COMBINING THE YOUNGS\n",
    "for (ID,  VAF) in Young2016_TET2_nonsyn:\n",
    "    if float(VAF[1])>Young2016_limit:\n",
    "        Young2016_2019_TET2_sorted_trimmed_list.append(VAF[1])\n",
    "\n",
    "for (ID,  VAF) in Young2019_TET2_nonsyn:\n",
    "    if float(VAF[1])>Young2019_limit:\n",
    "        Young2016_2019_TET2_sorted_trimmed_list.append(VAF[1])"
   ]
  },
  {
   "cell_type": "markdown",
   "metadata": {},
   "source": [
    "## Trimmed data for ASXL1 nonsynonymous variants"
   ]
  },
  {
   "cell_type": "code",
   "execution_count": 50,
   "metadata": {
    "code_folding": []
   },
   "outputs": [],
   "source": [
    "#Creating trimmed lists\n",
    "Jaiswal_ASXL1_sorted_trimmed_list = []\n",
    "Genovese_ASXL1_sorted_trimmed_list = []\n",
    "ZinkWGS_ASXL1_sorted_trimmed_list = []\n",
    "Acuna_ASXL1_sorted_trimmed_list = []\n",
    "Coombs_ASXL1_sorted_trimmed_list = []\n",
    "Young2016_ASXL1_sorted_trimmed_list = []\n",
    "Young2019_ASXL1_sorted_trimmed_list = []\n",
    "Young2016_2019_ASXL1_sorted_trimmed_list = []\n",
    "Desai_ASXL1_sorted_trimmed_list = []\n",
    "\n",
    "for (row_count,  VAF) in Jaiswal_ASXL1_nonsyn:\n",
    "    if float(VAF[1])>Jaiswal_limit:\n",
    "        Jaiswal_ASXL1_sorted_trimmed_list.append(VAF[1])\n",
    "\n",
    "for (row_count, VAF) in Genovese_ASXL1_nonsyn:\n",
    "    if float(VAF[1])>Genovese_limit:\n",
    "        Genovese_ASXL1_sorted_trimmed_list.append(VAF[1])\n",
    "\n",
    "for (row_count,  VAF) in ZinkWGS_ASXL1_nonsyn: #WGS\n",
    "    if float(VAF[1])>ZinkWGS_limit:\n",
    "        ZinkWGS_ASXL1_sorted_trimmed_list.append(VAF[1])\n",
    "    \n",
    "for (row_count,  VAF) in Acuna_ASXL1_nonsyn:\n",
    "    if float(VAF[1])>Acuna_limit:\n",
    "        Acuna_ASXL1_sorted_trimmed_list.append(VAF[1])\n",
    "    \n",
    "for (ID,  VAF) in Coombs_ASXL1_nonsyn:\n",
    "    if float(VAF[1])>Coombs_limit:\n",
    "        Coombs_ASXL1_sorted_trimmed_list.append(VAF[1])\n",
    "        \n",
    "for (ID,  VAF) in Young2016_ASXL1_nonsyn:\n",
    "    if float(VAF[1])>Young2016_limit:\n",
    "        Young2016_ASXL1_sorted_trimmed_list.append(VAF[1])\n",
    "\n",
    "for (ID,  VAF) in Young2019_ASXL1_nonsyn:\n",
    "    if float(VAF[1])>Young2019_limit:\n",
    "        Young2019_ASXL1_sorted_trimmed_list.append(VAF[1])\n",
    "        \n",
    "for (ID,  VAF) in Desai_ASXL1_nonsyn:\n",
    "    if float(VAF[1])>Desai_limit:\n",
    "        Desai_ASXL1_sorted_trimmed_list.append(VAF[1])\n",
    "\n",
    "        \n",
    "#COMBINING THE YOUNGS\n",
    "for (ID,  VAF) in Young2016_ASXL1_nonsyn:\n",
    "    if float(VAF[1])>Young2016_limit:\n",
    "        Young2016_2019_ASXL1_sorted_trimmed_list.append(VAF[1])\n",
    "\n",
    "for (ID,  VAF) in Young2019_ASXL1_nonsyn:\n",
    "    if float(VAF[1])>Young2019_limit:\n",
    "        Young2016_2019_ASXL1_sorted_trimmed_list.append(VAF[1])"
   ]
  },
  {
   "cell_type": "markdown",
   "metadata": {},
   "source": [
    "## Trimmed data for TP53 nonsynonymous variants"
   ]
  },
  {
   "cell_type": "code",
   "execution_count": 51,
   "metadata": {
    "code_folding": []
   },
   "outputs": [],
   "source": [
    "#Creating trimmed lists\n",
    "Jaiswal_TP53_sorted_trimmed_list = []\n",
    "Genovese_TP53_sorted_trimmed_list = []\n",
    "ZinkWGS_TP53_sorted_trimmed_list = []\n",
    "Acuna_TP53_sorted_trimmed_list = []\n",
    "Coombs_TP53_sorted_trimmed_list = []\n",
    "Young2016_TP53_sorted_trimmed_list = []\n",
    "Young2019_TP53_sorted_trimmed_list = []\n",
    "Young2016_2019_TP53_sorted_trimmed_list = []\n",
    "Desai_TP53_sorted_trimmed_list = []\n",
    "\n",
    "for (row_count,  VAF) in Jaiswal_TP53_nonsyn:\n",
    "    if float(VAF[1])>Jaiswal_limit:\n",
    "        Jaiswal_TP53_sorted_trimmed_list.append(VAF[1])\n",
    "\n",
    "for (row_count, VAF) in Genovese_TP53_nonsyn:\n",
    "    if float(VAF[1])>Genovese_limit:\n",
    "        Genovese_TP53_sorted_trimmed_list.append(VAF[1])\n",
    "\n",
    "for (row_count,  VAF) in ZinkWGS_TP53_nonsyn: #WGS\n",
    "    if float(VAF[1])>ZinkWGS_limit:\n",
    "        ZinkWGS_TP53_sorted_trimmed_list.append(VAF[1])\n",
    "    \n",
    "for (row_count,  VAF) in Acuna_TP53_nonsyn:\n",
    "    if float(VAF[1])>Acuna_limit:\n",
    "        Acuna_TP53_sorted_trimmed_list.append(VAF[1])\n",
    "    \n",
    "for (ID,  VAF) in Coombs_TP53_nonsyn:\n",
    "    if float(VAF[1])>Coombs_limit:\n",
    "        Coombs_TP53_sorted_trimmed_list.append(VAF[1])\n",
    "        \n",
    "for (ID,  VAF) in Young2016_TP53_nonsyn:\n",
    "    if float(VAF[1])>Young2016_limit:\n",
    "        Young2016_TP53_sorted_trimmed_list.append(VAF[1])\n",
    "\n",
    "for (ID,  VAF) in Young2019_TP53_nonsyn:\n",
    "    if float(VAF[1])>Young2019_limit:\n",
    "        Young2019_TP53_sorted_trimmed_list.append(VAF[1])\n",
    "        \n",
    "for (ID,  VAF) in Desai_TP53_nonsyn:\n",
    "    if float(VAF[1])>Desai_limit:\n",
    "        Desai_TP53_sorted_trimmed_list.append(VAF[1])\n",
    "\n",
    "        \n",
    "#COMBINING THE YOUNGS\n",
    "for (ID,  VAF) in Young2016_TP53_nonsyn:\n",
    "    if float(VAF[1])>Young2016_limit:\n",
    "        Young2016_2019_TP53_sorted_trimmed_list.append(VAF[1])\n",
    "\n",
    "for (ID,  VAF) in Young2019_TP53_nonsyn:\n",
    "    if float(VAF[1])>Young2019_limit:\n",
    "        Young2016_2019_TP53_sorted_trimmed_list.append(VAF[1])"
   ]
  },
  {
   "cell_type": "markdown",
   "metadata": {},
   "source": [
    "# Maximum Likelihood Estimations and Plotting the histograms"
   ]
  },
  {
   "cell_type": "markdown",
   "metadata": {},
   "source": [
    "## Functions for plotting histograms"
   ]
  },
  {
   "cell_type": "code",
   "execution_count": 52,
   "metadata": {
    "code_folding": []
   },
   "outputs": [],
   "source": [
    "binmethod = 'doane' #An improved version of Sturges’ estimator that works better with non-normal datasets."
   ]
  },
  {
   "cell_type": "code",
   "execution_count": 53,
   "metadata": {
    "code_folding": [
     0
    ]
   },
   "outputs": [],
   "source": [
    "def plot_log_hist_data_for_plot_solid_smaller(study_VAFs, study_total, study_mu, bin_size, study_name, marker_name, marker_size, color):\n",
    "    log_VAFs = []\n",
    "    for i in study_VAFs:\n",
    "        log_VAFs.append(np.log(float(i)))\n",
    "    normed_value = study_total*2*study_mu\n",
    "    hist, bins = np.histogram(log_VAFs, bins=bin_size, range=(min(log_VAFs),max(log_VAFs)))\n",
    "    widths = np.diff(bins)\n",
    "    bin_centres = (bins[:-1] + bins[1:])/2\n",
    "    hist = np.array(hist, dtype=float)\n",
    "    normalised_hist = hist/(normed_value*widths)\n",
    "    log_hist_for_plot = np.log(normalised_hist)\n",
    "    \n",
    "    errors = error_bars(hist, normed_value, widths)\n",
    "    \n",
    "    axisfont=26*scale\n",
    "    axislabelfont=28*scale\n",
    "    tpfont = 14*scale\n",
    "\n",
    "    m_size = 18*scale\n",
    "    m_width = 1.5*scale\n",
    "    c_size = 3*scale\n",
    "    c_thick = 1.5*scale\n",
    "    e_width = 1.5*scale\n",
    "\n",
    "    Jaiswalmarker = 'o'\n",
    "    Zinkmarker = '^'\n",
    "    Acunamarker = 'P'\n",
    "    Coombsmarker = 'v'\n",
    "    Youngmarker = 'p'\n",
    "    Mckerrelmarker = 'D'\n",
    "    Genovesemarker = 'd'\n",
    "    Desaimarker = '*'\n",
    "    Abelsonmarker = '>'\n",
    "    Liumarker = 's'\n",
    "\n",
    "    #Colors\n",
    "    DNMT3A_color = 'dodgerblue'\n",
    "    R882_color = c1\n",
    "    neutralcolor = c3\n",
    "    \n",
    "    #Plot\n",
    "    ax1.errorbar(bin_centres, log_hist_for_plot, yerr= errors, fmt = marker_name, ecolor = color, \\\n",
    "             elinewidth = e_width, capsize = c_size, capthick = c_thick, markersize = marker_size, markeredgewidth = m_width, \\\n",
    "             markeredgecolor = color, markerfacecolor = color, label = study_name, zorder=0)\n",
    "    \n",
    "    # Set axis limits\n",
    "    ax1.set_ylim(1, 14)\n",
    "    ax1.set_xlim(-9, 0)\n",
    "    # ax1.set_xlim(-7.6, 0)\n",
    "\n",
    "    # Axis labels\n",
    "    ax1.set_xlabel('variant allele frequency (%)', fontsize = axislabelfont, labelpad = 6*scale, fontweight = 'medium')\n",
    "    ax1.set_ylabel('relative density of variants', fontsize = axislabelfont, labelpad = 6*scale, fontweight = 'medium')\n",
    "\n",
    "    x_major_ticks = [np.log(0.0001),np.log(0.0002),np.log(0.0003),np.log(0.0004),np.log(0.0005),np.log(0.0006),np.log(0.0007),np.log(0.0008), np.log(0.0009),\\\n",
    "                     np.log(0.001), np.log(0.002),np.log(0.003),np.log(0.004),np.log(0.005),np.log(0.006),np.log(0.007),np.log(0.008),np.log(0.009), \\\n",
    "                     np.log(0.01),np.log(0.02),np.log(0.03),np.log(0.04),np.log(0.05),np.log(0.06),np.log(0.07),np.log(0.08),np.log(0.09),\\\n",
    "                     np.log(0.1),np.log(0.2),np.log(0.3),np.log(0.4),np.log(0.5),np.log(0.6),np.log(0.7),np.log(0.8),np.log(0.9), np.log(1.0)]\n",
    "    x_major_tick_labels = [\"0.01\",\"\",\"\",\"\",\"\",\"\",\"\",\"\",\"\",\\\n",
    "                           \"0.1\",\"\",\"\",\"\",\"\",\"\",\"\",\"\",\"\",\\\n",
    "                           \"1\",\"\",\"\",\"\",\"\",\"\",\"\",\"\",\"\",\\\n",
    "                           \"10\",\"\",\"\",\"\",\"50\",\"\",\"\",\"\",\"\",\"\"]\n",
    "    ax1.set_xticks(x_major_ticks)\n",
    "    ax1.set_xticklabels(x_major_tick_labels, fontsize = axisfont)\n",
    "    ax1.xaxis.set_tick_params(width=scale, color = grey3, length = 6)\n",
    "\n",
    "    y_major_ticks = [np.log(1), np.log(2), np.log(3), \\\n",
    "                     np.log(4), np.log(5), np.log(6), \\\n",
    "                     np.log(7), np.log(8), np.log(9), \\\n",
    "                     np.log(10), np.log(20), np.log(30),\\\n",
    "                     np.log(40), np.log(50), np.log(60), \\\n",
    "                     np.log(70), np.log(80), np.log(90),\\\n",
    "                     np.log(100), np.log(200), np.log(300), \\\n",
    "                     np.log(400), np.log(500), np.log(600),\\\n",
    "                     np.log(700), np.log(800), np.log(900), \\\n",
    "                     np.log(1000), np.log(2000), np.log(3000),\\\n",
    "                    np.log(4000), np.log(5000), np.log(6000), \\\n",
    "                     np.log(7000), np.log(8000), np.log(9000),\\\n",
    "                    np.log(10000), np.log(20000), np.log(30000), \\\n",
    "                     np.log(40000), np.log(50000), np.log(60000),\\\n",
    "                    np.log(70000), np.log(80000), np.log(90000), \\\n",
    "                     np.log(100000), np.log(200000),np.log(300000),np.log(400000),np.log(500000),np.log(600000),\\\n",
    "                    np.log(700000),np.log(800000),np.log(900000),np.log(1000000),]\n",
    "    y_major_tick_labels = [\"\",\"\",\"\", \"\", \"\", \"\", \"\", \"\", \"\", \"$10^{1}$\",\"\", \"\", \"\", \"\", \"\", \"\", \"\", \"\", \\\n",
    "                           \"$10^{2}$\",\"\", \"\", \"\", \"\", \"\", \"\", \"\", \"\", \"$10^{3}$\",\"\", \"\", \"\", \"\", \"\", \"\", \"\", \"\", \\\n",
    "                           \"$10^{4}$\",\"\", \"\", \"\", \"\", \"\", \"\", \"\", \"\", \"$10^{5}$\",\"\", \"\", \"\", \"\", \"\", \"\", \"\", \"\", \"$10^{6}$\"]\n",
    "    ax1.set_yticks(y_major_ticks)\n",
    "    ax1.set_yticklabels(y_major_tick_labels, fontsize = axisfont)\n",
    "    ax1.yaxis.set_tick_params(width=scale, color = grey3, length = 6)\n",
    "\n",
    "    #Only show the required axis lines\n",
    "    ax1.spines['top'].set_visible(False)\n",
    "    ax1.spines['right'].set_visible(False)\n",
    "\n",
    "    for axis in ['bottom','left']:\n",
    "        ax1.spines[axis].set_linewidth(1.5)\n",
    "\n",
    "    for axis in ['bottom','left']:\n",
    "        ax1.spines[axis].set_color(grey3)\n",
    "    \n",
    "#     #set panel legends\n",
    "#     legend_marker_size = 8*scale\n",
    "#     legend_elements = [Line2D([0], [0], marker = Jaiswalmarker, color = grey3, alpha = 0.4, markersize = legend_marker_size*1.1, \\\n",
    "#                               lw=0, label='Jaiswal 2014'),\n",
    "#                        Line2D([0], [0], marker = Genovesemarker, color=grey3, alpha=0.4, markersize = legend_marker_size*1.1, \\\n",
    "#                               lw=0, label='Genovese 2014'),\n",
    "#                        Line2D([0], [0], marker = Mckerrelmarker, color=grey3, alpha=0.4, markersize = legend_marker_size, \\\n",
    "#                               lw=0, label='McKerrel 2015'),\n",
    "#                        Line2D([0], [0], marker = Zinkmarker, color=grey3, alpha=0.4, markersize = legend_marker_size*1.2, \\\n",
    "#                               lw=0, label='Zink 2017'),\n",
    "#                       Line2D([0], [0], marker = Acunamarker, color=grey3, alpha=0.4, markersize = legend_marker_size*1.3, \\\n",
    "#                               lw=0, label='Acuna-Hidalgo 2017'),\n",
    "#                       Line2D([0], [0], marker = Coombsmarker, color=grey3, alpha=0.4, markersize = legend_marker_size*1.2, \\\n",
    "#                               lw=0, label='Coombs 2017'),\n",
    "#                       Line2D([0], [0], marker = Youngmarker, color=grey3, alpha=0.4, markersize = legend_marker_size*1.2, \\\n",
    "#                               lw=0, label='Young 2016 & 2019'),\n",
    "#                        Line2D([0], [0], marker = Desaimarker, color=grey3, alpha=0.4, markersize = legend_marker_size*1.5, \\\n",
    "#                               lw=0, label='Desai 2018')]\n",
    "\n",
    "#     ax1.legend(ncol=1, handles=legend_elements, loc='center', bbox_to_anchor=(0.16, 0.2), frameon=0, fontsize = 16*scale)\n",
    "    \n",
    "    return ax1"
   ]
  },
  {
   "cell_type": "code",
   "execution_count": 54,
   "metadata": {
    "code_folding": [
     0
    ]
   },
   "outputs": [],
   "source": [
    "def error_bars(hist, normed_value, widths):\n",
    "    \n",
    "    errors={}\n",
    "    n=0\n",
    "    for i in list(hist):\n",
    "        normalised_hist = i/(normed_value*widths)\n",
    "        log_hist = np.log(normalised_hist)\n",
    "        sqrt_hist = math.sqrt(i)\n",
    "        if sqrt_hist == 1:\n",
    "            upper_error = 1\n",
    "            lower_error = 0.9\n",
    "        if sqrt_hist !=1:\n",
    "            upper_error = sqrt_hist\n",
    "            lower_error = sqrt_hist\n",
    "        normalised_upper_error = upper_error/(normed_value*widths)\n",
    "        normalised_lower_error = lower_error/(normed_value*widths)\n",
    "        errors[n]=(normalised_hist[0], normalised_upper_error[0], normalised_lower_error[0])\n",
    "        n = n+1\n",
    "\n",
    "    errors_corrected ={}\n",
    "    for k, v in errors.items():\n",
    "        binheight = v[0]\n",
    "        log_binheight = np.log(v[0])\n",
    "        upper_error = v[1]\n",
    "        lower_error = v[2]\n",
    "        log_upper_error = (np.log(upper_error+binheight))-log_binheight\n",
    "        log_lower_error = log_binheight-(np.log(binheight-lower_error))\n",
    "        errors_corrected[k] = (log_binheight, log_upper_error, log_lower_error)\n",
    "\n",
    "    lower_err=[]\n",
    "    upper_err=[]\n",
    "    for k, v in errors_corrected.items():\n",
    "        lower_error = v[2]\n",
    "        upper_error = v[1]\n",
    "        lower_err.append(lower_error)\n",
    "        upper_err.append(upper_error)\n",
    "\n",
    "    err = [tuple(lower_err),tuple(upper_err)]\n",
    "    \n",
    "    return err"
   ]
  },
  {
   "cell_type": "markdown",
   "metadata": {},
   "source": [
    "## Generate lists of normalised VAFs & normalised densities for maximum likelihood estimations"
   ]
  },
  {
   "cell_type": "code",
   "execution_count": 55,
   "metadata": {
    "code_folding": [
     0
    ]
   },
   "outputs": [],
   "source": [
    "def lists_norm_VAFs_and_densities(trimmed_VAF_list, study_total, mu, binmethod):\n",
    "    y = []\n",
    "    for i in trimmed_VAF_list:\n",
    "#         print(i)\n",
    "        VAFs = np.log(float(i))\n",
    "        y.append(VAFs)\n",
    "    \n",
    "    binmethod = 'doane'\n",
    "    \n",
    "    normed_value = study_total*2*mu\n",
    "    hist, bins = np.histogram(y, bins=binmethod, range=(min(y),max(y)))\n",
    "#     print(hist, bins)\n",
    "    widths = np.diff(bins)\n",
    "    bin_centres = (bins[:-1] + bins[1:])/2\n",
    "    hist = np.array(hist, dtype=float)\n",
    "    normalised_hist = hist/(normed_value*widths)\n",
    "    log_hist_for_plot = np.log(normalised_hist)\n",
    "\n",
    "    errors = error_bars(hist, normed_value, widths)\n",
    "    \n",
    "    VAF_densities=[]\n",
    "    lower_error = []\n",
    "    upper_error = []\n",
    "    for i in errors[0]:\n",
    "        lower_error.append(i)\n",
    "    for i in errors[1]:\n",
    "        upper_error.append(i)\n",
    "    VAF_densities_zip = zip(bin_centres, log_hist_for_plot, lower_error, upper_error)\n",
    "    for a, b, c, d in VAF_densities_zip:\n",
    "        VAF_densities.append((a, b, c, d))\n",
    "        \n",
    "    VAF_densities_without_inf = []    #remove the densities for the VAF bins for which there were no densities\n",
    "    for i in VAF_densities:\n",
    "        if i[1] != -(float('inf')):\n",
    "            VAF_densities_without_inf.append(i)\n",
    "    \n",
    "    return VAF_densities_without_inf"
   ]
  },
  {
   "cell_type": "code",
   "execution_count": 56,
   "metadata": {
    "code_folding": [
     0
    ]
   },
   "outputs": [
    {
     "name": "stderr",
     "output_type": "stream",
     "text": [
      "/anaconda3/lib/python3.7/site-packages/ipykernel_launcher.py:17: RuntimeWarning: divide by zero encountered in log\n",
      "/anaconda3/lib/python3.7/site-packages/ipykernel_launcher.py:7: RuntimeWarning: divide by zero encountered in log\n",
      "  import sys\n",
      "/anaconda3/lib/python3.7/site-packages/ipykernel_launcher.py:23: RuntimeWarning: divide by zero encountered in log\n",
      "/anaconda3/lib/python3.7/site-packages/ipykernel_launcher.py:26: RuntimeWarning: divide by zero encountered in log\n",
      "/anaconda3/lib/python3.7/site-packages/ipykernel_launcher.py:26: RuntimeWarning: invalid value encountered in double_scalars\n",
      "/anaconda3/lib/python3.7/site-packages/ipykernel_launcher.py:27: RuntimeWarning: divide by zero encountered in log\n",
      "/anaconda3/lib/python3.7/site-packages/ipykernel_launcher.py:27: RuntimeWarning: invalid value encountered in double_scalars\n"
     ]
    }
   ],
   "source": [
    "# TET2 VAF densities lists\n",
    "Jaiswal_TET2_densities = lists_norm_VAFs_and_densities(Jaiswal_TET2_sorted_trimmed_list, Jaiswaltotal, Jaiswal_TET2_mu, binmethod)\n",
    "Genovese_TET2_densities = lists_norm_VAFs_and_densities(Genovese_TET2_sorted_trimmed_list, Genovesetotal, Genovese_TET2_mu, binmethod)\n",
    "ZinkWGS_TET2_densities = lists_norm_VAFs_and_densities(ZinkWGS_TET2_sorted_trimmed_list, ZinkWGStotal, Zink_TET2_mu, binmethod)\n",
    "Acuna_TET2_densities = lists_norm_VAFs_and_densities(Acuna_TET2_sorted_trimmed_list, Acunatotal, Acuna_TET2_mu, binmethod)\n",
    "Coombs_TET2_densities = lists_norm_VAFs_and_densities(Coombs_TET2_sorted_trimmed_list, Coombstotal, Coombs_TET2_mu, binmethod)\n",
    "Young2016_2019_TET2_densities = lists_norm_VAFs_and_densities(Young2016_2019_TET2_sorted_trimmed_list, Youngtotal+Young2019totalcontrols, Young_TET2_mu, binmethod)\n",
    "# Desai_TET2_densities = lists_norm_VAFs_and_densities(Desai_TET2_sorted_trimmed_list, Desaitotal, Desai_TET2_mu, binmethod)\n",
    "\n",
    "TET2_VAF_densities = Jaiswal_TET2_densities+Genovese_TET2_densities+ZinkWGS_TET2_densities+Acuna_TET2_densities+Coombs_TET2_densities+\\\n",
    "Young2016_2019_TET2_densities\n",
    "\n",
    "TET2_densities_without_inf = []    #remove the densities for the VAF bins for which there were no densities\n",
    "for i in TET2_VAF_densities:\n",
    "    if i[1] != -(float('inf')):\n",
    "        TET2_densities_without_inf.append(i)"
   ]
  },
  {
   "cell_type": "code",
   "execution_count": 57,
   "metadata": {
    "code_folding": [
     0
    ]
   },
   "outputs": [
    {
     "name": "stderr",
     "output_type": "stream",
     "text": [
      "/anaconda3/lib/python3.7/site-packages/ipykernel_launcher.py:17: RuntimeWarning: divide by zero encountered in log\n",
      "/anaconda3/lib/python3.7/site-packages/ipykernel_launcher.py:7: RuntimeWarning: divide by zero encountered in log\n",
      "  import sys\n",
      "/anaconda3/lib/python3.7/site-packages/ipykernel_launcher.py:23: RuntimeWarning: divide by zero encountered in log\n",
      "/anaconda3/lib/python3.7/site-packages/ipykernel_launcher.py:26: RuntimeWarning: divide by zero encountered in log\n",
      "/anaconda3/lib/python3.7/site-packages/ipykernel_launcher.py:26: RuntimeWarning: invalid value encountered in double_scalars\n",
      "/anaconda3/lib/python3.7/site-packages/ipykernel_launcher.py:27: RuntimeWarning: divide by zero encountered in log\n",
      "/anaconda3/lib/python3.7/site-packages/ipykernel_launcher.py:27: RuntimeWarning: invalid value encountered in double_scalars\n"
     ]
    }
   ],
   "source": [
    "# ASXL1 VAF densities lists\n",
    "Jaiswal_ASXL1_densities = lists_norm_VAFs_and_densities(Jaiswal_ASXL1_sorted_trimmed_list, Jaiswaltotal, Jaiswal_ASXL1_mu, binmethod)\n",
    "Genovese_ASXL1_densities = lists_norm_VAFs_and_densities(Genovese_ASXL1_sorted_trimmed_list, Genovesetotal, Genovese_ASXL1_mu, binmethod)\n",
    "ZinkWGS_ASXL1_densities = lists_norm_VAFs_and_densities(ZinkWGS_ASXL1_sorted_trimmed_list, ZinkWGStotal, Zink_ASXL1_mu, binmethod)\n",
    "Acuna_ASXL1_densities = lists_norm_VAFs_and_densities(Acuna_ASXL1_sorted_trimmed_list, Acunatotal, Acuna_ASXL1_mu, binmethod)\n",
    "Coombs_ASXL1_densities = lists_norm_VAFs_and_densities(Coombs_ASXL1_sorted_trimmed_list, Coombstotal, Coombs_ASXL1_mu, binmethod)\n",
    "Young2016_2019_ASXL1_densities = lists_norm_VAFs_and_densities(Young2016_2019_ASXL1_sorted_trimmed_list, Youngtotal+Young2019totalcontrols, Young_ASXL1_mu, binmethod)\n",
    "Desai_ASXL1_densities = lists_norm_VAFs_and_densities(Desai_ASXL1_sorted_trimmed_list, Desaitotal, Desai_ASXL1_mu, binmethod)\n",
    "\n",
    "ASXL1_VAF_densities = Jaiswal_ASXL1_densities+Genovese_ASXL1_densities+ZinkWGS_ASXL1_densities+Acuna_ASXL1_densities+Coombs_ASXL1_densities+\\\n",
    "Young2016_2019_ASXL1_densities+Desai_ASXL1_densities\n",
    "\n",
    "ASXL1_densities_without_inf = []    #remove the densities for the VAF bins for which there were no densities\n",
    "for i in ASXL1_VAF_densities:\n",
    "    if i[1] != -(float('inf')):\n",
    "        ASXL1_densities_without_inf.append(i)"
   ]
  },
  {
   "cell_type": "code",
   "execution_count": 58,
   "metadata": {
    "code_folding": [
     0
    ]
   },
   "outputs": [
    {
     "name": "stderr",
     "output_type": "stream",
     "text": [
      "/anaconda3/lib/python3.7/site-packages/ipykernel_launcher.py:17: RuntimeWarning: divide by zero encountered in log\n",
      "/anaconda3/lib/python3.7/site-packages/ipykernel_launcher.py:7: RuntimeWarning: divide by zero encountered in log\n",
      "  import sys\n",
      "/anaconda3/lib/python3.7/site-packages/ipykernel_launcher.py:23: RuntimeWarning: divide by zero encountered in log\n",
      "/anaconda3/lib/python3.7/site-packages/ipykernel_launcher.py:26: RuntimeWarning: divide by zero encountered in log\n",
      "/anaconda3/lib/python3.7/site-packages/ipykernel_launcher.py:26: RuntimeWarning: invalid value encountered in double_scalars\n",
      "/anaconda3/lib/python3.7/site-packages/ipykernel_launcher.py:27: RuntimeWarning: divide by zero encountered in log\n",
      "/anaconda3/lib/python3.7/site-packages/ipykernel_launcher.py:27: RuntimeWarning: invalid value encountered in double_scalars\n"
     ]
    }
   ],
   "source": [
    "# TP53 VAF densities lists\n",
    "Jaiswal_TP53_densities = lists_norm_VAFs_and_densities(Jaiswal_TP53_sorted_trimmed_list, Jaiswaltotal, Jaiswal_TP53_mu, binmethod)\n",
    "Genovese_TP53_densities = lists_norm_VAFs_and_densities(Genovese_TP53_sorted_trimmed_list, Genovesetotal, Genovese_TP53_mu, binmethod)\n",
    "ZinkWGS_TP53_densities = lists_norm_VAFs_and_densities(ZinkWGS_TP53_sorted_trimmed_list, ZinkWGStotal, Zink_TP53_mu, binmethod)\n",
    "Acuna_TP53_densities = lists_norm_VAFs_and_densities(Acuna_TP53_sorted_trimmed_list, Acunatotal, Acuna_TP53_mu, binmethod)\n",
    "Coombs_TP53_densities = lists_norm_VAFs_and_densities(Coombs_TP53_sorted_trimmed_list, Coombstotal, Coombs_TP53_mu, binmethod)\n",
    "Young2016_2019_TP53_densities = lists_norm_VAFs_and_densities(Young2016_2019_TP53_sorted_trimmed_list, Youngtotal+Young2019totalcontrols, Young_TP53_mu, binmethod)\n",
    "\n",
    "TP53_VAF_densities = Jaiswal_TP53_densities+Genovese_TP53_densities+ZinkWGS_TP53_densities+Acuna_TP53_densities+Coombs_TP53_densities+\\\n",
    "Young2016_2019_TP53_densities\n",
    "\n",
    "TP53_densities_without_inf = []    #remove the densities for the VAF bins for which there were no densities\n",
    "for i in TP53_VAF_densities:\n",
    "    if i[1] != -(float('inf')):\n",
    "        TP53_densities_without_inf.append(i)"
   ]
  },
  {
   "cell_type": "markdown",
   "metadata": {},
   "source": [
    "## Maxmimum Likelihood Estimations for distribution of s in TET2, ASXL1 and TP53"
   ]
  },
  {
   "cell_type": "code",
   "execution_count": 59,
   "metadata": {
    "code_folding": [
     0
    ]
   },
   "outputs": [],
   "source": [
    "# MLE function for range of ages with EXPONENTIAL POWER DISTRIBUTION for s\n",
    "#l=ln(f)\n",
    "\n",
    "def logProbtheory_ages_nonsyn_exp_power(l, params): #= predicted density (i.e. normalised by 2 x mu)\n",
    "    \"Natural log of the probability of observing a variant within a specific binwidth if able to sequence perfectly\"\n",
    "    total_density=0.0\n",
    "    \n",
    "    N = 9.40166610e+04\n",
    "    sigma = 1.14417164e+01\n",
    "    s_peak = 0.0\n",
    "    b = params[0]\n",
    "    d = params[1]\n",
    "    s_max = params[2]\n",
    "    mean=55\n",
    "    dt=0.1\n",
    "    \n",
    "    weight_s= lambda s: np.exp(-((abs(s-s_peak))/d)**b)\n",
    "    normalization=integrate.quad(weight_s, 0.0, s_max)\n",
    "    normalized_rho_s= lambda s: (1.0/normalization[0])*np.exp(-((abs(s-s_peak))/d)**b)\n",
    "    \n",
    "    rho=lambda t,s: (normalized_rho_s(s))*(N/(1-2*np.exp(l))*np.exp(-((np.exp(l))/(((np.exp(s*t)-1)/(2*N*s))*(1-2*np.exp(l))))))*((1/((2*np.pi*(sigma)**2)**0.5))*(np.exp(-(t-mean)**2/(2*(sigma**2)))))\n",
    "\n",
    "    total_density=integrate.dblquad(rho, 0.0, s_max, lambda s: mean-2*sigma, lambda s: mean+2*sigma)\n",
    "\n",
    "    return np.log(total_density[0])\n",
    "\n",
    "def logProbDataGivenModel_ages_nonsyn_exp_power(params, data): #d = data (number of variants within a given bin), lamb (lambda) = expected number of variants in the bin from theory\n",
    "    \"This returns the natural log likelihood of the entire data, in specified binwidths, for a given theta and phi\"\n",
    "    total_square_distance = 0\n",
    "    for datapoint in data:\n",
    "        if np.exp(datapoint[0])<0.5:\n",
    "            logfreq = datapoint[0]\n",
    "            predicted_log_density = logProbtheory_ages_nonsyn_exp_power(logfreq, params)\n",
    "            square_distance = ((datapoint[1] - predicted_log_density)**2)\n",
    "            total_square_distance = total_square_distance + square_distance\n",
    "                \n",
    "    return total_square_distance   "
   ]
  },
  {
   "cell_type": "markdown",
   "metadata": {},
   "source": [
    "### TET2"
   ]
  },
  {
   "cell_type": "code",
   "execution_count": 60,
   "metadata": {
    "scrolled": true
   },
   "outputs": [
    {
     "data": {
      "text/plain": [
       " final_simplex: (array([[3.34958757e-01, 2.82927761e-04, 1.93799252e-01],\n",
       "       [3.34860034e-01, 2.82296367e-04, 1.93792681e-01],\n",
       "       [3.34956463e-01, 2.82911224e-04, 1.93797425e-01],\n",
       "       [3.34948138e-01, 2.82870005e-04, 1.93793832e-01]]), array([25.579399  , 25.579399  , 25.57939901, 25.57939906]))\n",
       "           fun: 25.57939899996065\n",
       "       message: 'Optimization terminated successfully.'\n",
       "          nfev: 535\n",
       "           nit: 311\n",
       "        status: 0\n",
       "       success: True\n",
       "             x: array([3.34958757e-01, 2.82927761e-04, 1.93799252e-01])"
      ]
     },
     "execution_count": 60,
     "metadata": {},
     "output_type": "execute_result"
    }
   ],
   "source": [
    "initial_guess=[0.8, 0.014, 0.25]\n",
    "scipy.optimize.minimize(logProbDataGivenModel_ages_nonsyn_exp_power, initial_guess, args=(TET2_densities_without_inf,), method='Nelder-Mead',\\\n",
    "                       options = {'maxiter': 10000, 'maxfev': 10000})   "
   ]
  },
  {
   "cell_type": "markdown",
   "metadata": {},
   "source": [
    "- **b = 3.34958757e-01**\n",
    "- **d = 2.82927761e-04**\n",
    "- **s_max = 1.93799252e-01**"
   ]
  },
  {
   "cell_type": "markdown",
   "metadata": {},
   "source": [
    "### ASXL1"
   ]
  },
  {
   "cell_type": "code",
   "execution_count": 61,
   "metadata": {
    "code_folding": []
   },
   "outputs": [
    {
     "data": {
      "text/plain": [
       " final_simplex: (array([[1.04478451e-01, 2.81393531e-13, 1.95750161e-01],\n",
       "       [1.04506401e-01, 2.82719067e-13, 1.95817486e-01],\n",
       "       [1.04496846e-01, 2.81838232e-13, 1.95796130e-01],\n",
       "       [1.04524597e-01, 2.84956951e-13, 1.95805188e-01]]), array([27.31885244, 27.31885705, 27.31887328, 27.31892947]))\n",
       "           fun: 27.318852441928655\n",
       "       message: 'Optimization terminated successfully.'\n",
       "          nfev: 2842\n",
       "           nit: 1648\n",
       "        status: 0\n",
       "       success: True\n",
       "             x: array([1.04478451e-01, 2.81393531e-13, 1.95750161e-01])"
      ]
     },
     "execution_count": 61,
     "metadata": {},
     "output_type": "execute_result"
    }
   ],
   "source": [
    "initial_guess=[0.8, 0.014, 0.25]\n",
    "scipy.optimize.minimize(logProbDataGivenModel_ages_nonsyn_exp_power, initial_guess, args=(ASXL1_densities_without_inf,), method='Nelder-Mead',\\\n",
    "                       options = {'maxiter': 10000, 'maxfev': 10000})   "
   ]
  },
  {
   "cell_type": "markdown",
   "metadata": {},
   "source": [
    "- **b = 1.04478451e-01**\n",
    "- **d = 2.81393531e-13**\n",
    "- **s_max = 1.95750161e-01**"
   ]
  },
  {
   "cell_type": "markdown",
   "metadata": {},
   "source": [
    "### TP53"
   ]
  },
  {
   "cell_type": "code",
   "execution_count": 62,
   "metadata": {},
   "outputs": [
    {
     "name": "stderr",
     "output_type": "stream",
     "text": [
      "/anaconda3/lib/python3.7/site-packages/scipy/integrate/quadpack.py:385: IntegrationWarning: The occurrence of roundoff error is detected, which prevents \n",
      "  the requested tolerance from being achieved.  The error may be \n",
      "  underestimated.\n",
      "  warnings.warn(msg, IntegrationWarning)\n",
      "/anaconda3/lib/python3.7/site-packages/scipy/integrate/quadpack.py:385: IntegrationWarning: The algorithm does not converge.  Roundoff error is detected\n",
      "  in the extrapolation table.  It is assumed that the requested tolerance\n",
      "  cannot be achieved, and that the returned result (if full_output = 1) is \n",
      "  the best which can be obtained.\n",
      "  warnings.warn(msg, IntegrationWarning)\n"
     ]
    },
    {
     "data": {
      "text/plain": [
       " final_simplex: (array([[8.77719354e-02, 3.14392067e-16, 1.93937355e-01],\n",
       "       [8.78362512e-02, 3.25350666e-16, 1.93845190e-01],\n",
       "       [8.78098370e-02, 3.20816262e-16, 1.93890053e-01],\n",
       "       [8.77617720e-02, 3.13299364e-16, 1.93955745e-01]]), array([12.67238113, 12.67238811, 12.67240414, 12.67241718]))\n",
       "           fun: 12.672381132318892\n",
       "       message: 'Optimization terminated successfully.'\n",
       "          nfev: 3227\n",
       "           nit: 1864\n",
       "        status: 0\n",
       "       success: True\n",
       "             x: array([8.77719354e-02, 3.14392067e-16, 1.93937355e-01])"
      ]
     },
     "execution_count": 62,
     "metadata": {},
     "output_type": "execute_result"
    }
   ],
   "source": [
    "initial_guess=[0.8, 0.014, 0.25]\n",
    "scipy.optimize.minimize(logProbDataGivenModel_ages_nonsyn_exp_power, initial_guess, args=(TP53_densities_without_inf,), method='Nelder-Mead',\\\n",
    "                       options = {'maxiter': 10000, 'maxfev': 10000})   "
   ]
  },
  {
   "cell_type": "markdown",
   "metadata": {},
   "source": [
    "- **b = 8.77719354e-02**\n",
    "- **d = 3.14392067e-16**\n",
    "- **s_max = 1.93937355e-01**"
   ]
  },
  {
   "cell_type": "markdown",
   "metadata": {},
   "source": [
    "## Histograms"
   ]
  },
  {
   "cell_type": "markdown",
   "metadata": {},
   "source": [
    "### TET2"
   ]
  },
  {
   "cell_type": "code",
   "execution_count": 63,
   "metadata": {
    "code_folding": [
     0
    ],
    "scrolled": false
   },
   "outputs": [
    {
     "name": "stderr",
     "output_type": "stream",
     "text": [
      "/anaconda3/lib/python3.7/site-packages/ipykernel_launcher.py:11: RuntimeWarning: divide by zero encountered in log\n",
      "  # This is added back by InteractiveShellApp.init_path()\n",
      "/anaconda3/lib/python3.7/site-packages/ipykernel_launcher.py:7: RuntimeWarning: divide by zero encountered in log\n",
      "  import sys\n",
      "/anaconda3/lib/python3.7/site-packages/ipykernel_launcher.py:23: RuntimeWarning: divide by zero encountered in log\n",
      "/anaconda3/lib/python3.7/site-packages/ipykernel_launcher.py:26: RuntimeWarning: divide by zero encountered in log\n",
      "/anaconda3/lib/python3.7/site-packages/ipykernel_launcher.py:26: RuntimeWarning: invalid value encountered in double_scalars\n",
      "/anaconda3/lib/python3.7/site-packages/ipykernel_launcher.py:27: RuntimeWarning: divide by zero encountered in log\n",
      "/anaconda3/lib/python3.7/site-packages/ipykernel_launcher.py:27: RuntimeWarning: invalid value encountered in double_scalars\n",
      "/anaconda3/lib/python3.7/site-packages/ipykernel_launcher.py:25: RuntimeWarning: divide by zero encountered in log\n"
     ]
    },
    {
     "data": {
      "image/png": "[encoded data removed]",
      "text/plain": [
       "<Figure size 1296x864 with 1 Axes>"
      ]
     },
     "metadata": {
      "needs_background": "light"
     },
     "output_type": "display_data"
    }
   ],
   "source": [
    "#Plotting the histogram - fixing N\n",
    "plt.close('all')\n",
    "scale = 1.5\n",
    "f, (ax1) = plt.subplots(1, 1, sharey=True, figsize=(12*scale, 8*scale))\n",
    "\n",
    "Jaiswalmarker = 'o'\n",
    "Zinkmarker = '^'\n",
    "Acunamarker = 'P'\n",
    "Coombsmarker = 'v'\n",
    "Youngmarker = 'p'\n",
    "Mckerrelmarker = 'D'\n",
    "Genovesemarker = 'd'\n",
    "Desaimarker = '*'\n",
    "\n",
    "m_size = 18\n",
    "Jaiswalmarkersize = m_size*1.1\n",
    "Genovesemarkersize = m_size*1.1\n",
    "Zinkmarkersize = m_size*1.2\n",
    "Acunamarkersize = m_size*1.3\n",
    "Coombsmarkersize = m_size*1.2\n",
    "Youngmarkersize = m_size*1.2\n",
    "Desaimarkersize = m_size*1.5\n",
    "McKerrelmarkersize = m_size*1\n",
    "\n",
    "#TET2 nonsynonymous\n",
    "plot_log_hist_data_for_plot_solid_smaller(Jaiswal_TET2_sorted_trimmed_list, Jaiswaltotal, Jaiswal_TET2_mu, binmethod, \\\n",
    "                            'Jaiswal 2014', Jaiswalmarker, Jaiswalmarkersize, TET2_color)\n",
    "plot_log_hist_data_for_plot_solid_smaller(Genovese_TET2_sorted_trimmed_list, Genovesetotal, Genovese_TET2_mu, binmethod, \\\n",
    "                            'Genovese 2014', Genovesemarker, Genovesemarkersize, TET2_color)\n",
    "plot_log_hist_data_for_plot_solid_smaller(ZinkWGS_TET2_sorted_trimmed_list, ZinkWGStotal, Zink_TET2_mu, binmethod, \\\n",
    "                            'Zink 2015', Zinkmarker, Zinkmarkersize, TET2_color)\n",
    "plot_log_hist_data_for_plot_solid_smaller(Acuna_TET2_sorted_trimmed_list, Acunatotal, Acuna_TET2_mu, binmethod, \\\n",
    "                            'Acuna-Hidalgo 2017', Acunamarker, Acunamarkersize, TET2_color)\n",
    "plot_log_hist_data_for_plot_solid_smaller(Coombs_TET2_sorted_trimmed_list, Coombstotal, Coombs_TET2_mu, binmethod, \\\n",
    "                            'Coombs 2017', Coombsmarker, Coombsmarkersize, TET2_color)\n",
    "plot_log_hist_data_for_plot_solid_smaller(Young2016_2019_TET2_sorted_trimmed_list, Young2019totalcontrols+Youngtotal, Young_TET2_mu, binmethod, \\\n",
    "                            'Young 2016 & 2019', Youngmarker, Youngmarkersize, TET2_color)\n",
    "\n",
    "b = 3.34958757e-01\n",
    "d = 2.82927761e-04\n",
    "s_max = 1.93799252e-01\n",
    "\n",
    "x1 = np.ndarray.tolist(np.linspace(-10, np.log(0.48), 100))\n",
    "x2 = np.ndarray.tolist(np.linspace(np.log(0.48), np.log(0.499999), 1000))\n",
    "x = x1+x2\n",
    "y_intuitive=[logProbtheory_ages_nonsyn_exp_power(l, [b, d, s_max]) for l in x]\n",
    "\n",
    "ax1.plot(x, y_intuitive, c = TET2_color, lw = 6, alpha = 0.75)\n",
    "\n",
    "plt.show()"
   ]
  },
  {
   "cell_type": "markdown",
   "metadata": {},
   "source": [
    "### ASXL1"
   ]
  },
  {
   "cell_type": "code",
   "execution_count": 64,
   "metadata": {
    "code_folding": [
     0
    ],
    "scrolled": false
   },
   "outputs": [
    {
     "name": "stderr",
     "output_type": "stream",
     "text": [
      "/anaconda3/lib/python3.7/site-packages/ipykernel_launcher.py:11: RuntimeWarning: divide by zero encountered in log\n",
      "  # This is added back by InteractiveShellApp.init_path()\n",
      "/anaconda3/lib/python3.7/site-packages/ipykernel_launcher.py:7: RuntimeWarning: divide by zero encountered in log\n",
      "  import sys\n",
      "/anaconda3/lib/python3.7/site-packages/ipykernel_launcher.py:23: RuntimeWarning: divide by zero encountered in log\n",
      "/anaconda3/lib/python3.7/site-packages/ipykernel_launcher.py:26: RuntimeWarning: divide by zero encountered in log\n",
      "/anaconda3/lib/python3.7/site-packages/ipykernel_launcher.py:26: RuntimeWarning: invalid value encountered in double_scalars\n",
      "/anaconda3/lib/python3.7/site-packages/ipykernel_launcher.py:27: RuntimeWarning: divide by zero encountered in log\n",
      "/anaconda3/lib/python3.7/site-packages/ipykernel_launcher.py:27: RuntimeWarning: invalid value encountered in double_scalars\n",
      "/anaconda3/lib/python3.7/site-packages/ipykernel_launcher.py:25: RuntimeWarning: divide by zero encountered in log\n"
     ]
    },
    {
     "data": {
      "image/png": "[encoded data removed]",
      "text/plain": [
       "<Figure size 1296x864 with 1 Axes>"
      ]
     },
     "metadata": {
      "needs_background": "light"
     },
     "output_type": "display_data"
    }
   ],
   "source": [
    "#Plotting the histogram - fixing N\n",
    "plt.close('all')\n",
    "scale = 1.5\n",
    "f, (ax1) = plt.subplots(1, 1, sharey=True, figsize=(12*scale, 8*scale))\n",
    "\n",
    "Jaiswalmarker = 'o'\n",
    "Zinkmarker = '^'\n",
    "Acunamarker = 'P'\n",
    "Coombsmarker = 'v'\n",
    "Youngmarker = 'p'\n",
    "Mckerrelmarker = 'D'\n",
    "Genovesemarker = 'd'\n",
    "Desaimarker = '*'\n",
    "\n",
    "m_size = 18\n",
    "Jaiswalmarkersize = m_size*1.1\n",
    "Genovesemarkersize = m_size*1.1\n",
    "Zinkmarkersize = m_size*1.2\n",
    "Acunamarkersize = m_size*1.3\n",
    "Coombsmarkersize = m_size*1.2\n",
    "Youngmarkersize = m_size*1.2\n",
    "Desaimarkersize = m_size*1.5\n",
    "McKerrelmarkersize = m_size*1\n",
    "\n",
    "#ASXL1 nonsynonymous (excluding R882H) - McKerrel not inclued because pretty much R882C once R882H is excluded\n",
    "plot_log_hist_data_for_plot_solid_smaller(Jaiswal_ASXL1_sorted_trimmed_list, Jaiswaltotal, Jaiswal_ASXL1_mu, binmethod, \\\n",
    "                            'Jaiswal 2014', Jaiswalmarker, Jaiswalmarkersize, ASXL1_color)\n",
    "plot_log_hist_data_for_plot_solid_smaller(Genovese_ASXL1_sorted_trimmed_list, Genovesetotal, Genovese_ASXL1_mu, binmethod, \\\n",
    "                            'Genovese 2014', Genovesemarker, Genovesemarkersize, ASXL1_color)\n",
    "plot_log_hist_data_for_plot_solid_smaller(ZinkWGS_ASXL1_sorted_trimmed_list, ZinkWGStotal, Zink_ASXL1_mu, binmethod, \\\n",
    "                            'Zink 2015', Zinkmarker, Zinkmarkersize, ASXL1_color)\n",
    "plot_log_hist_data_for_plot_solid_smaller(Acuna_ASXL1_sorted_trimmed_list, Acunatotal, Acuna_ASXL1_mu, binmethod, \\\n",
    "                            'Acuna-Hidalgo 2017', Acunamarker, Acunamarkersize, ASXL1_color)\n",
    "plot_log_hist_data_for_plot_solid_smaller(Coombs_ASXL1_sorted_trimmed_list, Coombstotal, Coombs_ASXL1_mu, binmethod, \\\n",
    "                            'Coombs 2017', Coombsmarker, Coombsmarkersize, ASXL1_color)\n",
    "plot_log_hist_data_for_plot_solid_smaller(Young2016_2019_ASXL1_sorted_trimmed_list, Young2019totalcontrols+Youngtotal, Young_ASXL1_mu, binmethod, \\\n",
    "                            'Young 2016 & 2019', Youngmarker, Youngmarkersize, ASXL1_color)\n",
    "plot_log_hist_data_for_plot_solid_smaller(Desai_ASXL1_sorted_trimmed_list, Desaitotal, Desai_ASXL1_mu, binmethod, \\\n",
    "                            'Desai 2018', Desaimarker, Desaimarkersize, ASXL1_color)\n",
    "\n",
    "b = 1.04478451e-01\n",
    "d = 2.81393531e-13\n",
    "s_max = 1.95750161e-01\n",
    "\n",
    "x1 = np.ndarray.tolist(np.linspace(-10, np.log(0.48), 100))\n",
    "x2 = np.ndarray.tolist(np.linspace(np.log(0.48), np.log(0.499999), 1000))\n",
    "x = x1+x2\n",
    "y_intuitive=[logProbtheory_ages_nonsyn_exp_power(l, [b, d, s_max]) for l in x]\n",
    "\n",
    "ax1.plot(x, y_intuitive, c = ASXL1_color, lw = 6, alpha = 0.75)\n",
    "\n",
    "plt.show()"
   ]
  },
  {
   "cell_type": "markdown",
   "metadata": {},
   "source": [
    "### TP53"
   ]
  },
  {
   "cell_type": "code",
   "execution_count": 65,
   "metadata": {
    "code_folding": [
     0
    ],
    "scrolled": false
   },
   "outputs": [
    {
     "name": "stderr",
     "output_type": "stream",
     "text": [
      "/anaconda3/lib/python3.7/site-packages/ipykernel_launcher.py:11: RuntimeWarning: divide by zero encountered in log\n",
      "  # This is added back by InteractiveShellApp.init_path()\n",
      "/anaconda3/lib/python3.7/site-packages/ipykernel_launcher.py:7: RuntimeWarning: divide by zero encountered in log\n",
      "  import sys\n",
      "/anaconda3/lib/python3.7/site-packages/ipykernel_launcher.py:23: RuntimeWarning: divide by zero encountered in log\n",
      "/anaconda3/lib/python3.7/site-packages/ipykernel_launcher.py:26: RuntimeWarning: divide by zero encountered in log\n",
      "/anaconda3/lib/python3.7/site-packages/ipykernel_launcher.py:26: RuntimeWarning: invalid value encountered in double_scalars\n",
      "/anaconda3/lib/python3.7/site-packages/ipykernel_launcher.py:27: RuntimeWarning: divide by zero encountered in log\n",
      "/anaconda3/lib/python3.7/site-packages/ipykernel_launcher.py:27: RuntimeWarning: invalid value encountered in double_scalars\n",
      "/anaconda3/lib/python3.7/site-packages/ipykernel_launcher.py:25: RuntimeWarning: divide by zero encountered in log\n"
     ]
    },
    {
     "data": {
      "image/png": "[encoded data removed]",
      "text/plain": [
       "<Figure size 1296x864 with 1 Axes>"
      ]
     },
     "metadata": {
      "needs_background": "light"
     },
     "output_type": "display_data"
    }
   ],
   "source": [
    "#Plotting the histogram - fixing N\n",
    "plt.close('all')\n",
    "scale = 1.5\n",
    "f, (ax1) = plt.subplots(1, 1, sharey=True, figsize=(12*scale, 8*scale))\n",
    "\n",
    "Jaiswalmarker = 'o'\n",
    "Zinkmarker = '^'\n",
    "Acunamarker = 'P'\n",
    "Coombsmarker = 'v'\n",
    "Youngmarker = 'p'\n",
    "Mckerrelmarker = 'D'\n",
    "Genovesemarker = 'd'\n",
    "Desaimarker = '*'\n",
    "\n",
    "m_size = 18\n",
    "Jaiswalmarkersize = m_size*1.1\n",
    "Genovesemarkersize = m_size*1.1\n",
    "Zinkmarkersize = m_size*1.2\n",
    "Acunamarkersize = m_size*1.3\n",
    "Coombsmarkersize = m_size*1.2\n",
    "Youngmarkersize = m_size*1.2\n",
    "Desaimarkersize = m_size*1.5\n",
    "McKerrelmarkersize = m_size*1\n",
    "\n",
    "#TP53 nonsynonymous (excluding R882H) - McKerrel not inclued because pretty much R882C once R882H is excluded\n",
    "plot_log_hist_data_for_plot_solid_smaller(Jaiswal_TP53_sorted_trimmed_list, Jaiswaltotal, Jaiswal_TP53_mu, binmethod, \\\n",
    "                            'Jaiswal 2014', Jaiswalmarker, Jaiswalmarkersize, TP53_color)\n",
    "plot_log_hist_data_for_plot_solid_smaller(Genovese_TP53_sorted_trimmed_list, Genovesetotal, Genovese_TP53_mu, binmethod, \\\n",
    "                            'Genovese 2014', Genovesemarker, Genovesemarkersize, TP53_color)\n",
    "plot_log_hist_data_for_plot_solid_smaller(ZinkWGS_TP53_sorted_trimmed_list, ZinkWGStotal, Zink_TP53_mu, binmethod, \\\n",
    "                            'Zink 2015', Zinkmarker, Zinkmarkersize, TP53_color)\n",
    "plot_log_hist_data_for_plot_solid_smaller(Acuna_TP53_sorted_trimmed_list, Acunatotal, Acuna_TP53_mu, binmethod, \\\n",
    "                            'Acuna-Hidalgo 2017', Acunamarker, Acunamarkersize, TP53_color)\n",
    "plot_log_hist_data_for_plot_solid_smaller(Coombs_TP53_sorted_trimmed_list, Coombstotal, Coombs_TP53_mu, binmethod, \\\n",
    "                            'Coombs 2017', Coombsmarker, Coombsmarkersize, TP53_color)\n",
    "plot_log_hist_data_for_plot_solid_smaller(Young2016_2019_TP53_sorted_trimmed_list, Young2019totalcontrols+Youngtotal, Young_TP53_mu, binmethod, \\\n",
    "                            'Young 2016 & 2019', Youngmarker, Youngmarkersize, TP53_color)\n",
    "\n",
    "b = 8.77719354e-02\n",
    "d = 3.14392067e-16\n",
    "s_max = 1.93937355e-01\n",
    "\n",
    "x1 = np.ndarray.tolist(np.linspace(-10, np.log(0.48), 100))\n",
    "x2 = np.ndarray.tolist(np.linspace(np.log(0.48), np.log(0.499999), 1000))\n",
    "x = x1+x2\n",
    "y_intuitive=[logProbtheory_ages_nonsyn_exp_power(l, [b, d, s_max]) for l in x]\n",
    "\n",
    "ax1.plot(x, y_intuitive, c = TP53_color, lw = 6, alpha = 0.75)\n",
    "\n",
    "plt.show()"
   ]
  },
  {
   "cell_type": "markdown",
   "metadata": {},
   "source": [
    "# Interpreting the distribution of s"
   ]
  },
  {
   "cell_type": "code",
   "execution_count": 66,
   "metadata": {
    "code_folding": [
     0
    ]
   },
   "outputs": [],
   "source": [
    "def weighted_rho_s_max_exp_power(x, t, d, N, s_max, s_peak, b):\n",
    "    s_range=np.linspace(0.0001, s_max, 100)\n",
    "    weights=np.array([np.exp(-(abs(s-s_peak)/d)**b) for s in s_range])\n",
    "    normalization=np.sum(weights)\n",
    "    norm_weights=weights/normalization\n",
    "    rho_components=0.0\n",
    "    for weight, s in zip(norm_weights, s_range):\n",
    "        phi=(np.exp(s*t)-1)/(2*N*s)\n",
    "        rho_components=rho_components+weight*np.exp(-np.exp(x)/(phi*(1-2*np.exp(x))))\n",
    "\n",
    "    rho_x = np.log((N/(1-2*np.exp(x)))*rho_components)\n",
    "    return rho_x"
   ]
  },
  {
   "cell_type": "markdown",
   "metadata": {},
   "source": [
    "### DNMT3A"
   ]
  },
  {
   "cell_type": "markdown",
   "metadata": {},
   "source": [
    "- See python notebook 'Parameter estimation using MLE (DNMT3A R882H & nonsynonymous, all synonymous)' for MLE calculations for DNMT3A nonsynonymous variants (b = 1.35567632, d = 0.0573614, s_max = 0.18749274)."
   ]
  },
  {
   "cell_type": "code",
   "execution_count": 67,
   "metadata": {
    "code_folding": [
     0
    ]
   },
   "outputs": [],
   "source": [
    "#DNMT3A\n",
    "s_peak = 0\n",
    "b = 1.35567632 \n",
    "d = 0.0573614 \n",
    "s_max = 0.18749274\n",
    "\n",
    "DNMT3A_weight_s = []\n",
    "s_range=np.linspace(0.0001, s_max, 100000)\n",
    "weights=np.array([np.exp(-(abs(s-s_peak)/d)**b) for s in s_range])\n",
    "normalization=np.sum(weights)\n",
    "norm_weights=weights/normalization\n",
    "cumulative_weight=0.0\n",
    "for weight, s in zip(norm_weights, s_range):\n",
    "    cumulative_weight = cumulative_weight+weight\n",
    "    DNMT3A_weight_s.append((cumulative_weight, weight, s)) "
   ]
  },
  {
   "cell_type": "code",
   "execution_count": 68,
   "metadata": {
    "code_folding": []
   },
   "outputs": [
    {
     "name": "stdout",
     "output_type": "stream",
     "text": [
      "% high fitness DNMT3A =  6.919491929715527\n",
      "% moderate fitness DNMT3A =  33.31901701821042\n",
      "% low fitness DNMT3A =  59.76149105207406\n",
      "\n",
      "% moderate + high DNMT3A = 40.23850894792594\n"
     ]
    }
   ],
   "source": [
    "low_fitness_DNMT3A = []\n",
    "high_fitness_DNMT3A = []\n",
    "for i in DNMT3A_weight_s:\n",
    "    if i[2] >= 0.1:\n",
    "        high_fitness_DNMT3A.append(i)\n",
    "    if i[2] >= 0.04:\n",
    "        low_fitness_DNMT3A.append(i)\n",
    "        \n",
    "percentage_high_fitness_DNMT3A = (1-high_fitness_DNMT3A[0][0])*100\n",
    "percentage_low_fitness_DNMT3A = (low_fitness_DNMT3A[0][0])*100\n",
    "percentage_moderate_fitness_DNMT3A = 100-(percentage_high_fitness_DNMT3A+percentage_low_fitness_DNMT3A)\n",
    "\n",
    "print('% high fitness DNMT3A = ', percentage_high_fitness_DNMT3A)\n",
    "print('% moderate fitness DNMT3A = ', percentage_moderate_fitness_DNMT3A)\n",
    "print('% low fitness DNMT3A = ', percentage_low_fitness_DNMT3A)\n",
    "print(\"\")\n",
    "print(\"% moderate + high DNMT3A =\", percentage_high_fitness_DNMT3A + percentage_moderate_fitness_DNMT3A)"
   ]
  },
  {
   "cell_type": "markdown",
   "metadata": {},
   "source": [
    "### TET2"
   ]
  },
  {
   "cell_type": "code",
   "execution_count": 69,
   "metadata": {
    "code_folding": [
     0
    ]
   },
   "outputs": [],
   "source": [
    "#TET2\n",
    "b = 3.34958757e-01\n",
    "d = 2.82927761e-04\n",
    "s_max = 1.93799252e-01\n",
    "\n",
    "TET2_weight_s = []\n",
    "s_range=np.linspace(0.0001, s_max, 100000)\n",
    "weights=np.array([np.exp(-(abs(s-s_peak)/d)**b) for s in s_range])\n",
    "normalization=np.sum(weights)\n",
    "norm_weights=weights/normalization\n",
    "cumulative_weight=0.0\n",
    "for weight, s in zip(norm_weights, s_range):\n",
    "    cumulative_weight = cumulative_weight+weight\n",
    "    TET2_weight_s.append((cumulative_weight, weight, s)) "
   ]
  },
  {
   "cell_type": "code",
   "execution_count": 70,
   "metadata": {
    "code_folding": []
   },
   "outputs": [
    {
     "name": "stdout",
     "output_type": "stream",
     "text": [
      "% high fitness TET2 =  2.0528043234041227\n",
      "% moderate fitness TET2 =  8.070320795905559\n",
      "% low fitness TET2 =  89.87687488069032\n",
      "\n",
      "% moderate + high TET2 = 10.123125119309682\n"
     ]
    }
   ],
   "source": [
    "low_fitness_TET2 = []\n",
    "high_fitness_TET2 = []\n",
    "for i in TET2_weight_s:\n",
    "    if i[2] >= 0.1:\n",
    "        high_fitness_TET2.append(i)\n",
    "    if i[2] >= 0.04:\n",
    "        low_fitness_TET2.append(i)\n",
    "        \n",
    "percentage_high_fitness_TET2 = (1-high_fitness_TET2[0][0])*100\n",
    "percentage_low_fitness_TET2 = (low_fitness_TET2[0][0])*100\n",
    "percentage_moderate_fitness_TET2 = 100-(percentage_high_fitness_TET2+percentage_low_fitness_TET2)\n",
    "\n",
    "print('% high fitness TET2 = ', percentage_high_fitness_TET2)\n",
    "print('% moderate fitness TET2 = ', percentage_moderate_fitness_TET2)\n",
    "print('% low fitness TET2 = ', percentage_low_fitness_TET2)\n",
    "print(\"\")\n",
    "print(\"% moderate + high TET2 =\", percentage_high_fitness_TET2 + percentage_moderate_fitness_TET2)"
   ]
  },
  {
   "cell_type": "markdown",
   "metadata": {},
   "source": [
    "### ASXL1"
   ]
  },
  {
   "cell_type": "code",
   "execution_count": 71,
   "metadata": {
    "code_folding": [
     0
    ]
   },
   "outputs": [],
   "source": [
    "#ASXL1\n",
    "s_peak = 0\n",
    "b = 1.04478451e-01\n",
    "d = 2.81393531e-13\n",
    "s_max = 1.95750161e-01\n",
    "\n",
    "ASXL1_weight_s = []\n",
    "s_range=np.linspace(0.0001, s_max, 100000)\n",
    "weights=np.array([np.exp(-(abs(s-s_peak)/d)**b) for s in s_range])\n",
    "normalization=np.sum(weights)\n",
    "norm_weights=weights/normalization\n",
    "cumulative_weight=0.0\n",
    "for weight, s in zip(norm_weights, s_range):\n",
    "    cumulative_weight = cumulative_weight+weight\n",
    "    ASXL1_weight_s.append((cumulative_weight, weight, s)) "
   ]
  },
  {
   "cell_type": "code",
   "execution_count": 72,
   "metadata": {
    "code_folding": []
   },
   "outputs": [
    {
     "name": "stdout",
     "output_type": "stream",
     "text": [
      "% high fitness ASXL1 =  2.142991434342878\n",
      "% moderate fitness ASXL1 =  4.983089872766627\n",
      "% low fitness ASXL1 =  92.8739186928905\n",
      "\n",
      "% moderate + high ASXL1 = 7.126081307109505\n"
     ]
    }
   ],
   "source": [
    "low_fitness_ASXL1 = []\n",
    "high_fitness_ASXL1 = []\n",
    "for i in ASXL1_weight_s:\n",
    "    if i[2] >= 0.1:\n",
    "        high_fitness_ASXL1.append(i)\n",
    "    if i[2] >= 0.04:\n",
    "        low_fitness_ASXL1.append(i)\n",
    "        \n",
    "percentage_high_fitness_ASXL1 = (1-high_fitness_ASXL1[0][0])*100\n",
    "percentage_low_fitness_ASXL1 = (low_fitness_ASXL1[0][0])*100\n",
    "percentage_moderate_fitness_ASXL1 = 100-(percentage_high_fitness_ASXL1+percentage_low_fitness_ASXL1)\n",
    "\n",
    "print('% high fitness ASXL1 = ', percentage_high_fitness_ASXL1)\n",
    "print('% moderate fitness ASXL1 = ', percentage_moderate_fitness_ASXL1)\n",
    "print('% low fitness ASXL1 = ', percentage_low_fitness_ASXL1)\n",
    "print(\"\")\n",
    "print(\"% moderate + high ASXL1 =\", percentage_high_fitness_ASXL1 + percentage_moderate_fitness_ASXL1)"
   ]
  },
  {
   "cell_type": "markdown",
   "metadata": {},
   "source": [
    "### TP53"
   ]
  },
  {
   "cell_type": "code",
   "execution_count": 73,
   "metadata": {
    "code_folding": [
     0
    ]
   },
   "outputs": [],
   "source": [
    "#TP53\n",
    "s_peak = 0\n",
    "b = 8.77719354e-02\n",
    "d = 3.14392067e-16\n",
    "s_max = 1.93937355e-01\n",
    "\n",
    "TP53_weight_s = []\n",
    "s_range=np.linspace(0.0001, s_max, 100000)\n",
    "weights=np.array([np.exp(-(abs(s-s_peak)/d)**b) for s in s_range])\n",
    "normalization=np.sum(weights)\n",
    "norm_weights=weights/normalization\n",
    "cumulative_weight=0.0\n",
    "for weight, s in zip(norm_weights, s_range):\n",
    "    cumulative_weight = cumulative_weight+weight\n",
    "    TP53_weight_s.append((cumulative_weight, weight, s)) "
   ]
  },
  {
   "cell_type": "code",
   "execution_count": 74,
   "metadata": {
    "code_folding": []
   },
   "outputs": [
    {
     "name": "stdout",
     "output_type": "stream",
     "text": [
      "% high fitness TP53 =  1.9859766139936674\n",
      "% moderate fitness TP53 =  4.544297942396227\n",
      "% low fitness TP53 =  93.4697254436101\n",
      "\n",
      "% moderate + high TP53 = 6.5302745563898945\n"
     ]
    }
   ],
   "source": [
    "low_fitness_TP53 = []\n",
    "high_fitness_TP53 = []\n",
    "for i in TP53_weight_s:\n",
    "    if i[2] >= 0.1:\n",
    "        high_fitness_TP53.append(i)\n",
    "    if i[2] >= 0.04:\n",
    "        low_fitness_TP53.append(i)\n",
    "        \n",
    "percentage_high_fitness_TP53 = (1-high_fitness_TP53[0][0])*100\n",
    "percentage_low_fitness_TP53 = (low_fitness_TP53[0][0])*100\n",
    "percentage_moderate_fitness_TP53 = 100-(percentage_high_fitness_TP53+percentage_low_fitness_TP53)\n",
    "\n",
    "print('% high fitness TP53 = ', percentage_high_fitness_TP53)\n",
    "print('% moderate fitness TP53 = ', percentage_moderate_fitness_TP53)\n",
    "print('% low fitness TP53 = ', percentage_low_fitness_TP53)\n",
    "print(\"\")\n",
    "print(\"% moderate + high TP53 =\", percentage_high_fitness_TP53 + percentage_moderate_fitness_TP53)"
   ]
  },
  {
   "cell_type": "markdown",
   "metadata": {},
   "source": [
    "## Comparing the distribution of s in DNMT3A, TET2, ASXL1, TP53 (Figure 2b)"
   ]
  },
  {
   "cell_type": "code",
   "execution_count": 75,
   "metadata": {
    "code_folding": [
     0
    ]
   },
   "outputs": [],
   "source": [
    "#DNMT3A - calculating the proportion of variants in each fitness 'bin' (e.g. 0-2%, 2-4%, 4-6% etc...)\n",
    "DNMT3A_0_2_weights=[]\n",
    "DNMT3A_0_4_weights=[]\n",
    "DNMT3A_0_6_weights=[]\n",
    "DNMT3A_0_8_weights=[]\n",
    "DNMT3A_0_10_weights=[]\n",
    "DNMT3A_0_12_weights=[]\n",
    "DNMT3A_0_14_weights=[]\n",
    "DNMT3A_0_16_weights=[]\n",
    "\n",
    "for i in DNMT3A_weight_s:\n",
    "    if i[2] >= 0.02:\n",
    "        DNMT3A_0_2_weights.append(i[0])\n",
    "    if i[2] >= 0.04:\n",
    "        DNMT3A_0_4_weights.append(i[0])\n",
    "    if i[2] >= 0.06:\n",
    "        DNMT3A_0_6_weights.append(i[0])\n",
    "    if i[2] >= 0.08:\n",
    "        DNMT3A_0_8_weights.append(i[0])\n",
    "    if i[2] >= 0.10:\n",
    "        DNMT3A_0_10_weights.append(i[0])\n",
    "    if i[2] >= 0.12:\n",
    "        DNMT3A_0_12_weights.append(i[0])\n",
    "    if i[2] >= 0.14:\n",
    "        DNMT3A_0_14_weights.append(i[0])\n",
    "    if i[2] >= 0.16:\n",
    "        DNMT3A_0_16_weights.append(i[0])\n",
    "\n",
    "DNMT3A_0_2 = DNMT3A_0_2_weights[0]\n",
    "DNMT3A_2_4 = DNMT3A_0_4_weights[0]-DNMT3A_0_2_weights[0] #i.e. proportion of variants in 2-4% bin = proportion in 0-4% bin minus proportion in 0-2% bin\n",
    "DNMT3A_4_6 = DNMT3A_0_6_weights[0]-DNMT3A_0_4_weights[0]\n",
    "DNMT3A_6_8 = DNMT3A_0_8_weights[0]-DNMT3A_0_6_weights[0]\n",
    "DNMT3A_8_10 = DNMT3A_0_10_weights[0]-DNMT3A_0_8_weights[0]\n",
    "DNMT3A_10_12 = DNMT3A_0_12_weights[0]-DNMT3A_0_10_weights[0]\n",
    "DNMT3A_12_14 = DNMT3A_0_14_weights[0]-DNMT3A_0_12_weights[0]\n",
    "DNMT3A_14_16 = DNMT3A_0_16_weights[0]-DNMT3A_0_14_weights[0]"
   ]
  },
  {
   "cell_type": "code",
   "execution_count": 76,
   "metadata": {
    "code_folding": [
     0
    ]
   },
   "outputs": [],
   "source": [
    "#ASXL1 - calculating the proportion of variants in each fitness 'bin' (e.g. 0-2%, 2-4%, 4-6% etc...)\n",
    "ASXL1_0_2_weights=[]\n",
    "ASXL1_0_4_weights=[]\n",
    "ASXL1_0_6_weights=[]\n",
    "ASXL1_0_8_weights=[]\n",
    "ASXL1_0_10_weights=[]\n",
    "ASXL1_0_12_weights=[]\n",
    "ASXL1_0_14_weights=[]\n",
    "ASXL1_0_16_weights=[]\n",
    "\n",
    "for i in ASXL1_weight_s:\n",
    "    if i[2] >= 0.02:\n",
    "        ASXL1_0_2_weights.append(i[0])\n",
    "    if i[2] >= 0.04:\n",
    "        ASXL1_0_4_weights.append(i[0])\n",
    "    if i[2] >= 0.06:\n",
    "        ASXL1_0_6_weights.append(i[0])\n",
    "    if i[2] >= 0.08:\n",
    "        ASXL1_0_8_weights.append(i[0])\n",
    "    if i[2] >= 0.10:\n",
    "        ASXL1_0_10_weights.append(i[0])\n",
    "    if i[2] >= 0.12:\n",
    "        ASXL1_0_12_weights.append(i[0])\n",
    "    if i[2] >= 0.14:\n",
    "        ASXL1_0_14_weights.append(i[0])\n",
    "    if i[2] >= 0.16:\n",
    "        ASXL1_0_16_weights.append(i[0])\n",
    "\n",
    "ASXL1_0_2 = ASXL1_0_2_weights[0]\n",
    "ASXL1_2_4 = ASXL1_0_4_weights[0]-ASXL1_0_2_weights[0]\n",
    "ASXL1_4_6 = ASXL1_0_6_weights[0]-ASXL1_0_4_weights[0]\n",
    "ASXL1_6_8 = ASXL1_0_8_weights[0]-ASXL1_0_6_weights[0]\n",
    "ASXL1_8_10 = ASXL1_0_10_weights[0]-ASXL1_0_8_weights[0]\n",
    "ASXL1_10_12 = ASXL1_0_12_weights[0]-ASXL1_0_10_weights[0]\n",
    "ASXL1_12_14 = ASXL1_0_14_weights[0]-ASXL1_0_12_weights[0]\n",
    "ASXL1_14_16 = ASXL1_0_16_weights[0]-ASXL1_0_14_weights[0]"
   ]
  },
  {
   "cell_type": "code",
   "execution_count": 77,
   "metadata": {
    "code_folding": [
     0
    ]
   },
   "outputs": [],
   "source": [
    "#TP53 - calculating the proportion of variants in each fitness 'bin' (e.g. 0-2%, 2-4%, 4-6% etc...)\n",
    "TP53_0_2_weights=[]\n",
    "TP53_0_4_weights=[]\n",
    "TP53_0_6_weights=[]\n",
    "TP53_0_8_weights=[]\n",
    "TP53_0_10_weights=[]\n",
    "TP53_0_12_weights=[]\n",
    "TP53_0_14_weights=[]\n",
    "TP53_0_16_weights=[]\n",
    "\n",
    "for i in TP53_weight_s:\n",
    "    if i[2] >= 0.02:\n",
    "        TP53_0_2_weights.append(i[0])\n",
    "    if i[2] >= 0.04:\n",
    "        TP53_0_4_weights.append(i[0])\n",
    "    if i[2] >= 0.06:\n",
    "        TP53_0_6_weights.append(i[0])\n",
    "    if i[2] >= 0.08:\n",
    "        TP53_0_8_weights.append(i[0])\n",
    "    if i[2] >= 0.10:\n",
    "        TP53_0_10_weights.append(i[0])\n",
    "    if i[2] >= 0.12:\n",
    "        TP53_0_12_weights.append(i[0])\n",
    "    if i[2] >= 0.14:\n",
    "        TP53_0_14_weights.append(i[0])\n",
    "    if i[2] >= 0.16:\n",
    "        TP53_0_16_weights.append(i[0])\n",
    "\n",
    "TP53_0_2 = TP53_0_2_weights[0]\n",
    "TP53_2_4 = TP53_0_4_weights[0]-TP53_0_2_weights[0]\n",
    "TP53_4_6 = TP53_0_6_weights[0]-TP53_0_4_weights[0]\n",
    "TP53_6_8 = TP53_0_8_weights[0]-TP53_0_6_weights[0]\n",
    "TP53_8_10 = TP53_0_10_weights[0]-TP53_0_8_weights[0]\n",
    "TP53_10_12 = TP53_0_12_weights[0]-TP53_0_10_weights[0]\n",
    "TP53_12_14 = TP53_0_14_weights[0]-TP53_0_12_weights[0]\n",
    "TP53_14_16 = TP53_0_16_weights[0]-TP53_0_14_weights[0]"
   ]
  },
  {
   "cell_type": "code",
   "execution_count": 78,
   "metadata": {
    "code_folding": [
     0
    ]
   },
   "outputs": [],
   "source": [
    "#TET2 - calculating the proportion of variants in each fitness 'bin' (e.g. 0-2%, 2-4%, 4-6% etc...)\n",
    "TET2_0_2_weights=[]\n",
    "TET2_0_4_weights=[]\n",
    "TET2_0_6_weights=[]\n",
    "TET2_0_8_weights=[]\n",
    "TET2_0_10_weights=[]\n",
    "TET2_0_12_weights=[]\n",
    "TET2_0_14_weights=[]\n",
    "TET2_0_16_weights=[]\n",
    "\n",
    "for i in TET2_weight_s:\n",
    "    if i[2] >= 0.02:\n",
    "        TET2_0_2_weights.append(i[0])\n",
    "    if i[2] >= 0.04:\n",
    "        TET2_0_4_weights.append(i[0])\n",
    "    if i[2] >= 0.06:\n",
    "        TET2_0_6_weights.append(i[0])\n",
    "    if i[2] >= 0.08:\n",
    "        TET2_0_8_weights.append(i[0])\n",
    "    if i[2] >= 0.10:\n",
    "        TET2_0_10_weights.append(i[0])\n",
    "    if i[2] >= 0.12:\n",
    "        TET2_0_12_weights.append(i[0])\n",
    "    if i[2] >= 0.14:\n",
    "        TET2_0_14_weights.append(i[0])\n",
    "    if i[2] >= 0.16:\n",
    "        TET2_0_16_weights.append(i[0])\n",
    "\n",
    "TET2_0_2 = TET2_0_2_weights[0]\n",
    "TET2_2_4 = TET2_0_4_weights[0]-TET2_0_2_weights[0]\n",
    "TET2_4_6 = TET2_0_6_weights[0]-TET2_0_4_weights[0]\n",
    "TET2_6_8 = TET2_0_8_weights[0]-TET2_0_6_weights[0]\n",
    "TET2_8_10 = TET2_0_10_weights[0]-TET2_0_8_weights[0]\n",
    "TET2_10_12 = TET2_0_12_weights[0]-TET2_0_10_weights[0]\n",
    "TET2_12_14 = TET2_0_14_weights[0]-TET2_0_12_weights[0]\n",
    "TET2_14_16 = TET2_0_16_weights[0]-TET2_0_14_weights[0]"
   ]
  },
  {
   "cell_type": "code",
   "execution_count": 79,
   "metadata": {
    "code_folding": [
     0
    ]
   },
   "outputs": [
    {
     "data": {
      "image/png": "[encoded data removed]",
      "text/plain": [
       "<Figure size 720x720 with 1 Axes>"
      ]
     },
     "metadata": {
      "needs_background": "light"
     },
     "output_type": "display_data"
    }
   ],
   "source": [
    "#Plotting the graph (Figure 2b)\n",
    "plt.close('all')\n",
    "scale = 1.5\n",
    "f, (ax1) = plt.subplots(1, 1, sharey=True, figsize=(10, 10))\n",
    "\n",
    "n_groups = 3\n",
    "index = np.arange(n_groups)\n",
    "bar_width = 0.2\n",
    "opacity = 1\n",
    "\n",
    "axisfont=14*scale\n",
    "axislabelfont=15*scale\n",
    "tpfont = 14*scale\n",
    "\n",
    "DNMT3Acol = 'dodgerblue'\n",
    "TP53col = '#B0C4DE'\n",
    "TET2col = '#B2DF8A'\n",
    "ASXL1col = '#FAAFBC'\n",
    "\n",
    "# data to plot\n",
    "DNMT3A_values = (DNMT3A_0_2+DNMT3A_2_4, DNMT3A_4_6+DNMT3A_6_8+DNMT3A_8_10, DNMT3A_10_12+DNMT3A_12_14+DNMT3A_14_16)\n",
    "TET2_values = (TET2_0_2+TET2_2_4, TET2_4_6+TET2_6_8+TET2_8_10, TET2_10_12+TET2_12_14+TET2_14_16)\n",
    "ASXL1_values = (ASXL1_0_2+ASXL1_2_4, ASXL1_4_6+ASXL1_6_8+ASXL1_8_10, ASXL1_10_12+ASXL1_12_14+ASXL1_14_16)\n",
    "TP53_values = (TP53_0_2+TP53_2_4, TP53_4_6+TP53_6_8+TP53_8_10, TP53_10_12+TP53_12_14+TP53_14_16)\n",
    " \n",
    "ax1.bar(index , ASXL1_values, bar_width, alpha=opacity, color=TP53col,label='TP53')\n",
    "ax1.bar(index + bar_width, ASXL1_values, bar_width, alpha=1, color=ASXL1col,label='ASXL1')\n",
    "ax1.bar(index + bar_width*2, TET2_values, bar_width, alpha=opacity, color=TET2col,label='TET2')\n",
    "ax1.bar(index + bar_width*3, DNMT3A_values, bar_width, alpha=0.7, color=DNMT3Acol, label='DNMT3A')\n",
    "\n",
    "# ax1.legend()\n",
    "ax1.legend(ncol=1, frameon=0, fontsize = 11*scale)\n",
    "\n",
    "# Axis labels\n",
    "ax1.set_ylabel('Percentage of variants', fontsize = axislabelfont, labelpad = 6*scale, fontweight = 'medium')\n",
    "ax1.xaxis.set_tick_params(width=scale, color = grey3, length = 6)\n",
    "\n",
    "x_major_ticks = [0+1.5*bar_width, 1+1.5*bar_width, 2+1.5*bar_width]\n",
    "x_major_tick_labels = [\"low fitness \\n(s<4%)\",\"moderate fitness \\n (s = 4-10%)\",\"high fitness \\n (s>10%)\"]\n",
    "ax1.set_xticks(x_major_ticks)\n",
    "ax1.set_xticklabels(x_major_tick_labels, fontsize = axisfont)\n",
    "ax1.xaxis.set_tick_params(width=scale, color = grey3, length = 6)\n",
    "\n",
    "y_major_ticks = [0, 0.1, 0.2, 0.3, 0.4, 0.5, 0.6, 0.7, 0.8, 0.9, 1]\n",
    "y_major_tick_labels = [\"0\", \"10\", \"20\", \"30\", \"40\", \"50\", \"60\", \"70\", \"80\", \"90\", \"100\"]\n",
    "ax1.set_yticks(y_major_ticks)\n",
    "ax1.set_yticklabels(y_major_tick_labels, fontsize = axisfont)\n",
    "ax1.yaxis.set_tick_params(width=scale, color = grey3, length = 6)\n",
    "\n",
    "#Only show the required axis lines\n",
    "ax1.spines['top'].set_visible(False)\n",
    "ax1.spines['right'].set_visible(False)\n",
    "\n",
    "for axis in ['bottom','left']:\n",
    "    ax1.spines[axis].set_linewidth(scale)\n",
    "\n",
    "for axis in ['bottom','left']:\n",
    "    ax1.spines[axis].set_color(grey3)\n",
    "    \n",
    "plt.show()"
   ]
  }
 ],
 "metadata": {
  "kernelspec": {
   "display_name": "Python 3",
   "language": "python",
   "name": "python3"
  },
  "language_info": {
   "codemirror_mode": {
    "name": "ipython",
    "version": 3
   },
   "file_extension": ".py",
   "mimetype": "text/x-python",
   "name": "python",
   "nbconvert_exporter": "python",
   "pygments_lexer": "ipython3",
   "version": "3.7.0"
  },
  "latex_envs": {
   "LaTeX_envs_menu_present": true,
   "autocomplete": true,
   "bibliofile": "biblio.bib",
   "cite_by": "apalike",
   "current_citInitial": 1,
   "eqLabelWithNumbers": true,
   "eqNumInitial": 1,
   "hotkeys": {
    "equation": "Ctrl-E",
    "itemize": "Ctrl-I"
   },
   "labels_anchors": false,
   "latex_user_defs": false,
   "report_style_numbering": false,
   "user_envs_cfg": false
  },
  "toc": {
   "base_numbering": 1,
   "nav_menu": {},
   "number_sections": true,
   "sideBar": true,
   "skip_h1_title": false,
   "title_cell": "Table of Contents",
   "title_sidebar": "Contents",
   "toc_cell": true,
   "toc_position": {},
   "toc_section_display": true,
   "toc_window_display": true
  }
 },
 "nbformat": 4,
 "nbformat_minor": 2
}
