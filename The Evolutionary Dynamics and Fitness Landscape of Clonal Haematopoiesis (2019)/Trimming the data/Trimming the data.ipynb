{
 "cells": [
  {
   "cell_type": "markdown",
   "metadata": {
    "toc": true
   },
   "source": [
    "<h1>Table of Contents<span class=\"tocSkip\"></span></h1>\n",
    "<div class=\"toc\"><ul class=\"toc-item\"><li><span><a href=\"#Python-Setup\" data-toc-modified-id=\"Python-Setup-1\"><span class=\"toc-item-num\">1&nbsp;&nbsp;</span>Python Setup</a></span><ul class=\"toc-item\"><li><span><a href=\"#Change-the-width-of-the-page\" data-toc-modified-id=\"Change-the-width-of-the-page-1.1\"><span class=\"toc-item-num\">1.1&nbsp;&nbsp;</span>Change the width of the page</a></span></li><li><span><a href=\"#Import-packages\" data-toc-modified-id=\"Import-packages-1.2\"><span class=\"toc-item-num\">1.2&nbsp;&nbsp;</span>Import packages</a></span></li></ul></li><li><span><a href=\"#Colours\" data-toc-modified-id=\"Colours-2\"><span class=\"toc-item-num\">2&nbsp;&nbsp;</span>Colours</a></span></li><li><span><a href=\"#Study-Totals\" data-toc-modified-id=\"Study-Totals-3\"><span class=\"toc-item-num\">3&nbsp;&nbsp;</span>Study Totals</a></span></li><li><span><a href=\"#VAF-data\" data-toc-modified-id=\"VAF-data-4\"><span class=\"toc-item-num\">4&nbsp;&nbsp;</span>VAF data</a></span><ul class=\"toc-item\"><li><ul class=\"toc-item\"><li><span><a href=\"#Jaiswal-2014\" data-toc-modified-id=\"Jaiswal-2014-4.0.1\"><span class=\"toc-item-num\">4.0.1&nbsp;&nbsp;</span>Jaiswal 2014</a></span></li><li><span><a href=\"#Genovese-2014\" data-toc-modified-id=\"Genovese-2014-4.0.2\"><span class=\"toc-item-num\">4.0.2&nbsp;&nbsp;</span>Genovese 2014</a></span></li><li><span><a href=\"#Zink-WGS-2017\" data-toc-modified-id=\"Zink-WGS-2017-4.0.3\"><span class=\"toc-item-num\">4.0.3&nbsp;&nbsp;</span>Zink WGS 2017</a></span></li><li><span><a href=\"#Acuna-Hidalgo-2017\" data-toc-modified-id=\"Acuna-Hidalgo-2017-4.0.4\"><span class=\"toc-item-num\">4.0.4&nbsp;&nbsp;</span>Acuna-Hidalgo 2017</a></span></li><li><span><a href=\"#Coombs-2017\" data-toc-modified-id=\"Coombs-2017-4.0.5\"><span class=\"toc-item-num\">4.0.5&nbsp;&nbsp;</span>Coombs 2017</a></span></li><li><span><a href=\"#McKerrel-2015\" data-toc-modified-id=\"McKerrel-2015-4.0.6\"><span class=\"toc-item-num\">4.0.6&nbsp;&nbsp;</span>McKerrel 2015</a></span></li><li><span><a href=\"#Young-2016\" data-toc-modified-id=\"Young-2016-4.0.7\"><span class=\"toc-item-num\">4.0.7&nbsp;&nbsp;</span>Young 2016</a></span></li><li><span><a href=\"#Young-2019\" data-toc-modified-id=\"Young-2019-4.0.8\"><span class=\"toc-item-num\">4.0.8&nbsp;&nbsp;</span>Young 2019</a></span></li><li><span><a href=\"#Desai-2018\" data-toc-modified-id=\"Desai-2018-4.0.9\"><span class=\"toc-item-num\">4.0.9&nbsp;&nbsp;</span>Desai 2018</a></span></li></ul></li></ul></li><li><span><a href=\"#Deciding-where-to-trim-the-data-(using-DNMT3A)\" data-toc-modified-id=\"Deciding-where-to-trim-the-data-(using-DNMT3A)-5\"><span class=\"toc-item-num\">5&nbsp;&nbsp;</span>Deciding where to trim the data (using DNMT3A)</a></span></li></ul></div>"
   ]
  },
  {
   "cell_type": "markdown",
   "metadata": {},
   "source": [
    "# Python Setup"
   ]
  },
  {
   "cell_type": "markdown",
   "metadata": {},
   "source": [
    "## Change the width of the page"
   ]
  },
  {
   "cell_type": "code",
   "execution_count": 1,
   "metadata": {},
   "outputs": [
    {
     "data": {
      "text/html": [
       "<style>.container { width:80% !important; }</style>"
      ],
      "text/plain": [
       "<IPython.core.display.HTML object>"
      ]
     },
     "metadata": {},
     "output_type": "display_data"
    }
   ],
   "source": [
    "from IPython.core.display import display, HTML\n",
    "display(HTML(\"<style>.container { width:80% !important; }</style>\"))"
   ]
  },
  {
   "cell_type": "markdown",
   "metadata": {},
   "source": [
    "## Import packages"
   ]
  },
  {
   "cell_type": "code",
   "execution_count": 1,
   "metadata": {
    "code_folding": []
   },
   "outputs": [],
   "source": [
    "# import packages\n",
    "import random\n",
    "import numpy as np\n",
    "import matplotlib\n",
    "import matplotlib.pyplot as plt\n",
    "import math\n",
    "import matplotlib.ticker as plticker\n",
    "from matplotlib.ticker import LinearLocator, FormatStrFormatter\n",
    "from matplotlib.patches import Polygon\n",
    "from matplotlib.patches import Patch\n",
    "from matplotlib.lines import Line2D\n",
    "from matplotlib import cm\n",
    "import scipy.special\n",
    "import scipy.integrate as it\n",
    "from scipy import integrate\n",
    "from scipy.interpolate import interp1d\n",
    "from scipy.stats import kde\n",
    "import copy\n",
    "import glob, os\n",
    "import re\n",
    "from sklearn import datasets, linear_model\n",
    "import pandas as pd\n",
    "from decimal import *\n",
    "from operator import itemgetter    \n",
    "from collections import OrderedDict"
   ]
  },
  {
   "cell_type": "markdown",
   "metadata": {},
   "source": [
    "# Colours"
   ]
  },
  {
   "cell_type": "code",
   "execution_count": 3,
   "metadata": {},
   "outputs": [],
   "source": [
    "DNMT3Acolor = 'dodgerblue'"
   ]
  },
  {
   "cell_type": "markdown",
   "metadata": {},
   "source": [
    "# Study Totals"
   ]
  },
  {
   "cell_type": "code",
   "execution_count": 4,
   "metadata": {},
   "outputs": [],
   "source": [
    "Jaiswaltotal = 17182\n",
    "Genovesetotal = 12380\n",
    "McKerreltotal = 4219\n",
    "Youngtotal = 20\n",
    "Young2019totalcontrols = 69 #only include controls\n",
    "ZinkWGStotal = 11262\n",
    "Acunatotal = 2006\n",
    "Coombstotal = 1591 #only including those who were chemo- and radio- naive\n",
    "Desaitotal = 181"
   ]
  },
  {
   "cell_type": "markdown",
   "metadata": {
    "collapsed": true
   },
   "source": [
    "# VAF data"
   ]
  },
  {
   "cell_type": "markdown",
   "metadata": {},
   "source": [
    "### Jaiswal 2014"
   ]
  },
  {
   "cell_type": "code",
   "execution_count": 5,
   "metadata": {
    "code_folding": [
     0
    ],
    "scrolled": false
   },
   "outputs": [],
   "source": [
    "# DNMT3A - create a dictionary of all the DNMT3A missense and nonsense variants (with row_count as key)\n",
    "import csv\n",
    "filename=\"Jaiswal_2014_SNVs.csv\" #CSV file containing only the SNVs reported in Jaiswal 2014\n",
    "\n",
    "with open(filename, 'r') as csvfile:\n",
    "    read_reader = csv.reader(csvfile) #csv.reader returns a reader object which will iterate over lines in the csvfile\n",
    "    row_count=0\n",
    "    Jaiswal_DNMT3A_missense_nonsense={} #dictionary of DNMTA missense and nonsense results\n",
    "\n",
    "    for row in read_reader:\n",
    "        if row_count>0: #ignore the header of the CSV file\n",
    "            if row[0]=='DNMT3A': #only look at the DNMT3A results\n",
    "                VAF = row[10] #VAF\n",
    "                ID = row[13] #participant ID\n",
    "                mutation_type = row[6] #whether the variant is missense or nonsense or synonymous\n",
    "                AA = row[7] #AA change, e.g. V617F\n",
    "                if mutation_type == 'nonsense':\n",
    "                    Jaiswal_DNMT3A_missense_nonsense[row_count]=(ID, VAF, mutation_type, AA)\n",
    "                if mutation_type == 'missense':\n",
    "                    Jaiswal_DNMT3A_missense_nonsense[row_count]=(ID, VAF, mutation_type, AA)\n",
    "\n",
    "        row_count=row_count+1\n",
    "\n",
    "Jaiswal_DNMT3A_missense_nonsense_sorted = sorted(Jaiswal_DNMT3A_missense_nonsense.items(), key=lambda x: x[1][1], reverse=True) #sort the results by VAF"
   ]
  },
  {
   "cell_type": "markdown",
   "metadata": {},
   "source": [
    "### Genovese 2014"
   ]
  },
  {
   "cell_type": "code",
   "execution_count": 6,
   "metadata": {
    "code_folding": [
     0
    ]
   },
   "outputs": [],
   "source": [
    "# DNMT3A - create a dictionary of all the DNMT3A missense and nonsense variants (with row_count as key)\n",
    "import csv\n",
    "filename=\"Genovese_2014_SNVs.csv\" #CSV file containing only the SNVs reported in Genovese 2014\n",
    "\n",
    "with open(filename, 'r') as csvfile:\n",
    "    read_reader = csv.reader(csvfile)  #csv.reader returns a reader object which will iterate over lines in the csvfile\n",
    "    row_count=0\n",
    "    Genovese_DNMT3A_missense_nonsense={} #dictionary of DNMTA missense and nonsense results\n",
    "    \n",
    "    for row in read_reader:\n",
    "        if row_count>0:  #ignore the header of the CSV file\n",
    "            if row[8]=='DNMT3A': #only look at the DNMT3A results\n",
    "                VAF = (float(row[6])/((float(row[5]))+(float(row[6]))))  # VAF = (alt count/(ref count + alt count))\n",
    "                mutation_type = row[10] #whether the variant is missense or nonsense or synonymous\n",
    "                AA = row[11] #AA change, e.g. V617F\n",
    "                if mutation_type == 'missense': \n",
    "                    Genovese_DNMT3A_missense_nonsense[row_count]=(row_count, VAF, mutation_type, AA)\n",
    "                if mutation_type == 'nonsense':\n",
    "                    Genovese_DNMT3A_missense_nonsense[row_count]=(row_count, VAF, mutation_type, AA)\n",
    "\n",
    "        row_count=row_count+1\n",
    "    \n",
    "Genovese_DNMT3A_missense_nonsense_sorted = sorted(Genovese_DNMT3A_missense_nonsense.items(), key=lambda x: x[1][1], reverse=True) #sort the results by VAF "
   ]
  },
  {
   "cell_type": "markdown",
   "metadata": {},
   "source": [
    "### Zink WGS 2017"
   ]
  },
  {
   "cell_type": "code",
   "execution_count": 7,
   "metadata": {
    "code_folding": [
     0
    ]
   },
   "outputs": [],
   "source": [
    "# DNMT3A - create a dictionary of all the DNMT3A missense and nonsense variants (with row_count as key)\n",
    "import csv\n",
    "filename=\"ZinkWGS_2017_SNVs.csv\" #CSV file containing only the SNVs reported by whole genome sequencing in Zink 2017\n",
    "\n",
    "with open(filename, 'r') as csvfile:\n",
    "    read_reader = csv.reader(csvfile)  #csv.reader returns a reader object which will iterate over lines in the csvfile\n",
    "    row_count=0\n",
    "    ZinkWGS_DNMT3A_missense_nonsense={} #dictionary of DNMTA missense and nonsense results\n",
    "    \n",
    "    for row in read_reader:\n",
    "        if row_count>0: #ignore the header of the CSV file\n",
    "            if row[4]=='DNMT3A': #only look at the DNMT3A results\n",
    "                VAF = float(row[5])\n",
    "                ID = row[6] #participant ID\n",
    "                age = float(row[8])\n",
    "                AA = row[10] #AA change, e.g. V617F\n",
    "                mutation_type = row[9] #whether the variant is missense or nonsense or synonymous\n",
    "                if mutation_type == 'missense':\n",
    "                    ZinkWGS_DNMT3A_missense_nonsense[row_count]=(ID, VAF, age, AA, mutation_type)\n",
    "                if mutation_type == 'nonsense':\n",
    "                    ZinkWGS_DNMT3A_missense_nonsense[row_count]=(ID, VAF, age, AA, mutation_type)\n",
    "\n",
    "        row_count=row_count+1\n",
    "\n",
    "ZinkWGS_DNMT3A_missense_nonsense_sorted = sorted(ZinkWGS_DNMT3A_missense_nonsense.items(), key=lambda x: x[1][1], reverse=True) #sort the results by VAF "
   ]
  },
  {
   "cell_type": "markdown",
   "metadata": {},
   "source": [
    "### Acuna-Hidalgo 2017"
   ]
  },
  {
   "cell_type": "code",
   "execution_count": 8,
   "metadata": {
    "code_folding": [
     0
    ]
   },
   "outputs": [],
   "source": [
    "# DNMT3A - create a dictionary of all the DNMT3A missense and nonsense variants (with row_count as key)\n",
    "filename=\"Acuna_Hidalgo_2017_SNVs.csv\" #CSV file containing only the SNVs reported in Acuna-Hidalgo 2017\n",
    "\n",
    "with open(filename, 'r') as csvfile:\n",
    "    read_reader = csv.reader(csvfile)  #csv.reader returns a reader object which will iterate over lines in the csvfile\n",
    "    row_count=0\n",
    "    Acuna_DNMT3A_missense_nonsense={} #dictionary of DNMTA missense and nonsense results\n",
    "    \n",
    "    for row in read_reader:\n",
    "        if row_count>0: #ignore the header of the CSV file\n",
    "            if row[1]=='DNMT3A': #only look at the DNMT3A results\n",
    "                VAF = row[2]\n",
    "                ID = row[7] #participant ID\n",
    "                age = float(row[0])\n",
    "                mutation_type = row[8] #whether the variant is missense or nonsense or synonymous\n",
    "                AA = row[6] #AA change, e.g. V617F\n",
    "                if mutation_type == 'missense':\n",
    "                    Acuna_DNMT3A_missense_nonsense[row_count]=(ID, VAF, age, mutation_type, AA)\n",
    "                if mutation_type == 'nonsense':\n",
    "                    Acuna_DNMT3A_missense_nonsense[row_count]=(ID, VAF, age, mutation_type, AA)\n",
    "\n",
    "        row_count=row_count+1\n",
    "\n",
    "Acuna_DNMT3A_missense_nonsense_sorted = sorted(Acuna_DNMT3A_missense_nonsense.items(), key=lambda x: x[1][1], reverse=True) #sort the results by VAF "
   ]
  },
  {
   "cell_type": "markdown",
   "metadata": {},
   "source": [
    "### Coombs 2017"
   ]
  },
  {
   "cell_type": "code",
   "execution_count": 9,
   "metadata": {
    "code_folding": [
     0
    ],
    "scrolled": false
   },
   "outputs": [],
   "source": [
    "# DNMT3A - create a dictionary of all the DNMT3A missense and nonsense variants (with row_count as key)\n",
    "import csv\n",
    "filename=\"Coombs_2017_no_treatment_SNVs.csv\" #CSV file containing only DNMT3A SNVs reported in the chemotherapy and radiotherapy naive individuals in Coombs 2017\n",
    "\n",
    "with open(filename, 'r') as csvfile:\n",
    "    read_reader = csv.reader(csvfile)  #csv.reader returns a reader object which will iterate over lines in the csvfile\n",
    "    row_count=0\n",
    "    Coombs_DNMT3A_missense_nonsense={} #dictionary of DNMTA missense and nonsense results\n",
    "\n",
    "    for row in read_reader:\n",
    "        if row_count>0: #ignore the header of the CSV file\n",
    "            if row[7]=='DNMT3A': #only look at the DNMT3A results\n",
    "                VAF = row[10]\n",
    "                ID = row[0] #participant ID\n",
    "                age = row[3]\n",
    "                AA = row[9] #AA change, e.g. V617F\n",
    "                mutation_type = row[12] #whether the variant is missense or nonsense or synonymous\n",
    "                if mutation_type == 'missense':\n",
    "                    Coombs_DNMT3A_missense_nonsense[row_count]=(ID, VAF, AA, age, mutation_type)\n",
    "                if mutation_type == 'nonsense':\n",
    "                    Coombs_DNMT3A_missense_nonsense[row_count]=(ID, VAF, AA, age, mutation_type)\n",
    "\n",
    "        row_count=row_count+1\n",
    "\n",
    "Coombs_DNMT3A_missense_nonsense_sorted = sorted(Coombs_DNMT3A_missense_nonsense.items(), key=lambda x: x[1][1], reverse=True) #sort the results by VAF "
   ]
  },
  {
   "cell_type": "markdown",
   "metadata": {},
   "source": [
    "### McKerrel 2015"
   ]
  },
  {
   "cell_type": "code",
   "execution_count": 10,
   "metadata": {
    "code_folding": [
     0
    ]
   },
   "outputs": [],
   "source": [
    "# DNMT3A - create a dictionary of all the DNMT3A missense and nonsense variants (with row_count as key)\n",
    "import csv\n",
    "filename=\"McKerrel_2015_SNVs.csv\" #CSV file containing SNVs reported in McKerrel 2015\n",
    "with open(filename, 'r') as csvfile:\n",
    "    read_reader = csv.reader(csvfile)  #csv.reader returns a reader object which will iterate over lines in the csvfile\n",
    "    row_count=0\n",
    "    McKerrel_DNMT3A_results={} #dictionary of DNMTA missense and nonsense results\n",
    "    \n",
    "    for row in read_reader:\n",
    "        if row_count>0:\n",
    "            if row[0]=='DNMT3A R882': #the only DNMT3A variants they looked for were at DNMT3A R882\n",
    "                VAF = (float(row[2])/100) #VAF is reported in % (unlike the other studies), so divide by 100\n",
    "                AA = row[1] #AA change, e.g. R882H\n",
    "                ID = row[4] #participant ID\n",
    "                age = float(row[3])\n",
    "                McKerrel_DNMT3A_results[row_count]=(ID, VAF, age, AA)\n",
    "\n",
    "        row_count=row_count+1\n",
    "    \n",
    "McKerrel_DNMT3A_sorted = sorted(McKerrel_DNMT3A_results.items(), key=lambda x: x[1][1], reverse=True) #sort the results by VAF "
   ]
  },
  {
   "cell_type": "markdown",
   "metadata": {},
   "source": [
    "### Young 2016"
   ]
  },
  {
   "cell_type": "code",
   "execution_count": 11,
   "metadata": {
    "code_folding": [
     0
    ],
    "scrolled": false
   },
   "outputs": [],
   "source": [
    "# DNMT3A - create a dictionary of all the DNMT3A missense and nonsense variants (with row_count as key)\n",
    "import csv\n",
    "filename=\"Young_2016_SNVs.csv\"\n",
    "with open(filename, 'r') as csvfile:\n",
    "    read_reader = csv.reader(csvfile)  #csv.reader returns a reader object which will iterate over lines in the csvfile\n",
    "    row_count=0\n",
    "    Young2016_DNMT3A_missense_nonsense={}\n",
    "    \n",
    "    for row in read_reader:\n",
    "        VAF1 = row[15]\n",
    "        if VAF1 !='-': #only look at variants that were present in the individual's baseline samples\n",
    "            if row[6]=='DNMT3A': #only look at the DNMT3A results\n",
    "                VAF = row[15] #In the csv file this is the average of the replicates at that time-point (VAFs that were '-' in original file were ignored)\n",
    "                ID = row[0] #participant ID\n",
    "                mutation_type = row[17] #whether the variant is missense or nonsense or synonymous\n",
    "                age = row[13]\n",
    "                AA = row[7] #AA change, e.g. R882H\n",
    "                if mutation_type == 'missense':\n",
    "                    Young2016_DNMT3A_missense_nonsense[row_count]=(ID, VAF, mutation_type, AA, age)\n",
    "                if mutation_type == 'nonsense':\n",
    "                    Young2016_DNMT3A_missense_nonsense[row_count]=(ID, VAF, mutation_type, AA, age)\n",
    "                        \n",
    "        row_count=row_count+1\n",
    "        \n",
    "Young2016_DNMT3A_missense_nonsense_sorted = sorted(Young2016_DNMT3A_missense_nonsense.items(), key=lambda x: x[1][1], reverse=True) #sort the results by VAF "
   ]
  },
  {
   "cell_type": "markdown",
   "metadata": {},
   "source": [
    "### Young 2019"
   ]
  },
  {
   "cell_type": "code",
   "execution_count": 2,
   "metadata": {
    "code_folding": [
     0
    ],
    "scrolled": false
   },
   "outputs": [],
   "source": [
    "# DNMT3A - create a dictionary of all the DNMT3A missense and nonsense variants (with row_count as key)\n",
    "import csv\n",
    "filename=\"Young_2019_SNVs.csv\" \n",
    "with open(filename, 'r') as csvfile:\n",
    "    read_reader = csv.reader(csvfile)  #csv.reader returns a reader object which will iterate over lines in the csvfile\n",
    "    row_count=0\n",
    "    Young2019_DNMT3A_missense_nonsense={}\n",
    "    \n",
    "    for row in read_reader:\n",
    "        VAF1 = row[7]\n",
    "        if row[2]!= 'case': #only look at controls\n",
    "            if VAF1 != '-': #only look at variants that were present in the individual's baseline samples\n",
    "                if row[3]=='DNMT3A': #only look at the DNMT3A results\n",
    "                    VAF = row[7] #this is the average of the replicates at that time-point (VAFs that were '-' were ignored)\n",
    "                    ID = row[0] #participant ID\n",
    "                    mutation_type = row[4] #whether the variant is missense or nonsense or synonymous\n",
    "                    age = row[9]\n",
    "                    AA = row[5] #AA change, e.g. R882H\n",
    "                    if mutation_type == 'missense':\n",
    "                        Young2019_DNMT3A_missense_nonsense[row_count]=(ID, VAF, mutation_type, AA, age)\n",
    "                    if mutation_type == 'nonsense':\n",
    "                        Young2019_DNMT3A_missense_nonsense[row_count]=(ID, VAF, mutation_type, AA, age)\n",
    "                \n",
    "        row_count=row_count+1\n",
    "\n",
    "Young2019_DNMT3A_missense_nonsense_sorted = sorted(Young2019_DNMT3A_missense_nonsense.items(), key=lambda x: x[1][1], reverse=True) #sort the results by VAF "
   ]
  },
  {
   "cell_type": "markdown",
   "metadata": {},
   "source": [
    "### Desai 2018"
   ]
  },
  {
   "cell_type": "code",
   "execution_count": 13,
   "metadata": {
    "code_folding": [
     0
    ]
   },
   "outputs": [],
   "source": [
    "# DNMT3A data\n",
    "import csv\n",
    "filename=\"Desai_2018_SNVs.csv\"\n",
    "\n",
    "with open(filename, 'r') as csvfile:\n",
    "    read_reader = csv.reader(csvfile)  #csv.reader returns a reader object which will iterate over lines in the csvfile\n",
    "    row_count=0\n",
    "    Desai_DNMT3A_missense_nonsense={} #dictionary of DNMTA results (key = ID (row[]), value = VAF (row[]))\n",
    "\n",
    "    for row in read_reader:\n",
    "        if row_count>0:\n",
    "            if row[15] =='Control':\n",
    "                if row[1]=='DNMT3A':\n",
    "                    if row[17]=='0': #just look at the baseline results\n",
    "                        VAF = row[23] #In the csv file this is the average of the replicates at that time-point (VAFs that were '-' in original file were ignored)\n",
    "                        ID = row[0] #participant ID\n",
    "                        age = row[19]\n",
    "                        AA = row[13] #AA change, e.g. R882H\n",
    "                        mutation_type = row[5] #whether the variant is missense or nonsense or synonymous\n",
    "                        if mutation_type == 'missense':\n",
    "                            Desai_DNMT3A_missense_nonsense[row_count]=(ID, VAF, AA, age, mutation_type)\n",
    "                        if mutation_type == 'nonsense':\n",
    "                            Desai_DNMT3A_missense_nonsense[row_count]=(ID, VAF, AA, age, mutation_type)\n",
    "\n",
    "        row_count=row_count+1\n",
    "\n",
    "Desai_DNMT3A_missense_nonsense_sorted = sorted(Desai_DNMT3A_missense_nonsense.items(), key=lambda x: x[1][1], reverse=True) #sort the results by VAF "
   ]
  },
  {
   "cell_type": "markdown",
   "metadata": {},
   "source": [
    "# Deciding where to trim the data (using DNMT3A)"
   ]
  },
  {
   "cell_type": "code",
   "execution_count": 14,
   "metadata": {
    "code_folding": [
     0
    ]
   },
   "outputs": [],
   "source": [
    "def hist_data_for_plot(study_VAFs, study_total, bin_size, color, study_name, trim_VAF_value, axis): #Function to plot histograms of each study, given VAFs and study total\n",
    "    log_VAFs = []\n",
    "    for k, v in study_VAFs: #iterates over the key (i.e. row_count) and value (i.e. ID, VAF, AA, age, mutation_type etc.) for each study's missense_nonsense dictionary\n",
    "        log_VAFs.append(np.log10(float(v[1]))) #v[1] is the VAF in each study's dictionary - store the log of this value in log_VAFs list.\n",
    "        \n",
    "    normed_value = study_total #the data will be normalised by the number of individuals in the study\n",
    "    hist, bins = np.histogram(log_VAFs, bins=bin_size, range=(min(log_VAFs),max(log_VAFs))) #create a histogram (number of bins is determined by \"bin_size\")\n",
    "    widths = np.diff(bins)\n",
    "    hist = np.array(hist, dtype=float)\n",
    "    normalised_hist = hist/(normed_value) #normalise the histogram by the number of individuals in the study\n",
    "    print('bin edges (log) ('+str(study_name)+') = ',bins)\n",
    "    print('densities in each bin ('+str(study_name)+') = ',hist)\n",
    "    print()\n",
    "    \n",
    "    axis.bar(((bins[:-1])+widths/2), normalised_hist, widths, log = True, color = color, alpha = 0.5, edgecolor='k', lw = 0.4, label= study_name) #plot the histogram and label with study name\n",
    "    \n",
    "    #set min and max for x and y axis\n",
    "    axis.set_xlim(-4, 0)\n",
    "    \n",
    "    ax_ymax = 10**0\n",
    "    axis.set_ylim(10**-5, ax_ymax)\n",
    "    \n",
    "    axisfont=12\n",
    "    titlefont=20\n",
    "    subtitlefont = 15\n",
    "    axislabelfont=15\n",
    "    legendfont = 11\n",
    "    tpfont = 12\n",
    "\n",
    "    #Plot the line where the data is trimmed\n",
    "    x_range = []\n",
    "    y_range = np.linspace(10**-5, ax_ymax)\n",
    "    for i in y_range:\n",
    "        x_range.append(trim_VAF_value) #trim_VAF_value was chosen as the edge of the bin where the VAF densities start to fall off\n",
    "    \n",
    "    axis.plot(x_range, y_range, color = 'k', lw =2, linestyle = ':')\n",
    "    \n",
    "    axis.set_xlabel('variant allele frequency (%)', fontsize = axislabelfont, labelpad = 5)\n",
    "    axis.set_ylabel('probability density', fontsize = axislabelfont)\n",
    "    \n",
    "    x_major_ticks = [-4, -3, -2, -1, -0.5]\n",
    "    x_major_tick_labels = [\"0.01\", \"0.1\",\"1\", \"10\", \"50\"]\n",
    "    axis.set_xticks(x_major_ticks)\n",
    "    axis.set_xticklabels(x_major_tick_labels, fontsize = axisfont)\n",
    "\n",
    "    y_major_ticks = [10**-5, 10**-4, 10**-3, 10**-2, 10**-1, 10**0]\n",
    "    y_major_tick_labels = [\"$10^{-5}$\",\"$10^{-4}$\", \"$10^{-3}$\",\"$10^{-2}$\", \"$10^{-1}$\", \"$10^{0}$\"]\n",
    "    axis.set_yticks(y_major_ticks)\n",
    "    axis.set_yticklabels(y_major_tick_labels, fontsize = axisfont)\n",
    "\n",
    "    #Only show the bottom and left axis lines\n",
    "    axis.spines['top'].set_visible(False)\n",
    "    axis.spines['right'].set_visible(False)\n",
    "    \n",
    "    # Axis title\n",
    "    axis.set_title(study_name, fontsize = 14, fontweight = 'semibold', y=1.04, transform=axis.transAxes)\n",
    "    \n",
    "    return axis #return the histogram"
   ]
  },
  {
   "cell_type": "code",
   "execution_count": 15,
   "metadata": {
    "code_folding": []
   },
   "outputs": [],
   "source": [
    "#VAFs where the data is trimmed for each study = chosen as the edge of the histogram bar where the density of VAFs starts to drop off\n",
    "Jaiswal_limit_log10 = -1.25457125\n",
    "Genovese_limit_log10 = -0.9231152\n",
    "ZinkWGS_limit_log10 = -0.62646791\n",
    "McKerrel_limit_log10 = -2.08092191 #no limit (this is the value of the lower end of the lowest bin for DNMT3A)\n",
    "Acuna_limit_log10 = -2.81029625\n",
    "Coombs_limit_log10 = -1.72142011\n",
    "Young2016_limit_log10 = -3.00065193\n",
    "Young2019_limit_log10 = -3.14773145 \n",
    "Desai_limit_log10 = -1.77252871"
   ]
  },
  {
   "cell_type": "code",
   "execution_count": 17,
   "metadata": {},
   "outputs": [],
   "source": [
    "Jaiswal_limit = 10**(Jaiswal_limit_log10)\n",
    "Genovese_limit = 10**(Genovese_limit_log10)\n",
    "ZinkWGS_limit = 10**(ZinkWGS_limit_log10)\n",
    "Acuna_limit = 10**(Acuna_limit_log10)\n",
    "Coombs_limit = 10**(Coombs_limit_log10)\n",
    "Young2016_limit = 10**(Young2016_limit_log10) \n",
    "Young2019_limit = 10**(Young2019_limit_log10) \n",
    "Desai_limit = 10**(Desai_limit_log10)\n",
    "McKerrel_limit = 10**(McKerrel_limit_log10)"
   ]
  },
  {
   "cell_type": "code",
   "execution_count": 56,
   "metadata": {
    "code_folding": [
     0
    ],
    "scrolled": false
   },
   "outputs": [
    {
     "name": "stdout",
     "output_type": "stream",
     "text": [
      "bin edges (log) (Jaiswal 2014) =  [-1.44404749 -1.34930937 -1.25457125 -1.15983314 -1.06509502 -0.9703569\n",
      " -0.87561878 -0.78088067 -0.68614255 -0.59140443 -0.49666632 -0.4019282\n",
      " -0.30719008]\n",
      "densities in each bin (Jaiswal 2014) =  [18. 34. 41. 41. 33. 31. 19. 20. 18. 12.  8.  1.]\n",
      "\n",
      "bin edges (log) (Genovese 2014) =  [-1.81954394 -1.67013915 -1.52073436 -1.37132957 -1.22192478 -1.07251999\n",
      " -0.9231152  -0.77371041 -0.62430563 -0.47490084 -0.32549605 -0.17609126]\n",
      "densities in each bin (Genovese 2014) =  [ 1.  0.  0.  1.  0. 15. 37. 42. 19. 28.  8.]\n",
      "\n",
      "bin edges (log) (Zink 2017) =  [-0.88605665 -0.79952707 -0.71299749 -0.62646791 -0.53993834 -0.45340876\n",
      " -0.36687918 -0.2803496  -0.19382003]\n",
      "densities in each bin (Zink 2017) =  [ 7.  7.  8. 14.  8.  6.  6.  3.]\n",
      "\n",
      "bin edges (log) (McKerrel 2015) =  [-2.08092191 -1.90466155 -1.72840119 -1.55214083 -1.37588047 -1.19962011\n",
      " -1.02335975 -0.84709939 -0.67083903 -0.49457867]\n",
      "densities in each bin (McKerrel 2015) =  [13.  5.  9.  7.  4.  2.  3.  2.  2.]\n",
      "\n",
      "bin edges (log) (Acuna-Hidalgo 2017) =  [-3.04575749 -2.81029625 -2.57483501 -2.33937377 -2.10391253 -1.86845129\n",
      " -1.63299005 -1.39752882 -1.16206758 -0.92660634 -0.6911451  -0.45568386]\n",
      "densities in each bin (Acuna-Hidalgo 2017) =  [ 5. 17. 22. 25. 18. 14.  4.  5.  3.  1.  1.]\n",
      "\n",
      "bin edges (log) (Coombs 2017) =  [-1.87224748 -1.72142011 -1.57059273 -1.41976536 -1.26893798 -1.1181106\n",
      " -0.96728323 -0.81645585 -0.66562848 -0.5148011  -0.36397372]\n",
      "densities in each bin (Coombs 2017) =  [ 9. 28. 25. 17. 13.  9. 16.  8.  5.  1.]\n",
      "\n",
      "bin edges (log) (Young 2016) =  [-3.00065193 -2.69047297 -2.380294   -2.07011503 -1.75993607 -1.4497571\n",
      " -1.13957814]\n",
      "densities in each bin (Young 2016) =  [4. 4. 2. 0. 4. 1.]\n",
      "\n",
      "bin edges (log) (Young 2019) =  [-3.39794001 -3.14773145 -2.8975229  -2.64731434 -2.39710578 -2.14689723\n",
      " -1.89668867 -1.64648012 -1.39627156 -1.14606301 -0.89585445]\n",
      "densities in each bin (Young 2019) =  [ 8. 13. 15. 15.  7.  7.  9.  0.  1.  3.]\n",
      "\n",
      "bin edges (log) (Desai 2018) =  [-1.98296666 -1.77252871 -1.56209076 -1.3516528  -1.14121485 -0.9307769\n",
      " -0.72033895 -0.50990099]\n",
      "densities in each bin (Desai 2018) =  [4. 8. 2. 6. 1. 2. 2.]\n",
      "\n"
     ]
    },
    {
     "data": {
      "image/png": "[encoded data removed]",
      "text/plain": [
       "<Figure size 1584x576 with 9 Axes>"
      ]
     },
     "metadata": {
      "needs_background": "light"
     },
     "output_type": "display_data"
    }
   ],
   "source": [
    "#logVAF vs logProbability density\n",
    "plt.close('all')\n",
    "fig = plt.figure(12, figsize=(22, 8))\n",
    "gs = matplotlib.gridspec.GridSpec(5, 2)\n",
    "\n",
    "ax1 = plt.subplot2grid((2, 5), (0, 0)) #Jaiswal\n",
    "ax2 = plt.subplot2grid((2, 5), (0, 1)) #Genovese\n",
    "ax3 = plt.subplot2grid((2, 5), (0, 2)) #Zink WGS\n",
    "ax4 = plt.subplot2grid((2, 5), (0, 3)) #McKerrel\n",
    "ax5 = plt.subplot2grid((2, 5), (0, 4)) #Acuna-Hidalgo\n",
    "ax6 = plt.subplot2grid((2, 5), (1, 0)) #Coombs\n",
    "ax7 = plt.subplot2grid((2, 5), (1, 1)) #Young 2016\n",
    "ax8 = plt.subplot2grid((2, 5), (1, 2)) #Young 2019\n",
    "ax9 = plt.subplot2grid((2, 5), (1, 3)) #Desai 2018\n",
    "\n",
    "matplotlib.pyplot.subplots_adjust(left=None, bottom=None, right=None, top=None, wspace=0.5, hspace=0.5) #Adjust spacing between plots:  wspace = width space, #hspace = height space\n",
    "\n",
    "binmethod = 'doane' #An improved version of Sturges’ estimator that works better with non-normal datasets.\n",
    "\n",
    "#using the function \"hist_data_for_plot\" to plot histogram for each study\n",
    "hist_data_for_plot(Jaiswal_DNMT3A_missense_nonsense_sorted, Jaiswaltotal, binmethod, DNMT3Acolor, 'Jaiswal 2014', Jaiswal_limit_log10, ax1)\n",
    "hist_data_for_plot(Genovese_DNMT3A_missense_nonsense_sorted, Genovesetotal, binmethod, DNMT3Acolor, 'Genovese 2014', Genovese_limit_log10,ax2)\n",
    "hist_data_for_plot(ZinkWGS_DNMT3A_missense_nonsense_sorted, ZinkWGStotal, binmethod, DNMT3Acolor, 'Zink 2017', ZinkWGS_limit_log10, ax4)\n",
    "hist_data_for_plot(McKerrel_DNMT3A_sorted, McKerreltotal, binmethod, DNMT3Acolor, 'McKerrel 2015',McKerrel_limit_log10, ax3)\n",
    "hist_data_for_plot(Acuna_DNMT3A_missense_nonsense_sorted, Acunatotal, binmethod, DNMT3Acolor, 'Acuna-Hidalgo 2017',Acuna_limit_log10, ax5)\n",
    "hist_data_for_plot(Coombs_DNMT3A_missense_nonsense_sorted, Coombstotal, binmethod, DNMT3Acolor, 'Coombs 2017',Coombs_limit_log10, ax6)\n",
    "hist_data_for_plot(Young2016_DNMT3A_missense_nonsense_sorted, Youngtotal, binmethod, DNMT3Acolor, 'Young 2016',Young2016_limit_log10, ax7)\n",
    "hist_data_for_plot(Young2019_DNMT3A_missense_nonsense_sorted, Young2019totalcontrols, binmethod, DNMT3Acolor, 'Young 2019',Young2019_limit_log10, ax8)\n",
    "hist_data_for_plot(Desai_DNMT3A_missense_nonsense_sorted, Desaitotal, binmethod, DNMT3Acolor, 'Desai 2018',Desai_limit_log10, ax9)\n",
    "\n",
    "plt.show()"
   ]
  }
 ],
 "metadata": {
  "kernelspec": {
   "display_name": "Python 3",
   "language": "python",
   "name": "python3"
  },
  "language_info": {
   "codemirror_mode": {
    "name": "ipython",
    "version": 3
   },
   "file_extension": ".py",
   "mimetype": "text/x-python",
   "name": "python",
   "nbconvert_exporter": "python",
   "pygments_lexer": "ipython3",
   "version": "3.7.0"
  },
  "toc": {
   "base_numbering": 1,
   "nav_menu": {},
   "number_sections": true,
   "sideBar": true,
   "skip_h1_title": false,
   "title_cell": "Table of Contents",
   "title_sidebar": "Contents",
   "toc_cell": true,
   "toc_position": {
    "height": "calc(100% - 180px)",
    "left": "10px",
    "top": "150px",
    "width": "366.6666564941406px"
   },
   "toc_section_display": true,
   "toc_window_display": true
  }
 },
 "nbformat": 4,
 "nbformat_minor": 2
}
