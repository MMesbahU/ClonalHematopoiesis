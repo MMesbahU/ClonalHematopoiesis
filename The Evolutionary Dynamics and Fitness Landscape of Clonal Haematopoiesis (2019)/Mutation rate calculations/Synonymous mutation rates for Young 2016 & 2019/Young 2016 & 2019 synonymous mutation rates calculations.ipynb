{
 "cells": [
  {
   "cell_type": "markdown",
   "metadata": {
    "toc": true
   },
   "source": [
    "<h1>Table of Contents<span class=\"tocSkip\"></span></h1>\n",
    "<div class=\"toc\"><ul class=\"toc-item\"><li><span><a href=\"#Python-Setup\" data-toc-modified-id=\"Python-Setup-1\"><span class=\"toc-item-num\">1&nbsp;&nbsp;</span>Python Setup</a></span><ul class=\"toc-item\"><li><span><a href=\"#Change-the-width-of-the-page\" data-toc-modified-id=\"Change-the-width-of-the-page-1.1\"><span class=\"toc-item-num\">1.1&nbsp;&nbsp;</span>Change the width of the page</a></span></li><li><span><a href=\"#Import-packages\" data-toc-modified-id=\"Import-packages-1.2\"><span class=\"toc-item-num\">1.2&nbsp;&nbsp;</span>Import packages</a></span></li><li><span><a href=\"#Genetic-Code\" data-toc-modified-id=\"Genetic-Code-1.3\"><span class=\"toc-item-num\">1.3&nbsp;&nbsp;</span>Genetic Code</a></span></li><li><span><a href=\"#Mutation-rates\" data-toc-modified-id=\"Mutation-rates-1.4\"><span class=\"toc-item-num\">1.4&nbsp;&nbsp;</span>Mutation rates</a></span></li></ul></li><li><span><a href=\"#Function-to-determine-synonymous-mutation-rates\" data-toc-modified-id=\"Function-to-determine-synonymous-mutation-rates-2\"><span class=\"toc-item-num\">2&nbsp;&nbsp;</span>Function to determine synonymous mutation rates</a></span></li><li><span><a href=\"#Illumina-TruSight-myeloid-panel\" data-toc-modified-id=\"Illumina-TruSight-myeloid-panel-3\"><span class=\"toc-item-num\">3&nbsp;&nbsp;</span>Illumina TruSight myeloid panel</a></span><ul class=\"toc-item\"><li><span><a href=\"#ABL1-(exons-4-6)-(codons-184-362)\" data-toc-modified-id=\"ABL1-(exons-4-6)-(codons-184-362)-3.1\"><span class=\"toc-item-num\">3.1&nbsp;&nbsp;</span>ABL1 (exons 4-6) (codons 184-362)</a></span><ul class=\"toc-item\"><li><ul class=\"toc-item\"><li><span><a href=\"#Mutation-rate-for-synonymous-variants-across-ABL1-regions-included-in-panel\" data-toc-modified-id=\"Mutation-rate-for-synonymous-variants-across-ABL1-regions-included-in-panel-3.1.0.1\"><span class=\"toc-item-num\">3.1.0.1&nbsp;&nbsp;</span>Mutation rate for synonymous variants across ABL1 regions included in panel</a></span></li><li><span><a href=\"#Mutation-rate-for-excluded-synonymous-ABL1-variants\" data-toc-modified-id=\"Mutation-rate-for-excluded-synonymous-ABL1-variants-3.1.0.2\"><span class=\"toc-item-num\">3.1.0.2&nbsp;&nbsp;</span>Mutation rate for excluded synonymous ABL1 variants</a></span></li><li><span><a href=\"#Total-synonymous-mutation-rate-for-ABL1\" data-toc-modified-id=\"Total-synonymous-mutation-rate-for-ABL1-3.1.0.3\"><span class=\"toc-item-num\">3.1.0.3&nbsp;&nbsp;</span>Total synonymous mutation rate for ABL1</a></span></li></ul></li></ul></li><li><span><a href=\"#ASXL1-(exon-12)\" data-toc-modified-id=\"ASXL1-(exon-12)-3.2\"><span class=\"toc-item-num\">3.2&nbsp;&nbsp;</span>ASXL1 (exon 12)</a></span><ul class=\"toc-item\"><li><ul class=\"toc-item\"><li><span><a href=\"#Mutation-rate-for-synonymous-variants-across-ASXL1-regions-included-in-panel\" data-toc-modified-id=\"Mutation-rate-for-synonymous-variants-across-ASXL1-regions-included-in-panel-3.2.0.1\"><span class=\"toc-item-num\">3.2.0.1&nbsp;&nbsp;</span>Mutation rate for synonymous variants across ASXL1 regions included in panel</a></span></li><li><span><a href=\"#Mutation-rate-for-excluded-synonymous-ASXL1-variants\" data-toc-modified-id=\"Mutation-rate-for-excluded-synonymous-ASXL1-variants-3.2.0.2\"><span class=\"toc-item-num\">3.2.0.2&nbsp;&nbsp;</span>Mutation rate for excluded synonymous ASXL1 variants</a></span></li><li><span><a href=\"#Total-synonymous-mutation-rate-for-ASXL1\" data-toc-modified-id=\"Total-synonymous-mutation-rate-for-ASXL1-3.2.0.3\"><span class=\"toc-item-num\">3.2.0.3&nbsp;&nbsp;</span>Total synonymous mutation rate for ASXL1</a></span></li></ul></li></ul></li><li><span><a href=\"#ATRX-(exons-8-10-(codons-199-1270),-17-31-(codons-1567-2283))\" data-toc-modified-id=\"ATRX-(exons-8-10-(codons-199-1270),-17-31-(codons-1567-2283))-3.3\"><span class=\"toc-item-num\">3.3&nbsp;&nbsp;</span>ATRX (exons 8-10 (codons 199-1270), 17-31 (codons 1567-2283))</a></span><ul class=\"toc-item\"><li><ul class=\"toc-item\"><li><span><a href=\"#Mutation-rate-for-synonymous-variants-across-ATRX-regions-included-in-panel\" data-toc-modified-id=\"Mutation-rate-for-synonymous-variants-across-ATRX-regions-included-in-panel-3.3.0.1\"><span class=\"toc-item-num\">3.3.0.1&nbsp;&nbsp;</span>Mutation rate for synonymous variants across ATRX regions included in panel</a></span></li></ul></li></ul></li><li><span><a href=\"#BCOR-(all-exons)\" data-toc-modified-id=\"BCOR-(all-exons)-3.4\"><span class=\"toc-item-num\">3.4&nbsp;&nbsp;</span>BCOR (all exons)</a></span><ul class=\"toc-item\"><li><ul class=\"toc-item\"><li><span><a href=\"#Mutation-rate-for-synonymous-variants-across-BCOR-regions-included-in-panel\" data-toc-modified-id=\"Mutation-rate-for-synonymous-variants-across-BCOR-regions-included-in-panel-3.4.0.1\"><span class=\"toc-item-num\">3.4.0.1&nbsp;&nbsp;</span>Mutation rate for synonymous variants across BCOR regions included in panel</a></span></li><li><span><a href=\"#Mutation-rate-for-excluded-synonymous-BCOR-variants\" data-toc-modified-id=\"Mutation-rate-for-excluded-synonymous-BCOR-variants-3.4.0.2\"><span class=\"toc-item-num\">3.4.0.2&nbsp;&nbsp;</span>Mutation rate for excluded synonymous BCOR variants</a></span></li><li><span><a href=\"#Total-synonymous-mutation-rate-for-BCOR\" data-toc-modified-id=\"Total-synonymous-mutation-rate-for-BCOR-3.4.0.3\"><span class=\"toc-item-num\">3.4.0.3&nbsp;&nbsp;</span>Total synonymous mutation rate for BCOR</a></span></li></ul></li></ul></li><li><span><a href=\"#BCORL1-(all-exons-(1711-codons))\" data-toc-modified-id=\"BCORL1-(all-exons-(1711-codons))-3.5\"><span class=\"toc-item-num\">3.5&nbsp;&nbsp;</span>BCORL1 (all exons (1711 codons))</a></span><ul class=\"toc-item\"><li><ul class=\"toc-item\"><li><span><a href=\"#Mutation-rate-for-synonymous-variants-across-BCORL1-regions-included-in-panel\" data-toc-modified-id=\"Mutation-rate-for-synonymous-variants-across-BCORL1-regions-included-in-panel-3.5.0.1\"><span class=\"toc-item-num\">3.5.0.1&nbsp;&nbsp;</span>Mutation rate for synonymous variants across BCORL1 regions included in panel</a></span></li><li><span><a href=\"#Mutation-rate-for-excluded-synonymous-BCORL1-variants\" data-toc-modified-id=\"Mutation-rate-for-excluded-synonymous-BCORL1-variants-3.5.0.2\"><span class=\"toc-item-num\">3.5.0.2&nbsp;&nbsp;</span>Mutation rate for excluded synonymous BCORL1 variants</a></span></li><li><span><a href=\"#Total-synonymous-mutation-rate-for-BCORL1\" data-toc-modified-id=\"Total-synonymous-mutation-rate-for-BCORL1-3.5.0.3\"><span class=\"toc-item-num\">3.5.0.3&nbsp;&nbsp;</span>Total synonymous mutation rate for BCORL1</a></span></li></ul></li></ul></li><li><span><a href=\"#BRAF-(exon-15)\" data-toc-modified-id=\"BRAF-(exon-15)-3.6\"><span class=\"toc-item-num\">3.6&nbsp;&nbsp;</span>BRAF (exon 15)</a></span><ul class=\"toc-item\"><li><ul class=\"toc-item\"><li><span><a href=\"#Mutation-rate-for-synonymous-variants-across-BRAF-regions-included-in-panel\" data-toc-modified-id=\"Mutation-rate-for-synonymous-variants-across-BRAF-regions-included-in-panel-3.6.0.1\"><span class=\"toc-item-num\">3.6.0.1&nbsp;&nbsp;</span>Mutation rate for synonymous variants across BRAF regions included in panel</a></span></li></ul></li></ul></li><li><span><a href=\"#CALR\" data-toc-modified-id=\"CALR-3.7\"><span class=\"toc-item-num\">3.7&nbsp;&nbsp;</span>CALR</a></span><ul class=\"toc-item\"><li><ul class=\"toc-item\"><li><span><a href=\"#Mutation-rate-for-synonymous-variants-across-CALR-regions-included-in-panel\" data-toc-modified-id=\"Mutation-rate-for-synonymous-variants-across-CALR-regions-included-in-panel-3.7.0.1\"><span class=\"toc-item-num\">3.7.0.1&nbsp;&nbsp;</span>Mutation rate for synonymous variants across CALR regions included in panel</a></span></li></ul></li></ul></li><li><span><a href=\"#CBL-(exons-8-and-9)\" data-toc-modified-id=\"CBL-(exons-8-and-9)-3.8\"><span class=\"toc-item-num\">3.8&nbsp;&nbsp;</span>CBL (exons 8 and 9)</a></span><ul class=\"toc-item\"><li><ul class=\"toc-item\"><li><span><a href=\"#Mutation-rate-for-synonymous-variants-across-CBL-regions-included-in-panel\" data-toc-modified-id=\"Mutation-rate-for-synonymous-variants-across-CBL-regions-included-in-panel-3.8.0.1\"><span class=\"toc-item-num\">3.8.0.1&nbsp;&nbsp;</span>Mutation rate for synonymous variants across CBL regions included in panel</a></span></li></ul></li></ul></li><li><span><a href=\"#CBLB-(exons-9-and-10)\" data-toc-modified-id=\"CBLB-(exons-9-and-10)-3.9\"><span class=\"toc-item-num\">3.9&nbsp;&nbsp;</span>CBLB (exons 9 and 10)</a></span><ul class=\"toc-item\"><li><ul class=\"toc-item\"><li><span><a href=\"#Mutation-rate-for-synonymous-variants-across-CBLB-regions-included-in-panel\" data-toc-modified-id=\"Mutation-rate-for-synonymous-variants-across-CBLB-regions-included-in-panel-3.9.0.1\"><span class=\"toc-item-num\">3.9.0.1&nbsp;&nbsp;</span>Mutation rate for synonymous variants across CBLB regions included in panel</a></span></li><li><span><a href=\"#Mutation-rate-for-excluded-synonymous-CBLB-variants\" data-toc-modified-id=\"Mutation-rate-for-excluded-synonymous-CBLB-variants-3.9.0.2\"><span class=\"toc-item-num\">3.9.0.2&nbsp;&nbsp;</span>Mutation rate for excluded synonymous CBLB variants</a></span></li><li><span><a href=\"#Total-synonymous-mutation-rate-for-CBLB\" data-toc-modified-id=\"Total-synonymous-mutation-rate-for-CBLB-3.9.0.3\"><span class=\"toc-item-num\">3.9.0.3&nbsp;&nbsp;</span>Total synonymous mutation rate for CBLB</a></span></li></ul></li></ul></li><li><span><a href=\"#CBLC-(exons-9-and-10)\" data-toc-modified-id=\"CBLC-(exons-9-and-10)-3.10\"><span class=\"toc-item-num\">3.10&nbsp;&nbsp;</span>CBLC (exons 9 and 10)</a></span><ul class=\"toc-item\"><li><ul class=\"toc-item\"><li><span><a href=\"#Mutation-rate-for-synonymous-variants-across-CBLC-regions-included-in-panel\" data-toc-modified-id=\"Mutation-rate-for-synonymous-variants-across-CBLC-regions-included-in-panel-3.10.0.1\"><span class=\"toc-item-num\">3.10.0.1&nbsp;&nbsp;</span>Mutation rate for synonymous variants across CBLC regions included in panel</a></span></li></ul></li></ul></li><li><span><a href=\"#CDKN2A\" data-toc-modified-id=\"CDKN2A-3.11\"><span class=\"toc-item-num\">3.11&nbsp;&nbsp;</span>CDKN2A</a></span><ul class=\"toc-item\"><li><ul class=\"toc-item\"><li><span><a href=\"#Mutation-rate-for-synonymous-variants-across-CDKN2A-regions-included-in-panel\" data-toc-modified-id=\"Mutation-rate-for-synonymous-variants-across-CDKN2A-regions-included-in-panel-3.11.0.1\"><span class=\"toc-item-num\">3.11.0.1&nbsp;&nbsp;</span>Mutation rate for synonymous variants across CDKN2A regions included in panel</a></span></li></ul></li></ul></li><li><span><a href=\"#CEBPA\" data-toc-modified-id=\"CEBPA-3.12\"><span class=\"toc-item-num\">3.12&nbsp;&nbsp;</span>CEBPA</a></span><ul class=\"toc-item\"><li><ul class=\"toc-item\"><li><span><a href=\"#Mutation-rate-for-synonymous-variants-across-CEBPA-regions-included-in-panel\" data-toc-modified-id=\"Mutation-rate-for-synonymous-variants-across-CEBPA-regions-included-in-panel-3.12.0.1\"><span class=\"toc-item-num\">3.12.0.1&nbsp;&nbsp;</span>Mutation rate for synonymous variants across CEBPA regions included in panel</a></span></li><li><span><a href=\"#Mutation-rate-for-excluded-synonymous-CEBPA-variants\" data-toc-modified-id=\"Mutation-rate-for-excluded-synonymous-CEBPA-variants-3.12.0.2\"><span class=\"toc-item-num\">3.12.0.2&nbsp;&nbsp;</span>Mutation rate for excluded synonymous CEBPA variants</a></span></li><li><span><a href=\"#Total-synonymous-mutation-rate-for-CEBPA\" data-toc-modified-id=\"Total-synonymous-mutation-rate-for-CEBPA-3.12.0.3\"><span class=\"toc-item-num\">3.12.0.3&nbsp;&nbsp;</span>Total synonymous mutation rate for CEBPA</a></span></li></ul></li></ul></li><li><span><a href=\"#CSF3R-(exons-14-17)\" data-toc-modified-id=\"CSF3R-(exons-14-17)-3.13\"><span class=\"toc-item-num\">3.13&nbsp;&nbsp;</span>CSF3R (exons 14-17)</a></span><ul class=\"toc-item\"><li><ul class=\"toc-item\"><li><span><a href=\"#Mutation-rate-for-synonymous-variants-across-CSF3R-regions-included-in-panel\" data-toc-modified-id=\"Mutation-rate-for-synonymous-variants-across-CSF3R-regions-included-in-panel-3.13.0.1\"><span class=\"toc-item-num\">3.13.0.1&nbsp;&nbsp;</span>Mutation rate for synonymous variants across CSF3R regions included in panel</a></span></li></ul></li></ul></li><li><span><a href=\"#CUX1\" data-toc-modified-id=\"CUX1-3.14\"><span class=\"toc-item-num\">3.14&nbsp;&nbsp;</span>CUX1</a></span><ul class=\"toc-item\"><li><ul class=\"toc-item\"><li><span><a href=\"#Mutation-rate-for-synonymous-variants-across-CUX1-regions-included-in-panel\" data-toc-modified-id=\"Mutation-rate-for-synonymous-variants-across-CUX1-regions-included-in-panel-3.14.0.1\"><span class=\"toc-item-num\">3.14.0.1&nbsp;&nbsp;</span>Mutation rate for synonymous variants across CUX1 regions included in panel</a></span></li><li><span><a href=\"#Mutation-rate-for-excluded-synonymous-CUX1-variants\" data-toc-modified-id=\"Mutation-rate-for-excluded-synonymous-CUX1-variants-3.14.0.2\"><span class=\"toc-item-num\">3.14.0.2&nbsp;&nbsp;</span>Mutation rate for excluded synonymous CUX1 variants</a></span></li><li><span><a href=\"#Total-synonymous-mutation-rate-for-CUX1\" data-toc-modified-id=\"Total-synonymous-mutation-rate-for-CUX1-3.14.0.3\"><span class=\"toc-item-num\">3.14.0.3&nbsp;&nbsp;</span>Total synonymous mutation rate for CUX1</a></span></li></ul></li></ul></li><li><span><a href=\"#DNMT3A\" data-toc-modified-id=\"DNMT3A-3.15\"><span class=\"toc-item-num\">3.15&nbsp;&nbsp;</span>DNMT3A</a></span><ul class=\"toc-item\"><li><ul class=\"toc-item\"><li><span><a href=\"#Mutation-rate-for-synonymous-variants-across-DNMT3A-regions-included-in-panel\" data-toc-modified-id=\"Mutation-rate-for-synonymous-variants-across-DNMT3A-regions-included-in-panel-3.15.0.1\"><span class=\"toc-item-num\">3.15.0.1&nbsp;&nbsp;</span>Mutation rate for synonymous variants across DNMT3A regions included in panel</a></span></li><li><span><a href=\"#Mutation-rate-for-excluded-synonymous-DNMT3A-variants\" data-toc-modified-id=\"Mutation-rate-for-excluded-synonymous-DNMT3A-variants-3.15.0.2\"><span class=\"toc-item-num\">3.15.0.2&nbsp;&nbsp;</span>Mutation rate for excluded synonymous DNMT3A variants</a></span></li><li><span><a href=\"#Total-synonymous-mutation-rate-for-DNMT3A\" data-toc-modified-id=\"Total-synonymous-mutation-rate-for-DNMT3A-3.15.0.3\"><span class=\"toc-item-num\">3.15.0.3&nbsp;&nbsp;</span>Total synonymous mutation rate for DNMT3A</a></span></li></ul></li></ul></li><li><span><a href=\"#ETV6/TEL\" data-toc-modified-id=\"ETV6/TEL-3.16\"><span class=\"toc-item-num\">3.16&nbsp;&nbsp;</span>ETV6/TEL</a></span><ul class=\"toc-item\"><li><ul class=\"toc-item\"><li><span><a href=\"#Mutation-rate-for-synonymous-variants-across-ETV6-regions-included-in-panel\" data-toc-modified-id=\"Mutation-rate-for-synonymous-variants-across-ETV6-regions-included-in-panel-3.16.0.1\"><span class=\"toc-item-num\">3.16.0.1&nbsp;&nbsp;</span>Mutation rate for synonymous variants across ETV6 regions included in panel</a></span></li><li><span><a href=\"#Mutation-rate-for-excluded-synonymous-ETV6-variants\" data-toc-modified-id=\"Mutation-rate-for-excluded-synonymous-ETV6-variants-3.16.0.2\"><span class=\"toc-item-num\">3.16.0.2&nbsp;&nbsp;</span>Mutation rate for excluded synonymous ETV6 variants</a></span></li><li><span><a href=\"#Total-synonymous-mutation-rate-for-ETV6\" data-toc-modified-id=\"Total-synonymous-mutation-rate-for-ETV6-3.16.0.3\"><span class=\"toc-item-num\">3.16.0.3&nbsp;&nbsp;</span>Total synonymous mutation rate for ETV6</a></span></li></ul></li></ul></li><li><span><a href=\"#EZH2\" data-toc-modified-id=\"EZH2-3.17\"><span class=\"toc-item-num\">3.17&nbsp;&nbsp;</span>EZH2</a></span><ul class=\"toc-item\"><li><ul class=\"toc-item\"><li><span><a href=\"#Mutation-rate-for-synonymous-variants-across-EZH2-regions-included-in-panel\" data-toc-modified-id=\"Mutation-rate-for-synonymous-variants-across-EZH2-regions-included-in-panel-3.17.0.1\"><span class=\"toc-item-num\">3.17.0.1&nbsp;&nbsp;</span>Mutation rate for synonymous variants across EZH2 regions included in panel</a></span></li><li><span><a href=\"#Mutation-rate-for-excluded-synonymous-EZH2-variants\" data-toc-modified-id=\"Mutation-rate-for-excluded-synonymous-EZH2-variants-3.17.0.2\"><span class=\"toc-item-num\">3.17.0.2&nbsp;&nbsp;</span>Mutation rate for excluded synonymous EZH2 variants</a></span></li><li><span><a href=\"#Total-synonymous-mutation-rate-for-EZH2\" data-toc-modified-id=\"Total-synonymous-mutation-rate-for-EZH2-3.17.0.3\"><span class=\"toc-item-num\">3.17.0.3&nbsp;&nbsp;</span>Total synonymous mutation rate for EZH2</a></span></li></ul></li></ul></li><li><span><a href=\"#FBXW7-(exons-9-11)\" data-toc-modified-id=\"FBXW7-(exons-9-11)-3.18\"><span class=\"toc-item-num\">3.18&nbsp;&nbsp;</span>FBXW7 (exons 9-11)</a></span><ul class=\"toc-item\"><li><ul class=\"toc-item\"><li><span><a href=\"#Mutation-rate-for-synonymous-variants-across-FBXW7-regions-included-in-panel\" data-toc-modified-id=\"Mutation-rate-for-synonymous-variants-across-FBXW7-regions-included-in-panel-3.18.0.1\"><span class=\"toc-item-num\">3.18.0.1&nbsp;&nbsp;</span>Mutation rate for synonymous variants across FBXW7 regions included in panel</a></span></li></ul></li></ul></li><li><span><a href=\"#FLT3-(exons-14,-15,-20)\" data-toc-modified-id=\"FLT3-(exons-14,-15,-20)-3.19\"><span class=\"toc-item-num\">3.19&nbsp;&nbsp;</span>FLT3 (exons 14, 15, 20)</a></span><ul class=\"toc-item\"><li><ul class=\"toc-item\"><li><span><a href=\"#Mutation-rate-for-synonymous-variants-across-FLT3-regions-included-in-panel\" data-toc-modified-id=\"Mutation-rate-for-synonymous-variants-across-FLT3-regions-included-in-panel-3.19.0.1\"><span class=\"toc-item-num\">3.19.0.1&nbsp;&nbsp;</span>Mutation rate for synonymous variants across FLT3 regions included in panel</a></span></li></ul></li></ul></li><li><span><a href=\"#GATA1-(exon-2)\" data-toc-modified-id=\"GATA1-(exon-2)-3.20\"><span class=\"toc-item-num\">3.20&nbsp;&nbsp;</span>GATA1 (exon 2)</a></span><ul class=\"toc-item\"><li><ul class=\"toc-item\"><li><span><a href=\"#Mutation-rate-for-synonymous-variants-across-GATA1-regions-included-in-panel\" data-toc-modified-id=\"Mutation-rate-for-synonymous-variants-across-GATA1-regions-included-in-panel-3.20.0.1\"><span class=\"toc-item-num\">3.20.0.1&nbsp;&nbsp;</span>Mutation rate for synonymous variants across GATA1 regions included in panel</a></span></li></ul></li></ul></li><li><span><a href=\"#GATA2\" data-toc-modified-id=\"GATA2-3.21\"><span class=\"toc-item-num\">3.21&nbsp;&nbsp;</span>GATA2</a></span><ul class=\"toc-item\"><li><ul class=\"toc-item\"><li><span><a href=\"#Mutation-rate-for-synonymous-variants-across-GATA2-regions-included-in-panel\" data-toc-modified-id=\"Mutation-rate-for-synonymous-variants-across-GATA2-regions-included-in-panel-3.21.0.1\"><span class=\"toc-item-num\">3.21.0.1&nbsp;&nbsp;</span>Mutation rate for synonymous variants across GATA2 regions included in panel</a></span></li><li><span><a href=\"#Mutation-rate-for-excluded-synonymous-GATA2-variants\" data-toc-modified-id=\"Mutation-rate-for-excluded-synonymous-GATA2-variants-3.21.0.2\"><span class=\"toc-item-num\">3.21.0.2&nbsp;&nbsp;</span>Mutation rate for excluded synonymous GATA2 variants</a></span></li><li><span><a href=\"#Total-synonymous-mutation-rate-for-GATA2\" data-toc-modified-id=\"Total-synonymous-mutation-rate-for-GATA2-3.21.0.3\"><span class=\"toc-item-num\">3.21.0.3&nbsp;&nbsp;</span>Total synonymous mutation rate for GATA2</a></span></li></ul></li></ul></li><li><span><a href=\"#GNAS-(exons-8-and-9)\" data-toc-modified-id=\"GNAS-(exons-8-and-9)-3.22\"><span class=\"toc-item-num\">3.22&nbsp;&nbsp;</span>GNAS (exons 8 and 9)</a></span></li><li><span><a href=\"#HRAS-(exons-2-and-3)\" data-toc-modified-id=\"HRAS-(exons-2-and-3)-3.23\"><span class=\"toc-item-num\">3.23&nbsp;&nbsp;</span>HRAS (exons 2 and 3)</a></span><ul class=\"toc-item\"><li><ul class=\"toc-item\"><li><span><a href=\"#Mutation-rate-for-synonymous-variants-across-HRAS-regions-included-in-panel\" data-toc-modified-id=\"Mutation-rate-for-synonymous-variants-across-HRAS-regions-included-in-panel-3.23.0.1\"><span class=\"toc-item-num\">3.23.0.1&nbsp;&nbsp;</span>Mutation rate for synonymous variants across HRAS regions included in panel</a></span></li><li><span><a href=\"#Mutation-rate-for-excluded-synonymous-HRAS-variants\" data-toc-modified-id=\"Mutation-rate-for-excluded-synonymous-HRAS-variants-3.23.0.2\"><span class=\"toc-item-num\">3.23.0.2&nbsp;&nbsp;</span>Mutation rate for excluded synonymous HRAS variants</a></span></li><li><span><a href=\"#Total-synonymous-mutation-rate-for-HRAS\" data-toc-modified-id=\"Total-synonymous-mutation-rate-for-HRAS-3.23.0.3\"><span class=\"toc-item-num\">3.23.0.3&nbsp;&nbsp;</span>Total synonymous mutation rate for HRAS</a></span></li></ul></li></ul></li><li><span><a href=\"#IDH1-(exon-4)\" data-toc-modified-id=\"IDH1-(exon-4)-3.24\"><span class=\"toc-item-num\">3.24&nbsp;&nbsp;</span>IDH1 (exon 4)</a></span><ul class=\"toc-item\"><li><ul class=\"toc-item\"><li><span><a href=\"#Mutation-rate-for-synonymous-variants-across-IDH1-regions-included-in-panel\" data-toc-modified-id=\"Mutation-rate-for-synonymous-variants-across-IDH1-regions-included-in-panel-3.24.0.1\"><span class=\"toc-item-num\">3.24.0.1&nbsp;&nbsp;</span>Mutation rate for synonymous variants across IDH1 regions included in panel</a></span></li><li><span><a href=\"#Mutation-rate-for-excluded-synonymous-IDH1-variants\" data-toc-modified-id=\"Mutation-rate-for-excluded-synonymous-IDH1-variants-3.24.0.2\"><span class=\"toc-item-num\">3.24.0.2&nbsp;&nbsp;</span>Mutation rate for excluded synonymous IDH1 variants</a></span></li><li><span><a href=\"#Total-synonymous-mutation-rate-for-IDH1\" data-toc-modified-id=\"Total-synonymous-mutation-rate-for-IDH1-3.24.0.3\"><span class=\"toc-item-num\">3.24.0.3&nbsp;&nbsp;</span>Total synonymous mutation rate for IDH1</a></span></li></ul></li></ul></li><li><span><a href=\"#IDH2-(exon-4)\" data-toc-modified-id=\"IDH2-(exon-4)-3.25\"><span class=\"toc-item-num\">3.25&nbsp;&nbsp;</span>IDH2 (exon 4)</a></span><ul class=\"toc-item\"><li><ul class=\"toc-item\"><li><span><a href=\"#Mutation-rate-for-synonymous-variants-across-IDH2-regions-included-in-panel\" data-toc-modified-id=\"Mutation-rate-for-synonymous-variants-across-IDH2-regions-included-in-panel-3.25.0.1\"><span class=\"toc-item-num\">3.25.0.1&nbsp;&nbsp;</span>Mutation rate for synonymous variants across IDH2 regions included in panel</a></span></li></ul></li></ul></li><li><span><a href=\"#IKZF1\" data-toc-modified-id=\"IKZF1-3.26\"><span class=\"toc-item-num\">3.26&nbsp;&nbsp;</span>IKZF1</a></span><ul class=\"toc-item\"><li><ul class=\"toc-item\"><li><span><a href=\"#Mutation-rate-for-synonymous-variants-across-IKZF1-regions-included-in-panel\" data-toc-modified-id=\"Mutation-rate-for-synonymous-variants-across-IKZF1-regions-included-in-panel-3.26.0.1\"><span class=\"toc-item-num\">3.26.0.1&nbsp;&nbsp;</span>Mutation rate for synonymous variants across IKZF1 regions included in panel</a></span></li><li><span><a href=\"#Mutation-rate-for-excluded-synonymous-IKZF1-variants\" data-toc-modified-id=\"Mutation-rate-for-excluded-synonymous-IKZF1-variants-3.26.0.2\"><span class=\"toc-item-num\">3.26.0.2&nbsp;&nbsp;</span>Mutation rate for excluded synonymous IKZF1 variants</a></span></li><li><span><a href=\"#Total-synonymous-mutation-rate-for-IKZF1\" data-toc-modified-id=\"Total-synonymous-mutation-rate-for-IKZF1-3.26.0.3\"><span class=\"toc-item-num\">3.26.0.3&nbsp;&nbsp;</span>Total synonymous mutation rate for IKZF1</a></span></li></ul></li></ul></li><li><span><a href=\"#JAK2\" data-toc-modified-id=\"JAK2-3.27\"><span class=\"toc-item-num\">3.27&nbsp;&nbsp;</span>JAK2</a></span><ul class=\"toc-item\"><li><ul class=\"toc-item\"><li><span><a href=\"#Mutation-rate-for-synonymous-variants-across-JAK2-regions-included-in-panel\" data-toc-modified-id=\"Mutation-rate-for-synonymous-variants-across-JAK2-regions-included-in-panel-3.27.0.1\"><span class=\"toc-item-num\">3.27.0.1&nbsp;&nbsp;</span>Mutation rate for synonymous variants across JAK2 regions included in panel</a></span></li></ul></li></ul></li><li><span><a href=\"#JAK3\" data-toc-modified-id=\"JAK3-3.28\"><span class=\"toc-item-num\">3.28&nbsp;&nbsp;</span>JAK3</a></span><ul class=\"toc-item\"><li><ul class=\"toc-item\"><li><span><a href=\"#Mutation-rate-for-synonymous-variants-across-JAK3-regions-included-in-panel\" data-toc-modified-id=\"Mutation-rate-for-synonymous-variants-across-JAK3-regions-included-in-panel-3.28.0.1\"><span class=\"toc-item-num\">3.28.0.1&nbsp;&nbsp;</span>Mutation rate for synonymous variants across JAK3 regions included in panel</a></span></li></ul></li></ul></li><li><span><a href=\"#KDM6A\" data-toc-modified-id=\"KDM6A-3.29\"><span class=\"toc-item-num\">3.29&nbsp;&nbsp;</span>KDM6A</a></span><ul class=\"toc-item\"><li><ul class=\"toc-item\"><li><span><a href=\"#Mutation-rate-for-synonymous-variants-across-KDM6A-regions-included-in-panel\" data-toc-modified-id=\"Mutation-rate-for-synonymous-variants-across-KDM6A-regions-included-in-panel-3.29.0.1\"><span class=\"toc-item-num\">3.29.0.1&nbsp;&nbsp;</span>Mutation rate for synonymous variants across KDM6A regions included in panel</a></span></li><li><span><a href=\"#Mutation-rate-for-excluded-synonymous-KDM6A-variants\" data-toc-modified-id=\"Mutation-rate-for-excluded-synonymous-KDM6A-variants-3.29.0.2\"><span class=\"toc-item-num\">3.29.0.2&nbsp;&nbsp;</span>Mutation rate for excluded synonymous KDM6A variants</a></span></li><li><span><a href=\"#Total-synonymous-mutation-rate-for-KDM6A\" data-toc-modified-id=\"Total-synonymous-mutation-rate-for-KDM6A-3.29.0.3\"><span class=\"toc-item-num\">3.29.0.3&nbsp;&nbsp;</span>Total synonymous mutation rate for KDM6A</a></span></li></ul></li></ul></li><li><span><a href=\"#KIT-(exons-2,-8-11,-13,-17)\" data-toc-modified-id=\"KIT-(exons-2,-8-11,-13,-17)-3.30\"><span class=\"toc-item-num\">3.30&nbsp;&nbsp;</span>KIT (exons 2, 8-11, 13, 17)</a></span><ul class=\"toc-item\"><li><ul class=\"toc-item\"><li><span><a href=\"#Mutation-rate-for-synonymous-variants-across-KIT-regions-included-in-panel\" data-toc-modified-id=\"Mutation-rate-for-synonymous-variants-across-KIT-regions-included-in-panel-3.30.0.1\"><span class=\"toc-item-num\">3.30.0.1&nbsp;&nbsp;</span>Mutation rate for synonymous variants across KIT regions included in panel</a></span></li><li><span><a href=\"#Mutation-rate-for-excluded-synonymous-KIT-variants\" data-toc-modified-id=\"Mutation-rate-for-excluded-synonymous-KIT-variants-3.30.0.2\"><span class=\"toc-item-num\">3.30.0.2&nbsp;&nbsp;</span>Mutation rate for excluded synonymous KIT variants</a></span></li><li><span><a href=\"#Total-synonymous-mutation-rate-for-KIT\" data-toc-modified-id=\"Total-synonymous-mutation-rate-for-KIT-3.30.0.3\"><span class=\"toc-item-num\">3.30.0.3&nbsp;&nbsp;</span>Total synonymous mutation rate for KIT</a></span></li></ul></li></ul></li><li><span><a href=\"#KRAS-(exons-2-and-3)\" data-toc-modified-id=\"KRAS-(exons-2-and-3)-3.31\"><span class=\"toc-item-num\">3.31&nbsp;&nbsp;</span>KRAS (exons 2 and 3)</a></span><ul class=\"toc-item\"><li><ul class=\"toc-item\"><li><span><a href=\"#Mutation-rate-for-synonymous-variants-across-KRAS-regions-included-in-panel\" data-toc-modified-id=\"Mutation-rate-for-synonymous-variants-across-KRAS-regions-included-in-panel-3.31.0.1\"><span class=\"toc-item-num\">3.31.0.1&nbsp;&nbsp;</span>Mutation rate for synonymous variants across KRAS regions included in panel</a></span></li></ul></li></ul></li><li><span><a href=\"#MLL-(exons-5-8)\" data-toc-modified-id=\"MLL-(exons-5-8)-3.32\"><span class=\"toc-item-num\">3.32&nbsp;&nbsp;</span>MLL (exons 5-8)</a></span><ul class=\"toc-item\"><li><ul class=\"toc-item\"><li><span><a href=\"#Mutation-rate-for-synonymous-variants-across-MLL-regions-included-in-panel\" data-toc-modified-id=\"Mutation-rate-for-synonymous-variants-across-MLL-regions-included-in-panel-3.32.0.1\"><span class=\"toc-item-num\">3.32.0.1&nbsp;&nbsp;</span>Mutation rate for synonymous variants across MLL regions included in panel</a></span></li></ul></li></ul></li><li><span><a href=\"#MPL-(exon-10)\" data-toc-modified-id=\"MPL-(exon-10)-3.33\"><span class=\"toc-item-num\">3.33&nbsp;&nbsp;</span>MPL (exon 10)</a></span><ul class=\"toc-item\"><li><ul class=\"toc-item\"><li><span><a href=\"#Mutation-rate-for-synonymous-variants-across-MPL-regions-included-in-panel\" data-toc-modified-id=\"Mutation-rate-for-synonymous-variants-across-MPL-regions-included-in-panel-3.33.0.1\"><span class=\"toc-item-num\">3.33.0.1&nbsp;&nbsp;</span>Mutation rate for synonymous variants across MPL regions included in panel</a></span></li></ul></li></ul></li><li><span><a href=\"#MYD88-(exons-3-5)\" data-toc-modified-id=\"MYD88-(exons-3-5)-3.34\"><span class=\"toc-item-num\">3.34&nbsp;&nbsp;</span>MYD88 (exons 3-5)</a></span><ul class=\"toc-item\"><li><ul class=\"toc-item\"><li><span><a href=\"#Mutation-rate-for-synonymous-variants-across-MYD88-regions-included-in-panel\" data-toc-modified-id=\"Mutation-rate-for-synonymous-variants-across-MYD88-regions-included-in-panel-3.34.0.1\"><span class=\"toc-item-num\">3.34.0.1&nbsp;&nbsp;</span>Mutation rate for synonymous variants across MYD88 regions included in panel</a></span></li></ul></li></ul></li><li><span><a href=\"#NOTCH1-(exons-26-28-and-34)\" data-toc-modified-id=\"NOTCH1-(exons-26-28-and-34)-3.35\"><span class=\"toc-item-num\">3.35&nbsp;&nbsp;</span>NOTCH1 (exons 26-28 and 34)</a></span><ul class=\"toc-item\"><li><ul class=\"toc-item\"><li><span><a href=\"#Mutation-rate-for-synonymous-variants-across-NOTCH1-regions-included-in-panel\" data-toc-modified-id=\"Mutation-rate-for-synonymous-variants-across-NOTCH1-regions-included-in-panel-3.35.0.1\"><span class=\"toc-item-num\">3.35.0.1&nbsp;&nbsp;</span>Mutation rate for synonymous variants across NOTCH1 regions included in panel</a></span></li><li><span><a href=\"#Mutation-rate-for-excluded-synonymous-NOTCH1-variants\" data-toc-modified-id=\"Mutation-rate-for-excluded-synonymous-NOTCH1-variants-3.35.0.2\"><span class=\"toc-item-num\">3.35.0.2&nbsp;&nbsp;</span>Mutation rate for excluded synonymous NOTCH1 variants</a></span></li><li><span><a href=\"#Total-synonymous-mutation-rate-for-NOTCH1\" data-toc-modified-id=\"Total-synonymous-mutation-rate-for-NOTCH1-3.35.0.3\"><span class=\"toc-item-num\">3.35.0.3&nbsp;&nbsp;</span>Total synonymous mutation rate for NOTCH1</a></span></li></ul></li></ul></li><li><span><a href=\"#NPM1-(exon-12)\" data-toc-modified-id=\"NPM1-(exon-12)-3.36\"><span class=\"toc-item-num\">3.36&nbsp;&nbsp;</span>NPM1 (exon 12)</a></span><ul class=\"toc-item\"><li><ul class=\"toc-item\"><li><span><a href=\"#Mutation-rate-for-synonymous-variants-across-NPM1-regions-included-in-panel\" data-toc-modified-id=\"Mutation-rate-for-synonymous-variants-across-NPM1-regions-included-in-panel-3.36.0.1\"><span class=\"toc-item-num\">3.36.0.1&nbsp;&nbsp;</span>Mutation rate for synonymous variants across NPM1 regions included in panel</a></span></li></ul></li></ul></li><li><span><a href=\"#NRAS-(exons-2-and-3)\" data-toc-modified-id=\"NRAS-(exons-2-and-3)-3.37\"><span class=\"toc-item-num\">3.37&nbsp;&nbsp;</span>NRAS (exons 2 and 3)</a></span><ul class=\"toc-item\"><li><ul class=\"toc-item\"><li><span><a href=\"#Mutation-rate-for-synonymous-variants-across-NRAS-regions-included-in-panel\" data-toc-modified-id=\"Mutation-rate-for-synonymous-variants-across-NRAS-regions-included-in-panel-3.37.0.1\"><span class=\"toc-item-num\">3.37.0.1&nbsp;&nbsp;</span>Mutation rate for synonymous variants across NRAS regions included in panel</a></span></li></ul></li></ul></li><li><span><a href=\"#PDGFRA-(exons-12,-14,-18)\" data-toc-modified-id=\"PDGFRA-(exons-12,-14,-18)-3.38\"><span class=\"toc-item-num\">3.38&nbsp;&nbsp;</span>PDGFRA (exons 12, 14, 18)</a></span><ul class=\"toc-item\"><li><ul class=\"toc-item\"><li><span><a href=\"#Mutation-rate-for-synonymous-variants-across-PDGFRA-regions-included-in-panel\" data-toc-modified-id=\"Mutation-rate-for-synonymous-variants-across-PDGFRA-regions-included-in-panel-3.38.0.1\"><span class=\"toc-item-num\">3.38.0.1&nbsp;&nbsp;</span>Mutation rate for synonymous variants across PDGFRA regions included in panel</a></span></li><li><span><a href=\"#Mutation-rate-for-excluded-synonymous-PDGFRA-variants\" data-toc-modified-id=\"Mutation-rate-for-excluded-synonymous-PDGFRA-variants-3.38.0.2\"><span class=\"toc-item-num\">3.38.0.2&nbsp;&nbsp;</span>Mutation rate for excluded synonymous PDGFRA variants</a></span></li><li><span><a href=\"#Total-synonymous-mutation-rate-for-PDGFRA\" data-toc-modified-id=\"Total-synonymous-mutation-rate-for-PDGFRA-3.38.0.3\"><span class=\"toc-item-num\">3.38.0.3&nbsp;&nbsp;</span>Total synonymous mutation rate for PDGFRA</a></span></li></ul></li></ul></li><li><span><a href=\"#PHF6\" data-toc-modified-id=\"PHF6-3.39\"><span class=\"toc-item-num\">3.39&nbsp;&nbsp;</span>PHF6</a></span><ul class=\"toc-item\"><li><ul class=\"toc-item\"><li><span><a href=\"#Mutation-rate-for-synonymous-variants-across-PHF6-regions-included-in-panel\" data-toc-modified-id=\"Mutation-rate-for-synonymous-variants-across-PHF6-regions-included-in-panel-3.39.0.1\"><span class=\"toc-item-num\">3.39.0.1&nbsp;&nbsp;</span>Mutation rate for synonymous variants across PHF6 regions included in panel</a></span></li></ul></li></ul></li><li><span><a href=\"#PTEN-(exons-5-and-7)\" data-toc-modified-id=\"PTEN-(exons-5-and-7)-3.40\"><span class=\"toc-item-num\">3.40&nbsp;&nbsp;</span>PTEN (exons 5 and 7)</a></span><ul class=\"toc-item\"><li><ul class=\"toc-item\"><li><span><a href=\"#Mutation-rate-for-synonymous-variants-across-PTEN-regions-included-in-panel\" data-toc-modified-id=\"Mutation-rate-for-synonymous-variants-across-PTEN-regions-included-in-panel-3.40.0.1\"><span class=\"toc-item-num\">3.40.0.1&nbsp;&nbsp;</span>Mutation rate for synonymous variants across PTEN regions included in panel</a></span></li></ul></li></ul></li><li><span><a href=\"#PTPN11-(exons-3-and-13)\" data-toc-modified-id=\"PTPN11-(exons-3-and-13)-3.41\"><span class=\"toc-item-num\">3.41&nbsp;&nbsp;</span>PTPN11 (exons 3 and 13)</a></span><ul class=\"toc-item\"><li><ul class=\"toc-item\"><li><span><a href=\"#Mutation-rate-for-synonymous-variants-across-PTPN11-regions-included-in-panel\" data-toc-modified-id=\"Mutation-rate-for-synonymous-variants-across-PTPN11-regions-included-in-panel-3.41.0.1\"><span class=\"toc-item-num\">3.41.0.1&nbsp;&nbsp;</span>Mutation rate for synonymous variants across PTPN11 regions included in panel</a></span></li><li><span><a href=\"#Mutation-rate-for-excluded-synonymous-PTPN11-variants\" data-toc-modified-id=\"Mutation-rate-for-excluded-synonymous-PTPN11-variants-3.41.0.2\"><span class=\"toc-item-num\">3.41.0.2&nbsp;&nbsp;</span>Mutation rate for excluded synonymous PTPN11 variants</a></span></li><li><span><a href=\"#Total-synonymous-mutation-rate-for-PTPN11\" data-toc-modified-id=\"Total-synonymous-mutation-rate-for-PTPN11-3.41.0.3\"><span class=\"toc-item-num\">3.41.0.3&nbsp;&nbsp;</span>Total synonymous mutation rate for PTPN11</a></span></li></ul></li></ul></li><li><span><a href=\"#RAD21\" data-toc-modified-id=\"RAD21-3.42\"><span class=\"toc-item-num\">3.42&nbsp;&nbsp;</span>RAD21</a></span><ul class=\"toc-item\"><li><ul class=\"toc-item\"><li><span><a href=\"#Mutation-rate-for-synonymous-variants-across-RAD21-regions-included-in-panel\" data-toc-modified-id=\"Mutation-rate-for-synonymous-variants-across-RAD21-regions-included-in-panel-3.42.0.1\"><span class=\"toc-item-num\">3.42.0.1&nbsp;&nbsp;</span>Mutation rate for synonymous variants across RAD21 regions included in panel</a></span></li><li><span><a href=\"#Mutation-rate-for-excluded-synonymous-RAD21-variants\" data-toc-modified-id=\"Mutation-rate-for-excluded-synonymous-RAD21-variants-3.42.0.2\"><span class=\"toc-item-num\">3.42.0.2&nbsp;&nbsp;</span>Mutation rate for excluded synonymous RAD21 variants</a></span></li><li><span><a href=\"#Total-synonymous-mutation-rate-for-RAD21\" data-toc-modified-id=\"Total-synonymous-mutation-rate-for-RAD21-3.42.0.3\"><span class=\"toc-item-num\">3.42.0.3&nbsp;&nbsp;</span>Total synonymous mutation rate for RAD21</a></span></li></ul></li></ul></li><li><span><a href=\"#RUNX1\" data-toc-modified-id=\"RUNX1-3.43\"><span class=\"toc-item-num\">3.43&nbsp;&nbsp;</span>RUNX1</a></span><ul class=\"toc-item\"><li><ul class=\"toc-item\"><li><span><a href=\"#Mutation-rate-for-synonymous-variants-across-RUNX1-regions-included-in-panel\" data-toc-modified-id=\"Mutation-rate-for-synonymous-variants-across-RUNX1-regions-included-in-panel-3.43.0.1\"><span class=\"toc-item-num\">3.43.0.1&nbsp;&nbsp;</span>Mutation rate for synonymous variants across RUNX1 regions included in panel</a></span></li><li><span><a href=\"#Mutation-rate-for-excluded-synonymous-RUNX1-variants\" data-toc-modified-id=\"Mutation-rate-for-excluded-synonymous-RUNX1-variants-3.43.0.2\"><span class=\"toc-item-num\">3.43.0.2&nbsp;&nbsp;</span>Mutation rate for excluded synonymous RUNX1 variants</a></span></li><li><span><a href=\"#Total-synonymous-mutation-rate-for-RUNX1\" data-toc-modified-id=\"Total-synonymous-mutation-rate-for-RUNX1-3.43.0.3\"><span class=\"toc-item-num\">3.43.0.3&nbsp;&nbsp;</span>Total synonymous mutation rate for RUNX1</a></span></li></ul></li></ul></li><li><span><a href=\"#SETBP1-(exon-4)\" data-toc-modified-id=\"SETBP1-(exon-4)-3.44\"><span class=\"toc-item-num\">3.44&nbsp;&nbsp;</span>SETBP1 (exon 4)</a></span><ul class=\"toc-item\"><li><ul class=\"toc-item\"><li><span><a href=\"#Mutation-rate-for-synonymous-variants-across-SETBP1-regions-included-in-panel\" data-toc-modified-id=\"Mutation-rate-for-synonymous-variants-across-SETBP1-regions-included-in-panel-3.44.0.1\"><span class=\"toc-item-num\">3.44.0.1&nbsp;&nbsp;</span>Mutation rate for synonymous variants across SETBP1 regions included in panel</a></span></li><li><span><a href=\"#Mutation-rate-for-excluded-synonymous-SETBP1-variants\" data-toc-modified-id=\"Mutation-rate-for-excluded-synonymous-SETBP1-variants-3.44.0.2\"><span class=\"toc-item-num\">3.44.0.2&nbsp;&nbsp;</span>Mutation rate for excluded synonymous SETBP1 variants</a></span></li><li><span><a href=\"#Total-synonymous-mutation-rate-for-SETBP1\" data-toc-modified-id=\"Total-synonymous-mutation-rate-for-SETBP1-3.44.0.3\"><span class=\"toc-item-num\">3.44.0.3&nbsp;&nbsp;</span>Total synonymous mutation rate for SETBP1</a></span></li></ul></li></ul></li><li><span><a href=\"#SF3B1-(exons-13-16)\" data-toc-modified-id=\"SF3B1-(exons-13-16)-3.45\"><span class=\"toc-item-num\">3.45&nbsp;&nbsp;</span>SF3B1 (exons 13-16)</a></span><ul class=\"toc-item\"><li><ul class=\"toc-item\"><li><span><a href=\"#Mutation-rate-for-synonymous-variants-across-SF3B1-regions-included-in-panel\" data-toc-modified-id=\"Mutation-rate-for-synonymous-variants-across-SF3B1-regions-included-in-panel-3.45.0.1\"><span class=\"toc-item-num\">3.45.0.1&nbsp;&nbsp;</span>Mutation rate for synonymous variants across SF3B1 regions included in panel</a></span></li><li><span><a href=\"#Mutation-rate-for-excluded-synonymous-SF3B1-variants\" data-toc-modified-id=\"Mutation-rate-for-excluded-synonymous-SF3B1-variants-3.45.0.2\"><span class=\"toc-item-num\">3.45.0.2&nbsp;&nbsp;</span>Mutation rate for excluded synonymous SF3B1 variants</a></span></li><li><span><a href=\"#Total-synonymous-mutation-rate-for-SF3B1\" data-toc-modified-id=\"Total-synonymous-mutation-rate-for-SF3B1-3.45.0.3\"><span class=\"toc-item-num\">3.45.0.3&nbsp;&nbsp;</span>Total synonymous mutation rate for SF3B1</a></span></li></ul></li></ul></li><li><span><a href=\"#SMC1A-(exons-2,-11,-16-and-17)\" data-toc-modified-id=\"SMC1A-(exons-2,-11,-16-and-17)-3.46\"><span class=\"toc-item-num\">3.46&nbsp;&nbsp;</span>SMC1A (exons 2, 11, 16 and 17)</a></span><ul class=\"toc-item\"><li><ul class=\"toc-item\"><li><span><a href=\"#Mutation-rate-for-synonymous-variants-across-SMC1A-regions-included-in-panel\" data-toc-modified-id=\"Mutation-rate-for-synonymous-variants-across-SMC1A-regions-included-in-panel-3.46.0.1\"><span class=\"toc-item-num\">3.46.0.1&nbsp;&nbsp;</span>Mutation rate for synonymous variants across SMC1A regions included in panel</a></span></li></ul></li></ul></li><li><span><a href=\"#SMC3-(exons-10,-13,-19,-23,-25-and-28)\" data-toc-modified-id=\"SMC3-(exons-10,-13,-19,-23,-25-and-28)-3.47\"><span class=\"toc-item-num\">3.47&nbsp;&nbsp;</span>SMC3 (exons 10, 13, 19, 23, 25 and 28)</a></span><ul class=\"toc-item\"><li><ul class=\"toc-item\"><li><span><a href=\"#Mutation-rate-for-synonymous-variants-across-SMC3-regions-included-in-panel\" data-toc-modified-id=\"Mutation-rate-for-synonymous-variants-across-SMC3-regions-included-in-panel-3.47.0.1\"><span class=\"toc-item-num\">3.47.0.1&nbsp;&nbsp;</span>Mutation rate for synonymous variants across SMC3 regions included in panel</a></span></li><li><span><a href=\"#Mutation-rate-for-excluded-synonymous-SMC3-variants\" data-toc-modified-id=\"Mutation-rate-for-excluded-synonymous-SMC3-variants-3.47.0.2\"><span class=\"toc-item-num\">3.47.0.2&nbsp;&nbsp;</span>Mutation rate for excluded synonymous SMC3 variants</a></span></li><li><span><a href=\"#Total-synonymous-mutation-rate-for-SMC3\" data-toc-modified-id=\"Total-synonymous-mutation-rate-for-SMC3-3.47.0.3\"><span class=\"toc-item-num\">3.47.0.3&nbsp;&nbsp;</span>Total synonymous mutation rate for SMC3</a></span></li></ul></li></ul></li><li><span><a href=\"#SRSF2-(exon-1)\" data-toc-modified-id=\"SRSF2-(exon-1)-3.48\"><span class=\"toc-item-num\">3.48&nbsp;&nbsp;</span>SRSF2 (exon 1)</a></span><ul class=\"toc-item\"><li><ul class=\"toc-item\"><li><span><a href=\"#Mutation-rate-for-synonymous-variants-across-SRSF2-regions-included-in-panel\" data-toc-modified-id=\"Mutation-rate-for-synonymous-variants-across-SRSF2-regions-included-in-panel-3.48.0.1\"><span class=\"toc-item-num\">3.48.0.1&nbsp;&nbsp;</span>Mutation rate for synonymous variants across SRSF2 regions included in panel</a></span></li><li><span><a href=\"#Mutation-rate-for-excluded-synonymous-SRSF2-variants\" data-toc-modified-id=\"Mutation-rate-for-excluded-synonymous-SRSF2-variants-3.48.0.2\"><span class=\"toc-item-num\">3.48.0.2&nbsp;&nbsp;</span>Mutation rate for excluded synonymous SRSF2 variants</a></span></li><li><span><a href=\"#Total-synonymous-mutation-rate-for-SRSF2\" data-toc-modified-id=\"Total-synonymous-mutation-rate-for-SRSF2-3.48.0.3\"><span class=\"toc-item-num\">3.48.0.3&nbsp;&nbsp;</span>Total synonymous mutation rate for SRSF2</a></span></li></ul></li></ul></li><li><span><a href=\"#STAG2\" data-toc-modified-id=\"STAG2-3.49\"><span class=\"toc-item-num\">3.49&nbsp;&nbsp;</span>STAG2</a></span><ul class=\"toc-item\"><li><ul class=\"toc-item\"><li><span><a href=\"#Mutation-rate-for-synonymous-variants-across-STAG2-regions-included-in-panel\" data-toc-modified-id=\"Mutation-rate-for-synonymous-variants-across-STAG2-regions-included-in-panel-3.49.0.1\"><span class=\"toc-item-num\">3.49.0.1&nbsp;&nbsp;</span>Mutation rate for synonymous variants across STAG2 regions included in panel</a></span></li><li><span><a href=\"#Mutation-rate-for-excluded-synonymous-STAG2-variants\" data-toc-modified-id=\"Mutation-rate-for-excluded-synonymous-STAG2-variants-3.49.0.2\"><span class=\"toc-item-num\">3.49.0.2&nbsp;&nbsp;</span>Mutation rate for excluded synonymous STAG2 variants</a></span></li><li><span><a href=\"#Total-synonymous-mutation-rate-for-STAG2\" data-toc-modified-id=\"Total-synonymous-mutation-rate-for-STAG2-3.49.0.3\"><span class=\"toc-item-num\">3.49.0.3&nbsp;&nbsp;</span>Total synonymous mutation rate for STAG2</a></span></li></ul></li></ul></li><li><span><a href=\"#TET2\" data-toc-modified-id=\"TET2-3.50\"><span class=\"toc-item-num\">3.50&nbsp;&nbsp;</span>TET2</a></span><ul class=\"toc-item\"><li><ul class=\"toc-item\"><li><span><a href=\"#Mutation-rate-for-synonymous-variants-across-TET2-regions-included-in-panel\" data-toc-modified-id=\"Mutation-rate-for-synonymous-variants-across-TET2-regions-included-in-panel-3.50.0.1\"><span class=\"toc-item-num\">3.50.0.1&nbsp;&nbsp;</span>Mutation rate for synonymous variants across TET2 regions included in panel</a></span></li><li><span><a href=\"#Mutation-rate-for-excluded-synonymous-TET2-variants\" data-toc-modified-id=\"Mutation-rate-for-excluded-synonymous-TET2-variants-3.50.0.2\"><span class=\"toc-item-num\">3.50.0.2&nbsp;&nbsp;</span>Mutation rate for excluded synonymous TET2 variants</a></span></li><li><span><a href=\"#Total-synonymous-mutation-rate-for-TET2\" data-toc-modified-id=\"Total-synonymous-mutation-rate-for-TET2-3.50.0.3\"><span class=\"toc-item-num\">3.50.0.3&nbsp;&nbsp;</span>Total synonymous mutation rate for TET2</a></span></li></ul></li></ul></li><li><span><a href=\"#TP53\" data-toc-modified-id=\"TP53-3.51\"><span class=\"toc-item-num\">3.51&nbsp;&nbsp;</span>TP53</a></span><ul class=\"toc-item\"><li><ul class=\"toc-item\"><li><span><a href=\"#Mutation-rate-for-synonymous-variants-across-TP53-regions-included-in-panel\" data-toc-modified-id=\"Mutation-rate-for-synonymous-variants-across-TP53-regions-included-in-panel-3.51.0.1\"><span class=\"toc-item-num\">3.51.0.1&nbsp;&nbsp;</span>Mutation rate for synonymous variants across TP53 regions included in panel</a></span></li></ul></li></ul></li><li><span><a href=\"#U2AF1-(exons-2-and-6)\" data-toc-modified-id=\"U2AF1-(exons-2-and-6)-3.52\"><span class=\"toc-item-num\">3.52&nbsp;&nbsp;</span>U2AF1 (exons 2 and 6)</a></span><ul class=\"toc-item\"><li><ul class=\"toc-item\"><li><span><a href=\"#Mutation-rate-for-synonymous-variants-across-U2AF1-regions-included-in-panel\" data-toc-modified-id=\"Mutation-rate-for-synonymous-variants-across-U2AF1-regions-included-in-panel-3.52.0.1\"><span class=\"toc-item-num\">3.52.0.1&nbsp;&nbsp;</span>Mutation rate for synonymous variants across U2AF1 regions included in panel</a></span></li><li><span><a href=\"#Mutation-rate-for-excluded-synonymous-U2AF1-variants\" data-toc-modified-id=\"Mutation-rate-for-excluded-synonymous-U2AF1-variants-3.52.0.2\"><span class=\"toc-item-num\">3.52.0.2&nbsp;&nbsp;</span>Mutation rate for excluded synonymous U2AF1 variants</a></span></li><li><span><a href=\"#Total-synonymous-mutation-rate-for-U2AF1\" data-toc-modified-id=\"Total-synonymous-mutation-rate-for-U2AF1-3.52.0.3\"><span class=\"toc-item-num\">3.52.0.3&nbsp;&nbsp;</span>Total synonymous mutation rate for U2AF1</a></span></li></ul></li></ul></li><li><span><a href=\"#WT1-(exons-7-and-9)\" data-toc-modified-id=\"WT1-(exons-7-and-9)-3.53\"><span class=\"toc-item-num\">3.53&nbsp;&nbsp;</span>WT1 (exons 7 and 9)</a></span><ul class=\"toc-item\"><li><ul class=\"toc-item\"><li><span><a href=\"#Mutation-rate-for-synonymous-variants-across-WT1-regions-included-in-panel\" data-toc-modified-id=\"Mutation-rate-for-synonymous-variants-across-WT1-regions-included-in-panel-3.53.0.1\"><span class=\"toc-item-num\">3.53.0.1&nbsp;&nbsp;</span>Mutation rate for synonymous variants across WT1 regions included in panel</a></span></li><li><span><a href=\"#Mutation-rate-for-excluded-synonymous-WT1-variants\" data-toc-modified-id=\"Mutation-rate-for-excluded-synonymous-WT1-variants-3.53.0.2\"><span class=\"toc-item-num\">3.53.0.2&nbsp;&nbsp;</span>Mutation rate for excluded synonymous WT1 variants</a></span></li><li><span><a href=\"#Total-synonymous-mutation-rate-for-WT1\" data-toc-modified-id=\"Total-synonymous-mutation-rate-for-WT1-3.53.0.3\"><span class=\"toc-item-num\">3.53.0.3&nbsp;&nbsp;</span>Total synonymous mutation rate for WT1</a></span></li></ul></li></ul></li><li><span><a href=\"#ZRSR2\" data-toc-modified-id=\"ZRSR2-3.54\"><span class=\"toc-item-num\">3.54&nbsp;&nbsp;</span>ZRSR2</a></span><ul class=\"toc-item\"><li><ul class=\"toc-item\"><li><span><a href=\"#Mutation-rate-for-synonymous-variants-across-ZRSR2-regions-included-in-panel\" data-toc-modified-id=\"Mutation-rate-for-synonymous-variants-across-ZRSR2-regions-included-in-panel-3.54.0.1\"><span class=\"toc-item-num\">3.54.0.1&nbsp;&nbsp;</span>Mutation rate for synonymous variants across ZRSR2 regions included in panel</a></span></li><li><span><a href=\"#Mutation-rate-for-excluded-synonymous-ZRSR2-variants\" data-toc-modified-id=\"Mutation-rate-for-excluded-synonymous-ZRSR2-variants-3.54.0.2\"><span class=\"toc-item-num\">3.54.0.2&nbsp;&nbsp;</span>Mutation rate for excluded synonymous ZRSR2 variants</a></span></li><li><span><a href=\"#Total-synonymous-mutation-rate-for-ZRSR2\" data-toc-modified-id=\"Total-synonymous-mutation-rate-for-ZRSR2-3.54.0.3\"><span class=\"toc-item-num\">3.54.0.3&nbsp;&nbsp;</span>Total synonymous mutation rate for ZRSR2</a></span></li></ul></li></ul></li></ul></li><li><span><a href=\"#All-panel-mutation-rates-summed\" data-toc-modified-id=\"All-panel-mutation-rates-summed-4\"><span class=\"toc-item-num\">4&nbsp;&nbsp;</span>All panel mutation rates summed</a></span></li></ul></div>"
   ]
  },
  {
   "cell_type": "markdown",
   "metadata": {},
   "source": [
    "# Python Setup"
   ]
  },
  {
   "cell_type": "markdown",
   "metadata": {},
   "source": [
    "## Change the width of the page"
   ]
  },
  {
   "cell_type": "code",
   "execution_count": 1,
   "metadata": {},
   "outputs": [
    {
     "data": {
      "text/html": [
       "<style>.container { width:80% !important; }</style>"
      ],
      "text/plain": [
       "<IPython.core.display.HTML object>"
      ]
     },
     "metadata": {},
     "output_type": "display_data"
    }
   ],
   "source": [
    "from IPython.core.display import display, HTML\n",
    "display(HTML(\"<style>.container { width:80% !important; }</style>\"))"
   ]
  },
  {
   "cell_type": "markdown",
   "metadata": {},
   "source": [
    "## Import packages"
   ]
  },
  {
   "cell_type": "code",
   "execution_count": 2,
   "metadata": {
    "code_folding": []
   },
   "outputs": [
    {
     "name": "stderr",
     "output_type": "stream",
     "text": [
      "/anaconda3/lib/python3.7/site-packages/Bio/codonalign/__init__.py:27: BiopythonExperimentalWarning: Bio.codonalign is an experimental module which may undergo significant changes prior to its future official release.\n",
      "  BiopythonExperimentalWarning)\n"
     ]
    }
   ],
   "source": [
    "# imported packages - STANDARD\n",
    "%matplotlib inline\n",
    "import random\n",
    "import numpy as np\n",
    "import matplotlib\n",
    "import matplotlib.pyplot as plt\n",
    "import math\n",
    "import matplotlib.ticker as plticker\n",
    "import collections\n",
    "from matplotlib.ticker import LinearLocator, FormatStrFormatter\n",
    "from matplotlib.patches import Polygon\n",
    "from matplotlib.patches import Patch\n",
    "from matplotlib.lines import Line2D\n",
    "from matplotlib import cm\n",
    "from mpl_toolkits.mplot3d import Axes3D\n",
    "import scipy.special\n",
    "import scipy.integrate as it\n",
    "from scipy import integrate\n",
    "import copy\n",
    "import glob, os\n",
    "import re\n",
    "from sklearn import datasets, linear_model\n",
    "import pandas as pd\n",
    "from decimal import *\n",
    "from operator import itemgetter    \n",
    "from collections import OrderedDict\n",
    "from matplotlib.ticker import (MultipleLocator, FormatStrFormatter, AutoMinorLocator)\n",
    "\n",
    "from Bio.Alphabet import IUPAC\n",
    "from Bio.Seq import Seq\n",
    "from Bio.SeqRecord import SeqRecord\n",
    "from Bio.Align import MultipleSeqAlignment\n",
    "from Bio.Alphabet import generic_dna, _ungap\n",
    "from Bio.codonalign.codonalphabet import CodonAlphabet, default_codon_alphabet, default_codon_table \n",
    "from itertools import permutations \n",
    "from math import log \n",
    "\n",
    "from Bio import Entrez"
   ]
  },
  {
   "cell_type": "markdown",
   "metadata": {},
   "source": [
    "## Genetic Code"
   ]
  },
  {
   "cell_type": "code",
   "execution_count": 3,
   "metadata": {
    "code_folding": [
     8
    ]
   },
   "outputs": [],
   "source": [
    "# Amino Acid Code:\n",
    "\n",
    "Amino_acid_abbreviations = {'Ala': 'A', 'Arg': 'R', 'Asn': 'N', 'Asp': 'D',\\\n",
    "                           'Cys': 'C', 'Glu': 'E', 'Gln': 'Q', 'Gly': 'G',\\\n",
    "                           'His': 'H', 'Ile': 'I', 'Leu': 'L', 'Lys': 'K',\\\n",
    "                           'Met': 'M', 'Phe': 'F', 'Pro': 'P', 'Ser': 'S',\\\n",
    "                           'Thr': 'T', 'Trp': 'W', 'Tyr': 'Y', 'Val': 'V'}\n",
    "\n",
    "Genetic_Code = {'TTT': 'Phe', 'TTC': 'Phe', 'TTA': 'Leu', 'TTG': 'Leu',\\\n",
    "               'TCT': 'Ser', 'TCC': 'Ser', 'TCA': 'Ser', 'TCG': 'Ser',\\\n",
    "               'TAT': 'Tyr', 'TAC': 'Tyr', 'TAA': '*', 'TAG': '*',\\\n",
    "               'TGT': 'Cys', 'TGC': 'Cys', 'TGA': '*', 'TGG': 'Trp',\\\n",
    "               'CTT': 'Leu', 'CTC': 'Leu', 'CTA': 'Leu', 'CTG': 'Leu',\\\n",
    "               'CCT': 'Pro', 'CCC': 'Pro', 'CCA': 'Pro', 'CCG': 'Pro',\\\n",
    "               'CAT': 'His', 'CAC': 'His', 'CAA': 'Gln', 'CAG': 'Gln',\\\n",
    "               'CGT': 'Arg', 'CGC': 'Arg', 'CGA': 'Arg', 'CGG': 'Arg',\\\n",
    "               'ATT': 'Ile', 'ATC': 'Ile', 'ATA': 'Ile', 'ATG': 'Met',\\\n",
    "               'ACT': 'Thr', 'ACC': 'Thr', 'ACA': 'Thr', 'ACG': 'Thr',\\\n",
    "               'AAT': 'Asn', 'AAC': 'Asn', 'AAA': 'Lys', 'AAG': 'Lys',\\\n",
    "               'AGT': 'Ser', 'AGC': 'Ser', 'AGA': 'Arg', 'AGG': 'Arg',\\\n",
    "               'GTT': 'Val', 'GTC': 'Val', 'GTA': 'Val', 'GTG': 'Val',\\\n",
    "               'GCT': 'Ala', 'GCC': 'Ala', 'GCA': 'Ala', 'GCG': 'Ala',\\\n",
    "               'GAT': 'Asp', 'GAC': 'Asp', 'GAA': 'Glu', 'GAG': 'Glu',\\\n",
    "               'GGT': 'Gly', 'GGC': 'Gly', 'GGA': 'Gly', 'GGG': 'Gly'}\n",
    "\n",
    "Possible_Amino_Acid_Changes = {'TTT': ('Ill', 'Leu', 'Val', 'Tyr', 'Ser', 'Cys', 'Leu', 'Phe', 'Leu'),\\\n",
    "                          'TTC': ('Ile', 'Leu', 'Val', 'Tyr', 'Ser', 'Cys', 'Leu', 'Phe', 'Leu'),\\\n",
    "                          'TTA': ('Ile', 'Leu', 'Val', '*', 'Ser', '*', 'Phe', 'Leu', 'Phe'),\\\n",
    "                          'TTG': ('Met', 'Leu', 'Val', '*', 'Ser', 'Val', 'Leu', 'Phe', 'Phe'),\\\n",
    "                          'TCT': ('Thr', 'Pro', 'Ala', 'Tyr', 'Phe', 'Cys', 'Ser', 'Ser', 'Ser'),\\\n",
    "                          'TCC': ('Thr', 'Pro', 'Ala', 'Tyr', 'Phe', 'Cys', 'Ser', 'Ser', 'Ser'),\\\n",
    "                          'TCA': ('Thr', 'Pro', 'Ala', '*', 'Leu', '*', 'Ser', 'Ser', 'Ser'),\\\n",
    "                          'TCG': ('Thr', 'Pro', 'Ala', '*', 'Leu', 'Trp', 'Ser', 'Ser', 'Ser'),\\\n",
    "                          'TAT': ('Ile', 'His', 'Asp', 'Ser', 'Phe', 'Cys', '*', 'Tyr', '*'),\\\n",
    "                          'TAC': ('Asn', 'His', 'Asp', 'Ser', 'Phe', 'Cys', '*', 'Tyr', '*'),\\\n",
    "                          'TAA': ('Lys', 'Gln', 'Glu', 'Ser', 'Leu', '*', 'Tyr', '*', 'Tyr'),\\\n",
    "                          'TAG': ('Lys', 'Gln', 'Glu', 'Ser', 'Leu', 'Trp', 'Tyr', '*', 'Tyr'),\\\n",
    "                          'TGT': ('Ser', 'Arg', 'Gly', 'Tyr', 'Ser', 'Phe', '*', 'Cys', 'Trp'),\\\n",
    "                          'TGC': ('Ser', 'Arg', 'Gly', 'Tyr', 'Ser', 'Phe', '*', 'Cys', 'Trp'),\\\n",
    "                          'TGA': ('Arg', 'Arg', 'Gly', '*', 'Ser', 'Leu', 'Cys', 'Trp', 'Cys'),\\\n",
    "                          'TGG': ('Arg', 'Arg', 'Gly', '*', 'Ser', 'Leu', '*', 'Cys', 'Cys'),\\\n",
    "                          'CTT': ('Ile', 'Phe', 'Val', 'His', 'Pro', 'Arg', 'Leu', 'Leu', 'Leu'),\\\n",
    "                          'CTC': ('Ile', 'Phe', 'Val', 'His', 'Pro', 'Arg', 'Leu', 'Leu', 'Leu'),\\\n",
    "                          'CTA': ('Ile', 'Leu', 'Val', 'Gln', 'Pro', 'Arg', 'Leu', 'Leu', 'Leu'),\\\n",
    "                          'CTG': ('Met', 'Leu', 'Val', 'Gln', 'Pro', 'Arg', 'Leu', 'Leu', 'Leu'),\\\n",
    "                          'CCT': ('Thr', 'Ser', 'Ala', 'His', 'Leu', 'Arg', 'Pro', 'Pro', 'Pro'),\\\n",
    "                          'CCC': ('Thr', 'Ser', 'Ala', 'His', 'Leu', 'Arg', 'Pro', 'Pro', 'Pro'),\\\n",
    "                          'CCA': ('Thr', 'Ser', 'Ala', 'Gln', 'Leu', 'Arg', 'Pro', 'Pro', 'Pro'),\\\n",
    "                          'CCG': ('Thr', 'Ser', 'Ala', 'Gln', 'Leu', 'Arg', 'Pro', 'Pro', 'Pro'),\\\n",
    "                          'CAT': ('Asn', 'Tyr', 'Asp', 'Pro', 'Leu', 'Arg', 'Gln', 'His', 'Gln'),\\\n",
    "                          'CAC': ('Asn', 'Tyr', 'Asp', 'Pro', 'Leu', 'Arg', 'Gln', 'His', 'Gln'),\\\n",
    "                          'CAA': ('Lys', '*', 'Glu', 'Pro', 'Leu', 'Arg', 'His', 'Gln', 'His'),\\\n",
    "                          'CAG': ('Lys', '*', 'Glu', 'Pro', 'Leu', 'Arg', 'His', 'Gln', 'His'),\\\n",
    "                          'CGT': ('Ser', 'Cys', 'Gly', 'His', 'Pro', 'Leu', 'Arg', 'Arg', 'Arg'),\\\n",
    "                          'CGC': ('Ser', 'Cys', 'Gly', 'His', 'Pro', 'Leu', 'Arg', 'Arg', 'Arg'),\\\n",
    "                          'CGA': ('Arg', '*', 'Gly', 'Gln', 'Pro', 'Leu', 'Arg', 'Arg', 'Arg'),\\\n",
    "                          'CGG': ('Arg', 'Trp', 'Gly', 'Gln', 'Pro', 'Leu', 'Arg', 'Arg', 'Arg'),\\\n",
    "                               'ATT': ('Leu', 'Phe', 'Val', 'Asn', 'Thr', 'Ser', 'Ile', 'Ile', 'Met'),\\\n",
    "                              'ATC': ('Leu', 'Phe', 'Val', 'Asn', 'Thr', 'Ser', 'Ile', 'Ile', 'Met'),\\\n",
    "                              'ATA': ('Leu', 'Leu', 'Val', 'Lys', 'Thr', 'Arg', 'Ile', 'Met', 'Ile'),\\\n",
    "                              'ATG': ('Leu', 'Leu', 'Val', 'Lys', 'Thr', 'Arg', 'Ile', 'Ile', 'Ile'),\\\n",
    "                              'ACT': ('Pro', 'Ser', 'Ala', 'Asn', 'Ile', 'Ser', 'Thr', 'Thr', 'Thr'),\\\n",
    "                              'ACC': ('Pro', 'Ser', 'Ala', 'Asn', 'Ile', 'Ser', 'Thr', 'Thr', 'Thr'),\\\n",
    "                              'ACA': ('Pro', 'Ser', 'Ala', 'Lys', 'Ile', 'Arg', 'Thr', 'Thr', 'Thr'),\\\n",
    "                              'ACG': ('Pro', 'Ser', 'Ala', 'Lys', 'Met', 'Arg', 'Thr', 'Thr', 'Thr'),\\\n",
    "                              'AAT': ('His', 'Tyr', 'Asp', 'Thr', 'Ile', 'Ser', 'Lys', 'Asn', 'Lys'),\\\n",
    "                              'AAC': ('His', 'Tyr', 'Asp', 'Thr', 'Ile', 'Ser', 'Lys', 'Asn', 'Lys'),\\\n",
    "                              'AAA': ('Gln', '*', 'Glu', 'Thr', 'Ile', 'Arg', 'Asn', 'Lys', 'Asn'),\\\n",
    "                              'AAG': ('Gln', '*', 'Glu', 'Thr', 'Met', 'Arg', 'Asn', 'Lys', 'Asn'),\\\n",
    "                              'AGT': ('Arg', 'Cys', 'Gly', 'Asn', 'Thr', 'Ile', 'Arg', 'Ser', 'Arg'),\\\n",
    "                              'AGC': ('Arg', 'Cys', 'Gly', 'Asn', 'Thr', 'Ile', 'Arg', 'Ser', 'Arg'),\\\n",
    "                              'AGA': ('Arg', '*', 'Gly', 'Lys', 'Thr', 'Ile', 'Ser', 'Arg', 'Ser'),\\\n",
    "                              'AGG': ('Arg', 'Trp', 'Gly', 'Lys', 'Thr', 'Met', 'Arg', 'Ser', 'Ser'),\\\n",
    "                              'GTT': ('Ile', 'Leu', 'Phe', 'Asp', 'Ala', 'Gly', 'Val', 'Val', 'Val'),\\\n",
    "                              'GTC': ('Ile', 'Leu', 'Phe', 'Asp', 'Ala', 'Gly', 'Val', 'Val', 'Val'),\\\n",
    "                              'GTA': ('Ile', 'Leu', 'Leu', 'Glu', 'Ala', 'Gly', 'Val', 'Val', 'Val'),\\\n",
    "                              'GTG': ('Met', 'Leu', 'Leu', 'Glu', 'Ala', 'Gly', 'Val', 'Val', 'Val'),\\\n",
    "                              'GCT': ('Thr', 'Pro', 'Ser', 'Asp', 'Val', 'Gly', 'Ala', 'Ala', 'Ala'),\\\n",
    "                              'GCC': ('Thr', 'Pro', 'Ser', 'Asp', 'Val', 'Gly', 'Ala', 'Ala', 'Ala'),\\\n",
    "                              'GCA': ('Thr', 'Pro', 'Ser', 'Glu', 'Val', 'Gly', 'Ala', 'Ala', 'Ala'),\\\n",
    "                              'GCG': ('Thr', 'Pro', 'Ser', 'Glu', 'Val', 'Gly', 'Ala', 'Ala', 'Ala'),\\\n",
    "                              'GAT': ('Asn', 'His', 'Tyr', 'Ala', 'Val', 'Gly', 'Glu', 'Asp', 'Glu'),\\\n",
    "                              'GAC': ('Asn', 'His', 'Tyr', 'Ala', 'Val', 'Gly', 'Glu', 'Asp', 'Glu'),\\\n",
    "                              'GAA': ('Lys', 'Gln', '*', 'Ala', 'Val', 'Gly', 'Asp', 'Glu', 'Asp'),\\\n",
    "                              'GAG': ('Lys', 'Gln', '*', 'Ala', 'Val','Gly', 'Asp', 'Glu', 'Asp'),\\\n",
    "                              'GGT': ('Ser', 'Arg', 'Cys', 'Asp', 'Ala', 'Val', 'Gly','Gly', 'Gly'),\\\n",
    "                              'GGC': ('Ser', 'Arg', 'Cys', 'Asp', 'Ala', 'Val', 'Gly', 'Gly', 'Gly'),\\\n",
    "                              'GGA': ('Arg', 'Arg', '*', 'Glu', 'Ala', 'Val', 'Gly', 'Gly', 'Gly'),\\\n",
    "                              'GGG': ('Arg', 'Arg', 'Trp', 'Glu', 'Ala', 'Val', 'Gly', 'Gly', 'Gly')}\n",
    "\n",
    "Possible_Amino_Acid_Changes_letters = {'TTT': ('I', 'L', 'V', 'Y', 'S', 'C', 'L', 'F', 'L'),\\\n",
    "                          'TTC': ('I', 'L', 'V', 'Y', 'S', 'C', 'L', 'F', 'L'),\\\n",
    "                          'TTA': ('I', 'L', 'V', '*', 'S', '*', 'F', 'L', 'F'),\\\n",
    "                          'TTG': ('M', 'L', 'V', '*', 'S', 'V', 'L', 'F', 'F'),\\\n",
    "                          'TCT': ('T', 'P', 'A', 'Y', 'F', 'C', 'S', 'S', 'S'),\\\n",
    "                          'TCC': ('T', 'P', 'A', 'Y', 'F', 'C', 'S', 'S', 'S'),\\\n",
    "                          'TCA': ('T', 'P', 'A', '*', 'L', '*', 'S', 'S', 'S'),\\\n",
    "                          'TCG': ('T', 'P', 'A', '*', 'L', 'W', 'S', 'S', 'S'),\\\n",
    "                          'TAT': ('I', 'H', 'D', 'S', 'F', 'C', '*', 'Y', '*'),\\\n",
    "                          'TAC': ('N', 'H', 'D', 'S', 'F', 'C', '*', 'Y', '*'),\\\n",
    "                          'TAA': ('K', 'Q', 'E', 'S', 'L', '*', 'Y', '*', 'Y'),\\\n",
    "                          'TAG': ('K', 'Q', 'E', 'S', 'L', 'W', 'Y', '*', 'Y'),\\\n",
    "                          'TGT': ('S', 'R', 'G', 'Y', 'S', 'F', '*', 'C', 'W'),\\\n",
    "                          'TGC': ('S', 'R', 'G', 'Y', 'S', 'F', '*', 'C', 'W'),\\\n",
    "                          'TGA': ('R', 'R', 'G', '*', 'S', 'L', 'C', 'W', 'C'),\\\n",
    "                          'TGG': ('R', 'R', 'G', '*', 'S', 'L', '*', 'C', 'C'),\\\n",
    "                          'CTT': ('I', 'F', 'V', 'H', 'P', 'R', 'L', 'L', 'L'),\\\n",
    "                          'CTC': ('I', 'F', 'V', 'H', 'P', 'R', 'L', 'L', 'L'),\\\n",
    "                          'CTA': ('I', 'L', 'V', 'Q', 'P', 'R', 'L', 'L', 'L'),\\\n",
    "                          'CTG': ('M', 'L', 'V', 'Q', 'P', 'R', 'L', 'L', 'L'),\\\n",
    "                          'CCT': ('T', 'S', 'A', 'H', 'L', 'R', 'P', 'P', 'P'),\\\n",
    "                          'CCC': ('T', 'S', 'A', 'H', 'L', 'R', 'P', 'P', 'P'),\\\n",
    "                          'CCA': ('T', 'S', 'A', 'Q', 'L', 'R', 'P', 'P', 'P'),\\\n",
    "                          'CCG': ('T', 'S', 'A', 'Q', 'L', 'R', 'P', 'P', 'P'),\\\n",
    "                          'CAT': ('N', 'Y', 'D', 'P', 'L', 'R', 'Q', 'H', 'Q'),\\\n",
    "                          'CAC': ('N', 'Y', 'D', 'P', 'L', 'R', 'Q', 'H', 'Q'),\\\n",
    "                          'CAA': ('K', '*', 'E', 'P', 'L', 'R', 'H', 'Q', 'H'),\\\n",
    "                          'CAG': ('K', '*', 'E', 'P', 'L', 'R', 'H', 'Q', 'H'),\\\n",
    "                          'CGT': ('S', 'C', 'G', 'H', 'P', 'L', 'R', 'R', 'R'),\\\n",
    "                          'CGC': ('S', 'C', 'G', 'H', 'P', 'L', 'R', 'R', 'R'),\\\n",
    "                          'CGA': ('R', '*', 'G', 'Q', 'P', 'L', 'R', 'R', 'R'),\\\n",
    "                          'CGG': ('R', 'W', 'G', 'Q', 'P', 'L', 'R', 'R', 'R'),\\\n",
    "                               'ATT': ('L', 'F', 'V', 'N', 'T', 'S', 'I', 'I', 'M'),\\\n",
    "                              'ATC': ('L', 'F', 'V', 'N', 'T', 'S', 'I', 'I', 'M'),\\\n",
    "                              'ATA': ('L', 'L', 'V', 'K', 'T', 'R', 'I', 'M', 'I'),\\\n",
    "                              'ATG': ('L', 'L', 'V', 'K', 'T', 'R', 'I', 'I', 'I'),\\\n",
    "                              'ACT': ('P', 'S', 'A', 'N', 'I', 'S', 'T', 'T', 'T'),\\\n",
    "                              'ACC': ('P', 'S', 'A', 'N', 'I', 'S', 'T', 'T', 'T'),\\\n",
    "                              'ACA': ('P', 'S', 'A', 'K', 'I', 'R', 'T', 'T', 'T'),\\\n",
    "                              'ACG': ('P', 'S', 'A', 'K', 'M', 'R', 'T', 'T', 'T'),\\\n",
    "                              'AAT': ('H', 'Y', 'D', 'T', 'I', 'S', 'K', 'N', 'K'),\\\n",
    "                              'AAC': ('H', 'Y', 'D', 'T', 'I', 'S', 'K', 'N', 'K'),\\\n",
    "                              'AAA': ('Q', '*', 'E', 'T', 'I', 'R', 'N', 'K', 'N'),\\\n",
    "                              'AAG': ('Q', '*', 'E', 'T', 'M', 'R', 'N', 'K', 'N'),\\\n",
    "                              'AGT': ('R', 'C', 'G', 'N', 'T', 'I', 'R', 'S', 'R'),\\\n",
    "                              'AGC': ('R', 'C', 'G', 'N', 'T', 'I', 'R', 'S', 'R'),\\\n",
    "                              'AGA': ('R', '*', 'G', 'K', 'T', 'I', 'S', 'R', 'S'),\\\n",
    "                              'AGG': ('R', 'W', 'G', 'K', 'T', 'M', 'R', 'S', 'S'),\\\n",
    "                              'GTT': ('I', 'L', 'F', 'D', 'A', 'G', 'V', 'V', 'V'),\\\n",
    "                              'GTC': ('I', 'L', 'F', 'D', 'A', 'G', 'V', 'V', 'V'),\\\n",
    "                              'GTA': ('I', 'L', 'L', 'E', 'A', 'G', 'V', 'V', 'V'),\\\n",
    "                              'GTG': ('M', 'L', 'L', 'E', 'A', 'G', 'V', 'V', 'V'),\\\n",
    "                              'GCT': ('T', 'P', 'S', 'D', 'V', 'G', 'A', 'A', 'A'),\\\n",
    "                              'GCC': ('T', 'P', 'S', 'D', 'V', 'G', 'A', 'A', 'A'),\\\n",
    "                              'GCA': ('T', 'P', 'S', 'E', 'V', 'G', 'A', 'A', 'A'),\\\n",
    "                              'GCG': ('T', 'P', 'S', 'E', 'V', 'G', 'A', 'A', 'A'),\\\n",
    "                              'GAT': ('N', 'H', 'Y', 'A', 'V', 'G', 'E', 'D', 'E'),\\\n",
    "                              'GAC': ('N', 'H', 'Y', 'A', 'V', 'G', 'E', 'D', 'E'),\\\n",
    "                              'GAA': ('K', 'Q', '*', 'A', 'V', 'G', 'D', 'E', 'D'),\\\n",
    "                              'GAG': ('K', 'Q', '*', 'A', 'V','G', 'D', 'E', 'D'),\\\n",
    "                              'GGT': ('S', 'R', 'C', 'D', 'A', 'V', 'G','G', 'G'),\\\n",
    "                              'GGC': ('S', 'R', 'C', 'D', 'A', 'V', 'G', 'G', 'G'),\\\n",
    "                              'GGA': ('R', 'R', '*', 'E', 'A', 'V', 'G', 'G', 'G'),\\\n",
    "                              'GGG': ('R', 'R', 'W', 'E', 'A', 'V', 'G', 'G', 'G')}\n",
    "\n",
    "Possible_Base_Changes = {'TTT': ('A', 'C', 'G', 'A', 'C', 'G', 'A', 'C', 'G'),\\\n",
    "                          'TTC': ('A', 'C', 'G', 'A', 'C', 'G', 'A', 'T', 'G'),\\\n",
    "                          'TTA': ('A', 'C', 'G', 'A', 'C', 'G', 'C', 'G', 'T'),\\\n",
    "                          'TTG': ('A', 'C', 'G', 'A', 'C', 'G', 'A', 'C', 'T'),\\\n",
    "                          'TCT': ('A', 'C', 'G', 'A', 'T', 'G', 'A', 'C', 'G'),\\\n",
    "                          'TCC': ('A', 'C', 'G', 'A', 'T', 'G', 'A', 'T', 'G'),\\\n",
    "                          'TCA': ('A', 'C', 'G', 'A', 'T', 'G', 'C', 'T', 'G'),\\\n",
    "                          'TCG': ('A', 'C', 'G', 'A', 'T', 'G', 'A', 'C', 'T'),\\\n",
    "                          'TAT': ('A', 'C', 'G', 'C', 'T', 'G', 'A', 'C', 'G'),\\\n",
    "                          'TAC': ('A', 'C', 'G', 'C', 'T', 'G', 'A', 'T', 'G'),\\\n",
    "                          'TAA': ('A', 'C', 'G', 'C', 'T', 'G', 'C', 'G', 'T'),\\\n",
    "                          'TAG': ('A', 'C', 'G', 'C', 'T', 'G', 'T', 'A', 'C'),\\\n",
    "                          'TGT': ('A', 'C', 'G', 'A', 'C', 'T', 'A', 'C', 'G'),\\\n",
    "                          'TGC': ('A', 'C', 'G', 'A', 'C', 'T', 'A', 'T', 'G'),\\\n",
    "                          'TGA': ('A', 'C', 'G', 'A', 'C', 'T', 'C', 'G', 'T'),\\\n",
    "                          'TGG': ('A', 'C', 'G', 'A', 'C', 'T', 'A', 'C', 'T'),\\\n",
    "                          'CTT': ('A', 'T', 'G', 'A', 'C', 'G', 'A', 'C', 'G'),\\\n",
    "                          'CTC': ('A', 'T', 'G', 'A', 'C', 'G', 'A', 'T', 'G'),\\\n",
    "                          'CTA': ('A', 'T', 'G', 'A', 'C', 'G', 'C', 'G', 'T'),\\\n",
    "                          'CTG': ('A', 'T', 'G', 'A', 'C', 'G', 'A', 'C', 'T'),\\\n",
    "                          'CCT': ('A', 'T', 'G', 'A', 'T', 'G', 'A', 'C', 'G'),\\\n",
    "                          'CCC': ('A', 'T', 'G', 'A', 'T', 'G', 'A', 'T', 'G'),\\\n",
    "                          'CCA': ('A', 'T', 'G', 'A', 'T', 'G', 'C', 'T', 'G'),\\\n",
    "                          'CCG': ('A', 'T', 'G', 'A', 'T', 'G', 'A', 'C', 'T'),\\\n",
    "                          'CAT': ('A', 'T', 'G', 'C', 'T', 'G', 'A', 'C', 'G'),\\\n",
    "                          'CAC': ('A', 'T', 'G', 'C', 'T', 'G', 'A', 'T', 'G'),\\\n",
    "                          'CAA': ('A', 'T', 'G', 'C', 'T', 'G', 'C', 'G', 'T'),\\\n",
    "                          'CAG': ('A', 'T', 'G', 'C', 'T', 'G', 'T', 'A', 'C'),\\\n",
    "                          'CGT': ('A', 'T', 'G', 'A', 'C', 'T', 'A', 'C', 'G'),\\\n",
    "                          'CGC': ('A', 'T', 'G', 'A', 'C', 'T', 'A', 'T', 'G'),\\\n",
    "                          'CGA': ('A', 'T', 'G', 'A', 'C', 'T', 'C', 'G', 'T'),\\\n",
    "                          'CGG': ('A', 'T', 'G', 'A', 'C', 'T', 'A', 'C', 'T'),\\\n",
    "                               'ATT': ('C', 'T', 'G', 'A', 'C', 'G', 'A', 'C', 'G'),\\\n",
    "                              'ATC': ('C', 'T', 'G', 'A', 'C', 'G', 'A', 'T', 'G'),\\\n",
    "                              'ATA': ('C', 'T', 'G', 'A', 'C', 'G', 'C', 'G', 'T'),\\\n",
    "                              'ATG': ('C', 'T', 'G', 'A', 'C', 'G', 'A', 'C', 'T'),\\\n",
    "                              'ACT': ('C', 'T', 'G', 'A', 'T', 'G', 'A', 'C', 'G'),\\\n",
    "                              'ACC': ('C', 'T', 'G', 'A', 'T', 'G', 'A', 'T', 'G'),\\\n",
    "                              'ACA': ('C', 'T', 'G', 'A', 'T', 'G', 'C', 'T', 'G'),\\\n",
    "                              'ACG': ('C', 'T', 'G', 'A', 'T', 'G', 'A', 'C', 'T'),\\\n",
    "                              'AAT': ('C', 'T', 'G', 'C', 'T', 'G', 'A', 'C', 'G'),\\\n",
    "                              'AAC': ('C', 'T', 'G', 'C', 'T', 'G', 'A', 'T', 'G'),\\\n",
    "                              'AAA': ('C', 'T', 'G', 'C', 'T', 'G', 'C', 'G', 'T'),\\\n",
    "                              'AAG': ('C', 'T', 'G', 'C', 'T', 'G', 'T', 'A', 'C'),\\\n",
    "                              'AGT': ('C', 'T', 'G', 'A', 'C', 'T', 'A', 'C', 'G'),\\\n",
    "                              'AGC': ('C', 'T', 'G', 'A', 'C', 'T', 'A', 'T', 'G'),\\\n",
    "                              'AGA': ('C', 'T', 'G', 'A', 'C', 'T', 'C', 'G', 'T'),\\\n",
    "                              'AGG': ('C', 'T', 'G', 'A', 'C', 'T', 'A', 'C', 'T'),\\\n",
    "                              'GTT': ('A', 'C', 'T', 'A', 'C', 'G', 'A', 'C', 'G'),\\\n",
    "                              'GTC': ('A', 'C', 'T', 'A', 'C', 'G', 'A', 'T', 'G'),\\\n",
    "                              'GTA': ('A', 'C', 'T', 'A', 'C', 'G', 'C', 'G', 'T'),\\\n",
    "                              'GTG': ('A', 'C', 'T', 'A', 'C', 'G', 'A', 'C', 'T'),\\\n",
    "                              'GCT': ('A', 'C', 'T', 'A', 'T', 'G', 'A', 'C', 'G'),\\\n",
    "                              'GCC': ('A', 'C', 'T', 'A', 'T', 'G', 'A', 'T', 'G'),\\\n",
    "                              'GCA': ('A', 'C', 'T', 'A', 'T', 'G', 'C', 'T', 'G'),\\\n",
    "                              'GCG': ('A', 'C', 'T', 'A', 'T', 'G', 'A', 'C', 'T'),\\\n",
    "                              'GAT': ('A', 'C', 'T', 'C', 'T', 'G', 'A', 'C', 'G'),\\\n",
    "                              'GAC': ('A', 'C', 'T', 'C', 'T', 'G', 'A', 'T', 'G'),\\\n",
    "                              'GAA': ('A', 'C', 'T', 'C', 'T', 'G', 'C', 'G', 'T'),\\\n",
    "                              'GAG': ('A', 'C', 'T', 'C', 'T', 'G', 'T', 'A', 'C'),\\\n",
    "                              'GGT': ('A', 'C', 'T', 'A', 'C', 'T', 'A','C', 'G'),\\\n",
    "                              'GGC': ('A', 'C', 'T', 'A', 'C', 'T', 'A', 'T', 'G'),\\\n",
    "                              'GGA': ('A', 'C', 'T', 'A', 'C', 'T', 'C', 'G', 'T'),\\\n",
    "                              'GGG': ('A', 'C', 'T', 'A', 'C', 'T', 'A', 'C', 'T')}"
   ]
  },
  {
   "cell_type": "markdown",
   "metadata": {},
   "source": [
    "## Mutation rates"
   ]
  },
  {
   "cell_type": "code",
   "execution_count": 11,
   "metadata": {
    "code_folding": []
   },
   "outputs": [],
   "source": [
    "#Import mutation rates (for a base change depending on its trinucleotide context)\n",
    "import csv\n",
    "filename=\"Trinucleotide_context_mutation_rates.csv\"\n",
    "\n",
    "with open(filename, 'r') as csvfile:\n",
    "    read_reader = csv.reader(csvfile)  #csv.reader returns a reader object which will iterate over lines in the csvfile\n",
    "    row_count=0\n",
    "    Mutation_rates = {}\n",
    "\n",
    "    for row in read_reader:\n",
    "        if row_count>0:\n",
    "#             print(row)\n",
    "            site = row[0]\n",
    "            comp_site = row[2]\n",
    "            if site != '':\n",
    "                mutation_rate = float(row[7])\n",
    "                Mutation_rates[site] = mutation_rate\n",
    "                Mutation_rates[comp_site] = mutation_rate\n",
    "        row_count = row_count+1"
   ]
  },
  {
   "cell_type": "markdown",
   "metadata": {},
   "source": [
    "# Function to determine synonymous mutation rates"
   ]
  },
  {
   "cell_type": "code",
   "execution_count": 12,
   "metadata": {
    "code_folding": [
     0
    ]
   },
   "outputs": [],
   "source": [
    "def synonymous_mutation_rate_across_gene (gene_name, coding_sequence, coding_sequence_extra_bases, start_of_region, end_of_region):\n",
    "    codons = [coding_sequence[i:i+3] for i in range(0, len(coding_sequence), 3)] #divides the coding sequence into chunks of 3 (i.e. codons)\n",
    "    \n",
    "    # Create list of bases in gene that are at intron-exon boundary where the base in the intron is different to in the neighbouring exon\n",
    "    # Create a dictionary of what the base changes are at these intron-exon boundaries\n",
    "    import csv\n",
    "    filename=\"Young_synonymous_intron_exon_boundaries.csv\"\n",
    "\n",
    "    with open(filename, 'r') as csvfile:\n",
    "        read_reader = csv.reader(csvfile)  #csv.reader returns a reader object which will iterate over lines in the csvfile\n",
    "        row_count=0\n",
    "        intron_exon_boundary_caution=[]\n",
    "        gene_base_changes = {}\n",
    "\n",
    "        for row in read_reader:\n",
    "            if row_count>0:\n",
    "                if row[0]== gene_name: #e.g. DNMT3A\n",
    "                    gene_base_number = int(row[2]) #e.g. base 1554\n",
    "                    intron_exon_boundary_caution.append(gene_base_number) #create list of the bases where the neighbouring base in the intron is different to the neighbouring base in the next exon\n",
    "\n",
    "                    first_base = row[3] #base of the 1st base in the trinucleotide\n",
    "                    third_base = row[4] #base of the 3rd base in the trinucleotide\n",
    "                    gene_base_changes[gene_base_number]=(first_base, third_base)\n",
    "\n",
    "            row_count=row_count+1\n",
    "    \n",
    "    #LOOK AT WHAT SYNONYMOUS VARIANTS THEY COULD CALL FROM THEIR PANEL - THEN WORK OUT THE MUTATION RATES FOR EACH OF THESE VARIANTS\n",
    "    synonymous_codons_DICT = {}\n",
    "    synonymous_codons = []\n",
    "    synonymous_codons_only={}\n",
    "    position_in_list_dict_synonymous={}\n",
    "    \n",
    "    #List of all amino acid positions (across whole coding region) covered (amino acid position minus 1 (as python starts at 0))\n",
    "    for i in range(start_of_region, end_of_region):\n",
    "        synonymous_codons_DICT[i+1]= (codons[i])\n",
    "\n",
    "    synonymous_calls = {}\n",
    "    for k,v in synonymous_codons_DICT.items(): #iterating over the list of codon numbers (and codon sequences)\n",
    "        if v in Possible_Amino_Acid_Changes.keys(): #assign the list of all the possible amino acid changes to each codon they called\n",
    "            changes = Possible_Amino_Acid_Changes_letters[v]\n",
    "            synonymous_calls[k]=(v, changes)\n",
    "            \n",
    "    #Changing the original amino acid to a Word (e.g. Phe) rather than a codon\n",
    "    synonymous_calls2 = {}\n",
    "    for k, v in synonymous_calls.items():\n",
    "        if v[0] in Genetic_Code:\n",
    "            Amino_acid_change = Genetic_Code.get(v[0])\n",
    "            synonymous_calls2[k] = (v[0], Amino_acid_change, v[1])\n",
    "\n",
    "    #Changing the original amino acid to a LETTER (rather than the codon)\n",
    "    synonymous_calls3 = {}\n",
    "    for k, v in synonymous_calls2.items():\n",
    "        if v[1] in Amino_acid_abbreviations:\n",
    "            Amino_acid_abbrev = Amino_acid_abbreviations.get(v[1])\n",
    "            synonymous_calls3[k] = (v[0], Amino_acid_abbrev, v[2])\n",
    "    \n",
    "    #Create a dictionary that contains details of the positions of synonymous variants at that codon\n",
    "    synonymous_positions = {}\n",
    "\n",
    "    for k, v in synonymous_calls3.items():\n",
    "        original_AA = v[1]\n",
    "        possible_AA_changes = v[2]\n",
    "        possible_AA_changes_string = ''.join(v[2])\n",
    "        positions_in_list = []\n",
    "        synon = original_AA+str(k)+original_AA\n",
    "        for i in possible_AA_changes:\n",
    "            if i == original_AA: #synonymous\n",
    "                position_in_list=-1\n",
    "                synonymous_change = i    \n",
    "                while True:\n",
    "                    position_in_list = possible_AA_changes_string.find(synonymous_change, position_in_list+1)\n",
    "    #               print(position_in_list)\n",
    "                    if position_in_list == -1: break\n",
    "                    positions_in_list.append(position_in_list)\n",
    "                    positions_in_list = set(positions_in_list) #convert into a 'set' to remove duplicate positions\n",
    "                    positions_in_list = list(positions_in_list) #convert back to a list so can be added to dictionary\n",
    "        synonymous_positions[k]=(v, positions_in_list, synon)      \n",
    "\n",
    "    # Create a dictionary that contains original codon seq, base change positions and what the base changes are\n",
    "    synonymous_bases = {}\n",
    "    for k, v in synonymous_positions.items():\n",
    "    #     print(v[0][0])\n",
    "        codon_seq = v[0][0]\n",
    "        base_changes=[]\n",
    "        if codon_seq in Possible_Base_Changes.keys():\n",
    "            list_of_possible_bases = Possible_Base_Changes.get(codon_seq)\n",
    "        for i in v[1]: #iterate over the base positions that synonymous variants are present at:\n",
    "            base_change_position = i\n",
    "            base_change = list_of_possible_bases[base_change_position]\n",
    "            base_changes.append(base_change)\n",
    "        synonymous_bases[k]=(v[0][0], v[1], base_changes, v[2])\n",
    "\n",
    "    #Create dictionary which contains original codon seq and details on which base is changed\n",
    "    synonymous_bases2 = {}\n",
    "\n",
    "    for k, v in synonymous_bases.items():\n",
    "        base_change_positions = v[1]\n",
    "        codon_positions = []\n",
    "        positions_in_gene = []\n",
    "        for i in base_change_positions:\n",
    "            base_change_position = i\n",
    "            if base_change_position <= 2:\n",
    "                codon_pos = 1\n",
    "            if 2 < base_change_position <= 5:\n",
    "                codon_pos = 2\n",
    "            if 5 < base_change_position <= 8:\n",
    "                codon_pos = 3\n",
    "            codon_positions.append(codon_pos)\n",
    "        synonymous_bases2[k] = (v, codon_positions)\n",
    "\n",
    "    #Create dictionary which contains original codon seq, details on which base is changed and it's position in the coding region\n",
    "    synonymous_bases3 = {}\n",
    "\n",
    "    for k, v in synonymous_bases2.items():\n",
    "        codon_positions = v[1]\n",
    "        base_changes = v[0][2]\n",
    "        original_bases = []\n",
    "        positions_in_gene = []\n",
    "        for i in codon_positions:\n",
    "            codon_pos = i\n",
    "            position_in_gene = ((int(k)-1)*3)+codon_pos #codon number (v[0][1][0]) minus 1 (e.g. codon 307 -1 = 306, then times by 3 takes you to beginning of codon 307 (then add the position))  \n",
    "            positions_in_gene.append(position_in_gene)\n",
    "            original_base = (v[0][0][codon_pos-1])\n",
    "            original_bases.append(original_base)\n",
    "        synonymous_bases3[k] = (v[0][0], positions_in_gene, original_bases, base_changes, v[0][3])\n",
    "\n",
    "    #Create dictionary which contains original codon seq, details on which base is changed and its neighbouring bases\n",
    "    synonymous_bases4 = {}\n",
    "\n",
    "    for k, v in synonymous_bases3.items():\n",
    "        position_in_gene = v[1]\n",
    "        sites_trio_synonymous=[]\n",
    "\n",
    "        for i in position_in_gene:\n",
    "            gene_pos = i\n",
    "            if i in intron_exon_boundary_caution:\n",
    "                adapted_bases = gene_base_changes[i] #retrieves the values from the dictionary (gene base: base changes)\n",
    "                first_base_changes = adapted_bases[0]\n",
    "                third_base_changes = adapted_bases[1]\n",
    "                \n",
    "                if first_base_changes == 'unchanged':\n",
    "                    first_base = coding_sequence_extra_bases[gene_pos-1]\n",
    "                if first_base_changes != 'unchanged':\n",
    "                    first_base = first_base_changes\n",
    "                    \n",
    "                middle_base = coding_sequence_extra_bases[gene_pos]\n",
    "                    \n",
    "                if third_base_changes == 'unchanged':\n",
    "                    third_base = coding_sequence_extra_bases[gene_pos+1]\n",
    "                if third_base_changes != 'unchanged':\n",
    "                    third_base = third_base_changes\n",
    "                    \n",
    "                triplet = first_base+middle_base+third_base\n",
    "                \n",
    "                sites_trio_synonymous.append([triplet])\n",
    "                synonymous_bases4[k] = (v, sites_trio_synonymous)\n",
    "                \n",
    "            else: #i.e.if there isn't an intron-exon boundary issue\n",
    "                for i in position_in_gene:\n",
    "                    gene_pos = i\n",
    "                    site_trio_synonymous = [coding_sequence_extra_bases[gene_pos:gene_pos+3] for gene_pos in range (gene_pos-1, gene_pos, 3)]\n",
    "                    sites_trio_synonymous.append(site_trio_synonymous)\n",
    "                    synonymous_bases4[k] = (v, sites_trio_synonymous)  \n",
    "            \n",
    "    #Create a dictionary containing pos in coding region, original base, new base, base affected with its neighbours\n",
    "    #e.g. 938, G, A, TGG = base 938 on coding region, original base = G, changes to base A, base with neighbours either side = TGG\n",
    "    synonymous_bases5 = {}\n",
    "\n",
    "    a=0\n",
    "    for k, v in synonymous_bases4.items():\n",
    "        codon_n = v[0][1] #base number in codon\n",
    "        original_base = v[0][2]\n",
    "        new_base = v[0][3]\n",
    "        nonsyn = v[0][4]\n",
    "        site_trio = v[1]\n",
    "        info=[]\n",
    "\n",
    "        change = 0\n",
    "        for i in codon_n:\n",
    "            codon_number = i\n",
    "            orig_base = original_base[change]\n",
    "            n_base = new_base[change]\n",
    "            site_tri = site_trio[change]\n",
    "            info.append([codon_number, orig_base, n_base, site_tri, nonsyn])\n",
    "            change = change+1\n",
    "        synonymous_bases5[a]=info\n",
    "        a=a+1\n",
    "    \n",
    "    # Write in a way that can iterate over mutation rates (i.e. put in to form C[C>A]G etc)    \n",
    "    synonymous_bases6={}\n",
    "\n",
    "    separating_positions = {} # separate out all the possible changes to just 1 effective item in the list\n",
    "    a=0\n",
    "    for k, v in synonymous_bases5.items():\n",
    "        for i in v: #because some contain more than 1 change from that codon:\n",
    "            separating_positions[a]=i\n",
    "            a=a+1\n",
    "\n",
    "    for k, v in separating_positions.items():\n",
    "        base_pos = v[0]\n",
    "        original_base = v[1]\n",
    "        new_base = v[2]\n",
    "        site_trio = v[3]\n",
    "        nonsyn = v[4]\n",
    "        sequence = (str(original_base),str(new_base))\n",
    "        changes = '>'.join(sequence)\n",
    "        left_base = site_trio[0][0]\n",
    "        right_base = site_trio[0][2]\n",
    "        sequence2 = (changes, right_base)\n",
    "        changes2 = ']'.join(sequence2)\n",
    "        sequence3 = (left_base, changes2)\n",
    "        changes3 = '['.join(sequence3)\n",
    "        synonymous_bases6[k] = (v[0],changes3, nonsyn) #site_trio = the affected base and its neighbours\n",
    "\n",
    "    #Assign the mutation rates to each site...\n",
    "    synonymous_mutation_rates = {}\n",
    "    for k, v in synonymous_bases6.items():\n",
    "        base_change_info = v[1]\n",
    "        if base_change_info in Mutation_rates.keys():\n",
    "            mutation_rate = Mutation_rates.get(base_change_info)\n",
    "            synonymous_mutation_rates[k] = (v, mutation_rate)\n",
    "\n",
    "#     print(synonymous_mutation_rates)\n",
    "\n",
    "    #Get the average of all the mutation rates\n",
    "    mutation_rate_synonymous_sum = []\n",
    "    for k, v in synonymous_mutation_rates.items():\n",
    "        mutation_rate = v[1]\n",
    "        mutation_rate_synonymous_sum.append(mutation_rate)\n",
    "\n",
    "#     Average_mutation_rate_synonymous = np.mean(mutation_rate_synonymous_sum)\n",
    "    Mutation_rate_synonymous_added = np.sum(mutation_rate_synonymous_sum)\n",
    "    \n",
    "#     print('Average synonymous mutation rate across region = ', Average_mutation_rate_synonymous)\n",
    "    print('Total summed synonymous mutation rate across region = ', Mutation_rate_synonymous_added)\n",
    "    \n",
    "    return Mutation_rate_synonymous_added"
   ]
  },
  {
   "cell_type": "code",
   "execution_count": 13,
   "metadata": {
    "code_folding": [
     0
    ]
   },
   "outputs": [],
   "source": [
    "def synonymous_excluded_variants_mutation_rate (gene_name, coding_sequence, coding_sequence_extra_bases, excluded_variants_dict):\n",
    "    \n",
    "    summed_mutation_rate_across_excluded_variants = []\n",
    "    \n",
    "    for k, v in excluded_variants_dict.items(): #where dictionary is in format VARIANT: (GENE, AA POS, VARIANT_ID)\n",
    "        amino_acid_number = int(v[1])\n",
    "        variant = k\n",
    "    \n",
    "        codons = [coding_sequence[i:i+3] for i in range(0, len(coding_sequence), 3)]\n",
    "        \n",
    "        # Create list of bases in gene that are at intron-exon boundary where the base in the intron is different to in the neighbouring exon\n",
    "        # Create a dictionary of what the base changes are (if they are different)\n",
    "        import csv\n",
    "        filename=\"Young_synonymous_intron_exon_boundaries.csv\"\n",
    "\n",
    "        with open(filename, 'r') as csvfile:\n",
    "            read_reader = csv.reader(csvfile)  #csv.reader returns a reader object which will iterate over lines in the csvfile\n",
    "            row_count=0\n",
    "            intron_exon_boundary_caution=[]\n",
    "            gene_base_changes = {}\n",
    "\n",
    "            for row in read_reader:\n",
    "                if row_count>0:\n",
    "                    if row[0]== gene_name:\n",
    "                        gene_base_number = int(row[2])\n",
    "                        intron_exon_boundary_caution.append(gene_base_number)\n",
    "\n",
    "                        first_base = row[3]\n",
    "                        third_base = row[4]\n",
    "                        gene_base_changes[gene_base_number]=(first_base, third_base)\n",
    "\n",
    "                row_count=row_count+1        \n",
    "\n",
    "        synonymous_codons_DICT = {}\n",
    "        synonymous_codons = []\n",
    "        synonymous_codons_only={}\n",
    "        position_in_list_dict_synonymous={}\n",
    "\n",
    "        #List of all amino acid positions (across whole coding region) covered by Young (amino acid position minus 1 (as python starts at 0))\n",
    "        synonymous_codons_DICT[amino_acid_number]= (codons[amino_acid_number-1])\n",
    "\n",
    "#         print(\"synonymous codons DICT =\", synonymous_codons_DICT)\n",
    "\n",
    "        synonymous_calls = {}\n",
    "        for k,v in synonymous_codons_DICT.items(): #iterating over the list of codon numbers (and codon sequences)\n",
    "            if v in Possible_Amino_Acid_Changes.keys(): #assign the list of all the possible amino acid changes to each codon they called\n",
    "                changes = Possible_Amino_Acid_Changes_letters[v]\n",
    "                synonymous_calls[k]=(v, changes)\n",
    "\n",
    "#         print(\"synonymous_calls =\", synonymous_calls)\n",
    "\n",
    "        #Changing the original amino acid to a Word (e.g. Phe) rather than a codon\n",
    "        synonymous_calls2 = {}\n",
    "        for k, v in synonymous_calls.items():\n",
    "            if v[0] in Genetic_Code:\n",
    "                Amino_acid_change = Genetic_Code.get(v[0])\n",
    "                synonymous_calls2[k] = (v[0], Amino_acid_change, v[1])\n",
    "\n",
    "#         print(\"synonymous_calls2 =\", synonymous_calls2)\n",
    "\n",
    "        #Changing the original amino acid to a LETTER (rather than the codon)\n",
    "        synonymous_calls3 = {}\n",
    "        for k, v in synonymous_calls2.items():\n",
    "            if v[1] in Amino_acid_abbreviations:\n",
    "                Amino_acid_abbrev = Amino_acid_abbreviations.get(v[1])\n",
    "                synonymous_calls3[k] = (v[0], Amino_acid_abbrev, v[2])\n",
    "\n",
    "#         print(\"synonymous_calls3 =\", synonymous_calls3)\n",
    "\n",
    "        #Create a dictionary that contains details of the positions of synonymous variants at that codon\n",
    "        synonymous_positions = {}\n",
    "\n",
    "        for k, v in synonymous_calls3.items():\n",
    "            original_AA = v[1]\n",
    "            possible_AA_changes = v[2]\n",
    "            possible_AA_changes_string = ''.join(v[2])\n",
    "            positions_in_list = []\n",
    "            synon = original_AA+str(k)+original_AA\n",
    "            for i in possible_AA_changes:\n",
    "                if i == original_AA: #synonymous\n",
    "                    position_in_list=-1\n",
    "                    synonymous_change = i    \n",
    "                    while True:\n",
    "                        position_in_list = possible_AA_changes_string.find(synonymous_change, position_in_list+1)\n",
    "        #               print(position_in_list)\n",
    "                        if position_in_list == -1: break\n",
    "                        positions_in_list.append(position_in_list)\n",
    "                        positions_in_list = set(positions_in_list) #convert into a 'set' to remove duplicate positions\n",
    "                        positions_in_list = list(positions_in_list) #convert back to a list so can be added to dictionary\n",
    "            synonymous_positions[k]=(v, positions_in_list, synon)\n",
    "\n",
    "#         print(\"synonymous_positions =\", synonymous_positions)\n",
    "\n",
    "        # Create a dictionary that contains original codon seq, base change positions and what the base changes are\n",
    "        synonymous_bases = {}\n",
    "        for k, v in synonymous_positions.items():\n",
    "        #     print(v[0][0])\n",
    "            codon_seq = v[0][0]\n",
    "            base_changes=[]\n",
    "            if codon_seq in Possible_Base_Changes.keys():\n",
    "                list_of_possible_bases = Possible_Base_Changes.get(codon_seq)\n",
    "            for i in v[1]: #iterate over the base positions that synonymous variants are present at:\n",
    "                base_change_position = i\n",
    "                base_change = list_of_possible_bases[base_change_position]\n",
    "                base_changes.append(base_change)\n",
    "            synonymous_bases[k]=(v[0][0], v[1], base_changes, v[2])\n",
    "\n",
    "#         print(\"synonymous_bases =\", synonymous_bases)\n",
    "\n",
    "        #Create dictionary which contains original codon seq and details on which base is changed\n",
    "        synonymous_bases2 = {}\n",
    "\n",
    "        for k, v in synonymous_bases.items():\n",
    "            base_change_positions = v[1]\n",
    "            codon_positions = []\n",
    "            positions_in_gene = []\n",
    "            for i in base_change_positions:\n",
    "                base_change_position = i\n",
    "                if base_change_position <= 2:\n",
    "                    codon_pos = 1\n",
    "                if 2 < base_change_position <= 5:\n",
    "                    codon_pos = 2\n",
    "                if 5 < base_change_position <= 8:\n",
    "                    codon_pos = 3\n",
    "                codon_positions.append(codon_pos)\n",
    "            synonymous_bases2[k] = (v, codon_positions)\n",
    "\n",
    "#         print(\"synonymous_bases2 =\", synonymous_bases2)\n",
    "\n",
    "        #Create dictionary which contains original codon seq, details on which base is changed and it's position in the coding region\n",
    "        synonymous_bases3 = {}\n",
    "\n",
    "        for k, v in synonymous_bases2.items():\n",
    "            codon_positions = v[1]\n",
    "            base_changes = v[0][2]\n",
    "            original_bases = []\n",
    "            positions_in_gene = []\n",
    "            for i in codon_positions:\n",
    "                codon_pos = i\n",
    "                position_in_gene = ((int(k)-1)*3)+codon_pos #codon number (v[0][1][0]) minus 1 (e.g. codon 307 -1 = 306, then times by 3 takes you to beginning of codon 307 (then add the position))  \n",
    "                positions_in_gene.append(position_in_gene)\n",
    "                original_base = (v[0][0][codon_pos-1])\n",
    "                original_bases.append(original_base)\n",
    "            synonymous_bases3[k] = (v[0][0], positions_in_gene, original_bases, base_changes, v[0][3])\n",
    "\n",
    "#         print(\"synonymous_bases3 =\", synonymous_bases3)\n",
    "\n",
    "        #Create dictionary which contains original codon seq, details on which base is changed and its neighbouring bases\n",
    "        synonymous_bases4 = {}\n",
    "\n",
    "        for k, v in synonymous_bases3.items():\n",
    "            position_in_gene = v[1]\n",
    "            sites_trio_synonymous=[]\n",
    "\n",
    "            for i in position_in_gene:\n",
    "                gene_pos = i\n",
    "                if i in intron_exon_boundary_caution:\n",
    "                    adapted_bases = gene_base_changes[i] #retrieves the values from the dictionary (gene base: base changes)\n",
    "                    first_base_changes = adapted_bases[0]\n",
    "                    third_base_changes = adapted_bases[1]\n",
    "\n",
    "                    if first_base_changes == 'unchanged':\n",
    "                        first_base = coding_sequence_extra_bases[gene_pos-1]\n",
    "                    if first_base_changes != 'unchanged':\n",
    "                        first_base = first_base_changes  \n",
    "\n",
    "                    middle_base = coding_sequence_extra_bases[gene_pos]\n",
    "\n",
    "                    if third_base_changes == 'unchanged':\n",
    "                        third_base = coding_sequence_extra_bases[gene_pos+1]\n",
    "                    if third_base_changes != 'unchanged':\n",
    "                        third_base = third_base_changes\n",
    "\n",
    "                    triplet = first_base+middle_base+third_base\n",
    "\n",
    "                    sites_trio_synonymous.append([triplet])\n",
    "                    synonymous_bases4[k] = (v, sites_trio_synonymous)\n",
    "\n",
    "                else: #i.e.if there isn't an intron-exon boundary issue\n",
    "                    for i in position_in_gene:\n",
    "                        gene_pos = i\n",
    "                        site_trio_synonymous = [coding_sequence_extra_bases[gene_pos:gene_pos+3] for gene_pos in range (gene_pos-1, gene_pos, 3)]\n",
    "                        sites_trio_synonymous.append(site_trio_synonymous)\n",
    "                        synonymous_bases4[k] = (v, sites_trio_synonymous)  \n",
    "#         print(\"synonymous_bases4 =\", synonymous_bases4)\n",
    "\n",
    "        #Create a dictionary containing pos in coding region, original base, new base, base affected with its neighbours\n",
    "        #e.g. 938, G, A, TGG = base 938 on coding region, original base = G, changes to base A, base with neighbours either side = TGG\n",
    "        synonymous_bases5 = {}\n",
    "\n",
    "        a=0\n",
    "        for k, v in synonymous_bases4.items():\n",
    "            codon_n = v[0][1] #base number in codon\n",
    "            original_base = v[0][2]\n",
    "            new_base = v[0][3]\n",
    "            nonsyn = v[0][4]\n",
    "            site_trio = v[1]\n",
    "            info=[]\n",
    "\n",
    "            change = 0\n",
    "            for i in codon_n:\n",
    "                codon_number = i\n",
    "                orig_base = original_base[change]\n",
    "                n_base = new_base[change]\n",
    "                site_tri = site_trio[change]\n",
    "                info.append([codon_number, orig_base, n_base, site_tri, nonsyn])\n",
    "                change = change+1\n",
    "            synonymous_bases5[a]=info\n",
    "            a=a+1\n",
    "\n",
    "#         print(\"synonymous_bases5 =\", synonymous_bases5)\n",
    "\n",
    "        # Write in a way that can iterate over mutation rates (i.e. put in to form C[C>A]G etc)    \n",
    "        synonymous_bases6={}\n",
    "\n",
    "        separating_positions = {} # separate out all the possible changes to just 1 effective item in the list\n",
    "        a=0\n",
    "        for k, v in synonymous_bases5.items():\n",
    "            for i in v: #because some contain more than 1 change from that codon:\n",
    "                separating_positions[a]=i\n",
    "                a=a+1\n",
    "\n",
    "        for k, v in separating_positions.items():\n",
    "            base_pos = v[0]\n",
    "            original_base = v[1]\n",
    "            new_base = v[2]\n",
    "            site_trio = v[3]\n",
    "            nonsyn = v[4]\n",
    "            sequence = (str(original_base),str(new_base))\n",
    "            changes = '>'.join(sequence)\n",
    "            left_base = site_trio[0][0]\n",
    "            right_base = site_trio[0][2]\n",
    "            sequence2 = (changes, right_base)\n",
    "            changes2 = ']'.join(sequence2)\n",
    "            sequence3 = (left_base, changes2)\n",
    "            changes3 = '['.join(sequence3)\n",
    "            synonymous_bases6[k] = (v[0],changes3, nonsyn) #site_trio = the affected base and its neighbours\n",
    "\n",
    "#         print(\"synonymous_bases6 =\", synonymous_bases6)\n",
    "\n",
    "        #Assign the mutation rates to each site...\n",
    "        synonymous_mutation_rates = {}\n",
    "        for k, v in synonymous_bases6.items():\n",
    "            base_change_info = v[1]\n",
    "            if base_change_info in Mutation_rates.keys():\n",
    "                mutation_rate = Mutation_rates.get(base_change_info)\n",
    "                synonymous_mutation_rates[k] = (v, mutation_rate)\n",
    "\n",
    "#         print(\"synonymous_mutation_rates =\", synonymous_mutation_rates)\n",
    "\n",
    "        #Sum the mutation rates\n",
    "        mutation_rate_synonymous_sum = []\n",
    "        for k, v in synonymous_mutation_rates.items():\n",
    "            mutation_rate = v[1]\n",
    "            mutation_rate_synonymous_sum.append(mutation_rate)\n",
    "\n",
    "        mutation_rate_synonymous_added = np.sum(mutation_rate_synonymous_sum)\n",
    "\n",
    "#         print('Mutation rate at variant = ', mutation_rate_synonymous_added)\n",
    "        \n",
    "        summed_mutation_rate_across_excluded_variants.append(mutation_rate_synonymous_added)\n",
    "        \n",
    "#         print(\"\")\n",
    "        \n",
    "    total_summed_mutation_rate_excluded_regions = np.sum(summed_mutation_rate_across_excluded_variants)\n",
    "    \n",
    "    print('Total summed mutation rate across excluded synonymous variants = ', total_summed_mutation_rate_excluded_regions)\n",
    "    \n",
    "    return total_summed_mutation_rate_excluded_regions"
   ]
  },
  {
   "cell_type": "markdown",
   "metadata": {},
   "source": [
    "# Illumina TruSight myeloid panel"
   ]
  },
  {
   "cell_type": "markdown",
   "metadata": {},
   "source": [
    "- ABL1: exons 4-6 (amino acids 184-362)\n",
    "- ASXL1: exon 12\n",
    "- ATRX: exons 8-10, 17-31\n",
    "- BCOR: all exons\n",
    "- BCORL1: all exons\n",
    "- BRAF: exon 15\n",
    "- CALR: exon 9\n",
    "- CBL: exon 8 and 9\n",
    "- CBLB: exon 9 and 10\n",
    "- CBLC: exon 9 and 10\n",
    "- CDKN2A: all exons\n",
    "- CEBPA: all exons\n",
    "- CSF3R: exons 14-17\n",
    "- CUX1: all exons\n",
    "- DNMT3A: all exons\n",
    "- ETV6/TEL: all exons\n",
    "- EZH2: all exons\n",
    "- FBXW7: exons 9-11\n",
    "- FLT3: exons 14, 15, 20\n",
    "- GATA1: exon 2\n",
    "- GATA2: exons 2-6\n",
    "- GNAS: exons 8 and 9\n",
    "- HRAS: exon 2 and 3\n",
    "- IDH1: exon 4\n",
    "- IDH2: exon 4\n",
    "- IKZF1: exon 4\n",
    "- JAK2: exon 12 and 14\n",
    "- JAK3: exon 13\n",
    "- KDM6A: all exons\n",
    "- KIT: exon 2, 8-11, 13, 17\n",
    "- KRAS: exon 2, 3\n",
    "- MLL: exon 5-8\n",
    "- MPL: exon 10\n",
    "- MYD88: exon 3-5\n",
    "- NOTCH1: exon 26-28, 34\n",
    "- NPM1: exon 12\n",
    "- NRAS: exon 2, 3\n",
    "- PDGFRA: exon 12, 14, 18\n",
    "- PHF6: all exons\n",
    "- PTEN: exon 5, 7\n",
    "- PTPN11: exon 3, 13\n",
    "- RAD21: all exons\n",
    "- RUNX1: all exons\n",
    "- SETBP1: exon 4 (partial)\n",
    "- SF3B1: exon 3-16\n",
    "- SMC1A: exon 2, 11, 16, 17\n",
    "- SMC3: exon 10, 13, 19, 23, 25, 28\n",
    "- SRSF2: exon 1\n",
    "- STAG2: all exons\n",
    "- TET2: exons 3-11\n",
    "- TP53: exons 2-11\n",
    "- U2AF1: exons 2, 6\n",
    "- WT1: exons 7, 9\n",
    "- ZRSR2: all exons"
   ]
  },
  {
   "cell_type": "markdown",
   "metadata": {},
   "source": [
    "- transcripts downloaded from: http://grch37.ensembl.org/Homo_sapiens/Transcript/Exons?db=core;g=ENSG00000119772;r=2:25455845-25564754;t=ENST00000321117\n",
    "- exon positions from https://www.nextprot.org (and to find out which is the 'canonical' transcript)"
   ]
  },
  {
   "cell_type": "markdown",
   "metadata": {},
   "source": [
    "## ABL1 (exons 4-6) (codons 184-362)"
   ]
  },
  {
   "cell_type": "markdown",
   "metadata": {},
   "source": [
    "- ENST00000318560 (canonical transcript)"
   ]
  },
  {
   "cell_type": "markdown",
   "metadata": {},
   "source": [
    "#### Mutation rate for synonymous variants across ABL1 regions included in panel"
   ]
  },
  {
   "cell_type": "code",
   "execution_count": 14,
   "metadata": {},
   "outputs": [],
   "source": [
    "ABL1_coding_sequence = 'ATGTTGGAGATCTGCCTGAAGCTGGTGGGCTGCAAATCCAAGAAGGGGCTGTCCTCGTCCTCCAGCTGTTATCTGGAAGAAGCCCTTCAGCGGCCAGTAGCATCTGACTTTGAGCCTCAGGGTCTGAGTGAAGCCGCTCGTTGGAACTCCAAGGAAAACCTTCTCGCTGGACCCAGTGAAAATGACCCCAACCTTTTCGTTGCACTGTATGATTTTGTGGCCAGTGGAGATAACACTCTAAGCATAACTAAAGGTGAAAAGCTCCGGGTCTTAGGCTATAATCACAATGGGGAATGGTGTGAAGCCCAAACCAAAAATGGCCAAGGCTGGGTCCCAAGCAACTACATCACGCCAGTCAACAGTCTGGAGAAACACTCCTGGTACCATGGGCCTGTGTCCCGCAATGCCGCTGAGTATCTGCTGAGCAGCGGGATCAATGGCAGCTTCTTGGTGCGTGAGAGTGAGAGCAGTCCTGGCCAGAGGTCCATCTCGCTGAGATACGAAGGGAGGGTGTACCATTACAGGATCAACACTGCTTCTGATGGCAAGCTCTACGTCTCCTCCGAGAGCCGCTTCAACACCCTGGCCGAGTTGGTTCATCATCATTCAACGGTGGCCGACGGGCTCATCACCACGCTCCATTATCCAGCCCCAAAGCGCAACAAGCCCACTGTCTATGGTGTGTCCCCCAACTACGACAAGTGGGAGATGGAACGCACGGACATCACCATGAAGCACAAGCTGGGCGGGGGCCAGTACGGGGAGGTGTACGAGGGCGTGTGGAAGAAATACAGCCTGACGGTGGCCGTGAAGACCTTGAAGGAGGACACCATGGAGGTGGAAGAGTTCTTGAAAGAAGCTGCAGTCATGAAAGAGATCAAACACCCTAACCTGGTGCAGCTCCTTGGGGTCTGCACCCGGGAGCCCCCGTTCTATATCATCACTGAGTTCATGACCTACGGGAACCTCCTGGACTACCTGAGGGAGTGCAACCGGCAGGAGGTGAACGCCGTGGTGCTGCTGTACATGGCCACTCAGATCTCGTCAGCCATGGAGTACCTGGAGAAGAAAAACTTCATCCACAGAGATCTTGCTGCCCGAAACTGCCTGGTAGGGGAGAACCACTTGGTGAAGGTAGCTGATTTTGGCCTGAGCAGGTTGATGACAGGGGACACCTACACAGCCCATGCTGGAGCCAAGTTCCCCATCAAATGGACTGCACCCGAGAGCCTGGCCTACAACAAGTTCTCCATCAAGTCCGACGTCTGGGCATTTGGAGTATTGCTTTGGGAAATTGCTACCTATGGCATGTCCCCTTACCCGGGAATTGACCTGTCCCAGGTGTATGAGCTGCTAGAGAAGGACTACCGCATGGAGCGCCCAGAAGGCTGCCCAGAGAAGGTCTATGAACTCATGCGAGCATGTTGGCAGTGGAATCCCTCTGACCGGCCCTCCTTTGCTGAAATCCACCAAGCCTTTGAAACAATGTTCCAGGAATCCAGTATCTCAGACGAAGTGGAAAAGGAGCTGGGGAAACAAGGCGTCCGTGGGGCTGTGAGTACCTTGCTGCAGGCCCCAGAGCTGCCCACCAAGACGAGGACCTCCAGGAGAGCTGCAGAGCACAGAGACACCACTGACGTGCCTGAGATGCCTCACTCCAAGGGCCAGGGAGAGAGCGATCCTCTGGACCATGAGCCTGCCGTGTCTCCATTGCTCCCTCGAAAAGAGCGAGGTCCCCCGGAGGGCGGCCTGAATGAAGATGAGCGCCTTCTCCCCAAAGACAAAAAGACCAACTTGTTCAGCGCCTTGATCAAGAAGAAGAAGAAGACAGCCCCAACCCCTCCCAAACGCAGCAGCTCCTTCCGGGAGATGGACGGCCAGCCGGAGCGCAGAGGGGCCGGCGAGGAAGAGGGCCGAGACATCAGCAACGGGGCACTGGCTTTCACCCCCTTGGACACAGCTGACCCAGCCAAGTCCCCAAAGCCCAGCAATGGGGCTGGGGTCCCCAATGGAGCCCTCCGGGAGTCCGGGGGCTCAGGCTTCCGGTCTCCCCACCTGTGGAAGAAGTCCAGCACGCTGACCAGCAGCCGCCTAGCCACCGGCGAGGAGGAGGGCGGTGGCAGCTCCAGCAAGCGCTTCCTGCGCTCTTGCTCCGCCTCCTGCGTTCCCCATGGGGCCAAGGACACGGAGTGGAGGTCAGTCACGCTGCCTCGGGACTTGCAGTCCACGGGAAGACAGTTTGACTCGTCCACATTTGGAGGGCACAAAAGTGAGAAGCCGGCTCTGCCTCGGAAGAGGGCAGGGGAGAACAGGTCTGACCAGGTGACCCGAGGCACAGTAACGCCTCCCCCCAGGCTGGTGAAAAAGAATGAGGAAGCTGCTGATGAGGTCTTCAAAGACATCATGGAGTCCAGCCCGGGCTCCAGCCCGCCCAACCTGACTCCAAAACCCCTCCGGCGGCAGGTCACCGTGGCCCCTGCCTCGGGCCTCCCCCACAAGGAAGAAGCTGGAAAGGGCAGTGCCTTAGGGACCCCTGCTGCAGCTGAGCCAGTGACCCCCACCAGCAAAGCAGGCTCAGGTGCACCAGGGGGCACCAGCAAGGGCCCCGCCGAGGAGTCCAGAGTGAGGAGGCACAAGCACTCCTCTGAGTCGCCAGGGAGGGACAAGGGGAAATTGTCCAGGCTCAAACCTGCCCCGCCGCCCCCACCAGCAGCCTCTGCAGGGAAGGCTGGAGGAAAGCCCTCGCAGAGCCCGAGCCAGGAGGCGGCCGGGGAGGCAGTCCTGGGCGCAAAGACAAAAGCCACGAGTCTGGTTGATGCTGTGAACAGTGACGCTGCCAAGCCCAGCCAGCCGGGAGAGGGCCTCAAAAAGCCCGTGCTCCCGGCCACTCCAAAGCCACAGTCCGCCAAGCCGTCGGGGACCCCCATCAGCCCAGCCCCCGTTCCCTCCACGTTGCCATCAGCATCCTCGGCCCTGGCAGGGGACCAGCCGTCTTCCACCGCCTTCATCCCTCTCATATCAACCCGAGTGTCTCTTCGGAAAACCCGCCAGCCTCCAGAGCGGATCGCCAGCGGCGCCATCACCAAGGGCGTGGTCCTGGACAGCACCGAGGCGCTGTGCCTCGCCATCTCTAGGAACTCCGAGCAGATGGCCAGCCACAGCGCAGTGCTGGAGGCCGGCAAAAACCTCTACACGTTCTGCGTGAGCTATGTGGATTCCATCCAGCAAATGAGGAACAAGTTTGCCTTCCGAGAGGCCATCAACAAACTGGAGAATAATCTCCGGGAGCTTCAGATCTGCCCGGCGACAGCAGGCAGTGGTCCAGCGGCCACTCAGGACTTCAGCAAGCTCCTCAGTTCGGTGAAGGAAATCAGTGACATAGTGCAGAGGTAG'\n",
    "ABL1_coding_sequence_extra_bases = 'AATGTTGGAGATCTGCCTGAAGCTGGTGGGCTGCAAATCCAAGAAGGGGCTGTCCTCGTCCTCCAGCTGTTATCTGGAAGAAGCCCTTCAGCGGCCAGTAGCATCTGACTTTGAGCCTCAGGGTCTGAGTGAAGCCGCTCGTTGGAACTCCAAGGAAAACCTTCTCGCTGGACCCAGTGAAAATGACCCCAACCTTTTCGTTGCACTGTATGATTTTGTGGCCAGTGGAGATAACACTCTAAGCATAACTAAAGGTGAAAAGCTCCGGGTCTTAGGCTATAATCACAATGGGGAATGGTGTGAAGCCCAAACCAAAAATGGCCAAGGCTGGGTCCCAAGCAACTACATCACGCCAGTCAACAGTCTGGAGAAACACTCCTGGTACCATGGGCCTGTGTCCCGCAATGCCGCTGAGTATCTGCTGAGCAGCGGGATCAATGGCAGCTTCTTGGTGCGTGAGAGTGAGAGCAGTCCTGGCCAGAGGTCCATCTCGCTGAGATACGAAGGGAGGGTGTACCATTACAGGATCAACACTGCTTCTGATGGCAAGCTCTACGTCTCCTCCGAGAGCCGCTTCAACACCCTGGCCGAGTTGGTTCATCATCATTCAACGGTGGCCGACGGGCTCATCACCACGCTCCATTATCCAGCCCCAAAGCGCAACAAGCCCACTGTCTATGGTGTGTCCCCCAACTACGACAAGTGGGAGATGGAACGCACGGACATCACCATGAAGCACAAGCTGGGCGGGGGCCAGTACGGGGAGGTGTACGAGGGCGTGTGGAAGAAATACAGCCTGACGGTGGCCGTGAAGACCTTGAAGGAGGACACCATGGAGGTGGAAGAGTTCTTGAAAGAAGCTGCAGTCATGAAAGAGATCAAACACCCTAACCTGGTGCAGCTCCTTGGGGTCTGCACCCGGGAGCCCCCGTTCTATATCATCACTGAGTTCATGACCTACGGGAACCTCCTGGACTACCTGAGGGAGTGCAACCGGCAGGAGGTGAACGCCGTGGTGCTGCTGTACATGGCCACTCAGATCTCGTCAGCCATGGAGTACCTGGAGAAGAAAAACTTCATCCACAGAGATCTTGCTGCCCGAAACTGCCTGGTAGGGGAGAACCACTTGGTGAAGGTAGCTGATTTTGGCCTGAGCAGGTTGATGACAGGGGACACCTACACAGCCCATGCTGGAGCCAAGTTCCCCATCAAATGGACTGCACCCGAGAGCCTGGCCTACAACAAGTTCTCCATCAAGTCCGACGTCTGGGCATTTGGAGTATTGCTTTGGGAAATTGCTACCTATGGCATGTCCCCTTACCCGGGAATTGACCTGTCCCAGGTGTATGAGCTGCTAGAGAAGGACTACCGCATGGAGCGCCCAGAAGGCTGCCCAGAGAAGGTCTATGAACTCATGCGAGCATGTTGGCAGTGGAATCCCTCTGACCGGCCCTCCTTTGCTGAAATCCACCAAGCCTTTGAAACAATGTTCCAGGAATCCAGTATCTCAGACGAAGTGGAAAAGGAGCTGGGGAAACAAGGCGTCCGTGGGGCTGTGAGTACCTTGCTGCAGGCCCCAGAGCTGCCCACCAAGACGAGGACCTCCAGGAGAGCTGCAGAGCACAGAGACACCACTGACGTGCCTGAGATGCCTCACTCCAAGGGCCAGGGAGAGAGCGATCCTCTGGACCATGAGCCTGCCGTGTCTCCATTGCTCCCTCGAAAAGAGCGAGGTCCCCCGGAGGGCGGCCTGAATGAAGATGAGCGCCTTCTCCCCAAAGACAAAAAGACCAACTTGTTCAGCGCCTTGATCAAGAAGAAGAAGAAGACAGCCCCAACCCCTCCCAAACGCAGCAGCTCCTTCCGGGAGATGGACGGCCAGCCGGAGCGCAGAGGGGCCGGCGAGGAAGAGGGCCGAGACATCAGCAACGGGGCACTGGCTTTCACCCCCTTGGACACAGCTGACCCAGCCAAGTCCCCAAAGCCCAGCAATGGGGCTGGGGTCCCCAATGGAGCCCTCCGGGAGTCCGGGGGCTCAGGCTTCCGGTCTCCCCACCTGTGGAAGAAGTCCAGCACGCTGACCAGCAGCCGCCTAGCCACCGGCGAGGAGGAGGGCGGTGGCAGCTCCAGCAAGCGCTTCCTGCGCTCTTGCTCCGCCTCCTGCGTTCCCCATGGGGCCAAGGACACGGAGTGGAGGTCAGTCACGCTGCCTCGGGACTTGCAGTCCACGGGAAGACAGTTTGACTCGTCCACATTTGGAGGGCACAAAAGTGAGAAGCCGGCTCTGCCTCGGAAGAGGGCAGGGGAGAACAGGTCTGACCAGGTGACCCGAGGCACAGTAACGCCTCCCCCCAGGCTGGTGAAAAAGAATGAGGAAGCTGCTGATGAGGTCTTCAAAGACATCATGGAGTCCAGCCCGGGCTCCAGCCCGCCCAACCTGACTCCAAAACCCCTCCGGCGGCAGGTCACCGTGGCCCCTGCCTCGGGCCTCCCCCACAAGGAAGAAGCTGGAAAGGGCAGTGCCTTAGGGACCCCTGCTGCAGCTGAGCCAGTGACCCCCACCAGCAAAGCAGGCTCAGGTGCACCAGGGGGCACCAGCAAGGGCCCCGCCGAGGAGTCCAGAGTGAGGAGGCACAAGCACTCCTCTGAGTCGCCAGGGAGGGACAAGGGGAAATTGTCCAGGCTCAAACCTGCCCCGCCGCCCCCACCAGCAGCCTCTGCAGGGAAGGCTGGAGGAAAGCCCTCGCAGAGCCCGAGCCAGGAGGCGGCCGGGGAGGCAGTCCTGGGCGCAAAGACAAAAGCCACGAGTCTGGTTGATGCTGTGAACAGTGACGCTGCCAAGCCCAGCCAGCCGGGAGAGGGCCTCAAAAAGCCCGTGCTCCCGGCCACTCCAAAGCCACAGTCCGCCAAGCCGTCGGGGACCCCCATCAGCCCAGCCCCCGTTCCCTCCACGTTGCCATCAGCATCCTCGGCCCTGGCAGGGGACCAGCCGTCTTCCACCGCCTTCATCCCTCTCATATCAACCCGAGTGTCTCTTCGGAAAACCCGCCAGCCTCCAGAGCGGATCGCCAGCGGCGCCATCACCAAGGGCGTGGTCCTGGACAGCACCGAGGCGCTGTGCCTCGCCATCTCTAGGAACTCCGAGCAGATGGCCAGCCACAGCGCAGTGCTGGAGGCCGGCAAAAACCTCTACACGTTCTGCGTGAGCTATGTGGATTCCATCCAGCAAATGAGGAACAAGTTTGCCTTCCGAGAGGCCATCAACAAACTGGAGAATAATCTCCGGGAGCTTCAGATCTGCCCGGCGACAGCAGGCAGTGGTCCAGCGGCCACTCAGGACTTCAGCAAGCTCCTCAGTTCGGTGAAGGAAATCAGTGACATAGTGCAGAGGTAGC'"
   ]
  },
  {
   "cell_type": "code",
   "execution_count": 15,
   "metadata": {
    "scrolled": false
   },
   "outputs": [
    {
     "name": "stdout",
     "output_type": "stream",
     "text": [
      "Total summed synonymous mutation rate across region =  6.907631153999999e-07\n"
     ]
    }
   ],
   "source": [
    "ABL1_synonymous = synonymous_mutation_rate_across_gene('ABL1', ABL1_coding_sequence, ABL1_coding_sequence_extra_bases, 183, 362)"
   ]
  },
  {
   "cell_type": "markdown",
   "metadata": {},
   "source": [
    "#### Mutation rate for excluded synonymous ABL1 variants"
   ]
  },
  {
   "cell_type": "code",
   "execution_count": 19,
   "metadata": {
    "code_folding": [
     0
    ]
   },
   "outputs": [],
   "source": [
    "#Create a dictionary of the excluded synonymous variants in ABL1:\n",
    "import csv\n",
    "filename=\"Young_excluded_synonymous_1000_genomes.csv\"\n",
    "\n",
    "with open(filename, 'r') as csvfile:\n",
    "    read_reader = csv.reader(csvfile)  #csv.reader returns a reader object which will iterate over lines in the csvfile\n",
    "    row_count=0\n",
    "    excluded_ABL1_synonymous_variants={} #dictionary of DNMTA results (key = ID (row[13]), value = VAF (row[10]))\n",
    "\n",
    "    for row in read_reader:\n",
    "#         print(row)\n",
    "        if row_count>0:\n",
    "            gene = row[0]\n",
    "            variant = row[1]\n",
    "            AA_coordinate = row[11]\n",
    "            variant_ID = row[2]\n",
    "            if row[0]=='ABL1':\n",
    "                excluded_ABL1_synonymous_variants[variant]=(gene, AA_coordinate, variant_ID)\n",
    "\n",
    "        row_count=row_count+1"
   ]
  },
  {
   "cell_type": "code",
   "execution_count": 20,
   "metadata": {
    "scrolled": false
   },
   "outputs": [
    {
     "name": "stdout",
     "output_type": "stream",
     "text": [
      "Total summed mutation rate across excluded synonymous variants =  4.59448911e-08\n"
     ]
    }
   ],
   "source": [
    "ABL1_excluded = synonymous_excluded_variants_mutation_rate('ABL1', ABL1_coding_sequence, ABL1_coding_sequence_extra_bases, \\\n",
    "                                                           excluded_ABL1_synonymous_variants)"
   ]
  },
  {
   "cell_type": "markdown",
   "metadata": {},
   "source": [
    "#### Total synonymous mutation rate for ABL1"
   ]
  },
  {
   "cell_type": "code",
   "execution_count": 21,
   "metadata": {
    "code_folding": [
     0
    ]
   },
   "outputs": [
    {
     "name": "stdout",
     "output_type": "stream",
     "text": [
      "Synonymous mutation rate across ABL1 =  6.448182242999999e-07\n"
     ]
    }
   ],
   "source": [
    "#Subtract the mutation rate of the excluded variants from the total mutation rate for ABL1 synonymous variants across the panel\n",
    "ABL1 = ABL1_synonymous - ABL1_excluded\n",
    "print(\"Synonymous mutation rate across ABL1 = \", ABL1)"
   ]
  },
  {
   "cell_type": "markdown",
   "metadata": {},
   "source": [
    "## ASXL1 (exon 12)"
   ]
  },
  {
   "cell_type": "markdown",
   "metadata": {},
   "source": [
    "- ENST00000375687.4 transcript."
   ]
  },
  {
   "cell_type": "markdown",
   "metadata": {},
   "source": [
    "#### Mutation rate for synonymous variants across ASXL1 regions included in panel"
   ]
  },
  {
   "cell_type": "code",
   "execution_count": 22,
   "metadata": {},
   "outputs": [],
   "source": [
    "ASXL1_coding_sequence = 'ATGAAGGACAAACAGAAGAAGAAGAAGGAGCGCACGTGGGCCGAGGCCGCGCGCCTGGTATTAGAAAACTACTCGGATGCTCCAATGACACCAAAACAGATTCTGCAGGTCATAGAGGCAGAAGGACTAAAGGAAATGAGAAGTGGGACTTCCCCTCTCGCATGCCTCAATGCTATGCTACATTCCAATTCAAGAGGAGGAGAGGGGTTGTTTTATAAACTGCCTGGCCGAATCAGCCTTTTCACGCTCAAGAAGGATGCCCTGCAGTGGTCTCGCCATCCAGCTACAGTGGAGGGAGAGGAGCCAGAGGACACGGCTGATGTGGAGAGCTGTGGGTCTAATGAAGCCAGCACTGTGAGTGGTGAAAACGATGTATCTCTTGATGAAACATCTTCGAACGCATCCTGTTCTACAGAATCTCAGAGTCGACCTCTTTCCAATCCCAGGGACAGCTACAGAGCTTCCTCACAGGCGAACAAACAAAAGAAAAAGACTGGGGTGATGCTGCCTCGAGTTGTCCTGACTCCTCTGAAGGTAAACGGGGCCCACGTGGAATCTGCATCAGGGTTCTCGGGCTGCCACGCCGATGGCGAGAGCGGCAGCCCGTCCAGCAGCAGCAGCGGCTCTCTGGCCCTGGGCAGCGCTGCTATTCGTGGCCAGGCCGAGGTCACCCAGGACCCTGCCCCGCTCCTGAGAGGCTTCCGGAAGCCAGCCACAGGTCAAATGAAGCGCAACAGAGGGGAAGAAATAGATTTTGAGACACCTGGGTCCATTCTTGTCAACACCAACCTCCGTGCCCTGATCAACTCTCGGACCTTCCATGCCTTACCATCACACTTCCAGCAGCAGCTCCTCTTCCTCCTGCCTGAAGTAGACAGACAGGTGGGGACGGATGGCCTGTTGCGTCTCAGCAGCAGTGCACTAAATAACGAGTTTTTTACCCATGCGGCTCAGAGCTGGCGGGAGCGCCTGGCTGATGGTGAATTTACTCATGAGATGCAAGTCAGGATACGACAGGAAATGGAGAAGGAAAAGAAGGTGGAACAATGGAAAGAAAAGTTCTTTGAAGACTACTATGGACAGAAGCTGGGTTTGACCAAAGAAGAGTCATTGCAGCAGAACGTGGGCCAGGAGGAGGCTGAAATCAAAAGTGGCTTGTGTGTCCCAGGAGAATCAGTGCGTATACAGCGTGGTCCAGCCACCCGACAGCGAGATGGGCATTTTAAGAAACGCTCTCGGCCAGATCTCCGAACCAGAGCCAGAAGGAATCTGTACAAAAAACAGGAGTCAGAACAAGCAGGGGTTGCTAAGGATGCAAAATCTGTGGCCTCAGATGTTCCCCTCTACAAGGATGGGGAGGCTAAGACTGACCCAGCAGGGCTGAGCAGTCCCCATCTGCCAGGCACATCCTCTGCAGCACCCGACCTGGAGGGTCCCGAATTCCCAGTTGAGTCTGTGGCTTCTCGGATCCAGGCTGAGCCAGACAACTTGGCACGTGCCTCTGCATCTCCAGACAGAATTCCTAGCCTGCCTCAGGAAACTGTGGATCAGGAACCCAAGGATCAGAAGAGGAAATCCTTTGAGCAGGCGGCCTCTGCATCCTTTCCCGAAAAGAAGCCCCGGCTTGAAGATCGTCAGTCCTTTCGTAACACAATTGAAAGTGTTCACACCGAAAAGCCACAGCCCACTAAAGAGGAGCCCAAAGTCCCGCCCATCCGGATTCAACTTTCACGTATCAAACCACCCTGGGTGGTTAAAGGTCAGCCCACTTACCAGATATGCCCCCGGATCATCCCCACCACGGAGTCCTCCTGCCGGGGTTGGACTGGCGCCAGGACCCTCGCAGACATTAAAGCCCGTGCTCTGCAGGTCCGAGGGGCGAGAGGTCACCACTGCCATAGAGAGGCGGCCACCACTGCCATCGGAGGGGGGGGTGGCCCGGGTGGAGGTGGCGGCGGGGCCACCGATGAGGGAGGTGGCAGAGGCAGCAGCAGTGGTGATGGTGGTGAGGCCTGTGGCCACCCTGAGCCCAGGGGAGGCCCGAGCACCCCTGGAAAGTGTACGTCAGATCTACAGCGAACACAACTACTGCCGCCTTATCCTCTAAATGGGGAGCATACCCAGGCCGGAACTGCCATGTCCAGAGCTAGGAGAGAGGACCTGCCTTCTCTGAGAAAGGAGGAAAGCTGCCTACTACAGAGGGCTACAGTTGGACTCACAGATGGGCTAGGAGATGCCTCCCAACTCCCCGTTGCTCCCACTGGGGACCAGCCATGCCAGGCCTTGCCCCTACTGTCCTCCCAAACCTCAGTAGCTGAGAGATTAGTGGAGCAGCCTCAGTTGCATCCGGATGTTAGAACTGAATGTGAGTCTGGCACCACTTCCTGGGAAAGTGATGATGAGGAGCAAGGACCCACCGTTCCTGCAGACAATGGTCCCATTCTGTCTCTAGTGGGAGATGATACATTAGAGAAAGGAACTGGCCAAGCTCTTGACAGTCATCCCACTATGAAGGATCCTGTAAATGTGACCCCCAGTTCCACACCTGAATCCTCACCGACTGATTGCCTGCAGAACAGAGCATTTGATGACGAATTAGGGCTTGGTGGCTCATGCCCTCCTATGAGGGAAAGTGATACTAGACAAGAAAACTTGAAAACCAAGGCTCTCGTTTCTAACAGTTCTTTGCATTGGATACCCATCCCATCGAATGATGAGGTAGTGAAACAGCCCAAACCAGAATCCAGAGAACACATACCATCTGTTGAGCCCCAGGTTGGAGAGGAGTGGGAGAAAGCTGCTCCCACCCCTCCTGCATTGCCTGGGGATTTGACAGCTGAGGAGGGTCTAGATCCTCTTGACAGCCTTACTTCACTCTGGACTGTGCCATCTCGAGGAGGCAGTGACAGCAATGGCAGTTACTGTCAACAGGTGGACATTGAAAAGCTGAAAATCAACGGAGACTCTGAAGCACTGAGTCCTCACGGTGAGTCCACGGATACAGCCTCTGACTTTGAAGGTCACCTCACGGAGGACAGCAGTGAGGCTGACACTAGAGAAGCTGCAGTGACAAAGGGATCTTCGGTGGACAAGGATGAGAAACCCAATTGGAACCAATCTGCCCCACTGTCCAAGGTGAATGGTGACATGCGTCTGGTTACAAGGACAGATGGGATGGTTGCTCCTCAGAGCTGGGTGTCTCGAGTATGTGCGGTCCGCCAAAAGATCCCAGATTCCCTACTGCTGGCCAGTACTGAGTACCAGCCAAGAGCCGTGTGCCTGTCCATGCCTGGGTCCTCAGTGGAGGCCACTAACCCACTTGTGATGCAGTTGCTGCAGGGTAGCTTGCCCCTAGAGAAGGTTCTTCCACCAGCCCACGATGACAGCATGTCAGAATCCCCACAAGTACCACTTACAAAAGACCAGAGCCATGGCTCGCTACGCATGGGATCTTTACATGGTCTTGGAAAAAACAGTGGCATGGTTGATGGAAGCAGCCCCAGTTCTTTAAGGGCTTTGAAGGAGCCTCTTCTGCCAGATAGCTGTGAAACAGGCACTGGTCTTGCCAGGATTGAGGCCACCCAGGCTCCTGGAGCACCCCAAAAGAATTGCAAGGCAGTCCCAAGTTTTGACTCCCTCCATCCAGTGACAAATCCCATTACATCCTCTAGGAAACTGGAAGAAATGGATTCCAAAGAGCAGTTCTCTTCCTTTAGTTGTGAAGATCAGAAGGAAGTCCGTGCTATGTCACAGGACAGTAATTCAAATGCTGCTCCAGGAAAGAGCCCAGGAGATCTTACTACCTCGAGAACACCTCGTTTCTCATCTCCAAATGTGATCTCCTTTGGTCCAGAGCAGACAGGTCGGGCCCTGGGTGATCAGAGCAATGTTACAGGCCAAGGGAAGAAGCTTTTTGGCTCTGGGAATGTGGCTGCAACCCTTCAGCGCCCCAGGCCTGCGGACCCGATGCCTCTTCCTGCTGAGATCCCTCCAGTTTTTCCCAGTGGGAAGTTGGGACCAAGCACAAACTCCATGTCTGGTGGGGTACAGACTCCAAGGGAAGACTGGGCTCCAAAGCCACATGCCTTTGTTGGCAGCGTCAAGAATGAGAAGACTTTTGTGGGGGGTCCTCTTAAGGCAAATGCCGAGAACAGGAAAGCTACTGGGCATAGTCCCCTGGAACTGGTGGGTCACTTGGAAGGGATGCCCTTTGTCATGGACTTGCCCTTCTGGAAATTACCCCGAGAGCCAGGGAAGGGGCTCAGTGAGCCTCTGGAGCCTTCTTCTCTCCCCTCCCAACTCAGCATCAAGCAGGCATTTTATGGGAAGCTTTCTAAACTCCAACTGAGTTCCACCAGCTTTAATTATTCCTCTAGCTCTCCCACCTTTCCCAAAGGCCTTGCTGGAAGTGTGGTGCAGCTGAGCCACAAAGCAAACTTTGGTGCGAGCCACAGTGCATCACTTTCCTTGCAAATGTTCACTGACAGCAGCACGGTGGAAAGCATCTCGCTCCAGTGTGCGTGCAGCCTGAAAGCCATGATCATGTGCCAAGGCTGCGGTGCGTTCTGTCACGATGACTGTATTGGACCCTCAAAGCTCTGTGTATTGTGCCTTGTGGTGAGATAA'\n",
    "ASXL1_coding_sequence_extra_bases = 'GATGAAGGACAAACAGAAGAAGAAGAAGGAGCGCACGTGGGCCGAGGCCGCGCGCCTGGTATTAGAAAACTACTCGGATGCTCCAATGACACCAAAACAGATTCTGCAGGTCATAGAGGCAGAAGGACTAAAGGAAATGAGAAGTGGGACTTCCCCTCTCGCATGCCTCAATGCTATGCTACATTCCAATTCAAGAGGAGGAGAGGGGTTGTTTTATAAACTGCCTGGCCGAATCAGCCTTTTCACGCTCAAGAAGGATGCCCTGCAGTGGTCTCGCCATCCAGCTACAGTGGAGGGAGAGGAGCCAGAGGACACGGCTGATGTGGAGAGCTGTGGGTCTAATGAAGCCAGCACTGTGAGTGGTGAAAACGATGTATCTCTTGATGAAACATCTTCGAACGCATCCTGTTCTACAGAATCTCAGAGTCGACCTCTTTCCAATCCCAGGGACAGCTACAGAGCTTCCTCACAGGCGAACAAACAAAAGAAAAAGACTGGGGTGATGCTGCCTCGAGTTGTCCTGACTCCTCTGAAGGTAAACGGGGCCCACGTGGAATCTGCATCAGGGTTCTCGGGCTGCCACGCCGATGGCGAGAGCGGCAGCCCGTCCAGCAGCAGCAGCGGCTCTCTGGCCCTGGGCAGCGCTGCTATTCGTGGCCAGGCCGAGGTCACCCAGGACCCTGCCCCGCTCCTGAGAGGCTTCCGGAAGCCAGCCACAGGTCAAATGAAGCGCAACAGAGGGGAAGAAATAGATTTTGAGACACCTGGGTCCATTCTTGTCAACACCAACCTCCGTGCCCTGATCAACTCTCGGACCTTCCATGCCTTACCATCACACTTCCAGCAGCAGCTCCTCTTCCTCCTGCCTGAAGTAGACAGACAGGTGGGGACGGATGGCCTGTTGCGTCTCAGCAGCAGTGCACTAAATAACGAGTTTTTTACCCATGCGGCTCAGAGCTGGCGGGAGCGCCTGGCTGATGGTGAATTTACTCATGAGATGCAAGTCAGGATACGACAGGAAATGGAGAAGGAAAAGAAGGTGGAACAATGGAAAGAAAAGTTCTTTGAAGACTACTATGGACAGAAGCTGGGTTTGACCAAAGAAGAGTCATTGCAGCAGAACGTGGGCCAGGAGGAGGCTGAAATCAAAAGTGGCTTGTGTGTCCCAGGAGAATCAGTGCGTATACAGCGTGGTCCAGCCACCCGACAGCGAGATGGGCATTTTAAGAAACGCTCTCGGCCAGATCTCCGAACCAGAGCCAGAAGGAATCTGTACAAAAAACAGGAGTCAGAACAAGCAGGGGTTGCTAAGGATGCAAAATCTGTGGCCTCAGATGTTCCCCTCTACAAGGATGGGGAGGCTAAGACTGACCCAGCAGGGCTGAGCAGTCCCCATCTGCCAGGCACATCCTCTGCAGCACCCGACCTGGAGGGTCCCGAATTCCCAGTTGAGTCTGTGGCTTCTCGGATCCAGGCTGAGCCAGACAACTTGGCACGTGCCTCTGCATCTCCAGACAGAATTCCTAGCCTGCCTCAGGAAACTGTGGATCAGGAACCCAAGGATCAGAAGAGGAAATCCTTTGAGCAGGCGGCCTCTGCATCCTTTCCCGAAAAGAAGCCCCGGCTTGAAGATCGTCAGTCCTTTCGTAACACAATTGAAAGTGTTCACACCGAAAAGCCACAGCCCACTAAAGAGGAGCCCAAAGTCCCGCCCATCCGGATTCAACTTTCACGTATCAAACCACCCTGGGTGGTTAAAGGTCAGCCCACTTACCAGATATGCCCCCGGATCATCCCCACCACGGAGTCCTCCTGCCGGGGTTGGACTGGCGCCAGGACCCTCGCAGACATTAAAGCCCGTGCTCTGCAGGTCCGAGGGGCGAGAGGTCACCACTGCCATAGAGAGGCGGCCACCACTGCCATCGGAGGGGGGGGTGGCCCGGGTGGAGGTGGCGGCGGGGCCACCGATGAGGGAGGTGGCAGAGGCAGCAGCAGTGGTGATGGTGGTGAGGCCTGTGGCCACCCTGAGCCCAGGGGAGGCCCGAGCACCCCTGGAAAGTGTACGTCAGATCTACAGCGAACACAACTACTGCCGCCTTATCCTCTAAATGGGGAGCATACCCAGGCCGGAACTGCCATGTCCAGAGCTAGGAGAGAGGACCTGCCTTCTCTGAGAAAGGAGGAAAGCTGCCTACTACAGAGGGCTACAGTTGGACTCACAGATGGGCTAGGAGATGCCTCCCAACTCCCCGTTGCTCCCACTGGGGACCAGCCATGCCAGGCCTTGCCCCTACTGTCCTCCCAAACCTCAGTAGCTGAGAGATTAGTGGAGCAGCCTCAGTTGCATCCGGATGTTAGAACTGAATGTGAGTCTGGCACCACTTCCTGGGAAAGTGATGATGAGGAGCAAGGACCCACCGTTCCTGCAGACAATGGTCCCATTCTGTCTCTAGTGGGAGATGATACATTAGAGAAAGGAACTGGCCAAGCTCTTGACAGTCATCCCACTATGAAGGATCCTGTAAATGTGACCCCCAGTTCCACACCTGAATCCTCACCGACTGATTGCCTGCAGAACAGAGCATTTGATGACGAATTAGGGCTTGGTGGCTCATGCCCTCCTATGAGGGAAAGTGATACTAGACAAGAAAACTTGAAAACCAAGGCTCTCGTTTCTAACAGTTCTTTGCATTGGATACCCATCCCATCGAATGATGAGGTAGTGAAACAGCCCAAACCAGAATCCAGAGAACACATACCATCTGTTGAGCCCCAGGTTGGAGAGGAGTGGGAGAAAGCTGCTCCCACCCCTCCTGCATTGCCTGGGGATTTGACAGCTGAGGAGGGTCTAGATCCTCTTGACAGCCTTACTTCACTCTGGACTGTGCCATCTCGAGGAGGCAGTGACAGCAATGGCAGTTACTGTCAACAGGTGGACATTGAAAAGCTGAAAATCAACGGAGACTCTGAAGCACTGAGTCCTCACGGTGAGTCCACGGATACAGCCTCTGACTTTGAAGGTCACCTCACGGAGGACAGCAGTGAGGCTGACACTAGAGAAGCTGCAGTGACAAAGGGATCTTCGGTGGACAAGGATGAGAAACCCAATTGGAACCAATCTGCCCCACTGTCCAAGGTGAATGGTGACATGCGTCTGGTTACAAGGACAGATGGGATGGTTGCTCCTCAGAGCTGGGTGTCTCGAGTATGTGCGGTCCGCCAAAAGATCCCAGATTCCCTACTGCTGGCCAGTACTGAGTACCAGCCAAGAGCCGTGTGCCTGTCCATGCCTGGGTCCTCAGTGGAGGCCACTAACCCACTTGTGATGCAGTTGCTGCAGGGTAGCTTGCCCCTAGAGAAGGTTCTTCCACCAGCCCACGATGACAGCATGTCAGAATCCCCACAAGTACCACTTACAAAAGACCAGAGCCATGGCTCGCTACGCATGGGATCTTTACATGGTCTTGGAAAAAACAGTGGCATGGTTGATGGAAGCAGCCCCAGTTCTTTAAGGGCTTTGAAGGAGCCTCTTCTGCCAGATAGCTGTGAAACAGGCACTGGTCTTGCCAGGATTGAGGCCACCCAGGCTCCTGGAGCACCCCAAAAGAATTGCAAGGCAGTCCCAAGTTTTGACTCCCTCCATCCAGTGACAAATCCCATTACATCCTCTAGGAAACTGGAAGAAATGGATTCCAAAGAGCAGTTCTCTTCCTTTAGTTGTGAAGATCAGAAGGAAGTCCGTGCTATGTCACAGGACAGTAATTCAAATGCTGCTCCAGGAAAGAGCCCAGGAGATCTTACTACCTCGAGAACACCTCGTTTCTCATCTCCAAATGTGATCTCCTTTGGTCCAGAGCAGACAGGTCGGGCCCTGGGTGATCAGAGCAATGTTACAGGCCAAGGGAAGAAGCTTTTTGGCTCTGGGAATGTGGCTGCAACCCTTCAGCGCCCCAGGCCTGCGGACCCGATGCCTCTTCCTGCTGAGATCCCTCCAGTTTTTCCCAGTGGGAAGTTGGGACCAAGCACAAACTCCATGTCTGGTGGGGTACAGACTCCAAGGGAAGACTGGGCTCCAAAGCCACATGCCTTTGTTGGCAGCGTCAAGAATGAGAAGACTTTTGTGGGGGGTCCTCTTAAGGCAAATGCCGAGAACAGGAAAGCTACTGGGCATAGTCCCCTGGAACTGGTGGGTCACTTGGAAGGGATGCCCTTTGTCATGGACTTGCCCTTCTGGAAATTACCCCGAGAGCCAGGGAAGGGGCTCAGTGAGCCTCTGGAGCCTTCTTCTCTCCCCTCCCAACTCAGCATCAAGCAGGCATTTTATGGGAAGCTTTCTAAACTCCAACTGAGTTCCACCAGCTTTAATTATTCCTCTAGCTCTCCCACCTTTCCCAAAGGCCTTGCTGGAAGTGTGGTGCAGCTGAGCCACAAAGCAAACTTTGGTGCGAGCCACAGTGCATCACTTTCCTTGCAAATGTTCACTGACAGCAGCACGGTGGAAAGCATCTCGCTCCAGTGTGCGTGCAGCCTGAAAGCCATGATCATGTGCCAAGGCTGCGGTGCGTTCTGTCACGATGACTGTATTGGACCCTCAAAGCTCTGTGTATTGTGCCTTGTGGTGAGATAAT'"
   ]
  },
  {
   "cell_type": "code",
   "execution_count": 23,
   "metadata": {
    "scrolled": false
   },
   "outputs": [
    {
     "name": "stdout",
     "output_type": "stream",
     "text": [
      "Total summed synonymous mutation rate across region =  2.8506205327e-06\n"
     ]
    }
   ],
   "source": [
    "ASXL1_synonymous = synonymous_mutation_rate_across_gene('ASXL1', ASXL1_coding_sequence, ASXL1_coding_sequence_extra_bases, 573,1542)"
   ]
  },
  {
   "cell_type": "markdown",
   "metadata": {},
   "source": [
    "#### Mutation rate for excluded synonymous ASXL1 variants"
   ]
  },
  {
   "cell_type": "code",
   "execution_count": 24,
   "metadata": {
    "code_folding": [
     0
    ]
   },
   "outputs": [],
   "source": [
    "#Create a dictionary of the excluded synonymous variants in ASXL1:\n",
    "import csv\n",
    "filename=\"Young_excluded_synonymous_1000_genomes.csv\"\n",
    "\n",
    "with open(filename, 'r') as csvfile:\n",
    "    read_reader = csv.reader(csvfile)  #csv.reader returns a reader object which will iterate over lines in the csvfile\n",
    "    row_count=0\n",
    "    excluded_ASXL1_synonymous_variants={} #dictionary of DNMTA results (key = ID (row[13]), value = VAF (row[10]))\n",
    "\n",
    "    for row in read_reader:\n",
    "#         print(row)\n",
    "        if row_count>0:\n",
    "            gene = row[0]\n",
    "            variant = row[1]\n",
    "            AA_coordinate = row[11]\n",
    "            variant_ID = row[2]\n",
    "            if row[0]=='ASXL1':\n",
    "                excluded_ASXL1_synonymous_variants[variant]=(gene, AA_coordinate, variant_ID)\n",
    "\n",
    "        row_count=row_count+1"
   ]
  },
  {
   "cell_type": "code",
   "execution_count": 25,
   "metadata": {
    "scrolled": false
   },
   "outputs": [
    {
     "name": "stdout",
     "output_type": "stream",
     "text": [
      "Total summed mutation rate across excluded synonymous variants =  2.9435805999999997e-08\n"
     ]
    }
   ],
   "source": [
    "ASXL1_excluded = synonymous_excluded_variants_mutation_rate('ASXL1', ASXL1_coding_sequence, ASXL1_coding_sequence_extra_bases, \\\n",
    "                                                           excluded_ASXL1_synonymous_variants)"
   ]
  },
  {
   "cell_type": "markdown",
   "metadata": {},
   "source": [
    "#### Total synonymous mutation rate for ASXL1"
   ]
  },
  {
   "cell_type": "code",
   "execution_count": 26,
   "metadata": {
    "code_folding": [
     0
    ]
   },
   "outputs": [
    {
     "name": "stdout",
     "output_type": "stream",
     "text": [
      "Synonymous mutation rate across ASXL1 =  2.8211847267e-06\n"
     ]
    }
   ],
   "source": [
    "#Subtract the mutation rate of the excluded variants from the total mutation rate for ASXL1 synonymous variants across the panel\n",
    "ASXL1 = ASXL1_synonymous - ASXL1_excluded\n",
    "print(\"Synonymous mutation rate across ASXL1 = \", ASXL1)"
   ]
  },
  {
   "cell_type": "markdown",
   "metadata": {},
   "source": [
    "## ATRX (exons 8-10 (codons 199-1270), 17-31 (codons 1567-2283))"
   ]
  },
  {
   "cell_type": "markdown",
   "metadata": {},
   "source": [
    "- No excluded variants in these regions."
   ]
  },
  {
   "cell_type": "markdown",
   "metadata": {},
   "source": [
    "#### Mutation rate for synonymous variants across ATRX regions included in panel"
   ]
  },
  {
   "cell_type": "code",
   "execution_count": 27,
   "metadata": {},
   "outputs": [],
   "source": [
    "ATRX_coding_sequence = 'ATGACCGCTGAGCCCATGAGTGAAAGCAAGTTGAATACATTGGTGCAGAAGCTTCATGACTTCCTTGCACACTCATCAGAAGAATCTGAAGAAACAAGTTCTCCTCCACGACTTGCAATGAATCAAAACACAGATAAAATCAGTGGTTCTGGAAGTAACTCTGATATGATGGAAAACAGCAAGGAAGAGGGAACTAGCTCTTCAGAAAAATCCAAGTCTTCAGGATCGTCACGATCAAAGAGGAAACCTTCAATTGTAACAAAGTATGTAGAATCAGATGATGAAAAACCTTTGGATGATGAAACTGTAAATGAAGATGCGTCTAATGAAAATTCAGAAAATGATATTACTATGCAGAGCTTGCCAAAAGGTACAGTGATTGTACAGCCAGAGCCAGTGCTGAATGAAGACAAAGATGATTTTAAAGGGCCTGAATTTAGAAGCAGAAGTAAAATGAAAACTGAAAATCTCAAAAAACGCGGAGAAGATGGGCTTCATGGGATTGTGAGCTGCACTGCTTGTGGACAACAGGTCAATCATTTTCAAAAAGATTCCATTTATAGACACCCTTCATTGCAAGTTCTTATTTGTAAGAATTGCTTTAAGTATTACATGAGTGATGATATTAGCCGTGACTCAGATGGAATGGATGAACAATGTAGGTGGTGTGCGGAAGGTGGAAACTTGATTTGTTGTGACTTTTGCCATAATGCTTTCTGCAAGAAATGCATTCTACGCAACCTTGGTCGAAAGGAGTTGTCCACAATAATGGATGAAAACAACCAATGGTATTGCTACATTTGTCACCCAGAGCCTTTGTTGGACTTGGTCACTGCATGTAACAGCGTATTTGAGAATTTAGAACAGTTGTTGCAGCAAAATAAGAAGAAGATAAAAGTTGACAGTGAAAAGAGTAATAAAGTATATGAACATACATCCAGATTTTCTCCAAAGAAGACTAGTTCAAATTGTAATGGAGAAGAAAAGAAATTAGATGATTCCTGTTCTGGCTCTGTAACCTACTCTTATTCCGCACTAATTGTGCCCAAAGAGATGATTAAGAAGGCAAAAAAACTGATTGAGACCACAGCCAACATGAACTCCAGTTATGTTAAATTTTTAAAGCAGGCAACAGATAATTCAGAAATCAGTTCTGCTACAAAATTACGTCAGCTTAAGGCTTTTAAGTCTGTGTTGGCTGATATTAAGAAGGCTCATCTTGCATTGGAAGAAGACTTAAATTCCGAGTTTCGAGCGATGGATGCTGTAAACAAAGAGAAAAATACCAAAGAGCATAAAGTCATAGATGCTAAGTTTGAAACAAAAGCACGAAAAGGAGAAAAACCTTGTGCTTTGGAAAAGAAGGATATTTCAAAGTCAGAAGCTAAACTTTCAAGAAAACAGGTAGATAGTGAGCACATGCATCAGAATGTTCCAACAGAGGAACAAAGAACAAATAAAAGTACCGGTGGTGAACATAAGAAATCTGATAGAAAAGAAGAACCTCAATATGAACCTGCCAACACTTCTGAAGATTTAGACATGGATATTGTGTCTGTTCCTTCCTCAGTTCCAGAAGACATTTTTGAGAATCTTGAGACTGCTATGGAAGTTCAGAGTTCAGTTGATCATCAAGGGGATGGCAGCAGTGGAACTGAACAAGAAGTGGAGAGTTCATCTGTAAAATTAAATATTTCTTCAAAAGACAACAGAGGAGGTATTAAATCAAAAACTACAGCTAAAGTAACAAAAGAATTATATGTTAAACTCACTCCTGTTTCCCTTTCTAATTCCCCAATTAAAGGTGCTGATTGTCAGGAAGTTCCACAAGATAAAGATGGCTATAAAAGTTGTGGTCTGAACCCCAAGTTAGAGAAATGTGGACTTGGACAGGAAAACAGTGATAATGAGCATTTGGTTGAAAATGAAGTTTCATTACTTTTAGAGGAATCTGATCTTCGAAGATCCCCACGTGTAAAGACTACACCCTTGAGGCGACCGACAGAAACTAACCCTGTAACATCTAATTCAGATGAAGAATGTAATGAAACAGTTAAGGAGAAACAAAAACTATCAGTTCCAGTGAGAAAAAAGGATAAGCGTAATTCTTCTGACAGTGCTATAGATAATCCTAAGCCTAATAAATTGCCAAAATCTAAGCAATCAGAGACTGTGGATCAAAATTCAGATTCTGATGAAATGCTAGCAATCCTCAAAGAGGTGAGCAGGATGAGTCACAGTTCTTCTTCAGATACTGATATTAATGAAATTCATACAAACCATAAGACTTTGTATGATTTAAAGACTCAGGCGGGGAAAGATGATAAAGGAAAAAGGAAACGAAAAAGTTCTACATCTGGCTCAGATTTTGATACTAAAAAGGGCAAATCAGCTAAGAGCTCTATAATTTCTAAAAAGAAACGACAAACCCAGTCTGAGTCTTCTAATTATGACTCAGAATTAGAAAAAGAGATAAAGAGCATGAGTAAAATTGGTGCTGCCAGAACCACCAAAAAAAGAATTCCAAATACAAAAGATTTTGACTCTTCTGAAGATGAGAAACACAGCAAAAAAGGAATGGATAATCAAGGGCACAAAAATTTGAAGACCTCACAAGAAGGATCATCTGATGATGCTGAAAGAAAACAAGAGAGAGAGACTTTCTCTTCAGCAGAAGGCACAGTTGATAAAGACACGACCATCATGGAATTAAGAGATCGACTTCCTAAGAAGCAGCAAGCAAGTGCTTCCACTGATGGTGTCGATAAGCTTTCTGGGAAAGAGCAGAGTTTTACTTCTTTGGAAGTTAGAAAAGTTGCTGAAACTAAAGAAAAGAGCAAGCATCTCAAAACCAAAACATGTAAAAAAGTACAGGATGGCTTATCTGATATTGCAGAGAAATTCCTAAAGAAAGACCAGAGCGATGAAACTTCTGAAGATGATAAAAAGCAGAGCAAAAAGGGAACTGAAGAAAAAAAGAAACCTTCAGACTTTAAGAAAAAAGTAATTAAAATGGAACAACAGTATGAATCTTCATCTGATGGCACTGAAAAGTTACCTGAGCGAGAAGAAATTTGTCATTTTCCTAAGGGCATAAAACAAATTAAGAATGGAACAACTGATGGAGAAAAGAAAAGTAAAAAAATAAGAGATAAAACTTCTAAAAAGAAGGATGAATTATCTGATTATGCTGAGAAGTCAACAGGGAAAGGAGATAGTTGTGACTCTTCAGAGGATAAAAAGAGTAAGAATGGAGCATATGGTAGAGAGAAGAAAAGGTGCAAGTTGCTTGGAAAGAGTTCAAGGAAGAGACAAGATTGTTCATCATCTGATACTGAGAAATATTCCATGAAAGAAGATGGTTGTAACTCTTCTGATAAGAGACTGAAAAGAATAGAATTGAGGGAAAGAAGAAATTTAAGTTCAAAGAGAAATACTAAGGAAATACAAAGTGGCTCATCATCATCTGATGCTGAGGAAAGTTCTGAAGATAATAAAAAGAAGAAGCAAAGAACTTCATCTAAAAAGAAGGCAGTCATTGTCAAGGAGAAAAAGAGAAACTCCCTAAGAACAAGCACTAAAAGGAAGCAAGCTGACATTACATCCTCATCTTCTTCTGATATAGAAGATGATGATCAGAATTCTATAGGTGAGGGAAGCAGCGATGAACAGAAAATTAAGCCTGTGACTGAAAATTTAGTGCTGTCTTCACATACTGGATTTTGCCAATCTTCAGGAGATGAAGCCTTATCTAAATCAGTGCCTGTCACAGTGGATGATGATGATGACGACAATGATCCTGAGAATAGAATTGCCAAGAAGATGCTTTTAGAAGAAATTAAAGCCAATCTTTCCTCTGATGAGGATGGATCTTCAGATGATGAGCCAGAAGAAGGGAAAAAAAGAACTGGAAAACAAAATGAAGAAAACCCAGGAGATGAGGAAGCAAAAAATCAAGTCAATTCTGAATCAGATTCAGATTCTGAAGAATCTAAGAAGCCAAGATACAGACATAGGCTTTTGCGGCACAAATTGACTGTGAGTGACGGAGAATCTGGAGAAGAAAAAAAGACAAAGCCTAAAGAGCATAAAGAAGTCAAAGGCAGAAACAGAAGAAAGGTGAGCAGTGAAGATTCAGAAGATTCTGATTTTCAGGAATCAGGAGTTAGTGAAGAAGTTAGTGAATCCGAAGATGAACAGCGGCCCAGAACAAGGTCTGCAAAGAAAGCAGAGTTGGAAGAAAATCAGCGGAGCTATAAACAGAAAAAGAAAAGGCGACGTATTAAGGTTCAAGAAGATTCATCCAGTGAAAACAAGAGTAATTCTGAGGAAGAAGAGGAGGAAAAAGAAGAGGAGGAGGAAGAGGAGGAGGAGGAGGAAGAGGAGGAGGAAGATGAAAATGATGATTCCAAGTCTCCTGGAAAAGGCAGAAAGAAAATTCGGAAGATTCTTAAAGATGATAAACTGAGAACAGAAACACAAAATGCTCTTAAGGAAGAGGAAGAGAGACGAAAACGTATTGCTGAGAGGGAGCGTGAGCGAGAAAAATTGAGAGAGGTGATAGAAATTGAAGATGCTTCACCCACCAAGTGTCCAATAACAACCAAGTTGGTTTTAGATGAAGATGAAGAAACCAAAGAACCTTTAGTGCAGGTTCATAGAAATATGGTTATCAAATTGAAACCCCATCAAGTAGATGGTGTTCAGTTTATGTGGGATTGCTGCTGTGAGTCTGTGAAAAAAACAAAGAAATCTCCAGGTTCAGGATGCATTCTTGCCCACTGTATGGGCCTTGGTAAGACTTTACAGGTGGTAAGTTTTCTTCATACAGTTCTTTTGTGTGACAAACTGGATTTCAGCACGGCGTTAGTGGTTTGTCCTCTTAATACTGCTTTGAATTGGATGAATGAATTTGAGAAGTGGCAAGAGGGATTAAAAGATGATGAGAAGCTTGAGGTTTCTGAATTAGCAACTGTGAAACGTCCTCAGGAGAGAAGCTACATGCTGCAGAGGTGGCAAGAAGATGGTGGTGTTATGATCATAGGCTATGAGATGTATAGAAATCTTGCTCAAGGAAGGAATGTGAAGAGTCGGAAACTTAAAGAAATATTTAACAAAGCTTTGGTTGATCCAGGCCCTGATTTTGTTGTTTGTGATGAAGGCCATATTCTAAAAAATGAAGCATCTGCTGTTTCTAAAGCTATGAATTCTATACGATCAAGGAGGAGGATTATTTTAACAGGAACACCACTTCAAAATAACCTAATTGAGTATCATTGTATGGTTAATTTTATCAAGGAAAATTTACTTGGATCCATTAAGGAGTTCAGGAATAGATTTATAAATCCAATTCAAAATGGTCAGTGTGCAGATTCTACCATGGTAGATGTCAGAGTGATGAAAAAACGTGCTCACATTCTCTATGAGATGTTAGCTGGATGTGTTCAGAGGAAAGATTATACAGCATTAACAAAATTCTTGCCTCCAAAACACGAATATGTGTTAGCTGTGAGAATGACTTCTATTCAGTGCAAGCTCTATCAGTACTACTTAGATCACTTAACAGGTGTGGGCAATAATAGTGAAGGTGGAAGAGGAAAGGCAGGTGCAAAGCTTTTCCAAGATTTTCAGATGTTAAGTAGAATATGGACTCATCCTTGGTGTTTGCAGCTAGACTACATTAGCAAAGAAAATAAGGGTTATTTTGATGAAGACAGTATGGATGAATTTATAGCCTCAGATTCTGATGAAACCTCCATGAGTTTAAGCTCCGATGATTATACAAAAAAGAAGAAAAAAGGGAAAAAGGGGAAAAAAGATAGTAGCTCAAGTGGAAGTGGCAGTGACAATGATGTTGAAGTGATTAAGGTCTGGAATTCAAGATCTCGGGGAGGTGGTGAAGGAAATGTGGATGAAACAGGAAACAATCCTTCTGTTTCTTTAAAACTGGAAGAAAGTAAAGCTACTTCTTCTTCTAATCCAAGCAGCCCAGCTCCAGACTGGTACAAAGATTTTGTTACAGATGCTGATGCTGAGGTTTTAGAGCATTCTGGGAAAATGGTACTTCTCTTTGAAATTCTTCGAATGGCAGAGGAAATTGGGGATAAAGTCCTTGTTTTCAGCCAGTCCCTCATATCTCTGGACTTGATTGAAGATTTTCTTGAATTAGCTAGTAGGGAGAAGACAGAAGATAAAGATAAACCCCTTATTTATAAAGGTGAGGGGAAGTGGCTTCGAAACATTGACTATTACCGTTTAGATGGTTCCACTACTGCACAGTCAAGGAAGAAGTGGGCTGAAGAATTTAATGATGAAACTAATGTGAGAGGACGATTATTTATCATTTCTACTAAAGCAGGATCTCTAGGAATTAATCTGGTAGCTGCTAATCGAGTAATTATATTCGACGCTTCTTGGAATCCATCTTATGACATCCAGAGTATATTCAGAGTTTATCGCTTTGGACAAACTAAGCCTGTTTATGTATATAGGTTCTTAGCTCAGGGAACCATGGAAGATAAGATTTATGATCGGCAAGTAACTAAGCAGTCACTGTCTTTTCGAGTTGTTGATCAGCAGCAGGTGGAGCGTCATTTTACTATGAATGAGCTTACTGAACTTTATACTTTTGAGCCAGACTTATTAGATGACCCTAATTCAGAAAAGAAGAAGAAGAGGGATACTCCCATGCTGCCAAAGGATACCATACTTGCAGAGCTCCTTCAGATACATAAAGAACACATTGTAGGATACCATGAACATGATTCTCTTTTGGACCACAAAGAAGAAGAAGAGTTGACTGAAGAAGAAAGAAAAGCAGCTTGGGCTGAGTATGAAGCAGAGAAGAAGGGACTGACCATGCGTTTCAACATACCAACTGGGACCAATTTACCCCCTGTCAGTTTCAACTCTCAAACTCCTTATATTCCTTTCAATTTGGGAGCCCTGTCAGCAATGAGTAATCAACAGCTGGAGGACCTCATTAATCAAGGAAGAGAAAAAGTTGTAGAAGCAACAAACAGTGTGACAGCAGTGAGGATTCAACCTCTTGAGGATATAATTTCAGCTGTATGGAAGGAGAACATGAATCTCTCAGAGGCCCAAGTACAGGCGTTAGCATTAAGTAGACAAGCCAGCCAGGAGCTTGATGTTAAACGAAGAGAAGCAATCTACAATGATGTATTGACAAAACAACAGATGTTAATCAGCTGTGTTCAGCGAATACTTATGAACAGAAGGCTCCAGCAGCAGTACAATCAGCAGCAACAGCAACAAATGACTTATCAACAAGCAACACTGGGTCACCTCATGATGCCAAAGCCCCCAAATTTGATCATGAATCCTTCTAACTACCAGCAGATTGATATGAGAGGAATGTATCAGCCAGTGGCTGGTGGTATGCAGCCACCACCATTACAGCGTGCACCACCCCCAATGAGAAGCAAAAATCCAGGACCTTCCCAAGGGAAATCAATGTGA'\n",
    "ATRX_coding_sequence_extra_bases = 'CATGACCGCTGAGCCCATGAGTGAAAGCAAGTTGAATACATTGGTGCAGAAGCTTCATGACTTCCTTGCACACTCATCAGAAGAATCTGAAGAAACAAGTTCTCCTCCACGACTTGCAATGAATCAAAACACAGATAAAATCAGTGGTTCTGGAAGTAACTCTGATATGATGGAAAACAGCAAGGAAGAGGGAACTAGCTCTTCAGAAAAATCCAAGTCTTCAGGATCGTCACGATCAAAGAGGAAACCTTCAATTGTAACAAAGTATGTAGAATCAGATGATGAAAAACCTTTGGATGATGAAACTGTAAATGAAGATGCGTCTAATGAAAATTCAGAAAATGATATTACTATGCAGAGCTTGCCAAAAGGTACAGTGATTGTACAGCCAGAGCCAGTGCTGAATGAAGACAAAGATGATTTTAAAGGGCCTGAATTTAGAAGCAGAAGTAAAATGAAAACTGAAAATCTCAAAAAACGCGGAGAAGATGGGCTTCATGGGATTGTGAGCTGCACTGCTTGTGGACAACAGGTCAATCATTTTCAAAAAGATTCCATTTATAGACACCCTTCATTGCAAGTTCTTATTTGTAAGAATTGCTTTAAGTATTACATGAGTGATGATATTAGCCGTGACTCAGATGGAATGGATGAACAATGTAGGTGGTGTGCGGAAGGTGGAAACTTGATTTGTTGTGACTTTTGCCATAATGCTTTCTGCAAGAAATGCATTCTACGCAACCTTGGTCGAAAGGAGTTGTCCACAATAATGGATGAAAACAACCAATGGTATTGCTACATTTGTCACCCAGAGCCTTTGTTGGACTTGGTCACTGCATGTAACAGCGTATTTGAGAATTTAGAACAGTTGTTGCAGCAAAATAAGAAGAAGATAAAAGTTGACAGTGAAAAGAGTAATAAAGTATATGAACATACATCCAGATTTTCTCCAAAGAAGACTAGTTCAAATTGTAATGGAGAAGAAAAGAAATTAGATGATTCCTGTTCTGGCTCTGTAACCTACTCTTATTCCGCACTAATTGTGCCCAAAGAGATGATTAAGAAGGCAAAAAAACTGATTGAGACCACAGCCAACATGAACTCCAGTTATGTTAAATTTTTAAAGCAGGCAACAGATAATTCAGAAATCAGTTCTGCTACAAAATTACGTCAGCTTAAGGCTTTTAAGTCTGTGTTGGCTGATATTAAGAAGGCTCATCTTGCATTGGAAGAAGACTTAAATTCCGAGTTTCGAGCGATGGATGCTGTAAACAAAGAGAAAAATACCAAAGAGCATAAAGTCATAGATGCTAAGTTTGAAACAAAAGCACGAAAAGGAGAAAAACCTTGTGCTTTGGAAAAGAAGGATATTTCAAAGTCAGAAGCTAAACTTTCAAGAAAACAGGTAGATAGTGAGCACATGCATCAGAATGTTCCAACAGAGGAACAAAGAACAAATAAAAGTACCGGTGGTGAACATAAGAAATCTGATAGAAAAGAAGAACCTCAATATGAACCTGCCAACACTTCTGAAGATTTAGACATGGATATTGTGTCTGTTCCTTCCTCAGTTCCAGAAGACATTTTTGAGAATCTTGAGACTGCTATGGAAGTTCAGAGTTCAGTTGATCATCAAGGGGATGGCAGCAGTGGAACTGAACAAGAAGTGGAGAGTTCATCTGTAAAATTAAATATTTCTTCAAAAGACAACAGAGGAGGTATTAAATCAAAAACTACAGCTAAAGTAACAAAAGAATTATATGTTAAACTCACTCCTGTTTCCCTTTCTAATTCCCCAATTAAAGGTGCTGATTGTCAGGAAGTTCCACAAGATAAAGATGGCTATAAAAGTTGTGGTCTGAACCCCAAGTTAGAGAAATGTGGACTTGGACAGGAAAACAGTGATAATGAGCATTTGGTTGAAAATGAAGTTTCATTACTTTTAGAGGAATCTGATCTTCGAAGATCCCCACGTGTAAAGACTACACCCTTGAGGCGACCGACAGAAACTAACCCTGTAACATCTAATTCAGATGAAGAATGTAATGAAACAGTTAAGGAGAAACAAAAACTATCAGTTCCAGTGAGAAAAAAGGATAAGCGTAATTCTTCTGACAGTGCTATAGATAATCCTAAGCCTAATAAATTGCCAAAATCTAAGCAATCAGAGACTGTGGATCAAAATTCAGATTCTGATGAAATGCTAGCAATCCTCAAAGAGGTGAGCAGGATGAGTCACAGTTCTTCTTCAGATACTGATATTAATGAAATTCATACAAACCATAAGACTTTGTATGATTTAAAGACTCAGGCGGGGAAAGATGATAAAGGAAAAAGGAAACGAAAAAGTTCTACATCTGGCTCAGATTTTGATACTAAAAAGGGCAAATCAGCTAAGAGCTCTATAATTTCTAAAAAGAAACGACAAACCCAGTCTGAGTCTTCTAATTATGACTCAGAATTAGAAAAAGAGATAAAGAGCATGAGTAAAATTGGTGCTGCCAGAACCACCAAAAAAAGAATTCCAAATACAAAAGATTTTGACTCTTCTGAAGATGAGAAACACAGCAAAAAAGGAATGGATAATCAAGGGCACAAAAATTTGAAGACCTCACAAGAAGGATCATCTGATGATGCTGAAAGAAAACAAGAGAGAGAGACTTTCTCTTCAGCAGAAGGCACAGTTGATAAAGACACGACCATCATGGAATTAAGAGATCGACTTCCTAAGAAGCAGCAAGCAAGTGCTTCCACTGATGGTGTCGATAAGCTTTCTGGGAAAGAGCAGAGTTTTACTTCTTTGGAAGTTAGAAAAGTTGCTGAAACTAAAGAAAAGAGCAAGCATCTCAAAACCAAAACATGTAAAAAAGTACAGGATGGCTTATCTGATATTGCAGAGAAATTCCTAAAGAAAGACCAGAGCGATGAAACTTCTGAAGATGATAAAAAGCAGAGCAAAAAGGGAACTGAAGAAAAAAAGAAACCTTCAGACTTTAAGAAAAAAGTAATTAAAATGGAACAACAGTATGAATCTTCATCTGATGGCACTGAAAAGTTACCTGAGCGAGAAGAAATTTGTCATTTTCCTAAGGGCATAAAACAAATTAAGAATGGAACAACTGATGGAGAAAAGAAAAGTAAAAAAATAAGAGATAAAACTTCTAAAAAGAAGGATGAATTATCTGATTATGCTGAGAAGTCAACAGGGAAAGGAGATAGTTGTGACTCTTCAGAGGATAAAAAGAGTAAGAATGGAGCATATGGTAGAGAGAAGAAAAGGTGCAAGTTGCTTGGAAAGAGTTCAAGGAAGAGACAAGATTGTTCATCATCTGATACTGAGAAATATTCCATGAAAGAAGATGGTTGTAACTCTTCTGATAAGAGACTGAAAAGAATAGAATTGAGGGAAAGAAGAAATTTAAGTTCAAAGAGAAATACTAAGGAAATACAAAGTGGCTCATCATCATCTGATGCTGAGGAAAGTTCTGAAGATAATAAAAAGAAGAAGCAAAGAACTTCATCTAAAAAGAAGGCAGTCATTGTCAAGGAGAAAAAGAGAAACTCCCTAAGAACAAGCACTAAAAGGAAGCAAGCTGACATTACATCCTCATCTTCTTCTGATATAGAAGATGATGATCAGAATTCTATAGGTGAGGGAAGCAGCGATGAACAGAAAATTAAGCCTGTGACTGAAAATTTAGTGCTGTCTTCACATACTGGATTTTGCCAATCTTCAGGAGATGAAGCCTTATCTAAATCAGTGCCTGTCACAGTGGATGATGATGATGACGACAATGATCCTGAGAATAGAATTGCCAAGAAGATGCTTTTAGAAGAAATTAAAGCCAATCTTTCCTCTGATGAGGATGGATCTTCAGATGATGAGCCAGAAGAAGGGAAAAAAAGAACTGGAAAACAAAATGAAGAAAACCCAGGAGATGAGGAAGCAAAAAATCAAGTCAATTCTGAATCAGATTCAGATTCTGAAGAATCTAAGAAGCCAAGATACAGACATAGGCTTTTGCGGCACAAATTGACTGTGAGTGACGGAGAATCTGGAGAAGAAAAAAAGACAAAGCCTAAAGAGCATAAAGAAGTCAAAGGCAGAAACAGAAGAAAGGTGAGCAGTGAAGATTCAGAAGATTCTGATTTTCAGGAATCAGGAGTTAGTGAAGAAGTTAGTGAATCCGAAGATGAACAGCGGCCCAGAACAAGGTCTGCAAAGAAAGCAGAGTTGGAAGAAAATCAGCGGAGCTATAAACAGAAAAAGAAAAGGCGACGTATTAAGGTTCAAGAAGATTCATCCAGTGAAAACAAGAGTAATTCTGAGGAAGAAGAGGAGGAAAAAGAAGAGGAGGAGGAAGAGGAGGAGGAGGAGGAAGAGGAGGAGGAAGATGAAAATGATGATTCCAAGTCTCCTGGAAAAGGCAGAAAGAAAATTCGGAAGATTCTTAAAGATGATAAACTGAGAACAGAAACACAAAATGCTCTTAAGGAAGAGGAAGAGAGACGAAAACGTATTGCTGAGAGGGAGCGTGAGCGAGAAAAATTGAGAGAGGTGATAGAAATTGAAGATGCTTCACCCACCAAGTGTCCAATAACAACCAAGTTGGTTTTAGATGAAGATGAAGAAACCAAAGAACCTTTAGTGCAGGTTCATAGAAATATGGTTATCAAATTGAAACCCCATCAAGTAGATGGTGTTCAGTTTATGTGGGATTGCTGCTGTGAGTCTGTGAAAAAAACAAAGAAATCTCCAGGTTCAGGATGCATTCTTGCCCACTGTATGGGCCTTGGTAAGACTTTACAGGTGGTAAGTTTTCTTCATACAGTTCTTTTGTGTGACAAACTGGATTTCAGCACGGCGTTAGTGGTTTGTCCTCTTAATACTGCTTTGAATTGGATGAATGAATTTGAGAAGTGGCAAGAGGGATTAAAAGATGATGAGAAGCTTGAGGTTTCTGAATTAGCAACTGTGAAACGTCCTCAGGAGAGAAGCTACATGCTGCAGAGGTGGCAAGAAGATGGTGGTGTTATGATCATAGGCTATGAGATGTATAGAAATCTTGCTCAAGGAAGGAATGTGAAGAGTCGGAAACTTAAAGAAATATTTAACAAAGCTTTGGTTGATCCAGGCCCTGATTTTGTTGTTTGTGATGAAGGCCATATTCTAAAAAATGAAGCATCTGCTGTTTCTAAAGCTATGAATTCTATACGATCAAGGAGGAGGATTATTTTAACAGGAACACCACTTCAAAATAACCTAATTGAGTATCATTGTATGGTTAATTTTATCAAGGAAAATTTACTTGGATCCATTAAGGAGTTCAGGAATAGATTTATAAATCCAATTCAAAATGGTCAGTGTGCAGATTCTACCATGGTAGATGTCAGAGTGATGAAAAAACGTGCTCACATTCTCTATGAGATGTTAGCTGGATGTGTTCAGAGGAAAGATTATACAGCATTAACAAAATTCTTGCCTCCAAAACACGAATATGTGTTAGCTGTGAGAATGACTTCTATTCAGTGCAAGCTCTATCAGTACTACTTAGATCACTTAACAGGTGTGGGCAATAATAGTGAAGGTGGAAGAGGAAAGGCAGGTGCAAAGCTTTTCCAAGATTTTCAGATGTTAAGTAGAATATGGACTCATCCTTGGTGTTTGCAGCTAGACTACATTAGCAAAGAAAATAAGGGTTATTTTGATGAAGACAGTATGGATGAATTTATAGCCTCAGATTCTGATGAAACCTCCATGAGTTTAAGCTCCGATGATTATACAAAAAAGAAGAAAAAAGGGAAAAAGGGGAAAAAAGATAGTAGCTCAAGTGGAAGTGGCAGTGACAATGATGTTGAAGTGATTAAGGTCTGGAATTCAAGATCTCGGGGAGGTGGTGAAGGAAATGTGGATGAAACAGGAAACAATCCTTCTGTTTCTTTAAAACTGGAAGAAAGTAAAGCTACTTCTTCTTCTAATCCAAGCAGCCCAGCTCCAGACTGGTACAAAGATTTTGTTACAGATGCTGATGCTGAGGTTTTAGAGCATTCTGGGAAAATGGTACTTCTCTTTGAAATTCTTCGAATGGCAGAGGAAATTGGGGATAAAGTCCTTGTTTTCAGCCAGTCCCTCATATCTCTGGACTTGATTGAAGATTTTCTTGAATTAGCTAGTAGGGAGAAGACAGAAGATAAAGATAAACCCCTTATTTATAAAGGTGAGGGGAAGTGGCTTCGAAACATTGACTATTACCGTTTAGATGGTTCCACTACTGCACAGTCAAGGAAGAAGTGGGCTGAAGAATTTAATGATGAAACTAATGTGAGAGGACGATTATTTATCATTTCTACTAAAGCAGGATCTCTAGGAATTAATCTGGTAGCTGCTAATCGAGTAATTATATTCGACGCTTCTTGGAATCCATCTTATGACATCCAGAGTATATTCAGAGTTTATCGCTTTGGACAAACTAAGCCTGTTTATGTATATAGGTTCTTAGCTCAGGGAACCATGGAAGATAAGATTTATGATCGGCAAGTAACTAAGCAGTCACTGTCTTTTCGAGTTGTTGATCAGCAGCAGGTGGAGCGTCATTTTACTATGAATGAGCTTACTGAACTTTATACTTTTGAGCCAGACTTATTAGATGACCCTAATTCAGAAAAGAAGAAGAAGAGGGATACTCCCATGCTGCCAAAGGATACCATACTTGCAGAGCTCCTTCAGATACATAAAGAACACATTGTAGGATACCATGAACATGATTCTCTTTTGGACCACAAAGAAGAAGAAGAGTTGACTGAAGAAGAAAGAAAAGCAGCTTGGGCTGAGTATGAAGCAGAGAAGAAGGGACTGACCATGCGTTTCAACATACCAACTGGGACCAATTTACCCCCTGTCAGTTTCAACTCTCAAACTCCTTATATTCCTTTCAATTTGGGAGCCCTGTCAGCAATGAGTAATCAACAGCTGGAGGACCTCATTAATCAAGGAAGAGAAAAAGTTGTAGAAGCAACAAACAGTGTGACAGCAGTGAGGATTCAACCTCTTGAGGATATAATTTCAGCTGTATGGAAGGAGAACATGAATCTCTCAGAGGCCCAAGTACAGGCGTTAGCATTAAGTAGACAAGCCAGCCAGGAGCTTGATGTTAAACGAAGAGAAGCAATCTACAATGATGTATTGACAAAACAACAGATGTTAATCAGCTGTGTTCAGCGAATACTTATGAACAGAAGGCTCCAGCAGCAGTACAATCAGCAGCAACAGCAACAAATGACTTATCAACAAGCAACACTGGGTCACCTCATGATGCCAAAGCCCCCAAATTTGATCATGAATCCTTCTAACTACCAGCAGATTGATATGAGAGGAATGTATCAGCCAGTGGCTGGTGGTATGCAGCCACCACCATTACAGCGTGCACCACCCCCAATGAGAAGCAAAAATCCAGGACCTTCCCAAGGGAAATCAATGTGAT'"
   ]
  },
  {
   "cell_type": "code",
   "execution_count": 28,
   "metadata": {},
   "outputs": [
    {
     "name": "stdout",
     "output_type": "stream",
     "text": [
      "Total summed synonymous mutation rate across region =  1.95620499e-06\n"
     ]
    }
   ],
   "source": [
    "ATRX_8_10 = synonymous_mutation_rate_across_gene('ATRX', ATRX_coding_sequence, ATRX_coding_sequence_extra_bases, 198,1270)"
   ]
  },
  {
   "cell_type": "code",
   "execution_count": 29,
   "metadata": {},
   "outputs": [
    {
     "name": "stdout",
     "output_type": "stream",
     "text": [
      "Total summed synonymous mutation rate across region =  1.2951128078e-06\n"
     ]
    }
   ],
   "source": [
    "ATRX_17_31 = synonymous_mutation_rate_across_gene('ATRX', ATRX_coding_sequence, ATRX_coding_sequence_extra_bases, 1566,2283)"
   ]
  },
  {
   "cell_type": "markdown",
   "metadata": {},
   "source": [
    "## BCOR (all exons)"
   ]
  },
  {
   "cell_type": "markdown",
   "metadata": {},
   "source": [
    "- ENST00000378444.4 (canonical transcript)"
   ]
  },
  {
   "cell_type": "markdown",
   "metadata": {},
   "source": [
    "#### Mutation rate for synonymous variants across BCOR regions included in panel"
   ]
  },
  {
   "cell_type": "code",
   "execution_count": 30,
   "metadata": {},
   "outputs": [],
   "source": [
    "BCOR_coding_sequence = 'ATGCTCTCAGCAACCCCCCTGTATGGGAACGTTCACAGCTGGATGAACAGCGAGAGGGTCCGCATGTGTGGGGCGAGCGAAGACAGGAAAATCCTTGTAAATGATGGTGACGCTTCAAAAGCCAGACTGGAACTGAGGGAAGAGAATCCCTTGAACCACAACGTGGTGGATGCGAGCACGGCCCATAGGATCGATGGCCTGGCAGCACTGAGCATGGACCGCACTGGCCTGATCCGGGAAGGGCTGCGGGTCCCGGGAAACATCGTCTATTCTAGCTTGTGTGGACTGGGCTCAGAGAAAGGTCGGGAGGCTGCCACAAGCACTCTAGGTGGCCTTGGGTTTTCTTCGGAAAGAAATCCAGAGATGCAGTTCAAACCGAATACACCCGAGACAGTGGAGGCTTCTGCCGTCTCTGGAAAACCCCCAAATGGCTTCAGTGCTATATACAAAACACCGCCTGGAATACAAAAAAGTGCTGTAGCCACAGCAGAAGCGCTGGGCTTGGACAGGCCTGCCAGCGACAAACAGAGCCCTCTCAACATCAATGGTGCTAGTTATCTGCGGCTGCCCTGGGTCAATCCTTACATGGAGGGTGCCACGCCAGCCATCTACCCTTTCCTCGACTCGCCAAATAAGTATTCACTGAACATGTACAAGGCCTTGCTACCTCAGCAGTCCTACAGCTTGGCCCAGCCGCTGTATTCTCCAGTCTGCACCAATGGGGAGCGCTTTCTCTACCTGCCGCCACCTCACTACGTCGGTCCCCACATCCCATCGTCCTTGGCATCACCCATGAGGCTCTCGACACCTTCGGCCTCCCCAGCCATCCCGCCTCTCGTCCATTGCGCAGACAAAAGCCTCCCGTGGAAGATGGGCGTCAGCCCTGGGAATCCTGTTGATTCCCACGCCTATCCTCACATCCAGAACAGTAAGCAGCCCAGGGTTCCCTCTGCCAAGGCGGTCACCAGTGGCCTGCCGGGGGACACAGCTCTCCTGTTGCCCCCCTCGCCTCGGCCGTCACCCCGAGTCCACCTTCCCACCCAGCCTGCTGCAGACACCTACTCGGAGTTCCACAAGCACTATGCCAGGATCTCCACCTCTCCTTCAGTTGCCCTGTCAAAGCCATACATGACAGTTAGCAGCGAGTTCCCCGCGGCCAGGCTCTCCAATGGCAAGTATCCCAAGGCTCCGGAAGGGGGCGAAGGTGCCCAGCCAGTGCCCGGGCATGCCCGGAAGACAGCGGTTCAAGACAGAAAAGATGGCAGCTCACCTCCTCTGTTGGAGAAGCAGACCGTTACCAAAGACGTCACAGATAAGCCACTAGACTTGTCTTCTAAAGTGGTGGATGTAGATGCTTCCAAAGCTGACCACATGAAAAAGATGGCTCCCACGGTCCTGGTTCACAGCAGGGCTGGAAGTGGCTTAGTGCTCTCCGGAAGTGAGATTCCGAAAGAAACACTATCTCCTCCAGGAAATGGTTGTGCTATCTATAGATCTGAAATCATCAGCACTGCTCCCTCATCCTGGGTGGTGCCCGGGCCAAGTCCTAACGAAGAGAACAATGGCAAAAGCATGTCGCTGAAAAACAAGGCATTGGACTGGGCGATACCACAGCAGCGGAGTTCATCATGCCCGCGCATGGGCGGCACCGATGCTGTCATCACTAACGTTTCAGGGTCAGTGTCGAGTGCAGGCCGCCCAGCCTCCGCATCACCCGCCCCCAATGCCAATGCAGATGGCACCAAAACCAGCAGGAGCTCTGTAGAAACCACACCATCCGTTATTCAGCACGTGGGCCAGCCCCCGGCCACTCCTGCCAAGCACAGTAGCAGCACCAGCAGCAAGGGCGCCAAAGCCAGCAACCCAGAACCGAGTTTCAAAGCAAACGAGAACGGCCTTCCACCAAGCTCTATATTTCTGTCTCCAAATGAGGCATTCAGGTCCCCACCAATTCCCTACCCCAGGAGTTACCTCCCTTACCCAGCCCCTGAGGGCATTGCTGTAAGTCCCCTCTCCTTACATGGCAAAGGACCTGTCTACCCTCACCCAGTTTTGTTACCCAATGGCAGTCTGTTTCCTGGGCACCTTGCCCCAAAGCCTGGGCTGCCCTATGGGCTTCCCACCGGCCGTCCAGAGTTTGTGACCTACCAAGATGCCCTGGGGTTGGGCATGGTGCATCCCATGTTGATACCACACACGCCCATAGAGATTACTAAAGAGGAGAAACCAGAGAGGAGATCCCGGTCCCATGAGAGAGCCCGTTACGAGGACCCAACCCTCCGGAATCGGTTTTCCGAGATTTTGGAAACTAGCAGCACCAAGTTACATCCAGATGTCCCCACCGACAAGAACCTAAAGCCGAACCCCAACTGGAATCAAGGGAAGACTGTTGTCAAAAGCGACAAGCTTGTCTACGTAGACCTTCTCCGAGAAGAACCAGATGCTAAAACTGACACAAACGTGTCCAAACCCAGCTTTGCAGCAGAGAGTGTTGGCCAGAGCGCTGAGCCCCCCAAGCCCTCAGTTGAGCCGGCCCTGCAGCAGCACCGTGATTTCATCGCCCTGAGAGAGGAGTTGGGGCGCATCAGTGACTTCCACGAAACTTATACTTTCAAACAGCCAGTCTTCACCGTAAGCAAGGACAGTGTTCTGGCAGGTACCAACAAAGAGAACCTAGGGTTGCCAGTCTCGACTCCATTCCTGGAGCCACCTCTGGGGAGCGATGGCCCTGCTGTAACTTTTGGTAAAACCCAAGAGGATCCCAAACCATTTTGTGTGGGCAGTGCCCCACCAAGTGTGGATGTGACCCCCACCTATACCAAAGATGGAGCTGATGAGGCTGAATCAAATGATGGCAAAGTTCTGAAACCGAAGCCATCTAAGCTGGCAAAGAGAATCGCCAACTCAGCGGGTTACGTGGGTGACCGATTCAAATGTGTCACTACCGAACTGTATGCAGATTCCAGTCAGCTCAGCCGGGAGCAACGGGCATTGCAGATGGAAGGATTACAAGAGGACAGTATTTTATGTCTACCCGCTGCTTACTGTGAGCGTGCAATGATGCGCTTCTCAGAGTTGGAGATGAAAGAAAGAGAAGGTGGCCACCCAGCAACCAAAGACTCCGAGATGTGCAAATTCAGCCCAGCCGACTGGGAAAGGTTGAAAGGAAATCAGGACAAAAAGCCAAAGTCGGTCACCCTGGAGGAGGCCATTGCAGAACAGAACGAAAGTGAGAGATGCGAGTATAGTGTTGGAAACAAGCACCGTGATCCCTTTGAAGCCCCAGAGGACAAAGATCTTCCTGTGGAGAAGTACTTTGTGGAGAGGCAGCCTGTGAGCGAGCCTCCCGCAGACCAGGTGGCCTCGGACATGCCTCACAGCCCCACCCTCCGGGTGGACAGGAAACGCAAAGTCTCAGGTGACAGCAGCCACACTGAGACCACTGCGGAGGAGGTGCCAGAGGACCCTCTGCTGAAAGCCAAACGCCGACGAGTCTCTAAAGATGACTGGCCTGAGAGGGAAATGACAAACAGTTCCTCTAACCACTTAGAAGACCCACATTATAGTGAGCTGACCAACCTGAAGGTGTGCATTGAATTAACAGGGCTCCATCCTAAAAAACAACGCCACTTGCTGCACCTTAGAGAACGATGGGAGCAGCAGGTGTCGGCAGCAGATGGCAAACCTGGCCGGCAAAGCAGGAAGGAAGTGACCCAGGCCACTCAGCCTGAGGCCATTCCTCAGGGGACTAACATCACTGAAGAGAAACCTGGCAGGAAAAGGGCAGAGGCCAAAGGCAACAGAAGCTGGTCGGAAGAGTCTCTTAAACCCAGTGACAATGAACAAGGCTTGCCTGTGTTCTCCGGCTCTCCGCCCATGAAGAGTCTTTCATCCACCAGTGCAGGCGGCAAAAAGCAGGCTCAGCCAAGCTGCGCACCAGCCTCCAGGCCGCCTGCCAAACAGCAGAAAATTAAAGAAAACCAGAAGACAGATGTGCTGTGTGCAGACGAAGAAGAGGATTGCCAGGCTGCCTCCCTGCTGCAGAAATACACCGACAACAGCGAGAAGCCATCCGGGAAGAGACTGTGCAAAACCAAACACTTGATCCCTCAGGAGTCCAGGCGGGGATTGCCACTGACAGGGGAATACTACGTGGAGAATGCCGATGGCAAGGTGACTGTCCGGAGATTCAGAAAGCGGCCGGAGCCCAGTTCGGACTATGATCTGTCACCAGCCAAGCAGGAGCCAAAGCCCTTCGACCGCTTGCAGCAACTGCTACCAGCCTCCCAGTCCACACAGCTGCCATGCTCAAGTTCCCCTCAGGAGACCACCCAGTCTCGCCCTATGCCGCCGGAAGCACGGAGACTTATTGTCAATAAGAACGCTGGCGAGACCCTTCTGCAGCGGGCAGCCAGGCTTGGCTATGAGGAAGTGGTCCTGTACTGCTTAGAGAACAAGATTTGTGATGTAAATCATCGGGACAACGCAGGTTACTGCGCCCTGCATGAAGCTTGTGCTAGGGGCTGGCTCAACATTGTGCGACACCTCCTTGAATATGGCGCTGATGTCAACTGTAGTGCCCAGGATGGAACCAGGCCTCTGCACGATGCTGTTGAGAACGATCACTTGGAAATTGTCCGACTACTTCTCTCTTATGGTGCTGACCCCACCTTGGCTACGTACTCAGGTAGAACCATCATGAAAATGACCCACAGTGAACTTATGGAAAAGTTCTTAACAGATTATTTAAATGACCTCCAGGGTCGCAATGATGATGACGCCAGTGGCACTTGGGACTTCTATGGCAGCTCTGTTTGTGAACCAGATGATGAAAGTGGCTATGATGTTTTAGCCAACCCCCCAGGACCAGAAGACCAGGATGATGATGACGATGCCTATAGCGATGTGTTTGAATTTGAATTTTCAGAGACCCCCCTCTTACCGTGTTATAACATCCAAGTATCTGTGGCTCAGGGGCCACGAAACTGGCTACTGCTTTCGGATGTCCTTAAGAAATTGAAAATGTCCTCCCGCATATTTCGCTGCAATTTTCCAAACGTGGAAATTGTCACCATTGCAGAGGCAGAATTTTATCGGCAGGTTTCTGCAAGTCTCTTGTTCTCTTGCTCCAAAGACCTGGAAGCCTTCAACCCTGAAAGTAAGGAGCTGTTAGATCTGGTGGAATTCACGAACGAAATTCAGACTCTGCTGGGCTCCTCTGTAGAGTGGCTCCACCCCAGTGATCTGGCCTCAGACAACTACTGGTGA'\n",
    "BCOR_coding_sequence_extra_bases = 'CATGCTCTCAGCAACCCCCCTGTATGGGAACGTTCACAGCTGGATGAACAGCGAGAGGGTCCGCATGTGTGGGGCGAGCGAAGACAGGAAAATCCTTGTAAATGATGGTGACGCTTCAAAAGCCAGACTGGAACTGAGGGAAGAGAATCCCTTGAACCACAACGTGGTGGATGCGAGCACGGCCCATAGGATCGATGGCCTGGCAGCACTGAGCATGGACCGCACTGGCCTGATCCGGGAAGGGCTGCGGGTCCCGGGAAACATCGTCTATTCTAGCTTGTGTGGACTGGGCTCAGAGAAAGGTCGGGAGGCTGCCACAAGCACTCTAGGTGGCCTTGGGTTTTCTTCGGAAAGAAATCCAGAGATGCAGTTCAAACCGAATACACCCGAGACAGTGGAGGCTTCTGCCGTCTCTGGAAAACCCCCAAATGGCTTCAGTGCTATATACAAAACACCGCCTGGAATACAAAAAAGTGCTGTAGCCACAGCAGAAGCGCTGGGCTTGGACAGGCCTGCCAGCGACAAACAGAGCCCTCTCAACATCAATGGTGCTAGTTATCTGCGGCTGCCCTGGGTCAATCCTTACATGGAGGGTGCCACGCCAGCCATCTACCCTTTCCTCGACTCGCCAAATAAGTATTCACTGAACATGTACAAGGCCTTGCTACCTCAGCAGTCCTACAGCTTGGCCCAGCCGCTGTATTCTCCAGTCTGCACCAATGGGGAGCGCTTTCTCTACCTGCCGCCACCTCACTACGTCGGTCCCCACATCCCATCGTCCTTGGCATCACCCATGAGGCTCTCGACACCTTCGGCCTCCCCAGCCATCCCGCCTCTCGTCCATTGCGCAGACAAAAGCCTCCCGTGGAAGATGGGCGTCAGCCCTGGGAATCCTGTTGATTCCCACGCCTATCCTCACATCCAGAACAGTAAGCAGCCCAGGGTTCCCTCTGCCAAGGCGGTCACCAGTGGCCTGCCGGGGGACACAGCTCTCCTGTTGCCCCCCTCGCCTCGGCCGTCACCCCGAGTCCACCTTCCCACCCAGCCTGCTGCAGACACCTACTCGGAGTTCCACAAGCACTATGCCAGGATCTCCACCTCTCCTTCAGTTGCCCTGTCAAAGCCATACATGACAGTTAGCAGCGAGTTCCCCGCGGCCAGGCTCTCCAATGGCAAGTATCCCAAGGCTCCGGAAGGGGGCGAAGGTGCCCAGCCAGTGCCCGGGCATGCCCGGAAGACAGCGGTTCAAGACAGAAAAGATGGCAGCTCACCTCCTCTGTTGGAGAAGCAGACCGTTACCAAAGACGTCACAGATAAGCCACTAGACTTGTCTTCTAAAGTGGTGGATGTAGATGCTTCCAAAGCTGACCACATGAAAAAGATGGCTCCCACGGTCCTGGTTCACAGCAGGGCTGGAAGTGGCTTAGTGCTCTCCGGAAGTGAGATTCCGAAAGAAACACTATCTCCTCCAGGAAATGGTTGTGCTATCTATAGATCTGAAATCATCAGCACTGCTCCCTCATCCTGGGTGGTGCCCGGGCCAAGTCCTAACGAAGAGAACAATGGCAAAAGCATGTCGCTGAAAAACAAGGCATTGGACTGGGCGATACCACAGCAGCGGAGTTCATCATGCCCGCGCATGGGCGGCACCGATGCTGTCATCACTAACGTTTCAGGGTCAGTGTCGAGTGCAGGCCGCCCAGCCTCCGCATCACCCGCCCCCAATGCCAATGCAGATGGCACCAAAACCAGCAGGAGCTCTGTAGAAACCACACCATCCGTTATTCAGCACGTGGGCCAGCCCCCGGCCACTCCTGCCAAGCACAGTAGCAGCACCAGCAGCAAGGGCGCCAAAGCCAGCAACCCAGAACCGAGTTTCAAAGCAAACGAGAACGGCCTTCCACCAAGCTCTATATTTCTGTCTCCAAATGAGGCATTCAGGTCCCCACCAATTCCCTACCCCAGGAGTTACCTCCCTTACCCAGCCCCTGAGGGCATTGCTGTAAGTCCCCTCTCCTTACATGGCAAAGGACCTGTCTACCCTCACCCAGTTTTGTTACCCAATGGCAGTCTGTTTCCTGGGCACCTTGCCCCAAAGCCTGGGCTGCCCTATGGGCTTCCCACCGGCCGTCCAGAGTTTGTGACCTACCAAGATGCCCTGGGGTTGGGCATGGTGCATCCCATGTTGATACCACACACGCCCATAGAGATTACTAAAGAGGAGAAACCAGAGAGGAGATCCCGGTCCCATGAGAGAGCCCGTTACGAGGACCCAACCCTCCGGAATCGGTTTTCCGAGATTTTGGAAACTAGCAGCACCAAGTTACATCCAGATGTCCCCACCGACAAGAACCTAAAGCCGAACCCCAACTGGAATCAAGGGAAGACTGTTGTCAAAAGCGACAAGCTTGTCTACGTAGACCTTCTCCGAGAAGAACCAGATGCTAAAACTGACACAAACGTGTCCAAACCCAGCTTTGCAGCAGAGAGTGTTGGCCAGAGCGCTGAGCCCCCCAAGCCCTCAGTTGAGCCGGCCCTGCAGCAGCACCGTGATTTCATCGCCCTGAGAGAGGAGTTGGGGCGCATCAGTGACTTCCACGAAACTTATACTTTCAAACAGCCAGTCTTCACCGTAAGCAAGGACAGTGTTCTGGCAGGTACCAACAAAGAGAACCTAGGGTTGCCAGTCTCGACTCCATTCCTGGAGCCACCTCTGGGGAGCGATGGCCCTGCTGTAACTTTTGGTAAAACCCAAGAGGATCCCAAACCATTTTGTGTGGGCAGTGCCCCACCAAGTGTGGATGTGACCCCCACCTATACCAAAGATGGAGCTGATGAGGCTGAATCAAATGATGGCAAAGTTCTGAAACCGAAGCCATCTAAGCTGGCAAAGAGAATCGCCAACTCAGCGGGTTACGTGGGTGACCGATTCAAATGTGTCACTACCGAACTGTATGCAGATTCCAGTCAGCTCAGCCGGGAGCAACGGGCATTGCAGATGGAAGGATTACAAGAGGACAGTATTTTATGTCTACCCGCTGCTTACTGTGAGCGTGCAATGATGCGCTTCTCAGAGTTGGAGATGAAAGAAAGAGAAGGTGGCCACCCAGCAACCAAAGACTCCGAGATGTGCAAATTCAGCCCAGCCGACTGGGAAAGGTTGAAAGGAAATCAGGACAAAAAGCCAAAGTCGGTCACCCTGGAGGAGGCCATTGCAGAACAGAACGAAAGTGAGAGATGCGAGTATAGTGTTGGAAACAAGCACCGTGATCCCTTTGAAGCCCCAGAGGACAAAGATCTTCCTGTGGAGAAGTACTTTGTGGAGAGGCAGCCTGTGAGCGAGCCTCCCGCAGACCAGGTGGCCTCGGACATGCCTCACAGCCCCACCCTCCGGGTGGACAGGAAACGCAAAGTCTCAGGTGACAGCAGCCACACTGAGACCACTGCGGAGGAGGTGCCAGAGGACCCTCTGCTGAAAGCCAAACGCCGACGAGTCTCTAAAGATGACTGGCCTGAGAGGGAAATGACAAACAGTTCCTCTAACCACTTAGAAGACCCACATTATAGTGAGCTGACCAACCTGAAGGTGTGCATTGAATTAACAGGGCTCCATCCTAAAAAACAACGCCACTTGCTGCACCTTAGAGAACGATGGGAGCAGCAGGTGTCGGCAGCAGATGGCAAACCTGGCCGGCAAAGCAGGAAGGAAGTGACCCAGGCCACTCAGCCTGAGGCCATTCCTCAGGGGACTAACATCACTGAAGAGAAACCTGGCAGGAAAAGGGCAGAGGCCAAAGGCAACAGAAGCTGGTCGGAAGAGTCTCTTAAACCCAGTGACAATGAACAAGGCTTGCCTGTGTTCTCCGGCTCTCCGCCCATGAAGAGTCTTTCATCCACCAGTGCAGGCGGCAAAAAGCAGGCTCAGCCAAGCTGCGCACCAGCCTCCAGGCCGCCTGCCAAACAGCAGAAAATTAAAGAAAACCAGAAGACAGATGTGCTGTGTGCAGACGAAGAAGAGGATTGCCAGGCTGCCTCCCTGCTGCAGAAATACACCGACAACAGCGAGAAGCCATCCGGGAAGAGACTGTGCAAAACCAAACACTTGATCCCTCAGGAGTCCAGGCGGGGATTGCCACTGACAGGGGAATACTACGTGGAGAATGCCGATGGCAAGGTGACTGTCCGGAGATTCAGAAAGCGGCCGGAGCCCAGTTCGGACTATGATCTGTCACCAGCCAAGCAGGAGCCAAAGCCCTTCGACCGCTTGCAGCAACTGCTACCAGCCTCCCAGTCCACACAGCTGCCATGCTCAAGTTCCCCTCAGGAGACCACCCAGTCTCGCCCTATGCCGCCGGAAGCACGGAGACTTATTGTCAATAAGAACGCTGGCGAGACCCTTCTGCAGCGGGCAGCCAGGCTTGGCTATGAGGAAGTGGTCCTGTACTGCTTAGAGAACAAGATTTGTGATGTAAATCATCGGGACAACGCAGGTTACTGCGCCCTGCATGAAGCTTGTGCTAGGGGCTGGCTCAACATTGTGCGACACCTCCTTGAATATGGCGCTGATGTCAACTGTAGTGCCCAGGATGGAACCAGGCCTCTGCACGATGCTGTTGAGAACGATCACTTGGAAATTGTCCGACTACTTCTCTCTTATGGTGCTGACCCCACCTTGGCTACGTACTCAGGTAGAACCATCATGAAAATGACCCACAGTGAACTTATGGAAAAGTTCTTAACAGATTATTTAAATGACCTCCAGGGTCGCAATGATGATGACGCCAGTGGCACTTGGGACTTCTATGGCAGCTCTGTTTGTGAACCAGATGATGAAAGTGGCTATGATGTTTTAGCCAACCCCCCAGGACCAGAAGACCAGGATGATGATGACGATGCCTATAGCGATGTGTTTGAATTTGAATTTTCAGAGACCCCCCTCTTACCGTGTTATAACATCCAAGTATCTGTGGCTCAGGGGCCACGAAACTGGCTACTGCTTTCGGATGTCCTTAAGAAATTGAAAATGTCCTCCCGCATATTTCGCTGCAATTTTCCAAACGTGGAAATTGTCACCATTGCAGAGGCAGAATTTTATCGGCAGGTTTCTGCAAGTCTCTTGTTCTCTTGCTCCAAAGACCTGGAAGCCTTCAACCCTGAAAGTAAGGAGCTGTTAGATCTGGTGGAATTCACGAACGAAATTCAGACTCTGCTGGGCTCCTCTGTAGAGTGGCTCCACCCCAGTGATCTGGCCTCAGACAACTACTGGTGAG'"
   ]
  },
  {
   "cell_type": "code",
   "execution_count": 31,
   "metadata": {
    "scrolled": false
   },
   "outputs": [
    {
     "name": "stdout",
     "output_type": "stream",
     "text": [
      "Total summed synonymous mutation rate across region =  5.9680055223e-06\n"
     ]
    }
   ],
   "source": [
    "BCOR_synonymous = synonymous_mutation_rate_across_gene('BCOR', BCOR_coding_sequence, BCOR_coding_sequence_extra_bases, 0,1756)"
   ]
  },
  {
   "cell_type": "markdown",
   "metadata": {},
   "source": [
    "#### Mutation rate for excluded synonymous BCOR variants"
   ]
  },
  {
   "cell_type": "code",
   "execution_count": 32,
   "metadata": {
    "code_folding": [
     0
    ]
   },
   "outputs": [],
   "source": [
    "#Create a dictionary of the excluded synonymous variants in BCOR:\n",
    "import csv\n",
    "filename=\"Young_excluded_synonymous_1000_genomes.csv\"\n",
    "\n",
    "with open(filename, 'r') as csvfile:\n",
    "    read_reader = csv.reader(csvfile)  #csv.reader returns a reader object which will iterate over lines in the csvfile\n",
    "    row_count=0\n",
    "    excluded_BCOR_synonymous_variants={} #dictionary of DNMTA results (key = ID (row[13]), value = VAF (row[10]))\n",
    "\n",
    "    for row in read_reader:\n",
    "#         print(row)\n",
    "        if row_count>0:\n",
    "            gene = row[0]\n",
    "            variant = row[1]\n",
    "            AA_coordinate = row[11]\n",
    "            variant_ID = row[2]\n",
    "            if row[0]=='BCOR':\n",
    "                excluded_BCOR_synonymous_variants[variant]=(gene, AA_coordinate, variant_ID)\n",
    "\n",
    "        row_count=row_count+1"
   ]
  },
  {
   "cell_type": "code",
   "execution_count": 33,
   "metadata": {
    "scrolled": false
   },
   "outputs": [
    {
     "name": "stdout",
     "output_type": "stream",
     "text": [
      "Total summed mutation rate across excluded synonymous variants =  1.85123171e-08\n"
     ]
    }
   ],
   "source": [
    "BCOR_excluded = synonymous_excluded_variants_mutation_rate('BCOR', BCOR_coding_sequence, BCOR_coding_sequence_extra_bases, \\\n",
    "                                                           excluded_BCOR_synonymous_variants)"
   ]
  },
  {
   "cell_type": "markdown",
   "metadata": {},
   "source": [
    "#### Total synonymous mutation rate for BCOR"
   ]
  },
  {
   "cell_type": "code",
   "execution_count": 34,
   "metadata": {},
   "outputs": [
    {
     "name": "stdout",
     "output_type": "stream",
     "text": [
      "Synonymous mutation rate across BCOR =  5.9494932052e-06\n"
     ]
    }
   ],
   "source": [
    "#Subtract the mutation rate of the excluded variants from the total mutation rate for BCOR synonymous variants across the panel\n",
    "BCOR = BCOR_synonymous - BCOR_excluded\n",
    "print(\"Synonymous mutation rate across BCOR = \", BCOR)"
   ]
  },
  {
   "cell_type": "markdown",
   "metadata": {},
   "source": [
    "## BCORL1 (all exons (1711 codons))"
   ]
  },
  {
   "cell_type": "markdown",
   "metadata": {},
   "source": [
    "- ENST00000540052.1 trancsript."
   ]
  },
  {
   "cell_type": "markdown",
   "metadata": {},
   "source": [
    "#### Mutation rate for synonymous variants across BCORL1 regions included in panel"
   ]
  },
  {
   "cell_type": "code",
   "execution_count": 35,
   "metadata": {},
   "outputs": [],
   "source": [
    "BCORL1_coding_sequence = 'ATGATCTCTACAGCACCGCTCTACAGCGGCGTGCACAACTGGACCAGTTCTGACCGGATTCGCATGTGTGGCATCAACGAGGAGAGAAGAGCACCTCTTTCTGATGAGGAGTCAACGACAGGCGACTGCCAGCACTTTGGATCTCAGGAGTTTTGTGTCAGCAGCAGTTTTTCCAAGGTGGAGCTCACGGCAGTTGGAAGTGGCAGCAATGCCCGGGGGGCAGACCCAGATGGCAGTGCTACAGAAAAACTTGGGCACAAGTCAGAAGACAAGCCTGACGATCCCCAGCCAAAAATGGACTACGCTGGGAACGTGGCAGAGGCTGAGGGCTTCTTGGTGCCCCTGAGCAGCCCAGGAGACGGGCTCAAGCTTCCCGCATCTGACAGCGCCGAGGCCAGCAACAGCAGGGCCGACTGCTCCTGGACTCCACTCAACACCCAAATGAGCAAACAGGTTGACTGCTCACCCGCCGGAGTAAAGGCTTTGGACTCTCGGCAAGGTGTTGGAGAGAAGAATACTTTCATTTTGGCAACTCTGGGAACTGGAGTCCCTGTGGAGGGGACCCTGCCCCTGGTTACCACTAACTTCAGTCCTCTGCCAGCCCCTATCTGTCCCCCTGCTCCCGGTTCGGCCTCTGTGCCCCACTCTGTTCCAGATGCATTCCAGGTTCCCCTCTCCGTCCCTGCCCCAGTCCCCCATTCAGGGCTTGTTCCAGTCCAAGTTGCCACTTCGGTTCCAGCTCCTTCCCCTCCCTTAGCACCTGTCCCGGCTCTGGCTCCAGCGCCACCGTCAGTGCCCACGCTCATCTCTGACTCGAACCCCCTTTCTGTTTCGGCCTCAGTCTTGGTGCCTGTGCCAGCTTCTGCTCCCCCTTCAGGCCCGGTTCCCTTGTCGGCTCCAGCTCCTGCCCCGCTTTCAGTCCCAGTTTCAGCTCCTCCCTTGGCTCTCATCCAGGCTCCTGTGCCCCCTTCAGCTCCGACCTTGGTTCTCGCTCCCGTCCCCACTCCGGTTCTGGCTCCCATGCCAGCATCCACGCCTCCAGCGGCCCCTGCCCCTCCGTCTGTGCCCATGCCCACTCCAACCCCATCTTCCGGCCCACCTTCTACCCCCACCCTCATCCCCGCCTTTGCTCCTACACCGGTGCCTGCACCCACCCCAGCCCCCATCTTTACTCCAGCCCCTACACCCATGCCTGCTGCCACGCCAGCTGCCATTCCCACCTCTGCACCCATCCCGGCCTCCTTCAGTTTGAGTAGAGTGTGCTTTCCTGCAGCTCAGGCACCAGCTATGCAAAAAGTCCCCCTGTCCTTTCAGCCAGGGACAGTGCTGACCCCGAGCCAGCCGCTGGTATATATCCCGCCTCCAAGCTGTGGGCAGCCACTCAGTGTGGCCACACTGCCAACCACTCTAGGGGTTTCCTCCACTCTTACGCTCCCTGTCCTGCCGTCCTACCTGCAGGACAGGTGTCTCCCAGGCGTGCTAGCCTCCCCCGAGCTCCGTTCTTACCCGTATGCATTTTCTGTGGCCCGGCCTCTGACTTCGGATTCCAAGCTGGTATCTCTGGAGGTGAACAGGCTCCCCTGCACTTCCCCATCCGGTAGCACCACCACCCAGCCTGCACCCGATGGGGTCCCTGGGCCTTTGGCAGATACCTCCCTTGTTACTGCTTCTGCCAAGGTGCTTCCAACTCCACAGCCTCTGCTGCCAGCCCCCAGTGGGAGCTCAGCCCCACCGCACCCCGCCAAGATGCCCAGTGGCACCGAGCAGCAAACAGAAGGGACTTCCGTTACCTTCTCTCCTCTTAAGTCACCGCCACAGCTGGAACGAGAGATGGCCTCTCCACCTGAGTGCAGCGAGATGCCCCTTGATCTGTCCTCCAAGTCCAACCGCCAGAAGCTTCCATTGCCGAACCAGCGCAAGACACCCCCCATGCCTGTGTTGACCCCCGTGCACACCAGCAGCAAGGCCCTCCTCTCCACAGTCCTGTCTAGGTCTCAGCGCACAACCCAGGCTGCCGGTGGCAATGTCACCTCCTGCCTGGGCTCCACTTCCTCGCCCTTTGTCATCTTTCCCGAGATCGTGAGGAATGGGGACCCGAGCACCTGGGTGAAGAACTCAACTGCACTGATCAGCACCATTCCTGGCACCTACGTGGGAGTGGCCAACCCAGTGCCTGCATCCCTGCTGCTGAACAAAGACCCCAACCTGGGCCTCAACCGTGACCCCCGCCATCTCCCCAAGCAGGAGCCCATCTCCATCATTGATCAAGGAGAGCCTAAGGGCACTGGTGCCACGTGTGGCAAAAAGGGCAGCCAGGCTGGTGCTGAGGGACAGCCAAGCACAGTGAAACGATATACTCCAGCCCGCATTGCCCCTGGGCTGCCAGGGTGCCAAACCAAGGAACTCTCTTTGTGGAAACCCACGGGGCCGGCAAATATTTATCCCCGGTGTTCAGTCAATGGGAAACCTACCAGCACCCAGGTCCTGCCTGTTGGCTGGTCCCCGTACCACCAGGCGTCTCTGCTTTCCATTGGCATTTCCAGTGCCGGGCAGCTGACCCCCAGTCAGGGGGCGCCCATCAGGCCCACCAGCGTTGTTTCGGAGTTTTCTGGTGTGCCATCTCTCAGCTCCAGCGAAGCCGTGCACGGACTTCCTGAGGGGCAACCACGGCCTGGGGGCTCCTTCGTTCCAGAGCAGGACCCTGTTACAAAGAACAAAACTTGCCGGATTGCTGCCAAGCCTTATGAAGAACAAGTCAATCCTGTCCTCTTGACCCTCAGCCCTCAGACTGGGACCCTGGCACTGTCTGTTCAGCCTAGCGGTGGGGACATTCGAATGAATCAGGGGCCTGAGGAATCAGAGAGCCACCTCTGCTCTGACAGCACTCCTAAGATGGAAGGCCCCCAGGGGGCTTGTGGCCTGAAGCTGGCAGGAGACACGAAGCCTAAGAACCAAGTGCTGGCCACCTACATGTCCCATGAGCTGGTCCTGGCCACCCCCCAGAACCTGCCTAAGATGCCTGAGCTGCCTTTGCTACCTCACGACAGCCACCCCAAGGAACTTATATTGGACGTGGTTCCGAGCAGCAGGAGGGGCTCCAGCACAGAGCGCCCACAGCTTGGAAGCCAGGTGGATCTGGGGCGAGTGAAAATGGAGAAGGTGGATGGTGATGTGGTCTTCAATTTAGCCACCTGCTTCCGGGCTGATGGCCTCCCAGTGGCTCCCCAGAGGGGCCAAGCTGAAGTTCGGGCTAAGGCCGGGCAGGCTCGAGTGAAACAGGAAAGCGTAGGGGTCTTTGCTTGCAAGAACAAGTGGCAGCCAGATGATGTGACGGAATCTCTGCCGCCCAAGAAGATGAAGTGCGGCAAAGAGAAGGACAGTGAAGAGCAGCAGCTCCAGCCACAAGCCAAGGCCGTGGTCCGGAGTTCCCACAGACCCAAGTGCCGGAAGCTGCCCAGTGACCCCCAGGAATCCACCAAGAAAAGCCCCAGGGGGGCTTCAGATTCAGGAAAAGAGCACAATGGAGTCAGGGGAAAGCACAAGCACCGGAAGCCGACAAAGCCGGAGTCCCAGTCTCCAGGAAAACGAGCCGACAGCCACGAGGAAGGTTCCTTGGAAAAGAAAGCAAAGAGCAGTTTCCGTGACTTTATTCCTGTGGTTCTGAGCACCCGCACGCGCAGTCAGTCTGGAAGCATCTGTAGCTCCTTTGCTGGCATGGCAGACAGTGACATGGGAAGCCAGGAAGTCTTCCCCACAGAAGAAGAAGAGGAGGTAACCCCCACCCCAGCTAAGCGTCGAAAGGTGAGAAAGACCCAACGGGACACCCAGTATCGCAGCCACCATGCCCAGGACAAGTCTCTGCTGAGCCAGGGCCGAAGGCACCTGTGGCGAGCCCGAGAAATGCCCTGGAGGACAGAGGCTGCCCGGCAAATGTGGGACACCAATGAGGAGGAGGAGGAAGAAGAGGAGGAGGGCCTGCTGAAGAGGAAGAAACGAAGACGGCAGAAGAGCCGAAAATATCAGACTGGGGAGTACCTGACAGAGCAAGAAGACGAGCAGCGGCGGAAAGGGAGAGCAGATTTAAAGGCCCGTAAGCAGAAGACTTCCTCCTCCCAAAGTTTGGAGCACCGCCTCAGGAACAGGAACCTTCTCTTGCCCAACAAAGTCCAGGGGATCTCGGATTCACCAAACGGTTTCCTCCCAAATAACCTGGAAGAGCCAGCCTGCCTTGAAAATTCAGAAAAGCCATCAGGAAAACGAAAGTGCAAGACCAAGCACATGGCAACCGTCTCAGAAGAGGCAAAGGATGTTGTTCTCTACTGCCTCCAGAAAGACAGTGAAGATGTGAATCACCGTGACAATGCTGGCTACACAGCCCTGCATGAGGCTTGTTCCCGGGGCTGGACCGACATCCTGAACATCCTGCTGGAGCACGGGGCCAACGTGAACTGCAGTGCGCAGGACGGCACGAGGCCAGTTCATGATGCGGTGGTCAATGACAACCTGGAGACCATCTGGCTCCTGCTGTCCTATGGGGCCGATCCCACACTGGCTACCTACTCGGGTCAGACAGCCATGAAGCTGGCCAGCAGCGACACCATGAAGCGCTTTCTCAGTGATCACCTCTCGGATCTTCAGGGCCGGGCAGAGGGTGATCCCGGTGTATCCTGGGATTTTTACAGCAGTTCTGTGTTGGAGGAAAAAGACGGGTTTGCCTGTGACCTCCTACATAATCCTCCTGGGAGCTCAGATCAAGAAGGAGACGATCCGATGGAGGAGGATGATTTCATGTTTGAACTCTCAGACAAGCCTCTTCTCCCTTGCTACAACCTCCAAGTGTCAGTGTCCCGCGGGCCCTGCAACTGGTTCCTCTTTTCCGATGTCTTGAAGAGGCTGAAGCTTTCCTCGAGGATCTTTCAGGCCCGGTTCCCGCACTTTGAAATCACCACCATGCCCAAGGCCGAGTTCTACAGGCAGGTGGCCTCCAGTCAGCTGCTGACCCCTGCCGAGAGGCCTGGAGGCTTGGACGACAGATCCCCCCCAGGCTCCTCTGAGACTGTGGAGCTGGTGCGGTACGAGCCAGACCTACTTCGGCTCCTAGGGTCCGAGGTGGAATTCCAGTCTTGCAACAGTTGA'\n",
    "BCORL1_coding_sequence_extra_bases = 'CATGATCTCTACAGCACCGCTCTACAGCGGCGTGCACAACTGGACCAGTTCTGACCGGATTCGCATGTGTGGCATCAACGAGGAGAGAAGAGCACCTCTTTCTGATGAGGAGTCAACGACAGGCGACTGCCAGCACTTTGGATCTCAGGAGTTTTGTGTCAGCAGCAGTTTTTCCAAGGTGGAGCTCACGGCAGTTGGAAGTGGCAGCAATGCCCGGGGGGCAGACCCAGATGGCAGTGCTACAGAAAAACTTGGGCACAAGTCAGAAGACAAGCCTGACGATCCCCAGCCAAAAATGGACTACGCTGGGAACGTGGCAGAGGCTGAGGGCTTCTTGGTGCCCCTGAGCAGCCCAGGAGACGGGCTCAAGCTTCCCGCATCTGACAGCGCCGAGGCCAGCAACAGCAGGGCCGACTGCTCCTGGACTCCACTCAACACCCAAATGAGCAAACAGGTTGACTGCTCACCCGCCGGAGTAAAGGCTTTGGACTCTCGGCAAGGTGTTGGAGAGAAGAATACTTTCATTTTGGCAACTCTGGGAACTGGAGTCCCTGTGGAGGGGACCCTGCCCCTGGTTACCACTAACTTCAGTCCTCTGCCAGCCCCTATCTGTCCCCCTGCTCCCGGTTCGGCCTCTGTGCCCCACTCTGTTCCAGATGCATTCCAGGTTCCCCTCTCCGTCCCTGCCCCAGTCCCCCATTCAGGGCTTGTTCCAGTCCAAGTTGCCACTTCGGTTCCAGCTCCTTCCCCTCCCTTAGCACCTGTCCCGGCTCTGGCTCCAGCGCCACCGTCAGTGCCCACGCTCATCTCTGACTCGAACCCCCTTTCTGTTTCGGCCTCAGTCTTGGTGCCTGTGCCAGCTTCTGCTCCCCCTTCAGGCCCGGTTCCCTTGTCGGCTCCAGCTCCTGCCCCGCTTTCAGTCCCAGTTTCAGCTCCTCCCTTGGCTCTCATCCAGGCTCCTGTGCCCCCTTCAGCTCCGACCTTGGTTCTCGCTCCCGTCCCCACTCCGGTTCTGGCTCCCATGCCAGCATCCACGCCTCCAGCGGCCCCTGCCCCTCCGTCTGTGCCCATGCCCACTCCAACCCCATCTTCCGGCCCACCTTCTACCCCCACCCTCATCCCCGCCTTTGCTCCTACACCGGTGCCTGCACCCACCCCAGCCCCCATCTTTACTCCAGCCCCTACACCCATGCCTGCTGCCACGCCAGCTGCCATTCCCACCTCTGCACCCATCCCGGCCTCCTTCAGTTTGAGTAGAGTGTGCTTTCCTGCAGCTCAGGCACCAGCTATGCAAAAAGTCCCCCTGTCCTTTCAGCCAGGGACAGTGCTGACCCCGAGCCAGCCGCTGGTATATATCCCGCCTCCAAGCTGTGGGCAGCCACTCAGTGTGGCCACACTGCCAACCACTCTAGGGGTTTCCTCCACTCTTACGCTCCCTGTCCTGCCGTCCTACCTGCAGGACAGGTGTCTCCCAGGCGTGCTAGCCTCCCCCGAGCTCCGTTCTTACCCGTATGCATTTTCTGTGGCCCGGCCTCTGACTTCGGATTCCAAGCTGGTATCTCTGGAGGTGAACAGGCTCCCCTGCACTTCCCCATCCGGTAGCACCACCACCCAGCCTGCACCCGATGGGGTCCCTGGGCCTTTGGCAGATACCTCCCTTGTTACTGCTTCTGCCAAGGTGCTTCCAACTCCACAGCCTCTGCTGCCAGCCCCCAGTGGGAGCTCAGCCCCACCGCACCCCGCCAAGATGCCCAGTGGCACCGAGCAGCAAACAGAAGGGACTTCCGTTACCTTCTCTCCTCTTAAGTCACCGCCACAGCTGGAACGAGAGATGGCCTCTCCACCTGAGTGCAGCGAGATGCCCCTTGATCTGTCCTCCAAGTCCAACCGCCAGAAGCTTCCATTGCCGAACCAGCGCAAGACACCCCCCATGCCTGTGTTGACCCCCGTGCACACCAGCAGCAAGGCCCTCCTCTCCACAGTCCTGTCTAGGTCTCAGCGCACAACCCAGGCTGCCGGTGGCAATGTCACCTCCTGCCTGGGCTCCACTTCCTCGCCCTTTGTCATCTTTCCCGAGATCGTGAGGAATGGGGACCCGAGCACCTGGGTGAAGAACTCAACTGCACTGATCAGCACCATTCCTGGCACCTACGTGGGAGTGGCCAACCCAGTGCCTGCATCCCTGCTGCTGAACAAAGACCCCAACCTGGGCCTCAACCGTGACCCCCGCCATCTCCCCAAGCAGGAGCCCATCTCCATCATTGATCAAGGAGAGCCTAAGGGCACTGGTGCCACGTGTGGCAAAAAGGGCAGCCAGGCTGGTGCTGAGGGACAGCCAAGCACAGTGAAACGATATACTCCAGCCCGCATTGCCCCTGGGCTGCCAGGGTGCCAAACCAAGGAACTCTCTTTGTGGAAACCCACGGGGCCGGCAAATATTTATCCCCGGTGTTCAGTCAATGGGAAACCTACCAGCACCCAGGTCCTGCCTGTTGGCTGGTCCCCGTACCACCAGGCGTCTCTGCTTTCCATTGGCATTTCCAGTGCCGGGCAGCTGACCCCCAGTCAGGGGGCGCCCATCAGGCCCACCAGCGTTGTTTCGGAGTTTTCTGGTGTGCCATCTCTCAGCTCCAGCGAAGCCGTGCACGGACTTCCTGAGGGGCAACCACGGCCTGGGGGCTCCTTCGTTCCAGAGCAGGACCCTGTTACAAAGAACAAAACTTGCCGGATTGCTGCCAAGCCTTATGAAGAACAAGTCAATCCTGTCCTCTTGACCCTCAGCCCTCAGACTGGGACCCTGGCACTGTCTGTTCAGCCTAGCGGTGGGGACATTCGAATGAATCAGGGGCCTGAGGAATCAGAGAGCCACCTCTGCTCTGACAGCACTCCTAAGATGGAAGGCCCCCAGGGGGCTTGTGGCCTGAAGCTGGCAGGAGACACGAAGCCTAAGAACCAAGTGCTGGCCACCTACATGTCCCATGAGCTGGTCCTGGCCACCCCCCAGAACCTGCCTAAGATGCCTGAGCTGCCTTTGCTACCTCACGACAGCCACCCCAAGGAACTTATATTGGACGTGGTTCCGAGCAGCAGGAGGGGCTCCAGCACAGAGCGCCCACAGCTTGGAAGCCAGGTGGATCTGGGGCGAGTGAAAATGGAGAAGGTGGATGGTGATGTGGTCTTCAATTTAGCCACCTGCTTCCGGGCTGATGGCCTCCCAGTGGCTCCCCAGAGGGGCCAAGCTGAAGTTCGGGCTAAGGCCGGGCAGGCTCGAGTGAAACAGGAAAGCGTAGGGGTCTTTGCTTGCAAGAACAAGTGGCAGCCAGATGATGTGACGGAATCTCTGCCGCCCAAGAAGATGAAGTGCGGCAAAGAGAAGGACAGTGAAGAGCAGCAGCTCCAGCCACAAGCCAAGGCCGTGGTCCGGAGTTCCCACAGACCCAAGTGCCGGAAGCTGCCCAGTGACCCCCAGGAATCCACCAAGAAAAGCCCCAGGGGGGCTTCAGATTCAGGAAAAGAGCACAATGGAGTCAGGGGAAAGCACAAGCACCGGAAGCCGACAAAGCCGGAGTCCCAGTCTCCAGGAAAACGAGCCGACAGCCACGAGGAAGGTTCCTTGGAAAAGAAAGCAAAGAGCAGTTTCCGTGACTTTATTCCTGTGGTTCTGAGCACCCGCACGCGCAGTCAGTCTGGAAGCATCTGTAGCTCCTTTGCTGGCATGGCAGACAGTGACATGGGAAGCCAGGAAGTCTTCCCCACAGAAGAAGAAGAGGAGGTAACCCCCACCCCAGCTAAGCGTCGAAAGGTGAGAAAGACCCAACGGGACACCCAGTATCGCAGCCACCATGCCCAGGACAAGTCTCTGCTGAGCCAGGGCCGAAGGCACCTGTGGCGAGCCCGAGAAATGCCCTGGAGGACAGAGGCTGCCCGGCAAATGTGGGACACCAATGAGGAGGAGGAGGAAGAAGAGGAGGAGGGCCTGCTGAAGAGGAAGAAACGAAGACGGCAGAAGAGCCGAAAATATCAGACTGGGGAGTACCTGACAGAGCAAGAAGACGAGCAGCGGCGGAAAGGGAGAGCAGATTTAAAGGCCCGTAAGCAGAAGACTTCCTCCTCCCAAAGTTTGGAGCACCGCCTCAGGAACAGGAACCTTCTCTTGCCCAACAAAGTCCAGGGGATCTCGGATTCACCAAACGGTTTCCTCCCAAATAACCTGGAAGAGCCAGCCTGCCTTGAAAATTCAGAAAAGCCATCAGGAAAACGAAAGTGCAAGACCAAGCACATGGCAACCGTCTCAGAAGAGGCAAAGGATGTTGTTCTCTACTGCCTCCAGAAAGACAGTGAAGATGTGAATCACCGTGACAATGCTGGCTACACAGCCCTGCATGAGGCTTGTTCCCGGGGCTGGACCGACATCCTGAACATCCTGCTGGAGCACGGGGCCAACGTGAACTGCAGTGCGCAGGACGGCACGAGGCCAGTTCATGATGCGGTGGTCAATGACAACCTGGAGACCATCTGGCTCCTGCTGTCCTATGGGGCCGATCCCACACTGGCTACCTACTCGGGTCAGACAGCCATGAAGCTGGCCAGCAGCGACACCATGAAGCGCTTTCTCAGTGATCACCTCTCGGATCTTCAGGGCCGGGCAGAGGGTGATCCCGGTGTATCCTGGGATTTTTACAGCAGTTCTGTGTTGGAGGAAAAAGACGGGTTTGCCTGTGACCTCCTACATAATCCTCCTGGGAGCTCAGATCAAGAAGGAGACGATCCGATGGAGGAGGATGATTTCATGTTTGAACTCTCAGACAAGCCTCTTCTCCCTTGCTACAACCTCCAAGTGTCAGTGTCCCGCGGGCCCTGCAACTGGTTCCTCTTTTCCGATGTCTTGAAGAGGCTGAAGCTTTCCTCGAGGATCTTTCAGGCCCGGTTCCCGCACTTTGAAATCACCACCATGCCCAAGGCCGAGTTCTACAGGCAGGTGGCCTCCAGTCAGCTGCTGACCCCTGCCGAGAGGCCTGGAGGCTTGGACGACAGATCCCCCCCAGGCTCCTCTGAGACTGTGGAGCTGGTGCGGTACGAGCCAGACCTACTTCGGCTCCTAGGGTCCGAGGTGGAATTCCAGTCTTGCAACAGTTGAC'"
   ]
  },
  {
   "cell_type": "code",
   "execution_count": 36,
   "metadata": {
    "scrolled": false
   },
   "outputs": [
    {
     "name": "stdout",
     "output_type": "stream",
     "text": [
      "Total summed synonymous mutation rate across region =  6.1101203186999994e-06\n"
     ]
    }
   ],
   "source": [
    "BCORL1_synonymous = synonymous_mutation_rate_across_gene('BCORL1', BCORL1_coding_sequence, BCORL1_coding_sequence_extra_bases, 0,1712)"
   ]
  },
  {
   "cell_type": "markdown",
   "metadata": {},
   "source": [
    "#### Mutation rate for excluded synonymous BCORL1 variants"
   ]
  },
  {
   "cell_type": "code",
   "execution_count": 37,
   "metadata": {
    "code_folding": [
     0
    ]
   },
   "outputs": [],
   "source": [
    "#Create a dictionary of the excluded synonymous variants in BCORL1:\n",
    "import csv\n",
    "filename=\"Young_excluded_synonymous_1000_genomes.csv\"\n",
    "\n",
    "with open(filename, 'r') as csvfile:\n",
    "    read_reader = csv.reader(csvfile)  #csv.reader returns a reader object which will iterate over lines in the csvfile\n",
    "    row_count=0\n",
    "    excluded_BCORL1_synonymous_variants={} #dictionary of DNMTA results (key = ID (row[13]), value = VAF (row[10]))\n",
    "\n",
    "    for row in read_reader:\n",
    "#         print(row)\n",
    "        if row_count>0:\n",
    "            gene = row[0]\n",
    "            variant = row[1]\n",
    "            AA_coordinate = row[11]\n",
    "            variant_ID = row[2]\n",
    "            if row[0]=='BCORL1':\n",
    "                excluded_BCORL1_synonymous_variants[variant]=(gene, AA_coordinate, variant_ID)\n",
    "\n",
    "        row_count=row_count+1"
   ]
  },
  {
   "cell_type": "code",
   "execution_count": 38,
   "metadata": {
    "scrolled": false
   },
   "outputs": [
    {
     "name": "stdout",
     "output_type": "stream",
     "text": [
      "Total summed mutation rate across excluded synonymous variants =  2.7768375e-08\n"
     ]
    }
   ],
   "source": [
    "BCORL1_excluded = synonymous_excluded_variants_mutation_rate('BCORL1', BCORL1_coding_sequence, BCORL1_coding_sequence_extra_bases, \\\n",
    "                                                           excluded_BCORL1_synonymous_variants)"
   ]
  },
  {
   "cell_type": "markdown",
   "metadata": {},
   "source": [
    "#### Total synonymous mutation rate for BCORL1"
   ]
  },
  {
   "cell_type": "code",
   "execution_count": 39,
   "metadata": {
    "code_folding": [
     0
    ]
   },
   "outputs": [
    {
     "name": "stdout",
     "output_type": "stream",
     "text": [
      "Synonymous mutation rate across BCORL1 =  6.082351943699999e-06\n"
     ]
    }
   ],
   "source": [
    "#Subtract the mutation rate of the excluded variants from the total mutation rate for BCORL1 synonymous variants across the panel\n",
    "BCORL1 = BCORL1_synonymous - BCORL1_excluded\n",
    "print(\"Synonymous mutation rate across BCORL1 = \", BCORL1)"
   ]
  },
  {
   "cell_type": "markdown",
   "metadata": {},
   "source": [
    "## BRAF (exon 15)"
   ]
  },
  {
   "cell_type": "markdown",
   "metadata": {},
   "source": [
    "- ENST00000288602.6 transcript.\n",
    "- No excluded variants in these regions."
   ]
  },
  {
   "cell_type": "markdown",
   "metadata": {},
   "source": [
    "#### Mutation rate for synonymous variants across BRAF regions included in panel"
   ]
  },
  {
   "cell_type": "code",
   "execution_count": 40,
   "metadata": {},
   "outputs": [],
   "source": [
    "BRAF_coding_sequence = 'ATGGCGGCGCTGAGCGGTGGCGGTGGTGGCGGCGCGGAGCCGGGCCAGGCTCTGTTCAACGGGGACATGGAGCCCGAGGCCGGCGCCGGCGCCGGCGCCGCGGCCTCTTCGGCTGCGGACCCTGCCATTCCGGAGGAGGTGTGGAATATCAAACAAATGATTAAGTTGACACAGGAACATATAGAGGCCCTATTGGACAAATTTGGTGGGGAGCATAATCCACCATCAATATATCTGGAGGCCTATGAAGAATACACCAGCAAGCTAGATGCACTCCAACAAAGAGAACAACAGTTATTGGAATCTCTGGGGAACGGAACTGATTTTTCTGTTTCTAGCTCTGCATCAATGGATACCGTTACATCTTCTTCCTCTTCTAGCCTTTCAGTGCTACCTTCATCTCTTTCAGTTTTTCAAAATCCCACAGATGTGGCACGGAGCAACCCCAAGTCACCACAAAAACCTATCGTTAGAGTCTTCCTGCCCAACAAACAGAGGACAGTGGTACCTGCAAGGTGTGGAGTTACAGTCCGAGACAGTCTAAAGAAAGCACTGATGATGAGAGGTCTAATCCCAGAGTGCTGTGCTGTTTACAGAATTCAGGATGGAGAGAAGAAACCAATTGGTTGGGACACTGATATTTCCTGGCTTACTGGAGAAGAATTGCATGTGGAAGTGTTGGAGAATGTTCCACTTACAACACACAACTTTGTACGAAAAACGTTTTTCACCTTAGCATTTTGTGACTTTTGTCGAAAGCTGCTTTTCCAGGGTTTCCGCTGTCAAACATGTGGTTATAAATTTCACCAGCGTTGTAGTACAGAAGTTCCACTGATGTGTGTTAATTATGACCAACTTGATTTGCTGTTTGTCTCCAAGTTCTTTGAACACCACCCAATACCACAGGAAGAGGCGTCCTTAGCAGAGACTGCCCTAACATCTGGATCATCCCCTTCCGCACCCGCCTCGGACTCTATTGGGCCCCAAATTCTCACCAGTCCGTCTCCTTCAAAATCCATTCCAATTCCACAGCCCTTCCGACCAGCAGATGAAGATCATCGAAATCAATTTGGGCAACGAGACCGATCCTCATCAGCTCCCAATGTGCATATAAACACAATAGAACCTGTCAATATTGATGACTTGATTAGAGACCAAGGATTTCGTGGTGATGGAGGATCAACCACAGGTTTGTCTGCTACCCCCCCTGCCTCATTACCTGGCTCACTAACTAACGTGAAAGCCTTACAGAAATCTCCAGGACCTCAGCGAGAAAGGAAGTCATCTTCATCCTCAGAAGACAGGAATCGAATGAAAACACTTGGTAGACGGGACTCGAGTGATGATTGGGAGATTCCTGATGGGCAGATTACAGTGGGACAAAGAATTGGATCTGGATCATTTGGAACAGTCTACAAGGGAAAGTGGCATGGTGATGTGGCAGTGAAAATGTTGAATGTGACAGCACCTACACCTCAGCAGTTACAAGCCTTCAAAAATGAAGTAGGAGTACTCAGGAAAACACGACATGTGAATATCCTACTCTTCATGGGCTATTCCACAAAGCCACAACTGGCTATTGTTACCCAGTGGTGTGAGGGCTCCAGCTTGTATCACCATCTCCATATCATTGAGACCAAATTTGAGATGATCAAACTTATAGATATTGCACGACAGACTGCACAGGGCATGGATTACTTACACGCCAAGTCAATCATCCACAGAGACCTCAAGAGTAATAATATATTTCTTCATGAAGACCTCACAGTAAAAATAGGTGATTTTGGTCTAGCTACAGTGAAATCTCGATGGAGTGGGTCCCATCAGTTTGAACAGTTGTCTGGATCCATTTTGTGGATGGCACCAGAAGTCATCAGAATGCAAGATAAAAATCCATACAGCTTTCAGTCAGATGTATATGCATTTGGAATTGTTCTGTATGAATTGATGACTGGACAGTTACCTTATTCAAACATCAACAACAGGGACCAGATAATTTTTATGGTGGGACGAGGATACCTGTCTCCAGATCTCAGTAAGGTACGGAGTAACTGTCCAAAAGCCATGAAGAGATTAATGGCAGAGTGCCTCAAAAAGAAAAGAGATGAGAGACCACTCTTTCCCCAAATTCTCGCCTCTATTGAGCTGCTGGCCCGCTCATTGCCAAAAATTCACCGCAGTGCATCAGAACCCTCCTTGAATCGGGCTGGTTTCCAAACAGAGGATTTTAGTCTATATGCTTGTGCTTCTCCAAAAACACCCATCCAGGCAGGGGGATATGGTGCGTTTCCTGTCCACTGA'\n",
    "BRAF_coding_sequence_extra_bases = 'GATGGCGGCGCTGAGCGGTGGCGGTGGTGGCGGCGCGGAGCCGGGCCAGGCTCTGTTCAACGGGGACATGGAGCCCGAGGCCGGCGCCGGCGCCGGCGCCGCGGCCTCTTCGGCTGCGGACCCTGCCATTCCGGAGGAGGTGTGGAATATCAAACAAATGATTAAGTTGACACAGGAACATATAGAGGCCCTATTGGACAAATTTGGTGGGGAGCATAATCCACCATCAATATATCTGGAGGCCTATGAAGAATACACCAGCAAGCTAGATGCACTCCAACAAAGAGAACAACAGTTATTGGAATCTCTGGGGAACGGAACTGATTTTTCTGTTTCTAGCTCTGCATCAATGGATACCGTTACATCTTCTTCCTCTTCTAGCCTTTCAGTGCTACCTTCATCTCTTTCAGTTTTTCAAAATCCCACAGATGTGGCACGGAGCAACCCCAAGTCACCACAAAAACCTATCGTTAGAGTCTTCCTGCCCAACAAACAGAGGACAGTGGTACCTGCAAGGTGTGGAGTTACAGTCCGAGACAGTCTAAAGAAAGCACTGATGATGAGAGGTCTAATCCCAGAGTGCTGTGCTGTTTACAGAATTCAGGATGGAGAGAAGAAACCAATTGGTTGGGACACTGATATTTCCTGGCTTACTGGAGAAGAATTGCATGTGGAAGTGTTGGAGAATGTTCCACTTACAACACACAACTTTGTACGAAAAACGTTTTTCACCTTAGCATTTTGTGACTTTTGTCGAAAGCTGCTTTTCCAGGGTTTCCGCTGTCAAACATGTGGTTATAAATTTCACCAGCGTTGTAGTACAGAAGTTCCACTGATGTGTGTTAATTATGACCAACTTGATTTGCTGTTTGTCTCCAAGTTCTTTGAACACCACCCAATACCACAGGAAGAGGCGTCCTTAGCAGAGACTGCCCTAACATCTGGATCATCCCCTTCCGCACCCGCCTCGGACTCTATTGGGCCCCAAATTCTCACCAGTCCGTCTCCTTCAAAATCCATTCCAATTCCACAGCCCTTCCGACCAGCAGATGAAGATCATCGAAATCAATTTGGGCAACGAGACCGATCCTCATCAGCTCCCAATGTGCATATAAACACAATAGAACCTGTCAATATTGATGACTTGATTAGAGACCAAGGATTTCGTGGTGATGGAGGATCAACCACAGGTTTGTCTGCTACCCCCCCTGCCTCATTACCTGGCTCACTAACTAACGTGAAAGCCTTACAGAAATCTCCAGGACCTCAGCGAGAAAGGAAGTCATCTTCATCCTCAGAAGACAGGAATCGAATGAAAACACTTGGTAGACGGGACTCGAGTGATGATTGGGAGATTCCTGATGGGCAGATTACAGTGGGACAAAGAATTGGATCTGGATCATTTGGAACAGTCTACAAGGGAAAGTGGCATGGTGATGTGGCAGTGAAAATGTTGAATGTGACAGCACCTACACCTCAGCAGTTACAAGCCTTCAAAAATGAAGTAGGAGTACTCAGGAAAACACGACATGTGAATATCCTACTCTTCATGGGCTATTCCACAAAGCCACAACTGGCTATTGTTACCCAGTGGTGTGAGGGCTCCAGCTTGTATCACCATCTCCATATCATTGAGACCAAATTTGAGATGATCAAACTTATAGATATTGCACGACAGACTGCACAGGGCATGGATTACTTACACGCCAAGTCAATCATCCACAGAGACCTCAAGAGTAATAATATATTTCTTCATGAAGACCTCACAGTAAAAATAGGTGATTTTGGTCTAGCTACAGTGAAATCTCGATGGAGTGGGTCCCATCAGTTTGAACAGTTGTCTGGATCCATTTTGTGGATGGCACCAGAAGTCATCAGAATGCAAGATAAAAATCCATACAGCTTTCAGTCAGATGTATATGCATTTGGAATTGTTCTGTATGAATTGATGACTGGACAGTTACCTTATTCAAACATCAACAACAGGGACCAGATAATTTTTATGGTGGGACGAGGATACCTGTCTCCAGATCTCAGTAAGGTACGGAGTAACTGTCCAAAAGCCATGAAGAGATTAATGGCAGAGTGCCTCAAAAAGAAAAGAGATGAGAGACCACTCTTTCCCCAAATTCTCGCCTCTATTGAGCTGCTGGCCCGCTCATTGCCAAAAATTCACCGCAGTGCATCAGAACCCTCCTTGAATCGGGCTGGTTTCCAAACAGAGGATTTTAGTCTATATGCTTGTGCTTCTCCAAAAACACCCATCCAGGCAGGGGGATATGGTGCGTTTCCTGTCCACTGAA'"
   ]
  },
  {
   "cell_type": "code",
   "execution_count": 41,
   "metadata": {},
   "outputs": [
    {
     "name": "stdout",
     "output_type": "stream",
     "text": [
      "Total summed synonymous mutation rate across region =  6.47039733e-08\n"
     ]
    }
   ],
   "source": [
    "BRAF = synonymous_mutation_rate_across_gene('BRAF', BRAF_coding_sequence, BRAF_coding_sequence_extra_bases, 580,621)"
   ]
  },
  {
   "cell_type": "markdown",
   "metadata": {},
   "source": [
    "## CALR"
   ]
  },
  {
   "cell_type": "markdown",
   "metadata": {},
   "source": [
    "- ENST00000316448.5 transcript.\n",
    "- No excluded variants in these regions."
   ]
  },
  {
   "cell_type": "markdown",
   "metadata": {},
   "source": [
    "#### Mutation rate for synonymous variants across CALR regions included in panel"
   ]
  },
  {
   "cell_type": "code",
   "execution_count": 42,
   "metadata": {},
   "outputs": [],
   "source": [
    "CALR_coding_sequence = 'ATGCTGCTATCCGTGCCGCTGCTGCTCGGCCTCCTCGGCCTGGCCGTCGCCGAGCCTGCCGTCTACTTCAAGGAGCAGTTTCTGGACGGAGACGGGTGGACTTCCCGCTGGATCGAATCCAAACACAAGTCAGATTTTGGCAAATTCGTTCTCAGTTCCGGCAAGTTCTACGGTGACGAGGAGAAAGATAAAGGTTTGCAGACAAGCCAGGATGCACGCTTTTATGCTCTGTCGGCCAGTTTCGAGCCTTTCAGCAACAAAGGCCAGACGCTGGTGGTGCAGTTCACGGTGAAACATGAGCAGAACATCGACTGTGGGGGCGGCTATGTGAAGCTGTTTCCTAATAGTTTGGACCAGACAGACATGCACGGAGACTCAGAATACAACATCATGTTTGGTCCCGACATCTGTGGCCCTGGCACCAAGAAGGTTCATGTCATCTTCAACTACAAGGGCAAGAACGTGCTGATCAACAAGGACATCCGTTGCAAGGATGATGAGTTTACACACCTGTACACACTGATTGTGCGGCCAGACAACACCTATGAGGTGAAGATTGACAACAGCCAGGTGGAGTCCGGCTCCTTGGAAGACGATTGGGACTTCCTGCCACCCAAGAAGATAAAGGATCCTGATGCTTCAAAACCGGAAGACTGGGATGAGCGGGCCAAGATCGATGATCCCACAGACTCCAAGCCTGAGGACTGGGACAAGCCCGAGCATATCCCTGACCCTGATGCTAAGAAGCCCGAGGACTGGGATGAAGAGATGGACGGAGAGTGGGAACCCCCAGTGATTCAGAACCCTGAGTACAAGGGTGAGTGGAAGCCCCGGCAGATCGACAACCCAGATTACAAGGGCACTTGGATCCACCCAGAAATTGACAACCCCGAGTATTCTCCCGATCCCAGTATCTATGCCTATGATAACTTTGGCGTGCTGGGCCTGGACCTCTGGCAGGTCAAGTCTGGCACCATCTTTGACAACTTCCTCATCACCAACGATGAGGCATACGCTGAGGAGTTTGGCAACGAGACGTGGGGCGTAACAAAGGCAGCAGAGAAACAAATGAAGGACAAACAGGACGAGGAGCAGAGGCTTAAGGAGGAGGAAGAAGACAAGAAACGCAAAGAGGAGGAGGAGGCAGAGGACAAGGAGGATGATGAGGACAAAGATGAGGATGAGGAGGATGAGGAGGACAAGGAGGAAGATGAGGAGGAAGATGTCCCCGGCCAGGCCAAGGACGAGCTGTAG'\n",
    "CALR_coding_sequence_extra_bases = 'CATGCTGCTATCCGTGCCGCTGCTGCTCGGCCTCCTCGGCCTGGCCGTCGCCGAGCCTGCCGTCTACTTCAAGGAGCAGTTTCTGGACGGAGACGGGTGGACTTCCCGCTGGATCGAATCCAAACACAAGTCAGATTTTGGCAAATTCGTTCTCAGTTCCGGCAAGTTCTACGGTGACGAGGAGAAAGATAAAGGTTTGCAGACAAGCCAGGATGCACGCTTTTATGCTCTGTCGGCCAGTTTCGAGCCTTTCAGCAACAAAGGCCAGACGCTGGTGGTGCAGTTCACGGTGAAACATGAGCAGAACATCGACTGTGGGGGCGGCTATGTGAAGCTGTTTCCTAATAGTTTGGACCAGACAGACATGCACGGAGACTCAGAATACAACATCATGTTTGGTCCCGACATCTGTGGCCCTGGCACCAAGAAGGTTCATGTCATCTTCAACTACAAGGGCAAGAACGTGCTGATCAACAAGGACATCCGTTGCAAGGATGATGAGTTTACACACCTGTACACACTGATTGTGCGGCCAGACAACACCTATGAGGTGAAGATTGACAACAGCCAGGTGGAGTCCGGCTCCTTGGAAGACGATTGGGACTTCCTGCCACCCAAGAAGATAAAGGATCCTGATGCTTCAAAACCGGAAGACTGGGATGAGCGGGCCAAGATCGATGATCCCACAGACTCCAAGCCTGAGGACTGGGACAAGCCCGAGCATATCCCTGACCCTGATGCTAAGAAGCCCGAGGACTGGGATGAAGAGATGGACGGAGAGTGGGAACCCCCAGTGATTCAGAACCCTGAGTACAAGGGTGAGTGGAAGCCCCGGCAGATCGACAACCCAGATTACAAGGGCACTTGGATCCACCCAGAAATTGACAACCCCGAGTATTCTCCCGATCCCAGTATCTATGCCTATGATAACTTTGGCGTGCTGGGCCTGGACCTCTGGCAGGTCAAGTCTGGCACCATCTTTGACAACTTCCTCATCACCAACGATGAGGCATACGCTGAGGAGTTTGGCAACGAGACGTGGGGCGTAACAAAGGCAGCAGAGAAACAAATGAAGGACAAACAGGACGAGGAGCAGAGGCTTAAGGAGGAGGAAGAAGACAAGAAACGCAAAGAGGAGGAGGAGGCAGAGGACAAGGAGGATGATGAGGACAAAGATGAGGATGAGGAGGATGAGGAGGACAAGGAGGAAGATGAGGAGGAAGATGTCCCCGGCCAGGCCAAGGACGAGCTGTAGA'"
   ]
  },
  {
   "cell_type": "code",
   "execution_count": 43,
   "metadata": {},
   "outputs": [
    {
     "name": "stdout",
     "output_type": "stream",
     "text": [
      "Total summed synonymous mutation rate across region =  1.521463013e-07\n"
     ]
    }
   ],
   "source": [
    "CALR = synonymous_mutation_rate_across_gene('CALR', CALR_coding_sequence, CALR_coding_sequence_extra_bases, 350,417)"
   ]
  },
  {
   "cell_type": "markdown",
   "metadata": {},
   "source": [
    "## CBL (exons 8 and 9)"
   ]
  },
  {
   "cell_type": "markdown",
   "metadata": {},
   "source": [
    "- ENST00000264033 transcript.\n",
    "- No excluded variants in these regions."
   ]
  },
  {
   "cell_type": "markdown",
   "metadata": {},
   "source": [
    "#### Mutation rate for synonymous variants across CBL regions included in panel"
   ]
  },
  {
   "cell_type": "code",
   "execution_count": 44,
   "metadata": {},
   "outputs": [],
   "source": [
    "CBL_coding_sequence = 'ATGGCCGGCAACGTGAAGAAGAGCTCTGGGGCCGGGGGCGGCAGCGGCTCCGGGGGCTCGGGTTCGGGTGGCCTGATTGGGCTCATGAAGGACGCCTTCCAGCCGCACCACCACCACCACCACCACCTCAGCCCCCACCCGCCGGGGACGGTGGACAAGAAGATGGTGGAGAAGTGCTGGAAGCTCATGGACAAGGTGGTGCGGTTGTGTCAGAACCCAAAGCTGGCGCTAAAGAATAGCCCACCTTATATCTTAGACCTGCTACCAGATACCTACCAGCATCTCCGTACTATCTTGTCAAGATATGAGGGGAAGATGGAGACACTTGGAGAAAATGAGTATTTTAGGGTGTTTATGGAGAATTTGATGAAGAAAACTAAGCAAACCATAAGCCTCTTCAAGGAGGGAAAAGAAAGAATGTATGAGGAGAATTCTCAGCCTAGGCGAAACCTAACCAAACTGTCCCTCATCTTCAGCCACATGCTGGCAGAACTAAAAGGAATCTTTCCAAGTGGACTCTTTCAGGGAGACACATTTCGGATTACTAAAGCAGATGCTGCGGAATTTTGGAGAAAAGCTTTTGGGGAAAAGACAATAGTCCCTTGGAAGAGCTTTCGACAGGCTCTACATGAAGTGCATCCCATCAGTTCTGGGCTGGAGGCCATGGCTCTGAAATCCACTATTGATCTGACCTGCAATGATTATATTTCGGTTTTTGAATTTGACATCTTTACCCGACTCTTTCAGCCCTGGTCCTCTTTGCTCAGGAATTGGAACAGCCTTGCTGTAACTCATCCTGGCTACATGGCTTTTTTGACGTATGACGAAGTGAAAGCTCGGCTCCAGAAATTCATTCACAAACCTGGCAGTTATATCTTCCGGCTGAGCTGTACTCGTCTGGGTCAGTGGGCTATTGGGTATGTTACTGCTGATGGGAACATTCTCCAGACAATCCCTCACAATAAACCTCTCTTCCAAGCACTGATTGATGGCTTCAGGGAAGGCTTCTATTTGTTTCCTGATGGACGAAATCAGAATCCTGATCTGACTGGCTTATGTGAACCAACTCCCCAAGACCATATCAAAGTGACCCAGGAACAATATGAATTATACTGTGAGATGGGCTCCACATTCCAACTATGTAAAATATGTGCTGAAAATGATAAGGATGTAAAGATTGAGCCCTGTGGACACCTCATGTGCACATCCTGTCTTACATCCTGGCAGGAATCAGAAGGTCAGGGCTGTCCTTTCTGCCGATGTGAAATTAAAGGTACTGAACCCATCGTGGTAGATCCGTTTGATCCTAGAGGGAGTGGCAGCCTGTTGAGGCAAGGAGCAGAGGGAGCTCCCTCCCCAAATTATGATGATGATGATGATGAACGAGCTGATGATACTCTCTTCATGATGAAGGAATTGGCTGGTGCCAAGGTGGAACGGCCGCCTTCTCCATTCTCCATGGCCCCACAAGCTTCCCTTCCCCCGGTGCCACCACGACTTGACCTTCTGCCGCAGCGAGTATGTGTTCCCTCAAGTGCTTCTGCTCTTGGAACTGCTTCTAAGGCTGCTTCTGGCTCCCTTCATAAAGACAAACCATTGCCAGTACCTCCCACACTTCGAGATCTTCCACCACCACCGCCTCCAGACCGGCCATATTCTGTTGGAGCAGAATCCCGACCTCAAAGACGCCCCTTGCCTTGTACACCAGGCGACTGTCCCTCCAGAGACAAACTGCCCCCTGTCCCCTCTAGCCGCCTTGGAGACTCATGGCTGCCCCGGCCAATCCCCAAAGTACCAGTATCTGCCCCAAGTTCCAGTGATCCCTGGACAGGAAGAGAATTAACCAACCGGCACTCACTTCCATTTTCATTGCCCTCACAAATGGAGCCCAGACCAGATGTGCCTAGGCTCGGAAGCACGTTCAGTCTGGATACCTCCATGAGTATGAATAGCAGCCCATTAGTAGGTCCAGAGTGTGACCACCCCAAAATCAAACCTTCCTCATCTGCCAATGCCATTTATTCTCTGGCTGCCAGACCTCTTCCTGTGCCAAAACTGCCACCTGGGGAGCAATGTGAGGGTGAAGAGGACACAGAGTACATGACTCCCTCTTCCAGGCCTCTACGGCCTTTGGATACATCCCAGAGTTCACGAGCATGTGATTGCGACCAGCAGATTGATAGCTGTACGTATGAAGCAATGTATAATATTCAGTCCCAGGCGCCATCTATCACCGAGAGCAGCACCTTTGGTGAAGGGAATTTGGCCGCAGCCCATGCCAACACTGGTCCCGAGGAGTCAGAAAATGAGGATGATGGGTATGATGTCCCAAAGCCACCTGTGCCGGCCGTGCTGGCCCGCCGAACTCTCTCAGATATCTCTAATGCCAGCTCCTCCTTTGGCTGGTTGTCTCTGGATGGTGATCCTACAACAAATGTCACTGAAGGTTCCCAAGTTCCCGAGAGGCCTCCAAAACCATTCCCGCGGAGAATCAACTCTGAACGGAAAGCTGGCAGCTGTCAGCAAGGTAGTGGTCCTGCCGCCTCTGCTGCCACCGCCTCACCTCAGCTCTCCAGTGAGATCGAGAACCTCATGAGTCAGGGGTACTCCTACCAGGACATCCAGAAAGCTTTGGTCATTGCCCAGAACAACATCGAGATGGCCAAAAACATCCTCCGGGAATTTGTTTCCATTTCTTCTCCTGCCCATGTAGCTACCTAG'\n",
    "CBL_coding_sequence_extra_bases ='CATGGCCGGCAACGTGAAGAAGAGCTCTGGGGCCGGGGGCGGCAGCGGCTCCGGGGGCTCGGGTTCGGGTGGCCTGATTGGGCTCATGAAGGACGCCTTCCAGCCGCACCACCACCACCACCACCACCTCAGCCCCCACCCGCCGGGGACGGTGGACAAGAAGATGGTGGAGAAGTGCTGGAAGCTCATGGACAAGGTGGTGCGGTTGTGTCAGAACCCAAAGCTGGCGCTAAAGAATAGCCCACCTTATATCTTAGACCTGCTACCAGATACCTACCAGCATCTCCGTACTATCTTGTCAAGATATGAGGGGAAGATGGAGACACTTGGAGAAAATGAGTATTTTAGGGTGTTTATGGAGAATTTGATGAAGAAAACTAAGCAAACCATAAGCCTCTTCAAGGAGGGAAAAGAAAGAATGTATGAGGAGAATTCTCAGCCTAGGCGAAACCTAACCAAACTGTCCCTCATCTTCAGCCACATGCTGGCAGAACTAAAAGGAATCTTTCCAAGTGGACTCTTTCAGGGAGACACATTTCGGATTACTAAAGCAGATGCTGCGGAATTTTGGAGAAAAGCTTTTGGGGAAAAGACAATAGTCCCTTGGAAGAGCTTTCGACAGGCTCTACATGAAGTGCATCCCATCAGTTCTGGGCTGGAGGCCATGGCTCTGAAATCCACTATTGATCTGACCTGCAATGATTATATTTCGGTTTTTGAATTTGACATCTTTACCCGACTCTTTCAGCCCTGGTCCTCTTTGCTCAGGAATTGGAACAGCCTTGCTGTAACTCATCCTGGCTACATGGCTTTTTTGACGTATGACGAAGTGAAAGCTCGGCTCCAGAAATTCATTCACAAACCTGGCAGTTATATCTTCCGGCTGAGCTGTACTCGTCTGGGTCAGTGGGCTATTGGGTATGTTACTGCTGATGGGAACATTCTCCAGACAATCCCTCACAATAAACCTCTCTTCCAAGCACTGATTGATGGCTTCAGGGAAGGCTTCTATTTGTTTCCTGATGGACGAAATCAGAATCCTGATCTGACTGGCTTATGTGAACCAACTCCCCAAGACCATATCAAAGTGACCCAGGAACAATATGAATTATACTGTGAGATGGGCTCCACATTCCAACTATGTAAAATATGTGCTGAAAATGATAAGGATGTAAAGATTGAGCCCTGTGGACACCTCATGTGCACATCCTGTCTTACATCCTGGCAGGAATCAGAAGGTCAGGGCTGTCCTTTCTGCCGATGTGAAATTAAAGGTACTGAACCCATCGTGGTAGATCCGTTTGATCCTAGAGGGAGTGGCAGCCTGTTGAGGCAAGGAGCAGAGGGAGCTCCCTCCCCAAATTATGATGATGATGATGATGAACGAGCTGATGATACTCTCTTCATGATGAAGGAATTGGCTGGTGCCAAGGTGGAACGGCCGCCTTCTCCATTCTCCATGGCCCCACAAGCTTCCCTTCCCCCGGTGCCACCACGACTTGACCTTCTGCCGCAGCGAGTATGTGTTCCCTCAAGTGCTTCTGCTCTTGGAACTGCTTCTAAGGCTGCTTCTGGCTCCCTTCATAAAGACAAACCATTGCCAGTACCTCCCACACTTCGAGATCTTCCACCACCACCGCCTCCAGACCGGCCATATTCTGTTGGAGCAGAATCCCGACCTCAAAGACGCCCCTTGCCTTGTACACCAGGCGACTGTCCCTCCAGAGACAAACTGCCCCCTGTCCCCTCTAGCCGCCTTGGAGACTCATGGCTGCCCCGGCCAATCCCCAAAGTACCAGTATCTGCCCCAAGTTCCAGTGATCCCTGGACAGGAAGAGAATTAACCAACCGGCACTCACTTCCATTTTCATTGCCCTCACAAATGGAGCCCAGACCAGATGTGCCTAGGCTCGGAAGCACGTTCAGTCTGGATACCTCCATGAGTATGAATAGCAGCCCATTAGTAGGTCCAGAGTGTGACCACCCCAAAATCAAACCTTCCTCATCTGCCAATGCCATTTATTCTCTGGCTGCCAGACCTCTTCCTGTGCCAAAACTGCCACCTGGGGAGCAATGTGAGGGTGAAGAGGACACAGAGTACATGACTCCCTCTTCCAGGCCTCTACGGCCTTTGGATACATCCCAGAGTTCACGAGCATGTGATTGCGACCAGCAGATTGATAGCTGTACGTATGAAGCAATGTATAATATTCAGTCCCAGGCGCCATCTATCACCGAGAGCAGCACCTTTGGTGAAGGGAATTTGGCCGCAGCCCATGCCAACACTGGTCCCGAGGAGTCAGAAAATGAGGATGATGGGTATGATGTCCCAAAGCCACCTGTGCCGGCCGTGCTGGCCCGCCGAACTCTCTCAGATATCTCTAATGCCAGCTCCTCCTTTGGCTGGTTGTCTCTGGATGGTGATCCTACAACAAATGTCACTGAAGGTTCCCAAGTTCCCGAGAGGCCTCCAAAACCATTCCCGCGGAGAATCAACTCTGAACGGAAAGCTGGCAGCTGTCAGCAAGGTAGTGGTCCTGCCGCCTCTGCTGCCACCGCCTCACCTCAGCTCTCCAGTGAGATCGAGAACCTCATGAGTCAGGGGTACTCCTACCAGGACATCCAGAAAGCTTTGGTCATTGCCCAGAACAACATCGAGATGGCCAAAAACATCCTCCGGGAATTTGTTTCCATTTCTTCTCCTGCCCATGTAGCTACCTAGC'"
   ]
  },
  {
   "cell_type": "code",
   "execution_count": 45,
   "metadata": {},
   "outputs": [
    {
     "name": "stdout",
     "output_type": "stream",
     "text": [
      "Total summed synonymous mutation rate across region =  2.429602643e-07\n"
     ]
    }
   ],
   "source": [
    "CBL = synonymous_mutation_rate_across_gene('CBL', CBL_coding_sequence, CBL_coding_sequence_extra_bases, 365,477)"
   ]
  },
  {
   "cell_type": "markdown",
   "metadata": {},
   "source": [
    "## CBLB (exons 9 and 10)"
   ]
  },
  {
   "cell_type": "markdown",
   "metadata": {},
   "source": [
    "- ENST00000264122.4 transcript"
   ]
  },
  {
   "cell_type": "markdown",
   "metadata": {},
   "source": [
    "#### Mutation rate for synonymous variants across CBLB regions included in panel"
   ]
  },
  {
   "cell_type": "code",
   "execution_count": 46,
   "metadata": {},
   "outputs": [],
   "source": [
    "CBLB_coding_sequence = 'ATGGCAAACTCAATGAATGGCAGAAACCCTGGTGGTCGAGGAGGAAATCCCCGAAAAGGTCGAATTTTGGGTATTATTGATGCTATTCAGGATGCAGTTGGACCCCCTAAGCAAGCTGCCGCAGATCGCAGGACCGTGGAGAAGACTTGGAAGCTCATGGACAAAGTGGTAAGACTGTGCCAAAATCCCAAACTTCAGTTGAAAAATAGCCCACCATATATACTTGATATTTTGCCTGATACATATCAGCATTTACGACTTATATTGAGTAAATATGATGACAACCAGAAACTTGCCCAACTCAGTGAGAATGAGTACTTTAAAATCTACATTGATAGCCTTATGAAAAAGTCAAAACGGGCAATAAGACTCTTTAAAGAAGGCAAGGAGAGAATGTATGAAGAACAGTCACAGGACAGACGAAATCTCACAAAACTGTCCCTTATCTTCAGTCACATGCTGGCAGAAATCAAAGCAATCTTTCCCAATGGTCAATTCCAGGGAGATAACTTTCGTATCACAAAAGCAGATGCTGCTGAATTCTGGAGAAAGTTTTTTGGAGACAAAACTATCGTACCATGGAAAGTATTCAGACAGTGCCTTCATGAGGTCCACCAGATTAGCTCTGGCCTGGAAGCAATGGCTCTAAAATCAACAATTGATTTAACTTGCAATGATTACATTTCAGTTTTTGAATTTGATATTTTTACCAGGCTGTTTCAGCCTTGGGGCTCTATTTTGCGGAATTGGAATTTCTTAGCTGTGACACATCCAGGTTACATGGCATTTCTCACATATGATGAAGTTAAAGCACGACTACAGAAATATAGCACCAAACCCGGAAGCTATATTTTCCGGTTAAGTTGCACTCGATTGGGACAGTGGGCCATTGGCTATGTGACTGGGGATGGGAATATCTTACAGACCATACCTCATAACAAGCCCTTATTTCAAGCCCTGATTGATGGCAGCAGGGAAGGATTTTATCTTTATCCTGATGGGAGGAGTTATAATCCTGATTTAACTGGATTATGTGAACCTACACCTCATGACCATATAAAAGTTACACAGGAACAATATGAATTATATTGTGAAATGGGCTCCACTTTTCAGCTCTGTAAGATTTGTGCAGAGAATGACAAAGATGTCAAGATTGAGCCTTGTGGGCATTTGATGTGCACCTCTTGCCTTACGGCATGGCAGGAGTCGGATGGTCAGGGCTGCCCTTTCTGTCGTTGTGAAATAAAAGGAACTGAGCCCATAATCGTGGACCCCTTTGATCCAAGAGATGAAGGCTCCAGGTGTTGCAGCATCATTGACCCCTTTGGCATGCCGATGCTAGACTTGGACGACGATGATGATCGTGAGGAGTCCTTGATGATGAATCGGTTGGCAAACGTCCGAAAGTGCACTGACAGGCAGAACTCACCAGTCACATCACCAGGATCCTCTCCCCTTGCCCAGAGAAGAAAGCCACAGCCTGACCCACTCCAGATCCCACATCTAAGCCTGCCACCCGTGCCTCCTCGCCTGGATCTAATTCAGAAAGGCATAGTTAGATCTCCCTGTGGCAGCCCAACGGGTTCACCAAAGTCTTCTCCTTGCATGGTGAGAAAACAAGATAAACCACTCCCAGCACCACCTCCTCCCTTAAGAGATCCTCCTCCACCGCCACCTGAAAGACCTCCACCAATCCCACCAGACAATAGACTGAGTAGACACATCCATCATGTGGAAAGCGTGCCTTCCAGAGACCCGCCAATGCCTCTTGAAGCATGGTGCCCTCGGGATGTGTTTGGGACTAATCAGCTTGTGGGATGTCGACTCCTAGGGGAGGGCTCTCCAAAACCTGGAATCACAGCGAGTTCAAATGTCAATGGAAGGCACAGTAGAGTGGGCTCTGACCCAGTGCTTATGCGGAAACACAGACGCCATGATTTGCCTTTAGAAGGAGCTAAGGTCTTTTCCAATGGTCACCTTGGAAGTGAAGAATATGATGTTCCTCCCCGGCTTTCTCCTCCTCCTCCAGTTACCACCCTCCTCCCTAGCATAAAGTGTACTGGTCCGTTAGCAAATTCTCTTTCAGAGAAAACAAGAGACCCAGTAGAGGAAGATGATGATGAATACAAGATTCCTTCATCCCACCCTGTTTCCCTGAATTCACAACCATCTCATTGTCATAATGTAAAACCTCCTGTTCGGTCTTGTGATAATGGTCACTGTATGCTGAATGGAACACATGGTCCATCTTCAGAGAAGAAATCAAACATCCCTGACTTAAGCATATATTTAAAGGGAGATGTTTTTGATTCAGCCTCTGATCCCGTGCCATTACCACCTGCCAGGCCTCCAACTCGGGACAATCCAAAGCATGGTTCTTCACTCAACAGGACGCCCTCTGATTATGATCTTCTCATCCCTCCATTAGGTGAAGATGCTTTTGATGCCCTCCCTCCATCTCTCCCACCTCCCCCACCTCCTGCAAGGCATAGTCTCATTGAACATTCAAAACCTCCTGGCTCCAGTAGCCGGCCATCCTCAGGACAGGATCTTTTTCTTCTTCCTTCAGATCCCTTTGTTGATCTAGCAAGTGGCCAAGTTCCTTTGCCTCCTGCTAGAAGGTTACCAGGTGAAAATGTCAAAACTAACAGAACATCACAGGACTATGATCAGCTTCCTTCATGTTCAGATGGTTCACAGGCACCAGCCAGACCCCCTAAACCACGACCGCGCAGGACTGCACCAGAAATTCACCACAGAAAACCCCATGGGCCTGAGGCGGCATTGGAAAATGTCGATGCAAAAATTGCAAAACTCATGGGAGAGGGTTATGCCTTTGAAGAGGTGAAGAGAGCCTTAGAGATAGCCCAGAATAATGTCGAAGTTGCCCGGAGCATCCTCCGAGAATTTGCCTTCCCTCCTCCAGTATCCCCACGTCTAAATCTATAG'\n",
    "CBLB_coding_sequence_extra_bases = 'GATGGCAAACTCAATGAATGGCAGAAACCCTGGTGGTCGAGGAGGAAATCCCCGAAAAGGTCGAATTTTGGGTATTATTGATGCTATTCAGGATGCAGTTGGACCCCCTAAGCAAGCTGCCGCAGATCGCAGGACCGTGGAGAAGACTTGGAAGCTCATGGACAAAGTGGTAAGACTGTGCCAAAATCCCAAACTTCAGTTGAAAAATAGCCCACCATATATACTTGATATTTTGCCTGATACATATCAGCATTTACGACTTATATTGAGTAAATATGATGACAACCAGAAACTTGCCCAACTCAGTGAGAATGAGTACTTTAAAATCTACATTGATAGCCTTATGAAAAAGTCAAAACGGGCAATAAGACTCTTTAAAGAAGGCAAGGAGAGAATGTATGAAGAACAGTCACAGGACAGACGAAATCTCACAAAACTGTCCCTTATCTTCAGTCACATGCTGGCAGAAATCAAAGCAATCTTTCCCAATGGTCAATTCCAGGGAGATAACTTTCGTATCACAAAAGCAGATGCTGCTGAATTCTGGAGAAAGTTTTTTGGAGACAAAACTATCGTACCATGGAAAGTATTCAGACAGTGCCTTCATGAGGTCCACCAGATTAGCTCTGGCCTGGAAGCAATGGCTCTAAAATCAACAATTGATTTAACTTGCAATGATTACATTTCAGTTTTTGAATTTGATATTTTTACCAGGCTGTTTCAGCCTTGGGGCTCTATTTTGCGGAATTGGAATTTCTTAGCTGTGACACATCCAGGTTACATGGCATTTCTCACATATGATGAAGTTAAAGCACGACTACAGAAATATAGCACCAAACCCGGAAGCTATATTTTCCGGTTAAGTTGCACTCGATTGGGACAGTGGGCCATTGGCTATGTGACTGGGGATGGGAATATCTTACAGACCATACCTCATAACAAGCCCTTATTTCAAGCCCTGATTGATGGCAGCAGGGAAGGATTTTATCTTTATCCTGATGGGAGGAGTTATAATCCTGATTTAACTGGATTATGTGAACCTACACCTCATGACCATATAAAAGTTACACAGGAACAATATGAATTATATTGTGAAATGGGCTCCACTTTTCAGCTCTGTAAGATTTGTGCAGAGAATGACAAAGATGTCAAGATTGAGCCTTGTGGGCATTTGATGTGCACCTCTTGCCTTACGGCATGGCAGGAGTCGGATGGTCAGGGCTGCCCTTTCTGTCGTTGTGAAATAAAAGGAACTGAGCCCATAATCGTGGACCCCTTTGATCCAAGAGATGAAGGCTCCAGGTGTTGCAGCATCATTGACCCCTTTGGCATGCCGATGCTAGACTTGGACGACGATGATGATCGTGAGGAGTCCTTGATGATGAATCGGTTGGCAAACGTCCGAAAGTGCACTGACAGGCAGAACTCACCAGTCACATCACCAGGATCCTCTCCCCTTGCCCAGAGAAGAAAGCCACAGCCTGACCCACTCCAGATCCCACATCTAAGCCTGCCACCCGTGCCTCCTCGCCTGGATCTAATTCAGAAAGGCATAGTTAGATCTCCCTGTGGCAGCCCAACGGGTTCACCAAAGTCTTCTCCTTGCATGGTGAGAAAACAAGATAAACCACTCCCAGCACCACCTCCTCCCTTAAGAGATCCTCCTCCACCGCCACCTGAAAGACCTCCACCAATCCCACCAGACAATAGACTGAGTAGACACATCCATCATGTGGAAAGCGTGCCTTCCAGAGACCCGCCAATGCCTCTTGAAGCATGGTGCCCTCGGGATGTGTTTGGGACTAATCAGCTTGTGGGATGTCGACTCCTAGGGGAGGGCTCTCCAAAACCTGGAATCACAGCGAGTTCAAATGTCAATGGAAGGCACAGTAGAGTGGGCTCTGACCCAGTGCTTATGCGGAAACACAGACGCCATGATTTGCCTTTAGAAGGAGCTAAGGTCTTTTCCAATGGTCACCTTGGAAGTGAAGAATATGATGTTCCTCCCCGGCTTTCTCCTCCTCCTCCAGTTACCACCCTCCTCCCTAGCATAAAGTGTACTGGTCCGTTAGCAAATTCTCTTTCAGAGAAAACAAGAGACCCAGTAGAGGAAGATGATGATGAATACAAGATTCCTTCATCCCACCCTGTTTCCCTGAATTCACAACCATCTCATTGTCATAATGTAAAACCTCCTGTTCGGTCTTGTGATAATGGTCACTGTATGCTGAATGGAACACATGGTCCATCTTCAGAGAAGAAATCAAACATCCCTGACTTAAGCATATATTTAAAGGGAGATGTTTTTGATTCAGCCTCTGATCCCGTGCCATTACCACCTGCCAGGCCTCCAACTCGGGACAATCCAAAGCATGGTTCTTCACTCAACAGGACGCCCTCTGATTATGATCTTCTCATCCCTCCATTAGGTGAAGATGCTTTTGATGCCCTCCCTCCATCTCTCCCACCTCCCCCACCTCCTGCAAGGCATAGTCTCATTGAACATTCAAAACCTCCTGGCTCCAGTAGCCGGCCATCCTCAGGACAGGATCTTTTTCTTCTTCCTTCAGATCCCTTTGTTGATCTAGCAAGTGGCCAAGTTCCTTTGCCTCCTGCTAGAAGGTTACCAGGTGAAAATGTCAAAACTAACAGAACATCACAGGACTATGATCAGCTTCCTTCATGTTCAGATGGTTCACAGGCACCAGCCAGACCCCCTAAACCACGACCGCGCAGGACTGCACCAGAAATTCACCACAGAAAACCCCATGGGCCTGAGGCGGCATTGGAAAATGTCGATGCAAAAATTGCAAAACTCATGGGAGAGGGTTATGCCTTTGAAGAGGTGAAGAGAGCCTTAGAGATAGCCCAGAATAATGTCGAAGTTGCCCGGAGCATCCTCCGAGAATTTGCCTTCCCTCCTCCAGTATCCCCACGTCTAAATCTATAGC'"
   ]
  },
  {
   "cell_type": "code",
   "execution_count": 47,
   "metadata": {},
   "outputs": [
    {
     "name": "stdout",
     "output_type": "stream",
     "text": [
      "Total summed synonymous mutation rate across region =  3.814924405e-07\n"
     ]
    }
   ],
   "source": [
    "CBLB_synonymous = synonymous_mutation_rate_across_gene('CBLB', CBLB_coding_sequence, CBLB_coding_sequence_extra_bases, 401,531)"
   ]
  },
  {
   "cell_type": "markdown",
   "metadata": {},
   "source": [
    "#### Mutation rate for excluded synonymous CBLB variants"
   ]
  },
  {
   "cell_type": "code",
   "execution_count": 48,
   "metadata": {
    "code_folding": [
     0
    ]
   },
   "outputs": [],
   "source": [
    "#Create a dictionary of the excluded synonymous variants in CBLB:\n",
    "import csv\n",
    "filename=\"Young_excluded_synonymous_1000_genomes.csv\"\n",
    "\n",
    "with open(filename, 'r') as csvfile:\n",
    "    read_reader = csv.reader(csvfile)  #csv.reader returns a reader object which will iterate over lines in the csvfile\n",
    "    row_count=0\n",
    "    excluded_CBLB_synonymous_variants={} #dictionary of DNMTA results (key = ID (row[13]), value = VAF (row[10]))\n",
    "\n",
    "    for row in read_reader:\n",
    "#         print(row)\n",
    "        if row_count>0:\n",
    "            gene = row[0]\n",
    "            variant = row[1]\n",
    "            AA_coordinate = row[11]\n",
    "            variant_ID = row[2]\n",
    "            if row[0]=='CBLB':\n",
    "                excluded_CBLB_synonymous_variants[variant]=(gene, AA_coordinate, variant_ID)\n",
    "\n",
    "        row_count=row_count+1"
   ]
  },
  {
   "cell_type": "code",
   "execution_count": 49,
   "metadata": {
    "scrolled": false
   },
   "outputs": [
    {
     "name": "stdout",
     "output_type": "stream",
     "text": [
      "Total summed mutation rate across excluded synonymous variants =  2.2490011000000002e-08\n"
     ]
    }
   ],
   "source": [
    "CBLB_excluded = synonymous_excluded_variants_mutation_rate('CBLB', CBLB_coding_sequence, CBLB_coding_sequence_extra_bases, \\\n",
    "                                                           excluded_CBLB_synonymous_variants)"
   ]
  },
  {
   "cell_type": "markdown",
   "metadata": {},
   "source": [
    "#### Total synonymous mutation rate for CBLB"
   ]
  },
  {
   "cell_type": "code",
   "execution_count": 50,
   "metadata": {
    "code_folding": [
     0
    ]
   },
   "outputs": [
    {
     "name": "stdout",
     "output_type": "stream",
     "text": [
      "Synonymous mutation rate across CBLB =  3.590024295e-07\n"
     ]
    }
   ],
   "source": [
    "#Subtract the mutation rate of the excluded variants from the total mutation rate for CBLB synonymous variants across the panel\n",
    "CBLB = CBLB_synonymous - CBLB_excluded\n",
    "print(\"Synonymous mutation rate across CBLB = \", CBLB)"
   ]
  },
  {
   "cell_type": "markdown",
   "metadata": {},
   "source": [
    "## CBLC (exons 9 and 10)"
   ]
  },
  {
   "cell_type": "markdown",
   "metadata": {},
   "source": [
    "- ENST00000270279.3 transcript.\n",
    "- No excluded variants in these regions."
   ]
  },
  {
   "cell_type": "markdown",
   "metadata": {},
   "source": [
    "#### Mutation rate for synonymous variants across CBLC regions included in panel"
   ]
  },
  {
   "cell_type": "code",
   "execution_count": 51,
   "metadata": {},
   "outputs": [],
   "source": [
    "CBLC_coding_sequence = 'ATGGCTCTGGCGGTGGCCCCGTGGGGGCGACAGTGGGAAGAGGCCCGCGCCCTGGGCCGGGCAGTCAGGATGCTGCAGCGCCTAGAAGAGCAATGCGTCGACCCCCGGCTGTCCGTGAGTCCCCCTTCGCTGCGGGACCTGCTGCCCCGCACAGCGCAGCTGCTTCGAGAGGTGGCCCATTCTCGGCGGGCGGCCGGCGGAGGCGGCCCCGGGGGTCCCGGCGGCTCTGGGGACTTTCTACTCATCTACCTGGCCAATCTGGAGGCCAAGAGCAGGCAGGTGGCCGCGCTGCTGCCTCCCCGGGGCCGAAGGAGTGCCAACGACGAGCTCTTCCGGGCGGGCTCCAGACTCAGGCGACAGCTGGCCAAGCTGGCCATCATCTTCAGCCACATGCACGCAGAGCTGCACGCACTCTTCCCCGGGGGAAAGTACTGTGGACACATGTACCAGCTCACCAAGGCCCCCGCCCACACCTTCTGGAGGGAAAGTTGCGGAGCCCGGTGTGTGCTGCCCTGGGCTGAGTTTGAGTCCCTCCTGGGCACCTGCCACCCTGTGGAACCAGGCTGCACAGCCCTGGCCTTGCGCACCACCATTGACCTCACCTGCAGCGGGCACGTGTCCATCTTCGAGTTCGACGTCTTCACCAGGCTCTTTCAGCCATGGCCAACACTCCTCAAGAACTGGCAGCTCCTGGCAGTCAACCACCCAGGCTACATGGCCTTCCTCACCTATGATGAGGTCCAAGAGCGTCTGCAGGCCTGCAGGGACAAGCCAGGCAGTTACATCTTCCGGCCCAGCTGTACTCGCCTGGGGCAGTGGGCCATCGGCTATGTGAGCTCAGATGGCAGCATCCTGCAGACCATCCCTGCCAACAAACCCCTGTCCCAGGTGCTCCTGGAGGGACAGAAGGACGGCTTCTACCTCTACCCAGATGGAAAGACCCACAACCCAGACCTGACTGAGCTCGGCCAGGCAGAACCCCAGCAGCGCATCCACGTGTCAGAGGAGCAGCTGCAGCTCTACTGGGCCATGGACTCCACATTTGAGCTCTGCAAGATCTGTGCTGAGAGCAACAAGGATGTGAAGATTGAGCCGTGCGGGCACCTGCTCTGCAGCTGCTGCCTGGCTGCCTGGCAGCACTCGGACAGCCAGACCTGCCCCTTCTGCCGCTGCGAGATCAAGGGCTGGGAGGCCGTGAGTATCTACCAGTTCCACGGTCAGGCTACTGCTGAGGACTCAGGGAACAGCAGTGACCAGGAAGGCAGGGAGTTGGAGCTGGGGCAGGTGCCCCTTTCGGCTCCTCCATTGCCCCCACGGCCAGATCTGCCCCCCAGGAAGCCCAGAAATGCCCAGCCGAAAGTGAGACTCCTAAAGGGGAACTCCCCTCCAGCTGCGCTGGGACCCCAGGACCCTGCCCCGGCCTGAA'\n",
    "CBLC_coding_sequence_extra_bases = 'CATGGCTCTGGCGGTGGCCCCGTGGGGGCGACAGTGGGAAGAGGCCCGCGCCCTGGGCCGGGCAGTCAGGATGCTGCAGCGCCTAGAAGAGCAATGCGTCGACCCCCGGCTGTCCGTGAGTCCCCCTTCGCTGCGGGACCTGCTGCCCCGCACAGCGCAGCTGCTTCGAGAGGTGGCCCATTCTCGGCGGGCGGCCGGCGGAGGCGGCCCCGGGGGTCCCGGCGGCTCTGGGGACTTTCTACTCATCTACCTGGCCAATCTGGAGGCCAAGAGCAGGCAGGTGGCCGCGCTGCTGCCTCCCCGGGGCCGAAGGAGTGCCAACGACGAGCTCTTCCGGGCGGGCTCCAGACTCAGGCGACAGCTGGCCAAGCTGGCCATCATCTTCAGCCACATGCACGCAGAGCTGCACGCACTCTTCCCCGGGGGAAAGTACTGTGGACACATGTACCAGCTCACCAAGGCCCCCGCCCACACCTTCTGGAGGGAAAGTTGCGGAGCCCGGTGTGTGCTGCCCTGGGCTGAGTTTGAGTCCCTCCTGGGCACCTGCCACCCTGTGGAACCAGGCTGCACAGCCCTGGCCTTGCGCACCACCATTGACCTCACCTGCAGCGGGCACGTGTCCATCTTCGAGTTCGACGTCTTCACCAGGCTCTTTCAGCCATGGCCAACACTCCTCAAGAACTGGCAGCTCCTGGCAGTCAACCACCCAGGCTACATGGCCTTCCTCACCTATGATGAGGTCCAAGAGCGTCTGCAGGCCTGCAGGGACAAGCCAGGCAGTTACATCTTCCGGCCCAGCTGTACTCGCCTGGGGCAGTGGGCCATCGGCTATGTGAGCTCAGATGGCAGCATCCTGCAGACCATCCCTGCCAACAAACCCCTGTCCCAGGTGCTCCTGGAGGGACAGAAGGACGGCTTCTACCTCTACCCAGATGGAAAGACCCACAACCCAGACCTGACTGAGCTCGGCCAGGCAGAACCCCAGCAGCGCATCCACGTGTCAGAGGAGCAGCTGCAGCTCTACTGGGCCATGGACTCCACATTTGAGCTCTGCAAGATCTGTGCTGAGAGCAACAAGGATGTGAAGATTGAGCCGTGCGGGCACCTGCTCTGCAGCTGCTGCCTGGCTGCCTGGCAGCACTCGGACAGCCAGACCTGCCCCTTCTGCCGCTGCGAGATCAAGGGCTGGGAGGCCGTGAGTATCTACCAGTTCCACGGTCAGGCTACTGCTGAGGACTCAGGGAACAGCAGTGACCAGGAAGGCAGGGAGTTGGAGCTGGGGCAGGTGCCCCTTTCGGCTCCTCCATTGCCCCCACGGCCAGATCTGCCCCCCAGGAAGCCCAGAAATGCCCAGCCGAAAGTGAGACTCCTAAAGGGGAACTCCCCTCCAGCTGCGCTGGGACCCCAGGACCCTGCCCCGGCCTGAAG'"
   ]
  },
  {
   "cell_type": "code",
   "execution_count": 52,
   "metadata": {},
   "outputs": [
    {
     "name": "stdout",
     "output_type": "stream",
     "text": [
      "Total summed synonymous mutation rate across region =  1.9744167439999996e-07\n"
     ]
    }
   ],
   "source": [
    "CBLC = synonymous_mutation_rate_across_gene('CBLC', CBLC_coding_sequence, CBLC_coding_sequence_extra_bases, 428,474)"
   ]
  },
  {
   "cell_type": "markdown",
   "metadata": {},
   "source": [
    "## CDKN2A"
   ]
  },
  {
   "cell_type": "markdown",
   "metadata": {},
   "source": [
    "- ENST00000304494.5 transcript.\n",
    "- No excluded variants in these regions."
   ]
  },
  {
   "cell_type": "markdown",
   "metadata": {},
   "source": [
    "#### Mutation rate for synonymous variants across CDKN2A regions included in panel"
   ]
  },
  {
   "cell_type": "code",
   "execution_count": 53,
   "metadata": {},
   "outputs": [],
   "source": [
    "CDKN2A_coding_sequence = 'ATGGAGCCGGCGGCGGGGAGCAGCATGGAGCCTTCGGCTGACTGGCTGGCCACGGCCGCGGCCCGGGGTCGGGTAGAGGAGGTGCGGGCGCTGCTGGAGGCGGGGGCGCTGCCCAACGCACCGAATAGTTACGGTCGGAGGCCGATCCAGGTCATGATGATGGGCAGCGCCCGAGTGGCGGAGCTGCTGCTGCTCCACGGCGCGGAGCCCAACTGCGCCGACCCCGCCACTCTCACCCGACCCGTGCACGACGCTGCCCGGGAGGGCTTCCTGGACACGCTGGTGGTGCTGCACCGGGCCGGGGCGCGGCTGGACGTGCGCGATGCCTGGGGCCGTCTGCCCGTGGACCTGGCTGAGGAGCTGGGCCATCGCGATGTCGCACGGTACCTGCGCGCGGCTGCGGGGGGCACCAGAGGCAGTAACCATGCCCGCATAGATGCCGCGGAAGGTCCCTCAGACATCCCCGATTGA'\n",
    "CDKN2A_coding_sequence_extra_bases = 'CATGGAGCCGGCGGCGGGGAGCAGCATGGAGCCTTCGGCTGACTGGCTGGCCACGGCCGCGGCCCGGGGTCGGGTAGAGGAGGTGCGGGCGCTGCTGGAGGCGGGGGCGCTGCCCAACGCACCGAATAGTTACGGTCGGAGGCCGATCCAGGTCATGATGATGGGCAGCGCCCGAGTGGCGGAGCTGCTGCTGCTCCACGGCGCGGAGCCCAACTGCGCCGACCCCGCCACTCTCACCCGACCCGTGCACGACGCTGCCCGGGAGGGCTTCCTGGACACGCTGGTGGTGCTGCACCGGGCCGGGGCGCGGCTGGACGTGCGCGATGCCTGGGGCCGTCTGCCCGTGGACCTGGCTGAGGAGCTGGGCCATCGCGATGTCGCACGGTACCTGCGCGCGGCTGCGGGGGGCACCAGAGGCAGTAACCATGCCCGCATAGATGCCGCGGAAGGTCCCTCAGACATCCCCGATTGAA'"
   ]
  },
  {
   "cell_type": "code",
   "execution_count": 54,
   "metadata": {},
   "outputs": [
    {
     "name": "stdout",
     "output_type": "stream",
     "text": [
      "Total summed synonymous mutation rate across region =  9.503626396000001e-07\n"
     ]
    }
   ],
   "source": [
    "CDKN2A = synonymous_mutation_rate_across_gene('CDK2NA', CDKN2A_coding_sequence, CDKN2A_coding_sequence_extra_bases, 0,157)"
   ]
  },
  {
   "cell_type": "markdown",
   "metadata": {},
   "source": [
    "## CEBPA"
   ]
  },
  {
   "cell_type": "markdown",
   "metadata": {},
   "source": [
    "- ENST00000498907.2 transcript."
   ]
  },
  {
   "cell_type": "markdown",
   "metadata": {},
   "source": [
    "#### Mutation rate for synonymous variants across CEBPA regions included in panel"
   ]
  },
  {
   "cell_type": "code",
   "execution_count": 55,
   "metadata": {},
   "outputs": [],
   "source": [
    "CEBPA_coding_sequence = 'ATGGAGTCGGCCGACTTCTACGAGGCGGAGCCGCGGCCCCCGATGAGCAGCCACCTGCAGAGCCCCCCGCACGCGCCCAGCAGCGCCGCCTTCGGCTTTCCCCGGGGCGCGGGCCCCGCGCAGCCTCCCGCCCCACCTGCCGCCCCGGAGCCGCTGGGCGGCATCTGCGAGCACGAGACGTCCATCGACATCAGCGCCTACATCGACCCGGCCGCCTTCAACGACGAGTTCCTGGCCGACCTGTTCCAGCACAGCCGGCAGCAGGAGAAGGCCAAGGCGGCCGTGGGCCCCACGGGCGGCGGCGGCGGCGGCGACTTTGACTACCCGGGCGCGCCCGCGGGCCCCGGCGGCGCCGTCATGCCCGGGGGAGCGCACGGGCCCCCGCCCGGCTACGGCTGCGCGGCCGCCGGCTACCTGGACGGCAGGCTGGAGCCCCTGTACGAGCGCGTCGGGGCGCCGGCGCTGCGGCCGCTGGTGATCAAGCAGGAGCCCCGCGAGGAGGATGAAGCCAAGCAGCTGGCGCTGGCCGGCCTCTTCCCTTACCAGCCGCCGCCGCCGCCGCCGCCCTCGCACCCGCACCCGCACCCGCCGCCCGCGCACCTGGCCGCCCCGCACCTGCAGTTCCAGATCGCGCACTGCGGCCAGACCACCATGCACCTGCAGCCCGGTCACCCCACGCCGCCGCCCACGCCCGTGCCCAGCCCGCACCCCGCGCCCGCGCTCGGTGCCGCCGGCCTGCCGGGCCCTGGCAGCGCGCTCAAGGGGCTGGGCGCCGCGCACCCCGACCTCCGCGCGAGTGGCGGCAGCGGCGCGGGCAAGGCCAAGAAGTCGGTGGACAAGAACAGCAACGAGTACCGGGTGCGGCGCGAGCGCAACAACATCGCGGTGCGCAAGAGCCGCGACAAGGCCAAGCAGCGCAACGTGGAGACGCAGCAGAAGGTGCTGGAGCTGACCAGTGACAATGACCGCCTGCGCAAGCGGGTGGAACAGCTGAGCCGCGAACTGGACACGCTGCGGGGCATCTTCCGCCAGCTGCCAGAGAGCTCCTTGGTCAAGGCCATGGGCAACTGCGCGTGA'\n",
    "CEBPA_coding_sequence_extra_bases = 'CATGGAGTCGGCCGACTTCTACGAGGCGGAGCCGCGGCCCCCGATGAGCAGCCACCTGCAGAGCCCCCCGCACGCGCCCAGCAGCGCCGCCTTCGGCTTTCCCCGGGGCGCGGGCCCCGCGCAGCCTCCCGCCCCACCTGCCGCCCCGGAGCCGCTGGGCGGCATCTGCGAGCACGAGACGTCCATCGACATCAGCGCCTACATCGACCCGGCCGCCTTCAACGACGAGTTCCTGGCCGACCTGTTCCAGCACAGCCGGCAGCAGGAGAAGGCCAAGGCGGCCGTGGGCCCCACGGGCGGCGGCGGCGGCGGCGACTTTGACTACCCGGGCGCGCCCGCGGGCCCCGGCGGCGCCGTCATGCCCGGGGGAGCGCACGGGCCCCCGCCCGGCTACGGCTGCGCGGCCGCCGGCTACCTGGACGGCAGGCTGGAGCCCCTGTACGAGCGCGTCGGGGCGCCGGCGCTGCGGCCGCTGGTGATCAAGCAGGAGCCCCGCGAGGAGGATGAAGCCAAGCAGCTGGCGCTGGCCGGCCTCTTCCCTTACCAGCCGCCGCCGCCGCCGCCGCCCTCGCACCCGCACCCGCACCCGCCGCCCGCGCACCTGGCCGCCCCGCACCTGCAGTTCCAGATCGCGCACTGCGGCCAGACCACCATGCACCTGCAGCCCGGTCACCCCACGCCGCCGCCCACGCCCGTGCCCAGCCCGCACCCCGCGCCCGCGCTCGGTGCCGCCGGCCTGCCGGGCCCTGGCAGCGCGCTCAAGGGGCTGGGCGCCGCGCACCCCGACCTCCGCGCGAGTGGCGGCAGCGGCGCGGGCAAGGCCAAGAAGTCGGTGGACAAGAACAGCAACGAGTACCGGGTGCGGCGCGAGCGCAACAACATCGCGGTGCGCAAGAGCCGCGACAAGGCCAAGCAGCGCAACGTGGAGACGCAGCAGAAGGTGCTGGAGCTGACCAGTGACAATGACCGCCTGCGCAAGCGGGTGGAACAGCTGAGCCGCGAACTGGACACGCTGCGGGGCATCTTCCGCCAGCTGCCAGAGAGCTCCTTGGTCAAGGCCATGGGCAACTGCGCGTGAG'"
   ]
  },
  {
   "cell_type": "code",
   "execution_count": 56,
   "metadata": {},
   "outputs": [
    {
     "name": "stdout",
     "output_type": "stream",
     "text": [
      "Total summed synonymous mutation rate across region =  2.7629470913e-06\n"
     ]
    }
   ],
   "source": [
    "CEBPA_synonymous = synonymous_mutation_rate_across_gene('CEBPA', CEBPA_coding_sequence, CEBPA_coding_sequence_extra_bases, 0,359)"
   ]
  },
  {
   "cell_type": "markdown",
   "metadata": {},
   "source": [
    "#### Mutation rate for excluded synonymous CEBPA variants"
   ]
  },
  {
   "cell_type": "code",
   "execution_count": 57,
   "metadata": {
    "code_folding": [
     0
    ]
   },
   "outputs": [],
   "source": [
    "#Create a dictionary of the excluded synonymous variants in CEBPA:\n",
    "import csv\n",
    "filename=\"Young_excluded_synonymous_1000_genomes.csv\"\n",
    "\n",
    "with open(filename, 'r') as csvfile:\n",
    "    read_reader = csv.reader(csvfile)  #csv.reader returns a reader object which will iterate over lines in the csvfile\n",
    "    row_count=0\n",
    "    excluded_CEBPA_synonymous_variants={} #dictionary of DNMTA results (key = ID (row[13]), value = VAF (row[10]))\n",
    "\n",
    "    for row in read_reader:\n",
    "#         print(row)\n",
    "        if row_count>0:\n",
    "            gene = row[0]\n",
    "            variant = row[1]\n",
    "            AA_coordinate = row[11]\n",
    "            variant_ID = row[2]\n",
    "            if row[0]=='CEBPA':\n",
    "                excluded_CEBPA_synonymous_variants[variant]=(gene, AA_coordinate, variant_ID)\n",
    "\n",
    "        row_count=row_count+1"
   ]
  },
  {
   "cell_type": "code",
   "execution_count": 58,
   "metadata": {
    "scrolled": false
   },
   "outputs": [
    {
     "name": "stdout",
     "output_type": "stream",
     "text": [
      "Total summed mutation rate across excluded synonymous variants =  2.2772897000000002e-08\n"
     ]
    }
   ],
   "source": [
    "CEBPA_excluded = synonymous_excluded_variants_mutation_rate('CEBPA', CEBPA_coding_sequence, CEBPA_coding_sequence_extra_bases, \\\n",
    "                                                           excluded_CEBPA_synonymous_variants)"
   ]
  },
  {
   "cell_type": "markdown",
   "metadata": {},
   "source": [
    "#### Total synonymous mutation rate for CEBPA"
   ]
  },
  {
   "cell_type": "code",
   "execution_count": 59,
   "metadata": {
    "code_folding": [
     0
    ]
   },
   "outputs": [
    {
     "name": "stdout",
     "output_type": "stream",
     "text": [
      "Synonymous mutation rate across CEBPA =  2.7401741943000002e-06\n"
     ]
    }
   ],
   "source": [
    "#Subtract the mutation rate of the excluded variants from the total mutation rate for CEBPA synonymous variants across the panel\n",
    "CEBPA = CEBPA_synonymous - CEBPA_excluded\n",
    "print(\"Synonymous mutation rate across CEBPA = \", CEBPA)"
   ]
  },
  {
   "cell_type": "markdown",
   "metadata": {},
   "source": [
    "## CSF3R (exons 14-17)"
   ]
  },
  {
   "cell_type": "markdown",
   "metadata": {},
   "source": [
    "- ENST00000373103.1 transcript.\n",
    "- No excluded variants in these regions."
   ]
  },
  {
   "cell_type": "markdown",
   "metadata": {},
   "source": [
    "#### Mutation rate for synonymous variants across CSF3R regions included in panel"
   ]
  },
  {
   "cell_type": "code",
   "execution_count": 60,
   "metadata": {},
   "outputs": [],
   "source": [
    "CSF3R_coding_sequence = 'ATGGCAAGGCTGGGAAACTGCAGCCTGACTTGGGCTGCCCTGATCATCCTGCTGCTCCCCGGAAGTCTGGAGGAGTGCGGGCACATCAGTGTCTCAGCCCCCATCGTCCACCTGGGGGATCCCATCACAGCCTCCTGCATCATCAAGCAGAACTGCAGCCATCTGGACCCGGAGCCACAGATTCTGTGGAGACTGGGAGCAGAGCTTCAGCCCGGGGGCAGGCAGCAGCGTCTGTCTGATGGGACCCAGGAATCTATCATCACCCTGCCCCACCTCAACCACACTCAGGCCTTTCTCTCCTGCTGCCTGAACTGGGGCAACAGCCTGCAGATCCTGGACCAGGTTGAGCTGCGCGCAGGCTACCCTCCAGCCATACCCCACAACCTCTCCTGCCTCATGAACCTCACAACCAGCAGCCTCATCTGCCAGTGGGAGCCAGGACCTGAGACCCACCTACCCACCAGCTTCACTCTGAAGAGTTTCAAGAGCCGGGGCAACTGTCAGACCCAAGGGGACTCCATCCTGGACTGCGTGCCCAAGGACGGGCAGAGCCACTGCTGCATCCCACGCAAACACCTGCTGTTGTACCAGAATATGGGCATCTGGGTGCAGGCAGAGAATGCGCTGGGGACCAGCATGTCCCCACAACTGTGTCTTGATCCCATGGATGTTGTGAAACTGGAGCCCCCCATGCTGCGGACCATGGACCCCAGCCCTGAAGCGGCCCCTCCCCAGGCAGGCTGCCTACAGCTGTGCTGGGAGCCATGGCAGCCAGGCCTGCACATAAATCAGAAGTGTGAGCTGCGCCACAAGCCGCAGCGTGGAGAAGCCAGCTGGGCACTGGTGGGCCCCCTCCCCTTGGAGGCCCTTCAGTATGAGCTCTGCGGGCTCCTCCCAGCCACGGCCTACACCCTGCAGATACGCTGCATCCGCTGGCCCCTGCCTGGCCACTGGAGCGACTGGAGCCCCAGCCTGGAGCTGAGAACTACCGAACGGGCCCCCACTGTCAGACTGGACACATGGTGGCGGCAGAGGCAGCTGGACCCCAGGACAGTGCAGCTGTTCTGGAAGCCAGTGCCCCTGGAGGAAGACAGCGGACGGATCCAAGGTTATGTGGTTTCTTGGAGACCCTCAGGCCAGGCTGGGGCCATCCTGCCCCTCTGCAACACCACAGAGCTCAGCTGCACCTTCCACCTGCCTTCAGAAGCCCAGGAGGTGGCCCTTGTGGCCTATAACTCAGCCGGGACCTCTCGTCCCACTCCGGTGGTCTTCTCAGAAAGCAGAGGCCCAGCTCTGACCAGACTCCATGCCATGGCCCGAGACCCTCACAGCCTCTGGGTAGGCTGGGAGCCCCCCAATCCATGGCCTCAGGGCTATGTGATTGAGTGGGGCCTGGGCCCCCCCAGCGCGAGCAATAGCAACAAGACCTGGAGGATGGAACAGAATGGGAGAGCCACGGGGTTTCTGCTGAAGGAGAACATCAGGCCCTTTCAGCTCTATGAGATCATCGTGACTCCCTTGTACCAGGACACCATGGGACCCTCCCAGCATGTCTATGCCTACTCTCAAGAAATGGCTCCCTCCCATGCCCCAGAGCTGCATCTAAAGCACATTGGCAAGACCTGGGCACAGCTGGAGTGGGTGCCTGAGCCCCCTGAGCTGGGGAAGAGCCCCCTTACCCACTACACCATCTTCTGGACCAACGCTCAGAACCAGTCCTTCTCCGCCATCCTGAATGCCTCCTCCCGTGGCTTTGTCCTCCATGGCCTGGAGCCCGCCAGTCTGTATCACATCCACCTCATGGCTGCCAGCCAGGCTGGGGCCACCAACAGTACAGTCCTCACCCTGATGACCTTGACCCCAGAGGGGTCGGAGCTACACATCATCCTGGGCCTGTTCGGCCTCCTGCTGTTGCTCACCTGCCTCTGTGGAACTGCCTGGCTCTGTTGCAGCCCCAACAGGAAGAATCCCCTCTGGCCAAGTGTCCCAGACCCAGCTCACAGCAGCCTGGGCTCCTGGGTGCCCACAATCATGGAGGAGCTGCCCGGACCCAGACAGGGACAGTGGCTGGGGCAGACATCTGAAATGAGCCGTGCTCTCACCCCACATCCTTGTGTGCAGGATGCCTTCCAGCTGCCCGGCCTTGGCACGCCACCCATCACCAAGCTCACAGTGCTGGAGGAGGATGAAAAGAAGCCGGTGCCCTGGGAGTCCCATAACAGCTCAGAGACCTGTGGCCTCCCCACTCTGGTCCAGACCTATGTGCTCCAGGGGGACCCAAGAGCAGTTTCCACCCAGCCCCAATCCCAGTCTGGCACCAGCGATCAGGTCCTTTATGGGCAGCTGCTGGGCAGCCCCACAAGCCCAGGGCCAGGGCACTATCTCCGCTGTGACTCCACTCAGCCCCTCTTGGCGGGCCTCACCCCCAGCCCCAAGTCCTATGAGAACCTCTGGTTCCAGGCCAGCCCCTTGGGGACCCTGGTAACCCCAGCCCCAAGCCAGGAGGACGACTGTGTCTTTGGGCCACTGCTCAACTTCCCCCTCCTGCAGGGGATCCGGGTCCATGGGATGGAGGCGCTGGGGAGCTTCTAG'\n",
    "CSF3R_coding_sequence_extra_bases = 'TATGGCAAGGCTGGGAAACTGCAGCCTGACTTGGGCTGCCCTGATCATCCTGCTGCTCCCCGGAAGTCTGGAGGAGTGCGGGCACATCAGTGTCTCAGCCCCCATCGTCCACCTGGGGGATCCCATCACAGCCTCCTGCATCATCAAGCAGAACTGCAGCCATCTGGACCCGGAGCCACAGATTCTGTGGAGACTGGGAGCAGAGCTTCAGCCCGGGGGCAGGCAGCAGCGTCTGTCTGATGGGACCCAGGAATCTATCATCACCCTGCCCCACCTCAACCACACTCAGGCCTTTCTCTCCTGCTGCCTGAACTGGGGCAACAGCCTGCAGATCCTGGACCAGGTTGAGCTGCGCGCAGGCTACCCTCCAGCCATACCCCACAACCTCTCCTGCCTCATGAACCTCACAACCAGCAGCCTCATCTGCCAGTGGGAGCCAGGACCTGAGACCCACCTACCCACCAGCTTCACTCTGAAGAGTTTCAAGAGCCGGGGCAACTGTCAGACCCAAGGGGACTCCATCCTGGACTGCGTGCCCAAGGACGGGCAGAGCCACTGCTGCATCCCACGCAAACACCTGCTGTTGTACCAGAATATGGGCATCTGGGTGCAGGCAGAGAATGCGCTGGGGACCAGCATGTCCCCACAACTGTGTCTTGATCCCATGGATGTTGTGAAACTGGAGCCCCCCATGCTGCGGACCATGGACCCCAGCCCTGAAGCGGCCCCTCCCCAGGCAGGCTGCCTACAGCTGTGCTGGGAGCCATGGCAGCCAGGCCTGCACATAAATCAGAAGTGTGAGCTGCGCCACAAGCCGCAGCGTGGAGAAGCCAGCTGGGCACTGGTGGGCCCCCTCCCCTTGGAGGCCCTTCAGTATGAGCTCTGCGGGCTCCTCCCAGCCACGGCCTACACCCTGCAGATACGCTGCATCCGCTGGCCCCTGCCTGGCCACTGGAGCGACTGGAGCCCCAGCCTGGAGCTGAGAACTACCGAACGGGCCCCCACTGTCAGACTGGACACATGGTGGCGGCAGAGGCAGCTGGACCCCAGGACAGTGCAGCTGTTCTGGAAGCCAGTGCCCCTGGAGGAAGACAGCGGACGGATCCAAGGTTATGTGGTTTCTTGGAGACCCTCAGGCCAGGCTGGGGCCATCCTGCCCCTCTGCAACACCACAGAGCTCAGCTGCACCTTCCACCTGCCTTCAGAAGCCCAGGAGGTGGCCCTTGTGGCCTATAACTCAGCCGGGACCTCTCGTCCCACTCCGGTGGTCTTCTCAGAAAGCAGAGGCCCAGCTCTGACCAGACTCCATGCCATGGCCCGAGACCCTCACAGCCTCTGGGTAGGCTGGGAGCCCCCCAATCCATGGCCTCAGGGCTATGTGATTGAGTGGGGCCTGGGCCCCCCCAGCGCGAGCAATAGCAACAAGACCTGGAGGATGGAACAGAATGGGAGAGCCACGGGGTTTCTGCTGAAGGAGAACATCAGGCCCTTTCAGCTCTATGAGATCATCGTGACTCCCTTGTACCAGGACACCATGGGACCCTCCCAGCATGTCTATGCCTACTCTCAAGAAATGGCTCCCTCCCATGCCCCAGAGCTGCATCTAAAGCACATTGGCAAGACCTGGGCACAGCTGGAGTGGGTGCCTGAGCCCCCTGAGCTGGGGAAGAGCCCCCTTACCCACTACACCATCTTCTGGACCAACGCTCAGAACCAGTCCTTCTCCGCCATCCTGAATGCCTCCTCCCGTGGCTTTGTCCTCCATGGCCTGGAGCCCGCCAGTCTGTATCACATCCACCTCATGGCTGCCAGCCAGGCTGGGGCCACCAACAGTACAGTCCTCACCCTGATGACCTTGACCCCAGAGGGGTCGGAGCTACACATCATCCTGGGCCTGTTCGGCCTCCTGCTGTTGCTCACCTGCCTCTGTGGAACTGCCTGGCTCTGTTGCAGCCCCAACAGGAAGAATCCCCTCTGGCCAAGTGTCCCAGACCCAGCTCACAGCAGCCTGGGCTCCTGGGTGCCCACAATCATGGAGGAGCTGCCCGGACCCAGACAGGGACAGTGGCTGGGGCAGACATCTGAAATGAGCCGTGCTCTCACCCCACATCCTTGTGTGCAGGATGCCTTCCAGCTGCCCGGCCTTGGCACGCCACCCATCACCAAGCTCACAGTGCTGGAGGAGGATGAAAAGAAGCCGGTGCCCTGGGAGTCCCATAACAGCTCAGAGACCTGTGGCCTCCCCACTCTGGTCCAGACCTATGTGCTCCAGGGGGACCCAAGAGCAGTTTCCACCCAGCCCCAATCCCAGTCTGGCACCAGCGATCAGGTCCTTTATGGGCAGCTGCTGGGCAGCCCCACAAGCCCAGGGCCAGGGCACTATCTCCGCTGTGACTCCACTCAGCCCCTCTTGGCGGGCCTCACCCCCAGCCCCAAGTCCTATGAGAACCTCTGGTTCCAGGCCAGCCCCTTGGGGACCCTGGTAACCCCAGCCCCAAGCCAGGAGGACGACTGTGTCTTTGGGCCACTGCTCAACTTCCCCCTCCTGCAGGGGATCCGGGTCCATGGGATGGAGGCGCTGGGGAGCTTCTAGG'"
   ]
  },
  {
   "cell_type": "code",
   "execution_count": 61,
   "metadata": {},
   "outputs": [
    {
     "name": "stdout",
     "output_type": "stream",
     "text": [
      "Total summed synonymous mutation rate across region =  1.0351606292e-06\n"
     ]
    }
   ],
   "source": [
    "CSF3R = synonymous_mutation_rate_across_gene('CSF3R', CSF3R_coding_sequence, CSF3R_coding_sequence_extra_bases, 574,836)"
   ]
  },
  {
   "cell_type": "markdown",
   "metadata": {},
   "source": [
    "## CUX1"
   ]
  },
  {
   "cell_type": "markdown",
   "metadata": {},
   "source": [
    "- ENST00000292535.7 transcript."
   ]
  },
  {
   "cell_type": "markdown",
   "metadata": {},
   "source": [
    "#### Mutation rate for synonymous variants across CUX1 regions included in panel"
   ]
  },
  {
   "cell_type": "code",
   "execution_count": 62,
   "metadata": {},
   "outputs": [],
   "source": [
    "CUX1_coding_sequence = 'ATGTTGTGCGTAGCCGGAGCCAGGTTGAAGAGAGAACTCGATGCCACCGCAACGGTATTGGCGAACCGGCAGGATGAAAGTGAGCAGTCCAGAAAGCGGCTTATCGAACAGAGCCGGGAGTTCAAGAAGAACACTCCAGAGGATTTGCGCAAGCAGGTAGCGCCGCTGCTGAAGAGTTTCCAAGGAGAGATTGATGCACTGAGTAAAAGAAGCAAGGAAGCTGAAGCAGCTTTCTTGAATGTCTACAAAAGATTGATTGACGTCCCAGATCCCGTACCAGCTTTGGATCTCGGACAGCAACTCCAGCTCAAAGTGCAGCGCCTGCACGATATTGAAACAGAGAACCAGAAACTTAGGGAAACTCTGGAAGAATACAACAAGGAATTTGCTGAAGTGAAAAATCAAGAGGTTACGATAAAAGCACTTAAAGAGAAAATCCGAGAATATGAACAGACACTGAAGAACCAAGCCGAAACCATAGCTCTTGAGAAGGAACAGAAGTTACAGAATGACTTTGCAGAAAAGGAGAGAAAGCTGCAGGAGACACAGATGTCCACCACCTCAAAGCTGGAGGAAGCTGAGCATAAGGTTCAGAGCCTACAAACAGCCCTGGAAAAAACTCGAACAGAATTATTTGACCTGAAAACCAAATACGATGAAGAAACTACTGCAAAGGCCGACGAGATTGAAATGATCATGACGGACCTTGAAAGGGCAAACCAGAGGGCAGAGGTGGCTCAGAGAGAGGCGGAGACCTTAAGGGAACAGCTCTCATCGGCCAATCACTCCCTCCAGCTGGCCTCACAGATCCAGAAGGCACCAGACGTGGAGCAGGCCATAGAGGTGCTGACCCGCTCCAGCCTAGAAGTTGAGTTGGCCGCCAAGGAGCGGGAGATCGCACAGCTGGTGGAGGACGTGCAGAGACTCCAGGCCAGCCTCACCAAGCTGCGGGAGAATTCGGCCAGCCAGATCTCACAGCTTGAGCAGCAGCTGAGCGCCAAAAACAGCACACTCAAACAACTGGAAGAAAAACTCAAAGGCCAGGCTGACTATGAAGAGGTGAAGAAAGAGCTGAACATTCTGAAGTCCATGGAGTTTGCACCGTCCGAGGGCGCTGGGACACAGGATGCGGCCAAGCCCCTGGAGGTGCTGTTGCTGGAGAAGAACCGCTCGCTGCAGTCCGAGAACGCCGCGCTGCGCATCTCCAACAGCGACCTGAGCGGGTCAGCCAGGAGGAAAGGGAAAGACCAGCCTGAAAGTCGGCGCCCGGGATCTTTGCCGGCCCCCCCTCCTTCTCAGTTGCCCCGCAACCCGGGGGAGCAGGCTTCCAATACTAATGGTACACACCAGTTCTCACCAGCGGGGTTAAGTCAAGACTTTTTCAGCTCATCCCTGGCAAGCCCCAGCCTACCCCTGGCTTCTACAGGAAAATTTGCACTAAACTCTCTTCTCCAGCGGCAGCTAATGCAGTCCTTCTACTCCAAGGCTATGCAGGAAGCCGGAAGCACAAGCATGATTTTTTCAACAGGTCCATACAGCACAAACTCCATATCTTCCCAAAGTCCATTACAACAAAGCCCAGATGTCAATGGCATGGCCCCATCCCCCAGCCAGTCAGAAAGTGCTGGGAGCGTCTCCGAGGGCGAGGAGATGGACACTGCAGAAATCGCCCGGCAGGTCAAAGAGCAGCTGATTAAGCACAATATCGGACAACGTATTTTCGGACATTATGTGTTGGGACTGTCTCAAGGGTCCGTGAGCGAGATTCTGGCCCGGCCCAAGCCATGGAATAAACTGACTGTTCGTGGCAAGGAGCCATTTCACAAGATGAAACAGTTCCTCTCCGATGAGCAGAACATCCTGGCCCTCCGTAGCATCCAAGGCAGACAAAGAGAGAATCCAGGCCAGAGCCTGAACAGACTATTTCAGGAAGTACCGAAACGAAGAAATGGGTCTGAAGGTAACATCACCACCCGGATCCGAGCCTCGGAGACTGGCTCTGATGAAGCCATCAAGTCCATCCTAGAGCAAGCCAAGAGGGAGCTCCAAGTGCAGAAAACTGCAGAGCCGGCCCAGCCTTCCTCCGCATCCGGCAGCGGGAACTCTGATGACGCCATCCGCTCCATCCTGCAGCAAGCCCGCCGGGAGATGGAGGCCCAGCAGGCTGCCCTCGACCCTGCCTTAAAGCAGGCACCACTGTCCCAGAGTGACATCACCATCCTCACCCCCAAGCTTCTGTCCACCTCGCCCATGCCCACCGTGTCCAGCTACCCACCTCTCGCCATCTCCCTGAAGAAGCCCTCCGCAGCTCCTGAGGCCGGTGCCTCTGCTCTGCCGAACCCCCCGGCCCTCAAAAAGGAGGCCCAGGACGCCCCCGGGCTGGACCCCCAGGGAGCAGCCGATTGTGCACAAGGGGTCCTGAGACAGGTGAAAAATGAGGTGGGCCGCAGCGGTGCCTGGAAGGACCACTGGTGGAGCGCGGTGCAGCCGGAGAGAAGAAATGCCGCCTCCTCCGAGGAGGCCAAGGCCGAAGAAACGGGCGGCGGGAAAGAGAAGGGCAGCGGTGGCAGCGGAGGTGGCAGCCAGCCTCGGGCCGAGCGCAGTCAGCTCCAGGGACCCTCGTCGTCAGAGTACTGGAAGGAGTGGCCCAGCGCTGAGTCCCCATACTCCCAGAGCTCAGAGCTGAGTCTGACCGGGGCCAGCCGCAGCGAGACACCACAGAACAGCCCCCTGCCATCCTCCCCGATCGTGCCCATGTCCAAGCCCACCAAGCCCTCGGTCCCCCCGCTGACCCCCGAGCAGTACGAGGTCTACATGTACCAGGAGGTGGACACCATCGAGCTCACCCGGCAGGTTAAGGAAAAGCTGGCCAAGAACGGCATCTGCCAGAGAATCTTCGGGGAGAAGGTGCTGGGCCTGTCCCAGGGCAGCGTCAGCGACATGCTGTCCCGACCGAAGCCATGGAGCAAGCTGACGCAGAAAGGCCGAGAACCCTTCATCCGGATGCAGCTCTGGCTGAACGGCGAGCTAGGCCAGGGTGTTCTACCCGTCCAGGGCCAGCAGCAAGGGCCAGTCCTCCACTCCGTGACATCGCTCCAGGACCCGCTGCAGCAGGGCTGTGTGAGCTCAGAAAGCACTCCAAAGACCTCCGCCAGCTGCAGCCCTGCCCCTGAGTCCCCGATGAGTTCCAGTGAGTCGGTGAAGAGCCTGACCGAGCTGGTCCAGCAGCCCTGTCCCCCCATCGAGGCGAGCAAGGACAGCAAGCCACCAGAGCCCAGTGACCCGCCAGCATCCGACTCCCAGCCCACAACCCCGCTGCCTCTCTCCGGACACTCGGCCCTCAGCATCCAAGAATTAGTAGCCATGTCCCCGGAGCTGGACACCTACGGCATAACCAAGCGGGTGAAGGAGGTGCTGACGGACAACAACCTCGGCCAGCGCTTATTTGGGGAGACCATCTTAGGGCTCACCCAAGGCTCTGTCTCTGACCTCCTTGCCCGCCCCAAACCCTGGCATAAGCTCAGTCTGAAAGGACGAGAGCCCTTCGTCCGGATGCAGCTGTGGCTGAACGACCCCAACAATGTGGAGAAGCTGATGGACATGAAACGGATGGAGAAGAAAGCCTACATGAAGCGGCGGCACAGCTCAGTCAGTGACAGCCAGCCCTGCGAACCGCCCTCTGTCGGCACCGAGTACAGCCAGGGCGCCAGCCCCCAGCCCCAGCACCAGCTGAAGAAACCCCGGGTGGTGCTGGCTCCGGAGGAGAAGGAGGCGCTGAAACGAGCGTATCAGCAAAAGCCATACCCGTCACCAAAAACCATCGAAGACCTCGCCACCCAGCTCAACCTGAAAACCAGCACCGTCATCAACTGGTTCCACAACTACAGGTCTCGGATCCGCAGAGAACTGTTCATTGAGGAAATTCAGGCCGGGAGTCAGGGCCAGGCGGGCGCCAGCGACTCACCCTCGGCCCGCAGCGGCCGGGCGGCGCCCAGCTCGGAGGGCGACAGCTGCGACGGCGTGGAGGCCACTGAGGGCCCAGGCAGCGCCGACACCGAGGAGCCCAAGTCTCAGGGAGAGGCCGAGCGGGAGGAGGTGCCGCGGCCGGCGGAGCAGACGGAGCCGCCGCCCTCGGGGACCCCGGGCCCGGACGACGCCCGCGACGACGACCACGAGGGAGGCCCCGTGGAAGGCCCGGGGCCCCTGCCCAGCCCCGCCTCCGCGACCGCCACCGCCGCGCCCGCGGCCCCCGAGGACGCCGCTACCTCAGCCGCCGCCGCGCCGGGGGAGGGCCCCGCGGCCCCGAGCTCCGCGCCGCCGCCCAGCAACAGCAGCAGCAGCAGCGCCCCCCGCAGGCCCAGCTCGCTGCAGAGCCTTTTCGGCCTCCCCGAGGCCGCGGGCGCCCGGGACTCGCGCGACAACCCCCTGCGCAAGAAGAAGGCCGCGAACTTGAACAGCATCATCCACCGCCTGGAGAAGGCCGCCAGCCGGGAGGAACCTATCGAATGGGAGTTCTGA'\n",
    "CUX1_coding_sequence_extra_bases = 'GATGTTGTGCGTAGCCGGAGCCAGGTTGAAGAGAGAACTCGATGCCACCGCAACGGTATTGGCGAACCGGCAGGATGAAAGTGAGCAGTCCAGAAAGCGGCTTATCGAACAGAGCCGGGAGTTCAAGAAGAACACTCCAGAGGATTTGCGCAAGCAGGTAGCGCCGCTGCTGAAGAGTTTCCAAGGAGAGATTGATGCACTGAGTAAAAGAAGCAAGGAAGCTGAAGCAGCTTTCTTGAATGTCTACAAAAGATTGATTGACGTCCCAGATCCCGTACCAGCTTTGGATCTCGGACAGCAACTCCAGCTCAAAGTGCAGCGCCTGCACGATATTGAAACAGAGAACCAGAAACTTAGGGAAACTCTGGAAGAATACAACAAGGAATTTGCTGAAGTGAAAAATCAAGAGGTTACGATAAAAGCACTTAAAGAGAAAATCCGAGAATATGAACAGACACTGAAGAACCAAGCCGAAACCATAGCTCTTGAGAAGGAACAGAAGTTACAGAATGACTTTGCAGAAAAGGAGAGAAAGCTGCAGGAGACACAGATGTCCACCACCTCAAAGCTGGAGGAAGCTGAGCATAAGGTTCAGAGCCTACAAACAGCCCTGGAAAAAACTCGAACAGAATTATTTGACCTGAAAACCAAATACGATGAAGAAACTACTGCAAAGGCCGACGAGATTGAAATGATCATGACGGACCTTGAAAGGGCAAACCAGAGGGCAGAGGTGGCTCAGAGAGAGGCGGAGACCTTAAGGGAACAGCTCTCATCGGCCAATCACTCCCTCCAGCTGGCCTCACAGATCCAGAAGGCACCAGACGTGGAGCAGGCCATAGAGGTGCTGACCCGCTCCAGCCTAGAAGTTGAGTTGGCCGCCAAGGAGCGGGAGATCGCACAGCTGGTGGAGGACGTGCAGAGACTCCAGGCCAGCCTCACCAAGCTGCGGGAGAATTCGGCCAGCCAGATCTCACAGCTTGAGCAGCAGCTGAGCGCCAAAAACAGCACACTCAAACAACTGGAAGAAAAACTCAAAGGCCAGGCTGACTATGAAGAGGTGAAGAAAGAGCTGAACATTCTGAAGTCCATGGAGTTTGCACCGTCCGAGGGCGCTGGGACACAGGATGCGGCCAAGCCCCTGGAGGTGCTGTTGCTGGAGAAGAACCGCTCGCTGCAGTCCGAGAACGCCGCGCTGCGCATCTCCAACAGCGACCTGAGCGGGTCAGCCAGGAGGAAAGGGAAAGACCAGCCTGAAAGTCGGCGCCCGGGATCTTTGCCGGCCCCCCCTCCTTCTCAGTTGCCCCGCAACCCGGGGGAGCAGGCTTCCAATACTAATGGTACACACCAGTTCTCACCAGCGGGGTTAAGTCAAGACTTTTTCAGCTCATCCCTGGCAAGCCCCAGCCTACCCCTGGCTTCTACAGGAAAATTTGCACTAAACTCTCTTCTCCAGCGGCAGCTAATGCAGTCCTTCTACTCCAAGGCTATGCAGGAAGCCGGAAGCACAAGCATGATTTTTTCAACAGGTCCATACAGCACAAACTCCATATCTTCCCAAAGTCCATTACAACAAAGCCCAGATGTCAATGGCATGGCCCCATCCCCCAGCCAGTCAGAAAGTGCTGGGAGCGTCTCCGAGGGCGAGGAGATGGACACTGCAGAAATCGCCCGGCAGGTCAAAGAGCAGCTGATTAAGCACAATATCGGACAACGTATTTTCGGACATTATGTGTTGGGACTGTCTCAAGGGTCCGTGAGCGAGATTCTGGCCCGGCCCAAGCCATGGAATAAACTGACTGTTCGTGGCAAGGAGCCATTTCACAAGATGAAACAGTTCCTCTCCGATGAGCAGAACATCCTGGCCCTCCGTAGCATCCAAGGCAGACAAAGAGAGAATCCAGGCCAGAGCCTGAACAGACTATTTCAGGAAGTACCGAAACGAAGAAATGGGTCTGAAGGTAACATCACCACCCGGATCCGAGCCTCGGAGACTGGCTCTGATGAAGCCATCAAGTCCATCCTAGAGCAAGCCAAGAGGGAGCTCCAAGTGCAGAAAACTGCAGAGCCGGCCCAGCCTTCCTCCGCATCCGGCAGCGGGAACTCTGATGACGCCATCCGCTCCATCCTGCAGCAAGCCCGCCGGGAGATGGAGGCCCAGCAGGCTGCCCTCGACCCTGCCTTAAAGCAGGCACCACTGTCCCAGAGTGACATCACCATCCTCACCCCCAAGCTTCTGTCCACCTCGCCCATGCCCACCGTGTCCAGCTACCCACCTCTCGCCATCTCCCTGAAGAAGCCCTCCGCAGCTCCTGAGGCCGGTGCCTCTGCTCTGCCGAACCCCCCGGCCCTCAAAAAGGAGGCCCAGGACGCCCCCGGGCTGGACCCCCAGGGAGCAGCCGATTGTGCACAAGGGGTCCTGAGACAGGTGAAAAATGAGGTGGGCCGCAGCGGTGCCTGGAAGGACCACTGGTGGAGCGCGGTGCAGCCGGAGAGAAGAAATGCCGCCTCCTCCGAGGAGGCCAAGGCCGAAGAAACGGGCGGCGGGAAAGAGAAGGGCAGCGGTGGCAGCGGAGGTGGCAGCCAGCCTCGGGCCGAGCGCAGTCAGCTCCAGGGACCCTCGTCGTCAGAGTACTGGAAGGAGTGGCCCAGCGCTGAGTCCCCATACTCCCAGAGCTCAGAGCTGAGTCTGACCGGGGCCAGCCGCAGCGAGACACCACAGAACAGCCCCCTGCCATCCTCCCCGATCGTGCCCATGTCCAAGCCCACCAAGCCCTCGGTCCCCCCGCTGACCCCCGAGCAGTACGAGGTCTACATGTACCAGGAGGTGGACACCATCGAGCTCACCCGGCAGGTTAAGGAAAAGCTGGCCAAGAACGGCATCTGCCAGAGAATCTTCGGGGAGAAGGTGCTGGGCCTGTCCCAGGGCAGCGTCAGCGACATGCTGTCCCGACCGAAGCCATGGAGCAAGCTGACGCAGAAAGGCCGAGAACCCTTCATCCGGATGCAGCTCTGGCTGAACGGCGAGCTAGGCCAGGGTGTTCTACCCGTCCAGGGCCAGCAGCAAGGGCCAGTCCTCCACTCCGTGACATCGCTCCAGGACCCGCTGCAGCAGGGCTGTGTGAGCTCAGAAAGCACTCCAAAGACCTCCGCCAGCTGCAGCCCTGCCCCTGAGTCCCCGATGAGTTCCAGTGAGTCGGTGAAGAGCCTGACCGAGCTGGTCCAGCAGCCCTGTCCCCCCATCGAGGCGAGCAAGGACAGCAAGCCACCAGAGCCCAGTGACCCGCCAGCATCCGACTCCCAGCCCACAACCCCGCTGCCTCTCTCCGGACACTCGGCCCTCAGCATCCAAGAATTAGTAGCCATGTCCCCGGAGCTGGACACCTACGGCATAACCAAGCGGGTGAAGGAGGTGCTGACGGACAACAACCTCGGCCAGCGCTTATTTGGGGAGACCATCTTAGGGCTCACCCAAGGCTCTGTCTCTGACCTCCTTGCCCGCCCCAAACCCTGGCATAAGCTCAGTCTGAAAGGACGAGAGCCCTTCGTCCGGATGCAGCTGTGGCTGAACGACCCCAACAATGTGGAGAAGCTGATGGACATGAAACGGATGGAGAAGAAAGCCTACATGAAGCGGCGGCACAGCTCAGTCAGTGACAGCCAGCCCTGCGAACCGCCCTCTGTCGGCACCGAGTACAGCCAGGGCGCCAGCCCCCAGCCCCAGCACCAGCTGAAGAAACCCCGGGTGGTGCTGGCTCCGGAGGAGAAGGAGGCGCTGAAACGAGCGTATCAGCAAAAGCCATACCCGTCACCAAAAACCATCGAAGACCTCGCCACCCAGCTCAACCTGAAAACCAGCACCGTCATCAACTGGTTCCACAACTACAGGTCTCGGATCCGCAGAGAACTGTTCATTGAGGAAATTCAGGCCGGGAGTCAGGGCCAGGCGGGCGCCAGCGACTCACCCTCGGCCCGCAGCGGCCGGGCGGCGCCCAGCTCGGAGGGCGACAGCTGCGACGGCGTGGAGGCCACTGAGGGCCCAGGCAGCGCCGACACCGAGGAGCCCAAGTCTCAGGGAGAGGCCGAGCGGGAGGAGGTGCCGCGGCCGGCGGAGCAGACGGAGCCGCCGCCCTCGGGGACCCCGGGCCCGGACGACGCCCGCGACGACGACCACGAGGGAGGCCCCGTGGAAGGCCCGGGGCCCCTGCCCAGCCCCGCCTCCGCGACCGCCACCGCCGCGCCCGCGGCCCCCGAGGACGCCGCTACCTCAGCCGCCGCCGCGCCGGGGGAGGGCCCCGCGGCCCCGAGCTCCGCGCCGCCGCCCAGCAACAGCAGCAGCAGCAGCGCCCCCCGCAGGCCCAGCTCGCTGCAGAGCCTTTTCGGCCTCCCCGAGGCCGCGGGCGCCCGGGACTCGCGCGACAACCCCCTGCGCAAGAAGAAGGCCGCGAACTTGAACAGCATCATCCACCGCCTGGAGAAGGCCGCCAGCCGGGAGGAACCTATCGAATGGGAGTTCTGAG'"
   ]
  },
  {
   "cell_type": "code",
   "execution_count": 63,
   "metadata": {
    "scrolled": false
   },
   "outputs": [
    {
     "name": "stdout",
     "output_type": "stream",
     "text": [
      "Total summed synonymous mutation rate across region =  6.2712018079e-06\n"
     ]
    }
   ],
   "source": [
    "CUX1_synonymous = synonymous_mutation_rate_across_gene('CUX1', CUX1_coding_sequence, CUX1_coding_sequence_extra_bases, 0,1506)"
   ]
  },
  {
   "cell_type": "markdown",
   "metadata": {},
   "source": [
    "#### Mutation rate for excluded synonymous CUX1 variants"
   ]
  },
  {
   "cell_type": "code",
   "execution_count": 64,
   "metadata": {
    "code_folding": [
     0
    ]
   },
   "outputs": [],
   "source": [
    "#Create a dictionary of the excluded synonymous variants in CUX1:\n",
    "import csv\n",
    "filename=\"Young_excluded_synonymous_1000_genomes.csv\"\n",
    "\n",
    "with open(filename, 'r') as csvfile:\n",
    "    read_reader = csv.reader(csvfile)  #csv.reader returns a reader object which will iterate over lines in the csvfile\n",
    "    row_count=0\n",
    "    excluded_CUX1_synonymous_variants={} #dictionary of DNMTA results (key = ID (row[13]), value = VAF (row[10]))\n",
    "\n",
    "    for row in read_reader:\n",
    "#         print(row)\n",
    "        if row_count>0:\n",
    "            gene = row[0]\n",
    "            variant = row[1]\n",
    "            AA_coordinate = row[11]\n",
    "            variant_ID = row[2]\n",
    "            if row[0]=='CUX1':\n",
    "                excluded_CUX1_synonymous_variants[variant]=(gene, AA_coordinate, variant_ID)\n",
    "\n",
    "        row_count=row_count+1"
   ]
  },
  {
   "cell_type": "code",
   "execution_count": 65,
   "metadata": {
    "scrolled": false
   },
   "outputs": [
    {
     "name": "stdout",
     "output_type": "stream",
     "text": [
      "Total summed mutation rate across excluded synonymous variants =  4.2924174e-08\n"
     ]
    }
   ],
   "source": [
    "CUX1_excluded = synonymous_excluded_variants_mutation_rate('CUX1', CUX1_coding_sequence, CUX1_coding_sequence_extra_bases, \\\n",
    "                                                           excluded_CUX1_synonymous_variants)"
   ]
  },
  {
   "cell_type": "markdown",
   "metadata": {},
   "source": [
    "#### Total synonymous mutation rate for CUX1"
   ]
  },
  {
   "cell_type": "code",
   "execution_count": 66,
   "metadata": {
    "code_folding": [
     0
    ]
   },
   "outputs": [
    {
     "name": "stdout",
     "output_type": "stream",
     "text": [
      "Synonymous mutation rate across CUX1 =  6.2282776339e-06\n"
     ]
    }
   ],
   "source": [
    "#Subtract the mutation rate of the excluded variants from the total mutation rate for CUX1 synonymous variants across the panel\n",
    "CUX1 = CUX1_synonymous - CUX1_excluded\n",
    "print(\"Synonymous mutation rate across CUX1 = \", CUX1)"
   ]
  },
  {
   "cell_type": "markdown",
   "metadata": {},
   "source": [
    "## DNMT3A"
   ]
  },
  {
   "cell_type": "markdown",
   "metadata": {},
   "source": [
    "- ENST00000321117.5 transcript."
   ]
  },
  {
   "cell_type": "markdown",
   "metadata": {},
   "source": [
    "#### Mutation rate for synonymous variants across DNMT3A regions included in panel"
   ]
  },
  {
   "cell_type": "code",
   "execution_count": 67,
   "metadata": {},
   "outputs": [],
   "source": [
    "DNMT3A_coding_sequence = 'ATGCCCGCCATGCCCTCCAGCGGCCCCGGGGACACCAGCAGCTCTGCTGCGGAGCGGGAGGAGGACCGAAAGGACGGAGAGGAGCAGGAGGAGCCGCGTGGCAAGGAGGAGCGCCAAGAGCCCAGCACCACGGCACGGAAGGTGGGGCGGCCTGGGAGGAAGCGCAAGCACCCCCCGGTGGAAAGCGGTGACACGCCAAAGGACCCTGCGGTGATCTCCAAGTCCCCATCCATGGCCCAGGACTCAGGCGCCTCAGAGCTATTACCCAATGGGGACTTGGAGAAGCGGAGTGAGCCCCAGCCAGAGGAGGGGAGCCCTGCTGGGGGGCAGAAGGGCGGGGCCCCAGCAGAGGGAGAGGGTGCAGCTGAGACCCTGCCTGAAGCCTCAAGAGCAGTGGAAAATGGCTGCTGCACCCCCAAGGAGGGCCGAGGAGCCCCTGCAGAAGCGGGCAAAGAACAGAAGGAGACCAACATCGAATCCATGAAAATGGAGGGCTCCCGGGGCCGGCTGCGGGGTGGCTTGGGCTGGGAGTCCAGCCTCCGTCAGCGGCCCATGCCGAGGCTCACCTTCCAGGCGGGGGACCCCTACTACATCAGCAAGCGCAAGCGGGACGAGTGGCTGGCACGCTGGAAAAGGGAGGCTGAGAAGAAAGCCAAGGTCATTGCAGGAATGAATGCTGTGGAAGAAAACCAGGGGCCCGGGGAGTCTCAGAAGGTGGAGGAGGCCAGCCCTCCTGCTGTGCAGCAGCCCACTGACCCCGCATCCCCCACTGTGGCTACCACGCCTGAGCCCGTGGGGTCCGATGCTGGGGACAAGAATGCCACCAAAGCAGGCGATGACGAGCCAGAGTACGAGGACGGCCGGGGCTTTGGCATTGGGGAGCTGGTGTGGGGGAAACTGCGGGGCTTCTCCTGGTGGCCAGGCCGCATTGTGTCTTGGTGGATGACGGGCCGGAGCCGAGCAGCTGAAGGCACCCGCTGGGTCATGTGGTTCGGAGACGGCAAATTCTCAGTGGTGTGTGTTGAGAAGCTGATGCCGCTGAGCTCGTTTTGCAGTGCGTTCCACCAGGCCACGTACAACAAGCAGCCCATGTACCGCAAAGCCATCTACGAGGTCCTGCAGGTGGCCAGCAGCCGCGCGGGGAAGCTGTTCCCGGTGTGCCACGACAGCGATGAGAGTGACACTGCCAAGGCCGTGGAGGTGCAGAACAAGCCCATGATTGAATGGGCCCTGGGGGGCTTCCAGCCTTCTGGCCCTAAGGGCCTGGAGCCACCAGAAGAAGAGAAGAATCCCTACAAAGAAGTGTACACGGACATGTGGGTGGAACCTGAGGCAGCTGCCTACGCACCACCTCCACCAGCCAAAAAGCCCCGGAAGAGCACAGCGGAGAAGCCCAAGGTCAAGGAGATTATTGATGAGCGCACAAGAGAGCGGCTGGTGTACGAGGTGCGGCAGAAGTGCCGGAACATTGAGGACATCTGCATCTCCTGTGGGAGCCTCAATGTTACCCTGGAACACCCCCTCTTCGTTGGAGGAATGTGCCAAAACTGCAAGAACTGCTTTCTGGAGTGTGCGTACCAGTACGACGACGACGGCTACCAGTCCTACTGCACCATCTGCTGTGGGGGCCGTGAGGTGCTCATGTGCGGAAACAACAACTGCTGCAGGTGCTTTTGCGTGGAGTGTGTGGACCTCTTGGTGGGGCCGGGGGCTGCCCAGGCAGCCATTAAGGAAGACCCCTGGAACTGCTACATGTGCGGGCACAAGGGTACCTACGGGCTGCTGCGGCGGCGAGAGGACTGGCCCTCCCGGCTCCAGATGTTCTTCGCTAATAACCACGACCAGGAATTTGACCCTCCAAAGGTTTACCCACCTGTCCCAGCTGAGAAGAGGAAGCCCATCCGGGTGCTGTCTCTCTTTGATGGAATCGCTACAGGGCTCCTGGTGCTGAAGGACTTGGGCATTCAGGTGGACCGCTACATTGCCTCGGAGGTGTGTGAGGACTCCATCACGGTGGGCATGGTGCGGCACCAGGGGAAGATCATGTACGTCGGGGACGTCCGCAGCGTCACACAGAAGCATATCCAGGAGTGGGGCCCATTCGATCTGGTGATTGGGGGCAGTCCCTGCAATGACCTCTCCATCGTCAACCCTGCTCGCAAGGGCCTCTACGAGGGCACTGGCCGGCTCTTCTTTGAGTTCTACCGCCTCCTGCATGATGCGCGGCCCAAGGAGGGAGATGATCGCCCCTTCTTCTGGCTCTTTGAGAATGTGGTGGCCATGGGCGTTAGTGACAAGAGGGACATCTCGCGATTTCTCGAGTCCAACCCTGTGATGATTGATGCCAAAGAAGTGTCAGCTGCACACAGGGCCCGCTACTTCTGGGGTAACCTTCCCGGTATGAACAGGCCGTTGGCATCCACTGTGAATGATAAGCTGGAGCTGCAGGAGTGTCTGGAGCATGGCAGGATAGCCAAGTTCAGCAAAGTGAGGACCATTACTACGAGGTCAAACTCCATAAAGCAGGGCAAAGACCAGCATTTTCCTGTCTTCATGAATGAGAAAGAGGACATCTTATGGTGCACTGAAATGGAAAGGGTATTTGGTTTCCCAGTCCACTATACTGACGTCTCCAACATGAGCCGCTTGGCGAGGCAGAGACTGCTGGGCCGGTCATGGAGCGTGCCAGTCATCCGCCACCTCTTCGCTCCGCTGAAGGAGTATTTTGCGTGTGTGTAA'\n",
    "DNMT3A_coding_sequence_extra_bases = 'GATGCCCGCCATGCCCTCCAGCGGCCCCGGGGACACCAGCAGCTCTGCTGCGGAGCGGGAGGAGGACCGAAAGGACGGAGAGGAGCAGGAGGAGCCGCGTGGCAAGGAGGAGCGCCAAGAGCCCAGCACCACGGCACGGAAGGTGGGGCGGCCTGGGAGGAAGCGCAAGCACCCCCCGGTGGAAAGCGGTGACACGCCAAAGGACCCTGCGGTGATCTCCAAGTCCCCATCCATGGCCCAGGACTCAGGCGCCTCAGAGCTATTACCCAATGGGGACTTGGAGAAGCGGAGTGAGCCCCAGCCAGAGGAGGGGAGCCCTGCTGGGGGGCAGAAGGGCGGGGCCCCAGCAGAGGGAGAGGGTGCAGCTGAGACCCTGCCTGAAGCCTCAAGAGCAGTGGAAAATGGCTGCTGCACCCCCAAGGAGGGCCGAGGAGCCCCTGCAGAAGCGGGCAAAGAACAGAAGGAGACCAACATCGAATCCATGAAAATGGAGGGCTCCCGGGGCCGGCTGCGGGGTGGCTTGGGCTGGGAGTCCAGCCTCCGTCAGCGGCCCATGCCGAGGCTCACCTTCCAGGCGGGGGACCCCTACTACATCAGCAAGCGCAAGCGGGACGAGTGGCTGGCACGCTGGAAAAGGGAGGCTGAGAAGAAAGCCAAGGTCATTGCAGGAATGAATGCTGTGGAAGAAAACCAGGGGCCCGGGGAGTCTCAGAAGGTGGAGGAGGCCAGCCCTCCTGCTGTGCAGCAGCCCACTGACCCCGCATCCCCCACTGTGGCTACCACGCCTGAGCCCGTGGGGTCCGATGCTGGGGACAAGAATGCCACCAAAGCAGGCGATGACGAGCCAGAGTACGAGGACGGCCGGGGCTTTGGCATTGGGGAGCTGGTGTGGGGGAAACTGCGGGGCTTCTCCTGGTGGCCAGGCCGCATTGTGTCTTGGTGGATGACGGGCCGGAGCCGAGCAGCTGAAGGCACCCGCTGGGTCATGTGGTTCGGAGACGGCAAATTCTCAGTGGTGTGTGTTGAGAAGCTGATGCCGCTGAGCTCGTTTTGCAGTGCGTTCCACCAGGCCACGTACAACAAGCAGCCCATGTACCGCAAAGCCATCTACGAGGTCCTGCAGGTGGCCAGCAGCCGCGCGGGGAAGCTGTTCCCGGTGTGCCACGACAGCGATGAGAGTGACACTGCCAAGGCCGTGGAGGTGCAGAACAAGCCCATGATTGAATGGGCCCTGGGGGGCTTCCAGCCTTCTGGCCCTAAGGGCCTGGAGCCACCAGAAGAAGAGAAGAATCCCTACAAAGAAGTGTACACGGACATGTGGGTGGAACCTGAGGCAGCTGCCTACGCACCACCTCCACCAGCCAAAAAGCCCCGGAAGAGCACAGCGGAGAAGCCCAAGGTCAAGGAGATTATTGATGAGCGCACAAGAGAGCGGCTGGTGTACGAGGTGCGGCAGAAGTGCCGGAACATTGAGGACATCTGCATCTCCTGTGGGAGCCTCAATGTTACCCTGGAACACCCCCTCTTCGTTGGAGGAATGTGCCAAAACTGCAAGAACTGCTTTCTGGAGTGTGCGTACCAGTACGACGACGACGGCTACCAGTCCTACTGCACCATCTGCTGTGGGGGCCGTGAGGTGCTCATGTGCGGAAACAACAACTGCTGCAGGTGCTTTTGCGTGGAGTGTGTGGACCTCTTGGTGGGGCCGGGGGCTGCCCAGGCAGCCATTAAGGAAGACCCCTGGAACTGCTACATGTGCGGGCACAAGGGTACCTACGGGCTGCTGCGGCGGCGAGAGGACTGGCCCTCCCGGCTCCAGATGTTCTTCGCTAATAACCACGACCAGGAATTTGACCCTCCAAAGGTTTACCCACCTGTCCCAGCTGAGAAGAGGAAGCCCATCCGGGTGCTGTCTCTCTTTGATGGAATCGCTACAGGGCTCCTGGTGCTGAAGGACTTGGGCATTCAGGTGGACCGCTACATTGCCTCGGAGGTGTGTGAGGACTCCATCACGGTGGGCATGGTGCGGCACCAGGGGAAGATCATGTACGTCGGGGACGTCCGCAGCGTCACACAGAAGCATATCCAGGAGTGGGGCCCATTCGATCTGGTGATTGGGGGCAGTCCCTGCAATGACCTCTCCATCGTCAACCCTGCTCGCAAGGGCCTCTACGAGGGCACTGGCCGGCTCTTCTTTGAGTTCTACCGCCTCCTGCATGATGCGCGGCCCAAGGAGGGAGATGATCGCCCCTTCTTCTGGCTCTTTGAGAATGTGGTGGCCATGGGCGTTAGTGACAAGAGGGACATCTCGCGATTTCTCGAGTCCAACCCTGTGATGATTGATGCCAAAGAAGTGTCAGCTGCACACAGGGCCCGCTACTTCTGGGGTAACCTTCCCGGTATGAACAGGCCGTTGGCATCCACTGTGAATGATAAGCTGGAGCTGCAGGAGTGTCTGGAGCATGGCAGGATAGCCAAGTTCAGCAAAGTGAGGACCATTACTACGAGGTCAAACTCCATAAAGCAGGGCAAAGACCAGCATTTTCCTGTCTTCATGAATGAGAAAGAGGACATCTTATGGTGCACTGAAATGGAAAGGGTATTTGGTTTCCCAGTCCACTATACTGACGTCTCCAACATGAGCCGCTTGGCGAGGCAGAGACTGCTGGGCCGGTCATGGAGCGTGCCAGTCATCCGCCACCTCTTCGCTCCGCTGAAGGAGTATTTTGCGTGTGTGTAAG'"
   ]
  },
  {
   "cell_type": "code",
   "execution_count": 68,
   "metadata": {
    "scrolled": false
   },
   "outputs": [
    {
     "name": "stdout",
     "output_type": "stream",
     "text": [
      "Total summed synonymous mutation rate across region =  3.4918288479e-06\n"
     ]
    }
   ],
   "source": [
    "DNMT3A_synonymous = synonymous_mutation_rate_across_gene('DNMT3A', DNMT3A_coding_sequence, DNMT3A_coding_sequence_extra_bases, 0, 913)"
   ]
  },
  {
   "cell_type": "markdown",
   "metadata": {},
   "source": [
    "#### Mutation rate for excluded synonymous DNMT3A variants"
   ]
  },
  {
   "cell_type": "code",
   "execution_count": 69,
   "metadata": {
    "code_folding": [
     0
    ]
   },
   "outputs": [],
   "source": [
    "#Create a dictionary of the excluded synonymous variants in DNMT3A:\n",
    "import csv\n",
    "filename=\"Young_excluded_synonymous_1000_genomes.csv\"\n",
    "\n",
    "with open(filename, 'r') as csvfile:\n",
    "    read_reader = csv.reader(csvfile)  #csv.reader returns a reader object which will iterate over lines in the csvfile\n",
    "    row_count=0\n",
    "    excluded_DNMT3A_synonymous_variants={} #dictionary of DNMTA results (key = ID (row[13]), value = VAF (row[10]))\n",
    "\n",
    "    for row in read_reader:\n",
    "#         print(row)\n",
    "        if row_count>0:\n",
    "            gene = row[0]\n",
    "            variant = row[1]\n",
    "            AA_coordinate = row[11]\n",
    "            variant_ID = row[2]\n",
    "            if row[0]=='DNMT3A':\n",
    "                excluded_DNMT3A_synonymous_variants[variant]=(gene, AA_coordinate, variant_ID)\n",
    "\n",
    "        row_count=row_count+1"
   ]
  },
  {
   "cell_type": "code",
   "execution_count": 70,
   "metadata": {
    "scrolled": false
   },
   "outputs": [
    {
     "name": "stdout",
     "output_type": "stream",
     "text": [
      "Total summed mutation rate across excluded synonymous variants =  2.1570915999999998e-08\n"
     ]
    }
   ],
   "source": [
    "DNMT3A_excluded = synonymous_excluded_variants_mutation_rate('DNMT3A', DNMT3A_coding_sequence, DNMT3A_coding_sequence_extra_bases, \\\n",
    "                                                           excluded_DNMT3A_synonymous_variants)"
   ]
  },
  {
   "cell_type": "markdown",
   "metadata": {},
   "source": [
    "#### Total synonymous mutation rate for DNMT3A"
   ]
  },
  {
   "cell_type": "code",
   "execution_count": 71,
   "metadata": {
    "code_folding": [
     0
    ],
    "scrolled": true
   },
   "outputs": [
    {
     "name": "stdout",
     "output_type": "stream",
     "text": [
      "Synonymous mutation rate across DNMT3A =  3.4702579319e-06\n"
     ]
    }
   ],
   "source": [
    "#Subtract the mutation rate of the excluded variants from the total mutation rate for DNMT3A synonymous variants across the panel\n",
    "DNMT3A = DNMT3A_synonymous - DNMT3A_excluded\n",
    "print(\"Synonymous mutation rate across DNMT3A = \", DNMT3A)"
   ]
  },
  {
   "cell_type": "markdown",
   "metadata": {},
   "source": [
    "## ETV6/TEL"
   ]
  },
  {
   "cell_type": "markdown",
   "metadata": {},
   "source": [
    "- ENST00000396373.4 transcript."
   ]
  },
  {
   "cell_type": "markdown",
   "metadata": {},
   "source": [
    "#### Mutation rate for synonymous variants across ETV6 regions included in panel"
   ]
  },
  {
   "cell_type": "code",
   "execution_count": 72,
   "metadata": {},
   "outputs": [],
   "source": [
    "ETV6_coding_sequence = 'ATGTCTGAGACTCCTGCTCAGTGTAGCATTAAGCAGGAACGAATTTCATATACACCTCCAGAGAGCCCAGTGCCGAGTTACGCTTCCTCGACGCCACTTCATGTTCCAGTGCCTCGAGCGCTCAGGATGGAGGAAGACTCGATCCGCCTGCCTGCGCACCTGCGCTTGCAGCCAATTTACTGGAGCAGGGATGACGTAGCCCAGTGGCTCAAGTGGGCTGAAAATGAGTTTTCTTTAAGGCCAATTGACAGCAACACGTTTGAAATGAATGGCAAAGCTCTCCTGCTGCTGACCAAAGAGGACTTTCGCTATCGATCTCCTCATTCAGGTGATGTGCTCTATGAACTCCTTCAGCATATTCTGAAGCAGAGGAAACCTCGGATTCTTTTTTCACCATTCTTCCACCCTGGAAACTCTATACACACACAGCCGGAGGTCATACTGCATCAGAACCATGAAGAAGATAACTGTGTCCAGAGGACCCCCAGGCCATCCGTGGATAATGTGCACCATAACCCTCCCACCATTGAACTGTTGCACCGCTCCAGGTCACCTATCACGACAAATCACCGGCCTTCTCCTGACCCCGAGCAGCGGCCCCTCCGGTCCCCCCTGGACAACATGATCCGCCGCCTCTCCCCGGCTGAGAGAGCTCAGGGACCCAGGCCGCACCAGGAGAACAACCACCAGGAGTCCTACCCTCTGTCAGTGTCTCCCATGGAGAATAATCACTGCCCAGCGTCCTCCGAGTCCCACCCGAAGCCATCCAGCCCCCGGCAGGAGAGCACACGCGTGATCCAGCTGATGCCCAGCCCCATCATGCACCCTCTGATCCTGAACCCCCGGCACTCCGTGGATTTCAAACAGTCCAGGCTCTCCGAGGACGGGCTGCATAGGGAAGGGAAGCCCATCAACCTCTCTCATCGGGAAGACCTGGCTTACATGAACCACATCATGGTCTCTGTCTCCCCGCCTGAAGAGCACGCCATGCCCATTGGGAGAATAGCAGACTGTAGACTGCTTTGGGATTACGTCTATCAGTTGCTTTCTGACAGCCGGTACGAAAACTTCATCCGATGGGAGGACAAAGAATCCAAAATATTCCGGATAGTGGATCCCAACGGACTGGCTCGACTGTGGGGAAACCATAAGAACAGAACAAACATGACCTATGAGAAAATGTCCAGAGCCCTGCGCCACTACTACAAACTAAACATTATCAGGAAGGAGCCAGGACAAAGGCTTTTGTTCAGGTTTATGAAAACCCCAGATGAAATCATGAGTGGCCGAACAGACCGTCTGGAGCACCTAGAGTCCCAGGAGCTGGATGAACAAATATACCAAGAAGATGAATGCTGA'\n",
    "ETV6_coding_sequence_extra_bases = 'CATGTCTGAGACTCCTGCTCAGTGTAGCATTAAGCAGGAACGAATTTCATATACACCTCCAGAGAGCCCAGTGCCGAGTTACGCTTCCTCGACGCCACTTCATGTTCCAGTGCCTCGAGCGCTCAGGATGGAGGAAGACTCGATCCGCCTGCCTGCGCACCTGCGCTTGCAGCCAATTTACTGGAGCAGGGATGACGTAGCCCAGTGGCTCAAGTGGGCTGAAAATGAGTTTTCTTTAAGGCCAATTGACAGCAACACGTTTGAAATGAATGGCAAAGCTCTCCTGCTGCTGACCAAAGAGGACTTTCGCTATCGATCTCCTCATTCAGGTGATGTGCTCTATGAACTCCTTCAGCATATTCTGAAGCAGAGGAAACCTCGGATTCTTTTTTCACCATTCTTCCACCCTGGAAACTCTATACACACACAGCCGGAGGTCATACTGCATCAGAACCATGAAGAAGATAACTGTGTCCAGAGGACCCCCAGGCCATCCGTGGATAATGTGCACCATAACCCTCCCACCATTGAACTGTTGCACCGCTCCAGGTCACCTATCACGACAAATCACCGGCCTTCTCCTGACCCCGAGCAGCGGCCCCTCCGGTCCCCCCTGGACAACATGATCCGCCGCCTCTCCCCGGCTGAGAGAGCTCAGGGACCCAGGCCGCACCAGGAGAACAACCACCAGGAGTCCTACCCTCTGTCAGTGTCTCCCATGGAGAATAATCACTGCCCAGCGTCCTCCGAGTCCCACCCGAAGCCATCCAGCCCCCGGCAGGAGAGCACACGCGTGATCCAGCTGATGCCCAGCCCCATCATGCACCCTCTGATCCTGAACCCCCGGCACTCCGTGGATTTCAAACAGTCCAGGCTCTCCGAGGACGGGCTGCATAGGGAAGGGAAGCCCATCAACCTCTCTCATCGGGAAGACCTGGCTTACATGAACCACATCATGGTCTCTGTCTCCCCGCCTGAAGAGCACGCCATGCCCATTGGGAGAATAGCAGACTGTAGACTGCTTTGGGATTACGTCTATCAGTTGCTTTCTGACAGCCGGTACGAAAACTTCATCCGATGGGAGGACAAAGAATCCAAAATATTCCGGATAGTGGATCCCAACGGACTGGCTCGACTGTGGGGAAACCATAAGAACAGAACAAACATGACCTATGAGAAAATGTCCAGAGCCCTGCGCCACTACTACAAACTAAACATTATCAGGAAGGAGCCAGGACAAAGGCTTTTGTTCAGGTTTATGAAAACCCCAGATGAAATCATGAGTGGCCGAACAGACCGTCTGGAGCACCTAGAGTCCCAGGAGCTGGATGAACAAATATACCAAGAAGATGAATGCTGAA'"
   ]
  },
  {
   "cell_type": "code",
   "execution_count": 73,
   "metadata": {},
   "outputs": [
    {
     "name": "stdout",
     "output_type": "stream",
     "text": [
      "Total summed synonymous mutation rate across region =  1.5146064201e-06\n"
     ]
    }
   ],
   "source": [
    "ETV6_synonymous = synonymous_mutation_rate_across_gene('ETV6', ETV6_coding_sequence, ETV6_coding_sequence_extra_bases, 0, 453)"
   ]
  },
  {
   "cell_type": "markdown",
   "metadata": {},
   "source": [
    "#### Mutation rate for excluded synonymous ETV6 variants"
   ]
  },
  {
   "cell_type": "code",
   "execution_count": 74,
   "metadata": {
    "code_folding": [
     0
    ]
   },
   "outputs": [],
   "source": [
    "#Create a dictionary of the excluded synonymous variants in ETV6:\n",
    "import csv\n",
    "filename=\"Young_excluded_synonymous_1000_genomes.csv\"\n",
    "\n",
    "with open(filename, 'r') as csvfile:\n",
    "    read_reader = csv.reader(csvfile)  #csv.reader returns a reader object which will iterate over lines in the csvfile\n",
    "    row_count=0\n",
    "    excluded_ETV6_synonymous_variants={} #dictionary of DNMTA results (key = ID (row[13]), value = VAF (row[10]))\n",
    "\n",
    "    for row in read_reader:\n",
    "#         print(row)\n",
    "        if row_count>0:\n",
    "            gene = row[0]\n",
    "            variant = row[1]\n",
    "            AA_coordinate = row[11]\n",
    "            variant_ID = row[2]\n",
    "            if row[0]=='ETV6':\n",
    "                excluded_ETV6_synonymous_variants[variant]=(gene, AA_coordinate, variant_ID)\n",
    "\n",
    "        row_count=row_count+1"
   ]
  },
  {
   "cell_type": "code",
   "execution_count": 75,
   "metadata": {
    "scrolled": false
   },
   "outputs": [
    {
     "name": "stdout",
     "output_type": "stream",
     "text": [
      "Total summed mutation rate across excluded synonymous variants =  0.0\n"
     ]
    }
   ],
   "source": [
    "ETV6_excluded = synonymous_excluded_variants_mutation_rate('ETV6', ETV6_coding_sequence, ETV6_coding_sequence_extra_bases, \\\n",
    "                                                           excluded_ETV6_synonymous_variants)"
   ]
  },
  {
   "cell_type": "markdown",
   "metadata": {},
   "source": [
    "#### Total synonymous mutation rate for ETV6"
   ]
  },
  {
   "cell_type": "code",
   "execution_count": 76,
   "metadata": {
    "code_folding": [
     0
    ],
    "scrolled": true
   },
   "outputs": [
    {
     "name": "stdout",
     "output_type": "stream",
     "text": [
      "Synonymous mutation rate across ETV6 =  1.5146064201e-06\n"
     ]
    }
   ],
   "source": [
    "#Subtract the mutation rate of the excluded variants from the total mutation rate for ETV6 synonymous variants across the panel\n",
    "ETV6 = ETV6_synonymous - ETV6_excluded\n",
    "print(\"Synonymous mutation rate across ETV6 = \", ETV6)"
   ]
  },
  {
   "cell_type": "markdown",
   "metadata": {},
   "source": [
    "## EZH2"
   ]
  },
  {
   "cell_type": "markdown",
   "metadata": {},
   "source": [
    "- ENST00000460911.1 transcript."
   ]
  },
  {
   "cell_type": "markdown",
   "metadata": {},
   "source": [
    "#### Mutation rate for synonymous variants across EZH2 regions included in panel"
   ]
  },
  {
   "cell_type": "code",
   "execution_count": 77,
   "metadata": {},
   "outputs": [],
   "source": [
    "EZH2_coding_sequence = 'ATGGGCCAGACTGGGAAGAAATCTGAGAAGGGACCAGTTTGTTGGCGGAAGCGTGTAAAATCAGAGTACATGCGACTGAGACAGCTCAAGAGGTTCAGACGAGCTGATGAAGTAAAGAGTATGTTTAGTTCCAATCGTCAGAAAATTTTGGAAAGAACGGAAATCTTAAACCAAGAATGGAAACAGCGAAGGATACAGCCTGTGCACATCCTGACTTCTGTGAGCTCATTGCGCGGGACTAGGGAGTGTTCGGTGACCAGTGACTTGGATTTTCCAACACAAGTCATCCCATTAAAGACTCTGAATGCAGTTGCTTCAGTACCCATAATGTATTCTTGGTCTCCCCTACAGCAGAATTTTATGGTGGAAGATGAAACTGTTTTACATAACATTCCTTATATGGGAGATGAAGTTTTAGATCAGGATGGTACTTTCATTGAAGAACTAATAAAAAATTATGATGGGAAAGTACACGGGGATAGAGAATGTGGGTTTATAAATGATGAAATTTTTGTGGAGTTGGTGAATGCCCTTGGTCAATATAATGATGATGACGATGATGATGATGGAGACGATCCTGAAGAAAGAGAAGAAAAGCAGAAAGATCTGGAGGATCACCGAGATGATAAAGAAAGCCGCCCACCTCGGAAATTTCCTTCTGATAAAATTTTTGAAGCCATTTCCTCAATGTTTCCAGATAAGGGCACAGCAGAAGAACTAAAGGAAAAATATAAAGAACTCACCGAACAGCAGCTCCCAGGCGCACTTCCTCCTGAATGTACCCCCAACATAGATGGACCAAATGCTAAATCTGTTCAGAGAGAGCAAAGCTTACACTCCTTTCATACGCTTTTCTGTAGGCGATGTTTTAAATATGACTGCTTCCTACATCCTTTTCATGCAACACCCAACACTTATAAGCGGAAGAACACAGAAACAGCTCTAGACAACAAACCTTGTGGACCACAGTGTTACCAGCATTTGGAGGGAGCAAAGGAGTTTGCTGCTGCTCTCACCGCTGAGCGGATAAAGACCCCACCAAAACGTCCAGGAGGCCGCAGAAGAGGACGGCTTCCCAATAACAGTAGCAGGCCCAGCACCCCCACCATTAATGTGCTGGAATCAAAGGATACAGACAGTGATAGGGAAGCAGGGACTGAAACGGGGGGAGAGAACAATGATAAAGAAGAAGAAGAGAAGAAAGATGAAACTTCGAGCTCCTCTGAAGCAAATTCTCGGTGTCAAACACCAATAAAGATGAAGCCAAATATTGAACCTCCTGAGAATGTGGAGTGGAGTGGTGCTGAAGCCTCAATGTTTAGAGTCCTCATTGGCACTTACTATGACAATTTCTGTGCCATTGCTAGGTTAATTGGGACCAAAACATGTAGACAGGTGTATGAGTTTAGAGTCAAAGAATCTAGCATCATAGCTCCAGCTCCCGCTGAGGATGTGGATACTCCTCCAAGGAAAAAGAAGAGGAAACACCGGTTGTGGGCTGCACACTGCAGAAAGATACAGCTGAAAAAGGACGGCTCCTCTAACCATGTTTACAACTATCAACCCTGTGATCATCCACGGCAGCCTTGTGACAGTTCGTGCCCTTGTGTGATAGCACAAAATTTTTGTGAAAAGTTTTGTCAATGTAGTTCAGAGTGTCAAAACCGCTTTCCGGGATGCCGCTGCAAAGCACAGTGCAACACCAAGCAGTGCCCGTGCTACCTGGCTGTCCGAGAGTGTGACCCTGACCTCTGTCTTACTTGTGGAGCCGCTGACCATTGGGACAGTAAAAATGTGTCCTGCAAGAACTGCAGTATTCAGCGGGGCTCCAAAAAGCATCTATTGCTGGCACCATCTGACGTGGCAGGCTGGGGGATTTTTATCAAAGATCCTGTGCAGAAAAATGAATTCATCTCAGAATACTGTGGAGAGATTATTTCTCAAGATGAAGCTGACAGAAGAGGGAAAGTGTATGATAAATACATGTGCAGCTTTCTGTTCAACTTGAACAATGATTTTGTGGTGGATGCAACCCGCAAGGGTAACAAAATTCGTTTTGCAAATCATTCGGTAAATCCAAACTGCTATGCAAAAGTTATGATGGTTAACGGTGATCACAGGATAGGTATTTTTGCCAAGAGAGCCATCCAGACTGGCGAAGAGCTGTTTTTTGATTACAGATACAGCCAGGCTGATGCCCTGAAGTATGTCGGCATCGAAAGAGAAATGGAAATCCCTTGA'\n",
    "EZH2_coding_sequence_extra_bases = 'CATGGGCCAGACTGGGAAGAAATCTGAGAAGGGACCAGTTTGTTGGCGGAAGCGTGTAAAATCAGAGTACATGCGACTGAGACAGCTCAAGAGGTTCAGACGAGCTGATGAAGTAAAGAGTATGTTTAGTTCCAATCGTCAGAAAATTTTGGAAAGAACGGAAATCTTAAACCAAGAATGGAAACAGCGAAGGATACAGCCTGTGCACATCCTGACTTCTGTGAGCTCATTGCGCGGGACTAGGGAGTGTTCGGTGACCAGTGACTTGGATTTTCCAACACAAGTCATCCCATTAAAGACTCTGAATGCAGTTGCTTCAGTACCCATAATGTATTCTTGGTCTCCCCTACAGCAGAATTTTATGGTGGAAGATGAAACTGTTTTACATAACATTCCTTATATGGGAGATGAAGTTTTAGATCAGGATGGTACTTTCATTGAAGAACTAATAAAAAATTATGATGGGAAAGTACACGGGGATAGAGAATGTGGGTTTATAAATGATGAAATTTTTGTGGAGTTGGTGAATGCCCTTGGTCAATATAATGATGATGACGATGATGATGATGGAGACGATCCTGAAGAAAGAGAAGAAAAGCAGAAAGATCTGGAGGATCACCGAGATGATAAAGAAAGCCGCCCACCTCGGAAATTTCCTTCTGATAAAATTTTTGAAGCCATTTCCTCAATGTTTCCAGATAAGGGCACAGCAGAAGAACTAAAGGAAAAATATAAAGAACTCACCGAACAGCAGCTCCCAGGCGCACTTCCTCCTGAATGTACCCCCAACATAGATGGACCAAATGCTAAATCTGTTCAGAGAGAGCAAAGCTTACACTCCTTTCATACGCTTTTCTGTAGGCGATGTTTTAAATATGACTGCTTCCTACATCCTTTTCATGCAACACCCAACACTTATAAGCGGAAGAACACAGAAACAGCTCTAGACAACAAACCTTGTGGACCACAGTGTTACCAGCATTTGGAGGGAGCAAAGGAGTTTGCTGCTGCTCTCACCGCTGAGCGGATAAAGACCCCACCAAAACGTCCAGGAGGCCGCAGAAGAGGACGGCTTCCCAATAACAGTAGCAGGCCCAGCACCCCCACCATTAATGTGCTGGAATCAAAGGATACAGACAGTGATAGGGAAGCAGGGACTGAAACGGGGGGAGAGAACAATGATAAAGAAGAAGAAGAGAAGAAAGATGAAACTTCGAGCTCCTCTGAAGCAAATTCTCGGTGTCAAACACCAATAAAGATGAAGCCAAATATTGAACCTCCTGAGAATGTGGAGTGGAGTGGTGCTGAAGCCTCAATGTTTAGAGTCCTCATTGGCACTTACTATGACAATTTCTGTGCCATTGCTAGGTTAATTGGGACCAAAACATGTAGACAGGTGTATGAGTTTAGAGTCAAAGAATCTAGCATCATAGCTCCAGCTCCCGCTGAGGATGTGGATACTCCTCCAAGGAAAAAGAAGAGGAAACACCGGTTGTGGGCTGCACACTGCAGAAAGATACAGCTGAAAAAGGACGGCTCCTCTAACCATGTTTACAACTATCAACCCTGTGATCATCCACGGCAGCCTTGTGACAGTTCGTGCCCTTGTGTGATAGCACAAAATTTTTGTGAAAAGTTTTGTCAATGTAGTTCAGAGTGTCAAAACCGCTTTCCGGGATGCCGCTGCAAAGCACAGTGCAACACCAAGCAGTGCCCGTGCTACCTGGCTGTCCGAGAGTGTGACCCTGACCTCTGTCTTACTTGTGGAGCCGCTGACCATTGGGACAGTAAAAATGTGTCCTGCAAGAACTGCAGTATTCAGCGGGGCTCCAAAAAGCATCTATTGCTGGCACCATCTGACGTGGCAGGCTGGGGGATTTTTATCAAAGATCCTGTGCAGAAAAATGAATTCATCTCAGAATACTGTGGAGAGATTATTTCTCAAGATGAAGCTGACAGAAGAGGGAAAGTGTATGATAAATACATGTGCAGCTTTCTGTTCAACTTGAACAATGATTTTGTGGTGGATGCAACCCGCAAGGGTAACAAAATTCGTTTTGCAAATCATTCGGTAAATCCAAACTGCTATGCAAAAGTTATGATGGTTAACGGTGATCACAGGATAGGTATTTTTGCCAAGAGAGCCATCCAGACTGGCGAAGAGCTGTTTTTTGATTACAGATACAGCCAGGCTGATGCCCTGAAGTATGTCGGCATCGAAAGAGAAATGGAAATCCCTTGAC'"
   ]
  },
  {
   "cell_type": "code",
   "execution_count": 78,
   "metadata": {
    "scrolled": false
   },
   "outputs": [
    {
     "name": "stdout",
     "output_type": "stream",
     "text": [
      "Total summed synonymous mutation rate across region =  1.8015627756999999e-06\n"
     ]
    }
   ],
   "source": [
    "EZH2_synonymous = synonymous_mutation_rate_across_gene('EZH2', EZH2_coding_sequence, EZH2_coding_sequence_extra_bases, 0, 747)"
   ]
  },
  {
   "cell_type": "markdown",
   "metadata": {},
   "source": [
    "#### Mutation rate for excluded synonymous EZH2 variants"
   ]
  },
  {
   "cell_type": "code",
   "execution_count": 79,
   "metadata": {
    "code_folding": [
     0
    ]
   },
   "outputs": [],
   "source": [
    "#Create a dictionary of the excluded synonymous variants in EZH2:\n",
    "import csv\n",
    "filename=\"Young_excluded_synonymous_1000_genomes.csv\"\n",
    "\n",
    "with open(filename, 'r') as csvfile:\n",
    "    read_reader = csv.reader(csvfile)  #csv.reader returns a reader object which will iterate over lines in the csvfile\n",
    "    row_count=0\n",
    "    excluded_EZH2_synonymous_variants={} #dictionary of DNMTA results (key = ID (row[13]), value = VAF (row[10]))\n",
    "\n",
    "    for row in read_reader:\n",
    "#         print(row)\n",
    "        if row_count>0:\n",
    "            gene = row[0]\n",
    "            variant = row[1]\n",
    "            AA_coordinate = row[11]\n",
    "            variant_ID = row[2]\n",
    "            if row[0]=='EZH2':\n",
    "                excluded_EZH2_synonymous_variants[variant]=(gene, AA_coordinate, variant_ID)\n",
    "\n",
    "        row_count=row_count+1"
   ]
  },
  {
   "cell_type": "code",
   "execution_count": 80,
   "metadata": {
    "scrolled": false
   },
   "outputs": [
    {
     "name": "stdout",
     "output_type": "stream",
     "text": [
      "Total summed mutation rate across excluded synonymous variants =  6.15428e-10\n"
     ]
    }
   ],
   "source": [
    "EZH2_excluded = synonymous_excluded_variants_mutation_rate('EZH2', EZH2_coding_sequence, EZH2_coding_sequence_extra_bases, \\\n",
    "                                                           excluded_EZH2_synonymous_variants)"
   ]
  },
  {
   "cell_type": "markdown",
   "metadata": {},
   "source": [
    "#### Total synonymous mutation rate for EZH2"
   ]
  },
  {
   "cell_type": "code",
   "execution_count": 81,
   "metadata": {
    "code_folding": [
     0
    ],
    "scrolled": true
   },
   "outputs": [
    {
     "name": "stdout",
     "output_type": "stream",
     "text": [
      "Synonymous mutation rate across EZH2 =  1.8009473476999998e-06\n"
     ]
    }
   ],
   "source": [
    "#Subtract the mutation rate of the excluded variants from the total mutation rate for EZH2 synonymous variants across the panel\n",
    "EZH2 = EZH2_synonymous - EZH2_excluded\n",
    "print(\"Synonymous mutation rate across EZH2 = \", EZH2)"
   ]
  },
  {
   "cell_type": "markdown",
   "metadata": {},
   "source": [
    "## FBXW7 (exons 9-11)"
   ]
  },
  {
   "cell_type": "markdown",
   "metadata": {},
   "source": [
    "- ENST00000281708.4 transcript.\n",
    "- No excluded variants in these regions."
   ]
  },
  {
   "cell_type": "markdown",
   "metadata": {},
   "source": [
    "#### Mutation rate for synonymous variants across FBXW7 regions included in panel"
   ]
  },
  {
   "cell_type": "code",
   "execution_count": 82,
   "metadata": {},
   "outputs": [],
   "source": [
    "FBXW7_coding_sequence = 'ATGAATCAGGAACTGCTCTCTGTGGGCAGCAAAAGACGACGAACTGGAGGCTCTCTGAGAGGTAACCCTTCCTCAAGCCAGGTAGATGAAGAACAGATGAATCGTGTGGTAGAGGAGGAACAGCAACAGCAACTCAGACAACAAGAGGAGGAGCACACTGCAAGGAATGGTGAAGTTGTTGGAGTAGAACCTAGACCTGGAGGCCAAAATGATTCCCAGCAAGGACAGTTGGAAGAAAACAATAATAGATTTATTTCGGTAGATGAGGACTCCTCAGGAAACCAAGAAGAACAAGAGGAAGATGAAGAACATGCTGGTGAACAAGATGAGGAGGATGAGGAGGAGGAGGAGATGGACCAGGAGAGTGACGATTTTGATCAGTCTGATGATAGTAGCAGAGAAGATGAACATACACATACTAACAGTGTCACGAACTCCAGTAGTATTGTGGACCTGCCCGTTCACCAACTCTCCTCCCCATTCTATACAAAAACAACAAAAATGAAAAGAAAGTTGGACCATGGTTCTGAGGTCCGCTCTTTTTCTTTGGGAAAGAAACCATGCAAAGTCTCAGAATATACAAGTACCACTGGGCTTGTACCATGTTCAGCAACACCAACAACTTTTGGGGACCTCAGAGCAGCCAATGGCCAAGGGCAACAACGACGCCGAATTACATCTGTCCAGCCACCTACAGGCCTCCAGGAATGGCTAAAAATGTTTCAGAGCTGGAGTGGACCAGAGAAATTGCTTGCTTTAGATGAACTCATTGATAGTTGTGAACCAACACAAGTAAAACATATGATGCAAGTGATAGAACCCCAGTTTCAACGAGACTTCATTTCATTGCTCCCTAAAGAGTTGGCACTCTATGTGCTTTCATTCCTGGAACCCAAAGACCTGCTACAAGCAGCTCAGACATGTCGCTACTGGAGAATTTTGGCTGAAGACAACCTTCTCTGGAGAGAGAAATGCAAAGAAGAGGGGATTGATGAACCATTGCACATCAAGAGAAGAAAAGTAATAAAACCAGGTTTCATACACAGTCCATGGAAAAGTGCATACATCAGACAGCACAGAATTGATACTAACTGGAGGCGAGGAGAACTCAAATCTCCTAAGGTGCTGAAAGGACATGATGATCATGTGATCACATGCTTACAGTTTTGTGGTAACCGAATAGTTAGTGGTTCTGATGACAACACTTTAAAAGTTTGGTCAGCAGTCACAGGCAAATGTCTGAGAACATTAGTGGGACATACAGGTGGAGTATGGTCATCACAAATGAGAGACAACATCATCATTAGTGGATCTACAGATCGGACACTCAAAGTGTGGAATGCAGAGACTGGAGAATGTATACACACCTTATATGGGCATACTTCCACTGTGCGTTGTATGCATCTTCATGAAAAAAGAGTTGTTAGCGGTTCTCGAGATGCCACTCTTAGGGTTTGGGATATTGAGACAGGCCAGTGTTTACATGTTTTGATGGGTCATGTTGCAGCAGTCCGCTGTGTTCAATATGATGGCAGGAGGGTTGTTAGTGGAGCATATGATTTTATGGTAAAGGTGTGGGATCCAGAGACTGAAACCTGTCTACACACGTTGCAGGGGCATACTAATAGAGTCTATTCATTACAGTTTGATGGTATCCATGTGGTGAGTGGATCTCTTGATACATCAATCCGTGTTTGGGATGTGGAGACAGGGAATTGCATTCACACGTTAACAGGGCACCAGTCGTTAACAAGTGGAATGGAACTCAAAGACAATATTCTTGTCTCTGGGAATGCAGATTCTACAGTTAAAATCTGGGATATCAAAACAGGACAGTGTTTACAAACATTGCAAGGTCCCAACAAGCATCAGAGTGCTGTGACCTGTTTACAGTTCAACAAGAACTTTGTAATTACCAGCTCAGATGATGGAACTGTAAAACTATGGGACTTGAAAACGGGTGAATTTATTCGAAACCTAGTCACATTGGAGAGTGGGGGGAGTGGGGGAGTTGTGTGGCGGATCAGAGCCTCAAACACAAAGCTGGTGTGTGCAGTTGGGAGTCGGAATGGGACTGAAGAAACCAAGCTGCTGGTGCTGGACTTTGATGTGGACATGAAGTGA'\n",
    "FBXW7_coding_sequence_extra_bases = 'AATGAATCAGGAACTGCTCTCTGTGGGCAGCAAAAGACGACGAACTGGAGGCTCTCTGAGAGGTAACCCTTCCTCAAGCCAGGTAGATGAAGAACAGATGAATCGTGTGGTAGAGGAGGAACAGCAACAGCAACTCAGACAACAAGAGGAGGAGCACACTGCAAGGAATGGTGAAGTTGTTGGAGTAGAACCTAGACCTGGAGGCCAAAATGATTCCCAGCAAGGACAGTTGGAAGAAAACAATAATAGATTTATTTCGGTAGATGAGGACTCCTCAGGAAACCAAGAAGAACAAGAGGAAGATGAAGAACATGCTGGTGAACAAGATGAGGAGGATGAGGAGGAGGAGGAGATGGACCAGGAGAGTGACGATTTTGATCAGTCTGATGATAGTAGCAGAGAAGATGAACATACACATACTAACAGTGTCACGAACTCCAGTAGTATTGTGGACCTGCCCGTTCACCAACTCTCCTCCCCATTCTATACAAAAACAACAAAAATGAAAAGAAAGTTGGACCATGGTTCTGAGGTCCGCTCTTTTTCTTTGGGAAAGAAACCATGCAAAGTCTCAGAATATACAAGTACCACTGGGCTTGTACCATGTTCAGCAACACCAACAACTTTTGGGGACCTCAGAGCAGCCAATGGCCAAGGGCAACAACGACGCCGAATTACATCTGTCCAGCCACCTACAGGCCTCCAGGAATGGCTAAAAATGTTTCAGAGCTGGAGTGGACCAGAGAAATTGCTTGCTTTAGATGAACTCATTGATAGTTGTGAACCAACACAAGTAAAACATATGATGCAAGTGATAGAACCCCAGTTTCAACGAGACTTCATTTCATTGCTCCCTAAAGAGTTGGCACTCTATGTGCTTTCATTCCTGGAACCCAAAGACCTGCTACAAGCAGCTCAGACATGTCGCTACTGGAGAATTTTGGCTGAAGACAACCTTCTCTGGAGAGAGAAATGCAAAGAAGAGGGGATTGATGAACCATTGCACATCAAGAGAAGAAAAGTAATAAAACCAGGTTTCATACACAGTCCATGGAAAAGTGCATACATCAGACAGCACAGAATTGATACTAACTGGAGGCGAGGAGAACTCAAATCTCCTAAGGTGCTGAAAGGACATGATGATCATGTGATCACATGCTTACAGTTTTGTGGTAACCGAATAGTTAGTGGTTCTGATGACAACACTTTAAAAGTTTGGTCAGCAGTCACAGGCAAATGTCTGAGAACATTAGTGGGACATACAGGTGGAGTATGGTCATCACAAATGAGAGACAACATCATCATTAGTGGATCTACAGATCGGACACTCAAAGTGTGGAATGCAGAGACTGGAGAATGTATACACACCTTATATGGGCATACTTCCACTGTGCGTTGTATGCATCTTCATGAAAAAAGAGTTGTTAGCGGTTCTCGAGATGCCACTCTTAGGGTTTGGGATATTGAGACAGGCCAGTGTTTACATGTTTTGATGGGTCATGTTGCAGCAGTCCGCTGTGTTCAATATGATGGCAGGAGGGTTGTTAGTGGAGCATATGATTTTATGGTAAAGGTGTGGGATCCAGAGACTGAAACCTGTCTACACACGTTGCAGGGGCATACTAATAGAGTCTATTCATTACAGTTTGATGGTATCCATGTGGTGAGTGGATCTCTTGATACATCAATCCGTGTTTGGGATGTGGAGACAGGGAATTGCATTCACACGTTAACAGGGCACCAGTCGTTAACAAGTGGAATGGAACTCAAAGACAATATTCTTGTCTCTGGGAATGCAGATTCTACAGTTAAAATCTGGGATATCAAAACAGGACAGTGTTTACAAACATTGCAAGGTCCCAACAAGCATCAGAGTGCTGTGACCTGTTTACAGTTCAACAAGAACTTTGTAATTACCAGCTCAGATGATGGAACTGTAAAACTATGGGACTTGAAAACGGGTGAATTTATTCGAAACCTAGTCACATTGGAGAGTGGGGGGAGTGGGGGAGTTGTGTGGCGGATCAGAGCCTCAAACACAAAGCTGGTGTGTGCAGTTGGGAGTCGGAATGGGACTGAAGAAACCAAGCTGCTGGTGCTGGACTTTGATGTGGACATGAAGTGAA'"
   ]
  },
  {
   "cell_type": "code",
   "execution_count": 83,
   "metadata": {},
   "outputs": [
    {
     "name": "stdout",
     "output_type": "stream",
     "text": [
      "Total summed synonymous mutation rate across region =  5.888729335000001e-07\n"
     ]
    }
   ],
   "source": [
    "FBXW7 = synonymous_mutation_rate_across_gene('FBXW7', FBXW7_coding_sequence, FBXW7_coding_sequence_extra_bases, 472, 707)"
   ]
  },
  {
   "cell_type": "markdown",
   "metadata": {},
   "source": [
    "## FLT3 (exons 14, 15, 20)"
   ]
  },
  {
   "cell_type": "markdown",
   "metadata": {},
   "source": [
    "- ENST00000241453.7 transcript.\n",
    "- No excluded variants in these regions."
   ]
  },
  {
   "cell_type": "markdown",
   "metadata": {},
   "source": [
    "#### Mutation rate for synonymous variants across FLT3 regions included in panel"
   ]
  },
  {
   "cell_type": "code",
   "execution_count": 84,
   "metadata": {},
   "outputs": [],
   "source": [
    "FLT3_coding_sequence = 'ATGCCGGCGTTGGCGCGCGACGGCGGCCAGCTGCCGCTGCTCGTTGTTTTTTCTGCAATGATATTTGGGACTATTACAAATCAAGATCTGCCTGTGATCAAGTGTGTTTTAATCAATCATAAGAACAATGATTCATCAGTGGGGAAGTCATCATCATATCCCATGGTATCAGAATCCCCGGAAGACCTCGGGTGTGCGTTGAGACCCCAGAGCTCAGGGACAGTGTACGAAGCTGCCGCTGTGGAAGTGGATGTATCTGCTTCCATCACACTGCAAGTGCTGGTCGACGCCCCAGGGAACATTTCCTGTCTCTGGGTCTTTAAGCACAGCTCCCTGAATTGCCAGCCACATTTTGATTTACAAAACAGAGGAGTTGTTTCCATGGTCATTTTGAAAATGACAGAAACCCAAGCTGGAGAATACCTACTTTTTATTCAGAGTGAAGCTACCAATTACACAATATTGTTTACAGTGAGTATAAGAAATACCCTGCTTTACACATTAAGAAGACCTTACTTTAGAAAAATGGAAAACCAGGACGCCCTGGTCTGCATATCTGAGAGCGTTCCAGAGCCGATCGTGGAATGGGTGCTTTGCGATTCACAGGGGGAAAGCTGTAAAGAAGAAAGTCCAGCTGTTGTTAAAAAGGAGGAAAAAGTGCTTCATGAATTATTTGGGACGGACATAAGGTGCTGTGCCAGAAATGAACTGGGCAGGGAATGCACCAGGCTGTTCACAATAGATCTAAATCAAACTCCTCAGACCACATTGCCACAATTATTTCTTAAAGTAGGGGAACCCTTATGGATAAGGTGCAAAGCTGTTCATGTGAACCATGGATTCGGGCTCACCTGGGAATTAGAAAACAAAGCACTCGAGGAGGGCAACTACTTTGAGATGAGTACCTATTCAACAAACAGAACTATGATACGGATTCTGTTTGCTTTTGTATCATCAGTGGCAAGAAACGACACCGGATACTACACTTGTTCCTCTTCAAAGCATCCCAGTCAATCAGCTTTGGTTACCATCGTAGAAAAGGGATTTATAAATGCTACCAATTCAAGTGAAGATTATGAAATTGACCAATATGAAGAGTTTTGTTTTTCTGTCAGGTTTAAAGCCTACCCACAAATCAGATGTACGTGGACCTTCTCTCGAAAATCATTTCCTTGTGAGCAAAAGGGTCTTGATAACGGATACAGCATATCCAAGTTTTGCAATCATAAGCACCAGCCAGGAGAATATATATTCCATGCAGAAAATGATGATGCCCAATTTACCAAAATGTTCACGCTGAATATAAGAAGGAAACCTCAAGTGCTCGCAGAAGCATCGGCAAGTCAGGCGTCCTGTTTCTCGGATGGATACCCATTACCATCTTGGACCTGGAAGAAGTGTTCAGACAAGTCTCCCAACTGCACAGAAGAGATCACAGAAGGAGTCTGGAATAGAAAGGCTAACAGAAAAGTGTTTGGACAGTGGGTGTCGAGCAGTACTCTAAACATGAGTGAAGCCATAAAAGGGTTCCTGGTCAAGTGCTGTGCATACAATTCCCTTGGCACATCTTGTGAGACGATCCTTTTAAACTCTCCAGGCCCCTTCCCTTTCATCCAAGACAACATCTCATTCTATGCAACAATTGGTGTTTGTCTCCTCTTCATTGTCGTTTTAACCCTGCTAATTTGTCACAAGTACAAAAAGCAATTTAGGTATGAAAGCCAGCTACAGATGGTACAGGTGACCGGCTCCTCAGATAATGAGTACTTCTACGTTGATTTCAGAGAATATGAATATGATCTCAAATGGGAGTTTCCAAGAGAAAATTTAGAGTTTGGGAAGGTACTAGGATCAGGTGCTTTTGGAAAAGTGATGAACGCAACAGCTTATGGAATTAGCAAAACAGGAGTCTCAATCCAGGTTGCCGTCAAAATGCTGAAAGAAAAAGCAGACAGCTCTGAAAGAGAGGCACTCATGTCAGAACTCAAGATGATGACCCAGCTGGGAAGCCACGAGAATATTGTGAACCTGCTGGGGGCGTGCACACTGTCAGGACCAATTTACTTGATTTTTGAATACTGTTGCTATGGTGATCTTCTCAACTATCTAAGAAGTAAAAGAGAAAAATTTCACAGGACTTGGACAGAGATTTTCAAGGAACACAATTTCAGTTTTTACCCCACTTTCCAATCACATCCAAATTCCAGCATGCCTGGTTCAAGAGAAGTTCAGATACACCCGGACTCGGATCAAATCTCAGGGCTTCATGGGAATTCATTTCACTCTGAAGATGAAATTGAATATGAAAACCAAAAAAGGCTGGAAGAAGAGGAGGACTTGAATGTGCTTACATTTGAAGATCTTCTTTGCTTTGCATATCAAGTTGCCAAAGGAATGGAATTTCTGGAATTTAAGTCGTGTGTTCACAGAGACCTGGCCGCCAGGAACGTGCTTGTCACCCACGGGAAAGTGGTGAAGATATGTGACTTTGGATTGGCTCGAGATATCATGAGTGATTCCAACTATGTTGTCAGGGGCAATGCCCGTCTGCCTGTAAAATGGATGGCCCCCGAAAGCCTGTTTGAAGGCATCTACACCATTAAGAGTGATGTCTGGTCATATGGAATATTACTGTGGGAAATCTTCTCACTTGGTGTGAATCCTTACCCTGGCATTCCGGTTGATGCTAACTTCTACAAACTGATTCAAAATGGATTTAAAATGGATCAGCCATTTTATGCTACAGAAGAAATATACATTATAATGCAATCCTGCTGGGCTTTTGACTCAAGGAAACGGCCATCCTTCCCTAATTTGACTTCGTTTTTAGGATGTCAGCTGGCAGATGCAGAAGAAGCGATGTATCAGAATGTGGATGGCCGTGTTTCGGAATGTCCTCACACCTACCAAAACAGGCGACCTTTCAGCAGAGAGATGGATTTGGGGCTACTCTCTCCGCAGGCTCAGGTCGAAGATTCGTAG'\n",
    "FLT3_coding_sequence_extra_bases = 'CATGCCGGCGTTGGCGCGCGACGGCGGCCAGCTGCCGCTGCTCGTTGTTTTTTCTGCAATGATATTTGGGACTATTACAAATCAAGATCTGCCTGTGATCAAGTGTGTTTTAATCAATCATAAGAACAATGATTCATCAGTGGGGAAGTCATCATCATATCCCATGGTATCAGAATCCCCGGAAGACCTCGGGTGTGCGTTGAGACCCCAGAGCTCAGGGACAGTGTACGAAGCTGCCGCTGTGGAAGTGGATGTATCTGCTTCCATCACACTGCAAGTGCTGGTCGACGCCCCAGGGAACATTTCCTGTCTCTGGGTCTTTAAGCACAGCTCCCTGAATTGCCAGCCACATTTTGATTTACAAAACAGAGGAGTTGTTTCCATGGTCATTTTGAAAATGACAGAAACCCAAGCTGGAGAATACCTACTTTTTATTCAGAGTGAAGCTACCAATTACACAATATTGTTTACAGTGAGTATAAGAAATACCCTGCTTTACACATTAAGAAGACCTTACTTTAGAAAAATGGAAAACCAGGACGCCCTGGTCTGCATATCTGAGAGCGTTCCAGAGCCGATCGTGGAATGGGTGCTTTGCGATTCACAGGGGGAAAGCTGTAAAGAAGAAAGTCCAGCTGTTGTTAAAAAGGAGGAAAAAGTGCTTCATGAATTATTTGGGACGGACATAAGGTGCTGTGCCAGAAATGAACTGGGCAGGGAATGCACCAGGCTGTTCACAATAGATCTAAATCAAACTCCTCAGACCACATTGCCACAATTATTTCTTAAAGTAGGGGAACCCTTATGGATAAGGTGCAAAGCTGTTCATGTGAACCATGGATTCGGGCTCACCTGGGAATTAGAAAACAAAGCACTCGAGGAGGGCAACTACTTTGAGATGAGTACCTATTCAACAAACAGAACTATGATACGGATTCTGTTTGCTTTTGTATCATCAGTGGCAAGAAACGACACCGGATACTACACTTGTTCCTCTTCAAAGCATCCCAGTCAATCAGCTTTGGTTACCATCGTAGAAAAGGGATTTATAAATGCTACCAATTCAAGTGAAGATTATGAAATTGACCAATATGAAGAGTTTTGTTTTTCTGTCAGGTTTAAAGCCTACCCACAAATCAGATGTACGTGGACCTTCTCTCGAAAATCATTTCCTTGTGAGCAAAAGGGTCTTGATAACGGATACAGCATATCCAAGTTTTGCAATCATAAGCACCAGCCAGGAGAATATATATTCCATGCAGAAAATGATGATGCCCAATTTACCAAAATGTTCACGCTGAATATAAGAAGGAAACCTCAAGTGCTCGCAGAAGCATCGGCAAGTCAGGCGTCCTGTTTCTCGGATGGATACCCATTACCATCTTGGACCTGGAAGAAGTGTTCAGACAAGTCTCCCAACTGCACAGAAGAGATCACAGAAGGAGTCTGGAATAGAAAGGCTAACAGAAAAGTGTTTGGACAGTGGGTGTCGAGCAGTACTCTAAACATGAGTGAAGCCATAAAAGGGTTCCTGGTCAAGTGCTGTGCATACAATTCCCTTGGCACATCTTGTGAGACGATCCTTTTAAACTCTCCAGGCCCCTTCCCTTTCATCCAAGACAACATCTCATTCTATGCAACAATTGGTGTTTGTCTCCTCTTCATTGTCGTTTTAACCCTGCTAATTTGTCACAAGTACAAAAAGCAATTTAGGTATGAAAGCCAGCTACAGATGGTACAGGTGACCGGCTCCTCAGATAATGAGTACTTCTACGTTGATTTCAGAGAATATGAATATGATCTCAAATGGGAGTTTCCAAGAGAAAATTTAGAGTTTGGGAAGGTACTAGGATCAGGTGCTTTTGGAAAAGTGATGAACGCAACAGCTTATGGAATTAGCAAAACAGGAGTCTCAATCCAGGTTGCCGTCAAAATGCTGAAAGAAAAAGCAGACAGCTCTGAAAGAGAGGCACTCATGTCAGAACTCAAGATGATGACCCAGCTGGGAAGCCACGAGAATATTGTGAACCTGCTGGGGGCGTGCACACTGTCAGGACCAATTTACTTGATTTTTGAATACTGTTGCTATGGTGATCTTCTCAACTATCTAAGAAGTAAAAGAGAAAAATTTCACAGGACTTGGACAGAGATTTTCAAGGAACACAATTTCAGTTTTTACCCCACTTTCCAATCACATCCAAATTCCAGCATGCCTGGTTCAAGAGAAGTTCAGATACACCCGGACTCGGATCAAATCTCAGGGCTTCATGGGAATTCATTTCACTCTGAAGATGAAATTGAATATGAAAACCAAAAAAGGCTGGAAGAAGAGGAGGACTTGAATGTGCTTACATTTGAAGATCTTCTTTGCTTTGCATATCAAGTTGCCAAAGGAATGGAATTTCTGGAATTTAAGTCGTGTGTTCACAGAGACCTGGCCGCCAGGAACGTGCTTGTCACCCACGGGAAAGTGGTGAAGATATGTGACTTTGGATTGGCTCGAGATATCATGAGTGATTCCAACTATGTTGTCAGGGGCAATGCCCGTCTGCCTGTAAAATGGATGGCCCCCGAAAGCCTGTTTGAAGGCATCTACACCATTAAGAGTGATGTCTGGTCATATGGAATATTACTGTGGGAAATCTTCTCACTTGGTGTGAATCCTTACCCTGGCATTCCGGTTGATGCTAACTTCTACAAACTGATTCAAAATGGATTTAAAATGGATCAGCCATTTTATGCTACAGAAGAAATATACATTATAATGCAATCCTGCTGGGCTTTTGACTCAAGGAAACGGCCATCCTTCCCTAATTTGACTTCGTTTTTAGGATGTCAGCTGGCAGATGCAGAAGAAGCGATGTATCAGAATGTGGATGGCCGTGTTTCGGAATGTCCTCACACCTACCAAAACAGGCGACCTTTCAGCAGAGAGATGGATTTGGGGCTACTCTCTCCGCAGGCTCAGGTCGAAGATTCGTAGA'"
   ]
  },
  {
   "cell_type": "code",
   "execution_count": 85,
   "metadata": {},
   "outputs": [
    {
     "name": "stdout",
     "output_type": "stream",
     "text": [
      "Total summed synonymous mutation rate across region =  1.784877385e-07\n"
     ]
    }
   ],
   "source": [
    "#EXONS 14-15\n",
    "FLT3_14_15 = synonymous_mutation_rate_across_gene('FLT3', FLT3_coding_sequence, FLT3_coding_sequence_extra_bases, 568, 648)"
   ]
  },
  {
   "cell_type": "code",
   "execution_count": 86,
   "metadata": {},
   "outputs": [
    {
     "name": "stdout",
     "output_type": "stream",
     "text": [
      "Total summed synonymous mutation rate across region =  1.276509963e-07\n"
     ]
    }
   ],
   "source": [
    "#EXON 20\n",
    "FLT3_20 = synonymous_mutation_rate_across_gene('FLT3', FLT3_coding_sequence, FLT3_coding_sequence_extra_bases, 806, 847)"
   ]
  },
  {
   "cell_type": "markdown",
   "metadata": {
    "collapsed": true
   },
   "source": [
    "## GATA1 (exon 2)"
   ]
  },
  {
   "cell_type": "markdown",
   "metadata": {},
   "source": [
    "- ENST00000376670.3 transcript.\n",
    "- No excluded variants in these regions."
   ]
  },
  {
   "cell_type": "markdown",
   "metadata": {},
   "source": [
    "#### Mutation rate for synonymous variants across GATA1 regions included in panel"
   ]
  },
  {
   "cell_type": "code",
   "execution_count": 87,
   "metadata": {},
   "outputs": [],
   "source": [
    "GATA1_coding_sequence = 'ATGGAGTTCCCTGGCCTGGGGTCCCTGGGGACCTCAGAGCCCCTCCCCCAGTTTGTGGATCCTGCTCTGGTGTCCTCCACACCAGAATCAGGGGTTTTCTTCCCCTCTGGGCCTGAGGGCTTGGATGCAGCAGCTTCCTCCACTGCCCCGAGCACAGCCACCGCTGCAGCTGCGGCACTGGCCTACTACAGGGACGCTGAGGCCTACAGACACTCCCCAGTCTTTCAGGTGTACCCATTGCTCAACTGTATGGAGGGGATCCCAGGGGGCTCACCATATGCCGGCTGGGCCTACGGCAAGACGGGGCTCTACCCTGCCTCAACTGTGTGTCCCACCCGCGAGGACTCTCCTCCCCAGGCCGTGGAAGATCTGGATGGAAAAGGCAGCACCAGCTTCCTGGAGACTTTGAAGACAGAGCGGCTGAGCCCAGACCTCCTGACCCTGGGACCTGCACTGCCTTCATCACTCCCTGTCCCCAATAGTGCTTATGGGGGCCCTGACTTTTCCAGTACCTTCTTTTCTCCCACCGGGAGCCCCCTCAATTCAGCAGCCTATTCCTCTCCCAAGCTTCGTGGAACTCTCCCCCTGCCTCCCTGTGAGGCCAGGGAGTGTGTGAACTGCGGAGCAACAGCCACTCCACTGTGGCGGAGGGACAGGACAGGCCACTACCTATGCAACGCCTGCGGCCTCTATCACAAGATGAATGGGCAGAACAGGCCCCTCATCCGGCCCAAGAAGCGCCTGATTGTCAGTAAACGGGCAGGTACTCAGTGCACCAACTGCCAGACGACCACCACGACACTGTGGCGGAGAAATGCCAGTGGGGATCCCGTGTGCAATGCCTGCGGCCTCTACTACAAGCTACACCAGGTGAACCGGCCACTGACCATGCGGAAGGATGGTATTCAGACTCGAAACCGCAAGGCATCTGGAAAAGGGAAAAAGAAACGGGGCTCCAGTCTGGGAGGCACAGGAGCAGCCGAAGGACCAGCTGGTGGCTTTATGGTGGTGGCTGGGGGCAGCGGTAGCGGGAATTGTGGGGAGGTGGCTTCAGGCCTGACACTGGGCCCCCCAGGTACTGCCCATCTCTACCAAGGCCTGGGCCCTGTGGTGCTGTCAGGGCCTGTTAGCCACCTCATGCCTTTCCCTGGACCCCTACTGGGCTCACCCACGGGCTCCTTCCCCACAGGCCCCATGCCCCCCACCACCAGCACTACTGTGGTGGCTCCGCTCAGCTCATGA'\n",
    "GATA1_coding_sequence_extra_bases = 'CATGGAGTTCCCTGGCCTGGGGTCCCTGGGGACCTCAGAGCCCCTCCCCCAGTTTGTGGATCCTGCTCTGGTGTCCTCCACACCAGAATCAGGGGTTTTCTTCCCCTCTGGGCCTGAGGGCTTGGATGCAGCAGCTTCCTCCACTGCCCCGAGCACAGCCACCGCTGCAGCTGCGGCACTGGCCTACTACAGGGACGCTGAGGCCTACAGACACTCCCCAGTCTTTCAGGTGTACCCATTGCTCAACTGTATGGAGGGGATCCCAGGGGGCTCACCATATGCCGGCTGGGCCTACGGCAAGACGGGGCTCTACCCTGCCTCAACTGTGTGTCCCACCCGCGAGGACTCTCCTCCCCAGGCCGTGGAAGATCTGGATGGAAAAGGCAGCACCAGCTTCCTGGAGACTTTGAAGACAGAGCGGCTGAGCCCAGACCTCCTGACCCTGGGACCTGCACTGCCTTCATCACTCCCTGTCCCCAATAGTGCTTATGGGGGCCCTGACTTTTCCAGTACCTTCTTTTCTCCCACCGGGAGCCCCCTCAATTCAGCAGCCTATTCCTCTCCCAAGCTTCGTGGAACTCTCCCCCTGCCTCCCTGTGAGGCCAGGGAGTGTGTGAACTGCGGAGCAACAGCCACTCCACTGTGGCGGAGGGACAGGACAGGCCACTACCTATGCAACGCCTGCGGCCTCTATCACAAGATGAATGGGCAGAACAGGCCCCTCATCCGGCCCAAGAAGCGCCTGATTGTCAGTAAACGGGCAGGTACTCAGTGCACCAACTGCCAGACGACCACCACGACACTGTGGCGGAGAAATGCCAGTGGGGATCCCGTGTGCAATGCCTGCGGCCTCTACTACAAGCTACACCAGGTGAACCGGCCACTGACCATGCGGAAGGATGGTATTCAGACTCGAAACCGCAAGGCATCTGGAAAAGGGAAAAAGAAACGGGGCTCCAGTCTGGGAGGCACAGGAGCAGCCGAAGGACCAGCTGGTGGCTTTATGGTGGTGGCTGGGGGCAGCGGTAGCGGGAATTGTGGGGAGGTGGCTTCAGGCCTGACACTGGGCCCCCCAGGTACTGCCCATCTCTACCAAGGCCTGGGCCCTGTGGTGCTGTCAGGGCCTGTTAGCCACCTCATGCCTTTCCCTGGACCCCTACTGGGCTCACCCACGGGCTCCTTCCCCACAGGCCCCATGCCCCCCACCACCAGCACTACTGTGGTGGCTCCGCTCAGCTCATGAG'"
   ]
  },
  {
   "cell_type": "code",
   "execution_count": 88,
   "metadata": {},
   "outputs": [
    {
     "name": "stdout",
     "output_type": "stream",
     "text": [
      "Total summed synonymous mutation rate across region =  2.54720505e-07\n"
     ]
    }
   ],
   "source": [
    "GATA1 = synonymous_mutation_rate_across_gene('GATA1', GATA1_coding_sequence, GATA1_coding_sequence_extra_bases, 0, 75)"
   ]
  },
  {
   "cell_type": "markdown",
   "metadata": {},
   "source": [
    "## GATA2"
   ]
  },
  {
   "cell_type": "markdown",
   "metadata": {},
   "source": [
    "- ENST00000341105.2 transcript"
   ]
  },
  {
   "cell_type": "markdown",
   "metadata": {},
   "source": [
    "#### Mutation rate for synonymous variants across GATA2 regions included in panel"
   ]
  },
  {
   "cell_type": "code",
   "execution_count": 89,
   "metadata": {},
   "outputs": [],
   "source": [
    "GATA2_coding_sequence = 'ATGGAGGTGGCGCCCGAGCAGCCGCGCTGGATGGCGCACCCGGCCGTGCTGAATGCGCAGCACCCCGACTCACACCACCCGGGCCTGGCGCACAACTACATGGAACCCGCGCAGCTGCTGCCTCCAGACGAGGTGGACGTCTTCTTCAATCACCTCGACTCGCAGGGCAACCCCTACTATGCCAACCCCGCTCACGCGCGGGCGCGCGTCTCCTACAGCCCCGCGCACGCCCGCCTGACCGGAGGCCAGATGTGCCGCCCACACTTGTTGCACAGCCCGGGTTTGCCCTGGCTGGACGGGGGCAAAGCAGCCCTCTCTGCCGCTGCGGCCCACCACCACAACCCCTGGACCGTGAGCCCCTTCTCCAAGACGCCACTGCACCCCTCAGCTGCTGGAGGCCCTGGAGGCCCACTCTCTGTGTACCCAGGGGCTGGGGGTGGGAGCGGGGGAGGCAGCGGGAGCTCAGTGGCCTCCCTCACCCCTACAGCAGCCCACTCTGGCTCCCACCTTTTCGGCTTCCCACCCACGCCACCCAAAGAAGTGTCTCCTGACCCTAGCACCACGGGGGCTGCGTCTCCAGCCTCATCTTCCGCGGGGGGTAGTGCAGCCCGAGGAGAGGACAAGGACGGCGTCAAGTACCAGGTGTCACTGACGGAGAGCATGAAGATGGAAAGTGGCAGTCCCCTGCGCCCAGGCCTAGCTACTATGGGCACCCAGCCTGCTACACACCACCCCATCCCCACCTACCCCTCCTATGTGCCGGCGGCTGCCCACGACTACAGCAGCGGACTCTTCCACCCCGGAGGCTTCCTGGGGGGACCGGCCTCCAGCTTCACCCCTAAGCAGCGCAGCAAGGCTCGTTCCTGTTCAGAAGGCCGGGAGTGTGTCAACTGTGGGGCCACAGCCACCCCTCTCTGGCGGCGGGACGGCACCGGCCACTACCTGTGCAATGCCTGTGGCCTCTACCACAAGATGAATGGGCAGAACCGACCACTCATCAAGCCCAAGCGAAGACTGTCGGCCGCCAGAAGAGCCGGCACCTGTTGTGCAAATTGTCAGACGACAACCACCACCTTATGGCGCCGAAACGCCAACGGGGACCCTGTCTGCAACGCCTGTGGCCTCTACTACAAGCTGCACAATGTTAACAGGCCACTGACCATGAAGAAGGAAGGGATCCAGACTCGGAACCGGAAGATGTCCAACAAGTCCAAGAAGAGCAAGAAAGGGGCGGAGTGCTTCGAGGAGCTGTCAAAGTGCATGCAGGAGAAGTCATCCCCCTTCAGTGCAGCTGCCCTGGCTGGACACATGGCACCTGTGGGCCACCTCCCGCCCTTCAGCCACTCCGGACACATCCTGCCCACTCCGACGCCCATCCACCCCTCCTCCAGCCTCTCCTTCGGCCACCCCCACCCGTCCAGCATGGTGACCGCCATGGGCTAG'\n",
    "GATA2_coding_sequence_extra_bases = 'CATGGAGGTGGCGCCCGAGCAGCCGCGCTGGATGGCGCACCCGGCCGTGCTGAATGCGCAGCACCCCGACTCACACCACCCGGGCCTGGCGCACAACTACATGGAACCCGCGCAGCTGCTGCCTCCAGACGAGGTGGACGTCTTCTTCAATCACCTCGACTCGCAGGGCAACCCCTACTATGCCAACCCCGCTCACGCGCGGGCGCGCGTCTCCTACAGCCCCGCGCACGCCCGCCTGACCGGAGGCCAGATGTGCCGCCCACACTTGTTGCACAGCCCGGGTTTGCCCTGGCTGGACGGGGGCAAAGCAGCCCTCTCTGCCGCTGCGGCCCACCACCACAACCCCTGGACCGTGAGCCCCTTCTCCAAGACGCCACTGCACCCCTCAGCTGCTGGAGGCCCTGGAGGCCCACTCTCTGTGTACCCAGGGGCTGGGGGTGGGAGCGGGGGAGGCAGCGGGAGCTCAGTGGCCTCCCTCACCCCTACAGCAGCCCACTCTGGCTCCCACCTTTTCGGCTTCCCACCCACGCCACCCAAAGAAGTGTCTCCTGACCCTAGCACCACGGGGGCTGCGTCTCCAGCCTCATCTTCCGCGGGGGGTAGTGCAGCCCGAGGAGAGGACAAGGACGGCGTCAAGTACCAGGTGTCACTGACGGAGAGCATGAAGATGGAAAGTGGCAGTCCCCTGCGCCCAGGCCTAGCTACTATGGGCACCCAGCCTGCTACACACCACCCCATCCCCACCTACCCCTCCTATGTGCCGGCGGCTGCCCACGACTACAGCAGCGGACTCTTCCACCCCGGAGGCTTCCTGGGGGGACCGGCCTCCAGCTTCACCCCTAAGCAGCGCAGCAAGGCTCGTTCCTGTTCAGAAGGCCGGGAGTGTGTCAACTGTGGGGCCACAGCCACCCCTCTCTGGCGGCGGGACGGCACCGGCCACTACCTGTGCAATGCCTGTGGCCTCTACCACAAGATGAATGGGCAGAACCGACCACTCATCAAGCCCAAGCGAAGACTGTCGGCCGCCAGAAGAGCCGGCACCTGTTGTGCAAATTGTCAGACGACAACCACCACCTTATGGCGCCGAAACGCCAACGGGGACCCTGTCTGCAACGCCTGTGGCCTCTACTACAAGCTGCACAATGTTAACAGGCCACTGACCATGAAGAAGGAAGGGATCCAGACTCGGAACCGGAAGATGTCCAACAAGTCCAAGAAGAGCAAGAAAGGGGCGGAGTGCTTCGAGGAGCTGTCAAAGTGCATGCAGGAGAAGTCATCCCCCTTCAGTGCAGCTGCCCTGGCTGGACACATGGCACCTGTGGGCCACCTCCCGCCCTTCAGCCACTCCGGACACATCCTGCCCACTCCGACGCCCATCCACCCCTCCTCCAGCCTCTCCTTCGGCCACCCCCACCCGTCCAGCATGGTGACCGCCATGGGCTAGG'"
   ]
  },
  {
   "cell_type": "code",
   "execution_count": 90,
   "metadata": {},
   "outputs": [
    {
     "name": "stdout",
     "output_type": "stream",
     "text": [
      "Total summed synonymous mutation rate across region =  1.7674851503000002e-06\n"
     ]
    }
   ],
   "source": [
    "GATA2_synonymous = synonymous_mutation_rate_across_gene('GATA2', GATA2_coding_sequence, GATA2_coding_sequence_extra_bases, 0, 382)"
   ]
  },
  {
   "cell_type": "markdown",
   "metadata": {},
   "source": [
    "#### Mutation rate for excluded synonymous GATA2 variants"
   ]
  },
  {
   "cell_type": "code",
   "execution_count": 91,
   "metadata": {
    "code_folding": [
     0
    ]
   },
   "outputs": [],
   "source": [
    "#Create a dictionary of the excluded synonymous variants in GATA2:\n",
    "import csv\n",
    "filename=\"Young_excluded_synonymous_1000_genomes.csv\"\n",
    "\n",
    "with open(filename, 'r') as csvfile:\n",
    "    read_reader = csv.reader(csvfile)  #csv.reader returns a reader object which will iterate over lines in the csvfile\n",
    "    row_count=0\n",
    "    excluded_GATA2_synonymous_variants={} #dictionary of DNMTA results (key = ID (row[13]), value = VAF (row[10]))\n",
    "\n",
    "    for row in read_reader:\n",
    "#         print(row)\n",
    "        if row_count>0:\n",
    "            gene = row[0]\n",
    "            variant = row[1]\n",
    "            AA_coordinate = row[11]\n",
    "            variant_ID = row[2]\n",
    "            if row[0]=='GATA2':\n",
    "                excluded_GATA2_synonymous_variants[variant]=(gene, AA_coordinate, variant_ID)\n",
    "\n",
    "        row_count=row_count+1"
   ]
  },
  {
   "cell_type": "code",
   "execution_count": 92,
   "metadata": {
    "scrolled": false
   },
   "outputs": [
    {
     "name": "stdout",
     "output_type": "stream",
     "text": [
      "Total summed mutation rate across excluded synonymous variants =  1.3318609e-08\n"
     ]
    }
   ],
   "source": [
    "GATA2_excluded = synonymous_excluded_variants_mutation_rate('GATA2', GATA2_coding_sequence, GATA2_coding_sequence_extra_bases, \\\n",
    "                                                           excluded_GATA2_synonymous_variants)"
   ]
  },
  {
   "cell_type": "markdown",
   "metadata": {},
   "source": [
    "#### Total synonymous mutation rate for GATA2"
   ]
  },
  {
   "cell_type": "code",
   "execution_count": 93,
   "metadata": {
    "code_folding": [
     0
    ],
    "scrolled": true
   },
   "outputs": [
    {
     "name": "stdout",
     "output_type": "stream",
     "text": [
      "Synonymous mutation rate across GATA2 =  1.7541665413000002e-06\n"
     ]
    }
   ],
   "source": [
    "#Subtract the mutation rate of the excluded variants from the total mutation rate for GATA2 synonymous variants across the panel\n",
    "GATA2 = GATA2_synonymous - GATA2_excluded\n",
    "print(\"Synonymous mutation rate across GATA2 = \", GATA2)"
   ]
  },
  {
   "cell_type": "markdown",
   "metadata": {},
   "source": [
    "## GNAS (exons 8 and 9)"
   ]
  },
  {
   "cell_type": "markdown",
   "metadata": {},
   "source": [
    "- ENST00000371085.3 transcript.\n",
    "- No excluded variants in these regions."
   ]
  },
  {
   "cell_type": "code",
   "execution_count": 94,
   "metadata": {},
   "outputs": [],
   "source": [
    "GNAS_coding_sequence = 'ATGGGCTGCCTCGGGAACAGTAAGACCGAGGACCAGCGCAACGAGGAGAAGGCGCAGCGTGAGGCCAACAAAAAGATCGAGAAGCAGCTGCAGAAGGACAAGCAGGTCTACCGGGCCACGCACCGCCTGCTGCTGCTGGGTGCTGGAGAATCTGGTAAAAGCACCATTGTGAAGCAGATGAGGATCCTGCATGTTAATGGGTTTAATGGAGAGGGCGGCGAAGAGGACCCGCAGGCTGCAAGGAGCAACAGCGATGGTGAGAAGGCAACCAAAGTGCAGGACATCAAAAACAACCTGAAAGAGGCGATTGAAACCATTGTGGCCGCCATGAGCAACCTGGTGCCCCCCGTGGAGCTGGCCAACCCCGAGAACCAGTTCAGAGTGGACTACATCCTGAGTGTGATGAACGTGCCTGACTTTGACTTCCCTCCCGAATTCTATGAGCATGCCAAGGCTCTGTGGGAGGATGAAGGAGTGCGTGCCTGCTACGAACGCTCCAACGAGTACCAGCTGATTGACTGTGCCCAGTACTTCCTGGACAAGATCGACGTGATCAAGCAGGCTGACTATGTGCCGAGCGATCAGGACCTGCTTCGCTGCCGTGTCCTGACTTCTGGAATCTTTGAGACCAAGTTCCAGGTGGACAAAGTCAACTTCCACATGTTTGACGTGGGTGGCCAGCGCGATGAACGCCGCAAGTGGATCCAGTGCTTCAACGATGTGACTGCCATCATCTTCGTGGTGGCCAGCAGCAGCTACAACATGGTCATCCGGGAGGACAACCAGACCAACCGCCTGCAGGAGGCTCTGAACCTCTTCAAGAGCATCTGGAACAACAGATGGCTGCGCACCATCTCTGTGATCCTGTTCCTCAACAAGCAAGATCTGCTCGCTGAGAAAGTCCTTGCTGGGAAATCGAAGATTGAGGACTACTTTCCAGAATTTGCTCGCTACACTACTCCTGAGGATGCTACTCCCGAGCCCGGAGAGGACCCACGCGTGACCCGGGCCAAGTACTTCATTCGAGATGAGTTTCTGAGGATCAGCACTGCCAGTGGAGATGGGCGTCACTACTGCTACCCTCATTTCACCTGCGCTGTGGACACTGAGAACATCCGCCGTGTGTTCAACGACTGCCGTGACATCATTCAGCGCATGCACCTTCGTCAGTACGAGCTGCTCTAA'\n",
    "GNAS_coding_sequence_extra_bases = 'CATGGGCTGCCTCGGGAACAGTAAGACCGAGGACCAGCGCAACGAGGAGAAGGCGCAGCGTGAGGCCAACAAAAAGATCGAGAAGCAGCTGCAGAAGGACAAGCAGGTCTACCGGGCCACGCACCGCCTGCTGCTGCTGGGTGCTGGAGAATCTGGTAAAAGCACCATTGTGAAGCAGATGAGGATCCTGCATGTTAATGGGTTTAATGGAGAGGGCGGCGAAGAGGACCCGCAGGCTGCAAGGAGCAACAGCGATGGTGAGAAGGCAACCAAAGTGCAGGACATCAAAAACAACCTGAAAGAGGCGATTGAAACCATTGTGGCCGCCATGAGCAACCTGGTGCCCCCCGTGGAGCTGGCCAACCCCGAGAACCAGTTCAGAGTGGACTACATCCTGAGTGTGATGAACGTGCCTGACTTTGACTTCCCTCCCGAATTCTATGAGCATGCCAAGGCTCTGTGGGAGGATGAAGGAGTGCGTGCCTGCTACGAACGCTCCAACGAGTACCAGCTGATTGACTGTGCCCAGTACTTCCTGGACAAGATCGACGTGATCAAGCAGGCTGACTATGTGCCGAGCGATCAGGACCTGCTTCGCTGCCGTGTCCTGACTTCTGGAATCTTTGAGACCAAGTTCCAGGTGGACAAAGTCAACTTCCACATGTTTGACGTGGGTGGCCAGCGCGATGAACGCCGCAAGTGGATCCAGTGCTTCAACGATGTGACTGCCATCATCTTCGTGGTGGCCAGCAGCAGCTACAACATGGTCATCCGGGAGGACAACCAGACCAACCGCCTGCAGGAGGCTCTGAACCTCTTCAAGAGCATCTGGAACAACAGATGGCTGCGCACCATCTCTGTGATCCTGTTCCTCAACAAGCAAGATCTGCTCGCTGAGAAAGTCCTTGCTGGGAAATCGAAGATTGAGGACTACTTTCCAGAATTTGCTCGCTACACTACTCCTGAGGATGCTACTCCCGAGCCCGGAGAGGACCCACGCGTGACCCGGGCCAAGTACTTCATTCGAGATGAGTTTCTGAGGATCAGCACTGCCAGTGGAGATGGGCGTCACTACTGCTACCCTCATTTCACCTGCGCTGTGGACACTGAGAACATCCGCCGTGTGTTCAACGACTGCCGTGACATCATTCAGCGCATGCACCTTCGTCAGTACGAGCTGCTCTAAG'"
   ]
  },
  {
   "cell_type": "code",
   "execution_count": 95,
   "metadata": {},
   "outputs": [
    {
     "name": "stdout",
     "output_type": "stream",
     "text": [
      "Total summed synonymous mutation rate across region =  1.67710481e-07\n"
     ]
    }
   ],
   "source": [
    "GNAS = synonymous_mutation_rate_across_gene('GNAS', GNAS_coding_sequence, GNAS_coding_sequence_extra_bases, 195, 240)"
   ]
  },
  {
   "cell_type": "markdown",
   "metadata": {},
   "source": [
    "## HRAS (exons 2 and 3)"
   ]
  },
  {
   "cell_type": "markdown",
   "metadata": {},
   "source": [
    "- ENST00000451590.1 transcript."
   ]
  },
  {
   "cell_type": "markdown",
   "metadata": {},
   "source": [
    "#### Mutation rate for synonymous variants across HRAS regions included in panel"
   ]
  },
  {
   "cell_type": "code",
   "execution_count": 96,
   "metadata": {},
   "outputs": [],
   "source": [
    "HRAS_coding_sequence = 'ATGACGGAATATAAGCTGGTGGTGGTGGGCGCCGGCGGTGTGGGCAAGAGTGCGCTGACCATCCAGCTGATCCAGAACCATTTTGTGGACGAATACGACCCCACTATAGAGGATTCCTACCGGAAGCAGGTGGTCATTGATGGGGAGACGTGCCTGTTGGACATCCTGGATACCGCCGGCCAGGAGGAGTACAGCGCCATGCGGGACCAGTACATGCGCACCGGGGAGGGCTTCCTGTGTGTGTTTGCCATCAACAACACCAAGTCTTTTGAGGACATCCACCAGTACAGGGAGCAGATCAAACGGGTGAAGGACTCGGATGACGTGCCCATGGTGCTGGTGGGGAACAAGTGTGACCTGGCTGCACGCACTGTGGAATCTCGGCAGGCTCAGGACCTCGCCCGAAGCTACGGCATCCCCTACATCGAGACCTCGGCCAAGACCCGGCAGGGAGTGGAGGATGCCTTCTACACGTTGGTGCGTGAGATCCGGCAGCACAAGCTGCGGAAGCTGAACCCTCCTGATGAGAGTGGCCCCGGCTGCATGAGCTGCAAGTGTGTGCTCTCCTGA'\n",
    "HRAS_coding_sequence_extra_bases = 'GATGACGGAATATAAGCTGGTGGTGGTGGGCGCCGGCGGTGTGGGCAAGAGTGCGCTGACCATCCAGCTGATCCAGAACCATTTTGTGGACGAATACGACCCCACTATAGAGGATTCCTACCGGAAGCAGGTGGTCATTGATGGGGAGACGTGCCTGTTGGACATCCTGGATACCGCCGGCCAGGAGGAGTACAGCGCCATGCGGGACCAGTACATGCGCACCGGGGAGGGCTTCCTGTGTGTGTTTGCCATCAACAACACCAAGTCTTTTGAGGACATCCACCAGTACAGGGAGCAGATCAAACGGGTGAAGGACTCGGATGACGTGCCCATGGTGCTGGTGGGGAACAAGTGTGACCTGGCTGCACGCACTGTGGAATCTCGGCAGGCTCAGGACCTCGCCCGAAGCTACGGCATCCCCTACATCGAGACCTCGGCCAAGACCCGGCAGGGAGTGGAGGATGCCTTCTACACGTTGGTGCGTGAGATCCGGCAGCACAAGCTGCGGAAGCTGAACCCTCCTGATGAGAGTGGCCCCGGCTGCATGAGCTGCAAGTGTGTGCTCTCCTGAC'"
   ]
  },
  {
   "cell_type": "code",
   "execution_count": 97,
   "metadata": {},
   "outputs": [
    {
     "name": "stdout",
     "output_type": "stream",
     "text": [
      "Total summed synonymous mutation rate across region =  4.142893741e-07\n"
     ]
    }
   ],
   "source": [
    "HRAS_synonymous = synonymous_mutation_rate_across_gene('HRAS', HRAS_coding_sequence, HRAS_coding_sequence_extra_bases, 0, 98)"
   ]
  },
  {
   "cell_type": "markdown",
   "metadata": {},
   "source": [
    "#### Mutation rate for excluded synonymous HRAS variants"
   ]
  },
  {
   "cell_type": "code",
   "execution_count": 98,
   "metadata": {
    "code_folding": [
     0
    ]
   },
   "outputs": [],
   "source": [
    "#Create a dictionary of the excluded synonymous variants in HRAS:\n",
    "import csv\n",
    "filename=\"Young_excluded_synonymous_1000_genomes.csv\"\n",
    "\n",
    "with open(filename, 'r') as csvfile:\n",
    "    read_reader = csv.reader(csvfile)  #csv.reader returns a reader object which will iterate over lines in the csvfile\n",
    "    row_count=0\n",
    "    excluded_HRAS_synonymous_variants={} #dictionary of DNMTA results (key = ID (row[13]), value = VAF (row[10]))\n",
    "\n",
    "    for row in read_reader:\n",
    "#         print(row)\n",
    "        if row_count>0:\n",
    "            gene = row[0]\n",
    "            variant = row[1]\n",
    "            AA_coordinate = row[11]\n",
    "            variant_ID = row[2]\n",
    "            if row[0]=='HRAS':\n",
    "                excluded_HRAS_synonymous_variants[variant]=(gene, AA_coordinate, variant_ID)\n",
    "\n",
    "        row_count=row_count+1"
   ]
  },
  {
   "cell_type": "code",
   "execution_count": 99,
   "metadata": {
    "scrolled": false
   },
   "outputs": [
    {
     "name": "stdout",
     "output_type": "stream",
     "text": [
      "Total summed mutation rate across excluded synonymous variants =  1.46905e-09\n"
     ]
    }
   ],
   "source": [
    "HRAS_excluded = synonymous_excluded_variants_mutation_rate('HRAS', HRAS_coding_sequence, HRAS_coding_sequence_extra_bases, \\\n",
    "                                                           excluded_HRAS_synonymous_variants)"
   ]
  },
  {
   "cell_type": "markdown",
   "metadata": {},
   "source": [
    "#### Total synonymous mutation rate for HRAS"
   ]
  },
  {
   "cell_type": "code",
   "execution_count": 100,
   "metadata": {
    "code_folding": [
     0
    ],
    "scrolled": true
   },
   "outputs": [
    {
     "name": "stdout",
     "output_type": "stream",
     "text": [
      "Synonymous mutation rate across HRAS =  4.128203241e-07\n"
     ]
    }
   ],
   "source": [
    "#Subtract the mutation rate of the excluded variants from the total mutation rate for HRAS synonymous variants across the panel\n",
    "HRAS = HRAS_synonymous - HRAS_excluded\n",
    "print(\"Synonymous mutation rate across HRAS = \", HRAS)"
   ]
  },
  {
   "cell_type": "markdown",
   "metadata": {},
   "source": [
    "## IDH1 (exon 4)"
   ]
  },
  {
   "cell_type": "markdown",
   "metadata": {},
   "source": [
    "- ENST00000415913.1 transcript."
   ]
  },
  {
   "cell_type": "markdown",
   "metadata": {},
   "source": [
    "#### Mutation rate for synonymous variants across IDH1 regions included in panel"
   ]
  },
  {
   "cell_type": "code",
   "execution_count": 101,
   "metadata": {},
   "outputs": [],
   "source": [
    "IDH1_coding_sequence = 'ATGTCCAAAAAAATCAGTGGCGGTTCTGTGGTAGAGATGCAAGGAGATGAAATGACACGAATCATTTGGGAATTGATTAAAGAGAAACTCATTTTTCCCTACGTGGAATTGGATCTACATAGCTATGATTTAGGCATAGAGAATCGTGATGCCACCAACGACCAAGTCACCAAGGATGCTGCAGAAGCTATAAAGAAGCATAATGTTGGCGTCAAATGTGCCACTATCACTCCTGATGAGAAGAGGGTTGAGGAGTTCAAGTTGAAACAAATGTGGAAATCACCAAATGGCACCATACGAAATATTCTGGGTGGCACGGTCTTCAGAGAAGCCATTATCTGCAAAAATATCCCCCGGCTTGTGAGTGGATGGGTAAAACCTATCATCATAGGTCGTCATGCTTATGGGGATCAATACAGAGCAACTGATTTTGTTGTTCCTGGGCCTGGAAAAGTAGAGATAACCTACACACCAAGTGACGGAACCCAAAAGGTGACATACCTGGTACATAACTTTGAAGAAGGTGGTGGTGTTGCCATGGGGATGTATAATCAAGATAAGTCAATTGAAGATTTTGCACACAGTTCCTTCCAAATGGCTCTGTCTAAGGGTTGGCCTTTGTATCTGAGCACCAAAAACACTATTCTGAAGAAATATGATGGGCGTTTTAAAGACATCTTTCAGGAGATATATGACAAGCAGTACAAGTCCCAGTTTGAAGCTCAAAAGATCTGGTATGAGCATAGGCTCATCGACGACATGGTGGCCCAAGCTATGAAATCAGAGGGAGGCTTCATCTGGGCCTGTAAAAACTATGATGGTGACGTGCAGTCGGACTCTGTGGCCCAAGGGTATGGCTCTCTCGGCATGATGACCAGCGTGCTGGTTTGTCCAGATGGCAAGACAGTAGAAGCAGAGGCTGCCCACGGGACTGTAACCCGTCACTACCGCATGTACCAGAAAGGACAGGAGACGTCCACCAATCCCATTGCTTCCATTTTTGCCTGGACCAGAGGGTTAGCCCACAGAGCAAAGCTTGATAACAATAAAGAGCTTGCCTTCTTTGCAAATGCTTTGGAAGAAGTCTCTATTGAGACAATTGAGGCTGGCTTCATGACCAAGGACTTGGCTGCTTGCATTAAAGGTTTACCCAATGTGCAACGTTCTGACTACTTGAATACATTTGAGTTCATGGATAAACTTGGAGAAAACTTGAAGATCAAACTAGCTCAGGCCAAACTTTAA'\n",
    "IDH1_coding_sequence_extra_bases = 'AATGTCCAAAAAAATCAGTGGCGGTTCTGTGGTAGAGATGCAAGGAGATGAAATGACACGAATCATTTGGGAATTGATTAAAGAGAAACTCATTTTTCCCTACGTGGAATTGGATCTACATAGCTATGATTTAGGCATAGAGAATCGTGATGCCACCAACGACCAAGTCACCAAGGATGCTGCAGAAGCTATAAAGAAGCATAATGTTGGCGTCAAATGTGCCACTATCACTCCTGATGAGAAGAGGGTTGAGGAGTTCAAGTTGAAACAAATGTGGAAATCACCAAATGGCACCATACGAAATATTCTGGGTGGCACGGTCTTCAGAGAAGCCATTATCTGCAAAAATATCCCCCGGCTTGTGAGTGGATGGGTAAAACCTATCATCATAGGTCGTCATGCTTATGGGGATCAATACAGAGCAACTGATTTTGTTGTTCCTGGGCCTGGAAAAGTAGAGATAACCTACACACCAAGTGACGGAACCCAAAAGGTGACATACCTGGTACATAACTTTGAAGAAGGTGGTGGTGTTGCCATGGGGATGTATAATCAAGATAAGTCAATTGAAGATTTTGCACACAGTTCCTTCCAAATGGCTCTGTCTAAGGGTTGGCCTTTGTATCTGAGCACCAAAAACACTATTCTGAAGAAATATGATGGGCGTTTTAAAGACATCTTTCAGGAGATATATGACAAGCAGTACAAGTCCCAGTTTGAAGCTCAAAAGATCTGGTATGAGCATAGGCTCATCGACGACATGGTGGCCCAAGCTATGAAATCAGAGGGAGGCTTCATCTGGGCCTGTAAAAACTATGATGGTGACGTGCAGTCGGACTCTGTGGCCCAAGGGTATGGCTCTCTCGGCATGATGACCAGCGTGCTGGTTTGTCCAGATGGCAAGACAGTAGAAGCAGAGGCTGCCCACGGGACTGTAACCCGTCACTACCGCATGTACCAGAAAGGACAGGAGACGTCCACCAATCCCATTGCTTCCATTTTTGCCTGGACCAGAGGGTTAGCCCACAGAGCAAAGCTTGATAACAATAAAGAGCTTGCCTTCTTTGCAAATGCTTTGGAAGAAGTCTCTATTGAGACAATTGAGGCTGGCTTCATGACCAAGGACTTGGCTGCTTGCATTAAAGGTTTACCCAATGTGCAACGTTCTGACTACTTGAATACATTTGAGTTCATGGATAAACTTGGAGAAAACTTGAAGATCAAACTAGCTCAGGCCAAACTTTAAG'"
   ]
  },
  {
   "cell_type": "code",
   "execution_count": 102,
   "metadata": {},
   "outputs": [
    {
     "name": "stdout",
     "output_type": "stream",
     "text": [
      "Total summed synonymous mutation rate across region =  2.2718325840000002e-07\n"
     ]
    }
   ],
   "source": [
    "IDH1_synonymous = synonymous_mutation_rate_across_gene('IDH1', IDH1_coding_sequence, IDH1_coding_sequence_extra_bases, 40, 138)"
   ]
  },
  {
   "cell_type": "markdown",
   "metadata": {},
   "source": [
    "#### Mutation rate for excluded synonymous IDH1 variants"
   ]
  },
  {
   "cell_type": "code",
   "execution_count": 103,
   "metadata": {
    "code_folding": [
     0
    ]
   },
   "outputs": [],
   "source": [
    "#Create a dictionary of the excluded synonymous variants in IDH1:\n",
    "import csv\n",
    "filename=\"Young_excluded_synonymous_1000_genomes.csv\"\n",
    "\n",
    "with open(filename, 'r') as csvfile:\n",
    "    read_reader = csv.reader(csvfile)  #csv.reader returns a reader object which will iterate over lines in the csvfile\n",
    "    row_count=0\n",
    "    excluded_IDH1_synonymous_variants={} #dictionary of DNMTA results (key = ID (row[13]), value = VAF (row[10]))\n",
    "\n",
    "    for row in read_reader:\n",
    "#         print(row)\n",
    "        if row_count>0:\n",
    "            gene = row[0]\n",
    "            variant = row[1]\n",
    "            AA_coordinate = row[11]\n",
    "            variant_ID = row[2]\n",
    "            if row[0]=='IDH1':\n",
    "                excluded_IDH1_synonymous_variants[variant]=(gene, AA_coordinate, variant_ID)\n",
    "\n",
    "        row_count=row_count+1"
   ]
  },
  {
   "cell_type": "code",
   "execution_count": 104,
   "metadata": {
    "scrolled": false
   },
   "outputs": [
    {
     "name": "stdout",
     "output_type": "stream",
     "text": [
      "Total summed mutation rate across excluded synonymous variants =  6.7927890000000006e-09\n"
     ]
    }
   ],
   "source": [
    "IDH1_excluded = synonymous_excluded_variants_mutation_rate('IDH1', IDH1_coding_sequence, IDH1_coding_sequence_extra_bases, \\\n",
    "                                                           excluded_IDH1_synonymous_variants)"
   ]
  },
  {
   "cell_type": "markdown",
   "metadata": {},
   "source": [
    "#### Total synonymous mutation rate for IDH1"
   ]
  },
  {
   "cell_type": "code",
   "execution_count": 105,
   "metadata": {
    "code_folding": [
     0
    ],
    "scrolled": true
   },
   "outputs": [
    {
     "name": "stdout",
     "output_type": "stream",
     "text": [
      "Synonymous mutation rate across IDH1 =  2.2039046940000002e-07\n"
     ]
    }
   ],
   "source": [
    "#Subtract the mutation rate of the excluded variants from the total mutation rate for IDH1 synonymous variants across the panel\n",
    "IDH1 = IDH1_synonymous - IDH1_excluded\n",
    "print(\"Synonymous mutation rate across IDH1 = \", IDH1)"
   ]
  },
  {
   "cell_type": "markdown",
   "metadata": {
    "collapsed": true
   },
   "source": [
    "## IDH2 (exon 4)"
   ]
  },
  {
   "cell_type": "markdown",
   "metadata": {},
   "source": [
    "- ENST00000330062.3 transcript.\n",
    "- No excluded variants in these regions."
   ]
  },
  {
   "cell_type": "markdown",
   "metadata": {},
   "source": [
    "#### Mutation rate for synonymous variants across IDH2 regions included in panel"
   ]
  },
  {
   "cell_type": "code",
   "execution_count": 106,
   "metadata": {},
   "outputs": [],
   "source": [
    "IDH2_coding_sequence = 'ATGGCCGGCTACCTGCGGGTCGTGCGCTCGCTCTGCAGAGCCTCAGGCTCGCGGCCGGCCTGGGCGCCGGCGGCCCTGACAGCCCCCACCTCGCAAGAGCAGCCGCGGCGCCACTATGCCGACAAAAGGATCAAGGTGGCGAAGCCCGTGGTGGAGATGGATGGTGATGAGATGACCCGTATTATCTGGCAGTTCATCAAGGAGAAGCTCATCCTGCCCCACGTGGACATCCAGCTAAAGTATTTTGACCTCGGGCTCCCAAACCGTGACCAGACTGATGACCAGGTCACCATTGACTCTGCACTGGCCACCCAGAAGTACAGTGTGGCTGTCAAGTGTGCCACCATCACCCCTGATGAGGCCCGTGTGGAAGAGTTCAAGCTGAAGAAGATGTGGAAAAGTCCCAATGGAACTATCCGGAACATCCTGGGGGGGACTGTCTTCCGGGAGCCCATCATCTGCAAAAACATCCCACGCCTAGTCCCTGGCTGGACCAAGCCCATCACCATTGGCAGGCACGCCCATGGCGACCAGTACAAGGCCACAGACTTTGTGGCAGACCGGGCCGGCACTTTCAAAATGGTCTTCACCCCAAAAGATGGCAGTGGTGTCAAGGAGTGGGAAGTGTACAACTTCCCCGCAGGCGGCGTGGGCATGGGCATGTACAACACCGACGAGTCCATCTCAGGTTTTGCGCACAGCTGCTTCCAGTATGCCATCCAGAAGAAATGGCCGCTGTACATGAGCACCAAGAACACCATACTGAAAGCCTACGATGGGCGTTTCAAGGACATCTTCCAGGAGATCTTTGACAAGCACTATAAGACCGACTTCGACAAGAATAAGATCTGGTATGAGCACCGGCTCATTGATGACATGGTGGCTCAGGTCCTCAAGTCTTCGGGTGGCTTTGTGTGGGCCTGCAAGAACTATGACGGAGATGTGCAGTCAGACATCCTGGCCCAGGGCTTTGGCTCCCTTGGCCTGATGACGTCCGTCCTGGTCTGCCCTGATGGGAAGACGATTGAGGCTGAGGCCGCTCATGGGACCGTCACCCGCCACTATCGGGAGCACCAGAAGGGCCGGCCCACCAGCACCAACCCCATCGCCAGCATCTTTGCCTGGACACGTGGCCTGGAGCACCGGGGGAAGCTGGATGGGAACCAAGACCTCATCAGGTTTGCCCAGATGCTGGAGAAGGTGTGCGTGGAGACGGTGGAGAGTGGAGCCATGACCAAGGACCTGGCGGGCTGCATTCACGGCCTCAGCAATGTGAAGCTGAACGAGCACTTCCTGAACACCACGGACTTCCTCGACACCATCAAGAGCAACCTGGACAGAGCCCTGGGCAGGCAGTAG'\n",
    "IDH2_coding_sequence_extra_bases = 'GATGGCCGGCTACCTGCGGGTCGTGCGCTCGCTCTGCAGAGCCTCAGGCTCGCGGCCGGCCTGGGCGCCGGCGGCCCTGACAGCCCCCACCTCGCAAGAGCAGCCGCGGCGCCACTATGCCGACAAAAGGATCAAGGTGGCGAAGCCCGTGGTGGAGATGGATGGTGATGAGATGACCCGTATTATCTGGCAGTTCATCAAGGAGAAGCTCATCCTGCCCCACGTGGACATCCAGCTAAAGTATTTTGACCTCGGGCTCCCAAACCGTGACCAGACTGATGACCAGGTCACCATTGACTCTGCACTGGCCACCCAGAAGTACAGTGTGGCTGTCAAGTGTGCCACCATCACCCCTGATGAGGCCCGTGTGGAAGAGTTCAAGCTGAAGAAGATGTGGAAAAGTCCCAATGGAACTATCCGGAACATCCTGGGGGGGACTGTCTTCCGGGAGCCCATCATCTGCAAAAACATCCCACGCCTAGTCCCTGGCTGGACCAAGCCCATCACCATTGGCAGGCACGCCCATGGCGACCAGTACAAGGCCACAGACTTTGTGGCAGACCGGGCCGGCACTTTCAAAATGGTCTTCACCCCAAAAGATGGCAGTGGTGTCAAGGAGTGGGAAGTGTACAACTTCCCCGCAGGCGGCGTGGGCATGGGCATGTACAACACCGACGAGTCCATCTCAGGTTTTGCGCACAGCTGCTTCCAGTATGCCATCCAGAAGAAATGGCCGCTGTACATGAGCACCAAGAACACCATACTGAAAGCCTACGATGGGCGTTTCAAGGACATCTTCCAGGAGATCTTTGACAAGCACTATAAGACCGACTTCGACAAGAATAAGATCTGGTATGAGCACCGGCTCATTGATGACATGGTGGCTCAGGTCCTCAAGTCTTCGGGTGGCTTTGTGTGGGCCTGCAAGAACTATGACGGAGATGTGCAGTCAGACATCCTGGCCCAGGGCTTTGGCTCCCTTGGCCTGATGACGTCCGTCCTGGTCTGCCCTGATGGGAAGACGATTGAGGCTGAGGCCGCTCATGGGACCGTCACCCGCCACTATCGGGAGCACCAGAAGGGCCGGCCCACCAGCACCAACCCCATCGCCAGCATCTTTGCCTGGACACGTGGCCTGGAGCACCGGGGGAAGCTGGATGGGAACCAAGACCTCATCAGGTTTGCCCAGATGCTGGAGAAGGTGTGCGTGGAGACGGTGGAGAGTGGAGCCATGACCAAGGACCTGGCGGGCTGCATTCACGGCCTCAGCAATGTGAAGCTGAACGAGCACTTCCTGAACACCACGGACTTCCTCGACACCATCAAGAGCAACCTGGACAGAGCCCTGGGCAGGCAGTAGG'"
   ]
  },
  {
   "cell_type": "code",
   "execution_count": 107,
   "metadata": {},
   "outputs": [
    {
     "name": "stdout",
     "output_type": "stream",
     "text": [
      "Total summed synonymous mutation rate across region =  1.9570909909999998e-07\n"
     ]
    }
   ],
   "source": [
    "IDH2 = synonymous_mutation_rate_across_gene('IDH2', IDH2_coding_sequence, IDH2_coding_sequence_extra_bases, 124, 178)"
   ]
  },
  {
   "cell_type": "markdown",
   "metadata": {},
   "source": [
    "## IKZF1"
   ]
  },
  {
   "cell_type": "markdown",
   "metadata": {},
   "source": [
    "- ENST00000331340.3 transcript."
   ]
  },
  {
   "cell_type": "markdown",
   "metadata": {},
   "source": [
    "#### Mutation rate for synonymous variants across IKZF1 regions included in panel"
   ]
  },
  {
   "cell_type": "code",
   "execution_count": 108,
   "metadata": {},
   "outputs": [],
   "source": [
    "IKZF1_coding_sequence = 'ATGGATGCTGATGAGGGTCAAGACATGTCCCAAGTTTCAGGGAAGGAAAGCCCCCCTGTAAGCGATACTCCAGATGAGGGCGATGAGCCCATGCCGATCCCCGAGGACCTCTCCACCACCTCGGGAGGACAGCAAAGCTCCAAGAGTGACAGAGTCGTGGCCAGTAATGTTAAAGTAGAGACTCAGAGTGATGAAGAGAATGGGCGTGCCTGTGAAATGAATGGGGAAGAATGTGCGGAGGATTTACGAATGCTTGATGCCTCGGGAGAGAAAATGAATGGCTCCCACAGGGACCAAGGCAGCTCGGCTTTGTCGGGAGTTGGAGGCATTCGACTTCCTAACGGAAAACTAAAGTGTGATATCTGTGGGATCATTTGCATCGGGCCCAATGTGCTCATGGTTCACAAAAGAAGCCACACTGGAGAACGGCCCTTCCAGTGCAATCAGTGCGGGGCCTCATTCACCCAGAAGGGCAACCTGCTCCGGCACATCAAGCTGCATTCCGGGGAGAAGCCCTTCAAATGCCACCTCTGCAACTACGCCTGCCGCCGGAGGGACGCCCTCACTGGCCACCTGAGGACGCACTCCGTTGGTAAACCTCACAAATGTGGATATTGTGGCCGAAGCTATAAACAGCGAAGCTCTTTAGAGGAACATAAAGAGCGCTGCCACAACTACTTGGAAAGCATGGGCCTTCCGGGCACACTGTACCCAGTCATTAAAGAAGAAACTAATCACAGTGAAATGGCAGAAGACCTGTGCAAGATAGGATCAGAGAGATCTCTCGTGCTGGACAGACTAGCAAGTAACGTCGCCAAACGTAAGAGCTCTATGCCTCAGAAATTTCTTGGGGACAAGGGCCTGTCCGACACGCCCTACGACAGCAGCGCCAGCTACGAGAAGGAGAACGAAATGATGAAGTCCCACGTGATGGACCAAGCCATCAACAACGCCATCAACTACCTGGGGGCCGAGTCCCTGCGCCCGCTGGTGCAGACGCCCCCGGGCGGTTCCGAGGTGGTCCCGGTCATCAGCCCGATGTACCAGCTGCACAAGCCGCTCGCGGAGGGCACCCCGCGCTCCAACCACTCGGCCCAGGACAGCGCCGTGGAGAACCTGCTGCTGCTCTCCAAGGCCAAGTTGGTGCCCTCGGAGCGCGAGGCGTCCCCGAGCAACAGCTGCCAAGACTCCACGGACACCGAGAGCAACAACGAGGAGCAGCGCAGCGGTCTCATCTACCTGACCAACCACATCGCCCCGCACGCGCGCAACGGGCTGTCGCTCAAGGAGGAGCACCGCGCCTACGACCTGCTGCGCGCCGCCTCCGAGAACTCGCAGGACGCGCTCCGCGTGGTCAGCACCAGCGGGGAGCAGATGAAGGTGTACAAGTGCGAACACTGCCGGGTGCTCTTCCTGGATCACGTCATGTACACCATCCACATGGGCTGCCACGGCTTCCGTGATCCTTTTGAGTGCAACATGTGCGGCTACCACAGCCAGGACCGGTACGAGTTCTCGTCGCACATAACGCGAGGGGAGCACCGCTTCCACATGAGCTAA'\n",
    "IKZF1_coding_sequence_extra_bases = 'CATGGATGCTGATGAGGGTCAAGACATGTCCCAAGTTTCAGGGAAGGAAAGCCCCCCTGTAAGCGATACTCCAGATGAGGGCGATGAGCCCATGCCGATCCCCGAGGACCTCTCCACCACCTCGGGAGGACAGCAAAGCTCCAAGAGTGACAGAGTCGTGGCCAGTAATGTTAAAGTAGAGACTCAGAGTGATGAAGAGAATGGGCGTGCCTGTGAAATGAATGGGGAAGAATGTGCGGAGGATTTACGAATGCTTGATGCCTCGGGAGAGAAAATGAATGGCTCCCACAGGGACCAAGGCAGCTCGGCTTTGTCGGGAGTTGGAGGCATTCGACTTCCTAACGGAAAACTAAAGTGTGATATCTGTGGGATCATTTGCATCGGGCCCAATGTGCTCATGGTTCACAAAAGAAGCCACACTGGAGAACGGCCCTTCCAGTGCAATCAGTGCGGGGCCTCATTCACCCAGAAGGGCAACCTGCTCCGGCACATCAAGCTGCATTCCGGGGAGAAGCCCTTCAAATGCCACCTCTGCAACTACGCCTGCCGCCGGAGGGACGCCCTCACTGGCCACCTGAGGACGCACTCCGTTGGTAAACCTCACAAATGTGGATATTGTGGCCGAAGCTATAAACAGCGAAGCTCTTTAGAGGAACATAAAGAGCGCTGCCACAACTACTTGGAAAGCATGGGCCTTCCGGGCACACTGTACCCAGTCATTAAAGAAGAAACTAATCACAGTGAAATGGCAGAAGACCTGTGCAAGATAGGATCAGAGAGATCTCTCGTGCTGGACAGACTAGCAAGTAACGTCGCCAAACGTAAGAGCTCTATGCCTCAGAAATTTCTTGGGGACAAGGGCCTGTCCGACACGCCCTACGACAGCAGCGCCAGCTACGAGAAGGAGAACGAAATGATGAAGTCCCACGTGATGGACCAAGCCATCAACAACGCCATCAACTACCTGGGGGCCGAGTCCCTGCGCCCGCTGGTGCAGACGCCCCCGGGCGGTTCCGAGGTGGTCCCGGTCATCAGCCCGATGTACCAGCTGCACAAGCCGCTCGCGGAGGGCACCCCGCGCTCCAACCACTCGGCCCAGGACAGCGCCGTGGAGAACCTGCTGCTGCTCTCCAAGGCCAAGTTGGTGCCCTCGGAGCGCGAGGCGTCCCCGAGCAACAGCTGCCAAGACTCCACGGACACCGAGAGCAACAACGAGGAGCAGCGCAGCGGTCTCATCTACCTGACCAACCACATCGCCCCGCACGCGCGCAACGGGCTGTCGCTCAAGGAGGAGCACCGCGCCTACGACCTGCTGCGCGCCGCCTCCGAGAACTCGCAGGACGCGCTCCGCGTGGTCAGCACCAGCGGGGAGCAGATGAAGGTGTACAAGTGCGAACACTGCCGGGTGCTCTTCCTGGATCACGTCATGTACACCATCCACATGGGCTGCCACGGCTTCCGTGATCCTTTTGAGTGCAACATGTGCGGCTACCACAGCCAGGACCGGTACGAGTTCTCGTCGCACATAACGCGAGGGGAGCACCGCTTCCACATGAGCTAAA'"
   ]
  },
  {
   "cell_type": "code",
   "execution_count": 109,
   "metadata": {},
   "outputs": [
    {
     "name": "stdout",
     "output_type": "stream",
     "text": [
      "Total summed synonymous mutation rate across region =  2.337169303e-06\n"
     ]
    }
   ],
   "source": [
    "IKZF1_synonymous = synonymous_mutation_rate_across_gene('IKZF1', IKZF1_coding_sequence, IKZF1_coding_sequence_extra_bases, 0, 519)"
   ]
  },
  {
   "cell_type": "markdown",
   "metadata": {},
   "source": [
    "#### Mutation rate for excluded synonymous IKZF1 variants"
   ]
  },
  {
   "cell_type": "code",
   "execution_count": 110,
   "metadata": {
    "code_folding": [
     0
    ]
   },
   "outputs": [],
   "source": [
    "#Create a dictionary of the excluded synonymous variants in IKZF1:\n",
    "import csv\n",
    "filename=\"Young_excluded_synonymous_1000_genomes.csv\"\n",
    "\n",
    "with open(filename, 'r') as csvfile:\n",
    "    read_reader = csv.reader(csvfile)  #csv.reader returns a reader object which will iterate over lines in the csvfile\n",
    "    row_count=0\n",
    "    excluded_IKZF1_synonymous_variants={} #dictionary of DNMTA results (key = ID (row[13]), value = VAF (row[10]))\n",
    "\n",
    "    for row in read_reader:\n",
    "#         print(row)\n",
    "        if row_count>0:\n",
    "            gene = row[0]\n",
    "            variant = row[1]\n",
    "            AA_coordinate = row[11]\n",
    "            variant_ID = row[2]\n",
    "            if row[0]=='IKZF1':\n",
    "                excluded_IKZF1_synonymous_variants[variant]=(gene, AA_coordinate, variant_ID)\n",
    "\n",
    "        row_count=row_count+1"
   ]
  },
  {
   "cell_type": "code",
   "execution_count": 111,
   "metadata": {
    "scrolled": false
   },
   "outputs": [
    {
     "name": "stdout",
     "output_type": "stream",
     "text": [
      "Total summed mutation rate across excluded synonymous variants =  7.133527e-09\n"
     ]
    }
   ],
   "source": [
    "IKZF1_excluded = synonymous_excluded_variants_mutation_rate('IKZF1', IKZF1_coding_sequence, IKZF1_coding_sequence_extra_bases, \\\n",
    "                                                           excluded_IKZF1_synonymous_variants)"
   ]
  },
  {
   "cell_type": "markdown",
   "metadata": {},
   "source": [
    "#### Total synonymous mutation rate for IKZF1"
   ]
  },
  {
   "cell_type": "code",
   "execution_count": 112,
   "metadata": {
    "code_folding": [
     0
    ],
    "scrolled": true
   },
   "outputs": [
    {
     "name": "stdout",
     "output_type": "stream",
     "text": [
      "Synonymous mutation rate across IKZF1 =  2.330035776e-06\n"
     ]
    }
   ],
   "source": [
    "#Subtract the mutation rate of the excluded variants from the total mutation rate for IKZF1 synonymous variants across the panel\n",
    "IKZF1 = IKZF1_synonymous - IKZF1_excluded\n",
    "print(\"Synonymous mutation rate across IKZF1 = \", IKZF1)"
   ]
  },
  {
   "cell_type": "markdown",
   "metadata": {},
   "source": [
    "## JAK2"
   ]
  },
  {
   "cell_type": "markdown",
   "metadata": {},
   "source": [
    "- ENST00000381652.3 transcript.\n",
    "- No excluded variants in these regions."
   ]
  },
  {
   "cell_type": "markdown",
   "metadata": {},
   "source": [
    "#### Mutation rate for synonymous variants across JAK2 regions included in panel"
   ]
  },
  {
   "cell_type": "code",
   "execution_count": 113,
   "metadata": {},
   "outputs": [],
   "source": [
    "JAK2_coding_sequence = 'ATGGGAATGGCCTGCCTTACGATGACAGAAATGGAGGGAACATCCACCTCTTCTATATATCAGAATGGTGATATTTCTGGAAATGCCAATTCTATGAAGCAAATAGATCCAGTTCTTCAGGTGTATCTTTACCATTCCCTTGGGAAATCTGAGGCAGATTATCTGACCTTTCCATCTGGGGAGTATGTTGCAGAAGAAATCTGTATTGCTGCTTCTAAAGCTTGTGGTATCACACCTGTGTATCATAATATGTTTGCTTTAATGAGTGAAACAGAAAGGATCTGGTATCCACCCAACCATGTCTTCCATATAGATGAGTCAACCAGGCATAATGTACTCTACAGAATAAGATTTTACTTTCCTCGTTGGTATTGCAGTGGCAGCAACAGAGCCTATCGGCATGGAATATCTCGAGGTGCTGAAGCTCCTCTTCTTGATGACTTTGTCATGTCTTACCTCTTTGCTCAGTGGCGGCATGATTTTGTGCACGGATGGATAAAAGTACCTGTGACTCATGAAACACAGGAAGAATGTCTTGGGATGGCAGTGTTAGATATGATGAGAATAGCCAAAGAAAACGATCAAACCCCACTGGCCATCTATAACTCTATCAGCTACAAGACATTCTTACCAAAATGTATTCGAGCAAAGATCCAAGACTATCATATTTTGACAAGGAAGCGAATAAGGTACAGATTTCGCAGATTTATTCAGCAATTCAGCCAATGCAAAGCCACTGCCAGAAACTTGAAACTTAAGTATCTTATAAATCTGGAAACTCTGCAGTCTGCCTTCTACACAGAGAAATTTGAAGTAAAAGAACCTGGAAGTGGTCCTTCAGGTGAGGAGATTTTTGCAACCATTATAATAACTGGAAACGGTGGAATTCAGTGGTCAAGAGGGAAACATAAAGAAAGTGAGACACTGACAGAACAGGATTTACAGTTATATTGCGATTTTCCTAATATTATTGATGTCAGTATTAAGCAAGCAAACCAAGAGGGTTCAAATGAAAGCCGAGTTGTAACTATCCATAAGCAAGATGGTAAAAATCTGGAAATTGAACTTAGCTCATTAAGGGAAGCTTTGTCTTTCGTGTCATTAATTGATGGATATTATAGATTAACTGCAGATGCACATCATTACCTCTGTAAAGAAGTAGCACCTCCAGCCGTGCTTGAAAATATACAAAGCAACTGTCATGGCCCAATTTCGATGGATTTTGCCATTAGTAAACTGAAGAAAGCAGGTAATCAGACTGGACTGTATGTACTTCGATGCAGTCCTAAGGACTTTAATAAATATTTTTTGACTTTTGCTGTCGAGCGAGAAAATGTCATTGAATATAAACACTGTTTGATTACAAAAAATGAGAATGAAGAGTACAACCTCAGTGGGACAAAGAAGAACTTCAGCAGTCTTAAAGATCTTTTGAATTGTTACCAGATGGAAACTGTTCGCTCAGACAATATAATTTTCCAGTTTACTAAATGCTGTCCCCCAAAGCCAAAAGATAAATCAAACCTTCTAGTCTTCAGAACGAATGGTGTTTCTGATGTACCAACCTCACCAACATTACAGAGGCCTACTCATATGAACCAAATGGTGTTTCACAAAATCAGAAATGAAGATTTGATATTTAATGAAAGCCTTGGCCAAGGCACTTTTACAAAGATTTTTAAAGGCGTACGAAGAGAAGTAGGAGACTACGGTCAACTGCATGAAACAGAAGTTCTTTTAAAAGTTCTGGATAAAGCACACAGAAACTATTCAGAGTCTTTCTTTGAAGCAGCAAGTATGATGAGCAAGCTTTCTCACAAGCATTTGGTTTTAAATTATGGAGTATGTGTCTGTGGAGACGAGAATATTCTGGTTCAGGAGTTTGTAAAATTTGGATCACTAGATACATATCTGAAAAAGAATAAAAATTGTATAAATATATTATGGAAACTTGAAGTTGCTAAACAGTTGGCATGGGCCATGCATTTTCTAGAAGAAAACACCCTTATTCATGGGAATGTATGTGCCAAAAATATTCTGCTTATCAGAGAAGAAGACAGGAAGACAGGAAATCCTCCTTTCATCAAACTTAGTGATCCTGGCATTAGTATTACAGTTTTGCCAAAGGACATTCTTCAGGAGAGAATACCATGGGTACCACCTGAATGCATTGAAAATCCTAAAAATTTAAATTTGGCAACAGACAAATGGAGTTTTGGTACCACTTTGTGGGAAATCTGCAGTGGAGGAGATAAACCTCTAAGTGCTCTGGATTCTCAAAGAAAGCTACAATTTTATGAAGATAGGCATCAGCTTCCTGCACCAAAGTGGGCAGAATTAGCAAACCTTATAAATAATTGTATGGATTATGAACCAGATTTCAGGCCTTCTTTCAGAGCCATCATACGAGATCTTAACAGTTTGTTTACTCCAGATTATGAACTATTAACAGAAAATGACATGTTACCAAATATGAGGATAGGTGCCCTGGGGTTTTCTGGTGCCTTTGAAGACCGGGATCCTACACAGTTTGAAGAGAGACATTTGAAATTTCTACAGCAACTTGGCAAGGGTAATTTTGGGAGTGTGGAGATGTGCCGGTATGACCCTCTACAGGACAACACTGGGGAGGTGGTCGCTGTAAAAAAGCTTCAGCATAGTACTGAAGAGCACCTAAGAGACTTTGAAAGGGAAATTGAAATCCTGAAATCCCTACAGCATGACAACATTGTAAAGTACAAGGGAGTGTGCTACAGTGCTGGTCGGCGTAATCTAAAATTAATTATGGAATATTTACCATATGGAAGTTTACGAGACTATCTTCAAAAACATAAAGAACGGATAGATCACATAAAACTTCTGCAGTACACATCTCAGATATGCAAGGGTATGGAGTATCTTGGTACAAAAAGGTATATCCACAGGGATCTGGCAACGAGAAATATATTGGTGGAGAACGAGAACAGAGTTAAAATTGGAGATTTTGGGTTAACCAAAGTCTTGCCACAAGACAAAGAATACTATAAAGTAAAAGAACCTGGTGAAAGTCCCATATTCTGGTATGCTCCAGAATCACTGACAGAGAGCAAGTTTTCTGTGGCCTCAGATGTTTGGAGCTTTGGAGTGGTTCTGTATGAACTTTTCACATACATTGAGAAGAGTAAAAGTCCACCAGCGGAATTTATGCGTATGATTGGCAATGACAAACAAGGACAGATGATCGTGTTCCATTTGATAGAACTTTTGAAGAATAATGGAAGATTACCAAGACCAGATGGATGCCCAGATGAGATCTATATGATCATGACAGAATGCTGGAACAATAATGTAAATCAACGCCCCTCCTTTAGGGATCTAGCTCTTCGAGTGGATCAAATAAGGGATAACATGGCTGGATGA'\n",
    "JAK2_coding_sequence_extra_bases = 'CATGGGAATGGCCTGCCTTACGATGACAGAAATGGAGGGAACATCCACCTCTTCTATATATCAGAATGGTGATATTTCTGGAAATGCCAATTCTATGAAGCAAATAGATCCAGTTCTTCAGGTGTATCTTTACCATTCCCTTGGGAAATCTGAGGCAGATTATCTGACCTTTCCATCTGGGGAGTATGTTGCAGAAGAAATCTGTATTGCTGCTTCTAAAGCTTGTGGTATCACACCTGTGTATCATAATATGTTTGCTTTAATGAGTGAAACAGAAAGGATCTGGTATCCACCCAACCATGTCTTCCATATAGATGAGTCAACCAGGCATAATGTACTCTACAGAATAAGATTTTACTTTCCTCGTTGGTATTGCAGTGGCAGCAACAGAGCCTATCGGCATGGAATATCTCGAGGTGCTGAAGCTCCTCTTCTTGATGACTTTGTCATGTCTTACCTCTTTGCTCAGTGGCGGCATGATTTTGTGCACGGATGGATAAAAGTACCTGTGACTCATGAAACACAGGAAGAATGTCTTGGGATGGCAGTGTTAGATATGATGAGAATAGCCAAAGAAAACGATCAAACCCCACTGGCCATCTATAACTCTATCAGCTACAAGACATTCTTACCAAAATGTATTCGAGCAAAGATCCAAGACTATCATATTTTGACAAGGAAGCGAATAAGGTACAGATTTCGCAGATTTATTCAGCAATTCAGCCAATGCAAAGCCACTGCCAGAAACTTGAAACTTAAGTATCTTATAAATCTGGAAACTCTGCAGTCTGCCTTCTACACAGAGAAATTTGAAGTAAAAGAACCTGGAAGTGGTCCTTCAGGTGAGGAGATTTTTGCAACCATTATAATAACTGGAAACGGTGGAATTCAGTGGTCAAGAGGGAAACATAAAGAAAGTGAGACACTGACAGAACAGGATTTACAGTTATATTGCGATTTTCCTAATATTATTGATGTCAGTATTAAGCAAGCAAACCAAGAGGGTTCAAATGAAAGCCGAGTTGTAACTATCCATAAGCAAGATGGTAAAAATCTGGAAATTGAACTTAGCTCATTAAGGGAAGCTTTGTCTTTCGTGTCATTAATTGATGGATATTATAGATTAACTGCAGATGCACATCATTACCTCTGTAAAGAAGTAGCACCTCCAGCCGTGCTTGAAAATATACAAAGCAACTGTCATGGCCCAATTTCGATGGATTTTGCCATTAGTAAACTGAAGAAAGCAGGTAATCAGACTGGACTGTATGTACTTCGATGCAGTCCTAAGGACTTTAATAAATATTTTTTGACTTTTGCTGTCGAGCGAGAAAATGTCATTGAATATAAACACTGTTTGATTACAAAAAATGAGAATGAAGAGTACAACCTCAGTGGGACAAAGAAGAACTTCAGCAGTCTTAAAGATCTTTTGAATTGTTACCAGATGGAAACTGTTCGCTCAGACAATATAATTTTCCAGTTTACTAAATGCTGTCCCCCAAAGCCAAAAGATAAATCAAACCTTCTAGTCTTCAGAACGAATGGTGTTTCTGATGTACCAACCTCACCAACATTACAGAGGCCTACTCATATGAACCAAATGGTGTTTCACAAAATCAGAAATGAAGATTTGATATTTAATGAAAGCCTTGGCCAAGGCACTTTTACAAAGATTTTTAAAGGCGTACGAAGAGAAGTAGGAGACTACGGTCAACTGCATGAAACAGAAGTTCTTTTAAAAGTTCTGGATAAAGCACACAGAAACTATTCAGAGTCTTTCTTTGAAGCAGCAAGTATGATGAGCAAGCTTTCTCACAAGCATTTGGTTTTAAATTATGGAGTATGTGTCTGTGGAGACGAGAATATTCTGGTTCAGGAGTTTGTAAAATTTGGATCACTAGATACATATCTGAAAAAGAATAAAAATTGTATAAATATATTATGGAAACTTGAAGTTGCTAAACAGTTGGCATGGGCCATGCATTTTCTAGAAGAAAACACCCTTATTCATGGGAATGTATGTGCCAAAAATATTCTGCTTATCAGAGAAGAAGACAGGAAGACAGGAAATCCTCCTTTCATCAAACTTAGTGATCCTGGCATTAGTATTACAGTTTTGCCAAAGGACATTCTTCAGGAGAGAATACCATGGGTACCACCTGAATGCATTGAAAATCCTAAAAATTTAAATTTGGCAACAGACAAATGGAGTTTTGGTACCACTTTGTGGGAAATCTGCAGTGGAGGAGATAAACCTCTAAGTGCTCTGGATTCTCAAAGAAAGCTACAATTTTATGAAGATAGGCATCAGCTTCCTGCACCAAAGTGGGCAGAATTAGCAAACCTTATAAATAATTGTATGGATTATGAACCAGATTTCAGGCCTTCTTTCAGAGCCATCATACGAGATCTTAACAGTTTGTTTACTCCAGATTATGAACTATTAACAGAAAATGACATGTTACCAAATATGAGGATAGGTGCCCTGGGGTTTTCTGGTGCCTTTGAAGACCGGGATCCTACACAGTTTGAAGAGAGACATTTGAAATTTCTACAGCAACTTGGCAAGGGTAATTTTGGGAGTGTGGAGATGTGCCGGTATGACCCTCTACAGGACAACACTGGGGAGGTGGTCGCTGTAAAAAAGCTTCAGCATAGTACTGAAGAGCACCTAAGAGACTTTGAAAGGGAAATTGAAATCCTGAAATCCCTACAGCATGACAACATTGTAAAGTACAAGGGAGTGTGCTACAGTGCTGGTCGGCGTAATCTAAAATTAATTATGGAATATTTACCATATGGAAGTTTACGAGACTATCTTCAAAAACATAAAGAACGGATAGATCACATAAAACTTCTGCAGTACACATCTCAGATATGCAAGGGTATGGAGTATCTTGGTACAAAAAGGTATATCCACAGGGATCTGGCAACGAGAAATATATTGGTGGAGAACGAGAACAGAGTTAAAATTGGAGATTTTGGGTTAACCAAAGTCTTGCCACAAGACAAAGAATACTATAAAGTAAAAGAACCTGGTGAAAGTCCCATATTCTGGTATGCTCCAGAATCACTGACAGAGAGCAAGTTTTCTGTGGCCTCAGATGTTTGGAGCTTTGGAGTGGTTCTGTATGAACTTTTCACATACATTGAGAAGAGTAAAAGTCCACCAGCGGAATTTATGCGTATGATTGGCAATGACAAACAAGGACAGATGATCGTGTTCCATTTGATAGAACTTTTGAAGAATAATGGAAGATTACCAAGACCAGATGGATGCCCAGATGAGATCTATATGATCATGACAGAATGCTGGAACAATAATGTAAATCAACGCCCCTCCTTTAGGGATCTAGCTCTTCGAGTGGATCAAATAAGGGATAACATGGCTGGATGAA'"
   ]
  },
  {
   "cell_type": "code",
   "execution_count": 114,
   "metadata": {},
   "outputs": [
    {
     "name": "stdout",
     "output_type": "stream",
     "text": [
      "Total summed synonymous mutation rate across region =  8.455079320000001e-08\n"
     ]
    }
   ],
   "source": [
    "JAK2_12 = synonymous_mutation_rate_across_gene('JAK2', JAK2_coding_sequence, JAK2_coding_sequence_extra_bases, 504, 547)"
   ]
  },
  {
   "cell_type": "code",
   "execution_count": 115,
   "metadata": {},
   "outputs": [
    {
     "name": "stdout",
     "output_type": "stream",
     "text": [
      "Total summed synonymous mutation rate across region =  5.5147127099999997e-08\n"
     ]
    }
   ],
   "source": [
    "JAK2_14 = synonymous_mutation_rate_across_gene('JAK2', JAK2_coding_sequence, JAK2_coding_sequence_extra_bases, 592, 622)"
   ]
  },
  {
   "cell_type": "markdown",
   "metadata": {},
   "source": [
    "## JAK3"
   ]
  },
  {
   "cell_type": "markdown",
   "metadata": {},
   "source": [
    "- ENST00000458235.1 transcript.\n",
    "- No excluded variants in these regions."
   ]
  },
  {
   "cell_type": "markdown",
   "metadata": {},
   "source": [
    "#### Mutation rate for synonymous variants across JAK3 regions included in panel"
   ]
  },
  {
   "cell_type": "code",
   "execution_count": 116,
   "metadata": {},
   "outputs": [],
   "source": [
    "JAK3_coding_sequence = 'ATGGCACCTCCAAGTGAAGAGACGCCCCTGATCCCTCAGCGTTCATGCAGCCTCTTGTCCACGGAGGCTGGTGCCCTGCATGTGCTGCTGCCCGCTCGGGGCCCCGGGCCCCCCCAGCGCCTATCTTTCTCCTTTGGGGACCACTTGGCTGAGGACCTGTGCGTGCAGGCTGCCAAGGCCAGCGGCATCCTGCCTGTGTACCACTCCCTCTTTGCTCTGGCCACGGAGGACCTGTCCTGCTGGTTCCCCCCGAGCCACATCTTCTCCGTGGAGGATGCCAGCACCCAAGTCCTGCTGTACAGGATTCGCTTTTACTTCCCCAATTGGTTTGGGCTGGAGAAGTGCCACCGCTTCGGGCTACGCAAGGATTTGGCCAGTGCTATCCTTGACCTGCCAGTCCTGGAGCACCTCTTTGCCCAGCACCGCAGTGACCTGGTGAGTGGGCGCCTCCCCGTGGGCCTCAGTCTCAAGGAGCAGGGTGAGTGTCTCAGCCTGGCCGTGTTGGACCTGGCCCGGATGGCGCGAGAGCAGGCCCAGCGGCCGGGAGAGCTGCTGAAGACTGTCAGCTACAAGGCCTGCCTACCCCCAAGCCTGCGCGACCTGATCCAGGGCCTGAGCTTCGTGACGCGGAGGCGTATTCGGAGGACGGTGCGCAGAGCCCTGCGCCGCGTGGCCGCCTGCCAGGCAGACCGGCACTCGCTCATGGCCAAGTACATCATGGACCTGGAGCGGCTGGATCCAGCCGGGGCCGCCGAGACCTTCCACGTGGGCCTCCCTGGGGCCCTTGGTGGCCACGACGGGCTGGGGCTGCTCCGCGTGGCTGGTGACGGCGGCATCGCCTGGACCCAGGGAGAACAGGAGGTCCTCCAGCCCTTCTGCGACTTTCCAGAAATCGTAGACATTAGCATCAAGCAGGCCCCGCGCGTTGGCCCGGCCGGAGAGCACCGCCTGGTCACTGTTACCAGGACAGACAACCAGATTTTAGAGGCCGAGTTCCCAGGGCTGCCCGAGGCTCTGTCGTTCGTGGCGCTCGTGGACGGCTACTTCCGGCTGACCACGGACTCCCAGCACTTCTTCTGCAAGGAGGTGGCACCGCCGAGGCTGCTGGAGGAAGTGGCCGAGCAGTGCCACGGCCCCATCACTCTGGACTTTGCCATCAACAAGCTCAAGACTGGGGGCTCACGTCCTGGCTCCTATGTTCTCCGCCGCAGCCCCCAGGACTTTGACAGCTTCCTCCTCACTGTCTGTGTCCAGAACCCCCTTGGTCCTGATTATAAGGGCTGCCTCATCCGGCGCAGCCCCACAGGAACCTTCCTTCTGGTTGGCCTCAGCCGACCCCACAGCAGTCTTCGAGAGCTCCTGGCAACCTGCTGGGATGGGGGGCTGCACGTAGATGGGGTGGCAGTGACCCTCACTTCCTGCTGTATCCCCAGACCCAAAGAAAAGTCCAACCTGATCGTGGTCCAGAGAGGTCACAGCCCACCCACATCATCCTTGGTTCAGCCCCAATCCCAATACCAGCTGAGTCAGATGACATTTCACAAGATCCCTGCTGACAGCCTGGAGTGGCATGAGAACCTGGGCCATGGGTCCTTCACCAAGATTTACCGGGGCTGTCGCCATGAGGTGGTGGATGGGGAGGCCCGAAAGACAGAGGTGCTGCTGAAGGTCATGGATGCCAAGCACAAGAACTGCATGGAGTCATTCCTGGAAGCAGCGAGCTTGATGAGCCAAGTGTCGTACCGGCATCTCGTGCTGCTCCACGGCGTGTGCATGGCTGGAGACAGCACCATGGTGCAGGAATTTGTACACCTGGGGGCCATAGACATGTATCTGCGAAAACGTGGCCACCTGGTGCCAGCCAGCTGGAAGCTGCAGGTGGTCAAACAGCTGGCCTACGCCCTCAACTATCTGGAGGACAAAGGCCTGCCCCATGGCAATGTCTCTGCCCGGAAGGTGCTCCTGGCTCGGGAGGGGGCTGATGGGAGCCCGCCCTTCATCAAGCTGAGTGACCCTGGGGTCAGCCCCGCTGTGTTAAGCCTGGAGATGCTCACCGACAGGATCCCCTGGGTGGCCCCCGAGTGTCTCCGGGAGGCGCAGACACTTAGCTTGGAAGCTGACAAGTGGGGCTTCGGCGCCACGGTCTGGGAAGTGTTTAGTGGCGTCACCATGCCCATCAGTGCCCTGGATCCTGCTAAGAAACTCCAATTTTATGAGGACCGGCAGCAGCTGCCGGCCCCCAAGTGGACAGAGCTGGCCCTGCTGATTCAACAGTGCATGGCCTATGAGCCGGTCCAGAGGCCCTCCTTCCGAGCCGTCATTCGTGACCTCAATAGCCTCATCTCTTCAGACTATGAGCTCCTCTCAGACCCCACACCTGGTGCCCTGGCACCTCGTGATGGGCTGTGGAATGGTGCCCAGCTCTATGCCTGCCAAGACCCCACGATCTTCGAGGAGAGACACCTCAAGTACATCTCACAGCTGGGCAAGGGCAACTTTGGCAGCGTGGAGCTGTGCCGCTATGACCCGCTAGGCGACAATACAGGTGCCCTGGTGGCCGTGAAACAGCTGCAGCACAGCGGGCCAGACCAGCAGAGGGACTTTCAGCGGGAGATTCAGATCCTCAAAGCACTGCACAGTGATTTCATTGTCAAGTATCGTGGTGTCAGCTATGGCCCGGGCCGCCAGAGCCTGCGGCTGGTCATGGAGTACCTGCCCAGCGGCTGCTTGCGCGACTTCCTGCAGCGGCACCGCGCGCGCCTCGATGCCAGCCGCCTCCTTCTCTATTCCTCGCAGATCTGCAAGGGCATGGAGTACCTGGGCTCCCGCCGCTGCGTGCACCGCGACCTGGCCGCCCGAAACATCCTCGTGGAGAGCGAGGCACACGTCAAGATCGCTGACTTCGGCCTAGCTAAGCTGCTGCCGCTTGACAAAGACTACTACGTGGTCCGCGAGCCAGGCCAGAGCCCCATTTTCTGGTATGCCCCCGAATCCCTCTCGGACAACATCTTCTCTCGCCAGTCAGACGTCTGGAGCTTCGGGGTCGTCCTGTACGAGCTCTTCACCTACTGCGACAAAAGCTGCAGCCCCTCGGCCGAGTTCCTGCGGATGATGGGATGTGAGCGGGATGTCCCCGCCCTCTGCCGCCTCTTGGAACTGCTGGAGGAGGGCCAGAGGCTGCCGGCGCCTCCTGCCTGCCCTGCTGAGGTTCACGAGCTCATGAAGCTGTGCTGGGCCCCTAGCCCACAGGACCGGCCATCATTCAGCGCCCTGGGCCCCCAGCTGGACATGCTGTGGAGCGGAAGCCGGGGGTGTGAGACTCATGCCTTCACTGCTCACCCAGAGGGCAAACACCACTCCCTGTCCTTTTCATAG'\n",
    "JAK3_coding_sequence_extra_bases = 'CATGGCACCTCCAAGTGAAGAGACGCCCCTGATCCCTCAGCGTTCATGCAGCCTCTTGTCCACGGAGGCTGGTGCCCTGCATGTGCTGCTGCCCGCTCGGGGCCCCGGGCCCCCCCAGCGCCTATCTTTCTCCTTTGGGGACCACTTGGCTGAGGACCTGTGCGTGCAGGCTGCCAAGGCCAGCGGCATCCTGCCTGTGTACCACTCCCTCTTTGCTCTGGCCACGGAGGACCTGTCCTGCTGGTTCCCCCCGAGCCACATCTTCTCCGTGGAGGATGCCAGCACCCAAGTCCTGCTGTACAGGATTCGCTTTTACTTCCCCAATTGGTTTGGGCTGGAGAAGTGCCACCGCTTCGGGCTACGCAAGGATTTGGCCAGTGCTATCCTTGACCTGCCAGTCCTGGAGCACCTCTTTGCCCAGCACCGCAGTGACCTGGTGAGTGGGCGCCTCCCCGTGGGCCTCAGTCTCAAGGAGCAGGGTGAGTGTCTCAGCCTGGCCGTGTTGGACCTGGCCCGGATGGCGCGAGAGCAGGCCCAGCGGCCGGGAGAGCTGCTGAAGACTGTCAGCTACAAGGCCTGCCTACCCCCAAGCCTGCGCGACCTGATCCAGGGCCTGAGCTTCGTGACGCGGAGGCGTATTCGGAGGACGGTGCGCAGAGCCCTGCGCCGCGTGGCCGCCTGCCAGGCAGACCGGCACTCGCTCATGGCCAAGTACATCATGGACCTGGAGCGGCTGGATCCAGCCGGGGCCGCCGAGACCTTCCACGTGGGCCTCCCTGGGGCCCTTGGTGGCCACGACGGGCTGGGGCTGCTCCGCGTGGCTGGTGACGGCGGCATCGCCTGGACCCAGGGAGAACAGGAGGTCCTCCAGCCCTTCTGCGACTTTCCAGAAATCGTAGACATTAGCATCAAGCAGGCCCCGCGCGTTGGCCCGGCCGGAGAGCACCGCCTGGTCACTGTTACCAGGACAGACAACCAGATTTTAGAGGCCGAGTTCCCAGGGCTGCCCGAGGCTCTGTCGTTCGTGGCGCTCGTGGACGGCTACTTCCGGCTGACCACGGACTCCCAGCACTTCTTCTGCAAGGAGGTGGCACCGCCGAGGCTGCTGGAGGAAGTGGCCGAGCAGTGCCACGGCCCCATCACTCTGGACTTTGCCATCAACAAGCTCAAGACTGGGGGCTCACGTCCTGGCTCCTATGTTCTCCGCCGCAGCCCCCAGGACTTTGACAGCTTCCTCCTCACTGTCTGTGTCCAGAACCCCCTTGGTCCTGATTATAAGGGCTGCCTCATCCGGCGCAGCCCCACAGGAACCTTCCTTCTGGTTGGCCTCAGCCGACCCCACAGCAGTCTTCGAGAGCTCCTGGCAACCTGCTGGGATGGGGGGCTGCACGTAGATGGGGTGGCAGTGACCCTCACTTCCTGCTGTATCCCCAGACCCAAAGAAAAGTCCAACCTGATCGTGGTCCAGAGAGGTCACAGCCCACCCACATCATCCTTGGTTCAGCCCCAATCCCAATACCAGCTGAGTCAGATGACATTTCACAAGATCCCTGCTGACAGCCTGGAGTGGCATGAGAACCTGGGCCATGGGTCCTTCACCAAGATTTACCGGGGCTGTCGCCATGAGGTGGTGGATGGGGAGGCCCGAAAGACAGAGGTGCTGCTGAAGGTCATGGATGCCAAGCACAAGAACTGCATGGAGTCATTCCTGGAAGCAGCGAGCTTGATGAGCCAAGTGTCGTACCGGCATCTCGTGCTGCTCCACGGCGTGTGCATGGCTGGAGACAGCACCATGGTGCAGGAATTTGTACACCTGGGGGCCATAGACATGTATCTGCGAAAACGTGGCCACCTGGTGCCAGCCAGCTGGAAGCTGCAGGTGGTCAAACAGCTGGCCTACGCCCTCAACTATCTGGAGGACAAAGGCCTGCCCCATGGCAATGTCTCTGCCCGGAAGGTGCTCCTGGCTCGGGAGGGGGCTGATGGGAGCCCGCCCTTCATCAAGCTGAGTGACCCTGGGGTCAGCCCCGCTGTGTTAAGCCTGGAGATGCTCACCGACAGGATCCCCTGGGTGGCCCCCGAGTGTCTCCGGGAGGCGCAGACACTTAGCTTGGAAGCTGACAAGTGGGGCTTCGGCGCCACGGTCTGGGAAGTGTTTAGTGGCGTCACCATGCCCATCAGTGCCCTGGATCCTGCTAAGAAACTCCAATTTTATGAGGACCGGCAGCAGCTGCCGGCCCCCAAGTGGACAGAGCTGGCCCTGCTGATTCAACAGTGCATGGCCTATGAGCCGGTCCAGAGGCCCTCCTTCCGAGCCGTCATTCGTGACCTCAATAGCCTCATCTCTTCAGACTATGAGCTCCTCTCAGACCCCACACCTGGTGCCCTGGCACCTCGTGATGGGCTGTGGAATGGTGCCCAGCTCTATGCCTGCCAAGACCCCACGATCTTCGAGGAGAGACACCTCAAGTACATCTCACAGCTGGGCAAGGGCAACTTTGGCAGCGTGGAGCTGTGCCGCTATGACCCGCTAGGCGACAATACAGGTGCCCTGGTGGCCGTGAAACAGCTGCAGCACAGCGGGCCAGACCAGCAGAGGGACTTTCAGCGGGAGATTCAGATCCTCAAAGCACTGCACAGTGATTTCATTGTCAAGTATCGTGGTGTCAGCTATGGCCCGGGCCGCCAGAGCCTGCGGCTGGTCATGGAGTACCTGCCCAGCGGCTGCTTGCGCGACTTCCTGCAGCGGCACCGCGCGCGCCTCGATGCCAGCCGCCTCCTTCTCTATTCCTCGCAGATCTGCAAGGGCATGGAGTACCTGGGCTCCCGCCGCTGCGTGCACCGCGACCTGGCCGCCCGAAACATCCTCGTGGAGAGCGAGGCACACGTCAAGATCGCTGACTTCGGCCTAGCTAAGCTGCTGCCGCTTGACAAAGACTACTACGTGGTCCGCGAGCCAGGCCAGAGCCCCATTTTCTGGTATGCCCCCGAATCCCTCTCGGACAACATCTTCTCTCGCCAGTCAGACGTCTGGAGCTTCGGGGTCGTCCTGTACGAGCTCTTCACCTACTGCGACAAAAGCTGCAGCCCCTCGGCCGAGTTCCTGCGGATGATGGGATGTGAGCGGGATGTCCCCGCCCTCTGCCGCCTCTTGGAACTGCTGGAGGAGGGCCAGAGGCTGCCGGCGCCTCCTGCCTGCCCTGCTGAGGTTCACGAGCTCATGAAGCTGTGCTGGGCCCCTAGCCCACAGGACCGGCCATCATTCAGCGCCCTGGGCCCCCAGCTGGACATGCTGTGGAGCGGAAGCCGGGGGTGTGAGACTCATGCCTTCACTGCTCACCCAGAGGGCAAACACCACTCCCTGTCCTTTTCATAGC'"
   ]
  },
  {
   "cell_type": "code",
   "execution_count": 117,
   "metadata": {},
   "outputs": [
    {
     "name": "stdout",
     "output_type": "stream",
     "text": [
      "Total summed synonymous mutation rate across region =  1.793004351e-07\n"
     ]
    }
   ],
   "source": [
    "JAK3 = synonymous_mutation_rate_across_gene('JAK3', JAK3_coding_sequence, JAK3_coding_sequence_extra_bases, 595, 638)"
   ]
  },
  {
   "cell_type": "markdown",
   "metadata": {},
   "source": [
    "## KDM6A"
   ]
  },
  {
   "cell_type": "markdown",
   "metadata": {},
   "source": [
    "- ENST00000377967.4 transcript."
   ]
  },
  {
   "cell_type": "markdown",
   "metadata": {},
   "source": [
    "#### Mutation rate for synonymous variants across KDM6A regions included in panel"
   ]
  },
  {
   "cell_type": "code",
   "execution_count": 118,
   "metadata": {},
   "outputs": [],
   "source": [
    "KDM6A_coding_sequence = 'ATGAAATCCTGCGGAGTGTCGCTCGCTACCGCCGCCGCTGCCGCCGCCGCTTTCGGTGATGAGGAAAAGAAAATGGCGGCGGGAAAAGCGAGCGGCGAGAGCGAGGAGGCGTCCCCCAGCCTGACAGCCGAGGAGAGGGAGGCGCTCGGCGGACTGGACAGCCGCCTCTTTGGGTTCGTGAGATTTCATGAAGATGGCGCCAGGACGAAGGCCCTACTGGGCAAGGCTGTTCGCTGCTATGAATCTCTAATCTTAAAAGCTGAAGGAAAAGTGGAGTCTGATTTCTTTTGTCAATTAGGTCACTTCAACCTCTTATTGGAAGATTATCCAAAAGCATTATCTGCATACCAGAGGTACTACAGTTTACAGTCTGACTACTGGAAGAATGCTGCCTTTTTATATGGTCTTGGTTTGGTCTACTTCCATTATAATGCATTTCAGTGGGCAATTAAAGCATTTCAGGAGGTGCTTTATGTTGATCCCAGCTTTTGTCGAGCCAAGGAAATTCATTTACGACTTGGGCTTATGTTCAAAGTGAACACAGACTATGAGTCTAGTTTAAAGCATTTTCAGTTAGCTTTGGTTGACTGTAATCCCTGCACTTTGTCCAATGCTGAAATTCAATTTCACATTGCCCACTTATATGAAACCCAGAGGAAATATCATTCTGCAAAAGAAGCTTATGAACAACTTTTGCAGACAGAGAATCTTTCTGCACAAGTAAAAGCAACTGTCTTACAACAGTTAGGTTGGATGCATCACACTGTAGATCTCCTGGGAGATAAAGCCACCAAGGAAAGCTATGCTATTCAGTATCTCCAAAAGTCCTTGGAAGCAGATCCTAATTCTGGCCAGTCCTGGTATTTCCTCGGAAGGTGCTATTCAAGTATTGGGAAAGTTCAGGATGCCTTTATATCTTACAGGCAGTCTATTGATAAATCAGAAGCAAGTGCAGATACATGGTGTTCAATAGGTGTGCTATATCAGCAGCAAAATCAGCCCATGGATGCTTTACAGGCCTATATTTGTGCTGTACAATTGGACCATGGCCATGCTGCAGCCTGGATGGACCTAGGCACTCTCTATGAATCCTGCAACCAGCCTCAGGATGCCATTAAATGCTACTTAAATGCAACTAGAAGCAAAAGTTGTAGTAATACCTCTGCACTTGCAGCACGAATTAAGTATTTACAGGCTCAGTTGTGTAACCTTCCACAAGGTAGTCTACAGAATAAAACTAAATTACTTCCTAGTATTGAGGAGGCGTGGAGCCTACCAATTCCCGCAGAGCTTACCTCCAGGCAGGGTGCCATGAACACAGCACAGCAGAATACTTCTGACAATTGGAGTGGTGGACATGCTGTGTCACATCCTCCAGTACAGCAACAAGCTCATTCATGGTGTTTGACACCACAGAAATTACAGCATTTGGAACAGCTCCGCGCAAATAGAAATAATTTAAATCCAGCACAGAAACTGATGCTGGAACAGCTGGAAAGTCAGTTTGTCTTAATGCAACAACACCAAATGAGACCAACAGGAGTTGCACAGGTACGATCTACTGGAATTCCTAATGGGCCAACAGCTGACTCATCACTGCCTACAAACTCAGTCTCTGGCCAGCAGCCACAGCTTGCTCTGACCAGAGTGCCTAGCGTCTCTCAGCCTGGAGTCCGTCCTGCCTGCCCTGGGCAGCCTTTGGCCAATGGACCCTTTTCTGCAGGCCATGTTCCCTGTAGCACATCAAGAACGCTGGGAAGTACAGACACTATTTTGATAGGCAATAATCATATAACAGGAAGTGGAAGTAATGGAAACGTGCCTTACCTGCAGCGAAACGCACTCACTCTACCTCATAACCGCACAAACCTGACCAGCAGCGCAGAGGAGCCGTGGAAAAACCAACTATCTAACTCCACTCAGGGGCTTCACAAAGGTCAGAGTTCACATTCGGCAGGTCCTAATGGTGAACGACCTCTCTCTTCCACTGGGCCTTCCCAGCATCTCCAGGCAGCTGGCTCTGGTATTCAGAATCAGAACGGACATCCCACCCTGCCTAGCAATTCAGTAACACAGGGGGCTGCTCTCAATCACCTCTCCTCTCACACTGCTACCTCAGGTGGACAACAAGGCATTACCTTAACCAAAGAGAGCAAGCCTTCAGGAAACATATTGACGGTGCCTGAAACAAGCAGGCACACTGGAGAGACACCTAACAGCACTGCCAGTGTCGAGGGACTTCCTAATCATGTCCATCAGATGACGGCAGATGCTGTTTGCAGTCCTAGCCATGGAGATTCTAAGTCACCAGGTTTACTAAGTTCAGACAATCCTCAGCTCTCTGCCTTGTTGATGGGAAAAGCCAATAACAATGTGGGTACTGGAACCTGTGACAAAGTCAATAACATCCACCCAGCTGTTCATACAAAGACTGATAACTCTGTTGCCTCTTCACCATCTTCAGCCATTTCAACAGCAACACCTTCTCCAAAATCCACTGAGCAGACAACCACAAACAGTGTTACCAGCCTTAACAGCCCTCACAGTGGGCTACACACAATTAATGGAGAAGGGATGGAAGAATCTCAGAGCCCCATGAAAACAGATCTGCTTCTGGTTAACCACAAACCTAGTCCACAGATCATACCATCAATGTCTGTGTCCATATACCCCAGCTCAGCAGAAGTTCTGAAGGCATGCAGGAATCTAGGTAAAAATGGCTTATCTAACAGTAGCATTTTGTTGGATAAATGTCCACCTCCAAGACCACCATCTTCACCATACCCTCCCTTGCCAAAGGACAAGTTGAATCCACCTACACCTAGTATTTACTTGGAAAATAAACGTGATGCTTTCTTTCCTCCATTACATCAATTTTGTACAAATCCGAACAACCCTGTTACAGTAATACGTGGCCTTGCTGGAGCTCTTAAGTTAGACCTGGGACTTTTCTCTACTAAAACTTTGGTGGAAGCTAACAATGAACATATGGTAGAAGTGAGGACACAGTTGTTGCAGCCAGCAGATGAAAACTGGGATCCCACTGGAACAAAGAAAATCTGGCATTGTGAAAGTAATAGATCTCATACTACAATTGCTAAATATGCACAGTACCAGGCCTCCTCATTCCAGGAATCATTGAGAGAAGAAAATGAAAAAAGAAGTCATCATAAAGACCACTCAGATAGTGAATCTACATCGTCAGATAATTCTGGGAGGAGGAGGAAAGGACCCTTTAAAACCATAAAGTTTGGGACCAATATTGACCTATCTGATGACAAAAAGTGGAAGTTGCAGCTACATGAGCTGACTAAACTTCCTGCTTTTGTGCGTGTCGTATCAGCAGGAAATCTTCTAAGCCATGTTGGTCATACCATATTGGGCATGAACACAGTTCAACTATACATGAAAGTTCCAGGGAGCAGAACACCAGGTCATCAGGAAAATAACAACTTCTGTTCAGTTAACATAAATATTGGCCCAGGTGACTGTGAATGGTTTGTTGTTCCTGAAGGTTACTGGGGTGTTCTGAATGACTTCTGTGAAAAAAATAATTTGAATTTCCTAATGGGTTCTTGGTGGCCCAATCTTGAAGATCTTTATGAAGCAAATGTTCCAGTGTATAGGTTTATTCAGCGACCTGGAGATTTGGTCTGGATAAATGCAGGCACTGTTCATTGGGTTCAGGCTATTGGCTGGTGCAACAACATTGCTTGGAATGTTGGTCCACTTACAGCCTGCCAGTATAAATTGGCAGTGGAACGGTACGAATGGAACAAATTGCAAAGTGTGAAGTCAATAGTACCCATGGTTCATCTTTCCTGGAATATGGCACGAAATATCAAGGTCTCAGATCCAAAGCTTTTTGAAATGATTAAGTATTGTCTTCTAAGAACTCTGAAGCAATGTCAGACATTGAGGGAAGCTCTCATTGCTGCAGGAAAAGAGATTATATGGCATGGGCGGACAAAAGAAGAACCAGCTCATTACTGTAGCATTTGTGAAGTGGAGGTTTTTGATCTGCTTTTTGTCACTAATGAGAGTAATTCACGAAAGACCTACATAGTACATTGCCAAGATTGTGCACGAAAAACAAGCGGAAACTTGGAAAACTTTGTGGTGCTAGAACAGTACAAAATGGAGGACCTGATGCAAGTCTATGACCAATTTACATTAGCTCCTCCATTACCATCCGCCTCATCTTGA'\n",
    "KDM6A_coding_sequence_extra_bases = 'CATGAAATCCTGCGGAGTGTCGCTCGCTACCGCCGCCGCTGCCGCCGCCGCTTTCGGTGATGAGGAAAAGAAAATGGCGGCGGGAAAAGCGAGCGGCGAGAGCGAGGAGGCGTCCCCCAGCCTGACAGCCGAGGAGAGGGAGGCGCTCGGCGGACTGGACAGCCGCCTCTTTGGGTTCGTGAGATTTCATGAAGATGGCGCCAGGACGAAGGCCCTACTGGGCAAGGCTGTTCGCTGCTATGAATCTCTAATCTTAAAAGCTGAAGGAAAAGTGGAGTCTGATTTCTTTTGTCAATTAGGTCACTTCAACCTCTTATTGGAAGATTATCCAAAAGCATTATCTGCATACCAGAGGTACTACAGTTTACAGTCTGACTACTGGAAGAATGCTGCCTTTTTATATGGTCTTGGTTTGGTCTACTTCCATTATAATGCATTTCAGTGGGCAATTAAAGCATTTCAGGAGGTGCTTTATGTTGATCCCAGCTTTTGTCGAGCCAAGGAAATTCATTTACGACTTGGGCTTATGTTCAAAGTGAACACAGACTATGAGTCTAGTTTAAAGCATTTTCAGTTAGCTTTGGTTGACTGTAATCCCTGCACTTTGTCCAATGCTGAAATTCAATTTCACATTGCCCACTTATATGAAACCCAGAGGAAATATCATTCTGCAAAAGAAGCTTATGAACAACTTTTGCAGACAGAGAATCTTTCTGCACAAGTAAAAGCAACTGTCTTACAACAGTTAGGTTGGATGCATCACACTGTAGATCTCCTGGGAGATAAAGCCACCAAGGAAAGCTATGCTATTCAGTATCTCCAAAAGTCCTTGGAAGCAGATCCTAATTCTGGCCAGTCCTGGTATTTCCTCGGAAGGTGCTATTCAAGTATTGGGAAAGTTCAGGATGCCTTTATATCTTACAGGCAGTCTATTGATAAATCAGAAGCAAGTGCAGATACATGGTGTTCAATAGGTGTGCTATATCAGCAGCAAAATCAGCCCATGGATGCTTTACAGGCCTATATTTGTGCTGTACAATTGGACCATGGCCATGCTGCAGCCTGGATGGACCTAGGCACTCTCTATGAATCCTGCAACCAGCCTCAGGATGCCATTAAATGCTACTTAAATGCAACTAGAAGCAAAAGTTGTAGTAATACCTCTGCACTTGCAGCACGAATTAAGTATTTACAGGCTCAGTTGTGTAACCTTCCACAAGGTAGTCTACAGAATAAAACTAAATTACTTCCTAGTATTGAGGAGGCGTGGAGCCTACCAATTCCCGCAGAGCTTACCTCCAGGCAGGGTGCCATGAACACAGCACAGCAGAATACTTCTGACAATTGGAGTGGTGGACATGCTGTGTCACATCCTCCAGTACAGCAACAAGCTCATTCATGGTGTTTGACACCACAGAAATTACAGCATTTGGAACAGCTCCGCGCAAATAGAAATAATTTAAATCCAGCACAGAAACTGATGCTGGAACAGCTGGAAAGTCAGTTTGTCTTAATGCAACAACACCAAATGAGACCAACAGGAGTTGCACAGGTACGATCTACTGGAATTCCTAATGGGCCAACAGCTGACTCATCACTGCCTACAAACTCAGTCTCTGGCCAGCAGCCACAGCTTGCTCTGACCAGAGTGCCTAGCGTCTCTCAGCCTGGAGTCCGTCCTGCCTGCCCTGGGCAGCCTTTGGCCAATGGACCCTTTTCTGCAGGCCATGTTCCCTGTAGCACATCAAGAACGCTGGGAAGTACAGACACTATTTTGATAGGCAATAATCATATAACAGGAAGTGGAAGTAATGGAAACGTGCCTTACCTGCAGCGAAACGCACTCACTCTACCTCATAACCGCACAAACCTGACCAGCAGCGCAGAGGAGCCGTGGAAAAACCAACTATCTAACTCCACTCAGGGGCTTCACAAAGGTCAGAGTTCACATTCGGCAGGTCCTAATGGTGAACGACCTCTCTCTTCCACTGGGCCTTCCCAGCATCTCCAGGCAGCTGGCTCTGGTATTCAGAATCAGAACGGACATCCCACCCTGCCTAGCAATTCAGTAACACAGGGGGCTGCTCTCAATCACCTCTCCTCTCACACTGCTACCTCAGGTGGACAACAAGGCATTACCTTAACCAAAGAGAGCAAGCCTTCAGGAAACATATTGACGGTGCCTGAAACAAGCAGGCACACTGGAGAGACACCTAACAGCACTGCCAGTGTCGAGGGACTTCCTAATCATGTCCATCAGATGACGGCAGATGCTGTTTGCAGTCCTAGCCATGGAGATTCTAAGTCACCAGGTTTACTAAGTTCAGACAATCCTCAGCTCTCTGCCTTGTTGATGGGAAAAGCCAATAACAATGTGGGTACTGGAACCTGTGACAAAGTCAATAACATCCACCCAGCTGTTCATACAAAGACTGATAACTCTGTTGCCTCTTCACCATCTTCAGCCATTTCAACAGCAACACCTTCTCCAAAATCCACTGAGCAGACAACCACAAACAGTGTTACCAGCCTTAACAGCCCTCACAGTGGGCTACACACAATTAATGGAGAAGGGATGGAAGAATCTCAGAGCCCCATGAAAACAGATCTGCTTCTGGTTAACCACAAACCTAGTCCACAGATCATACCATCAATGTCTGTGTCCATATACCCCAGCTCAGCAGAAGTTCTGAAGGCATGCAGGAATCTAGGTAAAAATGGCTTATCTAACAGTAGCATTTTGTTGGATAAATGTCCACCTCCAAGACCACCATCTTCACCATACCCTCCCTTGCCAAAGGACAAGTTGAATCCACCTACACCTAGTATTTACTTGGAAAATAAACGTGATGCTTTCTTTCCTCCATTACATCAATTTTGTACAAATCCGAACAACCCTGTTACAGTAATACGTGGCCTTGCTGGAGCTCTTAAGTTAGACCTGGGACTTTTCTCTACTAAAACTTTGGTGGAAGCTAACAATGAACATATGGTAGAAGTGAGGACACAGTTGTTGCAGCCAGCAGATGAAAACTGGGATCCCACTGGAACAAAGAAAATCTGGCATTGTGAAAGTAATAGATCTCATACTACAATTGCTAAATATGCACAGTACCAGGCCTCCTCATTCCAGGAATCATTGAGAGAAGAAAATGAAAAAAGAAGTCATCATAAAGACCACTCAGATAGTGAATCTACATCGTCAGATAATTCTGGGAGGAGGAGGAAAGGACCCTTTAAAACCATAAAGTTTGGGACCAATATTGACCTATCTGATGACAAAAAGTGGAAGTTGCAGCTACATGAGCTGACTAAACTTCCTGCTTTTGTGCGTGTCGTATCAGCAGGAAATCTTCTAAGCCATGTTGGTCATACCATATTGGGCATGAACACAGTTCAACTATACATGAAAGTTCCAGGGAGCAGAACACCAGGTCATCAGGAAAATAACAACTTCTGTTCAGTTAACATAAATATTGGCCCAGGTGACTGTGAATGGTTTGTTGTTCCTGAAGGTTACTGGGGTGTTCTGAATGACTTCTGTGAAAAAAATAATTTGAATTTCCTAATGGGTTCTTGGTGGCCCAATCTTGAAGATCTTTATGAAGCAAATGTTCCAGTGTATAGGTTTATTCAGCGACCTGGAGATTTGGTCTGGATAAATGCAGGCACTGTTCATTGGGTTCAGGCTATTGGCTGGTGCAACAACATTGCTTGGAATGTTGGTCCACTTACAGCCTGCCAGTATAAATTGGCAGTGGAACGGTACGAATGGAACAAATTGCAAAGTGTGAAGTCAATAGTACCCATGGTTCATCTTTCCTGGAATATGGCACGAAATATCAAGGTCTCAGATCCAAAGCTTTTTGAAATGATTAAGTATTGTCTTCTAAGAACTCTGAAGCAATGTCAGACATTGAGGGAAGCTCTCATTGCTGCAGGAAAAGAGATTATATGGCATGGGCGGACAAAAGAAGAACCAGCTCATTACTGTAGCATTTGTGAAGTGGAGGTTTTTGATCTGCTTTTTGTCACTAATGAGAGTAATTCACGAAAGACCTACATAGTACATTGCCAAGATTGTGCACGAAAAACAAGCGGAAACTTGGAAAACTTTGTGGTGCTAGAACAGTACAAAATGGAGGACCTGATGCAAGTCTATGACCAATTTACATTAGCTCCTCCATTACCATCCGCCTCATCTTGAT'"
   ]
  },
  {
   "cell_type": "code",
   "execution_count": 119,
   "metadata": {},
   "outputs": [
    {
     "name": "stdout",
     "output_type": "stream",
     "text": [
      "Total summed synonymous mutation rate across region =  3.4188737187e-06\n"
     ]
    }
   ],
   "source": [
    "KDM6A_synonymous = synonymous_mutation_rate_across_gene('KDM6A', KDM6A_coding_sequence, KDM6A_coding_sequence_extra_bases, 0, 1402)"
   ]
  },
  {
   "cell_type": "markdown",
   "metadata": {},
   "source": [
    "#### Mutation rate for excluded synonymous KDM6A variants"
   ]
  },
  {
   "cell_type": "code",
   "execution_count": 120,
   "metadata": {
    "code_folding": [
     0
    ]
   },
   "outputs": [],
   "source": [
    "#Create a dictionary of the excluded synonymous variants in KDM6A:\n",
    "import csv\n",
    "filename=\"Young_excluded_synonymous_1000_genomes.csv\"\n",
    "\n",
    "with open(filename, 'r') as csvfile:\n",
    "    read_reader = csv.reader(csvfile)  #csv.reader returns a reader object which will iterate over lines in the csvfile\n",
    "    row_count=0\n",
    "    excluded_KDM6A_synonymous_variants={} #dictionary of DNMTA results (key = ID (row[13]), value = VAF (row[10]))\n",
    "\n",
    "    for row in read_reader:\n",
    "#         print(row)\n",
    "        if row_count>0:\n",
    "            gene = row[0]\n",
    "            variant = row[1]\n",
    "            AA_coordinate = row[11]\n",
    "            variant_ID = row[2]\n",
    "            if row[0]=='KDM6A':\n",
    "                excluded_KDM6A_synonymous_variants[variant]=(gene, AA_coordinate, variant_ID)\n",
    "\n",
    "        row_count=row_count+1"
   ]
  },
  {
   "cell_type": "code",
   "execution_count": 121,
   "metadata": {
    "scrolled": false
   },
   "outputs": [
    {
     "name": "stdout",
     "output_type": "stream",
     "text": [
      "Total summed mutation rate across excluded synonymous variants =  1.453e-09\n"
     ]
    }
   ],
   "source": [
    "KDM6A_excluded = synonymous_excluded_variants_mutation_rate('KDM6A', KDM6A_coding_sequence, KDM6A_coding_sequence_extra_bases, \\\n",
    "                                                           excluded_KDM6A_synonymous_variants)"
   ]
  },
  {
   "cell_type": "markdown",
   "metadata": {},
   "source": [
    "#### Total synonymous mutation rate for KDM6A"
   ]
  },
  {
   "cell_type": "code",
   "execution_count": 122,
   "metadata": {
    "code_folding": [
     0
    ],
    "scrolled": true
   },
   "outputs": [
    {
     "name": "stdout",
     "output_type": "stream",
     "text": [
      "Synonymous mutation rate across KDM6A =  3.4174207187e-06\n"
     ]
    }
   ],
   "source": [
    "#Subtract the mutation rate of the excluded variants from the total mutation rate for KDM6A synonymous variants across the panel\n",
    "KDM6A = KDM6A_synonymous - KDM6A_excluded\n",
    "print(\"Synonymous mutation rate across KDM6A = \", KDM6A)"
   ]
  },
  {
   "cell_type": "markdown",
   "metadata": {},
   "source": [
    "## KIT (exons 2, 8-11, 13, 17)"
   ]
  },
  {
   "cell_type": "markdown",
   "metadata": {},
   "source": [
    "- ENST00000288135.5 transcript."
   ]
  },
  {
   "cell_type": "markdown",
   "metadata": {},
   "source": [
    "#### Mutation rate for synonymous variants across KIT regions included in panel"
   ]
  },
  {
   "cell_type": "code",
   "execution_count": 123,
   "metadata": {},
   "outputs": [],
   "source": [
    "KIT_coding_sequence = 'ATGAGAGGCGCTCGCGGCGCCTGGGATTTTCTCTGCGTTCTGCTCCTACTGCTTCGCGTCCAGACAGGCTCTTCTCAACCATCTGTGAGTCCAGGGGAACCGTCTCCACCATCCATCCATCCAGGAAAATCAGACTTAATAGTCCGCGTGGGCGACGAGATTAGGCTGTTATGCACTGATCCGGGCTTTGTCAAATGGACTTTTGAGATCCTGGATGAAACGAATGAGAATAAGCAGAATGAATGGATCACGGAAAAGGCAGAAGCCACCAACACCGGCAAATACACGTGCACCAACAAACACGGCTTAAGCAATTCCATTTATGTGTTTGTTAGAGATCCTGCCAAGCTTTTCCTTGTTGACCGCTCCTTGTATGGGAAAGAAGACAACGACACGCTGGTCCGCTGTCCTCTCACAGACCCAGAAGTGACCAATTATTCCCTCAAGGGGTGCCAGGGGAAGCCTCTTCCCAAGGACTTGAGGTTTATTCCTGACCCCAAGGCGGGCATCATGATCAAAAGTGTGAAACGCGCCTACCATCGGCTCTGTCTGCATTGTTCTGTGGACCAGGAGGGCAAGTCAGTGCTGTCGGAAAAATTCATCCTGAAAGTGAGGCCAGCCTTCAAAGCTGTGCCTGTTGTGTCTGTGTCCAAAGCAAGCTATCTTCTTAGGGAAGGGGAAGAATTCACAGTGACGTGCACAATAAAAGATGTGTCTAGTTCTGTGTACTCAACGTGGAAAAGAGAAAACAGTCAGACTAAACTACAGGAGAAATATAATAGCTGGCATCACGGTGACTTCAATTATGAACGTCAGGCAACGTTGACTATCAGTTCAGCGAGAGTTAATGATTCTGGAGTGTTCATGTGTTATGCCAATAATACTTTTGGATCAGCAAATGTCACAACAACCTTGGAAGTAGTAGATAAAGGATTCATTAATATCTTCCCCATGATAAACACTACAGTATTTGTAAACGATGGAGAAAATGTAGATTTGATTGTTGAATATGAAGCATTCCCCAAACCTGAACACCAGCAGTGGATCTATATGAACAGAACCTTCACTGATAAATGGGAAGATTATCCCAAGTCTGAGAATGAAAGTAATATCAGATACGTAAGTGAACTTCATCTAACGAGATTAAAAGGCACCGAAGGAGGCACTTACACATTCCTAGTGTCCAATTCTGACGTCAATGCTGCCATAGCATTTAATGTTTATGTGAATACAAAACCAGAAATCCTGACTTACGACAGGCTCGTGAATGGCATGCTCCAATGTGTGGCAGCAGGATTCCCAGAGCCCACAATAGATTGGTATTTTTGTCCAGGAACTGAGCAGAGATGCTCTGCTTCTGTACTGCCAGTGGATGTGCAGACACTAAACTCATCTGGGCCACCGTTTGGAAAGCTAGTGGTTCAGAGTTCTATAGATTCTAGTGCATTCAAGCACAATGGCACGGTTGAATGTAAGGCTTACAACGATGTGGGCAAGACTTCTGCCTATTTTAACTTTGCATTTAAAGGTAACAACAAAGAGCAAATCCATCCCCACACCCTGTTCACTCCTTTGCTGATTGGTTTCGTAATCGTAGCTGGCATGATGTGCATTATTGTGATGATTCTGACCTACAAATATTTACAGAAACCCATGTATGAAGTACAGTGGAAGGTTGTTGAGGAGATAAATGGAAACAATTATGTTTACATAGACCCAACACAACTTCCTTATGATCACAAATGGGAGTTTCCCAGAAACAGGCTGAGTTTTGGGAAAACCCTGGGTGCTGGAGCTTTCGGGAAGGTTGTTGAGGCAACTGCTTATGGCTTAATTAAGTCAGATGCGGCCATGACTGTCGCTGTAAAGATGCTCAAGCCGAGTGCCCATTTGACAGAACGGGAAGCCCTCATGTCTGAACTCAAAGTCCTGAGTTACCTTGGTAATCACATGAATATTGTGAATCTACTTGGAGCCTGCACCATTGGAGGGCCCACCCTGGTCATTACAGAATATTGTTGCTATGGTGATCTTTTGAATTTTTTGAGAAGAAAACGTGATTCATTTATTTGTTCAAAGCAGGAAGATCATGCAGAAGCTGCACTTTATAAGAATCTTCTGCATTCAAAGGAGTCTTCCTGCAGCGATAGTACTAATGAGTACATGGACATGAAACCTGGAGTTTCTTATGTTGTCCCAACCAAGGCCGACAAAAGGAGATCTGTGAGAATAGGCTCATACATAGAAAGAGATGTGACTCCCGCCATCATGGAGGATGACGAGTTGGCCCTAGACTTAGAAGACTTGCTGAGCTTTTCTTACCAGGTGGCAAAGGGCATGGCTTTCCTCGCCTCCAAGAATTGTATTCACAGAGACTTGGCAGCCAGAAATATCCTCCTTACTCATGGTCGGATCACAAAGATTTGTGATTTTGGTCTAGCCAGAGACATCAAGAATGATTCTAATTATGTGGTTAAAGGAAACGCTCGACTACCTGTGAAGTGGATGGCACCTGAAAGCATTTTCAACTGTGTATACACGTTTGAAAGTGACGTCTGGTCCTATGGGATTTTTCTTTGGGAGCTGTTCTCTTTAGGAAGCAGCCCCTATCCTGGAATGCCGGTCGATTCTAAGTTCTACAAGATGATCAAGGAAGGCTTCCGGATGCTCAGCCCTGAACACGCACCTGCTGAAATGTATGACATAATGAAGACTTGCTGGGATGCAGATCCCCTAAAAAGACCAACATTCAAGCAAATTGTTCAGCTAATTGAGAAGCAGATTTCAGAGAGCACCAATCATATTTACTCCAACTTAGCAAACTGCAGCCCCAACCGACAGAAGCCCGTGGTAGACCATTCTGTGCGGATCAATTCTGTCGGCAGCACCGCTTCCTCCTCCCAGCCTCTGCTTGTGCACGACGATGTCTGA'\n",
    "KIT_coding_sequence_extra_bases = 'GATGAGAGGCGCTCGCGGCGCCTGGGATTTTCTCTGCGTTCTGCTCCTACTGCTTCGCGTCCAGACAGGCTCTTCTCAACCATCTGTGAGTCCAGGGGAACCGTCTCCACCATCCATCCATCCAGGAAAATCAGACTTAATAGTCCGCGTGGGCGACGAGATTAGGCTGTTATGCACTGATCCGGGCTTTGTCAAATGGACTTTTGAGATCCTGGATGAAACGAATGAGAATAAGCAGAATGAATGGATCACGGAAAAGGCAGAAGCCACCAACACCGGCAAATACACGTGCACCAACAAACACGGCTTAAGCAATTCCATTTATGTGTTTGTTAGAGATCCTGCCAAGCTTTTCCTTGTTGACCGCTCCTTGTATGGGAAAGAAGACAACGACACGCTGGTCCGCTGTCCTCTCACAGACCCAGAAGTGACCAATTATTCCCTCAAGGGGTGCCAGGGGAAGCCTCTTCCCAAGGACTTGAGGTTTATTCCTGACCCCAAGGCGGGCATCATGATCAAAAGTGTGAAACGCGCCTACCATCGGCTCTGTCTGCATTGTTCTGTGGACCAGGAGGGCAAGTCAGTGCTGTCGGAAAAATTCATCCTGAAAGTGAGGCCAGCCTTCAAAGCTGTGCCTGTTGTGTCTGTGTCCAAAGCAAGCTATCTTCTTAGGGAAGGGGAAGAATTCACAGTGACGTGCACAATAAAAGATGTGTCTAGTTCTGTGTACTCAACGTGGAAAAGAGAAAACAGTCAGACTAAACTACAGGAGAAATATAATAGCTGGCATCACGGTGACTTCAATTATGAACGTCAGGCAACGTTGACTATCAGTTCAGCGAGAGTTAATGATTCTGGAGTGTTCATGTGTTATGCCAATAATACTTTTGGATCAGCAAATGTCACAACAACCTTGGAAGTAGTAGATAAAGGATTCATTAATATCTTCCCCATGATAAACACTACAGTATTTGTAAACGATGGAGAAAATGTAGATTTGATTGTTGAATATGAAGCATTCCCCAAACCTGAACACCAGCAGTGGATCTATATGAACAGAACCTTCACTGATAAATGGGAAGATTATCCCAAGTCTGAGAATGAAAGTAATATCAGATACGTAAGTGAACTTCATCTAACGAGATTAAAAGGCACCGAAGGAGGCACTTACACATTCCTAGTGTCCAATTCTGACGTCAATGCTGCCATAGCATTTAATGTTTATGTGAATACAAAACCAGAAATCCTGACTTACGACAGGCTCGTGAATGGCATGCTCCAATGTGTGGCAGCAGGATTCCCAGAGCCCACAATAGATTGGTATTTTTGTCCAGGAACTGAGCAGAGATGCTCTGCTTCTGTACTGCCAGTGGATGTGCAGACACTAAACTCATCTGGGCCACCGTTTGGAAAGCTAGTGGTTCAGAGTTCTATAGATTCTAGTGCATTCAAGCACAATGGCACGGTTGAATGTAAGGCTTACAACGATGTGGGCAAGACTTCTGCCTATTTTAACTTTGCATTTAAAGGTAACAACAAAGAGCAAATCCATCCCCACACCCTGTTCACTCCTTTGCTGATTGGTTTCGTAATCGTAGCTGGCATGATGTGCATTATTGTGATGATTCTGACCTACAAATATTTACAGAAACCCATGTATGAAGTACAGTGGAAGGTTGTTGAGGAGATAAATGGAAACAATTATGTTTACATAGACCCAACACAACTTCCTTATGATCACAAATGGGAGTTTCCCAGAAACAGGCTGAGTTTTGGGAAAACCCTGGGTGCTGGAGCTTTCGGGAAGGTTGTTGAGGCAACTGCTTATGGCTTAATTAAGTCAGATGCGGCCATGACTGTCGCTGTAAAGATGCTCAAGCCGAGTGCCCATTTGACAGAACGGGAAGCCCTCATGTCTGAACTCAAAGTCCTGAGTTACCTTGGTAATCACATGAATATTGTGAATCTACTTGGAGCCTGCACCATTGGAGGGCCCACCCTGGTCATTACAGAATATTGTTGCTATGGTGATCTTTTGAATTTTTTGAGAAGAAAACGTGATTCATTTATTTGTTCAAAGCAGGAAGATCATGCAGAAGCTGCACTTTATAAGAATCTTCTGCATTCAAAGGAGTCTTCCTGCAGCGATAGTACTAATGAGTACATGGACATGAAACCTGGAGTTTCTTATGTTGTCCCAACCAAGGCCGACAAAAGGAGATCTGTGAGAATAGGCTCATACATAGAAAGAGATGTGACTCCCGCCATCATGGAGGATGACGAGTTGGCCCTAGACTTAGAAGACTTGCTGAGCTTTTCTTACCAGGTGGCAAAGGGCATGGCTTTCCTCGCCTCCAAGAATTGTATTCACAGAGACTTGGCAGCCAGAAATATCCTCCTTACTCATGGTCGGATCACAAAGATTTGTGATTTTGGTCTAGCCAGAGACATCAAGAATGATTCTAATTATGTGGTTAAAGGAAACGCTCGACTACCTGTGAAGTGGATGGCACCTGAAAGCATTTTCAACTGTGTATACACGTTTGAAAGTGACGTCTGGTCCTATGGGATTTTTCTTTGGGAGCTGTTCTCTTTAGGAAGCAGCCCCTATCCTGGAATGCCGGTCGATTCTAAGTTCTACAAGATGATCAAGGAAGGCTTCCGGATGCTCAGCCCTGAACACGCACCTGCTGAAATGTATGACATAATGAAGACTTGCTGGGATGCAGATCCCCTAAAAAGACCAACATTCAAGCAAATTGTTCAGCTAATTGAGAAGCAGATTTCAGAGAGCACCAATCATATTTACTCCAACTTAGCAAACTGCAGCCCCAACCGACAGAAGCCCGTGGTAGACCATTCTGTGCGGATCAATTCTGTCGGCAGCACCGCTTCCTCCTCCCAGCCTCTGCTTGTGCACGACGATGTCTGAG'"
   ]
  },
  {
   "cell_type": "code",
   "execution_count": 124,
   "metadata": {},
   "outputs": [
    {
     "name": "stdout",
     "output_type": "stream",
     "text": [
      "Total summed synonymous mutation rate across region =  3.014120744e-07\n"
     ]
    }
   ],
   "source": [
    "KIT_2 = synonymous_mutation_rate_across_gene('KIT', KIT_coding_sequence, KIT_coding_sequence_extra_bases, 22, 113)"
   ]
  },
  {
   "cell_type": "code",
   "execution_count": 125,
   "metadata": {},
   "outputs": [
    {
     "name": "stdout",
     "output_type": "stream",
     "text": [
      "Total summed synonymous mutation rate across region =  4.6077604090000004e-07\n"
     ]
    }
   ],
   "source": [
    "KIT_8_11 = synonymous_mutation_rate_across_gene('KIT', KIT_coding_sequence, KIT_coding_sequence_extra_bases, 410, 592)"
   ]
  },
  {
   "cell_type": "code",
   "execution_count": 126,
   "metadata": {},
   "outputs": [
    {
     "name": "stdout",
     "output_type": "stream",
     "text": [
      "Total summed synonymous mutation rate across region =  9.52209181e-08\n"
     ]
    }
   ],
   "source": [
    "KIT_13 = synonymous_mutation_rate_across_gene('KIT', KIT_coding_sequence, KIT_coding_sequence_extra_bases, 626, 664)"
   ]
  },
  {
   "cell_type": "code",
   "execution_count": 127,
   "metadata": {},
   "outputs": [
    {
     "name": "stdout",
     "output_type": "stream",
     "text": [
      "Total summed synonymous mutation rate across region =  8.44260156e-08\n"
     ]
    }
   ],
   "source": [
    "KIT_17 = synonymous_mutation_rate_across_gene('KIT', KIT_coding_sequence, KIT_coding_sequence_extra_bases, 787, 828)"
   ]
  },
  {
   "cell_type": "code",
   "execution_count": 128,
   "metadata": {},
   "outputs": [],
   "source": [
    "KIT_synonymous = KIT_2 + KIT_8_11 + KIT_13 + KIT_17"
   ]
  },
  {
   "cell_type": "markdown",
   "metadata": {},
   "source": [
    "#### Mutation rate for excluded synonymous KIT variants"
   ]
  },
  {
   "cell_type": "code",
   "execution_count": 129,
   "metadata": {
    "code_folding": [
     0
    ]
   },
   "outputs": [],
   "source": [
    "#Create a dictionary of the excluded synonymous variants in KIT:\n",
    "import csv\n",
    "filename=\"Young_excluded_synonymous_1000_genomes.csv\"\n",
    "\n",
    "with open(filename, 'r') as csvfile:\n",
    "    read_reader = csv.reader(csvfile)  #csv.reader returns a reader object which will iterate over lines in the csvfile\n",
    "    row_count=0\n",
    "    excluded_KIT_synonymous_variants={} #dictionary of DNMTA results (key = ID (row[13]), value = VAF (row[10]))\n",
    "\n",
    "    for row in read_reader:\n",
    "#         print(row)\n",
    "        if row_count>0:\n",
    "            gene = row[0]\n",
    "            variant = row[1]\n",
    "            AA_coordinate = row[11]\n",
    "            variant_ID = row[2]\n",
    "            if row[0]=='KIT':\n",
    "                excluded_KIT_synonymous_variants[variant]=(gene, AA_coordinate, variant_ID)\n",
    "\n",
    "        row_count=row_count+1"
   ]
  },
  {
   "cell_type": "code",
   "execution_count": 130,
   "metadata": {
    "scrolled": false
   },
   "outputs": [
    {
     "name": "stdout",
     "output_type": "stream",
     "text": [
      "Total summed mutation rate across excluded synonymous variants =  9.817971e-09\n"
     ]
    }
   ],
   "source": [
    "KIT_excluded = synonymous_excluded_variants_mutation_rate('KIT', KIT_coding_sequence, KIT_coding_sequence_extra_bases, \\\n",
    "                                                           excluded_KIT_synonymous_variants)"
   ]
  },
  {
   "cell_type": "markdown",
   "metadata": {},
   "source": [
    "#### Total synonymous mutation rate for KIT"
   ]
  },
  {
   "cell_type": "code",
   "execution_count": 131,
   "metadata": {
    "code_folding": [
     0
    ],
    "scrolled": true
   },
   "outputs": [
    {
     "name": "stdout",
     "output_type": "stream",
     "text": [
      "Synonymous mutation rate across KIT =  9.320170780000002e-07\n"
     ]
    }
   ],
   "source": [
    "#Subtract the mutation rate of the excluded variants from the total mutation rate for KIT synonymous variants across the panel\n",
    "KIT = KIT_synonymous - KIT_excluded\n",
    "print(\"Synonymous mutation rate across KIT = \", KIT)"
   ]
  },
  {
   "cell_type": "markdown",
   "metadata": {},
   "source": [
    "## KRAS (exons 2 and 3)"
   ]
  },
  {
   "cell_type": "markdown",
   "metadata": {},
   "source": [
    "- ENST00000256078.4 transcript.\n",
    "- No excluded variants in these regions."
   ]
  },
  {
   "cell_type": "markdown",
   "metadata": {},
   "source": [
    "#### Mutation rate for synonymous variants across KRAS regions included in panel"
   ]
  },
  {
   "cell_type": "code",
   "execution_count": 132,
   "metadata": {},
   "outputs": [],
   "source": [
    "KRAS_coding_sequence = 'ATGACTGAATATAAACTTGTGGTAGTTGGAGCTGGTGGCGTAGGCAAGAGTGCCTTGACGATACAGCTAATTCAGAATCATTTTGTGGACGAATATGATCCAACAATAGAGGATTCCTACAGGAAGCAAGTAGTAATTGATGGAGAAACCTGTCTCTTGGATATTCTCGACACAGCAGGTCAAGAGGAGTACAGTGCAATGAGGGACCAGTACATGAGGACTGGGGAGGGCTTTCTTTGTGTATTTGCCATAAATAATACTAAATCATTTGAAGATATTCACCATTATAGAGAACAAATTAAAAGAGTTAAGGACTCTGAAGATGTACCTATGGTCCTAGTAGGAAATAAATGTGATTTGCCTTCTAGAACAGTAGACACAAAACAGGCTCAGGACTTAGCAAGAAGTTATGGAATTCCTTTTATTGAAACATCAGCAAAGACAAGACAGAGAGTGGAGGATGCTTTTTATACATTGGTGAGGGAGATCCGACAATACAGATTGAAAAAAATCAGCAAAGAAGAAAAGACTCCTGGCTGTGTGAAAATTAAAAAATGCATTATAATGTAA'\n",
    "KRAS_coding_sequence_extra_bases = 'AATGACTGAATATAAACTTGTGGTAGTTGGAGCTGGTGGCGTAGGCAAGAGTGCCTTGACGATACAGCTAATTCAGAATCATTTTGTGGACGAATATGATCCAACAATAGAGGATTCCTACAGGAAGCAAGTAGTAATTGATGGAGAAACCTGTCTCTTGGATATTCTCGACACAGCAGGTCAAGAGGAGTACAGTGCAATGAGGGACCAGTACATGAGGACTGGGGAGGGCTTTCTTTGTGTATTTGCCATAAATAATACTAAATCATTTGAAGATATTCACCATTATAGAGAACAAATTAAAAGAGTTAAGGACTCTGAAGATGTACCTATGGTCCTAGTAGGAAATAAATGTGATTTGCCTTCTAGAACAGTAGACACAAAACAGGCTCAGGACTTAGCAAGAAGTTATGGAATTCCTTTTATTGAAACATCAGCAAAGACAAGACAGAGAGTGGAGGATGCTTTTTATACATTGGTGAGGGAGATCCGACAATACAGATTGAAAAAAATCAGCAAAGAAGAAAAGACTCCTGGCTGTGTGAAAATTAAAAAATGCATTATAATGTAAT'"
   ]
  },
  {
   "cell_type": "code",
   "execution_count": 133,
   "metadata": {},
   "outputs": [
    {
     "name": "stdout",
     "output_type": "stream",
     "text": [
      "Total summed synonymous mutation rate across region =  2.271058724e-07\n"
     ]
    }
   ],
   "source": [
    "KRAS = synonymous_mutation_rate_across_gene('KRAS', KRAS_coding_sequence, KRAS_coding_sequence_extra_bases, 0, 98)"
   ]
  },
  {
   "cell_type": "markdown",
   "metadata": {},
   "source": [
    "## MLL (exons 5-8)"
   ]
  },
  {
   "cell_type": "markdown",
   "metadata": {},
   "source": [
    "- ENST00000389506.5 transcript.\n",
    "- No excluded variants in these regions."
   ]
  },
  {
   "cell_type": "markdown",
   "metadata": {},
   "source": [
    "#### Mutation rate for synonymous variants across MLL regions included in panel"
   ]
  },
  {
   "cell_type": "code",
   "execution_count": 134,
   "metadata": {},
   "outputs": [],
   "source": [
    "MLL_coding_sequence = 'ATGGCGCACAGCTGTCGGTGGCGCTTCCCCGCCCGACCCGGGACCACCGGGGGCGGCGGCGGCGGGGGGCGCCGGGGCCTAGGGGGCGCCCCGCGGCAACGCGTCCCGGCCCTGCTGCTTCCCCCCGGGCCCCCGGTCGGCGGTGGCGGCCCCGGGGCGCCCCCCTCCCCCCCGGCTGTGGCGGCCGCGGCGGCGGCGGCGGGAAGCAGCGGGGCTGGGGTTCCAGGGGGAGCGGCCGCCGCCTCAGCAGCCTCCTCGTCGTCCGCCTCGTCTTCGTCTTCGTCATCGTCCTCAGCCTCTTCAGGGCCGGCCCTGCTCCGGGTGGGCCCGGGCTTCGACGCGGCGCTGCAGGTCTCGGCCGCCATCGGCACCAACCTGCGCCGGTTCCGGGCCGTGTTTGGGGAGAGCGGCGGGGGAGGCGGCAGCGGAGAGGATGAGCAATTCTTAGGTTTTGGCTCAGATGAAGAAGTCAGAGTGCGAAGTCCCACAAGGTCTCCTTCAGTTAAAACTAGTCCTCGAAAACCTCGTGGGAGACCTAGAAGTGGCTCTGACCGAAATTCAGCTATCCTCTCAGATCCATCTGTGTTTTCCCCTCTAAATAAATCAGAGACCAAATCTGGAGATAAGATCAAGAAGAAAGATTCTAAAAGTATAGAAAAGAAGAGAGGAAGACCTCCCACCTTCCCTGGAGTAAAAATCAAAATAACACATGGAAAGGACATTTCAGAGTTACCAAAGGGAAACAAAGAAGATAGCCTGAAAAAAATTAAAAGGACACCTTCTGCTACGTTTCAGCAAGCCACAAAGATTAAAAAATTAAGAGCAGGTAAACTCTCTCCTCTCAAGTCTAAGTTTAAGACAGGGAAGCTTCAAATAGGAAGGAAGGGGGTACAAATTGTACGACGGAGAGGAAGGCCTCCATCAACAGAAAGGATAAAGACCCCTTCGGGTCTCCTCATTAATTCTGAACTGGAAAAGCCCCAGAAAGTCCGGAAAGACAAGGAAGGAACACCTCCACTTACAAAAGAAGATAAGACAGTTGTCAGACAAAGCCCTCGAAGGATTAAGCCAGTTAGGATTATTCCTTCTTCAAAAAGGACAGATGCAACCATTGCTAAGCAACTCTTACAGAGGGCAAAAAAGGGGGCTCAAAAGAAAATTGAAAAAGAAGCAGCTCAGCTGCAGGGAAGAAAGGTGAAGACACAGGTCAAAAATATTCGACAGTTCATCATGCCTGTTGTCAGTGCTATCTCCTCGCGGATCATTAAGACCCCTCGGCGGTTTATAGAGGATGAGGATTATGACCCTCCAATTAAAATTGCCCGATTAGAGTCTACACCGAATAGTAGATTCAGTGCCCCGTCCTGTGGATCTTCTGAAAAATCAAGTGCAGCTTCTCAGCACTCCTCTCAAATGTCTTCAGACTCCTCTCGATCTAGTAGCCCCAGTGTTGATACCTCCACAGACTCTCAGGCTTCTGAGGAGATTCAGGTACTTCCTGAGGAGCGGAGCGATACCCCTGAAGTTCATCCTCCACTGCCCATTTCCCAGTCCCCAGAAAATGAGAGTAATGATAGGAGAAGCAGAAGGTATTCAGTGTCGGAGAGAAGTTTTGGATCTAGAACGACGAAAAAATTATCAACTCTACAAAGTGCCCCCCAGCAGCAGACCTCCTCGTCTCCACCTCCACCTCTGCTGACTCCACCGCCACCACTGCAGCCAGCCTCCAGTATCTCTGACCACACACCTTGGCTTATGCCTCCAACAATCCCCTTAGCATCACCATTTTTGCCTGCTTCCACTGCTCCTATGCAAGGGAAGCGAAAATCTATTTTGCGAGAACCGACATTTAGGTGGACTTCTTTAAAGCATTCTAGGTCAGAGCCACAATACTTTTCCTCAGCAAAGTATGCCAAAGAAGGTCTTATTCGCAAACCAATATTTGATAATTTCCGACCCCCTCCACTAACTCCCGAGGACGTTGGCTTTGCATCTGGTTTTTCTGCATCTGGTACCGCTGCTTCAGCCCGATTGTTTTCGCCACTCCATTCTGGAACAAGGTTTGATATGCACAAAAGGAGCCCTCTTCTGAGAGCTCCAAGATTTACTCCAAGTGAGGCTCACTCTAGAATATTTGAGTCTGTAACCTTGCCTAGTAATCGAACTTCTGCTGGAACATCTTCTTCAGGAGTATCCAATAGAAAAAGGAAAAGAAAAGTGTTTAGTCCTATTCGATCTGAACCAAGATCTCCTTCTCACTCCATGAGGACAAGAAGTGGAAGGCTTAGTAGTTCTGAGCTCTCACCTCTCACCCCCCCGTCTTCTGTCTCTTCCTCGTTAAGCATTTCTGTTAGTCCTCTTGCCACTAGTGCCTTAAACCCAACTTTTACTTTTCCTTCTCATTCCCTGACTCAGTCTGGGGAATCTGCAGAGAAAAATCAGAGACCAAGGAAGCAGACTAGTGCTCCGGCAGAGCCATTTTCATCAAGTAGTCCTACTCCTCTCTTCCCTTGGTTTACCCCAGGCTCTCAGACTGAAAGAGGGAGAAATAAAGACAAGGCCCCCGAGGAGCTGTCCAAAGATCGAGATGCTGACAAGAGCGTGGAGAAGGACAAGAGTAGAGAGAGAGACCGGGAGAGAGAAAAGGAGAATAAGCGGGAGTCAAGGAAAGAGAAAAGGAAAAAGGGATCAGAAATTCAGAGTAGTTCTGCTTTGTATCCTGTGGGTAGGGTTTCCAAAGAGAAGGTTGTTGGTGAAGATGTTGCCACTTCATCTTCTGCCAAAAAAGCAACAGGGCGGAAGAAGTCTTCATCACATGATTCTGGGACTGATATTACTTCTGTGACTCTTGGGGATACAACAGCTGTCAAAACCAAAATACTTATAAAGAAAGGGAGAGGAAATCTGGAAAAAACCAACTTGGACCTCGGCCCAACTGCCCCATCCCTGGAGAAGGAGAAAACCCTCTGCCTTTCCACTCCTTCATCTAGCACTGTTAAACATTCCACTTCCTCCATAGGCTCCATGTTGGCTCAGGCAGACAAGCTTCCAATGACTGACAAGAGGGTTGCCAGCCTCCTAAAAAAGGCCAAAGCTCAGCTCTGCAAGATTGAGAAGAGTAAGAGTCTTAAACAAACCGACCAGCCCAAAGCACAGGGTCAAGAAAGTGACTCATCAGAGACCTCTGTGCGAGGACCCCGGATTAAACATGTCTGCAGAAGAGCAGCTGTTGCCCTTGGCCGAAAACGAGCTGTGTTTCCTGATGACATGCCCACCCTGAGTGCCTTACCATGGGAAGAACGAGAAAAGATTTTGTCTTCCATGGGGAATGATGACAAGTCATCAATTGCTGGCTCAGAAGATGCTGAACCTCTTGCTCCACCCATCAAACCAATTAAACCTGTCACTAGAAACAAGGCACCCCAGGAACCTCCAGTAAAGAAAGGACGTCGATCGAGGCGGTGTGGGCAGTGTCCCGGCTGCCAGGTGCCTGAGGACTGTGGTGTTTGTACTAATTGCTTAGATAAGCCCAAGTTTGGTGGTCGCAATATAAAGAAGCAGTGCTGCAAGATGAGAAAATGTCAGAATCTACAATGGATGCCTTCCAAAGCCTACCTGCAGAAGCAAGCTAAAGCTGTGAAAAAGAAAGAGAAAAAGTCTAAGACCAGTGAAAAGAAAGACAGCAAAGAGAGCAGTGTTGTGAAGAACGTGGTGGACTCTAGTCAGAAACCTACCCCATCAGCAAGAGAGGATCCTGCCCCAAAGAAAAGCAGTAGTGAGCCTCCTCCACGAAAGCCCGTCGAGGAAAAGAGTGAAGAAGGGAATGTCTCGGCCCCTGGGCCTGAATCCAAACAGGCCACCACTCCAGCTTCCAGGAAGTCAAGCAAGCAGGTCTCCCAGCCAGCACTGGTCATCCCGCCTCAGCCACCTACTACAGGACCGCCAAGAAAAGAAGTTCCCAAAACCACTCCTAGTGAGCCCAAGAAAAAGCAGCCTCCACCACCAGAATCAGGTCCAGAGCAGAGCAAACAGAAAAAAGTGGCTCCCCGCCCAAGTATCCCTGTAAAACAAAAACCAAAAGAAAAGGAAAAACCACCTCCGGTCAATAAGCAGGAGAATGCAGGCACTTTGAACATCCTCAGCACTCTCTCCAATGGCAATAGTTCTAAGCAAAAAATTCCAGCAGATGGAGTCCACAGGATCAGAGTGGACTTTAAGGAGGATTGTGAAGCAGAAAATGTGTGGGAGATGGGAGGCTTAGGAATCTTGACTTCTGTTCCTATAACACCCAGGGTGGTTTGCTTTCTCTGTGCCAGTAGTGGGCATGTAGAGTTTGTGTATTGCCAAGTCTGTTGTGAGCCCTTCCACAAGTTTTGTTTAGAGGAGAACGAGCGCCCTCTGGAGGACCAGCTGGAAAATTGGTGTTGTCGTCGTTGCAAATTCTGTCACGTTTGTGGAAGGCAACATCAGGCTACAAAGCAGCTGCTGGAGTGTAATAAGTGCCGAAACAGCTATCACCCTGAGTGCCTGGGACCAAACTACCCCACCAAACCCACAAAGAAGAAGAAAGTCTGGATCTGTACCAAGTGTGTTCGCTGTAAGAGCTGTGGATCCACAACTCCAGGCAAAGGGTGGGATGCACAGTGGTCTCATGATTTCTCACTGTGTCATGATTGCGCCAAGCTCTTTGCTAAAGGAAACTTCTGCCCTCTCTGTGACAAATGTTATGATGATGATGACTATGAGAGTAAGATGATGCAATGTGGAAAGTGTGATCGCTGGGTCCATTCCAAATGTGAGAATCTTTCAGATGAGATGTATGAGATTCTATCTAATCTGCCAGAAAGTGTGGCCTACACTTGTGTGAACTGTACTGAGCGGCACCCTGCAGAGTGGCGACTGGCCCTTGAAAAAGAGCTGCAGATTTCTCTGAAGCAAGTTCTGACAGCTTTGTTGAATTCTCGGACTACCAGCCATTTGCTACGCTACCGGCAGGCTGCCAAGCCTCCAGACTTAAATCCCGAGACAGAGGAGAGTATACCTTCCCGCAGCTCCCCCGAAGGACCTGATCCACCAGTTCTTACTGAGGTCAGCAAACAGGATGATCAGCAGCCTTTAGATCTAGAAGGAGTCAAGAGGAAGATGGACCAAGGGAATTACACATCTGTGTTGGAGTTCAGTGATGATATTGTGAAGATCATTCAAGCAGCCATTAATTCAGATGGAGGACAGCCAGAAATTAAAAAAGCCAACAGCATGGTCAAGTCCTTCTTCATTCGGCAAATGGAACGTGTTTTTCCATGGTTCAGTGTCAAAAAGTCCAGGTTTTGGGAGCCAAATAAAGTATCAAGCAACAGTGGGATGTTACCAAACGCAGTGCTTCCACCTTCACTTGACCATAATTATGCTCAGTGGCAGGAGCGAGAGGAAAACAGCCACACTGAGCAGCCTCCTTTAATGAAGAAAATCATTCCAGCTCCCAAACCCAAAGGTCCTGGAGAACCAGACTCACCAACTCCTCTGCATCCTCCTACACCACCAATTTTGAGTACTGATAGGAGTCGAGAAGACAGTCCAGAGCTGAACCCACCCCCAGGCATAGAAGACAATAGACAGTGTGCGTTATGTTTGACTTATGGTGATGACAGTGCTAATGATGCTGGTCGTTTACTATATATTGGCCAAAATGAGTGGACACATGTAAATTGTGCTTTGTGGTCAGCGGAAGTGTTTGAAGATGATGACGGATCACTAAAGAATGTGCATATGGCTGTGATCAGGGGCAAGCAGCTGAGATGTGAATTCTGCCAAAAGCCAGGAGCCACCGTGGGTTGCTGTCTCACATCCTGCACCAGCAACTATCACTTCATGTGTTCCCGAGCCAAGAACTGTGTCTTTCTGGATGATAAAAAAGTATATTGCCAACGACATCGGGATTTGATCAAAGGCGAAGTGGTTCCTGAGAATGGATTTGAAGTTTTCAGAAGAGTGTTTGTGGACTTTGAAGGAATCAGCTTGAGAAGGAAGTTTCTCAATGGCTTGGAACCAGAAAATATCCACATGATGATTGGGTCTATGACAATCGACTGCTTAGGAATTCTAAATGATCTCTCCGACTGTGAAGATAAGCTCTTTCCTATTGGATATCAGTGTTCCAGGGTATACTGGAGCACCACAGATGCTCGCAAGCGCTGTGTATATACATGCAAGATAGTGGAGTGCCGTCCTCCAGTCGTAGAGCCGGATATCAACAGCACTGTTGAACATGATGAAAACAGGACCATTGCCCATAGTCCAACATCTTTTACAGAAAGTTCATCAAAAGAGAGTCAAAACACAGCTGAAATTATAAGTCCTCCATCACCAGACCGACCTCCTCATTCACAAACCTCTGGCTCCTGTTATTATCATGTCATCTCAAAGGTCCCCAGGATTCGAACACCCAGTTATTCTCCAACACAGAGATCCCCTGGCTGTCGACCGTTGCCTTCTGCAGGAAGTCCTACCCCAACCACTCATGAAATAGTCACAGTAGGTGATCCTTTACTCTCCTCTGGACTTCGAAGCATTGGCTCCAGGCGTCACAGTACCTCTTCCTTATCACCCCAGCGGTCCAAACTCCGGATAATGTCTCCAATGAGAACTGGGAATACTTACTCTAGGAATAATGTTTCCTCAGTCTCCACCACCGGGACCGCTACTGATCTTGAATCAAGTGCCAAAGTAGTTGATCATGTCTTAGGGCCACTGAATTCAAGTACTAGTTTAGGGCAAAACACTTCCACCTCTTCAAATTTGCAAAGGACAGTGGTTACTGTAGGCAATAAAAACAGTCACTTGGATGGATCTTCATCTTCAGAAATGAAGCAGTCCAGTGCTTCAGACTTGGTGTCCAAGAGCTCCTCTTTAAAGGGAGAGAAGACCAAAGTGCTGAGTTCCAAGAGCTCAGAGGGATCTGCACATAATGTGGCTTACCCTGGAATTCCTAAACTGGCCCCACAGGTTCATAACACAACATCTAGAGAACTGAATGTTAGTAAAATCGGCTCCTTTGCTGAACCCTCTTCAGTGTCGTTTTCTTCTAAAGAGGCCCTCTCCTTCCCACACCTCCATTTGAGAGGGCAAAGGAATGATCGAGACCAACACACAGATTCTACCCAATCAGCAAACTCCTCTCCAGATGAAGATACTGAAGTCAAAACCTTGAAGCTATCTGGAATGAGCAACAGATCATCCATTATCAACGAACATATGGGATCTAGTTCCAGAGATAGGAGACAGAAAGGGAAAAAATCCTGTAAAGAAACTTTCAAAGAAAAGCATTCCAGTAAATCTTTTTTGGAACCTGGTCAGGTGACAACTGGTGAGGAAGGAAACTTGAAGCCAGAGTTTATGGATGAGGTTTTGACTCCTGAGTATATGGGCCAACGACCATGTAACAATGTTTCTTCTGATAAGATTGGTGATAAAGGCCTTTCTATGCCAGGAGTCCCCAAAGCTCCACCCATGCAAGTAGAAGGATCTGCCAAGGAATTACAGGCACCACGGAAACGCACAGTCAAAGTGACACTGACACCTCTAAAAATGGAAAATGAGAGTCAATCCAAAAATGCCCTGAAAGAAAGTAGTCCTGCTTCCCCTTTGCAAATAGAGTCAACATCTCCCACAGAACCAATTTCAGCCTCTGAAAATCCAGGAGATGGTCCAGTGGCCCAACCAAGCCCCAATAATACCTCATGCCAGGATTCTCAAAGTAACAACTATCAGAATCTTCCAGTACAGGACAGAAACCTAATGCTTCCAGATGGCCCCAAACCTCAGGAGGATGGCTCTTTTAAAAGGAGGTATCCCCGTCGCAGTGCCCGTGCACGTTCTAACATGTTTTTTGGGCTTACCCCACTCTATGGAGTAAGATCCTATGGTGAAGAAGACATTCCATTCTACAGCAGCTCAACTGGGAAGAAGCGAGGCAAGAGATCAGCTGAAGGACAGGTGGATGGGGCCGATGACTTAAGCACTTCAGATGAAGACGACTTATACTATTACAACTTCACTAGAACAGTGATTTCTTCAGGTGGAGAGGAACGACTGGCATCCCATAATTTATTTCGGGAGGAGGAACAGTGTGATCTTCCAAAAATCTCACAGTTGGATGGTGTTGATGATGGGACAGAGAGTGATACTAGTGTCACAGCCACAACAAGGAAAAGCAGCCAGATTCCAAAAAGAAATGGTAAAGAAAATGGAACAGAGAACTTAAAGATTGATAGACCTGAAGATGCTGGGGAGAAAGAACATGTCACTAAGAGTTCTGTTGGCCACAAAAATGAGCCAAAGATGGATAACTGCCATTCTGTAAGCAGAGTTAAAACACAGGGACAAGATTCCTTGGAAGCTCAGCTCAGCTCATTGGAGTCAAGCCGCAGAGTCCACACAAGTACCCCCTCCGACAAAAATTTACTGGACACCTATAATACTGAGCTCCTGAAATCAGATTCAGACAATAACAACAGTGATGACTGTGGGAATATCCTGCCTTCAGACATTATGGACTTTGTACTAAAGAATACTCCATCCATGCAGGCTTTGGGTGAGAGCCCAGAGTCATCTTCATCAGAACTCCTGAATCTTGGTGAAGGATTGGGTCTTGACAGTAATCGTGAAAAAGACATGGGTCTTTTTGAAGTATTTTCTCAGCAGCTGCCTACAACAGAACCTGTGGATAGTAGTGTCTCTTCCTCTATCTCAGCAGAGGAACAGTTTGAGTTGCCTCTAGAGCTACCATCTGATCTGTCTGTCTTGACCACCCGGAGTCCCACTGTCCCCAGCCAGAATCCCAGTAGACTAGCTGTTATCTCAGACTCAGGGGAGAAGAGAGTAACCATCACAGAAAAATCTGTAGCCTCCTCTGAAAGTGACCCAGCACTGCTGAGCCCAGGAGTAGATCCAACTCCTGAAGGCCACATGACTCCTGATCATTTTATCCAAGGACACATGGATGCAGACCACATCTCTAGCCCTCCTTGTGGTTCAGTAGAGCAAGGTCATGGCAACAATCAGGATTTAACTAGGAACAGTAGCACCCCTGGCCTTCAGGTACCTGTTTCCCCAACTGTTCCCATCCAGAACCAGAAGTATGTGCCCAATTCTACTGATAGTCCTGGCCCGTCTCAGATTTCCAATGCAGCTGTCCAGACCACTCCACCCCACCTGAAGCCAGCCACTGAGAAACTCATAGTTGTTAACCAGAACATGCAGCCACTTTATGTTCTCCAAACTCTTCCAAATGGAGTGACCCAAAAAATCCAATTGACCTCTTCTGTTAGTTCTACACCCAGTGTGATGGAGACAAATACTTCAGTATTGGGACCCATGGGAGGTGGTCTCACCCTTACCACAGGACTAAATCCAAGCTTGCCAACTTCTCAATCTTTGTTCCCTTCTGCTAGCAAAGGATTGCTACCCATGTCTCATCACCAGCACTTACATTCCTTCCCTGCAGCTACTCAAAGTAGTTTCCCACCAAACATCAGCAATCCTCCTTCAGGCCTGCTTATTGGGGTTCAGCCTCCTCCGGATCCCCAACTTTTGGTTTCAGAATCCAGCCAGAGGACAGACCTCAGTACCACAGTAGCCACTCCATCCTCTGGACTCAAGAAAAGACCCATATCTCGTCTACAGACCCGAAAGAATAAAAAACTTGCTCCCTCTAGTACCCCTTCAAACATTGCCCCTTCTGATGTGGTTTCTAATATGACATTGATTAACTTCACACCCTCCCAGCTTCCTAATCATCCAAGTCTGTTAGATTTGGGGTCACTTAATACTTCATCTCACCGAACTGTCCCCAACATCATAAAAAGATCTAAATCTAGCATCATGTATTTTGAACCGGCACCCCTGTTACCACAGAGTGTGGGAGGAACTGCTGCCACAGCGGCAGGCACATCAACAATAAGCCAGGATACTAGCCACCTCACATCAGGGTCTGTGTCTGGCTTGGCATCCAGTTCCTCTGTCTTGAATGTTGTATCCATGCAAACTACCACAACCCCTACAAGTAGTGCGTCAGTTCCAGGACACGTCACCTTAACCAACCCAAGGTTGCTTGGTACCCCAGATATTGGCTCAATAAGCAATCTTTTAATCAAAGCTAGCCAGCAGAGCCTGGGGATTCAGGACCAGCCTGTGGCTTTACCGCCAAGTTCAGGAATGTTTCCACAACTGGGGACATCACAGACCCCCTCTACTGCTGCAATAACAGCGGCATCTAGCATCTGTGTGCTCCCCTCCACTCAGACTACGGGCATAACAGCCGCTTCACCTTCTGGGGAAGCAGACGAACACTATCAGCTTCAGCATGTGAACCAGCTCCTTGCCAGCAAAACTGGGATTCATTCTTCCCAGCGTGATCTTGATTCTGCTTCAGGGCCCCAGGTATCCAACTTTACCCAGACGGTAGACGCTCCTAATAGCATGGGACTGGAGCAGAACAAGGCTTTATCCTCAGCTGTGCAAGCCAGCCCCACCTCTCCTGGGGGTTCTCCATCCTCTCCATCTTCTGGACAGCGGTCAGCAAGCCCTTCAGTGCCGGGTCCCACTAAACCCAAACCAAAAACCAAACGGTTTCAGCTGCCTCTAGACAAAGGGAATGGCAAGAAGCACAAAGTTTCCCATTTGCGGACCAGTTCTTCTGAAGCACACATTCCAGACCAAGAAACGACATCCCTGACCTCAGGCACAGGGACTCCAGGAGCAGAGGCTGAGCAGCAGGATACAGCTAGCGTGGAGCAGTCCTCCCAGAAGGAGTGTGGGCAACCTGCAGGGCAAGTCGCTGTTCTTCCGGAAGTTCAGGTGACCCAAAATCCAGCAAATGAACAAGAAAGTGCAGAACCTAAAACAGTGGAAGAAGAGGAAAGTAATTTCAGCTCCCCACTGATGCTTTGGCTTCAGCAAGAACAAAAGCGGAAGGAAAGCATTACTGAGAAAAAACCCAAGAAAGGACTTGTTTTTGAAATTTCCAGTGATGATGGCTTTCAGATCTGTGCAGAAAGTATTGAAGATGCCTGGAAGTCATTGACAGATAAAGTCCAGGAAGCTCGATCAAATGCCCGCCTAAAGCAGCTCTCATTTGCAGGTGTTAACGGTTTGAGGATGCTGGGGATTCTCCATGATGCAGTTGTGTTCCTCATTGAGCAGCTGTCTGGTGCCAAGCACTGTCGAAATTACAAATTCCGTTTCCACAAGCCAGAGGAGGCCAATGAACCCCCCTTGAACCCTCACGGCTCAGCCAGGGCTGAAGTCCACCTCAGGAAGTCAGCATTTGACATGTTTAACTTCCTGGCTTCTAAACATCGTCAGCCTCCTGAATACAACCCCAATGATGAAGAAGAGGAGGAGGTACAGCTGAAGTCAGCTCGGAGGGCAACTAGCATGGATCTGCCAATGCCCATGCGCTTCCGGCACTTAAAAAAGACTTCTAAGGAGGCAGTTGGTGTCTACAGGTCTCCCATCCATGGCCGGGGTCTTTTCTGTAAGAGAAACATTGATGCAGGTGAGATGGTGATTGAGTATGCCGGCAACGTCATCCGCTCCATCCAGACTGACAAGCGGGAAAAGTATTACGACAGCAAGGGCATTGGTTGCTATATGTTCCGAATTGATGACTCAGAGGTAGTGGATGCCACCATGCATGGAAATGCTGCACGCTTCATCAATCACTCGTGTGAGCCTAACTGCTATTCTCGGGTCATCAATATTGATGGGCAGAAGCACATTGTCATCTTTGCCATGCGTAAGATCTACCGAGGAGAGGAACTCACTTACGACTATAAGTTCCCCATTGAGGATGCCAGCAACAAGCTGCCCTGCAACTGTGGCGCCAAGAAATGCCGGAAGTTCCTAAACTAA'\n",
    "MLL_coding_sequence_extra_bases = 'CATGGCGCACAGCTGTCGGTGGCGCTTCCCCGCCCGACCCGGGACCACCGGGGGCGGCGGCGGCGGGGGGCGCCGGGGCCTAGGGGGCGCCCCGCGGCAACGCGTCCCGGCCCTGCTGCTTCCCCCCGGGCCCCCGGTCGGCGGTGGCGGCCCCGGGGCGCCCCCCTCCCCCCCGGCTGTGGCGGCCGCGGCGGCGGCGGCGGGAAGCAGCGGGGCTGGGGTTCCAGGGGGAGCGGCCGCCGCCTCAGCAGCCTCCTCGTCGTCCGCCTCGTCTTCGTCTTCGTCATCGTCCTCAGCCTCTTCAGGGCCGGCCCTGCTCCGGGTGGGCCCGGGCTTCGACGCGGCGCTGCAGGTCTCGGCCGCCATCGGCACCAACCTGCGCCGGTTCCGGGCCGTGTTTGGGGAGAGCGGCGGGGGAGGCGGCAGCGGAGAGGATGAGCAATTCTTAGGTTTTGGCTCAGATGAAGAAGTCAGAGTGCGAAGTCCCACAAGGTCTCCTTCAGTTAAAACTAGTCCTCGAAAACCTCGTGGGAGACCTAGAAGTGGCTCTGACCGAAATTCAGCTATCCTCTCAGATCCATCTGTGTTTTCCCCTCTAAATAAATCAGAGACCAAATCTGGAGATAAGATCAAGAAGAAAGATTCTAAAAGTATAGAAAAGAAGAGAGGAAGACCTCCCACCTTCCCTGGAGTAAAAATCAAAATAACACATGGAAAGGACATTTCAGAGTTACCAAAGGGAAACAAAGAAGATAGCCTGAAAAAAATTAAAAGGACACCTTCTGCTACGTTTCAGCAAGCCACAAAGATTAAAAAATTAAGAGCAGGTAAACTCTCTCCTCTCAAGTCTAAGTTTAAGACAGGGAAGCTTCAAATAGGAAGGAAGGGGGTACAAATTGTACGACGGAGAGGAAGGCCTCCATCAACAGAAAGGATAAAGACCCCTTCGGGTCTCCTCATTAATTCTGAACTGGAAAAGCCCCAGAAAGTCCGGAAAGACAAGGAAGGAACACCTCCACTTACAAAAGAAGATAAGACAGTTGTCAGACAAAGCCCTCGAAGGATTAAGCCAGTTAGGATTATTCCTTCTTCAAAAAGGACAGATGCAACCATTGCTAAGCAACTCTTACAGAGGGCAAAAAAGGGGGCTCAAAAGAAAATTGAAAAAGAAGCAGCTCAGCTGCAGGGAAGAAAGGTGAAGACACAGGTCAAAAATATTCGACAGTTCATCATGCCTGTTGTCAGTGCTATCTCCTCGCGGATCATTAAGACCCCTCGGCGGTTTATAGAGGATGAGGATTATGACCCTCCAATTAAAATTGCCCGATTAGAGTCTACACCGAATAGTAGATTCAGTGCCCCGTCCTGTGGATCTTCTGAAAAATCAAGTGCAGCTTCTCAGCACTCCTCTCAAATGTCTTCAGACTCCTCTCGATCTAGTAGCCCCAGTGTTGATACCTCCACAGACTCTCAGGCTTCTGAGGAGATTCAGGTACTTCCTGAGGAGCGGAGCGATACCCCTGAAGTTCATCCTCCACTGCCCATTTCCCAGTCCCCAGAAAATGAGAGTAATGATAGGAGAAGCAGAAGGTATTCAGTGTCGGAGAGAAGTTTTGGATCTAGAACGACGAAAAAATTATCAACTCTACAAAGTGCCCCCCAGCAGCAGACCTCCTCGTCTCCACCTCCACCTCTGCTGACTCCACCGCCACCACTGCAGCCAGCCTCCAGTATCTCTGACCACACACCTTGGCTTATGCCTCCAACAATCCCCTTAGCATCACCATTTTTGCCTGCTTCCACTGCTCCTATGCAAGGGAAGCGAAAATCTATTTTGCGAGAACCGACATTTAGGTGGACTTCTTTAAAGCATTCTAGGTCAGAGCCACAATACTTTTCCTCAGCAAAGTATGCCAAAGAAGGTCTTATTCGCAAACCAATATTTGATAATTTCCGACCCCCTCCACTAACTCCCGAGGACGTTGGCTTTGCATCTGGTTTTTCTGCATCTGGTACCGCTGCTTCAGCCCGATTGTTTTCGCCACTCCATTCTGGAACAAGGTTTGATATGCACAAAAGGAGCCCTCTTCTGAGAGCTCCAAGATTTACTCCAAGTGAGGCTCACTCTAGAATATTTGAGTCTGTAACCTTGCCTAGTAATCGAACTTCTGCTGGAACATCTTCTTCAGGAGTATCCAATAGAAAAAGGAAAAGAAAAGTGTTTAGTCCTATTCGATCTGAACCAAGATCTCCTTCTCACTCCATGAGGACAAGAAGTGGAAGGCTTAGTAGTTCTGAGCTCTCACCTCTCACCCCCCCGTCTTCTGTCTCTTCCTCGTTAAGCATTTCTGTTAGTCCTCTTGCCACTAGTGCCTTAAACCCAACTTTTACTTTTCCTTCTCATTCCCTGACTCAGTCTGGGGAATCTGCAGAGAAAAATCAGAGACCAAGGAAGCAGACTAGTGCTCCGGCAGAGCCATTTTCATCAAGTAGTCCTACTCCTCTCTTCCCTTGGTTTACCCCAGGCTCTCAGACTGAAAGAGGGAGAAATAAAGACAAGGCCCCCGAGGAGCTGTCCAAAGATCGAGATGCTGACAAGAGCGTGGAGAAGGACAAGAGTAGAGAGAGAGACCGGGAGAGAGAAAAGGAGAATAAGCGGGAGTCAAGGAAAGAGAAAAGGAAAAAGGGATCAGAAATTCAGAGTAGTTCTGCTTTGTATCCTGTGGGTAGGGTTTCCAAAGAGAAGGTTGTTGGTGAAGATGTTGCCACTTCATCTTCTGCCAAAAAAGCAACAGGGCGGAAGAAGTCTTCATCACATGATTCTGGGACTGATATTACTTCTGTGACTCTTGGGGATACAACAGCTGTCAAAACCAAAATACTTATAAAGAAAGGGAGAGGAAATCTGGAAAAAACCAACTTGGACCTCGGCCCAACTGCCCCATCCCTGGAGAAGGAGAAAACCCTCTGCCTTTCCACTCCTTCATCTAGCACTGTTAAACATTCCACTTCCTCCATAGGCTCCATGTTGGCTCAGGCAGACAAGCTTCCAATGACTGACAAGAGGGTTGCCAGCCTCCTAAAAAAGGCCAAAGCTCAGCTCTGCAAGATTGAGAAGAGTAAGAGTCTTAAACAAACCGACCAGCCCAAAGCACAGGGTCAAGAAAGTGACTCATCAGAGACCTCTGTGCGAGGACCCCGGATTAAACATGTCTGCAGAAGAGCAGCTGTTGCCCTTGGCCGAAAACGAGCTGTGTTTCCTGATGACATGCCCACCCTGAGTGCCTTACCATGGGAAGAACGAGAAAAGATTTTGTCTTCCATGGGGAATGATGACAAGTCATCAATTGCTGGCTCAGAAGATGCTGAACCTCTTGCTCCACCCATCAAACCAATTAAACCTGTCACTAGAAACAAGGCACCCCAGGAACCTCCAGTAAAGAAAGGACGTCGATCGAGGCGGTGTGGGCAGTGTCCCGGCTGCCAGGTGCCTGAGGACTGTGGTGTTTGTACTAATTGCTTAGATAAGCCCAAGTTTGGTGGTCGCAATATAAAGAAGCAGTGCTGCAAGATGAGAAAATGTCAGAATCTACAATGGATGCCTTCCAAAGCCTACCTGCAGAAGCAAGCTAAAGCTGTGAAAAAGAAAGAGAAAAAGTCTAAGACCAGTGAAAAGAAAGACAGCAAAGAGAGCAGTGTTGTGAAGAACGTGGTGGACTCTAGTCAGAAACCTACCCCATCAGCAAGAGAGGATCCTGCCCCAAAGAAAAGCAGTAGTGAGCCTCCTCCACGAAAGCCCGTCGAGGAAAAGAGTGAAGAAGGGAATGTCTCGGCCCCTGGGCCTGAATCCAAACAGGCCACCACTCCAGCTTCCAGGAAGTCAAGCAAGCAGGTCTCCCAGCCAGCACTGGTCATCCCGCCTCAGCCACCTACTACAGGACCGCCAAGAAAAGAAGTTCCCAAAACCACTCCTAGTGAGCCCAAGAAAAAGCAGCCTCCACCACCAGAATCAGGTCCAGAGCAGAGCAAACAGAAAAAAGTGGCTCCCCGCCCAAGTATCCCTGTAAAACAAAAACCAAAAGAAAAGGAAAAACCACCTCCGGTCAATAAGCAGGAGAATGCAGGCACTTTGAACATCCTCAGCACTCTCTCCAATGGCAATAGTTCTAAGCAAAAAATTCCAGCAGATGGAGTCCACAGGATCAGAGTGGACTTTAAGGAGGATTGTGAAGCAGAAAATGTGTGGGAGATGGGAGGCTTAGGAATCTTGACTTCTGTTCCTATAACACCCAGGGTGGTTTGCTTTCTCTGTGCCAGTAGTGGGCATGTAGAGTTTGTGTATTGCCAAGTCTGTTGTGAGCCCTTCCACAAGTTTTGTTTAGAGGAGAACGAGCGCCCTCTGGAGGACCAGCTGGAAAATTGGTGTTGTCGTCGTTGCAAATTCTGTCACGTTTGTGGAAGGCAACATCAGGCTACAAAGCAGCTGCTGGAGTGTAATAAGTGCCGAAACAGCTATCACCCTGAGTGCCTGGGACCAAACTACCCCACCAAACCCACAAAGAAGAAGAAAGTCTGGATCTGTACCAAGTGTGTTCGCTGTAAGAGCTGTGGATCCACAACTCCAGGCAAAGGGTGGGATGCACAGTGGTCTCATGATTTCTCACTGTGTCATGATTGCGCCAAGCTCTTTGCTAAAGGAAACTTCTGCCCTCTCTGTGACAAATGTTATGATGATGATGACTATGAGAGTAAGATGATGCAATGTGGAAAGTGTGATCGCTGGGTCCATTCCAAATGTGAGAATCTTTCAGATGAGATGTATGAGATTCTATCTAATCTGCCAGAAAGTGTGGCCTACACTTGTGTGAACTGTACTGAGCGGCACCCTGCAGAGTGGCGACTGGCCCTTGAAAAAGAGCTGCAGATTTCTCTGAAGCAAGTTCTGACAGCTTTGTTGAATTCTCGGACTACCAGCCATTTGCTACGCTACCGGCAGGCTGCCAAGCCTCCAGACTTAAATCCCGAGACAGAGGAGAGTATACCTTCCCGCAGCTCCCCCGAAGGACCTGATCCACCAGTTCTTACTGAGGTCAGCAAACAGGATGATCAGCAGCCTTTAGATCTAGAAGGAGTCAAGAGGAAGATGGACCAAGGGAATTACACATCTGTGTTGGAGTTCAGTGATGATATTGTGAAGATCATTCAAGCAGCCATTAATTCAGATGGAGGACAGCCAGAAATTAAAAAAGCCAACAGCATGGTCAAGTCCTTCTTCATTCGGCAAATGGAACGTGTTTTTCCATGGTTCAGTGTCAAAAAGTCCAGGTTTTGGGAGCCAAATAAAGTATCAAGCAACAGTGGGATGTTACCAAACGCAGTGCTTCCACCTTCACTTGACCATAATTATGCTCAGTGGCAGGAGCGAGAGGAAAACAGCCACACTGAGCAGCCTCCTTTAATGAAGAAAATCATTCCAGCTCCCAAACCCAAAGGTCCTGGAGAACCAGACTCACCAACTCCTCTGCATCCTCCTACACCACCAATTTTGAGTACTGATAGGAGTCGAGAAGACAGTCCAGAGCTGAACCCACCCCCAGGCATAGAAGACAATAGACAGTGTGCGTTATGTTTGACTTATGGTGATGACAGTGCTAATGATGCTGGTCGTTTACTATATATTGGCCAAAATGAGTGGACACATGTAAATTGTGCTTTGTGGTCAGCGGAAGTGTTTGAAGATGATGACGGATCACTAAAGAATGTGCATATGGCTGTGATCAGGGGCAAGCAGCTGAGATGTGAATTCTGCCAAAAGCCAGGAGCCACCGTGGGTTGCTGTCTCACATCCTGCACCAGCAACTATCACTTCATGTGTTCCCGAGCCAAGAACTGTGTCTTTCTGGATGATAAAAAAGTATATTGCCAACGACATCGGGATTTGATCAAAGGCGAAGTGGTTCCTGAGAATGGATTTGAAGTTTTCAGAAGAGTGTTTGTGGACTTTGAAGGAATCAGCTTGAGAAGGAAGTTTCTCAATGGCTTGGAACCAGAAAATATCCACATGATGATTGGGTCTATGACAATCGACTGCTTAGGAATTCTAAATGATCTCTCCGACTGTGAAGATAAGCTCTTTCCTATTGGATATCAGTGTTCCAGGGTATACTGGAGCACCACAGATGCTCGCAAGCGCTGTGTATATACATGCAAGATAGTGGAGTGCCGTCCTCCAGTCGTAGAGCCGGATATCAACAGCACTGTTGAACATGATGAAAACAGGACCATTGCCCATAGTCCAACATCTTTTACAGAAAGTTCATCAAAAGAGAGTCAAAACACAGCTGAAATTATAAGTCCTCCATCACCAGACCGACCTCCTCATTCACAAACCTCTGGCTCCTGTTATTATCATGTCATCTCAAAGGTCCCCAGGATTCGAACACCCAGTTATTCTCCAACACAGAGATCCCCTGGCTGTCGACCGTTGCCTTCTGCAGGAAGTCCTACCCCAACCACTCATGAAATAGTCACAGTAGGTGATCCTTTACTCTCCTCTGGACTTCGAAGCATTGGCTCCAGGCGTCACAGTACCTCTTCCTTATCACCCCAGCGGTCCAAACTCCGGATAATGTCTCCAATGAGAACTGGGAATACTTACTCTAGGAATAATGTTTCCTCAGTCTCCACCACCGGGACCGCTACTGATCTTGAATCAAGTGCCAAAGTAGTTGATCATGTCTTAGGGCCACTGAATTCAAGTACTAGTTTAGGGCAAAACACTTCCACCTCTTCAAATTTGCAAAGGACAGTGGTTACTGTAGGCAATAAAAACAGTCACTTGGATGGATCTTCATCTTCAGAAATGAAGCAGTCCAGTGCTTCAGACTTGGTGTCCAAGAGCTCCTCTTTAAAGGGAGAGAAGACCAAAGTGCTGAGTTCCAAGAGCTCAGAGGGATCTGCACATAATGTGGCTTACCCTGGAATTCCTAAACTGGCCCCACAGGTTCATAACACAACATCTAGAGAACTGAATGTTAGTAAAATCGGCTCCTTTGCTGAACCCTCTTCAGTGTCGTTTTCTTCTAAAGAGGCCCTCTCCTTCCCACACCTCCATTTGAGAGGGCAAAGGAATGATCGAGACCAACACACAGATTCTACCCAATCAGCAAACTCCTCTCCAGATGAAGATACTGAAGTCAAAACCTTGAAGCTATCTGGAATGAGCAACAGATCATCCATTATCAACGAACATATGGGATCTAGTTCCAGAGATAGGAGACAGAAAGGGAAAAAATCCTGTAAAGAAACTTTCAAAGAAAAGCATTCCAGTAAATCTTTTTTGGAACCTGGTCAGGTGACAACTGGTGAGGAAGGAAACTTGAAGCCAGAGTTTATGGATGAGGTTTTGACTCCTGAGTATATGGGCCAACGACCATGTAACAATGTTTCTTCTGATAAGATTGGTGATAAAGGCCTTTCTATGCCAGGAGTCCCCAAAGCTCCACCCATGCAAGTAGAAGGATCTGCCAAGGAATTACAGGCACCACGGAAACGCACAGTCAAAGTGACACTGACACCTCTAAAAATGGAAAATGAGAGTCAATCCAAAAATGCCCTGAAAGAAAGTAGTCCTGCTTCCCCTTTGCAAATAGAGTCAACATCTCCCACAGAACCAATTTCAGCCTCTGAAAATCCAGGAGATGGTCCAGTGGCCCAACCAAGCCCCAATAATACCTCATGCCAGGATTCTCAAAGTAACAACTATCAGAATCTTCCAGTACAGGACAGAAACCTAATGCTTCCAGATGGCCCCAAACCTCAGGAGGATGGCTCTTTTAAAAGGAGGTATCCCCGTCGCAGTGCCCGTGCACGTTCTAACATGTTTTTTGGGCTTACCCCACTCTATGGAGTAAGATCCTATGGTGAAGAAGACATTCCATTCTACAGCAGCTCAACTGGGAAGAAGCGAGGCAAGAGATCAGCTGAAGGACAGGTGGATGGGGCCGATGACTTAAGCACTTCAGATGAAGACGACTTATACTATTACAACTTCACTAGAACAGTGATTTCTTCAGGTGGAGAGGAACGACTGGCATCCCATAATTTATTTCGGGAGGAGGAACAGTGTGATCTTCCAAAAATCTCACAGTTGGATGGTGTTGATGATGGGACAGAGAGTGATACTAGTGTCACAGCCACAACAAGGAAAAGCAGCCAGATTCCAAAAAGAAATGGTAAAGAAAATGGAACAGAGAACTTAAAGATTGATAGACCTGAAGATGCTGGGGAGAAAGAACATGTCACTAAGAGTTCTGTTGGCCACAAAAATGAGCCAAAGATGGATAACTGCCATTCTGTAAGCAGAGTTAAAACACAGGGACAAGATTCCTTGGAAGCTCAGCTCAGCTCATTGGAGTCAAGCCGCAGAGTCCACACAAGTACCCCCTCCGACAAAAATTTACTGGACACCTATAATACTGAGCTCCTGAAATCAGATTCAGACAATAACAACAGTGATGACTGTGGGAATATCCTGCCTTCAGACATTATGGACTTTGTACTAAAGAATACTCCATCCATGCAGGCTTTGGGTGAGAGCCCAGAGTCATCTTCATCAGAACTCCTGAATCTTGGTGAAGGATTGGGTCTTGACAGTAATCGTGAAAAAGACATGGGTCTTTTTGAAGTATTTTCTCAGCAGCTGCCTACAACAGAACCTGTGGATAGTAGTGTCTCTTCCTCTATCTCAGCAGAGGAACAGTTTGAGTTGCCTCTAGAGCTACCATCTGATCTGTCTGTCTTGACCACCCGGAGTCCCACTGTCCCCAGCCAGAATCCCAGTAGACTAGCTGTTATCTCAGACTCAGGGGAGAAGAGAGTAACCATCACAGAAAAATCTGTAGCCTCCTCTGAAAGTGACCCAGCACTGCTGAGCCCAGGAGTAGATCCAACTCCTGAAGGCCACATGACTCCTGATCATTTTATCCAAGGACACATGGATGCAGACCACATCTCTAGCCCTCCTTGTGGTTCAGTAGAGCAAGGTCATGGCAACAATCAGGATTTAACTAGGAACAGTAGCACCCCTGGCCTTCAGGTACCTGTTTCCCCAACTGTTCCCATCCAGAACCAGAAGTATGTGCCCAATTCTACTGATAGTCCTGGCCCGTCTCAGATTTCCAATGCAGCTGTCCAGACCACTCCACCCCACCTGAAGCCAGCCACTGAGAAACTCATAGTTGTTAACCAGAACATGCAGCCACTTTATGTTCTCCAAACTCTTCCAAATGGAGTGACCCAAAAAATCCAATTGACCTCTTCTGTTAGTTCTACACCCAGTGTGATGGAGACAAATACTTCAGTATTGGGACCCATGGGAGGTGGTCTCACCCTTACCACAGGACTAAATCCAAGCTTGCCAACTTCTCAATCTTTGTTCCCTTCTGCTAGCAAAGGATTGCTACCCATGTCTCATCACCAGCACTTACATTCCTTCCCTGCAGCTACTCAAAGTAGTTTCCCACCAAACATCAGCAATCCTCCTTCAGGCCTGCTTATTGGGGTTCAGCCTCCTCCGGATCCCCAACTTTTGGTTTCAGAATCCAGCCAGAGGACAGACCTCAGTACCACAGTAGCCACTCCATCCTCTGGACTCAAGAAAAGACCCATATCTCGTCTACAGACCCGAAAGAATAAAAAACTTGCTCCCTCTAGTACCCCTTCAAACATTGCCCCTTCTGATGTGGTTTCTAATATGACATTGATTAACTTCACACCCTCCCAGCTTCCTAATCATCCAAGTCTGTTAGATTTGGGGTCACTTAATACTTCATCTCACCGAACTGTCCCCAACATCATAAAAAGATCTAAATCTAGCATCATGTATTTTGAACCGGCACCCCTGTTACCACAGAGTGTGGGAGGAACTGCTGCCACAGCGGCAGGCACATCAACAATAAGCCAGGATACTAGCCACCTCACATCAGGGTCTGTGTCTGGCTTGGCATCCAGTTCCTCTGTCTTGAATGTTGTATCCATGCAAACTACCACAACCCCTACAAGTAGTGCGTCAGTTCCAGGACACGTCACCTTAACCAACCCAAGGTTGCTTGGTACCCCAGATATTGGCTCAATAAGCAATCTTTTAATCAAAGCTAGCCAGCAGAGCCTGGGGATTCAGGACCAGCCTGTGGCTTTACCGCCAAGTTCAGGAATGTTTCCACAACTGGGGACATCACAGACCCCCTCTACTGCTGCAATAACAGCGGCATCTAGCATCTGTGTGCTCCCCTCCACTCAGACTACGGGCATAACAGCCGCTTCACCTTCTGGGGAAGCAGACGAACACTATCAGCTTCAGCATGTGAACCAGCTCCTTGCCAGCAAAACTGGGATTCATTCTTCCCAGCGTGATCTTGATTCTGCTTCAGGGCCCCAGGTATCCAACTTTACCCAGACGGTAGACGCTCCTAATAGCATGGGACTGGAGCAGAACAAGGCTTTATCCTCAGCTGTGCAAGCCAGCCCCACCTCTCCTGGGGGTTCTCCATCCTCTCCATCTTCTGGACAGCGGTCAGCAAGCCCTTCAGTGCCGGGTCCCACTAAACCCAAACCAAAAACCAAACGGTTTCAGCTGCCTCTAGACAAAGGGAATGGCAAGAAGCACAAAGTTTCCCATTTGCGGACCAGTTCTTCTGAAGCACACATTCCAGACCAAGAAACGACATCCCTGACCTCAGGCACAGGGACTCCAGGAGCAGAGGCTGAGCAGCAGGATACAGCTAGCGTGGAGCAGTCCTCCCAGAAGGAGTGTGGGCAACCTGCAGGGCAAGTCGCTGTTCTTCCGGAAGTTCAGGTGACCCAAAATCCAGCAAATGAACAAGAAAGTGCAGAACCTAAAACAGTGGAAGAAGAGGAAAGTAATTTCAGCTCCCCACTGATGCTTTGGCTTCAGCAAGAACAAAAGCGGAAGGAAAGCATTACTGAGAAAAAACCCAAGAAAGGACTTGTTTTTGAAATTTCCAGTGATGATGGCTTTCAGATCTGTGCAGAAAGTATTGAAGATGCCTGGAAGTCATTGACAGATAAAGTCCAGGAAGCTCGATCAAATGCCCGCCTAAAGCAGCTCTCATTTGCAGGTGTTAACGGTTTGAGGATGCTGGGGATTCTCCATGATGCAGTTGTGTTCCTCATTGAGCAGCTGTCTGGTGCCAAGCACTGTCGAAATTACAAATTCCGTTTCCACAAGCCAGAGGAGGCCAATGAACCCCCCTTGAACCCTCACGGCTCAGCCAGGGCTGAAGTCCACCTCAGGAAGTCAGCATTTGACATGTTTAACTTCCTGGCTTCTAAACATCGTCAGCCTCCTGAATACAACCCCAATGATGAAGAAGAGGAGGAGGTACAGCTGAAGTCAGCTCGGAGGGCAACTAGCATGGATCTGCCAATGCCCATGCGCTTCCGGCACTTAAAAAAGACTTCTAAGGAGGCAGTTGGTGTCTACAGGTCTCCCATCCATGGCCGGGGTCTTTTCTGTAAGAGAAACATTGATGCAGGTGAGATGGTGATTGAGTATGCCGGCAACGTCATCCGCTCCATCCAGACTGACAAGCGGGAAAAGTATTACGACAGCAAGGGCATTGGTTGCTATATGTTCCGAATTGATGACTCAGAGGTAGTGGATGCCACCATGCATGGAAATGCTGCACGCTTCATCAATCACTCGTGTGAGCCTAACTGCTATTCTCGGGTCATCAATATTGATGGGCAGAAGCACATTGTCATCTTTGCCATGCGTAAGATCTACCGAGGAGAGGAACTCACTTACGACTATAAGTTCCCCATTGAGGATGCCAGCAACAAGCTGCCCTGCAACTGTGGCGCCAAGAAATGCCGGAAGTTCCTAAACTAAA'"
   ]
  },
  {
   "cell_type": "code",
   "execution_count": 135,
   "metadata": {},
   "outputs": [
    {
     "name": "stdout",
     "output_type": "stream",
     "text": [
      "Total summed synonymous mutation rate across region =  5.945833263000001e-07\n"
     ]
    }
   ],
   "source": [
    "MLL = synonymous_mutation_rate_across_gene('MLL', MLL_coding_sequence, MLL_coding_sequence_extra_bases, 1111,1362)"
   ]
  },
  {
   "cell_type": "markdown",
   "metadata": {},
   "source": [
    "## MPL (exon 10)"
   ]
  },
  {
   "cell_type": "markdown",
   "metadata": {},
   "source": [
    "- ENST00000372470.3 transcript.\n",
    "- No excluded variants in these regions."
   ]
  },
  {
   "cell_type": "markdown",
   "metadata": {},
   "source": [
    "#### Mutation rate for synonymous variants across MPL regions included in panel"
   ]
  },
  {
   "cell_type": "code",
   "execution_count": 136,
   "metadata": {},
   "outputs": [],
   "source": [
    "MPL_coding_sequence = 'ATGCCCTCCTGGGCCCTCTTCATGGTCACCTCCTGCCTCCTCCTGGCCCCTCAAAACCTGGCCCAAGTCAGCAGCCAAGATGTCTCCTTGCTGGCATCAGACTCAGAGCCCCTGAAGTGTTTCTCCCGAACATTTGAGGACCTCACTTGCTTCTGGGATGAGGAAGAGGCAGCGCCCAGTGGGACATACCAGCTGCTGTATGCCTACCCGCGGGAGAAGCCCCGTGCTTGCCCCCTGAGTTCCCAGAGCATGCCCCACTTTGGAACCCGATACGTGTGCCAGTTTCCAGACCAGGAGGAAGTGCGTCTCTTCTTTCCGCTGCACCTCTGGGTGAAGAATGTGTTCCTAAACCAGACTCGGACTCAGCGAGTCCTCTTTGTGGACAGTGTAGGCCTGCCGGCTCCCCCCAGTATCATCAAGGCCATGGGTGGGAGCCAGCCAGGGGAACTTCAGATCAGCTGGGAGGAGCCAGCTCCAGAAATCAGTGATTTCCTGAGGTACGAACTCCGCTATGGCCCCAGAGATCCCAAGAACTCCACTGGTCCCACGGTCATACAGCTGATTGCCACAGAAACCTGCTGCCCTGCTCTGCAGAGGCCTCACTCAGCCTCTGCTCTGGACCAGTCTCCATGTGCTCAGCCCACAATGCCCTGGCAAGATGGACCAAAGCAGACCTCCCCAAGTAGAGAAGCTTCAGCTCTGACAGCAGAGGGTGGAAGCTGCCTCATCTCAGGACTCCAGCCTGGCAACTCCTACTGGCTGCAGCTGCGCAGCGAACCTGATGGGATCTCCCTCGGTGGCTCCTGGGGATCCTGGTCCCTCCCTGTGACTGTGGACCTGCCTGGAGATGCAGTGGCACTTGGACTGCAATGCTTTACCTTGGACCTGAAGAATGTTACCTGTCAATGGCAGCAACAGGACCATGCTAGCTCCCAAGGCTTCTTCTACCACAGCAGGGCACGGTGCTGCCCCAGAGACAGGTACCCCATCTGGGAGAACTGCGAAGAGGAAGAGAAAACAAATCCAGGACTACAGACCCCACAGTTCTCTCGCTGCCACTTCAAGTCACGAAATGACAGCATTATTCACATCCTTGTGGAGGTGACCACAGCCCCGGGTACTGTTCACAGCTACCTGGGCTCCCCTTTCTGGATCCACCAGGCTGTGCGCCTCCCCACCCCAAACTTGCACTGGAGGGAGATCTCCAGTGGGCATCTGGAATTGGAGTGGCAGCACCCATCGTCCTGGGCAGCCCAAGAGACCTGTTATCAACTCCGATACACAGGAGAAGGCCATCAGGACTGGAAGGTGCTGGAGCCGCCTCTCGGGGCCCGAGGAGGGACCCTGGAGCTGCGCCCGCGATCTCGCTACCGTTTACAGCTGCGCGCCAGGCTCAACGGCCCCACCTACCAAGGTCCCTGGAGCTCGTGGTCGGACCCAACTAGGGTGGAGACCGCCACCGAGACCGCCTGGATCTCCTTGGTGACCGCTCTGCATCTAGTGCTGGGCCTCAGCGCCGTCCTGGGCCTGCTGCTGCTGAGGTGGCAGTTTCCTGCACACTACAGGAGACTGAGGCATGCCCTGTGGCCCTCACTTCCAGACCTGCACCGGGTCCTAGGCCAGTACCTTAGGGACACTGCAGCCCTGAGCCCGCCCAAGGCCACAGTCTCAGATACCTGTGAAGAAGTGGAACCCAGCCTCCTTGAAATCCTCCCCAAGTCCTCAGAGAGGACTCCTTTGCCCCTGTGTTCCTCCCAGGCCCAGATGGACTACCGAAGATTGCAGCCTTCTTGCCTGGGGACCATGCCCCTGTCTGTGTGCCCACCCATGGCTGAGTCAGGGTCCTGCTGTACCACCCACATTGCCAACCATTCCTACCTACCACTAAGCTATTGGCAGCAGCCTTGA'\n",
    "MPL_coding_sequence_extra_bases = 'GATGCCCTCCTGGGCCCTCTTCATGGTCACCTCCTGCCTCCTCCTGGCCCCTCAAAACCTGGCCCAAGTCAGCAGCCAAGATGTCTCCTTGCTGGCATCAGACTCAGAGCCCCTGAAGTGTTTCTCCCGAACATTTGAGGACCTCACTTGCTTCTGGGATGAGGAAGAGGCAGCGCCCAGTGGGACATACCAGCTGCTGTATGCCTACCCGCGGGAGAAGCCCCGTGCTTGCCCCCTGAGTTCCCAGAGCATGCCCCACTTTGGAACCCGATACGTGTGCCAGTTTCCAGACCAGGAGGAAGTGCGTCTCTTCTTTCCGCTGCACCTCTGGGTGAAGAATGTGTTCCTAAACCAGACTCGGACTCAGCGAGTCCTCTTTGTGGACAGTGTAGGCCTGCCGGCTCCCCCCAGTATCATCAAGGCCATGGGTGGGAGCCAGCCAGGGGAACTTCAGATCAGCTGGGAGGAGCCAGCTCCAGAAATCAGTGATTTCCTGAGGTACGAACTCCGCTATGGCCCCAGAGATCCCAAGAACTCCACTGGTCCCACGGTCATACAGCTGATTGCCACAGAAACCTGCTGCCCTGCTCTGCAGAGGCCTCACTCAGCCTCTGCTCTGGACCAGTCTCCATGTGCTCAGCCCACAATGCCCTGGCAAGATGGACCAAAGCAGACCTCCCCAAGTAGAGAAGCTTCAGCTCTGACAGCAGAGGGTGGAAGCTGCCTCATCTCAGGACTCCAGCCTGGCAACTCCTACTGGCTGCAGCTGCGCAGCGAACCTGATGGGATCTCCCTCGGTGGCTCCTGGGGATCCTGGTCCCTCCCTGTGACTGTGGACCTGCCTGGAGATGCAGTGGCACTTGGACTGCAATGCTTTACCTTGGACCTGAAGAATGTTACCTGTCAATGGCAGCAACAGGACCATGCTAGCTCCCAAGGCTTCTTCTACCACAGCAGGGCACGGTGCTGCCCCAGAGACAGGTACCCCATCTGGGAGAACTGCGAAGAGGAAGAGAAAACAAATCCAGGACTACAGACCCCACAGTTCTCTCGCTGCCACTTCAAGTCACGAAATGACAGCATTATTCACATCCTTGTGGAGGTGACCACAGCCCCGGGTACTGTTCACAGCTACCTGGGCTCCCCTTTCTGGATCCACCAGGCTGTGCGCCTCCCCACCCCAAACTTGCACTGGAGGGAGATCTCCAGTGGGCATCTGGAATTGGAGTGGCAGCACCCATCGTCCTGGGCAGCCCAAGAGACCTGTTATCAACTCCGATACACAGGAGAAGGCCATCAGGACTGGAAGGTGCTGGAGCCGCCTCTCGGGGCCCGAGGAGGGACCCTGGAGCTGCGCCCGCGATCTCGCTACCGTTTACAGCTGCGCGCCAGGCTCAACGGCCCCACCTACCAAGGTCCCTGGAGCTCGTGGTCGGACCCAACTAGGGTGGAGACCGCCACCGAGACCGCCTGGATCTCCTTGGTGACCGCTCTGCATCTAGTGCTGGGCCTCAGCGCCGTCCTGGGCCTGCTGCTGCTGAGGTGGCAGTTTCCTGCACACTACAGGAGACTGAGGCATGCCCTGTGGCCCTCACTTCCAGACCTGCACCGGGTCCTAGGCCAGTACCTTAGGGACACTGCAGCCCTGAGCCCGCCCAAGGCCACAGTCTCAGATACCTGTGAAGAAGTGGAACCCAGCCTCCTTGAAATCCTCCCCAAGTCCTCAGAGAGGACTCCTTTGCCCCTGTGTTCCTCCCAGGCCCAGATGGACTACCGAAGATTGCAGCCTTCTTGCCTGGGGACCATGCCCCTGTCTGTGTGCCCACCCATGGCTGAGTCAGGGTCCTGCTGTACCACCCACATTGCCAACCATTCCTACCTACCACTAAGCTATTGGCAGCAGCCTTGAG'"
   ]
  },
  {
   "cell_type": "code",
   "execution_count": 137,
   "metadata": {},
   "outputs": [
    {
     "name": "stdout",
     "output_type": "stream",
     "text": [
      "Total summed synonymous mutation rate across region =  1.978379231e-07\n"
     ]
    }
   ],
   "source": [
    "MPL = synonymous_mutation_rate_across_gene('MPL', MPL_coding_sequence, MPL_coding_sequence_extra_bases, 489,522)"
   ]
  },
  {
   "cell_type": "markdown",
   "metadata": {},
   "source": [
    "## MYD88 (exons 3-5)"
   ]
  },
  {
   "cell_type": "markdown",
   "metadata": {},
   "source": [
    "- ENST00000396334.3 transcript.\n",
    "- No excluded variants in these regions."
   ]
  },
  {
   "cell_type": "markdown",
   "metadata": {},
   "source": [
    "#### Mutation rate for synonymous variants across MYD88 regions included in panel"
   ]
  },
  {
   "cell_type": "code",
   "execution_count": 138,
   "metadata": {},
   "outputs": [],
   "source": [
    "MYD88_coding_sequence = 'ATGCGACCCGACCGCGCTGAGGCTCCAGGACCGCCCGCCATGGCTGCAGGAGGTCCCGGCGCGGGGTCTGCGGCCCCGGTCTCCTCCACATCCTCCCTTCCCCTGGCTGCTCTCAACATGCGAGTGCGGCGCCGCCTGTCTCTGTTCTTGAACGTGCGGACACAGGTGGCGGCCGACTGGACCGCGCTGGCGGAGGAGATGGACTTTGAGTACTTGGAGATCCGGCAACTGGAGACACAAGCGGACCCCACTGGCAGGCTGCTGGACGCCTGGCAGGGACGCCCTGGCGCCTCTGTAGGCCGACTGCTCGAGCTGCTTACCAAGCTGGGCCGCGACGACGTGCTGCTGGAGCTGGGACCCAGCATTGAGGAGGATTGCCAAAAGTATATCTTGAAGCAGCAGCAGGAGGAGGCTGAGAAGCCTTTACAGGTGGCCGCTGTAGACAGCAGTGTCCCACGGACAGCAGAGCTGGCGGGCATCACCACACTTGATGACCCCCTGGGGCATATGCCTGAGCGTTTCGATGCCTTCATCTGCTATTGCCCCAGCGACATCCAGTTTGTGCAGGAGATGATCCGGCAACTGGAACAGACAAACTATCGACTGAAGTTGTGTGTGTCTGACCGCGATGTCCTGCCTGGCACCTGTGTCTGGTCTATTGCTAGTGAGCTCATCGAAAAGAGGTGCCGCCGGATGGTGGTGGTTGTCTCTGATGATTACCTGCAGAGCAAGGAATGTGACTTCCAGACCAAATTTGCACTCAGCCTCTCTCCAGGTGCCCATCAGAAGCGACTGATCCCCATCAAGTACAAGGCAATGAAGAAAGAGTTCCCCAGCATCCTGAGGTTCATCACTGTCTGCGACTACACCAACCCCTGCACCAAATCTTGGTTCTGGACTCGCCTTGCCAAGGCCTTGTCCCTGCCCTGA'\n",
    "MYD88_coding_sequence_extra_bases = 'AATGCGACCCGACCGCGCTGAGGCTCCAGGACCGCCCGCCATGGCTGCAGGAGGTCCCGGCGCGGGGTCTGCGGCCCCGGTCTCCTCCACATCCTCCCTTCCCCTGGCTGCTCTCAACATGCGAGTGCGGCGCCGCCTGTCTCTGTTCTTGAACGTGCGGACACAGGTGGCGGCCGACTGGACCGCGCTGGCGGAGGAGATGGACTTTGAGTACTTGGAGATCCGGCAACTGGAGACACAAGCGGACCCCACTGGCAGGCTGCTGGACGCCTGGCAGGGACGCCCTGGCGCCTCTGTAGGCCGACTGCTCGAGCTGCTTACCAAGCTGGGCCGCGACGACGTGCTGCTGGAGCTGGGACCCAGCATTGAGGAGGATTGCCAAAAGTATATCTTGAAGCAGCAGCAGGAGGAGGCTGAGAAGCCTTTACAGGTGGCCGCTGTAGACAGCAGTGTCCCACGGACAGCAGAGCTGGCGGGCATCACCACACTTGATGACCCCCTGGGGCATATGCCTGAGCGTTTCGATGCCTTCATCTGCTATTGCCCCAGCGACATCCAGTTTGTGCAGGAGATGATCCGGCAACTGGAACAGACAAACTATCGACTGAAGTTGTGTGTGTCTGACCGCGATGTCCTGCCTGGCACCTGTGTCTGGTCTATTGCTAGTGAGCTCATCGAAAAGAGGTGCCGCCGGATGGTGGTGGTTGTCTCTGATGATTACCTGCAGAGCAAGGAATGTGACTTCCAGACCAAATTTGCACTCAGCCTCTCTCCAGGTGCCCATCAGAAGCGACTGATCCCCATCAAGTACAAGGCAATGAAGAAAGAGTTCCCCAGCATCCTGAGGTTCATCACTGTCTGCGACTACACCAACCCCTGCACCAAATCTTGGTTCTGGACTCGCCTTGCCAAGGCCTTGTCCCTGCCCTGAA'"
   ]
  },
  {
   "cell_type": "code",
   "execution_count": 139,
   "metadata": {},
   "outputs": [
    {
     "name": "stdout",
     "output_type": "stream",
     "text": [
      "Total summed synonymous mutation rate across region =  4.7243806119999996e-07\n"
     ]
    }
   ],
   "source": [
    "MYD88 = synonymous_mutation_rate_across_gene('MYD88', MYD88_coding_sequence, MYD88_coding_sequence_extra_bases, 154,296)"
   ]
  },
  {
   "cell_type": "markdown",
   "metadata": {},
   "source": [
    "## NOTCH1 (exons 26-28 and 34)"
   ]
  },
  {
   "cell_type": "markdown",
   "metadata": {},
   "source": [
    "- ENST00000277541.6 transcript."
   ]
  },
  {
   "cell_type": "markdown",
   "metadata": {},
   "source": [
    "#### Mutation rate for synonymous variants across NOTCH1 regions included in panel"
   ]
  },
  {
   "cell_type": "code",
   "execution_count": 140,
   "metadata": {},
   "outputs": [],
   "source": [
    "NOTCH1_coding_sequence = 'ATGCCGCCGCTCCTGGCGCCCCTGCTCTGCCTGGCGCTGCTGCCCGCGCTCGCCGCACGAGGCCCGCGATGCTCCCAGCCCGGTGAGACCTGCCTGAATGGCGGGAAGTGTGAAGCGGCCAATGGCACGGAGGCCTGCGTCTGTGGCGGGGCCTTCGTGGGCCCGCGATGCCAGGACCCCAACCCGTGCCTCAGCACCCCCTGCAAGAACGCCGGGACATGCCACGTGGTGGACCGCAGAGGCGTGGCAGACTATGCCTGCAGCTGTGCCCTGGGCTTCTCTGGGCCCCTCTGCCTGACACCCCTGGACAATGCCTGCCTCACCAACCCCTGCCGCAACGGGGGCACCTGCGACCTGCTCACGCTGACGGAGTACAAGTGCCGCTGCCCGCCCGGCTGGTCAGGGAAATCGTGCCAGCAGGCTGACCCGTGCGCCTCCAACCCCTGCGCCAACGGTGGCCAGTGCCTGCCCTTCGAGGCCTCCTACATCTGCCACTGCCCACCCAGCTTCCATGGCCCCACCTGCCGGCAGGATGTCAACGAGTGTGGCCAGAAGCCCGGGCTTTGCCGCCACGGAGGCACCTGCCACAACGAGGTCGGCTCCTACCGCTGCGTCTGCCGCGCCACCCACACTGGCCCCAACTGCGAGCGGCCCTACGTGCCCTGCAGCCCCTCGCCCTGCCAGAACGGGGGCACCTGCCGCCCCACGGGCGACGTCACCCACGAGTGTGCCTGCCTGCCAGGCTTCACCGGCCAGAACTGTGAGGAAAATATCGACGATTGTCCAGGAAACAACTGCAAGAACGGGGGTGCCTGTGTGGACGGCGTGAACACCTACAACTGCCGCTGCCCGCCAGAGTGGACAGGTCAGTACTGTACCGAGGATGTGGACGAGTGCCAGCTGATGCCAAATGCCTGCCAGAACGGCGGGACCTGCCACAACACCCACGGTGGCTACAACTGCGTGTGTGTCAACGGCTGGACTGGTGAGGACTGCAGCGAGAACATTGATGACTGTGCCAGCGCCGCCTGCTTCCACGGCGCCACCTGCCATGACCGTGTGGCCTCCTTCTACTGCGAGTGTCCCCATGGCCGCACAGGTCTGCTGTGCCACCTCAACGACGCATGCATCAGCAACCCCTGTAACGAGGGCTCCAACTGCGACACCAACCCTGTCAATGGCAAGGCCATCTGCACCTGCCCCTCGGGGTACACGGGCCCGGCCTGCAGCCAGGACGTGGATGAGTGCTCGCTGGGTGCCAACCCCTGCGAGCATGCGGGCAAGTGCATCAACACGCTGGGCTCCTTCGAGTGCCAGTGTCTGCAGGGCTACACGGGCCCCCGATGCGAGATCGACGTCAACGAGTGCGTCTCGAACCCGTGCCAGAACGACGCCACCTGCCTGGACCAGATTGGGGAGTTCCAGTGCATCTGCATGCCCGGCTACGAGGGTGTGCACTGCGAGGTCAACACAGACGAGTGTGCCAGCAGCCCCTGCCTGCACAATGGCCGCTGCCTGGACAAGATCAATGAGTTCCAGTGCGAGTGCCCCACGGGCTTCACTGGGCATCTGTGCCAGTACGATGTGGACGAGTGTGCCAGCACCCCCTGCAAGAATGGTGCCAAGTGCCTGGACGGACCCAACACTTACACCTGTGTGTGCACGGAAGGGTACACGGGGACGCACTGCGAGGTGGACATCGATGAGTGCGACCCCGACCCCTGCCACTACGGCTCCTGCAAGGACGGCGTCGCCACCTTCACCTGCCTCTGCCGCCCAGGCTACACGGGCCACCACTGCGAGACCAACATCAACGAGTGCTCCAGCCAGCCCTGCCGCCACGGGGGCACCTGCCAGGACCGCGACAACGCCTACCTCTGCTTCTGCCTGAAGGGGACCACAGGACCCAACTGCGAGATCAACCTGGATGACTGTGCCAGCAGCCCCTGCGACTCGGGCACCTGTCTGGACAAGATCGATGGCTACGAGTGTGCCTGTGAGCCGGGCTACACAGGGAGCATGTGTAACATCAACATCGATGAGTGTGCGGGCAACCCCTGCCACAACGGGGGCACCTGCGAGGACGGCATCAATGGCTTCACCTGCCGCTGCCCCGAGGGCTACCACGACCCCACCTGCCTGTCTGAGGTCAATGAGTGCAACAGCAACCCCTGCGTCCACGGGGCCTGCCGGGACAGCCTCAACGGGTACAAGTGCGACTGTGACCCTGGGTGGAGTGGGACCAACTGTGACATCAACAACAATGAGTGTGAATCCAACCCTTGTGTCAACGGCGGCACCTGCAAAGACATGACCAGTGGCTACGTGTGCACCTGCCGGGAGGGCTTCAGCGGTCCCAACTGCCAGACCAACATCAACGAGTGTGCGTCCAACCCATGTCTGAACCAGGGCACGTGTATTGACGACGTTGCCGGGTACAAGTGCAACTGCCTGCTGCCCTACACAGGTGCCACGTGTGAGGTGGTGCTGGCCCCGTGTGCCCCCAGCCCCTGCAGAAACGGCGGGGAGTGCAGGCAATCCGAGGACTATGAGAGCTTCTCCTGTGTCTGCCCCACGGGCTGGCAAGGGCAGACCTGTGAGGTCGACATCAACGAGTGCGTTCTGAGCCCGTGCCGGCACGGCGCATCCTGCCAGAACACCCACGGCGGCTACCGCTGCCACTGCCAGGCCGGCTACAGTGGGCGCAACTGCGAGACCGACATCGACGACTGCCGGCCCAACCCGTGTCACAACGGGGGCTCCTGCACAGACGGCATCAACACGGCCTTCTGCGACTGCCTGCCCGGCTTCCGGGGCACTTTCTGTGAGGAGGACATCAACGAGTGTGCCAGTGACCCCTGCCGCAACGGGGCCAACTGCACGGACTGCGTGGACAGCTACACGTGCACCTGCCCCGCAGGCTTCAGCGGGATCCACTGTGAGAACAACACGCCTGACTGCACAGAGAGCTCCTGCTTCAACGGTGGCACCTGCGTGGACGGCATCAACTCGTTCACCTGCCTGTGTCCACCCGGCTTCACGGGCAGCTACTGCCAGCACGATGTCAATGAGTGCGACTCACAGCCCTGCCTGCATGGCGGCACCTGTCAGGACGGCTGCGGCTCCTACAGGTGCACCTGCCCCCAGGGCTACACTGGCCCCAACTGCCAGAACCTTGTGCACTGGTGTGACTCCTCGCCCTGCAAGAACGGCGGCAAATGCTGGCAGACCCACACCCAGTACCGCTGCGAGTGCCCCAGCGGCTGGACCGGCCTTTACTGCGACGTGCCCAGCGTGTCCTGTGAGGTGGCTGCGCAGCGACAAGGTGTTGACGTTGCCCGCCTGTGCCAGCATGGAGGGCTCTGTGTGGACGCGGGCAACACGCACCACTGCCGCTGCCAGGCGGGCTACACAGGCAGCTACTGTGAGGACCTGGTGGACGAGTGCTCACCCAGCCCCTGCCAGAACGGGGCCACCTGCACGGACTACCTGGGCGGCTACTCCTGCAAGTGCGTGGCCGGCTACCACGGGGTGAACTGCTCTGAGGAGATCGACGAGTGCCTCTCCCACCCCTGCCAGAACGGGGGCACCTGCCTCGACCTCCCCAACACCTACAAGTGCTCCTGCCCACGGGGCACTCAGGGTGTGCACTGTGAGATCAACGTGGACGACTGCAATCCCCCCGTTGACCCCGTGTCCCGGAGCCCCAAGTGCTTTAACAACGGCACCTGCGTGGACCAGGTGGGCGGCTACAGCTGCACCTGCCCGCCGGGCTTCGTGGGTGAGCGCTGTGAGGGGGATGTCAACGAGTGCCTGTCCAATCCCTGCGACGCCCGTGGCACCCAGAACTGCGTGCAGCGCGTCAATGACTTCCACTGCGAGTGCCGTGCTGGTCACACCGGGCGCCGCTGCGAGTCCGTCATCAATGGCTGCAAAGGCAAGCCCTGCAAGAATGGGGGCACCTGCGCCGTGGCCTCCAACACCGCCCGCGGGTTCATCTGCAAGTGCCCTGCGGGCTTCGAGGGCGCCACGTGTGAGAATGACGCTCGTACCTGCGGCAGCCTGCGCTGCCTCAACGGCGGCACATGCATCTCCGGCCCGCGCAGCCCCACCTGCCTGTGCCTGGGCCCCTTCACGGGCCCCGAATGCCAGTTCCCGGCCAGCAGCCCCTGCCTGGGCGGCAACCCCTGCTACAACCAGGGGACCTGTGAGCCCACATCCGAGAGCCCCTTCTACCGTTGCCTGTGCCCCGCCAAATTCAACGGGCTCTTGTGCCACATCCTGGACTACAGCTTCGGGGGTGGGGCCGGGCGCGACATCCCCCCGCCGCTGATCGAGGAGGCGTGCGAGCTGCCCGAGTGCCAGGAGGACGCGGGCAACAAGGTCTGCAGCCTGCAGTGCAACAACCACGCGTGCGGCTGGGACGGCGGTGACTGCTCCCTCAACTTCAATGACCCCTGGAAGAACTGCACGCAGTCTCTGCAGTGCTGGAAGTACTTCAGTGACGGCCACTGTGACAGCCAGTGCAACTCAGCCGGCTGCCTCTTCGACGGCTTTGACTGCCAGCGTGCGGAAGGCCAGTGCAACCCCCTGTACGACCAGTACTGCAAGGACCACTTCAGCGACGGGCACTGCGACCAGGGCTGCAACAGCGCGGAGTGCGAGTGGGACGGGCTGGACTGTGCGGAGCATGTACCCGAGAGGCTGGCGGCCGGCACGCTGGTGGTGGTGGTGCTGATGCCGCCGGAGCAGCTGCGCAACAGCTCCTTCCACTTCCTGCGGGAGCTCAGCCGCGTGCTGCACACCAACGTGGTCTTCAAGCGTGACGCACACGGCCAGCAGATGATCTTCCCCTACTACGGCCGCGAGGAGGAGCTGCGCAAGCACCCCATCAAGCGTGCCGCCGAGGGCTGGGCCGCACCTGACGCCCTGCTGGGCCAGGTGAAGGCCTCGCTGCTCCCTGGTGGCAGCGAGGGTGGGCGGCGGCGGAGGGAGCTGGACCCCATGGACGTCCGCGGCTCCATCGTCTACCTGGAGATTGACAACCGGCAGTGTGTGCAGGCCTCCTCGCAGTGCTTCCAGAGTGCCACCGACGTGGCCGCATTCCTGGGAGCGCTCGCCTCGCTGGGCAGCCTCAACATCCCCTACAAGATCGAGGCCGTGCAGAGTGAGACCGTGGAGCCGCCCCCGCCGGCGCAGCTGCACTTCATGTACGTGGCGGCGGCCGCCTTTGTGCTTCTGTTCTTCGTGGGCTGCGGGGTGCTGCTGTCCCGCAAGCGCCGGCGGCAGCATGGCCAGCTCTGGTTCCCTGAGGGCTTCAAAGTGTCTGAGGCCAGCAAGAAGAAGCGGCGGGAGCCCCTCGGCGAGGACTCCGTGGGCCTCAAGCCCCTGAAGAACGCTTCAGACGGTGCCCTCATGGACGACAACCAGAATGAGTGGGGGGACGAGGACCTGGAGACCAAGAAGTTCCGGTTCGAGGAGCCCGTGGTTCTGCCTGACCTGGACGACCAGACAGACCACCGGCAGTGGACTCAGCAGCACCTGGATGCCGCTGACCTGCGCATGTCTGCCATGGCCCCCACACCGCCCCAGGGTGAGGTTGACGCCGACTGCATGGACGTCAATGTCCGCGGGCCTGATGGCTTCACCCCGCTCATGATCGCCTCCTGCAGCGGGGGCGGCCTGGAGACGGGCAACAGCGAGGAAGAGGAGGACGCGCCGGCCGTCATCTCCGACTTCATCTACCAGGGCGCCAGCCTGCACAACCAGACAGACCGCACGGGCGAGACCGCCTTGCACCTGGCCGCCCGCTACTCACGCTCTGATGCCGCCAAGCGCCTGCTGGAGGCCAGCGCAGATGCCAACATCCAGGACAACATGGGCCGCACCCCGCTGCATGCGGCTGTGTCTGCCGACGCACAAGGTGTCTTCCAGATCCTGATCCGGAACCGAGCCACAGACCTGGATGCCCGCATGCATGATGGCACGACGCCACTGATCCTGGCTGCCCGCCTGGCCGTGGAGGGCATGCTGGAGGACCTCATCAACTCACACGCCGACGTCAACGCCGTAGATGACCTGGGCAAGTCCGCCCTGCACTGGGCCGCCGCCGTGAACAATGTGGATGCCGCAGTTGTGCTCCTGAAGAACGGGGCTAACAAAGATATGCAGAACAACAGGGAGGAGACACCCCTGTTTCTGGCCGCCCGGGAGGGCAGCTACGAGACCGCCAAGGTGCTGCTGGACCACTTTGCCAACCGGGACATCACGGATCATATGGACCGCCTGCCGCGCGACATCGCACAGGAGCGCATGCATCACGACATCGTGAGGCTGCTGGACGAGTACAACCTGGTGCGCAGCCCGCAGCTGCACGGAGCCCCGCTGGGGGGCACGCCCACCCTGTCGCCCCCGCTCTGCTCGCCCAACGGCTACCTGGGCAGCCTCAAGCCCGGCGTGCAGGGCAAGAAGGTCCGCAAGCCCAGCAGCAAAGGCCTGGCCTGTGGAAGCAAGGAGGCCAAGGACCTCAAGGCACGGAGGAAGAAGTCCCAGGACGGCAAGGGCTGCCTGCTGGACAGCTCCGGCATGCTCTCGCCCGTGGACTCCCTGGAGTCACCCCATGGCTACCTGTCAGACGTGGCCTCGCCGCCACTGCTGCCCTCCCCGTTCCAGCAGTCTCCGTCCGTGCCCCTCAACCACCTGCCTGGGATGCCCGACACCCACCTGGGCATCGGGCACCTGAACGTGGCGGCCAAGCCCGAGATGGCGGCGCTGGGTGGGGGCGGCCGGCTGGCCTTTGAGACTGGCCCACCTCGTCTCTCCCACCTGCCTGTGGCCTCTGGCACCAGCACCGTCCTGGGCTCCAGCAGCGGAGGGGCCCTGAATTTCACTGTGGGCGGGTCCACCAGTTTGAATGGTCAATGCGAGTGGCTGTCCCGGCTGCAGAGCGGCATGGTGCCGAACCAATACAACCCTCTGCGGGGGAGTGTGGCACCAGGCCCCCTGAGCACACAGGCCCCCTCCCTGCAGCATGGCATGGTAGGCCCGCTGCACAGTAGCCTTGCTGCCAGCGCCCTGTCCCAGATGATGAGCTACCAGGGCCTGCCCAGCACCCGGCTGGCCACCCAGCCTCACCTGGTGCAGACCCAGCAGGTGCAGCCACAAAACTTACAGATGCAGCAGCAGAACCTGCAGCCAGCAAACATCCAGCAGCAGCAAAGCCTGCAGCCGCCACCACCACCACCACAGCCGCACCTTGGCGTGAGCTCAGCAGCCAGCGGCCACCTGGGCCGGAGCTTCCTGAGTGGAGAGCCGAGCCAGGCAGACGTGCAGCCACTGGGCCCCAGCAGCCTGGCGGTGCACACTATTCTGCCCCAGGAGAGCCCCGCCCTGCCCACGTCGCTGCCATCCTCGCTGGTCCCACCCGTGACCGCAGCCCAGTTCCTGACGCCCCCCTCGCAGCACAGCTACTCCTCGCCTGTGGACAACACCCCCAGCCACCAGCTACAGGTGCCTGAGCACCCCTTCCTCACCCCGTCCCCTGAGTCCCCTGACCAGTGGTCCAGCTCGTCCCCGCATTCCAACGTCTCCGACTGGTCCGAGGGCGTCTCCAGCCCTCCCACCAGCATGCAGTCCCAGATCGCCCGCATTCCGGAGGCCTTCAAGTAA'\n",
    "NOTCH1_coding_sequence_extra_bases = 'CATGCCGCCGCTCCTGGCGCCCCTGCTCTGCCTGGCGCTGCTGCCCGCGCTCGCCGCACGAGGCCCGCGATGCTCCCAGCCCGGTGAGACCTGCCTGAATGGCGGGAAGTGTGAAGCGGCCAATGGCACGGAGGCCTGCGTCTGTGGCGGGGCCTTCGTGGGCCCGCGATGCCAGGACCCCAACCCGTGCCTCAGCACCCCCTGCAAGAACGCCGGGACATGCCACGTGGTGGACCGCAGAGGCGTGGCAGACTATGCCTGCAGCTGTGCCCTGGGCTTCTCTGGGCCCCTCTGCCTGACACCCCTGGACAATGCCTGCCTCACCAACCCCTGCCGCAACGGGGGCACCTGCGACCTGCTCACGCTGACGGAGTACAAGTGCCGCTGCCCGCCCGGCTGGTCAGGGAAATCGTGCCAGCAGGCTGACCCGTGCGCCTCCAACCCCTGCGCCAACGGTGGCCAGTGCCTGCCCTTCGAGGCCTCCTACATCTGCCACTGCCCACCCAGCTTCCATGGCCCCACCTGCCGGCAGGATGTCAACGAGTGTGGCCAGAAGCCCGGGCTTTGCCGCCACGGAGGCACCTGCCACAACGAGGTCGGCTCCTACCGCTGCGTCTGCCGCGCCACCCACACTGGCCCCAACTGCGAGCGGCCCTACGTGCCCTGCAGCCCCTCGCCCTGCCAGAACGGGGGCACCTGCCGCCCCACGGGCGACGTCACCCACGAGTGTGCCTGCCTGCCAGGCTTCACCGGCCAGAACTGTGAGGAAAATATCGACGATTGTCCAGGAAACAACTGCAAGAACGGGGGTGCCTGTGTGGACGGCGTGAACACCTACAACTGCCGCTGCCCGCCAGAGTGGACAGGTCAGTACTGTACCGAGGATGTGGACGAGTGCCAGCTGATGCCAAATGCCTGCCAGAACGGCGGGACCTGCCACAACACCCACGGTGGCTACAACTGCGTGTGTGTCAACGGCTGGACTGGTGAGGACTGCAGCGAGAACATTGATGACTGTGCCAGCGCCGCCTGCTTCCACGGCGCCACCTGCCATGACCGTGTGGCCTCCTTCTACTGCGAGTGTCCCCATGGCCGCACAGGTCTGCTGTGCCACCTCAACGACGCATGCATCAGCAACCCCTGTAACGAGGGCTCCAACTGCGACACCAACCCTGTCAATGGCAAGGCCATCTGCACCTGCCCCTCGGGGTACACGGGCCCGGCCTGCAGCCAGGACGTGGATGAGTGCTCGCTGGGTGCCAACCCCTGCGAGCATGCGGGCAAGTGCATCAACACGCTGGGCTCCTTCGAGTGCCAGTGTCTGCAGGGCTACACGGGCCCCCGATGCGAGATCGACGTCAACGAGTGCGTCTCGAACCCGTGCCAGAACGACGCCACCTGCCTGGACCAGATTGGGGAGTTCCAGTGCATCTGCATGCCCGGCTACGAGGGTGTGCACTGCGAGGTCAACACAGACGAGTGTGCCAGCAGCCCCTGCCTGCACAATGGCCGCTGCCTGGACAAGATCAATGAGTTCCAGTGCGAGTGCCCCACGGGCTTCACTGGGCATCTGTGCCAGTACGATGTGGACGAGTGTGCCAGCACCCCCTGCAAGAATGGTGCCAAGTGCCTGGACGGACCCAACACTTACACCTGTGTGTGCACGGAAGGGTACACGGGGACGCACTGCGAGGTGGACATCGATGAGTGCGACCCCGACCCCTGCCACTACGGCTCCTGCAAGGACGGCGTCGCCACCTTCACCTGCCTCTGCCGCCCAGGCTACACGGGCCACCACTGCGAGACCAACATCAACGAGTGCTCCAGCCAGCCCTGCCGCCACGGGGGCACCTGCCAGGACCGCGACAACGCCTACCTCTGCTTCTGCCTGAAGGGGACCACAGGACCCAACTGCGAGATCAACCTGGATGACTGTGCCAGCAGCCCCTGCGACTCGGGCACCTGTCTGGACAAGATCGATGGCTACGAGTGTGCCTGTGAGCCGGGCTACACAGGGAGCATGTGTAACATCAACATCGATGAGTGTGCGGGCAACCCCTGCCACAACGGGGGCACCTGCGAGGACGGCATCAATGGCTTCACCTGCCGCTGCCCCGAGGGCTACCACGACCCCACCTGCCTGTCTGAGGTCAATGAGTGCAACAGCAACCCCTGCGTCCACGGGGCCTGCCGGGACAGCCTCAACGGGTACAAGTGCGACTGTGACCCTGGGTGGAGTGGGACCAACTGTGACATCAACAACAATGAGTGTGAATCCAACCCTTGTGTCAACGGCGGCACCTGCAAAGACATGACCAGTGGCTACGTGTGCACCTGCCGGGAGGGCTTCAGCGGTCCCAACTGCCAGACCAACATCAACGAGTGTGCGTCCAACCCATGTCTGAACCAGGGCACGTGTATTGACGACGTTGCCGGGTACAAGTGCAACTGCCTGCTGCCCTACACAGGTGCCACGTGTGAGGTGGTGCTGGCCCCGTGTGCCCCCAGCCCCTGCAGAAACGGCGGGGAGTGCAGGCAATCCGAGGACTATGAGAGCTTCTCCTGTGTCTGCCCCACGGGCTGGCAAGGGCAGACCTGTGAGGTCGACATCAACGAGTGCGTTCTGAGCCCGTGCCGGCACGGCGCATCCTGCCAGAACACCCACGGCGGCTACCGCTGCCACTGCCAGGCCGGCTACAGTGGGCGCAACTGCGAGACCGACATCGACGACTGCCGGCCCAACCCGTGTCACAACGGGGGCTCCTGCACAGACGGCATCAACACGGCCTTCTGCGACTGCCTGCCCGGCTTCCGGGGCACTTTCTGTGAGGAGGACATCAACGAGTGTGCCAGTGACCCCTGCCGCAACGGGGCCAACTGCACGGACTGCGTGGACAGCTACACGTGCACCTGCCCCGCAGGCTTCAGCGGGATCCACTGTGAGAACAACACGCCTGACTGCACAGAGAGCTCCTGCTTCAACGGTGGCACCTGCGTGGACGGCATCAACTCGTTCACCTGCCTGTGTCCACCCGGCTTCACGGGCAGCTACTGCCAGCACGATGTCAATGAGTGCGACTCACAGCCCTGCCTGCATGGCGGCACCTGTCAGGACGGCTGCGGCTCCTACAGGTGCACCTGCCCCCAGGGCTACACTGGCCCCAACTGCCAGAACCTTGTGCACTGGTGTGACTCCTCGCCCTGCAAGAACGGCGGCAAATGCTGGCAGACCCACACCCAGTACCGCTGCGAGTGCCCCAGCGGCTGGACCGGCCTTTACTGCGACGTGCCCAGCGTGTCCTGTGAGGTGGCTGCGCAGCGACAAGGTGTTGACGTTGCCCGCCTGTGCCAGCATGGAGGGCTCTGTGTGGACGCGGGCAACACGCACCACTGCCGCTGCCAGGCGGGCTACACAGGCAGCTACTGTGAGGACCTGGTGGACGAGTGCTCACCCAGCCCCTGCCAGAACGGGGCCACCTGCACGGACTACCTGGGCGGCTACTCCTGCAAGTGCGTGGCCGGCTACCACGGGGTGAACTGCTCTGAGGAGATCGACGAGTGCCTCTCCCACCCCTGCCAGAACGGGGGCACCTGCCTCGACCTCCCCAACACCTACAAGTGCTCCTGCCCACGGGGCACTCAGGGTGTGCACTGTGAGATCAACGTGGACGACTGCAATCCCCCCGTTGACCCCGTGTCCCGGAGCCCCAAGTGCTTTAACAACGGCACCTGCGTGGACCAGGTGGGCGGCTACAGCTGCACCTGCCCGCCGGGCTTCGTGGGTGAGCGCTGTGAGGGGGATGTCAACGAGTGCCTGTCCAATCCCTGCGACGCCCGTGGCACCCAGAACTGCGTGCAGCGCGTCAATGACTTCCACTGCGAGTGCCGTGCTGGTCACACCGGGCGCCGCTGCGAGTCCGTCATCAATGGCTGCAAAGGCAAGCCCTGCAAGAATGGGGGCACCTGCGCCGTGGCCTCCAACACCGCCCGCGGGTTCATCTGCAAGTGCCCTGCGGGCTTCGAGGGCGCCACGTGTGAGAATGACGCTCGTACCTGCGGCAGCCTGCGCTGCCTCAACGGCGGCACATGCATCTCCGGCCCGCGCAGCCCCACCTGCCTGTGCCTGGGCCCCTTCACGGGCCCCGAATGCCAGTTCCCGGCCAGCAGCCCCTGCCTGGGCGGCAACCCCTGCTACAACCAGGGGACCTGTGAGCCCACATCCGAGAGCCCCTTCTACCGTTGCCTGTGCCCCGCCAAATTCAACGGGCTCTTGTGCCACATCCTGGACTACAGCTTCGGGGGTGGGGCCGGGCGCGACATCCCCCCGCCGCTGATCGAGGAGGCGTGCGAGCTGCCCGAGTGCCAGGAGGACGCGGGCAACAAGGTCTGCAGCCTGCAGTGCAACAACCACGCGTGCGGCTGGGACGGCGGTGACTGCTCCCTCAACTTCAATGACCCCTGGAAGAACTGCACGCAGTCTCTGCAGTGCTGGAAGTACTTCAGTGACGGCCACTGTGACAGCCAGTGCAACTCAGCCGGCTGCCTCTTCGACGGCTTTGACTGCCAGCGTGCGGAAGGCCAGTGCAACCCCCTGTACGACCAGTACTGCAAGGACCACTTCAGCGACGGGCACTGCGACCAGGGCTGCAACAGCGCGGAGTGCGAGTGGGACGGGCTGGACTGTGCGGAGCATGTACCCGAGAGGCTGGCGGCCGGCACGCTGGTGGTGGTGGTGCTGATGCCGCCGGAGCAGCTGCGCAACAGCTCCTTCCACTTCCTGCGGGAGCTCAGCCGCGTGCTGCACACCAACGTGGTCTTCAAGCGTGACGCACACGGCCAGCAGATGATCTTCCCCTACTACGGCCGCGAGGAGGAGCTGCGCAAGCACCCCATCAAGCGTGCCGCCGAGGGCTGGGCCGCACCTGACGCCCTGCTGGGCCAGGTGAAGGCCTCGCTGCTCCCTGGTGGCAGCGAGGGTGGGCGGCGGCGGAGGGAGCTGGACCCCATGGACGTCCGCGGCTCCATCGTCTACCTGGAGATTGACAACCGGCAGTGTGTGCAGGCCTCCTCGCAGTGCTTCCAGAGTGCCACCGACGTGGCCGCATTCCTGGGAGCGCTCGCCTCGCTGGGCAGCCTCAACATCCCCTACAAGATCGAGGCCGTGCAGAGTGAGACCGTGGAGCCGCCCCCGCCGGCGCAGCTGCACTTCATGTACGTGGCGGCGGCCGCCTTTGTGCTTCTGTTCTTCGTGGGCTGCGGGGTGCTGCTGTCCCGCAAGCGCCGGCGGCAGCATGGCCAGCTCTGGTTCCCTGAGGGCTTCAAAGTGTCTGAGGCCAGCAAGAAGAAGCGGCGGGAGCCCCTCGGCGAGGACTCCGTGGGCCTCAAGCCCCTGAAGAACGCTTCAGACGGTGCCCTCATGGACGACAACCAGAATGAGTGGGGGGACGAGGACCTGGAGACCAAGAAGTTCCGGTTCGAGGAGCCCGTGGTTCTGCCTGACCTGGACGACCAGACAGACCACCGGCAGTGGACTCAGCAGCACCTGGATGCCGCTGACCTGCGCATGTCTGCCATGGCCCCCACACCGCCCCAGGGTGAGGTTGACGCCGACTGCATGGACGTCAATGTCCGCGGGCCTGATGGCTTCACCCCGCTCATGATCGCCTCCTGCAGCGGGGGCGGCCTGGAGACGGGCAACAGCGAGGAAGAGGAGGACGCGCCGGCCGTCATCTCCGACTTCATCTACCAGGGCGCCAGCCTGCACAACCAGACAGACCGCACGGGCGAGACCGCCTTGCACCTGGCCGCCCGCTACTCACGCTCTGATGCCGCCAAGCGCCTGCTGGAGGCCAGCGCAGATGCCAACATCCAGGACAACATGGGCCGCACCCCGCTGCATGCGGCTGTGTCTGCCGACGCACAAGGTGTCTTCCAGATCCTGATCCGGAACCGAGCCACAGACCTGGATGCCCGCATGCATGATGGCACGACGCCACTGATCCTGGCTGCCCGCCTGGCCGTGGAGGGCATGCTGGAGGACCTCATCAACTCACACGCCGACGTCAACGCCGTAGATGACCTGGGCAAGTCCGCCCTGCACTGGGCCGCCGCCGTGAACAATGTGGATGCCGCAGTTGTGCTCCTGAAGAACGGGGCTAACAAAGATATGCAGAACAACAGGGAGGAGACACCCCTGTTTCTGGCCGCCCGGGAGGGCAGCTACGAGACCGCCAAGGTGCTGCTGGACCACTTTGCCAACCGGGACATCACGGATCATATGGACCGCCTGCCGCGCGACATCGCACAGGAGCGCATGCATCACGACATCGTGAGGCTGCTGGACGAGTACAACCTGGTGCGCAGCCCGCAGCTGCACGGAGCCCCGCTGGGGGGCACGCCCACCCTGTCGCCCCCGCTCTGCTCGCCCAACGGCTACCTGGGCAGCCTCAAGCCCGGCGTGCAGGGCAAGAAGGTCCGCAAGCCCAGCAGCAAAGGCCTGGCCTGTGGAAGCAAGGAGGCCAAGGACCTCAAGGCACGGAGGAAGAAGTCCCAGGACGGCAAGGGCTGCCTGCTGGACAGCTCCGGCATGCTCTCGCCCGTGGACTCCCTGGAGTCACCCCATGGCTACCTGTCAGACGTGGCCTCGCCGCCACTGCTGCCCTCCCCGTTCCAGCAGTCTCCGTCCGTGCCCCTCAACCACCTGCCTGGGATGCCCGACACCCACCTGGGCATCGGGCACCTGAACGTGGCGGCCAAGCCCGAGATGGCGGCGCTGGGTGGGGGCGGCCGGCTGGCCTTTGAGACTGGCCCACCTCGTCTCTCCCACCTGCCTGTGGCCTCTGGCACCAGCACCGTCCTGGGCTCCAGCAGCGGAGGGGCCCTGAATTTCACTGTGGGCGGGTCCACCAGTTTGAATGGTCAATGCGAGTGGCTGTCCCGGCTGCAGAGCGGCATGGTGCCGAACCAATACAACCCTCTGCGGGGGAGTGTGGCACCAGGCCCCCTGAGCACACAGGCCCCCTCCCTGCAGCATGGCATGGTAGGCCCGCTGCACAGTAGCCTTGCTGCCAGCGCCCTGTCCCAGATGATGAGCTACCAGGGCCTGCCCAGCACCCGGCTGGCCACCCAGCCTCACCTGGTGCAGACCCAGCAGGTGCAGCCACAAAACTTACAGATGCAGCAGCAGAACCTGCAGCCAGCAAACATCCAGCAGCAGCAAAGCCTGCAGCCGCCACCACCACCACCACAGCCGCACCTTGGCGTGAGCTCAGCAGCCAGCGGCCACCTGGGCCGGAGCTTCCTGAGTGGAGAGCCGAGCCAGGCAGACGTGCAGCCACTGGGCCCCAGCAGCCTGGCGGTGCACACTATTCTGCCCCAGGAGAGCCCCGCCCTGCCCACGTCGCTGCCATCCTCGCTGGTCCCACCCGTGACCGCAGCCCAGTTCCTGACGCCCCCCTCGCAGCACAGCTACTCCTCGCCTGTGGACAACACCCCCAGCCACCAGCTACAGGTGCCTGAGCACCCCTTCCTCACCCCGTCCCCTGAGTCCCCTGACCAGTGGTCCAGCTCGTCCCCGCATTCCAACGTCTCCGACTGGTCCGAGGGCGTCTCCAGCCCTCCCACCAGCATGCAGTCCCAGATCGCCCGCATTCCGGAGGCCTTCAAGTAAA'"
   ]
  },
  {
   "cell_type": "code",
   "execution_count": 141,
   "metadata": {
    "scrolled": false
   },
   "outputs": [
    {
     "name": "stdout",
     "output_type": "stream",
     "text": [
      "Total summed synonymous mutation rate across region =  1.5645093960000002e-06\n"
     ]
    }
   ],
   "source": [
    "NOTCH1_26_28 = synonymous_mutation_rate_across_gene('NOTCH1', NOTCH1_coding_sequence, NOTCH1_coding_sequence_extra_bases, 1528,1795)"
   ]
  },
  {
   "cell_type": "code",
   "execution_count": 142,
   "metadata": {},
   "outputs": [
    {
     "name": "stdout",
     "output_type": "stream",
     "text": [
      "Total summed synonymous mutation rate across region =  2.7580392658999997e-06\n"
     ]
    }
   ],
   "source": [
    "NOTCH1_34 = synonymous_mutation_rate_across_gene('NOTCH1', NOTCH1_coding_sequence, NOTCH1_coding_sequence_extra_bases, 2060,2556)"
   ]
  },
  {
   "cell_type": "code",
   "execution_count": 143,
   "metadata": {},
   "outputs": [],
   "source": [
    "NOTCH1_synonymous = NOTCH1_26_28 + NOTCH1_34"
   ]
  },
  {
   "cell_type": "markdown",
   "metadata": {},
   "source": [
    "#### Mutation rate for excluded synonymous NOTCH1 variants"
   ]
  },
  {
   "cell_type": "code",
   "execution_count": 144,
   "metadata": {
    "code_folding": [
     0
    ]
   },
   "outputs": [],
   "source": [
    "#Create a dictionary of the excluded synonymous variants in NOTCH1:\n",
    "import csv\n",
    "filename=\"Young_excluded_synonymous_1000_genomes.csv\"\n",
    "\n",
    "with open(filename, 'r') as csvfile:\n",
    "    read_reader = csv.reader(csvfile)  #csv.reader returns a reader object which will iterate over lines in the csvfile\n",
    "    row_count=0\n",
    "    excluded_NOTCH1_synonymous_variants={} #dictionary of DNMTA results (key = ID (row[13]), value = VAF (row[10]))\n",
    "\n",
    "    for row in read_reader:\n",
    "#         print(row)\n",
    "        if row_count>0:\n",
    "            gene = row[0]\n",
    "            variant = row[1]\n",
    "            AA_coordinate = row[11]\n",
    "            variant_ID = row[2]\n",
    "            if row[0]=='NOTCH1':\n",
    "                excluded_NOTCH1_synonymous_variants[variant]=(gene, AA_coordinate, variant_ID)\n",
    "\n",
    "        row_count=row_count+1"
   ]
  },
  {
   "cell_type": "code",
   "execution_count": 145,
   "metadata": {
    "scrolled": false
   },
   "outputs": [
    {
     "name": "stdout",
     "output_type": "stream",
     "text": [
      "Total summed mutation rate across excluded synonymous variants =  4.0980323e-08\n"
     ]
    }
   ],
   "source": [
    "NOTCH1_excluded = synonymous_excluded_variants_mutation_rate('NOTCH1', NOTCH1_coding_sequence, NOTCH1_coding_sequence_extra_bases, \\\n",
    "                                                           excluded_NOTCH1_synonymous_variants)"
   ]
  },
  {
   "cell_type": "markdown",
   "metadata": {},
   "source": [
    "#### Total synonymous mutation rate for NOTCH1"
   ]
  },
  {
   "cell_type": "code",
   "execution_count": 146,
   "metadata": {
    "code_folding": [
     0
    ],
    "scrolled": true
   },
   "outputs": [
    {
     "name": "stdout",
     "output_type": "stream",
     "text": [
      "Synonymous mutation rate across NOTCH1 =  4.2815683388999995e-06\n"
     ]
    }
   ],
   "source": [
    "#Subtract the mutation rate of the excluded variants from the total mutation rate for NOTCH1 synonymous variants across the panel\n",
    "NOTCH1 = NOTCH1_synonymous - NOTCH1_excluded\n",
    "print(\"Synonymous mutation rate across NOTCH1 = \", NOTCH1)"
   ]
  },
  {
   "cell_type": "markdown",
   "metadata": {},
   "source": [
    "## NPM1 (exon 12)"
   ]
  },
  {
   "cell_type": "markdown",
   "metadata": {},
   "source": [
    "- ENST00000296930.5 transcript.\n",
    "- No excluded variants in these regions."
   ]
  },
  {
   "cell_type": "markdown",
   "metadata": {},
   "source": [
    "#### Mutation rate for synonymous variants across NPM1 regions included in panel"
   ]
  },
  {
   "cell_type": "code",
   "execution_count": 147,
   "metadata": {},
   "outputs": [],
   "source": [
    "NPM1_coding_sequence = 'ATGGAAGATTCGATGGACATGGACATGAGCCCCCTGAGGCCCCAGAACTATCTTTTCGGTTGTGAACTAAAGGCCGACAAAGATTATCACTTTAAGGTGGATAATGATGAAAATGAGCACCAGTTATCTTTAAGAACGGTCAGTTTAGGGGCTGGTGCAAAGGATGAGTTGCACATTGTTGAAGCAGAGGCAATGAATTACGAAGGCAGTCCAATTAAAGTAACACTGGCAACTTTGAAAATGTCTGTACAGCCAACGGTTTCCCTTGGGGGCTTTGAAATAACACCACCAGTGGTCTTAAGGTTGAAGTGTGGTTCAGGGCCAGTGCATATTAGTGGACAGCACTTAGTAGCTGTGGAGGAAGATGCAGAGTCAGAAGATGAAGAGGAGGAGGATGTGAAACTCTTAAGTATATCTGGAAAGCGGTCTGCCCCTGGAGGTGGTAGCAAGGTTCCACAGAAAAAAGTAAAACTTGCTGCTGATGAAGATGATGACGATGATGATGAAGAGGATGATGATGAAGATGATGATGATGATGATTTTGATGATGAGGAAGCTGAAGAAAAAGCGCCAGTGAAGAAATCTATACGAGATACTCCAGCCAAAAATGCACAAAAGTCAAATCAGAATGGAAAAGACTCAAAACCATCATCAACACCAAGATCAAAAGGACAAGAATCCTTCAAGAAACAGGAAAAAACTCCTAAAACACCAAAAGGACCTAGTTCTGTAGAAGACATTAAAGCAAAAATGCAAGCAAGTATAGAAAAAGGTGGTTCTCTTCCCAAAGTGGAAGCCAAATTCATCAATTATGTGAAGAATTGCTTCCGGATGACTGACCAAGAGGCTATTCAAGATCTCTGGCAGTGGAGGAAGTCTCTTTAA'\n",
    "NPM1_coding_sequence_extra_bases = 'GATGGAAGATTCGATGGACATGGACATGAGCCCCCTGAGGCCCCAGAACTATCTTTTCGGTTGTGAACTAAAGGCCGACAAAGATTATCACTTTAAGGTGGATAATGATGAAAATGAGCACCAGTTATCTTTAAGAACGGTCAGTTTAGGGGCTGGTGCAAAGGATGAGTTGCACATTGTTGAAGCAGAGGCAATGAATTACGAAGGCAGTCCAATTAAAGTAACACTGGCAACTTTGAAAATGTCTGTACAGCCAACGGTTTCCCTTGGGGGCTTTGAAATAACACCACCAGTGGTCTTAAGGTTGAAGTGTGGTTCAGGGCCAGTGCATATTAGTGGACAGCACTTAGTAGCTGTGGAGGAAGATGCAGAGTCAGAAGATGAAGAGGAGGAGGATGTGAAACTCTTAAGTATATCTGGAAAGCGGTCTGCCCCTGGAGGTGGTAGCAAGGTTCCACAGAAAAAAGTAAAACTTGCTGCTGATGAAGATGATGACGATGATGATGAAGAGGATGATGATGAAGATGATGATGATGATGATTTTGATGATGAGGAAGCTGAAGAAAAAGCGCCAGTGAAGAAATCTATACGAGATACTCCAGCCAAAAATGCACAAAAGTCAAATCAGAATGGAAAAGACTCAAAACCATCATCAACACCAAGATCAAAAGGACAAGAATCCTTCAAGAAACAGGAAAAAACTCCTAAAACACCAAAAGGACCTAGTTCTGTAGAAGACATTAAAGCAAAAATGCAAGCAAGTATAGAAAAAGGTGGTTCTCTTCCCAAAGTGGAAGCCAAATTCATCAATTATGTGAAGAATTGCTTCCGGATGACTGACCAAGAGGCTATTCAAGATCTCTGGCAGTGGAGGAAGTCTCTTTAAG'"
   ]
  },
  {
   "cell_type": "code",
   "execution_count": 148,
   "metadata": {},
   "outputs": [
    {
     "name": "stdout",
     "output_type": "stream",
     "text": [
      "Total summed synonymous mutation rate across region =  1.5745132000000002e-08\n"
     ]
    }
   ],
   "source": [
    "NPM1 = synonymous_mutation_rate_across_gene('NPM1', NPM1_coding_sequence, NPM1_coding_sequence_extra_bases, 282,294)"
   ]
  },
  {
   "cell_type": "markdown",
   "metadata": {},
   "source": [
    "## NRAS (exons 2 and 3)"
   ]
  },
  {
   "cell_type": "markdown",
   "metadata": {},
   "source": [
    "- ENST00000369535.4\n",
    "- No excluded variants in these regions."
   ]
  },
  {
   "cell_type": "markdown",
   "metadata": {},
   "source": [
    "#### Mutation rate for synonymous variants across NRAS regions included in panel"
   ]
  },
  {
   "cell_type": "code",
   "execution_count": 149,
   "metadata": {},
   "outputs": [],
   "source": [
    "NRAS_coding_sequence = 'ATGACTGAGTACAAACTGGTGGTGGTTGGAGCAGGTGGTGTTGGGAAAAGCGCACTGACAATCCAGCTAATCCAGAACCACTTTGTAGATGAATATGATCCCACCATAGAGGATTCTTACAGAAAACAAGTGGTTATAGATGGTGAAACCTGTTTGTTGGACATACTGGATACAGCTGGACAAGAAGAGTACAGTGCCATGAGAGACCAATACATGAGGACAGGCGAAGGCTTCCTCTGTGTATTTGCCATCAATAATAGCAAGTCATTTGCGGATATTAACCTCTACAGGGAGCAGATTAAGCGAGTAAAAGACTCGGATGATGTACCTATGGTGCTAGTGGGAAACAAGTGTGATTTGCCAACAAGGACAGTTGATACAAAACAAGCCCACGAACTGGCCAAGAGTTACGGGATTCCATTCATTGAAACCTCAGCCAAGACCAGACAGGGTGTTGAAGATGCTTTTTACACACTGGTAAGAGAAATACGCCAGTACCGAATGAAAAAACTCAACAGCAGTGATGATGGGACTCAGGGTTGTATGGGATTGCCATGTGTGGTGATGTAA'\n",
    "NRAS_coding_sequence_extra_bases = 'AATGACTGAGTACAAACTGGTGGTGGTTGGAGCAGGTGGTGTTGGGAAAAGCGCACTGACAATCCAGCTAATCCAGAACCACTTTGTAGATGAATATGATCCCACCATAGAGGATTCTTACAGAAAACAAGTGGTTATAGATGGTGAAACCTGTTTGTTGGACATACTGGATACAGCTGGACAAGAAGAGTACAGTGCCATGAGAGACCAATACATGAGGACAGGCGAAGGCTTCCTCTGTGTATTTGCCATCAATAATAGCAAGTCATTTGCGGATATTAACCTCTACAGGGAGCAGATTAAGCGAGTAAAAGACTCGGATGATGTACCTATGGTGCTAGTGGGAAACAAGTGTGATTTGCCAACAAGGACAGTTGATACAAAACAAGCCCACGAACTGGCCAAGAGTTACGGGATTCCATTCATTGAAACCTCAGCCAAGACCAGACAGGGTGTTGAAGATGCTTTTTACACACTGGTAAGAGAAATACGCCAGTACCGAATGAAAAAACTCAACAGCAGTGATGATGGGACTCAGGGTTGTATGGGATTGCCATGTGTGGTGATGTAAC'"
   ]
  },
  {
   "cell_type": "code",
   "execution_count": 150,
   "metadata": {},
   "outputs": [
    {
     "name": "stdout",
     "output_type": "stream",
     "text": [
      "Total summed synonymous mutation rate across region =  2.5285415249999997e-07\n"
     ]
    }
   ],
   "source": [
    "NRAS = synonymous_mutation_rate_across_gene('NRAS', NRAS_coding_sequence, NRAS_coding_sequence_extra_bases, 0, 97)"
   ]
  },
  {
   "cell_type": "markdown",
   "metadata": {},
   "source": [
    "## PDGFRA (exons 12, 14, 18)"
   ]
  },
  {
   "cell_type": "markdown",
   "metadata": {},
   "source": [
    "- ENST00000257290.5 transcript."
   ]
  },
  {
   "cell_type": "markdown",
   "metadata": {},
   "source": [
    "#### Mutation rate for synonymous variants across PDGFRA regions included in panel"
   ]
  },
  {
   "cell_type": "code",
   "execution_count": 151,
   "metadata": {},
   "outputs": [],
   "source": [
    "PDGFRA_coding_sequence = 'ATGGGGACTTCCCATCCGGCGTTCCTGGTCTTAGGCTGTCTTCTCACAGGGCTGAGCCTAATCCTCTGCCAGCTTTCATTACCCTCTATCCTTCCAAATGAAAATGAAAAGGTTGTGCAGCTGAATTCATCCTTTTCTCTGAGATGCTTTGGGGAGAGTGAAGTGAGCTGGCAGTACCCCATGTCTGAAGAAGAGAGCTCCGATGTGGAAATCAGAAATGAAGAAAACAACAGCGGCCTTTTTGTGACGGTCTTGGAAGTGAGCAGTGCCTCGGCGGCCCACACAGGGTTGTACACTTGCTATTACAACCACACTCAGACAGAAGAGAATGAGCTTGAAGGCAGGCACATTTACATCTATGTGCCAGACCCAGATGTAGCCTTTGTACCTCTAGGAATGACGGATTATTTAGTCATCGTGGAGGATGATGATTCTGCCATTATACCTTGTCGCACAACTGATCCCGAGACTCCTGTAACCTTACACAACAGTGAGGGGGTGGTACCTGCCTCCTACGACAGCAGACAGGGCTTTAATGGGACCTTCACTGTAGGGCCCTATATCTGTGAGGCCACCGTCAAAGGAAAGAAGTTCCAGACCATCCCATTTAATGTTTATGCTTTAAAAGCAACATCAGAGCTGGATCTAGAAATGGAAGCTCTTAAAACCGTGTATAAGTCAGGGGAAACGATTGTGGTCACCTGTGCTGTTTTTAACAATGAGGTGGTTGACCTTCAATGGACTTACCCTGGAGAAGTGAAAGGCAAAGGCATCACAATGCTGGAAGAAATCAAAGTCCCATCCATCAAATTGGTGTACACTTTGACGGTCCCCGAGGCCACGGTGAAAGACAGTGGAGATTACGAATGTGCTGCCCGCCAGGCTACCAGGGAGGTCAAAGAAATGAAGAAAGTCACTATTTCTGTCCATGAGAAAGGTTTCATTGAAATCAAACCCACCTTCAGCCAGTTGGAAGCTGTCAACCTGCATGAAGTCAAACATTTTGTTGTAGAGGTGCGGGCCTACCCACCTCCCAGGATATCCTGGCTGAAAAACAATCTGACTCTGATTGAAAATCTCACTGAGATCACCACTGATGTGGAAAAGATTCAGGAAATAAGGTATCGAAGCAAATTAAAGCTGATCCGTGCTAAGGAAGAAGACAGTGGCCATTATACTATTGTAGCTCAAAATGAAGATGCTGTGAAGAGCTATACTTTTGAACTGTTAACTCAAGTTCCTTCATCCATTCTGGACTTGGTCGATGATCACCATGGCTCAACTGGGGGACAGACGGTGAGGTGCACAGCTGAAGGCACGCCGCTTCCTGATATTGAGTGGATGATATGCAAAGATATTAAGAAATGTAATAATGAAACTTCCTGGACTATTTTGGCCAACAATGTCTCAAACATCATCACGGAGATCCACTCCCGAGACAGGAGTACCGTGGAGGGCCGTGTGACTTTCGCCAAAGTGGAGGAGACCATCGCCGTGCGATGCCTGGCTAAGAATCTCCTTGGAGCTGAGAACCGAGAGCTGAAGCTGGTGGCTCCCACCCTGCGTTCTGAACTCACGGTGGCTGCTGCAGTCCTGGTGCTGTTGGTGATTGTGATCATCTCACTTATTGTCCTGGTTGTCATTTGGAAACAGAAACCGAGGTATGAAATTCGCTGGAGGGTCATTGAATCAATCAGCCCAGATGGACATGAATATATTTATGTGGACCCGATGCAGCTGCCTTATGACTCAAGATGGGAGTTTCCAAGAGATGGACTAGTGCTTGGTCGGGTCTTGGGGTCTGGAGCGTTTGGGAAGGTGGTTGAAGGAACAGCCTATGGATTAAGCCGGTCCCAACCTGTCATGAAAGTTGCAGTGAAGATGCTAAAACCCACGGCCAGATCCAGTGAAAAACAAGCTCTCATGTCTGAACTGAAGATAATGACTCACCTGGGGCCACATTTGAACATTGTAAACTTGCTGGGAGCCTGCACCAAGTCAGGCCCCATTTACATCATCACAGAGTATTGCTTCTATGGAGATTTGGTCAACTATTTGCATAAGAATAGGGATAGCTTCCTGAGCCACCACCCAGAGAAGCCAAAGAAAGAGCTGGATATCTTTGGATTGAACCCTGCTGATGAAAGCACACGGAGCTATGTTATTTTATCTTTTGAAAACAATGGTGACTACATGGACATGAAGCAGGCTGATACTACACAGTATGTCCCCATGCTAGAAAGGAAAGAGGTTTCTAAATATTCCGACATCCAGAGATCACTCTATGATCGTCCAGCCTCATATAAGAAGAAATCTATGTTAGACTCAGAAGTCAAAAACCTCCTTTCAGATGATAACTCAGAAGGCCTTACTTTATTGGATTTGTTGAGCTTCACCTATCAAGTTGCCCGAGGAATGGAGTTTTTGGCTTCAAAAAATTGTGTCCACCGTGATCTGGCTGCTCGCAACGTCCTCCTGGCACAAGGAAAAATTGTGAAGATCTGTGACTTTGGCCTGGCCAGAGACATCATGCATGATTCGAACTATGTGTCGAAAGGCAGTACCTTTCTGCCCGTGAAGTGGATGGCTCCTGAGAGCATCTTTGACAACCTCTACACCACACTGAGTGATGTCTGGTCTTATGGCATTCTGCTCTGGGAGATCTTTTCCCTTGGTGGCACCCCTTACCCCGGCATGATGGTGGATTCTACTTTCTACAATAAGATCAAGAGTGGGTACCGGATGGCCAAGCCTGACCACGCTACCAGTGAAGTCTACGAGATCATGGTGAAATGCTGGAACAGTGAGCCGGAGAAGAGACCCTCCTTTTACCACCTGAGTGAGATTGTGGAGAATCTGCTGCCTGGACAATATAAAAAGAGTTATGAAAAAATTCACCTGGACTTCCTGAAGAGTGACCATCCTGCTGTGGCACGCATGCGTGTGGACTCAGACAATGCATACATTGGTGTCACCTACAAAAACGAGGAAGACAAGCTGAAGGACTGGGAGGGTGGTCTGGATGAGCAGAGACTGAGCGCTGACAGTGGCTACATCATTCCTCTGCCTGACATTGACCCTGTCCCTGAGGAGGAGGACCTGGGCAAGAGGAACAGACACAGCTCGCAGACCTCTGAAGAGAGTGCCATTGAGACGGGTTCCAGCAGTTCCACCTTCATCAAGAGAGAGGACGAGACCATTGAAGACATCGACATGATGGATGACATCGGCATAGACTCTTCAGACCTGGTGGAAGACAGCTTCCTGTAA'\n",
    "PDGFRA_coding_sequence_extra_bases = 'TATGGGGACTTCCCATCCGGCGTTCCTGGTCTTAGGCTGTCTTCTCACAGGGCTGAGCCTAATCCTCTGCCAGCTTTCATTACCCTCTATCCTTCCAAATGAAAATGAAAAGGTTGTGCAGCTGAATTCATCCTTTTCTCTGAGATGCTTTGGGGAGAGTGAAGTGAGCTGGCAGTACCCCATGTCTGAAGAAGAGAGCTCCGATGTGGAAATCAGAAATGAAGAAAACAACAGCGGCCTTTTTGTGACGGTCTTGGAAGTGAGCAGTGCCTCGGCGGCCCACACAGGGTTGTACACTTGCTATTACAACCACACTCAGACAGAAGAGAATGAGCTTGAAGGCAGGCACATTTACATCTATGTGCCAGACCCAGATGTAGCCTTTGTACCTCTAGGAATGACGGATTATTTAGTCATCGTGGAGGATGATGATTCTGCCATTATACCTTGTCGCACAACTGATCCCGAGACTCCTGTAACCTTACACAACAGTGAGGGGGTGGTACCTGCCTCCTACGACAGCAGACAGGGCTTTAATGGGACCTTCACTGTAGGGCCCTATATCTGTGAGGCCACCGTCAAAGGAAAGAAGTTCCAGACCATCCCATTTAATGTTTATGCTTTAAAAGCAACATCAGAGCTGGATCTAGAAATGGAAGCTCTTAAAACCGTGTATAAGTCAGGGGAAACGATTGTGGTCACCTGTGCTGTTTTTAACAATGAGGTGGTTGACCTTCAATGGACTTACCCTGGAGAAGTGAAAGGCAAAGGCATCACAATGCTGGAAGAAATCAAAGTCCCATCCATCAAATTGGTGTACACTTTGACGGTCCCCGAGGCCACGGTGAAAGACAGTGGAGATTACGAATGTGCTGCCCGCCAGGCTACCAGGGAGGTCAAAGAAATGAAGAAAGTCACTATTTCTGTCCATGAGAAAGGTTTCATTGAAATCAAACCCACCTTCAGCCAGTTGGAAGCTGTCAACCTGCATGAAGTCAAACATTTTGTTGTAGAGGTGCGGGCCTACCCACCTCCCAGGATATCCTGGCTGAAAAACAATCTGACTCTGATTGAAAATCTCACTGAGATCACCACTGATGTGGAAAAGATTCAGGAAATAAGGTATCGAAGCAAATTAAAGCTGATCCGTGCTAAGGAAGAAGACAGTGGCCATTATACTATTGTAGCTCAAAATGAAGATGCTGTGAAGAGCTATACTTTTGAACTGTTAACTCAAGTTCCTTCATCCATTCTGGACTTGGTCGATGATCACCATGGCTCAACTGGGGGACAGACGGTGAGGTGCACAGCTGAAGGCACGCCGCTTCCTGATATTGAGTGGATGATATGCAAAGATATTAAGAAATGTAATAATGAAACTTCCTGGACTATTTTGGCCAACAATGTCTCAAACATCATCACGGAGATCCACTCCCGAGACAGGAGTACCGTGGAGGGCCGTGTGACTTTCGCCAAAGTGGAGGAGACCATCGCCGTGCGATGCCTGGCTAAGAATCTCCTTGGAGCTGAGAACCGAGAGCTGAAGCTGGTGGCTCCCACCCTGCGTTCTGAACTCACGGTGGCTGCTGCAGTCCTGGTGCTGTTGGTGATTGTGATCATCTCACTTATTGTCCTGGTTGTCATTTGGAAACAGAAACCGAGGTATGAAATTCGCTGGAGGGTCATTGAATCAATCAGCCCAGATGGACATGAATATATTTATGTGGACCCGATGCAGCTGCCTTATGACTCAAGATGGGAGTTTCCAAGAGATGGACTAGTGCTTGGTCGGGTCTTGGGGTCTGGAGCGTTTGGGAAGGTGGTTGAAGGAACAGCCTATGGATTAAGCCGGTCCCAACCTGTCATGAAAGTTGCAGTGAAGATGCTAAAACCCACGGCCAGATCCAGTGAAAAACAAGCTCTCATGTCTGAACTGAAGATAATGACTCACCTGGGGCCACATTTGAACATTGTAAACTTGCTGGGAGCCTGCACCAAGTCAGGCCCCATTTACATCATCACAGAGTATTGCTTCTATGGAGATTTGGTCAACTATTTGCATAAGAATAGGGATAGCTTCCTGAGCCACCACCCAGAGAAGCCAAAGAAAGAGCTGGATATCTTTGGATTGAACCCTGCTGATGAAAGCACACGGAGCTATGTTATTTTATCTTTTGAAAACAATGGTGACTACATGGACATGAAGCAGGCTGATACTACACAGTATGTCCCCATGCTAGAAAGGAAAGAGGTTTCTAAATATTCCGACATCCAGAGATCACTCTATGATCGTCCAGCCTCATATAAGAAGAAATCTATGTTAGACTCAGAAGTCAAAAACCTCCTTTCAGATGATAACTCAGAAGGCCTTACTTTATTGGATTTGTTGAGCTTCACCTATCAAGTTGCCCGAGGAATGGAGTTTTTGGCTTCAAAAAATTGTGTCCACCGTGATCTGGCTGCTCGCAACGTCCTCCTGGCACAAGGAAAAATTGTGAAGATCTGTGACTTTGGCCTGGCCAGAGACATCATGCATGATTCGAACTATGTGTCGAAAGGCAGTACCTTTCTGCCCGTGAAGTGGATGGCTCCTGAGAGCATCTTTGACAACCTCTACACCACACTGAGTGATGTCTGGTCTTATGGCATTCTGCTCTGGGAGATCTTTTCCCTTGGTGGCACCCCTTACCCCGGCATGATGGTGGATTCTACTTTCTACAATAAGATCAAGAGTGGGTACCGGATGGCCAAGCCTGACCACGCTACCAGTGAAGTCTACGAGATCATGGTGAAATGCTGGAACAGTGAGCCGGAGAAGAGACCCTCCTTTTACCACCTGAGTGAGATTGTGGAGAATCTGCTGCCTGGACAATATAAAAAGAGTTATGAAAAAATTCACCTGGACTTCCTGAAGAGTGACCATCCTGCTGTGGCACGCATGCGTGTGGACTCAGACAATGCATACATTGGTGTCACCTACAAAAACGAGGAAGACAAGCTGAAGGACTGGGAGGGTGGTCTGGATGAGCAGAGACTGAGCGCTGACAGTGGCTACATCATTCCTCTGCCTGACATTGACCCTGTCCCTGAGGAGGAGGACCTGGGCAAGAGGAACAGACACAGCTCGCAGACCTCTGAAGAGAGTGCCATTGAGACGGGTTCCAGCAGTTCCACCTTCATCAAGAGAGAGGACGAGACCATTGAAGACATCGACATGATGGATGACATCGGCATAGACTCTTCAGACCTGGTGGAAGACAGCTTCCTGTAAC'"
   ]
  },
  {
   "cell_type": "code",
   "execution_count": 152,
   "metadata": {
    "scrolled": true
   },
   "outputs": [
    {
     "name": "stdout",
     "output_type": "stream",
     "text": [
      "Total summed synonymous mutation rate across region =  1.2057430919999998e-07\n"
     ]
    }
   ],
   "source": [
    "PDGFRA_12 = synonymous_mutation_rate_across_gene('PDGFRA', PDGFRA_coding_sequence, PDGFRA_coding_sequence_extra_bases, 551, 596)"
   ]
  },
  {
   "cell_type": "code",
   "execution_count": 153,
   "metadata": {},
   "outputs": [
    {
     "name": "stdout",
     "output_type": "stream",
     "text": [
      "Total summed synonymous mutation rate across region =  1.203423962e-07\n"
     ]
    }
   ],
   "source": [
    "PDGFRA_14 = synonymous_mutation_rate_across_gene('PDGFRA', PDGFRA_coding_sequence, PDGFRA_coding_sequence_extra_bases, 630,668)"
   ]
  },
  {
   "cell_type": "code",
   "execution_count": 154,
   "metadata": {},
   "outputs": [
    {
     "name": "stdout",
     "output_type": "stream",
     "text": [
      "Total summed synonymous mutation rate across region =  1.2858265310000001e-07\n"
     ]
    }
   ],
   "source": [
    "PDGFRA_18 = synonymous_mutation_rate_across_gene('PDGFRA', PDGFRA_coding_sequence, PDGFRA_coding_sequence_extra_bases, 813, 854)"
   ]
  },
  {
   "cell_type": "code",
   "execution_count": 155,
   "metadata": {},
   "outputs": [],
   "source": [
    "PDGFRA_synonymous = PDGFRA_12 + PDGFRA_14 + PDGFRA_18"
   ]
  },
  {
   "cell_type": "markdown",
   "metadata": {},
   "source": [
    "#### Mutation rate for excluded synonymous PDGFRA variants"
   ]
  },
  {
   "cell_type": "code",
   "execution_count": 156,
   "metadata": {
    "code_folding": [
     0
    ]
   },
   "outputs": [],
   "source": [
    "#Create a dictionary of the excluded synonymous variants in PDGFRA:\n",
    "import csv\n",
    "filename=\"Young_excluded_synonymous_1000_genomes.csv\"\n",
    "\n",
    "with open(filename, 'r') as csvfile:\n",
    "    read_reader = csv.reader(csvfile)  #csv.reader returns a reader object which will iterate over lines in the csvfile\n",
    "    row_count=0\n",
    "    excluded_PDGFRA_synonymous_variants={} #dictionary of DNMTA results (key = ID (row[13]), value = VAF (row[10]))\n",
    "\n",
    "    for row in read_reader:\n",
    "#         print(row)\n",
    "        if row_count>0:\n",
    "            gene = row[0]\n",
    "            variant = row[1]\n",
    "            AA_coordinate = row[11]\n",
    "            variant_ID = row[2]\n",
    "            if row[0]=='PDGFRA':\n",
    "                excluded_PDGFRA_synonymous_variants[variant]=(gene, AA_coordinate, variant_ID)\n",
    "\n",
    "        row_count=row_count+1"
   ]
  },
  {
   "cell_type": "code",
   "execution_count": 157,
   "metadata": {
    "scrolled": false
   },
   "outputs": [
    {
     "name": "stdout",
     "output_type": "stream",
     "text": [
      "Total summed mutation rate across excluded synonymous variants =  3.6279231e-09\n"
     ]
    }
   ],
   "source": [
    "PDGFRA_excluded = synonymous_excluded_variants_mutation_rate('PDGFRA', PDGFRA_coding_sequence, PDGFRA_coding_sequence_extra_bases, \\\n",
    "                                                           excluded_PDGFRA_synonymous_variants)"
   ]
  },
  {
   "cell_type": "markdown",
   "metadata": {},
   "source": [
    "#### Total synonymous mutation rate for PDGFRA"
   ]
  },
  {
   "cell_type": "code",
   "execution_count": 158,
   "metadata": {
    "code_folding": [
     0
    ],
    "scrolled": true
   },
   "outputs": [
    {
     "name": "stdout",
     "output_type": "stream",
     "text": [
      "Synonymous mutation rate across PDGFRA =  3.6587143540000003e-07\n"
     ]
    }
   ],
   "source": [
    "#Subtract the mutation rate of the excluded variants from the total mutation rate for PDGFRA synonymous variants across the panel\n",
    "PDGFRA = PDGFRA_synonymous - PDGFRA_excluded\n",
    "print(\"Synonymous mutation rate across PDGFRA = \", PDGFRA)"
   ]
  },
  {
   "cell_type": "markdown",
   "metadata": {},
   "source": [
    "## PHF6"
   ]
  },
  {
   "cell_type": "markdown",
   "metadata": {},
   "source": [
    "- ENST00000332070.3 transcript.\n",
    "- No excluded variants in these regions."
   ]
  },
  {
   "cell_type": "markdown",
   "metadata": {},
   "source": [
    "#### Mutation rate for synonymous variants across PHF6 regions included in panel"
   ]
  },
  {
   "cell_type": "code",
   "execution_count": 159,
   "metadata": {},
   "outputs": [],
   "source": [
    "PHF6_coding_sequence = 'ATGTCAAGCTCAGTTGAACAGAAAAAAGGGCCTACAAGACAGCGCAAATGTGGCTTTTGTAAGTCAAATAGAGACAAGGAATGTGGACAGTTACTAATATCTGAAAACCAGAAGGTGGCAGCGCACCATAAGTGCATGCTCTTTTCATCTGCTTTGGTATCATCACACTCTGATAATGAAAGTCTTGGTGGATTTTCTATTGAAGATGTCCAAAAGGAAATTAAAAGAGGCACGAAGCTGATGTGTTCTTTGTGCCATTGTCCTGGAGCAACAATTGGTTGTGATGTGAAAACATGTCACAGGACATACCACTACCACTGTGCATTGCATGATAAAGCTCAAATACGAGAGAAACCTTCACAAGGAATTTACATGGTCTATTGCCGAAAACACAAGAAAACTGCACATAACTCCGAAGCTGATTTAGAAGAAAGTTTTAATGAACATGAACTGGAGCCCTCATCACCTAAAAGTAAAAAGAAAAGTCGCAAAGGAAGGCCAAGAAAAACTAATTTTAAAGGGCTGTCAGAAGATACCAGGTCCACATCCTCCCATGGAACAGATGAAATGGAAAGTAGTTCCTATAGAGATAGGTCTCCACACAGAAGCAGCCCTAGTGACACCAGGCCTAAATGTGGATTTTGCCATGTAGGGGAGGAAGAAAATGAAGCACGAGGAAAACTGCATATATTTAATGCCAAGAAGGCAGCTGCCCATTATAAGTGCATGTTGTTTTCTTCTGGCACAGTCCAGCTCACAACAACATCAAGAGCAGAATTTGGAGACTTTGATATTAAAACTGTACTTCAGGAGATTAAACGAGGAAAAAGAATGAAATGTACACTTTGCAGTCAGCCTGGTGCTACTATTGGATGTGAAATAAAAGCCTGTGTTAAGACTTACCATTACCACTGTGGAGTACAAGACAAAGCTAAATACATTGAAAATATGTCACGAGGAATTTACAAACTATACTGTAAAAATCATAGTGGAAATGATGAGAGAGATGAAGAAGATGAGGAACGAGAGAGTAAAAGCCGAGGAAAAGTAGAAATTGATCAGCAACAACTAACTCAGCAGCAACTTAATGGAAACTAG'\n",
    "PHF6_coding_sequence_extra_bases = 'CATGTCAAGCTCAGTTGAACAGAAAAAAGGGCCTACAAGACAGCGCAAATGTGGCTTTTGTAAGTCAAATAGAGACAAGGAATGTGGACAGTTACTAATATCTGAAAACCAGAAGGTGGCAGCGCACCATAAGTGCATGCTCTTTTCATCTGCTTTGGTATCATCACACTCTGATAATGAAAGTCTTGGTGGATTTTCTATTGAAGATGTCCAAAAGGAAATTAAAAGAGGCACGAAGCTGATGTGTTCTTTGTGCCATTGTCCTGGAGCAACAATTGGTTGTGATGTGAAAACATGTCACAGGACATACCACTACCACTGTGCATTGCATGATAAAGCTCAAATACGAGAGAAACCTTCACAAGGAATTTACATGGTCTATTGCCGAAAACACAAGAAAACTGCACATAACTCCGAAGCTGATTTAGAAGAAAGTTTTAATGAACATGAACTGGAGCCCTCATCACCTAAAAGTAAAAAGAAAAGTCGCAAAGGAAGGCCAAGAAAAACTAATTTTAAAGGGCTGTCAGAAGATACCAGGTCCACATCCTCCCATGGAACAGATGAAATGGAAAGTAGTTCCTATAGAGATAGGTCTCCACACAGAAGCAGCCCTAGTGACACCAGGCCTAAATGTGGATTTTGCCATGTAGGGGAGGAAGAAAATGAAGCACGAGGAAAACTGCATATATTTAATGCCAAGAAGGCAGCTGCCCATTATAAGTGCATGTTGTTTTCTTCTGGCACAGTCCAGCTCACAACAACATCAAGAGCAGAATTTGGAGACTTTGATATTAAAACTGTACTTCAGGAGATTAAACGAGGAAAAAGAATGAAATGTACACTTTGCAGTCAGCCTGGTGCTACTATTGGATGTGAAATAAAAGCCTGTGTTAAGACTTACCATTACCACTGTGGAGTACAAGACAAAGCTAAATACATTGAAAATATGTCACGAGGAATTTACAAACTATACTGTAAAAATCATAGTGGAAATGATGAGAGAGATGAAGAAGATGAGGAACGAGAGAGTAAAAGCCGAGGAAAAGTAGAAATTGATCAGCAACAACTAACTCAGCAGCAACTTAATGGAAACTAGG'"
   ]
  },
  {
   "cell_type": "code",
   "execution_count": 160,
   "metadata": {
    "scrolled": true
   },
   "outputs": [
    {
     "name": "stdout",
     "output_type": "stream",
     "text": [
      "Total summed synonymous mutation rate across region =  7.051302021e-07\n"
     ]
    }
   ],
   "source": [
    "PHF6 = synonymous_mutation_rate_across_gene('PHF6', PHF6_coding_sequence, PHF6_coding_sequence_extra_bases, 0, 365)"
   ]
  },
  {
   "cell_type": "markdown",
   "metadata": {},
   "source": [
    "## PTEN (exons 5 and 7)"
   ]
  },
  {
   "cell_type": "markdown",
   "metadata": {},
   "source": [
    "- ENST00000371953.3 transcript.\n",
    "- No excluded variants in these regions."
   ]
  },
  {
   "cell_type": "markdown",
   "metadata": {},
   "source": [
    "#### Mutation rate for synonymous variants across PTEN regions included in panel"
   ]
  },
  {
   "cell_type": "code",
   "execution_count": 161,
   "metadata": {},
   "outputs": [],
   "source": [
    "PTEN_coding_sequence = 'ATGACAGCCATCATCAAAGAGATCGTTAGCAGAAACAAAAGGAGATATCAAGAGGATGGATTCGACTTAGACTTGACCTATATTTATCCAAACATTATTGCTATGGGATTTCCTGCAGAAAGACTTGAAGGCGTATACAGGAACAATATTGATGATGTAGTAAGGTTTTTGGATTCAAAGCATAAAAACCATTACAAGATATACAATCTTTGTGCTGAAAGACATTATGACACCGCCAAATTTAATTGCAGAGTTGCACAATATCCTTTTGAAGACCATAACCCACCACAGCTAGAACTTATCAAACCCTTTTGTGAAGATCTTGACCAATGGCTAAGTGAAGATGACAATCATGTTGCAGCAATTCACTGTAAAGCTGGAAAGGGACGAACTGGTGTAATGATATGTGCATATTTATTACATCGGGGCAAATTTTTAAAGGCACAAGAGGCCCTAGATTTCTATGGGGAAGTAAGGACCAGAGACAAAAAGGGAGTAACTATTCCCAGTCAGAGGCGCTATGTGTATTATTATAGCTACCTGTTAAAGAATCATCTGGATTATAGACCAGTGGCACTGTTGTTTCACAAGATGATGTTTGAAACTATTCCAATGTTCAGTGGCGGAACTTGCAATCCTCAGTTTGTGGTCTGCCAGCTAAAGGTGAAGATATATTCCTCCAATTCAGGACCCACACGACGGGAAGACAAGTTCATGTACTTTGAGTTCCCTCAGCCGTTACCTGTGTGTGGTGATATCAAAGTAGAGTTCTTCCACAAACAGAACAAGATGCTAAAAAAGGACAAAATGTTTCACTTTTGGGTAAATACATTCTTCATACCAGGACCAGAGGAAACCTCAGAAAAAGTAGAAAATGGAAGTCTATGTGATCAAGAAATCGATAGCATTTGCAGTATAGAGCGTGCAGATAATGACAAGGAATATCTAGTACTTACTTTAACAAAAAATGATCTTGACAAAGCAAATAAAGACAAAGCCAACCGATACTTTTCTCCAAATTTTAAGGTGAAGCTGTACTTCACAAAAACAGTAGAGGAGCCGTCAAATCCAGAGGCTAGCAGTTCAACTTCTGTAACACCAGATGTTAGTGACAATGAACCTGATCATTATAGATATTCTGACACCACTGACTCTGATCCAGAGAATGAACCTTTTGATGAAGATCAGCATACACAAATTACAAAAGTCTGA'\n",
    "PTEN_coding_sequence_extra_bases = 'CATGACAGCCATCATCAAAGAGATCGTTAGCAGAAACAAAAGGAGATATCAAGAGGATGGATTCGACTTAGACTTGACCTATATTTATCCAAACATTATTGCTATGGGATTTCCTGCAGAAAGACTTGAAGGCGTATACAGGAACAATATTGATGATGTAGTAAGGTTTTTGGATTCAAAGCATAAAAACCATTACAAGATATACAATCTTTGTGCTGAAAGACATTATGACACCGCCAAATTTAATTGCAGAGTTGCACAATATCCTTTTGAAGACCATAACCCACCACAGCTAGAACTTATCAAACCCTTTTGTGAAGATCTTGACCAATGGCTAAGTGAAGATGACAATCATGTTGCAGCAATTCACTGTAAAGCTGGAAAGGGACGAACTGGTGTAATGATATGTGCATATTTATTACATCGGGGCAAATTTTTAAAGGCACAAGAGGCCCTAGATTTCTATGGGGAAGTAAGGACCAGAGACAAAAAGGGAGTAACTATTCCCAGTCAGAGGCGCTATGTGTATTATTATAGCTACCTGTTAAAGAATCATCTGGATTATAGACCAGTGGCACTGTTGTTTCACAAGATGATGTTTGAAACTATTCCAATGTTCAGTGGCGGAACTTGCAATCCTCAGTTTGTGGTCTGCCAGCTAAAGGTGAAGATATATTCCTCCAATTCAGGACCCACACGACGGGAAGACAAGTTCATGTACTTTGAGTTCCCTCAGCCGTTACCTGTGTGTGGTGATATCAAAGTAGAGTTCTTCCACAAACAGAACAAGATGCTAAAAAAGGACAAAATGTTTCACTTTTGGGTAAATACATTCTTCATACCAGGACCAGAGGAAACCTCAGAAAAAGTAGAAAATGGAAGTCTATGTGATCAAGAAATCGATAGCATTTGCAGTATAGAGCGTGCAGATAATGACAAGGAATATCTAGTACTTACTTTAACAAAAAATGATCTTGACAAAGCAAATAAAGACAAAGCCAACCGATACTTTTCTCCAAATTTTAAGGTGAAGCTGTACTTCACAAAAACAGTAGAGGAGCCGTCAAATCCAGAGGCTAGCAGTTCAACTTCTGTAACACCAGATGTTAGTGACAATGAACCTGATCATTATAGATATTCTGACACCACTGACTCTGATCCAGAGAATGAACCTTTTGATGAAGATCAGCATACACAAATTACAAAAGTCTGAA'"
   ]
  },
  {
   "cell_type": "code",
   "execution_count": 162,
   "metadata": {
    "scrolled": true
   },
   "outputs": [
    {
     "name": "stdout",
     "output_type": "stream",
     "text": [
      "Total summed synonymous mutation rate across region =  1.509364302e-07\n"
     ]
    }
   ],
   "source": [
    "PTEN_5 = synonymous_mutation_rate_across_gene('PTEN', PTEN_coding_sequence, PTEN_coding_sequence_extra_bases, 84, 164)"
   ]
  },
  {
   "cell_type": "code",
   "execution_count": 163,
   "metadata": {
    "scrolled": true
   },
   "outputs": [
    {
     "name": "stdout",
     "output_type": "stream",
     "text": [
      "Total summed synonymous mutation rate across region =  1.3190793809999997e-07\n"
     ]
    }
   ],
   "source": [
    "PTEN_7 = synonymous_mutation_rate_across_gene('PTEN', PTEN_coding_sequence, PTEN_coding_sequence_extra_bases, 211, 267)"
   ]
  },
  {
   "cell_type": "markdown",
   "metadata": {},
   "source": [
    "## PTPN11 (exons 3 and 13)"
   ]
  },
  {
   "cell_type": "markdown",
   "metadata": {},
   "source": [
    "- ENST00000351677.2 transcript."
   ]
  },
  {
   "cell_type": "markdown",
   "metadata": {},
   "source": [
    "#### Mutation rate for synonymous variants across PTPN11 regions included in panel"
   ]
  },
  {
   "cell_type": "code",
   "execution_count": 164,
   "metadata": {},
   "outputs": [],
   "source": [
    "PTPN11_coding_sequence = 'ATGACATCGCGGAGATGGTTTCACCCAAATATCACTGGTGTGGAGGCAGAAAACCTACTGTTGACAAGAGGAGTTGATGGCAGTTTTTTGGCAAGGCCTAGTAAAAGTAACCCTGGAGACTTCACACTTTCCGTTAGAAGAAATGGAGCTGTCACCCACATCAAGATTCAGAACACTGGTGATTACTATGACCTGTATGGAGGGGAGAAATTTGCCACTTTGGCTGAGTTGGTCCAGTATTACATGGAACATCACGGGCAATTAAAAGAGAAGAATGGAGATGTCATTGAGCTTAAATATCCTCTGAACTGTGCAGATCCTACCTCTGAAAGGTGGTTTCATGGACATCTCTCTGGGAAAGAAGCAGAGAAATTATTAACTGAAAAAGGAAAACATGGTAGTTTTCTTGTACGAGAGAGCCAGAGCCACCCTGGAGATTTTGTTCTTTCTGTGCGCACTGGTGATGACAAAGGGGAGAGCAATGACGGCAAGTCTAAAGTGACCCATGTTATGATTCGCTGTCAGGAACTGAAATACGACGTTGGTGGAGGAGAACGGTTTGATTCTTTGACAGATCTTGTGGAACATTATAAGAAGAATCCTATGGTGGAAACATTGGGTACAGTACTACAACTCAAGCAGCCCCTTAACACGACTCGTATAAATGCTGCTGAAATAGAAAGCAGAGTTCGAGAACTAAGCAAATTAGCTGAGACCACAGATAAAGTCAAACAAGGCTTTTGGGAAGAATTTGAGACACTACAACAACAGGAGTGCAAACTTCTCTACAGCCGAAAAGAGGGTCAAAGGCAAGAAAACAAAAACAAAAATAGATATAAAAACATCCTGCCCTTTGATCATACCAGGGTTGTCCTACACGATGGTGATCCCAATGAGCCTGTTTCAGATTACATCAATGCAAATATCATCATGCCTGAATTTGAAACCAAGTGCAACAATTCAAAGCCCAAAAAGAGTTACATTGCCACACAAGGCTGCCTGCAAAACACGGTGAATGACTTTTGGCGGATGGTGTTCCAAGAAAACTCCCGAGTGATTGTCATGACAACGAAAGAAGTGGAGAGAGGAAAGAGTAAATGTGTCAAATACTGGCCTGATGAGTATGCTCTAAAAGAATATGGCGTCATGCGTGTTAGGAACGTCAAAGAAAGCGCCGCTCATGACTATACGCTAAGAGAACTTAAACTTTCAAAGGTTGGACAAGGGAATACGGAGAGAACGGTCTGGCAATACCACTTTCGGACCTGGCCGGACCACGGCGTGCCCAGCGACCCTGGGGGCGTGCTGGACTTCCTGGAGGAGGTGCACCATAAGCAGGAGAGCATCATGGATGCAGGGCCGGTCGTGGTGCACTGCAGTGCTGGAATTGGCCGGACAGGGACGTTCATTGTGATTGATATTCTTATTGACATCATCAGAGAGAAAGGTGTTGACTGCGATATTGACGTTCCCAAAACCATCCAGATGGTGCGGTCTCAGAGGTCAGGGATGGTCCAGACAGAAGCACAGTACCGATTTATCTATATGGCGGTCCAGCATTATATTGAAACACTACAGCGCAGGATTGAAGAAGAGCAGAAAAGCAAGAGGAAAGGGCACGAATATACAAATATTAAGTATTCTCTAGCGGACCAGACGAGTGGAGATCAGAGCCCTCTCCCGCCTTGTACTCCAACGCCACCCTGTGCAGAAATGAGAGAAGACAGTGCTAGAGTCTATGAAAACGTGGGCCTGATGCAACAGCAGAAAAGTTTCAGATGA'\n",
    "PTPN11_coding_sequence_extra_bases = 'CATGACATCGCGGAGATGGTTTCACCCAAATATCACTGGTGTGGAGGCAGAAAACCTACTGTTGACAAGAGGAGTTGATGGCAGTTTTTTGGCAAGGCCTAGTAAAAGTAACCCTGGAGACTTCACACTTTCCGTTAGAAGAAATGGAGCTGTCACCCACATCAAGATTCAGAACACTGGTGATTACTATGACCTGTATGGAGGGGAGAAATTTGCCACTTTGGCTGAGTTGGTCCAGTATTACATGGAACATCACGGGCAATTAAAAGAGAAGAATGGAGATGTCATTGAGCTTAAATATCCTCTGAACTGTGCAGATCCTACCTCTGAAAGGTGGTTTCATGGACATCTCTCTGGGAAAGAAGCAGAGAAATTATTAACTGAAAAAGGAAAACATGGTAGTTTTCTTGTACGAGAGAGCCAGAGCCACCCTGGAGATTTTGTTCTTTCTGTGCGCACTGGTGATGACAAAGGGGAGAGCAATGACGGCAAGTCTAAAGTGACCCATGTTATGATTCGCTGTCAGGAACTGAAATACGACGTTGGTGGAGGAGAACGGTTTGATTCTTTGACAGATCTTGTGGAACATTATAAGAAGAATCCTATGGTGGAAACATTGGGTACAGTACTACAACTCAAGCAGCCCCTTAACACGACTCGTATAAATGCTGCTGAAATAGAAAGCAGAGTTCGAGAACTAAGCAAATTAGCTGAGACCACAGATAAAGTCAAACAAGGCTTTTGGGAAGAATTTGAGACACTACAACAACAGGAGTGCAAACTTCTCTACAGCCGAAAAGAGGGTCAAAGGCAAGAAAACAAAAACAAAAATAGATATAAAAACATCCTGCCCTTTGATCATACCAGGGTTGTCCTACACGATGGTGATCCCAATGAGCCTGTTTCAGATTACATCAATGCAAATATCATCATGCCTGAATTTGAAACCAAGTGCAACAATTCAAAGCCCAAAAAGAGTTACATTGCCACACAAGGCTGCCTGCAAAACACGGTGAATGACTTTTGGCGGATGGTGTTCCAAGAAAACTCCCGAGTGATTGTCATGACAACGAAAGAAGTGGAGAGAGGAAAGAGTAAATGTGTCAAATACTGGCCTGATGAGTATGCTCTAAAAGAATATGGCGTCATGCGTGTTAGGAACGTCAAAGAAAGCGCCGCTCATGACTATACGCTAAGAGAACTTAAACTTTCAAAGGTTGGACAAGGGAATACGGAGAGAACGGTCTGGCAATACCACTTTCGGACCTGGCCGGACCACGGCGTGCCCAGCGACCCTGGGGGCGTGCTGGACTTCCTGGAGGAGGTGCACCATAAGCAGGAGAGCATCATGGATGCAGGGCCGGTCGTGGTGCACTGCAGTGCTGGAATTGGCCGGACAGGGACGTTCATTGTGATTGATATTCTTATTGACATCATCAGAGAGAAAGGTGTTGACTGCGATATTGACGTTCCCAAAACCATCCAGATGGTGCGGTCTCAGAGGTCAGGGATGGTCCAGACAGAAGCACAGTACCGATTTATCTATATGGCGGTCCAGCATTATATTGAAACACTACAGCGCAGGATTGAAGAAGAGCAGAAAAGCAAGAGGAAAGGGCACGAATATACAAATATTAAGTATTCTCTAGCGGACCAGACGAGTGGAGATCAGAGCCCTCTCCCGCCTTGTACTCCAACGCCACCCTGTGCAGAAATGAGAGAAGACAGTGCTAGAGTCTATGAAAACGTGGGCCTGATGCAACAGCAGAAAAGTTTCAGATGAG'"
   ]
  },
  {
   "cell_type": "code",
   "execution_count": 165,
   "metadata": {
    "scrolled": true
   },
   "outputs": [
    {
     "name": "stdout",
     "output_type": "stream",
     "text": [
      "Total summed synonymous mutation rate across region =  1.4404358810000003e-07\n"
     ]
    }
   ],
   "source": [
    "PTPN11_3 = synonymous_mutation_rate_across_gene('PTPN11', PTPN11_coding_sequence, PTPN11_coding_sequence_extra_bases, 45, 111)"
   ]
  },
  {
   "cell_type": "code",
   "execution_count": 166,
   "metadata": {},
   "outputs": [
    {
     "name": "stdout",
     "output_type": "stream",
     "text": [
      "Total summed synonymous mutation rate across region =  1.414280163e-07\n"
     ]
    }
   ],
   "source": [
    "PTPN11_13 = synonymous_mutation_rate_across_gene('PTPN11', PTPN11_coding_sequence, PTPN11_coding_sequence_extra_bases, 482, 533)"
   ]
  },
  {
   "cell_type": "code",
   "execution_count": 167,
   "metadata": {},
   "outputs": [],
   "source": [
    "PTPN11_synonymous = PTPN11_3 + PTPN11_13"
   ]
  },
  {
   "cell_type": "markdown",
   "metadata": {},
   "source": [
    "#### Mutation rate for excluded synonymous PTPN11 variants"
   ]
  },
  {
   "cell_type": "code",
   "execution_count": 168,
   "metadata": {
    "code_folding": [
     0
    ]
   },
   "outputs": [],
   "source": [
    "#Create a dictionary of the excluded synonymous variants in PTPN11:\n",
    "import csv\n",
    "filename=\"Young_excluded_synonymous_1000_genomes.csv\"\n",
    "\n",
    "with open(filename, 'r') as csvfile:\n",
    "    read_reader = csv.reader(csvfile)  #csv.reader returns a reader object which will iterate over lines in the csvfile\n",
    "    row_count=0\n",
    "    excluded_PTPN11_synonymous_variants={} #dictionary of DNMTA results (key = ID (row[13]), value = VAF (row[10]))\n",
    "\n",
    "    for row in read_reader:\n",
    "#         print(row)\n",
    "        if row_count>0:\n",
    "            gene = row[0]\n",
    "            variant = row[1]\n",
    "            AA_coordinate = row[11]\n",
    "            variant_ID = row[2]\n",
    "            if row[0]=='PTPN11':\n",
    "                excluded_PTPN11_synonymous_variants[variant]=(gene, AA_coordinate, variant_ID)\n",
    "\n",
    "        row_count=row_count+1"
   ]
  },
  {
   "cell_type": "code",
   "execution_count": 169,
   "metadata": {
    "scrolled": false
   },
   "outputs": [
    {
     "name": "stdout",
     "output_type": "stream",
     "text": [
      "Total summed mutation rate across excluded synonymous variants =  9.72077e-09\n"
     ]
    }
   ],
   "source": [
    "PTPN11_excluded = synonymous_excluded_variants_mutation_rate('PTPN11', PTPN11_coding_sequence, PTPN11_coding_sequence_extra_bases, \\\n",
    "                                                           excluded_PTPN11_synonymous_variants)"
   ]
  },
  {
   "cell_type": "markdown",
   "metadata": {},
   "source": [
    "#### Total synonymous mutation rate for PTPN11"
   ]
  },
  {
   "cell_type": "code",
   "execution_count": 170,
   "metadata": {
    "code_folding": [
     0
    ],
    "scrolled": true
   },
   "outputs": [
    {
     "name": "stdout",
     "output_type": "stream",
     "text": [
      "Synonymous mutation rate across PTPN11 =  2.7575083440000006e-07\n"
     ]
    }
   ],
   "source": [
    "#Subtract the mutation rate of the excluded variants from the total mutation rate for PTPN11 synonymous variants across the panel\n",
    "PTPN11 = PTPN11_synonymous - PTPN11_excluded\n",
    "print(\"Synonymous mutation rate across PTPN11 = \", PTPN11)"
   ]
  },
  {
   "cell_type": "markdown",
   "metadata": {},
   "source": [
    "## RAD21"
   ]
  },
  {
   "cell_type": "markdown",
   "metadata": {},
   "source": [
    "- ENST00000297338.2 transcript."
   ]
  },
  {
   "cell_type": "markdown",
   "metadata": {},
   "source": [
    "#### Mutation rate for synonymous variants across RAD21 regions included in panel"
   ]
  },
  {
   "cell_type": "code",
   "execution_count": 171,
   "metadata": {},
   "outputs": [],
   "source": [
    "RAD21_coding_sequence = 'ATGTTCTACGCACATTTTGTTCTCAGTAAAAGAGGGCCTCTGGCCAAAATTTGGCTAGCGGCCCATTGGGATAAGAAGCTAACCAAAGCCCATGTGTTCGAGTGTAATTTAGAGAGCAGCGTGGAGAGTATCATCTCACCAAAGGTGAAAATGGCATTACGGACATCAGGACATCTCTTACTGGGAGTAGTTCGAATCTATCACAGGAAAGCCAAATACCTTCTTGCAGACTGTAATGAAGCATTCATTAAGATAAAGATGGCTTTTCGGCCAGGTGTGGTTGACCTGCCTGAGGAAAATCGGGAAGCAGCTTATAATGCCATTACTTTACCTGAAGAATTTCATGACTTTGATCAGCCACTGCCTGACTTAGATGACATCGATGTGGCCCAGCAGTTCAGCTTGAATCAGAGTAGAGTGGAAGAGATAACCATGAGAGAAGAAGTTGGGAACATCAGTATTTTACAAGAAAATGATTTTGGTGATTTTGGAATGGATGATCGTGAGATAATGAGAGAAGGCAGTGCTTTTGAGGATGACGACATGTTAGTAAGCACTACTACTTCTAACCTCCTATTAGAGTCTGAACAGAGCACCAGCAATCTGAATGAGAAAATTAACCATTTAGAATATGAAGATCAATATAAGGATGATAATTTTGGAGAAGGAAATGATGGTGGAATATTAGATGACAAACTTATTAGTAATAATGATGGCGGTATCTTTGATGATCCCCCTGCCCTCTCTGAGGCAGGGGTGATGTTGCCAGAGCAGCCTGCACATGACGATATGGATGAGGATGATAATGTATCAATGGGTGGGCCTGATAGTCCTGATTCAGTGGATCCCGTTGAACCAATGCCAACCATGACTGATCAAACAACACTTGTTCCAAATGAGGAAGAAGCATTTGCATTGGAGCCTATTGATATAACTGTTAAAGAAACAAAAGCCAAGAGGAAGAGGAAGCTAATTGTTGACAGTGTCAAAGAGTTGGATAGCAAGACAATTAGAGCCCAACTTAGTGATTATTCAGATATTGTTACTACTTTGGATCTGGCACCGCCCACCAAGAAATTGATGATGTGGAAAGAGACAGGAGGAGTAGAAAAACTGTTTTCTTTACCTGCTCAGCCTTTGTGGAATAACAGACTACTGAAGCTCTTTACACGCTGTCTTACACCGCTTGTACCAGAAGACCTTAGAAAAAGGAGGAAAGGAGGAGAGGCAGATAATTTGGATGAATTCCTCAAAGAATTTGAAAATCCAGAGGTTCCTAGAGAGGACCAGCAACAGCAGCATCAGCAGCGTGATGTTATCGATGAGCCCATTATTGAAGAGCCAAGCCGCCTCCAGGAGTCAGTGATGGAGGCCAGCAGAACAAACATAGATGAGTCAGCTATGCCTCCACCACCACCTCAGGGAGTTAAGCGAAAAGCTGGACAAATTGACCCAGAGCCTGTGATGCCTCCTCAGCAGGTAGAGCAGATGGAAATACCACCTGTAGAGCTTCCCCCAGAAGAACCTCCAAATATCTGTCAGCTAATACCAGAGTTAGAACTTCTGCCAGAAAAAGAGAAGGAGAAAGAGAAGGAAAAAGAAGATGATGAAGAGGAAGAGGATGAAGATGCATCAGGGGGCGATCAAGATCAGGAAGAAAGAAGATGGAACAAAAGGACTCAGCAGATGCTTCATGGTCTTCAGCGTGCTCTTGCTAAAACTGGAGCTGAATCTATCAGTTTGCTTGAGTTATGTCGAAATACGAACAGAAAACAAGCTGCCGCAAAGTTCTACAGCTTCTTGGTTCTTAAAAAGCAGCAAGCTATTGAGCTGACACAGGAAGAACCGTACAGTGACATCATCGCAACACCTGGACCAAGGTTCCATATTATATAA'\n",
    "RAD21_coding_sequence_extra_bases = 'AATGTTCTACGCACATTTTGTTCTCAGTAAAAGAGGGCCTCTGGCCAAAATTTGGCTAGCGGCCCATTGGGATAAGAAGCTAACCAAAGCCCATGTGTTCGAGTGTAATTTAGAGAGCAGCGTGGAGAGTATCATCTCACCAAAGGTGAAAATGGCATTACGGACATCAGGACATCTCTTACTGGGAGTAGTTCGAATCTATCACAGGAAAGCCAAATACCTTCTTGCAGACTGTAATGAAGCATTCATTAAGATAAAGATGGCTTTTCGGCCAGGTGTGGTTGACCTGCCTGAGGAAAATCGGGAAGCAGCTTATAATGCCATTACTTTACCTGAAGAATTTCATGACTTTGATCAGCCACTGCCTGACTTAGATGACATCGATGTGGCCCAGCAGTTCAGCTTGAATCAGAGTAGAGTGGAAGAGATAACCATGAGAGAAGAAGTTGGGAACATCAGTATTTTACAAGAAAATGATTTTGGTGATTTTGGAATGGATGATCGTGAGATAATGAGAGAAGGCAGTGCTTTTGAGGATGACGACATGTTAGTAAGCACTACTACTTCTAACCTCCTATTAGAGTCTGAACAGAGCACCAGCAATCTGAATGAGAAAATTAACCATTTAGAATATGAAGATCAATATAAGGATGATAATTTTGGAGAAGGAAATGATGGTGGAATATTAGATGACAAACTTATTAGTAATAATGATGGCGGTATCTTTGATGATCCCCCTGCCCTCTCTGAGGCAGGGGTGATGTTGCCAGAGCAGCCTGCACATGACGATATGGATGAGGATGATAATGTATCAATGGGTGGGCCTGATAGTCCTGATTCAGTGGATCCCGTTGAACCAATGCCAACCATGACTGATCAAACAACACTTGTTCCAAATGAGGAAGAAGCATTTGCATTGGAGCCTATTGATATAACTGTTAAAGAAACAAAAGCCAAGAGGAAGAGGAAGCTAATTGTTGACAGTGTCAAAGAGTTGGATAGCAAGACAATTAGAGCCCAACTTAGTGATTATTCAGATATTGTTACTACTTTGGATCTGGCACCGCCCACCAAGAAATTGATGATGTGGAAAGAGACAGGAGGAGTAGAAAAACTGTTTTCTTTACCTGCTCAGCCTTTGTGGAATAACAGACTACTGAAGCTCTTTACACGCTGTCTTACACCGCTTGTACCAGAAGACCTTAGAAAAAGGAGGAAAGGAGGAGAGGCAGATAATTTGGATGAATTCCTCAAAGAATTTGAAAATCCAGAGGTTCCTAGAGAGGACCAGCAACAGCAGCATCAGCAGCGTGATGTTATCGATGAGCCCATTATTGAAGAGCCAAGCCGCCTCCAGGAGTCAGTGATGGAGGCCAGCAGAACAAACATAGATGAGTCAGCTATGCCTCCACCACCACCTCAGGGAGTTAAGCGAAAAGCTGGACAAATTGACCCAGAGCCTGTGATGCCTCCTCAGCAGGTAGAGCAGATGGAAATACCACCTGTAGAGCTTCCCCCAGAAGAACCTCCAAATATCTGTCAGCTAATACCAGAGTTAGAACTTCTGCCAGAAAAAGAGAAGGAGAAAGAGAAGGAAAAAGAAGATGATGAAGAGGAAGAGGATGAAGATGCATCAGGGGGCGATCAAGATCAGGAAGAAAGAAGATGGAACAAAAGGACTCAGCAGATGCTTCATGGTCTTCAGCGTGCTCTTGCTAAAACTGGAGCTGAATCTATCAGTTTGCTTGAGTTATGTCGAAATACGAACAGAAAACAAGCTGCCGCAAAGTTCTACAGCTTCTTGGTTCTTAAAAAGCAGCAAGCTATTGAGCTGACACAGGAAGAACCGTACAGTGACATCATCGCAACACCTGGACCAAGGTTCCATATTATATAAG'"
   ]
  },
  {
   "cell_type": "code",
   "execution_count": 172,
   "metadata": {
    "scrolled": false
   },
   "outputs": [
    {
     "name": "stdout",
     "output_type": "stream",
     "text": [
      "Total summed synonymous mutation rate across region =  1.3429618725e-06\n"
     ]
    }
   ],
   "source": [
    "RAD21_synonymous = synonymous_mutation_rate_across_gene('RAD21', RAD21_coding_sequence, RAD21_coding_sequence_extra_bases, 0, 632)"
   ]
  },
  {
   "cell_type": "markdown",
   "metadata": {},
   "source": [
    "#### Mutation rate for excluded synonymous RAD21 variants"
   ]
  },
  {
   "cell_type": "code",
   "execution_count": 173,
   "metadata": {
    "code_folding": [
     0
    ]
   },
   "outputs": [],
   "source": [
    "#Create a dictionary of the excluded synonymous variants in RAD21:\n",
    "import csv\n",
    "filename=\"Young_excluded_synonymous_1000_genomes.csv\"\n",
    "\n",
    "with open(filename, 'r') as csvfile:\n",
    "    read_reader = csv.reader(csvfile)  #csv.reader returns a reader object which will iterate over lines in the csvfile\n",
    "    row_count=0\n",
    "    excluded_RAD21_synonymous_variants={} #dictionary of DNMTA results (key = ID (row[13]), value = VAF (row[10]))\n",
    "\n",
    "    for row in read_reader:\n",
    "#         print(row)\n",
    "        if row_count>0:\n",
    "            gene = row[0]\n",
    "            variant = row[1]\n",
    "            AA_coordinate = row[11]\n",
    "            variant_ID = row[2]\n",
    "            if row[0]=='RAD21':\n",
    "                excluded_RAD21_synonymous_variants[variant]=(gene, AA_coordinate, variant_ID)\n",
    "\n",
    "        row_count=row_count+1"
   ]
  },
  {
   "cell_type": "code",
   "execution_count": 174,
   "metadata": {
    "scrolled": false
   },
   "outputs": [
    {
     "name": "stdout",
     "output_type": "stream",
     "text": [
      "Total summed mutation rate across excluded synonymous variants =  2.120538e-09\n"
     ]
    }
   ],
   "source": [
    "RAD21_excluded = synonymous_excluded_variants_mutation_rate('RAD21', RAD21_coding_sequence, RAD21_coding_sequence_extra_bases, \\\n",
    "                                                           excluded_RAD21_synonymous_variants)"
   ]
  },
  {
   "cell_type": "markdown",
   "metadata": {},
   "source": [
    "#### Total synonymous mutation rate for RAD21"
   ]
  },
  {
   "cell_type": "code",
   "execution_count": 175,
   "metadata": {
    "code_folding": [
     0
    ],
    "scrolled": true
   },
   "outputs": [
    {
     "name": "stdout",
     "output_type": "stream",
     "text": [
      "Synonymous mutation rate across RAD21 =  1.3408413345000001e-06\n"
     ]
    }
   ],
   "source": [
    "#Subtract the mutation rate of the excluded variants from the total mutation rate for RAD21 synonymous variants across the panel\n",
    "RAD21 = RAD21_synonymous - RAD21_excluded\n",
    "print(\"Synonymous mutation rate across RAD21 = \", RAD21)"
   ]
  },
  {
   "cell_type": "markdown",
   "metadata": {},
   "source": [
    "## RUNX1"
   ]
  },
  {
   "cell_type": "markdown",
   "metadata": {},
   "source": [
    "- ENST00000437180.1 transcript."
   ]
  },
  {
   "cell_type": "markdown",
   "metadata": {},
   "source": [
    "#### Mutation rate for synonymous variants across RUNX1 regions included in panel"
   ]
  },
  {
   "cell_type": "code",
   "execution_count": 176,
   "metadata": {},
   "outputs": [],
   "source": [
    "RUNX1_coding_sequence = 'ATGGCTTCAGACAGCATATTTGAGTCATTTCCTTCGTACCCACAGTGCTTCATGAGAGAATGCATACTTGGAATGAATCCTTCTAGAGACGTCCACGATGCCAGCACGAGCCGCCGCTTCACGCCGCCTTCCACCGCGCTGAGCCCAGGCAAGATGAGCGAGGCGTTGCCGCTGGGCGCCCCGGACGCCGGCGCTGCCCTGGCCGGCAAGCTGAGGAGCGGCGACCGCAGCATGGTGGAGGTGCTGGCCGACCACCCGGGCGAGCTGGTGCGCACCGACAGCCCCAACTTCCTCTGCTCCGTGCTGCCTACGCACTGGCGCTGCAACAAGACCCTGCCCATCGCTTTCAAGGTGGTGGCCCTAGGGGATGTTCCAGATGGCACTCTGGTCACTGTGATGGCTGGCAATGATGAAAACTACTCGGCTGAGCTGAGAAATGCTACCGCAGCCATGAAGAACCAGGTTGCAAGATTTAATGACCTCAGGTTTGTCGGTCGAAGTGGAAGAGGGAAAAGCTTCACTCTGACCATCACTGTCTTCACAAACCCACCGCAAGTCGCCACCTACCACAGAGCCATCAAAATCACAGTGGATGGGCCCCGAGAACCTCGAAGACATCGGCAGAAACTAGATGATCAGACCAAGCCCGGGAGCTTGTCCTTTTCCGAGCGGCTCAGTGAACTGGAGCAGCTGCGGCGCACAGCCATGAGGGTCAGCCCACACCACCCAGCCCCCACGCCCAACCCTCGTGCCTCCCTGAACCACTCCACTGCCTTTAACCCTCAGCCTCAGAGTCAGATGCAGGATACAAGGCAGATCCAACCATCCCCACCGTGGTCCTACGATCAGTCCTACCAATACCTGGGATCCATTGCCTCTCCTTCTGTGCACCCAGCAACGCCCATTTCACCTGGACGTGCCAGCGGCATGACAACCCTCTCTGCAGAACTTTCCAGTCGACTCTCAACGGCACCCGACCTGACAGCGTTCAGCGACCCGCGCCAGTTCCCCGCGCTGCCCTCCATCTCCGACCCCCGCATGCACTATCCAGGCGCCTTCACCTACTCCCCGACGCCGGTCACCTCGGGCATCGGCATCGGCATGTCGGCCATGGGCTCGGCCACGCGCTACCACACCTACCTGCCGCCGCCCTACCCCGGCTCGTCGCAAGCGCAGGGAGGCCCGTTCCAAGCCAGCTCGCCCTCCTACCACCTGTACTACGGCGCCTCGGCCGGCTCCTACCAGTTCTCCATGGTGGGCGGCGAGCGCTCGCCGCCGCGCATCCTGCCGCCCTGCACCAACGCCTCCACCGGCTCCGCGCTGCTCAACCCCAGCCTCCCGAACCAGAGCGACGTGGTGGAGGCCGAGGGCAGCCACAGCAACTCCCCCACCAACATGGCGCCCTCCGCGCGCCTGGAGGAGGCCGTGTGGAGGCCCTACTGA'\n",
    "RUNX1_coding_sequence_extra_bases = 'GATGGCTTCAGACAGCATATTTGAGTCATTTCCTTCGTACCCACAGTGCTTCATGAGAGAATGCATACTTGGAATGAATCCTTCTAGAGACGTCCACGATGCCAGCACGAGCCGCCGCTTCACGCCGCCTTCCACCGCGCTGAGCCCAGGCAAGATGAGCGAGGCGTTGCCGCTGGGCGCCCCGGACGCCGGCGCTGCCCTGGCCGGCAAGCTGAGGAGCGGCGACCGCAGCATGGTGGAGGTGCTGGCCGACCACCCGGGCGAGCTGGTGCGCACCGACAGCCCCAACTTCCTCTGCTCCGTGCTGCCTACGCACTGGCGCTGCAACAAGACCCTGCCCATCGCTTTCAAGGTGGTGGCCCTAGGGGATGTTCCAGATGGCACTCTGGTCACTGTGATGGCTGGCAATGATGAAAACTACTCGGCTGAGCTGAGAAATGCTACCGCAGCCATGAAGAACCAGGTTGCAAGATTTAATGACCTCAGGTTTGTCGGTCGAAGTGGAAGAGGGAAAAGCTTCACTCTGACCATCACTGTCTTCACAAACCCACCGCAAGTCGCCACCTACCACAGAGCCATCAAAATCACAGTGGATGGGCCCCGAGAACCTCGAAGACATCGGCAGAAACTAGATGATCAGACCAAGCCCGGGAGCTTGTCCTTTTCCGAGCGGCTCAGTGAACTGGAGCAGCTGCGGCGCACAGCCATGAGGGTCAGCCCACACCACCCAGCCCCCACGCCCAACCCTCGTGCCTCCCTGAACCACTCCACTGCCTTTAACCCTCAGCCTCAGAGTCAGATGCAGGATACAAGGCAGATCCAACCATCCCCACCGTGGTCCTACGATCAGTCCTACCAATACCTGGGATCCATTGCCTCTCCTTCTGTGCACCCAGCAACGCCCATTTCACCTGGACGTGCCAGCGGCATGACAACCCTCTCTGCAGAACTTTCCAGTCGACTCTCAACGGCACCCGACCTGACAGCGTTCAGCGACCCGCGCCAGTTCCCCGCGCTGCCCTCCATCTCCGACCCCCGCATGCACTATCCAGGCGCCTTCACCTACTCCCCGACGCCGGTCACCTCGGGCATCGGCATCGGCATGTCGGCCATGGGCTCGGCCACGCGCTACCACACCTACCTGCCGCCGCCCTACCCCGGCTCGTCGCAAGCGCAGGGAGGCCCGTTCCAAGCCAGCTCGCCCTCCTACCACCTGTACTACGGCGCCTCGGCCGGCTCCTACCAGTTCTCCATGGTGGGCGGCGAGCGCTCGCCGCCGCGCATCCTGCCGCCCTGCACCAACGCCTCCACCGGCTCCGCGCTGCTCAACCCCAGCCTCCCGAACCAGAGCGACGTGGTGGAGGCCGAGGGCAGCCACAGCAACTCCCCCACCAACATGGCGCCCTCCGCGCGCCTGGAGGAGGCCGTGTGGAGGCCCTACTGAG'"
   ]
  },
  {
   "cell_type": "code",
   "execution_count": 177,
   "metadata": {
    "scrolled": true
   },
   "outputs": [
    {
     "name": "stdout",
     "output_type": "stream",
     "text": [
      "Total summed synonymous mutation rate across region =  2.4698962684e-06\n"
     ]
    }
   ],
   "source": [
    "RUNX1_synonymous = synonymous_mutation_rate_across_gene('RUNX1', RUNX1_coding_sequence, RUNX1_coding_sequence_extra_bases, 0, 481)"
   ]
  },
  {
   "cell_type": "markdown",
   "metadata": {},
   "source": [
    "#### Mutation rate for excluded synonymous RUNX1 variants"
   ]
  },
  {
   "cell_type": "code",
   "execution_count": 178,
   "metadata": {
    "code_folding": [
     0
    ]
   },
   "outputs": [],
   "source": [
    "#Create a dictionary of the excluded synonymous variants in RUNX1:\n",
    "import csv\n",
    "filename=\"Young_excluded_synonymous_1000_genomes.csv\"\n",
    "\n",
    "with open(filename, 'r') as csvfile:\n",
    "    read_reader = csv.reader(csvfile)  #csv.reader returns a reader object which will iterate over lines in the csvfile\n",
    "    row_count=0\n",
    "    excluded_RUNX1_synonymous_variants={} #dictionary of DNMTA results (key = ID (row[13]), value = VAF (row[10]))\n",
    "\n",
    "    for row in read_reader:\n",
    "#         print(row)\n",
    "        if row_count>0:\n",
    "            gene = row[0]\n",
    "            variant = row[1]\n",
    "            AA_coordinate = row[11]\n",
    "            variant_ID = row[2]\n",
    "            if row[0]=='RUNX1':\n",
    "                excluded_RUNX1_synonymous_variants[variant]=(gene, AA_coordinate, variant_ID)\n",
    "\n",
    "        row_count=row_count+1"
   ]
  },
  {
   "cell_type": "code",
   "execution_count": 179,
   "metadata": {
    "scrolled": false
   },
   "outputs": [
    {
     "name": "stdout",
     "output_type": "stream",
     "text": [
      "Total summed mutation rate across excluded synonymous variants =  1.1664621e-08\n"
     ]
    }
   ],
   "source": [
    "RUNX1_excluded = synonymous_excluded_variants_mutation_rate('RUNX1', RUNX1_coding_sequence, RUNX1_coding_sequence_extra_bases, \\\n",
    "                                                           excluded_RUNX1_synonymous_variants)"
   ]
  },
  {
   "cell_type": "markdown",
   "metadata": {},
   "source": [
    "#### Total synonymous mutation rate for RUNX1"
   ]
  },
  {
   "cell_type": "code",
   "execution_count": 180,
   "metadata": {
    "code_folding": [
     0
    ],
    "scrolled": true
   },
   "outputs": [
    {
     "name": "stdout",
     "output_type": "stream",
     "text": [
      "Synonymous mutation rate across RUNX1 =  2.4582316474e-06\n"
     ]
    }
   ],
   "source": [
    "#Subtract the mutation rate of the excluded variants from the total mutation rate for RUNX1 synonymous variants across the panel\n",
    "RUNX1 = RUNX1_synonymous - RUNX1_excluded\n",
    "print(\"Synonymous mutation rate across RUNX1 = \", RUNX1)"
   ]
  },
  {
   "cell_type": "markdown",
   "metadata": {},
   "source": [
    "## SETBP1 (exon 4)"
   ]
  },
  {
   "cell_type": "markdown",
   "metadata": {},
   "source": [
    "- ENST00000282030.5 transcript."
   ]
  },
  {
   "cell_type": "markdown",
   "metadata": {},
   "source": [
    "#### Mutation rate for synonymous variants across SETBP1 regions included in panel"
   ]
  },
  {
   "cell_type": "code",
   "execution_count": 181,
   "metadata": {},
   "outputs": [],
   "source": [
    "SETBP1_coding_sequence = 'ATGGAGTCCAGGGAAACCTTAAGCAGCTCCCGGCAAAGAGGGGGCGAGTCAGACTTCCTGCCGGTCTCCTCAGCCAAGCCCCCAGCTGCTCCTGGCTGTGCAGGAGAACCTTTGCTCTCCACTCCAGGACCTGGGAAGGGGATCCCGGTGGGCGGAGAGCGCATGGAGCCAGAGGAGGAGGATGAACTAGGCTCAGGGCGGGATGTGGATTCCAACTCCAACGCGGACAGTGAGAAATGGGTGGCAGGAGATGGTTTGGAAGAGCAGGAATTTTCTATCAAGGAGGCAAACTTCACAGAGGGAAGTCTGAAGCTAAAGATTCAGACCACAAAGCGGGCTAAGAAACCCCCAAAGAATTTGGAGAACTATATATGTCCACCTGAGATCAAGATCACCATCAAGCAGTCTGGGGACCAGAAGGTGTCCCGTGCTGGAAAAAATAGCAAAGCCACGAAGGAGGAAGAAAGAAGCCACTCCAAAAAGAAGCTCCTCACAGCCAGTGACCTTGCAGCCAGTGACCTCAAAGGATTTCAGCCACAGGCTTACGAGAGGCCCCAGAAACATTCAACTCTCCATTATGACACGGGCCTCCCACAGGACTTCACCGGTGACACCTTAAAACCAAAGCACCAGCAAAAAAGCAGCAGCCAGAACCACATGGACTGGTCCACCAACTCTGACAGCGGACCCGTCACTCAGAATTGCTTCATCAGTCCAGAGTCTGGCAGAGAAACTGCAAGCACCAGCAAGATCCCCGCTCTTGAGCCCGTGGCTTCCTTTGCAAAGGCCCAGGGTAAGAAAGGCAGTGCAGGGAACACGTGGAGTCAGTTGTCTAACAATAACAAAGATCTGCTCTTGGGAGGTGTGGCTCCATCCCCAAGCAGCCACAGCTCACCAGCCCCACCCAGCAGCTCTGCTGAGTGCAACGGGCTTCAGCCCTTGGTGGATCAAGATGGAGGAGGTACAAAGGAGCCCCCAGAACCACCTACGGTGGGCAGCAAGAAAAAGTCCAGTAAAAAAGATGTGATAAGTCAGACCATACCAAACCCAGACCTGGATTGGGTCAAGAATGCCCAGAAAGCATTTGACAATACAGAAGGGAAAAGGGAAGGTTATTCCGCAGATAGTGCCCAAGAGGCATCACCAGCCAGGCAGAACGTGAGTTCTGCCAGTAATCCTGAAAATGACTCAAGTCATGTCCGGATTACTATCCCCATCAAGGCACCCTCTCTGGATCCAACCAACCATAAGAGGAAAAAAAGACAGTCCATTAAAGCGGTGGTGGAAAAGATCATGCCAGAGAAAGCCTTGGCTTCTGGAATCACCATGAGCAGTGAAGTAGTTAACAGGATACTTTCCAACTCTGAGGGGAATAAGAAGGATCCCCGTGTCCCTAAGTTGAGTAAAATGATAGAGAATGAGTCCCCCTCAGTTGGCCTTGAAACTGGTGGAAATGCTGAGAAAGTTATCCCAGGAGGTGTGTCTAAGCCGCGGAAGCCACCCATGGTCATGACACCTCCAACGTGCACAGATCACTCTCCATCCAGAAAGCTGCCAGAAATCCAGCATCCAAAATTTGCTGCAAAACGAAGGTGGACTTGCAGCAAACCAAAACCTAGCACCATGCTTCGAGAGGCAGTTATGGCCACCTCTGATAAACTGATGCTGGAGCCCCCGTCTGCATATCCCATCACCCCATCCAGCCCTCTCTACACCAACACAGACAGTCTTACTGTGATCACTCCAGTCAAAAAGAAGCGGGGACGACCAAAGAAGCAGCCTTTGCTCACAGTCGAGACGATTCATGAGGGAACTTCCACCAGCCCCGTCAGTCCCATCAGCCGAGAGTTTCCTGGCACTAAGAAAAGAAAGCGACGACGCAATTTAGCGAAGTTGGCCCAGCTAGTGCCGGGAGAGGACAAACCCATGAGCGAGATGAAATTTCACAAGAAAGTTGGAAAGCTCGGCGTGTTGGATAAGAAGACCATCAAAACTATCAATAAGATGAAGACACTCAAGAGGAAAAACATCTTGAATCAGATCTTGTCCTGTTCCAGCAGCGTTGCTCTGAAGGCAAAAGCTCCCCCAGAGACCAGCCCTGGGGCAGCAGCCATTGAAAGCAAACTGGGCAAGCAGATTAATGTCAGCAAGAGGGGAACCATCTACATTGGCAAGAAGCGGGGCAGGAAGCCAAGAGCAGAGCTGCCACCCCCATCCGAAGAACCCAAAACAGCCATCAAGCACCCCAGGCCTGTTTCTAGCCAGCCGGATGTTCCAGCCGTGCCTTCCAACTTTCAGTCACTTGTGGCGTCTTCACCAGCAGCTATGCACCCACTTTCAACACAGTTAGGTGGGTCCAATGGCAACCTGAGCCCTGCCAGCACTGAAACCAATTTTTCAGAGTTGAAAACTATGCCAAATCTCCAGCCCATCAGTGCTCTTCCAACCAAAACCCAAAAGGGAATACACAGTGGAACCTGGAAGCTGTCTCCACCCAGACTGATGGCCAACTCCCCTTCACACCTGTGCGAGATTGGCTCCCTAAAGGAAATCACGCTGTCCCCTGTGAGCGAGTCCCACAGTGAGGAGACGATCCCCAGCGACAGCGGCATTGGGACAGACAACAACAGCACTTCTGACCAAGCGGAGAAGAGCTCAGAATCCCGAAGGAGGTACTCTTTTGATTTCTGCTCCCTGGACAACCCGGAGGCCATTCCGTCCGACACCAGCACAAAGAACCGGCATGGCCACCGGCAAAAGCATCTCATTGTGGACAACTTTCTGGCCCACGAAAGCCTCAAGAAGCCAAAGCACAAGAGGAAACGGAAAAGCCTGCAAAACCGCGATGACCTCCAGTTTCTGGCAGACCTGGAGGAGCTAATCACCAAGTTCCAAGTGTTCAGAATCTCCCACCGGAGTTACACCTTCTACCACGAGAATCCATATCCCAGCATTTTTCGGATTAATTTTGATCACTATTACCCGGTGCCATATATCCAGTATGACCCGTTGCTCTATCTTCGTAGGACTTCAGACTTGAAGTCAAAGAAGAAGCGTGGTAGGCCTGCAAAAACCAATGACACCATGACAAAGGTGCCTTTTTTACAAGGGTTCAGCTACCCTATTCCCAGTGGAAGTTACTATGCACCCTATGGAATGCCTTACACATCAATGCCTATGATGAACCTTGGTTATTACGGTCAGTACCCAGCTCCTTTGTACCTATCGCACACGCTTGGAGCAGCTTCCCCATTCATGAGGCCAACAGTGCCACCACCTCAGTTCCACACAAACTCCCACGTAAAGATGTCCGGTGCAGCTAAGCATAAAGCCAAGCATGGAGTACACCTGCAGGGACCTGTTAGCATGGGCCTTGGTGACATGCAGCCTTCTCTGAACCCTCCCAAGGTAGGCAGTGCCAGTCTGTCCAGTGGTCGGCTCCATAAGAGGAAACACAAACACAAGCATAAGCACAAGGAAGACCGGATCCTAGGGACCCATGACAACCTGAGTGGTCTTTTTGCAGGCAAAGCCACAGGCTTCTCCAGCCACATCCTGAGCGAGCGGCTGAGTAGCGCAGACAAAGAGCTCCCGCTGGTGAGTGAGAAGAACAAGCATAAGGAGAAACAGAAGCACCAGCACAGCGAAGCCGGCCACAAAGCTTCTAAGAACAACTTTGAGGTGGACACCCTGTCTACACTGTCACTTTCCGACGCCCAGCATTGGACACAGGCCAAGGAAAAAGGAGACTTGAGCAGTGAGCCTGTGGACTCATGCACGAAAAGATACTCTGGCAGTGGCGGGGATGGTGGCAGCACGAGATCAGAGAACCTGGACGTGTTCAGTGAAATGAACCCTTCGAATGACAAGTGGGACAGTGACGTGAGTGGGAGTAAAAGGAGGAGCTATGAAGGCTTTGGAACGTACAGGGAAAAGGACATCCAAGCCTTCAAGATGAACCGCAAGGAGAGAAGTTCTTATGACTCCTCCATGTCTCCAGGGATGCCAAGTCCCCACTTAAAAGTGGACCAGACAGCAGTGCATAGTAAGAACGAAGGCTCAGTGCCCACCATGATGACCAGGAAGAAGCCAGCCGCAGTTGACAGTGTTACAATTCCACCAGCCCCAGTGTTATCTCTCCTTGCTGCATCTGCAGCAACGTCGGATGCAGTCGGCTCCTCCCTGAAGAAGAGGTTCAAGCGGCGGGAGATCGAAGCCATCCAGTGCGAAGTGCGGAAGATGTGCAACTACACCAAGATCCTGTCCACCAAGAAGAACCTGGACCACGTGAACAAGATCCTGAAGGCCAAGCGGCTGCAGAGACAATCAAAAACAGGCAACAACTTCGTGAAGAAGAGGCGCGGGCGTCCCAGGAAGCAGCCCACCCAGTTCGATGAGGACTCCAGAGACCAAATGCCGGTGCTGGAAAAATGCATCGACCTGCCCAGCAAAAGAGGCCAGAAGCCCAGCCTGAGCCCGCTGGTGCTGGAGCCCGCCGCCAGCCAAGACACCATCATGGCCACCATCGAGGCGGTCATCCACATGGCCCGGGAGGCGCCGCCCCTGCCCCCGCCACCGCCGCCGCCCCTGCCGCCACCGCCGCCACCACCCCTGCCCCCGCCACCCCCTCTACCCAAGACCCCCCGAGGCGGAAAGAGGAAACACAAACCGCAGGCCCCCGCTCAGCCCCCACAGCAGTCGCCCCCGCAGCAGCCCCTTCCCCAGGAAGAGGAGGTGAAAGCCAAAAGGCAGAGGAAGTCCCGAGGGAGTGAGAGCGAGGTCCTTCCCTAG'\n",
    "SETBP1_coding_sequence_extra_bases = 'CATGGAGTCCAGGGAAACCTTAAGCAGCTCCCGGCAAAGAGGGGGCGAGTCAGACTTCCTGCCGGTCTCCTCAGCCAAGCCCCCAGCTGCTCCTGGCTGTGCAGGAGAACCTTTGCTCTCCACTCCAGGACCTGGGAAGGGGATCCCGGTGGGCGGAGAGCGCATGGAGCCAGAGGAGGAGGATGAACTAGGCTCAGGGCGGGATGTGGATTCCAACTCCAACGCGGACAGTGAGAAATGGGTGGCAGGAGATGGTTTGGAAGAGCAGGAATTTTCTATCAAGGAGGCAAACTTCACAGAGGGAAGTCTGAAGCTAAAGATTCAGACCACAAAGCGGGCTAAGAAACCCCCAAAGAATTTGGAGAACTATATATGTCCACCTGAGATCAAGATCACCATCAAGCAGTCTGGGGACCAGAAGGTGTCCCGTGCTGGAAAAAATAGCAAAGCCACGAAGGAGGAAGAAAGAAGCCACTCCAAAAAGAAGCTCCTCACAGCCAGTGACCTTGCAGCCAGTGACCTCAAAGGATTTCAGCCACAGGCTTACGAGAGGCCCCAGAAACATTCAACTCTCCATTATGACACGGGCCTCCCACAGGACTTCACCGGTGACACCTTAAAACCAAAGCACCAGCAAAAAAGCAGCAGCCAGAACCACATGGACTGGTCCACCAACTCTGACAGCGGACCCGTCACTCAGAATTGCTTCATCAGTCCAGAGTCTGGCAGAGAAACTGCAAGCACCAGCAAGATCCCCGCTCTTGAGCCCGTGGCTTCCTTTGCAAAGGCCCAGGGTAAGAAAGGCAGTGCAGGGAACACGTGGAGTCAGTTGTCTAACAATAACAAAGATCTGCTCTTGGGAGGTGTGGCTCCATCCCCAAGCAGCCACAGCTCACCAGCCCCACCCAGCAGCTCTGCTGAGTGCAACGGGCTTCAGCCCTTGGTGGATCAAGATGGAGGAGGTACAAAGGAGCCCCCAGAACCACCTACGGTGGGCAGCAAGAAAAAGTCCAGTAAAAAAGATGTGATAAGTCAGACCATACCAAACCCAGACCTGGATTGGGTCAAGAATGCCCAGAAAGCATTTGACAATACAGAAGGGAAAAGGGAAGGTTATTCCGCAGATAGTGCCCAAGAGGCATCACCAGCCAGGCAGAACGTGAGTTCTGCCAGTAATCCTGAAAATGACTCAAGTCATGTCCGGATTACTATCCCCATCAAGGCACCCTCTCTGGATCCAACCAACCATAAGAGGAAAAAAAGACAGTCCATTAAAGCGGTGGTGGAAAAGATCATGCCAGAGAAAGCCTTGGCTTCTGGAATCACCATGAGCAGTGAAGTAGTTAACAGGATACTTTCCAACTCTGAGGGGAATAAGAAGGATCCCCGTGTCCCTAAGTTGAGTAAAATGATAGAGAATGAGTCCCCCTCAGTTGGCCTTGAAACTGGTGGAAATGCTGAGAAAGTTATCCCAGGAGGTGTGTCTAAGCCGCGGAAGCCACCCATGGTCATGACACCTCCAACGTGCACAGATCACTCTCCATCCAGAAAGCTGCCAGAAATCCAGCATCCAAAATTTGCTGCAAAACGAAGGTGGACTTGCAGCAAACCAAAACCTAGCACCATGCTTCGAGAGGCAGTTATGGCCACCTCTGATAAACTGATGCTGGAGCCCCCGTCTGCATATCCCATCACCCCATCCAGCCCTCTCTACACCAACACAGACAGTCTTACTGTGATCACTCCAGTCAAAAAGAAGCGGGGACGACCAAAGAAGCAGCCTTTGCTCACAGTCGAGACGATTCATGAGGGAACTTCCACCAGCCCCGTCAGTCCCATCAGCCGAGAGTTTCCTGGCACTAAGAAAAGAAAGCGACGACGCAATTTAGCGAAGTTGGCCCAGCTAGTGCCGGGAGAGGACAAACCCATGAGCGAGATGAAATTTCACAAGAAAGTTGGAAAGCTCGGCGTGTTGGATAAGAAGACCATCAAAACTATCAATAAGATGAAGACACTCAAGAGGAAAAACATCTTGAATCAGATCTTGTCCTGTTCCAGCAGCGTTGCTCTGAAGGCAAAAGCTCCCCCAGAGACCAGCCCTGGGGCAGCAGCCATTGAAAGCAAACTGGGCAAGCAGATTAATGTCAGCAAGAGGGGAACCATCTACATTGGCAAGAAGCGGGGCAGGAAGCCAAGAGCAGAGCTGCCACCCCCATCCGAAGAACCCAAAACAGCCATCAAGCACCCCAGGCCTGTTTCTAGCCAGCCGGATGTTCCAGCCGTGCCTTCCAACTTTCAGTCACTTGTGGCGTCTTCACCAGCAGCTATGCACCCACTTTCAACACAGTTAGGTGGGTCCAATGGCAACCTGAGCCCTGCCAGCACTGAAACCAATTTTTCAGAGTTGAAAACTATGCCAAATCTCCAGCCCATCAGTGCTCTTCCAACCAAAACCCAAAAGGGAATACACAGTGGAACCTGGAAGCTGTCTCCACCCAGACTGATGGCCAACTCCCCTTCACACCTGTGCGAGATTGGCTCCCTAAAGGAAATCACGCTGTCCCCTGTGAGCGAGTCCCACAGTGAGGAGACGATCCCCAGCGACAGCGGCATTGGGACAGACAACAACAGCACTTCTGACCAAGCGGAGAAGAGCTCAGAATCCCGAAGGAGGTACTCTTTTGATTTCTGCTCCCTGGACAACCCGGAGGCCATTCCGTCCGACACCAGCACAAAGAACCGGCATGGCCACCGGCAAAAGCATCTCATTGTGGACAACTTTCTGGCCCACGAAAGCCTCAAGAAGCCAAAGCACAAGAGGAAACGGAAAAGCCTGCAAAACCGCGATGACCTCCAGTTTCTGGCAGACCTGGAGGAGCTAATCACCAAGTTCCAAGTGTTCAGAATCTCCCACCGGAGTTACACCTTCTACCACGAGAATCCATATCCCAGCATTTTTCGGATTAATTTTGATCACTATTACCCGGTGCCATATATCCAGTATGACCCGTTGCTCTATCTTCGTAGGACTTCAGACTTGAAGTCAAAGAAGAAGCGTGGTAGGCCTGCAAAAACCAATGACACCATGACAAAGGTGCCTTTTTTACAAGGGTTCAGCTACCCTATTCCCAGTGGAAGTTACTATGCACCCTATGGAATGCCTTACACATCAATGCCTATGATGAACCTTGGTTATTACGGTCAGTACCCAGCTCCTTTGTACCTATCGCACACGCTTGGAGCAGCTTCCCCATTCATGAGGCCAACAGTGCCACCACCTCAGTTCCACACAAACTCCCACGTAAAGATGTCCGGTGCAGCTAAGCATAAAGCCAAGCATGGAGTACACCTGCAGGGACCTGTTAGCATGGGCCTTGGTGACATGCAGCCTTCTCTGAACCCTCCCAAGGTAGGCAGTGCCAGTCTGTCCAGTGGTCGGCTCCATAAGAGGAAACACAAACACAAGCATAAGCACAAGGAAGACCGGATCCTAGGGACCCATGACAACCTGAGTGGTCTTTTTGCAGGCAAAGCCACAGGCTTCTCCAGCCACATCCTGAGCGAGCGGCTGAGTAGCGCAGACAAAGAGCTCCCGCTGGTGAGTGAGAAGAACAAGCATAAGGAGAAACAGAAGCACCAGCACAGCGAAGCCGGCCACAAAGCTTCTAAGAACAACTTTGAGGTGGACACCCTGTCTACACTGTCACTTTCCGACGCCCAGCATTGGACACAGGCCAAGGAAAAAGGAGACTTGAGCAGTGAGCCTGTGGACTCATGCACGAAAAGATACTCTGGCAGTGGCGGGGATGGTGGCAGCACGAGATCAGAGAACCTGGACGTGTTCAGTGAAATGAACCCTTCGAATGACAAGTGGGACAGTGACGTGAGTGGGAGTAAAAGGAGGAGCTATGAAGGCTTTGGAACGTACAGGGAAAAGGACATCCAAGCCTTCAAGATGAACCGCAAGGAGAGAAGTTCTTATGACTCCTCCATGTCTCCAGGGATGCCAAGTCCCCACTTAAAAGTGGACCAGACAGCAGTGCATAGTAAGAACGAAGGCTCAGTGCCCACCATGATGACCAGGAAGAAGCCAGCCGCAGTTGACAGTGTTACAATTCCACCAGCCCCAGTGTTATCTCTCCTTGCTGCATCTGCAGCAACGTCGGATGCAGTCGGCTCCTCCCTGAAGAAGAGGTTCAAGCGGCGGGAGATCGAAGCCATCCAGTGCGAAGTGCGGAAGATGTGCAACTACACCAAGATCCTGTCCACCAAGAAGAACCTGGACCACGTGAACAAGATCCTGAAGGCCAAGCGGCTGCAGAGACAATCAAAAACAGGCAACAACTTCGTGAAGAAGAGGCGCGGGCGTCCCAGGAAGCAGCCCACCCAGTTCGATGAGGACTCCAGAGACCAAATGCCGGTGCTGGAAAAATGCATCGACCTGCCCAGCAAAAGAGGCCAGAAGCCCAGCCTGAGCCCGCTGGTGCTGGAGCCCGCCGCCAGCCAAGACACCATCATGGCCACCATCGAGGCGGTCATCCACATGGCCCGGGAGGCGCCGCCCCTGCCCCCGCCACCGCCGCCGCCCCTGCCGCCACCGCCGCCACCACCCCTGCCCCCGCCACCCCCTCTACCCAAGACCCCCCGAGGCGGAAAGAGGAAACACAAACCGCAGGCCCCCGCTCAGCCCCCACAGCAGTCGCCCCCGCAGCAGCCCCTTCCCCAGGAAGAGGAGGTGAAAGCCAAAAGGCAGAGGAAGTCCCGAGGGAGTGAGAGCGAGGTCCTTCCCTAGG'"
   ]
  },
  {
   "cell_type": "code",
   "execution_count": 182,
   "metadata": {
    "scrolled": true
   },
   "outputs": [
    {
     "name": "stdout",
     "output_type": "stream",
     "text": [
      "Total summed synonymous mutation rate across region =  3.4918724821e-06\n"
     ]
    }
   ],
   "source": [
    "SETBP1_synonymous = synonymous_mutation_rate_across_gene('SETBP1', SETBP1_coding_sequence, SETBP1_coding_sequence_extra_bases, 180, 1334)"
   ]
  },
  {
   "cell_type": "markdown",
   "metadata": {},
   "source": [
    "#### Mutation rate for excluded synonymous SETBP1 variants"
   ]
  },
  {
   "cell_type": "code",
   "execution_count": 183,
   "metadata": {
    "code_folding": [
     0
    ]
   },
   "outputs": [],
   "source": [
    "#Create a dictionary of the excluded synonymous variants in SETBP1:\n",
    "import csv\n",
    "filename=\"Young_excluded_synonymous_1000_genomes.csv\"\n",
    "\n",
    "with open(filename, 'r') as csvfile:\n",
    "    read_reader = csv.reader(csvfile)  #csv.reader returns a reader object which will iterate over lines in the csvfile\n",
    "    row_count=0\n",
    "    excluded_SETBP1_synonymous_variants={} #dictionary of DNMTA results (key = ID (row[13]), value = VAF (row[10]))\n",
    "\n",
    "    for row in read_reader:\n",
    "#         print(row)\n",
    "        if row_count>0:\n",
    "            gene = row[0]\n",
    "            variant = row[1]\n",
    "            AA_coordinate = row[11]\n",
    "            variant_ID = row[2]\n",
    "            if row[0]=='SETBP1':\n",
    "                excluded_SETBP1_synonymous_variants[variant]=(gene, AA_coordinate, variant_ID)\n",
    "\n",
    "        row_count=row_count+1"
   ]
  },
  {
   "cell_type": "code",
   "execution_count": 184,
   "metadata": {
    "scrolled": false
   },
   "outputs": [
    {
     "name": "stdout",
     "output_type": "stream",
     "text": [
      "Total summed mutation rate across excluded synonymous variants =  9.305021e-10\n"
     ]
    }
   ],
   "source": [
    "SETBP1_excluded = synonymous_excluded_variants_mutation_rate('SETBP1', SETBP1_coding_sequence, SETBP1_coding_sequence_extra_bases, \\\n",
    "                                                           excluded_SETBP1_synonymous_variants)"
   ]
  },
  {
   "cell_type": "markdown",
   "metadata": {},
   "source": [
    "#### Total synonymous mutation rate for SETBP1"
   ]
  },
  {
   "cell_type": "code",
   "execution_count": 185,
   "metadata": {
    "code_folding": [
     0
    ],
    "scrolled": true
   },
   "outputs": [
    {
     "name": "stdout",
     "output_type": "stream",
     "text": [
      "Synonymous mutation rate across SETBP1 =  3.49094198e-06\n"
     ]
    }
   ],
   "source": [
    "#Subtract the mutation rate of the excluded variants from the total mutation rate for SETBP1 synonymous variants across the panel\n",
    "SETBP1 = SETBP1_synonymous - SETBP1_excluded\n",
    "print(\"Synonymous mutation rate across SETBP1 = \", SETBP1)"
   ]
  },
  {
   "cell_type": "markdown",
   "metadata": {},
   "source": [
    "## SF3B1 (exons 13-16)\n"
   ]
  },
  {
   "cell_type": "markdown",
   "metadata": {},
   "source": [
    "- ENST00000335508.6 transcript."
   ]
  },
  {
   "cell_type": "markdown",
   "metadata": {},
   "source": [
    "#### Mutation rate for synonymous variants across SF3B1 regions included in panel"
   ]
  },
  {
   "cell_type": "code",
   "execution_count": 186,
   "metadata": {},
   "outputs": [],
   "source": [
    "SF3B1_coding_sequence = 'ATGGCGAAGATCGCCAAGACTCACGAAGATATTGAAGCACAGATTCGAGAAATTCAAGGCAAGAAGGCAGCTCTTGATGAAGCTCAAGGAGTGGGCCTCGATTCTACAGGTTATTATGACCAGGAAATTTATGGTGGAAGTGACAGCAGATTTGCTGGATACGTGACATCAATTGCTGCAACTGAACTTGAAGATGATGACGATGACTATTCATCATCTACGAGTTTGCTTGGTCAGAAGAAGCCAGGATATCATGCCCCTGTGGCATTGCTTAATGATATACCACAGTCAACAGAACAGTATGATCCATTTGCTGAGCACAGACCTCCAAAGATTGCAGACCGGGAAGATGAATACAAAAAGCATAGGCGGACCATGATAATTTCCCCAGAGCGTCTTGATCCTTTTGCAGATGGAGGGAAAACCCCTGATCCTAAAATGAATGCTAGGACTTACATGGATGTAATGCGAGAACAACACTTGACTAAAGAAGAACGAGAAATTAGGCAACAGCTAGCAGAAAAAGCTAAAGCTGGAGAACTAAAAGTCGTCAATGGAGCAGCAGCGTCCCAGCCTCCATCAAAACGAAAACGGCGTTGGGATCAAACAGCTGATCAGACTCCTGGTGCCACTCCCAAAAAACTATCAAGTTGGGATCAGGCAGAGACCCCTGGGCATACTCCTTCCTTAAGATGGGATGAGACACCAGGTCGTGCAAAGGGAAGCGAGACTCCTGGAGCAACCCCAGGCTCAAAAATATGGGATCCTACACCTAGCCACACACCAGCGGGAGCTGCTACTCCTGGACGAGGTGATACACCAGGCCATGCGACACCAGGCCATGGAGGCGCAACTTCCAGTGCTCGTAAAAACAGATGGGATGAAACCCCCAAAACAGAGAGAGATACTCCTGGGCATGGAAGTGGATGGGCTGAGACTCCTCGAACAGATCGAGGTGGAGATTCTATTGGTGAAACACCGACTCCTGGAGCCAGTAAAAGAAAATCACGGTGGGATGAAACACCAGCTAGTCAGATGGGTGGAAGCACTCCAGTTCTGACCCCTGGAAAGACACCAATTGGCACACCAGCCATGAACATGGCTACCCCTACTCCAGGTCACATAATGAGTATGACTCCTGAACAGCTTCAGGCTTGGCGGTGGGAAAGAGAAATTGATGAGAGAAATCGCCCACTTTCTGATGAGGAATTAGATGCTATGTTCCCAGAAGGATATAAGGTACTTCCTCCTCCAGCTGGTTATGTTCCTATTCGAACTCCAGCTCGAAAGCTGACAGCTACTCCAACACCTTTGGGTGGTATGACTGGTTTCCACATGCAAACTGAAGATCGAACTATGAAAAGTGTTAATGACCAGCCATCTGGAAATCTTCCATTTTTAAAACCTGATGATATTCAATACTTTGATAAACTATTGGTTGATGTTGATGAATCAACACTTAGTCCAGAAGAGCAAAAAGAGAGAAAAATAATGAAGTTGCTTTTAAAAATTAAGAATGGAACACCACCAATGAGAAAGGCTGCATTGCGTCAGATTACTGATAAAGCTCGTGAATTTGGAGCTGGTCCTTTGTTTAATCAGATTCTTCCTCTGCTGATGTCTCCTACACTTGAGGATCAAGAGCGTCATTTACTTGTGAAAGTTATTGATAGGATACTGTACAAACTTGATGACTTAGTTCGTCCATATGTGCATAAGATCCTCGTGGTCATTGAACCGCTATTGATTGATGAAGATTACTATGCTAGAGTGGAAGGCCGAGAGATCATTTCTAATTTGGCAAAGGCTGCTGGTCTGGCTACTATGATCTCTACCATGAGACCTGATATAGATAACATGGATGAGTATGTCCGTAACACAACAGCTAGAGCTTTTGCTGTTGTAGCCTCTGCCCTGGGCATTCCTTCTTTATTGCCCTTCTTAAAAGCTGTGTGCAAAAGCAAGAAGTCCTGGCAAGCGAGACACACTGGTATTAAGATTGTACAACAGATAGCTATTCTTATGGGCTGTGCCATCTTGCCACATCTTAGAAGTTTAGTTGAAATCATTGAACATGGTCTTGTGGATGAGCAGCAGAAAGTTCGGACCATCAGTGCTTTGGCCATTGCTGCCTTGGCTGAAGCAGCAACTCCTTATGGTATCGAATCTTTTGATTCTGTGTTAAAGCCTTTATGGAAGGGTATCCGCCAACACAGAGGAAAGGGTTTGGCTGCTTTCTTGAAGGCTATTGGGTATCTTATTCCTCTTATGGATGCAGAATATGCCAACTACTATACTAGAGAAGTGATGTTAATCCTTATTCGAGAATTCCAGTCTCCTGATGAGGAAATGAAAAAAATTGTGCTGAAGGTGGTAAAACAGTGTTGTGGGACAGATGGTGTAGAAGCAAACTACATTAAAACAGAGATTCTTCCTCCCTTTTTTAAACACTTCTGGCAGCACAGGATGGCTTTGGATAGAAGAAATTACCGACAGTTAGTTGATACTACTGTGGAGTTGGCAAACAAAGTAGGTGCAGCAGAAATTATATCCAGGATTGTGGATGATCTGAAAGATGAAGCCGAACAGTACAGAAAAATGGTGATGGAGACAATTGAGAAAATTATGGGTAATTTGGGAGCAGCAGATATTGATCATAAACTTGAAGAACAACTGATTGATGGTATTCTTTATGCTTTCCAAGAACAGACTACAGAGGACTCAGTAATGTTGAACGGCTTTGGCACAGTGGTTAATGCTCTTGGCAAACGAGTCAAACCATACTTGCCTCAGATCTGTGGTACAGTTTTGTGGCGTTTAAATAACAAATCTGCTAAAGTTAGGCAACAGGCAGCTGACTTGATTTCTCGAACTGCTGTTGTCATGAAGACTTGTCAAGAGGAAAAATTGATGGGACACTTGGGTGTTGTATTGTATGAGTATTTGGGTGAAGAGTACCCTGAAGTATTGGGCAGCATTCTTGGAGCACTGAAGGCCATTGTAAATGTCATAGGTATGCATAAGATGACTCCACCAATTAAAGATCTGCTGCCTAGACTCACCCCCATCTTAAAGAACAGACATGAAAAAGTACAAGAGAATTGTATTGATCTTGTTGGTCGTATTGCTGACAGGGGAGCTGAATATGTATCTGCAAGAGAGTGGATGAGGATTTGCTTTGAGCTTTTAGAGCTCTTAAAAGCCCACAAAAAGGCTATTCGTAGAGCCACAGTCAACACATTTGGTTATATTGCAAAGGCCATTGGCCCTCATGATGTATTGGCTACACTTCTGAACAACCTCAAAGTTCAAGAAAGGCAGAACAGAGTTTGTACCACTGTAGCAATAGCTATTGTTGCAGAAACATGTTCACCCTTTACAGTACTCCCTGCCTTAATGAATGAATACAGAGTTCCTGAACTGAATGTTCAAAATGGAGTGTTAAAATCGCTTTCCTTCTTGTTTGAATATATTGGTGAAATGGGAAAAGACTACATTTATGCCGTAACACCGTTACTTGAAGATGCTTTAATGGATAGAGACCTTGTACACAGACAGACGGCTAGTGCAGTGGTACAGCACATGTCACTTGGGGTTTATGGATTTGGTTGTGAAGATTCGCTGAATCACTTGTTGAACTATGTATGGCCCAATGTATTTGAGACATCTCCTCATGTAATTCAGGCAGTTATGGGAGCCCTAGAGGGCCTGAGAGTTGCTATTGGACCATGTAGAATGTTGCAATATTGTTTACAGGGTCTGTTTCACCCAGCCCGGAAAGTCAGAGATGTATATTGGAAAATTTACAACTCCATCTACATTGGTTCCCAGGACGCTCTCATAGCACATTACCCAAGAATCTACAACGATGATAAGAACACCTATATTCGTTATGAACTTGACTATATCTTATAA'\n",
    "SF3B1_coding_sequence_extra_bases = 'AATGGCGAAGATCGCCAAGACTCACGAAGATATTGAAGCACAGATTCGAGAAATTCAAGGCAAGAAGGCAGCTCTTGATGAAGCTCAAGGAGTGGGCCTCGATTCTACAGGTTATTATGACCAGGAAATTTATGGTGGAAGTGACAGCAGATTTGCTGGATACGTGACATCAATTGCTGCAACTGAACTTGAAGATGATGACGATGACTATTCATCATCTACGAGTTTGCTTGGTCAGAAGAAGCCAGGATATCATGCCCCTGTGGCATTGCTTAATGATATACCACAGTCAACAGAACAGTATGATCCATTTGCTGAGCACAGACCTCCAAAGATTGCAGACCGGGAAGATGAATACAAAAAGCATAGGCGGACCATGATAATTTCCCCAGAGCGTCTTGATCCTTTTGCAGATGGAGGGAAAACCCCTGATCCTAAAATGAATGCTAGGACTTACATGGATGTAATGCGAGAACAACACTTGACTAAAGAAGAACGAGAAATTAGGCAACAGCTAGCAGAAAAAGCTAAAGCTGGAGAACTAAAAGTCGTCAATGGAGCAGCAGCGTCCCAGCCTCCATCAAAACGAAAACGGCGTTGGGATCAAACAGCTGATCAGACTCCTGGTGCCACTCCCAAAAAACTATCAAGTTGGGATCAGGCAGAGACCCCTGGGCATACTCCTTCCTTAAGATGGGATGAGACACCAGGTCGTGCAAAGGGAAGCGAGACTCCTGGAGCAACCCCAGGCTCAAAAATATGGGATCCTACACCTAGCCACACACCAGCGGGAGCTGCTACTCCTGGACGAGGTGATACACCAGGCCATGCGACACCAGGCCATGGAGGCGCAACTTCCAGTGCTCGTAAAAACAGATGGGATGAAACCCCCAAAACAGAGAGAGATACTCCTGGGCATGGAAGTGGATGGGCTGAGACTCCTCGAACAGATCGAGGTGGAGATTCTATTGGTGAAACACCGACTCCTGGAGCCAGTAAAAGAAAATCACGGTGGGATGAAACACCAGCTAGTCAGATGGGTGGAAGCACTCCAGTTCTGACCCCTGGAAAGACACCAATTGGCACACCAGCCATGAACATGGCTACCCCTACTCCAGGTCACATAATGAGTATGACTCCTGAACAGCTTCAGGCTTGGCGGTGGGAAAGAGAAATTGATGAGAGAAATCGCCCACTTTCTGATGAGGAATTAGATGCTATGTTCCCAGAAGGATATAAGGTACTTCCTCCTCCAGCTGGTTATGTTCCTATTCGAACTCCAGCTCGAAAGCTGACAGCTACTCCAACACCTTTGGGTGGTATGACTGGTTTCCACATGCAAACTGAAGATCGAACTATGAAAAGTGTTAATGACCAGCCATCTGGAAATCTTCCATTTTTAAAACCTGATGATATTCAATACTTTGATAAACTATTGGTTGATGTTGATGAATCAACACTTAGTCCAGAAGAGCAAAAAGAGAGAAAAATAATGAAGTTGCTTTTAAAAATTAAGAATGGAACACCACCAATGAGAAAGGCTGCATTGCGTCAGATTACTGATAAAGCTCGTGAATTTGGAGCTGGTCCTTTGTTTAATCAGATTCTTCCTCTGCTGATGTCTCCTACACTTGAGGATCAAGAGCGTCATTTACTTGTGAAAGTTATTGATAGGATACTGTACAAACTTGATGACTTAGTTCGTCCATATGTGCATAAGATCCTCGTGGTCATTGAACCGCTATTGATTGATGAAGATTACTATGCTAGAGTGGAAGGCCGAGAGATCATTTCTAATTTGGCAAAGGCTGCTGGTCTGGCTACTATGATCTCTACCATGAGACCTGATATAGATAACATGGATGAGTATGTCCGTAACACAACAGCTAGAGCTTTTGCTGTTGTAGCCTCTGCCCTGGGCATTCCTTCTTTATTGCCCTTCTTAAAAGCTGTGTGCAAAAGCAAGAAGTCCTGGCAAGCGAGACACACTGGTATTAAGATTGTACAACAGATAGCTATTCTTATGGGCTGTGCCATCTTGCCACATCTTAGAAGTTTAGTTGAAATCATTGAACATGGTCTTGTGGATGAGCAGCAGAAAGTTCGGACCATCAGTGCTTTGGCCATTGCTGCCTTGGCTGAAGCAGCAACTCCTTATGGTATCGAATCTTTTGATTCTGTGTTAAAGCCTTTATGGAAGGGTATCCGCCAACACAGAGGAAAGGGTTTGGCTGCTTTCTTGAAGGCTATTGGGTATCTTATTCCTCTTATGGATGCAGAATATGCCAACTACTATACTAGAGAAGTGATGTTAATCCTTATTCGAGAATTCCAGTCTCCTGATGAGGAAATGAAAAAAATTGTGCTGAAGGTGGTAAAACAGTGTTGTGGGACAGATGGTGTAGAAGCAAACTACATTAAAACAGAGATTCTTCCTCCCTTTTTTAAACACTTCTGGCAGCACAGGATGGCTTTGGATAGAAGAAATTACCGACAGTTAGTTGATACTACTGTGGAGTTGGCAAACAAAGTAGGTGCAGCAGAAATTATATCCAGGATTGTGGATGATCTGAAAGATGAAGCCGAACAGTACAGAAAAATGGTGATGGAGACAATTGAGAAAATTATGGGTAATTTGGGAGCAGCAGATATTGATCATAAACTTGAAGAACAACTGATTGATGGTATTCTTTATGCTTTCCAAGAACAGACTACAGAGGACTCAGTAATGTTGAACGGCTTTGGCACAGTGGTTAATGCTCTTGGCAAACGAGTCAAACCATACTTGCCTCAGATCTGTGGTACAGTTTTGTGGCGTTTAAATAACAAATCTGCTAAAGTTAGGCAACAGGCAGCTGACTTGATTTCTCGAACTGCTGTTGTCATGAAGACTTGTCAAGAGGAAAAATTGATGGGACACTTGGGTGTTGTATTGTATGAGTATTTGGGTGAAGAGTACCCTGAAGTATTGGGCAGCATTCTTGGAGCACTGAAGGCCATTGTAAATGTCATAGGTATGCATAAGATGACTCCACCAATTAAAGATCTGCTGCCTAGACTCACCCCCATCTTAAAGAACAGACATGAAAAAGTACAAGAGAATTGTATTGATCTTGTTGGTCGTATTGCTGACAGGGGAGCTGAATATGTATCTGCAAGAGAGTGGATGAGGATTTGCTTTGAGCTTTTAGAGCTCTTAAAAGCCCACAAAAAGGCTATTCGTAGAGCCACAGTCAACACATTTGGTTATATTGCAAAGGCCATTGGCCCTCATGATGTATTGGCTACACTTCTGAACAACCTCAAAGTTCAAGAAAGGCAGAACAGAGTTTGTACCACTGTAGCAATAGCTATTGTTGCAGAAACATGTTCACCCTTTACAGTACTCCCTGCCTTAATGAATGAATACAGAGTTCCTGAACTGAATGTTCAAAATGGAGTGTTAAAATCGCTTTCCTTCTTGTTTGAATATATTGGTGAAATGGGAAAAGACTACATTTATGCCGTAACACCGTTACTTGAAGATGCTTTAATGGATAGAGACCTTGTACACAGACAGACGGCTAGTGCAGTGGTACAGCACATGTCACTTGGGGTTTATGGATTTGGTTGTGAAGATTCGCTGAATCACTTGTTGAACTATGTATGGCCCAATGTATTTGAGACATCTCCTCATGTAATTCAGGCAGTTATGGGAGCCCTAGAGGGCCTGAGAGTTGCTATTGGACCATGTAGAATGTTGCAATATTGTTTACAGGGTCTGTTTCACCCAGCCCGGAAAGTCAGAGATGTATATTGGAAAATTTACAACTCCATCTACATTGGTTCCCAGGACGCTCTCATAGCACATTACCCAAGAATCTACAACGATGATAAGAACACCTATATTCGTTATGAACTTGACTATATCTTATAAT'"
   ]
  },
  {
   "cell_type": "code",
   "execution_count": 187,
   "metadata": {
    "scrolled": true
   },
   "outputs": [
    {
     "name": "stdout",
     "output_type": "stream",
     "text": [
      "Total summed synonymous mutation rate across region =  1.4838247032000002e-06\n"
     ]
    }
   ],
   "source": [
    "SF3B1_synonymous = synonymous_mutation_rate_across_gene('SF3B1', SF3B1_coding_sequence, SF3B1_coding_sequence_extra_bases, 65, 790)"
   ]
  },
  {
   "cell_type": "markdown",
   "metadata": {},
   "source": [
    "#### Mutation rate for excluded synonymous SF3B1 variants"
   ]
  },
  {
   "cell_type": "code",
   "execution_count": 188,
   "metadata": {
    "code_folding": [
     0
    ]
   },
   "outputs": [],
   "source": [
    "#Create a dictionary of the excluded synonymous variants in SF3B1:\n",
    "import csv\n",
    "filename=\"Young_excluded_synonymous_1000_genomes.csv\"\n",
    "\n",
    "with open(filename, 'r') as csvfile:\n",
    "    read_reader = csv.reader(csvfile)  #csv.reader returns a reader object which will iterate over lines in the csvfile\n",
    "    row_count=0\n",
    "    excluded_SF3B1_synonymous_variants={} #dictionary of DNMTA results (key = ID (row[13]), value = VAF (row[10]))\n",
    "\n",
    "    for row in read_reader:\n",
    "#         print(row)\n",
    "        if row_count>0:\n",
    "            gene = row[0]\n",
    "            variant = row[1]\n",
    "            AA_coordinate = row[11]\n",
    "            variant_ID = row[2]\n",
    "            if row[0]=='SF3B1':\n",
    "                excluded_SF3B1_synonymous_variants[variant]=(gene, AA_coordinate, variant_ID)\n",
    "\n",
    "        row_count=row_count+1"
   ]
  },
  {
   "cell_type": "code",
   "execution_count": 189,
   "metadata": {
    "scrolled": false
   },
   "outputs": [
    {
     "name": "stdout",
     "output_type": "stream",
     "text": [
      "Total summed mutation rate across excluded synonymous variants =  8.193657e-09\n"
     ]
    }
   ],
   "source": [
    "SF3B1_excluded = synonymous_excluded_variants_mutation_rate('SF3B1', SF3B1_coding_sequence, SF3B1_coding_sequence_extra_bases, \\\n",
    "                                                           excluded_SF3B1_synonymous_variants)"
   ]
  },
  {
   "cell_type": "markdown",
   "metadata": {},
   "source": [
    "#### Total synonymous mutation rate for SF3B1"
   ]
  },
  {
   "cell_type": "code",
   "execution_count": 190,
   "metadata": {
    "code_folding": [
     0
    ],
    "scrolled": false
   },
   "outputs": [
    {
     "name": "stdout",
     "output_type": "stream",
     "text": [
      "Synonymous mutation rate across SF3B1 =  1.4756310462000002e-06\n"
     ]
    }
   ],
   "source": [
    "#Subtract the mutation rate of the excluded variants from the total mutation rate for SF3B1 synonymous variants across the panel\n",
    "SF3B1 = SF3B1_synonymous - SF3B1_excluded\n",
    "print(\"Synonymous mutation rate across SF3B1 = \", SF3B1)"
   ]
  },
  {
   "cell_type": "markdown",
   "metadata": {},
   "source": [
    "## SMC1A (exons 2, 11, 16 and 17)"
   ]
  },
  {
   "cell_type": "markdown",
   "metadata": {},
   "source": [
    "- ENST00000322213.4 transcript.\n",
    "- No excluded variants in these regions."
   ]
  },
  {
   "cell_type": "markdown",
   "metadata": {},
   "source": [
    "#### Mutation rate for synonymous variants across SMC1A regions included in panel"
   ]
  },
  {
   "cell_type": "code",
   "execution_count": 191,
   "metadata": {},
   "outputs": [],
   "source": [
    "SMC1A_coding_sequence = 'ATGGGGTTCCTGAAACTGATTGAGATTGAGAACTTTAAGTCGTACAAGGGTCGACAGATTATCGGACCATTTCAGAGGTTCACCGCCATCATTGGACCCAATGGCTCTGGTAAGTCAAATCTCATGGATGCCATCAGCTTTGTGCTAGGTGAAAAAACCAGCAACCTGCGGGTAAAGACCCTGCGGGACCTGATCCATGGAGCTCCTGTGGGCAAGCCAGCTGCCAACCGGGCCTTTGTCAGCATGGTCTACTCTGAGGAGGGTGCTGAGGACCGTACCTTTGCCCGTGTCATTGTAGGAGGTTCTTCTGAGTACAAGATCAACAACAAAGTGGTCCAACTACATGAGTACAGTGAGGAATTAGAGAAGTTGGGCATTCTCATCAAAGCTCGTAACTTCCTCGTTTTCCAGGGTGCTGTGGAATCTATTGCCATGAAGAACCCCAAAGAGAGGACAGCTCTATTTGAAGAGATTAGTCGTTCTGGGGAGCTGGCGCAGGAGTATGACAAGCGAAAGAAGGAAATGGTGAAGGCTGAAGAGGACACACAGTTTAATTACCATCGCAAGAAAAATATTGCGGCTGAACGCAAGGAAGCAAAGCAGGAGAAAGAAGAGGCTGACCGGTACCAGCGCCTGAAGGATGAGGTAGTACGGGCTCAGGTACAGCTGCAGCTCTTTAAGCTTTACCATAATGAAGTGGAAATTGAGAAGCTCAACAAGGAACTGGCCTCAAAGAACAAGGAGATCGAGAAGGACAAGAAGCGTATGGACAAGGTGGAGGATGAACTGAAGGAGAAGAAGAAGGAGCTGGGCAAAATGATGCGGGAGCAGCAGCAGATTGAGAAGGAGATCAAGGAGAAGGACTCAGAATTGAACCAGAAGCGGCCTCAGTACATCAAAGCCAAGGAGAACACCTCCCACAAAATCAAGAAGCTGGAAGCAGCCAAGAAGTCTCTGCAGAATGCTCAGAAGCACTACAAGAAGCGTAAAGGTGACATGGATGAGCTGGAGAAGGAGATGCTGTCAGTGGAGAAGGCTCGGCAGGAGTTTGAAGAACGGATGGAAGAAGAGAGTCAGAGTCAGGGCAGAGATTTGACGTTGGAGGAGAATCAGGTGAAGAAATACCACCGGTTGAAAGAAGAAGCCAGCAAGAGAGCAGCTACCCTGGCCCAGGAGCTGGAGAAATTCAATCGAGACCAGAAAGCTGACCAGGACCGTCTGGATCTGGAAGAACGGAAGAAAGTAGAGACAGAGGCCAAGATCAAGCAAAAGCTGCGGGAAATTGAAGAGAATCAGAAGCGGATTGAGAAACTGGAGGAATACATCACCACTAGCAAGCAGTCCCTAGAAGAGCAGAAGAAGCTAGAGGGGGAGCTGACAGAGGAGGTGGAGATGGCCAAGCGGCGTATTGATGAAATCAATAAGGAGCTGAACCAGGTGATGGAGCAGCTAGGGGATGCCCGCATCGACCGCCAGGAGAGCAGCCGCCAGCAGCGAAAGGCAGAGATAATGGAAAGCATCAAGCGCCTTTACCCTGGCTCTGTGTACGGCCGCCTCATTGACCTATGCCAGCCCACACAAAAGAAGTATCAGATTGCTGTAACCAAGGTTTTGGGCAAGAACATGGATGCCATTATTGTGGACTCGGAGAAGACAGGCCGGGACTGTATTCAGTATATCAAGGAGCAGCGTGGGGAGCCTGAGACCTTCTTGCCTCTTGACTACCTGGAGGTGAAGCCTACAGATGAGAAACTCCGGGAGCTGAAGGGGGCCAAGCTAGTGATTGATGTGATTCGCTATGAGCCACCTCATATCAAAAAGGCCCTGCAGTATGCTTGTGGCAATGCCCTTGTCTGTGACAACGTGGAAGATGCCCGCCGCATTGCCTTTGGAGGCCACCAGCGCCACAAGACAGTGGCACTGGATGGAACCCTATTCCAGAAGTCAGGAGTGATCTCTGGTGGGGCCAGTGACCTGAAGGCCAAGGCACGGCGCTGGGATGAGAAAGCAGTAGACAAGTTGAAAGAGAAGAAGGAGCGCTTGACAGAGGAGCTGAAAGAGCAGATGAAGGCAAAACGGAAAGAGGCAGAGCTGCGTCAGGTGCAGTCTCAGGCCCATGGACTGCAGATGCGGCTCAAGTACTCCCAGAGTGACCTAGAACAGACCAAGACACGACATCTAGCCCTGAATCTGCAGGAAAAATCCAAGCTGGAGAGTGAGCTAGCCAACTTTGGGCCTCGCATTAATGATATCAAGAGGATCATTCAGAGCCGAGAGAGGGAAATGAAAGACTTGAAGGAGAAGATGAACCAGGTAGAGGATGAGGTGTTTGAAGAGTTTTGTCGGGAGATTGGTGTGCGCAACATCCGGGAGTTTGAGGAAGAAAAGGTGAAACGGCAGAATGAAATCGCCAAGAAGCGTTTGGAGTTTGAGAATCAGAAGACTCGCTTGGGCATTCAGTTGGATTTTGAAAAGAACCAACTGAAGGAGGACCAAGATAAAGTACACATGTGGGAGCAGACAGTGAAAAAAGATGAAAATGAGATAGAAAAGCTCAAAAAGGAGGAACAAAGACACATGAAGATCATAGATGAGACCATGGCTCAGCTACAAGACCTGAAGAATCAGCATCTGGCCAAGAAGTCGGAAGTGAATGACAAGAATCATGAGATGGAGGAGATTCGTAAGAAACTCGGGGGCGCCAACAAGGAAATGACCCATTTACAGAAGGAGGTGACAGCCATTGAGACCAAGCTTGAACAGAAGCGCAGTGACCGTCACAACTTGCTACAGGCCTGTAAGATGCAGGACATTAAGTTGCCACTGTCAAAAGGCACCATGGATGATATTAGTCAGGAAGAGGGTAGCTCCCAGGGGGAGGACTCAGTGAGTGGTTCACAGAGAATTTCCAGTATCTATGCACGAGAGGCCCTCATTGAGATTGACTACGGTGATCTGTGTGAGGATCTGAAGGATGCCCAGGCTGAGGAAGAGATCAAGCAAGAGATGAACACACTGCAGCAGAAGCTGAATGAGCAGCAGAGTGTGCTTCAGCGTATTGCCGCCCCCAACATGAAGGCCATGGAAAAGCTGGAAAGTGTCCGAGACAAGTTCCAGGAGACCTCAGATGAGTTTGAAGCAGCCCGAAAGCGAGCAAAGAAGGCCAAGCAGGCATTCGAACAGATCAAGAAGGAGCGCTTTGACCGCTTCAATGCTTGTTTTGAATCTGTGGCTACCAACATTGATGAGATCTATAAGGCCCTGTCCCGCAATAGCAGTGCCCAGGCATTCCTGGGCCCTGAGAACCCTGAAGAGCCCTACTTGGATGGCATCAACTACAACTGTGTGGCTCCTGGGAAACGCTTCCGGCCTATGGACAACTTGTCAGGCGGGGAGAAGACAGTGGCAGCTCTGGCCCTGCTCTTTGCCATCCACAGCTACAAGCCAGCCCCCTTCTTCGTCCTGGATGAGATTGATGCTGCCTTGGATAACACCAACATTGGCAAGGTGGCAAATTACATCAAGGAGCAGTCGACTTGCAACTTCCAGGCCATCGTCATCTCTCTCAAGGAGGAGTTCTACACCAAGGCCGAGAGCCTCATTGGAGTCTATCCTGAGCAAGGGGACTGTGTGATCAGCAAAGTCCTGACCTTCGACCTCACCAAGTACCCAGATGCCAACCCCAACCCCAATGAGCAGTAG'\n",
    "SMC1A_coding_sequence_extra_bases = 'CATGGGGTTCCTGAAACTGATTGAGATTGAGAACTTTAAGTCGTACAAGGGTCGACAGATTATCGGACCATTTCAGAGGTTCACCGCCATCATTGGACCCAATGGCTCTGGTAAGTCAAATCTCATGGATGCCATCAGCTTTGTGCTAGGTGAAAAAACCAGCAACCTGCGGGTAAAGACCCTGCGGGACCTGATCCATGGAGCTCCTGTGGGCAAGCCAGCTGCCAACCGGGCCTTTGTCAGCATGGTCTACTCTGAGGAGGGTGCTGAGGACCGTACCTTTGCCCGTGTCATTGTAGGAGGTTCTTCTGAGTACAAGATCAACAACAAAGTGGTCCAACTACATGAGTACAGTGAGGAATTAGAGAAGTTGGGCATTCTCATCAAAGCTCGTAACTTCCTCGTTTTCCAGGGTGCTGTGGAATCTATTGCCATGAAGAACCCCAAAGAGAGGACAGCTCTATTTGAAGAGATTAGTCGTTCTGGGGAGCTGGCGCAGGAGTATGACAAGCGAAAGAAGGAAATGGTGAAGGCTGAAGAGGACACACAGTTTAATTACCATCGCAAGAAAAATATTGCGGCTGAACGCAAGGAAGCAAAGCAGGAGAAAGAAGAGGCTGACCGGTACCAGCGCCTGAAGGATGAGGTAGTACGGGCTCAGGTACAGCTGCAGCTCTTTAAGCTTTACCATAATGAAGTGGAAATTGAGAAGCTCAACAAGGAACTGGCCTCAAAGAACAAGGAGATCGAGAAGGACAAGAAGCGTATGGACAAGGTGGAGGATGAACTGAAGGAGAAGAAGAAGGAGCTGGGCAAAATGATGCGGGAGCAGCAGCAGATTGAGAAGGAGATCAAGGAGAAGGACTCAGAATTGAACCAGAAGCGGCCTCAGTACATCAAAGCCAAGGAGAACACCTCCCACAAAATCAAGAAGCTGGAAGCAGCCAAGAAGTCTCTGCAGAATGCTCAGAAGCACTACAAGAAGCGTAAAGGTGACATGGATGAGCTGGAGAAGGAGATGCTGTCAGTGGAGAAGGCTCGGCAGGAGTTTGAAGAACGGATGGAAGAAGAGAGTCAGAGTCAGGGCAGAGATTTGACGTTGGAGGAGAATCAGGTGAAGAAATACCACCGGTTGAAAGAAGAAGCCAGCAAGAGAGCAGCTACCCTGGCCCAGGAGCTGGAGAAATTCAATCGAGACCAGAAAGCTGACCAGGACCGTCTGGATCTGGAAGAACGGAAGAAAGTAGAGACAGAGGCCAAGATCAAGCAAAAGCTGCGGGAAATTGAAGAGAATCAGAAGCGGATTGAGAAACTGGAGGAATACATCACCACTAGCAAGCAGTCCCTAGAAGAGCAGAAGAAGCTAGAGGGGGAGCTGACAGAGGAGGTGGAGATGGCCAAGCGGCGTATTGATGAAATCAATAAGGAGCTGAACCAGGTGATGGAGCAGCTAGGGGATGCCCGCATCGACCGCCAGGAGAGCAGCCGCCAGCAGCGAAAGGCAGAGATAATGGAAAGCATCAAGCGCCTTTACCCTGGCTCTGTGTACGGCCGCCTCATTGACCTATGCCAGCCCACACAAAAGAAGTATCAGATTGCTGTAACCAAGGTTTTGGGCAAGAACATGGATGCCATTATTGTGGACTCGGAGAAGACAGGCCGGGACTGTATTCAGTATATCAAGGAGCAGCGTGGGGAGCCTGAGACCTTCTTGCCTCTTGACTACCTGGAGGTGAAGCCTACAGATGAGAAACTCCGGGAGCTGAAGGGGGCCAAGCTAGTGATTGATGTGATTCGCTATGAGCCACCTCATATCAAAAAGGCCCTGCAGTATGCTTGTGGCAATGCCCTTGTCTGTGACAACGTGGAAGATGCCCGCCGCATTGCCTTTGGAGGCCACCAGCGCCACAAGACAGTGGCACTGGATGGAACCCTATTCCAGAAGTCAGGAGTGATCTCTGGTGGGGCCAGTGACCTGAAGGCCAAGGCACGGCGCTGGGATGAGAAAGCAGTAGACAAGTTGAAAGAGAAGAAGGAGCGCTTGACAGAGGAGCTGAAAGAGCAGATGAAGGCAAAACGGAAAGAGGCAGAGCTGCGTCAGGTGCAGTCTCAGGCCCATGGACTGCAGATGCGGCTCAAGTACTCCCAGAGTGACCTAGAACAGACCAAGACACGACATCTAGCCCTGAATCTGCAGGAAAAATCCAAGCTGGAGAGTGAGCTAGCCAACTTTGGGCCTCGCATTAATGATATCAAGAGGATCATTCAGAGCCGAGAGAGGGAAATGAAAGACTTGAAGGAGAAGATGAACCAGGTAGAGGATGAGGTGTTTGAAGAGTTTTGTCGGGAGATTGGTGTGCGCAACATCCGGGAGTTTGAGGAAGAAAAGGTGAAACGGCAGAATGAAATCGCCAAGAAGCGTTTGGAGTTTGAGAATCAGAAGACTCGCTTGGGCATTCAGTTGGATTTTGAAAAGAACCAACTGAAGGAGGACCAAGATAAAGTACACATGTGGGAGCAGACAGTGAAAAAAGATGAAAATGAGATAGAAAAGCTCAAAAAGGAGGAACAAAGACACATGAAGATCATAGATGAGACCATGGCTCAGCTACAAGACCTGAAGAATCAGCATCTGGCCAAGAAGTCGGAAGTGAATGACAAGAATCATGAGATGGAGGAGATTCGTAAGAAACTCGGGGGCGCCAACAAGGAAATGACCCATTTACAGAAGGAGGTGACAGCCATTGAGACCAAGCTTGAACAGAAGCGCAGTGACCGTCACAACTTGCTACAGGCCTGTAAGATGCAGGACATTAAGTTGCCACTGTCAAAAGGCACCATGGATGATATTAGTCAGGAAGAGGGTAGCTCCCAGGGGGAGGACTCAGTGAGTGGTTCACAGAGAATTTCCAGTATCTATGCACGAGAGGCCCTCATTGAGATTGACTACGGTGATCTGTGTGAGGATCTGAAGGATGCCCAGGCTGAGGAAGAGATCAAGCAAGAGATGAACACACTGCAGCAGAAGCTGAATGAGCAGCAGAGTGTGCTTCAGCGTATTGCCGCCCCCAACATGAAGGCCATGGAAAAGCTGGAAAGTGTCCGAGACAAGTTCCAGGAGACCTCAGATGAGTTTGAAGCAGCCCGAAAGCGAGCAAAGAAGGCCAAGCAGGCATTCGAACAGATCAAGAAGGAGCGCTTTGACCGCTTCAATGCTTGTTTTGAATCTGTGGCTACCAACATTGATGAGATCTATAAGGCCCTGTCCCGCAATAGCAGTGCCCAGGCATTCCTGGGCCCTGAGAACCCTGAAGAGCCCTACTTGGATGGCATCAACTACAACTGTGTGGCTCCTGGGAAACGCTTCCGGCCTATGGACAACTTGTCAGGCGGGGAGAAGACAGTGGCAGCTCTGGCCCTGCTCTTTGCCATCCACAGCTACAAGCCAGCCCCCTTCTTCGTCCTGGATGAGATTGATGCTGCCTTGGATAACACCAACATTGGCAAGGTGGCAAATTACATCAAGGAGCAGTCGACTTGCAACTTCCAGGCCATCGTCATCTCTCTCAAGGAGGAGTTCTACACCAAGGCCGAGAGCCTCATTGGAGTCTATCCTGAGCAAGGGGACTGTGTGATCAGCAAAGTCCTGACCTTCGACCTCACCAAGTACCCAGATGCCAACCCCAACCCCAATGAGCAGTAGC'"
   ]
  },
  {
   "cell_type": "code",
   "execution_count": 192,
   "metadata": {
    "scrolled": true
   },
   "outputs": [
    {
     "name": "stdout",
     "output_type": "stream",
     "text": [
      "Total summed synonymous mutation rate across region =  1.4307872139999998e-07\n"
     ]
    }
   ],
   "source": [
    "SF3B1_2 = synonymous_mutation_rate_across_gene('SF3B1', SF3B1_coding_sequence, SF3B1_coding_sequence_extra_bases, 36, 100)"
   ]
  },
  {
   "cell_type": "code",
   "execution_count": 193,
   "metadata": {
    "scrolled": true
   },
   "outputs": [
    {
     "name": "stdout",
     "output_type": "stream",
     "text": [
      "Total summed synonymous mutation rate across region =  1.367220172e-07\n"
     ]
    }
   ],
   "source": [
    "SF3B1_11 = synonymous_mutation_rate_across_gene('SF3B1', SF3B1_coding_sequence, SF3B1_coding_sequence_extra_bases, 577, 637)"
   ]
  },
  {
   "cell_type": "code",
   "execution_count": 194,
   "metadata": {
    "scrolled": true
   },
   "outputs": [
    {
     "name": "stdout",
     "output_type": "stream",
     "text": [
      "Total summed synonymous mutation rate across region =  8.711180349999998e-08\n"
     ]
    }
   ],
   "source": [
    "SF3B1_16 = synonymous_mutation_rate_across_gene('SF3B1', SF3B1_coding_sequence, SF3B1_coding_sequence_extra_bases, 806, 854)"
   ]
  },
  {
   "cell_type": "code",
   "execution_count": 195,
   "metadata": {
    "scrolled": true
   },
   "outputs": [
    {
     "name": "stdout",
     "output_type": "stream",
     "text": [
      "Total summed synonymous mutation rate across region =  7.06994073e-08\n"
     ]
    }
   ],
   "source": [
    "SF3B1_17 = synonymous_mutation_rate_across_gene('SF3B1', SF3B1_coding_sequence, SF3B1_coding_sequence_extra_bases, 854, 903)"
   ]
  },
  {
   "cell_type": "markdown",
   "metadata": {},
   "source": [
    "## SMC3 (exons 10, 13, 19, 23, 25 and 28)"
   ]
  },
  {
   "cell_type": "markdown",
   "metadata": {},
   "source": [
    "- ENST00000361804.4 transcript."
   ]
  },
  {
   "cell_type": "markdown",
   "metadata": {},
   "source": [
    "#### Mutation rate for synonymous variants across SMC3 regions included in panel"
   ]
  },
  {
   "cell_type": "code",
   "execution_count": 196,
   "metadata": {},
   "outputs": [],
   "source": [
    "SMC3_coding_sequence = 'ATGTACATAANGCAGGTGATTATCCAGGGTTTTCGAAGTTACAGAGATCAAACAATTGTAGATCCCTTNANTTCAAAACANNATGTGATTGNGGGNAGAAATGGATCTGGANAAAGTAACTTTTTTTATGCAATTCAGNTTGTTCTCAGTGATGNGTTNAGTCATNTTNGTCCAGAACAGNGGTTGGCTTTANTGCATGAAGGTACTGGTCCTCGTGTTATTTCTGCTTTTGTGGAGATTATTTTTGATAATTCNGACAACCGNTTACCAATNGANAAAGAGNANNTTTCACTTCGAAGAGTTATTGGTGCCAAAAAGGATCAGTATTTCTTAGNCAAGAANATGGTNACNAAAAATGATGTGATGAANCTNCTTGNAAGNGCNGGTTTTTCTCGAAGCAATCCTTATNATATTGTTAANCAAGGAAAGATNAACCAGATGGCAACANCACCNGATTCTCANAGNTTAAAGCTATTAAGAGAAGTNGCTGGNACTAGAGTNTATGANGANNGAAAGGAAGAAAGNATCTCCTTAATGAAAGAAACNGAGGGCAAACGGGAANAAATNAATGANTTGNTAAANTACANTGAAGAGAGATTACNTACTCTAGAGGAAGAAAAGGANGAACTAGCTCNGTATCAGAANTGGGATAAAATGAGACGAGCCCTGGAATATACCATTTACAATCAGGAACTTANNGAGNNNNNTGCCANNCTTGANGAGCTTTCTGCTAAGNGAGAGACNAGTGGAGAAAAATCCAGACAATTAAGAGATGCTCAGCAGGATGCAAGAGATAAAATGGAGGATATNGAACGNCANGTTAGAGAATTGAAAACNNAAATTTCAGCTATGAAAGAAGANNAAGAACAGCTTAGTGNTGAAAGACAAGAGNAGATNAAGCAGAGGACTAAGTTGGAGCTTAAAGCCAAGGATTTACAAGATGAACTAGCAGGCAATANTGAACNAAGNAAACNTTTATTAAAAGAGAGGCANAAGCTGCTTGAAAAAATAGAAGAAAAGCAGAAAGAACTNGCAGAAACAGAACCCANNTTNAACANTGTGAAAGAGAAAGAAGAANGAGGAATTGCTAGATTGNCTCANGCTNCCCAGGANAGAANNGATCTTTANGCAAAGCAGGGTCGAGGAAGCCAGTTNACATCAAAAGANGANAGNGATAANTGGATTAAAAAGGANNTCAAGTCTTTAGANCAGNCTATTAATGACAAGAAAAGACAGNTNGNTGCTATACNTAAGGATNTGGAAGACACTGAAGCAAATANAGANAAAANTCTGNANCAGTNNAATAAACTGGANCAGGATCTTNANGAAGTNAAAGCTCGAGTNGAAGAANTGGANAGAAAATANTANGAAGTNAAAAANANNNAAGATGAANTACAAAGTGAAAGNNACTNCTTNTGGAGAGANGAGANTGCANNACAGCAAGNACTTGNNGCTAAAAGANANNNTCTNGAAAAGAAGCAACAACTTCTTAGAGCAGCAACAGNNAANGCCATTTTAAANGGAANAGACAGCATNNNCAAAGTGNTAGANNACTTCNGTCGNAAAGGANTAANNCAGCNNGTTCAAAATGGNTNTCANGGTATTGTAATGAATAACTTTGAATGTGAACCAGCNTTNTNCACNTGNGTNGAAGTCACTNCTGGAAACNGGTTATTTTANCANATTGTTGATTCAGATGAAGTCAGCANGAAGATTTTAATGGAGTTTAATAAANTGAATCTNNCTGGAGAGGTTACTTTTCTNCCTCTTNACAANTTAGATNTCAGGGATACAGCCTNTCNTGANACCANTGATGCTATTCCTATGATCAGCAAACTNAGNTACAATCNCAGNTTTNANAAAGCTTTCAAANANGTGTTTGGAAAGACNCTTATTTGTCGTAGNATGGANGTTTCAACCCAGCTNGCCNGTGCNTTCNCTNTGGACTGTNTTACTTTGGAAGNTGACCAAGTNAGCCATCGGGGTGCTCTAACTGNNGGTTNNNANGACACAAGGAAGTCTCGACTTGAATTGCAAAAAGANGTTAGNAAAGCNNNAGAANNNCTANNNNAACTTGAAGCAAANNTCAATGAANACCTGCNCAGAAATATTGAANGGATTAATNNNNAAATTGATCAGTTGATGAACCAAATGCANCAGATCGAGACNNAGCAAAGGAANTTTAANGCATCTAGAGATANCATNTTANCAGAAATGNAGATGCTNAAAGNGANGANGCAGCAGTCAGAGAAAANNTTCATGCNTAAGCAANGTAGCTTACAGAGTTTGGAGGCAAGNNTGCATGCTATGGAGTCTACCNGAGAGTCANTGANAGCNNAACTGGGAACTGANNTGCTTTCTCAACTGAGTTTGGAAGATCAGNAGAGAGTAGANGCNCTGAATGANGAGATTNGTCANCTTCAGCAGGAAAACAGACAGTNGCTAAATGAAAGAATTAAATTAGAAGGTATTATTACTCGAGTAGAGACTTANCTNANTGAGAATCTGAGANAACGCTTNGACCAAGTNGANCAGNNNNNTAATGAGCTNANAGAGACAGAAGGGNNTACTNNTCTCACAGCCACAACNTCNGAACTTGANGCCATCAATAAAAGAGTAAAAGACACTNTGGCACNATCAGAAGATTTGGACAANNCCATNGATNAAACAGAANCTGNAATTAAGGAGCTTCNNNAGANTATGGAGNNCNGGAAAAATATGGAAAAAGANCATATGGATGCTATAAATCNTGATACNAAAGAACTGGAAAAGATGACAAATNGGCAAGGCATGCNNTTGAANAAGAAAGAAGAGTGTATGAANAAAATTCGAGAACTTGGATCACTTCCNCAGGANGCATTTGAAAAGTNCNNGACACTGAGCCTNANACAGTTGTTTNNAAAACTTGAGCANTGCAACACAGANTTNAAGAANTANAGCCATGTTAACNAAAAGGCTTTGGANCAGTTNGTAAATTTNTCNGAGCAGAAAGAAAAGTTANTAAAGCGNCANGAAGAGTTAGATAGGGGTTACNNNTCNATCATGGAACTGATGAANGTNCTTGAACTTNNNAAATANGAAGCTATTCAGNTAACTTTCAAACAGGTATCTAANAACTTNNNTGAAGTATTCNANAAGTTAGTACCTGGTGGCAAAGCTACTTTGGTNATNAAGAAAGGAGATGTGGAGGGCAGTCAGTCTCAAGATGANNNAGAAGGGANTGGTGANAGTGAGNGGGGTTCTGNCTCANNNANCAGNNTNCNNTCAGTTGACCAGTTTACNGGAGTTGGAATTAGGGTNTCATTTACAGGAAAACAAGGNGAAATGAGAGANATGCANCAGCTTTCNGGTGGACAGAAATCCNTGGTANCCNTTGCNCTGATTTTTGCCATTCAGAAATGTGACCNNGCTCCATTTTACTTNTTTGATGANATTGACCAGGCTCTNNATGNTCAGCANNGAAAGGCTGTGTCNGATATGATTNTGGAACTTGCNGTNNNTGCTCAGTTTATTACNACTACTTTTAGNCCTGAACTGCTTGAGTCAGCTGACAAATTCTATGGTGTAAAGTTCAGAAATAAGGTTAGTCATATTGANGTNATCACNGNAGAGATGGCCANAGACTTTGTAGANGATGATACCACACATGGTTAA'\n",
    "SMC3_coding_sequence_extra_bases = 'CATGTACATAANGCAGGTGATTATCCAGGGTTTTCGAAGTTACAGAGATCAAACAATTGTAGATCCCTTNANTTCAAAACANNATGTGATTGNGGGNAGAAATGGATCTGGANAAAGTAACTTTTTTTATGCAATTCAGNTTGTTCTCAGTGATGNGTTNAGTCATNTTNGTCCAGAACAGNGGTTGGCTTTANTGCATGAAGGTACTGGTCCTCGTGTTATTTCTGCTTTTGTGGAGATTATTTTTGATAATTCNGACAACCGNTTACCAATNGANAAAGAGNANNTTTCACTTCGAAGAGTTATTGGTGCCAAAAAGGATCAGTATTTCTTAGNCAAGAANATGGTNACNAAAAATGATGTGATGAANCTNCTTGNAAGNGCNGGTTTTTCTCGAAGCAATCCTTATNATATTGTTAANCAAGGAAAGATNAACCAGATGGCAACANCACCNGATTCTCANAGNTTAAAGCTATTAAGAGAAGTNGCTGGNACTAGAGTNTATGANGANNGAAAGGAAGAAAGNATCTCCTTAATGAAAGAAACNGAGGGCAAACGGGAANAAATNAATGANTTGNTAAANTACANTGAAGAGAGATTACNTACTCTAGAGGAAGAAAAGGANGAACTAGCTCNGTATCAGAANTGGGATAAAATGAGACGAGCCCTGGAATATACCATTTACAATCAGGAACTTANNGAGNNNNNTGCCANNCTTGANGAGCTTTCTGCTAAGNGAGAGACNAGTGGAGAAAAATCCAGACAATTAAGAGATGCTCAGCAGGATGCAAGAGATAAAATGGAGGATATNGAACGNCANGTTAGAGAATTGAAAACNNAAATTTCAGCTATGAAAGAAGANNAAGAACAGCTTAGTGNTGAAAGACAAGAGNAGATNAAGCAGAGGACTAAGTTGGAGCTTAAAGCCAAGGATTTACAAGATGAACTAGCAGGCAATANTGAACNAAGNAAACNTTTATTAAAAGAGAGGCANAAGCTGCTTGAAAAAATAGAAGAAAAGCAGAAAGAACTNGCAGAAACAGAACCCANNTTNAACANTGTGAAAGAGAAAGAAGAANGAGGAATTGCTAGATTGNCTCANGCTNCCCAGGANAGAANNGATCTTTANGCAAAGCAGGGTCGAGGAAGCCAGTTNACATCAAAAGANGANAGNGATAANTGGATTAAAAAGGANNTCAAGTCTTTAGANCAGNCTATTAATGACAAGAAAAGACAGNTNGNTGCTATACNTAAGGATNTGGAAGACACTGAAGCAAATANAGANAAAANTCTGNANCAGTNNAATAAACTGGANCAGGATCTTNANGAAGTNAAAGCTCGAGTNGAAGAANTGGANAGAAAATANTANGAAGTNAAAAANANNNAAGATGAANTACAAAGTGAAAGNNACTNCTTNTGGAGAGANGAGANTGCANNACAGCAAGNACTTGNNGCTAAAAGANANNNTCTNGAAAAGAAGCAACAACTTCTTAGAGCAGCAACAGNNAANGCCATTTTAAANGGAANAGACAGCATNNNCAAAGTGNTAGANNACTTCNGTCGNAAAGGANTAANNCAGCNNGTTCAAAATGGNTNTCANGGTATTGTAATGAATAACTTTGAATGTGAACCAGCNTTNTNCACNTGNGTNGAAGTCACTNCTGGAAACNGGTTATTTTANCANATTGTTGATTCAGATGAAGTCAGCANGAAGATTTTAATGGAGTTTAATAAANTGAATCTNNCTGGAGAGGTTACTTTTCTNCCTCTTNACAANTTAGATNTCAGGGATACAGCCTNTCNTGANACCANTGATGCTATTCCTATGATCAGCAAACTNAGNTACAATCNCAGNTTTNANAAAGCTTTCAAANANGTGTTTGGAAAGACNCTTATTTGTCGTAGNATGGANGTTTCAACCCAGCTNGCCNGTGCNTTCNCTNTGGACTGTNTTACTTTGGAAGNTGACCAAGTNAGCCATCGGGGTGCTCTAACTGNNGGTTNNNANGACACAAGGAAGTCTCGACTTGAATTGCAAAAAGANGTTAGNAAAGCNNNAGAANNNCTANNNNAACTTGAAGCAAANNTCAATGAANACCTGCNCAGAAATATTGAANGGATTAATNNNNAAATTGATCAGTTGATGAACCAAATGCANCAGATCGAGACNNAGCAAAGGAANTTTAANGCATCTAGAGATANCATNTTANCAGAAATGNAGATGCTNAAAGNGANGANGCAGCAGTCAGAGAAAANNTTCATGCNTAAGCAANGTAGCTTACAGAGTTTGGAGGCAAGNNTGCATGCTATGGAGTCTACCNGAGAGTCANTGANAGCNNAACTGGGAACTGANNTGCTTTCTCAACTGAGTTTGGAAGATCAGNAGAGAGTAGANGCNCTGAATGANGAGATTNGTCANCTTCAGCAGGAAAACAGACAGTNGCTAAATGAAAGAATTAAATTAGAAGGTATTATTACTCGAGTAGAGACTTANCTNANTGAGAATCTGAGANAACGCTTNGACCAAGTNGANCAGNNNNNTAATGAGCTNANAGAGACAGAAGGGNNTACTNNTCTCACAGCCACAACNTCNGAACTTGANGCCATCAATAAAAGAGTAAAAGACACTNTGGCACNATCAGAAGATTTGGACAANNCCATNGATNAAACAGAANCTGNAATTAAGGAGCTTCNNNAGANTATGGAGNNCNGGAAAAATATGGAAAAAGANCATATGGATGCTATAAATCNTGATACNAAAGAACTGGAAAAGATGACAAATNGGCAAGGCATGCNNTTGAANAAGAAAGAAGAGTGTATGAANAAAATTCGAGAACTTGGATCACTTCCNCAGGANGCATTTGAAAAGTNCNNGACACTGAGCCTNANACAGTTGTTTNNAAAACTTGAGCANTGCAACACAGANTTNAAGAANTANAGCCATGTTAACNAAAAGGCTTTGGANCAGTTNGTAAATTTNTCNGAGCAGAAAGAAAAGTTANTAAAGCGNCANGAAGAGTTAGATAGGGGTTACNNNTCNATCATGGAACTGATGAANGTNCTTGAACTTNNNAAATANGAAGCTATTCAGNTAACTTTCAAACAGGTATCTAANAACTTNNNTGAAGTATTCNANAAGTTAGTACCTGGTGGCAAAGCTACTTTGGTNATNAAGAAAGGAGATGTGGAGGGCAGTCAGTCTCAAGATGANNNAGAAGGGANTGGTGANAGTGAGNGGGGTTCTGNCTCANNNANCAGNNTNCNNTCAGTTGACCAGTTTACNGGAGTTGGAATTAGGGTNTCATTTACAGGAAAACAAGGNGAAATGAGAGANATGCANCAGCTTTCNGGTGGACAGAAATCCNTGGTANCCNTTGCNCTGATTTTTGCCATTCAGAAATGTGACCNNGCTCCATTTTACTTNTTTGATGANATTGACCAGGCTCTNNATGNTCAGCANNGAAAGGCTGTGTCNGATATGATTNTGGAACTTGCNGTNNNTGCTCAGTTTATTACNACTACTTTTAGNCCTGAACTGCTTGAGTCAGCTGACAAATTCTATGGTGTAAAGTTCAGAAATAAGGTTAGTCATATTGANGTNATCACNGNAGAGATGGCCANAGACTTTGTAGANGATGATACCACACATGGTTAAT'"
   ]
  },
  {
   "cell_type": "code",
   "execution_count": 197,
   "metadata": {
    "scrolled": true
   },
   "outputs": [
    {
     "name": "stdout",
     "output_type": "stream",
     "text": [
      "Total summed synonymous mutation rate across region =  3.5140926099999995e-08\n"
     ]
    }
   ],
   "source": [
    "SMC3_10 = synonymous_mutation_rate_across_gene('SMC3', SMC3_coding_sequence, SMC3_coding_sequence_extra_bases, 241, 268)"
   ]
  },
  {
   "cell_type": "code",
   "execution_count": 198,
   "metadata": {
    "scrolled": true
   },
   "outputs": [
    {
     "name": "stdout",
     "output_type": "stream",
     "text": [
      "Total summed synonymous mutation rate across region =  6.158545110000001e-08\n"
     ]
    }
   ],
   "source": [
    "SMC3_13 = synonymous_mutation_rate_across_gene('SMC3', SMC3_coding_sequence, SMC3_coding_sequence_extra_bases, 363, 435)"
   ]
  },
  {
   "cell_type": "code",
   "execution_count": 199,
   "metadata": {
    "scrolled": true
   },
   "outputs": [
    {
     "name": "stdout",
     "output_type": "stream",
     "text": [
      "Total summed synonymous mutation rate across region =  7.62252241e-08\n"
     ]
    }
   ],
   "source": [
    "SMC3_19 = synonymous_mutation_rate_across_gene('SMC3', SMC3_coding_sequence, SMC3_coding_sequence_extra_bases, 654, 706)"
   ]
  },
  {
   "cell_type": "code",
   "execution_count": 200,
   "metadata": {
    "scrolled": true
   },
   "outputs": [
    {
     "name": "stdout",
     "output_type": "stream",
     "text": [
      "Total summed synonymous mutation rate across region =  3.86882393e-08\n"
     ]
    }
   ],
   "source": [
    "SMC3_23 = synonymous_mutation_rate_across_gene('SMC3', SMC3_coding_sequence, SMC3_coding_sequence_extra_bases, 845, 882)"
   ]
  },
  {
   "cell_type": "code",
   "execution_count": 201,
   "metadata": {
    "scrolled": true
   },
   "outputs": [
    {
     "name": "stdout",
     "output_type": "stream",
     "text": [
      "Total summed synonymous mutation rate across region =  7.667684810000002e-08\n"
     ]
    }
   ],
   "source": [
    "SMC3_25 = synonymous_mutation_rate_across_gene('SMC3', SMC3_coding_sequence, SMC3_coding_sequence_extra_bases, 964, 1035)"
   ]
  },
  {
   "cell_type": "code",
   "execution_count": 202,
   "metadata": {
    "scrolled": true
   },
   "outputs": [
    {
     "name": "stdout",
     "output_type": "stream",
     "text": [
      "Total summed synonymous mutation rate across region =  4.7951330200000006e-08\n"
     ]
    }
   ],
   "source": [
    "SMC3_28 = synonymous_mutation_rate_across_gene('SMC3', SMC3_coding_sequence, SMC3_coding_sequence_extra_bases, 1158, 1194)"
   ]
  },
  {
   "cell_type": "code",
   "execution_count": 203,
   "metadata": {},
   "outputs": [],
   "source": [
    "SMC3_synonymous = SMC3_10 + SMC3_13 + SMC3_19 + SMC3_23 + SMC3_25 + SMC3_28"
   ]
  },
  {
   "cell_type": "markdown",
   "metadata": {},
   "source": [
    "#### Mutation rate for excluded synonymous SMC3 variants"
   ]
  },
  {
   "cell_type": "code",
   "execution_count": 204,
   "metadata": {
    "code_folding": [
     0
    ]
   },
   "outputs": [],
   "source": [
    "#Create a dictionary of the excluded synonymous variants in SMC3:\n",
    "import csv\n",
    "filename=\"Young_excluded_synonymous_1000_genomes.csv\"\n",
    "\n",
    "with open(filename, 'r') as csvfile:\n",
    "    read_reader = csv.reader(csvfile)  #csv.reader returns a reader object which will iterate over lines in the csvfile\n",
    "    row_count=0\n",
    "    excluded_SMC3_synonymous_variants={} #dictionary of DNMTA results (key = ID (row[13]), value = VAF (row[10]))\n",
    "\n",
    "    for row in read_reader:\n",
    "#         print(row)\n",
    "        if row_count>0:\n",
    "            gene = row[0]\n",
    "            variant = row[1]\n",
    "            AA_coordinate = row[11]\n",
    "            variant_ID = row[2]\n",
    "            if row[0]=='SMC3':\n",
    "                excluded_SMC3_synonymous_variants[variant]=(gene, AA_coordinate, variant_ID)\n",
    "\n",
    "        row_count=row_count+1"
   ]
  },
  {
   "cell_type": "code",
   "execution_count": 205,
   "metadata": {
    "scrolled": false
   },
   "outputs": [
    {
     "name": "stdout",
     "output_type": "stream",
     "text": [
      "Total summed mutation rate across excluded synonymous variants =  0.0\n"
     ]
    }
   ],
   "source": [
    "SMC3_excluded = synonymous_excluded_variants_mutation_rate('SMC3', SMC3_coding_sequence, SMC3_coding_sequence_extra_bases, \\\n",
    "                                                           excluded_SMC3_synonymous_variants)"
   ]
  },
  {
   "cell_type": "markdown",
   "metadata": {},
   "source": [
    "#### Total synonymous mutation rate for SMC3"
   ]
  },
  {
   "cell_type": "code",
   "execution_count": 206,
   "metadata": {
    "code_folding": [
     0
    ],
    "scrolled": false
   },
   "outputs": [
    {
     "name": "stdout",
     "output_type": "stream",
     "text": [
      "Synonymous mutation rate across SMC3 =  3.362680189e-07\n"
     ]
    }
   ],
   "source": [
    "#Subtract the mutation rate of the excluded variants from the total mutation rate for SMC3 synonymous variants across the panel\n",
    "SMC3 = SMC3_synonymous - SMC3_excluded\n",
    "print(\"Synonymous mutation rate across SMC3 = \", SMC3)"
   ]
  },
  {
   "cell_type": "markdown",
   "metadata": {},
   "source": [
    "## SRSF2 (exon 1)"
   ]
  },
  {
   "cell_type": "markdown",
   "metadata": {},
   "source": [
    "- ENST00000392485.2 transcript."
   ]
  },
  {
   "cell_type": "markdown",
   "metadata": {},
   "source": [
    "#### Mutation rate for synonymous variants across SRSF2 regions included in panel"
   ]
  },
  {
   "cell_type": "code",
   "execution_count": 207,
   "metadata": {},
   "outputs": [],
   "source": [
    "SRSF2_coding_sequence = 'ATGAGCTACGGCCGCCCCCCTCCCGATGTGGAGGGTATGACCTCCCTCAAGGTGGACAACCTGACCTACCGCACCTCGCCCGACACGCTGAGGCGCGTCTTCGAGAAGTACGGGCGCGTCGGCGACGTGTACATCCCGCGGGACCGCTACACCAAGGAGTCCCGCGGCTTCGCCTTCGTTCGCTTTCACGACAAGCGCGACGCTGAGGACGCTATGGATGCCATGGACGGGGCCGTGCTGGACGGCCGCGAGCTGCGGGTGCAAATGGCGCGCTACGGCCGCCCCCCGGACTCACACCACAGCCGCCGGGGACCGCCACCCCGCAGGTACGGGGGCGGTGGCTACGGACGCCGGAGCCGCAGCCCTAGGCGGCGTCGCCGCAGCCGATCCCGGAGTCGGAGTCGTTCCAGGTCTCGCAGCCGATCTCGCTACAGCCGCTCGAAGTCTCGGTCCCGCACTCGTTCTCGATCTCGGTCGACCTCCAAGTCCAGATCCGCACGAAGGTCCAAGTCCAAGTCCTCGTCGGTCTCCAGATCTCGTTCGCGGTCCAGGTCCCGGTCTCGGTCCAGGAGTCCTCCCCCAGTGTCCAAGAGGGAATCCAAATCCAGGTCGCGATCGAAGAGTCCCCCCAAGTCTCCTGAAGAGGAAGGAGCGGTGTCCTCTTAA'\n",
    "SRSF2_coding_sequence_extra_bases = 'TATGAGCTACGGCCGCCCCCCTCCCGATGTGGAGGGTATGACCTCCCTCAAGGTGGACAACCTGACCTACCGCACCTCGCCCGACACGCTGAGGCGCGTCTTCGAGAAGTACGGGCGCGTCGGCGACGTGTACATCCCGCGGGACCGCTACACCAAGGAGTCCCGCGGCTTCGCCTTCGTTCGCTTTCACGACAAGCGCGACGCTGAGGACGCTATGGATGCCATGGACGGGGCCGTGCTGGACGGCCGCGAGCTGCGGGTGCAAATGGCGCGCTACGGCCGCCCCCCGGACTCACACCACAGCCGCCGGGGACCGCCACCCCGCAGGTACGGGGGCGGTGGCTACGGACGCCGGAGCCGCAGCCCTAGGCGGCGTCGCCGCAGCCGATCCCGGAGTCGGAGTCGTTCCAGGTCTCGCAGCCGATCTCGCTACAGCCGCTCGAAGTCTCGGTCCCGCACTCGTTCTCGATCTCGGTCGACCTCCAAGTCCAGATCCGCACGAAGGTCCAAGTCCAAGTCCTCGTCGGTCTCCAGATCTCGTTCGCGGTCCAGGTCCCGGTCTCGGTCCAGGAGTCCTCCCCCAGTGTCCAAGAGGGAATCCAAATCCAGGTCGCGATCGAAGAGTCCCCCCAAGTCTCCTGAAGAGGAAGGAGCGGTGTCCTCTTAAG'"
   ]
  },
  {
   "cell_type": "code",
   "execution_count": 208,
   "metadata": {
    "scrolled": true
   },
   "outputs": [
    {
     "name": "stdout",
     "output_type": "stream",
     "text": [
      "Total summed synonymous mutation rate across region =  7.852488161e-07\n"
     ]
    }
   ],
   "source": [
    "SRSF2_synonymous = synonymous_mutation_rate_across_gene('SRSF2', SRSF2_coding_sequence, SRSF2_coding_sequence_extra_bases, 0, 122)"
   ]
  },
  {
   "cell_type": "markdown",
   "metadata": {},
   "source": [
    "#### Mutation rate for excluded synonymous SRSF2 variants"
   ]
  },
  {
   "cell_type": "code",
   "execution_count": 209,
   "metadata": {
    "code_folding": [
     0
    ]
   },
   "outputs": [],
   "source": [
    "#Create a dictionary of the excluded synonymous variants in SRSF2:\n",
    "import csv\n",
    "filename=\"Young_excluded_synonymous_1000_genomes.csv\"\n",
    "\n",
    "with open(filename, 'r') as csvfile:\n",
    "    read_reader = csv.reader(csvfile)  #csv.reader returns a reader object which will iterate over lines in the csvfile\n",
    "    row_count=0\n",
    "    excluded_SRSF2_synonymous_variants={} #dictionary of DNMTA results (key = ID (row[13]), value = VAF (row[10]))\n",
    "\n",
    "    for row in read_reader:\n",
    "#         print(row)\n",
    "        if row_count>0:\n",
    "            gene = row[0]\n",
    "            variant = row[1]\n",
    "            AA_coordinate = row[11]\n",
    "            variant_ID = row[2]\n",
    "            if row[0]=='SRSF2':\n",
    "                excluded_SRSF2_synonymous_variants[variant]=(gene, AA_coordinate, variant_ID)\n",
    "\n",
    "        row_count=row_count+1"
   ]
  },
  {
   "cell_type": "code",
   "execution_count": 210,
   "metadata": {
    "scrolled": false
   },
   "outputs": [
    {
     "name": "stdout",
     "output_type": "stream",
     "text": [
      "Total summed mutation rate across excluded synonymous variants =  8.724759e-09\n"
     ]
    }
   ],
   "source": [
    "SRSF2_excluded = synonymous_excluded_variants_mutation_rate('SRSF2', SRSF2_coding_sequence, SRSF2_coding_sequence_extra_bases, \\\n",
    "                                                           excluded_SRSF2_synonymous_variants)"
   ]
  },
  {
   "cell_type": "markdown",
   "metadata": {},
   "source": [
    "#### Total synonymous mutation rate for SRSF2"
   ]
  },
  {
   "cell_type": "code",
   "execution_count": 211,
   "metadata": {
    "code_folding": [
     0
    ],
    "scrolled": true
   },
   "outputs": [
    {
     "name": "stdout",
     "output_type": "stream",
     "text": [
      "Synonymous mutation rate across SRSF2 =  7.765240571e-07\n"
     ]
    }
   ],
   "source": [
    "#Subtract the mutation rate of the excluded variants from the total mutation rate for SRSF2 synonymous variants across the panel\n",
    "SRSF2 = SRSF2_synonymous - SRSF2_excluded\n",
    "print(\"Synonymous mutation rate across SRSF2 = \", SRSF2)"
   ]
  },
  {
   "cell_type": "markdown",
   "metadata": {},
   "source": [
    "## STAG2"
   ]
  },
  {
   "cell_type": "markdown",
   "metadata": {},
   "source": [
    "- ENST00000371160.1 transcript."
   ]
  },
  {
   "cell_type": "markdown",
   "metadata": {},
   "source": [
    "#### Mutation rate for synonymous variants across STAG2 regions included in panel"
   ]
  },
  {
   "cell_type": "code",
   "execution_count": 212,
   "metadata": {},
   "outputs": [],
   "source": [
    "STAG2_coding_sequence = 'ATGATAGCAGCTCCAGAAATACCAACTGATTTTAATCTACTACAGGAGTCAGAAACACATTTTTCTTCTGACACAGATTTTGAAGATATCGAAGGAAAAAACCAAAAGCAAGGCAAAGGCAAAACTTGTAAAAAAGGCAAAAAGGGCCCAGCAGAAAAGGGCAAAGGTGGAAATGGAGGAGGAAAACCTCCTTCTGGTCCAAACCGAATGAATGGTCATCACCAACAGAATGGAGTGGAAAACATGATGTTGTTTGAAGTTGTTAAAATGGGCAAGAGTGCTATGCAGTCGGTGGTAGATGATTGGATAGAATCATACAAGCATGACCGAGATATAGCACTTCTTGACCTTATCAACTTTTTTATTCAGTGTTCAGGCTGTAAAGGAGTTGTCACAGCAGAAATGTTTAGACATATGCAGAACTCTGAGATAATTCGAAAAATGACTGAAGAATTCGATGAGGATAGTGGAGATTATCCACTTACCATGGCTGGTCCTCAGTGGAAGAAGTTCAAATCCAGTTTTTGTGAATTCATTGGCGTGTTAGTACGGCAATGTCAATATAGTATCATATATGATGAGTATATGATGGATACAGTCATTTCACTTCTTACAGGATTGTCTGACTCACAAGTCAGAGCATTTCGACATACAAGCACCCTGGCAGCTATGAAGTTGATGACAGCTTTGGTGAATGTGGCACTAAATCTTAGCATTAATATGGATAATACACAAAGACAATATGAAGCAGAACGGAATAAAATGATTGGAAAACGAGCCAATGAGAGGCTAGAACTCCTGCTACAAAAGCGGAAAGAGCTTCAGGAAAATCAAGATGAAATAGAAAATATGATGAATGCAATATTTAAAGGAGTGTTTGTACATAGATACCGTGATGCGATAGCTGAAATTCGAGCTATTTGCATTGAAGAGATTGGCATTTGGATGAAGATGTATAGTGATGCCTTTCTTAATGACAGTTATTTAAAATATGTTGGTTGGACTATGCATGATAAGCAAGGTGAAGTAAGACTCAAATGTCTTACTGCTCTACAAGGGCTTTATTATAACAAAGAGCTTAATTCCAAACTGGAACTTTTTACCAGTCGGTTCAAGGATAGAATTGTGTCTATGACCCTTGACAAAGAATATGATGTTGCAGTACAAGCAATAAAATTACTCACTCTTGTTTTACAGAGTAGTGAAGAAGTTCTCACTGCAGAAGATTGTGAAAATGTCTATCATCTGGTTTATTCAGCTCACCGGCCAGTAGCAGTAGCAGCTGGAGAATTTCTCTACAAAAAGCTCTTCAGTCGTAGAGATCCAGAGGAGGATGGAATGATGAAAAGAAGAGGAAGACAAGGTCCAAATGCCAACCTTGTTAAGACATTGGTTTTTTTCTTTCTAGAAAGTGAGTTACATGAGCATGCAGCATACCTTGTGGATAGCATGTGGGACTGTGCTACTGAGCTGCTGAAAGACTGGGAATGTATGAATAGCTTGTTACTGGAAGAGCCACTTAGTGGAGAGGAAGCACTAACAGATAGGCAAGAGAGTGCTCTGATTGAAATAATGCTTTGTACCATTAGACAAGCGGCTGAATGTCATCCTCCCGTGGGAAGAGGGACAGGAAAAAGGGTGCTTACAGCAAAGGAGAAGAAGACACAGTTGGATGATAGGACAAAAATCACTGAGCTTTTTGCCGTGGCCCTTCCTCAGTTATTAGCAAAATACTCTGTAGATGCAGAAAAGGTGACTAACTTGTTGCAGTTGCCTCAGTACTTTGATTTGGAAATATATACCACTGGACGATTAGAAAAGCATTTGGATGCCTTATTGCGACAGATCCGGAATATTGTAGAGAAGCACACAGATACAGATGTTTTGGAAGCATGTTCTAAAACTTACCATGCACTCTGTAATGAAGAGTTCACAATCTTCAACAGAGTAGATATTTCAAGAAGTCAACTGATAGATGAATTGGCAGATAAATTTAACCGGCTTCTTGAAGATTTTCTGCAAGAGGGTGAAGAACCTGATGAAGATGATGCATATCAGGTATTGTCAACATTGAAGAGGATCACTGCTTTTCATAATGCCCATGACCTTTCAAAGTGGGATTTATTTGCTTGTAATTACAAACTCTTGAAAACTGGAATCGAAAATGGAGACATGCCTGAGCAGATTGTTATTCACGCACTGCAGTGTACTCACTATGTAATCCTTTGGCAACTTGCTAAGATAACTGAAAGCAGCTCTACAAAGGAGGACTTGCTGCGTTTAAAGAAACAAATGAGAGTATTTTGTCAGATATGTCAACATTACCTGACCAACGTGAATACTACTGTTAAGGAACAGGCCTTCACTATTCTGTGTGATATTTTGATGATCTTCAGCCATCAGATTATGTCAGGAGGGCGTGACATGTTAGAGCCATTAGTGTATACCCCTGATTCTTCATTGCAGTCTGAGTTGCTCAGCTTTATTTTGGATCATGTCTTCATTGAACAGGATGATGATAATAATAGTGCAGATGGTCAGCAAGAGGATGAAGCCAGTAAAATTGAAGCTCTGCACAAGAGAAGAAATTTACTTGCAGCATTTTGTAAGCTAATTGTATATACTGTGGTGGAGATGAATACAGCTGCAGATATCTTCAAACAGTATATGAAGTATTATAATGACTATGGAGATATCATCAAAGAAACAATGAGTAAAACAAGGCAGATAGACAAAATTCAGTGTGCTAAGACCCTTATTCTCAGTCTGCAACAGCTTTTTAATGAAATGATACAAGAAAATGGCTATAATTTTGATAGATCATCCTCTACATTTAGTGGCATAAAAGAACTTGCTCGACGTTTTGCTTTAACTTTTGGACTTGATCAGTTGAAAACAAGAGAAGCCATTGCCATGCTACACAAAGATGGCATAGAATTTGCTTTTAAAGAGCCTAATCCGCAAGGGGAGAGCCATCCACCTTTAAATTTGGCATTTCTTGATATTCTGAGTGAATTTTCTTCTAAACTACTTCGACAAGACAAAAGAACAGTGTATGTTTACTTGGAAAAGTTCATGACCTTTCAGATGTCACTCCGAAGAGAGGATGTGTGGCTTCCACTGATGTCTTACCGAAATTCTTTGCTAGCTGGTGGTGATGATGACACCATGTCAGTCATTAGTGGAATCAGCAGCCGGGGGTCAACAGTACGGAGTAAAAAATCAAAACCATCTACAGGAAAACGGAAAGTGGTTGAGGGCATGCAGCTTTCACTCACTGAAGAAAGTAGTAGTAGTGACAGTATGTGGTTAAGCAGAGAACAAACACTGCACACCCCTGTTATGATGCAGACACCACAACTCACCTCCACTATTATGAGAGAGCCCAAAAGATTACGGCCTGAGGATAGCTTCATGAGTGTTTATCCAATGCAGACTGAACATCATCAAACACCTCTTGATTATAATCGGCGTGGCACAAGCCTAATGGAAGATGATGAAGAGCCAATTGTGGAAGATGTTATGATGTCCTCAGAAGGGAGGATTGAGGATCTTAATGAGGGAATGGATTTTGACACCATGGATATAGATTTGCCACCATCAAAGAACAGACGAGAGAGAACAGAACTGAAGCCTGATTTCTTTGATCCAGCTTCAATTATGGATGAATCAGTTCTTGGAGTGTCAATGTTTTAA'\n",
    "STAG2_coding_sequence_extra_bases = 'AATGATAGCAGCTCCAGAAATACCAACTGATTTTAATCTACTACAGGAGTCAGAAACACATTTTTCTTCTGACACAGATTTTGAAGATATCGAAGGAAAAAACCAAAAGCAAGGCAAAGGCAAAACTTGTAAAAAAGGCAAAAAGGGCCCAGCAGAAAAGGGCAAAGGTGGAAATGGAGGAGGAAAACCTCCTTCTGGTCCAAACCGAATGAATGGTCATCACCAACAGAATGGAGTGGAAAACATGATGTTGTTTGAAGTTGTTAAAATGGGCAAGAGTGCTATGCAGTCGGTGGTAGATGATTGGATAGAATCATACAAGCATGACCGAGATATAGCACTTCTTGACCTTATCAACTTTTTTATTCAGTGTTCAGGCTGTAAAGGAGTTGTCACAGCAGAAATGTTTAGACATATGCAGAACTCTGAGATAATTCGAAAAATGACTGAAGAATTCGATGAGGATAGTGGAGATTATCCACTTACCATGGCTGGTCCTCAGTGGAAGAAGTTCAAATCCAGTTTTTGTGAATTCATTGGCGTGTTAGTACGGCAATGTCAATATAGTATCATATATGATGAGTATATGATGGATACAGTCATTTCACTTCTTACAGGATTGTCTGACTCACAAGTCAGAGCATTTCGACATACAAGCACCCTGGCAGCTATGAAGTTGATGACAGCTTTGGTGAATGTGGCACTAAATCTTAGCATTAATATGGATAATACACAAAGACAATATGAAGCAGAACGGAATAAAATGATTGGAAAACGAGCCAATGAGAGGCTAGAACTCCTGCTACAAAAGCGGAAAGAGCTTCAGGAAAATCAAGATGAAATAGAAAATATGATGAATGCAATATTTAAAGGAGTGTTTGTACATAGATACCGTGATGCGATAGCTGAAATTCGAGCTATTTGCATTGAAGAGATTGGCATTTGGATGAAGATGTATAGTGATGCCTTTCTTAATGACAGTTATTTAAAATATGTTGGTTGGACTATGCATGATAAGCAAGGTGAAGTAAGACTCAAATGTCTTACTGCTCTACAAGGGCTTTATTATAACAAAGAGCTTAATTCCAAACTGGAACTTTTTACCAGTCGGTTCAAGGATAGAATTGTGTCTATGACCCTTGACAAAGAATATGATGTTGCAGTACAAGCAATAAAATTACTCACTCTTGTTTTACAGAGTAGTGAAGAAGTTCTCACTGCAGAAGATTGTGAAAATGTCTATCATCTGGTTTATTCAGCTCACCGGCCAGTAGCAGTAGCAGCTGGAGAATTTCTCTACAAAAAGCTCTTCAGTCGTAGAGATCCAGAGGAGGATGGAATGATGAAAAGAAGAGGAAGACAAGGTCCAAATGCCAACCTTGTTAAGACATTGGTTTTTTTCTTTCTAGAAAGTGAGTTACATGAGCATGCAGCATACCTTGTGGATAGCATGTGGGACTGTGCTACTGAGCTGCTGAAAGACTGGGAATGTATGAATAGCTTGTTACTGGAAGAGCCACTTAGTGGAGAGGAAGCACTAACAGATAGGCAAGAGAGTGCTCTGATTGAAATAATGCTTTGTACCATTAGACAAGCGGCTGAATGTCATCCTCCCGTGGGAAGAGGGACAGGAAAAAGGGTGCTTACAGCAAAGGAGAAGAAGACACAGTTGGATGATAGGACAAAAATCACTGAGCTTTTTGCCGTGGCCCTTCCTCAGTTATTAGCAAAATACTCTGTAGATGCAGAAAAGGTGACTAACTTGTTGCAGTTGCCTCAGTACTTTGATTTGGAAATATATACCACTGGACGATTAGAAAAGCATTTGGATGCCTTATTGCGACAGATCCGGAATATTGTAGAGAAGCACACAGATACAGATGTTTTGGAAGCATGTTCTAAAACTTACCATGCACTCTGTAATGAAGAGTTCACAATCTTCAACAGAGTAGATATTTCAAGAAGTCAACTGATAGATGAATTGGCAGATAAATTTAACCGGCTTCTTGAAGATTTTCTGCAAGAGGGTGAAGAACCTGATGAAGATGATGCATATCAGGTATTGTCAACATTGAAGAGGATCACTGCTTTTCATAATGCCCATGACCTTTCAAAGTGGGATTTATTTGCTTGTAATTACAAACTCTTGAAAACTGGAATCGAAAATGGAGACATGCCTGAGCAGATTGTTATTCACGCACTGCAGTGTACTCACTATGTAATCCTTTGGCAACTTGCTAAGATAACTGAAAGCAGCTCTACAAAGGAGGACTTGCTGCGTTTAAAGAAACAAATGAGAGTATTTTGTCAGATATGTCAACATTACCTGACCAACGTGAATACTACTGTTAAGGAACAGGCCTTCACTATTCTGTGTGATATTTTGATGATCTTCAGCCATCAGATTATGTCAGGAGGGCGTGACATGTTAGAGCCATTAGTGTATACCCCTGATTCTTCATTGCAGTCTGAGTTGCTCAGCTTTATTTTGGATCATGTCTTCATTGAACAGGATGATGATAATAATAGTGCAGATGGTCAGCAAGAGGATGAAGCCAGTAAAATTGAAGCTCTGCACAAGAGAAGAAATTTACTTGCAGCATTTTGTAAGCTAATTGTATATACTGTGGTGGAGATGAATACAGCTGCAGATATCTTCAAACAGTATATGAAGTATTATAATGACTATGGAGATATCATCAAAGAAACAATGAGTAAAACAAGGCAGATAGACAAAATTCAGTGTGCTAAGACCCTTATTCTCAGTCTGCAACAGCTTTTTAATGAAATGATACAAGAAAATGGCTATAATTTTGATAGATCATCCTCTACATTTAGTGGCATAAAAGAACTTGCTCGACGTTTTGCTTTAACTTTTGGACTTGATCAGTTGAAAACAAGAGAAGCCATTGCCATGCTACACAAAGATGGCATAGAATTTGCTTTTAAAGAGCCTAATCCGCAAGGGGAGAGCCATCCACCTTTAAATTTGGCATTTCTTGATATTCTGAGTGAATTTTCTTCTAAACTACTTCGACAAGACAAAAGAACAGTGTATGTTTACTTGGAAAAGTTCATGACCTTTCAGATGTCACTCCGAAGAGAGGATGTGTGGCTTCCACTGATGTCTTACCGAAATTCTTTGCTAGCTGGTGGTGATGATGACACCATGTCAGTCATTAGTGGAATCAGCAGCCGGGGGTCAACAGTACGGAGTAAAAAATCAAAACCATCTACAGGAAAACGGAAAGTGGTTGAGGGCATGCAGCTTTCACTCACTGAAGAAAGTAGTAGTAGTGACAGTATGTGGTTAAGCAGAGAACAAACACTGCACACCCCTGTTATGATGCAGACACCACAACTCACCTCCACTATTATGAGAGAGCCCAAAAGATTACGGCCTGAGGATAGCTTCATGAGTGTTTATCCAATGCAGACTGAACATCATCAAACACCTCTTGATTATAATCGGCGTGGCACAAGCCTAATGGAAGATGATGAAGAGCCAATTGTGGAAGATGTTATGATGTCCTCAGAAGGGAGGATTGAGGATCTTAATGAGGGAATGGATTTTGACACCATGGATATAGATTTGCCACCATCAAAGAACAGACGAGAGAGAACAGAACTGAAGCCTGATTTCTTTGATCCAGCTTCAATTATGGATGAATCAGTTCTTGGAGTGTCAATGTTTTAAT'"
   ]
  },
  {
   "cell_type": "code",
   "execution_count": 213,
   "metadata": {
    "scrolled": true
   },
   "outputs": [
    {
     "name": "stdout",
     "output_type": "stream",
     "text": [
      "Total summed synonymous mutation rate across region =  2.4152710141e-06\n"
     ]
    }
   ],
   "source": [
    "STAG2_synonymous = synonymous_mutation_rate_across_gene('STAG2', STAG2_coding_sequence, STAG2_coding_sequence_extra_bases, 0, 1231)"
   ]
  },
  {
   "cell_type": "markdown",
   "metadata": {},
   "source": [
    "#### Mutation rate for excluded synonymous STAG2 variants"
   ]
  },
  {
   "cell_type": "code",
   "execution_count": 214,
   "metadata": {
    "code_folding": [
     0
    ]
   },
   "outputs": [],
   "source": [
    "#Create a dictionary of the excluded synonymous variants in STAG2:\n",
    "import csv\n",
    "filename=\"Young_excluded_synonymous_1000_genomes.csv\"\n",
    "\n",
    "with open(filename, 'r') as csvfile:\n",
    "    read_reader = csv.reader(csvfile)  #csv.reader returns a reader object which will iterate over lines in the csvfile\n",
    "    row_count=0\n",
    "    excluded_STAG2_synonymous_variants={} #dictionary of DNMTA results (key = ID (row[13]), value = VAF (row[10]))\n",
    "\n",
    "    for row in read_reader:\n",
    "#         print(row)\n",
    "        if row_count>0:\n",
    "            gene = row[0]\n",
    "            variant = row[1]\n",
    "            AA_coordinate = row[11]\n",
    "            variant_ID = row[2]\n",
    "            if row[0]=='STAG2':\n",
    "                excluded_STAG2_synonymous_variants[variant]=(gene, AA_coordinate, variant_ID)\n",
    "\n",
    "        row_count=row_count+1"
   ]
  },
  {
   "cell_type": "code",
   "execution_count": 215,
   "metadata": {
    "scrolled": false
   },
   "outputs": [
    {
     "name": "stdout",
     "output_type": "stream",
     "text": [
      "Total summed mutation rate across excluded synonymous variants =  1.6833300000000002e-09\n"
     ]
    }
   ],
   "source": [
    "STAG2_excluded = synonymous_excluded_variants_mutation_rate('STAG2', STAG2_coding_sequence, STAG2_coding_sequence_extra_bases, \\\n",
    "                                                           excluded_STAG2_synonymous_variants)"
   ]
  },
  {
   "cell_type": "markdown",
   "metadata": {},
   "source": [
    "#### Total synonymous mutation rate for STAG2"
   ]
  },
  {
   "cell_type": "code",
   "execution_count": 216,
   "metadata": {
    "code_folding": [
     0
    ],
    "scrolled": true
   },
   "outputs": [
    {
     "name": "stdout",
     "output_type": "stream",
     "text": [
      "Synonymous mutation rate across STAG2 =  2.4135876841e-06\n"
     ]
    }
   ],
   "source": [
    "#Subtract the mutation rate of the excluded variants from the total mutation rate for STAG2 synonymous variants across the panel\n",
    "STAG2 = STAG2_synonymous - STAG2_excluded\n",
    "print(\"Synonymous mutation rate across STAG2 = \", STAG2)"
   ]
  },
  {
   "cell_type": "markdown",
   "metadata": {},
   "source": [
    "## TET2"
   ]
  },
  {
   "cell_type": "markdown",
   "metadata": {},
   "source": [
    "- ENST00000380013.4 transcript."
   ]
  },
  {
   "cell_type": "markdown",
   "metadata": {},
   "source": [
    "#### Mutation rate for synonymous variants across TET2 regions included in panel"
   ]
  },
  {
   "cell_type": "code",
   "execution_count": 217,
   "metadata": {},
   "outputs": [],
   "source": [
    "TET2_coding_sequence = 'ATGGAACAGGATAGAACCAACCATGTTGAGGGCAACAGACTAAGTCCATTCCTGATACCATCACCTCCCATTTGCCAGACAGAACCTCTGGCTACAAAGCTCCAGAATGGAAGCCCACTGCCTGAGAGAGCTCATCCAGAAGTAAATGGAGACACCAAGTGGCACTCTTTCAAAAGTTATTATGGAATACCCTGTATGAAGGGAAGCCAGAATAGTCGTGTGAGTCCTGACTTTACACAAGAAAGTAGAGGGTATTCCAAGTGTTTGCAAAATGGAGGAATAAAACGCACAGTTAGTGAACCTTCTCTCTCTGGGCTCCTTCAGATCAAGAAATTGAAACAAGACCAAAAGGCTAATGGAGAAAGACGTAACTTCGGGGTAAGCCAAGAAAGAAATCCAGGTGAAAGCAGTCAACCAAATGTCTCCGATTTGAGTGATAAGAAAGAATCTGTGAGTTCTGTAGCCCAAGAAAATGCAGTTAAAGATTTCACCAGTTTTTCAACACATAACTGCAGTGGGCCTGAAAATCCAGAGCTTCAGATTCTGAATGAGCAGGAGGGGAAAAGTGCTAATTACCATGACAAGAACATTGTATTACTTAAAAACAAGGCAGTGCTAATGCCTAATGGTGCTACAGTTTCTGCCTCTTCCGTGGAACACACACATGGTGAACTCCTGGAAAAAACACTGTCTCAATATTATCCAGATTGTGTTTCCATTGCGGTGCAGAAAACCACATCTCACATAAATGCCATTAACAGTCAGGCTACTAATGAGTTGTCCTGTGAGATCACTCACCCATCGCATACCTCAGGGCAGATCAATTCCGCACAGACCTCTAACTCTGAGCTGCCTCCAAAGCCAGCTGCAGTGGTGAGTGAGGCCTGTGATGCTGATGATGCTGATAATGCCAGTAAACTAGCTGCAATGCTAAATACCTGTTCCTTTCAGAAACCAGAACAACTACAACAACAAAAATCAGTTTTTGAGATATGCCCATCTCCTGCAGAAAATAACATCCAGGGAACCACAAAGCTAGCGTCTGGTGAAGAATTCTGTTCAGGTTCCAGCAGCAATTTGCAAGCTCCTGGTGGCAGCTCTGAACGGTATTTAAAACAAAATGAAATGAATGGTGCTTACTTCAAGCAAAGCTCAGTGTTCACTAAGGATTCCTTTTCTGCCACTACCACACCACCACCACCATCACAATTGCTTCTTTCTCCCCCTCCTCCTCTTCCACAGGTTCCTCAGCTTCCTTCAGAAGGAAAAAGCACTCTGAATGGTGGAGTTTTAGAAGAACACCACCACTACCCCAACCAAAGTAACACAACACTTTTAAGGGAAGTGAAAATAGAGGGTAAACCTGAGGCACCACCTTCCCAGAGTCCTAATCCATCTACACATGTATGCAGCCCTTCTCCGATGCTTTCTGAAAGGCCTCAGAATAATTGTGTGAACAGGAATGACATACAGACTGCAGGGACAATGACTGTTCCATTGTGTTCTGAGAAAACAAGACCAATGTCAGAACACCTCAAGCATAACCCACCAATTTTTGGTAGCAGTGGAGAGCTACAGGACAACTGCCAGCAGTTGATGAGAAACAAAGAGCAAGAGATTCTGAAGGGTCGAGACAAGGAGCAAACACGAGATCTTGTGCCCCCAACACAGCACTATCTGAAACCAGGATGGATTGAATTGAAGGCCCCTCGTTTTCACCAAGCGGAATCCCATCTAAAACGTAATGAGGCATCACTGCCATCAATTCTTCAGTATCAACCCAATCTCTCCAATCAAATGACCTCCAAACAATACACTGGAAATTCCAACATGCCTGGGGGGCTCCCAAGGCAAGCTTACACCCAGAAAACAACACAGCTGGAGCACAAGTCACAAATGTACCAAGTTGAAATGAATCAAGGGCAGTCCCAAGGTACAGTGGACCAACATCTCCAGTTCCAAAAACCCTCACACCAGGTGCACTTCTCCAAAACAGACCATTTACCAAAAGCTCATGTGCAGTCACTGTGTGGCACTAGATTTCATTTTCAACAAAGAGCAGATTCCCAAACTGAAAAACTTATGTCCCCAGTGTTGAAACAGCACTTGAATCAACAGGCTTCAGAGACTGAGCCATTTTCAAACTCACACCTTTTGCAACATAAGCCTCATAAACAGGCAGCACAAACACAACCATCCCAGAGTTCACATCTCCCTCAAAACCAGCAACAGCAGCAAAAATTACAAATAAAGAATAAAGAGGAAATACTCCAGACTTTTCCTCACCCCCAAAGCAACAATGATCAGCAAAGAGAAGGATCATTCTTTGGCCAGACTAAAGTGGAAGAATGTTTTCATGGTGAAAATCAGTATTCAAAATCAAGCGAGTTCGAGACTCATAATGTCCAAATGGGACTGGAGGAAGTACAGAATATAAATCGTAGAAATTCCCCTTATAGTCAGACCATGAAATCAAGTGCATGCAAAATACAGGTTTCTTGTTCAAACAATACACACCTAGTTTCAGAGAATAAAGAACAGACTACACATCCTGAACTTTTTGCAGGAAACAAGACCCAAAACTTGCATCACATGCAATATTTTCCAAATAATGTGATCCCAAAGCAAGATCTTCTTCACAGGTGCTTTCAAGAACAGGAGCAGAAGTCACAACAAGCTTCAGTTCTACAGGGATATAAAAATAGAAACCAAGATATGTCTGGTCAACAAGCTGCGCAACTTGCTCAGCAAAGGTACTTGATACATAACCATGCAAATGTTTTTCCTGTGCCTGACCAGGGAGGAAGTCACACTCAGACCCCTCCCCAGAAGGACACTCAAAAGCATGCTGCTCTAAGGTGGCATCTCTTACAGAAGCAAGAACAGCAGCAAACACAGCAACCCCAAACTGAGTCTTGCCATAGTCAGATGCACAGGCCAATTAAGGTGGAACCTGGATGCAAGCCACATGCCTGTATGCACACAGCACCACCAGAAAACAAAACATGGAAAAAGGTAACTAAGCAAGAGAATCCACCTGCAAGCTGTGATAATGTGCAGCAAAAGAGCATCATTGAGACCATGGAGCAGCATCTGAAGCAGTTTCACGCCAAGTCGTTATTTGACCATAAGGCTCTTACTCTCAAATCACAGAAGCAAGTAAAAGTTGAAATGTCAGGGCCAGTCACAGTTTTGACTAGACAAACCACTGCTGCAGAACTTGATAGCCACACCCCAGCTTTAGAGCAGCAAACAACTTCTTCAGAAAAGACACCAACCAAAAGAACAGCTGCTTCTGTTCTCAATAATTTTATAGAGTCACCTTCCAAATTACTAGATACTCCTATAAAAAATTTATTGGATACACCTGTCAAGACTCAATATGATTTCCCATCTTGCAGATGTGTAGAGCAAATTATTGAAAAAGATGAAGGTCCTTTTTATACCCATCTAGGAGCAGGTCCTAATGTGGCAGCTATTAGAGAAATCATGGAAGAAAGGTTTGGACAGAAGGGTAAAGCTATTAGGATTGAAAGAGTCATCTATACTGGTAAAGAAGGCAAAAGTTCTCAGGGATGTCCTATTGCTAAGTGGGTGGTTCGCAGAAGCAGCAGTGAAGAGAAGCTACTGTGTTTGGTGCGGGAGCGAGCTGGCCACACCTGTGAGGCTGCAGTGATTGTGATTCTCATCCTGGTGTGGGAAGGAATCCCGCTGTCTCTGGCTGACAAACTCTACTCGGAGCTTACCGAGACGCTGAGGAAATACGGCACGCTCACCAATCGCCGGTGTGCCTTGAATGAAGAGAGAACTTGCGCCTGTCAGGGGCTGGATCCAGAAACCTGTGGTGCCTCCTTCTCTTTTGGTTGTTCATGGAGCATGTACTACAATGGATGTAAGTTTGCCAGAAGCAAGATCCCAAGGAAGTTTAAGCTGCTTGGGGATGACCCAAAAGAGGAAGAGAAACTGGAGTCTCATTTGCAAAACCTGTCCACTCTTATGGCACCAACATATAAGAAACTTGCACCTGATGCATATAATAATCAGATTGAATATGAACACAGAGCACCAGAGTGCCGTCTGGGTCTGAAGGAAGGCCGTCCATTCTCAGGGGTCACTGCATGTTTGGACTTCTGTGCTCATGCCCACAGAGACTTGCACAACATGCAGAATGGCAGCACATTGGTATGCACTCTCACTAGAGAAGACAATCGAGAATTTGGAGGAAAACCTGAGGATGAGCAGCTTCACGTTCTGCCTTTATACAAAGTCTCTGACGTGGATGAGTTTGGGAGTGTGGAAGCTCAGGAGGAGAAAAAACGGAGTGGTGCCATTCAGGTACTGAGTTCTTTTCGGCGAAAAGTCAGGATGTTAGCAGAGCCAGTCAAGACTTGCCGACAAAGGAAACTAGAAGCCAAGAAAGCTGCAGCTGAAAAGCTTTCCTCCCTGGAGAACAGCTCAAATAAAAATGAAAAGGAAAAGTCAGCCCCATCACGTACAAAACAAACTGAAAACGCAAGCCAGGCTAAACAGTTGGCAGAACTTTTGCGACTTTCAGGACCAGTCATGCAGCAGTCCCAGCAGCCCCAGCCTCTACAGAAGCAGCCACCACAGCCCCAGCAGCAGCAGAGACCCCAGCAGCAGCAGCCACATCACCCTCAGACAGAGTCTGTCAACTCTTATTCTGCTTCTGGATCCACCAATCCATACATGAGACGGCCCAATCCAGTTAGTCCTTATCCAAACTCTTCACACACTTCAGATATCTATGGAAGCACCAGCCCTATGAACTTCTATTCCACCTCATCTCAAGCTGCAGGTTCATATTTGAATTCTTCTAATCCCATGAACCCTTACCCTGGGCTTTTGAATCAGAATACCCAATATCCATCATATCAATGCAATGGAAACCTATCAGTGGACAACTGCTCCCCATATCTGGGTTCCTATTCTCCCCAGTCTCAGCCGATGGATCTGTATAGGTATCCAAGCCAAGACCCTCTGTCTAAGCTCAGTCTACCACCCATCCATACACTTTACCAGCCAAGGTTTGGAAATAGCCAGAGTTTTACATCTAAATACTTAGGTTATGGAAACCAAAATATGCAGGGAGATGGTTTCAGCAGTTGTACCATTAGACCAAATGTACATCATGTAGGGAAATTGCCTCCTTATCCCACTCATGAGATGGATGGCCACTTCATGGGAGCCACCTCTAGATTACCACCCAATCTGAGCAATCCAAACATGGACTATAAAAATGGTGAACATCATTCACCTTCTCACATAATCCATAACTACAGTGCAGCTCCGGGCATGTTCAACAGCTCTCTTCATGCCCTGCATCTCCAAAACAAGGAGAATGACATGCTTTCCCACACAGCTAATGGGTTATCAAAGATGCTTCCAGCTCTTAACCATGATAGAACTGCTTGTGTCCAAGGAGGCTTACACAAATTAAGTGATGCTAATGGTCAGGAAAAGCAGCCATTGGCACTAGTCCAGGGTGTGGCTTCTGGTGCAGAGGACAACGATGAGGTCTGGTCAGACAGCGAGCAGAGCTTTCTGGATCCTGACATTGGGGGAGTGGCCGTGGCTCCAACTCATGGGTCAATTCTCATTGAGTGTGCAAAGCGTGAGCTGCATGCCACAACCCCTTTAAAGAATCCCAATAGGAATCACCCCACCAGGATCTCCCTCGTCTTTTACCAGCATAAGAGCATGAATGAGCCAAAACATGGCTTGGCTCTTTGGGAAGCCAAAATGGCTGAAAAAGCCCGTGAGAAAGAGGAAGAGTGTGAAAAGTATGGCCCAGACTATGTGCCTCAGAAATCCCATGGCAAAAAAGTGAAACGGGAGCCTGCTGAGCCACATGAAACTTCAGAGCCCACTTACCTGCGTTTCATCAAGTCTCTTGCCGAAAGGACCATGTCCGTGACCACAGACTCCACAGTAACTACATCTCCATATGCCTTCACTCGGGTCACAGGGCCTTACAACAGATATATATGA'\n",
    "TET2_coding_sequence_extra_bases = 'GATGGAACAGGATAGAACCAACCATGTTGAGGGCAACAGACTAAGTCCATTCCTGATACCATCACCTCCCATTTGCCAGACAGAACCTCTGGCTACAAAGCTCCAGAATGGAAGCCCACTGCCTGAGAGAGCTCATCCAGAAGTAAATGGAGACACCAAGTGGCACTCTTTCAAAAGTTATTATGGAATACCCTGTATGAAGGGAAGCCAGAATAGTCGTGTGAGTCCTGACTTTACACAAGAAAGTAGAGGGTATTCCAAGTGTTTGCAAAATGGAGGAATAAAACGCACAGTTAGTGAACCTTCTCTCTCTGGGCTCCTTCAGATCAAGAAATTGAAACAAGACCAAAAGGCTAATGGAGAAAGACGTAACTTCGGGGTAAGCCAAGAAAGAAATCCAGGTGAAAGCAGTCAACCAAATGTCTCCGATTTGAGTGATAAGAAAGAATCTGTGAGTTCTGTAGCCCAAGAAAATGCAGTTAAAGATTTCACCAGTTTTTCAACACATAACTGCAGTGGGCCTGAAAATCCAGAGCTTCAGATTCTGAATGAGCAGGAGGGGAAAAGTGCTAATTACCATGACAAGAACATTGTATTACTTAAAAACAAGGCAGTGCTAATGCCTAATGGTGCTACAGTTTCTGCCTCTTCCGTGGAACACACACATGGTGAACTCCTGGAAAAAACACTGTCTCAATATTATCCAGATTGTGTTTCCATTGCGGTGCAGAAAACCACATCTCACATAAATGCCATTAACAGTCAGGCTACTAATGAGTTGTCCTGTGAGATCACTCACCCATCGCATACCTCAGGGCAGATCAATTCCGCACAGACCTCTAACTCTGAGCTGCCTCCAAAGCCAGCTGCAGTGGTGAGTGAGGCCTGTGATGCTGATGATGCTGATAATGCCAGTAAACTAGCTGCAATGCTAAATACCTGTTCCTTTCAGAAACCAGAACAACTACAACAACAAAAATCAGTTTTTGAGATATGCCCATCTCCTGCAGAAAATAACATCCAGGGAACCACAAAGCTAGCGTCTGGTGAAGAATTCTGTTCAGGTTCCAGCAGCAATTTGCAAGCTCCTGGTGGCAGCTCTGAACGGTATTTAAAACAAAATGAAATGAATGGTGCTTACTTCAAGCAAAGCTCAGTGTTCACTAAGGATTCCTTTTCTGCCACTACCACACCACCACCACCATCACAATTGCTTCTTTCTCCCCCTCCTCCTCTTCCACAGGTTCCTCAGCTTCCTTCAGAAGGAAAAAGCACTCTGAATGGTGGAGTTTTAGAAGAACACCACCACTACCCCAACCAAAGTAACACAACACTTTTAAGGGAAGTGAAAATAGAGGGTAAACCTGAGGCACCACCTTCCCAGAGTCCTAATCCATCTACACATGTATGCAGCCCTTCTCCGATGCTTTCTGAAAGGCCTCAGAATAATTGTGTGAACAGGAATGACATACAGACTGCAGGGACAATGACTGTTCCATTGTGTTCTGAGAAAACAAGACCAATGTCAGAACACCTCAAGCATAACCCACCAATTTTTGGTAGCAGTGGAGAGCTACAGGACAACTGCCAGCAGTTGATGAGAAACAAAGAGCAAGAGATTCTGAAGGGTCGAGACAAGGAGCAAACACGAGATCTTGTGCCCCCAACACAGCACTATCTGAAACCAGGATGGATTGAATTGAAGGCCCCTCGTTTTCACCAAGCGGAATCCCATCTAAAACGTAATGAGGCATCACTGCCATCAATTCTTCAGTATCAACCCAATCTCTCCAATCAAATGACCTCCAAACAATACACTGGAAATTCCAACATGCCTGGGGGGCTCCCAAGGCAAGCTTACACCCAGAAAACAACACAGCTGGAGCACAAGTCACAAATGTACCAAGTTGAAATGAATCAAGGGCAGTCCCAAGGTACAGTGGACCAACATCTCCAGTTCCAAAAACCCTCACACCAGGTGCACTTCTCCAAAACAGACCATTTACCAAAAGCTCATGTGCAGTCACTGTGTGGCACTAGATTTCATTTTCAACAAAGAGCAGATTCCCAAACTGAAAAACTTATGTCCCCAGTGTTGAAACAGCACTTGAATCAACAGGCTTCAGAGACTGAGCCATTTTCAAACTCACACCTTTTGCAACATAAGCCTCATAAACAGGCAGCACAAACACAACCATCCCAGAGTTCACATCTCCCTCAAAACCAGCAACAGCAGCAAAAATTACAAATAAAGAATAAAGAGGAAATACTCCAGACTTTTCCTCACCCCCAAAGCAACAATGATCAGCAAAGAGAAGGATCATTCTTTGGCCAGACTAAAGTGGAAGAATGTTTTCATGGTGAAAATCAGTATTCAAAATCAAGCGAGTTCGAGACTCATAATGTCCAAATGGGACTGGAGGAAGTACAGAATATAAATCGTAGAAATTCCCCTTATAGTCAGACCATGAAATCAAGTGCATGCAAAATACAGGTTTCTTGTTCAAACAATACACACCTAGTTTCAGAGAATAAAGAACAGACTACACATCCTGAACTTTTTGCAGGAAACAAGACCCAAAACTTGCATCACATGCAATATTTTCCAAATAATGTGATCCCAAAGCAAGATCTTCTTCACAGGTGCTTTCAAGAACAGGAGCAGAAGTCACAACAAGCTTCAGTTCTACAGGGATATAAAAATAGAAACCAAGATATGTCTGGTCAACAAGCTGCGCAACTTGCTCAGCAAAGGTACTTGATACATAACCATGCAAATGTTTTTCCTGTGCCTGACCAGGGAGGAAGTCACACTCAGACCCCTCCCCAGAAGGACACTCAAAAGCATGCTGCTCTAAGGTGGCATCTCTTACAGAAGCAAGAACAGCAGCAAACACAGCAACCCCAAACTGAGTCTTGCCATAGTCAGATGCACAGGCCAATTAAGGTGGAACCTGGATGCAAGCCACATGCCTGTATGCACACAGCACCACCAGAAAACAAAACATGGAAAAAGGTAACTAAGCAAGAGAATCCACCTGCAAGCTGTGATAATGTGCAGCAAAAGAGCATCATTGAGACCATGGAGCAGCATCTGAAGCAGTTTCACGCCAAGTCGTTATTTGACCATAAGGCTCTTACTCTCAAATCACAGAAGCAAGTAAAAGTTGAAATGTCAGGGCCAGTCACAGTTTTGACTAGACAAACCACTGCTGCAGAACTTGATAGCCACACCCCAGCTTTAGAGCAGCAAACAACTTCTTCAGAAAAGACACCAACCAAAAGAACAGCTGCTTCTGTTCTCAATAATTTTATAGAGTCACCTTCCAAATTACTAGATACTCCTATAAAAAATTTATTGGATACACCTGTCAAGACTCAATATGATTTCCCATCTTGCAGATGTGTAGAGCAAATTATTGAAAAAGATGAAGGTCCTTTTTATACCCATCTAGGAGCAGGTCCTAATGTGGCAGCTATTAGAGAAATCATGGAAGAAAGGTTTGGACAGAAGGGTAAAGCTATTAGGATTGAAAGAGTCATCTATACTGGTAAAGAAGGCAAAAGTTCTCAGGGATGTCCTATTGCTAAGTGGGTGGTTCGCAGAAGCAGCAGTGAAGAGAAGCTACTGTGTTTGGTGCGGGAGCGAGCTGGCCACACCTGTGAGGCTGCAGTGATTGTGATTCTCATCCTGGTGTGGGAAGGAATCCCGCTGTCTCTGGCTGACAAACTCTACTCGGAGCTTACCGAGACGCTGAGGAAATACGGCACGCTCACCAATCGCCGGTGTGCCTTGAATGAAGAGAGAACTTGCGCCTGTCAGGGGCTGGATCCAGAAACCTGTGGTGCCTCCTTCTCTTTTGGTTGTTCATGGAGCATGTACTACAATGGATGTAAGTTTGCCAGAAGCAAGATCCCAAGGAAGTTTAAGCTGCTTGGGGATGACCCAAAAGAGGAAGAGAAACTGGAGTCTCATTTGCAAAACCTGTCCACTCTTATGGCACCAACATATAAGAAACTTGCACCTGATGCATATAATAATCAGATTGAATATGAACACAGAGCACCAGAGTGCCGTCTGGGTCTGAAGGAAGGCCGTCCATTCTCAGGGGTCACTGCATGTTTGGACTTCTGTGCTCATGCCCACAGAGACTTGCACAACATGCAGAATGGCAGCACATTGGTATGCACTCTCACTAGAGAAGACAATCGAGAATTTGGAGGAAAACCTGAGGATGAGCAGCTTCACGTTCTGCCTTTATACAAAGTCTCTGACGTGGATGAGTTTGGGAGTGTGGAAGCTCAGGAGGAGAAAAAACGGAGTGGTGCCATTCAGGTACTGAGTTCTTTTCGGCGAAAAGTCAGGATGTTAGCAGAGCCAGTCAAGACTTGCCGACAAAGGAAACTAGAAGCCAAGAAAGCTGCAGCTGAAAAGCTTTCCTCCCTGGAGAACAGCTCAAATAAAAATGAAAAGGAAAAGTCAGCCCCATCACGTACAAAACAAACTGAAAACGCAAGCCAGGCTAAACAGTTGGCAGAACTTTTGCGACTTTCAGGACCAGTCATGCAGCAGTCCCAGCAGCCCCAGCCTCTACAGAAGCAGCCACCACAGCCCCAGCAGCAGCAGAGACCCCAGCAGCAGCAGCCACATCACCCTCAGACAGAGTCTGTCAACTCTTATTCTGCTTCTGGATCCACCAATCCATACATGAGACGGCCCAATCCAGTTAGTCCTTATCCAAACTCTTCACACACTTCAGATATCTATGGAAGCACCAGCCCTATGAACTTCTATTCCACCTCATCTCAAGCTGCAGGTTCATATTTGAATTCTTCTAATCCCATGAACCCTTACCCTGGGCTTTTGAATCAGAATACCCAATATCCATCATATCAATGCAATGGAAACCTATCAGTGGACAACTGCTCCCCATATCTGGGTTCCTATTCTCCCCAGTCTCAGCCGATGGATCTGTATAGGTATCCAAGCCAAGACCCTCTGTCTAAGCTCAGTCTACCACCCATCCATACACTTTACCAGCCAAGGTTTGGAAATAGCCAGAGTTTTACATCTAAATACTTAGGTTATGGAAACCAAAATATGCAGGGAGATGGTTTCAGCAGTTGTACCATTAGACCAAATGTACATCATGTAGGGAAATTGCCTCCTTATCCCACTCATGAGATGGATGGCCACTTCATGGGAGCCACCTCTAGATTACCACCCAATCTGAGCAATCCAAACATGGACTATAAAAATGGTGAACATCATTCACCTTCTCACATAATCCATAACTACAGTGCAGCTCCGGGCATGTTCAACAGCTCTCTTCATGCCCTGCATCTCCAAAACAAGGAGAATGACATGCTTTCCCACACAGCTAATGGGTTATCAAAGATGCTTCCAGCTCTTAACCATGATAGAACTGCTTGTGTCCAAGGAGGCTTACACAAATTAAGTGATGCTAATGGTCAGGAAAAGCAGCCATTGGCACTAGTCCAGGGTGTGGCTTCTGGTGCAGAGGACAACGATGAGGTCTGGTCAGACAGCGAGCAGAGCTTTCTGGATCCTGACATTGGGGGAGTGGCCGTGGCTCCAACTCATGGGTCAATTCTCATTGAGTGTGCAAAGCGTGAGCTGCATGCCACAACCCCTTTAAAGAATCCCAATAGGAATCACCCCACCAGGATCTCCCTCGTCTTTTACCAGCATAAGAGCATGAATGAGCCAAAACATGGCTTGGCTCTTTGGGAAGCCAAAATGGCTGAAAAAGCCCGTGAGAAAGAGGAAGAGTGTGAAAAGTATGGCCCAGACTATGTGCCTCAGAAATCCCATGGCAAAAAAGTGAAACGGGAGCCTGCTGAGCCACATGAAACTTCAGAGCCCACTTACCTGCGTTTCATCAAGTCTCTTGCCGAAAGGACCATGTCCGTGACCACAGACTCCACAGTAACTACATCTCCATATGCCTTCACTCGGGTCACAGGGCCTTACAACAGATATATATGAT'"
   ]
  },
  {
   "cell_type": "code",
   "execution_count": 218,
   "metadata": {
    "scrolled": false
   },
   "outputs": [
    {
     "name": "stdout",
     "output_type": "stream",
     "text": [
      "Total summed synonymous mutation rate across region =  4.5414363327e-06\n"
     ]
    }
   ],
   "source": [
    "TET2_synonymous = synonymous_mutation_rate_across_gene('TET2', TET2_coding_sequence, TET2_coding_sequence_extra_bases, 0, 2003)"
   ]
  },
  {
   "cell_type": "markdown",
   "metadata": {},
   "source": [
    "#### Mutation rate for excluded synonymous TET2 variants"
   ]
  },
  {
   "cell_type": "code",
   "execution_count": 219,
   "metadata": {
    "code_folding": [
     0
    ]
   },
   "outputs": [],
   "source": [
    "#Create a dictionary of the excluded synonymous variants in TET2:\n",
    "import csv\n",
    "filename=\"Young_excluded_synonymous_1000_genomes.csv\"\n",
    "\n",
    "with open(filename, 'r') as csvfile:\n",
    "    read_reader = csv.reader(csvfile)  #csv.reader returns a reader object which will iterate over lines in the csvfile\n",
    "    row_count=0\n",
    "    excluded_TET2_synonymous_variants={} #dictionary of DNMTA results (key = ID (row[13]), value = VAF (row[10]))\n",
    "\n",
    "    for row in read_reader:\n",
    "#         print(row)\n",
    "        if row_count>0:\n",
    "            gene = row[0]\n",
    "            variant = row[1]\n",
    "            AA_coordinate = row[11]\n",
    "            variant_ID = row[2]\n",
    "            if row[0]=='TET2':\n",
    "                excluded_TET2_synonymous_variants[variant]=(gene, AA_coordinate, variant_ID)\n",
    "\n",
    "        row_count=row_count+1"
   ]
  },
  {
   "cell_type": "code",
   "execution_count": 220,
   "metadata": {
    "scrolled": false
   },
   "outputs": [
    {
     "name": "stdout",
     "output_type": "stream",
     "text": [
      "Total summed mutation rate across excluded synonymous variants =  1.5184689e-08\n"
     ]
    }
   ],
   "source": [
    "TET2_excluded = synonymous_excluded_variants_mutation_rate('TET2', TET2_coding_sequence, TET2_coding_sequence_extra_bases, \\\n",
    "                                                           excluded_TET2_synonymous_variants)"
   ]
  },
  {
   "cell_type": "markdown",
   "metadata": {},
   "source": [
    "#### Total synonymous mutation rate for TET2"
   ]
  },
  {
   "cell_type": "code",
   "execution_count": 221,
   "metadata": {
    "code_folding": [
     0
    ],
    "scrolled": true
   },
   "outputs": [
    {
     "name": "stdout",
     "output_type": "stream",
     "text": [
      "Synonymous mutation rate across TET2 =  4.5262516437e-06\n"
     ]
    }
   ],
   "source": [
    "#Subtract the mutation rate of the excluded variants from the total mutation rate for TET2 synonymous variants across the panel\n",
    "TET2 = TET2_synonymous - TET2_excluded\n",
    "print(\"Synonymous mutation rate across TET2 = \", TET2)"
   ]
  },
  {
   "cell_type": "markdown",
   "metadata": {},
   "source": [
    "## TP53"
   ]
  },
  {
   "cell_type": "markdown",
   "metadata": {},
   "source": [
    "- ENST00000269305.4 transcript.\n",
    "- No excluded variants in these regions."
   ]
  },
  {
   "cell_type": "markdown",
   "metadata": {},
   "source": [
    "#### Mutation rate for synonymous variants across TP53 regions included in panel"
   ]
  },
  {
   "cell_type": "code",
   "execution_count": 222,
   "metadata": {},
   "outputs": [],
   "source": [
    "TP53_coding_sequence = 'ATGGAGGAGCCGCAGTCAGATCCTAGCGTCGAGCCCCCTCTGAGTCAGGAAACATTTTCAGACCTATGGAAACTACTTCCTGAAAACAACGTTCTGTCCCCCTTGCCGTCCCAAGCAATGGATGATTTGATGCTGTCCCCGGACGATATTGAACAATGGTTCACTGAAGACCCAGGTCCAGATGAAGCTCCCAGAATGCCAGAGGCTGCTCCCCCCGTGGCCCCTGCACCAGCAGCTCCTACACCGGCGGCCCCTGCACCAGCCCCCTCCTGGCCCCTGTCATCTTCTGTCCCTTCCCAGAAAACCTACCAGGGCAGCTACGGTTTCCGTCTGGGCTTCTTGCATTCTGGGACAGCCAAGTCTGTGACTTGCACGTACTCCCCTGCCCTCAACAAGATGTTTTGCCAACTGGCCAAGACCTGCCCTGTGCAGCTGTGGGTTGATTCCACACCCCCGCCCGGCACCCGCGTCCGCGCCATGGCCATCTACAAGCAGTCACAGCACATGACGGAGGTTGTGAGGCGCTGCCCCCACCATGAGCGCTGCTCAGATAGCGATGGTCTGGCCCCTCCTCAGCATCTTATCCGAGTGGAAGGAAATTTGCGTGTGGAGTATTTGGATGACAGAAACACTTTTCGACATAGTGTGGTGGTGCCCTATGAGCCGCCTGAGGTTGGCTCTGACTGTACCACCATCCACTACAACTACATGTGTAACAGTTCCTGCATGGGCGGCATGAACCGGAGGCCCATCCTCACCATCATCACACTGGAAGACTCCAGTGGTAATCTACTGGGACGGAACAGCTTTGAGGTGCGTGTTTGTGCCTGTCCTGGGAGAGACCGGCGCACAGAGGAAGAGAATCTCCGCAAGAAAGGGGAGCCTCACCACGAGCTGCCCCCAGGGAGCACTAAGCGAGCACTGCCCAACAACACCAGCTCCTCTCCCCAGCCAAAGAAGAAACCACTGGATGGAGAATATTTCACCCTTCAGATCCGTGGGCGTGAGCGCTTCGAGATGTTCCGAGAGCTGAATGAGGCCTTGGAACTCAAGGATGCCCAGGCTGGGAAGGAGCCAGGGGGGAGCAGGGCTCACTCCAGCCACCTGAAGTCCAAAAAGGGTCAGTCTACCTCCCGCCATAAAAAACTCATGTTCAAGACAGAAGGGCCTGACTCAGACTGA'\n",
    "TP53_coding_sequence_extra_bases = 'CATGGAGGAGCCGCAGTCAGATCCTAGCGTCGAGCCCCCTCTGAGTCAGGAAACATTTTCAGACCTATGGAAACTACTTCCTGAAAACAACGTTCTGTCCCCCTTGCCGTCCCAAGCAATGGATGATTTGATGCTGTCCCCGGACGATATTGAACAATGGTTCACTGAAGACCCAGGTCCAGATGAAGCTCCCAGAATGCCAGAGGCTGCTCCCCCCGTGGCCCCTGCACCAGCAGCTCCTACACCGGCGGCCCCTGCACCAGCCCCCTCCTGGCCCCTGTCATCTTCTGTCCCTTCCCAGAAAACCTACCAGGGCAGCTACGGTTTCCGTCTGGGCTTCTTGCATTCTGGGACAGCCAAGTCTGTGACTTGCACGTACTCCCCTGCCCTCAACAAGATGTTTTGCCAACTGGCCAAGACCTGCCCTGTGCAGCTGTGGGTTGATTCCACACCCCCGCCCGGCACCCGCGTCCGCGCCATGGCCATCTACAAGCAGTCACAGCACATGACGGAGGTTGTGAGGCGCTGCCCCCACCATGAGCGCTGCTCAGATAGCGATGGTCTGGCCCCTCCTCAGCATCTTATCCGAGTGGAAGGAAATTTGCGTGTGGAGTATTTGGATGACAGAAACACTTTTCGACATAGTGTGGTGGTGCCCTATGAGCCGCCTGAGGTTGGCTCTGACTGTACCACCATCCACTACAACTACATGTGTAACAGTTCCTGCATGGGCGGCATGAACCGGAGGCCCATCCTCACCATCATCACACTGGAAGACTCCAGTGGTAATCTACTGGGACGGAACAGCTTTGAGGTGCGTGTTTGTGCCTGTCCTGGGAGAGACCGGCGCACAGAGGAAGAGAATCTCCGCAAGAAAGGGGAGCCTCACCACGAGCTGCCCCCAGGGAGCACTAAGCGAGCACTGCCCAACAACACCAGCTCCTCTCCCCAGCCAAAGAAGAAACCACTGGATGGAGAATATTTCACCCTTCAGATCCGTGGGCGTGAGCGCTTCGAGATGTTCCGAGAGCTGAATGAGGCCTTGGAACTCAAGGATGCCCAGGCTGGGAAGGAGCCAGGGGGGAGCAGGGCTCACTCCAGCCACCTGAAGTCCAAAAAGGGTCAGTCTACCTCCCGCCATAAAAAACTCATGTTCAAGACAGAAGGGCCTGACTCAGACTGAC'"
   ]
  },
  {
   "cell_type": "code",
   "execution_count": 223,
   "metadata": {
    "scrolled": false
   },
   "outputs": [
    {
     "name": "stdout",
     "output_type": "stream",
     "text": [
      "Total summed synonymous mutation rate across region =  1.3512264712e-06\n"
     ]
    }
   ],
   "source": [
    "TP53 = synonymous_mutation_rate_across_gene('TP53', TP53_coding_sequence, TP53_coding_sequence_extra_bases, 0, 394)"
   ]
  },
  {
   "cell_type": "markdown",
   "metadata": {},
   "source": [
    "## U2AF1 (exons 2 and 6)"
   ]
  },
  {
   "cell_type": "markdown",
   "metadata": {},
   "source": [
    "- ENST00000291552.4 transcript."
   ]
  },
  {
   "cell_type": "markdown",
   "metadata": {},
   "source": [
    "#### Mutation rate for synonymous variants across U2AF1 regions included in panel"
   ]
  },
  {
   "cell_type": "code",
   "execution_count": 224,
   "metadata": {},
   "outputs": [],
   "source": [
    "U2AF1_coding_sequence = 'ATGGCGGAGTATCTGGCCTCCATCTTCGGCACCGAGAAAGACAAAGTCAACTGTTCATTTTATTTCAAAATTGGAGCATGTCGTCATGGAGACAGGTGCTCTCGGTTGCACAATAAACCGACGTTTAGCCAGACCATTGCCCTCTTGAACATTTACCGTAACCCTCAAAACTCTTCCCAGTCTGCTGACGGTTTGCGCTGTGCCGTGAGCGATGTGGAGATGCAGGAACACTATGATGAGTTTTTTGAGGAGGTTTTTACAGAAATGGAGGAGAAGTATGGGGAAGTAGAGGAGATGAACGTCTGTGACAACCTGGGAGACCACCTGGTGGGGAACGTGTACGTCAAGTTTCGCCGTGAGGAAGATGCGGAAAAGGCTGTGATTGACTTGAATAACCGTTGGTTTAATGGACAGCCGATCCACGCCGAGCTGTCACCCGTGACGGACTTCAGAGAAGCCTGCTGCCGTCAGTATGAGATGGGAGAATGCACACGAGGCGGCTTCTGCAACTTCATGCATTTGAAGCCCATTTCCAGAGAGCTGCGGCGGGAGCTGTATGGCCGCCGTCGCAAGAAGCATAGATCAAGATCCCGATCCCGGGAGCGTCGTTCTCGGTCTAGAGACCGTGGTCGTGGCGGTGGCGGTGGCGGTGGTGGAGGTGGCGGCGGACGGGAGCGTGACAGGAGGCGGTCGAGAGATCGTGAAAGATCTGGGCGATTCTGA'\n",
    "U2AF1_coding_sequence_extra_bases = 'AATGGCGGAGTATCTGGCCTCCATCTTCGGCACCGAGAAAGACAAAGTCAACTGTTCATTTTATTTCAAAATTGGAGCATGTCGTCATGGAGACAGGTGCTCTCGGTTGCACAATAAACCGACGTTTAGCCAGACCATTGCCCTCTTGAACATTTACCGTAACCCTCAAAACTCTTCCCAGTCTGCTGACGGTTTGCGCTGTGCCGTGAGCGATGTGGAGATGCAGGAACACTATGATGAGTTTTTTGAGGAGGTTTTTACAGAAATGGAGGAGAAGTATGGGGAAGTAGAGGAGATGAACGTCTGTGACAACCTGGGAGACCACCTGGTGGGGAACGTGTACGTCAAGTTTCGCCGTGAGGAAGATGCGGAAAAGGCTGTGATTGACTTGAATAACCGTTGGTTTAATGGACAGCCGATCCACGCCGAGCTGTCACCCGTGACGGACTTCAGAGAAGCCTGCTGCCGTCAGTATGAGATGGGAGAATGCACACGAGGCGGCTTCTGCAACTTCATGCATTTGAAGCCCATTTCCAGAGAGCTGCGGCGGGAGCTGTATGGCCGCCGTCGCAAGAAGCATAGATCAAGATCCCGATCCCGGGAGCGTCGTTCTCGGTCTAGAGACCGTGGTCGTGGCGGTGGCGGTGGCGGTGGTGGAGGTGGCGGCGGACGGGAGCGTGACAGGAGGCGGTCGAGAGATCGTGAAAGATCTGGGCGATTCTGAG'"
   ]
  },
  {
   "cell_type": "code",
   "execution_count": 225,
   "metadata": {
    "scrolled": true
   },
   "outputs": [
    {
     "name": "stdout",
     "output_type": "stream",
     "text": [
      "Total summed synonymous mutation rate across region =  7.831914120000001e-08\n"
     ]
    }
   ],
   "source": [
    "U2AF1_2 = synonymous_mutation_rate_across_gene('U2AF1', U2AF1_coding_sequence, U2AF1_coding_sequence_extra_bases, 14, 44)"
   ]
  },
  {
   "cell_type": "code",
   "execution_count": 226,
   "metadata": {
    "scrolled": true
   },
   "outputs": [
    {
     "name": "stdout",
     "output_type": "stream",
     "text": [
      "Total summed synonymous mutation rate across region =  1.4118035619999998e-07\n"
     ]
    }
   ],
   "source": [
    "U2AF1_6 = synonymous_mutation_rate_across_gene('U2AF1', U2AF1_coding_sequence, U2AF1_coding_sequence_extra_bases, 116, 161)"
   ]
  },
  {
   "cell_type": "code",
   "execution_count": 227,
   "metadata": {},
   "outputs": [],
   "source": [
    "U2AF1_synonymous = U2AF1_2 + U2AF1_6"
   ]
  },
  {
   "cell_type": "markdown",
   "metadata": {},
   "source": [
    "#### Mutation rate for excluded synonymous U2AF1 variants"
   ]
  },
  {
   "cell_type": "code",
   "execution_count": 228,
   "metadata": {
    "code_folding": [
     0
    ]
   },
   "outputs": [],
   "source": [
    "#Create a dictionary of the excluded synonymous variants in U2AF1:\n",
    "import csv\n",
    "filename=\"Young_excluded_synonymous_1000_genomes.csv\"\n",
    "\n",
    "with open(filename, 'r') as csvfile:\n",
    "    read_reader = csv.reader(csvfile)  #csv.reader returns a reader object which will iterate over lines in the csvfile\n",
    "    row_count=0\n",
    "    excluded_U2AF1_synonymous_variants={} #dictionary of DNMTA results (key = ID (row[13]), value = VAF (row[10]))\n",
    "\n",
    "    for row in read_reader:\n",
    "#         print(row)\n",
    "        if row_count>0:\n",
    "            gene = row[0]\n",
    "            variant = row[1]\n",
    "            AA_coordinate = row[11]\n",
    "            variant_ID = row[2]\n",
    "            if row[0]=='U2AF1':\n",
    "                excluded_U2AF1_synonymous_variants[variant]=(gene, AA_coordinate, variant_ID)\n",
    "\n",
    "        row_count=row_count+1"
   ]
  },
  {
   "cell_type": "code",
   "execution_count": 229,
   "metadata": {
    "scrolled": false
   },
   "outputs": [
    {
     "name": "stdout",
     "output_type": "stream",
     "text": [
      "Total summed mutation rate across excluded synonymous variants =  6.021685e-09\n"
     ]
    }
   ],
   "source": [
    "U2AF1_excluded = synonymous_excluded_variants_mutation_rate('U2AF1', U2AF1_coding_sequence, U2AF1_coding_sequence_extra_bases, \\\n",
    "                                                           excluded_U2AF1_synonymous_variants)"
   ]
  },
  {
   "cell_type": "markdown",
   "metadata": {},
   "source": [
    "#### Total synonymous mutation rate for U2AF1"
   ]
  },
  {
   "cell_type": "code",
   "execution_count": 230,
   "metadata": {
    "code_folding": [
     0
    ],
    "scrolled": true
   },
   "outputs": [
    {
     "name": "stdout",
     "output_type": "stream",
     "text": [
      "Synonymous mutation rate across U2AF1 =  2.134778124e-07\n"
     ]
    }
   ],
   "source": [
    "#Subtract the mutation rate of the excluded variants from the total mutation rate for U2AF1 synonymous variants across the panel\n",
    "U2AF1 = U2AF1_synonymous - U2AF1_excluded\n",
    "print(\"Synonymous mutation rate across U2AF1 = \", U2AF1)"
   ]
  },
  {
   "cell_type": "markdown",
   "metadata": {},
   "source": [
    "## WT1 (exons 7 and 9)"
   ]
  },
  {
   "cell_type": "markdown",
   "metadata": {},
   "source": [
    "- ENST00000332351.3 transcript."
   ]
  },
  {
   "cell_type": "markdown",
   "metadata": {},
   "source": [
    "#### Mutation rate for synonymous variants across WT1 regions included in panel"
   ]
  },
  {
   "cell_type": "code",
   "execution_count": 231,
   "metadata": {},
   "outputs": [],
   "source": [
    "WT1_coding_sequence = 'CTGCAGGACCCGGCTTCCACGTGTGTCCCGGAGCCGGCGTCTCAGCACACGCTCCGCTCCGGGCCTGGGTGCCTACAGCAGCCAGAGCAGCAGGGAGTCCGGGACCCGGGCGGCATCTGGGCCAAGTTAGGCGCCGCCGAGGCCAGCGCTGAACGTCTCCAGGGCCGGAGGAGCCGCGGGGCGTCCGGGTCTGAGCCGCAGCAAATGGGCTCCGACGTGCGGGACCTGAACGCGCTGCTGCCCGCCGTCCCCTCCCTGGGTGGCGGCGGCGGCTGTGCCCTGCCTGTGAGCGGCGCGGCGCAGTGGGCGCCGGTGCTGGACTTTGCGCCCCCGGGCGCTTCGGCTTACGGGTCGTTGGGCGGCCCCGCGCCGCCACCGGCTCCGCCGCCACCCCCGCCGCCGCCGCCTCACTCCTTCATCAAACAGGAGCCGAGCTGGGGCGGCGCGGAGCCGCACGAGGAGCAGTGCCTGAGCGCCTTCACTGTCCACTTTTCCGGCCAGTTCACTGGCACAGCCGGAGCCTGTCGCTACGGGCCCTTCGGTCCTCCTCCGCCCAGCCAGGCGTCATCCGGCCAGGCCAGGATGTTTCCTAACGCGCCCTACCTGCCCAGCTGCCTCGAGAGCCAGCCCGCTATTCGCAATCAGGGTTACAGCACGGTCACCTTCGACGGGACGCCCAGCTACGGTCACACGCCCTCGCACCATGCGGCGCAGTTCCCCAACCACTCATTCAAGCATGAGGATCCCATGGGCCAGCAGGGCTCGCTGGGTGAGCAGCAGTACTCGGTGCCGCCCCCGGTCTATGGCTGCCACACCCCCACCGACAGCTGCACCGGCAGCCAGGCTTTGCTGCTGAGGACGCCCTACAGCAGTGACAATTTATACCAAATGACATCCCAGCTTGAATGCATGACCTGGAATCAGATGAACTTAGGAGCCACCTTAAAGGGAGTTGCTGCTGGGAGCTCCAGCTCAGTGAAATGGACAGAAGGGCAGAGCAACCACAGCACAGGGTACGAGAGCGATAACCACACAACGCCCATCCTCTGCGGAGCCCAATACAGAATACACACGCACGGTGTCTTCAGAGGCATTCAGGATGTGCGACGTGTGCCTGGAGTAGCCCCGACTCTTGTACGGTCGGCATCTGAGACCAGTGAGAAACGCCCCTTCATGTGTGCTTACCCAGGCTGCAATAAGAGATATTTTAAGCTGTCCCACTTACAGATGCACAGCAGGAAGCACACTGGTGAGAAACCATACCAGTGTGACTTCAAGGACTGTGAACGAAGGTTTTCTCGTTCAGACCAGCTCAAAAGACACCAAAGGAGACATACAGGTGTGAAACCATTCCAGTGTAAAACTTGTCAGCGAAAGTTCTCCCGGTCCGACCACCTGAAGACCCACACCAGGACTCATACAGGTAAAACAAGTGAAAAGCCCTTCAGCTGTCGGTGGCCAAGTTGTCAGAAAAAGTTTGCCCGGTCAGATGAATTAGTCCGCCATCACAACATGCATCAGAGAAACATGACCAAACTCCAGCTGGCGCTTTGA'\n",
    "WT1_coding_sequence_extra_bases = 'GCTGCAGGACCCGGCTTCCACGTGTGTCCCGGAGCCGGCGTCTCAGCACACGCTCCGCTCCGGGCCTGGGTGCCTACAGCAGCCAGAGCAGCAGGGAGTCCGGGACCCGGGCGGCATCTGGGCCAAGTTAGGCGCCGCCGAGGCCAGCGCTGAACGTCTCCAGGGCCGGAGGAGCCGCGGGGCGTCCGGGTCTGAGCCGCAGCAAATGGGCTCCGACGTGCGGGACCTGAACGCGCTGCTGCCCGCCGTCCCCTCCCTGGGTGGCGGCGGCGGCTGTGCCCTGCCTGTGAGCGGCGCGGCGCAGTGGGCGCCGGTGCTGGACTTTGCGCCCCCGGGCGCTTCGGCTTACGGGTCGTTGGGCGGCCCCGCGCCGCCACCGGCTCCGCCGCCACCCCCGCCGCCGCCGCCTCACTCCTTCATCAAACAGGAGCCGAGCTGGGGCGGCGCGGAGCCGCACGAGGAGCAGTGCCTGAGCGCCTTCACTGTCCACTTTTCCGGCCAGTTCACTGGCACAGCCGGAGCCTGTCGCTACGGGCCCTTCGGTCCTCCTCCGCCCAGCCAGGCGTCATCCGGCCAGGCCAGGATGTTTCCTAACGCGCCCTACCTGCCCAGCTGCCTCGAGAGCCAGCCCGCTATTCGCAATCAGGGTTACAGCACGGTCACCTTCGACGGGACGCCCAGCTACGGTCACACGCCCTCGCACCATGCGGCGCAGTTCCCCAACCACTCATTCAAGCATGAGGATCCCATGGGCCAGCAGGGCTCGCTGGGTGAGCAGCAGTACTCGGTGCCGCCCCCGGTCTATGGCTGCCACACCCCCACCGACAGCTGCACCGGCAGCCAGGCTTTGCTGCTGAGGACGCCCTACAGCAGTGACAATTTATACCAAATGACATCCCAGCTTGAATGCATGACCTGGAATCAGATGAACTTAGGAGCCACCTTAAAGGGAGTTGCTGCTGGGAGCTCCAGCTCAGTGAAATGGACAGAAGGGCAGAGCAACCACAGCACAGGGTACGAGAGCGATAACCACACAACGCCCATCCTCTGCGGAGCCCAATACAGAATACACACGCACGGTGTCTTCAGAGGCATTCAGGATGTGCGACGTGTGCCTGGAGTAGCCCCGACTCTTGTACGGTCGGCATCTGAGACCAGTGAGAAACGCCCCTTCATGTGTGCTTACCCAGGCTGCAATAAGAGATATTTTAAGCTGTCCCACTTACAGATGCACAGCAGGAAGCACACTGGTGAGAAACCATACCAGTGTGACTTCAAGGACTGTGAACGAAGGTTTTCTCGTTCAGACCAGCTCAAAAGACACCAAAGGAGACATACAGGTGTGAAACCATTCCAGTGTAAAACTTGTCAGCGAAAGTTCTCCCGGTCCGACCACCTGAAGACCCACACCAGGACTCATACAGGTAAAACAAGTGAAAAGCCCTTCAGCTGTCGGTGGCCAAGTTGTCAGAAAAAGTTTGCCCGGTCAGATGAATTAGTCCGCCATCACAACATGCATCAGAGAAACATGACCAAACTCCAGCTGGCGCTTTGAG'"
   ]
  },
  {
   "cell_type": "code",
   "execution_count": 232,
   "metadata": {
    "scrolled": true
   },
   "outputs": [
    {
     "name": "stdout",
     "output_type": "stream",
     "text": [
      "Total summed synonymous mutation rate across region =  1.6279976620000002e-07\n"
     ]
    }
   ],
   "source": [
    "WT1_7 = synonymous_mutation_rate_across_gene('WT1', WT1_coding_sequence, WT1_coding_sequence_extra_bases, 366, 417)"
   ]
  },
  {
   "cell_type": "code",
   "execution_count": 233,
   "metadata": {
    "scrolled": true
   },
   "outputs": [
    {
     "name": "stdout",
     "output_type": "stream",
     "text": [
      "Total summed synonymous mutation rate across region =  7.54284712e-08\n"
     ]
    }
   ],
   "source": [
    "WT1_9 = synonymous_mutation_rate_across_gene('WT1', WT1_coding_sequence, WT1_coding_sequence_extra_bases, 446, 478)"
   ]
  },
  {
   "cell_type": "code",
   "execution_count": 234,
   "metadata": {},
   "outputs": [],
   "source": [
    "WT1_synonymous = WT1_7 + WT1_9"
   ]
  },
  {
   "cell_type": "markdown",
   "metadata": {},
   "source": [
    "#### Mutation rate for excluded synonymous WT1 variants"
   ]
  },
  {
   "cell_type": "code",
   "execution_count": 235,
   "metadata": {
    "code_folding": [
     0
    ]
   },
   "outputs": [],
   "source": [
    "#Create a dictionary of the excluded synonymous variants in WT1:\n",
    "import csv\n",
    "filename=\"Young_excluded_synonymous_1000_genomes.csv\"\n",
    "\n",
    "with open(filename, 'r') as csvfile:\n",
    "    read_reader = csv.reader(csvfile)  #csv.reader returns a reader object which will iterate over lines in the csvfile\n",
    "    row_count=0\n",
    "    excluded_WT1_synonymous_variants={} #dictionary of DNMTA results (key = ID (row[13]), value = VAF (row[10]))\n",
    "\n",
    "    for row in read_reader:\n",
    "#         print(row)\n",
    "        if row_count>0:\n",
    "            gene = row[0]\n",
    "            variant = row[1]\n",
    "            AA_coordinate = row[11]\n",
    "            variant_ID = row[2]\n",
    "            if row[0]=='WT1':\n",
    "                excluded_WT1_synonymous_variants[variant]=(gene, AA_coordinate, variant_ID)\n",
    "\n",
    "        row_count=row_count+1"
   ]
  },
  {
   "cell_type": "code",
   "execution_count": 236,
   "metadata": {
    "scrolled": false
   },
   "outputs": [
    {
     "name": "stdout",
     "output_type": "stream",
     "text": [
      "Total summed mutation rate across excluded synonymous variants =  2.9668340000000002e-09\n"
     ]
    }
   ],
   "source": [
    "WT1_excluded = synonymous_excluded_variants_mutation_rate('WT1', WT1_coding_sequence, WT1_coding_sequence_extra_bases, \\\n",
    "                                                           excluded_WT1_synonymous_variants)"
   ]
  },
  {
   "cell_type": "markdown",
   "metadata": {},
   "source": [
    "#### Total synonymous mutation rate for WT1"
   ]
  },
  {
   "cell_type": "code",
   "execution_count": 237,
   "metadata": {
    "code_folding": [
     0
    ],
    "scrolled": true
   },
   "outputs": [
    {
     "name": "stdout",
     "output_type": "stream",
     "text": [
      "Synonymous mutation rate across WT1 =  2.3526140340000002e-07\n"
     ]
    }
   ],
   "source": [
    "#Subtract the mutation rate of the excluded variants from the total mutation rate for WT1 synonymous variants across the panel\n",
    "WT1 = WT1_synonymous - WT1_excluded\n",
    "print(\"Synonymous mutation rate across WT1 = \", WT1)"
   ]
  },
  {
   "cell_type": "markdown",
   "metadata": {},
   "source": [
    "## ZRSR2"
   ]
  },
  {
   "cell_type": "markdown",
   "metadata": {},
   "source": [
    "- ENST00000307771.7 transcript."
   ]
  },
  {
   "cell_type": "markdown",
   "metadata": {},
   "source": [
    "#### Mutation rate for synonymous variants across ZRSR2 regions included in panel"
   ]
  },
  {
   "cell_type": "code",
   "execution_count": 238,
   "metadata": {},
   "outputs": [],
   "source": [
    "ZRSR2_coding_sequence = 'ATGGCTGCGCCCGAGAAGATGACGTTTCCCGAGAAACCAAGCCACAAAAAGTACAGGGCCGCCCTGAAGAAGGAGAAACGAAAGAAACGTCGGCAGGAACTTGCTCGACTGAGAGACTCAGGACTCTCACAGAAGGAGGAAGAGGAGGACACTTTTATTGAAGAACAACAACTAGAAGAAGAGAAGCTATTGGAAAGAGAGAGGCAAAGATTACATGAGGAGTGGTTGCTAAGAGAGCAGAAGGCACAAGAAGAATTCAGAATAAAGAAGGAAAAGGAAGAGGCGGCTAAAAAACGGCAAGAAGAACAAGAGAGAAAGTTAAAGGAACAATGGGAAGAACAGCAGAGGAAAGAGAGAGAAGAGGAGGAGCAGAAACGACAGGAGAAGAAAGAAAAAGAGGAAGCTTTGCAGAAGATGCTGGATCAGGCTGAAAATGAGTTGGAAAATGGTACCACATGGCAAAACCCAGAACCACCCGTGGATTTCAGAGTAATGGAGAAGGATCGAGCTAATTGTCCCTTCTACAGTAAAACAGGAGCTTGCAGATTTGGAGATAGATGTTCACGTAAACATAATTTCCCAACATCCAGTCCTACCCTTCTTATTAAGAGCATGTTTACGACGTTTGGAATGGAGCAGTGCAGGAGGGATGACTATGACCCTGACGCAAGCCTGGAGTACAGCGAGGAAGAAACCTACCAACAGTTCCTAGACTTCTATGAGGATGTGTTGCCCGAGTTCAAGAACGTGGGGAAAGTGATTCAGTTCAAGGTCAGCTGCAATTTGGAACCTCACCTGAGGGGCAATGTATATGTTCAGTACCAGTCGGAAGAAGAATGCCAAGCAGCCCTTTCTCTGTTTAACGGACGATGGTATGCAGGACGACAGCTGCAGTGTGAATTCTGCCCCGTGACCCGGTGGAAAATGGCGATTTGTGGTTTATTTGAAATACAACAATGTCCAAGAGGAAAGCACTGCAACTTTCTTCATGTGTTCAGAAATCCCAACAATGAATTCTGGGAAGCTAATAGAGACATCTACTTGTCTCCAGATCGGACTGGCTCCTCCTTTGGGAAGAACTCCGAAAGGAGGGAGAGGATGGGCCACCACGACGACTACTACAGCAGGCTGCGGGGAAGGAGAAACCCTAGTCCAGACCACTCCTACAAAAGAAATGGGGAATCCGAGAGGAAAAGTAGTCGTCACAGGGGGAAGAAATCTCACAAACGCACATCAAAGAGTCGGGAGAGGCACAATTCACGAAGCAGAGGAAGAAATAGGGACCGCAGCAGGGACCGCAGCCGGGGCCGGGGCAGCCGGAGCCGGAGCCGGAGCCGGAGCCGCAGGAGCCGCCGCAGCCGGAGCCAAAGTTCCTCTAGGTCCCGAAGTCGTGGCAGGAGGAGGTCGGGTAATAGAGACAGAACTGTTCAGAGTCCCAAATCCAAATAA'\n",
    "ZRSR2_coding_sequence_extra_bases = 'GATGGCTGCGCCCGAGAAGATGACGTTTCCCGAGAAACCAAGCCACAAAAAGTACAGGGCCGCCCTGAAGAAGGAGAAACGAAAGAAACGTCGGCAGGAACTTGCTCGACTGAGAGACTCAGGACTCTCACAGAAGGAGGAAGAGGAGGACACTTTTATTGAAGAACAACAACTAGAAGAAGAGAAGCTATTGGAAAGAGAGAGGCAAAGATTACATGAGGAGTGGTTGCTAAGAGAGCAGAAGGCACAAGAAGAATTCAGAATAAAGAAGGAAAAGGAAGAGGCGGCTAAAAAACGGCAAGAAGAACAAGAGAGAAAGTTAAAGGAACAATGGGAAGAACAGCAGAGGAAAGAGAGAGAAGAGGAGGAGCAGAAACGACAGGAGAAGAAAGAAAAAGAGGAAGCTTTGCAGAAGATGCTGGATCAGGCTGAAAATGAGTTGGAAAATGGTACCACATGGCAAAACCCAGAACCACCCGTGGATTTCAGAGTAATGGAGAAGGATCGAGCTAATTGTCCCTTCTACAGTAAAACAGGAGCTTGCAGATTTGGAGATAGATGTTCACGTAAACATAATTTCCCAACATCCAGTCCTACCCTTCTTATTAAGAGCATGTTTACGACGTTTGGAATGGAGCAGTGCAGGAGGGATGACTATGACCCTGACGCAAGCCTGGAGTACAGCGAGGAAGAAACCTACCAACAGTTCCTAGACTTCTATGAGGATGTGTTGCCCGAGTTCAAGAACGTGGGGAAAGTGATTCAGTTCAAGGTCAGCTGCAATTTGGAACCTCACCTGAGGGGCAATGTATATGTTCAGTACCAGTCGGAAGAAGAATGCCAAGCAGCCCTTTCTCTGTTTAACGGACGATGGTATGCAGGACGACAGCTGCAGTGTGAATTCTGCCCCGTGACCCGGTGGAAAATGGCGATTTGTGGTTTATTTGAAATACAACAATGTCCAAGAGGAAAGCACTGCAACTTTCTTCATGTGTTCAGAAATCCCAACAATGAATTCTGGGAAGCTAATAGAGACATCTACTTGTCTCCAGATCGGACTGGCTCCTCCTTTGGGAAGAACTCCGAAAGGAGGGAGAGGATGGGCCACCACGACGACTACTACAGCAGGCTGCGGGGAAGGAGAAACCCTAGTCCAGACCACTCCTACAAAAGAAATGGGGAATCCGAGAGGAAAAGTAGTCGTCACAGGGGGAAGAAATCTCACAAACGCACATCAAAGAGTCGGGAGAGGCACAATTCACGAAGCAGAGGAAGAAATAGGGACCGCAGCAGGGACCGCAGCCGGGGCCGGGGCAGCCGGAGCCGGAGCCGGAGCCGGAGCCGCAGGAGCCGCCGCAGCCGGAGCCAAAGTTCCTCTAGGTCCCGAAGTCGTGGCAGGAGGAGGTCGGGTAATAGAGACAGAACTGTTCAGAGTCCCAAATCCAAATAAA'"
   ]
  },
  {
   "cell_type": "code",
   "execution_count": 239,
   "metadata": {
    "scrolled": true
   },
   "outputs": [
    {
     "name": "stdout",
     "output_type": "stream",
     "text": [
      "Total summed synonymous mutation rate across region =  1.2842927822e-06\n"
     ]
    }
   ],
   "source": [
    "ZRSR2_synonymous = synonymous_mutation_rate_across_gene('ZRSR2', ZRSR2_coding_sequence, ZRSR2_coding_sequence_extra_bases, 0, 483)"
   ]
  },
  {
   "cell_type": "markdown",
   "metadata": {},
   "source": [
    "#### Mutation rate for excluded synonymous ZRSR2 variants"
   ]
  },
  {
   "cell_type": "code",
   "execution_count": 240,
   "metadata": {
    "code_folding": [
     0
    ]
   },
   "outputs": [],
   "source": [
    "#Create a dictionary of the excluded synonymous variants in ZRSR2:\n",
    "import csv\n",
    "filename=\"Young_excluded_synonymous_1000_genomes.csv\"\n",
    "\n",
    "with open(filename, 'r') as csvfile:\n",
    "    read_reader = csv.reader(csvfile)  #csv.reader returns a reader object which will iterate over lines in the csvfile\n",
    "    row_count=0\n",
    "    excluded_ZRSR2_synonymous_variants={} #dictionary of DNMTA results (key = ID (row[13]), value = VAF (row[10]))\n",
    "\n",
    "    for row in read_reader:\n",
    "#         print(row)\n",
    "        if row_count>0:\n",
    "            gene = row[0]\n",
    "            variant = row[1]\n",
    "            AA_coordinate = row[11]\n",
    "            variant_ID = row[2]\n",
    "            if row[0]=='ZRSR2':\n",
    "                excluded_ZRSR2_synonymous_variants[variant]=(gene, AA_coordinate, variant_ID)\n",
    "\n",
    "        row_count=row_count+1"
   ]
  },
  {
   "cell_type": "code",
   "execution_count": 241,
   "metadata": {
    "scrolled": false
   },
   "outputs": [
    {
     "name": "stdout",
     "output_type": "stream",
     "text": [
      "Total summed mutation rate across excluded synonymous variants =  0.0\n"
     ]
    }
   ],
   "source": [
    "ZRSR2_excluded = synonymous_excluded_variants_mutation_rate('ZRSR2', ZRSR2_coding_sequence, ZRSR2_coding_sequence_extra_bases, \\\n",
    "                                                           excluded_ZRSR2_synonymous_variants)"
   ]
  },
  {
   "cell_type": "markdown",
   "metadata": {},
   "source": [
    "#### Total synonymous mutation rate for ZRSR2"
   ]
  },
  {
   "cell_type": "code",
   "execution_count": 242,
   "metadata": {
    "code_folding": [
     0
    ],
    "scrolled": true
   },
   "outputs": [
    {
     "name": "stdout",
     "output_type": "stream",
     "text": [
      "Synonymous mutation rate across ZRSR2 =  1.2842927822e-06\n"
     ]
    }
   ],
   "source": [
    "#Subtract the mutation rate of the excluded variants from the total mutation rate for ZRSR2 synonymous variants across the panel\n",
    "ZRSR2 = ZRSR2_synonymous - ZRSR2_excluded\n",
    "print(\"Synonymous mutation rate across ZRSR2 = \", ZRSR2)"
   ]
  },
  {
   "cell_type": "markdown",
   "metadata": {},
   "source": [
    "# All panel mutation rates summed"
   ]
  },
  {
   "cell_type": "code",
   "execution_count": 243,
   "metadata": {},
   "outputs": [
    {
     "data": {
      "text/plain": [
       "7.598449556619997e-05"
      ]
     },
     "execution_count": 243,
     "metadata": {},
     "output_type": "execute_result"
    }
   ],
   "source": [
    "ABL1+ASXL1+ATRX_8_10+ATRX_17_31+BCOR+BCORL1+BRAF+CALR+CBL+CBLB+CBLC+CDKN2A+CEBPA+\\\n",
    "CSF3R+CUX1+DNMT3A+ETV6+EZH2+FBXW7+FLT3_14_15+FLT3_20+GATA1+GATA2+GNAS+HRAS+IDH1+IDH2+\\\n",
    "IKZF1+JAK2_12+JAK2_14+JAK3+KDM6A+KIT+KRAS+MLL+MPL+MYD88+\\\n",
    "NOTCH1+NPM1+NRAS+PDGFRA+PHF6+PTEN_5+PTEN_7+PTPN11+RAD21+RUNX1+SETBP1+SF3B1+SMC3\\\n",
    "+SRSF2+STAG2+TET2+TP53+U2AF1_2+U2AF1_6+WT1+ZRSR2"
   ]
  }
 ],
 "metadata": {
  "kernelspec": {
   "display_name": "Python 3",
   "language": "python",
   "name": "python3"
  },
  "language_info": {
   "codemirror_mode": {
    "name": "ipython",
    "version": 3
   },
   "file_extension": ".py",
   "mimetype": "text/x-python",
   "name": "python",
   "nbconvert_exporter": "python",
   "pygments_lexer": "ipython3",
   "version": "3.7.0"
  },
  "latex_envs": {
   "LaTeX_envs_menu_present": true,
   "autocomplete": true,
   "bibliofile": "biblio.bib",
   "cite_by": "apalike",
   "current_citInitial": 1,
   "eqLabelWithNumbers": true,
   "eqNumInitial": 1,
   "hotkeys": {
    "equation": "Ctrl-E",
    "itemize": "Ctrl-I"
   },
   "labels_anchors": false,
   "latex_user_defs": false,
   "report_style_numbering": false,
   "user_envs_cfg": false
  },
  "toc": {
   "base_numbering": 1,
   "nav_menu": {},
   "number_sections": true,
   "sideBar": true,
   "skip_h1_title": false,
   "title_cell": "Table of Contents",
   "title_sidebar": "Contents",
   "toc_cell": true,
   "toc_position": {
    "height": "calc(100% - 180px)",
    "left": "10px",
    "top": "150px",
    "width": "168px"
   },
   "toc_section_display": "block",
   "toc_window_display": true
  }
 },
 "nbformat": 4,
 "nbformat_minor": 2
}
