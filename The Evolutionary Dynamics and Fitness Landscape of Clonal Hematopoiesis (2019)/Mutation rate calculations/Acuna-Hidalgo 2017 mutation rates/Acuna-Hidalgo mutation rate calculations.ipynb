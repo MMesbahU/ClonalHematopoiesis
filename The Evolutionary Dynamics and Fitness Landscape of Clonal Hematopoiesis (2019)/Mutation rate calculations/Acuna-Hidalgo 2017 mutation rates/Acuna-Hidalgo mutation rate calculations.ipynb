{
 "cells": [
  {
   "cell_type": "markdown",
   "metadata": {
    "toc": true
   },
   "source": [
    "<h1>Table of Contents<span class=\"tocSkip\"></span></h1>\n",
    "<div class=\"toc\"><ul class=\"toc-item\"><li><span><a href=\"#Python-Setup\" data-toc-modified-id=\"Python-Setup-1\"><span class=\"toc-item-num\">1&nbsp;&nbsp;</span>Python Setup</a></span><ul class=\"toc-item\"><li><span><a href=\"#Change-the-width-of-the-page\" data-toc-modified-id=\"Change-the-width-of-the-page-1.1\"><span class=\"toc-item-num\">1.1&nbsp;&nbsp;</span>Change the width of the page</a></span></li><li><span><a href=\"#Import-packages\" data-toc-modified-id=\"Import-packages-1.2\"><span class=\"toc-item-num\">1.2&nbsp;&nbsp;</span>Import packages</a></span></li></ul></li><li><span><a href=\"#Genetic-Code\" data-toc-modified-id=\"Genetic-Code-2\"><span class=\"toc-item-num\">2&nbsp;&nbsp;</span>Genetic Code</a></span></li><li><span><a href=\"#Mutation-rates\" data-toc-modified-id=\"Mutation-rates-3\"><span class=\"toc-item-num\">3&nbsp;&nbsp;</span>Mutation rates</a></span></li><li><span><a href=\"#Functions-to-calculate-mutation-rates-from-genome-coordinates\" data-toc-modified-id=\"Functions-to-calculate-mutation-rates-from-genome-coordinates-4\"><span class=\"toc-item-num\">4&nbsp;&nbsp;</span>Functions to calculate mutation rates from genome coordinates</a></span><ul class=\"toc-item\"><li><ul class=\"toc-item\"><li><ul class=\"toc-item\"><li><span><a href=\"#Function-to-convert-.seq-to-string\" data-toc-modified-id=\"Function-to-convert-.seq-to-string-4.0.0.1\"><span class=\"toc-item-num\">4.0.0.1&nbsp;&nbsp;</span>Function to convert .seq to string</a></span></li><li><span><a href=\"#Function-to-download-coding-sequence-+-coding-sequence-with-extra-bases-each-end\" data-toc-modified-id=\"Function-to-download-coding-sequence-+-coding-sequence-with-extra-bases-each-end-4.0.0.2\"><span class=\"toc-item-num\">4.0.0.2&nbsp;&nbsp;</span>Function to download coding sequence + coding sequence with extra bases each end</a></span></li></ul></li><li><span><a href=\"#Calculating-mutation-rates-for-synonymous-variants-from-genomic-coordinates\" data-toc-modified-id=\"Calculating-mutation-rates-for-synonymous-variants-from-genomic-coordinates-4.0.1\"><span class=\"toc-item-num\">4.0.1&nbsp;&nbsp;</span>Calculating mutation rates for synonymous variants from genomic coordinates</a></span></li><li><span><a href=\"#Calculating-mutation-rates-for-nonsynonymous-variants-from-genomic-coordinates\" data-toc-modified-id=\"Calculating-mutation-rates-for-nonsynonymous-variants-from-genomic-coordinates-4.0.2\"><span class=\"toc-item-num\">4.0.2&nbsp;&nbsp;</span>Calculating mutation rates for nonsynonymous variants from genomic coordinates</a></span></li></ul></li></ul></li><li><span><a href=\"#Acuna-Hidalgo-2017\" data-toc-modified-id=\"Acuna-Hidalgo-2017-5\"><span class=\"toc-item-num\">5&nbsp;&nbsp;</span>Acuna-Hidalgo 2017</a></span><ul class=\"toc-item\"><li><span><a href=\"#Mutation-rate-calculation-for-synonymous-variants\" data-toc-modified-id=\"Mutation-rate-calculation-for-synonymous-variants-5.1\"><span class=\"toc-item-num\">5.1&nbsp;&nbsp;</span>Mutation rate calculation for synonymous variants</a></span><ul class=\"toc-item\"><li><span><a href=\"#Full-codons...\" data-toc-modified-id=\"Full-codons...-5.1.1\"><span class=\"toc-item-num\">5.1.1&nbsp;&nbsp;</span>Full codons...</a></span></li><li><span><a href=\"#Partial-codons...\" data-toc-modified-id=\"Partial-codons...-5.1.2\"><span class=\"toc-item-num\">5.1.2&nbsp;&nbsp;</span>Partial codons...</a></span></li><li><span><a href=\"#Adding-the-partial-and-complete-codon-mutation-rates-together-(synonymous)\" data-toc-modified-id=\"Adding-the-partial-and-complete-codon-mutation-rates-together-(synonymous)-5.1.3\"><span class=\"toc-item-num\">5.1.3&nbsp;&nbsp;</span>Adding the partial and complete codon mutation rates together (synonymous)</a></span></li><li><span><a href=\"#Excluded-synonymous-regions-(Exac-frequency-&gt;0.001)\" data-toc-modified-id=\"Excluded-synonymous-regions-(Exac-frequency->0.001)-5.1.4\"><span class=\"toc-item-num\">5.1.4&nbsp;&nbsp;</span>Excluded synonymous regions (Exac frequency &gt;0.001)</a></span></li></ul></li><li><span><a href=\"#Mutation-rate-calculation-for-non-synonymous-variants\" data-toc-modified-id=\"Mutation-rate-calculation-for-non-synonymous-variants-5.2\"><span class=\"toc-item-num\">5.2&nbsp;&nbsp;</span>Mutation rate calculation for non-synonymous variants</a></span><ul class=\"toc-item\"><li><span><a href=\"#DNMT3A\" data-toc-modified-id=\"DNMT3A-5.2.1\"><span class=\"toc-item-num\">5.2.1&nbsp;&nbsp;</span>DNMT3A</a></span><ul class=\"toc-item\"><li><span><a href=\"#Full-DNMT3A-codons...\" data-toc-modified-id=\"Full-DNMT3A-codons...-5.2.1.1\"><span class=\"toc-item-num\">5.2.1.1&nbsp;&nbsp;</span>Full DNMT3A codons...</a></span></li><li><span><a href=\"#Partial-DNMT3A-codons...\" data-toc-modified-id=\"Partial-DNMT3A-codons...-5.2.1.2\"><span class=\"toc-item-num\">5.2.1.2&nbsp;&nbsp;</span>Partial DNMT3A codons...</a></span></li><li><span><a href=\"#Adding-the-partial-and-complete-codon-DNMT3A-mutation-rates-together-(nonsynonymous)\" data-toc-modified-id=\"Adding-the-partial-and-complete-codon-DNMT3A-mutation-rates-together-(nonsynonymous)-5.2.1.3\"><span class=\"toc-item-num\">5.2.1.3&nbsp;&nbsp;</span>Adding the partial and complete codon DNMT3A mutation rates together (nonsynonymous)</a></span></li></ul></li><li><span><a href=\"#TET2\" data-toc-modified-id=\"TET2-5.2.2\"><span class=\"toc-item-num\">5.2.2&nbsp;&nbsp;</span>TET2</a></span><ul class=\"toc-item\"><li><span><a href=\"#Full-TET2-codons...\" data-toc-modified-id=\"Full-TET2-codons...-5.2.2.1\"><span class=\"toc-item-num\">5.2.2.1&nbsp;&nbsp;</span>Full TET2 codons...</a></span></li></ul></li><li><span><a href=\"#ASXL1\" data-toc-modified-id=\"ASXL1-5.2.3\"><span class=\"toc-item-num\">5.2.3&nbsp;&nbsp;</span>ASXL1</a></span><ul class=\"toc-item\"><li><span><a href=\"#Full-ASXL1-codons...\" data-toc-modified-id=\"Full-ASXL1-codons...-5.2.3.1\"><span class=\"toc-item-num\">5.2.3.1&nbsp;&nbsp;</span>Full ASXL1 codons...</a></span></li></ul></li><li><span><a href=\"#TP53\" data-toc-modified-id=\"TP53-5.2.4\"><span class=\"toc-item-num\">5.2.4&nbsp;&nbsp;</span>TP53</a></span><ul class=\"toc-item\"><li><span><a href=\"#Full-TP53-codons\" data-toc-modified-id=\"Full-TP53-codons-5.2.4.1\"><span class=\"toc-item-num\">5.2.4.1&nbsp;&nbsp;</span>Full TP53 codons</a></span></li><li><span><a href=\"#Partial-TP53-codons\" data-toc-modified-id=\"Partial-TP53-codons-5.2.4.2\"><span class=\"toc-item-num\">5.2.4.2&nbsp;&nbsp;</span>Partial TP53 codons</a></span></li><li><span><a href=\"#Adding-the-partial-and-complete-codon-TP53-mutation-rates-together-(nonsynonymous)\" data-toc-modified-id=\"Adding-the-partial-and-complete-codon-TP53-mutation-rates-together-(nonsynonymous)-5.2.4.3\"><span class=\"toc-item-num\">5.2.4.3&nbsp;&nbsp;</span>Adding the partial and complete codon TP53 mutation rates together (nonsynonymous)</a></span></li><li><span><a href=\"#Excluded-regions-in-TP53\" data-toc-modified-id=\"Excluded-regions-in-TP53-5.2.4.4\"><span class=\"toc-item-num\">5.2.4.4&nbsp;&nbsp;</span>Excluded regions in TP53</a></span></li></ul></li></ul></li></ul></li></ul></div>"
   ]
  },
  {
   "cell_type": "markdown",
   "metadata": {},
   "source": [
    "# Python Setup"
   ]
  },
  {
   "cell_type": "markdown",
   "metadata": {},
   "source": [
    "## Change the width of the page"
   ]
  },
  {
   "cell_type": "code",
   "execution_count": 1,
   "metadata": {},
   "outputs": [
    {
     "data": {
      "text/html": [
       "<style>.container { width:80% !important; }</style>"
      ],
      "text/plain": [
       "<IPython.core.display.HTML object>"
      ]
     },
     "metadata": {},
     "output_type": "display_data"
    }
   ],
   "source": [
    "from IPython.core.display import display, HTML\n",
    "display(HTML(\"<style>.container { width:80% !important; }</style>\"))"
   ]
  },
  {
   "cell_type": "markdown",
   "metadata": {},
   "source": [
    "## Import packages"
   ]
  },
  {
   "cell_type": "code",
   "execution_count": 2,
   "metadata": {
    "code_folding": [
     0
    ]
   },
   "outputs": [],
   "source": [
    "# imported packages\n",
    "%matplotlib inline\n",
    "import random\n",
    "import numpy as np\n",
    "import matplotlib\n",
    "import matplotlib.pyplot as plt\n",
    "import math\n",
    "import matplotlib.ticker as plticker\n",
    "import collections\n",
    "from matplotlib.ticker import LinearLocator, FormatStrFormatter\n",
    "from matplotlib.patches import Polygon\n",
    "from matplotlib.patches import Patch\n",
    "from matplotlib.lines import Line2D\n",
    "from matplotlib import cm\n",
    "from mpl_toolkits.mplot3d import Axes3D\n",
    "import scipy.special\n",
    "import scipy.integrate as it\n",
    "from scipy import integrate\n",
    "import copy\n",
    "import glob, os\n",
    "import re\n",
    "from sklearn import datasets, linear_model\n",
    "import pandas as pd\n",
    "from decimal import *\n",
    "from operator import itemgetter    \n",
    "from collections import OrderedDict\n",
    "from matplotlib.ticker import (MultipleLocator, FormatStrFormatter, AutoMinorLocator)\n",
    "\n",
    "\n",
    "from Bio.Alphabet import IUPAC\n",
    "from Bio.Seq import Seq\n",
    "from Bio.SeqRecord import SeqRecord\n",
    "from Bio.Align import MultipleSeqAlignment\n",
    "from Bio.Alphabet import generic_dna, _ungap\n",
    "from Bio import SeqIO\n",
    "from itertools import permutations \n",
    "from math import log \n",
    "\n",
    "from Bio import Entrez\n",
    "from Bio import SeqIO\n",
    "try:\n",
    "    from StringIO import StringIO\n",
    "except ImportError:\n",
    "    from io import StringIO"
   ]
  },
  {
   "cell_type": "markdown",
   "metadata": {},
   "source": [
    "# Genetic Code"
   ]
  },
  {
   "cell_type": "code",
   "execution_count": 3,
   "metadata": {
    "code_folding": [
     0
    ]
   },
   "outputs": [],
   "source": [
    "# Amino Acid Code:\n",
    "\n",
    "Amino_acid_abbreviations = {'Ala': 'A', 'Arg': 'R', 'Asn': 'N', 'Asp': 'D',\\\n",
    "                           'Cys': 'C', 'Glu': 'E', 'Gln': 'Q', 'Gly': 'G',\\\n",
    "                           'His': 'H', 'Ile': 'I', 'Leu': 'L', 'Lys': 'K',\\\n",
    "                           'Met': 'M', 'Phe': 'F', 'Pro': 'P', 'Ser': 'S',\\\n",
    "                           'Thr': 'T', 'Trp': 'W', 'Tyr': 'Y', 'Val': 'V', '*': '*'}\n",
    "\n",
    "Genetic_Code = {'TTT': 'Phe', 'TTC': 'Phe', 'TTA': 'Leu', 'TTG': 'Leu',\\\n",
    "               'TCT': 'Ser', 'TCC': 'Ser', 'TCA': 'Ser', 'TCG': 'Ser',\\\n",
    "               'TAT': 'Tyr', 'TAC': 'Tyr', 'TAA': '*', 'TAG': '*',\\\n",
    "               'TGT': 'Cys', 'TGC': 'Cys', 'TGA': '*', 'TGG': 'Trp',\\\n",
    "               'CTT': 'Leu', 'CTC': 'Leu', 'CTA': 'Leu', 'CTG': 'Leu',\\\n",
    "               'CCT': 'Pro', 'CCC': 'Pro', 'CCA': 'Pro', 'CCG': 'Pro',\\\n",
    "               'CAT': 'His', 'CAC': 'His', 'CAA': 'Gln', 'CAG': 'Gln',\\\n",
    "               'CGT': 'Arg', 'CGC': 'Arg', 'CGA': 'Arg', 'CGG': 'Arg',\\\n",
    "               'ATT': 'Ile', 'ATC': 'Ile', 'ATA': 'Ile', 'ATG': 'Met',\\\n",
    "               'ACT': 'Thr', 'ACC': 'Thr', 'ACA': 'Thr', 'ACG': 'Thr',\\\n",
    "               'AAT': 'Asn', 'AAC': 'Asn', 'AAA': 'Lys', 'AAG': 'Lys',\\\n",
    "               'AGT': 'Ser', 'AGC': 'Ser', 'AGA': 'Arg', 'AGG': 'Arg',\\\n",
    "               'GTT': 'Val', 'GTC': 'Val', 'GTA': 'Val', 'GTG': 'Val',\\\n",
    "               'GCT': 'Ala', 'GCC': 'Ala', 'GCA': 'Ala', 'GCG': 'Ala',\\\n",
    "               'GAT': 'Asp', 'GAC': 'Asp', 'GAA': 'Glu', 'GAG': 'Glu',\\\n",
    "               'GGT': 'Gly', 'GGC': 'Gly', 'GGA': 'Gly', 'GGG': 'Gly'}\n",
    "\n",
    "base_alternative = {'A': ['T', 'C', 'G'], 'T': ['A', 'C', 'G'], 'G':['A', 'C', 'T'], 'C':['A', 'G', 'T']}"
   ]
  },
  {
   "cell_type": "code",
   "execution_count": 4,
   "metadata": {},
   "outputs": [],
   "source": [
    "Possible_AA_Changes = {}\n",
    "Possible_Base_Changes = {}\n",
    "Possible_Codon_Changes = {}\n",
    "for k, v in Genetic_Code.items():\n",
    "    codon = k\n",
    "    base_1 = str(codon[0])\n",
    "    base_2 = str(codon[1])\n",
    "    base_3 = str(codon[2])\n",
    "    new_codons = []\n",
    "    amino_acid_changes = []\n",
    "    base_changes = []\n",
    "    if base_1 in base_alternative.keys():\n",
    "        alternate_base = base_alternative[base_1]\n",
    "        for i in alternate_base:\n",
    "            base_changes.append(i)\n",
    "            new_codon = i+base_2+base_3\n",
    "            new_codons.append(new_codon)\n",
    "    if base_2 in base_alternative.keys():\n",
    "        alternate_base = base_alternative[base_2]\n",
    "        for i in alternate_base:\n",
    "            base_changes.append(i)\n",
    "            new_codon = base_1+i+base_3\n",
    "            new_codons.append(new_codon)\n",
    "    if base_3 in base_alternative.keys():\n",
    "        alternate_base = base_alternative[base_3]\n",
    "        for i in alternate_base:\n",
    "            base_changes.append(i)\n",
    "            new_codon = base_1+base_2+i\n",
    "            new_codons.append(new_codon)\n",
    "    Possible_Codon_Changes[k]=(new_codons[0],new_codons[1], new_codons[2], new_codons[3], new_codons[4],\\\n",
    "                               new_codons[5], new_codons[6], new_codons[7], new_codons[8]) #i.e. {'TTT': ['ATT', 'CTT', 'GTT'...etc]}\n",
    "    Possible_Base_Changes[k]=(base_changes[0], base_changes[1], base_changes[2], base_changes[3], base_changes[4],\\\n",
    "                              base_changes[5], base_changes[6], base_changes[7], base_changes[8]) #i.e. {'TTT': ['A', 'C', 'G'... etc]}\n",
    "    \n",
    "Possible_Amino_Acid_Changes = {}\n",
    "for k, v in Possible_Codon_Changes.items():\n",
    "    codon = k\n",
    "    codon_changes = v\n",
    "    amino_acid_changes = []\n",
    "    for i in codon_changes:\n",
    "        amino_acid_change = Genetic_Code[i]\n",
    "        amino_acid_changes.append(amino_acid_change)\n",
    "    Possible_Amino_Acid_Changes[k]=(amino_acid_changes[0], amino_acid_changes[1], amino_acid_changes[2],\\\n",
    "                                    amino_acid_changes[3], amino_acid_changes[4], amino_acid_changes[5],\\\n",
    "                                    amino_acid_changes[6], amino_acid_changes[7], amino_acid_changes[8]) #i.e. {'TTT': ['Ile', 'Leu', 'Val'...etc]}\n",
    "    \n",
    "Possible_Amino_Acid_Changes_letters = {}\n",
    "for k, v in Possible_Amino_Acid_Changes.items():\n",
    "    codon = k\n",
    "    codon_changes = v\n",
    "    amino_acid_changes_letters = []\n",
    "    for i in codon_changes:\n",
    "        amino_acid_change_letter = Amino_acid_abbreviations[i]\n",
    "        amino_acid_changes_letters.append(amino_acid_change_letter)\n",
    "    Possible_Amino_Acid_Changes_letters[k]=(amino_acid_changes_letters[0], amino_acid_changes_letters[1],\\\n",
    "                                            amino_acid_changes_letters[2], amino_acid_changes_letters[3],\\\n",
    "                                            amino_acid_changes_letters[4], amino_acid_changes_letters[5],\\\n",
    "                                            amino_acid_changes_letters[6], amino_acid_changes_letters[7],\\\n",
    "                                            amino_acid_changes_letters[8]) #i.e. {'TTT': ['I', 'L', 'V'...etc]}"
   ]
  },
  {
   "cell_type": "code",
   "execution_count": 5,
   "metadata": {},
   "outputs": [
    {
     "data": {
      "text/plain": [
       "{'TTT': ('ATT', 'CTT', 'GTT', 'TAT', 'TCT', 'TGT', 'TTA', 'TTC', 'TTG'),\n",
       " 'TTC': ('ATC', 'CTC', 'GTC', 'TAC', 'TCC', 'TGC', 'TTA', 'TTG', 'TTT'),\n",
       " 'TTA': ('ATA', 'CTA', 'GTA', 'TAA', 'TCA', 'TGA', 'TTT', 'TTC', 'TTG'),\n",
       " 'TTG': ('ATG', 'CTG', 'GTG', 'TAG', 'TCG', 'TGG', 'TTA', 'TTC', 'TTT'),\n",
       " 'TCT': ('ACT', 'CCT', 'GCT', 'TAT', 'TGT', 'TTT', 'TCA', 'TCC', 'TCG'),\n",
       " 'TCC': ('ACC', 'CCC', 'GCC', 'TAC', 'TGC', 'TTC', 'TCA', 'TCG', 'TCT'),\n",
       " 'TCA': ('ACA', 'CCA', 'GCA', 'TAA', 'TGA', 'TTA', 'TCT', 'TCC', 'TCG'),\n",
       " 'TCG': ('ACG', 'CCG', 'GCG', 'TAG', 'TGG', 'TTG', 'TCA', 'TCC', 'TCT'),\n",
       " 'TAT': ('AAT', 'CAT', 'GAT', 'TTT', 'TCT', 'TGT', 'TAA', 'TAC', 'TAG'),\n",
       " 'TAC': ('AAC', 'CAC', 'GAC', 'TTC', 'TCC', 'TGC', 'TAA', 'TAG', 'TAT'),\n",
       " 'TAA': ('AAA', 'CAA', 'GAA', 'TTA', 'TCA', 'TGA', 'TAT', 'TAC', 'TAG'),\n",
       " 'TAG': ('AAG', 'CAG', 'GAG', 'TTG', 'TCG', 'TGG', 'TAA', 'TAC', 'TAT'),\n",
       " 'TGT': ('AGT', 'CGT', 'GGT', 'TAT', 'TCT', 'TTT', 'TGA', 'TGC', 'TGG'),\n",
       " 'TGC': ('AGC', 'CGC', 'GGC', 'TAC', 'TCC', 'TTC', 'TGA', 'TGG', 'TGT'),\n",
       " 'TGA': ('AGA', 'CGA', 'GGA', 'TAA', 'TCA', 'TTA', 'TGT', 'TGC', 'TGG'),\n",
       " 'TGG': ('AGG', 'CGG', 'GGG', 'TAG', 'TCG', 'TTG', 'TGA', 'TGC', 'TGT'),\n",
       " 'CTT': ('ATT', 'GTT', 'TTT', 'CAT', 'CCT', 'CGT', 'CTA', 'CTC', 'CTG'),\n",
       " 'CTC': ('ATC', 'GTC', 'TTC', 'CAC', 'CCC', 'CGC', 'CTA', 'CTG', 'CTT'),\n",
       " 'CTA': ('ATA', 'GTA', 'TTA', 'CAA', 'CCA', 'CGA', 'CTT', 'CTC', 'CTG'),\n",
       " 'CTG': ('ATG', 'GTG', 'TTG', 'CAG', 'CCG', 'CGG', 'CTA', 'CTC', 'CTT'),\n",
       " 'CCT': ('ACT', 'GCT', 'TCT', 'CAT', 'CGT', 'CTT', 'CCA', 'CCC', 'CCG'),\n",
       " 'CCC': ('ACC', 'GCC', 'TCC', 'CAC', 'CGC', 'CTC', 'CCA', 'CCG', 'CCT'),\n",
       " 'CCA': ('ACA', 'GCA', 'TCA', 'CAA', 'CGA', 'CTA', 'CCT', 'CCC', 'CCG'),\n",
       " 'CCG': ('ACG', 'GCG', 'TCG', 'CAG', 'CGG', 'CTG', 'CCA', 'CCC', 'CCT'),\n",
       " 'CAT': ('AAT', 'GAT', 'TAT', 'CTT', 'CCT', 'CGT', 'CAA', 'CAC', 'CAG'),\n",
       " 'CAC': ('AAC', 'GAC', 'TAC', 'CTC', 'CCC', 'CGC', 'CAA', 'CAG', 'CAT'),\n",
       " 'CAA': ('AAA', 'GAA', 'TAA', 'CTA', 'CCA', 'CGA', 'CAT', 'CAC', 'CAG'),\n",
       " 'CAG': ('AAG', 'GAG', 'TAG', 'CTG', 'CCG', 'CGG', 'CAA', 'CAC', 'CAT'),\n",
       " 'CGT': ('AGT', 'GGT', 'TGT', 'CAT', 'CCT', 'CTT', 'CGA', 'CGC', 'CGG'),\n",
       " 'CGC': ('AGC', 'GGC', 'TGC', 'CAC', 'CCC', 'CTC', 'CGA', 'CGG', 'CGT'),\n",
       " 'CGA': ('AGA', 'GGA', 'TGA', 'CAA', 'CCA', 'CTA', 'CGT', 'CGC', 'CGG'),\n",
       " 'CGG': ('AGG', 'GGG', 'TGG', 'CAG', 'CCG', 'CTG', 'CGA', 'CGC', 'CGT'),\n",
       " 'ATT': ('TTT', 'CTT', 'GTT', 'AAT', 'ACT', 'AGT', 'ATA', 'ATC', 'ATG'),\n",
       " 'ATC': ('TTC', 'CTC', 'GTC', 'AAC', 'ACC', 'AGC', 'ATA', 'ATG', 'ATT'),\n",
       " 'ATA': ('TTA', 'CTA', 'GTA', 'AAA', 'ACA', 'AGA', 'ATT', 'ATC', 'ATG'),\n",
       " 'ATG': ('TTG', 'CTG', 'GTG', 'AAG', 'ACG', 'AGG', 'ATA', 'ATC', 'ATT'),\n",
       " 'ACT': ('TCT', 'CCT', 'GCT', 'AAT', 'AGT', 'ATT', 'ACA', 'ACC', 'ACG'),\n",
       " 'ACC': ('TCC', 'CCC', 'GCC', 'AAC', 'AGC', 'ATC', 'ACA', 'ACG', 'ACT'),\n",
       " 'ACA': ('TCA', 'CCA', 'GCA', 'AAA', 'AGA', 'ATA', 'ACT', 'ACC', 'ACG'),\n",
       " 'ACG': ('TCG', 'CCG', 'GCG', 'AAG', 'AGG', 'ATG', 'ACA', 'ACC', 'ACT'),\n",
       " 'AAT': ('TAT', 'CAT', 'GAT', 'ATT', 'ACT', 'AGT', 'AAA', 'AAC', 'AAG'),\n",
       " 'AAC': ('TAC', 'CAC', 'GAC', 'ATC', 'ACC', 'AGC', 'AAA', 'AAG', 'AAT'),\n",
       " 'AAA': ('TAA', 'CAA', 'GAA', 'ATA', 'ACA', 'AGA', 'AAT', 'AAC', 'AAG'),\n",
       " 'AAG': ('TAG', 'CAG', 'GAG', 'ATG', 'ACG', 'AGG', 'AAA', 'AAC', 'AAT'),\n",
       " 'AGT': ('TGT', 'CGT', 'GGT', 'AAT', 'ACT', 'ATT', 'AGA', 'AGC', 'AGG'),\n",
       " 'AGC': ('TGC', 'CGC', 'GGC', 'AAC', 'ACC', 'ATC', 'AGA', 'AGG', 'AGT'),\n",
       " 'AGA': ('TGA', 'CGA', 'GGA', 'AAA', 'ACA', 'ATA', 'AGT', 'AGC', 'AGG'),\n",
       " 'AGG': ('TGG', 'CGG', 'GGG', 'AAG', 'ACG', 'ATG', 'AGA', 'AGC', 'AGT'),\n",
       " 'GTT': ('ATT', 'CTT', 'TTT', 'GAT', 'GCT', 'GGT', 'GTA', 'GTC', 'GTG'),\n",
       " 'GTC': ('ATC', 'CTC', 'TTC', 'GAC', 'GCC', 'GGC', 'GTA', 'GTG', 'GTT'),\n",
       " 'GTA': ('ATA', 'CTA', 'TTA', 'GAA', 'GCA', 'GGA', 'GTT', 'GTC', 'GTG'),\n",
       " 'GTG': ('ATG', 'CTG', 'TTG', 'GAG', 'GCG', 'GGG', 'GTA', 'GTC', 'GTT'),\n",
       " 'GCT': ('ACT', 'CCT', 'TCT', 'GAT', 'GGT', 'GTT', 'GCA', 'GCC', 'GCG'),\n",
       " 'GCC': ('ACC', 'CCC', 'TCC', 'GAC', 'GGC', 'GTC', 'GCA', 'GCG', 'GCT'),\n",
       " 'GCA': ('ACA', 'CCA', 'TCA', 'GAA', 'GGA', 'GTA', 'GCT', 'GCC', 'GCG'),\n",
       " 'GCG': ('ACG', 'CCG', 'TCG', 'GAG', 'GGG', 'GTG', 'GCA', 'GCC', 'GCT'),\n",
       " 'GAT': ('AAT', 'CAT', 'TAT', 'GTT', 'GCT', 'GGT', 'GAA', 'GAC', 'GAG'),\n",
       " 'GAC': ('AAC', 'CAC', 'TAC', 'GTC', 'GCC', 'GGC', 'GAA', 'GAG', 'GAT'),\n",
       " 'GAA': ('AAA', 'CAA', 'TAA', 'GTA', 'GCA', 'GGA', 'GAT', 'GAC', 'GAG'),\n",
       " 'GAG': ('AAG', 'CAG', 'TAG', 'GTG', 'GCG', 'GGG', 'GAA', 'GAC', 'GAT'),\n",
       " 'GGT': ('AGT', 'CGT', 'TGT', 'GAT', 'GCT', 'GTT', 'GGA', 'GGC', 'GGG'),\n",
       " 'GGC': ('AGC', 'CGC', 'TGC', 'GAC', 'GCC', 'GTC', 'GGA', 'GGG', 'GGT'),\n",
       " 'GGA': ('AGA', 'CGA', 'TGA', 'GAA', 'GCA', 'GTA', 'GGT', 'GGC', 'GGG'),\n",
       " 'GGG': ('AGG', 'CGG', 'TGG', 'GAG', 'GCG', 'GTG', 'GGA', 'GGC', 'GGT')}"
      ]
     },
     "execution_count": 5,
     "metadata": {},
     "output_type": "execute_result"
    }
   ],
   "source": [
    "Possible_Codon_Changes"
   ]
  },
  {
   "cell_type": "code",
   "execution_count": 6,
   "metadata": {},
   "outputs": [
    {
     "data": {
      "text/plain": [
       "{'TTT': ('A', 'C', 'G', 'A', 'C', 'G', 'A', 'C', 'G'),\n",
       " 'TTC': ('A', 'C', 'G', 'A', 'C', 'G', 'A', 'G', 'T'),\n",
       " 'TTA': ('A', 'C', 'G', 'A', 'C', 'G', 'T', 'C', 'G'),\n",
       " 'TTG': ('A', 'C', 'G', 'A', 'C', 'G', 'A', 'C', 'T'),\n",
       " 'TCT': ('A', 'C', 'G', 'A', 'G', 'T', 'A', 'C', 'G'),\n",
       " 'TCC': ('A', 'C', 'G', 'A', 'G', 'T', 'A', 'G', 'T'),\n",
       " 'TCA': ('A', 'C', 'G', 'A', 'G', 'T', 'T', 'C', 'G'),\n",
       " 'TCG': ('A', 'C', 'G', 'A', 'G', 'T', 'A', 'C', 'T'),\n",
       " 'TAT': ('A', 'C', 'G', 'T', 'C', 'G', 'A', 'C', 'G'),\n",
       " 'TAC': ('A', 'C', 'G', 'T', 'C', 'G', 'A', 'G', 'T'),\n",
       " 'TAA': ('A', 'C', 'G', 'T', 'C', 'G', 'T', 'C', 'G'),\n",
       " 'TAG': ('A', 'C', 'G', 'T', 'C', 'G', 'A', 'C', 'T'),\n",
       " 'TGT': ('A', 'C', 'G', 'A', 'C', 'T', 'A', 'C', 'G'),\n",
       " 'TGC': ('A', 'C', 'G', 'A', 'C', 'T', 'A', 'G', 'T'),\n",
       " 'TGA': ('A', 'C', 'G', 'A', 'C', 'T', 'T', 'C', 'G'),\n",
       " 'TGG': ('A', 'C', 'G', 'A', 'C', 'T', 'A', 'C', 'T'),\n",
       " 'CTT': ('A', 'G', 'T', 'A', 'C', 'G', 'A', 'C', 'G'),\n",
       " 'CTC': ('A', 'G', 'T', 'A', 'C', 'G', 'A', 'G', 'T'),\n",
       " 'CTA': ('A', 'G', 'T', 'A', 'C', 'G', 'T', 'C', 'G'),\n",
       " 'CTG': ('A', 'G', 'T', 'A', 'C', 'G', 'A', 'C', 'T'),\n",
       " 'CCT': ('A', 'G', 'T', 'A', 'G', 'T', 'A', 'C', 'G'),\n",
       " 'CCC': ('A', 'G', 'T', 'A', 'G', 'T', 'A', 'G', 'T'),\n",
       " 'CCA': ('A', 'G', 'T', 'A', 'G', 'T', 'T', 'C', 'G'),\n",
       " 'CCG': ('A', 'G', 'T', 'A', 'G', 'T', 'A', 'C', 'T'),\n",
       " 'CAT': ('A', 'G', 'T', 'T', 'C', 'G', 'A', 'C', 'G'),\n",
       " 'CAC': ('A', 'G', 'T', 'T', 'C', 'G', 'A', 'G', 'T'),\n",
       " 'CAA': ('A', 'G', 'T', 'T', 'C', 'G', 'T', 'C', 'G'),\n",
       " 'CAG': ('A', 'G', 'T', 'T', 'C', 'G', 'A', 'C', 'T'),\n",
       " 'CGT': ('A', 'G', 'T', 'A', 'C', 'T', 'A', 'C', 'G'),\n",
       " 'CGC': ('A', 'G', 'T', 'A', 'C', 'T', 'A', 'G', 'T'),\n",
       " 'CGA': ('A', 'G', 'T', 'A', 'C', 'T', 'T', 'C', 'G'),\n",
       " 'CGG': ('A', 'G', 'T', 'A', 'C', 'T', 'A', 'C', 'T'),\n",
       " 'ATT': ('T', 'C', 'G', 'A', 'C', 'G', 'A', 'C', 'G'),\n",
       " 'ATC': ('T', 'C', 'G', 'A', 'C', 'G', 'A', 'G', 'T'),\n",
       " 'ATA': ('T', 'C', 'G', 'A', 'C', 'G', 'T', 'C', 'G'),\n",
       " 'ATG': ('T', 'C', 'G', 'A', 'C', 'G', 'A', 'C', 'T'),\n",
       " 'ACT': ('T', 'C', 'G', 'A', 'G', 'T', 'A', 'C', 'G'),\n",
       " 'ACC': ('T', 'C', 'G', 'A', 'G', 'T', 'A', 'G', 'T'),\n",
       " 'ACA': ('T', 'C', 'G', 'A', 'G', 'T', 'T', 'C', 'G'),\n",
       " 'ACG': ('T', 'C', 'G', 'A', 'G', 'T', 'A', 'C', 'T'),\n",
       " 'AAT': ('T', 'C', 'G', 'T', 'C', 'G', 'A', 'C', 'G'),\n",
       " 'AAC': ('T', 'C', 'G', 'T', 'C', 'G', 'A', 'G', 'T'),\n",
       " 'AAA': ('T', 'C', 'G', 'T', 'C', 'G', 'T', 'C', 'G'),\n",
       " 'AAG': ('T', 'C', 'G', 'T', 'C', 'G', 'A', 'C', 'T'),\n",
       " 'AGT': ('T', 'C', 'G', 'A', 'C', 'T', 'A', 'C', 'G'),\n",
       " 'AGC': ('T', 'C', 'G', 'A', 'C', 'T', 'A', 'G', 'T'),\n",
       " 'AGA': ('T', 'C', 'G', 'A', 'C', 'T', 'T', 'C', 'G'),\n",
       " 'AGG': ('T', 'C', 'G', 'A', 'C', 'T', 'A', 'C', 'T'),\n",
       " 'GTT': ('A', 'C', 'T', 'A', 'C', 'G', 'A', 'C', 'G'),\n",
       " 'GTC': ('A', 'C', 'T', 'A', 'C', 'G', 'A', 'G', 'T'),\n",
       " 'GTA': ('A', 'C', 'T', 'A', 'C', 'G', 'T', 'C', 'G'),\n",
       " 'GTG': ('A', 'C', 'T', 'A', 'C', 'G', 'A', 'C', 'T'),\n",
       " 'GCT': ('A', 'C', 'T', 'A', 'G', 'T', 'A', 'C', 'G'),\n",
       " 'GCC': ('A', 'C', 'T', 'A', 'G', 'T', 'A', 'G', 'T'),\n",
       " 'GCA': ('A', 'C', 'T', 'A', 'G', 'T', 'T', 'C', 'G'),\n",
       " 'GCG': ('A', 'C', 'T', 'A', 'G', 'T', 'A', 'C', 'T'),\n",
       " 'GAT': ('A', 'C', 'T', 'T', 'C', 'G', 'A', 'C', 'G'),\n",
       " 'GAC': ('A', 'C', 'T', 'T', 'C', 'G', 'A', 'G', 'T'),\n",
       " 'GAA': ('A', 'C', 'T', 'T', 'C', 'G', 'T', 'C', 'G'),\n",
       " 'GAG': ('A', 'C', 'T', 'T', 'C', 'G', 'A', 'C', 'T'),\n",
       " 'GGT': ('A', 'C', 'T', 'A', 'C', 'T', 'A', 'C', 'G'),\n",
       " 'GGC': ('A', 'C', 'T', 'A', 'C', 'T', 'A', 'G', 'T'),\n",
       " 'GGA': ('A', 'C', 'T', 'A', 'C', 'T', 'T', 'C', 'G'),\n",
       " 'GGG': ('A', 'C', 'T', 'A', 'C', 'T', 'A', 'C', 'T')}"
      ]
     },
     "execution_count": 6,
     "metadata": {},
     "output_type": "execute_result"
    }
   ],
   "source": [
    "Possible_Base_Changes"
   ]
  },
  {
   "cell_type": "code",
   "execution_count": 7,
   "metadata": {},
   "outputs": [
    {
     "data": {
      "text/plain": [
       "{'TTT': ('Ile', 'Leu', 'Val', 'Tyr', 'Ser', 'Cys', 'Leu', 'Phe', 'Leu'),\n",
       " 'TTC': ('Ile', 'Leu', 'Val', 'Tyr', 'Ser', 'Cys', 'Leu', 'Leu', 'Phe'),\n",
       " 'TTA': ('Ile', 'Leu', 'Val', '*', 'Ser', '*', 'Phe', 'Phe', 'Leu'),\n",
       " 'TTG': ('Met', 'Leu', 'Val', '*', 'Ser', 'Trp', 'Leu', 'Phe', 'Phe'),\n",
       " 'TCT': ('Thr', 'Pro', 'Ala', 'Tyr', 'Cys', 'Phe', 'Ser', 'Ser', 'Ser'),\n",
       " 'TCC': ('Thr', 'Pro', 'Ala', 'Tyr', 'Cys', 'Phe', 'Ser', 'Ser', 'Ser'),\n",
       " 'TCA': ('Thr', 'Pro', 'Ala', '*', '*', 'Leu', 'Ser', 'Ser', 'Ser'),\n",
       " 'TCG': ('Thr', 'Pro', 'Ala', '*', 'Trp', 'Leu', 'Ser', 'Ser', 'Ser'),\n",
       " 'TAT': ('Asn', 'His', 'Asp', 'Phe', 'Ser', 'Cys', '*', 'Tyr', '*'),\n",
       " 'TAC': ('Asn', 'His', 'Asp', 'Phe', 'Ser', 'Cys', '*', '*', 'Tyr'),\n",
       " 'TAA': ('Lys', 'Gln', 'Glu', 'Leu', 'Ser', '*', 'Tyr', 'Tyr', '*'),\n",
       " 'TAG': ('Lys', 'Gln', 'Glu', 'Leu', 'Ser', 'Trp', '*', 'Tyr', 'Tyr'),\n",
       " 'TGT': ('Ser', 'Arg', 'Gly', 'Tyr', 'Ser', 'Phe', '*', 'Cys', 'Trp'),\n",
       " 'TGC': ('Ser', 'Arg', 'Gly', 'Tyr', 'Ser', 'Phe', '*', 'Trp', 'Cys'),\n",
       " 'TGA': ('Arg', 'Arg', 'Gly', '*', 'Ser', 'Leu', 'Cys', 'Cys', 'Trp'),\n",
       " 'TGG': ('Arg', 'Arg', 'Gly', '*', 'Ser', 'Leu', '*', 'Cys', 'Cys'),\n",
       " 'CTT': ('Ile', 'Val', 'Phe', 'His', 'Pro', 'Arg', 'Leu', 'Leu', 'Leu'),\n",
       " 'CTC': ('Ile', 'Val', 'Phe', 'His', 'Pro', 'Arg', 'Leu', 'Leu', 'Leu'),\n",
       " 'CTA': ('Ile', 'Val', 'Leu', 'Gln', 'Pro', 'Arg', 'Leu', 'Leu', 'Leu'),\n",
       " 'CTG': ('Met', 'Val', 'Leu', 'Gln', 'Pro', 'Arg', 'Leu', 'Leu', 'Leu'),\n",
       " 'CCT': ('Thr', 'Ala', 'Ser', 'His', 'Arg', 'Leu', 'Pro', 'Pro', 'Pro'),\n",
       " 'CCC': ('Thr', 'Ala', 'Ser', 'His', 'Arg', 'Leu', 'Pro', 'Pro', 'Pro'),\n",
       " 'CCA': ('Thr', 'Ala', 'Ser', 'Gln', 'Arg', 'Leu', 'Pro', 'Pro', 'Pro'),\n",
       " 'CCG': ('Thr', 'Ala', 'Ser', 'Gln', 'Arg', 'Leu', 'Pro', 'Pro', 'Pro'),\n",
       " 'CAT': ('Asn', 'Asp', 'Tyr', 'Leu', 'Pro', 'Arg', 'Gln', 'His', 'Gln'),\n",
       " 'CAC': ('Asn', 'Asp', 'Tyr', 'Leu', 'Pro', 'Arg', 'Gln', 'Gln', 'His'),\n",
       " 'CAA': ('Lys', 'Glu', '*', 'Leu', 'Pro', 'Arg', 'His', 'His', 'Gln'),\n",
       " 'CAG': ('Lys', 'Glu', '*', 'Leu', 'Pro', 'Arg', 'Gln', 'His', 'His'),\n",
       " 'CGT': ('Ser', 'Gly', 'Cys', 'His', 'Pro', 'Leu', 'Arg', 'Arg', 'Arg'),\n",
       " 'CGC': ('Ser', 'Gly', 'Cys', 'His', 'Pro', 'Leu', 'Arg', 'Arg', 'Arg'),\n",
       " 'CGA': ('Arg', 'Gly', '*', 'Gln', 'Pro', 'Leu', 'Arg', 'Arg', 'Arg'),\n",
       " 'CGG': ('Arg', 'Gly', 'Trp', 'Gln', 'Pro', 'Leu', 'Arg', 'Arg', 'Arg'),\n",
       " 'ATT': ('Phe', 'Leu', 'Val', 'Asn', 'Thr', 'Ser', 'Ile', 'Ile', 'Met'),\n",
       " 'ATC': ('Phe', 'Leu', 'Val', 'Asn', 'Thr', 'Ser', 'Ile', 'Met', 'Ile'),\n",
       " 'ATA': ('Leu', 'Leu', 'Val', 'Lys', 'Thr', 'Arg', 'Ile', 'Ile', 'Met'),\n",
       " 'ATG': ('Leu', 'Leu', 'Val', 'Lys', 'Thr', 'Arg', 'Ile', 'Ile', 'Ile'),\n",
       " 'ACT': ('Ser', 'Pro', 'Ala', 'Asn', 'Ser', 'Ile', 'Thr', 'Thr', 'Thr'),\n",
       " 'ACC': ('Ser', 'Pro', 'Ala', 'Asn', 'Ser', 'Ile', 'Thr', 'Thr', 'Thr'),\n",
       " 'ACA': ('Ser', 'Pro', 'Ala', 'Lys', 'Arg', 'Ile', 'Thr', 'Thr', 'Thr'),\n",
       " 'ACG': ('Ser', 'Pro', 'Ala', 'Lys', 'Arg', 'Met', 'Thr', 'Thr', 'Thr'),\n",
       " 'AAT': ('Tyr', 'His', 'Asp', 'Ile', 'Thr', 'Ser', 'Lys', 'Asn', 'Lys'),\n",
       " 'AAC': ('Tyr', 'His', 'Asp', 'Ile', 'Thr', 'Ser', 'Lys', 'Lys', 'Asn'),\n",
       " 'AAA': ('*', 'Gln', 'Glu', 'Ile', 'Thr', 'Arg', 'Asn', 'Asn', 'Lys'),\n",
       " 'AAG': ('*', 'Gln', 'Glu', 'Met', 'Thr', 'Arg', 'Lys', 'Asn', 'Asn'),\n",
       " 'AGT': ('Cys', 'Arg', 'Gly', 'Asn', 'Thr', 'Ile', 'Arg', 'Ser', 'Arg'),\n",
       " 'AGC': ('Cys', 'Arg', 'Gly', 'Asn', 'Thr', 'Ile', 'Arg', 'Arg', 'Ser'),\n",
       " 'AGA': ('*', 'Arg', 'Gly', 'Lys', 'Thr', 'Ile', 'Ser', 'Ser', 'Arg'),\n",
       " 'AGG': ('Trp', 'Arg', 'Gly', 'Lys', 'Thr', 'Met', 'Arg', 'Ser', 'Ser'),\n",
       " 'GTT': ('Ile', 'Leu', 'Phe', 'Asp', 'Ala', 'Gly', 'Val', 'Val', 'Val'),\n",
       " 'GTC': ('Ile', 'Leu', 'Phe', 'Asp', 'Ala', 'Gly', 'Val', 'Val', 'Val'),\n",
       " 'GTA': ('Ile', 'Leu', 'Leu', 'Glu', 'Ala', 'Gly', 'Val', 'Val', 'Val'),\n",
       " 'GTG': ('Met', 'Leu', 'Leu', 'Glu', 'Ala', 'Gly', 'Val', 'Val', 'Val'),\n",
       " 'GCT': ('Thr', 'Pro', 'Ser', 'Asp', 'Gly', 'Val', 'Ala', 'Ala', 'Ala'),\n",
       " 'GCC': ('Thr', 'Pro', 'Ser', 'Asp', 'Gly', 'Val', 'Ala', 'Ala', 'Ala'),\n",
       " 'GCA': ('Thr', 'Pro', 'Ser', 'Glu', 'Gly', 'Val', 'Ala', 'Ala', 'Ala'),\n",
       " 'GCG': ('Thr', 'Pro', 'Ser', 'Glu', 'Gly', 'Val', 'Ala', 'Ala', 'Ala'),\n",
       " 'GAT': ('Asn', 'His', 'Tyr', 'Val', 'Ala', 'Gly', 'Glu', 'Asp', 'Glu'),\n",
       " 'GAC': ('Asn', 'His', 'Tyr', 'Val', 'Ala', 'Gly', 'Glu', 'Glu', 'Asp'),\n",
       " 'GAA': ('Lys', 'Gln', '*', 'Val', 'Ala', 'Gly', 'Asp', 'Asp', 'Glu'),\n",
       " 'GAG': ('Lys', 'Gln', '*', 'Val', 'Ala', 'Gly', 'Glu', 'Asp', 'Asp'),\n",
       " 'GGT': ('Ser', 'Arg', 'Cys', 'Asp', 'Ala', 'Val', 'Gly', 'Gly', 'Gly'),\n",
       " 'GGC': ('Ser', 'Arg', 'Cys', 'Asp', 'Ala', 'Val', 'Gly', 'Gly', 'Gly'),\n",
       " 'GGA': ('Arg', 'Arg', '*', 'Glu', 'Ala', 'Val', 'Gly', 'Gly', 'Gly'),\n",
       " 'GGG': ('Arg', 'Arg', 'Trp', 'Glu', 'Ala', 'Val', 'Gly', 'Gly', 'Gly')}"
      ]
     },
     "execution_count": 7,
     "metadata": {},
     "output_type": "execute_result"
    }
   ],
   "source": [
    "Possible_Amino_Acid_Changes"
   ]
  },
  {
   "cell_type": "code",
   "execution_count": 8,
   "metadata": {
    "scrolled": true
   },
   "outputs": [
    {
     "data": {
      "text/plain": [
       "{'TTT': ('I', 'L', 'V', 'Y', 'S', 'C', 'L', 'F', 'L'),\n",
       " 'TTC': ('I', 'L', 'V', 'Y', 'S', 'C', 'L', 'L', 'F'),\n",
       " 'TTA': ('I', 'L', 'V', '*', 'S', '*', 'F', 'F', 'L'),\n",
       " 'TTG': ('M', 'L', 'V', '*', 'S', 'W', 'L', 'F', 'F'),\n",
       " 'TCT': ('T', 'P', 'A', 'Y', 'C', 'F', 'S', 'S', 'S'),\n",
       " 'TCC': ('T', 'P', 'A', 'Y', 'C', 'F', 'S', 'S', 'S'),\n",
       " 'TCA': ('T', 'P', 'A', '*', '*', 'L', 'S', 'S', 'S'),\n",
       " 'TCG': ('T', 'P', 'A', '*', 'W', 'L', 'S', 'S', 'S'),\n",
       " 'TAT': ('N', 'H', 'D', 'F', 'S', 'C', '*', 'Y', '*'),\n",
       " 'TAC': ('N', 'H', 'D', 'F', 'S', 'C', '*', '*', 'Y'),\n",
       " 'TAA': ('K', 'Q', 'E', 'L', 'S', '*', 'Y', 'Y', '*'),\n",
       " 'TAG': ('K', 'Q', 'E', 'L', 'S', 'W', '*', 'Y', 'Y'),\n",
       " 'TGT': ('S', 'R', 'G', 'Y', 'S', 'F', '*', 'C', 'W'),\n",
       " 'TGC': ('S', 'R', 'G', 'Y', 'S', 'F', '*', 'W', 'C'),\n",
       " 'TGA': ('R', 'R', 'G', '*', 'S', 'L', 'C', 'C', 'W'),\n",
       " 'TGG': ('R', 'R', 'G', '*', 'S', 'L', '*', 'C', 'C'),\n",
       " 'CTT': ('I', 'V', 'F', 'H', 'P', 'R', 'L', 'L', 'L'),\n",
       " 'CTC': ('I', 'V', 'F', 'H', 'P', 'R', 'L', 'L', 'L'),\n",
       " 'CTA': ('I', 'V', 'L', 'Q', 'P', 'R', 'L', 'L', 'L'),\n",
       " 'CTG': ('M', 'V', 'L', 'Q', 'P', 'R', 'L', 'L', 'L'),\n",
       " 'CCT': ('T', 'A', 'S', 'H', 'R', 'L', 'P', 'P', 'P'),\n",
       " 'CCC': ('T', 'A', 'S', 'H', 'R', 'L', 'P', 'P', 'P'),\n",
       " 'CCA': ('T', 'A', 'S', 'Q', 'R', 'L', 'P', 'P', 'P'),\n",
       " 'CCG': ('T', 'A', 'S', 'Q', 'R', 'L', 'P', 'P', 'P'),\n",
       " 'CAT': ('N', 'D', 'Y', 'L', 'P', 'R', 'Q', 'H', 'Q'),\n",
       " 'CAC': ('N', 'D', 'Y', 'L', 'P', 'R', 'Q', 'Q', 'H'),\n",
       " 'CAA': ('K', 'E', '*', 'L', 'P', 'R', 'H', 'H', 'Q'),\n",
       " 'CAG': ('K', 'E', '*', 'L', 'P', 'R', 'Q', 'H', 'H'),\n",
       " 'CGT': ('S', 'G', 'C', 'H', 'P', 'L', 'R', 'R', 'R'),\n",
       " 'CGC': ('S', 'G', 'C', 'H', 'P', 'L', 'R', 'R', 'R'),\n",
       " 'CGA': ('R', 'G', '*', 'Q', 'P', 'L', 'R', 'R', 'R'),\n",
       " 'CGG': ('R', 'G', 'W', 'Q', 'P', 'L', 'R', 'R', 'R'),\n",
       " 'ATT': ('F', 'L', 'V', 'N', 'T', 'S', 'I', 'I', 'M'),\n",
       " 'ATC': ('F', 'L', 'V', 'N', 'T', 'S', 'I', 'M', 'I'),\n",
       " 'ATA': ('L', 'L', 'V', 'K', 'T', 'R', 'I', 'I', 'M'),\n",
       " 'ATG': ('L', 'L', 'V', 'K', 'T', 'R', 'I', 'I', 'I'),\n",
       " 'ACT': ('S', 'P', 'A', 'N', 'S', 'I', 'T', 'T', 'T'),\n",
       " 'ACC': ('S', 'P', 'A', 'N', 'S', 'I', 'T', 'T', 'T'),\n",
       " 'ACA': ('S', 'P', 'A', 'K', 'R', 'I', 'T', 'T', 'T'),\n",
       " 'ACG': ('S', 'P', 'A', 'K', 'R', 'M', 'T', 'T', 'T'),\n",
       " 'AAT': ('Y', 'H', 'D', 'I', 'T', 'S', 'K', 'N', 'K'),\n",
       " 'AAC': ('Y', 'H', 'D', 'I', 'T', 'S', 'K', 'K', 'N'),\n",
       " 'AAA': ('*', 'Q', 'E', 'I', 'T', 'R', 'N', 'N', 'K'),\n",
       " 'AAG': ('*', 'Q', 'E', 'M', 'T', 'R', 'K', 'N', 'N'),\n",
       " 'AGT': ('C', 'R', 'G', 'N', 'T', 'I', 'R', 'S', 'R'),\n",
       " 'AGC': ('C', 'R', 'G', 'N', 'T', 'I', 'R', 'R', 'S'),\n",
       " 'AGA': ('*', 'R', 'G', 'K', 'T', 'I', 'S', 'S', 'R'),\n",
       " 'AGG': ('W', 'R', 'G', 'K', 'T', 'M', 'R', 'S', 'S'),\n",
       " 'GTT': ('I', 'L', 'F', 'D', 'A', 'G', 'V', 'V', 'V'),\n",
       " 'GTC': ('I', 'L', 'F', 'D', 'A', 'G', 'V', 'V', 'V'),\n",
       " 'GTA': ('I', 'L', 'L', 'E', 'A', 'G', 'V', 'V', 'V'),\n",
       " 'GTG': ('M', 'L', 'L', 'E', 'A', 'G', 'V', 'V', 'V'),\n",
       " 'GCT': ('T', 'P', 'S', 'D', 'G', 'V', 'A', 'A', 'A'),\n",
       " 'GCC': ('T', 'P', 'S', 'D', 'G', 'V', 'A', 'A', 'A'),\n",
       " 'GCA': ('T', 'P', 'S', 'E', 'G', 'V', 'A', 'A', 'A'),\n",
       " 'GCG': ('T', 'P', 'S', 'E', 'G', 'V', 'A', 'A', 'A'),\n",
       " 'GAT': ('N', 'H', 'Y', 'V', 'A', 'G', 'E', 'D', 'E'),\n",
       " 'GAC': ('N', 'H', 'Y', 'V', 'A', 'G', 'E', 'E', 'D'),\n",
       " 'GAA': ('K', 'Q', '*', 'V', 'A', 'G', 'D', 'D', 'E'),\n",
       " 'GAG': ('K', 'Q', '*', 'V', 'A', 'G', 'E', 'D', 'D'),\n",
       " 'GGT': ('S', 'R', 'C', 'D', 'A', 'V', 'G', 'G', 'G'),\n",
       " 'GGC': ('S', 'R', 'C', 'D', 'A', 'V', 'G', 'G', 'G'),\n",
       " 'GGA': ('R', 'R', '*', 'E', 'A', 'V', 'G', 'G', 'G'),\n",
       " 'GGG': ('R', 'R', 'W', 'E', 'A', 'V', 'G', 'G', 'G')}"
      ]
     },
     "execution_count": 8,
     "metadata": {},
     "output_type": "execute_result"
    }
   ],
   "source": [
    "Possible_Amino_Acid_Changes_letters"
   ]
  },
  {
   "cell_type": "markdown",
   "metadata": {},
   "source": [
    "# Mutation rates"
   ]
  },
  {
   "cell_type": "code",
   "execution_count": 10,
   "metadata": {
    "code_folding": []
   },
   "outputs": [],
   "source": [
    "#Import mutation rates\n",
    "import csv\n",
    "filename=\"Trinucleotide_context_mutation_rates.csv\" #csv file containing trinucleotide-context specific mutation rates (calculated from Lee-Six et al 2018 data)\n",
    "\n",
    "with open(filename, 'r') as csvfile:\n",
    "    read_reader = csv.reader(csvfile)  #csv.reader returns a reader object which will iterate over lines in the csvfile\n",
    "    row_count=0\n",
    "    Mutation_rates = {} #create a dictionary where key = trincucleotide site, value = mutation rate\n",
    "\n",
    "    for row in read_reader:\n",
    "        if row_count>0:\n",
    "            site = row[0] #trinucleotide site\n",
    "            comp_site = row[2] #complementary site\n",
    "            if site != '':\n",
    "                mutation_rate = float(row[7])\n",
    "                Mutation_rates[site] = mutation_rate\n",
    "                Mutation_rates[comp_site] = mutation_rate\n",
    "        row_count = row_count+1"
   ]
  },
  {
   "cell_type": "markdown",
   "metadata": {},
   "source": [
    "# Functions to calculate mutation rates from genome coordinates"
   ]
  },
  {
   "cell_type": "markdown",
   "metadata": {},
   "source": [
    "#### Function to convert .seq to string"
   ]
  },
  {
   "cell_type": "markdown",
   "metadata": {},
   "source": [
    "- from https://github.com/SBRG/ssbio/blob/master/ssbio/protein/sequence/utils/utils.py"
   ]
  },
  {
   "cell_type": "code",
   "execution_count": 11,
   "metadata": {
    "code_folding": [
     0
    ]
   },
   "outputs": [],
   "source": [
    "def cast_to_str(obj):\n",
    "    \"\"\"Return a string representation of a Seq or SeqRecord.\n",
    "\n",
    "    Args:\n",
    "        obj (str, Seq, SeqRecord): Biopython Seq or SeqRecord\n",
    "\n",
    "    Returns:\n",
    "        str: String representation of the sequence\n",
    "\n",
    "    \"\"\"\n",
    "\n",
    "    if isinstance(obj, str):\n",
    "        return obj\n",
    "    if isinstance(obj, Seq):\n",
    "        return str(obj)\n",
    "    if isinstance(obj, SeqRecord):\n",
    "        return str(obj.seq)\n",
    "    else:\n",
    "        raise ValueError('Must provide a string, Seq, or SeqRecord object.') "
   ]
  },
  {
   "cell_type": "markdown",
   "metadata": {},
   "source": [
    "#### Function to download coding sequence + coding sequence with extra bases each end"
   ]
  },
  {
   "cell_type": "markdown",
   "metadata": {},
   "source": [
    "- Using Entrez.efetch, you specify the genome assembly by using the id of the chromosome you want to search."
   ]
  },
  {
   "cell_type": "code",
   "execution_count": 12,
   "metadata": {
    "code_folding": []
   },
   "outputs": [],
   "source": [
    "# hg19 chromosome ID dictionary\n",
    "# hg19 id's (for RefSeq) are here: https://www.ncbi.nlm.nih.gov/assembly/GCF_000001405.25/\n",
    "hg19_chromosome_ID = {'chr1': 'NC_000001.10', 'chr2':'NC_000002.11', 'chr3':'NC_000003.11',\\\n",
    "                     'chr4':'NC_000004.11', 'chr5':'NC_000005.9', 'chr6': 'NC_000006.11',\\\n",
    "                     'chr7': 'NC_000007.13', 'chr8': 'NC_000008.10', 'chr9': 'NC_000009.11',\\\n",
    "                     'chr10': 'NC_000010.10', 'chr11': 'NC_000011.9', 'chr12': 'NC_000012.11',\\\n",
    "                     'chr13': 'NC_000013.10', 'chr14': 'NC_000014.8', 'chr15': 'NC_000015.9',\\\n",
    "                     'chr16': 'NC_000016.9', 'chr17': 'NC_000017.10', 'chr18': 'NC_000018.9',\\\n",
    "                     'chr19': 'NC_000019.9', 'chr20': 'NC_000020.10', 'chr21': 'NC_000021.8',\\\n",
    "                     'chr22': 'NC_000022.10', 'chrX': 'NC_000023.10', 'chrY': 'NC_000024.9'}"
   ]
  },
  {
   "cell_type": "code",
   "execution_count": 13,
   "metadata": {
    "code_folding": []
   },
   "outputs": [],
   "source": [
    "# Strand number dictionary (where '+' = 1 and '-' = 2)\n",
    "strand_number = {'+': 1, '-': 2}"
   ]
  },
  {
   "cell_type": "code",
   "execution_count": 14,
   "metadata": {
    "code_folding": []
   },
   "outputs": [],
   "source": [
    "# Function to retrieve the DNA sequence given the genome coordinates and strand (+ or -)\n",
    "def sequence(chromosome, start_position, end_position, strand):\n",
    "    Entrez.email = #email address here\n",
    "    chromosome_ID = hg19_chromosome_ID[chromosome]\n",
    "    strand_orientation = strand_number[strand]\n",
    "    handle = Entrez.efetch(db=\"nucleotide\", \n",
    "                       id=chromosome_ID, \n",
    "                       rettype=\"fasta\", \n",
    "                       strand=strand_orientation, #1 = plus strand, 2=minus strand\n",
    "                       seq_start=int(start_position), \n",
    "                       seq_stop=int(end_position))\n",
    "    record = SeqIO.read(handle, \"fasta\")\n",
    "    sequence_record = cast_to_str(record)\n",
    "    handle.close()\n",
    "    return sequence_record"
   ]
  },
  {
   "cell_type": "code",
   "execution_count": 15,
   "metadata": {
    "code_folding": []
   },
   "outputs": [],
   "source": [
    "# Function to retrieve the DNA sequence given the genome coordinates and strand (+ or -) with the addition\n",
    "# of an extra base at the start and an extra base at the end (so can calculate the trinucleotide context)\n",
    "# of the bases at the ends of the targeted sequence.\n",
    "def sequence_plus_minus_one(chromosome, start_position, end_position, strand):\n",
    "    Entrez.email = #email address here\n",
    "    chromosome_ID = hg19_chromosome_ID[chromosome]\n",
    "    strand_orientation = strand_number[strand]\n",
    "    handle = Entrez.efetch(db=\"nucleotide\", \n",
    "                       id=chromosome_ID, \n",
    "                       rettype=\"fasta\", \n",
    "                       strand=strand_orientation, #1 = plus strand, 2=minus strand\n",
    "                       seq_start=int(start_position)-1, \n",
    "                       seq_stop=int(end_position)+1)\n",
    "    record = SeqIO.read(handle, \"fasta\")\n",
    "    sequence_record = cast_to_str(record)\n",
    "    handle.close()\n",
    "    return sequence_record"
   ]
  },
  {
   "cell_type": "code",
   "execution_count": 16,
   "metadata": {
    "code_folding": []
   },
   "outputs": [],
   "source": [
    "# Function to retrieve the DNA sequence given the genome coordinates and strand (+ or -) with the addition\n",
    "# of 2 extra bases at the start and an extra base at the end (so can calculate the trinucleotide context).\n",
    "def sequence_plus_minus_two(chromosome, start_position, end_position, strand):\n",
    "    Entrez.email = #email address here\n",
    "    chromosome_ID = hg19_chromosome_ID[chromosome]\n",
    "    strand_orientation = strand_number[strand]\n",
    "    handle = Entrez.efetch(db=\"nucleotide\", \n",
    "                       id=chromosome_ID, \n",
    "                       rettype=\"fasta\", \n",
    "                       strand=strand_orientation, #1 = plus strand, 2=minus strand\n",
    "                       seq_start=int(start_position)-2, \n",
    "                       seq_stop=int(end_position)+2)\n",
    "    record = SeqIO.read(handle, \"fasta\")\n",
    "    sequence_record = cast_to_str(record)\n",
    "    handle.close()\n",
    "    return sequence_record"
   ]
  },
  {
   "cell_type": "markdown",
   "metadata": {},
   "source": [
    "### Calculating mutation rates for synonymous variants from genomic coordinates"
   ]
  },
  {
   "cell_type": "code",
   "execution_count": 17,
   "metadata": {
    "code_folding": []
   },
   "outputs": [],
   "source": [
    "#function outputs the summed mutation rate across the region\n",
    "def synonymous_mutation_rate_across_gene (coding_sequence, coding_sequence_extra_bases, start_of_region, end_of_region):\n",
    "    codons = [coding_sequence[i:i+3] for i in range(0, len(coding_sequence), 3)]\n",
    "    \n",
    "    synonymous_codons_DICT = {}\n",
    "    synonymous_codons = []\n",
    "    synonymous_codons_only={}\n",
    "    position_in_list_dict_synonymous={}\n",
    "    number_of_codons = int((len(coding_sequence))/3)\n",
    "    \n",
    "    #List of all amino acid positions (across whole coding region) covered (amino acid position minus 1 (as python starts at 0))\n",
    "    for i in range(0, number_of_codons):\n",
    "        synonymous_codons_DICT[i+1]= (codons[i])\n",
    "\n",
    "    synonymous_calls = {}\n",
    "    for k,v in synonymous_codons_DICT.items(): #iterating over the list of codon numbers (and codon sequences)\n",
    "        if v in Possible_Amino_Acid_Changes.keys(): #assign the list of all the possible amino acid changes to each codon they called\n",
    "            changes = Possible_Amino_Acid_Changes_letters[v]\n",
    "            synonymous_calls[k]=(v, changes)\n",
    "            \n",
    "    #Changing the original amino acid to a Word (e.g. Phe) rather than a codon\n",
    "    synonymous_calls2 = {}\n",
    "    for k, v in synonymous_calls.items():\n",
    "        if v[0] in Genetic_Code:\n",
    "            Amino_acid_change = Genetic_Code.get(v[0])\n",
    "            synonymous_calls2[k] = (v[0], Amino_acid_change, v[1])\n",
    "\n",
    "    #Changing the original amino acid to a LETTER (rather than the codon)\n",
    "    synonymous_calls3 = {}\n",
    "    for k, v in synonymous_calls2.items():\n",
    "        if v[1] in Amino_acid_abbreviations:\n",
    "            Amino_acid_abbrev = Amino_acid_abbreviations.get(v[1])\n",
    "            synonymous_calls3[k] = (v[0], Amino_acid_abbrev, v[2])\n",
    "    \n",
    "    #Create a dictionary that contains details of the positions of synonymous variants at that codon\n",
    "    synonymous_positions = {}\n",
    "\n",
    "    for k, v in synonymous_calls3.items():\n",
    "        original_AA = v[1]\n",
    "        possible_AA_changes = v[2]\n",
    "        possible_AA_changes_string = ''.join(v[2])\n",
    "        positions_in_list = []\n",
    "        for i in possible_AA_changes:\n",
    "            if i == original_AA: #synonymous\n",
    "                position_in_list=-1\n",
    "                synonymous_change = i    \n",
    "                while True:\n",
    "                    position_in_list = possible_AA_changes_string.find(synonymous_change, position_in_list+1)\n",
    "    #               print(position_in_list)\n",
    "                    if position_in_list == -1: break\n",
    "                    positions_in_list.append(position_in_list)\n",
    "                    positions_in_list = set(positions_in_list) #convert into a 'set' to remove duplicate positions\n",
    "                    positions_in_list = list(positions_in_list) #convert back to a list so can be added to dictionary\n",
    "        synonymous_positions[k]=(v, positions_in_list)      \n",
    "\n",
    "    # Create a dictionary that contains original codon seq, base change positions and what the base changes are\n",
    "    synonymous_bases = {}\n",
    "    for k, v in synonymous_positions.items():\n",
    "    #     print(v[0][0])\n",
    "        codon_seq = v[0][0]\n",
    "        base_changes=[]\n",
    "        if codon_seq in Possible_Base_Changes.keys():\n",
    "            list_of_possible_bases = Possible_Base_Changes.get(codon_seq)\n",
    "        for i in v[1]: #iterate over the base positions that synonymous variants are present at:\n",
    "            base_change_position = i\n",
    "            base_change = list_of_possible_bases[base_change_position]\n",
    "            base_changes.append(base_change)\n",
    "        synonymous_bases[k]=(v[0][0], v[1], base_changes)\n",
    "\n",
    "    #Create dictionary which contains original codon seq and details on which base is changed\n",
    "    synonymous_bases2 = {}\n",
    "\n",
    "    for k, v in synonymous_bases.items():\n",
    "        base_change_positions = v[1]\n",
    "        codon_positions = []\n",
    "        positions_in_gene = []\n",
    "        for i in base_change_positions:\n",
    "            base_change_position = i\n",
    "            if base_change_position <= 2:\n",
    "                codon_pos = 1\n",
    "            if 2 < base_change_position <= 5:\n",
    "                codon_pos = 2\n",
    "            if 5 < base_change_position <= 8:\n",
    "                codon_pos = 3\n",
    "            codon_positions.append(codon_pos)\n",
    "        synonymous_bases2[k] = (v, codon_positions)\n",
    "        \n",
    "    #Create dictionary which contains original codon seq, details on which base is changed and it's position in the coding region\n",
    "    synonymous_bases3 = {}\n",
    "\n",
    "    for k, v in synonymous_bases2.items():\n",
    "        codon_positions = v[1]\n",
    "        base_changes = v[0][2]\n",
    "        original_bases = []\n",
    "        positions_in_gene = []\n",
    "        for i in codon_positions:\n",
    "            codon_pos = i\n",
    "            position_in_gene = ((int(k)-1)*3)+codon_pos #codon number minus 1 (e.g. codon 307 -1 = 306, then times by 3 takes you to beginning of codon 307 (then add the position))  \n",
    "            positions_in_gene.append(position_in_gene)\n",
    "            original_base = (v[0][0][codon_pos-1])\n",
    "            original_bases.append(original_base)\n",
    "        synonymous_bases3[k] = (v[0][0], positions_in_gene, original_bases, base_changes)\n",
    "\n",
    "    #Create dictionary which contains original codon seq, details on which base is changed and its neighbouring bases\n",
    "    synonymous_bases4 = {}\n",
    "\n",
    "    for k, v in synonymous_bases3.items():\n",
    "        position_in_gene = v[1]\n",
    "        sites_trio_synonymous=[]\n",
    "        for i in position_in_gene:\n",
    "            gene_pos = i\n",
    "            site_trio_synonymous = [coding_sequence_extra_bases[gene_pos:gene_pos+3] for gene_pos in range (gene_pos-1, gene_pos, 3)]\n",
    "            sites_trio_synonymous.append(site_trio_synonymous)\n",
    "            synonymous_bases4[k] = (v, sites_trio_synonymous)\n",
    "\n",
    "    #Create a dictionary containing pos in coding region, original base, new base, base affected with its neighbours\n",
    "    #e.g. 938, G, A, TGG = base 938 on coding region, original base = G, changes to base A, base with neighbours either side = TGG\n",
    "    synonymous_bases5 = {}\n",
    "\n",
    "    a=0\n",
    "    for k, v in synonymous_bases4.items():\n",
    "        codon_n = v[0][1] #base number in codon\n",
    "        original_base = v[0][2]\n",
    "        new_base = v[0][3]\n",
    "        site_trio = v[1]\n",
    "        info=[]\n",
    "\n",
    "        change = 0\n",
    "        for i in codon_n:\n",
    "            codon_number = i\n",
    "            orig_base = original_base[change]\n",
    "            n_base = new_base[change]\n",
    "            site_tri = site_trio[change]\n",
    "            info.append([codon_number, orig_base, n_base, site_tri])\n",
    "            change = change+1\n",
    "        synonymous_bases5[a]=info\n",
    "        a=a+1\n",
    "\n",
    "    # Write in a way that can iterate over mutation rates (i.e. put in to form C[C>A]G etc)   \n",
    "    synonymous_bases6={}\n",
    "\n",
    "    separating_positions = {} # separate out all the possible changes to just 1 effective item in the list\n",
    "    a=0\n",
    "    for k, v in synonymous_bases5.items():\n",
    "        for i in v: #because some contain more than 1 change from that codon:\n",
    "            separating_positions[a]=i\n",
    "            a=a+1\n",
    "\n",
    "    for k, v in separating_positions.items():\n",
    "        base_pos = v[0]\n",
    "        original_base = v[1]\n",
    "        new_base = v[2]\n",
    "        site_trio = v[3]\n",
    "        sequence = (str(original_base),str(new_base))\n",
    "        changes = '>'.join(sequence)\n",
    "        left_base = site_trio[0][0]\n",
    "        right_base = site_trio[0][2]\n",
    "        sequence2 = (changes, right_base)\n",
    "        changes2 = ']'.join(sequence2)\n",
    "        sequence3 = (left_base, changes2)\n",
    "        changes3 = '['.join(sequence3)\n",
    "        synonymous_bases6[k] = (v[0],changes3) #site_trio = the affected base and its neighbours\n",
    "\n",
    "    #Assign the mutation rates to each site...\n",
    "    synonymous_mutation_rates = {}\n",
    "    for k, v in synonymous_bases6.items():\n",
    "        base_change_info = v[1]\n",
    "        if base_change_info in Mutation_rates.keys():\n",
    "            mutation_rate = Mutation_rates.get(base_change_info)\n",
    "            synonymous_mutation_rates[k] = (v, mutation_rate)\n",
    "\n",
    "    #Get the average of all the mutation rates\n",
    "    mutation_rate_synonymous_sum = []\n",
    "    for k, v in synonymous_mutation_rates.items():\n",
    "        mutation_rate = v[1]\n",
    "        mutation_rate_synonymous_sum.append(mutation_rate)\n",
    "\n",
    "    Average_mutation_rate_synonymous = np.mean(mutation_rate_synonymous_sum)\n",
    "    Mutation_rate_synonymous_added = np.sum(mutation_rate_synonymous_sum)\n",
    "    \n",
    "#     print('Average synonymous mutation rate across region = ', Average_mutation_rate_synonymous)\n",
    "#     print('Total summed synonymous mutation rate across region (store as output) = ', Average_mutation_rate_synonymous_added)\n",
    "    \n",
    "    return Mutation_rate_synonymous_added"
   ]
  },
  {
   "cell_type": "code",
   "execution_count": 18,
   "metadata": {
    "code_folding": []
   },
   "outputs": [],
   "source": [
    "# function for including the first 1 or 2 bases of codon:\n",
    "def synonymous_mutation_rate_first_2_bases_of_codons(regions_partial_codons):\n",
    "    sum_mutation_rate_first_partial_codons=[]\n",
    "\n",
    "    for k in regions_partial_codons.keys():\n",
    "    #     if k == 16:\n",
    "        values = regions_partial_codons[k]\n",
    "        chromosome = values[1]\n",
    "        start = values[2]\n",
    "        end = values[3]\n",
    "        strand = values[4]\n",
    "        regions_included = values[6]\n",
    "\n",
    "        if regions_included == 'first_base' or regions_included == 'first_2_bases':\n",
    "            length_of_region = (int(end)-int(start))+1\n",
    "            coding_sequence_extra_bases = sequence_plus_minus_one(chromosome, start, end, strand)\n",
    "            coding_sequence_extra_2_bases = sequence_plus_minus_two(chromosome, start, end, strand)\n",
    "            coding_sequence = sequence(chromosome, start, end, strand)\n",
    "#             print(values)\n",
    "#             print(coding_sequence_extra_2_bases)\n",
    "#             print(coding_sequence_extra_bases)\n",
    "#             print(coding_sequence)\n",
    "\n",
    "            #coding sequence = last 2 bases of 671 (CT), so 671 codon = ACT\n",
    "            synonymous_codons_DICT={}\n",
    "            if regions_included == 'first_2_bases':\n",
    "                regions_to_include = 6 #<6\n",
    "                synonymous_codons_DICT[1]=(coding_sequence_extra_bases[1:4])\n",
    "                lower_range = 2\n",
    "\n",
    "            if regions_included == 'first_base':\n",
    "                regions_to_include = 3 #<3\n",
    "                synonymous_codons_DICT[1]=(coding_sequence_extra_2_bases[1:4])\n",
    "                lower_range = 3\n",
    "\n",
    "#             synonymous_codons_DICT = {1: 'ACT'}\n",
    "\n",
    "#             print('synonymous_codons_DICT = ', synonymous_codons_DICT)\n",
    "\n",
    "            synonymous_calls = {}\n",
    "            for k,v in synonymous_codons_DICT.items(): #iterating over the list of codon numbers (and codon sequences)\n",
    "                if v in Possible_Amino_Acid_Changes.keys(): #assign the list of all the possible amino acid changes to each codon they called\n",
    "                    changes = Possible_Amino_Acid_Changes_letters[v]\n",
    "                    synonymous_calls[k]=(v, changes)\n",
    "\n",
    "#             print('synonymous_calls = ', synonymous_calls)\n",
    "\n",
    "            #Changing the original amino acid to a Word (e.g. Phe) rather than a codon\n",
    "            synonymous_calls2 = {}\n",
    "            for k, v in synonymous_calls.items():\n",
    "                if v[0] in Genetic_Code:\n",
    "                    Amino_acid_change = Genetic_Code.get(v[0])\n",
    "                    synonymous_calls2[k] = (v[0], Amino_acid_change, v[1])\n",
    "\n",
    "#             print('synonymous calls2 =', synonymous_calls2)\n",
    "\n",
    "            #Changing the original amino acid to a LETTER (rather than the codon)\n",
    "            synonymous_calls3 = {}\n",
    "            for k, v in synonymous_calls2.items():\n",
    "                if v[1] in Amino_acid_abbreviations:\n",
    "                    Amino_acid_abbrev = Amino_acid_abbreviations.get(v[1])\n",
    "                    synonymous_calls3[k] = (v[0], Amino_acid_abbrev, v[2])\n",
    "\n",
    "#             print('synonymous calls3 =', synonymous_calls3)\n",
    "\n",
    "            #Create a dictionary that contains details of the positions of synonymous variants at that codon\n",
    "            synonymous_positions = {}\n",
    "\n",
    "            for k, v in synonymous_calls3.items():\n",
    "                original_AA = v[1]\n",
    "                possible_AA_changes = v[2]\n",
    "                possible_AA_changes_string = ''.join(v[2])\n",
    "                positions_in_list = []\n",
    "                for i in possible_AA_changes:\n",
    "                    if i == original_AA: #synonymous\n",
    "                        position_in_list=-1\n",
    "                        synonymous_change = i    \n",
    "                        while True:\n",
    "                            position_in_list = possible_AA_changes_string.find(synonymous_change, position_in_list+1)\n",
    "            #               print(position_in_list)\n",
    "                            if position_in_list == -1: break\n",
    "                            if position_in_list < regions_to_include: #THIS MEANS IT WILL IGNORE THE BASES OF THE CODON NOT INCLUDED IN REGION TARGETED)\n",
    "                                positions_in_list.append(position_in_list)\n",
    "                                positions_in_list = set(positions_in_list) #convert into a 'set' to remove duplicate positions\n",
    "                                positions_in_list = list(positions_in_list) #convert back to a list so can be added to dictionary\n",
    "                    synonymous_positions[k]=(v, positions_in_list)   \n",
    "\n",
    "#             print('synonymous positions =', synonymous_positions)\n",
    "\n",
    "            # Create a dictionary that contains original codon seq, base change positions and what the base changes are\n",
    "            synonymous_bases = {}\n",
    "            for k, v in synonymous_positions.items():\n",
    "            #     print(v[0][0])\n",
    "                codon_seq = v[0][0]\n",
    "                base_changes=[]\n",
    "                if codon_seq in Possible_Base_Changes.keys():\n",
    "                    list_of_possible_bases = Possible_Base_Changes.get(codon_seq)\n",
    "                for i in v[1]: #iterate over the base positions that synonymous variants are present at:\n",
    "                    base_change_position = i\n",
    "                    base_change = list_of_possible_bases[base_change_position]\n",
    "                    base_changes.append(base_change)\n",
    "                synonymous_bases[k]=(v[0][0], v[1], base_changes)\n",
    "\n",
    "#             print('synonymous bases =', synonymous_bases)\n",
    "\n",
    "            #Create dictionary which contains original codon seq and details on which base is changed\n",
    "            synonymous_bases2 = {}\n",
    "\n",
    "            for k, v in synonymous_bases.items():\n",
    "                base_change_positions = v[1]\n",
    "                codon_positions = []\n",
    "                positions_in_gene = []\n",
    "                for i in base_change_positions:\n",
    "                    base_change_position = i\n",
    "                    if base_change_position <= 2:\n",
    "                        codon_pos = 1\n",
    "                    if 2 < base_change_position <= 5:\n",
    "                        codon_pos = 2\n",
    "                    if 5 < base_change_position <= 8:\n",
    "                        codon_pos = 3\n",
    "                    codon_positions.append(codon_pos)\n",
    "                synonymous_bases2[k] = (v, codon_positions)\n",
    "\n",
    "#             print('synonymous bases2 =', synonymous_bases2)\n",
    "\n",
    "            #Create dictionary which contains original codon seq, details on which base is changed and it's position in the coding region\n",
    "            synonymous_bases3 = {}\n",
    "\n",
    "            for k, v in synonymous_bases2.items():\n",
    "                codon_positions = v[1]\n",
    "                base_changes = v[0][2]\n",
    "                original_bases = []\n",
    "                positions_in_gene = []\n",
    "                for i in codon_positions:\n",
    "                    codon_pos = i\n",
    "                    position_in_gene = ((int(k)-1)*3)+codon_pos #codon number (v[0][1][0]) minus 1 (e.g. codon 307 -1 = 306, then times by 3 takes you to beginning of codon 307 (then add the position))  \n",
    "                    positions_in_gene.append(position_in_gene)\n",
    "                    original_base = (v[0][0][codon_pos-1])\n",
    "                    original_bases.append(original_base)\n",
    "                synonymous_bases3[k] = (v[0][0], positions_in_gene, original_bases, base_changes)\n",
    "\n",
    "#             print('synonymous bases3 =', synonymous_bases3)\n",
    "\n",
    "            #Create dictionary which contains original codon seq, details on which base is changed and its neighbouring bases\n",
    "            synonymous_bases4 = {}\n",
    "\n",
    "            for k, v in synonymous_bases3.items():\n",
    "                position_in_gene = v[1]\n",
    "                sites_trio_synonymous=[]\n",
    "                for i in position_in_gene:\n",
    "                    gene_pos = i\n",
    "                    site_trio_synonymous = [coding_sequence_extra_bases[gene_pos:gene_pos+3] for gene_pos in range (gene_pos-1, gene_pos+lower_range, 3)]\n",
    "                    # THIS IS CHANGED TO GENE_POS-3 (for last base) or GENE_POS-2 (for last 2 bases) COMPARED TO THE STANDARD FUNCTION (WHICH IS GENE_POS-1)\n",
    "                    sites_trio_synonymous.append(site_trio_synonymous)\n",
    "                    synonymous_bases4[k] = (v, sites_trio_synonymous)\n",
    "\n",
    "#             print('synonymous bases4 =', synonymous_bases4)\n",
    "\n",
    "            #Create a dictionary containing pos in coding region, original base, new base, base affected with its neighbours\n",
    "            #e.g. 938, G, A, TGG = base 938 on coding region, original base = G, changes to base A, base with neighbours either side = TGG\n",
    "            synonymous_bases5 = {}\n",
    "\n",
    "            a=0\n",
    "            for k, v in synonymous_bases4.items():\n",
    "                codon_n = v[0][1] #base number in codon\n",
    "                original_base = v[0][2]\n",
    "                new_base = v[0][3]\n",
    "                site_trio = v[1]\n",
    "                info=[]\n",
    "\n",
    "                change = 0\n",
    "                for i in codon_n:\n",
    "                    codon_number = i\n",
    "                    orig_base = original_base[change]\n",
    "                    n_base = new_base[change]\n",
    "                    site_tri = site_trio[change]\n",
    "                    info.append([codon_number, orig_base, n_base, site_tri])\n",
    "                    change = change+1\n",
    "                synonymous_bases5[a]=info\n",
    "                a=a+1\n",
    "\n",
    "#             print('synonymous bases5 =', synonymous_bases5)\n",
    "\n",
    "            # Write in a way that can iterate over mutation rates (i.e. put in to form C[C>A]G etc)   \n",
    "            synonymous_bases6={}\n",
    "\n",
    "            separating_positions = {} # separate out all the possible changes to just 1 effective item in the list\n",
    "            a=0\n",
    "            for k, v in synonymous_bases5.items():\n",
    "                for i in v: #because some contain more than 1 change from that codon:\n",
    "                    separating_positions[a]=i\n",
    "                    a=a+1\n",
    "\n",
    "            for k, v in separating_positions.items():\n",
    "                base_pos = v[0]\n",
    "                original_base = v[1]\n",
    "                new_base = v[2]\n",
    "                site_trio = v[3]\n",
    "                seq = (str(original_base),str(new_base))\n",
    "                changes = '>'.join(seq)\n",
    "                left_base = site_trio[0][0]\n",
    "                right_base = site_trio[0][2]\n",
    "                sequence2 = (changes, right_base)\n",
    "                changes2 = ']'.join(sequence2)\n",
    "                sequence3 = (left_base, changes2)\n",
    "                changes3 = '['.join(sequence3)\n",
    "                synonymous_bases6[k] = (v[0],changes3) #site_trio = the affected base and its neighbours\n",
    "\n",
    "#             print('synonymous bases6 =', synonymous_bases6)\n",
    "\n",
    "            #Assign the mutation rates to each site...\n",
    "            synonymous_mutation_rates = {}\n",
    "            for k, v in synonymous_bases6.items():\n",
    "                base_change_info = v[1]\n",
    "                if base_change_info in Mutation_rates.keys():\n",
    "                    mutation_rate = Mutation_rates.get(base_change_info)\n",
    "                    synonymous_mutation_rates[k] = (v, mutation_rate)\n",
    "\n",
    "#             print('synonymous mutation rates =', synonymous_mutation_rates)\n",
    "\n",
    "            #Get the average of all the mutation rates\n",
    "            mutation_rate_synonymous_sum = []\n",
    "            for k, v in synonymous_mutation_rates.items():\n",
    "                mutation_rate = v[1]\n",
    "                mutation_rate_synonymous_sum.append(mutation_rate)\n",
    "\n",
    "#             print(\"mutation rate synonymous sum =\",mutation_rate_synonymous_sum)\n",
    "                \n",
    "#             Average_mutation_rate_synonymous = np.mean(mutation_rate_synonymous_sum)\n",
    "            Mutation_rate_synonymous_added = np.sum(mutation_rate_synonymous_sum)\n",
    "\n",
    "#             print('mutation rates summed =', Mutation_rate_synonymous_added)\n",
    "\n",
    "            #Add up the mutation rates in the region\n",
    "            sum_mutation_rate_first_partial_codons.append(Mutation_rate_synonymous_added)\n",
    "\n",
    "    #Add up the mutation rates across all the regions included in the input dictionary\n",
    "    summed_mutation_rate_first_partial_codons=np.sum(sum_mutation_rate_first_partial_codons)\n",
    "\n",
    "    print('summed mutation rate across all first partial codons =', summed_mutation_rate_first_partial_codons)\n",
    "    \n",
    "    return summed_mutation_rate_first_partial_codons"
   ]
  },
  {
   "cell_type": "code",
   "execution_count": 19,
   "metadata": {
    "code_folding": [],
    "scrolled": false
   },
   "outputs": [],
   "source": [
    "# function for including the last 1 or 2 bases of codon:\n",
    "def synonymous_mutation_rate_last_2_bases_of_codons(regions_partial_codons):\n",
    "    sum_mutation_rate_last_partial_codons=[]\n",
    "    for k in regions_partial_codons.keys():\n",
    "    #     if k == 17:\n",
    "        values = regions_partial_codons[k]\n",
    "        chromosome = values[1]\n",
    "        start = values[2]\n",
    "        end = values[3]\n",
    "        strand = values[4]\n",
    "        regions_included = values[6]\n",
    "\n",
    "        if regions_included == 'last_base' or regions_included == 'last_2_bases':\n",
    "            length_of_region = (int(end)-int(start))+1\n",
    "            coding_sequence_extra_bases = sequence_plus_minus_one(chromosome, start, end, strand)\n",
    "            coding_sequence_extra_2_bases = sequence_plus_minus_two(chromosome, start, end, strand)\n",
    "            coding_sequence = sequence(chromosome, start, end, strand)\n",
    "#             print(values)\n",
    "#             print(coding_sequence_extra_2_bases)\n",
    "#             print(coding_sequence_extra_bases)\n",
    "#             print(coding_sequence)\n",
    "\n",
    "            #coding sequence = last 2 bases of 671 (CT), so 671 codon = ACT\n",
    "            synonymous_codons_DICT={}\n",
    "            if regions_included == 'last_2_bases':\n",
    "                regions_to_include = 2 #>2\n",
    "                synonymous_codons_DICT[1]=(coding_sequence_extra_bases[0:3])\n",
    "                lower_range = 2\n",
    "\n",
    "            if regions_included == 'last_base':\n",
    "                regions_to_include = 5 #>5\n",
    "                synonymous_codons_DICT[1]=(coding_sequence_extra_2_bases[0:3])\n",
    "                lower_range = 3\n",
    "\n",
    "            # synonymous_codons_DICT = {1: 'ACT'}\n",
    "\n",
    "#             print('synonymous_codons_DICT = ', synonymous_codons_DICT)\n",
    "\n",
    "            synonymous_calls = {}\n",
    "            for k,v in synonymous_codons_DICT.items(): #iterating over the list of codon numbers (and codon sequences)\n",
    "                if v in Possible_Amino_Acid_Changes.keys(): #assign the list of all the possible amino acid changes to each codon they called\n",
    "                    changes = Possible_Amino_Acid_Changes_letters[v]\n",
    "                    synonymous_calls[k]=(v, changes)\n",
    "\n",
    "#             print('synonymous_calls = ', synonymous_calls)\n",
    "\n",
    "            #Changing the original amino acid to a Word (e.g. Phe) rather than a codon\n",
    "            synonymous_calls2 = {}\n",
    "            for k, v in synonymous_calls.items():\n",
    "                if v[0] in Genetic_Code:\n",
    "                    Amino_acid_change = Genetic_Code.get(v[0])\n",
    "                    synonymous_calls2[k] = (v[0], Amino_acid_change, v[1])\n",
    "\n",
    "#             print('synonymous calls2 =', synonymous_calls2)\n",
    "\n",
    "            #Changing the original amino acid to a LETTER (rather than the codon)\n",
    "            synonymous_calls3 = {}\n",
    "            for k, v in synonymous_calls2.items():\n",
    "                if v[1] in Amino_acid_abbreviations:\n",
    "                    Amino_acid_abbrev = Amino_acid_abbreviations.get(v[1])\n",
    "                    synonymous_calls3[k] = (v[0], Amino_acid_abbrev, v[2])\n",
    "\n",
    "#             print('synonymous calls3 =', synonymous_calls3)\n",
    "\n",
    "            #Create a dictionary that contains details of the positions of synonymous variants at that codon\n",
    "            synonymous_positions = {}\n",
    "\n",
    "            for k, v in synonymous_calls3.items():\n",
    "                original_AA = v[1]\n",
    "                possible_AA_changes = v[2]\n",
    "                possible_AA_changes_string = ''.join(v[2])\n",
    "                positions_in_list = []\n",
    "                for i in possible_AA_changes:\n",
    "                    if i == original_AA: #synonymous\n",
    "                        position_in_list=-1\n",
    "                        synonymous_change = i    \n",
    "                        while True:\n",
    "                            position_in_list = possible_AA_changes_string.find(synonymous_change, position_in_list+1)\n",
    "            #               print(position_in_list)\n",
    "                            if position_in_list == -1: break\n",
    "                            if position_in_list > regions_to_include: #THIS MEANS IT WILL IGNORE THE BASES OF THE CODON NOT INCLUDED IN REGION TARGETED)\n",
    "                                positions_in_list.append(position_in_list)\n",
    "                                positions_in_list = set(positions_in_list) #convert into a 'set' to remove duplicate positions\n",
    "                                positions_in_list = list(positions_in_list) #convert back to a list so can be added to dictionary\n",
    "                    synonymous_positions[k]=(v, positions_in_list)   \n",
    "\n",
    "#             print('synonymous positions =', synonymous_positions)\n",
    "\n",
    "            # Create a dictionary that contains original codon seq, base change positions and what the base changes are\n",
    "            synonymous_bases = {}\n",
    "            for k, v in synonymous_positions.items():\n",
    "            #     print(v[0][0])\n",
    "                codon_seq = v[0][0]\n",
    "                base_changes=[]\n",
    "                if codon_seq in Possible_Base_Changes.keys():\n",
    "                    list_of_possible_bases = Possible_Base_Changes.get(codon_seq)\n",
    "                for i in v[1]: #iterate over the base positions that synonymous variants are present at:\n",
    "                    base_change_position = i\n",
    "                    base_change = list_of_possible_bases[base_change_position]\n",
    "                    base_changes.append(base_change)\n",
    "                synonymous_bases[k]=(v[0][0], v[1], base_changes)\n",
    "\n",
    "#             print('synonymous bases =', synonymous_bases)\n",
    "\n",
    "            #Create dictionary which contains original codon seq and details on which base is changed\n",
    "            synonymous_bases2 = {}\n",
    "\n",
    "            for k, v in synonymous_bases.items():\n",
    "                base_change_positions = v[1]\n",
    "                codon_positions = []\n",
    "                positions_in_gene = []\n",
    "                for i in base_change_positions:\n",
    "                    base_change_position = i\n",
    "                    if base_change_position <= 2:\n",
    "                        codon_pos = 1\n",
    "                    if 2 < base_change_position <= 5:\n",
    "                        codon_pos = 2\n",
    "                    if 5 < base_change_position <= 8:\n",
    "                        codon_pos = 3\n",
    "                    codon_positions.append(codon_pos)\n",
    "                synonymous_bases2[k] = (v, codon_positions)\n",
    "\n",
    "#             print('synonymous bases2 =', synonymous_bases2)\n",
    "\n",
    "            #Create dictionary which contains original codon seq, details on which base is changed and it's position in the coding region\n",
    "            synonymous_bases3 = {}\n",
    "\n",
    "            for k, v in synonymous_bases2.items():\n",
    "                codon_positions = v[1]\n",
    "                base_changes = v[0][2]\n",
    "                original_bases = []\n",
    "                positions_in_gene = []\n",
    "                for i in codon_positions:\n",
    "                    codon_pos = i\n",
    "                    position_in_gene = ((int(k)-1)*3)+codon_pos #codon number (v[0][1][0]) minus 1 (e.g. codon 307 -1 = 306, then times by 3 takes you to beginning of codon 307 (then add the position))  \n",
    "                    positions_in_gene.append(position_in_gene)\n",
    "                    original_base = (v[0][0][codon_pos-1])\n",
    "                    original_bases.append(original_base)\n",
    "                synonymous_bases3[k] = (v[0][0], positions_in_gene, original_bases, base_changes)\n",
    "\n",
    "#             print('synonymous bases3 =', synonymous_bases3)\n",
    "\n",
    "            #Create dictionary which contains original codon seq, details on which base is changed and its neighbouring bases\n",
    "            synonymous_bases4 = {}\n",
    "\n",
    "            for k, v in synonymous_bases3.items():\n",
    "                position_in_gene = v[1]\n",
    "                sites_trio_synonymous=[]\n",
    "                for i in position_in_gene:\n",
    "                    gene_pos = i\n",
    "                    site_trio_synonymous = [coding_sequence_extra_bases[gene_pos:gene_pos+3] for gene_pos in range (gene_pos-lower_range, gene_pos, 3)]\n",
    "                    # THIS IS CHANGED TO GENE_POS-3 (for last base) or GENE_POS-2 (for last 2 bases) COMPARED TO THE STANDARD FUNCTION (WHICH IS GENE_POS-1)\n",
    "                    sites_trio_synonymous.append(site_trio_synonymous)\n",
    "                    synonymous_bases4[k] = (v, sites_trio_synonymous)\n",
    "\n",
    "#             print('synonymous bases4 =', synonymous_bases4)\n",
    "\n",
    "            #Create a dictionary containing pos in coding region, original base, new base, base affected with its neighbours\n",
    "            #e.g. 938, G, A, TGG = base 938 on coding region, original base = G, changes to base A, base with neighbours either side = TGG\n",
    "            synonymous_bases5 = {}\n",
    "\n",
    "            a=0\n",
    "            for k, v in synonymous_bases4.items():\n",
    "                codon_n = v[0][1] #base number in codon\n",
    "                original_base = v[0][2]\n",
    "                new_base = v[0][3]\n",
    "                site_trio = v[1]\n",
    "                info=[]\n",
    "\n",
    "                change = 0\n",
    "                for i in codon_n:\n",
    "                    codon_number = i\n",
    "                    orig_base = original_base[change]\n",
    "                    n_base = new_base[change]\n",
    "                    site_tri = site_trio[change]\n",
    "                    info.append([codon_number, orig_base, n_base, site_tri])\n",
    "                    change = change+1\n",
    "                synonymous_bases5[a]=info\n",
    "                a=a+1\n",
    "\n",
    "#             print('synonymous bases5 =', synonymous_bases5)\n",
    "\n",
    "            # Write in a way that can iterate over mutation rates (i.e. put in to form C[C>A]G etc)   \n",
    "            synonymous_bases6={}\n",
    "\n",
    "            separating_positions = {} # separate out all the possible changes to just 1 effective item in the list\n",
    "            a=0\n",
    "            for k, v in synonymous_bases5.items():\n",
    "                for i in v: #because some contain more than 1 change from that codon:\n",
    "                    separating_positions[a]=i\n",
    "                    a=a+1\n",
    "\n",
    "            for k, v in separating_positions.items():\n",
    "                base_pos = v[0]\n",
    "                original_base = v[1]\n",
    "                new_base = v[2]\n",
    "                site_trio = v[3]\n",
    "                seq = (str(original_base),str(new_base))\n",
    "                changes = '>'.join(seq)\n",
    "                left_base = site_trio[0][0]\n",
    "                right_base = site_trio[0][2]\n",
    "                sequence2 = (changes, right_base)\n",
    "                changes2 = ']'.join(sequence2)\n",
    "                sequence3 = (left_base, changes2)\n",
    "                changes3 = '['.join(sequence3)\n",
    "                synonymous_bases6[k] = (v[0],changes3) #site_trio = the affected base and its neighbours\n",
    "\n",
    "#             print('synonymous bases6 =', synonymous_bases6)\n",
    "\n",
    "            #Assign the mutation rates to each site...\n",
    "            synonymous_mutation_rates = {}\n",
    "            for k, v in synonymous_bases6.items():\n",
    "                base_change_info = v[1]\n",
    "                if base_change_info in Mutation_rates.keys():\n",
    "                    mutation_rate = Mutation_rates.get(base_change_info)\n",
    "                    synonymous_mutation_rates[k] = (v, mutation_rate)\n",
    "\n",
    "#             print('synonymous mutation rates =', synonymous_mutation_rates)\n",
    "\n",
    "            #Get the average of all the mutation rates\n",
    "            mutation_rate_synonymous_sum = []\n",
    "            for k, v in synonymous_mutation_rates.items():\n",
    "                mutation_rate = v[1]\n",
    "                mutation_rate_synonymous_sum.append(mutation_rate)\n",
    "\n",
    "            Average_mutation_rate_synonymous = np.mean(mutation_rate_synonymous_sum)\n",
    "            Mutation_rate_synonymous_added = np.sum(mutation_rate_synonymous_sum)\n",
    "\n",
    "#             print('mutation rates summed =', Mutation_rate_synonymous_added)\n",
    "\n",
    "            #calculate the summed mutation rate for the region\n",
    "            sum_mutation_rate_last_partial_codons.append(Mutation_rate_synonymous_added)\n",
    "\n",
    "    #add up the mutation rates across all the regions in the input dictionary\n",
    "    summed_mutation_rate_last_partial_codons=np.sum(sum_mutation_rate_last_partial_codons)\n",
    "\n",
    "    print('summed mutation rate across all last partial codons =', summed_mutation_rate_last_partial_codons)\n",
    "    \n",
    "    return summed_mutation_rate_last_partial_codons"
   ]
  },
  {
   "cell_type": "markdown",
   "metadata": {},
   "source": [
    "### Calculating mutation rates for nonsynonymous variants from genomic coordinates"
   ]
  },
  {
   "cell_type": "code",
   "execution_count": 20,
   "metadata": {
    "code_folding": []
   },
   "outputs": [],
   "source": [
    "#function outputs the summed nonsynonymous mutation rate across the region\n",
    "def nonsynonymous_mutation_rate_across_gene (coding_sequence, coding_sequence_extra_bases, start_of_region, end_of_region):\n",
    "    codons = [coding_sequence[i:i+3] for i in range(0, len(coding_sequence), 3)]\n",
    "    \n",
    "    nonsynonymous_codons_DICT = {}\n",
    "    nonsynonymous_codons = []\n",
    "    nonsynonymous_codons_only={}\n",
    "    position_in_list_dict_nonsynonymous={}\n",
    "    number_of_codons = int((len(coding_sequence))/3)\n",
    "    \n",
    "    #List of all amino acid positions (across whole coding region) covered (amino acid position minus 1 (as python starts at 0))\n",
    "    for i in range(0, number_of_codons):\n",
    "        nonsynonymous_codons_DICT[i+1]= (codons[i])\n",
    "        \n",
    "#     print('nonsynonymous_codons_DICT =', nonsynonymous_codons_DICT)\n",
    "\n",
    "    nonsynonymous_calls = {}\n",
    "    for k,v in nonsynonymous_codons_DICT.items(): #iterating over the list of codon numbers (and codon sequences)\n",
    "        if v in Possible_Amino_Acid_Changes.keys(): #assign the list of all the possible amino acid changes to each codon they called\n",
    "            changes = Possible_Amino_Acid_Changes_letters[v]\n",
    "            nonsynonymous_calls[k]=(v, changes)\n",
    "    \n",
    "#     print('nonsynonymous_calls =', nonsynonymous_calls)\n",
    "    \n",
    "    #Changing the original amino acid to a Word (e.g. Phe) rather than a codon\n",
    "    nonsynonymous_calls2 = {}\n",
    "    for k, v in nonsynonymous_calls.items():\n",
    "        if v[0] in Genetic_Code:\n",
    "            Amino_acid_change = Genetic_Code.get(v[0])\n",
    "            nonsynonymous_calls2[k] = (v[0], Amino_acid_change, v[1])\n",
    "\n",
    "#     print('nonsynonymous_calls2 =', nonsynonymous_calls2)        \n",
    "            \n",
    "    #Changing the original amino acid to a LETTER (rather than the codon)\n",
    "    nonsynonymous_calls3 = {}\n",
    "    for k, v in nonsynonymous_calls2.items():\n",
    "        if v[1] in Amino_acid_abbreviations:\n",
    "            Amino_acid_abbrev = Amino_acid_abbreviations.get(v[1])\n",
    "            nonsynonymous_calls3[k] = (v[0], Amino_acid_abbrev, v[2])\n",
    "            \n",
    "#     print('nonsynonymous_calls3 =', nonsynonymous_calls3)   \n",
    "    \n",
    "    #Create a dictionary that contains details of the positions of nonsynonymous variants at that codon\n",
    "    nonsynonymous_positions = {}\n",
    "\n",
    "    for k, v in nonsynonymous_calls3.items():\n",
    "        original_AA = v[1]\n",
    "        possible_AA_changes = v[2]\n",
    "        possible_AA_changes_string = ''.join(v[2])\n",
    "        positions_in_list = []\n",
    "        for i in possible_AA_changes:\n",
    "            if i != original_AA: #nonsynonymous\n",
    "                position_in_list=-1\n",
    "                nonsynonymous_change = i    \n",
    "                while True:\n",
    "                    position_in_list = possible_AA_changes_string.find(nonsynonymous_change, position_in_list+1)\n",
    "    #               print(position_in_list)\n",
    "                    if position_in_list == -1: break\n",
    "                    positions_in_list.append(position_in_list)\n",
    "                    positions_in_list = set(positions_in_list) #convert into a 'set' to remove duplicate positions\n",
    "                    positions_in_list = list(positions_in_list) #convert back to a list so can be added to dictionary\n",
    "        nonsynonymous_positions[k]=(v, positions_in_list)\n",
    "    \n",
    "#     print('nonsynonymous_positions =', nonsynonymous_positions)   \n",
    "\n",
    "    # Create a dictionary that contains original codon seq, base change positions and what the base changes are\n",
    "    nonsynonymous_bases = {}\n",
    "    for k, v in nonsynonymous_positions.items():\n",
    "    #     print(v[0][0])\n",
    "        codon_seq = v[0][0]\n",
    "        base_changes=[]\n",
    "        if codon_seq in Possible_Base_Changes.keys():\n",
    "            list_of_possible_bases = Possible_Base_Changes.get(codon_seq)\n",
    "        for i in v[1]: #iterate over the base positions that nonsynonymous variants are present at:\n",
    "            base_change_position = i\n",
    "            base_change = list_of_possible_bases[base_change_position]\n",
    "            base_changes.append(base_change)\n",
    "        nonsynonymous_bases[k]=(v[0][0], v[1], base_changes)\n",
    "\n",
    "#     print('nonsynonymous_bases =', nonsynonymous_bases)   \n",
    "        \n",
    "    #Create dictionary which contains original codon seq and details on which base is changed\n",
    "    nonsynonymous_bases2 = {}\n",
    "\n",
    "    for k, v in nonsynonymous_bases.items():\n",
    "        base_change_positions = v[1]\n",
    "        codon_positions = []\n",
    "        positions_in_gene = []\n",
    "        for i in base_change_positions:\n",
    "            base_change_position = i\n",
    "            if base_change_position <= 2:\n",
    "                codon_pos = 1\n",
    "            if 2 < base_change_position <= 5:\n",
    "                codon_pos = 2\n",
    "            if 5 < base_change_position <= 8:\n",
    "                codon_pos = 3\n",
    "            codon_positions.append(codon_pos)\n",
    "        nonsynonymous_bases2[k] = (v, codon_positions)\n",
    "    \n",
    "#     print('nonsynonymous_bases2 =', nonsynonymous_bases2)   \n",
    "        \n",
    "    #Create dictionary which contains original codon seq, details on which base is changed and it's position in the coding region\n",
    "    nonsynonymous_bases3 = {}\n",
    "\n",
    "    for k, v in nonsynonymous_bases2.items():\n",
    "        codon_positions = v[1]\n",
    "        base_changes = v[0][2]\n",
    "        original_bases = []\n",
    "        positions_in_gene = []\n",
    "        for i in codon_positions:\n",
    "            codon_pos = i\n",
    "            position_in_gene = ((int(k)-1)*3)+codon_pos #codon number minus 1 (e.g. codon 307 -1 = 306, then times by 3 takes you to beginning of codon 307 (then add the position))  \n",
    "            positions_in_gene.append(position_in_gene)\n",
    "            original_base = (v[0][0][codon_pos-1])\n",
    "            original_bases.append(original_base)\n",
    "        nonsynonymous_bases3[k] = (v[0][0], positions_in_gene, original_bases, base_changes)\n",
    "\n",
    "#     print('nonsynonymous_bases3 =', nonsynonymous_bases3)   \n",
    "        \n",
    "    #Create dictionary which contains original codon seq, details on which base is changed and its neighbouring bases\n",
    "    nonsynonymous_bases4 = {}\n",
    "\n",
    "    for k, v in nonsynonymous_bases3.items():\n",
    "        position_in_gene = v[1]\n",
    "        sites_trio_nonsynonymous=[]\n",
    "        for i in position_in_gene:\n",
    "            gene_pos = i\n",
    "            site_trio_nonsynonymous = [coding_sequence_extra_bases[gene_pos:gene_pos+3] for gene_pos in range (gene_pos-1, gene_pos, 3)]\n",
    "            sites_trio_nonsynonymous.append(site_trio_nonsynonymous)\n",
    "            nonsynonymous_bases4[k] = (v, sites_trio_nonsynonymous)\n",
    "\n",
    "#     print('nonsynonymous_bases4 =', nonsynonymous_bases4)          \n",
    "            \n",
    "    #Create a dictionary containing pos in coding region, original base, new base, base affected with its neighbours\n",
    "    #e.g. 938, G, A, TGG = base 938 on coding region, original base = G, changes to base A, base with neighbours either side = TGG\n",
    "    nonsynonymous_bases5 = {}\n",
    "\n",
    "    a=0\n",
    "    for k, v in nonsynonymous_bases4.items():\n",
    "        codon_n = v[0][1] #base number in codon\n",
    "        original_base = v[0][2]\n",
    "        new_base = v[0][3]\n",
    "        site_trio = v[1]\n",
    "        info=[]\n",
    "\n",
    "        change = 0\n",
    "        for i in codon_n:\n",
    "            codon_number = i\n",
    "            orig_base = original_base[change]\n",
    "            n_base = new_base[change]\n",
    "            site_tri = site_trio[change]\n",
    "            info.append([codon_number, orig_base, n_base, site_tri])\n",
    "            change = change+1\n",
    "        nonsynonymous_bases5[a]=info\n",
    "        a=a+1\n",
    "\n",
    "#     print('nonsynonymous_bases5 =', nonsynonymous_bases5)   \n",
    "        \n",
    "    # Write in a way that can iterate over mutation rates (i.e. put in to form C[C>A]G etc)   \n",
    "    nonsynonymous_bases6={}\n",
    "\n",
    "    separating_positions = {} # separate out all the possible changes to just 1 effective item in the list\n",
    "    a=0\n",
    "    for k, v in nonsynonymous_bases5.items():\n",
    "        for i in v: #because some contain more than 1 change from that codon:\n",
    "            separating_positions[a]=i\n",
    "            a=a+1\n",
    "\n",
    "    for k, v in separating_positions.items():\n",
    "        base_pos = v[0]\n",
    "        original_base = v[1]\n",
    "        new_base = v[2]\n",
    "        site_trio = v[3]\n",
    "        sequence = (str(original_base),str(new_base))\n",
    "        changes = '>'.join(sequence)\n",
    "        left_base = site_trio[0][0]\n",
    "        right_base = site_trio[0][2]\n",
    "        sequence2 = (changes, right_base)\n",
    "        changes2 = ']'.join(sequence2)\n",
    "        sequence3 = (left_base, changes2)\n",
    "        changes3 = '['.join(sequence3)\n",
    "        nonsynonymous_bases6[k] = (v[0],changes3) #site_trio = the affected base and its neighbours\n",
    "\n",
    "#     print('nonsynonymous_bases6 =', nonsynonymous_bases6)   \n",
    "        \n",
    "    #Assign the mutation rates to each site...\n",
    "    nonsynonymous_mutation_rates = {}\n",
    "    for k, v in nonsynonymous_bases6.items():\n",
    "        base_change_info = v[1]\n",
    "        if base_change_info in Mutation_rates.keys():\n",
    "            mutation_rate = Mutation_rates.get(base_change_info)\n",
    "            nonsynonymous_mutation_rates[k] = (v, mutation_rate)\n",
    "\n",
    "#     print('nonsynonymous_mutation_rates =', nonsynonymous_mutation_rates)   \n",
    "            \n",
    "    #Get the average of all the mutation rates\n",
    "    mutation_rate_nonsynonymous_sum = []\n",
    "    for k, v in nonsynonymous_mutation_rates.items():\n",
    "        mutation_rate = v[1]\n",
    "        mutation_rate_nonsynonymous_sum.append(mutation_rate)\n",
    "\n",
    "#     Average_mutation_rate_nonsynonymous = np.mean(mutation_rate_nonsynonymous_sum)\n",
    "    Mutation_rate_nonsynonymous_added = np.sum(mutation_rate_nonsynonymous_sum)\n",
    "    \n",
    "#     print('mutation rate nonsynonymous added =', Mutation_rate_nonsynonymous_added)   \n",
    "    \n",
    "    return Mutation_rate_nonsynonymous_added"
   ]
  },
  {
   "cell_type": "code",
   "execution_count": 21,
   "metadata": {
    "code_folding": []
   },
   "outputs": [],
   "source": [
    "# function for including the first 1 or 2 bases of codon:\n",
    "def nonsynonymous_mutation_rate_first_2_bases_of_codons(regions_partial_codons):\n",
    "    sum_nonsyn_mutation_rate_first_partial_codons=[]\n",
    "\n",
    "    for k in regions_partial_codons.keys():\n",
    "    #     if k == 16:\n",
    "        values = regions_partial_codons[k]\n",
    "        chromosome = values[1]\n",
    "        start = values[2]\n",
    "        end = values[3]\n",
    "        strand = values[4]\n",
    "        regions_included = values[6]\n",
    "\n",
    "        if regions_included == 'first_base' or regions_included == 'first_2_bases':\n",
    "            length_of_region = (int(end)-int(start))+1\n",
    "            coding_sequence_extra_bases = sequence_plus_minus_one(chromosome, start, end, strand)\n",
    "            coding_sequence_extra_2_bases = sequence_plus_minus_two(chromosome, start, end, strand)\n",
    "            coding_sequence = sequence(chromosome, start, end, strand)\n",
    "#             print(values)\n",
    "#             print(coding_sequence_extra_2_bases)\n",
    "#             print(coding_sequence_extra_bases)\n",
    "#             print(coding_sequence)\n",
    "\n",
    "            #coding sequence = last 2 bases of 671 (CT), so 671 codon = ACT\n",
    "            nonsynonymous_codons_DICT={}\n",
    "            if regions_included == 'first_2_bases':\n",
    "                regions_to_include = 6 #<6\n",
    "                nonsynonymous_codons_DICT[1]=(coding_sequence_extra_bases[1:4])\n",
    "                lower_range = 2\n",
    "\n",
    "            if regions_included == 'first_base':\n",
    "                regions_to_include = 3 #<3\n",
    "                nonsynonymous_codons_DICT[1]=(coding_sequence_extra_2_bases[1:4])\n",
    "                lower_range = 3\n",
    "\n",
    "            # nonsynonymous_codons_DICT = {1: 'ACT'}\n",
    "\n",
    "#             print('nonsynonymous_codons_DICT = ', nonsynonymous_codons_DICT)\n",
    "\n",
    "            nonsynonymous_calls = {}\n",
    "            for k,v in nonsynonymous_codons_DICT.items(): #iterating over the list of codon numbers (and codon sequences)\n",
    "                if v in Possible_Amino_Acid_Changes.keys(): #assign the list of all the possible amino acid changes to each codon they called\n",
    "                    changes = Possible_Amino_Acid_Changes_letters[v]\n",
    "                    nonsynonymous_calls[k]=(v, changes)\n",
    "\n",
    "#             print('nonsynonymous_calls = ', nonsynonymous_calls)\n",
    "\n",
    "            #Changing the original amino acid to a Word (e.g. Phe) rather than a codon\n",
    "            nonsynonymous_calls2 = {}\n",
    "            for k, v in nonsynonymous_calls.items():\n",
    "                if v[0] in Genetic_Code:\n",
    "                    Amino_acid_change = Genetic_Code.get(v[0])\n",
    "                    nonsynonymous_calls2[k] = (v[0], Amino_acid_change, v[1])\n",
    "\n",
    "#             print('nonsynonymous calls2 =', nonsynonymous_calls2)\n",
    "\n",
    "            #Changing the original amino acid to a LETTER (rather than the codon)\n",
    "            nonsynonymous_calls3 = {}\n",
    "            for k, v in nonsynonymous_calls2.items():\n",
    "                if v[1] in Amino_acid_abbreviations:\n",
    "                    Amino_acid_abbrev = Amino_acid_abbreviations.get(v[1])\n",
    "                    nonsynonymous_calls3[k] = (v[0], Amino_acid_abbrev, v[2])\n",
    "\n",
    "#             print('nonsynonymous calls3 =', nonsynonymous_calls3)\n",
    "\n",
    "            #Create a dictionary that contains details of the positions of nonsynonymous variants at that codon\n",
    "            nonsynonymous_positions = {}\n",
    "\n",
    "            for k, v in nonsynonymous_calls3.items():\n",
    "                original_AA = v[1]\n",
    "                possible_AA_changes = v[2]\n",
    "                possible_AA_changes_string = ''.join(v[2])\n",
    "                positions_in_list = []\n",
    "                for i in possible_AA_changes:\n",
    "                    if i != original_AA: #nonsynonymous\n",
    "                        position_in_list=-1\n",
    "                        nonsynonymous_change = i    \n",
    "                        while True:\n",
    "                            position_in_list = possible_AA_changes_string.find(nonsynonymous_change, position_in_list+1)\n",
    "            #               print(position_in_list)\n",
    "                            if position_in_list == -1: break\n",
    "                            if position_in_list < regions_to_include: #THIS MEANS IT WILL IGNORE THE BASES OF THE CODON NOT INCLUDED IN REGION TARGETED)\n",
    "                                positions_in_list.append(position_in_list)\n",
    "                                positions_in_list = set(positions_in_list) #convert into a 'set' to remove duplicate positions\n",
    "                                positions_in_list = list(positions_in_list) #convert back to a list so can be added to dictionary\n",
    "                    nonsynonymous_positions[k]=(v, positions_in_list)   \n",
    "\n",
    "#             print('nonsynonymous positions =', nonsynonymous_positions)\n",
    "\n",
    "            # Create a dictionary that contains original codon seq, base change positions and what the base changes are\n",
    "            nonsynonymous_bases = {}\n",
    "            for k, v in nonsynonymous_positions.items():\n",
    "            #     print(v[0][0])\n",
    "                codon_seq = v[0][0]\n",
    "                base_changes=[]\n",
    "                if codon_seq in Possible_Base_Changes.keys():\n",
    "                    list_of_possible_bases = Possible_Base_Changes.get(codon_seq)\n",
    "                for i in v[1]: #iterate over the base positions that nonsynonymous variants are present at:\n",
    "                    base_change_position = i\n",
    "                    base_change = list_of_possible_bases[base_change_position]\n",
    "                    base_changes.append(base_change)\n",
    "                nonsynonymous_bases[k]=(v[0][0], v[1], base_changes)\n",
    "\n",
    "#             print('nonsynonymous bases =', nonsynonymous_bases)\n",
    "\n",
    "            #Create dictionary which contains original codon seq and details on which base is changed\n",
    "            nonsynonymous_bases2 = {}\n",
    "\n",
    "            for k, v in nonsynonymous_bases.items():\n",
    "                base_change_positions = v[1]\n",
    "                codon_positions = []\n",
    "                positions_in_gene = []\n",
    "                for i in base_change_positions:\n",
    "                    base_change_position = i\n",
    "                    if base_change_position <= 2:\n",
    "                        codon_pos = 1\n",
    "                    if 2 < base_change_position <= 5:\n",
    "                        codon_pos = 2\n",
    "                    if 5 < base_change_position <= 8:\n",
    "                        codon_pos = 3\n",
    "                    codon_positions.append(codon_pos)\n",
    "                nonsynonymous_bases2[k] = (v, codon_positions)\n",
    "\n",
    "#             print('nonsynonymous bases2 =', nonsynonymous_bases2)\n",
    "\n",
    "            #Create dictionary which contains original codon seq, details on which base is changed and it's position in the coding region\n",
    "            nonsynonymous_bases3 = {}\n",
    "\n",
    "            for k, v in nonsynonymous_bases2.items():\n",
    "                codon_positions = v[1]\n",
    "                base_changes = v[0][2]\n",
    "                original_bases = []\n",
    "                positions_in_gene = []\n",
    "                for i in codon_positions:\n",
    "                    codon_pos = i\n",
    "                    position_in_gene = ((int(k)-1)*3)+codon_pos #codon number (v[0][1][0]) minus 1 (e.g. codon 307 -1 = 306, then times by 3 takes you to beginning of codon 307 (then add the position))  \n",
    "                    positions_in_gene.append(position_in_gene)\n",
    "                    original_base = (v[0][0][codon_pos-1])\n",
    "                    original_bases.append(original_base)\n",
    "                nonsynonymous_bases3[k] = (v[0][0], positions_in_gene, original_bases, base_changes)\n",
    "\n",
    "#             print('nonsynonymous bases3 =', nonsynonymous_bases3)\n",
    "\n",
    "            #Create dictionary which contains original codon seq, details on which base is changed and its neighbouring bases\n",
    "            nonsynonymous_bases4 = {}\n",
    "\n",
    "            for k, v in nonsynonymous_bases3.items():\n",
    "                position_in_gene = v[1]\n",
    "                sites_trio_nonsynonymous=[]\n",
    "                for i in position_in_gene:\n",
    "                    gene_pos = i\n",
    "                    site_trio_nonsynonymous = [coding_sequence_extra_bases[gene_pos:gene_pos+3] for gene_pos in range (gene_pos-1, gene_pos+lower_range, 3)]\n",
    "                    # THIS IS CHANGED TO GENE_POS-3 (for last base) or GENE_POS-2 (for last 2 bases) COMPARED TO THE STANDARD FUNCTION (WHICH IS GENE_POS-1)\n",
    "                    sites_trio_nonsynonymous.append(site_trio_nonsynonymous)\n",
    "                    nonsynonymous_bases4[k] = (v, sites_trio_nonsynonymous)\n",
    "\n",
    "#             print('nonsynonymous bases4 =', nonsynonymous_bases4)\n",
    "\n",
    "            #Create a dictionary containing pos in coding region, original base, new base, base affected with its neighbours\n",
    "            #e.g. 938, G, A, TGG = base 938 on coding region, original base = G, changes to base A, base with neighbours either side = TGG\n",
    "            nonsynonymous_bases5 = {}\n",
    "\n",
    "            a=0\n",
    "            for k, v in nonsynonymous_bases4.items():\n",
    "                codon_n = v[0][1] #base number in codon\n",
    "                original_base = v[0][2]\n",
    "                new_base = v[0][3]\n",
    "                site_trio = v[1]\n",
    "                info=[]\n",
    "\n",
    "                change = 0\n",
    "                for i in codon_n:\n",
    "                    codon_number = i\n",
    "                    orig_base = original_base[change]\n",
    "                    n_base = new_base[change]\n",
    "                    site_tri = site_trio[change]\n",
    "                    info.append([codon_number, orig_base, n_base, site_tri])\n",
    "                    change = change+1\n",
    "                nonsynonymous_bases5[a]=info\n",
    "                a=a+1\n",
    "\n",
    "#             print('nonsynonymous bases5 =', nonsynonymous_bases5)\n",
    "\n",
    "            # Write in a way that can iterate over mutation rates (i.e. put in to form C[C>A]G etc)   \n",
    "            nonsynonymous_bases6={}\n",
    "\n",
    "            separating_positions = {} # separate out all the possible changes to just 1 effective item in the list\n",
    "            a=0\n",
    "            for k, v in nonsynonymous_bases5.items():\n",
    "                for i in v: #because some contain more than 1 change from that codon:\n",
    "                    separating_positions[a]=i\n",
    "                    a=a+1\n",
    "\n",
    "            for k, v in separating_positions.items():\n",
    "                base_pos = v[0]\n",
    "                original_base = v[1]\n",
    "                new_base = v[2]\n",
    "                site_trio = v[3]\n",
    "                seq = (str(original_base),str(new_base))\n",
    "                changes = '>'.join(seq)\n",
    "                left_base = site_trio[0][0]\n",
    "                right_base = site_trio[0][2]\n",
    "                sequence2 = (changes, right_base)\n",
    "                changes2 = ']'.join(sequence2)\n",
    "                sequence3 = (left_base, changes2)\n",
    "                changes3 = '['.join(sequence3)\n",
    "                nonsynonymous_bases6[k] = (v[0],changes3) #site_trio = the affected base and its neighbours\n",
    "\n",
    "#             print('nonsynonymous bases6 =', nonsynonymous_bases6)\n",
    "\n",
    "            #Assign the mutation rates to each site...\n",
    "            nonsynonymous_mutation_rates = {}\n",
    "            for k, v in nonsynonymous_bases6.items():\n",
    "                base_change_info = v[1]\n",
    "                if base_change_info in Mutation_rates.keys():\n",
    "                    mutation_rate = Mutation_rates.get(base_change_info)\n",
    "                    nonsynonymous_mutation_rates[k] = (v, mutation_rate)\n",
    "\n",
    "#             print('nonsynonymous mutation rates =', nonsynonymous_mutation_rates)\n",
    "\n",
    "            #Get the average of all the mutation rates\n",
    "            mutation_rate_nonsynonymous_sum = []\n",
    "            for k, v in nonsynonymous_mutation_rates.items():\n",
    "                mutation_rate = v[1]\n",
    "                mutation_rate_nonsynonymous_sum.append(mutation_rate)\n",
    "\n",
    "#             Average_mutation_rate_nonsynonymous = np.mean(mutation_rate_nonsynonymous_sum)\n",
    "\n",
    "            #Add up the mutation rates in that region\n",
    "            Mutation_rate_nonsynonymous_added = np.sum(mutation_rate_nonsynonymous_sum)\n",
    "\n",
    "#             print('mutation rates summed =', Mutation_rate_nonsynonymous_added)\n",
    "\n",
    "            sum_nonsyn_mutation_rate_first_partial_codons.append(Mutation_rate_nonsynonymous_added)\n",
    "\n",
    "    #Add up the mutation rates across all the regions included in the input dictionary\n",
    "    summed_nonsyn_mutation_rate_first_partial_codons=np.sum(sum_nonsyn_mutation_rate_first_partial_codons)\n",
    "\n",
    "    print('summed nonsyn mutation rate across all first partial codons =', summed_nonsyn_mutation_rate_first_partial_codons)\n",
    "\n",
    "    return summed_nonsyn_mutation_rate_first_partial_codons"
   ]
  },
  {
   "cell_type": "code",
   "execution_count": 22,
   "metadata": {
    "code_folding": [],
    "scrolled": false
   },
   "outputs": [],
   "source": [
    "# function for including the last 1 or 2 bases of codon:\n",
    "def nonsynonymous_mutation_rate_last_2_bases_of_codons(regions_partial_codons):\n",
    "    sum_mutation_rate_nonsyn_last_partial_codons=[]\n",
    "\n",
    "    for k in regions_partial_codons.keys():\n",
    "    #     if k == 17:\n",
    "        values = regions_partial_codons[k]\n",
    "        chromosome = values[1]\n",
    "        start = values[2]\n",
    "        end = values[3]\n",
    "        strand = values[4]\n",
    "        regions_included = values[6]\n",
    "\n",
    "        if regions_included == 'last_base' or regions_included == 'last_2_bases':\n",
    "            length_of_region = (int(end)-int(start))+1\n",
    "            coding_sequence_extra_bases = sequence_plus_minus_one(chromosome, start, end, strand)\n",
    "            coding_sequence_extra_2_bases = sequence_plus_minus_two(chromosome, start, end, strand)\n",
    "            coding_sequence = sequence(chromosome, start, end, strand)\n",
    "#             print(values)\n",
    "#             print(coding_sequence_extra_2_bases)\n",
    "#             print(coding_sequence_extra_bases)\n",
    "#             print(coding_sequence)\n",
    "\n",
    "            #coding sequence = last 2 bases of 671 (CT), so 671 codon = ACT\n",
    "            nonsynonymous_codons_DICT={}\n",
    "            if regions_included == 'last_2_bases':\n",
    "                regions_to_include = 2 #>2\n",
    "                nonsynonymous_codons_DICT[1]=(coding_sequence_extra_bases[0:3])\n",
    "                lower_range = 2\n",
    "\n",
    "            if regions_included == 'last_base':\n",
    "                regions_to_include = 5 #>5\n",
    "                nonsynonymous_codons_DICT[1]=(coding_sequence_extra_2_bases[0:3])\n",
    "                lower_range = 3\n",
    "\n",
    "            # nonsynonymous_codons_DICT = {1: 'ACT'}\n",
    "\n",
    "#             print('nonsynonymous_codons_DICT = ', nonsynonymous_codons_DICT)\n",
    "\n",
    "            nonsynonymous_calls = {}\n",
    "            for k,v in nonsynonymous_codons_DICT.items(): #iterating over the list of codon numbers (and codon sequences)\n",
    "                if v in Possible_Amino_Acid_Changes.keys(): #assign the list of all the possible amino acid changes to each codon they called\n",
    "                    changes = Possible_Amino_Acid_Changes_letters[v]\n",
    "                    nonsynonymous_calls[k]=(v, changes)\n",
    "\n",
    "#             print('nonsynonymous_calls = ', nonsynonymous_calls)\n",
    "\n",
    "            #Changing the original amino acid to a Word (e.g. Phe) rather than a codon\n",
    "            nonsynonymous_calls2 = {}\n",
    "            for k, v in nonsynonymous_calls.items():\n",
    "                if v[0] in Genetic_Code:\n",
    "                    Amino_acid_change = Genetic_Code.get(v[0])\n",
    "                    nonsynonymous_calls2[k] = (v[0], Amino_acid_change, v[1])\n",
    "\n",
    "#             print('nonsynonymous calls2 =', nonsynonymous_calls2)\n",
    "\n",
    "            #Changing the original amino acid to a LETTER (rather than the codon)\n",
    "            nonsynonymous_calls3 = {}\n",
    "            for k, v in nonsynonymous_calls2.items():\n",
    "                if v[1] in Amino_acid_abbreviations:\n",
    "                    Amino_acid_abbrev = Amino_acid_abbreviations.get(v[1])\n",
    "                    nonsynonymous_calls3[k] = (v[0], Amino_acid_abbrev, v[2])\n",
    "\n",
    "#             print('nonsynonymous calls3 =', nonsynonymous_calls3)\n",
    "\n",
    "            #Create a dictionary that contains details of the positions of nonsynonymous variants at that codon\n",
    "            nonsynonymous_positions = {}\n",
    "\n",
    "            for k, v in nonsynonymous_calls3.items():\n",
    "                original_AA = v[1]\n",
    "                possible_AA_changes = v[2]\n",
    "                possible_AA_changes_string = ''.join(v[2])\n",
    "                positions_in_list = []\n",
    "                for i in possible_AA_changes:\n",
    "                    if i != original_AA: #nonsynonymous\n",
    "                        position_in_list=-1\n",
    "                        nonsynonymous_change = i    \n",
    "                        while True:\n",
    "                            position_in_list = possible_AA_changes_string.find(nonsynonymous_change, position_in_list+1)\n",
    "            #               print(position_in_list)\n",
    "                            if position_in_list == -1: break\n",
    "                            if position_in_list > regions_to_include: #THIS MEANS IT WILL IGNORE THE BASES OF THE CODON NOT INCLUDED IN REGION TARGETED)\n",
    "                                positions_in_list.append(position_in_list)\n",
    "                                positions_in_list = set(positions_in_list) #convert into a 'set' to remove duplicate positions\n",
    "                                positions_in_list = list(positions_in_list) #convert back to a list so can be added to dictionary\n",
    "                    nonsynonymous_positions[k]=(v, positions_in_list)   \n",
    "\n",
    "#             print('nonsynonymous positions =', nonsynonymous_positions)\n",
    "\n",
    "            # Create a dictionary that contains original codon seq, base change positions and what the base changes are\n",
    "            nonsynonymous_bases = {}\n",
    "            for k, v in nonsynonymous_positions.items():\n",
    "            #     print(v[0][0])\n",
    "                codon_seq = v[0][0]\n",
    "                base_changes=[]\n",
    "                if codon_seq in Possible_Base_Changes.keys():\n",
    "                    list_of_possible_bases = Possible_Base_Changes.get(codon_seq)\n",
    "                for i in v[1]: #iterate over the base positions that nonsynonymous variants are present at:\n",
    "                    base_change_position = i\n",
    "                    base_change = list_of_possible_bases[base_change_position]\n",
    "                    base_changes.append(base_change)\n",
    "                nonsynonymous_bases[k]=(v[0][0], v[1], base_changes)\n",
    "\n",
    "#             print('nonsynonymous bases =', nonsynonymous_bases)\n",
    "\n",
    "            #Create dictionary which contains original codon seq and details on which base is changed\n",
    "            nonsynonymous_bases2 = {}\n",
    "\n",
    "            for k, v in nonsynonymous_bases.items():\n",
    "                base_change_positions = v[1]\n",
    "                codon_positions = []\n",
    "                positions_in_gene = []\n",
    "                for i in base_change_positions:\n",
    "                    base_change_position = i\n",
    "                    if base_change_position <= 2:\n",
    "                        codon_pos = 1\n",
    "                    if 2 < base_change_position <= 5:\n",
    "                        codon_pos = 2\n",
    "                    if 5 < base_change_position <= 8:\n",
    "                        codon_pos = 3\n",
    "                    codon_positions.append(codon_pos)\n",
    "                nonsynonymous_bases2[k] = (v, codon_positions)\n",
    "\n",
    "#             print('nonsynonymous bases2 =', nonsynonymous_bases2)\n",
    "\n",
    "            #Create dictionary which contains original codon seq, details on which base is changed and it's position in the coding region\n",
    "            nonsynonymous_bases3 = {}\n",
    "\n",
    "            for k, v in nonsynonymous_bases2.items():\n",
    "                codon_positions = v[1]\n",
    "                base_changes = v[0][2]\n",
    "                original_bases = []\n",
    "                positions_in_gene = []\n",
    "                for i in codon_positions:\n",
    "                    codon_pos = i\n",
    "                    position_in_gene = ((int(k)-1)*3)+codon_pos #codon number (v[0][1][0]) minus 1 (e.g. codon 307 -1 = 306, then times by 3 takes you to beginning of codon 307 (then add the position))  \n",
    "                    positions_in_gene.append(position_in_gene)\n",
    "                    original_base = (v[0][0][codon_pos-1])\n",
    "                    original_bases.append(original_base)\n",
    "                nonsynonymous_bases3[k] = (v[0][0], positions_in_gene, original_bases, base_changes)\n",
    "\n",
    "#             print('nonsynonymous bases3 =', nonsynonymous_bases3)\n",
    "\n",
    "            #Create dictionary which contains original codon seq, details on which base is changed and its neighbouring bases\n",
    "            nonsynonymous_bases4 = {}\n",
    "\n",
    "            for k, v in nonsynonymous_bases3.items():\n",
    "                position_in_gene = v[1]\n",
    "                sites_trio_nonsynonymous=[]\n",
    "                for i in position_in_gene:\n",
    "                    gene_pos = i\n",
    "                    site_trio_nonsynonymous = [coding_sequence_extra_bases[gene_pos:gene_pos+3] for gene_pos in range (gene_pos-lower_range, gene_pos, 3)]\n",
    "                    # THIS IS CHANGED TO GENE_POS-3 (for last base) or GENE_POS-2 (for last 2 bases) COMPARED TO THE STANDARD FUNCTION (WHICH IS GENE_POS-1)\n",
    "                    sites_trio_nonsynonymous.append(site_trio_nonsynonymous)\n",
    "                    nonsynonymous_bases4[k] = (v, sites_trio_nonsynonymous)\n",
    "\n",
    "#             print('nonsynonymous bases4 =', nonsynonymous_bases4)\n",
    "\n",
    "            #Create a dictionary containing pos in coding region, original base, new base, base affected with its neighbours\n",
    "            #e.g. 938, G, A, TGG = base 938 on coding region, original base = G, changes to base A, base with neighbours either side = TGG\n",
    "            nonsynonymous_bases5 = {}\n",
    "\n",
    "            a=0\n",
    "            for k, v in nonsynonymous_bases4.items():\n",
    "                codon_n = v[0][1] #base number in codon\n",
    "                original_base = v[0][2]\n",
    "                new_base = v[0][3]\n",
    "                site_trio = v[1]\n",
    "                info=[]\n",
    "\n",
    "                change = 0\n",
    "                for i in codon_n:\n",
    "                    codon_number = i\n",
    "                    orig_base = original_base[change]\n",
    "                    n_base = new_base[change]\n",
    "                    site_tri = site_trio[change]\n",
    "                    info.append([codon_number, orig_base, n_base, site_tri])\n",
    "                    change = change+1\n",
    "                nonsynonymous_bases5[a]=info\n",
    "                a=a+1\n",
    "\n",
    "#             print('nonsynonymous bases5 =', nonsynonymous_bases5)\n",
    "\n",
    "            # Write in a way that can iterate over mutation rates (i.e. put in to form C[C>A]G etc)   \n",
    "            nonsynonymous_bases6={}\n",
    "\n",
    "            separating_positions = {} # separate out all the possible changes to just 1 effective item in the list\n",
    "            a=0\n",
    "            for k, v in nonsynonymous_bases5.items():\n",
    "                for i in v: #because some contain more than 1 change from that codon:\n",
    "                    separating_positions[a]=i\n",
    "                    a=a+1\n",
    "\n",
    "            for k, v in separating_positions.items():\n",
    "                base_pos = v[0]\n",
    "                original_base = v[1]\n",
    "                new_base = v[2]\n",
    "                site_trio = v[3]\n",
    "                seq = (str(original_base),str(new_base))\n",
    "                changes = '>'.join(seq)\n",
    "                left_base = site_trio[0][0]\n",
    "                right_base = site_trio[0][2]\n",
    "                sequence2 = (changes, right_base)\n",
    "                changes2 = ']'.join(sequence2)\n",
    "                sequence3 = (left_base, changes2)\n",
    "                changes3 = '['.join(sequence3)\n",
    "                nonsynonymous_bases6[k] = (v[0],changes3) #site_trio = the affected base and its neighbours\n",
    "\n",
    "#             print('nonsynonymous bases6 =', nonsynonymous_bases6)\n",
    "\n",
    "            #Assign the mutation rates to each site...\n",
    "            nonsynonymous_mutation_rates = {}\n",
    "            for k, v in nonsynonymous_bases6.items():\n",
    "                base_change_info = v[1]\n",
    "                if base_change_info in Mutation_rates.keys():\n",
    "                    mutation_rate = Mutation_rates.get(base_change_info)\n",
    "                    nonsynonymous_mutation_rates[k] = (v, mutation_rate)\n",
    "\n",
    "#             print('nonsynonymous mutation rates =', nonsynonymous_mutation_rates)\n",
    "\n",
    "            #Get the average of all the mutation rates\n",
    "            mutation_rate_nonsynonymous_sum = []\n",
    "            for k, v in nonsynonymous_mutation_rates.items():\n",
    "                mutation_rate = v[1]\n",
    "                mutation_rate_nonsynonymous_sum.append(mutation_rate)\n",
    "\n",
    "#             Average_mutation_rate_nonsynonymous = np.mean(mutation_rate_nonsynonymous_sum)\n",
    "            \n",
    "            #Add up the mutation rates in the region\n",
    "            Mutation_rate_nonsynonymous_added = np.sum(mutation_rate_nonsynonymous_sum)\n",
    "\n",
    "#             print('mutation rates summed =', Mutation_rate_nonsynonymous_added)\n",
    "\n",
    "            sum_mutation_rate_nonsyn_last_partial_codons.append(Mutation_rate_nonsynonymous_added)\n",
    "\n",
    "    #Add up all the mutation rates across all the regions in the input dictionary\n",
    "    summed_mutation_rate_nonsyn_last_partial_codons=np.sum(sum_mutation_rate_nonsyn_last_partial_codons)\n",
    "\n",
    "    print('summed mutation rate across all nonsyn last partial codons =', summed_mutation_rate_nonsyn_last_partial_codons)\n",
    "    \n",
    "    return summed_mutation_rate_nonsyn_last_partial_codons"
   ]
  },
  {
   "cell_type": "markdown",
   "metadata": {},
   "source": [
    "# Acuna-Hidalgo 2017"
   ]
  },
  {
   "cell_type": "markdown",
   "metadata": {},
   "source": [
    "- Used single-molecule molecular inversino probes (smMIPs)."
   ]
  },
  {
   "cell_type": "markdown",
   "metadata": {},
   "source": [
    "## Mutation rate calculation for synonymous variants"
   ]
  },
  {
   "cell_type": "markdown",
   "metadata": {},
   "source": [
    "### Full codons..."
   ]
  },
  {
   "cell_type": "code",
   "execution_count": 24,
   "metadata": {
    "code_folding": []
   },
   "outputs": [],
   "source": [
    "# Create a dictionary containing info of all the genes and coordinates they covered with their smMIPs\n",
    "# Dictionary = row_count: (gene, chromosome, start position, end position, strand direction)\n",
    "# e.g. row_count: (ADNP, chr20, 49508749, 49508766, -)\n",
    "import csv\n",
    "filename=\"Acuna_Hidalgo_regions_analysed.csv\"\n",
    "\n",
    "with open(filename, 'r') as csvfile:\n",
    "    read_reader = csv.reader(csvfile)  #csv.reader returns a reader object which will iterate over lines in the csvfile\n",
    "    row_count=0\n",
    "    regions = {}\n",
    "\n",
    "    for row in read_reader:\n",
    "        if row_count>1:\n",
    "            if row[7]=='Y': #Y in the csv file indicates that the regions span full codons from end-to-end\n",
    "#             print(row)\n",
    "                chrom = row[0]\n",
    "                start = row[1] #start coordinate for region covered by smMIP\n",
    "                end = row[2] #end coordinate for region covered by smMIP\n",
    "                direction = row[4]\n",
    "                gene = row[3]\n",
    "                regions[row_count] = (gene, chrom, start, end, direction)\n",
    "        row_count = row_count+1"
   ]
  },
  {
   "cell_type": "code",
   "execution_count": 25,
   "metadata": {
    "code_folding": [
     3
    ],
    "scrolled": false
   },
   "outputs": [],
   "source": [
    "# Create a dictionary containing the mutation rates for the synonymous mutations in each of these regions\n",
    "# Dictionary = row_count: mutation rate\n",
    "synonymous_mutation_rates_full_codons = {}\n",
    "for k in regions.keys(): #for each key in the 'regions dictionary' (row_count: (gene, chromosome, start position, end position, strand direction))\n",
    "    values = regions[k]\n",
    "    chromosome = values[1]\n",
    "    start = values[2]\n",
    "    end = values[3]\n",
    "    strand = values[4]\n",
    "    length_of_region = (int(end)-int(start))+1 #length of the region covered\n",
    "    #retrieve the DNA sequence for the targeted region (+ extra base at either end):\n",
    "    coding_sequence_extra_bases = sequence_plus_minus_one(chromosome, start, end, strand)\n",
    "    #retrieve the DNA sequence for the targeted region:\n",
    "    coding_sequence = sequence(chromosome, start, end, strand)\n",
    "    #calculate the mutation rate for synonymous variants in this region:\n",
    "    syn_mutation_rate = synonymous_mutation_rate_across_gene(coding_sequence, coding_sequence_extra_bases, 0, length_of_region)\n",
    "\n",
    "    synonymous_mutation_rates_full_codons[k]=(syn_mutation_rate)"
   ]
  },
  {
   "cell_type": "code",
   "execution_count": 26,
   "metadata": {
    "code_folding": []
   },
   "outputs": [
    {
     "name": "stdout",
     "output_type": "stream",
     "text": [
      "Summed synonymous mutation rate across the full codons =  2.7424662540000006e-06\n"
     ]
    }
   ],
   "source": [
    "# Sum the mutation rates for synonymous variants across all the regions covered\n",
    "total_syn_mut_rate_full_codons = []\n",
    "for k, v in synonymous_mutation_rates_full_codons.items():\n",
    "    mutation_rate = v\n",
    "    total_syn_mut_rate_full_codons.append(mutation_rate)\n",
    "    \n",
    "summed_syn_mut_rate_full_codons = np.sum(total_syn_mut_rate_full_codons)\n",
    "\n",
    "print('Summed synonymous mutation rate across the full codons = ', summed_syn_mut_rate_full_codons)"
   ]
  },
  {
   "cell_type": "markdown",
   "metadata": {},
   "source": [
    "### Partial codons..."
   ]
  },
  {
   "cell_type": "code",
   "execution_count": 28,
   "metadata": {
    "code_folding": []
   },
   "outputs": [],
   "source": [
    "# Create a dictionary containing info of all the genes and coordinates they covered with their smMIPs\n",
    "# Dictionary = row_count: (gene, chromosome, start position, end position, strand direction)\n",
    "# e.g. row_count: (ADNP, chr20, 49508749, 49508766, -)\n",
    "import csv\n",
    "filename=\"Acuna_Hidalgo_regions_analysed.csv\"\n",
    "\n",
    "with open(filename, 'r') as csvfile:\n",
    "    read_reader = csv.reader(csvfile)  #csv.reader returns a reader object which will iterate over lines in the csvfile\n",
    "    row_count=0\n",
    "    regions_partial_codons = {}\n",
    "\n",
    "    for row in read_reader:\n",
    "        if row_count>1:\n",
    "            if row[7]=='N': #N in the csv file indicates that the region does not span a full codon\n",
    "#             print(row)\n",
    "                chrom = row[0]\n",
    "                start = row[1]\n",
    "                end = row[2]\n",
    "                direction = row[4]\n",
    "                gene = row[3]\n",
    "                codon_bits = row[5]\n",
    "                part_of_codon = row[8]\n",
    "                regions_partial_codons[row_count] = (gene, chrom, start, end, direction, codon_bits, part_of_codon)\n",
    "        row_count = row_count+1"
   ]
  },
  {
   "cell_type": "code",
   "execution_count": 29,
   "metadata": {
    "scrolled": false
   },
   "outputs": [
    {
     "name": "stdout",
     "output_type": "stream",
     "text": [
      "summed mutation rate across all first partial codons = 0.0\n"
     ]
    }
   ],
   "source": [
    "synonymous_mutation_rate_partial_codons1 = synonymous_mutation_rate_first_2_bases_of_codons(regions_partial_codons)"
   ]
  },
  {
   "cell_type": "code",
   "execution_count": 30,
   "metadata": {},
   "outputs": [
    {
     "name": "stdout",
     "output_type": "stream",
     "text": [
      "summed mutation rate across all last partial codons = 2.8192887999999997e-08\n"
     ]
    }
   ],
   "source": [
    "synonymous_mutation_rate_partial_codons2 = synonymous_mutation_rate_last_2_bases_of_codons(regions_partial_codons)"
   ]
  },
  {
   "cell_type": "code",
   "execution_count": 31,
   "metadata": {},
   "outputs": [
    {
     "name": "stdout",
     "output_type": "stream",
     "text": [
      "Summed synonymous mutation rate across the partial codons = 2.8192887999999997e-08\n"
     ]
    }
   ],
   "source": [
    "total_sum_partial_codons = synonymous_mutation_rate_partial_codons1 + synonymous_mutation_rate_partial_codons2\n",
    "print('Summed synonymous mutation rate across the partial codons =', total_sum_partial_codons)"
   ]
  },
  {
   "cell_type": "markdown",
   "metadata": {},
   "source": [
    "### Adding the partial and complete codon mutation rates together (synonymous)"
   ]
  },
  {
   "cell_type": "code",
   "execution_count": 32,
   "metadata": {},
   "outputs": [
    {
     "name": "stdout",
     "output_type": "stream",
     "text": [
      "Total Acuna-Hidalgo synonymous mutation rate = 2.7706591420000007e-06\n"
     ]
    }
   ],
   "source": [
    "acuna_total_synonymous_mutation_rate = total_sum_partial_codons + summed_syn_mut_rate_full_codons\n",
    "print('Total Acuna-Hidalgo synonymous mutation rate =', acuna_total_synonymous_mutation_rate)"
   ]
  },
  {
   "cell_type": "markdown",
   "metadata": {},
   "source": [
    "### Excluded synonymous regions (Exac frequency >0.001)"
   ]
  },
  {
   "cell_type": "markdown",
   "metadata": {},
   "source": [
    "- Variants with Exac frequency >0.001 that are also covered by Acuna-Hidalgo smMIPs = 'Acuna_Exac_excluded_variants.csv'"
   ]
  },
  {
   "cell_type": "code",
   "execution_count": 33,
   "metadata": {
    "code_folding": [
     4
    ]
   },
   "outputs": [],
   "source": [
    "#Create a dictionary of the excluded regions: (row_count: gene, variant, site, site-specific mutation rate)\n",
    "import csv\n",
    "filename=\"Acuna_Exac_excluded_synonymous_variants.csv\"\n",
    "\n",
    "with open(filename, 'r') as csvfile:\n",
    "    read_reader = csv.reader(csvfile)  #csv.reader returns a reader object which will iterate over lines in the csvfile\n",
    "    row_count=0\n",
    "    Acuna_excluded_regions = {}\n",
    "\n",
    "    for row in read_reader:\n",
    "        if row_count>1:\n",
    "            if row[1]!='none' and row[1] != '' and row[1]!='no synonymous in Exac >0.001':\n",
    "                gene = row[0]\n",
    "                variant = row[1]\n",
    "                site = row[3]\n",
    "                site_specific_mutation_rate = row[4]\n",
    "                Acuna_excluded_regions[row_count] = (gene, variant, site, site_specific_mutation_rate)\n",
    "        row_count = row_count+1"
   ]
  },
  {
   "cell_type": "code",
   "execution_count": 34,
   "metadata": {},
   "outputs": [
    {
     "data": {
      "text/plain": [
       "{12: ('CTNNB1', 'R661R', 'G[A>C]A', '1.60E-10'),\n",
       " 53: ('SCN3A', 'V849V', 'T[A>C]C', '1.90E-10'),\n",
       " 54: ('SCN3A', 'V849V', 'T[A>G]C', '8.80E-10'),\n",
       " 56: ('SETBP1', 'S869S', 'G[C>T]G', '1.88E-08'),\n",
       " 57: ('SF3B1', 'R702R', 'T[C>A]G', '9.10E-10'),\n",
       " 64: ('STXBP1', 'Y554Y', 'A[C>T]G', '3.27E-08'),\n",
       " 67: ('TP53', 'R213R', 'G[A>T]C', '4.50E-10'),\n",
       " 68: ('TP53', 'R213R', 'G[A>G]C', '8.90E-10'),\n",
       " 71: ('UGT1A4', 'P268P', 'C[G>A]A', '1.20E-08')}"
      ]
     },
     "execution_count": 34,
     "metadata": {},
     "output_type": "execute_result"
    }
   ],
   "source": [
    "Acuna_excluded_regions"
   ]
  },
  {
   "cell_type": "code",
   "execution_count": 35,
   "metadata": {},
   "outputs": [
    {
     "name": "stdout",
     "output_type": "stream",
     "text": [
      "6.698e-08\n"
     ]
    }
   ],
   "source": [
    "#Calculate the sum of the mutation rates across the excluded regions\n",
    "Acuna_excluded_mutation_rates=[]\n",
    "for k, v in Acuna_excluded_regions.items():\n",
    "    mutation_rate = float(v[3])\n",
    "    Acuna_excluded_mutation_rates.append(mutation_rate)\n",
    "\n",
    "Acuna_sum_excluded = np.sum(Acuna_excluded_mutation_rates)\n",
    "print(Acuna_sum_excluded)"
   ]
  },
  {
   "cell_type": "markdown",
   "metadata": {},
   "source": [
    "**Mutation rate for synonymous variants in Acuna-Hidalgo 2017 = 2.7706591420000007e-06 - 6.698e-08 = 2.7305791420000005e-06**"
   ]
  },
  {
   "cell_type": "markdown",
   "metadata": {},
   "source": [
    "## Mutation rate calculation for non-synonymous variants"
   ]
  },
  {
   "cell_type": "markdown",
   "metadata": {},
   "source": [
    "### DNMT3A"
   ]
  },
  {
   "cell_type": "markdown",
   "metadata": {},
   "source": [
    "- Used NM_022552.\n",
    "- Excluded variants with with ExAC > 0.001:  this would only be E30A in DNMT3A, which wasn't targeted by their smMIPs anyway."
   ]
  },
  {
   "cell_type": "code",
   "execution_count": 43,
   "metadata": {
    "code_folding": []
   },
   "outputs": [],
   "source": [
    "# Create a dictionary containing info of the DNMT3A coordinates they covered with their smMIPs\n",
    "# Dictionary = row_count: (gene, chromosome, start position, end position, strand direction)\n",
    "# e.g. row_count: ('DNMT3A', 'chr2', '25457265', '25457266', '-', 'N', 'last_2_bases')\n",
    "import csv\n",
    "filename=\"Data files/Acuna_Hidalgo_regions_analysed.csv\"\n",
    "\n",
    "with open(filename, 'r') as csvfile:\n",
    "    read_reader = csv.reader(csvfile)  #csv.reader returns a reader object which will iterate over lines in the csvfile\n",
    "    row_count=0\n",
    "    DNMT3A_regions = {}\n",
    "\n",
    "    for row in read_reader:\n",
    "        if row_count>1:\n",
    "            if row[3]=='DNMT3A': \n",
    "#             print(row)\n",
    "                chrom = row[0]\n",
    "                start = row[1]\n",
    "                end = row[2]\n",
    "                direction = row[4]\n",
    "                gene = row[3]\n",
    "                full_or_part_codon = row [7]\n",
    "                part_of_codon = row[8]\n",
    "                DNMT3A_regions[row_count] = (gene, chrom, start, end, direction, full_or_part_codon, part_of_codon)\n",
    "        row_count = row_count+1\n",
    "        \n",
    "DNMT3A_partial_codon_regions={}\n",
    "DNMT3A_full_codon_regions = {}\n",
    "for k, v in DNMT3A_regions.items():\n",
    "    full_or_part = v[5]\n",
    "    if full_or_part == 'N':\n",
    "        DNMT3A_partial_codon_regions[k] = v\n",
    "    if full_or_part == 'Y':\n",
    "        DNMT3A_full_codon_regions[k] = v"
   ]
  },
  {
   "cell_type": "markdown",
   "metadata": {},
   "source": [
    "#### Full DNMT3A codons..."
   ]
  },
  {
   "cell_type": "code",
   "execution_count": 44,
   "metadata": {
    "code_folding": [],
    "scrolled": true
   },
   "outputs": [],
   "source": [
    "# Calculate the dictionary containing the mutation rates for the nonsynonymous mutations in each of these regions\n",
    "# Dictionary = row_count: mutation rate\n",
    "nonsynonymous_mutation_rates_full_codons_DNMT3A = {}\n",
    "for k in DNMT3A_full_codon_regions.keys():\n",
    "#     print(k)\n",
    "    values = DNMT3A_full_codon_regions[k]\n",
    "    chromosome = values[1]\n",
    "    start = values[2]\n",
    "    end = values[3]\n",
    "    strand = values[4]\n",
    "    length_of_region = (int(end)-int(start))+1\n",
    "#     print(length_of_region)\n",
    "    coding_sequence_extra_bases = sequence_plus_minus_one(chromosome, start, end, strand)\n",
    "#     print(coding_sequence_extra_bases)\n",
    "    coding_sequence = sequence(chromosome, start, end, strand)\n",
    "#     print(coding_sequence)\n",
    "    DNMT3A_nonsyn_mutation_rate = nonsynonymous_mutation_rate_across_gene(coding_sequence, coding_sequence_extra_bases, 0, length_of_region)\n",
    "\n",
    "    nonsynonymous_mutation_rates_full_codons_DNMT3A[k]=(DNMT3A_nonsyn_mutation_rate)"
   ]
  },
  {
   "cell_type": "code",
   "execution_count": 45,
   "metadata": {},
   "outputs": [
    {
     "name": "stdout",
     "output_type": "stream",
     "text": [
      "Summed nonsynonymous mutation rate across the full codons =  7.83022935e-07\n"
     ]
    }
   ],
   "source": [
    "# Sum the mutation rates for DNMT3A nonsynonymous variants across all the regions (full codons) covered\n",
    "total_nonsyn_mut_rate_full_codons_DNMT3A = []\n",
    "for k, v in nonsynonymous_mutation_rates_full_codons_DNMT3A.items():\n",
    "    mutation_rate = v\n",
    "    total_nonsyn_mut_rate_full_codons_DNMT3A.append(mutation_rate)\n",
    "    \n",
    "summed_nonsyn_mut_rate_full_codons_DNMT3A = np.sum(total_nonsyn_mut_rate_full_codons_DNMT3A)\n",
    "\n",
    "print('Summed nonsynonymous mutation rate across the full codons = ', summed_nonsyn_mut_rate_full_codons_DNMT3A)"
   ]
  },
  {
   "cell_type": "markdown",
   "metadata": {},
   "source": [
    "#### Partial DNMT3A codons..."
   ]
  },
  {
   "cell_type": "code",
   "execution_count": 46,
   "metadata": {
    "scrolled": true
   },
   "outputs": [
    {
     "name": "stdout",
     "output_type": "stream",
     "text": [
      "summed nonsyn mutation rate across all first partial codons = 2.8418259e-08\n"
     ]
    }
   ],
   "source": [
    "DNMT3A_nonsynonymous_partial_codons_rate1 = nonsynonymous_mutation_rate_first_2_bases_of_codons(DNMT3A_partial_codon_regions)"
   ]
  },
  {
   "cell_type": "code",
   "execution_count": 47,
   "metadata": {
    "scrolled": true
   },
   "outputs": [
    {
     "name": "stdout",
     "output_type": "stream",
     "text": [
      "summed mutation rate across all nonsyn last partial codons = 7.374232e-09\n"
     ]
    }
   ],
   "source": [
    "DNMT3A_nonsynonymous_partial_codons_rate2 = nonsynonymous_mutation_rate_last_2_bases_of_codons(DNMT3A_partial_codon_regions)"
   ]
  },
  {
   "cell_type": "code",
   "execution_count": 48,
   "metadata": {},
   "outputs": [
    {
     "data": {
      "text/plain": [
       "3.5792491e-08"
      ]
     },
     "execution_count": 48,
     "metadata": {},
     "output_type": "execute_result"
    }
   ],
   "source": [
    "DNMT3A_nonsynonymous_partial_codons_rate1+DNMT3A_nonsynonymous_partial_codons_rate2"
   ]
  },
  {
   "cell_type": "markdown",
   "metadata": {},
   "source": [
    "#### Adding the partial and complete codon DNMT3A mutation rates together (nonsynonymous)"
   ]
  },
  {
   "cell_type": "code",
   "execution_count": 49,
   "metadata": {},
   "outputs": [
    {
     "name": "stdout",
     "output_type": "stream",
     "text": [
      "Total Acuna-Hidalgo DNMT3A nonsynonymous mutation rate = 8.188154260000001e-07\n"
     ]
    }
   ],
   "source": [
    "acuna_total_nonsynonymous_mutation_rate_DNMT3A = summed_nonsyn_mut_rate_full_codons_DNMT3A +\\\n",
    "DNMT3A_nonsynonymous_partial_codons_rate1+DNMT3A_nonsynonymous_partial_codons_rate2\n",
    "print('Total Acuna-Hidalgo DNMT3A nonsynonymous mutation rate =', acuna_total_nonsynonymous_mutation_rate_DNMT3A)"
   ]
  },
  {
   "cell_type": "markdown",
   "metadata": {},
   "source": [
    "**Mutation rate for DNMT3A nonsynonymous variants in Acuna-Hidalgo 2017 = 8.188154260000001e-07**"
   ]
  },
  {
   "cell_type": "markdown",
   "metadata": {},
   "source": [
    "### TET2"
   ]
  },
  {
   "cell_type": "markdown",
   "metadata": {},
   "source": [
    "- Used NM_001127208.\n",
    "- Excluded variants with with ExAC > 0.001: no TET2 variants fulfilling this criteria that were targeted by the smMIPs."
   ]
  },
  {
   "cell_type": "code",
   "execution_count": 50,
   "metadata": {
    "code_folding": []
   },
   "outputs": [],
   "source": [
    "# Create a dictionary containing info of the DNMT3A coordinates they covered with their smMIPs\n",
    "# Dictionary = row_count: (gene, chromosome, start position, end position, strand direction)\n",
    "# e.g. row_count: ('TET2', 'chr4', '106156681', '106156701', '+', 'Y', '')\n",
    "\n",
    "import csv\n",
    "filename=\"Data files/Acuna_Hidalgo_regions_analysed.csv\"\n",
    "\n",
    "with open(filename, 'r') as csvfile:\n",
    "    read_reader = csv.reader(csvfile)  #csv.reader returns a reader object which will iterate over lines in the csvfile\n",
    "    row_count=0\n",
    "    TET2_regions = {}\n",
    "\n",
    "    for row in read_reader:\n",
    "        if row_count>1:\n",
    "            if row[3]=='TET2': \n",
    "#             print(row)\n",
    "                chrom = row[0]\n",
    "                start = row[1]\n",
    "                end = row[2]\n",
    "                direction = row[4]\n",
    "                gene = row[3]\n",
    "                full_or_part_codon = row [7]\n",
    "                part_of_codon = row[8]\n",
    "                TET2_regions[row_count] = (gene, chrom, start, end, direction, full_or_part_codon, part_of_codon)\n",
    "        row_count = row_count+1\n",
    "        \n",
    "TET2_partial_codon_regions={}\n",
    "TET2_full_codon_regions = {}\n",
    "for k, v in TET2_regions.items():\n",
    "    full_or_part = v[5]\n",
    "    if full_or_part == 'N':\n",
    "        TET2_partial_codon_regions[k] = v  #there are no partial codons in TET2\n",
    "    if full_or_part == 'Y':\n",
    "        TET2_full_codon_regions[k] = v"
   ]
  },
  {
   "cell_type": "code",
   "execution_count": 51,
   "metadata": {},
   "outputs": [
    {
     "data": {
      "text/plain": [
       "{111: ('TET2', 'chr4', '106156681', '106156701', '+', 'Y', ''),\n",
       " 112: ('TET2', 'chr4', '106156723', '106156737', '+', 'Y', ''),\n",
       " 113: ('TET2', 'chr4', '106156741', '106156755', '+', 'Y', ''),\n",
       " 114: ('TET2', 'chr4', '106157362', '106157418', '+', 'Y', ''),\n",
       " 115: ('TET2', 'chr4', '106157632', '106157646', '+', 'Y', ''),\n",
       " 116: ('TET2', 'chr4', '106157755', '106157769', '+', 'Y', '')}"
      ]
     },
     "execution_count": 51,
     "metadata": {},
     "output_type": "execute_result"
    }
   ],
   "source": [
    "TET2_full_codon_regions"
   ]
  },
  {
   "cell_type": "code",
   "execution_count": 52,
   "metadata": {},
   "outputs": [
    {
     "data": {
      "text/plain": [
       "{}"
      ]
     },
     "execution_count": 52,
     "metadata": {},
     "output_type": "execute_result"
    }
   ],
   "source": [
    "TET2_partial_codon_regions"
   ]
  },
  {
   "cell_type": "markdown",
   "metadata": {},
   "source": [
    "#### Full TET2 codons..."
   ]
  },
  {
   "cell_type": "code",
   "execution_count": 53,
   "metadata": {
    "code_folding": [],
    "scrolled": true
   },
   "outputs": [],
   "source": [
    "# Calculate the dictionary containing the mutation rates for the nonsynonymous mutations in each of these regions\n",
    "# Dictionary = row_count: mutation rate\n",
    "nonsynonymous_mutation_rates_full_TET2_codons = {}\n",
    "for k in TET2_full_codon_regions.keys():\n",
    "#     print(k)\n",
    "    values = TET2_full_codon_regions[k]\n",
    "    chromosome = values[1]\n",
    "    start = values[2]\n",
    "    end = values[3]\n",
    "    strand = values[4]\n",
    "    length_of_region = (int(end)-int(start))+1\n",
    "#     print(length_of_region)\n",
    "    coding_sequence_extra_bases = sequence_plus_minus_one(chromosome, start, end, strand)\n",
    "#     print(coding_sequence_extra_bases)\n",
    "    coding_sequence = sequence(chromosome, start, end, strand)\n",
    "#     print(coding_sequence)\n",
    "    nonsyn_mutation_rate = nonsynonymous_mutation_rate_across_gene(coding_sequence, coding_sequence_extra_bases, 0, length_of_region)\n",
    "\n",
    "    nonsynonymous_mutation_rates_full_TET2_codons[k]=(nonsyn_mutation_rate)"
   ]
  },
  {
   "cell_type": "code",
   "execution_count": 54,
   "metadata": {},
   "outputs": [
    {
     "name": "stdout",
     "output_type": "stream",
     "text": [
      "Summed nonsynonymous mutation rate across the full TET2 codons =  3.1309979e-07\n"
     ]
    }
   ],
   "source": [
    "# Sum the mutation rates for nonsynonymous TET2 variants across all the regions (full codons) covered\n",
    "total_nonsyn_mut_rate_full_TET2_codons = []\n",
    "for k, v in nonsynonymous_mutation_rates_full_TET2_codons.items():\n",
    "    mutation_rate = v\n",
    "    total_nonsyn_mut_rate_full_TET2_codons.append(mutation_rate)\n",
    "    \n",
    "summed_nonsyn_mut_rate_full_TET2_codons = np.sum(total_nonsyn_mut_rate_full_TET2_codons)\n",
    "\n",
    "print('Summed nonsynonymous mutation rate across the full TET2 codons = ', summed_nonsyn_mut_rate_full_TET2_codons)"
   ]
  },
  {
   "cell_type": "markdown",
   "metadata": {},
   "source": [
    "**Mutation rate for TET2 nonsynonymous variants in Acuna-Hidalgo 2017 = 3.1309979e-07**"
   ]
  },
  {
   "cell_type": "markdown",
   "metadata": {},
   "source": [
    "### ASXL1"
   ]
  },
  {
   "cell_type": "markdown",
   "metadata": {},
   "source": [
    "- Used NM_015338.\n",
    "- Excluded variants with with ExAC > 0.001: no ASXL1 variants fulfilling this criteria that were targeted by the smMIPs."
   ]
  },
  {
   "cell_type": "code",
   "execution_count": 55,
   "metadata": {
    "code_folding": []
   },
   "outputs": [],
   "source": [
    "# Create a dictionary containing info of the DNMT3A coordinates they covered with their smMIPs\n",
    "# Dictionary = row_count: (gene, chromosome, start position, end position, strand direction)\n",
    "# e.g. row_count: ('ASXL1', 'chr20', '31021205', '31021219', '+', 'Y', '')\n",
    "\n",
    "import csv\n",
    "filename=\"Data files/Acuna_Hidalgo_regions_analysed.csv\"\n",
    "\n",
    "with open(filename, 'r') as csvfile:\n",
    "    read_reader = csv.reader(csvfile)  #csv.reader returns a reader object which will iterate over lines in the csvfile\n",
    "    row_count=0\n",
    "    ASXL1_regions = {}\n",
    "\n",
    "    for row in read_reader:\n",
    "        if row_count>1:\n",
    "            if row[3]=='ASXL1': \n",
    "#             print(row)\n",
    "                chrom = row[0]\n",
    "                start = row[1]\n",
    "                end = row[2]\n",
    "                direction = row[4]\n",
    "                gene = row[3]\n",
    "                full_or_part_codon = row [7]\n",
    "                part_of_codon = row[8]\n",
    "                ASXL1_regions[row_count] = (gene, chrom, start, end, direction, full_or_part_codon, part_of_codon)\n",
    "        row_count = row_count+1\n",
    "\n",
    "ASXL1_partial_codon_regions={}\n",
    "ASXL1_full_codon_regions = {}\n",
    "for k, v in ASXL1_regions.items():\n",
    "    full_or_part = v[5]\n",
    "    if full_or_part == 'N':\n",
    "        ASXL1_partial_codon_regions[k] = v  #there are no partial codons in ASXL1\n",
    "    if full_or_part == 'Y':\n",
    "        ASXL1_full_codon_regions[k] = v"
   ]
  },
  {
   "cell_type": "code",
   "execution_count": 56,
   "metadata": {},
   "outputs": [
    {
     "data": {
      "text/plain": [
       "{22: ('ASXL1', 'chr20', '31021244', '31022303', '+', 'noncoding', ''),\n",
       " 29: ('ASXL1', 'chr20', '31021205', '31021219', '+', 'Y', ''),\n",
       " 30: ('ASXL1', 'chr20', '31022583', '31022600', '+', 'Y', ''),\n",
       " 31: ('ASXL1', 'chr20', '31022916', '31022930', '+', 'Y', '')}"
      ]
     },
     "execution_count": 56,
     "metadata": {},
     "output_type": "execute_result"
    }
   ],
   "source": [
    "ASXL1_regions"
   ]
  },
  {
   "cell_type": "markdown",
   "metadata": {},
   "source": [
    "#### Full ASXL1 codons..."
   ]
  },
  {
   "cell_type": "code",
   "execution_count": 57,
   "metadata": {
    "code_folding": [],
    "scrolled": true
   },
   "outputs": [],
   "source": [
    "# Calculate the dictionary containing the mutation rates for the nonsynonymous mutations in each of these regions\n",
    "# Dictionary = row_count: mutation rate\n",
    "nonsynonymous_mutation_rates_full_ASXL1_codons = {}\n",
    "for k in ASXL1_full_codon_regions.keys():\n",
    "#     print(k)\n",
    "    values = ASXL1_full_codon_regions[k]\n",
    "    chromosome = values[1]\n",
    "    start = values[2]\n",
    "    end = values[3]\n",
    "    strand = values[4]\n",
    "    length_of_region = (int(end)-int(start))+1\n",
    "#     print(length_of_region)\n",
    "    coding_sequence_extra_bases = sequence_plus_minus_one(chromosome, start, end, strand)\n",
    "#     print(coding_sequence_extra_bases)\n",
    "    coding_sequence = sequence(chromosome, start, end, strand)\n",
    "#     print(coding_sequence)\n",
    "    nonsyn_mutation_rate_ASXL1 = nonsynonymous_mutation_rate_across_gene(coding_sequence, coding_sequence_extra_bases, 0, length_of_region)\n",
    "\n",
    "    nonsynonymous_mutation_rates_full_ASXL1_codons[k]=(nonsyn_mutation_rate_ASXL1)"
   ]
  },
  {
   "cell_type": "code",
   "execution_count": 58,
   "metadata": {},
   "outputs": [
    {
     "name": "stdout",
     "output_type": "stream",
     "text": [
      "Summed nonsynonymous mutation rate across the full ASXL1 codons =  1.7819509500000002e-07\n"
     ]
    }
   ],
   "source": [
    "# Sum the mutation rates for nonsynonymous ASXL1 variants across all the regions (full codons) covered\n",
    "total_nonsyn_mut_rate_full_ASXL1_codons = []\n",
    "for k, v in nonsynonymous_mutation_rates_full_ASXL1_codons.items():\n",
    "    mutation_rate = v\n",
    "    total_nonsyn_mut_rate_full_ASXL1_codons.append(mutation_rate)\n",
    "    \n",
    "summed_nonsyn_mut_rate_full_ASXL1_codons = np.sum(total_nonsyn_mut_rate_full_ASXL1_codons)\n",
    "\n",
    "print('Summed nonsynonymous mutation rate across the full ASXL1 codons = ', summed_nonsyn_mut_rate_full_ASXL1_codons)"
   ]
  },
  {
   "cell_type": "markdown",
   "metadata": {},
   "source": [
    "**Mutation rate for ASXL1 nonsynonymous variants in Acuna-Hidalgo 2017 = 1.7819509500000002e-07**"
   ]
  },
  {
   "cell_type": "markdown",
   "metadata": {},
   "source": [
    "### TP53"
   ]
  },
  {
   "cell_type": "code",
   "execution_count": 59,
   "metadata": {
    "code_folding": []
   },
   "outputs": [],
   "source": [
    "# Create a dictionary containing info of the DNMT3A coordinates they covered with their smMIPs\n",
    "# Dictionary = row_count: (gene, chromosome, start position, end position, strand direction)\n",
    "# e.g. row_count: ('TP53', 'chr17', '7577500', '7577608', '-', 'Y', '')\n",
    "\n",
    "import csv\n",
    "filename=\"Data files/Acuna_Hidalgo_regions_analysed.csv\"\n",
    "\n",
    "with open(filename, 'r') as csvfile:\n",
    "    read_reader = csv.reader(csvfile)  #csv.reader returns a reader object which will iterate over lines in the csvfile\n",
    "    row_count=0\n",
    "    TP53_regions = {}\n",
    "\n",
    "    for row in read_reader:\n",
    "        if row_count>1:\n",
    "            if row[3]=='TP53': \n",
    "#             print(row)\n",
    "                chrom = row[0]\n",
    "                start = row[1]\n",
    "                end = row[2]\n",
    "                direction = row[4]\n",
    "                gene = row[3]\n",
    "                full_or_part_codon = row [7]\n",
    "                part_of_codon = row[8]\n",
    "                TP53_regions[row_count] = (gene, chrom, start, end, direction, full_or_part_codon, part_of_codon)\n",
    "        row_count = row_count+1\n",
    "        \n",
    "TP53_partial_codon_regions={}\n",
    "TP53_full_codon_regions = {}\n",
    "for k, v in TP53_regions.items():\n",
    "    full_or_part = v[5]\n",
    "    if full_or_part == 'N':\n",
    "        TP53_partial_codon_regions[k] = v\n",
    "    if full_or_part == 'Y':\n",
    "        TP53_full_codon_regions[k] = v"
   ]
  },
  {
   "cell_type": "code",
   "execution_count": 60,
   "metadata": {},
   "outputs": [
    {
     "data": {
      "text/plain": [
       "{6: ('TP53', 'chr17', '7577460', '7577499', '-', 'intronic', ''),\n",
       " 7: ('TP53', 'chr17', '7577609', '7577612', '-', 'intronic', ''),\n",
       " 8: ('TP53', 'chr17', '7578157', '7578176', '-', 'intronic', ''),\n",
       " 19: ('TP53', 'chr17', '7578225', '7578226', '-', 'N', 'last_2_bases'),\n",
       " 20: ('TP53', 'chr17', '7578374', '7578374', '-', 'N', 'last_base'),\n",
       " 21: ('TP53', 'chr17', '7579393', '7579393', '-', 'N', 'last_base'),\n",
       " 117: ('TP53', 'chr17', '7577500', '7577608', '-', 'Y', ''),\n",
       " 118: ('TP53', 'chr17', '7578177', '7578224', '-', 'Y', ''),\n",
       " 119: ('TP53', 'chr17', '7578375', '7578461', '-', 'Y', ''),\n",
       " 120: ('TP53', 'chr17', '7579327', '7579392', '-', 'Y', '')}"
      ]
     },
     "execution_count": 60,
     "metadata": {},
     "output_type": "execute_result"
    }
   ],
   "source": [
    "TP53_regions"
   ]
  },
  {
   "cell_type": "markdown",
   "metadata": {},
   "source": [
    "#### Full TP53 codons"
   ]
  },
  {
   "cell_type": "code",
   "execution_count": 61,
   "metadata": {
    "code_folding": [],
    "scrolled": true
   },
   "outputs": [],
   "source": [
    "# Calculate the dictionary containing the mutation rates for the nonsynonymous mutations in each of these regions\n",
    "# Dictionary = row_count: mutation rate\n",
    "nonsynonymous_mutation_rates_full_codons_TP53 = {}\n",
    "for k in TP53_full_codon_regions.keys():\n",
    "#     print(k)\n",
    "    values = TP53_full_codon_regions[k]\n",
    "    chromosome = values[1]\n",
    "    start = values[2]\n",
    "    end = values[3]\n",
    "    strand = values[4]\n",
    "    length_of_region = (int(end)-int(start))+1\n",
    "#     print(length_of_region)\n",
    "    coding_sequence_extra_bases = sequence_plus_minus_one(chromosome, start, end, strand)\n",
    "#     print(coding_sequence_extra_bases)\n",
    "    coding_sequence = sequence(chromosome, start, end, strand)\n",
    "#     print(coding_sequence)\n",
    "    nonsyn_mutation_rate_TP53 = nonsynonymous_mutation_rate_across_gene(coding_sequence, coding_sequence_extra_bases, 0, length_of_region)\n",
    "\n",
    "    nonsynonymous_mutation_rates_full_codons_TP53[k]=(nonsyn_mutation_rate_TP53)"
   ]
  },
  {
   "cell_type": "code",
   "execution_count": 62,
   "metadata": {},
   "outputs": [
    {
     "name": "stdout",
     "output_type": "stream",
     "text": [
      "Summed nonsynonymous mutation rate across the full TP53 codons =  9.266330089999999e-07\n"
     ]
    }
   ],
   "source": [
    "# Sum the mutation rates for nonsynonymous TP53 variants across all the regions (full codons) covered\n",
    "total_nonsyn_mut_rate_full_codons_TP53 = []\n",
    "for k, v in nonsynonymous_mutation_rates_full_codons_TP53.items():\n",
    "    mutation_rate = v\n",
    "    total_nonsyn_mut_rate_full_codons_TP53.append(mutation_rate)\n",
    "    \n",
    "summed_nonsyn_mut_rate_full_codons_TP53 = np.sum(total_nonsyn_mut_rate_full_codons_TP53)\n",
    "\n",
    "print('Summed nonsynonymous mutation rate across the full TP53 codons = ', summed_nonsyn_mut_rate_full_codons_TP53)"
   ]
  },
  {
   "cell_type": "markdown",
   "metadata": {},
   "source": [
    "#### Partial TP53 codons"
   ]
  },
  {
   "cell_type": "code",
   "execution_count": 63,
   "metadata": {
    "scrolled": true
   },
   "outputs": [
    {
     "name": "stdout",
     "output_type": "stream",
     "text": [
      "summed nonsyn mutation rate across all first partial codons = 0.0\n"
     ]
    }
   ],
   "source": [
    "TP53_nonsynonymous_partial_codons_rate1 = nonsynonymous_mutation_rate_first_2_bases_of_codons(TP53_partial_codon_regions)"
   ]
  },
  {
   "cell_type": "code",
   "execution_count": 64,
   "metadata": {
    "scrolled": true
   },
   "outputs": [
    {
     "name": "stdout",
     "output_type": "stream",
     "text": [
      "summed mutation rate across all nonsyn last partial codons = 3.882247000000001e-09\n"
     ]
    }
   ],
   "source": [
    "TP53_nonsynonymous_partial_codons_rate2 = nonsynonymous_mutation_rate_last_2_bases_of_codons(TP53_partial_codon_regions)"
   ]
  },
  {
   "cell_type": "markdown",
   "metadata": {},
   "source": [
    "#### Adding the partial and complete codon TP53 mutation rates together (nonsynonymous)"
   ]
  },
  {
   "cell_type": "code",
   "execution_count": 65,
   "metadata": {},
   "outputs": [
    {
     "name": "stdout",
     "output_type": "stream",
     "text": [
      "Total Acuna-Hidalgo TP53 nonsynonymous mutation rate = 9.305152559999999e-07\n"
     ]
    }
   ],
   "source": [
    "acuna_total_nonsynonymous_mutation_rate_TP53 = summed_nonsyn_mut_rate_full_codons_TP53+\\\n",
    "TP53_nonsynonymous_partial_codons_rate1+TP53_nonsynonymous_partial_codons_rate2\n",
    "print('Total Acuna-Hidalgo TP53 nonsynonymous mutation rate =', acuna_total_nonsynonymous_mutation_rate_TP53)"
   ]
  },
  {
   "cell_type": "markdown",
   "metadata": {},
   "source": [
    "#### Excluded regions in TP53"
   ]
  },
  {
   "cell_type": "markdown",
   "metadata": {},
   "source": [
    "- Calculated in 'TP53 mutation rates' jupyter notebook.\n",
    "- Mutation rate for excluded regions in TP53 in Acuna-Hidalgo 2017 = 3.102054e-09"
   ]
  },
  {
   "cell_type": "markdown",
   "metadata": {},
   "source": [
    "**Mutation rate for TP53 nonsynonymous variants in Acuna-Hidalgo 2017 = 9.305152559999999e-07 - 3.102054e-09 = 9.274132019999999e-07**"
   ]
  }
 ],
 "metadata": {
  "kernelspec": {
   "display_name": "Python 3",
   "language": "python",
   "name": "python3"
  },
  "language_info": {
   "codemirror_mode": {
    "name": "ipython",
    "version": 3
   },
   "file_extension": ".py",
   "mimetype": "text/x-python",
   "name": "python",
   "nbconvert_exporter": "python",
   "pygments_lexer": "ipython3",
   "version": "3.7.4"
  },
  "latex_envs": {
   "LaTeX_envs_menu_present": true,
   "autocomplete": true,
   "bibliofile": "biblio.bib",
   "cite_by": "apalike",
   "current_citInitial": 1,
   "eqLabelWithNumbers": true,
   "eqNumInitial": 1,
   "hotkeys": {
    "equation": "Ctrl-E",
    "itemize": "Ctrl-I"
   },
   "labels_anchors": false,
   "latex_user_defs": false,
   "report_style_numbering": false,
   "user_envs_cfg": false
  },
  "toc": {
   "base_numbering": 1,
   "nav_menu": {},
   "number_sections": true,
   "sideBar": true,
   "skip_h1_title": false,
   "title_cell": "Table of Contents",
   "title_sidebar": "Contents",
   "toc_cell": true,
   "toc_position": {
    "height": "calc(100% - 180px)",
    "left": "10px",
    "top": "150px",
    "width": "373.3333435058594px"
   },
   "toc_section_display": "block",
   "toc_window_display": true
  }
 },
 "nbformat": 4,
 "nbformat_minor": 2
}
