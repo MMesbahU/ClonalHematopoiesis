{
 "cells": [
  {
   "cell_type": "markdown",
   "metadata": {
    "toc": true
   },
   "source": [
    "<h1>Table of Contents<span class=\"tocSkip\"></span></h1>\n",
    "<div class=\"toc\"><ul class=\"toc-item\"><li><span><a href=\"#Python-Setup\" data-toc-modified-id=\"Python-Setup-1\"><span class=\"toc-item-num\">1&nbsp;&nbsp;</span>Python Setup</a></span><ul class=\"toc-item\"><li><span><a href=\"#Change-the-width-of-the-page\" data-toc-modified-id=\"Change-the-width-of-the-page-1.1\"><span class=\"toc-item-num\">1.1&nbsp;&nbsp;</span>Change the width of the page</a></span></li><li><span><a href=\"#Import-packages\" data-toc-modified-id=\"Import-packages-1.2\"><span class=\"toc-item-num\">1.2&nbsp;&nbsp;</span>Import packages</a></span></li></ul></li><li><span><a href=\"#Colours\" data-toc-modified-id=\"Colours-2\"><span class=\"toc-item-num\">2&nbsp;&nbsp;</span>Colours</a></span></li><li><span><a href=\"#Fonts\" data-toc-modified-id=\"Fonts-3\"><span class=\"toc-item-num\">3&nbsp;&nbsp;</span>Fonts</a></span></li><li><span><a href=\"#Data-from-case-control-studies-(pre-AML-vs-controls)\" data-toc-modified-id=\"Data-from-case-control-studies-(pre-AML-vs-controls)-4\"><span class=\"toc-item-num\">4&nbsp;&nbsp;</span>Data from case-control studies (pre-AML vs controls)</a></span><ul class=\"toc-item\"><li><span><a href=\"#Desai-2018\" data-toc-modified-id=\"Desai-2018-4.1\"><span class=\"toc-item-num\">4.1&nbsp;&nbsp;</span>Desai 2018</a></span><ul class=\"toc-item\"><li><ul class=\"toc-item\"><li><span><a href=\"#With-any-variant\" data-toc-modified-id=\"With-any-variant-4.1.0.1\"><span class=\"toc-item-num\">4.1.0.1&nbsp;&nbsp;</span>With any variant</a></span></li><li><span><a href=\"#With-top-20-variant-(i.e.-'highly-fit'-variant)\" data-toc-modified-id=\"With-top-20-variant-(i.e.-'highly-fit'-variant)-4.1.0.2\"><span class=\"toc-item-num\">4.1.0.2&nbsp;&nbsp;</span>With top 20 variant (i.e. 'highly fit' variant)</a></span></li></ul></li></ul></li><li><span><a href=\"#Abelson-2018\" data-toc-modified-id=\"Abelson-2018-4.2\"><span class=\"toc-item-num\">4.2&nbsp;&nbsp;</span>Abelson 2018</a></span><ul class=\"toc-item\"><li><ul class=\"toc-item\"><li><span><a href=\"#With-any-variant\" data-toc-modified-id=\"With-any-variant-4.2.0.1\"><span class=\"toc-item-num\">4.2.0.1&nbsp;&nbsp;</span>With any variant</a></span></li><li><span><a href=\"#With-top-20-variant\" data-toc-modified-id=\"With-top-20-variant-4.2.0.2\"><span class=\"toc-item-num\">4.2.0.2&nbsp;&nbsp;</span>With top 20 variant</a></span></li></ul></li></ul></li><li><span><a href=\"#Young-2019\" data-toc-modified-id=\"Young-2019-4.3\"><span class=\"toc-item-num\">4.3&nbsp;&nbsp;</span>Young 2019</a></span><ul class=\"toc-item\"><li><ul class=\"toc-item\"><li><span><a href=\"#With-any-variant\" data-toc-modified-id=\"With-any-variant-4.3.0.1\"><span class=\"toc-item-num\">4.3.0.1&nbsp;&nbsp;</span>With any variant</a></span></li><li><span><a href=\"#With-top-20-variant\" data-toc-modified-id=\"With-top-20-variant-4.3.0.2\"><span class=\"toc-item-num\">4.3.0.2&nbsp;&nbsp;</span>With top 20 variant</a></span></li></ul></li></ul></li></ul></li><li><span><a href=\"#Plotting-the-odds-ratios-and-confidence-intervals\" data-toc-modified-id=\"Plotting-the-odds-ratios-and-confidence-intervals-5\"><span class=\"toc-item-num\">5&nbsp;&nbsp;</span>Plotting the odds ratios and confidence intervals</a></span></li></ul></div>"
   ]
  },
  {
   "cell_type": "markdown",
   "metadata": {},
   "source": [
    "# Python Setup"
   ]
  },
  {
   "cell_type": "markdown",
   "metadata": {},
   "source": [
    "## Change the width of the page"
   ]
  },
  {
   "cell_type": "code",
   "execution_count": 1,
   "metadata": {},
   "outputs": [
    {
     "data": {
      "text/html": [
       "<style>.container { width:80% !important; }</style>"
      ],
      "text/plain": [
       "<IPython.core.display.HTML object>"
      ]
     },
     "metadata": {},
     "output_type": "display_data"
    }
   ],
   "source": [
    "from IPython.core.display import display, HTML\n",
    "display(HTML(\"<style>.container { width:80% !important; }</style>\"))"
   ]
  },
  {
   "cell_type": "markdown",
   "metadata": {},
   "source": [
    "## Import packages"
   ]
  },
  {
   "cell_type": "code",
   "execution_count": 2,
   "metadata": {
    "code_folding": []
   },
   "outputs": [],
   "source": [
    "# imported packages\n",
    "import random\n",
    "import numpy as np\n",
    "import matplotlib\n",
    "import matplotlib.pyplot as plt\n",
    "import math\n",
    "import matplotlib.ticker as plticker\n",
    "from matplotlib.ticker import LinearLocator, FormatStrFormatter\n",
    "from matplotlib.patches import Polygon\n",
    "from matplotlib.patches import Patch\n",
    "from matplotlib.lines import Line2D\n",
    "from matplotlib import cm\n",
    "import scipy.special\n",
    "import scipy.integrate as it\n",
    "from scipy import integrate\n",
    "from scipy.interpolate import interp1d\n",
    "from scipy.stats import kde\n",
    "import copy\n",
    "import glob, os\n",
    "import re\n",
    "from sklearn import datasets, linear_model\n",
    "import pandas as pd\n",
    "from decimal import *\n",
    "from operator import itemgetter    \n",
    "from collections import OrderedDict\n",
    "import timeit\n",
    "import math\n",
    "import scipy.special\n",
    "from scipy import stats"
   ]
  },
  {
   "cell_type": "markdown",
   "metadata": {},
   "source": [
    "# Colours"
   ]
  },
  {
   "cell_type": "code",
   "execution_count": 3,
   "metadata": {
    "code_folding": []
   },
   "outputs": [],
   "source": [
    "# Lists of colors for plots\n",
    "c0 = (0.76, 0.76, 0.76)\n",
    "c1 = (1.00, 0.18, 0.33);\n",
    "c2 = (1.00, 0.23, 0.19);\n",
    "c3 = (1.00, 0.58, 0.00);\n",
    "c4 = (1.00, 0.80, 0.00);\n",
    "c5 = (0.30, 0.85, 0.39);\n",
    "c6 = (0.35, 0.78, 0.98);\n",
    "c7 = (0.20, 0.67, 0.86);\n",
    "c8 = (0.00, 0.48, 1.00);\n",
    "c9 = (0.35, 0.34, 0.84);\n",
    "c10 = (0.00, 0.31, 0.57);\n",
    "c11 = (0.12, 0.29, 0.69);\n",
    "c12 = (0.17, 0.17, 0.42);\n",
    "c13 = (1.00, 1.00, 1.00);\n",
    "c14 = (0.77, 0.04, 0.00);"
   ]
  },
  {
   "cell_type": "code",
   "execution_count": 4,
   "metadata": {
    "code_folding": [
     0
    ]
   },
   "outputs": [],
   "source": [
    "#define the colors from colorbrewer2\n",
    "orange1 = '#feedde'\n",
    "orange2 = '#fdbe85'\n",
    "orange3 = '#fd8d3c'\n",
    "orange4 = '#e6550d'\n",
    "orange5 = '#a63603'\n",
    "blue1 = '#eff3ff'\n",
    "blue2 = '#bdd7e7'\n",
    "blue3 = '#6baed6'\n",
    "blue4 = '#3182bd'\n",
    "blue5 = '#08519c'\n",
    "green1 = '#edf8e9'\n",
    "green2 = '#bae4b3'\n",
    "green3 = '#74c476'\n",
    "green4 = '#31a354'\n",
    "green5 = '#006d2c'\n",
    "grey1 = '#f7f7f7'\n",
    "grey2 = '#cccccc'\n",
    "grey3 = '#969696'\n",
    "grey4 = '#636363'\n",
    "grey5 = '#252525'\n",
    "purple1 = '#f2f0f7'\n",
    "purple2 = '#cbc9e2'\n",
    "purple3 = '#9e9ac8'\n",
    "purple4 = '#756bb1'\n",
    "purple5 = '#54278f'\n",
    "red1 = '#fee5d9'\n",
    "red2 = '#fcae91'\n",
    "red3 = '#fb6a4a'\n",
    "red4 = '#de2d26'\n",
    "red5 = '#a50f15'\n",
    "# yellow = '#ffffd4'"
   ]
  },
  {
   "cell_type": "markdown",
   "metadata": {},
   "source": [
    "# Fonts"
   ]
  },
  {
   "cell_type": "code",
   "execution_count": 5,
   "metadata": {},
   "outputs": [],
   "source": [
    "axisfont=13\n",
    "titlefont=20\n",
    "subtitlefont = 15\n",
    "axislabelfont=15\n",
    "legendfont = 11\n",
    "tpfont = 12"
   ]
  },
  {
   "cell_type": "markdown",
   "metadata": {
    "collapsed": true
   },
   "source": [
    "# Data from case-control studies (pre-AML vs controls)"
   ]
  },
  {
   "cell_type": "code",
   "execution_count": 6,
   "metadata": {},
   "outputs": [],
   "source": [
    "top_genes = ['DNMT3A', 'SRSF2', 'SF3B1', 'GNB1', 'JAK2', 'IDH2'] #these are the genes in which the 'top 20' variants fall"
   ]
  },
  {
   "cell_type": "code",
   "execution_count": 7,
   "metadata": {},
   "outputs": [],
   "source": [
    "top_20_variants = ['p.P95R', 'p.K700E', 'p.P95H', 'p.K666N', 'p.P95L', 'p.K57E', 'p.V617F',\\\n",
    "                   'p.R140Q', 'p.R882C', 'p.R729W', 'p.R326C', 'p.R320*', 'p.R882H', 'p.R736H', 'p.Y735C', \\\n",
    "                 'p.R736C', 'p.W860R', 'p.R771*', 'p.R598*', 'p.P904L']"
   ]
  },
  {
   "cell_type": "markdown",
   "metadata": {},
   "source": [
    "## Desai 2018"
   ]
  },
  {
   "cell_type": "markdown",
   "metadata": {},
   "source": [
    "#### With any variant"
   ]
  },
  {
   "cell_type": "code",
   "execution_count": 8,
   "metadata": {
    "code_folding": [
     0
    ]
   },
   "outputs": [
    {
     "name": "stdout",
     "output_type": "stream",
     "text": [
      "number of controls with any mutation mutation = 48\n",
      "number of AML cases with any mutation mutation = 129\n"
     ]
    }
   ],
   "source": [
    "# What proportion of cases and controls had any nonsynonymous variant present in their blood sample?\n",
    "import csv\n",
    "filename=\"Desai_2018_SNVs.csv\"\n",
    "\n",
    "with open(filename, 'r') as csvfile:\n",
    "    read_reader = csv.reader(csvfile)  #csv.reader returns a reader object which will iterate over lines in the csvfile\n",
    "    row_count=0\n",
    "    Desai_any_mutation_controls={}\n",
    "    Desai_any_mutation_AML={}\n",
    "    \n",
    "    for row in read_reader:\n",
    "        if row_count>0:\n",
    "            gene = row[1]\n",
    "            case_control = row[15]\n",
    "            timepoint = row[16]\n",
    "            variant = row[13]\n",
    "            VAF = row[23]\n",
    "            age = row[19]\n",
    "            ID = row[0]\n",
    "            time_to_AML = row[20]\n",
    "            if case_control == 'Control':\n",
    "                Desai_any_mutation_controls[ID]= (ID, age,gene, variant, VAF, timepoint)\n",
    "            if case_control == 'AML case':\n",
    "                Desai_any_mutation_AML[ID]= (ID, age,gene, variant, VAF, time_to_AML, timepoint)\n",
    "\n",
    "        row_count=row_count+1\n",
    "        \n",
    "print(\"number of controls with any mutation mutation =\", len(Desai_any_mutation_controls))\n",
    "print(\"number of AML cases with any mutation mutation =\", len(Desai_any_mutation_AML))"
   ]
  },
  {
   "cell_type": "markdown",
   "metadata": {},
   "source": [
    "- **48/181 = 26.5% of controls have any variant at any timepoint**\n",
    "- **129/188 = 68.6% of cases have any variant at any timepoint**"
   ]
  },
  {
   "cell_type": "markdown",
   "metadata": {},
   "source": [
    "#### With top 20 variant (i.e. 'highly fit' variant)"
   ]
  },
  {
   "cell_type": "code",
   "execution_count": 9,
   "metadata": {
    "code_folding": [
     0
    ]
   },
   "outputs": [
    {
     "name": "stdout",
     "output_type": "stream",
     "text": [
      "number of controls with top 20 mutation = 11\n",
      "number of AML cases with top 20 mutation = 63\n"
     ]
    }
   ],
   "source": [
    "# What proportion of cases and controls had one of the top 20 variants present in their blood sample?\n",
    "import csv\n",
    "filename=\"Desai_2018_SNVs.csv\"\n",
    "\n",
    "with open(filename, 'r') as csvfile:\n",
    "    read_reader = csv.reader(csvfile)  #csv.reader returns a reader object which will iterate over lines in the csvfile\n",
    "    row_count=0\n",
    "    Desai_top20_controls={} \n",
    "    Desai_top20_AML={}\n",
    "    \n",
    "    for row in read_reader:\n",
    "        if row_count>0:\n",
    "            gene = row[1]\n",
    "            if gene in top_genes:\n",
    "                case_control = row[15]\n",
    "                timepoint = row[16]\n",
    "                variant = row[13]\n",
    "                VAF = row[23]\n",
    "                age = row[19]\n",
    "                ID = row[0]\n",
    "                time_to_AML = row[20]\n",
    "                if variant in top_20_variants:\n",
    "                    if case_control == 'Control':\n",
    "                        if ID not in Desai_top20_controls.keys():\n",
    "                            Desai_top20_controls[ID]= ([(age,gene, variant, VAF, timepoint)])\n",
    "                        else:\n",
    "                            Desai_top20_controls[ID].append([(age,gene, variant, VAF, timepoint)])\n",
    "                    if case_control == 'AML case':\n",
    "                        if ID not in Desai_top20_AML.keys():\n",
    "                            Desai_top20_AML[ID]= ([(age,gene, variant, VAF, timepoint)])\n",
    "                        else:\n",
    "                            Desai_top20_AML[ID].append([(age,gene, variant, VAF, timepoint)])\n",
    "        row_count=row_count+1\n",
    "        \n",
    "print(\"number of controls with top 20 mutation =\", len(Desai_top20_controls))\n",
    "print(\"number of AML cases with top 20 mutation =\", len(Desai_top20_AML))"
   ]
  },
  {
   "cell_type": "markdown",
   "metadata": {},
   "source": [
    "- **11/181 = 6.1% controls have mutation in top 20 variants at any timepoint**\n",
    "- **63/188 = 33.5% of cases have mutation in top 20 variants at any timepoint**"
   ]
  },
  {
   "cell_type": "markdown",
   "metadata": {},
   "source": [
    "## Abelson 2018"
   ]
  },
  {
   "cell_type": "markdown",
   "metadata": {},
   "source": [
    "#### With any variant"
   ]
  },
  {
   "cell_type": "code",
   "execution_count": 10,
   "metadata": {
    "code_folding": [
     0
    ],
    "scrolled": false
   },
   "outputs": [
    {
     "name": "stdout",
     "output_type": "stream",
     "text": [
      "number of controls with any mutation = 212\n",
      "number of AML cases with any mutation = 83\n"
     ]
    }
   ],
   "source": [
    "# What proportion of cases and controls had any nonsynonymous variant present in their blood sample?\n",
    "import csv\n",
    "filename=\"Abelson_2018_SNVs.csv\"\n",
    "\n",
    "with open(filename, 'r') as csvfile:\n",
    "    read_reader = csv.reader(csvfile)  #csv.reader returns a reader object which will iterate over lines in the csvfile\n",
    "    row_count=0\n",
    "    Abelson_any_mutation_controls = {}\n",
    "    Abelson_any_mutation_AML = {}\n",
    "\n",
    "    for row in read_reader:\n",
    "        if row_count>0:\n",
    "            case_control = row[13]\n",
    "            VAF = row[9]\n",
    "            individual_ID = row[0]\n",
    "            sample_ID = row[1]\n",
    "            AA = row[11]\n",
    "            age = row[3]\n",
    "            mutation_type = row[12]\n",
    "            gene = row[10]\n",
    "            if case_control == 'Control':\n",
    "                if row[14]=='Discovery':  #discovery cohort only had 1 timepoint\n",
    "                    Abelson_any_mutation_controls[individual_ID]=(individual_ID, VAF, gene, AA, case_control, age)\n",
    "                if row[14]=='Validation':\n",
    "                    Abelson_any_mutation_controls[individual_ID]=(individual_ID, VAF, gene, AA, case_control, age)\n",
    "            if case_control == 'Pre-AML':\n",
    "                if row[14]=='Discovery':  #discovery cohort only had 1 timepoint\n",
    "                    Abelson_any_mutation_AML[individual_ID]=(individual_ID, VAF, gene, AA, case_control, age)\n",
    "                if row[14]=='Validation':\n",
    "                    Abelson_any_mutation_AML[individual_ID]=(individual_ID, VAF, gene, AA, case_control, age)\n",
    "\n",
    "        row_count=row_count+1\n",
    "        \n",
    "print(\"number of controls with any mutation =\", len(Abelson_any_mutation_controls))\n",
    "print(\"number of AML cases with any mutation =\", len(Abelson_any_mutation_AML))"
   ]
  },
  {
   "cell_type": "markdown",
   "metadata": {},
   "source": [
    "- **controls with any variant at any timepoint = 212/676 = 31.4%**\n",
    "- **AML cases with any variant at any timepoint = 83/676 = 12.3%**"
   ]
  },
  {
   "cell_type": "markdown",
   "metadata": {},
   "source": [
    "#### With top 20 variant"
   ]
  },
  {
   "cell_type": "code",
   "execution_count": 11,
   "metadata": {
    "code_folding": [
     0
    ],
    "scrolled": false
   },
   "outputs": [
    {
     "name": "stdout",
     "output_type": "stream",
     "text": [
      "number of controls with top 20 mutation = 28\n",
      "number of AML cases with top 20 mutation = 27\n"
     ]
    }
   ],
   "source": [
    "# What proportion of cases and controls had one of the top 20 variants present in their blood sample?\n",
    "import csv\n",
    "filename=\"Abelson_2018_SNVs.csv\"\n",
    "\n",
    "with open(filename, 'r') as csvfile:\n",
    "    read_reader = csv.reader(csvfile)  #csv.reader returns a reader object which will iterate over lines in the csvfile\n",
    "    row_count=0\n",
    "    Abelson_top20_controls={}\n",
    "    Abelson_top20_AML={}\n",
    "\n",
    "    for row in read_reader:\n",
    "        if row_count>0:\n",
    "            case_control = row[13]\n",
    "            VAF = row[9]\n",
    "            individual_ID = row[0]\n",
    "            sample_ID = row[1]\n",
    "            AA = row[11]\n",
    "            age = row[3]\n",
    "            mutation_type = row[12]\n",
    "            gene = row[10]\n",
    "            if case_control == 'Control':\n",
    "                if row[14]=='Discovery':  #discovery cohort only had 1 timepoint\n",
    "                    if gene in top_genes:\n",
    "                        if AA in top_20_variants:\n",
    "                            if individual_ID not in Abelson_top20_controls.keys():\n",
    "                                Abelson_top20_controls[individual_ID]= ([(age,gene, AA, VAF)])\n",
    "                            else:\n",
    "                                Abelson_top20_controls[individual_ID].append([(age,gene, AA, VAF)])\n",
    "                if row[14]=='Validation':\n",
    "                    if gene in top_genes:\n",
    "                        if AA in top_20_variants:\n",
    "                            if individual_ID not in Abelson_top20_controls.keys():\n",
    "                                Abelson_top20_controls[individual_ID]= ([(age,gene, AA, VAF)])\n",
    "                            else:\n",
    "                                Abelson_top20_controls[individual_ID].append([(age,gene, AA, VAF)])\n",
    "                                \n",
    "            if case_control == 'Pre-AML':\n",
    "                if row[14]=='Discovery':  #discovery cohort only had 1 timepoint\n",
    "                    if gene in top_genes:\n",
    "                        if AA in top_20_variants:\n",
    "                            if individual_ID not in Abelson_top20_AML.keys():\n",
    "                                Abelson_top20_AML[individual_ID]= ([(age,gene, AA, VAF)])\n",
    "                            else:\n",
    "                                Abelson_top20_AML[individual_ID].append([(age,gene, AA, VAF)])\n",
    "                if row[14]=='Validation':\n",
    "                    if gene in top_genes:\n",
    "                        if AA in top_20_variants:\n",
    "                            if individual_ID not in Abelson_top20_AML.keys():\n",
    "                                Abelson_top20_AML[individual_ID]= ([(age,gene, AA, VAF)])\n",
    "                            else:\n",
    "                                Abelson_top20_AML[individual_ID].append([(age,gene, AA, VAF)])\n",
    "\n",
    "        row_count=row_count+1\n",
    "        \n",
    "print(\"number of controls with top 20 mutation =\", len(Abelson_top20_controls))\n",
    "print(\"number of AML cases with top 20 mutation =\", len(Abelson_top20_AML))"
   ]
  },
  {
   "cell_type": "markdown",
   "metadata": {},
   "source": [
    "- **controls with top 20 variant at any timepoint = 28/676 = 4.1%**\n",
    "- **AML cases with top 20 variant at any timepoint = 27/124 = 22%**"
   ]
  },
  {
   "cell_type": "markdown",
   "metadata": {},
   "source": [
    "## Young 2019"
   ]
  },
  {
   "cell_type": "markdown",
   "metadata": {},
   "source": [
    "#### With any variant"
   ]
  },
  {
   "cell_type": "code",
   "execution_count": 12,
   "metadata": {
    "code_folding": [],
    "scrolled": false
   },
   "outputs": [
    {
     "name": "stdout",
     "output_type": "stream",
     "text": [
      "number of controls with any mutation = 64\n",
      "number of AML cases with any mutation = 34\n"
     ]
    }
   ],
   "source": [
    "#What proportion of cases and controls had any nonsynonymous variant present in their blood sample?\n",
    "import csv\n",
    "filename=\"Young_2019_SNVs.csv\"\n",
    "\n",
    "with open(filename, 'r') as csvfile:\n",
    "    read_reader = csv.reader(csvfile)  #csv.reader returns a reader object which will iterate over lines in the csvfile\n",
    "    row_count=0\n",
    "    Young_any_mutation_controls = {}\n",
    "    Young_any_mutation_AML = {}\n",
    "\n",
    "    for row in read_reader:\n",
    "        if row_count>0:\n",
    "            case_control = row[2]\n",
    "            VAF1 = row[7]\n",
    "            VAF2 = row[8]\n",
    "            individual_ID = row[0]\n",
    "            AA = row[5]\n",
    "            gene = row[3]\n",
    "            if case_control != 'case':\n",
    "                if VAF1 != '-':\n",
    "                    if individual_ID not in Young_any_mutation_controls.keys():\n",
    "                        Young_any_mutation_controls[individual_ID]=([VAF1, gene, AA, case_control])\n",
    "                    else:\n",
    "                        Young_any_mutation_controls[individual_ID].append([gene, AA, VAF1])\n",
    "                if VAF2 != '-':\n",
    "                    if individual_ID not in Young_any_mutation_controls.keys():\n",
    "                        Young_any_mutation_controls[individual_ID]=(['VAF2', VAF2, gene, AA, case_control, age])\n",
    "                    else:\n",
    "                        Young_any_mutation_controls[individual_ID].append(['VAF2', gene, AA, VAF2])\n",
    "            if case_control == 'case':\n",
    "                if VAF1 != '-':\n",
    "                    if individual_ID not in Young_any_mutation_AML.keys():\n",
    "                        Young_any_mutation_AML[individual_ID]=([individual_ID, VAF1, gene, AA, case_control, age])\n",
    "                    else:\n",
    "                        Young_any_mutation_AML[individual_ID].append([gene, AA, VAF1])\n",
    "                if VAF2 != '-':\n",
    "                    if individual_ID not in Young_any_mutation_AML.keys():\n",
    "                        Young_any_mutation_AML[individual_ID]=(['VAF2', individual_ID, VAF2, gene, AA, case_control, age])\n",
    "                    else:\n",
    "                        Young_any_mutation_AML[individual_ID].append(['VAF2', gene, AA, VAF2])\n",
    "\n",
    "        row_count=row_count+1\n",
    "        \n",
    "print(\"number of controls with any mutation =\", len(Young_any_mutation_controls))\n",
    "print(\"number of AML cases with any mutation =\", len(Young_any_mutation_AML))"
   ]
  },
  {
   "cell_type": "markdown",
   "metadata": {},
   "source": [
    "- **controls with any variant at any timepoint = 64/69 = 93%**\n",
    "- **AML cases with any variant at any timepoint = 34/34 = 100%**"
   ]
  },
  {
   "cell_type": "markdown",
   "metadata": {},
   "source": [
    "#### With top 20 variant"
   ]
  },
  {
   "cell_type": "code",
   "execution_count": 13,
   "metadata": {
    "code_folding": [],
    "scrolled": false
   },
   "outputs": [
    {
     "name": "stdout",
     "output_type": "stream",
     "text": [
      "number of controls with top 20 mutation = 15\n",
      "number of AML cases with top 20 mutation = 16\n"
     ]
    }
   ],
   "source": [
    "# What proportion of cases and controls had one of the top 20 variants present in their blood sample?\n",
    "import csv\n",
    "filename=\"Young_2019_SNVs.csv\"\n",
    "\n",
    "with open(filename, 'r') as csvfile:\n",
    "    read_reader = csv.reader(csvfile)  #csv.reader returns a reader object which will iterate over lines in the csvfile\n",
    "    row_count=0\n",
    "    Young_top20_controls={}\n",
    "    Young_top20_AML={} #dictionary of DNMTA results (key = ID (row[]), value = VAF (row[]))\n",
    "\n",
    "    for row in read_reader:\n",
    "#         print(row)\n",
    "        if row_count>0:\n",
    "            case_control = row[2]\n",
    "            VAF1 = row[7]\n",
    "            VAF2 = row[8]\n",
    "            individual_ID = row[0]\n",
    "            AA = row[5]\n",
    "            gene = row[3]\n",
    "            if case_control != 'case':\n",
    "                if VAF1 != '-':\n",
    "                    if gene in top_genes:\n",
    "                        if AA in top_20_variants:\n",
    "                            if individual_ID not in Young_top20_controls.keys():\n",
    "                                Young_top20_controls[individual_ID]=([(individual_ID, VAF1, gene, AA, case_control)])\n",
    "                            else:\n",
    "                                Young_top20_controls[individual_ID].append([(individual_ID, VAF1, gene, AA, case_control)])\n",
    "                if VAF2 != '-':\n",
    "                    if gene in top_genes:\n",
    "                        if AA in top_20_variants:\n",
    "                            if individual_ID not in Young_top20_controls.keys():\n",
    "                                Young_top20_controls[individual_ID]=([('VAF2',individual_ID, VAF2, gene, AA, case_control)])\n",
    "                            else:\n",
    "                                Young_top20_controls[individual_ID].append([('VAF2',individual_ID, VAF2, gene, AA, case_control)])\n",
    "            if case_control == 'case':\n",
    "                if VAF1 != '-':\n",
    "                    if gene in top_genes:\n",
    "                        if AA in top_20_variants:\n",
    "                            if individual_ID not in Young_top20_AML.keys():\n",
    "                                Young_top20_AML[individual_ID]=([(individual_ID, VAF1, gene, AA, case_control)])\n",
    "                            else:\n",
    "                                Young_top20_AML[individual_ID].append([(individual_ID, VAF1, gene, AA, case_control)])\n",
    "                if VAF2 != '-':\n",
    "                    if gene in top_genes:\n",
    "                        if AA in top_20_variants:\n",
    "                            if individual_ID not in Young_top20_AML.keys():\n",
    "                                Young_top20_AML[individual_ID]=([('VAF2', individual_ID, VAF2, gene, AA, case_control)])\n",
    "                            else:\n",
    "                                Young_top20_AML[individual_ID].append([('VAF2',individual_ID, VAF2, gene, AA, case_control)])\n",
    "\n",
    "        row_count=row_count+1\n",
    "\n",
    "print(\"number of controls with top 20 mutation =\", len(Young_top20_controls))\n",
    "print(\"number of AML cases with top 20 mutation =\", len(Young_top20_AML))"
   ]
  },
  {
   "cell_type": "markdown",
   "metadata": {},
   "source": [
    "- **controls with top 20 variant at any timepoint = 15/69 = 21.7%**\n",
    "- **AML cases with top 20 variant at any timepoint = 16/34 = 47%**"
   ]
  },
  {
   "cell_type": "markdown",
   "metadata": {},
   "source": [
    "# Plotting the odds ratios and confidence intervals"
   ]
  },
  {
   "cell_type": "code",
   "execution_count": 7,
   "metadata": {},
   "outputs": [],
   "source": [
    "def fact(number):\n",
    "    return math.factorial(number)"
   ]
  },
  {
   "cell_type": "code",
   "execution_count": 44,
   "metadata": {
    "code_folding": [
     0
    ]
   },
   "outputs": [
    {
     "name": "stdout",
     "output_type": "stream",
     "text": [
      "total controls = 926\n",
      "total AML cases = 346\n",
      "\n",
      "total controls with any variant = 324\n",
      "total controls with top 20 (high fitness) variant = 54\n",
      "total controls with lower fitness variant = 270\n",
      "total controls with no high fitness variant = 872\n",
      "total controls with no variant = 602\n",
      "\n",
      "total AML cases with any variant = 246\n",
      "total AML cases with top 20 (high fitness) variant = 106\n",
      "total AML cases with lower fitness variant = 140\n",
      "total AML cases with no high fitness variant = 240\n",
      "total AML cases with no variant = 100\n"
     ]
    }
   ],
   "source": [
    "#Numbers in each category\n",
    "Desai_total_controls = 181\n",
    "Desai_total_AML = 188\n",
    "Abelson_total_controls = 676\n",
    "Abelson_total_AML = 124\n",
    "Young_total_controls = 69\n",
    "Young_total_AML = 34\n",
    "\n",
    "total_controls = Desai_total_controls + Abelson_total_controls + Young_total_controls\n",
    "total_any_variant_controls = len(Desai_any_mutation_controls) + len(Abelson_any_mutation_controls) + len(Young_any_mutation_controls)\n",
    "total_high_fitness_variant_controls = len(Desai_top20_controls) + len(Abelson_top20_controls) + len(Young_top20_controls)\n",
    "total_low_fitness_variant_controls = total_any_variant_controls - total_high_fitness_variant_controls\n",
    "total_no_high_fitness_variant_controls = total_controls - total_high_fitness_variant_controls\n",
    "total_no_variant_controls = total_controls - total_any_variant_controls\n",
    "\n",
    "total_AML = Desai_total_AML + Abelson_total_AML + Young_total_AML\n",
    "total_any_variant_AML = len(Desai_any_mutation_AML) + len(Abelson_any_mutation_AML) + len(Young_any_mutation_AML)\n",
    "total_high_fitness_variant_AML = len(Desai_top20_AML) + len(Abelson_top20_AML) + len(Young_top20_AML)\n",
    "total_low_fitness_variant_AML = total_any_variant_AML - total_high_fitness_variant_AML\n",
    "total_no_high_fitness_variant_AML = total_AML - total_high_fitness_variant_AML\n",
    "total_no_variant_AML = total_AML - total_any_variant_AML\n",
    "\n",
    "print('total controls =', total_controls)\n",
    "print('total AML cases =', total_AML)\n",
    "print(\"\")\n",
    "print('total controls with any variant =', total_any_variant_controls)\n",
    "print('total controls with top 20 (high fitness) variant =', total_high_fitness_variant_controls)\n",
    "print('total controls with lower fitness variant =', total_low_fitness_variant_controls)\n",
    "print('total controls with no high fitness variant =', total_no_high_fitness_variant_controls)\n",
    "print('total controls with no variant =', total_no_variant_controls)\n",
    "print(\"\")\n",
    "print('total AML cases with any variant =', total_any_variant_AML)\n",
    "print('total AML cases with top 20 (high fitness) variant =', total_high_fitness_variant_AML)\n",
    "print('total AML cases with lower fitness variant =', total_low_fitness_variant_AML)\n",
    "print('total AML cases with no high fitness variant =', total_no_high_fitness_variant_AML)\n",
    "print('total AML cases with no variant =', total_no_variant_AML)"
   ]
  },
  {
   "cell_type": "code",
   "execution_count": 51,
   "metadata": {
    "code_folding": [
     0
    ]
   },
   "outputs": [
    {
     "name": "stdout",
     "output_type": "stream",
     "text": [
      "Odds ratio = 4.5707407407407405\n",
      "upper 95% CI = 5.980516348303523\n",
      "lower 95% CI = 3.493288823630338\n",
      "p-value = 4.321737117627897e-31\n"
     ]
    }
   ],
   "source": [
    "#Any variant vs No variant\n",
    "a = total_any_variant_AML #cases with any variant (246)\n",
    "b = total_any_variant_controls #controls with any variant (324)\n",
    "c = total_no_variant_AML #cases with no variant (100)\n",
    "d = total_no_variant_controls #controls with no variant (602)\n",
    "OR = (a/b)/(c/d)\n",
    "SE = np.sqrt((1/a)+(1/b)+(1/c)+(1/d))\n",
    "upperCI_any_variant_no_variant = np.exp((np.log(OR)+1.96*SE))\n",
    "lowerCI_any_variant_no_variant = np.exp((np.log(OR)-1.96*SE))\n",
    "oddsratio_any_variant_no_variant, pvalue_any_variant_no_variant = stats.fisher_exact([[a, b], [c, d]], alternative = 'greater')\n",
    "\n",
    "print(\"Odds ratio =\", oddsratio_any_variant_no_variant)\n",
    "print(\"upper 95% CI =\", upperCI_any_variant_no_variant)\n",
    "print(\"lower 95% CI =\", lowerCI_any_variant_no_variant)\n",
    "print(\"p-value =\", pvalue_any_variant_no_variant)"
   ]
  },
  {
   "cell_type": "code",
   "execution_count": 52,
   "metadata": {
    "code_folding": [
     0
    ],
    "scrolled": true
   },
   "outputs": [
    {
     "name": "stdout",
     "output_type": "stream",
     "text": [
      "Odds ratio = 3.7857142857142856\n",
      "upper 95% CI = 5.56949865414218\n",
      "lower 95% CI = 2.5732356793734787\n",
      "p-value = 3.3388976542626843e-12\n"
     ]
    }
   ],
   "source": [
    "#High fitness vs Low fitness\n",
    "a = total_high_fitness_variant_AML #cases with high fitness variant (106)\n",
    "b = total_high_fitness_variant_controls #controls with high fitness variant (54)\n",
    "c = total_low_fitness_variant_AML #cases with low fitness variant (140)\n",
    "d = total_low_fitness_variant_controls #controls with low fitness variant (270)\n",
    "OR = (a/b)/(c/d)\n",
    "SE = np.sqrt((1/a)+(1/b)+(1/c)+(1/d))\n",
    "upperCI_high_fit_low_fit = np.exp((np.log(OR)+1.96*SE))\n",
    "lowerCI_high_fit_low_fit = np.exp((np.log(OR)-1.96*SE))\n",
    "oddsratio_high_fit_low_fit, pvalue_high_fit_low_fit = stats.fisher_exact([[a, b], [c, d]], alternative = 'greater')\n",
    "\n",
    "print(\"Odds ratio =\", oddsratio_high_fit_low_fit)\n",
    "print(\"upper 95% CI =\", upperCI_high_fit_low_fit)\n",
    "print(\"lower 95% CI =\", lowerCI_high_fit_low_fit)\n",
    "print(\"p-value =\", pvalue_high_fit_low_fit)"
   ]
  },
  {
   "cell_type": "code",
   "execution_count": 53,
   "metadata": {
    "code_folding": [
     0
    ]
   },
   "outputs": [
    {
     "name": "stdout",
     "output_type": "stream",
     "text": [
      "Odds ratio = 7.132098765432099\n",
      "upper 95% CI = 10.196953551682663\n",
      "lower 95% CI = 4.988434294817809\n",
      "p-value = 9.131525013701303e-29\n"
     ]
    }
   ],
   "source": [
    "#High-fitness vs No high-fitness\n",
    "a = total_high_fitness_variant_AML #cases with high fitness variant (106)\n",
    "b = total_high_fitness_variant_controls #controls with high fitness variant (54)\n",
    "c = total_no_high_fitness_variant_AML #cases with no high fitness variant (240)\n",
    "d = total_no_high_fitness_variant_controls #controls with no high fitness variant (872)\n",
    "OR = (a/b)/(c/d)\n",
    "SE = np.sqrt((1/a)+(1/b)+(1/c)+(1/d))\n",
    "upperCI_high_fit_nohigh_fit = np.exp((np.log(OR)+1.96*SE))\n",
    "lowerCI_high_fit_nohigh_fit = np.exp((np.log(OR)-1.96*SE))\n",
    "oddsratio_high_fit_nohigh_fit, pvalue_high_fit_nohigh_fit = stats.fisher_exact([[a, b], [c, d]], alternative = 'greater')\n",
    "\n",
    "print(\"Odds ratio =\", oddsratio_high_fit_nohigh_fit)\n",
    "print(\"upper 95% CI =\", upperCI_high_fit_nohigh_fit)\n",
    "print(\"lower 95% CI =\", lowerCI_high_fit_nohigh_fit)\n",
    "print(\"p-value =\", pvalue_high_fit_nohigh_fit)"
   ]
  },
  {
   "cell_type": "code",
   "execution_count": 55,
   "metadata": {
    "code_folding": [
     0
    ]
   },
   "outputs": [
    {
     "data": {
      "image/png": "[encoded data removed]",
      "text/plain": [
       "<Figure size 864x216 with 1 Axes>"
      ]
     },
     "metadata": {
      "needs_background": "light"
     },
     "output_type": "display_data"
    }
   ],
   "source": [
    "#Odds ratio for all studies together\n",
    "import matplotlib.pyplot as plt\n",
    "plt.close('all')\n",
    "scale = 1.5\n",
    "f, (ax1) = plt.subplots(1, 1, sharey=True, figsize=(12, 3))\n",
    "\n",
    "n_groups = 3\n",
    "index = np.arange(n_groups)\n",
    "bar_width = 0.2\n",
    "opacity = 1\n",
    "\n",
    "axisfont=14*scale\n",
    "axislabelfont=15*scale\n",
    "tpfont = 14*scale\n",
    "\n",
    "top20col_AML = c1\n",
    "top20col_control = c1 \n",
    "nontop_AML = c6\n",
    "nontop_control = c6 \n",
    "\n",
    "# data to plot\n",
    "ax1.plot([lowerCI_any_variant_no_variant, upperCI_any_variant_no_variant], [1.5, 1.5], lw = 2, color = 'k', zorder = 0) #Any variant vs no variant\n",
    "ax1.scatter(oddsratio_any_variant_no_variant, 1.5, s = 150, marker = 'D', color = c1, zorder = 1)\n",
    "\n",
    "ax1.plot([lowerCI_high_fit_low_fit, upperCI_high_fit_low_fit], [1.0, 1.0], lw = 2, color = 'k', zorder = 0) # High fitness vs low fitness variant\n",
    "ax1.scatter(oddsratio_high_fit_low_fit, 1.0, s = 150, marker = 'D', color = c1, zorder = 1)\n",
    "\n",
    "ax1.plot([lowerCI_high_fit_nohigh_fit, upperCI_high_fit_nohigh_fit], [0.5, 0.5], lw =2, color = 'k', zorder = 0) # High fitness vs. No high fitness variant (i.e. low fitness or no variant)\n",
    "ax1.scatter(oddsratio_high_fit_nohigh_fit, 0.5, s = 150, marker = 'D', color = c1, zorder = 1)\n",
    "\n",
    "ax1.plot([1, 1],[-1, 3], linestyle = ':', color = grey3, lw = 3)\n",
    "\n",
    "ax1.set_xlim(0, 11)\n",
    "ax1.set_ylim(0, 2)\n",
    "    \n",
    "\n",
    "# Axis labels\n",
    "ax1.set_xlabel('Odds Ratio (95% CI)', fontsize = axisfont, labelpad = 6*scale, fontweight = 'medium')\n",
    "# ax1.xaxis.set_tick_params(width=scale, color = grey3, length = 6)\n",
    "\n",
    "x_major_ticks = [0, 1, 2, 3, 4, 5, 6, 7, 8, 9, 10, 11]\n",
    "x_major_tick_labels = [\"0\", \"1\", \"2\", \"3\", \"4\", \"5\", \"6\", \"7\", \"8\", \"9\", \"10\", \"11\"]\n",
    "ax1.set_xticks(x_major_ticks)\n",
    "ax1.set_xticklabels(x_major_tick_labels, fontsize = axisfont)\n",
    "ax1.xaxis.set_tick_params(width=scale, color = grey3, length = 6)\n",
    "\n",
    "y_major_ticks = [0.5, 1.0, 1.5]\n",
    "y_major_tick_labels = [\"High-fitness vs. No high-fitness variant\", \"High fitness vs. Low fitness variant\", \"Any variant vs. No variant\"]\n",
    "ax1.set_yticks(y_major_ticks)\n",
    "ax1.set_yticklabels(y_major_tick_labels, fontsize = axisfont)\n",
    "ax1.yaxis.set_tick_params(width=0, color = grey3, length = 6)\n",
    "\n",
    "#Only show the required axis lines\n",
    "ax1.spines['top'].set_visible(False)\n",
    "ax1.spines['right'].set_visible(False)\n",
    "ax1.spines['left'].set_visible(False)\n",
    "\n",
    "for axis in ['bottom']:\n",
    "    ax1.spines[axis].set_linewidth(scale)\n",
    "\n",
    "for axis in ['bottom']:\n",
    "    ax1.spines[axis].set_color(grey3)\n",
    "\n",
    "ax1.text(11.3, 1.5, '4.57 (3.49-5.98)', fontsize = axisfont)\n",
    "ax1.text(11.3, 1.0, '3.79 (2.57-5.57)', fontsize = axisfont)\n",
    "ax1.text(11.3, 0.5, '7.13 (4.99-10.20)', fontsize = axisfont)\n",
    "\n",
    "ax1.text(15.3, 1.5, 'p < 0.00001', fontsize = axisfont)\n",
    "ax1.text(15.3, 1.0, 'p < 0.00001', fontsize = axisfont)\n",
    "ax1.text(15.3, 0.5, 'p < 0.00001', fontsize = axisfont)\n",
    "    \n",
    "plt.show()"
   ]
  }
 ],
 "metadata": {
  "kernelspec": {
   "display_name": "Python 3",
   "language": "python",
   "name": "python3"
  },
  "language_info": {
   "codemirror_mode": {
    "name": "ipython",
    "version": 3
   },
   "file_extension": ".py",
   "mimetype": "text/x-python",
   "name": "python",
   "nbconvert_exporter": "python",
   "pygments_lexer": "ipython3",
   "version": "3.7.0"
  },
  "toc": {
   "base_numbering": 1,
   "nav_menu": {},
   "number_sections": true,
   "sideBar": true,
   "skip_h1_title": false,
   "title_cell": "Table of Contents",
   "title_sidebar": "Contents",
   "toc_cell": true,
   "toc_position": {
    "height": "calc(100% - 180px)",
    "left": "10px",
    "top": "150px",
    "width": "317.38970947265625px"
   },
   "toc_section_display": true,
   "toc_window_display": true
  }
 },
 "nbformat": 4,
 "nbformat_minor": 2
}
