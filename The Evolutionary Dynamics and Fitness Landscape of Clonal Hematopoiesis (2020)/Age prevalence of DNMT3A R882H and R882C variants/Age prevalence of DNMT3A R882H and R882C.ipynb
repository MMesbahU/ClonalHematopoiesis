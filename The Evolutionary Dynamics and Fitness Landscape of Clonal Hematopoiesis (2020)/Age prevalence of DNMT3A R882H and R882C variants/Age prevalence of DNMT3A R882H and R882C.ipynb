{
 "cells": [
  {
   "cell_type": "markdown",
   "metadata": {
    "toc": true
   },
   "source": [
    "<h1>Table of Contents<span class=\"tocSkip\"></span></h1>\n",
    "<div class=\"toc\"><ul class=\"toc-item\"><li><span><a href=\"#Python-Setup\" data-toc-modified-id=\"Python-Setup-1\"><span class=\"toc-item-num\">1&nbsp;&nbsp;</span>Python Setup</a></span><ul class=\"toc-item\"><li><span><a href=\"#Change-the-width-of-the-page\" data-toc-modified-id=\"Change-the-width-of-the-page-1.1\"><span class=\"toc-item-num\">1.1&nbsp;&nbsp;</span>Change the width of the page</a></span></li><li><span><a href=\"#Import-packages\" data-toc-modified-id=\"Import-packages-1.2\"><span class=\"toc-item-num\">1.2&nbsp;&nbsp;</span>Import packages</a></span></li></ul></li><li><span><a href=\"#Colours\" data-toc-modified-id=\"Colours-2\"><span class=\"toc-item-num\">2&nbsp;&nbsp;</span>Colours</a></span><ul class=\"toc-item\"><li><span><a href=\"#Colour-line-graph\" data-toc-modified-id=\"Colour-line-graph-2.1\"><span class=\"toc-item-num\">2.1&nbsp;&nbsp;</span>Colour line graph</a></span></li></ul></li><li><span><a href=\"#Totals-and-Markers-for-Studies\" data-toc-modified-id=\"Totals-and-Markers-for-Studies-3\"><span class=\"toc-item-num\">3&nbsp;&nbsp;</span>Totals and Markers for Studies</a></span></li><li><span><a href=\"#Mutation-rates\" data-toc-modified-id=\"Mutation-rates-4\"><span class=\"toc-item-num\">4&nbsp;&nbsp;</span>Mutation rates</a></span></li><li><span><a href=\"#Fonts\" data-toc-modified-id=\"Fonts-5\"><span class=\"toc-item-num\">5&nbsp;&nbsp;</span>Fonts</a></span></li><li><span><a href=\"#Theory-curve-equations\" data-toc-modified-id=\"Theory-curve-equations-6\"><span class=\"toc-item-num\">6&nbsp;&nbsp;</span>Theory curve equations</a></span></li><li><span><a href=\"#Age-prevalence-of-R882H-and-R882C\" data-toc-modified-id=\"Age-prevalence-of-R882H-and-R882C-7\"><span class=\"toc-item-num\">7&nbsp;&nbsp;</span>Age-prevalence of R882H and R882C</a></span><ul class=\"toc-item\"><li><span><a href=\"#Data-from-studies\" data-toc-modified-id=\"Data-from-studies-7.1\"><span class=\"toc-item-num\">7.1&nbsp;&nbsp;</span>Data from studies</a></span><ul class=\"toc-item\"><li><span><a href=\"#McKerrel-2015\" data-toc-modified-id=\"McKerrel-2015-7.1.1\"><span class=\"toc-item-num\">7.1.1&nbsp;&nbsp;</span>McKerrel 2015</a></span></li><li><span><a href=\"#Coombs-2017\" data-toc-modified-id=\"Coombs-2017-7.1.2\"><span class=\"toc-item-num\">7.1.2&nbsp;&nbsp;</span>Coombs 2017</a></span></li></ul></li><li><span><a href=\"#Maximum-likelihood-estimations-for-s%-and-VAF-limit-of-detection\" data-toc-modified-id=\"Maximum-likelihood-estimations-for-s%-and-VAF-limit-of-detection-7.2\"><span class=\"toc-item-num\">7.2&nbsp;&nbsp;</span>Maximum likelihood estimations for s% and VAF limit of detection</a></span></li><li><span><a href=\"#Plotting-the-distribution\" data-toc-modified-id=\"Plotting-the-distribution-7.3\"><span class=\"toc-item-num\">7.3&nbsp;&nbsp;</span>Plotting the distribution</a></span></li></ul></li></ul></div>"
   ]
  },
  {
   "cell_type": "markdown",
   "metadata": {},
   "source": [
    "# Python Setup"
   ]
  },
  {
   "cell_type": "markdown",
   "metadata": {},
   "source": [
    "## Change the width of the page"
   ]
  },
  {
   "cell_type": "code",
   "execution_count": 1,
   "metadata": {},
   "outputs": [
    {
     "data": {
      "text/html": [
       "<style>.container { width:80% !important; }</style>"
      ],
      "text/plain": [
       "<IPython.core.display.HTML object>"
      ]
     },
     "metadata": {},
     "output_type": "display_data"
    }
   ],
   "source": [
    "from IPython.core.display import display, HTML\n",
    "display(HTML(\"<style>.container { width:80% !important; }</style>\"))"
   ]
  },
  {
   "cell_type": "markdown",
   "metadata": {},
   "source": [
    "## Import packages"
   ]
  },
  {
   "cell_type": "code",
   "execution_count": 2,
   "metadata": {
    "code_folding": []
   },
   "outputs": [],
   "source": [
    "# imported packages\n",
    "import random\n",
    "import numpy as np\n",
    "import matplotlib\n",
    "import matplotlib.pyplot as plt\n",
    "import math\n",
    "import matplotlib.ticker as plticker\n",
    "from matplotlib.ticker import LinearLocator, FormatStrFormatter\n",
    "from matplotlib.patches import Polygon\n",
    "from matplotlib.patches import Patch\n",
    "from matplotlib.lines import Line2D\n",
    "from matplotlib import cm\n",
    "import scipy.special\n",
    "import scipy.integrate as it\n",
    "from scipy import integrate\n",
    "from scipy.interpolate import interp1d\n",
    "from scipy.stats import kde\n",
    "import copy\n",
    "import glob, os\n",
    "import re\n",
    "from sklearn import datasets, linear_model\n",
    "import pandas as pd\n",
    "from decimal import *\n",
    "from operator import itemgetter    \n",
    "from collections import OrderedDict\n",
    "import timeit"
   ]
  },
  {
   "cell_type": "markdown",
   "metadata": {},
   "source": [
    "# Colours"
   ]
  },
  {
   "cell_type": "code",
   "execution_count": 3,
   "metadata": {
    "code_folding": []
   },
   "outputs": [],
   "source": [
    "# Lists of colors for plots\n",
    "c0 = (0.76, 0.76, 0.76)\n",
    "c1 = (1.00, 0.18, 0.33);\n",
    "c2 = (1.00, 0.23, 0.19);\n",
    "c3 = (1.00, 0.58, 0.00);\n",
    "c4 = (1.00, 0.80, 0.00);\n",
    "c5 = (0.30, 0.85, 0.39);\n",
    "c6 = (0.35, 0.78, 0.98);\n",
    "c7 = (0.20, 0.67, 0.86);\n",
    "c8 = (0.00, 0.48, 1.00);\n",
    "c9 = (0.35, 0.34, 0.84);\n",
    "c10 = (0.00, 0.31, 0.57);\n",
    "c11 = (0.12, 0.29, 0.69);\n",
    "c12 = (0.17, 0.17, 0.42);\n",
    "c13 = (1.00, 1.00, 1.00);\n",
    "c14 = (0.77, 0.04, 0.00);"
   ]
  },
  {
   "cell_type": "code",
   "execution_count": 4,
   "metadata": {
    "code_folding": [
     0
    ]
   },
   "outputs": [],
   "source": [
    "#define the colors from colorbrewer2\n",
    "orange1 = '#feedde'\n",
    "orange2 = '#fdbe85'\n",
    "orange3 = '#fd8d3c'\n",
    "orange4 = '#e6550d'\n",
    "orange5 = '#a63603'\n",
    "blue1 = '#eff3ff'\n",
    "blue2 = '#bdd7e7'\n",
    "blue3 = '#6baed6'\n",
    "blue4 = '#3182bd'\n",
    "blue5 = '#08519c'\n",
    "green1 = '#edf8e9'\n",
    "green2 = '#bae4b3'\n",
    "green3 = '#74c476'\n",
    "green4 = '#31a354'\n",
    "green5 = '#006d2c'\n",
    "grey1 = '#f7f7f7'\n",
    "grey2 = '#cccccc'\n",
    "grey3 = '#969696'\n",
    "grey4 = '#636363'\n",
    "grey5 = '#252525'\n",
    "purple1 = '#f2f0f7'\n",
    "purple2 = '#cbc9e2'\n",
    "purple3 = '#9e9ac8'\n",
    "purple4 = '#756bb1'\n",
    "purple5 = '#54278f'\n",
    "red1 = '#fee5d9'\n",
    "red2 = '#fcae91'\n",
    "red3 = '#fb6a4a'\n",
    "red4 = '#de2d26'\n",
    "red5 = '#a50f15'\n",
    "# yellow = '#ffffd4'"
   ]
  },
  {
   "cell_type": "code",
   "execution_count": 5,
   "metadata": {},
   "outputs": [],
   "source": [
    "#Colors\n",
    "DNMT3A_color = 'dodgerblue'\n",
    "R882_color = c1\n",
    "neutralcolor = c3"
   ]
  },
  {
   "cell_type": "markdown",
   "metadata": {},
   "source": [
    "## Colour line graph"
   ]
  },
  {
   "cell_type": "code",
   "execution_count": 6,
   "metadata": {
    "code_folding": [
     0
    ]
   },
   "outputs": [
    {
     "data": {
      "image/png": "[encoded data removed]",
      "text/plain": [
       "<Figure size 720x360 with 1 Axes>"
      ]
     },
     "metadata": {
      "needs_background": "light"
     },
     "output_type": "display_data"
    }
   ],
   "source": [
    "#Colour graph\n",
    "import matplotlib.pyplot as plt\n",
    "plt.close('all')\n",
    "f, (col) = plt.subplots(1, 1, sharey=True, figsize=(10, 5))\n",
    "col.set_xlim(1, 5)\n",
    "col.set_ylim(-0.5,15)\n",
    "col.set_title('Colours')\n",
    "\n",
    "x_major_ticks = [1, 5]\n",
    "x_major_tick_labels = [\"\", \"\"]\n",
    "col.set_xticks(x_major_ticks)\n",
    "col.set_xticklabels(x_major_tick_labels)\n",
    "\n",
    "y_major_ticks = [0, 1, 2, 3, 4, 5, 6, 7, 8, 9, 10, 11, 12, 13, 14]\n",
    "y_major_tick_labels = [\"c0\", \"c1\", \"c2\", \"c3\", \"c4\", \"c5\", \"c6\", \"c7\", \"c8\", \"c9\", \"c10\", \"c11\", \"c12\", \"c13\", \"c14\"]\n",
    "col.set_yticks(y_major_ticks)\n",
    "col.set_yticklabels(y_major_tick_labels)\n",
    " \n",
    "# c0 points\n",
    "x0 = [1,5]\n",
    "y0 = [0,0]\n",
    "# plotting the c1 points \n",
    "plt.plot(x0, y0, label = \"c0\", color=c0)\n",
    " \n",
    "# c1 points\n",
    "x1 = [1,5]\n",
    "y1 = [1,1]\n",
    "# plotting the c1 points \n",
    "plt.plot(x1, y1, label = \"c1\", color=c1)\n",
    "\n",
    "# c2 points\n",
    "x2 = [1,5]\n",
    "y2 = [2,2]\n",
    "# plotting the c2 points \n",
    "plt.plot(x2, y2, label = \"c2\", color=c2)\n",
    "\n",
    "# c3 points\n",
    "x3 = [1,5]\n",
    "y3 = [3,3]\n",
    "# plotting the c3 points \n",
    "plt.plot(x3, y3, label = \"c3\", color=c3)\n",
    "\n",
    "# c4 points\n",
    "x4 = [1,5]\n",
    "y4 = [4, 4]\n",
    "# plotting the c4 points \n",
    "plt.plot(x4, y4, label = \"c4\", color=c4)\n",
    "\n",
    "# c5 points\n",
    "x5 = [1,5]\n",
    "y5 = [5, 5]\n",
    "# plotting the c5 points \n",
    "plt.plot(x5, y5, label = \"c5\", color=c5)\n",
    "\n",
    "# c6 points\n",
    "x6 = [1,5]\n",
    "y6 = [6, 6]\n",
    "# plotting the c6 points \n",
    "plt.plot(x6, y6, label = \"c6\", color=c6)\n",
    "\n",
    "# c7 points\n",
    "x7 = [1,5]\n",
    "y7 = [7, 7]\n",
    "# plotting the c7 points \n",
    "plt.plot(x7, y7, label = \"c7\", color=c7)\n",
    "\n",
    "# c8 points\n",
    "x8 = [1,5]\n",
    "y8 = [8, 8]\n",
    "# plotting the c8 points \n",
    "plt.plot(x8, y8, label = \"c8\", color=c8)\n",
    "\n",
    "# c9 points\n",
    "x9 = [1,5]\n",
    "y9 = [9, 9]\n",
    "# plotting the c9 points \n",
    "plt.plot(x9, y9, label = \"c9\", color=c9)\n",
    "\n",
    "# c10 points\n",
    "x10 = [1,5]\n",
    "y10 = [10, 10]\n",
    "# plotting the c4 points \n",
    "plt.plot(x10, y10, label = \"c10\", color=c10)\n",
    "\n",
    "# c11 points\n",
    "x11 = [1,5]\n",
    "y11 = [11, 11]\n",
    "# plotting the c11 points \n",
    "plt.plot(x11, y11, label = \"c11\", color=c11)\n",
    "\n",
    "# c12 points\n",
    "x12 = [1,5]\n",
    "y12 = [12, 12]\n",
    "# plotting the c12 points \n",
    "plt.plot(x12, y12, label = \"c12\", color=c12)\n",
    "\n",
    "# c13 points\n",
    "x13 = [1,5]\n",
    "y13 = [13, 13]\n",
    "# plotting the c13 points \n",
    "plt.plot(x13, y13, label = \"c13\", color=c13)\n",
    "\n",
    "# c14 points\n",
    "x14 = [1,5]\n",
    "y14 = [14, 14]\n",
    "# plotting the c14 points \n",
    "plt.plot(x14, y14, label = \"c14\", color=c14)\n",
    "\n",
    "# # show a legend on the plot\n",
    "# plt.legend()\n",
    " \n",
    "# function to show the plot\n",
    "plt.show()"
   ]
  },
  {
   "cell_type": "code",
   "execution_count": 7,
   "metadata": {},
   "outputs": [],
   "source": [
    "McKerrel_age_color = '#C41E3A'\n",
    "Coombs_age_color = c1"
   ]
  },
  {
   "cell_type": "markdown",
   "metadata": {},
   "source": [
    "# Totals and Markers for Studies"
   ]
  },
  {
   "cell_type": "code",
   "execution_count": 8,
   "metadata": {},
   "outputs": [],
   "source": [
    "#Number of individuals in each study\n",
    "McKerreltotal = 4219\n",
    "Coombstotal = 1591 #chemotherapy and radiotherapy naive individuals"
   ]
  },
  {
   "cell_type": "code",
   "execution_count": 9,
   "metadata": {},
   "outputs": [],
   "source": [
    "#Markers used to represent each study\n",
    "Mckerrelmarker = 'D' #square diamond\n",
    "Coombsmarker = 'v' #triangle (with peak at the bottom)"
   ]
  },
  {
   "cell_type": "markdown",
   "metadata": {},
   "source": [
    "# Mutation rates"
   ]
  },
  {
   "cell_type": "code",
   "execution_count": 10,
   "metadata": {
    "code_folding": []
   },
   "outputs": [],
   "source": [
    "#R882H and R882C mutation rates:\n",
    "R882C_mu = 5.9e-09 #value inferred from the VAF densities\n",
    "R882H_mu = 1.88229e-08"
   ]
  },
  {
   "cell_type": "markdown",
   "metadata": {},
   "source": [
    "# Fonts"
   ]
  },
  {
   "cell_type": "code",
   "execution_count": 11,
   "metadata": {},
   "outputs": [],
   "source": [
    "axisfont=13\n",
    "titlefont=20\n",
    "subtitlefont = 15\n",
    "axislabelfont=15\n",
    "legendfont = 11\n",
    "tpfont = 12"
   ]
  },
  {
   "cell_type": "markdown",
   "metadata": {},
   "source": [
    "# Theory curve equations"
   ]
  },
  {
   "cell_type": "markdown",
   "metadata": {
    "code_folding": []
   },
   "source": [
    "**linear scale:**\n",
    "<br>\n",
    "``y_theory = [binwidth*(theta/(f*(1-(2*f)))*np.exp(-(f)/(phi*(1-(2*f))))) for f in x_theory]``\n",
    "<br>\n",
    "<br>\n",
    "**log scale:**\n",
    "<br>\n",
    "``y_theory = [binwidth*(theta)/(1-(2*(np.exp(l)))))*np.exp(-(np.exp(l))/(phi*(1-(2*(np.exp(l)))))) for l in x_theory]``"
   ]
  },
  {
   "cell_type": "markdown",
   "metadata": {},
   "source": [
    "where ``phi = (e^st)-1)/(2NS)``"
   ]
  },
  {
   "cell_type": "markdown",
   "metadata": {},
   "source": [
    "# Age-prevalence of R882H and R882C"
   ]
  },
  {
   "cell_type": "markdown",
   "metadata": {},
   "source": [
    "## Data from studies"
   ]
  },
  {
   "cell_type": "markdown",
   "metadata": {},
   "source": [
    "### McKerrel 2015"
   ]
  },
  {
   "cell_type": "markdown",
   "metadata": {},
   "source": [
    "Age data (from McKerrel et al figure S1):\n",
    "- age 17-29 = ~495 individuals\n",
    "- age 30-39 = ~595 individuals\n",
    "- age 40-49 = ~795 individuals\n",
    "- age 50-59 = ~805 individuals\n",
    "- age 60-69 = ~520 individuals\n",
    "- age 70-79 = ~420 individuals\n",
    "- age 80-89 = ~350 individuals\n",
    "- age 90-98 = ~20 individuals"
   ]
  },
  {
   "cell_type": "code",
   "execution_count": 12,
   "metadata": {
    "code_folding": []
   },
   "outputs": [],
   "source": [
    "# DNMT3A R882H and R882C data\n",
    "import csv\n",
    "filename=\"Data files/McKerrel_2015_SNVs.csv\"\n",
    "with open(filename, 'r') as csvfile:\n",
    "    read_reader = csv.reader(csvfile)  #csv.reader returns a reader object which will iterate over lines in the csvfile\n",
    "    row_count=0\n",
    "    McKerrel_DNMT3A_results={}\n",
    "    \n",
    "    for row in read_reader:\n",
    "#         print(row)\n",
    "        if row_count>0:\n",
    "            if row[0]=='DNMT3A R882':\n",
    "                VAF = (float(row[2])/100)\n",
    "                codon = row[1]\n",
    "                ID = row[4]\n",
    "                age = float(row[3])\n",
    "                McKerrel_DNMT3A_results[row_count]=(ID, VAF, age, codon)\n",
    "\n",
    "        row_count=row_count+1\n",
    "    \n",
    "#R882H&C dictionaries\n",
    "McKerrel_DNMT3A_R882H_R882C = {}\n",
    "\n",
    "for (k, v) in McKerrel_DNMT3A_results.items():\n",
    "    AA = v[3]\n",
    "    if AA == \"p.R882C\":\n",
    "        McKerrel_DNMT3A_R882H_R882C[k]=v\n",
    "    if AA == \"p.R882H\":\n",
    "        McKerrel_DNMT3A_R882H_R882C[k]=v\n",
    "        \n",
    "McKerrel_DNMT3A_R882H_R882C_sorted = sorted(McKerrel_DNMT3A_R882H_R882C.items(), key=lambda x: x[1][1], reverse=True)\n",
    "McKerrel_DNMT3A_R882H_R882C = McKerrel_DNMT3A_R882H_R882C_sorted"
   ]
  },
  {
   "cell_type": "code",
   "execution_count": 13,
   "metadata": {
    "code_folding": [
     0
    ]
   },
   "outputs": [
    {
     "name": "stdout",
     "output_type": "stream",
     "text": [
      "number of individuals with R882H_R882C variants (age 17-39)= 2\n",
      "number of individuals with R882H_R882C variants (age 40-59)= 15\n",
      "number of individuals with R882H_R882C variants (age 60-79)= 17\n",
      "number of individuals with R882H_R882C variants (age 80-98)= 12\n"
     ]
    }
   ],
   "source": [
    "# How many individuals in each age group have R882H variants?\n",
    "McKerrel_R882H_R882C_age_17_39 = {}\n",
    "McKerrel_R882H_R882C_age_40_59 = {}\n",
    "McKerrel_R882H_R882C_age_60_79 = {}\n",
    "McKerrel_R882H_R882C_age_80_98 = {}\n",
    "\n",
    "for k, v in McKerrel_DNMT3A_R882H_R882C:\n",
    "    age = v[2]\n",
    "    if 17 <= age <= 39:\n",
    "        McKerrel_R882H_R882C_age_17_39[k]=v\n",
    "    if 40 <= age <= 59:\n",
    "        McKerrel_R882H_R882C_age_40_59[k]=v\n",
    "    if 60 <= age <= 79:\n",
    "        McKerrel_R882H_R882C_age_60_79[k]=v\n",
    "    if 80 <= age <= 98:\n",
    "        McKerrel_R882H_R882C_age_80_98[k]=v\n",
    "\n",
    "print('number of individuals with R882H_R882C variants (age 17-39)=', len(McKerrel_R882H_R882C_age_17_39))\n",
    "print('number of individuals with R882H_R882C variants (age 40-59)=', len(McKerrel_R882H_R882C_age_40_59))\n",
    "print('number of individuals with R882H_R882C variants (age 60-79)=', len(McKerrel_R882H_R882C_age_60_79))\n",
    "print('number of individuals with R882H_R882C variants (age 80-98)=', len(McKerrel_R882H_R882C_age_80_98))"
   ]
  },
  {
   "cell_type": "code",
   "execution_count": 14,
   "metadata": {
    "code_folding": [
     0
    ]
   },
   "outputs": [
    {
     "name": "stdout",
     "output_type": "stream",
     "text": [
      "frequency of individuals with R882H_R882C variants (age 17-39)= 0.001834862385321101\n",
      "frequency of individuals with R882H_R882C variants (age 40-59)= 0.009375\n",
      "frequency of individuals with R882H_R882C variants (age 60-79)= 0.018085106382978722\n",
      "frequency of individuals with R882H_R882C variants (age 80-98)= 0.032432432432432434\n"
     ]
    }
   ],
   "source": [
    "#McKerrel frequencies\n",
    "McKerrel_R882H_R882C_17_39_frequency = len(McKerrel_R882H_R882C_age_17_39)/(495+595)\n",
    "McKerrel_R882H_R882C_40_59_frequency = len(McKerrel_R882H_R882C_age_40_59)/(795+805)\n",
    "McKerrel_R882H_R882C_60_79_frequency = len(McKerrel_R882H_R882C_age_60_79)/(520+420)\n",
    "McKerrel_R882H_R882C_80_98_frequency = len(McKerrel_R882H_R882C_age_80_98)/(350+20)\n",
    "\n",
    "print('frequency of individuals with R882H_R882C variants (age 17-39)=', McKerrel_R882H_R882C_17_39_frequency)\n",
    "print('frequency of individuals with R882H_R882C variants (age 40-59)=', McKerrel_R882H_R882C_40_59_frequency)\n",
    "print('frequency of individuals with R882H_R882C variants (age 60-79)=', McKerrel_R882H_R882C_60_79_frequency)\n",
    "print('frequency of individuals with R882H_R882C variants (age 80-98)=', McKerrel_R882H_R882C_80_98_frequency)"
   ]
  },
  {
   "cell_type": "code",
   "execution_count": 15,
   "metadata": {},
   "outputs": [],
   "source": [
    "McKerrel_total_number_with_R882H_R882C_variants_in_each_age_group = [2, 15, 17, 12]\n",
    "McKerrel_total_in_each_age_group = [(495+595), (795+805), (520+420), (350+20)]\n",
    "\n",
    "#Calculating the error bars\n",
    "McKerrel_square_root_number_with_R882H_R882C_variants = [math.sqrt(i) for i in McKerrel_total_number_with_R882H_R882C_variants_in_each_age_group]\n",
    "McKerrel_R882H_R882C_error = [x/y for x, y in zip(map(int, McKerrel_square_root_number_with_R882H_R882C_variants), map(float, McKerrel_total_in_each_age_group))]"
   ]
  },
  {
   "cell_type": "code",
   "execution_count": 16,
   "metadata": {
    "code_folding": [
     0
    ]
   },
   "outputs": [
    {
     "data": {
      "image/png": "[encoded data removed]",
      "text/plain": [
       "<Figure size 576x432 with 1 Axes>"
      ]
     },
     "metadata": {
      "needs_background": "light"
     },
     "output_type": "display_data"
    }
   ],
   "source": [
    "# McKerrel 2015\n",
    "plt.close('all')\n",
    "f, (ax1) = plt.subplots(1, 1, sharey=True, figsize=(8, 6))\n",
    "\n",
    "m_size = 10\n",
    "\n",
    "McKerrel_ages = [28.75, 49.5, 69.5, 89.25]\n",
    "McKerrel_R882H_R882C_incidences = [McKerrel_R882H_R882C_17_39_frequency,\\\n",
    "                       McKerrel_R882H_R882C_40_59_frequency,\\\n",
    "                       McKerrel_R882H_R882C_60_79_frequency,\\\n",
    "                       McKerrel_R882H_R882C_80_98_frequency]\n",
    "\n",
    "ax1.errorbar(McKerrel_ages, McKerrel_R882H_R882C_incidences, yerr= McKerrel_R882H_R882C_error, fmt = Mckerrelmarker, ecolor = McKerrel_age_color, \\\n",
    "             elinewidth = 2, capsize = 4, capthick = 2, \\\n",
    "             markersize = m_size, markeredgewidth = 2, markeredgecolor = McKerrel_age_color,\\\n",
    "             markerfacecolor = McKerrel_age_color, label = 'McKerrel 2015', zorder=0)\n",
    "\n",
    "#Hide top and right gridlines\n",
    "ax1.spines['top'].set_visible(False)\n",
    "ax1.spines['right'].set_visible(False)\n",
    "\n",
    "# set min and max for x and y axis\n",
    "ax1.set_xlim(0, 100)\n",
    "\n",
    "ax1.spines['top'].set_visible(False)\n",
    "ax1.spines['right'].set_visible(False)\n",
    "\n",
    "for axis in ['bottom','left']:\n",
    "    ax1.spines[axis].set_linewidth(1.5)\n",
    "\n",
    "for axis in ['bottom','left']:\n",
    "    ax1.spines[axis].set_color(grey3)\n",
    "    \n",
    "# Axis labels\n",
    "ax1.set_xlabel('age', fontsize = axislabelfont, labelpad = 6, fontweight = 'medium')\n",
    "ax1.set_ylabel('frequency of individuals with R882H and R882C variants', fontsize = axislabelfont, labelpad = 6, fontweight = 'medium')\n",
    "\n",
    "x_major_ticks = [0, 10, 20, 30, 40, 50, 60, 70, 80, 90, 100]\n",
    "x_major_tick_labels = [\"0\", \"10\", \"20\", \"30\", \"40\", \"50\", \"60\", \"70\", \"80\", \"90\", \"100\"]\n",
    "ax1.set_xticks(x_major_ticks)\n",
    "ax1.set_xticklabels(x_major_tick_labels, fontsize = 16)\n",
    "ax1.xaxis.set_tick_params(width=1, color = grey3, length = 6)\n",
    "\n",
    "y_major_ticks = [0.0, 0.01, 0.02, 0.03, 0.04]\n",
    "y_major_tick_labels = [\"0.0\", \"0.01\", \"0.02\", \"0.03\", \"0.04\"]\n",
    "ax1.set_yticks(y_major_ticks)\n",
    "ax1.set_yticklabels(y_major_tick_labels, fontsize = 16)\n",
    "ax1.yaxis.set_tick_params(width=1, color = grey3, length = 6)    \n",
    "\n",
    "plt.show()"
   ]
  },
  {
   "cell_type": "markdown",
   "metadata": {},
   "source": [
    "### Coombs 2017"
   ]
  },
  {
   "cell_type": "code",
   "execution_count": 17,
   "metadata": {
    "code_folding": [],
    "scrolled": false
   },
   "outputs": [],
   "source": [
    "# DNMT3A data\n",
    "import csv\n",
    "filename=\"Data files/Coombs_2017_no_treatment_SNVs.csv\"\n",
    "\n",
    "with open(filename, 'r') as csvfile:\n",
    "    read_reader = csv.reader(csvfile)  #csv.reader returns a reader object which will iterate over lines in the csvfile\n",
    "    row_count=0\n",
    "    Coombs_DNMT3A_results={} #dictionary of DNMTA results (key = ID (row[]), value = VAF (row[]))\n",
    "\n",
    "    for row in read_reader:\n",
    "#         print(row)\n",
    "        if row_count>0:\n",
    "            if row[7]=='DNMT3A':\n",
    "                VAF = row[10]\n",
    "                ID = row[0]\n",
    "                age = row[3]\n",
    "                AA = row[9]\n",
    "                Coombs_DNMT3A_results[row_count]=(ID, VAF, AA, age)\n",
    "\n",
    "        row_count=row_count+1\n",
    "        \n",
    "#R882H & R882C dictionaries\n",
    "Coombs_DNMT3A_R882H_R882C = {}\n",
    "\n",
    "for (k, v) in Coombs_DNMT3A_results.items():\n",
    "    AA = v[2]\n",
    "    if AA == \"p.R882C\":\n",
    "        Coombs_DNMT3A_R882H_R882C[k]=v\n",
    "    if AA == \"p.R882H\":\n",
    "        Coombs_DNMT3A_R882H_R882C[k]=v"
   ]
  },
  {
   "cell_type": "code",
   "execution_count": 21,
   "metadata": {
    "code_folding": [],
    "scrolled": false
   },
   "outputs": [
    {
     "name": "stdout",
     "output_type": "stream",
     "text": [
      "total Coombs aged 0-20 =  28\n",
      "total Coombs aged 20-40 =  138\n",
      "total Coombs aged 40-60 =  544\n",
      "total Coombs aged 60-80 =  793\n",
      "total Coombs aged 80-100 =  88\n"
     ]
    }
   ],
   "source": [
    "# How many total people are there in each age group in Coombs 2017 (treatment-naive)?\n",
    "import csv\n",
    "filename=\"Data files/Coombs_2017_no_treatment_clinical_data.csv\"\n",
    "\n",
    "with open(filename, 'r') as csvfile:\n",
    "    read_reader = csv.reader(csvfile)  #csv.reader returns a reader object which will iterate over lines in the csvfile\n",
    "    row_count=0\n",
    "    Coombs_all_results={}\n",
    "\n",
    "    for row in read_reader:\n",
    "        if row_count>0:\n",
    "            ID = row[0]\n",
    "            age = row[10]\n",
    "            Coombs_all_results[ID]=(age)\n",
    "\n",
    "        row_count=row_count+1\n",
    "\n",
    "Coombs_all_0_20 = {}\n",
    "Coombs_all_20_40 = {}\n",
    "Coombs_all_40_60 = {}\n",
    "Coombs_all_60_80 = {}\n",
    "Coombs_all_80_100 = {}\n",
    "\n",
    "for k, v in Coombs_all_results.items():\n",
    "    age = float(v)\n",
    "    if 0< age <=20:\n",
    "        Coombs_all_0_20[k] = v\n",
    "    if 20< age <=40:\n",
    "        Coombs_all_20_40[k] = v\n",
    "    if 40<age <=60:\n",
    "        Coombs_all_40_60[k] = v\n",
    "    if 60<age <=80:\n",
    "        Coombs_all_60_80[k] = v\n",
    "    if 80< age <=100:\n",
    "        Coombs_all_80_100[k] = v\n",
    "\n",
    "print('total Coombs aged 0-20 = ', len(Coombs_all_0_20))\n",
    "print('total Coombs aged 20-40 = ', len(Coombs_all_20_40))\n",
    "print('total Coombs aged 40-60 = ', len(Coombs_all_40_60))\n",
    "print('total Coombs aged 60-80 = ', len(Coombs_all_60_80))\n",
    "print('total Coombs aged 80-100 = ', len(Coombs_all_80_100))"
   ]
  },
  {
   "cell_type": "code",
   "execution_count": 22,
   "metadata": {
    "code_folding": []
   },
   "outputs": [
    {
     "name": "stdout",
     "output_type": "stream",
     "text": [
      "Average age in age 0-20 =  13.001071428571427\n",
      "Average age in age 20-40 =  31.65391304347826\n",
      "Average age in age 40-60 =  52.18170955882353\n",
      "Average age in age 60-80 =  68.96750315258511\n",
      "Average age in age 80-100 =  83.68875000000001\n"
     ]
    }
   ],
   "source": [
    "#Average age in each age group\n",
    "Coombs_ages_0_20=[]\n",
    "for k, v in Coombs_all_0_20.items():\n",
    "    Coombs_ages_0_20.append(float(v))\n",
    "\n",
    "print('Average age in age 0-20 = ', np.mean(Coombs_ages_0_20))\n",
    "\n",
    "#Average age in each age group\n",
    "Coombs_ages_20_40=[]\n",
    "for k, v in Coombs_all_20_40.items():\n",
    "    Coombs_ages_20_40.append(float(v))\n",
    "\n",
    "print('Average age in age 20-40 = ', np.mean(Coombs_ages_20_40))\n",
    "\n",
    "Coombs_ages_40_60=[]\n",
    "for k, v in Coombs_all_40_60.items():\n",
    "    Coombs_ages_40_60.append(float(v))\n",
    "\n",
    "print('Average age in age 40-60 = ', np.mean(Coombs_ages_40_60))\n",
    "\n",
    "Coombs_ages_60_80=[]\n",
    "for k, v in Coombs_all_60_80.items():\n",
    "    Coombs_ages_60_80.append(float(v))\n",
    "\n",
    "print('Average age in age 60-80 = ', np.mean(Coombs_ages_60_80))\n",
    "\n",
    "Coombs_ages_80_100=[]\n",
    "for k, v in Coombs_all_80_100.items():\n",
    "    Coombs_ages_80_100.append(float(v))\n",
    "\n",
    "print('Average age in age 80-100 = ', np.mean(Coombs_ages_80_100))"
   ]
  },
  {
   "cell_type": "code",
   "execution_count": 23,
   "metadata": {
    "code_folding": [
     0,
     7
    ]
   },
   "outputs": [
    {
     "name": "stdout",
     "output_type": "stream",
     "text": [
      "total Coombs R882H_R882C aged 0-20 =  0\n",
      "total Coombs R882H_R882C aged 20-40 =  0\n",
      "total Coombs R882H_R882C aged 40-60 =  2\n",
      "total Coombs R882H_R882C aged 60-80 =  13\n",
      "total Coombs R882H_R882C aged 80-100 =  1\n"
     ]
    }
   ],
   "source": [
    "#How many people have R882C and R882H variants in each age group in Coombs 2017 (treatment-naive)?\n",
    "Coombs_R882H_R882C_0_20 = {}\n",
    "Coombs_R882H_R882C_20_40 = {}\n",
    "Coombs_R882H_R882C_40_60 = {}\n",
    "Coombs_R882H_R882C_60_80 = {}\n",
    "Coombs_R882H_R882C_80_100 = {}\n",
    "\n",
    "for k, v in Coombs_DNMT3A_R882H_R882C.items():\n",
    "    age = float(v[3])\n",
    "    if 0< age <=20:\n",
    "        Coombs_R882H_R882C_0_20[k] = v\n",
    "    if 20< age <=40:\n",
    "        Coombs_R882H_R882C_20_40[k] = v\n",
    "    if 40<age <=60:\n",
    "        Coombs_R882H_R882C_40_60[k] = v\n",
    "    if 60<age <=80:\n",
    "        Coombs_R882H_R882C_60_80[k] = v\n",
    "    if 80< age <=100:\n",
    "        Coombs_R882H_R882C_80_100[k] = v\n",
    "        \n",
    "print('total Coombs R882H_R882C aged 0-20 = ', len(Coombs_R882H_R882C_0_20))\n",
    "print('total Coombs R882H_R882C aged 20-40 = ', len(Coombs_R882H_R882C_20_40))\n",
    "print('total Coombs R882H_R882C aged 40-60 = ', len(Coombs_R882H_R882C_40_60))\n",
    "print('total Coombs R882H_R882C aged 60-80 = ', len(Coombs_R882H_R882C_60_80))\n",
    "print('total Coombs R882H_R882C aged 80-100 = ', len(Coombs_R882H_R882C_80_100))"
   ]
  },
  {
   "cell_type": "code",
   "execution_count": 24,
   "metadata": {
    "code_folding": [
     0
    ]
   },
   "outputs": [
    {
     "name": "stdout",
     "output_type": "stream",
     "text": [
      "frequency of individuals with R882H_R882C variants (age 0-20)= 0.0\n",
      "frequency of individuals with R882H_R882C variants (age 20-40)= 0.0\n",
      "frequency of individuals with R882H_R882C variants (age 40-60)= 0.003676470588235294\n",
      "frequency of individuals with R882H_R882C variants (age 60-80)= 0.01639344262295082\n",
      "frequency of individuals with R882H_R882C variants (age 80-100)= 0.011363636363636364\n"
     ]
    }
   ],
   "source": [
    "#Frequencies of R882C and R882H variants in each age group in Coombs 2017\n",
    "Coombs_R882H_R882C_0_20_frequency = len(Coombs_R882H_R882C_0_20)/len(Coombs_all_0_20)\n",
    "Coombs_R882H_R882C_20_40_frequency = len(Coombs_R882H_R882C_20_40)/len(Coombs_all_20_40)\n",
    "Coombs_R882H_R882C_40_60_frequency = len(Coombs_R882H_R882C_40_60)/len(Coombs_all_40_60)\n",
    "Coombs_R882H_R882C_60_80_frequency = len(Coombs_R882H_R882C_60_80)/len(Coombs_all_60_80)\n",
    "Coombs_R882H_R882C_80_100_frequency = len(Coombs_R882H_R882C_80_100)/len(Coombs_all_80_100)\n",
    "\n",
    "print('frequency of individuals with R882H_R882C variants (age 0-20)=', Coombs_R882H_R882C_0_20_frequency)\n",
    "print('frequency of individuals with R882H_R882C variants (age 20-40)=', Coombs_R882H_R882C_20_40_frequency)\n",
    "print('frequency of individuals with R882H_R882C variants (age 40-60)=', Coombs_R882H_R882C_40_60_frequency)\n",
    "print('frequency of individuals with R882H_R882C variants (age 60-80)=', Coombs_R882H_R882C_60_80_frequency)\n",
    "print('frequency of individuals with R882H_R882C variants (age 80-100)=', Coombs_R882H_R882C_80_100_frequency)"
   ]
  },
  {
   "cell_type": "code",
   "execution_count": 25,
   "metadata": {},
   "outputs": [],
   "source": [
    "Coombs_total_number_with_R882H_R882C_variants_in_each_age_group = [0, 0, 2, 13, 1]"
   ]
  },
  {
   "cell_type": "code",
   "execution_count": 26,
   "metadata": {},
   "outputs": [],
   "source": [
    "Coombs_total_in_each_age_group = [28, 138, 544, 793, 88]"
   ]
  },
  {
   "cell_type": "code",
   "execution_count": 27,
   "metadata": {},
   "outputs": [],
   "source": [
    "Coombs_square_root_number_with_R882H_R882C_variants = [math.sqrt(i) for i in Coombs_total_number_with_R882H_R882C_variants_in_each_age_group]"
   ]
  },
  {
   "cell_type": "code",
   "execution_count": 28,
   "metadata": {},
   "outputs": [],
   "source": [
    "Coombs_R882H_R882C_error = [x/y for x, y in zip(map(int, Coombs_square_root_number_with_R882H_R882C_variants), map(float, Coombs_total_in_each_age_group))]"
   ]
  },
  {
   "cell_type": "code",
   "execution_count": 29,
   "metadata": {
    "code_folding": [
     0
    ],
    "scrolled": false
   },
   "outputs": [
    {
     "data": {
      "image/png": "[encoded data removed]",
      "text/plain": [
       "<Figure size 576x432 with 1 Axes>"
      ]
     },
     "metadata": {
      "needs_background": "light"
     },
     "output_type": "display_data"
    }
   ],
   "source": [
    "# Coombs 2017\n",
    "plt.close('all')\n",
    "f, (ax1) = plt.subplots(1, 1, sharey=True, figsize=(8, 6))\n",
    "\n",
    "m_size = 10\n",
    "\n",
    "Coombs_ages = [13.0, 31.65, 52.18, 68.97, 83.69] #average age in each age group (from ALL individuals)\n",
    "Coombs_R882H_R882C_incidences = [Coombs_R882H_R882C_0_20_frequency,Coombs_R882H_R882C_20_40_frequency, Coombs_R882H_R882C_40_60_frequency, \\\n",
    "                     Coombs_R882H_R882C_60_80_frequency, Coombs_R882H_R882C_80_100_frequency]\n",
    "\n",
    "ax1.errorbar(Coombs_ages, Coombs_R882H_R882C_incidences, yerr= Coombs_R882H_R882C_error, fmt = Coombsmarker, ecolor = Coombs_age_color, \\\n",
    "             elinewidth = 2, capsize = 4, capthick = 2, \\\n",
    "             markersize = m_size, markeredgewidth = 2, markeredgecolor = Coombs_age_color,\\\n",
    "             markerfacecolor = Coombs_age_color, label = 'Coombs 2017', zorder=0)\n",
    "\n",
    "#Hide top and right gridlines\n",
    "ax1.spines['top'].set_visible(False)\n",
    "ax1.spines['right'].set_visible(False)\n",
    "\n",
    "# set min and max for x and y axis\n",
    "ax1.set_xlim(0, 100)\n",
    "\n",
    "ax1.spines['top'].set_visible(False)\n",
    "ax1.spines['right'].set_visible(False)\n",
    "\n",
    "for axis in ['bottom','left']:\n",
    "    ax1.spines[axis].set_linewidth(1.5)\n",
    "\n",
    "for axis in ['bottom','left']:\n",
    "    ax1.spines[axis].set_color(grey3)\n",
    "    \n",
    "# Axis labels\n",
    "ax1.set_xlabel('age', fontsize = axislabelfont, labelpad = 6, fontweight = 'medium')\n",
    "ax1.set_ylabel('frequency of individuals with R882H and R882C variants', fontsize = axislabelfont, labelpad = 6, fontweight = 'medium')\n",
    "\n",
    "x_major_ticks = [0, 10, 20, 30, 40, 50, 60, 70, 80, 90, 100]\n",
    "x_major_tick_labels = [\"0\", \"10\", \"20\", \"30\", \"40\", \"50\", \"60\", \"70\", \"80\", \"90\", \"100\"]\n",
    "ax1.set_xticks(x_major_ticks)\n",
    "ax1.set_xticklabels(x_major_tick_labels, fontsize = 16)\n",
    "ax1.xaxis.set_tick_params(width=1, color = grey3, length = 6)\n",
    "\n",
    "y_major_ticks = [0.0, 0.01, 0.02, 0.03, 0.04]\n",
    "y_major_tick_labels = [\"0.0\", \"0.01\", \"0.02\", \"0.03\", \"0.04\"]\n",
    "ax1.set_yticks(y_major_ticks)\n",
    "ax1.set_yticklabels(y_major_tick_labels, fontsize = 16)\n",
    "ax1.yaxis.set_tick_params(width=1, color = grey3, length = 6)    \n",
    "\n",
    "# plt.show()"
   ]
  },
  {
   "cell_type": "markdown",
   "metadata": {},
   "source": [
    "## Maximum likelihood estimations for s% and VAF limit of detection"
   ]
  },
  {
   "cell_type": "code",
   "execution_count": 102,
   "metadata": {
    "code_folding": []
   },
   "outputs": [],
   "source": [
    "#MLE functions for age-prevalence\n",
    "def density_of_clones(f, s, t, N, u):\n",
    "    return ((2*N*u)/(f*(1-2*f)))*np.exp(-f/((1-2*f)*((np.exp(s*t)-1)/(2*N*s))))\n",
    "    \n",
    "def expectedprevalence(fmin, t, N, s, u): \n",
    "    return integrate.quad(lambda f: density_of_clones(f, s, t, N, u), fmin, 0.499999)[0]\n",
    "\n",
    "def ProbDataGivenModel(data, fmin, u, s, N): #data = (tuples of age, prevalence)\n",
    "    total_distance = 0\n",
    "    for datapoint in data:\n",
    "        t = datapoint[0]\n",
    "        observed_number = datapoint[1]\n",
    "        total_number_age = datapoint[2]\n",
    "        error = datapoint[3]\n",
    "        predicted_prevalence = expectedprevalence(fmin, t, N, s, u)\n",
    "        lamb = predicted_prevalence*total_number_age\n",
    "        distance = -np.log(((lamb**observed_number)*np.exp(-lamb))/(math.factorial(observed_number)))\n",
    "        total_distance = total_distance + distance\n",
    "        \n",
    "    return -total_distance"
   ]
  },
  {
   "cell_type": "code",
   "execution_count": 104,
   "metadata": {},
   "outputs": [],
   "source": [
    "# Data on age-incidence from Coombs and McKerrel\n",
    "data_for_Coombs_R882H_R882C_line  = zip(Coombs_ages, Coombs_total_number_with_R882H_R882C_variants_in_each_age_group, \\\n",
    "                                        Coombs_total_in_each_age_group, Coombs_R882H_R882C_error)\n",
    "data_for_McKerrel_R882H_R882C_line  = zip(McKerrel_ages, McKerrel_total_number_with_R882H_R882C_variants_in_each_age_group, \\\n",
    "                                        McKerrel_total_in_each_age_group, McKerrel_R882H_R882C_error)\n",
    "\n",
    "Coombs_R882H_R882C = []\n",
    "for a, b, c, d in data_for_Coombs_R882H_R882C_line:\n",
    "    Coombs_R882H_R882C.append((a, b, c, d))\n",
    "    \n",
    "McKerrel_R882H_R882C = []\n",
    "for a, b, c, d in data_for_McKerrel_R882H_R882C_line:\n",
    "    McKerrel_R882H_R882C.append((a, b, c, d))"
   ]
  },
  {
   "cell_type": "code",
   "execution_count": 116,
   "metadata": {
    "code_folding": []
   },
   "outputs": [
    {
     "name": "stdout",
     "output_type": "stream",
     "text": [
      "McKerrel fmin_max = 0.0007\n",
      "McKerrel s_max = 0.105\n",
      "Coombs fmin_max = 0.028\n",
      "Coombs s_max = 0.151\n"
     ]
    },
    {
     "data": {
      "image/png": "[encoded data removed]",
      "text/plain": [
       "<Figure size 1080x504 with 2 Axes>"
      ]
     },
     "metadata": {
      "needs_background": "light"
     },
     "output_type": "display_data"
    }
   ],
   "source": [
    "#MLE heatmaps\n",
    "plt.close('all')\n",
    "fig = plt.figure(12, figsize=(15, 7))\n",
    "gs = matplotlib.gridspec.GridSpec(1, 2)\n",
    "\n",
    "ax1 = plt.subplot2grid((1, 2), (0, 0)) #Coombs\n",
    "ax2 = plt.subplot2grid((1, 2), (0, 1)) #McKerrel\n",
    "\n",
    "interval_number = 200\n",
    "\n",
    "axisfont=18\n",
    "titlefont=25\n",
    "axislabelfont=20\n",
    "tpfont = 14\n",
    "m_size=8\n",
    "\n",
    "N = 9.40166610e+04\n",
    "u = R882H_mu+R882C_mu\n",
    "\n",
    "#McKerrel\n",
    "study = 'McKerrel 2015'\n",
    "data = McKerrel_R882H_R882C\n",
    "fmin_list = np.linspace(0.0001, 0.008, interval_number) #list of possible values for f_min\n",
    "s_list = np.linspace(0.06, 0.2, interval_number) #list of possible values for s\n",
    "probs_McKerrel = np.array([[ProbDataGivenModel(data, fmin, u, s, N) for fmin in fmin_list] for s in s_list])\n",
    "\n",
    "# Plot the density map using nearest-neighbor interpolation\n",
    "x1 = fmin_list\n",
    "y1 = s_list\n",
    "x1, y1 = np.meshgrid(x1, y1)\n",
    "z1 = probs_McKerrel\n",
    "max_x, max_y = np.unravel_index(np.argmax(z1), z1.shape)\n",
    "max_z = z1[max_x, max_y]\n",
    "z1_probs = np.exp(z1-(max_z))\n",
    "\n",
    "cmap = plt.cm.coolwarm #define colors\n",
    "ax1.pcolormesh(x1,y1,z1_probs, cmap = cmap)\n",
    "\n",
    "#set labels\n",
    "ax1.set_title('MLE for R882H_R882C '+str(study), y = 1.05, fontsize = titlefont, fontweight='bold')\n",
    "ax1.set_xlabel('VAF limit of detection (%)', fontsize = axislabelfont)\n",
    "ax1.set_ylabel('s (%)', fontsize = axislabelfont)\n",
    "\n",
    "x_major_ticks = [0.0005, 0.001, 0.0015, 0.002, 0.0025, 0.003, 0.0035, 0.004, 0.0045, 0.005, 0.0055, 0.006, 0.0065, 0.007, 0.0075]\n",
    "x_major_tick_labels = ['', '0.1', '', '0.2', '', '0.3', '', '0.4', '', '0.5', '', \\\n",
    "                       '0.6', '', '0.7', '']\n",
    "ax1.set_xticks(x_major_ticks)\n",
    "ax1.set_xticklabels(x_major_tick_labels, fontsize = axisfont)\n",
    "ax1.xaxis.set_tick_params(width=2, color = grey3, length = 6)\n",
    "ax1.xaxis.set_tick_params(width=2, color = grey3, length = 6)\n",
    "\n",
    "\n",
    "y_major_ticks = [0.06, 0.08, 0.1, 0.12, 0.14, 0.16, 0.18, 0.2]\n",
    "y_major_tick_labels = ['6', '8', '10', '12', '14', '16', '18', '20']\n",
    "ax1.set_yticks(y_major_ticks)\n",
    "ax1.set_yticklabels(y_major_tick_labels, fontsize = axisfont)\n",
    "ax1.yaxis.set_tick_params(width=2, color = grey3, length = 6)\n",
    "ax1.yaxis.set_tick_params(width=2, color = grey3, length = 6)\n",
    "\n",
    "# calculate best values (max points in 3D space (x,y,z))\n",
    "xmax, ymax = np.unravel_index(np.argmax(z1), z1.shape)\n",
    "fmin_max = round(x1[xmax, ymax], 4)\n",
    "s_max = round(y1[xmax, ymax], 4)\n",
    "\n",
    "print('McKerrel fmin_max =',fmin_max)\n",
    "print('McKerrel s_max =',s_max)\n",
    "\n",
    "ax1.scatter(fmin_max, s_max, marker = '+', s = 1000, color = grey1, lw = 5)\n",
    "ax1.set_title('McKerrel 2015', fontsize = titlefont)\n",
    "\n",
    "\n",
    "# Coombs 2017\n",
    "study = 'Coomb 2017'\n",
    "data = Coombs_R882H_R882C\n",
    "fmin_list = np.linspace(0.005, 0.04, interval_number) #list of possible values for f_min\n",
    "s_list = np.linspace(0.06, 0.2, interval_number) #list of possible values for s\n",
    "probs_Coombs = np.array([[ProbDataGivenModel(data, fmin, u, s, N) for fmin in fmin_list] for s in s_list])\n",
    "\n",
    "# Plot the density map using nearest-neighbor interpolation\n",
    "x1 = fmin_list\n",
    "y1 = s_list\n",
    "x1, y1 = np.meshgrid(x1, y1)\n",
    "z1 = probs_Coombs\n",
    "max_x, max_y = np.unravel_index(np.argmax(z1), z1.shape)\n",
    "max_z = z1[max_x, max_y]\n",
    "z1_probs = np.exp(z1-(max_z))\n",
    "\n",
    "cmap = plt.cm.coolwarm #define colors\n",
    "ax2.pcolormesh(x1,y1,z1_probs, cmap = cmap)\n",
    "\n",
    "#set labels\n",
    "ax2.set_title('MLE for R882H_R882C '+str(study), y = 1.05, fontsize = titlefont, fontweight='bold')\n",
    "ax2.set_xlabel('VAF limit of detection (%)', fontsize = axislabelfont)\n",
    "ax2.set_ylabel('s (%)', fontsize = axislabelfont)\n",
    "\n",
    "x_major_ticks = [0.005, 0.01, 0.015, 0.02, 0.025, 0.03, 0.035, 0.04]\n",
    "x_major_tick_labels = ['0.5', '1.0', '1.5', '2.0', '2.5', '3.0', '3.5', '4.0']\n",
    "ax2.set_xticks(x_major_ticks)\n",
    "ax2.set_xticklabels(x_major_tick_labels, fontsize = axisfont)\n",
    "ax2.xaxis.set_tick_params(width=2, color = grey3, length = 6)\n",
    "ax2.xaxis.set_tick_params(width=2, color = grey3, length = 6)\n",
    "\n",
    "y_major_ticks = [0.06, 0.08, 0.1, 0.12, 0.14, 0.16, 0.18, 0.2]\n",
    "y_major_tick_labels = ['6', '8', '10', '12', '14', '16', '18', '20']\n",
    "ax2.set_yticks(y_major_ticks)\n",
    "ax2.set_yticklabels(y_major_tick_labels, fontsize = axisfont)\n",
    "ax2.yaxis.set_tick_params(width=2, color = grey3, length = 6)\n",
    "ax2.yaxis.set_tick_params(width=2, color = grey3, length = 6)\n",
    "\n",
    "# calculate best values (max points in 3D space (x,y,z))\n",
    "xmax, ymax = np.unravel_index(np.argmax(z1), z1.shape)\n",
    "fmin_max = round(x1[xmax, ymax], 3)\n",
    "s_max = round(y1[xmax, ymax], 3)\n",
    "\n",
    "print('Coombs fmin_max =',fmin_max)\n",
    "print('Coombs s_max =',s_max)\n",
    "\n",
    "ax2.scatter(fmin_max, s_max, marker = '+', s = 1000, color = grey1, lw = 5)\n",
    "ax2.set_title('Coombs 2017', fontsize = titlefont)\n",
    "\n",
    "ax1.set_xlim(0.0001, 0.0075)\n",
    "ax1.set_ylim(0.06, 0.2)\n",
    "ax2.set_xlim(0.005, 0.04)\n",
    "ax2.set_ylim(0.06, 0.2)\n",
    "\n",
    "\n",
    "plt.show()"
   ]
  },
  {
   "cell_type": "markdown",
   "metadata": {},
   "source": [
    "## Plotting the distribution"
   ]
  },
  {
   "cell_type": "code",
   "execution_count": 55,
   "metadata": {},
   "outputs": [],
   "source": [
    "def density_of_clones(f, s, t, N, u):\n",
    "    return ((2*N*u)/(f*(1-2*f)))*np.exp(-f/((1-2*f)*((np.exp(s*t)-1)/(2*N*s))))\n",
    "\n",
    "def prevalence(fmin, t, N, s, u):\n",
    "    expected_number_clones=integrate.quad(lambda x: density_of_clones(x, s, t, N, u), fmin, 0.499999)[0]\n",
    "    return expected_number_clones"
   ]
  },
  {
   "cell_type": "code",
   "execution_count": 118,
   "metadata": {
    "code_folding": [],
    "scrolled": false
   },
   "outputs": [
    {
     "data": {
      "image/png": "[encoded data removed]",
      "text/plain": [
       "<Figure size 576x432 with 1 Axes>"
      ]
     },
     "metadata": {
      "needs_background": "light"
     },
     "output_type": "display_data"
    }
   ],
   "source": [
    "# Plotting the age-prevalence distribution\n",
    "plt.close('all')\n",
    "f, (ax1) = plt.subplots(1, 1, sharey=True, figsize=(8, 6))\n",
    "\n",
    "axisfont=18\n",
    "titlefont=20\n",
    "axislabelfont=21\n",
    "tpfont = 14\n",
    "m_size=10\n",
    "\n",
    "Jaiswalmarker = 'o'\n",
    "Zinkmarker = '^'\n",
    "Acunamarker = 'P'\n",
    "Coombsmarker = 'v'\n",
    "Youngmarker = 'p'\n",
    "Mckerrelmarker = 'D'\n",
    "Genovesemarker = 'd'\n",
    "Desaimarker = '*'\n",
    "\n",
    "McKerrel_age_color = '#C41E3A'\n",
    "Coombs_age_color = c1\n",
    "\n",
    "McKerrelline = \"--\"\n",
    "Coombsline = \"-.\"\n",
    "\n",
    "McKerrelline = \"-\"\n",
    "Coombsline = \"-\"\n",
    "\n",
    "\n",
    "ax1.errorbar(McKerrel_ages, McKerrel_R882H_R882C_incidences, yerr= McKerrel_R882H_R882C_error, fmt = Mckerrelmarker, ecolor = McKerrel_age_color, \\\n",
    "             elinewidth = 2.5, capsize = 4, capthick = 2.5, alpha = 1.0, \\\n",
    "             markersize = m_size, markeredgewidth = 2.5, markeredgecolor = McKerrel_age_color,\\\n",
    "             markerfacecolor = McKerrel_age_color, label = 'McKerrel 2015', zorder=0)\n",
    "\n",
    "ax1.errorbar(Coombs_ages, Coombs_R882H_R882C_incidences, yerr= Coombs_R882H_R882C_error, fmt = Coombsmarker, ecolor = Coombs_age_color, \\\n",
    "             elinewidth = 2.5, capsize = 4, capthick = 2.5, alpha = 1.0, \\\n",
    "             markersize = m_size, markeredgewidth = 2.5, markeredgecolor = Coombs_age_color,\\\n",
    "             markerfacecolor = Coombs_age_color, label = 'Coombs 2017', zorder=0)\n",
    "\n",
    "#Hide top and right gridlines\n",
    "ax1.spines['top'].set_visible(False)\n",
    "ax1.spines['right'].set_visible(False)\n",
    "\n",
    "for axis in ['bottom','left']:\n",
    "    ax1.spines[axis].set_linewidth(2)\n",
    "\n",
    "for axis in ['bottom','left']:\n",
    "    ax1.spines[axis].set_color(grey3)\n",
    "\n",
    "# set min and max for x and y axis\n",
    "ax1.set_xlim(17, 100)\n",
    "ax1.set_ylim(0, 0.045)\n",
    "\n",
    "# Axis labels\n",
    "ax1.set_xlabel('age', fontsize = axislabelfont, labelpad = 10)\n",
    "ax1.set_ylabel('R882H and R882C prevalence', fontsize = axislabelfont, labelpad =10)\n",
    "\n",
    "x_major_ticks = [20, 30, 40, 50, 60, 70, 80, 90, 100]\n",
    "x_major_tick_labels = ['20', '30', '40', '50', '60', '70', '80', '90', '100']\n",
    "ax1.set_xticks(x_major_ticks)\n",
    "ax1.set_xticklabels(x_major_tick_labels, fontsize = axisfont)\n",
    "ax1.xaxis.set_tick_params(width=2, color = grey3, length = 6)\n",
    "ax1.xaxis.set_tick_params(width=2, color = grey3, length = 6)\n",
    "\n",
    "y_major_ticks = [0.000,0.010, 0.020, 0.030, 0.040]\n",
    "y_major_tick_labels = [\"0.00\", \"0.01\", \"0.02\", \"0.03\", \"0.04\"]\n",
    "ax1.set_yticks(y_major_ticks)\n",
    "ax1.set_yticklabels(y_major_tick_labels, fontsize = axisfont)\n",
    "ax1.yaxis.set_tick_params(width=2, color = grey3, length = 6)\n",
    "ax1.set_yticks(y_major_ticks)\n",
    "ax1.set_yticklabels(y_major_tick_labels, fontsize = axisfont)\n",
    "ax1.yaxis.set_tick_params(width=2, color = grey3, length = 6)\n",
    "ax1.yaxis.set_tick_params(width=2, color = grey3, length = 6)\n",
    "\n",
    "#set the legend\n",
    "ax1.legend(loc = 'upper left', fontsize = tpfont, frameon=0)\n",
    "legend_marker_size = 12\n",
    "legend_elements = [Line2D([0], [0], marker = Mckerrelmarker, color=grey3, alpha=0.4, markersize = legend_marker_size, \\\n",
    "                          lw=0, linestyle = McKerrelline, label='McKerrel 2015'),\n",
    "                  Line2D([0], [0], marker = Coombsmarker, color=grey3, alpha=0.4, markersize = legend_marker_size, \\\n",
    "                          lw=0, linestyle = Coombsline, label='Coombs 2017')]\n",
    "    \n",
    "ax1.legend(ncol=1, handles=legend_elements, loc='center', bbox_to_anchor=(0.18, 0.9), frameon=0, fontsize = 15)\n",
    "\n",
    "\n",
    "N = 9.40166610e+04\n",
    "u = R882H_mu+R882C_mu\n",
    "\n",
    "McKerrelllimit = 0.0007\n",
    "McKerrel_s = 0.105\n",
    "Coombslimit = 0.028\n",
    "Coombs_s = 0.151\n",
    "\n",
    "s = McKerrel_s\n",
    "for fmin in [McKerrelllimit]:\n",
    "    xx=np.array([t for t in range(1,100)])\n",
    "    yy=[prevalence(fmin, t, N, McKerrel_s, u) for t in xx]\n",
    "    ax1.plot(xx, yy, color = McKerrel_age_color, lw = 2.5, linestyle = McKerrelline, zorder = 0, alpha = 1.0)\n",
    "    \n",
    "s = Coombs_s\n",
    "for fmin in [Coombslimit]:\n",
    "    xx=np.array([t for t in range(1,100)])\n",
    "    yy=[prevalence(fmin, t, N, Coombs_s, u) for t in xx]\n",
    "    ax1.plot(xx, yy, color = Coombs_age_color, lw = 2.5, linestyle = Coombsline, zorder = 0, alpha = 1.0)\n",
    "\n",
    "plt.show()"
   ]
  }
 ],
 "metadata": {
  "kernelspec": {
   "display_name": "Python 3",
   "language": "python",
   "name": "python3"
  },
  "language_info": {
   "codemirror_mode": {
    "name": "ipython",
    "version": 3
   },
   "file_extension": ".py",
   "mimetype": "text/x-python",
   "name": "python",
   "nbconvert_exporter": "python",
   "pygments_lexer": "ipython3",
   "version": "3.7.4"
  },
  "toc": {
   "base_numbering": 1,
   "nav_menu": {},
   "number_sections": true,
   "sideBar": true,
   "skip_h1_title": false,
   "title_cell": "Table of Contents",
   "title_sidebar": "Contents",
   "toc_cell": true,
   "toc_position": {},
   "toc_section_display": true,
   "toc_window_display": true
  }
 },
 "nbformat": 4,
 "nbformat_minor": 2
}
